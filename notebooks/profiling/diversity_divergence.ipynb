{
 "metadata": {
  "name": "",
  "signature": "sha256:69addc3d478dc6c3f216d4ea598599ce1ebe738b4f4c9ec99081122a1d4ce822"
 },
 "nbformat": 3,
 "nbformat_minor": 0,
 "worksheets": [
  {
   "cells": [
    {
     "cell_type": "code",
     "collapsed": false,
     "input": [
      "import numpy as np\n",
      "np.random.seed(42)\n",
      "import sys\n",
      "import cProfile\n",
      "import humanize\n",
      "def binarysize(n):\n",
      "    return humanize.naturalsize(n, binary=True)\n",
      "import matplotlib.pyplot as plt\n",
      "%matplotlib inline\n",
      "sys.path.insert(0, '../..')\n",
      "%reload_ext memory_profiler\n",
      "%reload_ext autoreload\n",
      "%autoreload 1\n",
      "%aimport allel\n",
      "%aimport allel.model\n",
      "%aimport allel.bcolz\n",
      "%aimport allel.stats\n",
      "%aimport allel.plot\n",
      "allel.__version__"
     ],
     "language": "python",
     "metadata": {},
     "outputs": [
      {
       "metadata": {},
       "output_type": "pyout",
       "prompt_number": 4,
       "text": [
        "'0.8.0.dev3'"
       ]
      }
     ],
     "prompt_number": 4
    },
    {
     "cell_type": "code",
     "collapsed": false,
     "input": [
      "# setup an array of genotype calls\n",
      "shape = n_variants, n_samples, ploidy = 5000000, 100, 2\n",
      "data = np.zeros(shape, dtype='i1')\n",
      "# simulate some mutations\n",
      "n_alleles = n_variants * n_samples * ploidy\n",
      "idx = np.random.randint(0, (n_alleles//2)-1, size=n_alleles//20)\n",
      "data[:, :, 1].reshape((-1))[idx] = 1\n",
      "data[:, :, 0].reshape((-1))[idx[:n_alleles//200]] = 1\n",
      "idx = np.random.randint(0, (n_alleles//2)-1, size=n_alleles//20)\n",
      "data[:, :, 1].reshape((-1))[idx] = 2\n",
      "data[:, :, 0].reshape((-1))[idx[:n_alleles//200]] = 2\n",
      "idx = np.random.randint(0, (n_alleles//2)-1, size=n_alleles//20)\n",
      "data[:, :, 1].reshape((-1))[idx] = 3\n",
      "data[:, :, 0].reshape((-1))[idx[:n_alleles//200]] = 3"
     ],
     "language": "python",
     "metadata": {},
     "outputs": [],
     "prompt_number": 34
    },
    {
     "cell_type": "code",
     "collapsed": false,
     "input": [
      "g = allel.bcolz.GenotypeCArray(data, copy=False)\n",
      "print(binarysize(g.nbytes))"
     ],
     "language": "python",
     "metadata": {},
     "outputs": [
      {
       "output_type": "stream",
       "stream": "stdout",
       "text": [
        "953.7 MiB\n"
       ]
      }
     ],
     "prompt_number": 35
    },
    {
     "cell_type": "code",
     "collapsed": false,
     "input": [
      "ac = g.count_alleles()[:]\n",
      "ac.shape"
     ],
     "language": "python",
     "metadata": {},
     "outputs": [
      {
       "metadata": {},
       "output_type": "pyout",
       "prompt_number": 39,
       "text": [
        "(5000000, 4)"
       ]
      }
     ],
     "prompt_number": 39
    },
    {
     "cell_type": "code",
     "collapsed": false,
     "input": [
      "ac"
     ],
     "language": "python",
     "metadata": {},
     "outputs": [
      {
       "metadata": {},
       "output_type": "pyout",
       "prompt_number": 40,
       "text": [
        "AlleleCountsArray((5000000, 4), dtype=int32)\n",
        "[[173   7   7  13]\n",
        " [170  10   4  16]\n",
        " [169  12   8  11]\n",
        " ..., \n",
        " [169   6  11  14]\n",
        " [180   8   6   6]\n",
        " [176  10   7   7]]"
       ]
      }
     ],
     "prompt_number": 40
    },
    {
     "cell_type": "code",
     "collapsed": false,
     "input": [
      "%timeit mpd = allel.stats.mean_pairwise_diversity(ac)"
     ],
     "language": "python",
     "metadata": {},
     "outputs": [
      {
       "output_type": "stream",
       "stream": "stdout",
       "text": [
        "1 loops, best of 3: 328 ms per loop\n"
       ]
      }
     ],
     "prompt_number": 41
    },
    {
     "cell_type": "code",
     "collapsed": false,
     "input": [
      "import cProfile\n",
      "cProfile.run('allel.stats.mean_pairwise_diversity(ac)', sort='time')"
     ],
     "language": "python",
     "metadata": {},
     "outputs": [
      {
       "output_type": "stream",
       "stream": "stdout",
       "text": [
        "         41 function calls in 0.395 seconds\n",
        "\n",
        "   Ordered by: internal time\n",
        "\n",
        "   ncalls  tottime  percall  cumtime  percall filename:lineno(function)\n",
        "        2    0.168    0.084    0.168    0.084 {method 'reduce' of 'numpy.ufunc' objects}\n",
        "        1    0.149    0.149    0.393    0.393 stats.py:401(mean_pairwise_diversity)\n",
        "        1    0.068    0.068    0.068    0.068 bcolz.py:515(__array__)\n",
        "        1    0.008    0.008    0.008    0.008 {built-in method where}\n",
        "        1    0.001    0.001    0.394    0.394 <string>:1(<module>)\n",
        "        1    0.000    0.000    0.395    0.395 {built-in method exec}\n",
        "        1    0.000    0.000    0.068    0.068 {built-in method array}\n",
        "        2    0.000    0.000    0.168    0.084 fromnumeric.py:1623(sum)\n",
        "        1    0.000    0.000    0.068    0.068 util.py:20(asarray_ndim)\n",
        "        2    0.000    0.000    0.000    0.000 numeric.py:2428(seterr)\n",
        "        2    0.000    0.000    0.168    0.084 _methods.py:31(_sum)\n",
        "        2    0.000    0.000    0.000    0.000 numeric.py:2524(geterr)\n",
        "        1    0.000    0.000    0.000    0.000 contextlib.py:37(__init__)\n",
        "        2    0.000    0.000    0.000    0.000 util.py:11(ignore_invalid)\n",
        "        1    0.000    0.000    0.068    0.068 numeric.py:394(asarray)\n",
        "        2    0.000    0.000    0.000    0.000 bcolz.py:509(__getattr__)\n",
        "        3    0.000    0.000    0.000    0.000 {built-in method getattr}\n",
        "        1    0.000    0.000    0.000    0.000 contextlib.py:63(__exit__)\n",
        "        2    0.000    0.000    0.000    0.000 {built-in method isinstance}\n",
        "        2    0.000    0.000    0.000    0.000 {built-in method seterrobj}\n",
        "        1    0.000    0.000    0.000    0.000 contextlib.py:57(__enter__)\n",
        "        1    0.000    0.000    0.000    0.000 contextlib.py:124(helper)\n",
        "        2    0.000    0.000    0.000    0.000 {built-in method next}\n",
        "        4    0.000    0.000    0.000    0.000 {built-in method geterrobj}\n",
        "        1    0.000    0.000    0.000    0.000 {method 'pop' of 'dict' objects}\n",
        "        1    0.000    0.000    0.000    0.000 {method 'disable' of '_lsprof.Profiler' objects}\n",
        "\n",
        "\n"
       ]
      }
     ],
     "prompt_number": 27
    },
    {
     "cell_type": "code",
     "collapsed": false,
     "input": [
      "pos = np.unique(np.random.randint(1, 100000000, size=n_variants*2))[:n_variants]\n",
      "pos.shape, pos.min(), pos.max()"
     ],
     "language": "python",
     "metadata": {},
     "outputs": [
      {
       "metadata": {},
       "output_type": "pyout",
       "prompt_number": 28,
       "text": [
        "((5000000,), 4, 52553794)"
       ]
      }
     ],
     "prompt_number": 28
    },
    {
     "cell_type": "code",
     "collapsed": false,
     "input": [
      "%timeit pi, windows, n_bases, counts = allel.stats.windowed_diversity(pos, ac, size=20000, start=1)"
     ],
     "language": "python",
     "metadata": {},
     "outputs": [
      {
       "output_type": "stream",
       "stream": "stdout",
       "text": [
        "1 loops, best of 3: 381 ms per loop\n"
       ]
      }
     ],
     "prompt_number": 43
    },
    {
     "cell_type": "code",
     "collapsed": false,
     "input": [
      "cProfile.run('allel.stats.windowed_diversity(pos, ac, size=20000, start=1, stop=500000)')"
     ],
     "language": "python",
     "metadata": {},
     "outputs": [
      {
       "output_type": "stream",
       "stream": "stdout",
       "text": [
        "         413 function calls in 0.383 seconds\n",
        "\n",
        "   Ordered by: standard name\n",
        "\n",
        "   ncalls  tottime  percall  cumtime  percall filename:lineno(function)\n",
        "        1    0.000    0.000    0.383    0.383 <string>:1(<module>)\n",
        "       27    0.000    0.000    0.170    0.006 _methods.py:31(_sum)\n",
        "        4    0.000    0.000    0.002    0.001 _methods.py:37(_any)\n",
        "        2    0.000    0.000    0.000    0.000 contextlib.py:124(helper)\n",
        "        2    0.000    0.000    0.000    0.000 contextlib.py:37(__init__)\n",
        "        2    0.000    0.000    0.000    0.000 contextlib.py:57(__enter__)\n",
        "        2    0.000    0.000    0.000    0.000 contextlib.py:63(__exit__)\n",
        "       27    0.000    0.000    0.170    0.006 fromnumeric.py:1623(sum)\n",
        "        4    0.000    0.000    0.003    0.001 fromnumeric.py:1764(any)\n",
        "       50    0.000    0.000    0.000    0.000 fromnumeric.py:955(searchsorted)\n",
        "        1    0.000    0.000    0.000    0.000 function_base.py:1055(diff)\n",
        "        4    0.034    0.009    0.037    0.009 model.py:2049(_check_input_data)\n",
        "        2    0.000    0.000    0.037    0.019 model.py:2060(__new__)\n",
        "        2    0.000    0.000    0.013    0.007 model.py:2067(__array_finalize__)\n",
        "       25    0.000    0.000    0.000    0.000 model.py:2280(locate_range)\n",
        "        4    0.000    0.000    0.000    0.000 numeric.py:2428(seterr)\n",
        "        4    0.000    0.000    0.000    0.000 numeric.py:2524(geterr)\n",
        "        4    0.000    0.000    0.000    0.000 numeric.py:394(asarray)\n",
        "        5    0.000    0.000    0.000    0.000 numeric.py:464(asanyarray)\n",
        "        1    0.000    0.000    0.010    0.010 stats.py:219(windowed_statistic)\n",
        "        1    0.000    0.000    0.000    0.000 stats.py:346(per_base)\n",
        "        1    0.166    0.166    0.345    0.345 stats.py:401(mean_pairwise_diversity)\n",
        "        1    0.000    0.000    0.383    0.383 stats.py:741(windowed_diversity)\n",
        "        1    0.000    0.000    0.000    0.000 stats.py:90(_make_position_windows)\n",
        "        4    0.000    0.000    0.000    0.000 util.py:11(ignore_invalid)\n",
        "        2    0.000    0.000    0.000    0.000 util.py:20(asarray_ndim)\n",
        "       11    0.000    0.000    0.000    0.000 {built-in method array}\n",
        "        1    0.000    0.000    0.383    0.383 {built-in method exec}\n",
        "        2    0.000    0.000    0.000    0.000 {built-in method getattr}\n",
        "        8    0.000    0.000    0.000    0.000 {built-in method geterrobj}\n",
        "       29    0.000    0.000    0.000    0.000 {built-in method isinstance}\n",
        "        3    0.000    0.000    0.000    0.000 {built-in method len}\n",
        "        4    0.000    0.000    0.000    0.000 {built-in method next}\n",
        "        4    0.000    0.000    0.000    0.000 {built-in method seterrobj}\n",
        "        2    0.009    0.004    0.009    0.004 {built-in method where}\n",
        "        4    0.000    0.000    0.002    0.001 {method 'any' of 'numpy.ndarray' objects}\n",
        "       75    0.000    0.000    0.000    0.000 {method 'append' of 'list' objects}\n",
        "        1    0.000    0.000    0.000    0.000 {method 'disable' of '_lsprof.Profiler' objects}\n",
        "        2    0.000    0.000    0.000    0.000 {method 'pop' of 'dict' objects}\n",
        "       31    0.172    0.006    0.172    0.006 {method 'reduce' of 'numpy.ufunc' objects}\n",
        "        1    0.000    0.000    0.000    0.000 {method 'reshape' of 'numpy.ndarray' objects}\n",
        "       50    0.000    0.000    0.000    0.000 {method 'searchsorted' of 'numpy.ndarray' objects}\n",
        "        2    0.000    0.000    0.013    0.007 {method 'view' of 'numpy.ndarray' objects}\n",
        "\n",
        "\n"
       ]
      }
     ],
     "prompt_number": 44
    }
   ],
   "metadata": {}
  }
 ]
}