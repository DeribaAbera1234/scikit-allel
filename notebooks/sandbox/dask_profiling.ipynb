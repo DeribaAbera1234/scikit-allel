{
 "cells": [
  {
   "cell_type": "code",
   "execution_count": 1,
   "metadata": {
    "collapsed": false
   },
   "outputs": [
    {
     "data": {
      "text/plain": [
       "'0.20.0.feature_dask'"
      ]
     },
     "execution_count": 1,
     "metadata": {},
     "output_type": "execute_result"
    }
   ],
   "source": [
    "import numpy as np\n",
    "import dask.array as da\n",
    "import h5py\n",
    "import bcolz\n",
    "import sys\n",
    "sys.path.insert(0, '../..')\n",
    "%load_ext autoreload\n",
    "%autoreload 1\n",
    "%aimport allel.model.dask\n",
    "%aimport allel.model.chunked\n",
    "%aimport allel.model.ndarray\n",
    "%aimport allel.model\n",
    "%aimport allel\n",
    "allel.__version__"
   ]
  },
  {
   "cell_type": "code",
   "execution_count": 2,
   "metadata": {
    "collapsed": false
   },
   "outputs": [
    {
     "data": {
      "text/plain": [
       "<HDF5 file \"ag1000g.phase1.ar3.pass.h5\" (mode r)>"
      ]
     },
     "execution_count": 2,
     "metadata": {},
     "output_type": "execute_result"
    }
   ],
   "source": [
    "callset = h5py.File('/data/coluzzi/ag1000g/data/phase1/release/AR3/variation/main/hdf5/ag1000g.phase1.ar3.pass.h5', mode='r')\n",
    "callset"
   ]
  },
  {
   "cell_type": "code",
   "execution_count": 3,
   "metadata": {
    "collapsed": false
   },
   "outputs": [
    {
     "data": {
      "text/html": [
       "<table class='petl'>\n",
       "<caption>GenotypeChunkedArray((9643193, 765, 2), int8, nbytes=13.7G, cbytes=548.0M, cratio=25.7, cname=gzip, clevel=3, shuffle=False, chunks=(6553, 10, 2), data=h5py._hl.dataset.Dataset)</caption>\n",
       "<thead>\n",
       "<tr>\n",
       "<th></th>\n",
       "<th>0</th>\n",
       "<th>1</th>\n",
       "<th>2</th>\n",
       "<th>3</th>\n",
       "<th>4</th>\n",
       "<th>...</th>\n",
       "<th>760</th>\n",
       "<th>761</th>\n",
       "<th>762</th>\n",
       "<th>763</th>\n",
       "<th>764</th>\n",
       "</tr>\n",
       "</thead>\n",
       "<tbody>\n",
       "<tr>\n",
       "<td style='font-weight: bold'>0</td>\n",
       "<td>0/0</td>\n",
       "<td>0/0</td>\n",
       "<td>0/0</td>\n",
       "<td>0/0</td>\n",
       "<td>0/0</td>\n",
       "<td>...</td>\n",
       "<td>0/0</td>\n",
       "<td>0/0</td>\n",
       "<td>0/0</td>\n",
       "<td>0/0</td>\n",
       "<td>0/0</td>\n",
       "</tr>\n",
       "<tr>\n",
       "<td style='font-weight: bold'>1</td>\n",
       "<td>0/0</td>\n",
       "<td>0/0</td>\n",
       "<td>0/0</td>\n",
       "<td>0/0</td>\n",
       "<td>0/0</td>\n",
       "<td>...</td>\n",
       "<td>0/0</td>\n",
       "<td>0/0</td>\n",
       "<td>0/0</td>\n",
       "<td>0/0</td>\n",
       "<td>0/0</td>\n",
       "</tr>\n",
       "<tr>\n",
       "<td style='font-weight: bold'>2</td>\n",
       "<td>0/0</td>\n",
       "<td>0/0</td>\n",
       "<td>0/0</td>\n",
       "<td>0/0</td>\n",
       "<td>0/0</td>\n",
       "<td>...</td>\n",
       "<td>0/0</td>\n",
       "<td>0/0</td>\n",
       "<td>0/0</td>\n",
       "<td>0/0</td>\n",
       "<td>0/0</td>\n",
       "</tr>\n",
       "<tr>\n",
       "<td style='font-weight: bold'>3</td>\n",
       "<td>0/0</td>\n",
       "<td>0/0</td>\n",
       "<td>0/0</td>\n",
       "<td>0/0</td>\n",
       "<td>0/0</td>\n",
       "<td>...</td>\n",
       "<td>0/0</td>\n",
       "<td>0/0</td>\n",
       "<td>0/0</td>\n",
       "<td>0/0</td>\n",
       "<td>0/0</td>\n",
       "</tr>\n",
       "<tr>\n",
       "<td style='font-weight: bold'>4</td>\n",
       "<td>0/0</td>\n",
       "<td>0/0</td>\n",
       "<td>0/0</td>\n",
       "<td>0/0</td>\n",
       "<td>0/0</td>\n",
       "<td>...</td>\n",
       "<td>0/0</td>\n",
       "<td>0/0</td>\n",
       "<td>0/0</td>\n",
       "<td>0/0</td>\n",
       "<td>0/0</td>\n",
       "</tr>\n",
       "</tbody>\n",
       "</table>\n",
       "<p><strong>...</strong></p>"
      ],
      "text/plain": [
       "GenotypeChunkedArray((9643193, 765, 2), int8, nbytes=13.7G, cbytes=548.0M, cratio=25.7, cname=gzip, clevel=3, shuffle=False, chunks=(6553, 10, 2), data=h5py._hl.dataset.Dataset)"
      ]
     },
     "execution_count": 3,
     "metadata": {},
     "output_type": "execute_result"
    }
   ],
   "source": [
    "genotype = allel.model.chunked.GenotypeChunkedArray(callset['3L/calldata/genotype'])\n",
    "genotype"
   ]
  },
  {
   "cell_type": "code",
   "execution_count": 4,
   "metadata": {
    "collapsed": false
   },
   "outputs": [
    {
     "data": {
      "text/html": [
       "<table class='petl'>\n",
       "<caption>GenotypeChunkedArray((2000000, 765, 2), int8, nbytes=2.8G, cbytes=110.3M, cratio=26.4, cname=gzip, clevel=1, shuffle=False, chunks=(5000, 100, 2), data=h5py._hl.dataset.Dataset)</caption>\n",
       "<thead>\n",
       "<tr>\n",
       "<th></th>\n",
       "<th>0</th>\n",
       "<th>1</th>\n",
       "<th>2</th>\n",
       "<th>3</th>\n",
       "<th>4</th>\n",
       "<th>...</th>\n",
       "<th>760</th>\n",
       "<th>761</th>\n",
       "<th>762</th>\n",
       "<th>763</th>\n",
       "<th>764</th>\n",
       "</tr>\n",
       "</thead>\n",
       "<tbody>\n",
       "<tr>\n",
       "<td style='font-weight: bold'>0</td>\n",
       "<td>0/0</td>\n",
       "<td>0/0</td>\n",
       "<td>0/0</td>\n",
       "<td>0/0</td>\n",
       "<td>0/0</td>\n",
       "<td>...</td>\n",
       "<td>0/0</td>\n",
       "<td>0/0</td>\n",
       "<td>0/0</td>\n",
       "<td>0/0</td>\n",
       "<td>0/0</td>\n",
       "</tr>\n",
       "<tr>\n",
       "<td style='font-weight: bold'>1</td>\n",
       "<td>0/0</td>\n",
       "<td>0/0</td>\n",
       "<td>0/0</td>\n",
       "<td>0/0</td>\n",
       "<td>0/0</td>\n",
       "<td>...</td>\n",
       "<td>0/0</td>\n",
       "<td>0/0</td>\n",
       "<td>0/0</td>\n",
       "<td>0/0</td>\n",
       "<td>0/0</td>\n",
       "</tr>\n",
       "<tr>\n",
       "<td style='font-weight: bold'>2</td>\n",
       "<td>0/0</td>\n",
       "<td>0/0</td>\n",
       "<td>0/0</td>\n",
       "<td>0/0</td>\n",
       "<td>0/0</td>\n",
       "<td>...</td>\n",
       "<td>0/0</td>\n",
       "<td>0/0</td>\n",
       "<td>0/0</td>\n",
       "<td>0/0</td>\n",
       "<td>0/0</td>\n",
       "</tr>\n",
       "<tr>\n",
       "<td style='font-weight: bold'>3</td>\n",
       "<td>0/0</td>\n",
       "<td>0/0</td>\n",
       "<td>0/0</td>\n",
       "<td>0/0</td>\n",
       "<td>0/0</td>\n",
       "<td>...</td>\n",
       "<td>0/0</td>\n",
       "<td>0/0</td>\n",
       "<td>0/0</td>\n",
       "<td>0/0</td>\n",
       "<td>0/0</td>\n",
       "</tr>\n",
       "<tr>\n",
       "<td style='font-weight: bold'>4</td>\n",
       "<td>0/0</td>\n",
       "<td>0/0</td>\n",
       "<td>0/0</td>\n",
       "<td>0/0</td>\n",
       "<td>0/0</td>\n",
       "<td>...</td>\n",
       "<td>0/0</td>\n",
       "<td>0/0</td>\n",
       "<td>0/0</td>\n",
       "<td>0/0</td>\n",
       "<td>0/0</td>\n",
       "</tr>\n",
       "</tbody>\n",
       "</table>\n",
       "<p><strong>...</strong></p>"
      ],
      "text/plain": [
       "GenotypeChunkedArray((2000000, 765, 2), int8, nbytes=2.8G, cbytes=110.3M, cratio=26.4, cname=gzip, clevel=1, shuffle=False, chunks=(5000, 100, 2), data=h5py._hl.dataset.Dataset)"
      ]
     },
     "execution_count": 4,
     "metadata": {},
     "output_type": "execute_result"
    }
   ],
   "source": [
    "# copy the first 2 million rows to use as benchmarking data\n",
    "gc = genotype.copy(storage='hdf5mem_zlib1', stop=2000000, chunks=(5000, 100, 2))\n",
    "gc"
   ]
  },
  {
   "cell_type": "code",
   "execution_count": 5,
   "metadata": {
    "collapsed": false
   },
   "outputs": [
    {
     "name": "stdout",
     "output_type": "stream",
     "text": [
      "CPU times: user 6.63 s, sys: 8 ms, total: 6.64 s\n",
      "Wall time: 6.63 s\n"
     ]
    },
    {
     "data": {
      "text/plain": [
       "3"
      ]
     },
     "execution_count": 5,
     "metadata": {},
     "output_type": "execute_result"
    }
   ],
   "source": [
    "# how long does it take to read the data?\n",
    "%time gc.max()"
   ]
  },
  {
   "cell_type": "code",
   "execution_count": 6,
   "metadata": {
    "collapsed": false
   },
   "outputs": [
    {
     "name": "stdout",
     "output_type": "stream",
     "text": [
      "CPU times: user 9.04 s, sys: 8 ms, total: 9.05 s\n",
      "Wall time: 8.96 s\n"
     ]
    },
    {
     "data": {
      "text/html": [
       "<table class='petl'>\n",
       "<caption>AlleleCountsChunkedArray((2000000, 4), int32, nbytes=30.5M, cbytes=5.4M, cratio=5.6, cname=blosclz, clevel=5, shuffle=True, chunks=(32768, 4), data=bcolz.carray_ext.carray)</caption>\n",
       "<thead>\n",
       "<tr>\n",
       "<th></th>\n",
       "<th>0</th>\n",
       "<th>1</th>\n",
       "<th>2</th>\n",
       "<th>3</th>\n",
       "</tr>\n",
       "</thead>\n",
       "<tbody>\n",
       "<tr>\n",
       "<td style='font-weight: bold'>0</td>\n",
       "<td>1527</td>\n",
       "<td>3</td>\n",
       "<td>0</td>\n",
       "<td>0</td>\n",
       "</tr>\n",
       "<tr>\n",
       "<td style='font-weight: bold'>1</td>\n",
       "<td>1529</td>\n",
       "<td>1</td>\n",
       "<td>0</td>\n",
       "<td>0</td>\n",
       "</tr>\n",
       "<tr>\n",
       "<td style='font-weight: bold'>2</td>\n",
       "<td>1528</td>\n",
       "<td>2</td>\n",
       "<td>0</td>\n",
       "<td>0</td>\n",
       "</tr>\n",
       "<tr>\n",
       "<td style='font-weight: bold'>3</td>\n",
       "<td>1528</td>\n",
       "<td>2</td>\n",
       "<td>0</td>\n",
       "<td>0</td>\n",
       "</tr>\n",
       "<tr>\n",
       "<td style='font-weight: bold'>4</td>\n",
       "<td>1526</td>\n",
       "<td>4</td>\n",
       "<td>0</td>\n",
       "<td>0</td>\n",
       "</tr>\n",
       "</tbody>\n",
       "</table>\n",
       "<p><strong>...</strong></p>"
      ],
      "text/plain": [
       "AlleleCountsChunkedArray((2000000, 4), int32, nbytes=30.5M, cbytes=5.4M, cratio=5.6, cname=blosclz, clevel=5, shuffle=True, chunks=(32768, 4), data=bcolz.carray_ext.carray)"
      ]
     },
     "execution_count": 6,
     "metadata": {},
     "output_type": "execute_result"
    }
   ],
   "source": [
    "%time gc.count_alleles(max_allele=3)"
   ]
  },
  {
   "cell_type": "code",
   "execution_count": 7,
   "metadata": {
    "collapsed": false
   },
   "outputs": [
    {
     "data": {
      "text/html": [
       "<table class='petl'>\n",
       "<caption>GenotypeDaskArray&lt;from-ar..., shape=(2000000, 765, 2), dtype=int8, chunksize=(5000, 100, 2)></caption>\n",
       "<thead>\n",
       "<tr>\n",
       "<th></th>\n",
       "<th>0</th>\n",
       "<th>1</th>\n",
       "<th>2</th>\n",
       "<th>3</th>\n",
       "<th>4</th>\n",
       "<th>...</th>\n",
       "<th>760</th>\n",
       "<th>761</th>\n",
       "<th>762</th>\n",
       "<th>763</th>\n",
       "<th>764</th>\n",
       "</tr>\n",
       "</thead>\n",
       "<tbody>\n",
       "<tr>\n",
       "<td style='font-weight: bold'>0</td>\n",
       "<td>0/0</td>\n",
       "<td>0/0</td>\n",
       "<td>0/0</td>\n",
       "<td>0/0</td>\n",
       "<td>0/0</td>\n",
       "<td>...</td>\n",
       "<td>0/0</td>\n",
       "<td>0/0</td>\n",
       "<td>0/0</td>\n",
       "<td>0/0</td>\n",
       "<td>0/0</td>\n",
       "</tr>\n",
       "<tr>\n",
       "<td style='font-weight: bold'>1</td>\n",
       "<td>0/0</td>\n",
       "<td>0/0</td>\n",
       "<td>0/0</td>\n",
       "<td>0/0</td>\n",
       "<td>0/0</td>\n",
       "<td>...</td>\n",
       "<td>0/0</td>\n",
       "<td>0/0</td>\n",
       "<td>0/0</td>\n",
       "<td>0/0</td>\n",
       "<td>0/0</td>\n",
       "</tr>\n",
       "<tr>\n",
       "<td style='font-weight: bold'>2</td>\n",
       "<td>0/0</td>\n",
       "<td>0/0</td>\n",
       "<td>0/0</td>\n",
       "<td>0/0</td>\n",
       "<td>0/0</td>\n",
       "<td>...</td>\n",
       "<td>0/0</td>\n",
       "<td>0/0</td>\n",
       "<td>0/0</td>\n",
       "<td>0/0</td>\n",
       "<td>0/0</td>\n",
       "</tr>\n",
       "<tr>\n",
       "<td style='font-weight: bold'>3</td>\n",
       "<td>0/0</td>\n",
       "<td>0/0</td>\n",
       "<td>0/0</td>\n",
       "<td>0/0</td>\n",
       "<td>0/0</td>\n",
       "<td>...</td>\n",
       "<td>0/0</td>\n",
       "<td>0/0</td>\n",
       "<td>0/0</td>\n",
       "<td>0/0</td>\n",
       "<td>0/0</td>\n",
       "</tr>\n",
       "<tr>\n",
       "<td style='font-weight: bold'>4</td>\n",
       "<td>0/0</td>\n",
       "<td>0/0</td>\n",
       "<td>0/0</td>\n",
       "<td>0/0</td>\n",
       "<td>0/0</td>\n",
       "<td>...</td>\n",
       "<td>0/0</td>\n",
       "<td>0/0</td>\n",
       "<td>0/0</td>\n",
       "<td>0/0</td>\n",
       "<td>0/0</td>\n",
       "</tr>\n",
       "</tbody>\n",
       "</table>\n",
       "<p><strong>...</strong></p>"
      ],
      "text/plain": [
       "GenotypeDaskArray<from-ar..., shape=(2000000, 765, 2), dtype=int8, chunksize=(5000, 100, 2)>"
      ]
     },
     "execution_count": 7,
     "metadata": {},
     "output_type": "execute_result"
    }
   ],
   "source": [
    "gd = allel.model.dask.GenotypeDaskArray.from_array(gc)\n",
    "gd"
   ]
  },
  {
   "cell_type": "code",
   "execution_count": 8,
   "metadata": {
    "collapsed": false
   },
   "outputs": [
    {
     "data": {
      "text/html": [
       "<table class='petl'>\n",
       "<caption>AlleleCountsDaskArray&lt;atop-c4..., shape=(2000000, 4), dtype=int64, chunksize=(5000, 4)></caption>\n",
       "<thead>\n",
       "<tr>\n",
       "<th></th>\n",
       "<th>0</th>\n",
       "<th>1</th>\n",
       "<th>2</th>\n",
       "<th>3</th>\n",
       "</tr>\n",
       "</thead>\n",
       "<tbody>\n",
       "<tr>\n",
       "<td style='font-weight: bold'>0</td>\n",
       "<td>1527</td>\n",
       "<td>3</td>\n",
       "<td>0</td>\n",
       "<td>0</td>\n",
       "</tr>\n",
       "<tr>\n",
       "<td style='font-weight: bold'>1</td>\n",
       "<td>1529</td>\n",
       "<td>1</td>\n",
       "<td>0</td>\n",
       "<td>0</td>\n",
       "</tr>\n",
       "<tr>\n",
       "<td style='font-weight: bold'>2</td>\n",
       "<td>1528</td>\n",
       "<td>2</td>\n",
       "<td>0</td>\n",
       "<td>0</td>\n",
       "</tr>\n",
       "<tr>\n",
       "<td style='font-weight: bold'>3</td>\n",
       "<td>1528</td>\n",
       "<td>2</td>\n",
       "<td>0</td>\n",
       "<td>0</td>\n",
       "</tr>\n",
       "<tr>\n",
       "<td style='font-weight: bold'>4</td>\n",
       "<td>1526</td>\n",
       "<td>4</td>\n",
       "<td>0</td>\n",
       "<td>0</td>\n",
       "</tr>\n",
       "</tbody>\n",
       "</table>\n",
       "<p><strong>...</strong></p>"
      ],
      "text/plain": [
       "AlleleCountsDaskArray<atop-c4..., shape=(2000000, 4), dtype=int64, chunksize=(5000, 4)>"
      ]
     },
     "execution_count": 8,
     "metadata": {},
     "output_type": "execute_result"
    }
   ],
   "source": [
    "ac = gd.count_alleles(max_allele=3)\n",
    "ac"
   ]
  },
  {
   "cell_type": "code",
   "execution_count": 9,
   "metadata": {
    "collapsed": false
   },
   "outputs": [
    {
     "name": "stdout",
     "output_type": "stream",
     "text": [
      "CPU times: user 10.9 s, sys: 572 ms, total: 11.5 s\n",
      "Wall time: 11.2 s\n"
     ]
    },
    {
     "data": {
      "text/html": [
       "<table class='petl'>\n",
       "<caption>AlleleCountsArray((2000000, 4), dtype=int64)</caption>\n",
       "<thead>\n",
       "<tr>\n",
       "<th></th>\n",
       "<th>0</th>\n",
       "<th>1</th>\n",
       "<th>2</th>\n",
       "<th>3</th>\n",
       "</tr>\n",
       "</thead>\n",
       "<tbody>\n",
       "<tr>\n",
       "<td style='font-weight: bold'>0</td>\n",
       "<td>1527</td>\n",
       "<td>3</td>\n",
       "<td>0</td>\n",
       "<td>0</td>\n",
       "</tr>\n",
       "<tr>\n",
       "<td style='font-weight: bold'>1</td>\n",
       "<td>1529</td>\n",
       "<td>1</td>\n",
       "<td>0</td>\n",
       "<td>0</td>\n",
       "</tr>\n",
       "<tr>\n",
       "<td style='font-weight: bold'>2</td>\n",
       "<td>1528</td>\n",
       "<td>2</td>\n",
       "<td>0</td>\n",
       "<td>0</td>\n",
       "</tr>\n",
       "<tr>\n",
       "<td style='font-weight: bold'>3</td>\n",
       "<td>1528</td>\n",
       "<td>2</td>\n",
       "<td>0</td>\n",
       "<td>0</td>\n",
       "</tr>\n",
       "<tr>\n",
       "<td style='font-weight: bold'>4</td>\n",
       "<td>1526</td>\n",
       "<td>4</td>\n",
       "<td>0</td>\n",
       "<td>0</td>\n",
       "</tr>\n",
       "</tbody>\n",
       "</table>\n",
       "<p><strong>...</strong></p>"
      ],
      "text/plain": [
       "AlleleCountsArray((2000000, 4), dtype=int64)\n",
       "[[1527    3    0    0]\n",
       " [1529    1    0    0]\n",
       " [1528    2    0    0]\n",
       " ..., \n",
       " [1526    4    0    0]\n",
       " [1529    1    0    0]\n",
       " [1521    1    8    0]]"
      ]
     },
     "execution_count": 9,
     "metadata": {},
     "output_type": "execute_result"
    }
   ],
   "source": [
    "%time ac.compute(num_workers=1)"
   ]
  },
  {
   "cell_type": "code",
   "execution_count": 10,
   "metadata": {
    "collapsed": false
   },
   "outputs": [
    {
     "name": "stdout",
     "output_type": "stream",
     "text": [
      "CPU times: user 11.9 s, sys: 1.09 s, total: 13 s\n",
      "Wall time: 7.41 s\n"
     ]
    },
    {
     "data": {
      "text/html": [
       "<table class='petl'>\n",
       "<caption>AlleleCountsArray((2000000, 4), dtype=int64)</caption>\n",
       "<thead>\n",
       "<tr>\n",
       "<th></th>\n",
       "<th>0</th>\n",
       "<th>1</th>\n",
       "<th>2</th>\n",
       "<th>3</th>\n",
       "</tr>\n",
       "</thead>\n",
       "<tbody>\n",
       "<tr>\n",
       "<td style='font-weight: bold'>0</td>\n",
       "<td>1527</td>\n",
       "<td>3</td>\n",
       "<td>0</td>\n",
       "<td>0</td>\n",
       "</tr>\n",
       "<tr>\n",
       "<td style='font-weight: bold'>1</td>\n",
       "<td>1529</td>\n",
       "<td>1</td>\n",
       "<td>0</td>\n",
       "<td>0</td>\n",
       "</tr>\n",
       "<tr>\n",
       "<td style='font-weight: bold'>2</td>\n",
       "<td>1528</td>\n",
       "<td>2</td>\n",
       "<td>0</td>\n",
       "<td>0</td>\n",
       "</tr>\n",
       "<tr>\n",
       "<td style='font-weight: bold'>3</td>\n",
       "<td>1528</td>\n",
       "<td>2</td>\n",
       "<td>0</td>\n",
       "<td>0</td>\n",
       "</tr>\n",
       "<tr>\n",
       "<td style='font-weight: bold'>4</td>\n",
       "<td>1526</td>\n",
       "<td>4</td>\n",
       "<td>0</td>\n",
       "<td>0</td>\n",
       "</tr>\n",
       "</tbody>\n",
       "</table>\n",
       "<p><strong>...</strong></p>"
      ],
      "text/plain": [
       "AlleleCountsArray((2000000, 4), dtype=int64)\n",
       "[[1527    3    0    0]\n",
       " [1529    1    0    0]\n",
       " [1528    2    0    0]\n",
       " ..., \n",
       " [1526    4    0    0]\n",
       " [1529    1    0    0]\n",
       " [1521    1    8    0]]"
      ]
     },
     "execution_count": 10,
     "metadata": {},
     "output_type": "execute_result"
    }
   ],
   "source": [
    "%time ac.compute(num_workers=2)"
   ]
  },
  {
   "cell_type": "code",
   "execution_count": 11,
   "metadata": {
    "collapsed": false
   },
   "outputs": [
    {
     "name": "stdout",
     "output_type": "stream",
     "text": [
      "CPU times: user 12 s, sys: 1.5 s, total: 13.5 s\n",
      "Wall time: 7.16 s\n"
     ]
    },
    {
     "data": {
      "text/html": [
       "<table class='petl'>\n",
       "<caption>AlleleCountsArray((2000000, 4), dtype=int64)</caption>\n",
       "<thead>\n",
       "<tr>\n",
       "<th></th>\n",
       "<th>0</th>\n",
       "<th>1</th>\n",
       "<th>2</th>\n",
       "<th>3</th>\n",
       "</tr>\n",
       "</thead>\n",
       "<tbody>\n",
       "<tr>\n",
       "<td style='font-weight: bold'>0</td>\n",
       "<td>1527</td>\n",
       "<td>3</td>\n",
       "<td>0</td>\n",
       "<td>0</td>\n",
       "</tr>\n",
       "<tr>\n",
       "<td style='font-weight: bold'>1</td>\n",
       "<td>1529</td>\n",
       "<td>1</td>\n",
       "<td>0</td>\n",
       "<td>0</td>\n",
       "</tr>\n",
       "<tr>\n",
       "<td style='font-weight: bold'>2</td>\n",
       "<td>1528</td>\n",
       "<td>2</td>\n",
       "<td>0</td>\n",
       "<td>0</td>\n",
       "</tr>\n",
       "<tr>\n",
       "<td style='font-weight: bold'>3</td>\n",
       "<td>1528</td>\n",
       "<td>2</td>\n",
       "<td>0</td>\n",
       "<td>0</td>\n",
       "</tr>\n",
       "<tr>\n",
       "<td style='font-weight: bold'>4</td>\n",
       "<td>1526</td>\n",
       "<td>4</td>\n",
       "<td>0</td>\n",
       "<td>0</td>\n",
       "</tr>\n",
       "</tbody>\n",
       "</table>\n",
       "<p><strong>...</strong></p>"
      ],
      "text/plain": [
       "AlleleCountsArray((2000000, 4), dtype=int64)\n",
       "[[1527    3    0    0]\n",
       " [1529    1    0    0]\n",
       " [1528    2    0    0]\n",
       " ..., \n",
       " [1526    4    0    0]\n",
       " [1529    1    0    0]\n",
       " [1521    1    8    0]]"
      ]
     },
     "execution_count": 11,
     "metadata": {},
     "output_type": "execute_result"
    }
   ],
   "source": [
    "%time ac.compute(num_workers=3)"
   ]
  },
  {
   "cell_type": "code",
   "execution_count": null,
   "metadata": {
    "collapsed": true
   },
   "outputs": [],
   "source": []
  }
 ],
 "metadata": {
  "kernelspec": {
   "display_name": "Python 3",
   "language": "python",
   "name": "python3"
  },
  "language_info": {
   "codemirror_mode": {
    "name": "ipython",
    "version": 3
   },
   "file_extension": ".py",
   "mimetype": "text/x-python",
   "name": "python",
   "nbconvert_exporter": "python",
   "pygments_lexer": "ipython3",
   "version": "3.4.3"
  }
 },
 "nbformat": 4,
 "nbformat_minor": 0
}
