{
 "metadata": {
  "name": "",
  "signature": "sha256:ff5c0ceb0ae0ef3be6180614dad223a1b86fce271fb6625265b13bfe0af6944a"
 },
 "nbformat": 3,
 "nbformat_minor": 0,
 "worksheets": [
  {
   "cells": [
    {
     "cell_type": "heading",
     "level": 2,
     "metadata": {},
     "source": [
      "Setup"
     ]
    },
    {
     "cell_type": "code",
     "collapsed": false,
     "input": [
      "import itertools\n",
      "import numpy as np\n",
      "import sys\n",
      "import scipy.stats\n",
      "import matplotlib.pyplot as plt\n",
      "%matplotlib inline\n",
      "sys.path.insert(0, '../..')\n",
      "%load_ext memory_profiler\n",
      "%load_ext autoreload\n",
      "%autoreload 1\n",
      "%aimport allel.model\n",
      "%aimport allel.stats"
     ],
     "language": "python",
     "metadata": {},
     "outputs": [],
     "prompt_number": 1
    },
    {
     "cell_type": "code",
     "collapsed": false,
     "input": [
      "pos = np.unique(np.random.randint(0, 100000000, size=10000000))\n",
      "pos.size, pos.dtype"
     ],
     "language": "python",
     "metadata": {},
     "outputs": [
      {
       "metadata": {},
       "output_type": "pyout",
       "prompt_number": 2,
       "text": [
        "(9516188, dtype('int64'))"
       ]
      }
     ],
     "prompt_number": 2
    },
    {
     "cell_type": "code",
     "collapsed": false,
     "input": [
      "values = np.random.randint(0, 60, size=pos.size)\n",
      "values"
     ],
     "language": "python",
     "metadata": {},
     "outputs": [
      {
       "metadata": {},
       "output_type": "pyout",
       "prompt_number": 3,
       "text": [
        "array([10, 16, 59, ..., 47,  9, 43])"
       ]
      }
     ],
     "prompt_number": 3
    },
    {
     "cell_type": "heading",
     "level": 2,
     "metadata": {},
     "source": [
      "Moving statistic"
     ]
    },
    {
     "cell_type": "code",
     "collapsed": false,
     "input": [
      "%timeit allel.stats.moving_statistic(values, statistic=np.sum, size=10000)"
     ],
     "language": "python",
     "metadata": {},
     "outputs": [
      {
       "output_type": "stream",
       "stream": "stdout",
       "text": [
        "100 loops, best of 3: 12.8 ms per loop\n"
       ]
      }
     ],
     "prompt_number": 4
    },
    {
     "cell_type": "code",
     "collapsed": false,
     "input": [
      "%timeit scipy.stats.binned_statistic(np.arange(values.size), values, statistic='sum', bins=np.arange(0, values.size, 10000))"
     ],
     "language": "python",
     "metadata": {},
     "outputs": [
      {
       "output_type": "stream",
       "stream": "stdout",
       "text": [
        "1 loops, best of 3: 3.2 s per loop\n"
       ]
      }
     ],
     "prompt_number": 5
    },
    {
     "cell_type": "code",
     "collapsed": false,
     "input": [
      "%memit allel.stats.moving_statistic(values, statistic=np.sum, size=10000)"
     ],
     "language": "python",
     "metadata": {},
     "outputs": [
      {
       "output_type": "stream",
       "stream": "stdout",
       "text": [
        "peak memory: 247.36 MiB, increment: 0.26 MiB\n"
       ]
      }
     ],
     "prompt_number": 6
    },
    {
     "cell_type": "code",
     "collapsed": false,
     "input": [
      "%memit scipy.stats.binned_statistic(np.arange(values.size), values, statistic='sum', bins=np.arange(0, values.size, 10000))"
     ],
     "language": "python",
     "metadata": {},
     "outputs": [
      {
       "output_type": "stream",
       "stream": "stdout",
       "text": [
        "peak memory: 536.40 MiB, increment: 289.04 MiB\n"
       ]
      }
     ],
     "prompt_number": 7
    },
    {
     "cell_type": "code",
     "collapsed": false,
     "input": [
      "y1 = allel.stats.moving_statistic(values, statistic=np.sum, size=10000)"
     ],
     "language": "python",
     "metadata": {},
     "outputs": [],
     "prompt_number": 13
    },
    {
     "cell_type": "code",
     "collapsed": false,
     "input": [
      "y2, _, _ = scipy.stats.binned_statistic(np.arange(values.size), values, statistic='sum', bins=np.arange(0, values.size+10000, 10000))"
     ],
     "language": "python",
     "metadata": {},
     "outputs": [],
     "prompt_number": 24
    },
    {
     "cell_type": "code",
     "collapsed": false,
     "input": [
      "np.array_equal(y1, y2)"
     ],
     "language": "python",
     "metadata": {},
     "outputs": [
      {
       "metadata": {},
       "output_type": "pyout",
       "prompt_number": 29,
       "text": [
        "True"
       ]
      }
     ],
     "prompt_number": 29
    },
    {
     "cell_type": "code",
     "collapsed": false,
     "input": [
      "x = allel.stats.moving_statistic(pos, statistic=lambda b: (b[0] + b[-1])/2, size=10000)"
     ],
     "language": "python",
     "metadata": {},
     "outputs": [
      {
       "metadata": {},
       "output_type": "pyout",
       "prompt_number": 32,
       "text": [
        "array([  5.35060000e+04,   1.59721000e+05,   2.65888000e+05,\n",
        "         3.73128000e+05,   4.79557000e+05,   5.84786000e+05,\n",
        "         6.89535500e+05,   7.93466500e+05,   8.97896000e+05,\n",
        "         1.00288200e+06,   1.10713400e+06,   1.21184800e+06,\n",
        "         1.31673650e+06,   1.42138300e+06,   1.52650100e+06,\n",
        "         1.63139300e+06,   1.73707700e+06,   1.84304450e+06,\n",
        "         1.94856300e+06,   2.05367600e+06,   2.15845450e+06,\n",
        "         2.26418800e+06,   2.37061250e+06,   2.47679900e+06,\n",
        "         2.58213600e+06,   2.68789100e+06,   2.79435150e+06,\n",
        "         2.89892200e+06,   3.00295550e+06,   3.10833250e+06,\n",
        "         3.21363500e+06,   3.31842850e+06,   3.42226750e+06,\n",
        "         3.52641500e+06,   3.63120800e+06,   3.73628400e+06,\n",
        "         3.84084550e+06,   3.94482000e+06,   4.04912350e+06,\n",
        "         4.15359250e+06,   4.25842250e+06,   4.36419000e+06,\n",
        "         4.47019200e+06,   4.57529150e+06,   4.68112750e+06,\n",
        "         4.78720650e+06,   4.89259800e+06,   4.99782400e+06,\n",
        "         5.10275700e+06,   5.20847500e+06,   5.31431900e+06,\n",
        "         5.41794800e+06,   5.52167950e+06,   5.62696000e+06,\n",
        "         5.73191650e+06,   5.83656600e+06,   5.94107850e+06,\n",
        "         6.04521050e+06,   6.14880600e+06,   6.25328600e+06,\n",
        "         6.35854750e+06,   6.46366950e+06,   6.56926550e+06,\n",
        "         6.67346800e+06,   6.77754650e+06,   6.88360150e+06,\n",
        "         6.98877550e+06,   7.09253150e+06,   7.19774400e+06,\n",
        "         7.30369800e+06,   7.40961350e+06,   7.51552750e+06,\n",
        "         7.62083150e+06,   7.72574500e+06,   7.82991550e+06,\n",
        "         7.93340900e+06,   8.03709250e+06,   8.14199950e+06,\n",
        "         8.24709700e+06,   8.35191750e+06,   8.45705800e+06,\n",
        "         8.56204750e+06,   8.66729450e+06,   8.77186500e+06,\n",
        "         8.87589200e+06,   8.98049200e+06,   9.08563700e+06,\n",
        "         9.19103800e+06,   9.29635750e+06,   9.40060100e+06,\n",
        "         9.50546800e+06,   9.61128400e+06,   9.71666450e+06,\n",
        "         9.82201550e+06,   9.92718900e+06,   1.00328470e+07,\n",
        "         1.01386890e+07,   1.02438125e+07,   1.03484915e+07,\n",
        "         1.04535815e+07,   1.05576695e+07,   1.06619910e+07,\n",
        "         1.07674575e+07,   1.08725785e+07,   1.09777995e+07,\n",
        "         1.10830055e+07,   1.11883715e+07,   1.12936605e+07,\n",
        "         1.13983610e+07,   1.15028740e+07,   1.16078330e+07,\n",
        "         1.17131095e+07,   1.18184080e+07,   1.19235920e+07,\n",
        "         1.20276650e+07,   1.21320370e+07,   1.22371490e+07,\n",
        "         1.23420535e+07,   1.24466075e+07,   1.25516295e+07,\n",
        "         1.26565750e+07,   1.27599990e+07,   1.28637715e+07,\n",
        "         1.29686015e+07,   1.30742415e+07,   1.31800560e+07,\n",
        "         1.32854975e+07,   1.33913980e+07,   1.34966485e+07,\n",
        "         1.36014790e+07,   1.37066295e+07,   1.38117110e+07,\n",
        "         1.39171910e+07,   1.40229870e+07,   1.41277715e+07,\n",
        "         1.42321850e+07,   1.43372160e+07,   1.44421810e+07,\n",
        "         1.45471005e+07,   1.46518630e+07,   1.47569135e+07,\n",
        "         1.48612480e+07,   1.49648025e+07,   1.50698145e+07,\n",
        "         1.51754510e+07,   1.52804315e+07,   1.53854865e+07,\n",
        "         1.54912450e+07,   1.55965935e+07,   1.57005880e+07,\n",
        "         1.58052390e+07,   1.59099920e+07,   1.60140235e+07,\n",
        "         1.61196005e+07,   1.62253145e+07,   1.63297800e+07,\n",
        "         1.64339630e+07,   1.65388440e+07,   1.66441650e+07,\n",
        "         1.67484925e+07,   1.68528680e+07,   1.69577520e+07,\n",
        "         1.70626005e+07,   1.71676380e+07,   1.72729115e+07,\n",
        "         1.73784525e+07,   1.74829480e+07,   1.75868705e+07,\n",
        "         1.76909810e+07,   1.77946300e+07,   1.78986485e+07,\n",
        "         1.80030275e+07,   1.81079560e+07,   1.82132140e+07,\n",
        "         1.83186435e+07,   1.84233970e+07,   1.85276880e+07,\n",
        "         1.86331155e+07,   1.87398775e+07,   1.88456075e+07,\n",
        "         1.89497340e+07,   1.90537920e+07,   1.91582655e+07,\n",
        "         1.92634615e+07,   1.93690600e+07,   1.94748500e+07,\n",
        "         1.95810420e+07,   1.96866725e+07,   1.97908520e+07,\n",
        "         1.98950590e+07,   1.99996930e+07,   2.01046190e+07,\n",
        "         2.02087055e+07,   2.03126455e+07,   2.04171650e+07,\n",
        "         2.05215095e+07,   2.06269040e+07,   2.07324520e+07,\n",
        "         2.08370745e+07,   2.09422365e+07,   2.10471520e+07,\n",
        "         2.11514550e+07,   2.12568415e+07,   2.13622720e+07,\n",
        "         2.14670025e+07,   2.15721805e+07,   2.16775585e+07,\n",
        "         2.17822370e+07,   2.18867395e+07,   2.19915370e+07,\n",
        "         2.20971145e+07,   2.22028375e+07,   2.23079090e+07,\n",
        "         2.24133045e+07,   2.25182725e+07,   2.26221780e+07,\n",
        "         2.27262080e+07,   2.28318655e+07,   2.29384215e+07,\n",
        "         2.30439880e+07,   2.31483575e+07,   2.32530785e+07,\n",
        "         2.33589005e+07,   2.34641405e+07,   2.35693555e+07,\n",
        "         2.36752155e+07,   2.37809560e+07,   2.38870320e+07,\n",
        "         2.39939425e+07,   2.40998220e+07,   2.42050350e+07,\n",
        "         2.43110100e+07,   2.44160465e+07,   2.45202825e+07,\n",
        "         2.46260325e+07,   2.47322540e+07,   2.48374935e+07,\n",
        "         2.49422905e+07,   2.50464040e+07,   2.51506330e+07,\n",
        "         2.52565475e+07,   2.53624100e+07,   2.54680475e+07,\n",
        "         2.55753895e+07,   2.56820415e+07,   2.57870585e+07,\n",
        "         2.58912715e+07,   2.59957645e+07,   2.61006185e+07,\n",
        "         2.62058070e+07,   2.63110135e+07,   2.64157960e+07,\n",
        "         2.65216255e+07,   2.66276840e+07,   2.67334760e+07,\n",
        "         2.68389655e+07,   2.69437775e+07,   2.70483445e+07,\n",
        "         2.71529475e+07,   2.72576190e+07,   2.73628420e+07,\n",
        "         2.74687285e+07,   2.75736280e+07,   2.76782930e+07,\n",
        "         2.77827495e+07,   2.78875810e+07,   2.79935080e+07,\n",
        "         2.80993515e+07,   2.82053610e+07,   2.83123080e+07,\n",
        "         2.84188910e+07,   2.85241960e+07,   2.86290125e+07,\n",
        "         2.87343050e+07,   2.88393340e+07,   2.89435635e+07,\n",
        "         2.90488590e+07,   2.91538700e+07,   2.92571130e+07,\n",
        "         2.93615255e+07,   2.94672730e+07,   2.95723010e+07,\n",
        "         2.96770700e+07,   2.97827690e+07,   2.98884075e+07,\n",
        "         2.99938645e+07,   3.00992740e+07,   3.02042965e+07,\n",
        "         3.03092745e+07,   3.04133715e+07,   3.05182420e+07,\n",
        "         3.06237445e+07,   3.07281590e+07,   3.08323355e+07,\n",
        "         3.09367030e+07,   3.10418570e+07,   3.11473610e+07,\n",
        "         3.12525610e+07,   3.13573280e+07,   3.14629860e+07,\n",
        "         3.15696395e+07,   3.16757245e+07,   3.17815905e+07,\n",
        "         3.18871290e+07,   3.19921280e+07,   3.20975945e+07,\n",
        "         3.22035415e+07,   3.23084155e+07,   3.24129675e+07,\n",
        "         3.25189115e+07,   3.26247760e+07,   3.27300525e+07,\n",
        "         3.28340815e+07,   3.29376815e+07,   3.30421755e+07,\n",
        "         3.31464555e+07,   3.32514570e+07,   3.33568515e+07,\n",
        "         3.34623120e+07,   3.35681670e+07,   3.36733680e+07,\n",
        "         3.37773405e+07,   3.38818785e+07,   3.39874950e+07,\n",
        "         3.40930945e+07,   3.41991795e+07,   3.43053075e+07,\n",
        "         3.44112695e+07,   3.45162855e+07,   3.46201180e+07,\n",
        "         3.47245920e+07,   3.48289285e+07,   3.49333280e+07,\n",
        "         3.50381065e+07,   3.51429450e+07,   3.52484370e+07,\n",
        "         3.53541575e+07,   3.54602315e+07,   3.55661580e+07,\n",
        "         3.56715625e+07,   3.57768555e+07,   3.58808635e+07,\n",
        "         3.59845580e+07,   3.60899980e+07,   3.61959860e+07,\n",
        "         3.63014940e+07,   3.64066505e+07,   3.65111510e+07,\n",
        "         3.66153685e+07,   3.67203340e+07,   3.68261925e+07,\n",
        "         3.69311870e+07,   3.70360830e+07,   3.71416690e+07,\n",
        "         3.72476115e+07,   3.73532260e+07,   3.74565540e+07,\n",
        "         3.75610880e+07,   3.76672670e+07,   3.77725360e+07,\n",
        "         3.78770100e+07,   3.79814240e+07,   3.80858710e+07,\n",
        "         3.81910165e+07,   3.82961000e+07,   3.84009630e+07,\n",
        "         3.85071045e+07,   3.86130210e+07,   3.87185750e+07,\n",
        "         3.88232270e+07,   3.89269635e+07,   3.90310300e+07,\n",
        "         3.91360785e+07,   3.92421590e+07,   3.93478315e+07,\n",
        "         3.94523530e+07,   3.95566600e+07,   3.96611505e+07,\n",
        "         3.97653150e+07,   3.98698995e+07,   3.99744980e+07,\n",
        "         4.00794100e+07,   4.01854560e+07,   4.02904410e+07,\n",
        "         4.03942790e+07,   4.04990155e+07,   4.06046070e+07,\n",
        "         4.07099635e+07,   4.08148615e+07,   4.09200865e+07,\n",
        "         4.10266825e+07,   4.11320220e+07,   4.12368010e+07,\n",
        "         4.13419645e+07,   4.14461075e+07,   4.15510210e+07,\n",
        "         4.16569890e+07,   4.17630150e+07,   4.18679845e+07,\n",
        "         4.19730815e+07,   4.20789425e+07,   4.21841700e+07,\n",
        "         4.22877620e+07,   4.23920940e+07,   4.24979080e+07,\n",
        "         4.26041300e+07,   4.27098325e+07,   4.28153175e+07,\n",
        "         4.29212070e+07,   4.30259735e+07,   4.31310970e+07,\n",
        "         4.32370280e+07,   4.33413525e+07,   4.34451125e+07,\n",
        "         4.35498200e+07,   4.36545830e+07,   4.37594580e+07,\n",
        "         4.38645990e+07,   4.39699845e+07,   4.40751420e+07,\n",
        "         4.41808850e+07,   4.42869580e+07,   4.43930765e+07,\n",
        "         4.44986170e+07,   4.46034245e+07,   4.47086085e+07,\n",
        "         4.48140140e+07,   4.49192755e+07,   4.50241500e+07,\n",
        "         4.51296100e+07,   4.52346810e+07,   4.53391615e+07,\n",
        "         4.54439615e+07,   4.55484695e+07,   4.56538930e+07,\n",
        "         4.57604430e+07,   4.58665955e+07,   4.59715805e+07,\n",
        "         4.60767985e+07,   4.61826990e+07,   4.62887490e+07,\n",
        "         4.63950470e+07,   4.65003205e+07,   4.66047475e+07,\n",
        "         4.67089440e+07,   4.68139025e+07,   4.69189720e+07,\n",
        "         4.70235845e+07,   4.71290880e+07,   4.72343705e+07,\n",
        "         4.73379025e+07,   4.74404365e+07,   4.75441065e+07,\n",
        "         4.76483515e+07,   4.77530410e+07,   4.78584570e+07,\n",
        "         4.79635130e+07,   4.80691270e+07,   4.81754865e+07,\n",
        "         4.82815795e+07,   4.83866440e+07,   4.84916520e+07,\n",
        "         4.85970490e+07,   4.87023915e+07,   4.88075095e+07,\n",
        "         4.89119395e+07,   4.90161410e+07,   4.91208445e+07,\n",
        "         4.92265740e+07,   4.93325300e+07,   4.94375620e+07,\n",
        "         4.95419060e+07,   4.96470420e+07,   4.97529325e+07,\n",
        "         4.98584880e+07,   4.99632315e+07,   5.00684760e+07,\n",
        "         5.01736790e+07,   5.02786235e+07,   5.03851005e+07,\n",
        "         5.04909970e+07,   5.05963690e+07,   5.07010515e+07,\n",
        "         5.08049880e+07,   5.09088145e+07,   5.10123745e+07,\n",
        "         5.11169535e+07,   5.12215660e+07,   5.13257815e+07,\n",
        "         5.14308850e+07,   5.15360620e+07,   5.16403215e+07,\n",
        "         5.17444080e+07,   5.18487310e+07,   5.19542575e+07,\n",
        "         5.20603770e+07,   5.21646985e+07,   5.22687635e+07,\n",
        "         5.23739950e+07,   5.24791210e+07,   5.25838050e+07,\n",
        "         5.26883090e+07,   5.27929925e+07,   5.28974725e+07,\n",
        "         5.30025615e+07,   5.31080405e+07,   5.32133865e+07,\n",
        "         5.33191785e+07,   5.34242755e+07,   5.35282245e+07,\n",
        "         5.36331655e+07,   5.37397560e+07,   5.38466330e+07,\n",
        "         5.39529230e+07,   5.40573265e+07,   5.41615360e+07,\n",
        "         5.42663185e+07,   5.43714360e+07,   5.44766930e+07,\n",
        "         5.45819165e+07,   5.46874625e+07,   5.47925300e+07,\n",
        "         5.48969155e+07,   5.50010180e+07,   5.51066825e+07,\n",
        "         5.52133140e+07,   5.53194430e+07,   5.54254775e+07,\n",
        "         5.55310270e+07,   5.56345595e+07,   5.57390505e+07,\n",
        "         5.58454590e+07,   5.59510685e+07,   5.60559480e+07,\n",
        "         5.61604445e+07,   5.62646305e+07,   5.63692045e+07,\n",
        "         5.64750575e+07,   5.65810225e+07,   5.66865900e+07,\n",
        "         5.67917140e+07,   5.68960750e+07,   5.70004050e+07,\n",
        "         5.71048830e+07,   5.72082485e+07,   5.73119560e+07,\n",
        "         5.74170625e+07,   5.75216510e+07,   5.76262485e+07,\n",
        "         5.77322940e+07,   5.78384115e+07,   5.79426985e+07,\n",
        "         5.80468180e+07,   5.81515495e+07,   5.82560370e+07,\n",
        "         5.83603660e+07,   5.84639955e+07,   5.85686560e+07,\n",
        "         5.86746680e+07,   5.87797365e+07,   5.88848185e+07,\n",
        "         5.89901390e+07,   5.90951345e+07,   5.92004110e+07,\n",
        "         5.93055945e+07,   5.94106320e+07,   5.95158905e+07,\n",
        "         5.96218465e+07,   5.97270075e+07,   5.98311180e+07,\n",
        "         5.99358995e+07,   6.00413100e+07,   6.01464515e+07,\n",
        "         6.02512395e+07,   6.03557985e+07,   6.04608350e+07,\n",
        "         6.05666025e+07,   6.06717935e+07,   6.07761315e+07,\n",
        "         6.08800080e+07,   6.09842605e+07,   6.10881895e+07,\n",
        "         6.11924825e+07,   6.12982500e+07,   6.14044180e+07,\n",
        "         6.15106180e+07,   6.16166290e+07,   6.17220315e+07,\n",
        "         6.18267220e+07,   6.19318390e+07,   6.20361480e+07,\n",
        "         6.21402870e+07,   6.22456595e+07,   6.23507230e+07,\n",
        "         6.24561770e+07,   6.25623820e+07,   6.26677970e+07,\n",
        "         6.27732865e+07,   6.28791480e+07,   6.29839005e+07,\n",
        "         6.30885930e+07,   6.31931085e+07,   6.32981885e+07,\n",
        "         6.34046485e+07,   6.35103575e+07,   6.36155600e+07,\n",
        "         6.37203850e+07,   6.38243840e+07,   6.39285140e+07,\n",
        "         6.40331275e+07,   6.41378575e+07,   6.42423400e+07,\n",
        "         6.43470985e+07,   6.44525160e+07,   6.45576450e+07,\n",
        "         6.46624825e+07,   6.47679095e+07,   6.48721125e+07,\n",
        "         6.49756410e+07,   6.50817210e+07,   6.51887105e+07,\n",
        "         6.52938640e+07,   6.53980000e+07,   6.55023410e+07,\n",
        "         6.56067365e+07,   6.57117425e+07,   6.58171885e+07,\n",
        "         6.59225830e+07,   6.60283420e+07,   6.61339120e+07,\n",
        "         6.62394235e+07,   6.63439435e+07,   6.64477935e+07,\n",
        "         6.65525800e+07,   6.66578510e+07,   6.67637700e+07,\n",
        "         6.68688545e+07,   6.69724160e+07,   6.70764865e+07,\n",
        "         6.71804365e+07,   6.72838385e+07,   6.73885245e+07,\n",
        "         6.74930715e+07,   6.75972135e+07,   6.77022045e+07,\n",
        "         6.78077810e+07,   6.79130105e+07,   6.80177735e+07,\n",
        "         6.81232310e+07,   6.82284195e+07,   6.83336740e+07,\n",
        "         6.84390305e+07,   6.85443390e+07,   6.86496950e+07,\n",
        "         6.87546250e+07,   6.88601475e+07,   6.89652525e+07,\n",
        "         6.90708805e+07,   6.91775985e+07,   6.92830260e+07,\n",
        "         6.93880270e+07,   6.94940430e+07,   6.96005780e+07,\n",
        "         6.97063910e+07,   6.98114470e+07,   6.99172870e+07,\n",
        "         7.00230275e+07,   7.01287345e+07,   7.02353605e+07,\n",
        "         7.03409610e+07,   7.04448230e+07,   7.05490510e+07,\n",
        "         7.06546480e+07,   7.07590145e+07,   7.08633485e+07,\n",
        "         7.09693690e+07,   7.10749365e+07,   7.11793515e+07,\n",
        "         7.12842170e+07,   7.13891090e+07,   7.14926310e+07,\n",
        "         7.15966245e+07,   7.17023850e+07,   7.18076470e+07,\n",
        "         7.19119035e+07,   7.20162520e+07,   7.21212475e+07,\n",
        "         7.22270090e+07,   7.23321875e+07,   7.24376790e+07,\n",
        "         7.25428695e+07,   7.26474030e+07,   7.27522175e+07,\n",
        "         7.28573225e+07,   7.29617605e+07,   7.30655880e+07,\n",
        "         7.31704140e+07,   7.32758440e+07,   7.33805190e+07,\n",
        "         7.34860540e+07,   7.35923615e+07,   7.36970275e+07,\n",
        "         7.38021910e+07,   7.39079660e+07,   7.40137125e+07,\n",
        "         7.41197365e+07,   7.42247425e+07,   7.43290495e+07,\n",
        "         7.44337575e+07,   7.45384590e+07,   7.46433775e+07,\n",
        "         7.47492885e+07,   7.48549950e+07,   7.49595645e+07,\n",
        "         7.50639475e+07,   7.51683530e+07,   7.52736010e+07,\n",
        "         7.53796985e+07,   7.54853610e+07,   7.55906790e+07,\n",
        "         7.56955515e+07,   7.57995415e+07,   7.59037385e+07,\n",
        "         7.60095385e+07,   7.61152665e+07,   7.62203285e+07,\n",
        "         7.63248120e+07,   7.64299585e+07,   7.65353385e+07,\n",
        "         7.66406605e+07,   7.67462105e+07,   7.68508950e+07,\n",
        "         7.69555440e+07,   7.70610990e+07,   7.71667585e+07,\n",
        "         7.72714110e+07,   7.73768155e+07,   7.74827520e+07,\n",
        "         7.75876320e+07,   7.76917610e+07,   7.77962545e+07,\n",
        "         7.79011630e+07,   7.80063305e+07,   7.81113775e+07,\n",
        "         7.82160145e+07,   7.83212775e+07,   7.84272030e+07,\n",
        "         7.85334000e+07,   7.86391680e+07,   7.87435030e+07,\n",
        "         7.88483310e+07,   7.89535155e+07,   7.90570245e+07,\n",
        "         7.91607075e+07,   7.92653010e+07,   7.93699110e+07,\n",
        "         7.94761815e+07,   7.95827660e+07,   7.96883870e+07,\n",
        "         7.97943260e+07,   7.98998815e+07,   8.00050520e+07,\n",
        "         8.01103355e+07,   8.02155930e+07,   8.03198995e+07,\n",
        "         8.04246880e+07,   8.05302825e+07,   8.06354250e+07,\n",
        "         8.07402485e+07,   8.08446545e+07,   8.09496670e+07,\n",
        "         8.10545005e+07,   8.11583150e+07,   8.12636250e+07,\n",
        "         8.13689860e+07,   8.14739825e+07,   8.15794785e+07,\n",
        "         8.16843590e+07,   8.17898040e+07,   8.18956020e+07,\n",
        "         8.20003575e+07,   8.21056005e+07,   8.22126880e+07,\n",
        "         8.23188365e+07,   8.24235175e+07,   8.25291575e+07,\n",
        "         8.26355815e+07,   8.27410785e+07,   8.28460980e+07,\n",
        "         8.29514980e+07,   8.30569605e+07,   8.31623765e+07,\n",
        "         8.32664000e+07,   8.33701945e+07,   8.34742105e+07,\n",
        "         8.35794050e+07,   8.36865755e+07,   8.37924720e+07,\n",
        "         8.38971810e+07,   8.40024260e+07,   8.41079385e+07,\n",
        "         8.42130270e+07,   8.43183845e+07,   8.44231335e+07,\n",
        "         8.45282435e+07,   8.46340865e+07,   8.47397690e+07,\n",
        "         8.48458310e+07,   8.49505160e+07,   8.50549595e+07,\n",
        "         8.51602995e+07,   8.52666510e+07,   8.53727410e+07,\n",
        "         8.54775295e+07,   8.55830545e+07,   8.56889920e+07,\n",
        "         8.57952660e+07,   8.59010875e+07,   8.60063155e+07,\n",
        "         8.61117785e+07,   8.62164635e+07,   8.63214505e+07,\n",
        "         8.64268920e+07,   8.65320755e+07,   8.66373950e+07,\n",
        "         8.67416825e+07,   8.68456620e+07,   8.69507670e+07,\n",
        "         8.70568515e+07,   8.71627940e+07,   8.72680780e+07,\n",
        "         8.73730045e+07,   8.74777285e+07,   8.75828805e+07,\n",
        "         8.76886760e+07,   8.77939630e+07,   8.78987290e+07,\n",
        "         8.80041810e+07,   8.81094790e+07,   8.82144335e+07,\n",
        "         8.83195615e+07,   8.84244685e+07,   8.85289405e+07,\n",
        "         8.86337610e+07,   8.87382920e+07,   8.88431605e+07,\n",
        "         8.89486955e+07,   8.90531360e+07,   8.91579010e+07,\n",
        "         8.92632090e+07,   8.93682425e+07,   8.94740685e+07,\n",
        "         8.95798000e+07,   8.96864575e+07,   8.97932660e+07,\n",
        "         8.98986005e+07,   9.00042830e+07,   9.01100680e+07,\n",
        "         9.02156920e+07,   9.03205590e+07,   9.04250170e+07,\n",
        "         9.05298510e+07,   9.06341570e+07,   9.07394075e+07,\n",
        "         9.08457035e+07,   9.09512975e+07,   9.10563015e+07,\n",
        "         9.11608515e+07,   9.12673335e+07,   9.13735180e+07,\n",
        "         9.14782830e+07,   9.15832910e+07,   9.16880480e+07,\n",
        "         9.17937645e+07,   9.18990960e+07,   9.20034755e+07,\n",
        "         9.21081135e+07,   9.22129500e+07,   9.23180690e+07,\n",
        "         9.24220010e+07,   9.25256685e+07,   9.26308280e+07,\n",
        "         9.27363890e+07,   9.28418130e+07,   9.29474730e+07,\n",
        "         9.30527480e+07,   9.31575730e+07,   9.32632160e+07,\n",
        "         9.33684250e+07,   9.34734575e+07,   9.35790035e+07,\n",
        "         9.36854970e+07,   9.37921015e+07,   9.38981140e+07,\n",
        "         9.40033605e+07,   9.41088205e+07,   9.42148495e+07,\n",
        "         9.43204235e+07,   9.44255165e+07,   9.45305865e+07,\n",
        "         9.46357950e+07,   9.47408375e+07,   9.48454150e+07,\n",
        "         9.49492855e+07,   9.50532620e+07,   9.51582415e+07,\n",
        "         9.52628865e+07,   9.53669110e+07,   9.54716240e+07,\n",
        "         9.55762315e+07,   9.56809450e+07,   9.57852825e+07,\n",
        "         9.58898050e+07,   9.59949880e+07,   9.61000245e+07,\n",
        "         9.62052765e+07,   9.63106960e+07,   9.64155430e+07,\n",
        "         9.65196925e+07,   9.66241700e+07,   9.67290740e+07,\n",
        "         9.68339875e+07,   9.69398755e+07,   9.70457835e+07,\n",
        "         9.71511315e+07,   9.72556255e+07,   9.73604365e+07,\n",
        "         9.74659480e+07,   9.75707265e+07,   9.76751245e+07,\n",
        "         9.77802620e+07,   9.78854340e+07,   9.79893305e+07,\n",
        "         9.80932215e+07,   9.81992570e+07,   9.83052815e+07,\n",
        "         9.84099410e+07,   9.85148540e+07,   9.86194245e+07,\n",
        "         9.87242925e+07,   9.88298015e+07,   9.89346895e+07,\n",
        "         9.90391095e+07,   9.91446460e+07,   9.92504775e+07,\n",
        "         9.93559820e+07,   9.94621355e+07,   9.95674260e+07,\n",
        "         9.96718155e+07,   9.97764715e+07,   9.98819600e+07,\n",
        "         9.99675635e+07])"
       ]
      }
     ],
     "prompt_number": 32
    },
    {
     "cell_type": "code",
     "collapsed": false,
     "input": [
      "plt.plot(x, y1);"
     ],
     "language": "python",
     "metadata": {},
     "outputs": [
      {
       "metadata": {},
       "output_type": "display_data",
       "png": "[encoded data removed]",
       "text": [
        "<matplotlib.figure.Figure at 0x7f0b829d4860>"
       ]
      }
     ],
     "prompt_number": 33
    },
    {
     "cell_type": "heading",
     "level": 2,
     "metadata": {},
     "source": [
      "Windowed statistic"
     ]
    },
    {
     "cell_type": "code",
     "collapsed": false,
     "input": [
      "h1, b, _ = scipy.stats.binned_statistic(pos, values, statistic='sum', bins=np.arange(0, 10000001, 10000))"
     ],
     "language": "python",
     "metadata": {},
     "outputs": [],
     "prompt_number": 15
    },
    {
     "cell_type": "code",
     "collapsed": false,
     "input": [
      "h2, w, c = allel.stats.windowed_statistic(pos, values, np.sum, 10000, start=0, stop=10000000, step=10000)"
     ],
     "language": "python",
     "metadata": {},
     "outputs": [],
     "prompt_number": 17
    },
    {
     "cell_type": "code",
     "collapsed": false,
     "input": [
      "h1.shape"
     ],
     "language": "python",
     "metadata": {},
     "outputs": [
      {
       "metadata": {},
       "output_type": "pyout",
       "prompt_number": 18,
       "text": [
        "(1000,)"
       ]
      }
     ],
     "prompt_number": 18
    },
    {
     "cell_type": "code",
     "collapsed": false,
     "input": [
      "h2.shape"
     ],
     "language": "python",
     "metadata": {},
     "outputs": [
      {
       "metadata": {},
       "output_type": "pyout",
       "prompt_number": 19,
       "text": [
        "(1000,)"
       ]
      }
     ],
     "prompt_number": 19
    },
    {
     "cell_type": "code",
     "collapsed": false,
     "input": [
      "h1[:5]"
     ],
     "language": "python",
     "metadata": {},
     "outputs": [
      {
       "metadata": {},
       "output_type": "pyout",
       "prompt_number": 20,
       "text": [
        "array([ 27760.,  27064.,  27875.,  27935.,  26279.])"
       ]
      }
     ],
     "prompt_number": 20
    },
    {
     "cell_type": "code",
     "collapsed": false,
     "input": [
      "h2[:5]"
     ],
     "language": "python",
     "metadata": {},
     "outputs": [
      {
       "metadata": {},
       "output_type": "pyout",
       "prompt_number": 21,
       "text": [
        "array([27760, 27064, 27875, 27935, 26279])"
       ]
      }
     ],
     "prompt_number": 21
    },
    {
     "cell_type": "code",
     "collapsed": false,
     "input": [
      "np.array_equal(h1, h2)"
     ],
     "language": "python",
     "metadata": {},
     "outputs": [
      {
       "metadata": {},
       "output_type": "pyout",
       "prompt_number": 22,
       "text": [
        "True"
       ]
      }
     ],
     "prompt_number": 22
    },
    {
     "cell_type": "code",
     "collapsed": false,
     "input": [
      "b"
     ],
     "language": "python",
     "metadata": {},
     "outputs": [
      {
       "metadata": {},
       "output_type": "pyout",
       "prompt_number": 23,
       "text": [
        "array([        0.,     10000.,     20000., ...,   9980000.,   9990000.,\n",
        "        10000000.])"
       ]
      }
     ],
     "prompt_number": 23
    },
    {
     "cell_type": "code",
     "collapsed": false,
     "input": [
      "w"
     ],
     "language": "python",
     "metadata": {},
     "outputs": [
      {
       "metadata": {},
       "output_type": "pyout",
       "prompt_number": 24,
       "text": [
        "array([[       0,     9999],\n",
        "       [   10000,    19999],\n",
        "       [   20000,    29999],\n",
        "       ..., \n",
        "       [ 9970000,  9979999],\n",
        "       [ 9980000,  9989999],\n",
        "       [ 9990000, 10000000]])"
       ]
      }
     ],
     "prompt_number": 24
    },
    {
     "cell_type": "code",
     "collapsed": false,
     "input": [
      "%timeit scipy.stats.binned_statistic(pos, values, statistic='sum', bins=np.arange(0, 100000000, 100000))"
     ],
     "language": "python",
     "metadata": {},
     "outputs": [
      {
       "output_type": "stream",
       "stream": "stdout",
       "text": [
        "1 loops, best of 3: 3.33 s per loop\n"
       ]
      }
     ],
     "prompt_number": 25
    },
    {
     "cell_type": "code",
     "collapsed": false,
     "input": [
      "%timeit allel.stats.windowed_statistic(pos, values, np.sum, 100000, start=0, stop=100000000)"
     ],
     "language": "python",
     "metadata": {},
     "outputs": [
      {
       "output_type": "stream",
       "stream": "stdout",
       "text": [
        "10 loops, best of 3: 68.7 ms per loop\n"
       ]
      }
     ],
     "prompt_number": 26
    },
    {
     "cell_type": "code",
     "collapsed": false,
     "input": [
      "%memit scipy.stats.binned_statistic(pos, values, statistic='sum', bins=np.arange(0, 100000000, 100000))"
     ],
     "language": "python",
     "metadata": {},
     "outputs": [
      {
       "output_type": "stream",
       "stream": "stdout",
       "text": [
        "peak memory: 546.89 MiB, increment: 290.31 MiB\n"
       ]
      }
     ],
     "prompt_number": 27
    },
    {
     "cell_type": "code",
     "collapsed": false,
     "input": [
      "%memit allel.stats.windowed_statistic(pos, values, np.sum, 100000, start=0, stop=100000000)"
     ],
     "language": "python",
     "metadata": {},
     "outputs": [
      {
       "output_type": "stream",
       "stream": "stdout",
       "text": [
        "peak memory: 329.35 MiB, increment: 72.61 MiB\n"
       ]
      }
     ],
     "prompt_number": 28
    },
    {
     "cell_type": "code",
     "collapsed": false,
     "input": [
      "plt.hist(h2);"
     ],
     "language": "python",
     "metadata": {},
     "outputs": [
      {
       "metadata": {},
       "output_type": "display_data",
       "png": "[encoded data removed]",
       "text": [
        "<matplotlib.figure.Figure at 0x7fd59d9085c0>"
       ]
      }
     ],
     "prompt_number": 29
    },
    {
     "cell_type": "heading",
     "level": 2,
     "metadata": {},
     "source": [
      "Slicing"
     ]
    },
    {
     "cell_type": "code",
     "collapsed": false,
     "input": [
      "class Foo(object):\n",
      "    \n",
      "    def __getitem__(self, *args):\n",
      "        print(args)"
     ],
     "language": "python",
     "metadata": {},
     "outputs": [],
     "prompt_number": 33
    },
    {
     "cell_type": "code",
     "collapsed": false,
     "input": [
      "x = Foo()"
     ],
     "language": "python",
     "metadata": {},
     "outputs": [],
     "prompt_number": 34
    },
    {
     "cell_type": "code",
     "collapsed": false,
     "input": [
      "x[0]"
     ],
     "language": "python",
     "metadata": {},
     "outputs": [
      {
       "output_type": "stream",
       "stream": "stdout",
       "text": [
        "(0,)\n"
       ]
      }
     ],
     "prompt_number": 35
    },
    {
     "cell_type": "code",
     "collapsed": false,
     "input": [
      "x[:]"
     ],
     "language": "python",
     "metadata": {},
     "outputs": [
      {
       "output_type": "stream",
       "stream": "stdout",
       "text": [
        "(slice(None, None, None),)\n"
       ]
      }
     ],
     "prompt_number": 36
    },
    {
     "cell_type": "code",
     "collapsed": false,
     "input": [
      "x[:, 0]"
     ],
     "language": "python",
     "metadata": {},
     "outputs": [
      {
       "output_type": "stream",
       "stream": "stdout",
       "text": [
        "((slice(None, None, None), 0),)\n"
       ]
      }
     ],
     "prompt_number": 37
    },
    {
     "cell_type": "code",
     "collapsed": false,
     "input": [
      "x[0, :]"
     ],
     "language": "python",
     "metadata": {},
     "outputs": [
      {
       "output_type": "stream",
       "stream": "stdout",
       "text": [
        "((0, slice(None, None, None)),)\n"
       ]
      }
     ],
     "prompt_number": 38
    },
    {
     "cell_type": "code",
     "collapsed": false,
     "input": [
      "x[...]"
     ],
     "language": "python",
     "metadata": {},
     "outputs": [
      {
       "output_type": "stream",
       "stream": "stdout",
       "text": [
        "(Ellipsis,)\n"
       ]
      }
     ],
     "prompt_number": 57
    },
    {
     "cell_type": "code",
     "collapsed": false,
     "input": [
      "x[0, ...]"
     ],
     "language": "python",
     "metadata": {},
     "outputs": [
      {
       "output_type": "stream",
       "stream": "stdout",
       "text": [
        "((0, Ellipsis),)\n"
       ]
      }
     ],
     "prompt_number": 58
    },
    {
     "cell_type": "code",
     "collapsed": false,
     "input": [
      "g = allel.model.GenotypeArray([[[0, 0], [0, 1]],\n",
      "                               [[0, 1], [1, 1]],\n",
      "                               [[0, 2], [-1, -1]]], dtype='i1')"
     ],
     "language": "python",
     "metadata": {},
     "outputs": [],
     "prompt_number": 49
    },
    {
     "cell_type": "code",
     "collapsed": false,
     "input": [
      "g.is_called()[:, 1]"
     ],
     "language": "python",
     "metadata": {},
     "outputs": [
      {
       "metadata": {},
       "output_type": "pyout",
       "prompt_number": 50,
       "text": [
        "array([ True,  True, False], dtype=bool)"
       ]
      }
     ],
     "prompt_number": 50
    },
    {
     "cell_type": "code",
     "collapsed": false,
     "input": [
      "g.subset(samples=[1]).is_called()[:, 0]"
     ],
     "language": "python",
     "metadata": {},
     "outputs": [
      {
       "metadata": {},
       "output_type": "pyout",
       "prompt_number": 51,
       "text": [
        "array([ True,  True, False], dtype=bool)"
       ]
      }
     ],
     "prompt_number": 51
    },
    {
     "cell_type": "code",
     "collapsed": false,
     "input": [
      "g[:, 0]"
     ],
     "language": "python",
     "metadata": {},
     "outputs": [
      {
       "metadata": {},
       "output_type": "pyout",
       "prompt_number": 52,
       "text": [
        "array([[0, 0],\n",
        "       [0, 1],\n",
        "       [0, 2]], dtype=int8)"
       ]
      }
     ],
     "prompt_number": 52
    },
    {
     "cell_type": "code",
     "collapsed": false,
     "input": [
      "allel.model.GenotypeArray.is_called(g[:, 1])"
     ],
     "language": "python",
     "metadata": {},
     "outputs": [
      {
       "metadata": {},
       "output_type": "pyout",
       "prompt_number": 56,
       "text": [
        "array([ True,  True, False], dtype=bool)"
       ]
      }
     ],
     "prompt_number": 56
    },
    {
     "cell_type": "code",
     "collapsed": false,
     "input": [
      "allel.model.GenotypeArray.is_called(g[2, :])"
     ],
     "language": "python",
     "metadata": {},
     "outputs": [
      {
       "metadata": {},
       "output_type": "pyout",
       "prompt_number": 61,
       "text": [
        "array([ True, False], dtype=bool)"
       ]
      }
     ],
     "prompt_number": 61
    },
    {
     "cell_type": "code",
     "collapsed": false,
     "input": [],
     "language": "python",
     "metadata": {},
     "outputs": []
    }
   ],
   "metadata": {}
  }
 ]
}