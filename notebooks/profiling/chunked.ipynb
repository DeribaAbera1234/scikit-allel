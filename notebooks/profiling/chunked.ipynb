{
 "cells": [
  {
   "cell_type": "code",
   "execution_count": 1,
   "metadata": {
    "collapsed": false
   },
   "outputs": [
    {
     "data": {
      "text/plain": [
       "'1.0.0.dev10'"
      ]
     },
     "execution_count": 1,
     "metadata": {},
     "output_type": "execute_result"
    }
   ],
   "source": [
    "import h5py\n",
    "import numpy as np\n",
    "import bcolz\n",
    "import allel\n",
    "allel.__version__"
   ]
  },
  {
   "cell_type": "code",
   "execution_count": 2,
   "metadata": {
    "collapsed": true
   },
   "outputs": [],
   "source": [
    "# data from http://www.malariagen.net/data/ag1000g-phase1-ar3\n",
    "callset = h5py.File('/data/coluzzi/ag1000g/data/phase1/release/AR3/variation/main/hdf5/ag1000g.phase1.ar3.pass.h5',\n",
    "                    mode='r')"
   ]
  },
  {
   "cell_type": "markdown",
   "metadata": {},
   "source": [
    "## GenotypeChunkedArray"
   ]
  },
  {
   "cell_type": "code",
   "execution_count": 3,
   "metadata": {
    "collapsed": false
   },
   "outputs": [
    {
     "data": {
      "text/html": [
       "<table class='petl'>\n",
       "<caption>GenotypeChunkedArray((9643193, 765, 2), int8, h5py._hl.dataset.Dataset)</caption>\n",
       "<thead>\n",
       "<tr>\n",
       "<th></th>\n",
       "<th>0</th>\n",
       "<th>1</th>\n",
       "<th>2</th>\n",
       "<th>3</th>\n",
       "<th>4</th>\n",
       "<th>...</th>\n",
       "<th>760</th>\n",
       "<th>761</th>\n",
       "<th>762</th>\n",
       "<th>763</th>\n",
       "<th>764</th>\n",
       "</tr>\n",
       "</thead>\n",
       "<tbody>\n",
       "<tr>\n",
       "<td style='font-weight: bold'>0</td>\n",
       "<td>0/0</td>\n",
       "<td>0/0</td>\n",
       "<td>0/0</td>\n",
       "<td>0/0</td>\n",
       "<td>0/0</td>\n",
       "<td>...</td>\n",
       "<td>0/0</td>\n",
       "<td>0/0</td>\n",
       "<td>0/0</td>\n",
       "<td>0/0</td>\n",
       "<td>0/0</td>\n",
       "</tr>\n",
       "<tr>\n",
       "<td style='font-weight: bold'>1</td>\n",
       "<td>0/0</td>\n",
       "<td>0/0</td>\n",
       "<td>0/0</td>\n",
       "<td>0/0</td>\n",
       "<td>0/0</td>\n",
       "<td>...</td>\n",
       "<td>0/0</td>\n",
       "<td>0/0</td>\n",
       "<td>0/0</td>\n",
       "<td>0/0</td>\n",
       "<td>0/0</td>\n",
       "</tr>\n",
       "<tr>\n",
       "<td style='font-weight: bold'>2</td>\n",
       "<td>0/0</td>\n",
       "<td>0/0</td>\n",
       "<td>0/0</td>\n",
       "<td>0/0</td>\n",
       "<td>0/0</td>\n",
       "<td>...</td>\n",
       "<td>0/0</td>\n",
       "<td>0/0</td>\n",
       "<td>0/0</td>\n",
       "<td>0/0</td>\n",
       "<td>0/0</td>\n",
       "</tr>\n",
       "<tr>\n",
       "<td style='font-weight: bold'>3</td>\n",
       "<td>0/0</td>\n",
       "<td>0/0</td>\n",
       "<td>0/0</td>\n",
       "<td>0/0</td>\n",
       "<td>0/0</td>\n",
       "<td>...</td>\n",
       "<td>0/0</td>\n",
       "<td>0/0</td>\n",
       "<td>0/0</td>\n",
       "<td>0/0</td>\n",
       "<td>0/0</td>\n",
       "</tr>\n",
       "<tr>\n",
       "<td style='font-weight: bold'>4</td>\n",
       "<td>0/0</td>\n",
       "<td>0/0</td>\n",
       "<td>0/0</td>\n",
       "<td>0/0</td>\n",
       "<td>0/0</td>\n",
       "<td>...</td>\n",
       "<td>0/0</td>\n",
       "<td>0/0</td>\n",
       "<td>0/0</td>\n",
       "<td>0/0</td>\n",
       "<td>0/0</td>\n",
       "</tr>\n",
       "</tbody>\n",
       "</table>\n",
       "<p><strong>...</strong></p>"
      ],
      "text/plain": [
       "GenotypeChunkedArray((9643193, 765, 2), int8, h5py._hl.dataset.Dataset)"
      ]
     },
     "execution_count": 3,
     "metadata": {},
     "output_type": "execute_result"
    }
   ],
   "source": [
    "genotype = allel.GenotypeChunkedArray(callset['3L/calldata/genotype'])\n",
    "genotype"
   ]
  },
  {
   "cell_type": "code",
   "execution_count": 4,
   "metadata": {
    "collapsed": false
   },
   "outputs": [
    {
     "name": "stdout",
     "output_type": "stream",
     "text": [
      "CPU times: user 46.1 s, sys: 240 ms, total: 46.3 s\n",
      "Wall time: 46.3 s\n"
     ]
    },
    {
     "data": {
      "text/plain": [
       "3"
      ]
     },
     "execution_count": 4,
     "metadata": {},
     "output_type": "execute_result"
    }
   ],
   "source": [
    "%time genotype.max()"
   ]
  },
  {
   "cell_type": "code",
   "execution_count": 4,
   "metadata": {
    "collapsed": false
   },
   "outputs": [
    {
     "name": "stdout",
     "output_type": "stream",
     "text": [
      "CPU times: user 2.98 s, sys: 44 ms, total: 3.02 s\n",
      "Wall time: 2.35 s\n"
     ]
    },
    {
     "data": {
      "text/plain": [
       "3"
      ]
     },
     "execution_count": 4,
     "metadata": {},
     "output_type": "execute_result"
    }
   ],
   "source": [
    "genotype_bcolzmem = genotype.copy(stop=1000000, storage='bcolzmem')\n",
    "%time genotype_bcolzmem.max()"
   ]
  },
  {
   "cell_type": "code",
   "execution_count": 5,
   "metadata": {
    "collapsed": false
   },
   "outputs": [
    {
     "name": "stdout",
     "output_type": "stream",
     "text": [
      "CPU times: user 2.98 s, sys: 108 ms, total: 3.09 s\n",
      "Wall time: 2.4 s\n"
     ]
    },
    {
     "data": {
      "text/plain": [
       "3"
      ]
     },
     "execution_count": 5,
     "metadata": {},
     "output_type": "execute_result"
    }
   ],
   "source": [
    "genotype_bcolztmp = genotype.copy(stop=1000000, storage='bcolztmp', dir='/magnetic')\n",
    "%time genotype_bcolztmp.max()"
   ]
  },
  {
   "cell_type": "code",
   "execution_count": 6,
   "metadata": {
    "collapsed": false
   },
   "outputs": [
    {
     "name": "stdout",
     "output_type": "stream",
     "text": [
      "CPU times: user 5.31 s, sys: 48 ms, total: 5.36 s\n",
      "Wall time: 2.85 s\n"
     ]
    },
    {
     "data": {
      "text/plain": [
       "3"
      ]
     },
     "execution_count": 6,
     "metadata": {},
     "output_type": "execute_result"
    }
   ],
   "source": [
    "genotype_bcolzmem_zlib1 = genotype.copy(stop=1000000, storage='bcolzmem_zlib1')\n",
    "%time genotype_bcolzmem_zlib1.max()"
   ]
  },
  {
   "cell_type": "code",
   "execution_count": 7,
   "metadata": {
    "collapsed": false
   },
   "outputs": [
    {
     "name": "stdout",
     "output_type": "stream",
     "text": [
      "CPU times: user 5.33 s, sys: 108 ms, total: 5.44 s\n",
      "Wall time: 2.98 s\n"
     ]
    },
    {
     "data": {
      "text/plain": [
       "3"
      ]
     },
     "execution_count": 7,
     "metadata": {},
     "output_type": "execute_result"
    }
   ],
   "source": [
    "genotype_bcolztmp_zlib1 = genotype.copy(stop=1000000, storage='bcolztmp_zlib1', dir='/magnetic')\n",
    "%time genotype_bcolztmp_zlib1.max()"
   ]
  },
  {
   "cell_type": "code",
   "execution_count": 8,
   "metadata": {
    "collapsed": false
   },
   "outputs": [
    {
     "name": "stdout",
     "output_type": "stream",
     "text": [
      "CPU times: user 4.28 s, sys: 0 ns, total: 4.28 s\n",
      "Wall time: 4.27 s\n"
     ]
    },
    {
     "data": {
      "text/plain": [
       "3"
      ]
     },
     "execution_count": 8,
     "metadata": {},
     "output_type": "execute_result"
    }
   ],
   "source": [
    "genotype_hdf5mem_zlib1 = genotype.copy(stop=1000000, storage='hdf5mem_zlib1')\n",
    "%time genotype_hdf5mem_zlib1.max()"
   ]
  },
  {
   "cell_type": "code",
   "execution_count": 9,
   "metadata": {
    "collapsed": false
   },
   "outputs": [
    {
     "name": "stdout",
     "output_type": "stream",
     "text": [
      "CPU times: user 4.35 s, sys: 12 ms, total: 4.36 s\n",
      "Wall time: 4.36 s\n"
     ]
    },
    {
     "data": {
      "text/plain": [
       "3"
      ]
     },
     "execution_count": 9,
     "metadata": {},
     "output_type": "execute_result"
    }
   ],
   "source": [
    "genotype_hdf5tmp_zlib1 = genotype.copy(stop=1000000, storage='hdf5tmp_zlib1', dir='/magnetic')\n",
    "%time genotype_hdf5tmp_zlib1.max()"
   ]
  },
  {
   "cell_type": "markdown",
   "metadata": {},
   "source": [
    "### Tune default HDF5 chunk size"
   ]
  },
  {
   "cell_type": "code",
   "execution_count": 14,
   "metadata": {
    "collapsed": false
   },
   "outputs": [
    {
     "data": {
      "text/plain": [
       "2741"
      ]
     },
     "execution_count": 14,
     "metadata": {},
     "output_type": "execute_result"
    }
   ],
   "source": [
    "genotype.copy(storage='bcolzmem').chunklen"
   ]
  },
  {
   "cell_type": "code",
   "execution_count": 15,
   "metadata": {
    "collapsed": false
   },
   "outputs": [
    {
     "data": {
      "text/plain": [
       "1370"
      ]
     },
     "execution_count": 15,
     "metadata": {},
     "output_type": "execute_result"
    }
   ],
   "source": [
    "genotype_bcolzmem.chunklen"
   ]
  },
  {
   "cell_type": "code",
   "execution_count": 12,
   "metadata": {
    "collapsed": false
   },
   "outputs": [
    {
     "data": {
      "text/plain": [
       "(685, 765, 2)"
      ]
     },
     "execution_count": 12,
     "metadata": {},
     "output_type": "execute_result"
    }
   ],
   "source": [
    "genotype_hdf5mem_zlib1.chunks"
   ]
  },
  {
   "cell_type": "code",
   "execution_count": 11,
   "metadata": {
    "collapsed": false
   },
   "outputs": [
    {
     "name": "stdout",
     "output_type": "stream",
     "text": [
      "32768 21\n",
      "CPU times: user 11.7 s, sys: 0 ns, total: 11.7 s\n",
      "Wall time: 11.7 s\n",
      "65536 42\n",
      "CPU times: user 8.16 s, sys: 0 ns, total: 8.16 s\n",
      "Wall time: 8.15 s\n",
      "131072 85\n",
      "CPU times: user 5.77 s, sys: 0 ns, total: 5.77 s\n",
      "Wall time: 5.77 s\n",
      "262144 171\n",
      "CPU times: user 4.83 s, sys: 4 ms, total: 4.84 s\n",
      "Wall time: 4.83 s\n",
      "524288 342\n",
      "CPU times: user 4.44 s, sys: 0 ns, total: 4.44 s\n",
      "Wall time: 4.44 s\n",
      "1048576 685\n",
      "CPU times: user 4.28 s, sys: 0 ns, total: 4.28 s\n",
      "Wall time: 4.27 s\n",
      "2097152 1370\n",
      "CPU times: user 4.14 s, sys: 0 ns, total: 4.14 s\n",
      "Wall time: 4.14 s\n",
      "4194304 2741\n",
      "CPU times: user 4.1 s, sys: 0 ns, total: 4.1 s\n",
      "Wall time: 4.09 s\n",
      "8388608 5482\n",
      "CPU times: user 4 s, sys: 0 ns, total: 4 s\n",
      "Wall time: 3.99 s\n"
     ]
    }
   ],
   "source": [
    "for chunksize in 2**15, 2**16, 2**17, 2**18, 2**19, 2**20, 2**21, 2**22, 2**23:\n",
    "    chunklen = chunksize // (genotype.shape[1] * genotype.shape[2])\n",
    "    chunks = (chunklen,) + genotype.shape[1:]\n",
    "    print(chunksize, chunklen)\n",
    "    genotype_hdf5mem_zlib1_bigchunks = genotype.copy(stop=1000000, storage='hdf5mem_zlib1', chunks=chunks)\n",
    "    %time genotype_hdf5mem_zlib1_bigchunks.max()"
   ]
  },
  {
   "cell_type": "markdown",
   "metadata": {},
   "source": [
    "### Excercise methods"
   ]
  },
  {
   "cell_type": "code",
   "execution_count": 11,
   "metadata": {
    "collapsed": false
   },
   "outputs": [
    {
     "name": "stdout",
     "output_type": "stream",
     "text": [
      "CPU times: user 6.88 s, sys: 116 ms, total: 6.99 s\n",
      "Wall time: 2.88 s\n"
     ]
    },
    {
     "data": {
      "text/plain": [
       "ChunkedArray((1000000, 765), bool, bcolz.carray_ext.carray)"
      ]
     },
     "execution_count": 11,
     "metadata": {},
     "output_type": "execute_result"
    }
   ],
   "source": [
    "%time genotype_bcolzmem.is_called()"
   ]
  },
  {
   "cell_type": "code",
   "execution_count": 13,
   "metadata": {
    "collapsed": false
   },
   "outputs": [
    {
     "name": "stdout",
     "output_type": "stream",
     "text": [
      "CPU times: user 10.9 s, sys: 88 ms, total: 11 s\n",
      "Wall time: 7.53 s\n"
     ]
    },
    {
     "data": {
      "text/plain": [
       "ChunkedArray((1000000, 765), bool, h5py._hl.dataset.Dataset)"
      ]
     },
     "execution_count": 13,
     "metadata": {},
     "output_type": "execute_result"
    }
   ],
   "source": [
    "%time genotype_hdf5mem_zlib1.is_called(storage='hdf5mem_zlib1')"
   ]
  },
  {
   "cell_type": "code",
   "execution_count": 15,
   "metadata": {
    "collapsed": false
   },
   "outputs": [
    {
     "name": "stdout",
     "output_type": "stream",
     "text": [
      "CPU times: user 9.38 s, sys: 76 ms, total: 9.46 s\n",
      "Wall time: 3.77 s\n"
     ]
    },
    {
     "data": {
      "text/plain": [
       "28029171"
      ]
     },
     "execution_count": 15,
     "metadata": {},
     "output_type": "execute_result"
    }
   ],
   "source": [
    "%time genotype_bcolzmem.count_het()"
   ]
  },
  {
   "cell_type": "code",
   "execution_count": 16,
   "metadata": {
    "collapsed": false
   },
   "outputs": [
    {
     "name": "stdout",
     "output_type": "stream",
     "text": [
      "CPU times: user 11.2 s, sys: 72 ms, total: 11.3 s\n",
      "Wall time: 6.3 s\n"
     ]
    },
    {
     "data": {
      "text/plain": [
       "28029171"
      ]
     },
     "execution_count": 16,
     "metadata": {},
     "output_type": "execute_result"
    }
   ],
   "source": [
    "%time genotype_hdf5mem_zlib1.count_het()"
   ]
  },
  {
   "cell_type": "code",
   "execution_count": 17,
   "metadata": {
    "collapsed": false
   },
   "outputs": [
    {
     "data": {
      "text/html": [
       "<table class='petl'>\n",
       "<caption>AlleleCountsChunkedArray((1000000, 4), int32, bcolz.carray_ext.carray)</caption>\n",
       "<thead>\n",
       "<tr>\n",
       "<th></th>\n",
       "<th>0</th>\n",
       "<th>1</th>\n",
       "<th>2</th>\n",
       "<th>3</th>\n",
       "</tr>\n",
       "</thead>\n",
       "<tbody>\n",
       "<tr>\n",
       "<td style='font-weight: bold'>0</td>\n",
       "<td>1527</td>\n",
       "<td>3</td>\n",
       "<td>0</td>\n",
       "<td>0</td>\n",
       "</tr>\n",
       "<tr>\n",
       "<td style='font-weight: bold'>1</td>\n",
       "<td>1529</td>\n",
       "<td>1</td>\n",
       "<td>0</td>\n",
       "<td>0</td>\n",
       "</tr>\n",
       "<tr>\n",
       "<td style='font-weight: bold'>2</td>\n",
       "<td>1528</td>\n",
       "<td>2</td>\n",
       "<td>0</td>\n",
       "<td>0</td>\n",
       "</tr>\n",
       "<tr>\n",
       "<td style='font-weight: bold'>3</td>\n",
       "<td>1528</td>\n",
       "<td>2</td>\n",
       "<td>0</td>\n",
       "<td>0</td>\n",
       "</tr>\n",
       "<tr>\n",
       "<td style='font-weight: bold'>4</td>\n",
       "<td>1526</td>\n",
       "<td>4</td>\n",
       "<td>0</td>\n",
       "<td>0</td>\n",
       "</tr>\n",
       "</tbody>\n",
       "</table>\n",
       "<p><strong>...</strong></p>"
      ],
      "text/plain": [
       "AlleleCountsChunkedArray((1000000, 4), int32, bcolz.carray_ext.carray)"
      ]
     },
     "execution_count": 17,
     "metadata": {},
     "output_type": "execute_result"
    }
   ],
   "source": [
    "ac = genotype_bcolzmem.count_alleles()\n",
    "ac"
   ]
  },
  {
   "cell_type": "code",
   "execution_count": 18,
   "metadata": {
    "collapsed": false
   },
   "outputs": [
    {
     "data": {
      "text/html": [
       "<table class='petl'>\n",
       "<caption>AlleleCountsArray((1000000, 4), dtype=int32)</caption>\n",
       "<thead>\n",
       "<tr>\n",
       "<th></th>\n",
       "<th>0</th>\n",
       "<th>1</th>\n",
       "<th>2</th>\n",
       "<th>3</th>\n",
       "</tr>\n",
       "</thead>\n",
       "<tbody>\n",
       "<tr>\n",
       "<td style='font-weight: bold'>0</td>\n",
       "<td>1527</td>\n",
       "<td>3</td>\n",
       "<td>0</td>\n",
       "<td>0</td>\n",
       "</tr>\n",
       "<tr>\n",
       "<td style='font-weight: bold'>1</td>\n",
       "<td>1529</td>\n",
       "<td>1</td>\n",
       "<td>0</td>\n",
       "<td>0</td>\n",
       "</tr>\n",
       "<tr>\n",
       "<td style='font-weight: bold'>2</td>\n",
       "<td>1528</td>\n",
       "<td>2</td>\n",
       "<td>0</td>\n",
       "<td>0</td>\n",
       "</tr>\n",
       "<tr>\n",
       "<td style='font-weight: bold'>3</td>\n",
       "<td>1528</td>\n",
       "<td>2</td>\n",
       "<td>0</td>\n",
       "<td>0</td>\n",
       "</tr>\n",
       "<tr>\n",
       "<td style='font-weight: bold'>4</td>\n",
       "<td>1526</td>\n",
       "<td>4</td>\n",
       "<td>0</td>\n",
       "<td>0</td>\n",
       "</tr>\n",
       "</tbody>\n",
       "</table>\n",
       "<p><strong>...</strong></p>"
      ],
      "text/plain": [
       "AlleleCountsArray((1000000, 4), dtype=int32)\n",
       "[[1527    3    0    0]\n",
       " [1529    1    0    0]\n",
       " [1528    2    0    0]\n",
       " ..., \n",
       " [1443   85    2    0]\n",
       " [1500   30    0    0]\n",
       " [1529    1    0    0]]"
      ]
     },
     "execution_count": 18,
     "metadata": {},
     "output_type": "execute_result"
    }
   ],
   "source": [
    "ac[:]"
   ]
  },
  {
   "cell_type": "code",
   "execution_count": 19,
   "metadata": {
    "collapsed": false
   },
   "outputs": [
    {
     "ename": "ValueError",
     "evalue": "`cols` input is not supported",
     "output_type": "error",
     "traceback": [
      "\u001b[1;31m---------------------------------------------------------------------------\u001b[0m",
      "\u001b[1;31mValueError\u001b[0m                                Traceback (most recent call last)",
      "\u001b[1;32m<ipython-input-19-b6ff2d138bea>\u001b[0m in \u001b[0;36m<module>\u001b[1;34m()\u001b[0m\n\u001b[0;32m      1\u001b[0m acs = genotype_bcolzmem.count_alleles_subpops(subpops={'pop1': list(range(100)),\n\u001b[0;32m      2\u001b[0m                                                        'pop2': list(range(100, 200))},\n\u001b[1;32m----> 3\u001b[1;33m                                               max_allele=3)\n\u001b[0m\u001b[0;32m      4\u001b[0m \u001b[0macs\u001b[0m\u001b[1;33m\u001b[0m\u001b[0m\n",
      "\u001b[1;32m/usr/local/lib/python3.4/dist-packages/scikit_allel-1.0.0.dev10-py3.4-linux-x86_64.egg/allel/model/chunked/ext.py\u001b[0m in \u001b[0;36mcount_alleles_subpops\u001b[1;34m(self, subpops, max_allele, **kwargs)\u001b[0m\n\u001b[0;32m    250\u001b[0m         \u001b[1;32mdef\u001b[0m \u001b[0mf\u001b[0m\u001b[1;33m(\u001b[0m\u001b[0mblock\u001b[0m\u001b[1;33m)\u001b[0m\u001b[1;33m:\u001b[0m\u001b[1;33m\u001b[0m\u001b[0m\n\u001b[0;32m    251\u001b[0m             \u001b[1;32mreturn\u001b[0m \u001b[0mblock\u001b[0m\u001b[1;33m.\u001b[0m\u001b[0mcount_alleles_subpops\u001b[0m\u001b[1;33m(\u001b[0m\u001b[0msubpops\u001b[0m\u001b[1;33m,\u001b[0m \u001b[0mmax_allele\u001b[0m\u001b[1;33m=\u001b[0m\u001b[0mmax_allele\u001b[0m\u001b[1;33m)\u001b[0m\u001b[1;33m\u001b[0m\u001b[0m\n\u001b[1;32m--> 252\u001b[1;33m         \u001b[0mout\u001b[0m \u001b[1;33m=\u001b[0m \u001b[0m_core\u001b[0m\u001b[1;33m.\u001b[0m\u001b[0mapply\u001b[0m\u001b[1;33m(\u001b[0m\u001b[0mself\u001b[0m\u001b[1;33m,\u001b[0m \u001b[0mf\u001b[0m\u001b[1;33m,\u001b[0m \u001b[0mcreate\u001b[0m\u001b[1;33m=\u001b[0m\u001b[1;34m'table'\u001b[0m\u001b[1;33m,\u001b[0m \u001b[1;33m**\u001b[0m\u001b[0mkwargs\u001b[0m\u001b[1;33m)\u001b[0m\u001b[1;33m\u001b[0m\u001b[0m\n\u001b[0m\u001b[0;32m    253\u001b[0m         \u001b[1;32mreturn\u001b[0m \u001b[0mAlleleCountsChunkedTable\u001b[0m\u001b[1;33m(\u001b[0m\u001b[0mout\u001b[0m\u001b[1;33m)\u001b[0m\u001b[1;33m\u001b[0m\u001b[0m\n\u001b[0;32m    254\u001b[0m \u001b[1;33m\u001b[0m\u001b[0m\n",
      "\u001b[1;32m/usr/local/lib/python3.4/dist-packages/scikit_allel-1.0.0.dev10-py3.4-linux-x86_64.egg/allel/model/chunked/core.py\u001b[0m in \u001b[0;36mapply\u001b[1;34m(data, f, blen, storage, create, **kwargs)\u001b[0m\n\u001b[0;32m     95\u001b[0m             \u001b[0mout\u001b[0m \u001b[1;33m=\u001b[0m \u001b[0mgetattr\u001b[0m\u001b[1;33m(\u001b[0m\u001b[0mstorage\u001b[0m\u001b[1;33m,\u001b[0m \u001b[0mcreate\u001b[0m\u001b[1;33m)\u001b[0m\u001b[1;33m(\u001b[0m\u001b[0mres\u001b[0m\u001b[1;33m,\u001b[0m \u001b[0mexpectedlen\u001b[0m\u001b[1;33m=\u001b[0m\u001b[0mlength\u001b[0m\u001b[1;33m,\u001b[0m \u001b[1;33m**\u001b[0m\u001b[0mkwargs\u001b[0m\u001b[1;33m)\u001b[0m\u001b[1;33m\u001b[0m\u001b[0m\n\u001b[0;32m     96\u001b[0m         \u001b[1;32melse\u001b[0m\u001b[1;33m:\u001b[0m\u001b[1;33m\u001b[0m\u001b[0m\n\u001b[1;32m---> 97\u001b[1;33m             \u001b[0mout\u001b[0m\u001b[1;33m.\u001b[0m\u001b[0mappend\u001b[0m\u001b[1;33m(\u001b[0m\u001b[0mres\u001b[0m\u001b[1;33m)\u001b[0m\u001b[1;33m\u001b[0m\u001b[0m\n\u001b[0m\u001b[0;32m     98\u001b[0m \u001b[1;33m\u001b[0m\u001b[0m\n\u001b[0;32m     99\u001b[0m     \u001b[1;32mreturn\u001b[0m \u001b[0mout\u001b[0m\u001b[1;33m\u001b[0m\u001b[0m\n",
      "\u001b[1;32m/usr/local/lib/python3.4/dist-packages/bcolz/ctable.py\u001b[0m in \u001b[0;36mappend\u001b[1;34m(self, cols)\u001b[0m\n\u001b[0;32m    359\u001b[0m             \u001b[0mcalist\u001b[0m \u001b[1;33m=\u001b[0m \u001b[1;32mTrue\u001b[0m\u001b[1;33m\u001b[0m\u001b[0m\n\u001b[0;32m    360\u001b[0m         \u001b[1;32melse\u001b[0m\u001b[1;33m:\u001b[0m\u001b[1;33m\u001b[0m\u001b[0m\n\u001b[1;32m--> 361\u001b[1;33m             \u001b[1;32mraise\u001b[0m \u001b[0mValueError\u001b[0m\u001b[1;33m(\u001b[0m\u001b[1;34m\"`cols` input is not supported\"\u001b[0m\u001b[1;33m)\u001b[0m\u001b[1;33m\u001b[0m\u001b[0m\n\u001b[0m\u001b[0;32m    362\u001b[0m         \u001b[1;32mif\u001b[0m \u001b[1;32mnot\u001b[0m \u001b[1;33m(\u001b[0m\u001b[0mcalist\u001b[0m \u001b[1;32mor\u001b[0m \u001b[0mnalist\u001b[0m \u001b[1;32mor\u001b[0m \u001b[0msclist\u001b[0m \u001b[1;32mor\u001b[0m \u001b[0mratype\u001b[0m\u001b[1;33m)\u001b[0m\u001b[1;33m:\u001b[0m\u001b[1;33m\u001b[0m\u001b[0m\n\u001b[0;32m    363\u001b[0m             \u001b[1;32mraise\u001b[0m \u001b[0mValueError\u001b[0m\u001b[1;33m(\u001b[0m\u001b[1;34m\"`cols` input is not supported\"\u001b[0m\u001b[1;33m)\u001b[0m\u001b[1;33m\u001b[0m\u001b[0m\n",
      "\u001b[1;31mValueError\u001b[0m: `cols` input is not supported"
     ]
    }
   ],
   "source": [
    "acs = genotype_bcolzmem.count_alleles_subpops(subpops={'pop1': list(range(100)),\n",
    "                                                       'pop2': list(range(100, 200))},\n",
    "                                              max_allele=3)\n",
    "acs"
   ]
  },
  {
   "cell_type": "code",
   "execution_count": null,
   "metadata": {
    "collapsed": true
   },
   "outputs": [],
   "source": []
  },
  {
   "cell_type": "markdown",
   "metadata": {},
   "source": [
    "## Sysadmin"
   ]
  },
  {
   "cell_type": "code",
   "execution_count": 17,
   "metadata": {
    "collapsed": false
   },
   "outputs": [
    {
     "name": "stdout",
     "output_type": "stream",
     "text": [
      "Uninstalling scikit-allel-1.0.0.dev10:\n",
      "  /usr/local/lib/python3.4/dist-packages/scikit_allel-1.0.0.dev10-py3.4-linux-x86_64.egg\n",
      "Proceed (y/n)?   Successfully uninstalled scikit-allel-1.0.0.dev10\n",
      "yes: standard output: Broken pipe\n",
      "yes: write error\n"
     ]
    }
   ],
   "source": [
    "!yes | pip3 uninstall scikit-allel"
   ]
  },
  {
   "cell_type": "code",
   "execution_count": 18,
   "metadata": {
    "collapsed": false
   },
   "outputs": [
    {
     "name": "stdout",
     "output_type": "stream",
     "text": [
      "running install\n",
      "Checking .pth file support in /usr/local/lib/python3.4/dist-packages/\n",
      "/usr/bin/python3 -E -c pass\n",
      "TEST PASSED: /usr/local/lib/python3.4/dist-packages/ appears to support .pth files\n",
      "running bdist_egg\n",
      "running egg_info\n",
      "writing dependency_links to scikit_allel.egg-info/dependency_links.txt\n",
      "writing scikit_allel.egg-info/PKG-INFO\n",
      "writing top-level names to scikit_allel.egg-info/top_level.txt\n",
      "reading manifest file 'scikit_allel.egg-info/SOURCES.txt'\n",
      "reading manifest template 'MANIFEST.in'\n",
      "writing manifest file 'scikit_allel.egg-info/SOURCES.txt'\n",
      "installing library code to build/bdist.linux-x86_64/egg\n",
      "running install_lib\n",
      "running build_py\n",
      "copying ./allel/model/chunked/__init__.py -> build/lib.linux-x86_64-3.4/allel/model/chunked\n",
      "copying ./allel/model/chunked/ext.py -> build/lib.linux-x86_64-3.4/allel/model/chunked\n",
      "copying ./allel/model/chunked/storage_hdf5.py -> build/lib.linux-x86_64-3.4/allel/model/chunked\n",
      "copying ./allel/model/chunked/core.py -> build/lib.linux-x86_64-3.4/allel/model/chunked\n",
      "copying ./allel/test/test_model_chunked.py -> build/lib.linux-x86_64-3.4/allel/test\n",
      "running build_ext\n",
      "creating build/bdist.linux-x86_64/egg\n",
      "creating build/bdist.linux-x86_64/egg/allel\n",
      "copying build/lib.linux-x86_64-3.4/allel/compat.py -> build/bdist.linux-x86_64/egg/allel\n",
      "creating build/bdist.linux-x86_64/egg/allel/stats\n",
      "copying build/lib.linux-x86_64-3.4/allel/stats/fst.py -> build/bdist.linux-x86_64/egg/allel/stats\n",
      "copying build/lib.linux-x86_64-3.4/allel/stats/decomposition.py -> build/bdist.linux-x86_64/egg/allel/stats\n",
      "copying build/lib.linux-x86_64-3.4/allel/stats/distance.py -> build/bdist.linux-x86_64/egg/allel/stats\n",
      "copying build/lib.linux-x86_64-3.4/allel/stats/__init__.py -> build/bdist.linux-x86_64/egg/allel/stats\n",
      "copying build/lib.linux-x86_64-3.4/allel/stats/diversity.py -> build/bdist.linux-x86_64/egg/allel/stats\n",
      "copying build/lib.linux-x86_64-3.4/allel/stats/preprocessing.py -> build/bdist.linux-x86_64/egg/allel/stats\n",
      "copying build/lib.linux-x86_64-3.4/allel/stats/admixture.py -> build/bdist.linux-x86_64/egg/allel/stats\n",
      "copying build/lib.linux-x86_64-3.4/allel/stats/ld.py -> build/bdist.linux-x86_64/egg/allel/stats\n",
      "copying build/lib.linux-x86_64-3.4/allel/stats/hw.py -> build/bdist.linux-x86_64/egg/allel/stats\n",
      "copying build/lib.linux-x86_64-3.4/allel/stats/sf.py -> build/bdist.linux-x86_64/egg/allel/stats\n",
      "copying build/lib.linux-x86_64-3.4/allel/stats/window.py -> build/bdist.linux-x86_64/egg/allel/stats\n",
      "copying build/lib.linux-x86_64-3.4/allel/stats/misc.py -> build/bdist.linux-x86_64/egg/allel/stats\n",
      "copying build/lib.linux-x86_64-3.4/allel/stats/selection.py -> build/bdist.linux-x86_64/egg/allel/stats\n",
      "creating build/bdist.linux-x86_64/egg/allel/test\n",
      "copying build/lib.linux-x86_64-3.4/allel/test/test_model_bcolz.py -> build/bdist.linux-x86_64/egg/allel/test\n",
      "copying build/lib.linux-x86_64-3.4/allel/test/__init__.py -> build/bdist.linux-x86_64/egg/allel/test\n",
      "copying build/lib.linux-x86_64-3.4/allel/test/test_stats.py -> build/bdist.linux-x86_64/egg/allel/test\n",
      "copying build/lib.linux-x86_64-3.4/allel/test/tools.py -> build/bdist.linux-x86_64/egg/allel/test\n",
      "copying build/lib.linux-x86_64-3.4/allel/test/test_model_api.py -> build/bdist.linux-x86_64/egg/allel/test\n",
      "copying build/lib.linux-x86_64-3.4/allel/test/test_model_ndarray.py -> build/bdist.linux-x86_64/egg/allel/test\n",
      "copying build/lib.linux-x86_64-3.4/allel/test/test_model_chunked.py -> build/bdist.linux-x86_64/egg/allel/test\n",
      "copying build/lib.linux-x86_64-3.4/allel/plot.py -> build/bdist.linux-x86_64/egg/allel\n",
      "copying build/lib.linux-x86_64-3.4/allel/__init__.py -> build/bdist.linux-x86_64/egg/allel\n",
      "creating build/bdist.linux-x86_64/egg/allel/model\n",
      "copying build/lib.linux-x86_64-3.4/allel/model/__init__.py -> build/bdist.linux-x86_64/egg/allel/model\n",
      "creating build/bdist.linux-x86_64/egg/allel/model/chunked\n",
      "copying build/lib.linux-x86_64-3.4/allel/model/chunked/__init__.py -> build/bdist.linux-x86_64/egg/allel/model/chunked\n",
      "copying build/lib.linux-x86_64-3.4/allel/model/chunked/ext.py -> build/bdist.linux-x86_64/egg/allel/model/chunked\n",
      "copying build/lib.linux-x86_64-3.4/allel/model/chunked/util.py -> build/bdist.linux-x86_64/egg/allel/model/chunked\n",
      "copying build/lib.linux-x86_64-3.4/allel/model/chunked/storage_hdf5.py -> build/bdist.linux-x86_64/egg/allel/model/chunked\n",
      "copying build/lib.linux-x86_64-3.4/allel/model/chunked/core.py -> build/bdist.linux-x86_64/egg/allel/model/chunked\n",
      "copying build/lib.linux-x86_64-3.4/allel/model/chunked/storage_bcolz.py -> build/bdist.linux-x86_64/egg/allel/model/chunked\n",
      "copying build/lib.linux-x86_64-3.4/allel/model/ndarray.py -> build/bdist.linux-x86_64/egg/allel/model\n",
      "copying build/lib.linux-x86_64-3.4/allel/model/bcolz.py -> build/bdist.linux-x86_64/egg/allel/model\n",
      "copying build/lib.linux-x86_64-3.4/allel/constants.py -> build/bdist.linux-x86_64/egg/allel\n",
      "copying build/lib.linux-x86_64-3.4/allel/io.py -> build/bdist.linux-x86_64/egg/allel\n",
      "copying build/lib.linux-x86_64-3.4/allel/util.py -> build/bdist.linux-x86_64/egg/allel\n",
      "creating build/bdist.linux-x86_64/egg/allel/opt\n",
      "copying build/lib.linux-x86_64-3.4/allel/opt/__init__.py -> build/bdist.linux-x86_64/egg/allel/opt\n",
      "copying build/lib.linux-x86_64-3.4/allel/opt/stats.cpython-34m.so -> build/bdist.linux-x86_64/egg/allel/opt\n",
      "copying build/lib.linux-x86_64-3.4/allel/opt/model.cpython-34m.so -> build/bdist.linux-x86_64/egg/allel/opt\n",
      "byte-compiling build/bdist.linux-x86_64/egg/allel/compat.py to compat.cpython-34.pyc\n",
      "byte-compiling build/bdist.linux-x86_64/egg/allel/stats/fst.py to fst.cpython-34.pyc\n",
      "byte-compiling build/bdist.linux-x86_64/egg/allel/stats/decomposition.py to decomposition.cpython-34.pyc\n",
      "byte-compiling build/bdist.linux-x86_64/egg/allel/stats/distance.py to distance.cpython-34.pyc\n",
      "byte-compiling build/bdist.linux-x86_64/egg/allel/stats/__init__.py to __init__.cpython-34.pyc\n",
      "byte-compiling build/bdist.linux-x86_64/egg/allel/stats/diversity.py to diversity.cpython-34.pyc\n",
      "byte-compiling build/bdist.linux-x86_64/egg/allel/stats/preprocessing.py to preprocessing.cpython-34.pyc\n",
      "byte-compiling build/bdist.linux-x86_64/egg/allel/stats/admixture.py to admixture.cpython-34.pyc\n",
      "byte-compiling build/bdist.linux-x86_64/egg/allel/stats/ld.py to ld.cpython-34.pyc\n",
      "byte-compiling build/bdist.linux-x86_64/egg/allel/stats/hw.py to hw.cpython-34.pyc\n",
      "byte-compiling build/bdist.linux-x86_64/egg/allel/stats/sf.py to sf.cpython-34.pyc\n",
      "byte-compiling build/bdist.linux-x86_64/egg/allel/stats/window.py to window.cpython-34.pyc\n",
      "byte-compiling build/bdist.linux-x86_64/egg/allel/stats/misc.py to misc.cpython-34.pyc\n",
      "byte-compiling build/bdist.linux-x86_64/egg/allel/stats/selection.py to selection.cpython-34.pyc\n",
      "byte-compiling build/bdist.linux-x86_64/egg/allel/test/test_model_bcolz.py to test_model_bcolz.cpython-34.pyc\n",
      "byte-compiling build/bdist.linux-x86_64/egg/allel/test/__init__.py to __init__.cpython-34.pyc\n",
      "byte-compiling build/bdist.linux-x86_64/egg/allel/test/test_stats.py to test_stats.cpython-34.pyc\n",
      "byte-compiling build/bdist.linux-x86_64/egg/allel/test/tools.py to tools.cpython-34.pyc\n",
      "byte-compiling build/bdist.linux-x86_64/egg/allel/test/test_model_api.py to test_model_api.cpython-34.pyc\n",
      "byte-compiling build/bdist.linux-x86_64/egg/allel/test/test_model_ndarray.py to test_model_ndarray.cpython-34.pyc\n",
      "byte-compiling build/bdist.linux-x86_64/egg/allel/test/test_model_chunked.py to test_model_chunked.cpython-34.pyc\n",
      "byte-compiling build/bdist.linux-x86_64/egg/allel/plot.py to plot.cpython-34.pyc\n",
      "byte-compiling build/bdist.linux-x86_64/egg/allel/__init__.py to __init__.cpython-34.pyc\n",
      "byte-compiling build/bdist.linux-x86_64/egg/allel/model/__init__.py to __init__.cpython-34.pyc\n",
      "byte-compiling build/bdist.linux-x86_64/egg/allel/model/chunked/__init__.py to __init__.cpython-34.pyc\n",
      "byte-compiling build/bdist.linux-x86_64/egg/allel/model/chunked/ext.py to ext.cpython-34.pyc\n",
      "byte-compiling build/bdist.linux-x86_64/egg/allel/model/chunked/util.py to util.cpython-34.pyc\n",
      "byte-compiling build/bdist.linux-x86_64/egg/allel/model/chunked/storage_hdf5.py to storage_hdf5.cpython-34.pyc\n",
      "byte-compiling build/bdist.linux-x86_64/egg/allel/model/chunked/core.py to core.cpython-34.pyc\n",
      "byte-compiling build/bdist.linux-x86_64/egg/allel/model/chunked/storage_bcolz.py to storage_bcolz.cpython-34.pyc\n",
      "byte-compiling build/bdist.linux-x86_64/egg/allel/model/ndarray.py to ndarray.cpython-34.pyc\n",
      "byte-compiling build/bdist.linux-x86_64/egg/allel/model/bcolz.py to bcolz.cpython-34.pyc\n",
      "byte-compiling build/bdist.linux-x86_64/egg/allel/constants.py to constants.cpython-34.pyc\n",
      "byte-compiling build/bdist.linux-x86_64/egg/allel/io.py to io.cpython-34.pyc\n",
      "byte-compiling build/bdist.linux-x86_64/egg/allel/util.py to util.cpython-34.pyc\n",
      "byte-compiling build/bdist.linux-x86_64/egg/allel/opt/__init__.py to __init__.cpython-34.pyc\n",
      "creating stub loader for allel/opt/model.cpython-34m.so\n",
      "creating stub loader for allel/opt/stats.cpython-34m.so\n",
      "byte-compiling build/bdist.linux-x86_64/egg/allel/opt/model.py to model.cpython-34.pyc\n",
      "byte-compiling build/bdist.linux-x86_64/egg/allel/opt/stats.py to stats.cpython-34.pyc\n",
      "creating build/bdist.linux-x86_64/egg/EGG-INFO\n",
      "copying scikit_allel.egg-info/PKG-INFO -> build/bdist.linux-x86_64/egg/EGG-INFO\n",
      "copying scikit_allel.egg-info/SOURCES.txt -> build/bdist.linux-x86_64/egg/EGG-INFO\n",
      "copying scikit_allel.egg-info/dependency_links.txt -> build/bdist.linux-x86_64/egg/EGG-INFO\n",
      "copying scikit_allel.egg-info/pbr.json -> build/bdist.linux-x86_64/egg/EGG-INFO\n",
      "copying scikit_allel.egg-info/top_level.txt -> build/bdist.linux-x86_64/egg/EGG-INFO\n",
      "writing build/bdist.linux-x86_64/egg/EGG-INFO/native_libs.txt\n",
      "zip_safe flag not set; analyzing archive contents...\n",
      "allel.opt.__pycache__.stats.cpython-34: module references __file__\n",
      "allel.opt.__pycache__.model.cpython-34: module references __file__\n",
      "creating 'dist/scikit_allel-1.0.0.dev10-py3.4-linux-x86_64.egg' and adding 'build/bdist.linux-x86_64/egg' to it\n",
      "removing 'build/bdist.linux-x86_64/egg' (and everything under it)\n",
      "Processing scikit_allel-1.0.0.dev10-py3.4-linux-x86_64.egg\n",
      "creating /usr/local/lib/python3.4/dist-packages/scikit_allel-1.0.0.dev10-py3.4-linux-x86_64.egg\n",
      "Extracting scikit_allel-1.0.0.dev10-py3.4-linux-x86_64.egg to /usr/local/lib/python3.4/dist-packages\n",
      "Adding scikit-allel 1.0.0.dev10 to easy-install.pth file\n",
      "\n",
      "Installed /usr/local/lib/python3.4/dist-packages/scikit_allel-1.0.0.dev10-py3.4-linux-x86_64.egg\n",
      "Processing dependencies for scikit-allel==1.0.0.dev10\n",
      "Finished processing dependencies for scikit-allel==1.0.0.dev10\n"
     ]
    }
   ],
   "source": [
    "!cd /src/github/cggh/scikit-allel/ && python3 setup.py install"
   ]
  },
  {
   "cell_type": "code",
   "execution_count": null,
   "metadata": {
    "collapsed": true
   },
   "outputs": [],
   "source": []
  }
 ],
 "metadata": {
  "kernelspec": {
   "display_name": "Python 3",
   "language": "python",
   "name": "python3"
  },
  "language_info": {
   "codemirror_mode": {
    "name": "ipython",
    "version": 3
   },
   "file_extension": ".py",
   "mimetype": "text/x-python",
   "name": "python",
   "nbconvert_exporter": "python",
   "pygments_lexer": "ipython3",
   "version": "3.4.3"
  }
 },
 "nbformat": 4,
 "nbformat_minor": 0
}
