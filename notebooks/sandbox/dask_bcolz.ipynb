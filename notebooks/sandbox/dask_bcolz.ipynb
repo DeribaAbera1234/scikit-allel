{
 "cells": [
  {
   "cell_type": "code",
   "execution_count": 3,
   "metadata": {
    "collapsed": false
   },
   "outputs": [
    {
     "name": "stdout",
     "output_type": "stream",
     "text": [
      "dask 0.7.5\n",
      "h5py 2.5.0\n",
      "scikit-allel 0.21.0.dev0\n"
     ]
    }
   ],
   "source": [
    "import numpy as np\n",
    "import dask\n",
    "print('dask', dask.__version__)\n",
    "import dask.array as da\n",
    "import h5py\n",
    "print('h5py', h5py.__version__)\n",
    "import sys\n",
    "sys.path.insert(0, '../..')\n",
    "import allel\n",
    "print('scikit-allel', allel.__version__)"
   ]
  },
  {
   "cell_type": "code",
   "execution_count": 2,
   "metadata": {
    "collapsed": false
   },
   "outputs": [
    {
     "name": "stdout",
     "output_type": "stream",
     "text": [
      "bcolz 0.12.1\n"
     ]
    }
   ],
   "source": [
    "import bcolz\n",
    "print('bcolz', bcolz.__version__)"
   ]
  },
  {
   "cell_type": "code",
   "execution_count": 17,
   "metadata": {
    "collapsed": false
   },
   "outputs": [
    {
     "data": {
      "text/plain": [
       "('1.4.1', '$Date:: 2014-07-08 #$')"
      ]
     },
     "execution_count": 17,
     "metadata": {},
     "output_type": "execute_result"
    }
   ],
   "source": [
    "bcolz.blosc_version()"
   ]
  },
  {
   "cell_type": "code",
   "execution_count": 3,
   "metadata": {
    "collapsed": false
   },
   "outputs": [
    {
     "data": {
      "text/plain": [
       "4"
      ]
     },
     "execution_count": 3,
     "metadata": {},
     "output_type": "execute_result"
    }
   ],
   "source": [
    "bcolz.detect_number_of_cores()"
   ]
  },
  {
   "cell_type": "markdown",
   "metadata": {},
   "source": [
    "Let's use some real data..."
   ]
  },
  {
   "cell_type": "code",
   "execution_count": 4,
   "metadata": {
    "collapsed": false
   },
   "outputs": [
    {
     "data": {
      "text/plain": [
       "<HDF5 file \"ag1000g.phase1.ar3.pass.h5\" (mode r)>"
      ]
     },
     "execution_count": 4,
     "metadata": {},
     "output_type": "execute_result"
    }
   ],
   "source": [
    "callset = h5py.File('/data/coluzzi/ag1000g/data/phase1/release/AR3/variation/main/hdf5/ag1000g.phase1.ar3.pass.h5', mode='r')\n",
    "callset"
   ]
  },
  {
   "cell_type": "code",
   "execution_count": 5,
   "metadata": {
    "collapsed": false
   },
   "outputs": [
    {
     "data": {
      "text/html": [
       "<table class='petl'>\n",
       "<caption>GenotypeChunkedArray((9643193, 765, 2), int8, nbytes=13.7G, cbytes=548.0M, cratio=25.7, cname=gzip, clevel=3, shuffle=False, chunks=(6553, 10, 2), data=h5py._hl.dataset.Dataset)</caption>\n",
       "<thead>\n",
       "<tr>\n",
       "<th></th>\n",
       "<th>0</th>\n",
       "<th>1</th>\n",
       "<th>2</th>\n",
       "<th>3</th>\n",
       "<th>4</th>\n",
       "<th>...</th>\n",
       "<th>760</th>\n",
       "<th>761</th>\n",
       "<th>762</th>\n",
       "<th>763</th>\n",
       "<th>764</th>\n",
       "</tr>\n",
       "</thead>\n",
       "<tbody>\n",
       "<tr>\n",
       "<td style='font-weight: bold'>0</td>\n",
       "<td>0/0</td>\n",
       "<td>0/0</td>\n",
       "<td>0/0</td>\n",
       "<td>0/0</td>\n",
       "<td>0/0</td>\n",
       "<td>...</td>\n",
       "<td>0/0</td>\n",
       "<td>0/0</td>\n",
       "<td>0/0</td>\n",
       "<td>0/0</td>\n",
       "<td>0/0</td>\n",
       "</tr>\n",
       "<tr>\n",
       "<td style='font-weight: bold'>1</td>\n",
       "<td>0/0</td>\n",
       "<td>0/0</td>\n",
       "<td>0/0</td>\n",
       "<td>0/0</td>\n",
       "<td>0/0</td>\n",
       "<td>...</td>\n",
       "<td>0/0</td>\n",
       "<td>0/0</td>\n",
       "<td>0/0</td>\n",
       "<td>0/0</td>\n",
       "<td>0/0</td>\n",
       "</tr>\n",
       "<tr>\n",
       "<td style='font-weight: bold'>2</td>\n",
       "<td>0/0</td>\n",
       "<td>0/0</td>\n",
       "<td>0/0</td>\n",
       "<td>0/0</td>\n",
       "<td>0/0</td>\n",
       "<td>...</td>\n",
       "<td>0/0</td>\n",
       "<td>0/0</td>\n",
       "<td>0/0</td>\n",
       "<td>0/0</td>\n",
       "<td>0/0</td>\n",
       "</tr>\n",
       "<tr>\n",
       "<td style='font-weight: bold'>3</td>\n",
       "<td>0/0</td>\n",
       "<td>0/0</td>\n",
       "<td>0/0</td>\n",
       "<td>0/0</td>\n",
       "<td>0/0</td>\n",
       "<td>...</td>\n",
       "<td>0/0</td>\n",
       "<td>0/0</td>\n",
       "<td>0/0</td>\n",
       "<td>0/0</td>\n",
       "<td>0/0</td>\n",
       "</tr>\n",
       "<tr>\n",
       "<td style='font-weight: bold'>4</td>\n",
       "<td>0/0</td>\n",
       "<td>0/0</td>\n",
       "<td>0/0</td>\n",
       "<td>0/0</td>\n",
       "<td>0/0</td>\n",
       "<td>...</td>\n",
       "<td>0/0</td>\n",
       "<td>0/0</td>\n",
       "<td>0/0</td>\n",
       "<td>0/0</td>\n",
       "<td>0/0</td>\n",
       "</tr>\n",
       "</tbody>\n",
       "</table>\n",
       "<p><strong>...</strong></p>"
      ],
      "text/plain": [
       "GenotypeChunkedArray((9643193, 765, 2), int8, nbytes=13.7G, cbytes=548.0M, cratio=25.7, cname=gzip, clevel=3, shuffle=False, chunks=(6553, 10, 2), data=h5py._hl.dataset.Dataset)"
      ]
     },
     "execution_count": 5,
     "metadata": {},
     "output_type": "execute_result"
    }
   ],
   "source": [
    "genotype = allel.model.chunked.GenotypeChunkedArray(callset['3L/calldata/genotype'])\n",
    "genotype"
   ]
  },
  {
   "cell_type": "markdown",
   "metadata": {},
   "source": [
    "Copy the first 2 million rows into a bcolz carray to use for benchmarking."
   ]
  },
  {
   "cell_type": "code",
   "execution_count": 6,
   "metadata": {
    "collapsed": false
   },
   "outputs": [
    {
     "data": {
      "text/html": [
       "<table class='petl'>\n",
       "<caption>GenotypeChunkedArray((2000000, 765, 2), int8, nbytes=2.8G, cbytes=149.6M, cratio=19.5, cname=blosclz, clevel=5, shuffle=True, chunks=(1370, 765, 2), data=bcolz.carray_ext.carray)</caption>\n",
       "<thead>\n",
       "<tr>\n",
       "<th></th>\n",
       "<th>0</th>\n",
       "<th>1</th>\n",
       "<th>2</th>\n",
       "<th>3</th>\n",
       "<th>4</th>\n",
       "<th>...</th>\n",
       "<th>760</th>\n",
       "<th>761</th>\n",
       "<th>762</th>\n",
       "<th>763</th>\n",
       "<th>764</th>\n",
       "</tr>\n",
       "</thead>\n",
       "<tbody>\n",
       "<tr>\n",
       "<td style='font-weight: bold'>0</td>\n",
       "<td>0/0</td>\n",
       "<td>0/0</td>\n",
       "<td>0/0</td>\n",
       "<td>0/0</td>\n",
       "<td>0/0</td>\n",
       "<td>...</td>\n",
       "<td>0/0</td>\n",
       "<td>0/0</td>\n",
       "<td>0/0</td>\n",
       "<td>0/0</td>\n",
       "<td>0/0</td>\n",
       "</tr>\n",
       "<tr>\n",
       "<td style='font-weight: bold'>1</td>\n",
       "<td>0/0</td>\n",
       "<td>0/0</td>\n",
       "<td>0/0</td>\n",
       "<td>0/0</td>\n",
       "<td>0/0</td>\n",
       "<td>...</td>\n",
       "<td>0/0</td>\n",
       "<td>0/0</td>\n",
       "<td>0/0</td>\n",
       "<td>0/0</td>\n",
       "<td>0/0</td>\n",
       "</tr>\n",
       "<tr>\n",
       "<td style='font-weight: bold'>2</td>\n",
       "<td>0/0</td>\n",
       "<td>0/0</td>\n",
       "<td>0/0</td>\n",
       "<td>0/0</td>\n",
       "<td>0/0</td>\n",
       "<td>...</td>\n",
       "<td>0/0</td>\n",
       "<td>0/0</td>\n",
       "<td>0/0</td>\n",
       "<td>0/0</td>\n",
       "<td>0/0</td>\n",
       "</tr>\n",
       "<tr>\n",
       "<td style='font-weight: bold'>3</td>\n",
       "<td>0/0</td>\n",
       "<td>0/0</td>\n",
       "<td>0/0</td>\n",
       "<td>0/0</td>\n",
       "<td>0/0</td>\n",
       "<td>...</td>\n",
       "<td>0/0</td>\n",
       "<td>0/0</td>\n",
       "<td>0/0</td>\n",
       "<td>0/0</td>\n",
       "<td>0/0</td>\n",
       "</tr>\n",
       "<tr>\n",
       "<td style='font-weight: bold'>4</td>\n",
       "<td>0/0</td>\n",
       "<td>0/0</td>\n",
       "<td>0/0</td>\n",
       "<td>0/0</td>\n",
       "<td>0/0</td>\n",
       "<td>...</td>\n",
       "<td>0/0</td>\n",
       "<td>0/0</td>\n",
       "<td>0/0</td>\n",
       "<td>0/0</td>\n",
       "<td>0/0</td>\n",
       "</tr>\n",
       "</tbody>\n",
       "</table>\n",
       "<p><strong>...</strong></p>"
      ],
      "text/plain": [
       "GenotypeChunkedArray((2000000, 765, 2), int8, nbytes=2.8G, cbytes=149.6M, cratio=19.5, cname=blosclz, clevel=5, shuffle=True, chunks=(1370, 765, 2), data=bcolz.carray_ext.carray)"
      ]
     },
     "execution_count": 6,
     "metadata": {},
     "output_type": "execute_result"
    }
   ],
   "source": [
    "g = genotype.copy(stop=2000000)\n",
    "g"
   ]
  },
  {
   "cell_type": "markdown",
   "metadata": {},
   "source": [
    "Out of interest, what chunk size did bcolz choose?"
   ]
  },
  {
   "cell_type": "code",
   "execution_count": 5,
   "metadata": {
    "collapsed": false
   },
   "outputs": [
    {
     "data": {
      "text/plain": [
       "2096100"
      ]
     },
     "execution_count": 5,
     "metadata": {},
     "output_type": "execute_result"
    }
   ],
   "source": [
    "g.data.chunklen * g.shape[1] * g.shape[2]"
   ]
  },
  {
   "cell_type": "markdown",
   "metadata": {},
   "source": [
    "How long does it take to decompress the data?"
   ]
  },
  {
   "cell_type": "code",
   "execution_count": 6,
   "metadata": {
    "collapsed": true
   },
   "outputs": [],
   "source": [
    "def toarray(x):\n",
    "    np.asarray(x)"
   ]
  },
  {
   "cell_type": "code",
   "execution_count": 9,
   "metadata": {
    "collapsed": false
   },
   "outputs": [
    {
     "name": "stdout",
     "output_type": "stream",
     "text": [
      "--- blosc threads: 1 ---\n",
      "CPU times: user 1.83 s, sys: 152 ms, total: 1.98 s\n",
      "Wall time: 1.97 s\n",
      "\n",
      "--- blosc threads: 2 ---\n",
      "CPU times: user 1.97 s, sys: 272 ms, total: 2.24 s\n",
      "Wall time: 1.44 s\n",
      "\n",
      "--- blosc threads: 4 ---\n",
      "CPU times: user 2.37 s, sys: 252 ms, total: 2.62 s\n",
      "Wall time: 1.41 s\n",
      "\n",
      "--- blosc threads: 8 ---\n",
      "CPU times: user 2.32 s, sys: 292 ms, total: 2.61 s\n",
      "Wall time: 1.47 s\n",
      "\n"
     ]
    }
   ],
   "source": [
    "for n in 1, 2, 4, 8:\n",
    "    bcolz.blosc_set_nthreads(n)\n",
    "    print('--- blosc threads:', n, '---')\n",
    "    %time toarray(g)\n",
    "    print()"
   ]
  },
  {
   "cell_type": "markdown",
   "metadata": {},
   "source": [
    "How long does it take to compute the maximum value?"
   ]
  },
  {
   "cell_type": "code",
   "execution_count": 7,
   "metadata": {
    "collapsed": true
   },
   "outputs": [],
   "source": [
    "def time_max(x):\n",
    "    x = np.asarray(x)\n",
    "    %time x.max()"
   ]
  },
  {
   "cell_type": "code",
   "execution_count": 11,
   "metadata": {
    "collapsed": false
   },
   "outputs": [
    {
     "name": "stdout",
     "output_type": "stream",
     "text": [
      "CPU times: user 2.98 s, sys: 0 ns, total: 2.98 s\n",
      "Wall time: 2.97 s\n"
     ]
    }
   ],
   "source": [
    "time_max(g)"
   ]
  },
  {
   "cell_type": "markdown",
   "metadata": {},
   "source": [
    "Check that scikit-allel's chunked implementation of max() behaves as expected. Implementation is not threaded so time should equal time to decompress data plus time to compute max."
   ]
  },
  {
   "cell_type": "code",
   "execution_count": 12,
   "metadata": {
    "collapsed": false
   },
   "outputs": [
    {
     "name": "stdout",
     "output_type": "stream",
     "text": [
      "--- blosc threads: 1 ---\n",
      "CPU times: user 5 s, sys: 0 ns, total: 5 s\n",
      "Wall time: 4.98 s\n",
      "\n",
      "--- blosc threads: 2 ---\n",
      "CPU times: user 5.97 s, sys: 84 ms, total: 6.06 s\n",
      "Wall time: 4.98 s\n",
      "\n",
      "--- blosc threads: 4 ---\n",
      "CPU times: user 6.36 s, sys: 76 ms, total: 6.43 s\n",
      "Wall time: 4.92 s\n",
      "\n",
      "--- blosc threads: 8 ---\n",
      "CPU times: user 6.03 s, sys: 212 ms, total: 6.24 s\n",
      "Wall time: 4.65 s\n",
      "\n"
     ]
    }
   ],
   "source": [
    "for n in 1, 2, 4, 8:\n",
    "    bcolz.blosc_set_nthreads(n)\n",
    "    print('--- blosc threads:', n, '---')\n",
    "    %time g.max()\n",
    "    print()"
   ]
  },
  {
   "cell_type": "markdown",
   "metadata": {},
   "source": [
    "Now see how dask behaves."
   ]
  },
  {
   "cell_type": "code",
   "execution_count": 13,
   "metadata": {
    "collapsed": false
   },
   "outputs": [
    {
     "data": {
      "text/html": [
       "<table class='petl'>\n",
       "<caption>GenotypeDaskArray&lt;from-ar..., shape=(2000000, 765, 2), dtype=int8, chunksize=(1370, 765, 2)></caption>\n",
       "<thead>\n",
       "<tr>\n",
       "<th></th>\n",
       "<th>0</th>\n",
       "<th>1</th>\n",
       "<th>2</th>\n",
       "<th>3</th>\n",
       "<th>4</th>\n",
       "<th>...</th>\n",
       "<th>760</th>\n",
       "<th>761</th>\n",
       "<th>762</th>\n",
       "<th>763</th>\n",
       "<th>764</th>\n",
       "</tr>\n",
       "</thead>\n",
       "<tbody>\n",
       "<tr>\n",
       "<td style='font-weight: bold'>0</td>\n",
       "<td>0/0</td>\n",
       "<td>0/0</td>\n",
       "<td>0/0</td>\n",
       "<td>0/0</td>\n",
       "<td>0/0</td>\n",
       "<td>...</td>\n",
       "<td>0/0</td>\n",
       "<td>0/0</td>\n",
       "<td>0/0</td>\n",
       "<td>0/0</td>\n",
       "<td>0/0</td>\n",
       "</tr>\n",
       "<tr>\n",
       "<td style='font-weight: bold'>1</td>\n",
       "<td>0/0</td>\n",
       "<td>0/0</td>\n",
       "<td>0/0</td>\n",
       "<td>0/0</td>\n",
       "<td>0/0</td>\n",
       "<td>...</td>\n",
       "<td>0/0</td>\n",
       "<td>0/0</td>\n",
       "<td>0/0</td>\n",
       "<td>0/0</td>\n",
       "<td>0/0</td>\n",
       "</tr>\n",
       "<tr>\n",
       "<td style='font-weight: bold'>2</td>\n",
       "<td>0/0</td>\n",
       "<td>0/0</td>\n",
       "<td>0/0</td>\n",
       "<td>0/0</td>\n",
       "<td>0/0</td>\n",
       "<td>...</td>\n",
       "<td>0/0</td>\n",
       "<td>0/0</td>\n",
       "<td>0/0</td>\n",
       "<td>0/0</td>\n",
       "<td>0/0</td>\n",
       "</tr>\n",
       "<tr>\n",
       "<td style='font-weight: bold'>3</td>\n",
       "<td>0/0</td>\n",
       "<td>0/0</td>\n",
       "<td>0/0</td>\n",
       "<td>0/0</td>\n",
       "<td>0/0</td>\n",
       "<td>...</td>\n",
       "<td>0/0</td>\n",
       "<td>0/0</td>\n",
       "<td>0/0</td>\n",
       "<td>0/0</td>\n",
       "<td>0/0</td>\n",
       "</tr>\n",
       "<tr>\n",
       "<td style='font-weight: bold'>4</td>\n",
       "<td>0/0</td>\n",
       "<td>0/0</td>\n",
       "<td>0/0</td>\n",
       "<td>0/0</td>\n",
       "<td>0/0</td>\n",
       "<td>...</td>\n",
       "<td>0/0</td>\n",
       "<td>0/0</td>\n",
       "<td>0/0</td>\n",
       "<td>0/0</td>\n",
       "<td>0/0</td>\n",
       "</tr>\n",
       "</tbody>\n",
       "</table>\n",
       "<p><strong>...</strong></p>"
      ],
      "text/plain": [
       "GenotypeDaskArray<from-ar..., shape=(2000000, 765, 2), dtype=int8, chunksize=(1370, 765, 2)>"
      ]
     },
     "execution_count": 13,
     "metadata": {},
     "output_type": "execute_result"
    }
   ],
   "source": [
    "gd = allel.GenotypeDaskArray.from_array(g)\n",
    "gd"
   ]
  },
  {
   "cell_type": "code",
   "execution_count": 14,
   "metadata": {
    "collapsed": false
   },
   "outputs": [
    {
     "name": "stdout",
     "output_type": "stream",
     "text": [
      "--- blosc threads: 1 ; dask threads: 1 ---\n",
      "CPU times: user 7.09 s, sys: 824 ms, total: 7.92 s\n",
      "Wall time: 7.73 s\n",
      "\n",
      "--- blosc threads: 1 ; dask threads: 2 ---\n",
      "CPU times: user 6.57 s, sys: 1.57 s, total: 8.14 s\n",
      "Wall time: 5.16 s\n",
      "\n",
      "--- blosc threads: 1 ; dask threads: 4 ---\n",
      "CPU times: user 7.46 s, sys: 1.66 s, total: 9.12 s\n",
      "Wall time: 4.07 s\n",
      "\n",
      "--- blosc threads: 1 ; dask threads: 8 ---\n",
      "CPU times: user 7.52 s, sys: 1.1 s, total: 8.62 s\n",
      "Wall time: 3.93 s\n",
      "\n",
      "--- blosc threads: 2 ; dask threads: 1 ---\n",
      "CPU times: user 7.76 s, sys: 1.74 s, total: 9.51 s\n",
      "Wall time: 7.85 s\n",
      "\n",
      "--- blosc threads: 2 ; dask threads: 2 ---\n",
      "CPU times: user 7.15 s, sys: 1.76 s, total: 8.91 s\n",
      "Wall time: 4.57 s\n",
      "\n",
      "--- blosc threads: 2 ; dask threads: 4 ---\n",
      "CPU times: user 7.56 s, sys: 1.57 s, total: 9.14 s\n",
      "Wall time: 3.79 s\n",
      "\n",
      "--- blosc threads: 2 ; dask threads: 8 ---\n",
      "CPU times: user 7.62 s, sys: 1.69 s, total: 9.31 s\n",
      "Wall time: 3.85 s\n",
      "\n",
      "--- blosc threads: 4 ; dask threads: 1 ---\n",
      "CPU times: user 7.55 s, sys: 2.06 s, total: 9.6 s\n",
      "Wall time: 7.56 s\n",
      "\n",
      "--- blosc threads: 4 ; dask threads: 2 ---\n",
      "CPU times: user 7.12 s, sys: 1.75 s, total: 8.87 s\n",
      "Wall time: 4.42 s\n",
      "\n",
      "--- blosc threads: 4 ; dask threads: 4 ---\n",
      "CPU times: user 7.82 s, sys: 1.84 s, total: 9.67 s\n",
      "Wall time: 3.6 s\n",
      "\n",
      "--- blosc threads: 4 ; dask threads: 8 ---\n",
      "CPU times: user 7.72 s, sys: 1.88 s, total: 9.6 s\n",
      "Wall time: 4.02 s\n",
      "\n",
      "--- blosc threads: 8 ; dask threads: 1 ---\n",
      "CPU times: user 7.37 s, sys: 2.05 s, total: 9.42 s\n",
      "Wall time: 7.24 s\n",
      "\n",
      "--- blosc threads: 8 ; dask threads: 2 ---\n",
      "CPU times: user 7.37 s, sys: 912 ms, total: 8.28 s\n",
      "Wall time: 4.3 s\n",
      "\n",
      "--- blosc threads: 8 ; dask threads: 4 ---\n",
      "CPU times: user 7.92 s, sys: 1.82 s, total: 9.73 s\n",
      "Wall time: 3.57 s\n",
      "\n",
      "--- blosc threads: 8 ; dask threads: 8 ---\n",
      "CPU times: user 7.6 s, sys: 1.98 s, total: 9.58 s\n",
      "Wall time: 3.73 s\n",
      "\n"
     ]
    }
   ],
   "source": [
    "for n in 1, 2, 4, 8:\n",
    "    bcolz.blosc_set_nthreads(n)\n",
    "    for m in 1, 2, 4, 8:\n",
    "        print('--- blosc threads:', n, '; dask threads:', m, '---')\n",
    "        %time gd.max().compute(num_workers=m)\n",
    "        print()"
   ]
  },
  {
   "cell_type": "markdown",
   "metadata": {
    "collapsed": true
   },
   "source": [
    "See especially the case with 4 blosc threads and 4 dask threads. Total wall time here is substantially less than the sum of the time required to decompress the data with the same number of blosc threads and the time required to compute the maximum. So dask is able to do some work in parallel, even though bcolz does not release the GIL. "
   ]
  },
  {
   "cell_type": "code",
   "execution_count": 18,
   "metadata": {
    "collapsed": false
   },
   "outputs": [
    {
     "name": "stdout",
     "output_type": "stream",
     "text": [
      "1 loops, best of 5: 3.4 s per loop\n"
     ]
    }
   ],
   "source": [
    "bcolz.blosc_set_nthreads(4)\n",
    "%timeit -n1 -r5 gd.max().compute(num_workers=4)"
   ]
  },
  {
   "cell_type": "markdown",
   "metadata": {},
   "source": [
    "## with nogil"
   ]
  },
  {
   "cell_type": "markdown",
   "metadata": {},
   "source": [
    "Hack bcolz to reinstate nogil sections around blosc_decompress..."
   ]
  },
  {
   "cell_type": "code",
   "execution_count": 1,
   "metadata": {
    "collapsed": false
   },
   "outputs": [
    {
     "data": {
      "text/plain": [
       "'0.12.2.dev1+dirty'"
      ]
     },
     "execution_count": 1,
     "metadata": {},
     "output_type": "execute_result"
    }
   ],
   "source": [
    "import bcolz\n",
    "bcolz.__version__"
   ]
  },
  {
   "cell_type": "code",
   "execution_count": 2,
   "metadata": {
    "collapsed": false
   },
   "outputs": [
    {
     "data": {
      "text/plain": [
       "('1.4.1', '$Date:: 2014-07-08 #$')"
      ]
     },
     "execution_count": 2,
     "metadata": {},
     "output_type": "execute_result"
    }
   ],
   "source": [
    "bcolz.blosc_version()"
   ]
  },
  {
   "cell_type": "markdown",
   "metadata": {},
   "source": [
    "Check compression time is unaffected."
   ]
  },
  {
   "cell_type": "code",
   "execution_count": 9,
   "metadata": {
    "collapsed": false
   },
   "outputs": [
    {
     "name": "stdout",
     "output_type": "stream",
     "text": [
      "--- blosc threads: 1 ---\n",
      "CPU times: user 1.7 s, sys: 216 ms, total: 1.91 s\n",
      "Wall time: 1.91 s\n",
      "\n",
      "--- blosc threads: 2 ---\n",
      "CPU times: user 2.13 s, sys: 220 ms, total: 2.35 s\n",
      "Wall time: 1.54 s\n",
      "\n",
      "--- blosc threads: 4 ---\n",
      "CPU times: user 2.38 s, sys: 272 ms, total: 2.65 s\n",
      "Wall time: 1.46 s\n",
      "\n",
      "--- blosc threads: 8 ---\n",
      "CPU times: user 2.27 s, sys: 332 ms, total: 2.6 s\n",
      "Wall time: 1.48 s\n",
      "\n"
     ]
    }
   ],
   "source": [
    "for n in 1, 2, 4, 8:\n",
    "    bcolz.blosc_set_nthreads(n)\n",
    "    print('--- blosc threads:', n, '---')\n",
    "    %time toarray(g)\n",
    "    print()"
   ]
  },
  {
   "cell_type": "markdown",
   "metadata": {},
   "source": [
    "Check scikit-allel's chunked implementation is unaffected."
   ]
  },
  {
   "cell_type": "code",
   "execution_count": 10,
   "metadata": {
    "collapsed": false
   },
   "outputs": [
    {
     "name": "stdout",
     "output_type": "stream",
     "text": [
      "--- blosc threads: 1 ---\n",
      "CPU times: user 5.03 s, sys: 4 ms, total: 5.03 s\n",
      "Wall time: 5.03 s\n",
      "\n",
      "--- blosc threads: 2 ---\n",
      "CPU times: user 6.18 s, sys: 52 ms, total: 6.23 s\n",
      "Wall time: 5.11 s\n",
      "\n",
      "--- blosc threads: 4 ---\n",
      "CPU times: user 6.32 s, sys: 116 ms, total: 6.44 s\n",
      "Wall time: 4.92 s\n",
      "\n",
      "--- blosc threads: 8 ---\n",
      "CPU times: user 6.44 s, sys: 164 ms, total: 6.6 s\n",
      "Wall time: 5 s\n",
      "\n"
     ]
    }
   ],
   "source": [
    "for n in 1, 2, 4, 8:\n",
    "    bcolz.blosc_set_nthreads(n)\n",
    "    print('--- blosc threads:', n, '---')\n",
    "    %time g.max()\n",
    "    print()"
   ]
  },
  {
   "cell_type": "markdown",
   "metadata": {},
   "source": [
    "Now see if dask does any better..."
   ]
  },
  {
   "cell_type": "code",
   "execution_count": 9,
   "metadata": {
    "collapsed": false
   },
   "outputs": [
    {
     "data": {
      "text/html": [
       "<table class='petl'>\n",
       "<caption>GenotypeDaskArray&lt;from-ar..., shape=(2000000, 765, 2), dtype=int8, chunksize=(1370, 765, 2)></caption>\n",
       "<thead>\n",
       "<tr>\n",
       "<th></th>\n",
       "<th>0</th>\n",
       "<th>1</th>\n",
       "<th>2</th>\n",
       "<th>3</th>\n",
       "<th>4</th>\n",
       "<th>...</th>\n",
       "<th>760</th>\n",
       "<th>761</th>\n",
       "<th>762</th>\n",
       "<th>763</th>\n",
       "<th>764</th>\n",
       "</tr>\n",
       "</thead>\n",
       "<tbody>\n",
       "<tr>\n",
       "<td style='font-weight: bold'>0</td>\n",
       "<td>0/0</td>\n",
       "<td>0/0</td>\n",
       "<td>0/0</td>\n",
       "<td>0/0</td>\n",
       "<td>0/0</td>\n",
       "<td>...</td>\n",
       "<td>0/0</td>\n",
       "<td>0/0</td>\n",
       "<td>0/0</td>\n",
       "<td>0/0</td>\n",
       "<td>0/0</td>\n",
       "</tr>\n",
       "<tr>\n",
       "<td style='font-weight: bold'>1</td>\n",
       "<td>0/0</td>\n",
       "<td>0/0</td>\n",
       "<td>0/0</td>\n",
       "<td>0/0</td>\n",
       "<td>0/0</td>\n",
       "<td>...</td>\n",
       "<td>0/0</td>\n",
       "<td>0/0</td>\n",
       "<td>0/0</td>\n",
       "<td>0/0</td>\n",
       "<td>0/0</td>\n",
       "</tr>\n",
       "<tr>\n",
       "<td style='font-weight: bold'>2</td>\n",
       "<td>0/0</td>\n",
       "<td>0/0</td>\n",
       "<td>0/0</td>\n",
       "<td>0/0</td>\n",
       "<td>0/0</td>\n",
       "<td>...</td>\n",
       "<td>0/0</td>\n",
       "<td>0/0</td>\n",
       "<td>0/0</td>\n",
       "<td>0/0</td>\n",
       "<td>0/0</td>\n",
       "</tr>\n",
       "<tr>\n",
       "<td style='font-weight: bold'>3</td>\n",
       "<td>0/0</td>\n",
       "<td>0/0</td>\n",
       "<td>0/0</td>\n",
       "<td>0/0</td>\n",
       "<td>0/0</td>\n",
       "<td>...</td>\n",
       "<td>0/0</td>\n",
       "<td>0/0</td>\n",
       "<td>0/0</td>\n",
       "<td>0/0</td>\n",
       "<td>0/0</td>\n",
       "</tr>\n",
       "<tr>\n",
       "<td style='font-weight: bold'>4</td>\n",
       "<td>0/0</td>\n",
       "<td>0/0</td>\n",
       "<td>0/0</td>\n",
       "<td>0/0</td>\n",
       "<td>0/0</td>\n",
       "<td>...</td>\n",
       "<td>0/0</td>\n",
       "<td>0/0</td>\n",
       "<td>0/0</td>\n",
       "<td>0/0</td>\n",
       "<td>0/0</td>\n",
       "</tr>\n",
       "</tbody>\n",
       "</table>\n",
       "<p><strong>...</strong></p>"
      ],
      "text/plain": [
       "GenotypeDaskArray<from-ar..., shape=(2000000, 765, 2), dtype=int8, chunksize=(1370, 765, 2)>"
      ]
     },
     "execution_count": 9,
     "metadata": {},
     "output_type": "execute_result"
    }
   ],
   "source": [
    "gd = allel.GenotypeDaskArray.from_array(g)\n",
    "gd"
   ]
  },
  {
   "cell_type": "code",
   "execution_count": 12,
   "metadata": {
    "collapsed": false
   },
   "outputs": [
    {
     "name": "stdout",
     "output_type": "stream",
     "text": [
      "--- blosc threads: 1 ; dask threads: 1 ---\n",
      "CPU times: user 7.38 s, sys: 924 ms, total: 8.3 s\n",
      "Wall time: 8.13 s\n",
      "\n",
      "--- blosc threads: 1 ; dask threads: 2 ---\n",
      "CPU times: user 6.83 s, sys: 1.59 s, total: 8.42 s\n",
      "Wall time: 4.41 s\n",
      "\n",
      "--- blosc threads: 1 ; dask threads: 4 ---\n",
      "CPU times: user 7.68 s, sys: 1.84 s, total: 9.52 s\n",
      "Wall time: 3.21 s\n",
      "\n",
      "--- blosc threads: 1 ; dask threads: 8 ---\n",
      "CPU times: user 7.43 s, sys: 964 ms, total: 8.4 s\n",
      "Wall time: 3.02 s\n",
      "\n",
      "--- blosc threads: 2 ; dask threads: 1 ---\n",
      "CPU times: user 7.71 s, sys: 1.84 s, total: 9.55 s\n",
      "Wall time: 7.93 s\n",
      "\n",
      "--- blosc threads: 2 ; dask threads: 2 ---\n",
      "CPU times: user 7.18 s, sys: 1.66 s, total: 8.83 s\n",
      "Wall time: 4.14 s\n",
      "\n",
      "--- blosc threads: 2 ; dask threads: 4 ---\n",
      "CPU times: user 7.56 s, sys: 1.58 s, total: 9.14 s\n",
      "Wall time: 3.65 s\n",
      "\n",
      "--- blosc threads: 2 ; dask threads: 8 ---\n",
      "CPU times: user 7.74 s, sys: 1.72 s, total: 9.46 s\n",
      "Wall time: 3.79 s\n",
      "\n",
      "--- blosc threads: 4 ; dask threads: 1 ---\n",
      "CPU times: user 7.6 s, sys: 628 ms, total: 8.23 s\n",
      "Wall time: 6.41 s\n",
      "\n",
      "--- blosc threads: 4 ; dask threads: 2 ---\n",
      "CPU times: user 7.29 s, sys: 1.66 s, total: 8.95 s\n",
      "Wall time: 4.37 s\n",
      "\n",
      "--- blosc threads: 4 ; dask threads: 4 ---\n",
      "CPU times: user 7.66 s, sys: 1.82 s, total: 9.48 s\n",
      "Wall time: 3.7 s\n",
      "\n",
      "--- blosc threads: 4 ; dask threads: 8 ---\n",
      "CPU times: user 7.65 s, sys: 1.81 s, total: 9.46 s\n",
      "Wall time: 3.89 s\n",
      "\n",
      "--- blosc threads: 8 ; dask threads: 1 ---\n",
      "CPU times: user 7.4 s, sys: 2.02 s, total: 9.42 s\n",
      "Wall time: 7.22 s\n",
      "\n",
      "--- blosc threads: 8 ; dask threads: 2 ---\n",
      "CPU times: user 7.17 s, sys: 624 ms, total: 7.8 s\n",
      "Wall time: 3.97 s\n",
      "\n",
      "--- blosc threads: 8 ; dask threads: 4 ---\n",
      "CPU times: user 7.79 s, sys: 2.07 s, total: 9.86 s\n",
      "Wall time: 3.73 s\n",
      "\n",
      "--- blosc threads: 8 ; dask threads: 8 ---\n",
      "CPU times: user 7.85 s, sys: 1.78 s, total: 9.62 s\n",
      "Wall time: 4.03 s\n",
      "\n"
     ]
    }
   ],
   "source": [
    "for n in 1, 2, 4, 8:\n",
    "    bcolz.blosc_set_nthreads(n)\n",
    "    for m in 1, 2, 4, 8:\n",
    "        print('--- blosc threads:', n, '; dask threads:', m, '---')\n",
    "        %time gd.max().compute(num_workers=m)\n",
    "        print()"
   ]
  },
  {
   "cell_type": "code",
   "execution_count": 13,
   "metadata": {
    "collapsed": false
   },
   "outputs": [
    {
     "name": "stdout",
     "output_type": "stream",
     "text": [
      "1 loops, best of 5: 2.9 s per loop\n"
     ]
    }
   ],
   "source": [
    "bcolz.blosc_set_nthreads(1)\n",
    "%timeit -r5 gd.max().compute(num_workers=4)"
   ]
  },
  {
   "cell_type": "code",
   "execution_count": 14,
   "metadata": {
    "collapsed": false
   },
   "outputs": [
    {
     "name": "stdout",
     "output_type": "stream",
     "text": [
      "1 loops, best of 5: 3.23 s per loop\n"
     ]
    }
   ],
   "source": [
    "bcolz.blosc_set_nthreads(1)\n",
    "%timeit -r5 gd.max().compute(num_workers=8)"
   ]
  },
  {
   "cell_type": "code",
   "execution_count": 15,
   "metadata": {
    "collapsed": false
   },
   "outputs": [
    {
     "name": "stdout",
     "output_type": "stream",
     "text": [
      "1 loops, best of 5: 3.52 s per loop\n"
     ]
    }
   ],
   "source": [
    "bcolz.blosc_set_nthreads(4)\n",
    "%timeit -r5 gd.max().compute(num_workers=4)"
   ]
  },
  {
   "cell_type": "markdown",
   "metadata": {},
   "source": [
    "## Try to reproduce segfaults..."
   ]
  },
  {
   "cell_type": "code",
   "execution_count": 10,
   "metadata": {
    "collapsed": false
   },
   "outputs": [
    {
     "data": {
      "text/plain": [
       "1"
      ]
     },
     "execution_count": 10,
     "metadata": {},
     "output_type": "execute_result"
    }
   ],
   "source": [
    "bcolz.blosc_set_nthreads(1)"
   ]
  },
  {
   "cell_type": "code",
   "execution_count": 11,
   "metadata": {
    "collapsed": false
   },
   "outputs": [
    {
     "data": {
      "text/plain": [
       "3.0"
      ]
     },
     "execution_count": 11,
     "metadata": {},
     "output_type": "execute_result"
    }
   ],
   "source": [
    "gd.astype('f4').max().compute()"
   ]
  },
  {
   "cell_type": "code",
   "execution_count": 12,
   "metadata": {
    "collapsed": false
   },
   "outputs": [
    {
     "data": {
      "text/plain": [
       "170767.96339869278"
      ]
     },
     "execution_count": 12,
     "metadata": {},
     "output_type": "execute_result"
    }
   ],
   "source": [
    "gd.mean(axis=1).sum().compute(num_workers=4)"
   ]
  },
  {
   "cell_type": "code",
   "execution_count": 13,
   "metadata": {
    "collapsed": false
   },
   "outputs": [
    {
     "data": {
      "text/plain": [
       "array([[ 0.50495372,  0.84406405],\n",
       "       [ 0.48935613,  0.81991694],\n",
       "       [ 0.48457914,  0.8209112 ],\n",
       "       ..., \n",
       "       [ 0.50302364,  0.84650751],\n",
       "       [ 0.49943217,  0.8405899 ],\n",
       "       [ 0.5033905 ,  0.84399184]])"
      ]
     },
     "execution_count": 13,
     "metadata": {},
     "output_type": "execute_result"
    }
   ],
   "source": [
    "((gd + gd) * gd).std(axis=0).compute()"
   ]
  },
  {
   "cell_type": "code",
   "execution_count": null,
   "metadata": {
    "collapsed": true
   },
   "outputs": [],
   "source": []
  }
 ],
 "metadata": {
  "kernelspec": {
   "display_name": "Python 3",
   "language": "python",
   "name": "python3"
  },
  "language_info": {
   "codemirror_mode": {
    "name": "ipython",
    "version": 3
   },
   "file_extension": ".py",
   "mimetype": "text/x-python",
   "name": "python",
   "nbconvert_exporter": "python",
   "pygments_lexer": "ipython3",
   "version": "3.4.3"
  }
 },
 "nbformat": 4,
 "nbformat_minor": 0
}
