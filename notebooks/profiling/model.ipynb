{
 "metadata": {
  "name": "",
  "signature": "sha256:71729a0000f7643e216f0c0bd92baad5a926d3d06b7f1687a31c114358bd425d"
 },
 "nbformat": 3,
 "nbformat_minor": 0,
 "worksheets": [
  {
   "cells": [
    {
     "cell_type": "heading",
     "level": 1,
     "metadata": {},
     "source": [
      "Array classes: memory and performance profiling"
     ]
    },
    {
     "cell_type": "code",
     "collapsed": false,
     "input": [
      "import numpy as np\n",
      "np.random.seed(42)\n",
      "import sys\n",
      "import cProfile\n",
      "import humanize\n",
      "sys.path.insert(0, '../..')\n",
      "%reload_ext memory_profiler\n",
      "%reload_ext autoreload\n",
      "%autoreload 1\n",
      "%aimport allel.model\n",
      "%aimport allel.bcolz"
     ],
     "language": "python",
     "metadata": {},
     "outputs": [],
     "prompt_number": 1
    },
    {
     "cell_type": "code",
     "collapsed": false,
     "input": [
      "def binarysize(n):\n",
      "    return humanize.naturalsize(n, binary=True)"
     ],
     "language": "python",
     "metadata": {},
     "outputs": [],
     "prompt_number": 2
    },
    {
     "cell_type": "code",
     "collapsed": false,
     "input": [
      "# setup an array of genotype calls\n",
      "shape = n_variants, n_samples, ploidy = 50000, 1000, 2\n",
      "data = np.zeros(shape, dtype='i1')\n",
      "# simulate some mutations\n",
      "n_alleles = n_variants * n_samples * ploidy\n",
      "idx = np.random.randint(0, (n_alleles//2)-1, size=n_alleles//20)\n",
      "data[:, :, 1].reshape((-1))[idx] = 1\n",
      "data[:, :, 0].reshape((-1))[idx[:n_alleles//200]] = 1"
     ],
     "language": "python",
     "metadata": {},
     "outputs": [],
     "prompt_number": 3
    },
    {
     "cell_type": "heading",
     "level": 2,
     "metadata": {},
     "source": [
      "Total memory size"
     ]
    },
    {
     "cell_type": "heading",
     "level": 3,
     "metadata": {},
     "source": [
      "Contiguous array (numpy)"
     ]
    },
    {
     "cell_type": "code",
     "collapsed": false,
     "input": [
      "g = allel.model.GenotypeArray(data, copy=False)\n",
      "print(binarysize(g.nbytes))"
     ],
     "language": "python",
     "metadata": {},
     "outputs": [
      {
       "output_type": "stream",
       "stream": "stdout",
       "text": [
        "95.4 MiB\n"
       ]
      }
     ],
     "prompt_number": 4
    },
    {
     "cell_type": "heading",
     "level": 3,
     "metadata": {},
     "source": [
      "Compressed array (bcolz)"
     ]
    },
    {
     "cell_type": "code",
     "collapsed": false,
     "input": [
      "gc = allel.bcolz.GenotypeCArray(data)\n",
      "print(binarysize(gc.cbytes), gc.chunklen)"
     ],
     "language": "python",
     "metadata": {},
     "outputs": [
      {
       "output_type": "stream",
       "stream": "stdout",
       "text": [
        "16.0 MiB 262\n"
       ]
      }
     ],
     "prompt_number": 5
    },
    {
     "cell_type": "heading",
     "level": 3,
     "metadata": {},
     "source": [
      "Compressed persistent array (bcolz)"
     ]
    },
    {
     "cell_type": "code",
     "collapsed": false,
     "input": [
      "import tempfile\n",
      "rootdir = tempfile.mkdtemp()\n",
      "rootdir"
     ],
     "language": "python",
     "metadata": {},
     "outputs": [
      {
       "metadata": {},
       "output_type": "pyout",
       "prompt_number": 6,
       "text": [
        "'/tmp/tmp17xubu6k'"
       ]
      }
     ],
     "prompt_number": 6
    },
    {
     "cell_type": "code",
     "collapsed": false,
     "input": [
      "gcp = allel.bcolz.GenotypeCArray(data, rootdir=rootdir, mode='w')\n",
      "gcp.data.flush()\n",
      "print(binarysize(gc.cbytes), gc.chunklen)"
     ],
     "language": "python",
     "metadata": {},
     "outputs": [
      {
       "output_type": "stream",
       "stream": "stdout",
       "text": [
        "16.0 MiB 262\n"
       ]
      }
     ],
     "prompt_number": 46
    },
    {
     "cell_type": "heading",
     "level": 3,
     "metadata": {},
     "source": [
      "Sparse array (scipy)"
     ]
    },
    {
     "cell_type": "code",
     "collapsed": false,
     "input": [
      "m = g.to_sparse(format='csr')\n",
      "m"
     ],
     "language": "python",
     "metadata": {},
     "outputs": [
      {
       "metadata": {},
       "output_type": "pyout",
       "prompt_number": 8,
       "text": [
        "<50000x2000 sparse matrix of type '<class 'numpy.int8'>'\n",
        "\twith 5255839 stored elements in Compressed Sparse Row format>"
       ]
      }
     ],
     "prompt_number": 8
    },
    {
     "cell_type": "code",
     "collapsed": false,
     "input": [
      "print(m.data.dtype, binarysize(m.data.nbytes), binarysize(m.indices.nbytes), binarysize(m.indptr.nbytes))"
     ],
     "language": "python",
     "metadata": {},
     "outputs": [
      {
       "output_type": "stream",
       "stream": "stdout",
       "text": [
        "int8 5.0 MiB 20.0 MiB 195.3 KiB\n"
       ]
      }
     ],
     "prompt_number": 9
    },
    {
     "cell_type": "heading",
     "level": 2,
     "metadata": {},
     "source": [
      "Genotype counting"
     ]
    },
    {
     "cell_type": "code",
     "collapsed": false,
     "input": [
      "g.count_called()"
     ],
     "language": "python",
     "metadata": {},
     "outputs": [
      {
       "metadata": {},
       "output_type": "pyout",
       "prompt_number": 10,
       "text": [
        "50000000"
       ]
      }
     ],
     "prompt_number": 10
    },
    {
     "cell_type": "code",
     "collapsed": false,
     "input": [
      "g.count_hom_ref()"
     ],
     "language": "python",
     "metadata": {},
     "outputs": [
      {
       "metadata": {},
       "output_type": "pyout",
       "prompt_number": 11,
       "text": [
        "45241646"
       ]
      }
     ],
     "prompt_number": 11
    },
    {
     "cell_type": "code",
     "collapsed": false,
     "input": [
      "g.count_het()"
     ],
     "language": "python",
     "metadata": {},
     "outputs": [
      {
       "metadata": {},
       "output_type": "pyout",
       "prompt_number": 12,
       "text": [
        "4260869"
       ]
      }
     ],
     "prompt_number": 12
    },
    {
     "cell_type": "code",
     "collapsed": false,
     "input": [
      "g.count_hom_alt()"
     ],
     "language": "python",
     "metadata": {},
     "outputs": [
      {
       "metadata": {},
       "output_type": "pyout",
       "prompt_number": 13,
       "text": [
        "497485"
       ]
      }
     ],
     "prompt_number": 13
    },
    {
     "cell_type": "code",
     "collapsed": false,
     "input": [
      "%timeit n = g.count_called()\n",
      "%timeit n = gc.count_called()\n",
      "%timeit n = gcp.count_called()\n",
      "%memit n = g.count_called()\n",
      "%memit n = gc.count_called()\n",
      "%memit n = gcp.count_called()"
     ],
     "language": "python",
     "metadata": {},
     "outputs": [
      {
       "output_type": "stream",
       "stream": "stdout",
       "text": [
        "10 loops, best of 3: 145 ms per loop\n",
        "1 loops, best of 3: 381 ms per loop"
       ]
      },
      {
       "output_type": "stream",
       "stream": "stdout",
       "text": [
        "\n",
        "1 loops, best of 3: 398 ms per loop"
       ]
      },
      {
       "output_type": "stream",
       "stream": "stdout",
       "text": [
        "\n"
       ]
      },
      {
       "output_type": "stream",
       "stream": "stdout",
       "text": [
        "peak memory: 292.53 MiB, increment: 47.54 MiB\n"
       ]
      },
      {
       "output_type": "stream",
       "stream": "stdout",
       "text": [
        "peak memory: 245.47 MiB, increment: 0.50 MiB\n"
       ]
      },
      {
       "output_type": "stream",
       "stream": "stdout",
       "text": [
        "peak memory: 245.64 MiB, increment: 0.17 MiB\n"
       ]
      }
     ],
     "prompt_number": 14
    },
    {
     "cell_type": "code",
     "collapsed": false,
     "input": [
      "%timeit n = g.count_het()\n",
      "%timeit n = gc.count_het()\n",
      "%timeit n = gcp.count_het()\n",
      "%memit n = g.count_het()\n",
      "%memit n = gc.count_het()\n",
      "%memit n = gcp.count_het()"
     ],
     "language": "python",
     "metadata": {},
     "outputs": [
      {
       "output_type": "stream",
       "stream": "stdout",
       "text": [
        "10 loops, best of 3: 164 ms per loop\n",
        "1 loops, best of 3: 370 ms per loop"
       ]
      },
      {
       "output_type": "stream",
       "stream": "stdout",
       "text": [
        "\n",
        "1 loops, best of 3: 449 ms per loop"
       ]
      },
      {
       "output_type": "stream",
       "stream": "stdout",
       "text": [
        "\n"
       ]
      },
      {
       "output_type": "stream",
       "stream": "stdout",
       "text": [
        "peak memory: 293.17 MiB, increment: 47.57 MiB\n"
       ]
      },
      {
       "output_type": "stream",
       "stream": "stdout",
       "text": [
        "peak memory: 245.82 MiB, increment: 0.31 MiB\n"
       ]
      },
      {
       "output_type": "stream",
       "stream": "stdout",
       "text": [
        "peak memory: 245.82 MiB, increment: 0.00 MiB\n"
       ]
      }
     ],
     "prompt_number": 15
    },
    {
     "cell_type": "code",
     "collapsed": false,
     "input": [
      "%timeit n = g.count_call((0, 1))\n",
      "%timeit n = gc.count_call((0, 1))\n",
      "%timeit n = gcp.count_call((0, 1))\n",
      "%memit n = g.count_call((0, 1))\n",
      "%memit n = gc.count_call((0, 1))\n",
      "%memit n = gcp.count_call((0, 1))"
     ],
     "language": "python",
     "metadata": {},
     "outputs": [
      {
       "output_type": "stream",
       "stream": "stdout",
       "text": [
        "10 loops, best of 3: 146 ms per loop\n",
        "1 loops, best of 3: 378 ms per loop"
       ]
      },
      {
       "output_type": "stream",
       "stream": "stdout",
       "text": [
        "\n",
        "1 loops, best of 3: 409 ms per loop"
       ]
      },
      {
       "output_type": "stream",
       "stream": "stdout",
       "text": [
        "\n"
       ]
      },
      {
       "output_type": "stream",
       "stream": "stdout",
       "text": [
        "peak memory: 293.10 MiB, increment: 47.79 MiB\n"
       ]
      },
      {
       "output_type": "stream",
       "stream": "stdout",
       "text": [
        "peak memory: 245.93 MiB, increment: 0.52 MiB\n"
       ]
      },
      {
       "output_type": "stream",
       "stream": "stdout",
       "text": [
        "peak memory: 245.93 MiB, increment: 0.00 MiB\n"
       ]
      }
     ],
     "prompt_number": 16
    },
    {
     "cell_type": "heading",
     "level": 2,
     "metadata": {},
     "source": [
      "Genotype transformations"
     ]
    },
    {
     "cell_type": "code",
     "collapsed": false,
     "input": [
      "%timeit gn = g.to_n_alt()\n",
      "%timeit gn = gc.to_n_alt()\n",
      "%timeit gn = gcp.to_n_alt()\n",
      "%memit gn = g.to_n_alt()\n",
      "%memit gn = gc.to_n_alt()\n",
      "%memit gn = gcp.to_n_alt()"
     ],
     "language": "python",
     "metadata": {},
     "outputs": [
      {
       "output_type": "stream",
       "stream": "stdout",
       "text": [
        "1 loops, best of 3: 1.06 s per loop\n",
        "1 loops, best of 3: 1.29 s per loop"
       ]
      },
      {
       "output_type": "stream",
       "stream": "stdout",
       "text": [
        "\n",
        "1 loops, best of 3: 1.35 s per loop"
       ]
      },
      {
       "output_type": "stream",
       "stream": "stdout",
       "text": [
        "\n"
       ]
      },
      {
       "output_type": "stream",
       "stream": "stdout",
       "text": [
        "peak memory: 401.68 MiB, increment: 142.90 MiB\n"
       ]
      },
      {
       "output_type": "stream",
       "stream": "stdout",
       "text": [
        "peak memory: 307.04 MiB, increment: 0.57 MiB\n"
       ]
      },
      {
       "output_type": "stream",
       "stream": "stdout",
       "text": [
        "peak memory: 272.26 MiB, increment: 12.90 MiB\n"
       ]
      }
     ],
     "prompt_number": 17
    },
    {
     "cell_type": "code",
     "collapsed": false,
     "input": [
      "gc.to_n_alt()"
     ],
     "language": "python",
     "metadata": {},
     "outputs": [
      {
       "metadata": {},
       "output_type": "pyout",
       "prompt_number": 18,
       "text": [
        "carray((50000, 1000), int8)\n",
        "  nbytes: 47.68 MB; cbytes: 13.04 MB; ratio: 3.66\n",
        "  cparams := cparams(clevel=5, shuffle=True, cname='blosclz')\n",
        "[[0 0 0 ..., 0 0 0]\n",
        " [0 1 0 ..., 0 0 0]\n",
        " [0 0 0 ..., 0 0 0]\n",
        " ..., \n",
        " [0 1 0 ..., 0 0 0]\n",
        " [0 0 1 ..., 0 0 0]\n",
        " [0 0 0 ..., 0 0 0]]"
       ]
      }
     ],
     "prompt_number": 18
    },
    {
     "cell_type": "code",
     "collapsed": false,
     "input": [
      "%timeit x = g.to_packed()\n",
      "%timeit x = gc.to_packed()\n",
      "%timeit x = gcp.to_packed()\n",
      "%memit x = g.to_packed()\n",
      "%memit x = gc.to_packed()\n",
      "%memit x = gcp.to_packed()"
     ],
     "language": "python",
     "metadata": {},
     "outputs": [
      {
       "output_type": "stream",
       "stream": "stdout",
       "text": [
        "1 loops, best of 3: 499 ms per loop\n",
        "1 loops, best of 3: 1.11 s per loop"
       ]
      },
      {
       "output_type": "stream",
       "stream": "stdout",
       "text": [
        "\n",
        "1 loops, best of 3: 1.17 s per loop"
       ]
      },
      {
       "output_type": "stream",
       "stream": "stdout",
       "text": [
        "\n"
       ]
      },
      {
       "output_type": "stream",
       "stream": "stdout",
       "text": [
        "peak memory: 333.56 MiB, increment: 47.69 MiB\n"
       ]
      },
      {
       "output_type": "stream",
       "stream": "stdout",
       "text": [
        "peak memory: 334.00 MiB, increment: 0.44 MiB\n"
       ]
      },
      {
       "output_type": "stream",
       "stream": "stdout",
       "text": [
        "peak memory: 299.02 MiB, increment: 12.71 MiB\n"
       ]
      }
     ],
     "prompt_number": 19
    },
    {
     "cell_type": "code",
     "collapsed": false,
     "input": [
      "gc.to_packed()"
     ],
     "language": "python",
     "metadata": {},
     "outputs": [
      {
       "metadata": {},
       "output_type": "pyout",
       "prompt_number": 20,
       "text": [
        "carray((50000, 1000), uint8)\n",
        "  nbytes: 47.68 MB; cbytes: 13.21 MB; ratio: 3.61\n",
        "  cparams := cparams(clevel=5, shuffle=True, cname='blosclz')\n",
        "[[0 0 0 ..., 0 0 0]\n",
        " [0 1 0 ..., 0 0 0]\n",
        " [0 0 0 ..., 0 0 0]\n",
        " ..., \n",
        " [0 1 0 ..., 0 0 0]\n",
        " [0 0 1 ..., 0 0 0]\n",
        " [0 0 0 ..., 0 0 0]]"
       ]
      }
     ],
     "prompt_number": 20
    },
    {
     "cell_type": "code",
     "collapsed": false,
     "input": [
      "%timeit x = g.to_allele_counts()\n",
      "%timeit x = gc.to_allele_counts()\n",
      "%timeit x = gcp.to_allele_counts()\n",
      "%memit x = g.to_allele_counts()\n",
      "%memit x = gc.to_allele_counts()\n",
      "%memit x = gcp.to_allele_counts()"
     ],
     "language": "python",
     "metadata": {},
     "outputs": [
      {
       "output_type": "stream",
       "stream": "stdout",
       "text": [
        "1 loops, best of 3: 2.29 s per loop\n",
        "1 loops, best of 3: 2.59 s per loop"
       ]
      },
      {
       "output_type": "stream",
       "stream": "stdout",
       "text": [
        "\n",
        "1 loops, best of 3: 2.67 s per loop"
       ]
      },
      {
       "output_type": "stream",
       "stream": "stdout",
       "text": [
        "\n"
       ]
      },
      {
       "output_type": "stream",
       "stream": "stdout",
       "text": [
        "peak memory: 506.71 MiB, increment: 190.73 MiB\n"
       ]
      },
      {
       "output_type": "stream",
       "stream": "stdout",
       "text": [
        "peak memory: 411.50 MiB, increment: 0.15 MiB\n"
       ]
      },
      {
       "output_type": "stream",
       "stream": "stdout",
       "text": [
        "peak memory: 319.04 MiB, increment: 2.91 MiB\n"
       ]
      }
     ],
     "prompt_number": 21
    },
    {
     "cell_type": "heading",
     "level": 2,
     "metadata": {},
     "source": [
      "Allele counting"
     ]
    },
    {
     "cell_type": "code",
     "collapsed": false,
     "input": [
      "%timeit x = g.max()\n",
      "%timeit x = gc.max()\n",
      "%memit x = g.max()\n",
      "%memit x = gc.max()"
     ],
     "language": "python",
     "metadata": {},
     "outputs": [
      {
       "output_type": "stream",
       "stream": "stdout",
       "text": [
        "10 loops, best of 3: 113 ms per loop\n",
        "1 loops, best of 3: 253 ms per loop"
       ]
      },
      {
       "output_type": "stream",
       "stream": "stdout",
       "text": [
        "\n"
       ]
      },
      {
       "output_type": "stream",
       "stream": "stdout",
       "text": [
        "peak memory: 319.04 MiB, increment: 0.00 MiB\n"
       ]
      },
      {
       "output_type": "stream",
       "stream": "stdout",
       "text": [
        "peak memory: 319.09 MiB, increment: 0.05 MiB\n"
       ]
      }
     ],
     "prompt_number": 22
    },
    {
     "cell_type": "code",
     "collapsed": false,
     "input": [
      "%timeit x = g.allelism()\n",
      "%timeit x = gc.allelism()\n",
      "%memit x = g.allelism()\n",
      "%memit x = gc.allelism()"
     ],
     "language": "python",
     "metadata": {},
     "outputs": [
      {
       "output_type": "stream",
       "stream": "stdout",
       "text": [
        "1 loops, best of 3: 444 ms per loop\n",
        "1 loops, best of 3: 537 ms per loop"
       ]
      },
      {
       "output_type": "stream",
       "stream": "stdout",
       "text": [
        "\n"
       ]
      },
      {
       "output_type": "stream",
       "stream": "stdout",
       "text": [
        "peak memory: 414.47 MiB, increment: 95.37 MiB\n"
       ]
      },
      {
       "output_type": "stream",
       "stream": "stdout",
       "text": [
        "peak memory: 319.21 MiB, increment: 0.11 MiB\n"
       ]
      }
     ],
     "prompt_number": 23
    },
    {
     "cell_type": "code",
     "collapsed": false,
     "input": [
      "%timeit x = g.allele_number()\n",
      "%timeit x = gc.allele_number()\n",
      "%memit x = g.allele_number()\n",
      "%memit x = gc.allele_number()"
     ],
     "language": "python",
     "metadata": {},
     "outputs": [
      {
       "output_type": "stream",
       "stream": "stdout",
       "text": [
        "1 loops, best of 3: 210 ms per loop\n",
        "1 loops, best of 3: 305 ms per loop"
       ]
      },
      {
       "output_type": "stream",
       "stream": "stdout",
       "text": [
        "\n"
       ]
      },
      {
       "output_type": "stream",
       "stream": "stdout",
       "text": [
        "peak memory: 414.58 MiB, increment: 95.37 MiB\n"
       ]
      },
      {
       "output_type": "stream",
       "stream": "stdout",
       "text": [
        "peak memory: 319.21 MiB, increment: 0.00 MiB\n"
       ]
      }
     ],
     "prompt_number": 24
    },
    {
     "cell_type": "code",
     "collapsed": false,
     "input": [
      "%timeit x = g.allele_counts()\n",
      "%timeit x = gc.allele_counts()\n",
      "%memit x = g.allele_counts()\n",
      "%memit x = gc.allele_counts()"
     ],
     "language": "python",
     "metadata": {},
     "outputs": [
      {
       "output_type": "stream",
       "stream": "stdout",
       "text": [
        "1 loops, best of 3: 444 ms per loop\n",
        "1 loops, best of 3: 653 ms per loop"
       ]
      },
      {
       "output_type": "stream",
       "stream": "stdout",
       "text": [
        "\n"
       ]
      },
      {
       "output_type": "stream",
       "stream": "stdout",
       "text": [
        "peak memory: 414.58 MiB, increment: 95.37 MiB\n"
       ]
      },
      {
       "output_type": "stream",
       "stream": "stdout",
       "text": [
        "peak memory: 319.21 MiB, increment: 0.00 MiB\n"
       ]
      }
     ],
     "prompt_number": 25
    },
    {
     "cell_type": "code",
     "collapsed": false,
     "input": [
      "%timeit x = g.is_segregating()\n",
      "%timeit x = gc.is_segregating()\n",
      "%memit x = g.is_segregating()\n",
      "%memit x = gc.is_segregating()"
     ],
     "language": "python",
     "metadata": {},
     "outputs": [
      {
       "output_type": "stream",
       "stream": "stdout",
       "text": [
        "1 loops, best of 3: 446 ms per loop\n",
        "1 loops, best of 3: 516 ms per loop"
       ]
      },
      {
       "output_type": "stream",
       "stream": "stdout",
       "text": [
        "\n"
       ]
      },
      {
       "output_type": "stream",
       "stream": "stdout",
       "text": [
        "peak memory: 414.59 MiB, increment: 95.37 MiB\n"
       ]
      },
      {
       "output_type": "stream",
       "stream": "stdout",
       "text": [
        "peak memory: 319.22 MiB, increment: 0.00 MiB\n"
       ]
      }
     ],
     "prompt_number": 26
    },
    {
     "cell_type": "code",
     "collapsed": false,
     "input": [
      "%timeit x = g.count_segregating()\n",
      "%timeit x = gc.count_segregating()\n",
      "%memit x = g.count_segregating()\n",
      "%memit x = gc.count_segregating()"
     ],
     "language": "python",
     "metadata": {},
     "outputs": [
      {
       "output_type": "stream",
       "stream": "stdout",
       "text": [
        "1 loops, best of 3: 445 ms per loop\n",
        "1 loops, best of 3: 510 ms per loop"
       ]
      },
      {
       "output_type": "stream",
       "stream": "stdout",
       "text": [
        "\n"
       ]
      },
      {
       "output_type": "stream",
       "stream": "stdout",
       "text": [
        "peak memory: 414.59 MiB, increment: 95.37 MiB\n"
       ]
      },
      {
       "output_type": "stream",
       "stream": "stdout",
       "text": [
        "peak memory: 319.22 MiB, increment: 0.00 MiB\n"
       ]
      }
     ],
     "prompt_number": 27
    },
    {
     "cell_type": "heading",
     "level": 2,
     "metadata": {},
     "source": [
      "Subset operations"
     ]
    },
    {
     "cell_type": "code",
     "collapsed": false,
     "input": [
      "variants = np.random.randint(0, 2, size=n_variants).astype(bool)\n",
      "np.count_nonzero(variants)"
     ],
     "language": "python",
     "metadata": {},
     "outputs": [
      {
       "metadata": {},
       "output_type": "pyout",
       "prompt_number": 37,
       "text": [
        "25140"
       ]
      }
     ],
     "prompt_number": 37
    },
    {
     "cell_type": "code",
     "collapsed": false,
     "input": [
      "samples = np.random.randint(0, 2, size=n_samples).astype(bool)\n",
      "np.count_nonzero(samples)"
     ],
     "language": "python",
     "metadata": {},
     "outputs": [
      {
       "metadata": {},
       "output_type": "pyout",
       "prompt_number": 38,
       "text": [
        "498"
       ]
      }
     ],
     "prompt_number": 38
    },
    {
     "cell_type": "code",
     "collapsed": false,
     "input": [
      "%timeit x = g.compress(variants, axis=0)\n",
      "%timeit x = gc.compress(variants, axis=0)\n",
      "%memit x = g.compress(variants, axis=0)\n",
      "%memit x = gc.compress(variants, axis=0)"
     ],
     "language": "python",
     "metadata": {},
     "outputs": [
      {
       "output_type": "stream",
       "stream": "stdout",
       "text": [
        "10 loops, best of 3: 47.6 ms per loop\n",
        "1 loops, best of 3: 258 ms per loop"
       ]
      },
      {
       "output_type": "stream",
       "stream": "stdout",
       "text": [
        "\n"
       ]
      },
      {
       "output_type": "stream",
       "stream": "stdout",
       "text": [
        "peak memory: 424.01 MiB, increment: 87.75 MiB\n"
       ]
      },
      {
       "output_type": "stream",
       "stream": "stdout",
       "text": [
        "peak memory: 384.21 MiB, increment: 0.00 MiB\n"
       ]
      }
     ],
     "prompt_number": 41
    },
    {
     "cell_type": "code",
     "collapsed": false,
     "input": [
      "indices = np.nonzero(variants)[0]\n",
      "%timeit x = g.take(indices, axis=0)\n",
      "%timeit x = gc.take(indices, axis=0)\n",
      "%memit x = g.take(indices, axis=0)\n",
      "%memit x = gc.take(indices, axis=0)"
     ],
     "language": "python",
     "metadata": {},
     "outputs": [
      {
       "output_type": "stream",
       "stream": "stdout",
       "text": [
        "10 loops, best of 3: 47.4 ms per loop\n",
        "1 loops, best of 3: 259 ms per loop"
       ]
      },
      {
       "output_type": "stream",
       "stream": "stdout",
       "text": [
        "\n"
       ]
      },
      {
       "output_type": "stream",
       "stream": "stdout",
       "text": [
        "peak memory: 426.03 MiB, increment: 89.78 MiB\n"
       ]
      },
      {
       "output_type": "stream",
       "stream": "stdout",
       "text": [
        "peak memory: 384.21 MiB, increment: 0.00 MiB\n"
       ]
      }
     ],
     "prompt_number": 39
    },
    {
     "cell_type": "code",
     "collapsed": false,
     "input": [
      "%timeit x = g.compress(samples, axis=1)\n",
      "%timeit x = gc.compress(samples, axis=1)\n",
      "%memit x = g.compress(samples, axis=1)\n",
      "%memit x = gc.compress(samples, axis=1)"
     ],
     "language": "python",
     "metadata": {},
     "outputs": [
      {
       "output_type": "stream",
       "stream": "stdout",
       "text": [
        "10 loops, best of 3: 106 ms per loop\n",
        "1 loops, best of 3: 348 ms per loop"
       ]
      },
      {
       "output_type": "stream",
       "stream": "stdout",
       "text": [
        "\n"
       ]
      },
      {
       "output_type": "stream",
       "stream": "stdout",
       "text": [
        "peak memory: 431.26 MiB, increment: 95.00 MiB\n"
       ]
      },
      {
       "output_type": "stream",
       "stream": "stdout",
       "text": [
        "peak memory: 383.76 MiB, increment: 0.00 MiB\n"
       ]
      }
     ],
     "prompt_number": 42
    },
    {
     "cell_type": "code",
     "collapsed": false,
     "input": [
      "indices = np.nonzero(samples)[0]\n",
      "%timeit x = g.take(indices, axis=1)\n",
      "%timeit x = gc.take(indices, axis=1)\n",
      "%memit x = g.take(indices, axis=1)\n",
      "%memit x = gc.take(indices, axis=1)"
     ],
     "language": "python",
     "metadata": {},
     "outputs": [
      {
       "output_type": "stream",
       "stream": "stdout",
       "text": [
        "10 loops, best of 3: 106 ms per loop\n",
        "1 loops, best of 3: 360 ms per loop"
       ]
      },
      {
       "output_type": "stream",
       "stream": "stdout",
       "text": [
        "\n"
       ]
      },
      {
       "output_type": "stream",
       "stream": "stdout",
       "text": [
        "peak memory: 431.15 MiB, increment: 94.88 MiB\n"
       ]
      },
      {
       "output_type": "stream",
       "stream": "stdout",
       "text": [
        "peak memory: 383.77 MiB, increment: 0.00 MiB\n"
       ]
      }
     ],
     "prompt_number": 43
    },
    {
     "cell_type": "code",
     "collapsed": false,
     "input": [
      "%timeit x = g.subset(variants, samples)\n",
      "%timeit x = gc.subset(variants, samples)\n",
      "%memit x = g.subset(variants, samples)\n",
      "%memit x = gc.subset(variants, samples)"
     ],
     "language": "python",
     "metadata": {},
     "outputs": [
      {
       "output_type": "stream",
       "stream": "stdout",
       "text": [
        "1 loops, best of 3: 272 ms per loop\n",
        "1 loops, best of 3: 480 ms per loop"
       ]
      },
      {
       "output_type": "stream",
       "stream": "stdout",
       "text": [
        "\n"
       ]
      },
      {
       "output_type": "stream",
       "stream": "stdout",
       "text": [
        "peak memory: 336.28 MiB, increment: 0.00 MiB\n"
       ]
      },
      {
       "output_type": "stream",
       "stream": "stdout",
       "text": [
        "peak memory: 336.28 MiB, increment: 0.00 MiB\n"
       ]
      }
     ],
     "prompt_number": 44
    },
    {
     "cell_type": "code",
     "collapsed": false,
     "input": [
      "gc.subset(variants, samples)"
     ],
     "language": "python",
     "metadata": {},
     "outputs": [
      {
       "metadata": {},
       "output_type": "pyout",
       "prompt_number": 45,
       "text": [
        "GenotypeCArray((25140, 498, 2), int8)\n",
        "  nbytes: 23.88 MB; cbytes: 4.33 MB; ratio: 5.52\n",
        "  cparams := cparams(clevel=5, shuffle=True, cname='blosclz')\n",
        "[[[0 0]\n",
        "  [0 0]\n",
        "  [0 0]\n",
        "  ..., \n",
        "  [0 0]\n",
        "  [0 1]\n",
        "  [0 0]]\n",
        "\n",
        " [[0 0]\n",
        "  [0 0]\n",
        "  [0 0]\n",
        "  ..., \n",
        "  [0 0]\n",
        "  [0 0]\n",
        "  [0 0]]\n",
        "\n",
        " [[0 0]\n",
        "  [0 1]\n",
        "  [0 1]\n",
        "  ..., \n",
        "  [0 0]\n",
        "  [0 0]\n",
        "  [0 0]]\n",
        "\n",
        " ..., \n",
        " [[0 1]\n",
        "  [0 0]\n",
        "  [0 0]\n",
        "  ..., \n",
        "  [0 0]\n",
        "  [0 0]\n",
        "  [0 0]]\n",
        "\n",
        " [[0 0]\n",
        "  [0 0]\n",
        "  [0 0]\n",
        "  ..., \n",
        "  [0 0]\n",
        "  [0 1]\n",
        "  [0 0]]\n",
        "\n",
        " [[0 1]\n",
        "  [0 0]\n",
        "  [0 0]\n",
        "  ..., \n",
        "  [0 0]\n",
        "  [0 0]\n",
        "  [0 0]]]"
       ]
      }
     ],
     "prompt_number": 45
    },
    {
     "cell_type": "code",
     "collapsed": false,
     "input": [],
     "language": "python",
     "metadata": {},
     "outputs": [],
     "prompt_number": 31
    },
    {
     "cell_type": "heading",
     "level": 2,
     "metadata": {},
     "source": [
      "Sandbox"
     ]
    },
    {
     "cell_type": "code",
     "collapsed": false,
     "input": [],
     "language": "python",
     "metadata": {},
     "outputs": []
    }
   ],
   "metadata": {}
  }
 ]
}