{
 "metadata": {
  "name": "",
  "signature": "sha256:a57d2aadb927767634ca2427debe7a927159c03bdc66edd4d0137a2bb625a6b0"
 },
 "nbformat": 3,
 "nbformat_minor": 0,
 "worksheets": [
  {
   "cells": [
    {
     "cell_type": "heading",
     "level": 1,
     "metadata": {},
     "source": [
      "Array classes: memory and performance profiling"
     ]
    },
    {
     "cell_type": "code",
     "collapsed": false,
     "input": [
      "import numpy as np\n",
      "np.random.seed(42)\n",
      "import sys\n",
      "import cProfile\n",
      "import humanize\n",
      "sys.path.insert(0, '../..')\n",
      "%reload_ext memory_profiler\n",
      "%reload_ext autoreload\n",
      "%autoreload 1\n",
      "%aimport allel.model\n",
      "%aimport allel.bcolz"
     ],
     "language": "python",
     "metadata": {},
     "outputs": [],
     "prompt_number": 1
    },
    {
     "cell_type": "code",
     "collapsed": false,
     "input": [
      "def binarysize(n):\n",
      "    return humanize.naturalsize(n, binary=True)"
     ],
     "language": "python",
     "metadata": {},
     "outputs": [],
     "prompt_number": 2
    },
    {
     "cell_type": "code",
     "collapsed": false,
     "input": [
      "# setup an array of genotype calls\n",
      "shape = n_variants, n_samples, ploidy = 50000, 1000, 2\n",
      "data = np.zeros(shape, dtype='i1')\n",
      "# simulate some mutations\n",
      "n_alleles = n_variants * n_samples * ploidy\n",
      "idx = np.random.randint(0, (n_alleles//2)-1, size=n_alleles//20)\n",
      "data[:, :, 1].reshape((-1))[idx] = 1\n",
      "data[:, :, 0].reshape((-1))[idx[:n_alleles//200]] = 1"
     ],
     "language": "python",
     "metadata": {},
     "outputs": [],
     "prompt_number": 3
    },
    {
     "cell_type": "heading",
     "level": 2,
     "metadata": {},
     "source": [
      "Total memory size"
     ]
    },
    {
     "cell_type": "heading",
     "level": 3,
     "metadata": {},
     "source": [
      "Contiguous array (numpy)"
     ]
    },
    {
     "cell_type": "code",
     "collapsed": false,
     "input": [
      "g = allel.model.GenotypeArray(data, copy=False)\n",
      "print(binarysize(g.nbytes))"
     ],
     "language": "python",
     "metadata": {},
     "outputs": [
      {
       "output_type": "stream",
       "stream": "stdout",
       "text": [
        "95.4 MiB\n"
       ]
      }
     ],
     "prompt_number": 4
    },
    {
     "cell_type": "heading",
     "level": 3,
     "metadata": {},
     "source": [
      "Compressed array (bcolz)"
     ]
    },
    {
     "cell_type": "code",
     "collapsed": false,
     "input": [
      "gc = allel.bcolz.GenotypeCArray(data)\n",
      "print(binarysize(gc.cbytes), gc.chunklen)"
     ],
     "language": "python",
     "metadata": {},
     "outputs": [
      {
       "output_type": "stream",
       "stream": "stdout",
       "text": [
        "16.0 MiB 262\n"
       ]
      }
     ],
     "prompt_number": 5
    },
    {
     "cell_type": "heading",
     "level": 3,
     "metadata": {},
     "source": [
      "Compressed persistent array (bcolz)"
     ]
    },
    {
     "cell_type": "code",
     "collapsed": false,
     "input": [
      "import tempfile\n",
      "rootdir = tempfile.mkdtemp()\n",
      "rootdir"
     ],
     "language": "python",
     "metadata": {},
     "outputs": [
      {
       "metadata": {},
       "output_type": "pyout",
       "prompt_number": 6,
       "text": [
        "'/tmp/tmp0lkpcs7_'"
       ]
      }
     ],
     "prompt_number": 6
    },
    {
     "cell_type": "code",
     "collapsed": false,
     "input": [
      "gcp = allel.bcolz.GenotypeCArray(data, rootdir=rootdir, mode='w')\n",
      "print(binarysize(gc.cbytes), gc.chunklen)"
     ],
     "language": "python",
     "metadata": {},
     "outputs": [
      {
       "output_type": "stream",
       "stream": "stdout",
       "text": [
        "16.0 MiB 262\n"
       ]
      }
     ],
     "prompt_number": 7
    },
    {
     "cell_type": "heading",
     "level": 3,
     "metadata": {},
     "source": [
      "Sparse array (scipy)"
     ]
    },
    {
     "cell_type": "code",
     "collapsed": false,
     "input": [
      "m = g.to_sparse(format='csr')\n",
      "m"
     ],
     "language": "python",
     "metadata": {},
     "outputs": [
      {
       "metadata": {},
       "output_type": "pyout",
       "prompt_number": 8,
       "text": [
        "<50000x2000 sparse matrix of type '<class 'numpy.int8'>'\n",
        "\twith 5255839 stored elements in Compressed Sparse Row format>"
       ]
      }
     ],
     "prompt_number": 8
    },
    {
     "cell_type": "code",
     "collapsed": false,
     "input": [
      "print(m.data.dtype, binarysize(m.data.nbytes), binarysize(m.indices.nbytes), binarysize(m.indptr.nbytes))"
     ],
     "language": "python",
     "metadata": {},
     "outputs": [
      {
       "output_type": "stream",
       "stream": "stdout",
       "text": [
        "int8 5.0 MiB 20.0 MiB 195.3 KiB\n"
       ]
      }
     ],
     "prompt_number": 9
    },
    {
     "cell_type": "heading",
     "level": 2,
     "metadata": {},
     "source": [
      "Genotype counting"
     ]
    },
    {
     "cell_type": "code",
     "collapsed": false,
     "input": [
      "g.count_called()"
     ],
     "language": "python",
     "metadata": {},
     "outputs": [
      {
       "metadata": {},
       "output_type": "pyout",
       "prompt_number": 10,
       "text": [
        "50000000"
       ]
      }
     ],
     "prompt_number": 10
    },
    {
     "cell_type": "code",
     "collapsed": false,
     "input": [
      "g.count_hom_ref()"
     ],
     "language": "python",
     "metadata": {},
     "outputs": [
      {
       "metadata": {},
       "output_type": "pyout",
       "prompt_number": 11,
       "text": [
        "45241646"
       ]
      }
     ],
     "prompt_number": 11
    },
    {
     "cell_type": "code",
     "collapsed": false,
     "input": [
      "g.count_het()"
     ],
     "language": "python",
     "metadata": {},
     "outputs": [
      {
       "metadata": {},
       "output_type": "pyout",
       "prompt_number": 12,
       "text": [
        "4260869"
       ]
      }
     ],
     "prompt_number": 12
    },
    {
     "cell_type": "code",
     "collapsed": false,
     "input": [
      "g.count_hom_alt()"
     ],
     "language": "python",
     "metadata": {},
     "outputs": [
      {
       "metadata": {},
       "output_type": "pyout",
       "prompt_number": 13,
       "text": [
        "497485"
       ]
      }
     ],
     "prompt_number": 13
    },
    {
     "cell_type": "code",
     "collapsed": false,
     "input": [
      "%timeit n = g.count_called()\n",
      "%timeit n = gc.count_called()\n",
      "%timeit n = gcp.count_called()\n",
      "%memit n = g.count_called()\n",
      "%memit n = gc.count_called()\n",
      "%memit n = gcp.count_called()"
     ],
     "language": "python",
     "metadata": {},
     "outputs": [
      {
       "output_type": "stream",
       "stream": "stdout",
       "text": [
        "10 loops, best of 3: 130 ms per loop\n",
        "1 loops, best of 3: 228 ms per loop"
       ]
      },
      {
       "output_type": "stream",
       "stream": "stdout",
       "text": [
        "\n",
        "1 loops, best of 3: 281 ms per loop"
       ]
      },
      {
       "output_type": "stream",
       "stream": "stdout",
       "text": [
        "\n"
       ]
      },
      {
       "output_type": "stream",
       "stream": "stdout",
       "text": [
        "peak memory: 296.19 MiB, increment: 47.86 MiB\n"
       ]
      },
      {
       "output_type": "stream",
       "stream": "stdout",
       "text": [
        "peak memory: 249.24 MiB, increment: 0.60 MiB\n"
       ]
      },
      {
       "output_type": "stream",
       "stream": "stdout",
       "text": [
        "peak memory: 249.46 MiB, increment: 0.22 MiB\n"
       ]
      }
     ],
     "prompt_number": 14
    },
    {
     "cell_type": "code",
     "collapsed": false,
     "input": [
      "%timeit n = g.count_het()\n",
      "%timeit n = gc.count_het()\n",
      "%timeit n = gcp.count_het()\n",
      "%memit n = g.count_het()\n",
      "%memit n = gc.count_het()\n",
      "%memit n = gcp.count_het()"
     ],
     "language": "python",
     "metadata": {},
     "outputs": [
      {
       "output_type": "stream",
       "stream": "stdout",
       "text": [
        "10 loops, best of 3: 165 ms per loop\n",
        "1 loops, best of 3: 263 ms per loop"
       ]
      },
      {
       "output_type": "stream",
       "stream": "stdout",
       "text": [
        "\n",
        "1 loops, best of 3: 287 ms per loop"
       ]
      },
      {
       "output_type": "stream",
       "stream": "stdout",
       "text": [
        "\n"
       ]
      },
      {
       "output_type": "stream",
       "stream": "stdout",
       "text": [
        "peak memory: 297.16 MiB, increment: 47.62 MiB\n"
       ]
      },
      {
       "output_type": "stream",
       "stream": "stdout",
       "text": [
        "peak memory: 249.47 MiB, increment: 0.00 MiB\n"
       ]
      },
      {
       "output_type": "stream",
       "stream": "stdout",
       "text": [
        "peak memory: 249.47 MiB, increment: 0.00 MiB\n"
       ]
      }
     ],
     "prompt_number": 15
    },
    {
     "cell_type": "code",
     "collapsed": false,
     "input": [
      "%timeit n = g.count_call((0, 1))\n",
      "%timeit n = gc.count_call((0, 1))\n",
      "%timeit n = gcp.count_call((0, 1))\n",
      "%memit n = g.count_call((0, 1))\n",
      "%memit n = gc.count_call((0, 1))\n",
      "%memit n = gcp.count_call((0, 1))"
     ],
     "language": "python",
     "metadata": {},
     "outputs": [
      {
       "output_type": "stream",
       "stream": "stdout",
       "text": [
        "10 loops, best of 3: 132 ms per loop\n",
        "1 loops, best of 3: 255 ms per loop"
       ]
      },
      {
       "output_type": "stream",
       "stream": "stdout",
       "text": [
        "\n",
        "1 loops, best of 3: 256 ms per loop"
       ]
      },
      {
       "output_type": "stream",
       "stream": "stdout",
       "text": [
        "\n"
       ]
      },
      {
       "output_type": "stream",
       "stream": "stdout",
       "text": [
        "peak memory: 297.13 MiB, increment: 47.66 MiB\n"
       ]
      },
      {
       "output_type": "stream",
       "stream": "stdout",
       "text": [
        "peak memory: 249.81 MiB, increment: 0.37 MiB\n"
       ]
      },
      {
       "output_type": "stream",
       "stream": "stdout",
       "text": [
        "peak memory: 249.81 MiB, increment: 0.00 MiB\n"
       ]
      }
     ],
     "prompt_number": 16
    },
    {
     "cell_type": "heading",
     "level": 2,
     "metadata": {},
     "source": [
      "Genotype transformations"
     ]
    },
    {
     "cell_type": "code",
     "collapsed": false,
     "input": [
      "%timeit gn = g.to_n_alt()\n",
      "%timeit gn = gc.to_n_alt()\n",
      "%timeit gn = gcp.to_n_alt()\n",
      "%memit gn = g.to_n_alt()\n",
      "%memit gn = gc.to_n_alt()\n",
      "%memit gn = gcp.to_n_alt()"
     ],
     "language": "python",
     "metadata": {},
     "outputs": [
      {
       "output_type": "stream",
       "stream": "stdout",
       "text": [
        "1 loops, best of 3: 757 ms per loop\n",
        "1 loops, best of 3: 938 ms per loop"
       ]
      },
      {
       "output_type": "stream",
       "stream": "stdout",
       "text": [
        "\n",
        "1 loops, best of 3: 995 ms per loop"
       ]
      },
      {
       "output_type": "stream",
       "stream": "stdout",
       "text": [
        "\n"
       ]
      },
      {
       "output_type": "stream",
       "stream": "stdout",
       "text": [
        "peak memory: 405.66 MiB, increment: 143.01 MiB\n"
       ]
      },
      {
       "output_type": "stream",
       "stream": "stdout",
       "text": [
        "peak memory: 310.88 MiB, increment: 0.55 MiB\n"
       ]
      },
      {
       "output_type": "stream",
       "stream": "stdout",
       "text": [
        "peak memory: 275.85 MiB, increment: 12.65 MiB\n"
       ]
      }
     ],
     "prompt_number": 17
    },
    {
     "cell_type": "code",
     "collapsed": false,
     "input": [
      "gc.to_n_alt()"
     ],
     "language": "python",
     "metadata": {},
     "outputs": [
      {
       "metadata": {},
       "output_type": "pyout",
       "prompt_number": 18,
       "text": [
        "carray((50000, 1000), int8)\n",
        "  nbytes: 47.68 MB; cbytes: 13.04 MB; ratio: 3.66\n",
        "  cparams := cparams(clevel=5, shuffle=True, cname='blosclz')\n",
        "[[0 0 0 ..., 0 0 0]\n",
        " [0 1 0 ..., 0 0 0]\n",
        " [0 0 0 ..., 0 0 0]\n",
        " ..., \n",
        " [0 1 0 ..., 0 0 0]\n",
        " [0 0 1 ..., 0 0 0]\n",
        " [0 0 0 ..., 0 0 0]]"
       ]
      }
     ],
     "prompt_number": 18
    },
    {
     "cell_type": "code",
     "collapsed": false,
     "input": [
      "%timeit x = g.to_packed()\n",
      "%timeit x = gc.to_packed()\n",
      "%timeit x = gcp.to_packed()\n",
      "%memit x = g.to_packed()\n",
      "%memit x = gc.to_packed()\n",
      "%memit x = gcp.to_packed()"
     ],
     "language": "python",
     "metadata": {},
     "outputs": [
      {
       "output_type": "stream",
       "stream": "stdout",
       "text": [
        "1 loops, best of 3: 396 ms per loop\n",
        "1 loops, best of 3: 780 ms per loop"
       ]
      },
      {
       "output_type": "stream",
       "stream": "stdout",
       "text": [
        "\n",
        "1 loops, best of 3: 822 ms per loop"
       ]
      },
      {
       "output_type": "stream",
       "stream": "stdout",
       "text": [
        "\n"
       ]
      },
      {
       "output_type": "stream",
       "stream": "stdout",
       "text": [
        "peak memory: 337.66 MiB, increment: 47.70 MiB\n"
       ]
      },
      {
       "output_type": "stream",
       "stream": "stdout",
       "text": [
        "peak memory: 337.82 MiB, increment: 0.16 MiB\n"
       ]
      },
      {
       "output_type": "stream",
       "stream": "stdout",
       "text": [
        "peak memory: 303.14 MiB, increment: 13.01 MiB\n"
       ]
      }
     ],
     "prompt_number": 19
    },
    {
     "cell_type": "code",
     "collapsed": false,
     "input": [
      "gc.to_packed()"
     ],
     "language": "python",
     "metadata": {},
     "outputs": [
      {
       "metadata": {},
       "output_type": "pyout",
       "prompt_number": 20,
       "text": [
        "carray((50000, 1000), uint8)\n",
        "  nbytes: 47.68 MB; cbytes: 13.21 MB; ratio: 3.61\n",
        "  cparams := cparams(clevel=5, shuffle=True, cname='blosclz')\n",
        "[[0 0 0 ..., 0 0 0]\n",
        " [0 1 0 ..., 0 0 0]\n",
        " [0 0 0 ..., 0 0 0]\n",
        " ..., \n",
        " [0 1 0 ..., 0 0 0]\n",
        " [0 0 1 ..., 0 0 0]\n",
        " [0 0 0 ..., 0 0 0]]"
       ]
      }
     ],
     "prompt_number": 20
    },
    {
     "cell_type": "code",
     "collapsed": false,
     "input": [
      "%timeit x = g.to_allele_counts()\n",
      "%timeit x = gc.to_allele_counts()\n",
      "%timeit x = gcp.to_allele_counts()\n",
      "%memit x = g.to_allele_counts()\n",
      "%memit x = gc.to_allele_counts()\n",
      "%memit x = gcp.to_allele_counts()"
     ],
     "language": "python",
     "metadata": {},
     "outputs": [
      {
       "output_type": "stream",
       "stream": "stdout",
       "text": [
        "1 loops, best of 3: 1.69 s per loop\n",
        "1 loops, best of 3: 2.17 s per loop"
       ]
      },
      {
       "output_type": "stream",
       "stream": "stdout",
       "text": [
        "\n",
        "1 loops, best of 3: 2.21 s per loop"
       ]
      },
      {
       "output_type": "stream",
       "stream": "stdout",
       "text": [
        "\n"
       ]
      },
      {
       "output_type": "stream",
       "stream": "stdout",
       "text": [
        "peak memory: 510.48 MiB, increment: 190.74 MiB\n"
       ]
      },
      {
       "output_type": "stream",
       "stream": "stdout",
       "text": [
        "peak memory: 415.30 MiB, increment: 0.20 MiB\n"
       ]
      },
      {
       "output_type": "stream",
       "stream": "stdout",
       "text": [
        "peak memory: 322.68 MiB, increment: 2.75 MiB\n"
       ]
      }
     ],
     "prompt_number": 21
    },
    {
     "cell_type": "heading",
     "level": 2,
     "metadata": {},
     "source": [
      "Allele counting"
     ]
    },
    {
     "cell_type": "code",
     "collapsed": false,
     "input": [
      "%timeit x = g.max()\n",
      "%timeit x = gc.max()\n",
      "%memit x = g.max()\n",
      "%memit x = gc.max()"
     ],
     "language": "python",
     "metadata": {},
     "outputs": [
      {
       "output_type": "stream",
       "stream": "stdout",
       "text": [
        "10 loops, best of 3: 96.2 ms per loop\n",
        "1 loops, best of 3: 174 ms per loop"
       ]
      },
      {
       "output_type": "stream",
       "stream": "stdout",
       "text": [
        "\n"
       ]
      },
      {
       "output_type": "stream",
       "stream": "stdout",
       "text": [
        "peak memory: 318.32 MiB, increment: 0.00 MiB\n"
       ]
      },
      {
       "output_type": "stream",
       "stream": "stdout",
       "text": [
        "peak memory: 318.32 MiB, increment: 0.00 MiB\n"
       ]
      }
     ],
     "prompt_number": 20
    },
    {
     "cell_type": "code",
     "collapsed": false,
     "input": [
      "%timeit x = g.allelism()\n",
      "%timeit x = gc.allelism()\n",
      "%memit x = g.allelism()\n",
      "%memit x = gc.allelism()"
     ],
     "language": "python",
     "metadata": {},
     "outputs": [
      {
       "output_type": "stream",
       "stream": "stdout",
       "text": [
        "1 loops, best of 3: 257 ms per loop\n",
        "1 loops, best of 3: 374 ms per loop"
       ]
      },
      {
       "output_type": "stream",
       "stream": "stdout",
       "text": [
        "\n"
       ]
      },
      {
       "output_type": "stream",
       "stream": "stdout",
       "text": [
        "peak memory: 413.70 MiB, increment: 95.37 MiB\n"
       ]
      },
      {
       "output_type": "stream",
       "stream": "stdout",
       "text": [
        "peak memory: 318.34 MiB, increment: 0.01 MiB\n"
       ]
      }
     ],
     "prompt_number": 21
    },
    {
     "cell_type": "code",
     "collapsed": false,
     "input": [
      "%timeit x = g.allele_number()\n",
      "%timeit x = gc.allele_number()\n",
      "%memit x = g.allele_number()\n",
      "%memit x = gc.allele_number()"
     ],
     "language": "python",
     "metadata": {},
     "outputs": [
      {
       "output_type": "stream",
       "stream": "stdout",
       "text": [
        "10 loops, best of 3: 113 ms per loop\n",
        "1 loops, best of 3: 199 ms per loop"
       ]
      },
      {
       "output_type": "stream",
       "stream": "stdout",
       "text": [
        "\n"
       ]
      },
      {
       "output_type": "stream",
       "stream": "stdout",
       "text": [
        "peak memory: 413.71 MiB, increment: 95.37 MiB\n"
       ]
      },
      {
       "output_type": "stream",
       "stream": "stdout",
       "text": [
        "peak memory: 318.34 MiB, increment: 0.00 MiB\n"
       ]
      }
     ],
     "prompt_number": 22
    },
    {
     "cell_type": "code",
     "collapsed": false,
     "input": [
      "%timeit x = g.allele_counts()\n",
      "%timeit x = gc.allele_counts()\n",
      "%memit x = g.allele_counts()\n",
      "%memit x = gc.allele_counts()"
     ],
     "language": "python",
     "metadata": {},
     "outputs": [
      {
       "output_type": "stream",
       "stream": "stdout",
       "text": [
        "1 loops, best of 3: 256 ms per loop\n",
        "1 loops, best of 3: 426 ms per loop"
       ]
      },
      {
       "output_type": "stream",
       "stream": "stdout",
       "text": [
        "\n"
       ]
      },
      {
       "output_type": "stream",
       "stream": "stdout",
       "text": [
        "peak memory: 413.71 MiB, increment: 95.37 MiB\n"
       ]
      },
      {
       "output_type": "stream",
       "stream": "stdout",
       "text": [
        "peak memory: 318.34 MiB, increment: 0.00 MiB\n"
       ]
      }
     ],
     "prompt_number": 23
    },
    {
     "cell_type": "code",
     "collapsed": false,
     "input": [
      "%timeit x = g.is_segregating()\n",
      "%timeit x = gc.is_segregating()\n",
      "%memit x = g.is_segregating()\n",
      "%memit x = gc.is_segregating()"
     ],
     "language": "python",
     "metadata": {},
     "outputs": [
      {
       "output_type": "stream",
       "stream": "stdout",
       "text": [
        "1 loops, best of 3: 256 ms per loop\n",
        "1 loops, best of 3: 334 ms per loop"
       ]
      },
      {
       "output_type": "stream",
       "stream": "stdout",
       "text": [
        "\n"
       ]
      },
      {
       "output_type": "stream",
       "stream": "stdout",
       "text": [
        "peak memory: 413.72 MiB, increment: 95.37 MiB\n"
       ]
      },
      {
       "output_type": "stream",
       "stream": "stdout",
       "text": [
        "peak memory: 318.35 MiB, increment: 0.00 MiB\n"
       ]
      }
     ],
     "prompt_number": 24
    },
    {
     "cell_type": "code",
     "collapsed": false,
     "input": [
      "%timeit x = g.count_segregating()\n",
      "%timeit x = gc.count_segregating()\n",
      "%memit x = g.count_segregating()\n",
      "%memit x = gc.count_segregating()"
     ],
     "language": "python",
     "metadata": {},
     "outputs": [
      {
       "output_type": "stream",
       "stream": "stdout",
       "text": [
        "1 loops, best of 3: 257 ms per loop\n",
        "1 loops, best of 3: 334 ms per loop"
       ]
      },
      {
       "output_type": "stream",
       "stream": "stdout",
       "text": [
        "\n"
       ]
      },
      {
       "output_type": "stream",
       "stream": "stdout",
       "text": [
        "peak memory: 413.73 MiB, increment: 95.37 MiB\n"
       ]
      },
      {
       "output_type": "stream",
       "stream": "stdout",
       "text": [
        "peak memory: 318.36 MiB, increment: 0.00 MiB\n"
       ]
      }
     ],
     "prompt_number": 25
    },
    {
     "cell_type": "heading",
     "level": 2,
     "metadata": {},
     "source": [
      "Subset operations"
     ]
    },
    {
     "cell_type": "code",
     "collapsed": false,
     "input": [
      "variants = np.unique(np.random.randint(0, n_variants, size=n_variants/2))\n",
      "variants"
     ],
     "language": "python",
     "metadata": {},
     "outputs": [
      {
       "metadata": {},
       "output_type": "pyout",
       "prompt_number": 26,
       "text": [
        "array([    6,     7,     9, ..., 49995, 49997, 49998])"
       ]
      }
     ],
     "prompt_number": 26
    },
    {
     "cell_type": "code",
     "collapsed": false,
     "input": [
      "samples = np.unique(np.random.randint(0, n_samples, size=n_samples/2))\n",
      "samples"
     ],
     "language": "python",
     "metadata": {},
     "outputs": [
      {
       "metadata": {},
       "output_type": "pyout",
       "prompt_number": 27,
       "text": [
        "array([  0,   2,   4,   5,   6,   8,  15,  16,  17,  18,  19,  20,  25,\n",
        "        26,  28,  33,  36,  37,  41,  44,  45,  51,  54,  57,  58,  60,\n",
        "        61,  62,  63,  64,  67,  72,  73,  77,  84,  85,  86,  87,  89,\n",
        "        95,  99, 101, 105, 109, 114, 115, 119, 120, 121, 124, 125, 129,\n",
        "       133, 135, 141, 142, 145, 147, 155, 157, 158, 160, 162, 164, 170,\n",
        "       175, 176, 177, 184, 186, 193, 195, 199, 201, 203, 208, 209, 210,\n",
        "       211, 212, 218, 220, 221, 226, 227, 228, 229, 236, 238, 240, 241,\n",
        "       243, 247, 250, 253, 254, 256, 259, 261, 262, 268, 269, 272, 273,\n",
        "       275, 277, 279, 282, 283, 284, 287, 288, 291, 293, 297, 301, 304,\n",
        "       305, 308, 309, 310, 311, 312, 318, 321, 322, 324, 333, 334, 336,\n",
        "       338, 342, 343, 345, 347, 349, 351, 354, 360, 361, 366, 370, 371,\n",
        "       373, 376, 378, 379, 380, 381, 382, 383, 384, 386, 393, 395, 396,\n",
        "       397, 399, 401, 404, 406, 409, 411, 412, 422, 425, 426, 429, 437,\n",
        "       442, 446, 450, 452, 454, 455, 458, 459, 462, 464, 465, 467, 472,\n",
        "       474, 477, 480, 481, 487, 490, 493, 494, 497, 500, 501, 502, 506,\n",
        "       507, 508, 510, 515, 516, 517, 522, 523, 526, 528, 529, 532, 533,\n",
        "       536, 537, 538, 542, 544, 546, 549, 551, 552, 555, 559, 560, 561,\n",
        "       562, 564, 567, 569, 570, 571, 577, 580, 582, 585, 586, 588, 591,\n",
        "       599, 600, 602, 603, 604, 607, 610, 611, 612, 613, 614, 616, 618,\n",
        "       621, 624, 625, 634, 635, 636, 639, 640, 641, 642, 643, 646, 647,\n",
        "       654, 660, 663, 667, 669, 670, 672, 677, 679, 680, 684, 685, 688,\n",
        "       690, 691, 693, 696, 704, 705, 706, 707, 708, 709, 713, 715, 716,\n",
        "       717, 721, 725, 726, 727, 728, 730, 731, 733, 734, 736, 739, 743,\n",
        "       744, 745, 750, 752, 755, 760, 767, 768, 772, 778, 782, 786, 792,\n",
        "       797, 802, 803, 807, 808, 812, 813, 818, 819, 821, 822, 823, 825,\n",
        "       830, 832, 833, 837, 843, 845, 846, 848, 851, 854, 855, 858, 859,\n",
        "       861, 862, 864, 866, 871, 873, 879, 882, 883, 885, 889, 890, 892,\n",
        "       896, 898, 899, 900, 904, 907, 908, 910, 912, 915, 917, 922, 925,\n",
        "       927, 930, 932, 933, 936, 938, 940, 943, 950, 952, 953, 956, 958,\n",
        "       960, 961, 968, 969, 973, 974, 975, 977, 981, 985, 986, 990, 991, 992])"
       ]
      }
     ],
     "prompt_number": 27
    },
    {
     "cell_type": "code",
     "collapsed": false,
     "input": [
      "%timeit x = g.take(variants, axis=0)\n",
      "%timeit x = gc.take(variants, axis=0)\n",
      "%memit x = g.take(variants, axis=0)\n",
      "%memit x = gc.take(variants, axis=0)"
     ],
     "language": "python",
     "metadata": {},
     "outputs": [
      {
       "output_type": "stream",
       "stream": "stdout",
       "text": [
        "10 loops, best of 3: 28.8 ms per loop\n",
        "10 loops, best of 3: 148 ms per loop"
       ]
      },
      {
       "output_type": "stream",
       "stream": "stdout",
       "text": [
        "\n"
       ]
      },
      {
       "output_type": "stream",
       "stream": "stdout",
       "text": [
        "peak memory: 383.36 MiB, increment: 64.96 MiB\n"
       ]
      },
      {
       "output_type": "stream",
       "stream": "stdout",
       "text": [
        "peak memory: 318.40 MiB, increment: -37.57 MiB\n"
       ]
      }
     ],
     "prompt_number": 28
    },
    {
     "cell_type": "code",
     "collapsed": false,
     "input": [
      "%timeit x = g.take(samples, axis=1)\n",
      "%timeit x = gc.take(samples, axis=1)\n",
      "%memit x = g.take(samples, axis=1)\n",
      "%memit x = gc.take(samples, axis=1)"
     ],
     "language": "python",
     "metadata": {},
     "outputs": [
      {
       "output_type": "stream",
       "stream": "stdout",
       "text": [
        "10 loops, best of 3: 47.7 ms per loop\n",
        "10 loops, best of 3: 176 ms per loop"
       ]
      },
      {
       "output_type": "stream",
       "stream": "stdout",
       "text": [
        "\n"
       ]
      },
      {
       "output_type": "stream",
       "stream": "stdout",
       "text": [
        "peak memory: 407.30 MiB, increment: 70.58 MiB\n"
       ]
      },
      {
       "output_type": "stream",
       "stream": "stdout",
       "text": [
        "peak memory: 337.09 MiB, increment: -36.92 MiB\n"
       ]
      }
     ],
     "prompt_number": 29
    },
    {
     "cell_type": "code",
     "collapsed": false,
     "input": [
      "%timeit x = g.subset(variants, samples)\n",
      "%timeit x = gc.subset(variants, samples)\n",
      "%memit x = g.subset(variants, samples)\n",
      "%memit x = gc.subset(variants, samples)"
     ],
     "language": "python",
     "metadata": {},
     "outputs": [
      {
       "output_type": "stream",
       "stream": "stdout",
       "text": [
        "10 loops, best of 3: 133 ms per loop\n",
        "1 loops, best of 3: 255 ms per loop"
       ]
      },
      {
       "output_type": "stream",
       "stream": "stdout",
       "text": [
        "\n"
       ]
      },
      {
       "output_type": "stream",
       "stream": "stdout",
       "text": [
        "peak memory: 357.78 MiB, increment: 0.00 MiB\n"
       ]
      },
      {
       "output_type": "stream",
       "stream": "stdout",
       "text": [
        "peak memory: 316.68 MiB, increment: 0.00 MiB\n"
       ]
      }
     ],
     "prompt_number": 30
    },
    {
     "cell_type": "code",
     "collapsed": false,
     "input": [
      "gc.subset(variants, samples)"
     ],
     "language": "python",
     "metadata": {},
     "outputs": [
      {
       "metadata": {},
       "output_type": "pyout",
       "prompt_number": 31,
       "text": [
        "GenotypeCArray((19699, 391, 2), int8)\n",
        "  nbytes: 14.69 MB; cbytes: 2.86 MB; ratio: 5.13\n",
        "  cparams := cparams(clevel=5, shuffle=True, cname='blosclz')\n",
        "[[[0 0]\n",
        "  [0 0]\n",
        "  [0 1]\n",
        "  ..., \n",
        "  [0 0]\n",
        "  [0 0]\n",
        "  [0 0]]\n",
        "\n",
        " [[0 0]\n",
        "  [0 0]\n",
        "  [0 0]\n",
        "  ..., \n",
        "  [0 0]\n",
        "  [0 0]\n",
        "  [0 0]]\n",
        "\n",
        " [[1 1]\n",
        "  [0 0]\n",
        "  [0 1]\n",
        "  ..., \n",
        "  [0 0]\n",
        "  [0 1]\n",
        "  [0 0]]\n",
        "\n",
        " ..., \n",
        " [[0 0]\n",
        "  [0 0]\n",
        "  [0 0]\n",
        "  ..., \n",
        "  [0 0]\n",
        "  [0 0]\n",
        "  [0 0]]\n",
        "\n",
        " [[0 0]\n",
        "  [0 0]\n",
        "  [0 0]\n",
        "  ..., \n",
        "  [0 1]\n",
        "  [0 1]\n",
        "  [0 0]]\n",
        "\n",
        " [[0 0]\n",
        "  [0 1]\n",
        "  [0 0]\n",
        "  ..., \n",
        "  [0 0]\n",
        "  [0 0]\n",
        "  [0 0]]]"
       ]
      }
     ],
     "prompt_number": 31
    },
    {
     "cell_type": "code",
     "collapsed": false,
     "input": [],
     "language": "python",
     "metadata": {},
     "outputs": [],
     "prompt_number": 31
    },
    {
     "cell_type": "heading",
     "level": 2,
     "metadata": {},
     "source": [
      "Sandbox"
     ]
    },
    {
     "cell_type": "code",
     "collapsed": false,
     "input": [
      "%timeit gc.is_called()"
     ],
     "language": "python",
     "metadata": {},
     "outputs": [
      {
       "output_type": "stream",
       "stream": "stdout",
       "text": [
        "1 loops, best of 3: 216 ms per loop\n"
       ]
      }
     ],
     "prompt_number": 165
    },
    {
     "cell_type": "code",
     "collapsed": false,
     "input": [
      "%memit gc.is_called()"
     ],
     "language": "python",
     "metadata": {},
     "outputs": [
      {
       "output_type": "stream",
       "stream": "stdout",
       "text": [
        "peak memory: 472.54 MiB, increment: 0.24 MiB\n"
       ]
      }
     ],
     "prompt_number": 143
    },
    {
     "cell_type": "code",
     "collapsed": false,
     "input": [
      "x1 = g.subset(variants, samples)\n",
      "x1"
     ],
     "language": "python",
     "metadata": {},
     "outputs": [
      {
       "metadata": {},
       "output_type": "pyout",
       "prompt_number": 150,
       "text": [
        "GenotypeArray((196568, 40, 2), int8)\n",
        "[[[0 0]\n",
        "  [0 0]\n",
        "  [0 0]\n",
        "  ..., \n",
        "  [0 0]\n",
        "  [0 0]\n",
        "  [0 0]]\n",
        "\n",
        " [[0 0]\n",
        "  [0 0]\n",
        "  [0 0]\n",
        "  ..., \n",
        "  [0 0]\n",
        "  [0 0]\n",
        "  [0 0]]\n",
        "\n",
        " [[0 0]\n",
        "  [0 0]\n",
        "  [0 0]\n",
        "  ..., \n",
        "  [0 0]\n",
        "  [0 0]\n",
        "  [0 0]]\n",
        "\n",
        " ..., \n",
        " [[0 0]\n",
        "  [0 0]\n",
        "  [0 0]\n",
        "  ..., \n",
        "  [0 0]\n",
        "  [0 0]\n",
        "  [0 0]]\n",
        "\n",
        " [[0 0]\n",
        "  [0 0]\n",
        "  [0 0]\n",
        "  ..., \n",
        "  [0 0]\n",
        "  [0 0]\n",
        "  [0 0]]\n",
        "\n",
        " [[0 0]\n",
        "  [0 0]\n",
        "  [0 0]\n",
        "  ..., \n",
        "  [0 0]\n",
        "  [0 0]\n",
        "  [0 0]]]"
       ]
      }
     ],
     "prompt_number": 150
    },
    {
     "cell_type": "code",
     "collapsed": false,
     "input": [
      "x2 = gc.subset(variants, samples)\n",
      "x2"
     ],
     "language": "python",
     "metadata": {},
     "outputs": [
      {
       "metadata": {},
       "output_type": "pyout",
       "prompt_number": 152,
       "text": [
        "carray((196568, 40, 2), int8)\n",
        "  nbytes: 15.00 MB; cbytes: 4.28 MB; ratio: 3.51\n",
        "  cparams := cparams(clevel=5, shuffle=True, cname='blosclz')\n",
        "[[[0 0]\n",
        "  [0 0]\n",
        "  [0 0]\n",
        "  ..., \n",
        "  [0 0]\n",
        "  [0 0]\n",
        "  [0 0]]\n",
        "\n",
        " [[0 0]\n",
        "  [0 0]\n",
        "  [0 0]\n",
        "  ..., \n",
        "  [0 0]\n",
        "  [0 0]\n",
        "  [0 0]]\n",
        "\n",
        " [[0 0]\n",
        "  [0 0]\n",
        "  [0 0]\n",
        "  ..., \n",
        "  [0 0]\n",
        "  [0 0]\n",
        "  [0 0]]\n",
        "\n",
        " ..., \n",
        " [[0 0]\n",
        "  [0 0]\n",
        "  [0 0]\n",
        "  ..., \n",
        "  [0 0]\n",
        "  [0 0]\n",
        "  [0 0]]\n",
        "\n",
        " [[0 0]\n",
        "  [0 0]\n",
        "  [0 0]\n",
        "  ..., \n",
        "  [0 0]\n",
        "  [0 0]\n",
        "  [0 0]]\n",
        "\n",
        " [[0 0]\n",
        "  [0 0]\n",
        "  [0 0]\n",
        "  ..., \n",
        "  [0 0]\n",
        "  [0 0]\n",
        "  [0 0]]]"
       ]
      }
     ],
     "prompt_number": 152
    },
    {
     "cell_type": "code",
     "collapsed": false,
     "input": [
      "np.array_equal(x1, x2)"
     ],
     "language": "python",
     "metadata": {},
     "outputs": [
      {
       "metadata": {},
       "output_type": "pyout",
       "prompt_number": 153,
       "text": [
        "True"
       ]
      }
     ],
     "prompt_number": 153
    },
    {
     "cell_type": "code",
     "collapsed": false,
     "input": [
      "%timeit g.subset(variants, samples)"
     ],
     "language": "python",
     "metadata": {},
     "outputs": [
      {
       "output_type": "stream",
       "stream": "stdout",
       "text": [
        "10 loops, best of 3: 179 ms per loop\n"
       ]
      }
     ],
     "prompt_number": 154
    },
    {
     "cell_type": "code",
     "collapsed": false,
     "input": [
      "%memit g.subset(variants, samples)"
     ],
     "language": "python",
     "metadata": {},
     "outputs": [
      {
       "output_type": "stream",
       "stream": "stdout",
       "text": [
        "peak memory: 546.13 MiB, increment: 0.00 MiB\n"
       ]
      }
     ],
     "prompt_number": 155
    },
    {
     "cell_type": "code",
     "collapsed": false,
     "input": [
      "%timeit gc.subset(variants, samples)"
     ],
     "language": "python",
     "metadata": {},
     "outputs": [
      {
       "output_type": "stream",
       "stream": "stdout",
       "text": [
        "1 loops, best of 3: 310 ms per loop\n"
       ]
      }
     ],
     "prompt_number": 156
    },
    {
     "cell_type": "code",
     "collapsed": false,
     "input": [
      "%memit gc.subset(variants, samples)"
     ],
     "language": "python",
     "metadata": {},
     "outputs": [
      {
       "output_type": "stream",
       "stream": "stdout",
       "text": [
        "peak memory: 546.67 MiB, increment: 0.00 MiB\n"
       ]
      }
     ],
     "prompt_number": 157
    },
    {
     "cell_type": "code",
     "collapsed": false,
     "input": [
      "gc[variants]"
     ],
     "language": "python",
     "metadata": {},
     "outputs": [
      {
       "metadata": {},
       "output_type": "pyout",
       "prompt_number": 158,
       "text": [
        "GenotypeArray((196568, 100, 2), int8)\n",
        "[[[0 1]\n",
        "  [0 0]\n",
        "  [0 0]\n",
        "  ..., \n",
        "  [0 0]\n",
        "  [0 0]\n",
        "  [0 0]]\n",
        "\n",
        " [[0 0]\n",
        "  [0 0]\n",
        "  [0 0]\n",
        "  ..., \n",
        "  [0 0]\n",
        "  [0 0]\n",
        "  [0 0]]\n",
        "\n",
        " [[0 1]\n",
        "  [0 0]\n",
        "  [0 0]\n",
        "  ..., \n",
        "  [0 0]\n",
        "  [0 0]\n",
        "  [0 0]]\n",
        "\n",
        " ..., \n",
        " [[0 0]\n",
        "  [0 1]\n",
        "  [0 0]\n",
        "  ..., \n",
        "  [0 0]\n",
        "  [0 0]\n",
        "  [0 0]]\n",
        "\n",
        " [[0 0]\n",
        "  [0 0]\n",
        "  [0 0]\n",
        "  ..., \n",
        "  [0 0]\n",
        "  [0 0]\n",
        "  [0 0]]\n",
        "\n",
        " [[0 0]\n",
        "  [0 0]\n",
        "  [0 0]\n",
        "  ..., \n",
        "  [1 1]\n",
        "  [0 0]\n",
        "  [0 0]]]"
       ]
      }
     ],
     "prompt_number": 158
    },
    {
     "cell_type": "code",
     "collapsed": false,
     "input": [
      "b = gc.is_called()\n",
      "b"
     ],
     "language": "python",
     "metadata": {},
     "outputs": [
      {
       "metadata": {},
       "output_type": "pyout",
       "prompt_number": 167,
       "text": [
        "carray((500000, 100), uint8)\n",
        "  nbytes: 47.68 MB; cbytes: 2.21 MB; ratio: 21.58\n",
        "  cparams := cparams(clevel=5, shuffle=True, cname='blosclz')\n",
        "[[1 1 1 ..., 1 1 1]\n",
        " [1 1 1 ..., 1 1 1]\n",
        " [1 1 1 ..., 1 1 1]\n",
        " ..., \n",
        " [1 1 1 ..., 1 1 1]\n",
        " [1 1 1 ..., 1 1 1]\n",
        " [1 1 1 ..., 1 1 1]]"
       ]
      }
     ],
     "prompt_number": 167
    },
    {
     "cell_type": "code",
     "collapsed": false,
     "input": [
      "import bcolz"
     ],
     "language": "python",
     "metadata": {},
     "outputs": [],
     "prompt_number": 166
    },
    {
     "cell_type": "code",
     "collapsed": false,
     "input": [
      "import numexpr"
     ],
     "language": "python",
     "metadata": {},
     "outputs": [],
     "prompt_number": 171
    },
    {
     "cell_type": "code",
     "collapsed": false,
     "input": [
      "%memit bcolz.eval('sum(b)')"
     ],
     "language": "python",
     "metadata": {},
     "outputs": [
      {
       "output_type": "stream",
       "stream": "stdout",
       "text": [
        "peak memory: 639.66 MiB, increment: 47.66 MiB\n"
       ]
      }
     ],
     "prompt_number": 170
    },
    {
     "cell_type": "code",
     "collapsed": false,
     "input": [
      "%memit bcolz.eval('np.sum(b, axis=0)', vm='python')"
     ],
     "language": "python",
     "metadata": {},
     "outputs": [
      {
       "output_type": "stream",
       "stream": "stdout",
       "text": [
        "peak memory: 639.69 MiB, increment: 47.69 MiB\n"
       ]
      }
     ],
     "prompt_number": 174
    },
    {
     "cell_type": "code",
     "collapsed": false,
     "input": [
      "%memit numexpr.evaluate('sum(b)')"
     ],
     "language": "python",
     "metadata": {},
     "outputs": [
      {
       "output_type": "stream",
       "stream": "stdout",
       "text": [
        "peak memory: 676.69 MiB, increment: 84.69 MiB\n"
       ]
      }
     ],
     "prompt_number": 172
    },
    {
     "cell_type": "code",
     "collapsed": false,
     "input": [
      "def block_sum(a, axis=None):\n",
      "    if axis is None:\n",
      "        out = 0\n",
      "    elif axis == 0:\n",
      "        out = np.zeros((a.shape[1],), dtype=int)\n",
      "    elif axis == 1:\n",
      "        out = np.zeros((a.shape[0],), dtype=int)\n",
      "    bs = a.chunklen\n",
      "    for i in range(0, a.shape[0], bs):\n",
      "        x = a[i:i+bs]\n",
      "        out += np.sum(x)\n",
      "    return out"
     ],
     "language": "python",
     "metadata": {},
     "outputs": [],
     "prompt_number": 177
    },
    {
     "cell_type": "code",
     "collapsed": false,
     "input": [
      "block_sum(b)"
     ],
     "language": "python",
     "metadata": {},
     "outputs": [
      {
       "metadata": {},
       "output_type": "pyout",
       "prompt_number": 178,
       "text": [
        "50000000.0"
       ]
      }
     ],
     "prompt_number": 178
    },
    {
     "cell_type": "code",
     "collapsed": false,
     "input": [
      "gc.count_called()"
     ],
     "language": "python",
     "metadata": {},
     "outputs": [
      {
       "metadata": {},
       "output_type": "pyout",
       "prompt_number": 181,
       "text": [
        "50000000.0"
       ]
      }
     ],
     "prompt_number": 181
    },
    {
     "cell_type": "code",
     "collapsed": false,
     "input": [
      "%memit gc.count_called()"
     ],
     "language": "python",
     "metadata": {},
     "outputs": [
      {
       "output_type": "stream",
       "stream": "stdout",
       "text": [
        "peak memory: 592.06 MiB, increment: 0.00 MiB\n"
       ]
      }
     ],
     "prompt_number": 182
    },
    {
     "cell_type": "code",
     "collapsed": false,
     "input": [
      "d = gc.data\n",
      "d"
     ],
     "language": "python",
     "metadata": {},
     "outputs": [
      {
       "metadata": {},
       "output_type": "pyout",
       "prompt_number": 183,
       "text": [
        "carray((500000, 100, 2), int8)\n",
        "  nbytes: 95.37 MB; cbytes: 18.97 MB; ratio: 5.03\n",
        "  cparams := cparams(clevel=5, shuffle=True, cname='blosclz')\n",
        "[[[0 0]\n",
        "  [0 0]\n",
        "  [0 0]\n",
        "  ..., \n",
        "  [0 0]\n",
        "  [0 0]\n",
        "  [0 0]]\n",
        "\n",
        " [[0 0]\n",
        "  [0 0]\n",
        "  [0 0]\n",
        "  ..., \n",
        "  [0 0]\n",
        "  [0 0]\n",
        "  [0 0]]\n",
        "\n",
        " [[0 1]\n",
        "  [0 0]\n",
        "  [0 0]\n",
        "  ..., \n",
        "  [0 0]\n",
        "  [0 0]\n",
        "  [0 0]]\n",
        "\n",
        " ..., \n",
        " [[0 0]\n",
        "  [0 0]\n",
        "  [0 0]\n",
        "  ..., \n",
        "  [0 0]\n",
        "  [0 0]\n",
        "  [0 0]]\n",
        "\n",
        " [[0 0]\n",
        "  [0 0]\n",
        "  [0 0]\n",
        "  ..., \n",
        "  [0 0]\n",
        "  [0 0]\n",
        "  [0 0]]\n",
        "\n",
        " [[0 0]\n",
        "  [0 0]\n",
        "  [0 0]\n",
        "  ..., \n",
        "  [1 1]\n",
        "  [0 0]\n",
        "  [0 0]]]"
       ]
      }
     ],
     "prompt_number": 183
    },
    {
     "cell_type": "code",
     "collapsed": false,
     "input": [
      "%memit bcolz.eval('np.max(d)', vm='python')"
     ],
     "language": "python",
     "metadata": {},
     "outputs": [
      {
       "output_type": "stream",
       "stream": "stdout",
       "text": [
        "peak memory: 687.31 MiB, increment: 95.25 MiB\n"
       ]
      }
     ],
     "prompt_number": 186
    },
    {
     "cell_type": "code",
     "collapsed": false,
     "input": [
      "gc = allel.bcolz.GenotypeCArray(data, dtype='i1', expectedlen=(n_variants*n_samples*ploidy))"
     ],
     "language": "python",
     "metadata": {},
     "outputs": [
      {
       "output_type": "stream",
       "stream": "stderr",
       "text": [
        "[autoreload of allel.bcolz failed: Traceback (most recent call last):\n",
        "  File \"/home/aliman/pyenv/science_py3/lib/python3.4/site-packages/IPython/extensions/autoreload.py\", line 247, in check\n",
        "    superreload(m, reload, self.old_objects)\n",
        "ImportError: cannot import name 'integer_types'\n",
        "]\n",
        "[autoreload of allel.bcolz failed: Traceback (most recent call last):\n",
        "  File \"/home/aliman/pyenv/science_py3/lib/python3.4/site-packages/IPython/extensions/autoreload.py\", line 247, in check\n",
        "    superreload(m, reload, self.old_objects)\n",
        "ImportError: cannot import name 'integer_types'\n",
        "]\n"
       ]
      }
     ],
     "prompt_number": 214
    },
    {
     "cell_type": "code",
     "collapsed": false,
     "input": [
      "hc = gc.view_haplotypes()"
     ],
     "language": "python",
     "metadata": {},
     "outputs": [],
     "prompt_number": 213
    },
    {
     "cell_type": "code",
     "collapsed": false,
     "input": [
      "hc"
     ],
     "language": "python",
     "metadata": {},
     "outputs": [
      {
       "metadata": {},
       "output_type": "pyout",
       "prompt_number": 189,
       "text": [
        "HaplotypeCArray((500000, 200), int8)\n",
        "  nbytes: 95.37 MB; cbytes: 15.98 MB; ratio: 5.97\n",
        "  cparams := cparams(clevel=5, shuffle=True, cname='blosclz')\n",
        "[[0 0 0 ..., 0 0 0]\n",
        " [0 0 0 ..., 0 0 0]\n",
        " [0 1 0 ..., 0 0 0]\n",
        " ..., \n",
        " [0 0 0 ..., 0 0 0]\n",
        " [0 0 0 ..., 0 0 0]\n",
        " [0 0 0 ..., 0 0 0]]"
       ]
      }
     ],
     "prompt_number": 189
    },
    {
     "cell_type": "code",
     "collapsed": false,
     "input": [
      "gc.data"
     ],
     "language": "python",
     "metadata": {},
     "outputs": [
      {
       "metadata": {},
       "output_type": "pyout",
       "prompt_number": 190,
       "text": [
        "carray((500000, 100, 2), int8)\n",
        "  nbytes: 95.37 MB; cbytes: 18.97 MB; ratio: 5.03\n",
        "  cparams := cparams(clevel=5, shuffle=True, cname='blosclz')\n",
        "[[[0 0]\n",
        "  [0 0]\n",
        "  [0 0]\n",
        "  ..., \n",
        "  [0 0]\n",
        "  [0 0]\n",
        "  [0 0]]\n",
        "\n",
        " [[0 0]\n",
        "  [0 0]\n",
        "  [0 0]\n",
        "  ..., \n",
        "  [0 0]\n",
        "  [0 0]\n",
        "  [0 0]]\n",
        "\n",
        " [[0 1]\n",
        "  [0 0]\n",
        "  [0 0]\n",
        "  ..., \n",
        "  [0 0]\n",
        "  [0 0]\n",
        "  [0 0]]\n",
        "\n",
        " ..., \n",
        " [[0 0]\n",
        "  [0 0]\n",
        "  [0 0]\n",
        "  ..., \n",
        "  [0 0]\n",
        "  [0 0]\n",
        "  [0 0]]\n",
        "\n",
        " [[0 0]\n",
        "  [0 0]\n",
        "  [0 0]\n",
        "  ..., \n",
        "  [0 0]\n",
        "  [0 0]\n",
        "  [0 0]]\n",
        "\n",
        " [[0 0]\n",
        "  [0 0]\n",
        "  [0 0]\n",
        "  ..., \n",
        "  [1 1]\n",
        "  [0 0]\n",
        "  [0 0]]]"
       ]
      }
     ],
     "prompt_number": 190
    },
    {
     "cell_type": "code",
     "collapsed": false,
     "input": [
      "dh = gc.data.reshape((n_variants, (n_samples*ploidy)))"
     ],
     "language": "python",
     "metadata": {},
     "outputs": [],
     "prompt_number": 193
    },
    {
     "cell_type": "code",
     "collapsed": false,
     "input": [
      "d = gc.data\n",
      "d"
     ],
     "language": "python",
     "metadata": {},
     "outputs": [
      {
       "metadata": {},
       "output_type": "pyout",
       "prompt_number": 194,
       "text": [
        "carray((500000, 100, 2), int8)\n",
        "  nbytes: 95.37 MB; cbytes: 18.97 MB; ratio: 5.03\n",
        "  cparams := cparams(clevel=5, shuffle=True, cname='blosclz')\n",
        "[[[0 0]\n",
        "  [0 0]\n",
        "  [0 0]\n",
        "  ..., \n",
        "  [0 0]\n",
        "  [0 0]\n",
        "  [0 0]]\n",
        "\n",
        " [[0 0]\n",
        "  [0 0]\n",
        "  [0 0]\n",
        "  ..., \n",
        "  [0 0]\n",
        "  [0 0]\n",
        "  [0 0]]\n",
        "\n",
        " [[0 1]\n",
        "  [0 0]\n",
        "  [0 0]\n",
        "  ..., \n",
        "  [0 0]\n",
        "  [0 0]\n",
        "  [0 0]]\n",
        "\n",
        " ..., \n",
        " [[0 0]\n",
        "  [0 0]\n",
        "  [0 0]\n",
        "  ..., \n",
        "  [0 0]\n",
        "  [0 0]\n",
        "  [0 0]]\n",
        "\n",
        " [[0 0]\n",
        "  [0 0]\n",
        "  [0 0]\n",
        "  ..., \n",
        "  [0 0]\n",
        "  [0 0]\n",
        "  [0 0]]\n",
        "\n",
        " [[0 0]\n",
        "  [0 0]\n",
        "  [0 0]\n",
        "  ..., \n",
        "  [1 1]\n",
        "  [0 0]\n",
        "  [0 0]]]"
       ]
      }
     ],
     "prompt_number": 194
    },
    {
     "cell_type": "code",
     "collapsed": false,
     "input": [
      "d.reshape(-1)"
     ],
     "language": "python",
     "metadata": {},
     "outputs": [
      {
       "metadata": {},
       "output_type": "pyout",
       "prompt_number": 195,
       "text": [
        "carray((100000000,), int8)\n",
        "  nbytes: 95.37 MB; cbytes: 15.98 MB; ratio: 5.97\n",
        "  cparams := cparams(clevel=5, shuffle=True, cname='blosclz')\n",
        "[0 0 0 ..., 0 0 0]"
       ]
      }
     ],
     "prompt_number": 195
    },
    {
     "cell_type": "code",
     "collapsed": false,
     "input": [
      "d.sum()"
     ],
     "language": "python",
     "metadata": {},
     "outputs": [
      {
       "metadata": {},
       "output_type": "pyout",
       "prompt_number": 201,
       "text": [
        "5256279"
       ]
      }
     ],
     "prompt_number": 201
    },
    {
     "cell_type": "code",
     "collapsed": false,
     "input": [
      "dir(d)"
     ],
     "language": "python",
     "metadata": {},
     "outputs": [
      {
       "metadata": {},
       "output_type": "pyout",
       "prompt_number": 200,
       "text": [
        "['__class__',\n",
        " '__delattr__',\n",
        " '__delitem__',\n",
        " '__dir__',\n",
        " '__doc__',\n",
        " '__eq__',\n",
        " '__format__',\n",
        " '__ge__',\n",
        " '__getattribute__',\n",
        " '__getitem__',\n",
        " '__gt__',\n",
        " '__hash__',\n",
        " '__init__',\n",
        " '__iter__',\n",
        " '__le__',\n",
        " '__len__',\n",
        " '__lt__',\n",
        " '__ne__',\n",
        " '__new__',\n",
        " '__next__',\n",
        " '__pyx_vtable__',\n",
        " '__reduce__',\n",
        " '__reduce_ex__',\n",
        " '__repr__',\n",
        " '__setattr__',\n",
        " '__setitem__',\n",
        " '__sizeof__',\n",
        " '__str__',\n",
        " '__subclasshook__',\n",
        " '_getrange',\n",
        " '_init_iter',\n",
        " '_init_where',\n",
        " '_init_wheretrue',\n",
        " '_update_disk_sizes',\n",
        " 'append',\n",
        " 'atomsize',\n",
        " 'attrs',\n",
        " 'cbytes',\n",
        " 'chunklen',\n",
        " 'chunks',\n",
        " 'copy',\n",
        " 'cparams',\n",
        " 'create_carray',\n",
        " 'dflt',\n",
        " 'dtype',\n",
        " 'fill_chunks',\n",
        " 'flush',\n",
        " 'free_cachemem',\n",
        " 'getitem_object',\n",
        " 'itemsize',\n",
        " 'iter',\n",
        " 'leftover_array',\n",
        " 'leftovers',\n",
        " 'len',\n",
        " 'mkdirs',\n",
        " 'mode',\n",
        " 'nbytes',\n",
        " 'nchunks',\n",
        " 'ndim',\n",
        " 'open_carray',\n",
        " 'partitions',\n",
        " 'read_meta',\n",
        " 'reshape',\n",
        " 'resize',\n",
        " 'rootdir',\n",
        " 'shape',\n",
        " 'size',\n",
        " 'store_obj',\n",
        " 'sum',\n",
        " 'trim',\n",
        " 'view',\n",
        " 'where',\n",
        " 'wheretrue',\n",
        " 'write_meta']"
       ]
      }
     ],
     "prompt_number": 200
    },
    {
     "cell_type": "code",
     "collapsed": false,
     "input": [
      "d.create_carray?"
     ],
     "language": "python",
     "metadata": {},
     "outputs": [],
     "prompt_number": 206
    },
    {
     "cell_type": "code",
     "collapsed": false,
     "input": [
      "hc"
     ],
     "language": "python",
     "metadata": {},
     "outputs": [
      {
       "output_type": "stream",
       "stream": "stderr",
       "text": [
        "[autoreload of allel.bcolz failed: Traceback (most recent call last):\n",
        "  File \"/home/aliman/pyenv/science_py3/lib/python3.4/site-packages/IPython/extensions/autoreload.py\", line 247, in check\n",
        "    superreload(m, reload, self.old_objects)\n",
        "ImportError: cannot import name 'integer_types'\n",
        "]\n"
       ]
      },
      {
       "metadata": {},
       "output_type": "pyout",
       "prompt_number": 207,
       "text": [
        "HaplotypeCArray((500000, 200), int8)\n",
        "  nbytes: 95.37 MB; cbytes: 15.98 MB; ratio: 5.97\n",
        "  cparams := cparams(clevel=5, shuffle=True, cname='blosclz')\n",
        "[[0 0 0 ..., 0 0 0]\n",
        " [0 0 0 ..., 0 0 0]\n",
        " [0 1 0 ..., 0 0 0]\n",
        " ..., \n",
        " [0 0 0 ..., 0 0 0]\n",
        " [0 0 0 ..., 0 0 0]\n",
        " [0 0 0 ..., 0 0 0]]"
       ]
      }
     ],
     "prompt_number": 207
    },
    {
     "cell_type": "code",
     "collapsed": false,
     "input": [
      "gc = allel.bcolz.GenotypeCArray(data, dtype='i1', expectedlen=(n_variants*n_samples*ploidy))"
     ],
     "language": "python",
     "metadata": {},
     "outputs": [],
     "prompt_number": 24
    },
    {
     "cell_type": "code",
     "collapsed": false,
     "input": [
      "hc = gc.view_haplotypes()"
     ],
     "language": "python",
     "metadata": {},
     "outputs": [],
     "prompt_number": 25
    },
    {
     "cell_type": "code",
     "collapsed": false,
     "input": [
      "hc"
     ],
     "language": "python",
     "metadata": {},
     "outputs": [
      {
       "metadata": {},
       "output_type": "pyout",
       "prompt_number": 26,
       "text": [
        "HaplotypeCArray((500000, 200), int8)\n",
        "  nbytes: 95.37 MB; cbytes: 18.96 MB; ratio: 5.03\n",
        "  cparams := cparams(clevel=5, shuffle=True, cname='blosclz')\n",
        "[[0 0 0 ..., 0 0 0]\n",
        " [0 1 0 ..., 0 0 0]\n",
        " [0 0 0 ..., 0 0 0]\n",
        " ..., \n",
        " [0 0 0 ..., 1 0 0]\n",
        " [0 0 0 ..., 0 0 0]\n",
        " [0 0 0 ..., 0 0 0]]"
       ]
      }
     ],
     "prompt_number": 26
    },
    {
     "cell_type": "code",
     "collapsed": false,
     "input": [
      "%memit hc = gc.view_haplotypes()"
     ],
     "language": "python",
     "metadata": {},
     "outputs": [
      {
       "output_type": "stream",
       "stream": "stdout",
       "text": [
        "peak memory: 539.62 MiB, increment: 4.46 MiB\n"
       ]
      }
     ],
     "prompt_number": 27
    },
    {
     "cell_type": "code",
     "collapsed": false,
     "input": [
      "gc2 = hc.view_genotypes(ploidy=2)"
     ],
     "language": "python",
     "metadata": {},
     "outputs": [],
     "prompt_number": 28
    },
    {
     "cell_type": "code",
     "collapsed": false,
     "input": [
      "hc == 0"
     ],
     "language": "python",
     "metadata": {},
     "outputs": [
      {
       "metadata": {},
       "output_type": "pyout",
       "prompt_number": 29,
       "text": [
        "carray((500000, 200), uint8)\n",
        "  nbytes: 95.37 MB; cbytes: 18.96 MB; ratio: 5.03\n",
        "  cparams := cparams(clevel=5, shuffle=True, cname='blosclz')\n",
        "[[1 1 1 ..., 1 1 1]\n",
        " [1 0 1 ..., 1 1 1]\n",
        " [1 1 1 ..., 1 1 1]\n",
        " ..., \n",
        " [1 1 1 ..., 0 1 1]\n",
        " [1 1 1 ..., 1 1 1]\n",
        " [1 1 1 ..., 1 1 1]]"
       ]
      }
     ],
     "prompt_number": 29
    },
    {
     "cell_type": "code",
     "collapsed": false,
     "input": [
      "hc.is_call(1)"
     ],
     "language": "python",
     "metadata": {},
     "outputs": [
      {
       "metadata": {},
       "output_type": "pyout",
       "prompt_number": 30,
       "text": [
        "carray((500000, 200), uint8)\n",
        "  nbytes: 95.37 MB; cbytes: 18.96 MB; ratio: 5.03\n",
        "  cparams := cparams(clevel=5, shuffle=True, cname='blosclz')\n",
        "[[0 0 0 ..., 0 0 0]\n",
        " [0 1 0 ..., 0 0 0]\n",
        " [0 0 0 ..., 0 0 0]\n",
        " ..., \n",
        " [0 0 0 ..., 1 0 0]\n",
        " [0 0 0 ..., 0 0 0]\n",
        " [0 0 0 ..., 0 0 0]]"
       ]
      }
     ],
     "prompt_number": 30
    },
    {
     "cell_type": "code",
     "collapsed": false,
     "input": [],
     "language": "python",
     "metadata": {},
     "outputs": []
    }
   ],
   "metadata": {}
  }
 ]
}