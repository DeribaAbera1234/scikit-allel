{
 "cells": [
  {
   "cell_type": "code",
   "execution_count": 1,
   "metadata": {
    "collapsed": false
   },
   "outputs": [],
   "source": [
    "import numpy as np\n",
    "np.random.seed(42)\n",
    "import sys\n",
    "import cProfile\n",
    "import humanize\n",
    "sys.path.insert(0, '../..')\n",
    "%reload_ext memory_profiler\n",
    "%reload_ext autoreload\n",
    "%autoreload 1\n",
    "%aimport allel.model\n",
    "%aimport allel.stats\n",
    "%aimport allel.opt.stats"
   ]
  },
  {
   "cell_type": "code",
   "execution_count": 2,
   "metadata": {
    "collapsed": true
   },
   "outputs": [],
   "source": [
    "gn = np.array([[0, 0, 1, 0, 2, 0, 1, 1, 0],\n",
    "               [1, 0, 0, 1, 1, 2, 0, 0, 2]], dtype='i1')"
   ]
  },
  {
   "cell_type": "code",
   "execution_count": 3,
   "metadata": {
    "collapsed": false
   },
   "outputs": [
    {
     "data": {
      "text/plain": [
       "array([[ 1.        , -0.39000675],\n",
       "       [-0.39000675,  1.        ]])"
      ]
     },
     "execution_count": 3,
     "metadata": {},
     "output_type": "execute_result"
    }
   ],
   "source": [
    "np.corrcoef(gn)"
   ]
  },
  {
   "cell_type": "code",
   "execution_count": 4,
   "metadata": {
    "collapsed": true
   },
   "outputs": [],
   "source": [
    "gn_sq = gn ** 2"
   ]
  },
  {
   "cell_type": "code",
   "execution_count": 5,
   "metadata": {
    "collapsed": false
   },
   "outputs": [
    {
     "data": {
      "text/plain": [
       "-0.39000681042671204"
      ]
     },
     "execution_count": 5,
     "metadata": {},
     "output_type": "execute_result"
    }
   ],
   "source": [
    "allel.opt.stats.gn_corrcoef_int8(gn[0], gn[1], gn_sq[0], gn_sq[1])"
   ]
  },
  {
   "cell_type": "code",
   "execution_count": 6,
   "metadata": {
    "collapsed": true
   },
   "outputs": [],
   "source": [
    "gnb = np.random.randint(0, 3, size=(2, 10000)).astype('i1')"
   ]
  },
  {
   "cell_type": "code",
   "execution_count": 7,
   "metadata": {
    "collapsed": false
   },
   "outputs": [
    {
     "data": {
      "text/plain": [
       "array([[ 1.      , -0.002613],\n",
       "       [-0.002613,  1.      ]])"
      ]
     },
     "execution_count": 7,
     "metadata": {},
     "output_type": "execute_result"
    }
   ],
   "source": [
    "np.corrcoef(gnb)"
   ]
  },
  {
   "cell_type": "code",
   "execution_count": 8,
   "metadata": {
    "collapsed": true
   },
   "outputs": [],
   "source": [
    "gnb_sq = gnb ** 2"
   ]
  },
  {
   "cell_type": "code",
   "execution_count": 9,
   "metadata": {
    "collapsed": false
   },
   "outputs": [
    {
     "data": {
      "text/plain": [
       "-0.002613014541566372"
      ]
     },
     "execution_count": 9,
     "metadata": {},
     "output_type": "execute_result"
    }
   ],
   "source": [
    "allel.opt.stats.gn_corrcoef_int8(gnb[0], gnb[1], gnb_sq[0], gnb_sq[1])"
   ]
  },
  {
   "cell_type": "code",
   "execution_count": 10,
   "metadata": {
    "collapsed": false
   },
   "outputs": [
    {
     "name": "stdout",
     "output_type": "stream",
     "text": [
      "The slowest run took 5.48 times longer than the fastest. This could mean that an intermediate result is being cached \n",
      "10000 loops, best of 3: 120 µs per loop\n"
     ]
    }
   ],
   "source": [
    "%timeit np.corrcoef(gnb)"
   ]
  },
  {
   "cell_type": "code",
   "execution_count": 11,
   "metadata": {
    "collapsed": false
   },
   "outputs": [
    {
     "name": "stdout",
     "output_type": "stream",
     "text": [
      "10000 loops, best of 3: 39.2 µs per loop\n"
     ]
    }
   ],
   "source": [
    "%timeit allel.opt.stats.gn_corrcoef_int8(gnb[0], gnb[1], gnb_sq[0], gnb_sq[1])"
   ]
  },
  {
   "cell_type": "code",
   "execution_count": 12,
   "metadata": {
    "collapsed": true
   },
   "outputs": [],
   "source": [
    "gnb2 = np.random.randint(0, 3, size=(1000, 1000)).astype('i1')"
   ]
  },
  {
   "cell_type": "code",
   "execution_count": 13,
   "metadata": {
    "collapsed": false
   },
   "outputs": [
    {
     "data": {
      "text/plain": [
       "array([[ 1.        , -0.05577752,  0.00767298, ..., -0.03381146,\n",
       "         0.02954236, -0.00755626],\n",
       "       [-0.05577752,  1.        , -0.02363069, ...,  0.02232033,\n",
       "         0.06444761,  0.03827147],\n",
       "       [ 0.00767298, -0.02363069,  1.        , ..., -0.02565621,\n",
       "         0.00159606,  0.01190215],\n",
       "       ..., \n",
       "       [-0.03381146,  0.02232033, -0.02565621, ...,  1.        ,\n",
       "        -0.01959978, -0.00503218],\n",
       "       [ 0.02954236,  0.06444761,  0.00159606, ..., -0.01959978,\n",
       "         1.        , -0.0092057 ],\n",
       "       [-0.00755626,  0.03827147,  0.01190215, ..., -0.00503218,\n",
       "        -0.0092057 ,  1.        ]])"
      ]
     },
     "execution_count": 13,
     "metadata": {},
     "output_type": "execute_result"
    }
   ],
   "source": [
    "r2a = np.corrcoef(gnb2)\n",
    "r2a"
   ]
  },
  {
   "cell_type": "code",
   "execution_count": 14,
   "metadata": {
    "collapsed": false
   },
   "outputs": [
    {
     "data": {
      "text/plain": [
       "array([[ 0.        , -0.05577756,  0.00767297, ..., -0.03381132,\n",
       "         0.02954236, -0.00755618],\n",
       "       [-0.05577756,  0.        , -0.02363073, ...,  0.02232023,\n",
       "         0.06444771,  0.03827157],\n",
       "       [ 0.00767297, -0.02363073,  0.        , ..., -0.02565622,\n",
       "         0.00159614,  0.01190209],\n",
       "       ..., \n",
       "       [-0.03381132,  0.02232023, -0.02565622, ...,  0.        ,\n",
       "        -0.01959965, -0.00503222],\n",
       "       [ 0.02954236,  0.06444771,  0.00159614, ..., -0.01959965,\n",
       "         0.        , -0.00920562],\n",
       "       [-0.00755618,  0.03827157,  0.01190209, ..., -0.00503222,\n",
       "        -0.00920562,  0.        ]])"
      ]
     },
     "execution_count": 14,
     "metadata": {},
     "output_type": "execute_result"
    }
   ],
   "source": [
    "r2b = allel.stats.rogers_huff_r(gnb2)\n",
    "from scipy.spatial.distance import squareform\n",
    "r2b_sq = squareform(r2b)\n",
    "r2b_sq"
   ]
  },
  {
   "cell_type": "code",
   "execution_count": 15,
   "metadata": {
    "collapsed": false
   },
   "outputs": [
    {
     "name": "stdout",
     "output_type": "stream",
     "text": [
      "10 loops, best of 3: 111 ms per loop\n",
      "peak memory: 122.50 MiB, increment: 14.95 MiB\n"
     ]
    }
   ],
   "source": [
    "%timeit np.corrcoef(gnb2)\n",
    "%memit np.corrcoef(gnb2)"
   ]
  },
  {
   "cell_type": "code",
   "execution_count": 16,
   "metadata": {
    "collapsed": false
   },
   "outputs": [
    {
     "name": "stdout",
     "output_type": "stream",
     "text": [
      "1 loops, best of 3: 1.83 s per loop\n",
      "peak memory: 107.73 MiB, increment: 0.05 MiB\n"
     ]
    }
   ],
   "source": [
    "%timeit allel.stats.rogers_huff_r(gnb2)\n",
    "%memit allel.stats.rogers_huff_r(gnb2)"
   ]
  },
  {
   "cell_type": "code",
   "execution_count": 17,
   "metadata": {
    "collapsed": true
   },
   "outputs": [],
   "source": [
    "import cProfile"
   ]
  },
  {
   "cell_type": "code",
   "execution_count": 18,
   "metadata": {
    "collapsed": false
   },
   "outputs": [
    {
     "name": "stdout",
     "output_type": "stream",
     "text": [
      "         13 function calls in 1.843 seconds\n",
      "\n",
      "   Ordered by: internal time\n",
      "\n",
      "   ncalls  tottime  percall  cumtime  percall filename:lineno(function)\n",
      "        1    1.842    1.842    1.842    1.842 {allel.opt.stats.gn_pairwise_corrcoef_int8}\n",
      "        2    0.000    0.000    0.000    0.000 numeric.py:394(asarray)\n",
      "        1    0.000    0.000    1.843    1.843 {built-in method exec}\n",
      "        2    0.000    0.000    0.000    0.000 {built-in method array}\n",
      "        1    0.000    0.000    1.842    1.842 ld.py:8(rogers_huff_r)\n",
      "        1    0.000    0.000    0.000    0.000 util.py:20(asarray_ndim)\n",
      "        1    0.000    0.000    1.842    1.842 <string>:1(<module>)\n",
      "        1    0.000    0.000    0.000    0.000 {built-in method hasattr}\n",
      "        1    0.000    0.000    0.000    0.000 <frozen importlib._bootstrap>:2264(_handle_fromlist)\n",
      "        1    0.000    0.000    0.000    0.000 {method 'disable' of '_lsprof.Profiler' objects}\n",
      "        1    0.000    0.000    0.000    0.000 {method 'pop' of 'dict' objects}\n",
      "\n",
      "\n"
     ]
    }
   ],
   "source": [
    "cProfile.run('allel.stats.rogers_huff_r(gnb2)', sort='time')"
   ]
  },
  {
   "cell_type": "code",
   "execution_count": null,
   "metadata": {
    "collapsed": true
   },
   "outputs": [],
   "source": []
  }
 ],
 "metadata": {
  "kernelspec": {
   "display_name": "Python 3",
   "language": "python",
   "name": "python3"
  },
  "language_info": {
   "codemirror_mode": {
    "name": "ipython",
    "version": 3
   },
   "file_extension": ".py",
   "mimetype": "text/x-python",
   "name": "python",
   "nbconvert_exporter": "python",
   "pygments_lexer": "ipython3",
   "version": "3.4.2"
  }
 },
 "nbformat": 4,
 "nbformat_minor": 0
}
