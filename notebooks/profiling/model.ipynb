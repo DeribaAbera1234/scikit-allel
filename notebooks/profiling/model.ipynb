{
 "cells": [
  {
   "cell_type": "markdown",
   "metadata": {},
   "source": [
    "# Array classes: memory and performance profiling"
   ]
  },
  {
   "cell_type": "code",
   "execution_count": 1,
   "metadata": {
    "collapsed": false
   },
   "outputs": [],
   "source": [
    "import numpy as np\n",
    "np.random.seed(42)\n",
    "import sys\n",
    "import cProfile\n",
    "import humanize\n",
    "sys.path.insert(0, '../..')\n",
    "%reload_ext memory_profiler\n",
    "%reload_ext autoreload\n",
    "%autoreload 1\n",
    "%aimport allel.model\n",
    "%aimport allel.bcolz"
   ]
  },
  {
   "cell_type": "code",
   "execution_count": 2,
   "metadata": {
    "collapsed": false
   },
   "outputs": [],
   "source": [
    "def binarysize(n):\n",
    "    return humanize.naturalsize(n, binary=True)"
   ]
  },
  {
   "cell_type": "code",
   "execution_count": 3,
   "metadata": {
    "collapsed": false
   },
   "outputs": [],
   "source": [
    "# setup an array of genotype calls\n",
    "shape = n_variants, n_samples, ploidy = 50000, 1000, 2\n",
    "data = np.zeros(shape, dtype='i1')\n",
    "# simulate some mutations\n",
    "n_alleles = n_variants * n_samples * ploidy\n",
    "idx = np.random.randint(0, (n_alleles//2)-1, size=n_alleles//20)\n",
    "data[:, :, 1].reshape((-1))[idx] = 1\n",
    "data[:, :, 0].reshape((-1))[idx[:n_alleles//200]] = 1"
   ]
  },
  {
   "cell_type": "markdown",
   "metadata": {},
   "source": [
    "## Total memory size"
   ]
  },
  {
   "cell_type": "markdown",
   "metadata": {},
   "source": [
    "### Contiguous array (numpy)"
   ]
  },
  {
   "cell_type": "code",
   "execution_count": 4,
   "metadata": {
    "collapsed": false
   },
   "outputs": [
    {
     "name": "stdout",
     "output_type": "stream",
     "text": [
      "95.4 MiB\n"
     ]
    }
   ],
   "source": [
    "g = allel.model.GenotypeArray(data, copy=False)\n",
    "print(binarysize(g.nbytes))"
   ]
  },
  {
   "cell_type": "markdown",
   "metadata": {},
   "source": [
    "### Compressed array (bcolz)"
   ]
  },
  {
   "cell_type": "code",
   "execution_count": 5,
   "metadata": {
    "collapsed": false
   },
   "outputs": [
    {
     "name": "stdout",
     "output_type": "stream",
     "text": [
      "16.0 MiB 262\n"
     ]
    }
   ],
   "source": [
    "gc = allel.bcolz.GenotypeCArray(data)\n",
    "print(binarysize(gc.cbytes), gc.chunklen)"
   ]
  },
  {
   "cell_type": "markdown",
   "metadata": {},
   "source": [
    "### Compressed persistent array (bcolz)"
   ]
  },
  {
   "cell_type": "code",
   "execution_count": 6,
   "metadata": {
    "collapsed": false
   },
   "outputs": [
    {
     "data": {
      "text/plain": [
       "'/tmp/tmpwkit6ul7'"
      ]
     },
     "execution_count": 6,
     "metadata": {},
     "output_type": "execute_result"
    }
   ],
   "source": [
    "import tempfile\n",
    "rootdir = tempfile.mkdtemp()\n",
    "rootdir"
   ]
  },
  {
   "cell_type": "code",
   "execution_count": 7,
   "metadata": {
    "collapsed": false
   },
   "outputs": [
    {
     "name": "stdout",
     "output_type": "stream",
     "text": [
      "16.0 MiB 262\n"
     ]
    }
   ],
   "source": [
    "gcp = allel.bcolz.GenotypeCArray(data, rootdir=rootdir, mode='w')\n",
    "gcp.carr.flush()\n",
    "print(binarysize(gc.cbytes), gc.chunklen)"
   ]
  },
  {
   "cell_type": "markdown",
   "metadata": {},
   "source": [
    "### Sparse array (scipy)"
   ]
  },
  {
   "cell_type": "code",
   "execution_count": 8,
   "metadata": {
    "collapsed": false
   },
   "outputs": [
    {
     "data": {
      "text/plain": [
       "<50000x2000 sparse matrix of type '<class 'numpy.int8'>'\n",
       "\twith 5255839 stored elements in Compressed Sparse Row format>"
      ]
     },
     "execution_count": 8,
     "metadata": {},
     "output_type": "execute_result"
    }
   ],
   "source": [
    "m = g.to_sparse(format='csr')\n",
    "m"
   ]
  },
  {
   "cell_type": "code",
   "execution_count": 9,
   "metadata": {
    "collapsed": false
   },
   "outputs": [
    {
     "name": "stdout",
     "output_type": "stream",
     "text": [
      "int8 5.0 MiB 20.0 MiB 195.3 KiB\n"
     ]
    }
   ],
   "source": [
    "print(m.data.dtype, binarysize(m.data.nbytes), binarysize(m.indices.nbytes), binarysize(m.indptr.nbytes))"
   ]
  },
  {
   "cell_type": "markdown",
   "metadata": {},
   "source": [
    "## Genotype counting"
   ]
  },
  {
   "cell_type": "code",
   "execution_count": 10,
   "metadata": {
    "collapsed": false
   },
   "outputs": [
    {
     "data": {
      "text/plain": [
       "50000000"
      ]
     },
     "execution_count": 10,
     "metadata": {},
     "output_type": "execute_result"
    }
   ],
   "source": [
    "g.count_called()"
   ]
  },
  {
   "cell_type": "code",
   "execution_count": 11,
   "metadata": {
    "collapsed": false
   },
   "outputs": [
    {
     "data": {
      "text/plain": [
       "45241646"
      ]
     },
     "execution_count": 11,
     "metadata": {},
     "output_type": "execute_result"
    }
   ],
   "source": [
    "g.count_hom_ref()"
   ]
  },
  {
   "cell_type": "code",
   "execution_count": 12,
   "metadata": {
    "collapsed": false
   },
   "outputs": [
    {
     "data": {
      "text/plain": [
       "4260869"
      ]
     },
     "execution_count": 12,
     "metadata": {},
     "output_type": "execute_result"
    }
   ],
   "source": [
    "g.count_het()"
   ]
  },
  {
   "cell_type": "code",
   "execution_count": 13,
   "metadata": {
    "collapsed": false
   },
   "outputs": [
    {
     "data": {
      "text/plain": [
       "497485"
      ]
     },
     "execution_count": 13,
     "metadata": {},
     "output_type": "execute_result"
    }
   ],
   "source": [
    "g.count_hom_alt()"
   ]
  },
  {
   "cell_type": "code",
   "execution_count": 14,
   "metadata": {
    "collapsed": false
   },
   "outputs": [
    {
     "name": "stdout",
     "output_type": "stream",
     "text": [
      "10 loops, best of 3: 148 ms per loop\n",
      "1 loops, best of 3: 236 ms per loop\n",
      "1 loops, best of 3: 264 ms per loop\n",
      "peak memory: 296.37 MiB, increment: 47.35 MiB\n",
      "peak memory: 249.15 MiB, increment: 0.32 MiB\n",
      "peak memory: 249.68 MiB, increment: 0.53 MiB\n"
     ]
    }
   ],
   "source": [
    "%timeit n = g.count_called()\n",
    "%timeit n = gc.count_called()\n",
    "%timeit n = gcp.count_called()\n",
    "%memit n = g.count_called()\n",
    "%memit n = gc.count_called()\n",
    "%memit n = gcp.count_called()"
   ]
  },
  {
   "cell_type": "code",
   "execution_count": 15,
   "metadata": {
    "collapsed": false
   },
   "outputs": [
    {
     "name": "stdout",
     "output_type": "stream",
     "text": [
      "10 loops, best of 3: 164 ms per loop\n",
      "1 loops, best of 3: 370 ms per loop\n",
      "1 loops, best of 3: 449 ms per loop\n",
      "peak memory: 293.17 MiB, increment: 47.57 MiB\n",
      "peak memory: 245.82 MiB, increment: 0.31 MiB\n",
      "peak memory: 245.82 MiB, increment: 0.00 MiB\n"
     ]
    }
   ],
   "source": [
    "%timeit n = g.count_het()\n",
    "%timeit n = gc.count_het()\n",
    "%timeit n = gcp.count_het()\n",
    "%memit n = g.count_het()\n",
    "%memit n = gc.count_het()\n",
    "%memit n = gcp.count_het()"
   ]
  },
  {
   "cell_type": "code",
   "execution_count": 16,
   "metadata": {
    "collapsed": false
   },
   "outputs": [
    {
     "name": "stdout",
     "output_type": "stream",
     "text": [
      "10 loops, best of 3: 146 ms per loop\n",
      "1 loops, best of 3: 378 ms per loop\n",
      "1 loops, best of 3: 409 ms per loop\n",
      "peak memory: 293.10 MiB, increment: 47.79 MiB\n",
      "peak memory: 245.93 MiB, increment: 0.52 MiB\n",
      "peak memory: 245.93 MiB, increment: 0.00 MiB\n"
     ]
    }
   ],
   "source": [
    "%timeit n = g.count_call((0, 1))\n",
    "%timeit n = gc.count_call((0, 1))\n",
    "%timeit n = gcp.count_call((0, 1))\n",
    "%memit n = g.count_call((0, 1))\n",
    "%memit n = gc.count_call((0, 1))\n",
    "%memit n = gcp.count_call((0, 1))"
   ]
  },
  {
   "cell_type": "markdown",
   "metadata": {},
   "source": [
    "## Genotype transformations"
   ]
  },
  {
   "cell_type": "code",
   "execution_count": 17,
   "metadata": {
    "collapsed": false
   },
   "outputs": [
    {
     "name": "stdout",
     "output_type": "stream",
     "text": [
      "1 loops, best of 3: 1.06 s per loop\n",
      "1 loops, best of 3: 1.29 s per loop\n",
      "1 loops, best of 3: 1.35 s per loop\n",
      "peak memory: 401.68 MiB, increment: 142.90 MiB\n",
      "peak memory: 307.04 MiB, increment: 0.57 MiB\n",
      "peak memory: 272.26 MiB, increment: 12.90 MiB\n"
     ]
    }
   ],
   "source": [
    "%timeit gn = g.to_n_alt()\n",
    "%timeit gn = gc.to_n_alt()\n",
    "%timeit gn = gcp.to_n_alt()\n",
    "%memit gn = g.to_n_alt()\n",
    "%memit gn = gc.to_n_alt()\n",
    "%memit gn = gcp.to_n_alt()"
   ]
  },
  {
   "cell_type": "code",
   "execution_count": 18,
   "metadata": {
    "collapsed": false
   },
   "outputs": [
    {
     "data": {
      "text/plain": [
       "carray((50000, 1000), int8)\n",
       "  nbytes: 47.68 MB; cbytes: 13.04 MB; ratio: 3.66\n",
       "  cparams := cparams(clevel=5, shuffle=True, cname='blosclz')\n",
       "[[0 0 0 ..., 0 0 0]\n",
       " [0 1 0 ..., 0 0 0]\n",
       " [0 0 0 ..., 0 0 0]\n",
       " ..., \n",
       " [0 1 0 ..., 0 0 0]\n",
       " [0 0 1 ..., 0 0 0]\n",
       " [0 0 0 ..., 0 0 0]]"
      ]
     },
     "execution_count": 18,
     "metadata": {},
     "output_type": "execute_result"
    }
   ],
   "source": [
    "gc.to_n_alt()"
   ]
  },
  {
   "cell_type": "code",
   "execution_count": 19,
   "metadata": {
    "collapsed": false
   },
   "outputs": [
    {
     "name": "stdout",
     "output_type": "stream",
     "text": [
      "1 loops, best of 3: 499 ms per loop\n",
      "1 loops, best of 3: 1.11 s per loop\n",
      "1 loops, best of 3: 1.17 s per loop\n",
      "peak memory: 333.56 MiB, increment: 47.69 MiB\n",
      "peak memory: 334.00 MiB, increment: 0.44 MiB\n",
      "peak memory: 299.02 MiB, increment: 12.71 MiB\n"
     ]
    }
   ],
   "source": [
    "%timeit x = g.to_packed()\n",
    "%timeit x = gc.to_packed()\n",
    "%timeit x = gcp.to_packed()\n",
    "%memit x = g.to_packed()\n",
    "%memit x = gc.to_packed()\n",
    "%memit x = gcp.to_packed()"
   ]
  },
  {
   "cell_type": "code",
   "execution_count": 20,
   "metadata": {
    "collapsed": false
   },
   "outputs": [
    {
     "data": {
      "text/plain": [
       "carray((50000, 1000), uint8)\n",
       "  nbytes: 47.68 MB; cbytes: 13.21 MB; ratio: 3.61\n",
       "  cparams := cparams(clevel=5, shuffle=True, cname='blosclz')\n",
       "[[0 0 0 ..., 0 0 0]\n",
       " [0 1 0 ..., 0 0 0]\n",
       " [0 0 0 ..., 0 0 0]\n",
       " ..., \n",
       " [0 1 0 ..., 0 0 0]\n",
       " [0 0 1 ..., 0 0 0]\n",
       " [0 0 0 ..., 0 0 0]]"
      ]
     },
     "execution_count": 20,
     "metadata": {},
     "output_type": "execute_result"
    }
   ],
   "source": [
    "gc.to_packed()"
   ]
  },
  {
   "cell_type": "code",
   "execution_count": 21,
   "metadata": {
    "collapsed": false
   },
   "outputs": [
    {
     "name": "stdout",
     "output_type": "stream",
     "text": [
      "1 loops, best of 3: 2.29 s per loop\n",
      "1 loops, best of 3: 2.59 s per loop\n",
      "1 loops, best of 3: 2.67 s per loop\n",
      "peak memory: 506.71 MiB, increment: 190.73 MiB\n",
      "peak memory: 411.50 MiB, increment: 0.15 MiB\n",
      "peak memory: 319.04 MiB, increment: 2.91 MiB\n"
     ]
    }
   ],
   "source": [
    "%timeit x = g.to_allele_counts()\n",
    "%timeit x = gc.to_allele_counts()\n",
    "%timeit x = gcp.to_allele_counts()\n",
    "%memit x = g.to_allele_counts()\n",
    "%memit x = gc.to_allele_counts()\n",
    "%memit x = gcp.to_allele_counts()"
   ]
  },
  {
   "cell_type": "code",
   "execution_count": 15,
   "metadata": {
    "collapsed": false
   },
   "outputs": [
    {
     "data": {
      "text/plain": [
       "array([[1, 0],\n",
       "       [1, 0],\n",
       "       [1, 0],\n",
       "       ..., \n",
       "       [1, 0],\n",
       "       [1, 0],\n",
       "       [1, 0]])"
      ]
     },
     "execution_count": 15,
     "metadata": {},
     "output_type": "execute_result"
    }
   ],
   "source": [
    "mapping = np.array([[1, 0]] * g.shape[0])\n",
    "mapping"
   ]
  },
  {
   "cell_type": "code",
   "execution_count": 16,
   "metadata": {
    "collapsed": false
   },
   "outputs": [
    {
     "data": {
      "text/plain": [
       "GenotypeArray((50000, 1000, 2), dtype=int8)\n",
       "[[[1 1]\n",
       "  [1 1]\n",
       "  [1 1]\n",
       "  ..., \n",
       "  [1 1]\n",
       "  [1 1]\n",
       "  [1 1]]\n",
       "\n",
       " [[1 1]\n",
       "  [1 0]\n",
       "  [1 1]\n",
       "  ..., \n",
       "  [1 1]\n",
       "  [1 1]\n",
       "  [1 1]]\n",
       "\n",
       " [[1 1]\n",
       "  [1 1]\n",
       "  [1 1]\n",
       "  ..., \n",
       "  [1 1]\n",
       "  [1 1]\n",
       "  [1 1]]\n",
       "\n",
       " ..., \n",
       " [[1 1]\n",
       "  [1 0]\n",
       "  [1 1]\n",
       "  ..., \n",
       "  [1 1]\n",
       "  [1 1]\n",
       "  [1 1]]\n",
       "\n",
       " [[1 1]\n",
       "  [1 1]\n",
       "  [1 0]\n",
       "  ..., \n",
       "  [1 1]\n",
       "  [1 1]\n",
       "  [1 1]]\n",
       "\n",
       " [[1 1]\n",
       "  [1 1]\n",
       "  [1 1]\n",
       "  ..., \n",
       "  [1 1]\n",
       "  [1 1]\n",
       "  [1 1]]]"
      ]
     },
     "execution_count": 16,
     "metadata": {},
     "output_type": "execute_result"
    }
   ],
   "source": [
    "g.map_alleles(mapping)"
   ]
  },
  {
   "cell_type": "code",
   "execution_count": 17,
   "metadata": {
    "collapsed": false
   },
   "outputs": [
    {
     "name": "stdout",
     "output_type": "stream",
     "text": [
      "10 loops, best of 3: 158 ms per loop\n",
      "1 loops, best of 3: 400 ms per loop\n",
      "1 loops, best of 3: 389 ms per loop\n",
      "peak memory: 457.71 MiB, increment: 0.00 MiB\n",
      "peak memory: 458.05 MiB, increment: 0.34 MiB\n",
      "peak memory: 473.80 MiB, increment: 15.73 MiB\n"
     ]
    }
   ],
   "source": [
    "g2 = g.copy()\n",
    "%timeit x = g2.map_alleles(mapping, copy=False)\n",
    "%timeit x = gc.map_alleles(mapping)\n",
    "%timeit x = gcp.map_alleles(mapping)\n",
    "%memit x = g2.map_alleles(mapping, copy=False)\n",
    "%memit x = gc.map_alleles(mapping)\n",
    "%memit x = gcp.map_alleles(mapping)"
   ]
  },
  {
   "cell_type": "markdown",
   "metadata": {},
   "source": [
    "## Allele counting"
   ]
  },
  {
   "cell_type": "code",
   "execution_count": 10,
   "metadata": {
    "collapsed": false
   },
   "outputs": [
    {
     "data": {
      "text/plain": [
       "HaplotypeArray((50000, 2000), dtype=int8)\n",
       "[[0 0 0 ..., 0 0 0]\n",
       " [0 0 0 ..., 0 0 0]\n",
       " [0 0 0 ..., 0 0 0]\n",
       " ..., \n",
       " [0 0 0 ..., 0 0 0]\n",
       " [0 0 0 ..., 0 0 0]\n",
       " [0 0 0 ..., 0 0 0]]"
      ]
     },
     "execution_count": 10,
     "metadata": {},
     "output_type": "execute_result"
    }
   ],
   "source": [
    "h = g.to_haplotypes()\n",
    "h"
   ]
  },
  {
   "cell_type": "code",
   "execution_count": 11,
   "metadata": {
    "collapsed": false
   },
   "outputs": [
    {
     "data": {
      "text/plain": [
       "HaplotypeCArray((50000, 2000), int8)\n",
       "  nbytes: 95.37 MB; cbytes: 15.97 MB; ratio: 5.97\n",
       "  cparams := cparams(clevel=5, shuffle=True, cname='blosclz')\n",
       "[[0 0 0 ..., 0 0 0]\n",
       " [0 0 0 ..., 0 0 0]\n",
       " [0 0 0 ..., 0 0 0]\n",
       " ..., \n",
       " [0 0 0 ..., 0 0 0]\n",
       " [0 0 0 ..., 0 0 0]\n",
       " [0 0 0 ..., 0 0 0]]"
      ]
     },
     "execution_count": 11,
     "metadata": {},
     "output_type": "execute_result"
    }
   ],
   "source": [
    "hc = gc.to_haplotypes()\n",
    "hc"
   ]
  },
  {
   "cell_type": "code",
   "execution_count": 12,
   "metadata": {
    "collapsed": false
   },
   "outputs": [
    {
     "name": "stdout",
     "output_type": "stream",
     "text": [
      "10 loops, best of 3: 96.4 ms per loop\n",
      "1 loops, best of 3: 201 ms per loop\n",
      "peak memory: 264.77 MiB, increment: 0.17 MiB\n",
      "peak memory: 265.39 MiB, increment: 0.61 MiB\n"
     ]
    }
   ],
   "source": [
    "%timeit x = g.max()\n",
    "%timeit x = gc.max()\n",
    "%memit x = g.max()\n",
    "%memit x = gc.max()"
   ]
  },
  {
   "cell_type": "code",
   "execution_count": 13,
   "metadata": {
    "collapsed": false
   },
   "outputs": [
    {
     "name": "stdout",
     "output_type": "stream",
     "text": [
      "10 loops, best of 3: 96.7 ms per loop\n",
      "1 loops, best of 3: 198 ms per loop\n",
      "peak memory: 265.52 MiB, increment: 0.00 MiB\n",
      "peak memory: 265.52 MiB, increment: 0.00 MiB\n"
     ]
    }
   ],
   "source": [
    "%timeit x = h.max()\n",
    "%timeit x = hc.max()\n",
    "%memit x = h.max()\n",
    "%memit x = hc.max()"
   ]
  },
  {
   "cell_type": "code",
   "execution_count": 14,
   "metadata": {
    "collapsed": false
   },
   "outputs": [
    {
     "name": "stdout",
     "output_type": "stream",
     "text": [
      "10 loops, best of 3: 184 ms per loop\n",
      "1 loops, best of 3: 272 ms per loop\n",
      "peak memory: 266.48 MiB, increment: 0.00 MiB\n",
      "peak memory: 267.04 MiB, increment: 0.55 MiB\n"
     ]
    }
   ],
   "source": [
    "%timeit x = g.count_alleles(max_allele=2)\n",
    "%timeit x = gc.count_alleles(max_allele=2)\n",
    "%memit x = g.count_alleles(max_allele=2)\n",
    "%memit x = gc.count_alleles(max_allele=2)"
   ]
  },
  {
   "cell_type": "code",
   "execution_count": 15,
   "metadata": {
    "collapsed": false
   },
   "outputs": [
    {
     "name": "stdout",
     "output_type": "stream",
     "text": [
      "10 loops, best of 3: 186 ms per loop\n",
      "1 loops, best of 3: 285 ms per loop\n",
      "peak memory: 267.04 MiB, increment: 0.00 MiB\n",
      "peak memory: 267.38 MiB, increment: 0.34 MiB\n"
     ]
    }
   ],
   "source": [
    "%timeit x = h.count_alleles(max_allele=2)\n",
    "%timeit x = hc.count_alleles(max_allele=2)\n",
    "%memit x = h.count_alleles(max_allele=2)\n",
    "%memit x = hc.count_alleles(max_allele=2)"
   ]
  },
  {
   "cell_type": "code",
   "execution_count": 16,
   "metadata": {
    "collapsed": false
   },
   "outputs": [
    {
     "data": {
      "text/plain": [
       "500"
      ]
     },
     "execution_count": 16,
     "metadata": {},
     "output_type": "execute_result"
    }
   ],
   "source": [
    "gsub = np.random.choice(list(range(g.shape[1])), size=(g.shape[1]//2), replace=False)\n",
    "len(gsub)"
   ]
  },
  {
   "cell_type": "code",
   "execution_count": 17,
   "metadata": {
    "collapsed": false
   },
   "outputs": [
    {
     "data": {
      "text/plain": [
       "True"
      ]
     },
     "execution_count": 17,
     "metadata": {},
     "output_type": "execute_result"
    }
   ],
   "source": [
    "np.array_equal(g.count_alleles(max_allele=2, subpop=gsub), \n",
    "               g.take(gsub, axis=1).count_alleles(max_allele=2))"
   ]
  },
  {
   "cell_type": "code",
   "execution_count": 18,
   "metadata": {
    "collapsed": false
   },
   "outputs": [
    {
     "name": "stdout",
     "output_type": "stream",
     "text": [
      "10 loops, best of 3: 105 ms per loop\n",
      "10 loops, best of 3: 164 ms per loop\n",
      "1 loops, best of 3: 210 ms per loop\n",
      "1 loops, best of 3: 334 ms per loop\n",
      "peak memory: 275.29 MiB, increment: 0.00 MiB\n",
      "peak memory: 322.98 MiB, increment: 47.69 MiB\n",
      "peak memory: 275.79 MiB, increment: 0.49 MiB\n",
      "peak memory: 275.79 MiB, increment: 0.00 MiB\n"
     ]
    }
   ],
   "source": [
    "%timeit x = g.count_alleles(max_allele=2, subpop=gsub)\n",
    "%timeit x = g.take(gsub, axis=1).count_alleles(max_allele=2)\n",
    "%timeit x = gc.count_alleles(max_allele=2, subpop=gsub)\n",
    "%timeit x = gc.take(gsub, axis=1).count_alleles(max_allele=2)\n",
    "%memit x = g.count_alleles(max_allele=2, subpop=gsub)\n",
    "%memit x = g.take(gsub, axis=1).count_alleles(max_allele=2)\n",
    "%memit x = gc.count_alleles(max_allele=2, subpop=gsub)\n",
    "%memit x = gc.take(gsub, axis=1).count_alleles(max_allele=2)"
   ]
  },
  {
   "cell_type": "code",
   "execution_count": 19,
   "metadata": {
    "collapsed": false
   },
   "outputs": [
    {
     "data": {
      "text/plain": [
       "1000"
      ]
     },
     "execution_count": 19,
     "metadata": {},
     "output_type": "execute_result"
    }
   ],
   "source": [
    "hsub = [ploidy*i + n for i in gsub for n in range(ploidy)]\n",
    "len(hsub)"
   ]
  },
  {
   "cell_type": "code",
   "execution_count": 20,
   "metadata": {
    "collapsed": false
   },
   "outputs": [
    {
     "data": {
      "text/plain": [
       "True"
      ]
     },
     "execution_count": 20,
     "metadata": {},
     "output_type": "execute_result"
    }
   ],
   "source": [
    "np.array_equal(h.count_alleles(max_allele=2, subpop=hsub), \n",
    "               h.take(hsub, axis=1).count_alleles(max_allele=2))"
   ]
  },
  {
   "cell_type": "code",
   "execution_count": 21,
   "metadata": {
    "collapsed": false
   },
   "outputs": [
    {
     "name": "stdout",
     "output_type": "stream",
     "text": [
      "10 loops, best of 3: 104 ms per loop\n",
      "10 loops, best of 3: 178 ms per loop\n",
      "1 loops, best of 3: 217 ms per loop\n",
      "1 loops, best of 3: 362 ms per loop\n",
      "peak memory: 275.81 MiB, increment: 0.00 MiB\n",
      "peak memory: 323.50 MiB, increment: 47.69 MiB\n",
      "peak memory: 275.81 MiB, increment: 0.00 MiB\n",
      "peak memory: 275.81 MiB, increment: 0.00 MiB\n"
     ]
    }
   ],
   "source": [
    "%timeit x = h.count_alleles(max_allele=2, subpop=hsub)\n",
    "%timeit x = h.take(hsub, axis=1).count_alleles(max_allele=2)\n",
    "%timeit x = hc.count_alleles(max_allele=2, subpop=hsub)\n",
    "%timeit x = hc.take(hsub, axis=1).count_alleles(max_allele=2)\n",
    "%memit x = h.count_alleles(max_allele=2, subpop=hsub)\n",
    "%memit x = h.take(hsub, axis=1).count_alleles(max_allele=2)\n",
    "%memit x = hc.count_alleles(max_allele=2, subpop=hsub)\n",
    "%memit x = hc.take(hsub, axis=1).count_alleles(max_allele=2)"
   ]
  },
  {
   "cell_type": "code",
   "execution_count": 22,
   "metadata": {
    "collapsed": false
   },
   "outputs": [],
   "source": [
    "gsub1 = np.random.choice(list(range(g.shape[1])), size=(g.shape[1]//4), replace=False)\n",
    "gsub2 = np.random.choice(list(range(g.shape[1])), size=(g.shape[1]//4), replace=False)\n",
    "subpops = {'sub1': gsub1, 'sub2': gsub2}"
   ]
  },
  {
   "cell_type": "code",
   "execution_count": 23,
   "metadata": {
    "collapsed": false
   },
   "outputs": [
    {
     "name": "stdout",
     "output_type": "stream",
     "text": [
      "1 loops, best of 3: 233 ms per loop\n",
      "1 loops, best of 3: 331 ms per loop\n",
      "peak memory: 275.93 MiB, increment: 0.00 MiB\n",
      "peak memory: 275.93 MiB, increment: 0.00 MiB\n"
     ]
    }
   ],
   "source": [
    "%timeit gc.count_alleles_subpops(max_allele=2, subpops=subpops)\n",
    "%timeit {name: gc.count_alleles(max_allele=2, subpop=subpop) for name, subpop in subpops.items()}\n",
    "%memit gc.count_alleles_subpops(max_allele=2, subpops=subpops)\n",
    "%memit {name: gc.count_alleles(max_allele=2, subpop=subpop) for name, subpop in subpops.items()}"
   ]
  },
  {
   "cell_type": "code",
   "execution_count": 24,
   "metadata": {
    "collapsed": false
   },
   "outputs": [
    {
     "data": {
      "text/plain": [
       "ctable((50000,), [('sub1', '<u4', (3,)), ('sub2', '<u4', (3,))])\n",
       "  nbytes: 1.14 MB; cbytes: 681.47 KB; ratio: 1.72\n",
       "  cparams := cparams(clevel=5, shuffle=True, cname='blosclz')\n",
       "[([458, 42, 0], [465, 35, 0]) ([472, 28, 0], [471, 29, 0])\n",
       " ([470, 30, 0], [476, 24, 0]) ..., ([473, 27, 0], [466, 34, 0])\n",
       " ([467, 33, 0], [464, 36, 0]) ([467, 33, 0], [465, 35, 0])]"
      ]
     },
     "execution_count": 24,
     "metadata": {},
     "output_type": "execute_result"
    }
   ],
   "source": [
    "x1 = gc.count_alleles_subpops(max_allele=2, subpops=subpops)\n",
    "x1"
   ]
  },
  {
   "cell_type": "code",
   "execution_count": 25,
   "metadata": {
    "collapsed": false
   },
   "outputs": [
    {
     "data": {
      "text/plain": [
       "carray((50000, 3), uint32)\n",
       "  nbytes: 585.94 KB; cbytes: 340.73 KB; ratio: 1.72\n",
       "  cparams := cparams(clevel=5, shuffle=True, cname='blosclz')\n",
       "[[458  42   0]\n",
       " [472  28   0]\n",
       " [470  30   0]\n",
       " ..., \n",
       " [473  27   0]\n",
       " [467  33   0]\n",
       " [467  33   0]]"
      ]
     },
     "execution_count": 25,
     "metadata": {},
     "output_type": "execute_result"
    }
   ],
   "source": [
    "x1['sub1']"
   ]
  },
  {
   "cell_type": "code",
   "execution_count": 26,
   "metadata": {
    "collapsed": false
   },
   "outputs": [
    {
     "data": {
      "text/plain": [
       "carray((50000, 3), uint32)\n",
       "  nbytes: 585.94 KB; cbytes: 340.74 KB; ratio: 1.72\n",
       "  cparams := cparams(clevel=5, shuffle=True, cname='blosclz')\n",
       "[[465  35   0]\n",
       " [471  29   0]\n",
       " [476  24   0]\n",
       " ..., \n",
       " [466  34   0]\n",
       " [464  36   0]\n",
       " [465  35   0]]"
      ]
     },
     "execution_count": 26,
     "metadata": {},
     "output_type": "execute_result"
    }
   ],
   "source": [
    "x1['sub2']"
   ]
  },
  {
   "cell_type": "code",
   "execution_count": 27,
   "metadata": {
    "collapsed": false
   },
   "outputs": [
    {
     "data": {
      "text/plain": [
       "{'sub1': AlleleCountsCArray((50000, 3), uint32)\n",
       "   nbytes: 585.94 KB; cbytes: 340.73 KB; ratio: 1.72\n",
       "   cparams := cparams(clevel=5, shuffle=True, cname='blosclz')\n",
       " [[458  42   0]\n",
       "  [472  28   0]\n",
       "  [470  30   0]\n",
       "  ..., \n",
       "  [473  27   0]\n",
       "  [467  33   0]\n",
       "  [467  33   0]], 'sub2': AlleleCountsCArray((50000, 3), uint32)\n",
       "   nbytes: 585.94 KB; cbytes: 340.74 KB; ratio: 1.72\n",
       "   cparams := cparams(clevel=5, shuffle=True, cname='blosclz')\n",
       " [[465  35   0]\n",
       "  [471  29   0]\n",
       "  [476  24   0]\n",
       "  ..., \n",
       "  [466  34   0]\n",
       "  [464  36   0]\n",
       "  [465  35   0]]}"
      ]
     },
     "execution_count": 27,
     "metadata": {},
     "output_type": "execute_result"
    }
   ],
   "source": [
    "x2 = {name: gc.count_alleles(max_allele=2, subpop=subpop) for name, subpop in subpops.items()}\n",
    "x2"
   ]
  },
  {
   "cell_type": "code",
   "execution_count": 29,
   "metadata": {
    "collapsed": false
   },
   "outputs": [
    {
     "data": {
      "text/plain": [
       "True"
      ]
     },
     "execution_count": 29,
     "metadata": {},
     "output_type": "execute_result"
    }
   ],
   "source": [
    "np.array_equal(x1['sub2'], x2['sub2'])"
   ]
  },
  {
   "cell_type": "markdown",
   "metadata": {},
   "source": [
    "## Subset operations"
   ]
  },
  {
   "cell_type": "code",
   "execution_count": 37,
   "metadata": {
    "collapsed": false
   },
   "outputs": [
    {
     "data": {
      "text/plain": [
       "25140"
      ]
     },
     "execution_count": 37,
     "metadata": {},
     "output_type": "execute_result"
    }
   ],
   "source": [
    "variants = np.random.randint(0, 2, size=n_variants).astype(bool)\n",
    "np.count_nonzero(variants)"
   ]
  },
  {
   "cell_type": "code",
   "execution_count": 38,
   "metadata": {
    "collapsed": false
   },
   "outputs": [
    {
     "data": {
      "text/plain": [
       "498"
      ]
     },
     "execution_count": 38,
     "metadata": {},
     "output_type": "execute_result"
    }
   ],
   "source": [
    "samples = np.random.randint(0, 2, size=n_samples).astype(bool)\n",
    "np.count_nonzero(samples)"
   ]
  },
  {
   "cell_type": "code",
   "execution_count": 41,
   "metadata": {
    "collapsed": false
   },
   "outputs": [
    {
     "name": "stdout",
     "output_type": "stream",
     "text": [
      "10 loops, best of 3: 47.6 ms per loop\n",
      "1 loops, best of 3: 258 ms per loop\n",
      "peak memory: 424.01 MiB, increment: 87.75 MiB\n",
      "peak memory: 384.21 MiB, increment: 0.00 MiB\n"
     ]
    }
   ],
   "source": [
    "%timeit x = g.compress(variants, axis=0)\n",
    "%timeit x = gc.compress(variants, axis=0)\n",
    "%memit x = g.compress(variants, axis=0)\n",
    "%memit x = gc.compress(variants, axis=0)"
   ]
  },
  {
   "cell_type": "code",
   "execution_count": 39,
   "metadata": {
    "collapsed": false
   },
   "outputs": [
    {
     "name": "stdout",
     "output_type": "stream",
     "text": [
      "10 loops, best of 3: 47.4 ms per loop\n",
      "1 loops, best of 3: 259 ms per loop\n",
      "peak memory: 426.03 MiB, increment: 89.78 MiB\n",
      "peak memory: 384.21 MiB, increment: 0.00 MiB\n"
     ]
    }
   ],
   "source": [
    "indices = np.nonzero(variants)[0]\n",
    "%timeit x = g.take(indices, axis=0)\n",
    "%timeit x = gc.take(indices, axis=0)\n",
    "%memit x = g.take(indices, axis=0)\n",
    "%memit x = gc.take(indices, axis=0)"
   ]
  },
  {
   "cell_type": "code",
   "execution_count": 42,
   "metadata": {
    "collapsed": false
   },
   "outputs": [
    {
     "name": "stdout",
     "output_type": "stream",
     "text": [
      "10 loops, best of 3: 106 ms per loop\n",
      "1 loops, best of 3: 348 ms per loop\n",
      "peak memory: 431.26 MiB, increment: 95.00 MiB\n",
      "peak memory: 383.76 MiB, increment: 0.00 MiB\n"
     ]
    }
   ],
   "source": [
    "%timeit x = g.compress(samples, axis=1)\n",
    "%timeit x = gc.compress(samples, axis=1)\n",
    "%memit x = g.compress(samples, axis=1)\n",
    "%memit x = gc.compress(samples, axis=1)"
   ]
  },
  {
   "cell_type": "code",
   "execution_count": 43,
   "metadata": {
    "collapsed": false
   },
   "outputs": [
    {
     "name": "stdout",
     "output_type": "stream",
     "text": [
      "10 loops, best of 3: 106 ms per loop\n",
      "1 loops, best of 3: 360 ms per loop\n",
      "peak memory: 431.15 MiB, increment: 94.88 MiB\n",
      "peak memory: 383.77 MiB, increment: 0.00 MiB\n"
     ]
    }
   ],
   "source": [
    "indices = np.nonzero(samples)[0]\n",
    "%timeit x = g.take(indices, axis=1)\n",
    "%timeit x = gc.take(indices, axis=1)\n",
    "%memit x = g.take(indices, axis=1)\n",
    "%memit x = gc.take(indices, axis=1)"
   ]
  },
  {
   "cell_type": "code",
   "execution_count": 44,
   "metadata": {
    "collapsed": false
   },
   "outputs": [
    {
     "name": "stdout",
     "output_type": "stream",
     "text": [
      "1 loops, best of 3: 272 ms per loop\n",
      "1 loops, best of 3: 480 ms per loop\n",
      "peak memory: 336.28 MiB, increment: 0.00 MiB\n",
      "peak memory: 336.28 MiB, increment: 0.00 MiB\n"
     ]
    }
   ],
   "source": [
    "%timeit x = g.subset(variants, samples)\n",
    "%timeit x = gc.subset(variants, samples)\n",
    "%memit x = g.subset(variants, samples)\n",
    "%memit x = gc.subset(variants, samples)"
   ]
  },
  {
   "cell_type": "code",
   "execution_count": 45,
   "metadata": {
    "collapsed": false
   },
   "outputs": [
    {
     "data": {
      "text/plain": [
       "GenotypeCArray((25140, 498, 2), int8)\n",
       "  nbytes: 23.88 MB; cbytes: 4.33 MB; ratio: 5.52\n",
       "  cparams := cparams(clevel=5, shuffle=True, cname='blosclz')\n",
       "[[[0 0]\n",
       "  [0 0]\n",
       "  [0 0]\n",
       "  ..., \n",
       "  [0 0]\n",
       "  [0 1]\n",
       "  [0 0]]\n",
       "\n",
       " [[0 0]\n",
       "  [0 0]\n",
       "  [0 0]\n",
       "  ..., \n",
       "  [0 0]\n",
       "  [0 0]\n",
       "  [0 0]]\n",
       "\n",
       " [[0 0]\n",
       "  [0 1]\n",
       "  [0 1]\n",
       "  ..., \n",
       "  [0 0]\n",
       "  [0 0]\n",
       "  [0 0]]\n",
       "\n",
       " ..., \n",
       " [[0 1]\n",
       "  [0 0]\n",
       "  [0 0]\n",
       "  ..., \n",
       "  [0 0]\n",
       "  [0 0]\n",
       "  [0 0]]\n",
       "\n",
       " [[0 0]\n",
       "  [0 0]\n",
       "  [0 0]\n",
       "  ..., \n",
       "  [0 0]\n",
       "  [0 1]\n",
       "  [0 0]]\n",
       "\n",
       " [[0 1]\n",
       "  [0 0]\n",
       "  [0 0]\n",
       "  ..., \n",
       "  [0 0]\n",
       "  [0 0]\n",
       "  [0 0]]]"
      ]
     },
     "execution_count": 45,
     "metadata": {},
     "output_type": "execute_result"
    }
   ],
   "source": [
    "gc.subset(variants, samples)"
   ]
  },
  {
   "cell_type": "code",
   "execution_count": 31,
   "metadata": {
    "collapsed": false
   },
   "outputs": [],
   "source": []
  },
  {
   "cell_type": "markdown",
   "metadata": {},
   "source": [
    "## Sandbox"
   ]
  },
  {
   "cell_type": "code",
   "execution_count": null,
   "metadata": {
    "collapsed": false
   },
   "outputs": [],
   "source": []
  }
 ],
 "metadata": {
  "kernelspec": {
   "display_name": "Python 3",
   "language": "python",
   "name": "python3"
  },
  "language_info": {
   "codemirror_mode": {
    "name": "ipython",
    "version": 3
   },
   "file_extension": ".py",
   "mimetype": "text/x-python",
   "name": "python",
   "nbconvert_exporter": "python",
   "pygments_lexer": "ipython3",
   "version": "3.4.2"
  }
 },
 "nbformat": 4,
 "nbformat_minor": 0
}
