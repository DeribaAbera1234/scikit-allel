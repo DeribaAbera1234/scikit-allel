{
 "cells": [
  {
   "cell_type": "code",
   "execution_count": 1,
   "metadata": {
    "collapsed": false
   },
   "outputs": [
    {
     "data": {
      "text/plain": [
       "'0.22.0.dev0'"
      ]
     },
     "execution_count": 1,
     "metadata": {},
     "output_type": "execute_result"
    }
   ],
   "source": [
    "import sys\n",
    "sys.path.insert(0, '../')\n",
    "import numpy as np\n",
    "%reload_ext autoreload\n",
    "%autoreload 1\n",
    "%aimport allel\n",
    "%aimport allel.model.ndarray\n",
    "allel.__version__"
   ]
  },
  {
   "cell_type": "markdown",
   "metadata": {},
   "source": [
    "## GenotypeVector"
   ]
  },
  {
   "cell_type": "code",
   "execution_count": 2,
   "metadata": {
    "collapsed": false
   },
   "outputs": [
    {
     "data": {
      "text/html": [
       "GenotypeVector((40, 2), dtype=int64)<br/><table><tr><th style=\"text-align: center\">0</th><th style=\"text-align: center\">1</th><th style=\"text-align: center\">2</th><th style=\"text-align: center\">3</th><th style=\"text-align: center\">4</th><th style=\"text-align: center\"> ... </th><th style=\"text-align: center\">35</th><th style=\"text-align: center\">36</th><th style=\"text-align: center\">37</th><th style=\"text-align: center\">38</th><th style=\"text-align: center\">39</th></tr><tr><td style=\"text-align: center\">0|1</td><td style=\"text-align: center\">./.</td><td style=\"text-align: center\">0|1</td><td style=\"text-align: center\">./.</td><td style=\"text-align: center\">0|1</td><td style=\"text-align: center\"> ... </td><td style=\"text-align: center\">./.</td><td style=\"text-align: center\">0|1</td><td style=\"text-align: center\">./.</td><td style=\"text-align: center\">0|1</td><td style=\"text-align: center\">./.</td></tr></table>"
      ],
      "text/plain": [
       "GenotypeVector((40, 2), dtype=int64)\n",
       "0|1 ./. 0|1 ./. 0|1  ...  ./. 0|1 ./. 0|1 ./."
      ]
     },
     "execution_count": 2,
     "metadata": {},
     "output_type": "execute_result"
    }
   ],
   "source": [
    "g = allel.model.ndarray.GenotypeVector([[0, 1], [-1, -1]]*20)\n",
    "g.is_phased = np.array([True, False]*20, dtype=bool)\n",
    "g"
   ]
  },
  {
   "cell_type": "code",
   "execution_count": 3,
   "metadata": {
    "collapsed": false
   },
   "outputs": [
    {
     "data": {
      "text/html": [
       "GenotypeVector((40, 2), dtype=int64)<br/><table><tr><th style=\"text-align: center\">0</th><th style=\"text-align: center\">1</th><th style=\"text-align: center\">2</th><th style=\"text-align: center\">3</th><th style=\"text-align: center\">4</th><th style=\"text-align: center\">5</th><th style=\"text-align: center\">6</th><th style=\"text-align: center\">7</th><th style=\"text-align: center\">8</th><th style=\"text-align: center\">9</th><th style=\"text-align: center\"> ... </th><th style=\"text-align: center\">30</th><th style=\"text-align: center\">31</th><th style=\"text-align: center\">32</th><th style=\"text-align: center\">33</th><th style=\"text-align: center\">34</th><th style=\"text-align: center\">35</th><th style=\"text-align: center\">36</th><th style=\"text-align: center\">37</th><th style=\"text-align: center\">38</th><th style=\"text-align: center\">39</th></tr><tr><td style=\"text-align: center\">0|1</td><td style=\"text-align: center\">./.</td><td style=\"text-align: center\">0|1</td><td style=\"text-align: center\">./.</td><td style=\"text-align: center\">0|1</td><td style=\"text-align: center\">./.</td><td style=\"text-align: center\">0|1</td><td style=\"text-align: center\">./.</td><td style=\"text-align: center\">0|1</td><td style=\"text-align: center\">./.</td><td style=\"text-align: center\"> ... </td><td style=\"text-align: center\">0|1</td><td style=\"text-align: center\">./.</td><td style=\"text-align: center\">0|1</td><td style=\"text-align: center\">./.</td><td style=\"text-align: center\">0|1</td><td style=\"text-align: center\">./.</td><td style=\"text-align: center\">0|1</td><td style=\"text-align: center\">./.</td><td style=\"text-align: center\">0|1</td><td style=\"text-align: center\">./.</td></tr></table>"
      ]
     },
     "metadata": {},
     "output_type": "display_data"
    }
   ],
   "source": [
    "g.display(30, 10)"
   ]
  },
  {
   "cell_type": "code",
   "execution_count": 4,
   "metadata": {
    "collapsed": false
   },
   "outputs": [
    {
     "data": {
      "text/html": [
       "GenotypeVector((40, 2), dtype=int64)<br/><table><tr><th style=\"text-align: center\">0</th><th style=\"text-align: center\">1</th><th style=\"text-align: center\">2</th><th style=\"text-align: center\">3</th><th style=\"text-align: center\">4</th><th style=\"text-align: center\">5</th><th style=\"text-align: center\">6</th><th style=\"text-align: center\">7</th><th style=\"text-align: center\">8</th><th style=\"text-align: center\">9</th><th style=\"text-align: center\">10</th><th style=\"text-align: center\">11</th><th style=\"text-align: center\">12</th><th style=\"text-align: center\">13</th><th style=\"text-align: center\">14</th><th style=\"text-align: center\">15</th><th style=\"text-align: center\">16</th><th style=\"text-align: center\">17</th><th style=\"text-align: center\">18</th><th style=\"text-align: center\">19</th><th style=\"text-align: center\">20</th><th style=\"text-align: center\">21</th><th style=\"text-align: center\">22</th><th style=\"text-align: center\">23</th><th style=\"text-align: center\">24</th><th style=\"text-align: center\">25</th><th style=\"text-align: center\">26</th><th style=\"text-align: center\">27</th><th style=\"text-align: center\">28</th><th style=\"text-align: center\">29</th><th style=\"text-align: center\">30</th><th style=\"text-align: center\">31</th><th style=\"text-align: center\">32</th><th style=\"text-align: center\">33</th><th style=\"text-align: center\">34</th><th style=\"text-align: center\">35</th><th style=\"text-align: center\">36</th><th style=\"text-align: center\">37</th><th style=\"text-align: center\">38</th><th style=\"text-align: center\">39</th></tr><tr><td style=\"text-align: center\">0|1</td><td style=\"text-align: center\">./.</td><td style=\"text-align: center\">0|1</td><td style=\"text-align: center\">./.</td><td style=\"text-align: center\">0|1</td><td style=\"text-align: center\">./.</td><td style=\"text-align: center\">0|1</td><td style=\"text-align: center\">./.</td><td style=\"text-align: center\">0|1</td><td style=\"text-align: center\">./.</td><td style=\"text-align: center\">0|1</td><td style=\"text-align: center\">./.</td><td style=\"text-align: center\">0|1</td><td style=\"text-align: center\">./.</td><td style=\"text-align: center\">0|1</td><td style=\"text-align: center\">./.</td><td style=\"text-align: center\">0|1</td><td style=\"text-align: center\">./.</td><td style=\"text-align: center\">0|1</td><td style=\"text-align: center\">./.</td><td style=\"text-align: center\">0|1</td><td style=\"text-align: center\">./.</td><td style=\"text-align: center\">0|1</td><td style=\"text-align: center\">./.</td><td style=\"text-align: center\">0|1</td><td style=\"text-align: center\">./.</td><td style=\"text-align: center\">0|1</td><td style=\"text-align: center\">./.</td><td style=\"text-align: center\">0|1</td><td style=\"text-align: center\">./.</td><td style=\"text-align: center\">0|1</td><td style=\"text-align: center\">./.</td><td style=\"text-align: center\">0|1</td><td style=\"text-align: center\">./.</td><td style=\"text-align: center\">0|1</td><td style=\"text-align: center\">./.</td><td style=\"text-align: center\">0|1</td><td style=\"text-align: center\">./.</td><td style=\"text-align: center\">0|1</td><td style=\"text-align: center\">./.</td></tr></table>"
      ]
     },
     "metadata": {},
     "output_type": "display_data"
    }
   ],
   "source": [
    "g.displayall()"
   ]
  },
  {
   "cell_type": "code",
   "execution_count": 5,
   "metadata": {
    "collapsed": false
   },
   "outputs": [
    {
     "name": "stdout",
     "output_type": "stream",
     "text": [
      "GenotypeVector((40, 2), dtype=int64)\n",
      "0|1 ./. 0|1 ./. 0|1  ...  ./. 0|1 ./. 0|1 ./.\n"
     ]
    }
   ],
   "source": [
    "print(repr(g))"
   ]
  },
  {
   "cell_type": "code",
   "execution_count": 6,
   "metadata": {
    "collapsed": false
   },
   "outputs": [
    {
     "name": "stdout",
     "output_type": "stream",
     "text": [
      "0|1 ./. 0|1 ./. 0|1  ...  ./. 0|1 ./. 0|1 ./.\n"
     ]
    }
   ],
   "source": [
    "print(g)"
   ]
  },
  {
   "cell_type": "code",
   "execution_count": 7,
   "metadata": {
    "collapsed": false
   },
   "outputs": [
    {
     "name": "stdout",
     "output_type": "stream",
     "text": [
      "0|1 ./. 0|1 ./. 0|1 ./. 0|1 ./. 0|1 ./. 0|1 ./. 0|1 ./. 0|1 ./. 0|1 ./. 0|1 ./. 0|1 ./. 0|1 ./. 0|1 ./. 0|1 ./. 0|1 ./. 0|1 ./. 0|1 ./. 0|1 ./. 0|1 ./. 0|1 ./.\n"
     ]
    }
   ],
   "source": [
    "print(g.to_str(40))"
   ]
  },
  {
   "cell_type": "markdown",
   "metadata": {},
   "source": [
    "## GenotypeArray"
   ]
  },
  {
   "cell_type": "code",
   "execution_count": 8,
   "metadata": {
    "collapsed": false
   },
   "outputs": [],
   "source": [
    "g = allel.model.ndarray.GenotypeArray([[[0, 1], [-1, -1]]*20]*20)\n",
    "g.is_phased = np.array([[True, False, False, False]*10]*20, dtype=bool)\n",
    "g.mask = np.array([[1, 0, 0, 0, 0]*8]*20, dtype=bool)"
   ]
  },
  {
   "cell_type": "code",
   "execution_count": 9,
   "metadata": {
    "collapsed": false
   },
   "outputs": [
    {
     "name": "stdout",
     "output_type": "stream",
     "text": [
      ".|. ./. 0/1 ./. 0|1  ...  ./. 0|1 ./. 0/1 ./.\n",
      ".|. ./. 0/1 ./. 0|1  ...  ./. 0|1 ./. 0/1 ./.\n",
      ".|. ./. 0/1 ./. 0|1  ...  ./. 0|1 ./. 0/1 ./.\n",
      "...\n",
      ".|. ./. 0/1 ./. 0|1  ...  ./. 0|1 ./. 0/1 ./.\n",
      ".|. ./. 0/1 ./. 0|1  ...  ./. 0|1 ./. 0/1 ./.\n",
      ".|. ./. 0/1 ./. 0|1  ...  ./. 0|1 ./. 0/1 ./.\n",
      "\n"
     ]
    }
   ],
   "source": [
    "print(g)"
   ]
  },
  {
   "cell_type": "code",
   "execution_count": 10,
   "metadata": {
    "collapsed": false
   },
   "outputs": [
    {
     "name": "stdout",
     "output_type": "stream",
     "text": [
      "GenotypeArray((20, 40, 2), dtype=int64)\n",
      ".|. ./. 0/1 ./. 0|1  ...  ./. 0|1 ./. 0/1 ./.\n",
      ".|. ./. 0/1 ./. 0|1  ...  ./. 0|1 ./. 0/1 ./.\n",
      ".|. ./. 0/1 ./. 0|1  ...  ./. 0|1 ./. 0/1 ./.\n",
      "...\n",
      ".|. ./. 0/1 ./. 0|1  ...  ./. 0|1 ./. 0/1 ./.\n",
      ".|. ./. 0/1 ./. 0|1  ...  ./. 0|1 ./. 0/1 ./.\n",
      ".|. ./. 0/1 ./. 0|1  ...  ./. 0|1 ./. 0/1 ./.\n",
      "\n"
     ]
    }
   ],
   "source": [
    "print(repr(g))"
   ]
  },
  {
   "cell_type": "code",
   "execution_count": 12,
   "metadata": {
    "collapsed": false
   },
   "outputs": [
    {
     "data": {
      "text/html": [
       "GenotypeArray((20, 40, 2), dtype=int64)<br/><table><tr><th></th><th style=\"text-align: center\">0</th><th style=\"text-align: center\">1</th><th style=\"text-align: center\">2</th><th style=\"text-align: center\">3</th><th style=\"text-align: center\">4</th><th style=\"text-align: center\">...</th><th style=\"text-align: center\">35</th><th style=\"text-align: center\">36</th><th style=\"text-align: center\">37</th><th style=\"text-align: center\">38</th><th style=\"text-align: center\">39</th></tr><tr><th style=\"text-align: center\">0</th><td style=\"text-align: center\">.|.</td><td style=\"text-align: center\">./.</td><td style=\"text-align: center\">0/1</td><td style=\"text-align: center\">./.</td><td style=\"text-align: center\">0|1</td><td style=\"text-align: center\"> ... </td><td style=\"text-align: center\">./.</td><td style=\"text-align: center\">0|1</td><td style=\"text-align: center\">./.</td><td style=\"text-align: center\">0/1</td><td style=\"text-align: center\">./.</td></tr><tr><th style=\"text-align: center\">1</th><td style=\"text-align: center\">.|.</td><td style=\"text-align: center\">./.</td><td style=\"text-align: center\">0/1</td><td style=\"text-align: center\">./.</td><td style=\"text-align: center\">0|1</td><td style=\"text-align: center\"> ... </td><td style=\"text-align: center\">./.</td><td style=\"text-align: center\">0|1</td><td style=\"text-align: center\">./.</td><td style=\"text-align: center\">0/1</td><td style=\"text-align: center\">./.</td></tr><tr><th style=\"text-align: center\">2</th><td style=\"text-align: center\">.|.</td><td style=\"text-align: center\">./.</td><td style=\"text-align: center\">0/1</td><td style=\"text-align: center\">./.</td><td style=\"text-align: center\">0|1</td><td style=\"text-align: center\"> ... </td><td style=\"text-align: center\">./.</td><td style=\"text-align: center\">0|1</td><td style=\"text-align: center\">./.</td><td style=\"text-align: center\">0/1</td><td style=\"text-align: center\">./.</td></tr><tr><td>...</td><td colspan=\"11\"></td></tr><tr><th style=\"text-align: center\">17</th><td style=\"text-align: center\">.|.</td><td style=\"text-align: center\">./.</td><td style=\"text-align: center\">0/1</td><td style=\"text-align: center\">./.</td><td style=\"text-align: center\">0|1</td><td style=\"text-align: center\"> ... </td><td style=\"text-align: center\">./.</td><td style=\"text-align: center\">0|1</td><td style=\"text-align: center\">./.</td><td style=\"text-align: center\">0/1</td><td style=\"text-align: center\">./.</td></tr><tr><th style=\"text-align: center\">18</th><td style=\"text-align: center\">.|.</td><td style=\"text-align: center\">./.</td><td style=\"text-align: center\">0/1</td><td style=\"text-align: center\">./.</td><td style=\"text-align: center\">0|1</td><td style=\"text-align: center\"> ... </td><td style=\"text-align: center\">./.</td><td style=\"text-align: center\">0|1</td><td style=\"text-align: center\">./.</td><td style=\"text-align: center\">0/1</td><td style=\"text-align: center\">./.</td></tr><tr><th style=\"text-align: center\">19</th><td style=\"text-align: center\">.|.</td><td style=\"text-align: center\">./.</td><td style=\"text-align: center\">0/1</td><td style=\"text-align: center\">./.</td><td style=\"text-align: center\">0|1</td><td style=\"text-align: center\"> ... </td><td style=\"text-align: center\">./.</td><td style=\"text-align: center\">0|1</td><td style=\"text-align: center\">./.</td><td style=\"text-align: center\">0/1</td><td style=\"text-align: center\">./.</td></tr></table>"
      ],
      "text/plain": [
       "GenotypeArray((20, 40, 2), dtype=int64)\n",
       ".|. ./. 0/1 ./. 0|1  ...  ./. 0|1 ./. 0/1 ./.\n",
       ".|. ./. 0/1 ./. 0|1  ...  ./. 0|1 ./. 0/1 ./.\n",
       ".|. ./. 0/1 ./. 0|1  ...  ./. 0|1 ./. 0/1 ./.\n",
       "...\n",
       ".|. ./. 0/1 ./. 0|1  ...  ./. 0|1 ./. 0/1 ./.\n",
       ".|. ./. 0/1 ./. 0|1  ...  ./. 0|1 ./. 0/1 ./.\n",
       ".|. ./. 0/1 ./. 0|1  ...  ./. 0|1 ./. 0/1 ./."
      ]
     },
     "execution_count": 12,
     "metadata": {},
     "output_type": "execute_result"
    }
   ],
   "source": [
    "g"
   ]
  },
  {
   "cell_type": "code",
   "execution_count": 86,
   "metadata": {
    "collapsed": false
   },
   "outputs": [
    {
     "data": {
      "text/html": [
       "GenotypeArray((20, 40, 2), dtype=int64)<br/><table><tr><th></th><th style=\"text-align: center\">0</th><th style=\"text-align: center\">1</th><th style=\"text-align: center\">2</th><th style=\"text-align: center\">3</th><th style=\"text-align: center\">4</th><th style=\"text-align: center\">5</th><th style=\"text-align: center\">6</th><th style=\"text-align: center\">7</th><th style=\"text-align: center\">8</th><th style=\"text-align: center\">9</th><th style=\"text-align: center\">10</th><th style=\"text-align: center\">11</th><th style=\"text-align: center\">12</th><th style=\"text-align: center\">13</th><th style=\"text-align: center\">14</th><th style=\"text-align: center\">15</th><th style=\"text-align: center\">16</th><th style=\"text-align: center\">17</th><th style=\"text-align: center\">18</th><th style=\"text-align: center\">19</th><th style=\"text-align: center\">20</th><th style=\"text-align: center\">21</th><th style=\"text-align: center\">22</th><th style=\"text-align: center\">23</th><th style=\"text-align: center\">24</th><th style=\"text-align: center\">25</th><th style=\"text-align: center\">26</th><th style=\"text-align: center\">27</th><th style=\"text-align: center\">28</th><th style=\"text-align: center\">29</th><th style=\"text-align: center\">30</th><th style=\"text-align: center\">31</th><th style=\"text-align: center\">32</th><th style=\"text-align: center\">33</th><th style=\"text-align: center\">34</th><th style=\"text-align: center\">35</th><th style=\"text-align: center\">36</th><th style=\"text-align: center\">37</th><th style=\"text-align: center\">38</th><th style=\"text-align: center\">39</th></tr><tr><th style=\"text-align: center\">0</th><td style=\"text-align: center\">.|.</td><td style=\"text-align: center\">./.</td><td style=\"text-align: center\">0/1</td><td style=\"text-align: center\">./.</td><td style=\"text-align: center\">0|1</td><td style=\"text-align: center\">./.</td><td style=\"text-align: center\">0/1</td><td style=\"text-align: center\">./.</td><td style=\"text-align: center\">0|1</td><td style=\"text-align: center\">./.</td><td style=\"text-align: center\">./.</td><td style=\"text-align: center\">./.</td><td style=\"text-align: center\">0|1</td><td style=\"text-align: center\">./.</td><td style=\"text-align: center\">0/1</td><td style=\"text-align: center\">./.</td><td style=\"text-align: center\">0|1</td><td style=\"text-align: center\">./.</td><td style=\"text-align: center\">0/1</td><td style=\"text-align: center\">./.</td><td style=\"text-align: center\">.|.</td><td style=\"text-align: center\">./.</td><td style=\"text-align: center\">0/1</td><td style=\"text-align: center\">./.</td><td style=\"text-align: center\">0|1</td><td style=\"text-align: center\">./.</td><td style=\"text-align: center\">0/1</td><td style=\"text-align: center\">./.</td><td style=\"text-align: center\">0|1</td><td style=\"text-align: center\">./.</td><td style=\"text-align: center\">./.</td><td style=\"text-align: center\">./.</td><td style=\"text-align: center\">0|1</td><td style=\"text-align: center\">./.</td><td style=\"text-align: center\">0/1</td><td style=\"text-align: center\">./.</td><td style=\"text-align: center\">0|1</td><td style=\"text-align: center\">./.</td><td style=\"text-align: center\">0/1</td><td style=\"text-align: center\">./.</td></tr><tr><th style=\"text-align: center\">1</th><td style=\"text-align: center\">.|.</td><td style=\"text-align: center\">./.</td><td style=\"text-align: center\">0/1</td><td style=\"text-align: center\">./.</td><td style=\"text-align: center\">0|1</td><td style=\"text-align: center\">./.</td><td style=\"text-align: center\">0/1</td><td style=\"text-align: center\">./.</td><td style=\"text-align: center\">0|1</td><td style=\"text-align: center\">./.</td><td style=\"text-align: center\">./.</td><td style=\"text-align: center\">./.</td><td style=\"text-align: center\">0|1</td><td style=\"text-align: center\">./.</td><td style=\"text-align: center\">0/1</td><td style=\"text-align: center\">./.</td><td style=\"text-align: center\">0|1</td><td style=\"text-align: center\">./.</td><td style=\"text-align: center\">0/1</td><td style=\"text-align: center\">./.</td><td style=\"text-align: center\">.|.</td><td style=\"text-align: center\">./.</td><td style=\"text-align: center\">0/1</td><td style=\"text-align: center\">./.</td><td style=\"text-align: center\">0|1</td><td style=\"text-align: center\">./.</td><td style=\"text-align: center\">0/1</td><td style=\"text-align: center\">./.</td><td style=\"text-align: center\">0|1</td><td style=\"text-align: center\">./.</td><td style=\"text-align: center\">./.</td><td style=\"text-align: center\">./.</td><td style=\"text-align: center\">0|1</td><td style=\"text-align: center\">./.</td><td style=\"text-align: center\">0/1</td><td style=\"text-align: center\">./.</td><td style=\"text-align: center\">0|1</td><td style=\"text-align: center\">./.</td><td style=\"text-align: center\">0/1</td><td style=\"text-align: center\">./.</td></tr><tr><th style=\"text-align: center\">2</th><td style=\"text-align: center\">.|.</td><td style=\"text-align: center\">./.</td><td style=\"text-align: center\">0/1</td><td style=\"text-align: center\">./.</td><td style=\"text-align: center\">0|1</td><td style=\"text-align: center\">./.</td><td style=\"text-align: center\">0/1</td><td style=\"text-align: center\">./.</td><td style=\"text-align: center\">0|1</td><td style=\"text-align: center\">./.</td><td style=\"text-align: center\">./.</td><td style=\"text-align: center\">./.</td><td style=\"text-align: center\">0|1</td><td style=\"text-align: center\">./.</td><td style=\"text-align: center\">0/1</td><td style=\"text-align: center\">./.</td><td style=\"text-align: center\">0|1</td><td style=\"text-align: center\">./.</td><td style=\"text-align: center\">0/1</td><td style=\"text-align: center\">./.</td><td style=\"text-align: center\">.|.</td><td style=\"text-align: center\">./.</td><td style=\"text-align: center\">0/1</td><td style=\"text-align: center\">./.</td><td style=\"text-align: center\">0|1</td><td style=\"text-align: center\">./.</td><td style=\"text-align: center\">0/1</td><td style=\"text-align: center\">./.</td><td style=\"text-align: center\">0|1</td><td style=\"text-align: center\">./.</td><td style=\"text-align: center\">./.</td><td style=\"text-align: center\">./.</td><td style=\"text-align: center\">0|1</td><td style=\"text-align: center\">./.</td><td style=\"text-align: center\">0/1</td><td style=\"text-align: center\">./.</td><td style=\"text-align: center\">0|1</td><td style=\"text-align: center\">./.</td><td style=\"text-align: center\">0/1</td><td style=\"text-align: center\">./.</td></tr><tr><th style=\"text-align: center\">3</th><td style=\"text-align: center\">.|.</td><td style=\"text-align: center\">./.</td><td style=\"text-align: center\">0/1</td><td style=\"text-align: center\">./.</td><td style=\"text-align: center\">0|1</td><td style=\"text-align: center\">./.</td><td style=\"text-align: center\">0/1</td><td style=\"text-align: center\">./.</td><td style=\"text-align: center\">0|1</td><td style=\"text-align: center\">./.</td><td style=\"text-align: center\">./.</td><td style=\"text-align: center\">./.</td><td style=\"text-align: center\">0|1</td><td style=\"text-align: center\">./.</td><td style=\"text-align: center\">0/1</td><td style=\"text-align: center\">./.</td><td style=\"text-align: center\">0|1</td><td style=\"text-align: center\">./.</td><td style=\"text-align: center\">0/1</td><td style=\"text-align: center\">./.</td><td style=\"text-align: center\">.|.</td><td style=\"text-align: center\">./.</td><td style=\"text-align: center\">0/1</td><td style=\"text-align: center\">./.</td><td style=\"text-align: center\">0|1</td><td style=\"text-align: center\">./.</td><td style=\"text-align: center\">0/1</td><td style=\"text-align: center\">./.</td><td style=\"text-align: center\">0|1</td><td style=\"text-align: center\">./.</td><td style=\"text-align: center\">./.</td><td style=\"text-align: center\">./.</td><td style=\"text-align: center\">0|1</td><td style=\"text-align: center\">./.</td><td style=\"text-align: center\">0/1</td><td style=\"text-align: center\">./.</td><td style=\"text-align: center\">0|1</td><td style=\"text-align: center\">./.</td><td style=\"text-align: center\">0/1</td><td style=\"text-align: center\">./.</td></tr><tr><th style=\"text-align: center\">4</th><td style=\"text-align: center\">.|.</td><td style=\"text-align: center\">./.</td><td style=\"text-align: center\">0/1</td><td style=\"text-align: center\">./.</td><td style=\"text-align: center\">0|1</td><td style=\"text-align: center\">./.</td><td style=\"text-align: center\">0/1</td><td style=\"text-align: center\">./.</td><td style=\"text-align: center\">0|1</td><td style=\"text-align: center\">./.</td><td style=\"text-align: center\">./.</td><td style=\"text-align: center\">./.</td><td style=\"text-align: center\">0|1</td><td style=\"text-align: center\">./.</td><td style=\"text-align: center\">0/1</td><td style=\"text-align: center\">./.</td><td style=\"text-align: center\">0|1</td><td style=\"text-align: center\">./.</td><td style=\"text-align: center\">0/1</td><td style=\"text-align: center\">./.</td><td style=\"text-align: center\">.|.</td><td style=\"text-align: center\">./.</td><td style=\"text-align: center\">0/1</td><td style=\"text-align: center\">./.</td><td style=\"text-align: center\">0|1</td><td style=\"text-align: center\">./.</td><td style=\"text-align: center\">0/1</td><td style=\"text-align: center\">./.</td><td style=\"text-align: center\">0|1</td><td style=\"text-align: center\">./.</td><td style=\"text-align: center\">./.</td><td style=\"text-align: center\">./.</td><td style=\"text-align: center\">0|1</td><td style=\"text-align: center\">./.</td><td style=\"text-align: center\">0/1</td><td style=\"text-align: center\">./.</td><td style=\"text-align: center\">0|1</td><td style=\"text-align: center\">./.</td><td style=\"text-align: center\">0/1</td><td style=\"text-align: center\">./.</td></tr><tr><th style=\"text-align: center\">5</th><td style=\"text-align: center\">.|.</td><td style=\"text-align: center\">./.</td><td style=\"text-align: center\">0/1</td><td style=\"text-align: center\">./.</td><td style=\"text-align: center\">0|1</td><td style=\"text-align: center\">./.</td><td style=\"text-align: center\">0/1</td><td style=\"text-align: center\">./.</td><td style=\"text-align: center\">0|1</td><td style=\"text-align: center\">./.</td><td style=\"text-align: center\">./.</td><td style=\"text-align: center\">./.</td><td style=\"text-align: center\">0|1</td><td style=\"text-align: center\">./.</td><td style=\"text-align: center\">0/1</td><td style=\"text-align: center\">./.</td><td style=\"text-align: center\">0|1</td><td style=\"text-align: center\">./.</td><td style=\"text-align: center\">0/1</td><td style=\"text-align: center\">./.</td><td style=\"text-align: center\">.|.</td><td style=\"text-align: center\">./.</td><td style=\"text-align: center\">0/1</td><td style=\"text-align: center\">./.</td><td style=\"text-align: center\">0|1</td><td style=\"text-align: center\">./.</td><td style=\"text-align: center\">0/1</td><td style=\"text-align: center\">./.</td><td style=\"text-align: center\">0|1</td><td style=\"text-align: center\">./.</td><td style=\"text-align: center\">./.</td><td style=\"text-align: center\">./.</td><td style=\"text-align: center\">0|1</td><td style=\"text-align: center\">./.</td><td style=\"text-align: center\">0/1</td><td style=\"text-align: center\">./.</td><td style=\"text-align: center\">0|1</td><td style=\"text-align: center\">./.</td><td style=\"text-align: center\">0/1</td><td style=\"text-align: center\">./.</td></tr><tr><th style=\"text-align: center\">6</th><td style=\"text-align: center\">.|.</td><td style=\"text-align: center\">./.</td><td style=\"text-align: center\">0/1</td><td style=\"text-align: center\">./.</td><td style=\"text-align: center\">0|1</td><td style=\"text-align: center\">./.</td><td style=\"text-align: center\">0/1</td><td style=\"text-align: center\">./.</td><td style=\"text-align: center\">0|1</td><td style=\"text-align: center\">./.</td><td style=\"text-align: center\">./.</td><td style=\"text-align: center\">./.</td><td style=\"text-align: center\">0|1</td><td style=\"text-align: center\">./.</td><td style=\"text-align: center\">0/1</td><td style=\"text-align: center\">./.</td><td style=\"text-align: center\">0|1</td><td style=\"text-align: center\">./.</td><td style=\"text-align: center\">0/1</td><td style=\"text-align: center\">./.</td><td style=\"text-align: center\">.|.</td><td style=\"text-align: center\">./.</td><td style=\"text-align: center\">0/1</td><td style=\"text-align: center\">./.</td><td style=\"text-align: center\">0|1</td><td style=\"text-align: center\">./.</td><td style=\"text-align: center\">0/1</td><td style=\"text-align: center\">./.</td><td style=\"text-align: center\">0|1</td><td style=\"text-align: center\">./.</td><td style=\"text-align: center\">./.</td><td style=\"text-align: center\">./.</td><td style=\"text-align: center\">0|1</td><td style=\"text-align: center\">./.</td><td style=\"text-align: center\">0/1</td><td style=\"text-align: center\">./.</td><td style=\"text-align: center\">0|1</td><td style=\"text-align: center\">./.</td><td style=\"text-align: center\">0/1</td><td style=\"text-align: center\">./.</td></tr><tr><th style=\"text-align: center\">7</th><td style=\"text-align: center\">.|.</td><td style=\"text-align: center\">./.</td><td style=\"text-align: center\">0/1</td><td style=\"text-align: center\">./.</td><td style=\"text-align: center\">0|1</td><td style=\"text-align: center\">./.</td><td style=\"text-align: center\">0/1</td><td style=\"text-align: center\">./.</td><td style=\"text-align: center\">0|1</td><td style=\"text-align: center\">./.</td><td style=\"text-align: center\">./.</td><td style=\"text-align: center\">./.</td><td style=\"text-align: center\">0|1</td><td style=\"text-align: center\">./.</td><td style=\"text-align: center\">0/1</td><td style=\"text-align: center\">./.</td><td style=\"text-align: center\">0|1</td><td style=\"text-align: center\">./.</td><td style=\"text-align: center\">0/1</td><td style=\"text-align: center\">./.</td><td style=\"text-align: center\">.|.</td><td style=\"text-align: center\">./.</td><td style=\"text-align: center\">0/1</td><td style=\"text-align: center\">./.</td><td style=\"text-align: center\">0|1</td><td style=\"text-align: center\">./.</td><td style=\"text-align: center\">0/1</td><td style=\"text-align: center\">./.</td><td style=\"text-align: center\">0|1</td><td style=\"text-align: center\">./.</td><td style=\"text-align: center\">./.</td><td style=\"text-align: center\">./.</td><td style=\"text-align: center\">0|1</td><td style=\"text-align: center\">./.</td><td style=\"text-align: center\">0/1</td><td style=\"text-align: center\">./.</td><td style=\"text-align: center\">0|1</td><td style=\"text-align: center\">./.</td><td style=\"text-align: center\">0/1</td><td style=\"text-align: center\">./.</td></tr><tr><th style=\"text-align: center\">8</th><td style=\"text-align: center\">.|.</td><td style=\"text-align: center\">./.</td><td style=\"text-align: center\">0/1</td><td style=\"text-align: center\">./.</td><td style=\"text-align: center\">0|1</td><td style=\"text-align: center\">./.</td><td style=\"text-align: center\">0/1</td><td style=\"text-align: center\">./.</td><td style=\"text-align: center\">0|1</td><td style=\"text-align: center\">./.</td><td style=\"text-align: center\">./.</td><td style=\"text-align: center\">./.</td><td style=\"text-align: center\">0|1</td><td style=\"text-align: center\">./.</td><td style=\"text-align: center\">0/1</td><td style=\"text-align: center\">./.</td><td style=\"text-align: center\">0|1</td><td style=\"text-align: center\">./.</td><td style=\"text-align: center\">0/1</td><td style=\"text-align: center\">./.</td><td style=\"text-align: center\">.|.</td><td style=\"text-align: center\">./.</td><td style=\"text-align: center\">0/1</td><td style=\"text-align: center\">./.</td><td style=\"text-align: center\">0|1</td><td style=\"text-align: center\">./.</td><td style=\"text-align: center\">0/1</td><td style=\"text-align: center\">./.</td><td style=\"text-align: center\">0|1</td><td style=\"text-align: center\">./.</td><td style=\"text-align: center\">./.</td><td style=\"text-align: center\">./.</td><td style=\"text-align: center\">0|1</td><td style=\"text-align: center\">./.</td><td style=\"text-align: center\">0/1</td><td style=\"text-align: center\">./.</td><td style=\"text-align: center\">0|1</td><td style=\"text-align: center\">./.</td><td style=\"text-align: center\">0/1</td><td style=\"text-align: center\">./.</td></tr><tr><th style=\"text-align: center\">9</th><td style=\"text-align: center\">.|.</td><td style=\"text-align: center\">./.</td><td style=\"text-align: center\">0/1</td><td style=\"text-align: center\">./.</td><td style=\"text-align: center\">0|1</td><td style=\"text-align: center\">./.</td><td style=\"text-align: center\">0/1</td><td style=\"text-align: center\">./.</td><td style=\"text-align: center\">0|1</td><td style=\"text-align: center\">./.</td><td style=\"text-align: center\">./.</td><td style=\"text-align: center\">./.</td><td style=\"text-align: center\">0|1</td><td style=\"text-align: center\">./.</td><td style=\"text-align: center\">0/1</td><td style=\"text-align: center\">./.</td><td style=\"text-align: center\">0|1</td><td style=\"text-align: center\">./.</td><td style=\"text-align: center\">0/1</td><td style=\"text-align: center\">./.</td><td style=\"text-align: center\">.|.</td><td style=\"text-align: center\">./.</td><td style=\"text-align: center\">0/1</td><td style=\"text-align: center\">./.</td><td style=\"text-align: center\">0|1</td><td style=\"text-align: center\">./.</td><td style=\"text-align: center\">0/1</td><td style=\"text-align: center\">./.</td><td style=\"text-align: center\">0|1</td><td style=\"text-align: center\">./.</td><td style=\"text-align: center\">./.</td><td style=\"text-align: center\">./.</td><td style=\"text-align: center\">0|1</td><td style=\"text-align: center\">./.</td><td style=\"text-align: center\">0/1</td><td style=\"text-align: center\">./.</td><td style=\"text-align: center\">0|1</td><td style=\"text-align: center\">./.</td><td style=\"text-align: center\">0/1</td><td style=\"text-align: center\">./.</td></tr><tr><th style=\"text-align: center\">10</th><td style=\"text-align: center\">.|.</td><td style=\"text-align: center\">./.</td><td style=\"text-align: center\">0/1</td><td style=\"text-align: center\">./.</td><td style=\"text-align: center\">0|1</td><td style=\"text-align: center\">./.</td><td style=\"text-align: center\">0/1</td><td style=\"text-align: center\">./.</td><td style=\"text-align: center\">0|1</td><td style=\"text-align: center\">./.</td><td style=\"text-align: center\">./.</td><td style=\"text-align: center\">./.</td><td style=\"text-align: center\">0|1</td><td style=\"text-align: center\">./.</td><td style=\"text-align: center\">0/1</td><td style=\"text-align: center\">./.</td><td style=\"text-align: center\">0|1</td><td style=\"text-align: center\">./.</td><td style=\"text-align: center\">0/1</td><td style=\"text-align: center\">./.</td><td style=\"text-align: center\">.|.</td><td style=\"text-align: center\">./.</td><td style=\"text-align: center\">0/1</td><td style=\"text-align: center\">./.</td><td style=\"text-align: center\">0|1</td><td style=\"text-align: center\">./.</td><td style=\"text-align: center\">0/1</td><td style=\"text-align: center\">./.</td><td style=\"text-align: center\">0|1</td><td style=\"text-align: center\">./.</td><td style=\"text-align: center\">./.</td><td style=\"text-align: center\">./.</td><td style=\"text-align: center\">0|1</td><td style=\"text-align: center\">./.</td><td style=\"text-align: center\">0/1</td><td style=\"text-align: center\">./.</td><td style=\"text-align: center\">0|1</td><td style=\"text-align: center\">./.</td><td style=\"text-align: center\">0/1</td><td style=\"text-align: center\">./.</td></tr><tr><th style=\"text-align: center\">11</th><td style=\"text-align: center\">.|.</td><td style=\"text-align: center\">./.</td><td style=\"text-align: center\">0/1</td><td style=\"text-align: center\">./.</td><td style=\"text-align: center\">0|1</td><td style=\"text-align: center\">./.</td><td style=\"text-align: center\">0/1</td><td style=\"text-align: center\">./.</td><td style=\"text-align: center\">0|1</td><td style=\"text-align: center\">./.</td><td style=\"text-align: center\">./.</td><td style=\"text-align: center\">./.</td><td style=\"text-align: center\">0|1</td><td style=\"text-align: center\">./.</td><td style=\"text-align: center\">0/1</td><td style=\"text-align: center\">./.</td><td style=\"text-align: center\">0|1</td><td style=\"text-align: center\">./.</td><td style=\"text-align: center\">0/1</td><td style=\"text-align: center\">./.</td><td style=\"text-align: center\">.|.</td><td style=\"text-align: center\">./.</td><td style=\"text-align: center\">0/1</td><td style=\"text-align: center\">./.</td><td style=\"text-align: center\">0|1</td><td style=\"text-align: center\">./.</td><td style=\"text-align: center\">0/1</td><td style=\"text-align: center\">./.</td><td style=\"text-align: center\">0|1</td><td style=\"text-align: center\">./.</td><td style=\"text-align: center\">./.</td><td style=\"text-align: center\">./.</td><td style=\"text-align: center\">0|1</td><td style=\"text-align: center\">./.</td><td style=\"text-align: center\">0/1</td><td style=\"text-align: center\">./.</td><td style=\"text-align: center\">0|1</td><td style=\"text-align: center\">./.</td><td style=\"text-align: center\">0/1</td><td style=\"text-align: center\">./.</td></tr><tr><th style=\"text-align: center\">12</th><td style=\"text-align: center\">.|.</td><td style=\"text-align: center\">./.</td><td style=\"text-align: center\">0/1</td><td style=\"text-align: center\">./.</td><td style=\"text-align: center\">0|1</td><td style=\"text-align: center\">./.</td><td style=\"text-align: center\">0/1</td><td style=\"text-align: center\">./.</td><td style=\"text-align: center\">0|1</td><td style=\"text-align: center\">./.</td><td style=\"text-align: center\">./.</td><td style=\"text-align: center\">./.</td><td style=\"text-align: center\">0|1</td><td style=\"text-align: center\">./.</td><td style=\"text-align: center\">0/1</td><td style=\"text-align: center\">./.</td><td style=\"text-align: center\">0|1</td><td style=\"text-align: center\">./.</td><td style=\"text-align: center\">0/1</td><td style=\"text-align: center\">./.</td><td style=\"text-align: center\">.|.</td><td style=\"text-align: center\">./.</td><td style=\"text-align: center\">0/1</td><td style=\"text-align: center\">./.</td><td style=\"text-align: center\">0|1</td><td style=\"text-align: center\">./.</td><td style=\"text-align: center\">0/1</td><td style=\"text-align: center\">./.</td><td style=\"text-align: center\">0|1</td><td style=\"text-align: center\">./.</td><td style=\"text-align: center\">./.</td><td style=\"text-align: center\">./.</td><td style=\"text-align: center\">0|1</td><td style=\"text-align: center\">./.</td><td style=\"text-align: center\">0/1</td><td style=\"text-align: center\">./.</td><td style=\"text-align: center\">0|1</td><td style=\"text-align: center\">./.</td><td style=\"text-align: center\">0/1</td><td style=\"text-align: center\">./.</td></tr><tr><th style=\"text-align: center\">13</th><td style=\"text-align: center\">.|.</td><td style=\"text-align: center\">./.</td><td style=\"text-align: center\">0/1</td><td style=\"text-align: center\">./.</td><td style=\"text-align: center\">0|1</td><td style=\"text-align: center\">./.</td><td style=\"text-align: center\">0/1</td><td style=\"text-align: center\">./.</td><td style=\"text-align: center\">0|1</td><td style=\"text-align: center\">./.</td><td style=\"text-align: center\">./.</td><td style=\"text-align: center\">./.</td><td style=\"text-align: center\">0|1</td><td style=\"text-align: center\">./.</td><td style=\"text-align: center\">0/1</td><td style=\"text-align: center\">./.</td><td style=\"text-align: center\">0|1</td><td style=\"text-align: center\">./.</td><td style=\"text-align: center\">0/1</td><td style=\"text-align: center\">./.</td><td style=\"text-align: center\">.|.</td><td style=\"text-align: center\">./.</td><td style=\"text-align: center\">0/1</td><td style=\"text-align: center\">./.</td><td style=\"text-align: center\">0|1</td><td style=\"text-align: center\">./.</td><td style=\"text-align: center\">0/1</td><td style=\"text-align: center\">./.</td><td style=\"text-align: center\">0|1</td><td style=\"text-align: center\">./.</td><td style=\"text-align: center\">./.</td><td style=\"text-align: center\">./.</td><td style=\"text-align: center\">0|1</td><td style=\"text-align: center\">./.</td><td style=\"text-align: center\">0/1</td><td style=\"text-align: center\">./.</td><td style=\"text-align: center\">0|1</td><td style=\"text-align: center\">./.</td><td style=\"text-align: center\">0/1</td><td style=\"text-align: center\">./.</td></tr><tr><th style=\"text-align: center\">14</th><td style=\"text-align: center\">.|.</td><td style=\"text-align: center\">./.</td><td style=\"text-align: center\">0/1</td><td style=\"text-align: center\">./.</td><td style=\"text-align: center\">0|1</td><td style=\"text-align: center\">./.</td><td style=\"text-align: center\">0/1</td><td style=\"text-align: center\">./.</td><td style=\"text-align: center\">0|1</td><td style=\"text-align: center\">./.</td><td style=\"text-align: center\">./.</td><td style=\"text-align: center\">./.</td><td style=\"text-align: center\">0|1</td><td style=\"text-align: center\">./.</td><td style=\"text-align: center\">0/1</td><td style=\"text-align: center\">./.</td><td style=\"text-align: center\">0|1</td><td style=\"text-align: center\">./.</td><td style=\"text-align: center\">0/1</td><td style=\"text-align: center\">./.</td><td style=\"text-align: center\">.|.</td><td style=\"text-align: center\">./.</td><td style=\"text-align: center\">0/1</td><td style=\"text-align: center\">./.</td><td style=\"text-align: center\">0|1</td><td style=\"text-align: center\">./.</td><td style=\"text-align: center\">0/1</td><td style=\"text-align: center\">./.</td><td style=\"text-align: center\">0|1</td><td style=\"text-align: center\">./.</td><td style=\"text-align: center\">./.</td><td style=\"text-align: center\">./.</td><td style=\"text-align: center\">0|1</td><td style=\"text-align: center\">./.</td><td style=\"text-align: center\">0/1</td><td style=\"text-align: center\">./.</td><td style=\"text-align: center\">0|1</td><td style=\"text-align: center\">./.</td><td style=\"text-align: center\">0/1</td><td style=\"text-align: center\">./.</td></tr><tr><th style=\"text-align: center\">15</th><td style=\"text-align: center\">.|.</td><td style=\"text-align: center\">./.</td><td style=\"text-align: center\">0/1</td><td style=\"text-align: center\">./.</td><td style=\"text-align: center\">0|1</td><td style=\"text-align: center\">./.</td><td style=\"text-align: center\">0/1</td><td style=\"text-align: center\">./.</td><td style=\"text-align: center\">0|1</td><td style=\"text-align: center\">./.</td><td style=\"text-align: center\">./.</td><td style=\"text-align: center\">./.</td><td style=\"text-align: center\">0|1</td><td style=\"text-align: center\">./.</td><td style=\"text-align: center\">0/1</td><td style=\"text-align: center\">./.</td><td style=\"text-align: center\">0|1</td><td style=\"text-align: center\">./.</td><td style=\"text-align: center\">0/1</td><td style=\"text-align: center\">./.</td><td style=\"text-align: center\">.|.</td><td style=\"text-align: center\">./.</td><td style=\"text-align: center\">0/1</td><td style=\"text-align: center\">./.</td><td style=\"text-align: center\">0|1</td><td style=\"text-align: center\">./.</td><td style=\"text-align: center\">0/1</td><td style=\"text-align: center\">./.</td><td style=\"text-align: center\">0|1</td><td style=\"text-align: center\">./.</td><td style=\"text-align: center\">./.</td><td style=\"text-align: center\">./.</td><td style=\"text-align: center\">0|1</td><td style=\"text-align: center\">./.</td><td style=\"text-align: center\">0/1</td><td style=\"text-align: center\">./.</td><td style=\"text-align: center\">0|1</td><td style=\"text-align: center\">./.</td><td style=\"text-align: center\">0/1</td><td style=\"text-align: center\">./.</td></tr><tr><th style=\"text-align: center\">16</th><td style=\"text-align: center\">.|.</td><td style=\"text-align: center\">./.</td><td style=\"text-align: center\">0/1</td><td style=\"text-align: center\">./.</td><td style=\"text-align: center\">0|1</td><td style=\"text-align: center\">./.</td><td style=\"text-align: center\">0/1</td><td style=\"text-align: center\">./.</td><td style=\"text-align: center\">0|1</td><td style=\"text-align: center\">./.</td><td style=\"text-align: center\">./.</td><td style=\"text-align: center\">./.</td><td style=\"text-align: center\">0|1</td><td style=\"text-align: center\">./.</td><td style=\"text-align: center\">0/1</td><td style=\"text-align: center\">./.</td><td style=\"text-align: center\">0|1</td><td style=\"text-align: center\">./.</td><td style=\"text-align: center\">0/1</td><td style=\"text-align: center\">./.</td><td style=\"text-align: center\">.|.</td><td style=\"text-align: center\">./.</td><td style=\"text-align: center\">0/1</td><td style=\"text-align: center\">./.</td><td style=\"text-align: center\">0|1</td><td style=\"text-align: center\">./.</td><td style=\"text-align: center\">0/1</td><td style=\"text-align: center\">./.</td><td style=\"text-align: center\">0|1</td><td style=\"text-align: center\">./.</td><td style=\"text-align: center\">./.</td><td style=\"text-align: center\">./.</td><td style=\"text-align: center\">0|1</td><td style=\"text-align: center\">./.</td><td style=\"text-align: center\">0/1</td><td style=\"text-align: center\">./.</td><td style=\"text-align: center\">0|1</td><td style=\"text-align: center\">./.</td><td style=\"text-align: center\">0/1</td><td style=\"text-align: center\">./.</td></tr><tr><th style=\"text-align: center\">17</th><td style=\"text-align: center\">.|.</td><td style=\"text-align: center\">./.</td><td style=\"text-align: center\">0/1</td><td style=\"text-align: center\">./.</td><td style=\"text-align: center\">0|1</td><td style=\"text-align: center\">./.</td><td style=\"text-align: center\">0/1</td><td style=\"text-align: center\">./.</td><td style=\"text-align: center\">0|1</td><td style=\"text-align: center\">./.</td><td style=\"text-align: center\">./.</td><td style=\"text-align: center\">./.</td><td style=\"text-align: center\">0|1</td><td style=\"text-align: center\">./.</td><td style=\"text-align: center\">0/1</td><td style=\"text-align: center\">./.</td><td style=\"text-align: center\">0|1</td><td style=\"text-align: center\">./.</td><td style=\"text-align: center\">0/1</td><td style=\"text-align: center\">./.</td><td style=\"text-align: center\">.|.</td><td style=\"text-align: center\">./.</td><td style=\"text-align: center\">0/1</td><td style=\"text-align: center\">./.</td><td style=\"text-align: center\">0|1</td><td style=\"text-align: center\">./.</td><td style=\"text-align: center\">0/1</td><td style=\"text-align: center\">./.</td><td style=\"text-align: center\">0|1</td><td style=\"text-align: center\">./.</td><td style=\"text-align: center\">./.</td><td style=\"text-align: center\">./.</td><td style=\"text-align: center\">0|1</td><td style=\"text-align: center\">./.</td><td style=\"text-align: center\">0/1</td><td style=\"text-align: center\">./.</td><td style=\"text-align: center\">0|1</td><td style=\"text-align: center\">./.</td><td style=\"text-align: center\">0/1</td><td style=\"text-align: center\">./.</td></tr><tr><th style=\"text-align: center\">18</th><td style=\"text-align: center\">.|.</td><td style=\"text-align: center\">./.</td><td style=\"text-align: center\">0/1</td><td style=\"text-align: center\">./.</td><td style=\"text-align: center\">0|1</td><td style=\"text-align: center\">./.</td><td style=\"text-align: center\">0/1</td><td style=\"text-align: center\">./.</td><td style=\"text-align: center\">0|1</td><td style=\"text-align: center\">./.</td><td style=\"text-align: center\">./.</td><td style=\"text-align: center\">./.</td><td style=\"text-align: center\">0|1</td><td style=\"text-align: center\">./.</td><td style=\"text-align: center\">0/1</td><td style=\"text-align: center\">./.</td><td style=\"text-align: center\">0|1</td><td style=\"text-align: center\">./.</td><td style=\"text-align: center\">0/1</td><td style=\"text-align: center\">./.</td><td style=\"text-align: center\">.|.</td><td style=\"text-align: center\">./.</td><td style=\"text-align: center\">0/1</td><td style=\"text-align: center\">./.</td><td style=\"text-align: center\">0|1</td><td style=\"text-align: center\">./.</td><td style=\"text-align: center\">0/1</td><td style=\"text-align: center\">./.</td><td style=\"text-align: center\">0|1</td><td style=\"text-align: center\">./.</td><td style=\"text-align: center\">./.</td><td style=\"text-align: center\">./.</td><td style=\"text-align: center\">0|1</td><td style=\"text-align: center\">./.</td><td style=\"text-align: center\">0/1</td><td style=\"text-align: center\">./.</td><td style=\"text-align: center\">0|1</td><td style=\"text-align: center\">./.</td><td style=\"text-align: center\">0/1</td><td style=\"text-align: center\">./.</td></tr><tr><th style=\"text-align: center\">19</th><td style=\"text-align: center\">.|.</td><td style=\"text-align: center\">./.</td><td style=\"text-align: center\">0/1</td><td style=\"text-align: center\">./.</td><td style=\"text-align: center\">0|1</td><td style=\"text-align: center\">./.</td><td style=\"text-align: center\">0/1</td><td style=\"text-align: center\">./.</td><td style=\"text-align: center\">0|1</td><td style=\"text-align: center\">./.</td><td style=\"text-align: center\">./.</td><td style=\"text-align: center\">./.</td><td style=\"text-align: center\">0|1</td><td style=\"text-align: center\">./.</td><td style=\"text-align: center\">0/1</td><td style=\"text-align: center\">./.</td><td style=\"text-align: center\">0|1</td><td style=\"text-align: center\">./.</td><td style=\"text-align: center\">0/1</td><td style=\"text-align: center\">./.</td><td style=\"text-align: center\">.|.</td><td style=\"text-align: center\">./.</td><td style=\"text-align: center\">0/1</td><td style=\"text-align: center\">./.</td><td style=\"text-align: center\">0|1</td><td style=\"text-align: center\">./.</td><td style=\"text-align: center\">0/1</td><td style=\"text-align: center\">./.</td><td style=\"text-align: center\">0|1</td><td style=\"text-align: center\">./.</td><td style=\"text-align: center\">./.</td><td style=\"text-align: center\">./.</td><td style=\"text-align: center\">0|1</td><td style=\"text-align: center\">./.</td><td style=\"text-align: center\">0/1</td><td style=\"text-align: center\">./.</td><td style=\"text-align: center\">0|1</td><td style=\"text-align: center\">./.</td><td style=\"text-align: center\">0/1</td><td style=\"text-align: center\">./.</td></tr></table>"
      ]
     },
     "metadata": {},
     "output_type": "display_data"
    }
   ],
   "source": [
    "g.display(row_threshold=40, col_threshold=40)"
   ]
  },
  {
   "cell_type": "code",
   "execution_count": 87,
   "metadata": {
    "collapsed": false
   },
   "outputs": [
    {
     "data": {
      "text/html": [
       "GenotypeVector((40, 2), dtype=int64)<br/><table><tr><th style=\"text-align: center\">0</th><th style=\"text-align: center\">1</th><th style=\"text-align: center\">2</th><th style=\"text-align: center\">3</th><th style=\"text-align: center\">4</th><th style=\"text-align: center\"> ... </th><th style=\"text-align: center\">35</th><th style=\"text-align: center\">36</th><th style=\"text-align: center\">37</th><th style=\"text-align: center\">38</th><th style=\"text-align: center\">39</th></tr><tr><td style=\"text-align: center\">.|.</td><td style=\"text-align: center\">./.</td><td style=\"text-align: center\">0/1</td><td style=\"text-align: center\">./.</td><td style=\"text-align: center\">0|1</td><td style=\"text-align: center\"> ... </td><td style=\"text-align: center\">./.</td><td style=\"text-align: center\">0|1</td><td style=\"text-align: center\">./.</td><td style=\"text-align: center\">0/1</td><td style=\"text-align: center\">./.</td></tr></table>"
      ],
      "text/plain": [
       "GenotypeVector((40, 2), dtype=int64)\n",
       ".|. ./. 0/1 ./. 0|1  ...  ./. 0|1 ./. 0/1 ./."
      ]
     },
     "execution_count": 87,
     "metadata": {},
     "output_type": "execute_result"
    }
   ],
   "source": [
    "g[0]"
   ]
  },
  {
   "cell_type": "code",
   "execution_count": 88,
   "metadata": {
    "collapsed": false
   },
   "outputs": [
    {
     "data": {
      "text/html": [
       "GenotypeVector((20, 2), dtype=int64)<br/><table><tr><th style=\"text-align: center\">0</th><th style=\"text-align: center\">1</th><th style=\"text-align: center\">2</th><th style=\"text-align: center\">3</th><th style=\"text-align: center\">4</th><th style=\"text-align: center\"> ... </th><th style=\"text-align: center\">15</th><th style=\"text-align: center\">16</th><th style=\"text-align: center\">17</th><th style=\"text-align: center\">18</th><th style=\"text-align: center\">19</th></tr><tr><td style=\"text-align: center\">0|1</td><td style=\"text-align: center\">0|1</td><td style=\"text-align: center\">0|1</td><td style=\"text-align: center\">0|1</td><td style=\"text-align: center\">0|1</td><td style=\"text-align: center\"> ... </td><td style=\"text-align: center\">0|1</td><td style=\"text-align: center\">0|1</td><td style=\"text-align: center\">0|1</td><td style=\"text-align: center\">0|1</td><td style=\"text-align: center\">0|1</td></tr></table>"
      ],
      "text/plain": [
       "GenotypeVector((20, 2), dtype=int64)\n",
       "0|1 0|1 0|1 0|1 0|1  ...  0|1 0|1 0|1 0|1 0|1"
      ]
     },
     "execution_count": 88,
     "metadata": {},
     "output_type": "execute_result"
    }
   ],
   "source": [
    "g[:, 4]"
   ]
  },
  {
   "cell_type": "code",
   "execution_count": 89,
   "metadata": {
    "collapsed": false
   },
   "outputs": [
    {
     "data": {
      "text/html": [
       "GenotypeVector((20, 2), dtype=int64)<br/><table><tr><th style=\"text-align: center\">0</th><th style=\"text-align: center\">1</th><th style=\"text-align: center\">2</th><th style=\"text-align: center\">3</th><th style=\"text-align: center\">4</th><th style=\"text-align: center\">5</th><th style=\"text-align: center\">6</th><th style=\"text-align: center\">7</th><th style=\"text-align: center\">8</th><th style=\"text-align: center\">9</th><th style=\"text-align: center\">10</th><th style=\"text-align: center\">11</th><th style=\"text-align: center\">12</th><th style=\"text-align: center\">13</th><th style=\"text-align: center\">14</th><th style=\"text-align: center\">15</th><th style=\"text-align: center\">16</th><th style=\"text-align: center\">17</th><th style=\"text-align: center\">18</th><th style=\"text-align: center\">19</th></tr><tr><td style=\"text-align: center\">0|1</td><td style=\"text-align: center\">0|1</td><td style=\"text-align: center\">0|1</td><td style=\"text-align: center\">0|1</td><td style=\"text-align: center\">0|1</td><td style=\"text-align: center\">0|1</td><td style=\"text-align: center\">0|1</td><td style=\"text-align: center\">0|1</td><td style=\"text-align: center\">0|1</td><td style=\"text-align: center\">0|1</td><td style=\"text-align: center\">0|1</td><td style=\"text-align: center\">0|1</td><td style=\"text-align: center\">0|1</td><td style=\"text-align: center\">0|1</td><td style=\"text-align: center\">0|1</td><td style=\"text-align: center\">0|1</td><td style=\"text-align: center\">0|1</td><td style=\"text-align: center\">0|1</td><td style=\"text-align: center\">0|1</td><td style=\"text-align: center\">0|1</td></tr></table>"
      ]
     },
     "metadata": {},
     "output_type": "display_data"
    }
   ],
   "source": [
    "g[:, 4].displayall()"
   ]
  },
  {
   "cell_type": "code",
   "execution_count": 90,
   "metadata": {
    "collapsed": false
   },
   "outputs": [
    {
     "data": {
      "text/html": [
       "GenotypeArray((20, 40, 2), dtype=int64)<br/><table><tr><th></th><th style=\"text-align: center\">0</th><th style=\"text-align: center\">1</th><th style=\"text-align: center\">2</th><th style=\"text-align: center\">3</th><th style=\"text-align: center\">4</th><th style=\"text-align: center\">...</th><th style=\"text-align: center\">35</th><th style=\"text-align: center\">36</th><th style=\"text-align: center\">37</th><th style=\"text-align: center\">38</th><th style=\"text-align: center\">39</th></tr><tr><th style=\"text-align: center\">0</th><td style=\"text-align: center\">0|1</td><td style=\"text-align: center\">./.</td><td style=\"text-align: center\">0/1</td><td style=\"text-align: center\">./.</td><td style=\"text-align: center\">0|1</td><td style=\"text-align: center\"> ... </td><td style=\"text-align: center\">./.</td><td style=\"text-align: center\">0|1</td><td style=\"text-align: center\">./.</td><td style=\"text-align: center\">0/1</td><td style=\"text-align: center\">./.</td></tr><tr><th style=\"text-align: center\">1</th><td style=\"text-align: center\">0|1</td><td style=\"text-align: center\">./.</td><td style=\"text-align: center\">0/1</td><td style=\"text-align: center\">./.</td><td style=\"text-align: center\">0|1</td><td style=\"text-align: center\"> ... </td><td style=\"text-align: center\">./.</td><td style=\"text-align: center\">0|1</td><td style=\"text-align: center\">./.</td><td style=\"text-align: center\">0/1</td><td style=\"text-align: center\">./.</td></tr><tr><th style=\"text-align: center\">2</th><td style=\"text-align: center\">0|1</td><td style=\"text-align: center\">./.</td><td style=\"text-align: center\">0/1</td><td style=\"text-align: center\">./.</td><td style=\"text-align: center\">0|1</td><td style=\"text-align: center\"> ... </td><td style=\"text-align: center\">./.</td><td style=\"text-align: center\">0|1</td><td style=\"text-align: center\">./.</td><td style=\"text-align: center\">0/1</td><td style=\"text-align: center\">./.</td></tr><tr><td>...</td><td colspan=\"11\"></td></tr><tr><th style=\"text-align: center\">17</th><td style=\"text-align: center\">0|1</td><td style=\"text-align: center\">./.</td><td style=\"text-align: center\">0/1</td><td style=\"text-align: center\">./.</td><td style=\"text-align: center\">0|1</td><td style=\"text-align: center\"> ... </td><td style=\"text-align: center\">./.</td><td style=\"text-align: center\">0|1</td><td style=\"text-align: center\">./.</td><td style=\"text-align: center\">0/1</td><td style=\"text-align: center\">./.</td></tr><tr><th style=\"text-align: center\">18</th><td style=\"text-align: center\">0|1</td><td style=\"text-align: center\">./.</td><td style=\"text-align: center\">0/1</td><td style=\"text-align: center\">./.</td><td style=\"text-align: center\">0|1</td><td style=\"text-align: center\"> ... </td><td style=\"text-align: center\">./.</td><td style=\"text-align: center\">0|1</td><td style=\"text-align: center\">./.</td><td style=\"text-align: center\">0/1</td><td style=\"text-align: center\">./.</td></tr><tr><th style=\"text-align: center\">19</th><td style=\"text-align: center\">0|1</td><td style=\"text-align: center\">./.</td><td style=\"text-align: center\">0/1</td><td style=\"text-align: center\">./.</td><td style=\"text-align: center\">0|1</td><td style=\"text-align: center\"> ... </td><td style=\"text-align: center\">./.</td><td style=\"text-align: center\">0|1</td><td style=\"text-align: center\">./.</td><td style=\"text-align: center\">0/1</td><td style=\"text-align: center\">./.</td></tr></table>"
      ],
      "text/plain": [
       "GenotypeArray((20, 40, 2), dtype=int64)\n",
       "0|1 ./. 0/1 ./. 0|1  ...  ./. 0|1 ./. 0/1 ./.\n",
       "0|1 ./. 0/1 ./. 0|1  ...  ./. 0|1 ./. 0/1 ./.\n",
       "0|1 ./. 0/1 ./. 0|1  ...  ./. 0|1 ./. 0/1 ./.\n",
       "...\n",
       "0|1 ./. 0/1 ./. 0|1  ...  ./. 0|1 ./. 0/1 ./.\n",
       "0|1 ./. 0/1 ./. 0|1  ...  ./. 0|1 ./. 0/1 ./.\n",
       "0|1 ./. 0/1 ./. 0|1  ...  ./. 0|1 ./. 0/1 ./."
      ]
     },
     "execution_count": 90,
     "metadata": {},
     "output_type": "execute_result"
    }
   ],
   "source": [
    "g.mask = None\n",
    "g"
   ]
  },
  {
   "cell_type": "code",
   "execution_count": 91,
   "metadata": {
    "collapsed": false
   },
   "outputs": [
    {
     "data": {
      "text/html": [
       "GenotypeArray((20, 40, 2), dtype=int64)<br/><table><tr><th></th><th style=\"text-align: center\">0</th><th style=\"text-align: center\">1</th><th style=\"text-align: center\">2</th><th style=\"text-align: center\">3</th><th style=\"text-align: center\">4</th><th style=\"text-align: center\">5</th><th style=\"text-align: center\">6</th><th style=\"text-align: center\">7</th><th style=\"text-align: center\">8</th><th style=\"text-align: center\">9</th><th style=\"text-align: center\">10</th><th style=\"text-align: center\">11</th><th style=\"text-align: center\">12</th><th style=\"text-align: center\">13</th><th style=\"text-align: center\">14</th><th style=\"text-align: center\">15</th><th style=\"text-align: center\">16</th><th style=\"text-align: center\">17</th><th style=\"text-align: center\">18</th><th style=\"text-align: center\">19</th><th style=\"text-align: center\">20</th><th style=\"text-align: center\">21</th><th style=\"text-align: center\">22</th><th style=\"text-align: center\">23</th><th style=\"text-align: center\">24</th><th style=\"text-align: center\">25</th><th style=\"text-align: center\">26</th><th style=\"text-align: center\">27</th><th style=\"text-align: center\">28</th><th style=\"text-align: center\">29</th><th style=\"text-align: center\">30</th><th style=\"text-align: center\">31</th><th style=\"text-align: center\">32</th><th style=\"text-align: center\">33</th><th style=\"text-align: center\">34</th><th style=\"text-align: center\">35</th><th style=\"text-align: center\">36</th><th style=\"text-align: center\">37</th><th style=\"text-align: center\">38</th><th style=\"text-align: center\">39</th></tr><tr><th style=\"text-align: center\">0</th><td style=\"text-align: center\">0|1</td><td style=\"text-align: center\">./.</td><td style=\"text-align: center\">0/1</td><td style=\"text-align: center\">./.</td><td style=\"text-align: center\">0|1</td><td style=\"text-align: center\">./.</td><td style=\"text-align: center\">0/1</td><td style=\"text-align: center\">./.</td><td style=\"text-align: center\">0|1</td><td style=\"text-align: center\">./.</td><td style=\"text-align: center\">0/1</td><td style=\"text-align: center\">./.</td><td style=\"text-align: center\">0|1</td><td style=\"text-align: center\">./.</td><td style=\"text-align: center\">0/1</td><td style=\"text-align: center\">./.</td><td style=\"text-align: center\">0|1</td><td style=\"text-align: center\">./.</td><td style=\"text-align: center\">0/1</td><td style=\"text-align: center\">./.</td><td style=\"text-align: center\">0|1</td><td style=\"text-align: center\">./.</td><td style=\"text-align: center\">0/1</td><td style=\"text-align: center\">./.</td><td style=\"text-align: center\">0|1</td><td style=\"text-align: center\">./.</td><td style=\"text-align: center\">0/1</td><td style=\"text-align: center\">./.</td><td style=\"text-align: center\">0|1</td><td style=\"text-align: center\">./.</td><td style=\"text-align: center\">0/1</td><td style=\"text-align: center\">./.</td><td style=\"text-align: center\">0|1</td><td style=\"text-align: center\">./.</td><td style=\"text-align: center\">0/1</td><td style=\"text-align: center\">./.</td><td style=\"text-align: center\">0|1</td><td style=\"text-align: center\">./.</td><td style=\"text-align: center\">0/1</td><td style=\"text-align: center\">./.</td></tr><tr><th style=\"text-align: center\">1</th><td style=\"text-align: center\">0|1</td><td style=\"text-align: center\">./.</td><td style=\"text-align: center\">0/1</td><td style=\"text-align: center\">./.</td><td style=\"text-align: center\">0|1</td><td style=\"text-align: center\">./.</td><td style=\"text-align: center\">0/1</td><td style=\"text-align: center\">./.</td><td style=\"text-align: center\">0|1</td><td style=\"text-align: center\">./.</td><td style=\"text-align: center\">0/1</td><td style=\"text-align: center\">./.</td><td style=\"text-align: center\">0|1</td><td style=\"text-align: center\">./.</td><td style=\"text-align: center\">0/1</td><td style=\"text-align: center\">./.</td><td style=\"text-align: center\">0|1</td><td style=\"text-align: center\">./.</td><td style=\"text-align: center\">0/1</td><td style=\"text-align: center\">./.</td><td style=\"text-align: center\">0|1</td><td style=\"text-align: center\">./.</td><td style=\"text-align: center\">0/1</td><td style=\"text-align: center\">./.</td><td style=\"text-align: center\">0|1</td><td style=\"text-align: center\">./.</td><td style=\"text-align: center\">0/1</td><td style=\"text-align: center\">./.</td><td style=\"text-align: center\">0|1</td><td style=\"text-align: center\">./.</td><td style=\"text-align: center\">0/1</td><td style=\"text-align: center\">./.</td><td style=\"text-align: center\">0|1</td><td style=\"text-align: center\">./.</td><td style=\"text-align: center\">0/1</td><td style=\"text-align: center\">./.</td><td style=\"text-align: center\">0|1</td><td style=\"text-align: center\">./.</td><td style=\"text-align: center\">0/1</td><td style=\"text-align: center\">./.</td></tr><tr><th style=\"text-align: center\">2</th><td style=\"text-align: center\">0|1</td><td style=\"text-align: center\">./.</td><td style=\"text-align: center\">0/1</td><td style=\"text-align: center\">./.</td><td style=\"text-align: center\">0|1</td><td style=\"text-align: center\">./.</td><td style=\"text-align: center\">0/1</td><td style=\"text-align: center\">./.</td><td style=\"text-align: center\">0|1</td><td style=\"text-align: center\">./.</td><td style=\"text-align: center\">0/1</td><td style=\"text-align: center\">./.</td><td style=\"text-align: center\">0|1</td><td style=\"text-align: center\">./.</td><td style=\"text-align: center\">0/1</td><td style=\"text-align: center\">./.</td><td style=\"text-align: center\">0|1</td><td style=\"text-align: center\">./.</td><td style=\"text-align: center\">0/1</td><td style=\"text-align: center\">./.</td><td style=\"text-align: center\">0|1</td><td style=\"text-align: center\">./.</td><td style=\"text-align: center\">0/1</td><td style=\"text-align: center\">./.</td><td style=\"text-align: center\">0|1</td><td style=\"text-align: center\">./.</td><td style=\"text-align: center\">0/1</td><td style=\"text-align: center\">./.</td><td style=\"text-align: center\">0|1</td><td style=\"text-align: center\">./.</td><td style=\"text-align: center\">0/1</td><td style=\"text-align: center\">./.</td><td style=\"text-align: center\">0|1</td><td style=\"text-align: center\">./.</td><td style=\"text-align: center\">0/1</td><td style=\"text-align: center\">./.</td><td style=\"text-align: center\">0|1</td><td style=\"text-align: center\">./.</td><td style=\"text-align: center\">0/1</td><td style=\"text-align: center\">./.</td></tr><tr><th style=\"text-align: center\">3</th><td style=\"text-align: center\">0|1</td><td style=\"text-align: center\">./.</td><td style=\"text-align: center\">0/1</td><td style=\"text-align: center\">./.</td><td style=\"text-align: center\">0|1</td><td style=\"text-align: center\">./.</td><td style=\"text-align: center\">0/1</td><td style=\"text-align: center\">./.</td><td style=\"text-align: center\">0|1</td><td style=\"text-align: center\">./.</td><td style=\"text-align: center\">0/1</td><td style=\"text-align: center\">./.</td><td style=\"text-align: center\">0|1</td><td style=\"text-align: center\">./.</td><td style=\"text-align: center\">0/1</td><td style=\"text-align: center\">./.</td><td style=\"text-align: center\">0|1</td><td style=\"text-align: center\">./.</td><td style=\"text-align: center\">0/1</td><td style=\"text-align: center\">./.</td><td style=\"text-align: center\">0|1</td><td style=\"text-align: center\">./.</td><td style=\"text-align: center\">0/1</td><td style=\"text-align: center\">./.</td><td style=\"text-align: center\">0|1</td><td style=\"text-align: center\">./.</td><td style=\"text-align: center\">0/1</td><td style=\"text-align: center\">./.</td><td style=\"text-align: center\">0|1</td><td style=\"text-align: center\">./.</td><td style=\"text-align: center\">0/1</td><td style=\"text-align: center\">./.</td><td style=\"text-align: center\">0|1</td><td style=\"text-align: center\">./.</td><td style=\"text-align: center\">0/1</td><td style=\"text-align: center\">./.</td><td style=\"text-align: center\">0|1</td><td style=\"text-align: center\">./.</td><td style=\"text-align: center\">0/1</td><td style=\"text-align: center\">./.</td></tr><tr><th style=\"text-align: center\">4</th><td style=\"text-align: center\">0|1</td><td style=\"text-align: center\">./.</td><td style=\"text-align: center\">0/1</td><td style=\"text-align: center\">./.</td><td style=\"text-align: center\">0|1</td><td style=\"text-align: center\">./.</td><td style=\"text-align: center\">0/1</td><td style=\"text-align: center\">./.</td><td style=\"text-align: center\">0|1</td><td style=\"text-align: center\">./.</td><td style=\"text-align: center\">0/1</td><td style=\"text-align: center\">./.</td><td style=\"text-align: center\">0|1</td><td style=\"text-align: center\">./.</td><td style=\"text-align: center\">0/1</td><td style=\"text-align: center\">./.</td><td style=\"text-align: center\">0|1</td><td style=\"text-align: center\">./.</td><td style=\"text-align: center\">0/1</td><td style=\"text-align: center\">./.</td><td style=\"text-align: center\">0|1</td><td style=\"text-align: center\">./.</td><td style=\"text-align: center\">0/1</td><td style=\"text-align: center\">./.</td><td style=\"text-align: center\">0|1</td><td style=\"text-align: center\">./.</td><td style=\"text-align: center\">0/1</td><td style=\"text-align: center\">./.</td><td style=\"text-align: center\">0|1</td><td style=\"text-align: center\">./.</td><td style=\"text-align: center\">0/1</td><td style=\"text-align: center\">./.</td><td style=\"text-align: center\">0|1</td><td style=\"text-align: center\">./.</td><td style=\"text-align: center\">0/1</td><td style=\"text-align: center\">./.</td><td style=\"text-align: center\">0|1</td><td style=\"text-align: center\">./.</td><td style=\"text-align: center\">0/1</td><td style=\"text-align: center\">./.</td></tr><tr><th style=\"text-align: center\">5</th><td style=\"text-align: center\">0|1</td><td style=\"text-align: center\">./.</td><td style=\"text-align: center\">0/1</td><td style=\"text-align: center\">./.</td><td style=\"text-align: center\">0|1</td><td style=\"text-align: center\">./.</td><td style=\"text-align: center\">0/1</td><td style=\"text-align: center\">./.</td><td style=\"text-align: center\">0|1</td><td style=\"text-align: center\">./.</td><td style=\"text-align: center\">0/1</td><td style=\"text-align: center\">./.</td><td style=\"text-align: center\">0|1</td><td style=\"text-align: center\">./.</td><td style=\"text-align: center\">0/1</td><td style=\"text-align: center\">./.</td><td style=\"text-align: center\">0|1</td><td style=\"text-align: center\">./.</td><td style=\"text-align: center\">0/1</td><td style=\"text-align: center\">./.</td><td style=\"text-align: center\">0|1</td><td style=\"text-align: center\">./.</td><td style=\"text-align: center\">0/1</td><td style=\"text-align: center\">./.</td><td style=\"text-align: center\">0|1</td><td style=\"text-align: center\">./.</td><td style=\"text-align: center\">0/1</td><td style=\"text-align: center\">./.</td><td style=\"text-align: center\">0|1</td><td style=\"text-align: center\">./.</td><td style=\"text-align: center\">0/1</td><td style=\"text-align: center\">./.</td><td style=\"text-align: center\">0|1</td><td style=\"text-align: center\">./.</td><td style=\"text-align: center\">0/1</td><td style=\"text-align: center\">./.</td><td style=\"text-align: center\">0|1</td><td style=\"text-align: center\">./.</td><td style=\"text-align: center\">0/1</td><td style=\"text-align: center\">./.</td></tr><tr><th style=\"text-align: center\">6</th><td style=\"text-align: center\">0|1</td><td style=\"text-align: center\">./.</td><td style=\"text-align: center\">0/1</td><td style=\"text-align: center\">./.</td><td style=\"text-align: center\">0|1</td><td style=\"text-align: center\">./.</td><td style=\"text-align: center\">0/1</td><td style=\"text-align: center\">./.</td><td style=\"text-align: center\">0|1</td><td style=\"text-align: center\">./.</td><td style=\"text-align: center\">0/1</td><td style=\"text-align: center\">./.</td><td style=\"text-align: center\">0|1</td><td style=\"text-align: center\">./.</td><td style=\"text-align: center\">0/1</td><td style=\"text-align: center\">./.</td><td style=\"text-align: center\">0|1</td><td style=\"text-align: center\">./.</td><td style=\"text-align: center\">0/1</td><td style=\"text-align: center\">./.</td><td style=\"text-align: center\">0|1</td><td style=\"text-align: center\">./.</td><td style=\"text-align: center\">0/1</td><td style=\"text-align: center\">./.</td><td style=\"text-align: center\">0|1</td><td style=\"text-align: center\">./.</td><td style=\"text-align: center\">0/1</td><td style=\"text-align: center\">./.</td><td style=\"text-align: center\">0|1</td><td style=\"text-align: center\">./.</td><td style=\"text-align: center\">0/1</td><td style=\"text-align: center\">./.</td><td style=\"text-align: center\">0|1</td><td style=\"text-align: center\">./.</td><td style=\"text-align: center\">0/1</td><td style=\"text-align: center\">./.</td><td style=\"text-align: center\">0|1</td><td style=\"text-align: center\">./.</td><td style=\"text-align: center\">0/1</td><td style=\"text-align: center\">./.</td></tr><tr><th style=\"text-align: center\">7</th><td style=\"text-align: center\">0|1</td><td style=\"text-align: center\">./.</td><td style=\"text-align: center\">0/1</td><td style=\"text-align: center\">./.</td><td style=\"text-align: center\">0|1</td><td style=\"text-align: center\">./.</td><td style=\"text-align: center\">0/1</td><td style=\"text-align: center\">./.</td><td style=\"text-align: center\">0|1</td><td style=\"text-align: center\">./.</td><td style=\"text-align: center\">0/1</td><td style=\"text-align: center\">./.</td><td style=\"text-align: center\">0|1</td><td style=\"text-align: center\">./.</td><td style=\"text-align: center\">0/1</td><td style=\"text-align: center\">./.</td><td style=\"text-align: center\">0|1</td><td style=\"text-align: center\">./.</td><td style=\"text-align: center\">0/1</td><td style=\"text-align: center\">./.</td><td style=\"text-align: center\">0|1</td><td style=\"text-align: center\">./.</td><td style=\"text-align: center\">0/1</td><td style=\"text-align: center\">./.</td><td style=\"text-align: center\">0|1</td><td style=\"text-align: center\">./.</td><td style=\"text-align: center\">0/1</td><td style=\"text-align: center\">./.</td><td style=\"text-align: center\">0|1</td><td style=\"text-align: center\">./.</td><td style=\"text-align: center\">0/1</td><td style=\"text-align: center\">./.</td><td style=\"text-align: center\">0|1</td><td style=\"text-align: center\">./.</td><td style=\"text-align: center\">0/1</td><td style=\"text-align: center\">./.</td><td style=\"text-align: center\">0|1</td><td style=\"text-align: center\">./.</td><td style=\"text-align: center\">0/1</td><td style=\"text-align: center\">./.</td></tr><tr><th style=\"text-align: center\">8</th><td style=\"text-align: center\">0|1</td><td style=\"text-align: center\">./.</td><td style=\"text-align: center\">0/1</td><td style=\"text-align: center\">./.</td><td style=\"text-align: center\">0|1</td><td style=\"text-align: center\">./.</td><td style=\"text-align: center\">0/1</td><td style=\"text-align: center\">./.</td><td style=\"text-align: center\">0|1</td><td style=\"text-align: center\">./.</td><td style=\"text-align: center\">0/1</td><td style=\"text-align: center\">./.</td><td style=\"text-align: center\">0|1</td><td style=\"text-align: center\">./.</td><td style=\"text-align: center\">0/1</td><td style=\"text-align: center\">./.</td><td style=\"text-align: center\">0|1</td><td style=\"text-align: center\">./.</td><td style=\"text-align: center\">0/1</td><td style=\"text-align: center\">./.</td><td style=\"text-align: center\">0|1</td><td style=\"text-align: center\">./.</td><td style=\"text-align: center\">0/1</td><td style=\"text-align: center\">./.</td><td style=\"text-align: center\">0|1</td><td style=\"text-align: center\">./.</td><td style=\"text-align: center\">0/1</td><td style=\"text-align: center\">./.</td><td style=\"text-align: center\">0|1</td><td style=\"text-align: center\">./.</td><td style=\"text-align: center\">0/1</td><td style=\"text-align: center\">./.</td><td style=\"text-align: center\">0|1</td><td style=\"text-align: center\">./.</td><td style=\"text-align: center\">0/1</td><td style=\"text-align: center\">./.</td><td style=\"text-align: center\">0|1</td><td style=\"text-align: center\">./.</td><td style=\"text-align: center\">0/1</td><td style=\"text-align: center\">./.</td></tr><tr><th style=\"text-align: center\">9</th><td style=\"text-align: center\">0|1</td><td style=\"text-align: center\">./.</td><td style=\"text-align: center\">0/1</td><td style=\"text-align: center\">./.</td><td style=\"text-align: center\">0|1</td><td style=\"text-align: center\">./.</td><td style=\"text-align: center\">0/1</td><td style=\"text-align: center\">./.</td><td style=\"text-align: center\">0|1</td><td style=\"text-align: center\">./.</td><td style=\"text-align: center\">0/1</td><td style=\"text-align: center\">./.</td><td style=\"text-align: center\">0|1</td><td style=\"text-align: center\">./.</td><td style=\"text-align: center\">0/1</td><td style=\"text-align: center\">./.</td><td style=\"text-align: center\">0|1</td><td style=\"text-align: center\">./.</td><td style=\"text-align: center\">0/1</td><td style=\"text-align: center\">./.</td><td style=\"text-align: center\">0|1</td><td style=\"text-align: center\">./.</td><td style=\"text-align: center\">0/1</td><td style=\"text-align: center\">./.</td><td style=\"text-align: center\">0|1</td><td style=\"text-align: center\">./.</td><td style=\"text-align: center\">0/1</td><td style=\"text-align: center\">./.</td><td style=\"text-align: center\">0|1</td><td style=\"text-align: center\">./.</td><td style=\"text-align: center\">0/1</td><td style=\"text-align: center\">./.</td><td style=\"text-align: center\">0|1</td><td style=\"text-align: center\">./.</td><td style=\"text-align: center\">0/1</td><td style=\"text-align: center\">./.</td><td style=\"text-align: center\">0|1</td><td style=\"text-align: center\">./.</td><td style=\"text-align: center\">0/1</td><td style=\"text-align: center\">./.</td></tr><tr><th style=\"text-align: center\">10</th><td style=\"text-align: center\">0|1</td><td style=\"text-align: center\">./.</td><td style=\"text-align: center\">0/1</td><td style=\"text-align: center\">./.</td><td style=\"text-align: center\">0|1</td><td style=\"text-align: center\">./.</td><td style=\"text-align: center\">0/1</td><td style=\"text-align: center\">./.</td><td style=\"text-align: center\">0|1</td><td style=\"text-align: center\">./.</td><td style=\"text-align: center\">0/1</td><td style=\"text-align: center\">./.</td><td style=\"text-align: center\">0|1</td><td style=\"text-align: center\">./.</td><td style=\"text-align: center\">0/1</td><td style=\"text-align: center\">./.</td><td style=\"text-align: center\">0|1</td><td style=\"text-align: center\">./.</td><td style=\"text-align: center\">0/1</td><td style=\"text-align: center\">./.</td><td style=\"text-align: center\">0|1</td><td style=\"text-align: center\">./.</td><td style=\"text-align: center\">0/1</td><td style=\"text-align: center\">./.</td><td style=\"text-align: center\">0|1</td><td style=\"text-align: center\">./.</td><td style=\"text-align: center\">0/1</td><td style=\"text-align: center\">./.</td><td style=\"text-align: center\">0|1</td><td style=\"text-align: center\">./.</td><td style=\"text-align: center\">0/1</td><td style=\"text-align: center\">./.</td><td style=\"text-align: center\">0|1</td><td style=\"text-align: center\">./.</td><td style=\"text-align: center\">0/1</td><td style=\"text-align: center\">./.</td><td style=\"text-align: center\">0|1</td><td style=\"text-align: center\">./.</td><td style=\"text-align: center\">0/1</td><td style=\"text-align: center\">./.</td></tr><tr><th style=\"text-align: center\">11</th><td style=\"text-align: center\">0|1</td><td style=\"text-align: center\">./.</td><td style=\"text-align: center\">0/1</td><td style=\"text-align: center\">./.</td><td style=\"text-align: center\">0|1</td><td style=\"text-align: center\">./.</td><td style=\"text-align: center\">0/1</td><td style=\"text-align: center\">./.</td><td style=\"text-align: center\">0|1</td><td style=\"text-align: center\">./.</td><td style=\"text-align: center\">0/1</td><td style=\"text-align: center\">./.</td><td style=\"text-align: center\">0|1</td><td style=\"text-align: center\">./.</td><td style=\"text-align: center\">0/1</td><td style=\"text-align: center\">./.</td><td style=\"text-align: center\">0|1</td><td style=\"text-align: center\">./.</td><td style=\"text-align: center\">0/1</td><td style=\"text-align: center\">./.</td><td style=\"text-align: center\">0|1</td><td style=\"text-align: center\">./.</td><td style=\"text-align: center\">0/1</td><td style=\"text-align: center\">./.</td><td style=\"text-align: center\">0|1</td><td style=\"text-align: center\">./.</td><td style=\"text-align: center\">0/1</td><td style=\"text-align: center\">./.</td><td style=\"text-align: center\">0|1</td><td style=\"text-align: center\">./.</td><td style=\"text-align: center\">0/1</td><td style=\"text-align: center\">./.</td><td style=\"text-align: center\">0|1</td><td style=\"text-align: center\">./.</td><td style=\"text-align: center\">0/1</td><td style=\"text-align: center\">./.</td><td style=\"text-align: center\">0|1</td><td style=\"text-align: center\">./.</td><td style=\"text-align: center\">0/1</td><td style=\"text-align: center\">./.</td></tr><tr><th style=\"text-align: center\">12</th><td style=\"text-align: center\">0|1</td><td style=\"text-align: center\">./.</td><td style=\"text-align: center\">0/1</td><td style=\"text-align: center\">./.</td><td style=\"text-align: center\">0|1</td><td style=\"text-align: center\">./.</td><td style=\"text-align: center\">0/1</td><td style=\"text-align: center\">./.</td><td style=\"text-align: center\">0|1</td><td style=\"text-align: center\">./.</td><td style=\"text-align: center\">0/1</td><td style=\"text-align: center\">./.</td><td style=\"text-align: center\">0|1</td><td style=\"text-align: center\">./.</td><td style=\"text-align: center\">0/1</td><td style=\"text-align: center\">./.</td><td style=\"text-align: center\">0|1</td><td style=\"text-align: center\">./.</td><td style=\"text-align: center\">0/1</td><td style=\"text-align: center\">./.</td><td style=\"text-align: center\">0|1</td><td style=\"text-align: center\">./.</td><td style=\"text-align: center\">0/1</td><td style=\"text-align: center\">./.</td><td style=\"text-align: center\">0|1</td><td style=\"text-align: center\">./.</td><td style=\"text-align: center\">0/1</td><td style=\"text-align: center\">./.</td><td style=\"text-align: center\">0|1</td><td style=\"text-align: center\">./.</td><td style=\"text-align: center\">0/1</td><td style=\"text-align: center\">./.</td><td style=\"text-align: center\">0|1</td><td style=\"text-align: center\">./.</td><td style=\"text-align: center\">0/1</td><td style=\"text-align: center\">./.</td><td style=\"text-align: center\">0|1</td><td style=\"text-align: center\">./.</td><td style=\"text-align: center\">0/1</td><td style=\"text-align: center\">./.</td></tr><tr><th style=\"text-align: center\">13</th><td style=\"text-align: center\">0|1</td><td style=\"text-align: center\">./.</td><td style=\"text-align: center\">0/1</td><td style=\"text-align: center\">./.</td><td style=\"text-align: center\">0|1</td><td style=\"text-align: center\">./.</td><td style=\"text-align: center\">0/1</td><td style=\"text-align: center\">./.</td><td style=\"text-align: center\">0|1</td><td style=\"text-align: center\">./.</td><td style=\"text-align: center\">0/1</td><td style=\"text-align: center\">./.</td><td style=\"text-align: center\">0|1</td><td style=\"text-align: center\">./.</td><td style=\"text-align: center\">0/1</td><td style=\"text-align: center\">./.</td><td style=\"text-align: center\">0|1</td><td style=\"text-align: center\">./.</td><td style=\"text-align: center\">0/1</td><td style=\"text-align: center\">./.</td><td style=\"text-align: center\">0|1</td><td style=\"text-align: center\">./.</td><td style=\"text-align: center\">0/1</td><td style=\"text-align: center\">./.</td><td style=\"text-align: center\">0|1</td><td style=\"text-align: center\">./.</td><td style=\"text-align: center\">0/1</td><td style=\"text-align: center\">./.</td><td style=\"text-align: center\">0|1</td><td style=\"text-align: center\">./.</td><td style=\"text-align: center\">0/1</td><td style=\"text-align: center\">./.</td><td style=\"text-align: center\">0|1</td><td style=\"text-align: center\">./.</td><td style=\"text-align: center\">0/1</td><td style=\"text-align: center\">./.</td><td style=\"text-align: center\">0|1</td><td style=\"text-align: center\">./.</td><td style=\"text-align: center\">0/1</td><td style=\"text-align: center\">./.</td></tr><tr><th style=\"text-align: center\">14</th><td style=\"text-align: center\">0|1</td><td style=\"text-align: center\">./.</td><td style=\"text-align: center\">0/1</td><td style=\"text-align: center\">./.</td><td style=\"text-align: center\">0|1</td><td style=\"text-align: center\">./.</td><td style=\"text-align: center\">0/1</td><td style=\"text-align: center\">./.</td><td style=\"text-align: center\">0|1</td><td style=\"text-align: center\">./.</td><td style=\"text-align: center\">0/1</td><td style=\"text-align: center\">./.</td><td style=\"text-align: center\">0|1</td><td style=\"text-align: center\">./.</td><td style=\"text-align: center\">0/1</td><td style=\"text-align: center\">./.</td><td style=\"text-align: center\">0|1</td><td style=\"text-align: center\">./.</td><td style=\"text-align: center\">0/1</td><td style=\"text-align: center\">./.</td><td style=\"text-align: center\">0|1</td><td style=\"text-align: center\">./.</td><td style=\"text-align: center\">0/1</td><td style=\"text-align: center\">./.</td><td style=\"text-align: center\">0|1</td><td style=\"text-align: center\">./.</td><td style=\"text-align: center\">0/1</td><td style=\"text-align: center\">./.</td><td style=\"text-align: center\">0|1</td><td style=\"text-align: center\">./.</td><td style=\"text-align: center\">0/1</td><td style=\"text-align: center\">./.</td><td style=\"text-align: center\">0|1</td><td style=\"text-align: center\">./.</td><td style=\"text-align: center\">0/1</td><td style=\"text-align: center\">./.</td><td style=\"text-align: center\">0|1</td><td style=\"text-align: center\">./.</td><td style=\"text-align: center\">0/1</td><td style=\"text-align: center\">./.</td></tr><tr><th style=\"text-align: center\">15</th><td style=\"text-align: center\">0|1</td><td style=\"text-align: center\">./.</td><td style=\"text-align: center\">0/1</td><td style=\"text-align: center\">./.</td><td style=\"text-align: center\">0|1</td><td style=\"text-align: center\">./.</td><td style=\"text-align: center\">0/1</td><td style=\"text-align: center\">./.</td><td style=\"text-align: center\">0|1</td><td style=\"text-align: center\">./.</td><td style=\"text-align: center\">0/1</td><td style=\"text-align: center\">./.</td><td style=\"text-align: center\">0|1</td><td style=\"text-align: center\">./.</td><td style=\"text-align: center\">0/1</td><td style=\"text-align: center\">./.</td><td style=\"text-align: center\">0|1</td><td style=\"text-align: center\">./.</td><td style=\"text-align: center\">0/1</td><td style=\"text-align: center\">./.</td><td style=\"text-align: center\">0|1</td><td style=\"text-align: center\">./.</td><td style=\"text-align: center\">0/1</td><td style=\"text-align: center\">./.</td><td style=\"text-align: center\">0|1</td><td style=\"text-align: center\">./.</td><td style=\"text-align: center\">0/1</td><td style=\"text-align: center\">./.</td><td style=\"text-align: center\">0|1</td><td style=\"text-align: center\">./.</td><td style=\"text-align: center\">0/1</td><td style=\"text-align: center\">./.</td><td style=\"text-align: center\">0|1</td><td style=\"text-align: center\">./.</td><td style=\"text-align: center\">0/1</td><td style=\"text-align: center\">./.</td><td style=\"text-align: center\">0|1</td><td style=\"text-align: center\">./.</td><td style=\"text-align: center\">0/1</td><td style=\"text-align: center\">./.</td></tr><tr><th style=\"text-align: center\">16</th><td style=\"text-align: center\">0|1</td><td style=\"text-align: center\">./.</td><td style=\"text-align: center\">0/1</td><td style=\"text-align: center\">./.</td><td style=\"text-align: center\">0|1</td><td style=\"text-align: center\">./.</td><td style=\"text-align: center\">0/1</td><td style=\"text-align: center\">./.</td><td style=\"text-align: center\">0|1</td><td style=\"text-align: center\">./.</td><td style=\"text-align: center\">0/1</td><td style=\"text-align: center\">./.</td><td style=\"text-align: center\">0|1</td><td style=\"text-align: center\">./.</td><td style=\"text-align: center\">0/1</td><td style=\"text-align: center\">./.</td><td style=\"text-align: center\">0|1</td><td style=\"text-align: center\">./.</td><td style=\"text-align: center\">0/1</td><td style=\"text-align: center\">./.</td><td style=\"text-align: center\">0|1</td><td style=\"text-align: center\">./.</td><td style=\"text-align: center\">0/1</td><td style=\"text-align: center\">./.</td><td style=\"text-align: center\">0|1</td><td style=\"text-align: center\">./.</td><td style=\"text-align: center\">0/1</td><td style=\"text-align: center\">./.</td><td style=\"text-align: center\">0|1</td><td style=\"text-align: center\">./.</td><td style=\"text-align: center\">0/1</td><td style=\"text-align: center\">./.</td><td style=\"text-align: center\">0|1</td><td style=\"text-align: center\">./.</td><td style=\"text-align: center\">0/1</td><td style=\"text-align: center\">./.</td><td style=\"text-align: center\">0|1</td><td style=\"text-align: center\">./.</td><td style=\"text-align: center\">0/1</td><td style=\"text-align: center\">./.</td></tr><tr><th style=\"text-align: center\">17</th><td style=\"text-align: center\">0|1</td><td style=\"text-align: center\">./.</td><td style=\"text-align: center\">0/1</td><td style=\"text-align: center\">./.</td><td style=\"text-align: center\">0|1</td><td style=\"text-align: center\">./.</td><td style=\"text-align: center\">0/1</td><td style=\"text-align: center\">./.</td><td style=\"text-align: center\">0|1</td><td style=\"text-align: center\">./.</td><td style=\"text-align: center\">0/1</td><td style=\"text-align: center\">./.</td><td style=\"text-align: center\">0|1</td><td style=\"text-align: center\">./.</td><td style=\"text-align: center\">0/1</td><td style=\"text-align: center\">./.</td><td style=\"text-align: center\">0|1</td><td style=\"text-align: center\">./.</td><td style=\"text-align: center\">0/1</td><td style=\"text-align: center\">./.</td><td style=\"text-align: center\">0|1</td><td style=\"text-align: center\">./.</td><td style=\"text-align: center\">0/1</td><td style=\"text-align: center\">./.</td><td style=\"text-align: center\">0|1</td><td style=\"text-align: center\">./.</td><td style=\"text-align: center\">0/1</td><td style=\"text-align: center\">./.</td><td style=\"text-align: center\">0|1</td><td style=\"text-align: center\">./.</td><td style=\"text-align: center\">0/1</td><td style=\"text-align: center\">./.</td><td style=\"text-align: center\">0|1</td><td style=\"text-align: center\">./.</td><td style=\"text-align: center\">0/1</td><td style=\"text-align: center\">./.</td><td style=\"text-align: center\">0|1</td><td style=\"text-align: center\">./.</td><td style=\"text-align: center\">0/1</td><td style=\"text-align: center\">./.</td></tr><tr><th style=\"text-align: center\">18</th><td style=\"text-align: center\">0|1</td><td style=\"text-align: center\">./.</td><td style=\"text-align: center\">0/1</td><td style=\"text-align: center\">./.</td><td style=\"text-align: center\">0|1</td><td style=\"text-align: center\">./.</td><td style=\"text-align: center\">0/1</td><td style=\"text-align: center\">./.</td><td style=\"text-align: center\">0|1</td><td style=\"text-align: center\">./.</td><td style=\"text-align: center\">0/1</td><td style=\"text-align: center\">./.</td><td style=\"text-align: center\">0|1</td><td style=\"text-align: center\">./.</td><td style=\"text-align: center\">0/1</td><td style=\"text-align: center\">./.</td><td style=\"text-align: center\">0|1</td><td style=\"text-align: center\">./.</td><td style=\"text-align: center\">0/1</td><td style=\"text-align: center\">./.</td><td style=\"text-align: center\">0|1</td><td style=\"text-align: center\">./.</td><td style=\"text-align: center\">0/1</td><td style=\"text-align: center\">./.</td><td style=\"text-align: center\">0|1</td><td style=\"text-align: center\">./.</td><td style=\"text-align: center\">0/1</td><td style=\"text-align: center\">./.</td><td style=\"text-align: center\">0|1</td><td style=\"text-align: center\">./.</td><td style=\"text-align: center\">0/1</td><td style=\"text-align: center\">./.</td><td style=\"text-align: center\">0|1</td><td style=\"text-align: center\">./.</td><td style=\"text-align: center\">0/1</td><td style=\"text-align: center\">./.</td><td style=\"text-align: center\">0|1</td><td style=\"text-align: center\">./.</td><td style=\"text-align: center\">0/1</td><td style=\"text-align: center\">./.</td></tr><tr><th style=\"text-align: center\">19</th><td style=\"text-align: center\">0|1</td><td style=\"text-align: center\">./.</td><td style=\"text-align: center\">0/1</td><td style=\"text-align: center\">./.</td><td style=\"text-align: center\">0|1</td><td style=\"text-align: center\">./.</td><td style=\"text-align: center\">0/1</td><td style=\"text-align: center\">./.</td><td style=\"text-align: center\">0|1</td><td style=\"text-align: center\">./.</td><td style=\"text-align: center\">0/1</td><td style=\"text-align: center\">./.</td><td style=\"text-align: center\">0|1</td><td style=\"text-align: center\">./.</td><td style=\"text-align: center\">0/1</td><td style=\"text-align: center\">./.</td><td style=\"text-align: center\">0|1</td><td style=\"text-align: center\">./.</td><td style=\"text-align: center\">0/1</td><td style=\"text-align: center\">./.</td><td style=\"text-align: center\">0|1</td><td style=\"text-align: center\">./.</td><td style=\"text-align: center\">0/1</td><td style=\"text-align: center\">./.</td><td style=\"text-align: center\">0|1</td><td style=\"text-align: center\">./.</td><td style=\"text-align: center\">0/1</td><td style=\"text-align: center\">./.</td><td style=\"text-align: center\">0|1</td><td style=\"text-align: center\">./.</td><td style=\"text-align: center\">0/1</td><td style=\"text-align: center\">./.</td><td style=\"text-align: center\">0|1</td><td style=\"text-align: center\">./.</td><td style=\"text-align: center\">0/1</td><td style=\"text-align: center\">./.</td><td style=\"text-align: center\">0|1</td><td style=\"text-align: center\">./.</td><td style=\"text-align: center\">0/1</td><td style=\"text-align: center\">./.</td></tr></table>"
      ]
     },
     "metadata": {},
     "output_type": "display_data"
    }
   ],
   "source": [
    "g.displayall()"
   ]
  },
  {
   "cell_type": "code",
   "execution_count": 92,
   "metadata": {
    "collapsed": true
   },
   "outputs": [],
   "source": [
    "h = g.to_haplotypes()"
   ]
  },
  {
   "cell_type": "code",
   "execution_count": 93,
   "metadata": {
    "collapsed": false
   },
   "outputs": [
    {
     "data": {
      "text/plain": [
       "allel.model.ndarray.HaplotypeArray"
      ]
     },
     "execution_count": 93,
     "metadata": {},
     "output_type": "execute_result"
    }
   ],
   "source": [
    "type(h)"
   ]
  },
  {
   "cell_type": "code",
   "execution_count": 94,
   "metadata": {
    "collapsed": false
   },
   "outputs": [
    {
     "data": {
      "text/html": [
       "HaplotypeArray((20, 80), dtype=int64)<br/><table><tr><th></th><th style=\"text-align: center\">0</th><th style=\"text-align: center\">1</th><th style=\"text-align: center\">2</th><th style=\"text-align: center\">3</th><th style=\"text-align: center\">4</th><th style=\"text-align: center\">5</th><th style=\"text-align: center\">6</th><th style=\"text-align: center\">7</th><th style=\"text-align: center\">8</th><th style=\"text-align: center\">9</th><th style=\"text-align: center\">...</th><th style=\"text-align: center\">70</th><th style=\"text-align: center\">71</th><th style=\"text-align: center\">72</th><th style=\"text-align: center\">73</th><th style=\"text-align: center\">74</th><th style=\"text-align: center\">75</th><th style=\"text-align: center\">76</th><th style=\"text-align: center\">77</th><th style=\"text-align: center\">78</th><th style=\"text-align: center\">79</th></tr><tr><th style=\"text-align: center\">0</th><td style=\"text-align: center\">0</td><td style=\"text-align: center\">1</td><td style=\"text-align: center\">.</td><td style=\"text-align: center\">.</td><td style=\"text-align: center\">0</td><td style=\"text-align: center\">1</td><td style=\"text-align: center\">.</td><td style=\"text-align: center\">.</td><td style=\"text-align: center\">0</td><td style=\"text-align: center\">1</td><td style=\"text-align: center\"> ... </td><td style=\"text-align: center\">.</td><td style=\"text-align: center\">.</td><td style=\"text-align: center\">0</td><td style=\"text-align: center\">1</td><td style=\"text-align: center\">.</td><td style=\"text-align: center\">.</td><td style=\"text-align: center\">0</td><td style=\"text-align: center\">1</td><td style=\"text-align: center\">.</td><td style=\"text-align: center\">.</td></tr><tr><th style=\"text-align: center\">1</th><td style=\"text-align: center\">0</td><td style=\"text-align: center\">1</td><td style=\"text-align: center\">.</td><td style=\"text-align: center\">.</td><td style=\"text-align: center\">0</td><td style=\"text-align: center\">1</td><td style=\"text-align: center\">.</td><td style=\"text-align: center\">.</td><td style=\"text-align: center\">0</td><td style=\"text-align: center\">1</td><td style=\"text-align: center\"> ... </td><td style=\"text-align: center\">.</td><td style=\"text-align: center\">.</td><td style=\"text-align: center\">0</td><td style=\"text-align: center\">1</td><td style=\"text-align: center\">.</td><td style=\"text-align: center\">.</td><td style=\"text-align: center\">0</td><td style=\"text-align: center\">1</td><td style=\"text-align: center\">.</td><td style=\"text-align: center\">.</td></tr><tr><th style=\"text-align: center\">2</th><td style=\"text-align: center\">0</td><td style=\"text-align: center\">1</td><td style=\"text-align: center\">.</td><td style=\"text-align: center\">.</td><td style=\"text-align: center\">0</td><td style=\"text-align: center\">1</td><td style=\"text-align: center\">.</td><td style=\"text-align: center\">.</td><td style=\"text-align: center\">0</td><td style=\"text-align: center\">1</td><td style=\"text-align: center\"> ... </td><td style=\"text-align: center\">.</td><td style=\"text-align: center\">.</td><td style=\"text-align: center\">0</td><td style=\"text-align: center\">1</td><td style=\"text-align: center\">.</td><td style=\"text-align: center\">.</td><td style=\"text-align: center\">0</td><td style=\"text-align: center\">1</td><td style=\"text-align: center\">.</td><td style=\"text-align: center\">.</td></tr><tr><td>...</td><td colspan=\"21\"></td></tr><tr><th style=\"text-align: center\">17</th><td style=\"text-align: center\">0</td><td style=\"text-align: center\">1</td><td style=\"text-align: center\">.</td><td style=\"text-align: center\">.</td><td style=\"text-align: center\">0</td><td style=\"text-align: center\">1</td><td style=\"text-align: center\">.</td><td style=\"text-align: center\">.</td><td style=\"text-align: center\">0</td><td style=\"text-align: center\">1</td><td style=\"text-align: center\"> ... </td><td style=\"text-align: center\">.</td><td style=\"text-align: center\">.</td><td style=\"text-align: center\">0</td><td style=\"text-align: center\">1</td><td style=\"text-align: center\">.</td><td style=\"text-align: center\">.</td><td style=\"text-align: center\">0</td><td style=\"text-align: center\">1</td><td style=\"text-align: center\">.</td><td style=\"text-align: center\">.</td></tr><tr><th style=\"text-align: center\">18</th><td style=\"text-align: center\">0</td><td style=\"text-align: center\">1</td><td style=\"text-align: center\">.</td><td style=\"text-align: center\">.</td><td style=\"text-align: center\">0</td><td style=\"text-align: center\">1</td><td style=\"text-align: center\">.</td><td style=\"text-align: center\">.</td><td style=\"text-align: center\">0</td><td style=\"text-align: center\">1</td><td style=\"text-align: center\"> ... </td><td style=\"text-align: center\">.</td><td style=\"text-align: center\">.</td><td style=\"text-align: center\">0</td><td style=\"text-align: center\">1</td><td style=\"text-align: center\">.</td><td style=\"text-align: center\">.</td><td style=\"text-align: center\">0</td><td style=\"text-align: center\">1</td><td style=\"text-align: center\">.</td><td style=\"text-align: center\">.</td></tr><tr><th style=\"text-align: center\">19</th><td style=\"text-align: center\">0</td><td style=\"text-align: center\">1</td><td style=\"text-align: center\">.</td><td style=\"text-align: center\">.</td><td style=\"text-align: center\">0</td><td style=\"text-align: center\">1</td><td style=\"text-align: center\">.</td><td style=\"text-align: center\">.</td><td style=\"text-align: center\">0</td><td style=\"text-align: center\">1</td><td style=\"text-align: center\"> ... </td><td style=\"text-align: center\">.</td><td style=\"text-align: center\">.</td><td style=\"text-align: center\">0</td><td style=\"text-align: center\">1</td><td style=\"text-align: center\">.</td><td style=\"text-align: center\">.</td><td style=\"text-align: center\">0</td><td style=\"text-align: center\">1</td><td style=\"text-align: center\">.</td><td style=\"text-align: center\">.</td></tr></table>"
      ],
      "text/plain": [
       "HaplotypeArray((20, 80), dtype=int64)\n",
       "0 1 . . 0 1 . . 0 1  ...  . . 0 1 . . 0 1 . .\n",
       "0 1 . . 0 1 . . 0 1  ...  . . 0 1 . . 0 1 . .\n",
       "0 1 . . 0 1 . . 0 1  ...  . . 0 1 . . 0 1 . .\n",
       "...\n",
       "0 1 . . 0 1 . . 0 1  ...  . . 0 1 . . 0 1 . .\n",
       "0 1 . . 0 1 . . 0 1  ...  . . 0 1 . . 0 1 . .\n",
       "0 1 . . 0 1 . . 0 1  ...  . . 0 1 . . 0 1 . ."
      ]
     },
     "execution_count": 94,
     "metadata": {},
     "output_type": "execute_result"
    }
   ],
   "source": [
    "h"
   ]
  },
  {
   "cell_type": "code",
   "execution_count": 95,
   "metadata": {
    "collapsed": false
   },
   "outputs": [
    {
     "name": "stdout",
     "output_type": "stream",
     "text": [
      "HaplotypeArray((20, 80), dtype=int64)\n",
      "0 1 . . 0 1 . . 0 1  ...  . . 0 1 . . 0 1 . .\n",
      "0 1 . . 0 1 . . 0 1  ...  . . 0 1 . . 0 1 . .\n",
      "0 1 . . 0 1 . . 0 1  ...  . . 0 1 . . 0 1 . .\n",
      "...\n",
      "0 1 . . 0 1 . . 0 1  ...  . . 0 1 . . 0 1 . .\n",
      "0 1 . . 0 1 . . 0 1  ...  . . 0 1 . . 0 1 . .\n",
      "0 1 . . 0 1 . . 0 1  ...  . . 0 1 . . 0 1 . .\n",
      "\n"
     ]
    }
   ],
   "source": [
    "print(repr(h))"
   ]
  },
  {
   "cell_type": "code",
   "execution_count": 96,
   "metadata": {
    "collapsed": false
   },
   "outputs": [
    {
     "name": "stdout",
     "output_type": "stream",
     "text": [
      "0 1 . . 0 1 . . 0 1  ...  . . 0 1 . . 0 1 . .\n",
      "0 1 . . 0 1 . . 0 1  ...  . . 0 1 . . 0 1 . .\n",
      "0 1 . . 0 1 . . 0 1  ...  . . 0 1 . . 0 1 . .\n",
      "...\n",
      "0 1 . . 0 1 . . 0 1  ...  . . 0 1 . . 0 1 . .\n",
      "0 1 . . 0 1 . . 0 1  ...  . . 0 1 . . 0 1 . .\n",
      "0 1 . . 0 1 . . 0 1  ...  . . 0 1 . . 0 1 . .\n",
      "\n"
     ]
    }
   ],
   "source": [
    "print(h)"
   ]
  },
  {
   "cell_type": "code",
   "execution_count": 97,
   "metadata": {
    "collapsed": false
   },
   "outputs": [
    {
     "data": {
      "text/html": [
       "HaplotypeArray((20, 80), dtype=int64)<br/><table><tr><th></th><th style=\"text-align: center\">0</th><th style=\"text-align: center\">1</th><th style=\"text-align: center\">2</th><th style=\"text-align: center\">3</th><th style=\"text-align: center\">4</th><th style=\"text-align: center\">...</th><th style=\"text-align: center\">75</th><th style=\"text-align: center\">76</th><th style=\"text-align: center\">77</th><th style=\"text-align: center\">78</th><th style=\"text-align: center\">79</th></tr><tr><th style=\"text-align: center\">0</th><td style=\"text-align: center\">0</td><td style=\"text-align: center\">1</td><td style=\"text-align: center\">.</td><td style=\"text-align: center\">.</td><td style=\"text-align: center\">0</td><td style=\"text-align: center\"> ... </td><td style=\"text-align: center\">.</td><td style=\"text-align: center\">0</td><td style=\"text-align: center\">1</td><td style=\"text-align: center\">.</td><td style=\"text-align: center\">.</td></tr><tr><th style=\"text-align: center\">1</th><td style=\"text-align: center\">0</td><td style=\"text-align: center\">1</td><td style=\"text-align: center\">.</td><td style=\"text-align: center\">.</td><td style=\"text-align: center\">0</td><td style=\"text-align: center\"> ... </td><td style=\"text-align: center\">.</td><td style=\"text-align: center\">0</td><td style=\"text-align: center\">1</td><td style=\"text-align: center\">.</td><td style=\"text-align: center\">.</td></tr><tr><th style=\"text-align: center\">2</th><td style=\"text-align: center\">0</td><td style=\"text-align: center\">1</td><td style=\"text-align: center\">.</td><td style=\"text-align: center\">.</td><td style=\"text-align: center\">0</td><td style=\"text-align: center\"> ... </td><td style=\"text-align: center\">.</td><td style=\"text-align: center\">0</td><td style=\"text-align: center\">1</td><td style=\"text-align: center\">.</td><td style=\"text-align: center\">.</td></tr><tr><th style=\"text-align: center\">3</th><td style=\"text-align: center\">0</td><td style=\"text-align: center\">1</td><td style=\"text-align: center\">.</td><td style=\"text-align: center\">.</td><td style=\"text-align: center\">0</td><td style=\"text-align: center\"> ... </td><td style=\"text-align: center\">.</td><td style=\"text-align: center\">0</td><td style=\"text-align: center\">1</td><td style=\"text-align: center\">.</td><td style=\"text-align: center\">.</td></tr><tr><th style=\"text-align: center\">4</th><td style=\"text-align: center\">0</td><td style=\"text-align: center\">1</td><td style=\"text-align: center\">.</td><td style=\"text-align: center\">.</td><td style=\"text-align: center\">0</td><td style=\"text-align: center\"> ... </td><td style=\"text-align: center\">.</td><td style=\"text-align: center\">0</td><td style=\"text-align: center\">1</td><td style=\"text-align: center\">.</td><td style=\"text-align: center\">.</td></tr><tr><th style=\"text-align: center\">5</th><td style=\"text-align: center\">0</td><td style=\"text-align: center\">1</td><td style=\"text-align: center\">.</td><td style=\"text-align: center\">.</td><td style=\"text-align: center\">0</td><td style=\"text-align: center\"> ... </td><td style=\"text-align: center\">.</td><td style=\"text-align: center\">0</td><td style=\"text-align: center\">1</td><td style=\"text-align: center\">.</td><td style=\"text-align: center\">.</td></tr><tr><th style=\"text-align: center\">6</th><td style=\"text-align: center\">0</td><td style=\"text-align: center\">1</td><td style=\"text-align: center\">.</td><td style=\"text-align: center\">.</td><td style=\"text-align: center\">0</td><td style=\"text-align: center\"> ... </td><td style=\"text-align: center\">.</td><td style=\"text-align: center\">0</td><td style=\"text-align: center\">1</td><td style=\"text-align: center\">.</td><td style=\"text-align: center\">.</td></tr><tr><th style=\"text-align: center\">7</th><td style=\"text-align: center\">0</td><td style=\"text-align: center\">1</td><td style=\"text-align: center\">.</td><td style=\"text-align: center\">.</td><td style=\"text-align: center\">0</td><td style=\"text-align: center\"> ... </td><td style=\"text-align: center\">.</td><td style=\"text-align: center\">0</td><td style=\"text-align: center\">1</td><td style=\"text-align: center\">.</td><td style=\"text-align: center\">.</td></tr><tr><th style=\"text-align: center\">8</th><td style=\"text-align: center\">0</td><td style=\"text-align: center\">1</td><td style=\"text-align: center\">.</td><td style=\"text-align: center\">.</td><td style=\"text-align: center\">0</td><td style=\"text-align: center\"> ... </td><td style=\"text-align: center\">.</td><td style=\"text-align: center\">0</td><td style=\"text-align: center\">1</td><td style=\"text-align: center\">.</td><td style=\"text-align: center\">.</td></tr><tr><th style=\"text-align: center\">9</th><td style=\"text-align: center\">0</td><td style=\"text-align: center\">1</td><td style=\"text-align: center\">.</td><td style=\"text-align: center\">.</td><td style=\"text-align: center\">0</td><td style=\"text-align: center\"> ... </td><td style=\"text-align: center\">.</td><td style=\"text-align: center\">0</td><td style=\"text-align: center\">1</td><td style=\"text-align: center\">.</td><td style=\"text-align: center\">.</td></tr><tr><th style=\"text-align: center\">10</th><td style=\"text-align: center\">0</td><td style=\"text-align: center\">1</td><td style=\"text-align: center\">.</td><td style=\"text-align: center\">.</td><td style=\"text-align: center\">0</td><td style=\"text-align: center\"> ... </td><td style=\"text-align: center\">.</td><td style=\"text-align: center\">0</td><td style=\"text-align: center\">1</td><td style=\"text-align: center\">.</td><td style=\"text-align: center\">.</td></tr><tr><th style=\"text-align: center\">11</th><td style=\"text-align: center\">0</td><td style=\"text-align: center\">1</td><td style=\"text-align: center\">.</td><td style=\"text-align: center\">.</td><td style=\"text-align: center\">0</td><td style=\"text-align: center\"> ... </td><td style=\"text-align: center\">.</td><td style=\"text-align: center\">0</td><td style=\"text-align: center\">1</td><td style=\"text-align: center\">.</td><td style=\"text-align: center\">.</td></tr><tr><th style=\"text-align: center\">12</th><td style=\"text-align: center\">0</td><td style=\"text-align: center\">1</td><td style=\"text-align: center\">.</td><td style=\"text-align: center\">.</td><td style=\"text-align: center\">0</td><td style=\"text-align: center\"> ... </td><td style=\"text-align: center\">.</td><td style=\"text-align: center\">0</td><td style=\"text-align: center\">1</td><td style=\"text-align: center\">.</td><td style=\"text-align: center\">.</td></tr><tr><th style=\"text-align: center\">13</th><td style=\"text-align: center\">0</td><td style=\"text-align: center\">1</td><td style=\"text-align: center\">.</td><td style=\"text-align: center\">.</td><td style=\"text-align: center\">0</td><td style=\"text-align: center\"> ... </td><td style=\"text-align: center\">.</td><td style=\"text-align: center\">0</td><td style=\"text-align: center\">1</td><td style=\"text-align: center\">.</td><td style=\"text-align: center\">.</td></tr><tr><th style=\"text-align: center\">14</th><td style=\"text-align: center\">0</td><td style=\"text-align: center\">1</td><td style=\"text-align: center\">.</td><td style=\"text-align: center\">.</td><td style=\"text-align: center\">0</td><td style=\"text-align: center\"> ... </td><td style=\"text-align: center\">.</td><td style=\"text-align: center\">0</td><td style=\"text-align: center\">1</td><td style=\"text-align: center\">.</td><td style=\"text-align: center\">.</td></tr><tr><th style=\"text-align: center\">15</th><td style=\"text-align: center\">0</td><td style=\"text-align: center\">1</td><td style=\"text-align: center\">.</td><td style=\"text-align: center\">.</td><td style=\"text-align: center\">0</td><td style=\"text-align: center\"> ... </td><td style=\"text-align: center\">.</td><td style=\"text-align: center\">0</td><td style=\"text-align: center\">1</td><td style=\"text-align: center\">.</td><td style=\"text-align: center\">.</td></tr><tr><th style=\"text-align: center\">16</th><td style=\"text-align: center\">0</td><td style=\"text-align: center\">1</td><td style=\"text-align: center\">.</td><td style=\"text-align: center\">.</td><td style=\"text-align: center\">0</td><td style=\"text-align: center\"> ... </td><td style=\"text-align: center\">.</td><td style=\"text-align: center\">0</td><td style=\"text-align: center\">1</td><td style=\"text-align: center\">.</td><td style=\"text-align: center\">.</td></tr><tr><th style=\"text-align: center\">17</th><td style=\"text-align: center\">0</td><td style=\"text-align: center\">1</td><td style=\"text-align: center\">.</td><td style=\"text-align: center\">.</td><td style=\"text-align: center\">0</td><td style=\"text-align: center\"> ... </td><td style=\"text-align: center\">.</td><td style=\"text-align: center\">0</td><td style=\"text-align: center\">1</td><td style=\"text-align: center\">.</td><td style=\"text-align: center\">.</td></tr><tr><th style=\"text-align: center\">18</th><td style=\"text-align: center\">0</td><td style=\"text-align: center\">1</td><td style=\"text-align: center\">.</td><td style=\"text-align: center\">.</td><td style=\"text-align: center\">0</td><td style=\"text-align: center\"> ... </td><td style=\"text-align: center\">.</td><td style=\"text-align: center\">0</td><td style=\"text-align: center\">1</td><td style=\"text-align: center\">.</td><td style=\"text-align: center\">.</td></tr><tr><th style=\"text-align: center\">19</th><td style=\"text-align: center\">0</td><td style=\"text-align: center\">1</td><td style=\"text-align: center\">.</td><td style=\"text-align: center\">.</td><td style=\"text-align: center\">0</td><td style=\"text-align: center\"> ... </td><td style=\"text-align: center\">.</td><td style=\"text-align: center\">0</td><td style=\"text-align: center\">1</td><td style=\"text-align: center\">.</td><td style=\"text-align: center\">.</td></tr></table>"
      ]
     },
     "metadata": {},
     "output_type": "display_data"
    }
   ],
   "source": [
    "h.display(20, 40)"
   ]
  },
  {
   "cell_type": "code",
   "execution_count": 98,
   "metadata": {
    "collapsed": false
   },
   "outputs": [
    {
     "data": {
      "text/html": [
       "HaplotypeArray((20, 80), dtype=int64)<br/><table><tr><th></th><th style=\"text-align: center\">0</th><th style=\"text-align: center\">1</th><th style=\"text-align: center\">2</th><th style=\"text-align: center\">3</th><th style=\"text-align: center\">4</th><th style=\"text-align: center\">5</th><th style=\"text-align: center\">6</th><th style=\"text-align: center\">7</th><th style=\"text-align: center\">8</th><th style=\"text-align: center\">9</th><th style=\"text-align: center\">10</th><th style=\"text-align: center\">11</th><th style=\"text-align: center\">12</th><th style=\"text-align: center\">13</th><th style=\"text-align: center\">14</th><th style=\"text-align: center\">15</th><th style=\"text-align: center\">16</th><th style=\"text-align: center\">17</th><th style=\"text-align: center\">18</th><th style=\"text-align: center\">19</th><th style=\"text-align: center\">20</th><th style=\"text-align: center\">21</th><th style=\"text-align: center\">22</th><th style=\"text-align: center\">23</th><th style=\"text-align: center\">24</th><th style=\"text-align: center\">25</th><th style=\"text-align: center\">26</th><th style=\"text-align: center\">27</th><th style=\"text-align: center\">28</th><th style=\"text-align: center\">29</th><th style=\"text-align: center\">30</th><th style=\"text-align: center\">31</th><th style=\"text-align: center\">32</th><th style=\"text-align: center\">33</th><th style=\"text-align: center\">34</th><th style=\"text-align: center\">35</th><th style=\"text-align: center\">36</th><th style=\"text-align: center\">37</th><th style=\"text-align: center\">38</th><th style=\"text-align: center\">39</th><th style=\"text-align: center\">40</th><th style=\"text-align: center\">41</th><th style=\"text-align: center\">42</th><th style=\"text-align: center\">43</th><th style=\"text-align: center\">44</th><th style=\"text-align: center\">45</th><th style=\"text-align: center\">46</th><th style=\"text-align: center\">47</th><th style=\"text-align: center\">48</th><th style=\"text-align: center\">49</th><th style=\"text-align: center\">50</th><th style=\"text-align: center\">51</th><th style=\"text-align: center\">52</th><th style=\"text-align: center\">53</th><th style=\"text-align: center\">54</th><th style=\"text-align: center\">55</th><th style=\"text-align: center\">56</th><th style=\"text-align: center\">57</th><th style=\"text-align: center\">58</th><th style=\"text-align: center\">59</th><th style=\"text-align: center\">60</th><th style=\"text-align: center\">61</th><th style=\"text-align: center\">62</th><th style=\"text-align: center\">63</th><th style=\"text-align: center\">64</th><th style=\"text-align: center\">65</th><th style=\"text-align: center\">66</th><th style=\"text-align: center\">67</th><th style=\"text-align: center\">68</th><th style=\"text-align: center\">69</th><th style=\"text-align: center\">70</th><th style=\"text-align: center\">71</th><th style=\"text-align: center\">72</th><th style=\"text-align: center\">73</th><th style=\"text-align: center\">74</th><th style=\"text-align: center\">75</th><th style=\"text-align: center\">76</th><th style=\"text-align: center\">77</th><th style=\"text-align: center\">78</th><th style=\"text-align: center\">79</th></tr><tr><th style=\"text-align: center\">0</th><td style=\"text-align: center\">0</td><td style=\"text-align: center\">1</td><td style=\"text-align: center\">.</td><td style=\"text-align: center\">.</td><td style=\"text-align: center\">0</td><td style=\"text-align: center\">1</td><td style=\"text-align: center\">.</td><td style=\"text-align: center\">.</td><td style=\"text-align: center\">0</td><td style=\"text-align: center\">1</td><td style=\"text-align: center\">.</td><td style=\"text-align: center\">.</td><td style=\"text-align: center\">0</td><td style=\"text-align: center\">1</td><td style=\"text-align: center\">.</td><td style=\"text-align: center\">.</td><td style=\"text-align: center\">0</td><td style=\"text-align: center\">1</td><td style=\"text-align: center\">.</td><td style=\"text-align: center\">.</td><td style=\"text-align: center\">0</td><td style=\"text-align: center\">1</td><td style=\"text-align: center\">.</td><td style=\"text-align: center\">.</td><td style=\"text-align: center\">0</td><td style=\"text-align: center\">1</td><td style=\"text-align: center\">.</td><td style=\"text-align: center\">.</td><td style=\"text-align: center\">0</td><td style=\"text-align: center\">1</td><td style=\"text-align: center\">.</td><td style=\"text-align: center\">.</td><td style=\"text-align: center\">0</td><td style=\"text-align: center\">1</td><td style=\"text-align: center\">.</td><td style=\"text-align: center\">.</td><td style=\"text-align: center\">0</td><td style=\"text-align: center\">1</td><td style=\"text-align: center\">.</td><td style=\"text-align: center\">.</td><td style=\"text-align: center\">0</td><td style=\"text-align: center\">1</td><td style=\"text-align: center\">.</td><td style=\"text-align: center\">.</td><td style=\"text-align: center\">0</td><td style=\"text-align: center\">1</td><td style=\"text-align: center\">.</td><td style=\"text-align: center\">.</td><td style=\"text-align: center\">0</td><td style=\"text-align: center\">1</td><td style=\"text-align: center\">.</td><td style=\"text-align: center\">.</td><td style=\"text-align: center\">0</td><td style=\"text-align: center\">1</td><td style=\"text-align: center\">.</td><td style=\"text-align: center\">.</td><td style=\"text-align: center\">0</td><td style=\"text-align: center\">1</td><td style=\"text-align: center\">.</td><td style=\"text-align: center\">.</td><td style=\"text-align: center\">0</td><td style=\"text-align: center\">1</td><td style=\"text-align: center\">.</td><td style=\"text-align: center\">.</td><td style=\"text-align: center\">0</td><td style=\"text-align: center\">1</td><td style=\"text-align: center\">.</td><td style=\"text-align: center\">.</td><td style=\"text-align: center\">0</td><td style=\"text-align: center\">1</td><td style=\"text-align: center\">.</td><td style=\"text-align: center\">.</td><td style=\"text-align: center\">0</td><td style=\"text-align: center\">1</td><td style=\"text-align: center\">.</td><td style=\"text-align: center\">.</td><td style=\"text-align: center\">0</td><td style=\"text-align: center\">1</td><td style=\"text-align: center\">.</td><td style=\"text-align: center\">.</td></tr><tr><th style=\"text-align: center\">1</th><td style=\"text-align: center\">0</td><td style=\"text-align: center\">1</td><td style=\"text-align: center\">.</td><td style=\"text-align: center\">.</td><td style=\"text-align: center\">0</td><td style=\"text-align: center\">1</td><td style=\"text-align: center\">.</td><td style=\"text-align: center\">.</td><td style=\"text-align: center\">0</td><td style=\"text-align: center\">1</td><td style=\"text-align: center\">.</td><td style=\"text-align: center\">.</td><td style=\"text-align: center\">0</td><td style=\"text-align: center\">1</td><td style=\"text-align: center\">.</td><td style=\"text-align: center\">.</td><td style=\"text-align: center\">0</td><td style=\"text-align: center\">1</td><td style=\"text-align: center\">.</td><td style=\"text-align: center\">.</td><td style=\"text-align: center\">0</td><td style=\"text-align: center\">1</td><td style=\"text-align: center\">.</td><td style=\"text-align: center\">.</td><td style=\"text-align: center\">0</td><td style=\"text-align: center\">1</td><td style=\"text-align: center\">.</td><td style=\"text-align: center\">.</td><td style=\"text-align: center\">0</td><td style=\"text-align: center\">1</td><td style=\"text-align: center\">.</td><td style=\"text-align: center\">.</td><td style=\"text-align: center\">0</td><td style=\"text-align: center\">1</td><td style=\"text-align: center\">.</td><td style=\"text-align: center\">.</td><td style=\"text-align: center\">0</td><td style=\"text-align: center\">1</td><td style=\"text-align: center\">.</td><td style=\"text-align: center\">.</td><td style=\"text-align: center\">0</td><td style=\"text-align: center\">1</td><td style=\"text-align: center\">.</td><td style=\"text-align: center\">.</td><td style=\"text-align: center\">0</td><td style=\"text-align: center\">1</td><td style=\"text-align: center\">.</td><td style=\"text-align: center\">.</td><td style=\"text-align: center\">0</td><td style=\"text-align: center\">1</td><td style=\"text-align: center\">.</td><td style=\"text-align: center\">.</td><td style=\"text-align: center\">0</td><td style=\"text-align: center\">1</td><td style=\"text-align: center\">.</td><td style=\"text-align: center\">.</td><td style=\"text-align: center\">0</td><td style=\"text-align: center\">1</td><td style=\"text-align: center\">.</td><td style=\"text-align: center\">.</td><td style=\"text-align: center\">0</td><td style=\"text-align: center\">1</td><td style=\"text-align: center\">.</td><td style=\"text-align: center\">.</td><td style=\"text-align: center\">0</td><td style=\"text-align: center\">1</td><td style=\"text-align: center\">.</td><td style=\"text-align: center\">.</td><td style=\"text-align: center\">0</td><td style=\"text-align: center\">1</td><td style=\"text-align: center\">.</td><td style=\"text-align: center\">.</td><td style=\"text-align: center\">0</td><td style=\"text-align: center\">1</td><td style=\"text-align: center\">.</td><td style=\"text-align: center\">.</td><td style=\"text-align: center\">0</td><td style=\"text-align: center\">1</td><td style=\"text-align: center\">.</td><td style=\"text-align: center\">.</td></tr><tr><th style=\"text-align: center\">2</th><td style=\"text-align: center\">0</td><td style=\"text-align: center\">1</td><td style=\"text-align: center\">.</td><td style=\"text-align: center\">.</td><td style=\"text-align: center\">0</td><td style=\"text-align: center\">1</td><td style=\"text-align: center\">.</td><td style=\"text-align: center\">.</td><td style=\"text-align: center\">0</td><td style=\"text-align: center\">1</td><td style=\"text-align: center\">.</td><td style=\"text-align: center\">.</td><td style=\"text-align: center\">0</td><td style=\"text-align: center\">1</td><td style=\"text-align: center\">.</td><td style=\"text-align: center\">.</td><td style=\"text-align: center\">0</td><td style=\"text-align: center\">1</td><td style=\"text-align: center\">.</td><td style=\"text-align: center\">.</td><td style=\"text-align: center\">0</td><td style=\"text-align: center\">1</td><td style=\"text-align: center\">.</td><td style=\"text-align: center\">.</td><td style=\"text-align: center\">0</td><td style=\"text-align: center\">1</td><td style=\"text-align: center\">.</td><td style=\"text-align: center\">.</td><td style=\"text-align: center\">0</td><td style=\"text-align: center\">1</td><td style=\"text-align: center\">.</td><td style=\"text-align: center\">.</td><td style=\"text-align: center\">0</td><td style=\"text-align: center\">1</td><td style=\"text-align: center\">.</td><td style=\"text-align: center\">.</td><td style=\"text-align: center\">0</td><td style=\"text-align: center\">1</td><td style=\"text-align: center\">.</td><td style=\"text-align: center\">.</td><td style=\"text-align: center\">0</td><td style=\"text-align: center\">1</td><td style=\"text-align: center\">.</td><td style=\"text-align: center\">.</td><td style=\"text-align: center\">0</td><td style=\"text-align: center\">1</td><td style=\"text-align: center\">.</td><td style=\"text-align: center\">.</td><td style=\"text-align: center\">0</td><td style=\"text-align: center\">1</td><td style=\"text-align: center\">.</td><td style=\"text-align: center\">.</td><td style=\"text-align: center\">0</td><td style=\"text-align: center\">1</td><td style=\"text-align: center\">.</td><td style=\"text-align: center\">.</td><td style=\"text-align: center\">0</td><td style=\"text-align: center\">1</td><td style=\"text-align: center\">.</td><td style=\"text-align: center\">.</td><td style=\"text-align: center\">0</td><td style=\"text-align: center\">1</td><td style=\"text-align: center\">.</td><td style=\"text-align: center\">.</td><td style=\"text-align: center\">0</td><td style=\"text-align: center\">1</td><td style=\"text-align: center\">.</td><td style=\"text-align: center\">.</td><td style=\"text-align: center\">0</td><td style=\"text-align: center\">1</td><td style=\"text-align: center\">.</td><td style=\"text-align: center\">.</td><td style=\"text-align: center\">0</td><td style=\"text-align: center\">1</td><td style=\"text-align: center\">.</td><td style=\"text-align: center\">.</td><td style=\"text-align: center\">0</td><td style=\"text-align: center\">1</td><td style=\"text-align: center\">.</td><td style=\"text-align: center\">.</td></tr><tr><th style=\"text-align: center\">3</th><td style=\"text-align: center\">0</td><td style=\"text-align: center\">1</td><td style=\"text-align: center\">.</td><td style=\"text-align: center\">.</td><td style=\"text-align: center\">0</td><td style=\"text-align: center\">1</td><td style=\"text-align: center\">.</td><td style=\"text-align: center\">.</td><td style=\"text-align: center\">0</td><td style=\"text-align: center\">1</td><td style=\"text-align: center\">.</td><td style=\"text-align: center\">.</td><td style=\"text-align: center\">0</td><td style=\"text-align: center\">1</td><td style=\"text-align: center\">.</td><td style=\"text-align: center\">.</td><td style=\"text-align: center\">0</td><td style=\"text-align: center\">1</td><td style=\"text-align: center\">.</td><td style=\"text-align: center\">.</td><td style=\"text-align: center\">0</td><td style=\"text-align: center\">1</td><td style=\"text-align: center\">.</td><td style=\"text-align: center\">.</td><td style=\"text-align: center\">0</td><td style=\"text-align: center\">1</td><td style=\"text-align: center\">.</td><td style=\"text-align: center\">.</td><td style=\"text-align: center\">0</td><td style=\"text-align: center\">1</td><td style=\"text-align: center\">.</td><td style=\"text-align: center\">.</td><td style=\"text-align: center\">0</td><td style=\"text-align: center\">1</td><td style=\"text-align: center\">.</td><td style=\"text-align: center\">.</td><td style=\"text-align: center\">0</td><td style=\"text-align: center\">1</td><td style=\"text-align: center\">.</td><td style=\"text-align: center\">.</td><td style=\"text-align: center\">0</td><td style=\"text-align: center\">1</td><td style=\"text-align: center\">.</td><td style=\"text-align: center\">.</td><td style=\"text-align: center\">0</td><td style=\"text-align: center\">1</td><td style=\"text-align: center\">.</td><td style=\"text-align: center\">.</td><td style=\"text-align: center\">0</td><td style=\"text-align: center\">1</td><td style=\"text-align: center\">.</td><td style=\"text-align: center\">.</td><td style=\"text-align: center\">0</td><td style=\"text-align: center\">1</td><td style=\"text-align: center\">.</td><td style=\"text-align: center\">.</td><td style=\"text-align: center\">0</td><td style=\"text-align: center\">1</td><td style=\"text-align: center\">.</td><td style=\"text-align: center\">.</td><td style=\"text-align: center\">0</td><td style=\"text-align: center\">1</td><td style=\"text-align: center\">.</td><td style=\"text-align: center\">.</td><td style=\"text-align: center\">0</td><td style=\"text-align: center\">1</td><td style=\"text-align: center\">.</td><td style=\"text-align: center\">.</td><td style=\"text-align: center\">0</td><td style=\"text-align: center\">1</td><td style=\"text-align: center\">.</td><td style=\"text-align: center\">.</td><td style=\"text-align: center\">0</td><td style=\"text-align: center\">1</td><td style=\"text-align: center\">.</td><td style=\"text-align: center\">.</td><td style=\"text-align: center\">0</td><td style=\"text-align: center\">1</td><td style=\"text-align: center\">.</td><td style=\"text-align: center\">.</td></tr><tr><th style=\"text-align: center\">4</th><td style=\"text-align: center\">0</td><td style=\"text-align: center\">1</td><td style=\"text-align: center\">.</td><td style=\"text-align: center\">.</td><td style=\"text-align: center\">0</td><td style=\"text-align: center\">1</td><td style=\"text-align: center\">.</td><td style=\"text-align: center\">.</td><td style=\"text-align: center\">0</td><td style=\"text-align: center\">1</td><td style=\"text-align: center\">.</td><td style=\"text-align: center\">.</td><td style=\"text-align: center\">0</td><td style=\"text-align: center\">1</td><td style=\"text-align: center\">.</td><td style=\"text-align: center\">.</td><td style=\"text-align: center\">0</td><td style=\"text-align: center\">1</td><td style=\"text-align: center\">.</td><td style=\"text-align: center\">.</td><td style=\"text-align: center\">0</td><td style=\"text-align: center\">1</td><td style=\"text-align: center\">.</td><td style=\"text-align: center\">.</td><td style=\"text-align: center\">0</td><td style=\"text-align: center\">1</td><td style=\"text-align: center\">.</td><td style=\"text-align: center\">.</td><td style=\"text-align: center\">0</td><td style=\"text-align: center\">1</td><td style=\"text-align: center\">.</td><td style=\"text-align: center\">.</td><td style=\"text-align: center\">0</td><td style=\"text-align: center\">1</td><td style=\"text-align: center\">.</td><td style=\"text-align: center\">.</td><td style=\"text-align: center\">0</td><td style=\"text-align: center\">1</td><td style=\"text-align: center\">.</td><td style=\"text-align: center\">.</td><td style=\"text-align: center\">0</td><td style=\"text-align: center\">1</td><td style=\"text-align: center\">.</td><td style=\"text-align: center\">.</td><td style=\"text-align: center\">0</td><td style=\"text-align: center\">1</td><td style=\"text-align: center\">.</td><td style=\"text-align: center\">.</td><td style=\"text-align: center\">0</td><td style=\"text-align: center\">1</td><td style=\"text-align: center\">.</td><td style=\"text-align: center\">.</td><td style=\"text-align: center\">0</td><td style=\"text-align: center\">1</td><td style=\"text-align: center\">.</td><td style=\"text-align: center\">.</td><td style=\"text-align: center\">0</td><td style=\"text-align: center\">1</td><td style=\"text-align: center\">.</td><td style=\"text-align: center\">.</td><td style=\"text-align: center\">0</td><td style=\"text-align: center\">1</td><td style=\"text-align: center\">.</td><td style=\"text-align: center\">.</td><td style=\"text-align: center\">0</td><td style=\"text-align: center\">1</td><td style=\"text-align: center\">.</td><td style=\"text-align: center\">.</td><td style=\"text-align: center\">0</td><td style=\"text-align: center\">1</td><td style=\"text-align: center\">.</td><td style=\"text-align: center\">.</td><td style=\"text-align: center\">0</td><td style=\"text-align: center\">1</td><td style=\"text-align: center\">.</td><td style=\"text-align: center\">.</td><td style=\"text-align: center\">0</td><td style=\"text-align: center\">1</td><td style=\"text-align: center\">.</td><td style=\"text-align: center\">.</td></tr><tr><th style=\"text-align: center\">5</th><td style=\"text-align: center\">0</td><td style=\"text-align: center\">1</td><td style=\"text-align: center\">.</td><td style=\"text-align: center\">.</td><td style=\"text-align: center\">0</td><td style=\"text-align: center\">1</td><td style=\"text-align: center\">.</td><td style=\"text-align: center\">.</td><td style=\"text-align: center\">0</td><td style=\"text-align: center\">1</td><td style=\"text-align: center\">.</td><td style=\"text-align: center\">.</td><td style=\"text-align: center\">0</td><td style=\"text-align: center\">1</td><td style=\"text-align: center\">.</td><td style=\"text-align: center\">.</td><td style=\"text-align: center\">0</td><td style=\"text-align: center\">1</td><td style=\"text-align: center\">.</td><td style=\"text-align: center\">.</td><td style=\"text-align: center\">0</td><td style=\"text-align: center\">1</td><td style=\"text-align: center\">.</td><td style=\"text-align: center\">.</td><td style=\"text-align: center\">0</td><td style=\"text-align: center\">1</td><td style=\"text-align: center\">.</td><td style=\"text-align: center\">.</td><td style=\"text-align: center\">0</td><td style=\"text-align: center\">1</td><td style=\"text-align: center\">.</td><td style=\"text-align: center\">.</td><td style=\"text-align: center\">0</td><td style=\"text-align: center\">1</td><td style=\"text-align: center\">.</td><td style=\"text-align: center\">.</td><td style=\"text-align: center\">0</td><td style=\"text-align: center\">1</td><td style=\"text-align: center\">.</td><td style=\"text-align: center\">.</td><td style=\"text-align: center\">0</td><td style=\"text-align: center\">1</td><td style=\"text-align: center\">.</td><td style=\"text-align: center\">.</td><td style=\"text-align: center\">0</td><td style=\"text-align: center\">1</td><td style=\"text-align: center\">.</td><td style=\"text-align: center\">.</td><td style=\"text-align: center\">0</td><td style=\"text-align: center\">1</td><td style=\"text-align: center\">.</td><td style=\"text-align: center\">.</td><td style=\"text-align: center\">0</td><td style=\"text-align: center\">1</td><td style=\"text-align: center\">.</td><td style=\"text-align: center\">.</td><td style=\"text-align: center\">0</td><td style=\"text-align: center\">1</td><td style=\"text-align: center\">.</td><td style=\"text-align: center\">.</td><td style=\"text-align: center\">0</td><td style=\"text-align: center\">1</td><td style=\"text-align: center\">.</td><td style=\"text-align: center\">.</td><td style=\"text-align: center\">0</td><td style=\"text-align: center\">1</td><td style=\"text-align: center\">.</td><td style=\"text-align: center\">.</td><td style=\"text-align: center\">0</td><td style=\"text-align: center\">1</td><td style=\"text-align: center\">.</td><td style=\"text-align: center\">.</td><td style=\"text-align: center\">0</td><td style=\"text-align: center\">1</td><td style=\"text-align: center\">.</td><td style=\"text-align: center\">.</td><td style=\"text-align: center\">0</td><td style=\"text-align: center\">1</td><td style=\"text-align: center\">.</td><td style=\"text-align: center\">.</td></tr><tr><th style=\"text-align: center\">6</th><td style=\"text-align: center\">0</td><td style=\"text-align: center\">1</td><td style=\"text-align: center\">.</td><td style=\"text-align: center\">.</td><td style=\"text-align: center\">0</td><td style=\"text-align: center\">1</td><td style=\"text-align: center\">.</td><td style=\"text-align: center\">.</td><td style=\"text-align: center\">0</td><td style=\"text-align: center\">1</td><td style=\"text-align: center\">.</td><td style=\"text-align: center\">.</td><td style=\"text-align: center\">0</td><td style=\"text-align: center\">1</td><td style=\"text-align: center\">.</td><td style=\"text-align: center\">.</td><td style=\"text-align: center\">0</td><td style=\"text-align: center\">1</td><td style=\"text-align: center\">.</td><td style=\"text-align: center\">.</td><td style=\"text-align: center\">0</td><td style=\"text-align: center\">1</td><td style=\"text-align: center\">.</td><td style=\"text-align: center\">.</td><td style=\"text-align: center\">0</td><td style=\"text-align: center\">1</td><td style=\"text-align: center\">.</td><td style=\"text-align: center\">.</td><td style=\"text-align: center\">0</td><td style=\"text-align: center\">1</td><td style=\"text-align: center\">.</td><td style=\"text-align: center\">.</td><td style=\"text-align: center\">0</td><td style=\"text-align: center\">1</td><td style=\"text-align: center\">.</td><td style=\"text-align: center\">.</td><td style=\"text-align: center\">0</td><td style=\"text-align: center\">1</td><td style=\"text-align: center\">.</td><td style=\"text-align: center\">.</td><td style=\"text-align: center\">0</td><td style=\"text-align: center\">1</td><td style=\"text-align: center\">.</td><td style=\"text-align: center\">.</td><td style=\"text-align: center\">0</td><td style=\"text-align: center\">1</td><td style=\"text-align: center\">.</td><td style=\"text-align: center\">.</td><td style=\"text-align: center\">0</td><td style=\"text-align: center\">1</td><td style=\"text-align: center\">.</td><td style=\"text-align: center\">.</td><td style=\"text-align: center\">0</td><td style=\"text-align: center\">1</td><td style=\"text-align: center\">.</td><td style=\"text-align: center\">.</td><td style=\"text-align: center\">0</td><td style=\"text-align: center\">1</td><td style=\"text-align: center\">.</td><td style=\"text-align: center\">.</td><td style=\"text-align: center\">0</td><td style=\"text-align: center\">1</td><td style=\"text-align: center\">.</td><td style=\"text-align: center\">.</td><td style=\"text-align: center\">0</td><td style=\"text-align: center\">1</td><td style=\"text-align: center\">.</td><td style=\"text-align: center\">.</td><td style=\"text-align: center\">0</td><td style=\"text-align: center\">1</td><td style=\"text-align: center\">.</td><td style=\"text-align: center\">.</td><td style=\"text-align: center\">0</td><td style=\"text-align: center\">1</td><td style=\"text-align: center\">.</td><td style=\"text-align: center\">.</td><td style=\"text-align: center\">0</td><td style=\"text-align: center\">1</td><td style=\"text-align: center\">.</td><td style=\"text-align: center\">.</td></tr><tr><th style=\"text-align: center\">7</th><td style=\"text-align: center\">0</td><td style=\"text-align: center\">1</td><td style=\"text-align: center\">.</td><td style=\"text-align: center\">.</td><td style=\"text-align: center\">0</td><td style=\"text-align: center\">1</td><td style=\"text-align: center\">.</td><td style=\"text-align: center\">.</td><td style=\"text-align: center\">0</td><td style=\"text-align: center\">1</td><td style=\"text-align: center\">.</td><td style=\"text-align: center\">.</td><td style=\"text-align: center\">0</td><td style=\"text-align: center\">1</td><td style=\"text-align: center\">.</td><td style=\"text-align: center\">.</td><td style=\"text-align: center\">0</td><td style=\"text-align: center\">1</td><td style=\"text-align: center\">.</td><td style=\"text-align: center\">.</td><td style=\"text-align: center\">0</td><td style=\"text-align: center\">1</td><td style=\"text-align: center\">.</td><td style=\"text-align: center\">.</td><td style=\"text-align: center\">0</td><td style=\"text-align: center\">1</td><td style=\"text-align: center\">.</td><td style=\"text-align: center\">.</td><td style=\"text-align: center\">0</td><td style=\"text-align: center\">1</td><td style=\"text-align: center\">.</td><td style=\"text-align: center\">.</td><td style=\"text-align: center\">0</td><td style=\"text-align: center\">1</td><td style=\"text-align: center\">.</td><td style=\"text-align: center\">.</td><td style=\"text-align: center\">0</td><td style=\"text-align: center\">1</td><td style=\"text-align: center\">.</td><td style=\"text-align: center\">.</td><td style=\"text-align: center\">0</td><td style=\"text-align: center\">1</td><td style=\"text-align: center\">.</td><td style=\"text-align: center\">.</td><td style=\"text-align: center\">0</td><td style=\"text-align: center\">1</td><td style=\"text-align: center\">.</td><td style=\"text-align: center\">.</td><td style=\"text-align: center\">0</td><td style=\"text-align: center\">1</td><td style=\"text-align: center\">.</td><td style=\"text-align: center\">.</td><td style=\"text-align: center\">0</td><td style=\"text-align: center\">1</td><td style=\"text-align: center\">.</td><td style=\"text-align: center\">.</td><td style=\"text-align: center\">0</td><td style=\"text-align: center\">1</td><td style=\"text-align: center\">.</td><td style=\"text-align: center\">.</td><td style=\"text-align: center\">0</td><td style=\"text-align: center\">1</td><td style=\"text-align: center\">.</td><td style=\"text-align: center\">.</td><td style=\"text-align: center\">0</td><td style=\"text-align: center\">1</td><td style=\"text-align: center\">.</td><td style=\"text-align: center\">.</td><td style=\"text-align: center\">0</td><td style=\"text-align: center\">1</td><td style=\"text-align: center\">.</td><td style=\"text-align: center\">.</td><td style=\"text-align: center\">0</td><td style=\"text-align: center\">1</td><td style=\"text-align: center\">.</td><td style=\"text-align: center\">.</td><td style=\"text-align: center\">0</td><td style=\"text-align: center\">1</td><td style=\"text-align: center\">.</td><td style=\"text-align: center\">.</td></tr><tr><th style=\"text-align: center\">8</th><td style=\"text-align: center\">0</td><td style=\"text-align: center\">1</td><td style=\"text-align: center\">.</td><td style=\"text-align: center\">.</td><td style=\"text-align: center\">0</td><td style=\"text-align: center\">1</td><td style=\"text-align: center\">.</td><td style=\"text-align: center\">.</td><td style=\"text-align: center\">0</td><td style=\"text-align: center\">1</td><td style=\"text-align: center\">.</td><td style=\"text-align: center\">.</td><td style=\"text-align: center\">0</td><td style=\"text-align: center\">1</td><td style=\"text-align: center\">.</td><td style=\"text-align: center\">.</td><td style=\"text-align: center\">0</td><td style=\"text-align: center\">1</td><td style=\"text-align: center\">.</td><td style=\"text-align: center\">.</td><td style=\"text-align: center\">0</td><td style=\"text-align: center\">1</td><td style=\"text-align: center\">.</td><td style=\"text-align: center\">.</td><td style=\"text-align: center\">0</td><td style=\"text-align: center\">1</td><td style=\"text-align: center\">.</td><td style=\"text-align: center\">.</td><td style=\"text-align: center\">0</td><td style=\"text-align: center\">1</td><td style=\"text-align: center\">.</td><td style=\"text-align: center\">.</td><td style=\"text-align: center\">0</td><td style=\"text-align: center\">1</td><td style=\"text-align: center\">.</td><td style=\"text-align: center\">.</td><td style=\"text-align: center\">0</td><td style=\"text-align: center\">1</td><td style=\"text-align: center\">.</td><td style=\"text-align: center\">.</td><td style=\"text-align: center\">0</td><td style=\"text-align: center\">1</td><td style=\"text-align: center\">.</td><td style=\"text-align: center\">.</td><td style=\"text-align: center\">0</td><td style=\"text-align: center\">1</td><td style=\"text-align: center\">.</td><td style=\"text-align: center\">.</td><td style=\"text-align: center\">0</td><td style=\"text-align: center\">1</td><td style=\"text-align: center\">.</td><td style=\"text-align: center\">.</td><td style=\"text-align: center\">0</td><td style=\"text-align: center\">1</td><td style=\"text-align: center\">.</td><td style=\"text-align: center\">.</td><td style=\"text-align: center\">0</td><td style=\"text-align: center\">1</td><td style=\"text-align: center\">.</td><td style=\"text-align: center\">.</td><td style=\"text-align: center\">0</td><td style=\"text-align: center\">1</td><td style=\"text-align: center\">.</td><td style=\"text-align: center\">.</td><td style=\"text-align: center\">0</td><td style=\"text-align: center\">1</td><td style=\"text-align: center\">.</td><td style=\"text-align: center\">.</td><td style=\"text-align: center\">0</td><td style=\"text-align: center\">1</td><td style=\"text-align: center\">.</td><td style=\"text-align: center\">.</td><td style=\"text-align: center\">0</td><td style=\"text-align: center\">1</td><td style=\"text-align: center\">.</td><td style=\"text-align: center\">.</td><td style=\"text-align: center\">0</td><td style=\"text-align: center\">1</td><td style=\"text-align: center\">.</td><td style=\"text-align: center\">.</td></tr><tr><th style=\"text-align: center\">9</th><td style=\"text-align: center\">0</td><td style=\"text-align: center\">1</td><td style=\"text-align: center\">.</td><td style=\"text-align: center\">.</td><td style=\"text-align: center\">0</td><td style=\"text-align: center\">1</td><td style=\"text-align: center\">.</td><td style=\"text-align: center\">.</td><td style=\"text-align: center\">0</td><td style=\"text-align: center\">1</td><td style=\"text-align: center\">.</td><td style=\"text-align: center\">.</td><td style=\"text-align: center\">0</td><td style=\"text-align: center\">1</td><td style=\"text-align: center\">.</td><td style=\"text-align: center\">.</td><td style=\"text-align: center\">0</td><td style=\"text-align: center\">1</td><td style=\"text-align: center\">.</td><td style=\"text-align: center\">.</td><td style=\"text-align: center\">0</td><td style=\"text-align: center\">1</td><td style=\"text-align: center\">.</td><td style=\"text-align: center\">.</td><td style=\"text-align: center\">0</td><td style=\"text-align: center\">1</td><td style=\"text-align: center\">.</td><td style=\"text-align: center\">.</td><td style=\"text-align: center\">0</td><td style=\"text-align: center\">1</td><td style=\"text-align: center\">.</td><td style=\"text-align: center\">.</td><td style=\"text-align: center\">0</td><td style=\"text-align: center\">1</td><td style=\"text-align: center\">.</td><td style=\"text-align: center\">.</td><td style=\"text-align: center\">0</td><td style=\"text-align: center\">1</td><td style=\"text-align: center\">.</td><td style=\"text-align: center\">.</td><td style=\"text-align: center\">0</td><td style=\"text-align: center\">1</td><td style=\"text-align: center\">.</td><td style=\"text-align: center\">.</td><td style=\"text-align: center\">0</td><td style=\"text-align: center\">1</td><td style=\"text-align: center\">.</td><td style=\"text-align: center\">.</td><td style=\"text-align: center\">0</td><td style=\"text-align: center\">1</td><td style=\"text-align: center\">.</td><td style=\"text-align: center\">.</td><td style=\"text-align: center\">0</td><td style=\"text-align: center\">1</td><td style=\"text-align: center\">.</td><td style=\"text-align: center\">.</td><td style=\"text-align: center\">0</td><td style=\"text-align: center\">1</td><td style=\"text-align: center\">.</td><td style=\"text-align: center\">.</td><td style=\"text-align: center\">0</td><td style=\"text-align: center\">1</td><td style=\"text-align: center\">.</td><td style=\"text-align: center\">.</td><td style=\"text-align: center\">0</td><td style=\"text-align: center\">1</td><td style=\"text-align: center\">.</td><td style=\"text-align: center\">.</td><td style=\"text-align: center\">0</td><td style=\"text-align: center\">1</td><td style=\"text-align: center\">.</td><td style=\"text-align: center\">.</td><td style=\"text-align: center\">0</td><td style=\"text-align: center\">1</td><td style=\"text-align: center\">.</td><td style=\"text-align: center\">.</td><td style=\"text-align: center\">0</td><td style=\"text-align: center\">1</td><td style=\"text-align: center\">.</td><td style=\"text-align: center\">.</td></tr><tr><th style=\"text-align: center\">10</th><td style=\"text-align: center\">0</td><td style=\"text-align: center\">1</td><td style=\"text-align: center\">.</td><td style=\"text-align: center\">.</td><td style=\"text-align: center\">0</td><td style=\"text-align: center\">1</td><td style=\"text-align: center\">.</td><td style=\"text-align: center\">.</td><td style=\"text-align: center\">0</td><td style=\"text-align: center\">1</td><td style=\"text-align: center\">.</td><td style=\"text-align: center\">.</td><td style=\"text-align: center\">0</td><td style=\"text-align: center\">1</td><td style=\"text-align: center\">.</td><td style=\"text-align: center\">.</td><td style=\"text-align: center\">0</td><td style=\"text-align: center\">1</td><td style=\"text-align: center\">.</td><td style=\"text-align: center\">.</td><td style=\"text-align: center\">0</td><td style=\"text-align: center\">1</td><td style=\"text-align: center\">.</td><td style=\"text-align: center\">.</td><td style=\"text-align: center\">0</td><td style=\"text-align: center\">1</td><td style=\"text-align: center\">.</td><td style=\"text-align: center\">.</td><td style=\"text-align: center\">0</td><td style=\"text-align: center\">1</td><td style=\"text-align: center\">.</td><td style=\"text-align: center\">.</td><td style=\"text-align: center\">0</td><td style=\"text-align: center\">1</td><td style=\"text-align: center\">.</td><td style=\"text-align: center\">.</td><td style=\"text-align: center\">0</td><td style=\"text-align: center\">1</td><td style=\"text-align: center\">.</td><td style=\"text-align: center\">.</td><td style=\"text-align: center\">0</td><td style=\"text-align: center\">1</td><td style=\"text-align: center\">.</td><td style=\"text-align: center\">.</td><td style=\"text-align: center\">0</td><td style=\"text-align: center\">1</td><td style=\"text-align: center\">.</td><td style=\"text-align: center\">.</td><td style=\"text-align: center\">0</td><td style=\"text-align: center\">1</td><td style=\"text-align: center\">.</td><td style=\"text-align: center\">.</td><td style=\"text-align: center\">0</td><td style=\"text-align: center\">1</td><td style=\"text-align: center\">.</td><td style=\"text-align: center\">.</td><td style=\"text-align: center\">0</td><td style=\"text-align: center\">1</td><td style=\"text-align: center\">.</td><td style=\"text-align: center\">.</td><td style=\"text-align: center\">0</td><td style=\"text-align: center\">1</td><td style=\"text-align: center\">.</td><td style=\"text-align: center\">.</td><td style=\"text-align: center\">0</td><td style=\"text-align: center\">1</td><td style=\"text-align: center\">.</td><td style=\"text-align: center\">.</td><td style=\"text-align: center\">0</td><td style=\"text-align: center\">1</td><td style=\"text-align: center\">.</td><td style=\"text-align: center\">.</td><td style=\"text-align: center\">0</td><td style=\"text-align: center\">1</td><td style=\"text-align: center\">.</td><td style=\"text-align: center\">.</td><td style=\"text-align: center\">0</td><td style=\"text-align: center\">1</td><td style=\"text-align: center\">.</td><td style=\"text-align: center\">.</td></tr><tr><th style=\"text-align: center\">11</th><td style=\"text-align: center\">0</td><td style=\"text-align: center\">1</td><td style=\"text-align: center\">.</td><td style=\"text-align: center\">.</td><td style=\"text-align: center\">0</td><td style=\"text-align: center\">1</td><td style=\"text-align: center\">.</td><td style=\"text-align: center\">.</td><td style=\"text-align: center\">0</td><td style=\"text-align: center\">1</td><td style=\"text-align: center\">.</td><td style=\"text-align: center\">.</td><td style=\"text-align: center\">0</td><td style=\"text-align: center\">1</td><td style=\"text-align: center\">.</td><td style=\"text-align: center\">.</td><td style=\"text-align: center\">0</td><td style=\"text-align: center\">1</td><td style=\"text-align: center\">.</td><td style=\"text-align: center\">.</td><td style=\"text-align: center\">0</td><td style=\"text-align: center\">1</td><td style=\"text-align: center\">.</td><td style=\"text-align: center\">.</td><td style=\"text-align: center\">0</td><td style=\"text-align: center\">1</td><td style=\"text-align: center\">.</td><td style=\"text-align: center\">.</td><td style=\"text-align: center\">0</td><td style=\"text-align: center\">1</td><td style=\"text-align: center\">.</td><td style=\"text-align: center\">.</td><td style=\"text-align: center\">0</td><td style=\"text-align: center\">1</td><td style=\"text-align: center\">.</td><td style=\"text-align: center\">.</td><td style=\"text-align: center\">0</td><td style=\"text-align: center\">1</td><td style=\"text-align: center\">.</td><td style=\"text-align: center\">.</td><td style=\"text-align: center\">0</td><td style=\"text-align: center\">1</td><td style=\"text-align: center\">.</td><td style=\"text-align: center\">.</td><td style=\"text-align: center\">0</td><td style=\"text-align: center\">1</td><td style=\"text-align: center\">.</td><td style=\"text-align: center\">.</td><td style=\"text-align: center\">0</td><td style=\"text-align: center\">1</td><td style=\"text-align: center\">.</td><td style=\"text-align: center\">.</td><td style=\"text-align: center\">0</td><td style=\"text-align: center\">1</td><td style=\"text-align: center\">.</td><td style=\"text-align: center\">.</td><td style=\"text-align: center\">0</td><td style=\"text-align: center\">1</td><td style=\"text-align: center\">.</td><td style=\"text-align: center\">.</td><td style=\"text-align: center\">0</td><td style=\"text-align: center\">1</td><td style=\"text-align: center\">.</td><td style=\"text-align: center\">.</td><td style=\"text-align: center\">0</td><td style=\"text-align: center\">1</td><td style=\"text-align: center\">.</td><td style=\"text-align: center\">.</td><td style=\"text-align: center\">0</td><td style=\"text-align: center\">1</td><td style=\"text-align: center\">.</td><td style=\"text-align: center\">.</td><td style=\"text-align: center\">0</td><td style=\"text-align: center\">1</td><td style=\"text-align: center\">.</td><td style=\"text-align: center\">.</td><td style=\"text-align: center\">0</td><td style=\"text-align: center\">1</td><td style=\"text-align: center\">.</td><td style=\"text-align: center\">.</td></tr><tr><th style=\"text-align: center\">12</th><td style=\"text-align: center\">0</td><td style=\"text-align: center\">1</td><td style=\"text-align: center\">.</td><td style=\"text-align: center\">.</td><td style=\"text-align: center\">0</td><td style=\"text-align: center\">1</td><td style=\"text-align: center\">.</td><td style=\"text-align: center\">.</td><td style=\"text-align: center\">0</td><td style=\"text-align: center\">1</td><td style=\"text-align: center\">.</td><td style=\"text-align: center\">.</td><td style=\"text-align: center\">0</td><td style=\"text-align: center\">1</td><td style=\"text-align: center\">.</td><td style=\"text-align: center\">.</td><td style=\"text-align: center\">0</td><td style=\"text-align: center\">1</td><td style=\"text-align: center\">.</td><td style=\"text-align: center\">.</td><td style=\"text-align: center\">0</td><td style=\"text-align: center\">1</td><td style=\"text-align: center\">.</td><td style=\"text-align: center\">.</td><td style=\"text-align: center\">0</td><td style=\"text-align: center\">1</td><td style=\"text-align: center\">.</td><td style=\"text-align: center\">.</td><td style=\"text-align: center\">0</td><td style=\"text-align: center\">1</td><td style=\"text-align: center\">.</td><td style=\"text-align: center\">.</td><td style=\"text-align: center\">0</td><td style=\"text-align: center\">1</td><td style=\"text-align: center\">.</td><td style=\"text-align: center\">.</td><td style=\"text-align: center\">0</td><td style=\"text-align: center\">1</td><td style=\"text-align: center\">.</td><td style=\"text-align: center\">.</td><td style=\"text-align: center\">0</td><td style=\"text-align: center\">1</td><td style=\"text-align: center\">.</td><td style=\"text-align: center\">.</td><td style=\"text-align: center\">0</td><td style=\"text-align: center\">1</td><td style=\"text-align: center\">.</td><td style=\"text-align: center\">.</td><td style=\"text-align: center\">0</td><td style=\"text-align: center\">1</td><td style=\"text-align: center\">.</td><td style=\"text-align: center\">.</td><td style=\"text-align: center\">0</td><td style=\"text-align: center\">1</td><td style=\"text-align: center\">.</td><td style=\"text-align: center\">.</td><td style=\"text-align: center\">0</td><td style=\"text-align: center\">1</td><td style=\"text-align: center\">.</td><td style=\"text-align: center\">.</td><td style=\"text-align: center\">0</td><td style=\"text-align: center\">1</td><td style=\"text-align: center\">.</td><td style=\"text-align: center\">.</td><td style=\"text-align: center\">0</td><td style=\"text-align: center\">1</td><td style=\"text-align: center\">.</td><td style=\"text-align: center\">.</td><td style=\"text-align: center\">0</td><td style=\"text-align: center\">1</td><td style=\"text-align: center\">.</td><td style=\"text-align: center\">.</td><td style=\"text-align: center\">0</td><td style=\"text-align: center\">1</td><td style=\"text-align: center\">.</td><td style=\"text-align: center\">.</td><td style=\"text-align: center\">0</td><td style=\"text-align: center\">1</td><td style=\"text-align: center\">.</td><td style=\"text-align: center\">.</td></tr><tr><th style=\"text-align: center\">13</th><td style=\"text-align: center\">0</td><td style=\"text-align: center\">1</td><td style=\"text-align: center\">.</td><td style=\"text-align: center\">.</td><td style=\"text-align: center\">0</td><td style=\"text-align: center\">1</td><td style=\"text-align: center\">.</td><td style=\"text-align: center\">.</td><td style=\"text-align: center\">0</td><td style=\"text-align: center\">1</td><td style=\"text-align: center\">.</td><td style=\"text-align: center\">.</td><td style=\"text-align: center\">0</td><td style=\"text-align: center\">1</td><td style=\"text-align: center\">.</td><td style=\"text-align: center\">.</td><td style=\"text-align: center\">0</td><td style=\"text-align: center\">1</td><td style=\"text-align: center\">.</td><td style=\"text-align: center\">.</td><td style=\"text-align: center\">0</td><td style=\"text-align: center\">1</td><td style=\"text-align: center\">.</td><td style=\"text-align: center\">.</td><td style=\"text-align: center\">0</td><td style=\"text-align: center\">1</td><td style=\"text-align: center\">.</td><td style=\"text-align: center\">.</td><td style=\"text-align: center\">0</td><td style=\"text-align: center\">1</td><td style=\"text-align: center\">.</td><td style=\"text-align: center\">.</td><td style=\"text-align: center\">0</td><td style=\"text-align: center\">1</td><td style=\"text-align: center\">.</td><td style=\"text-align: center\">.</td><td style=\"text-align: center\">0</td><td style=\"text-align: center\">1</td><td style=\"text-align: center\">.</td><td style=\"text-align: center\">.</td><td style=\"text-align: center\">0</td><td style=\"text-align: center\">1</td><td style=\"text-align: center\">.</td><td style=\"text-align: center\">.</td><td style=\"text-align: center\">0</td><td style=\"text-align: center\">1</td><td style=\"text-align: center\">.</td><td style=\"text-align: center\">.</td><td style=\"text-align: center\">0</td><td style=\"text-align: center\">1</td><td style=\"text-align: center\">.</td><td style=\"text-align: center\">.</td><td style=\"text-align: center\">0</td><td style=\"text-align: center\">1</td><td style=\"text-align: center\">.</td><td style=\"text-align: center\">.</td><td style=\"text-align: center\">0</td><td style=\"text-align: center\">1</td><td style=\"text-align: center\">.</td><td style=\"text-align: center\">.</td><td style=\"text-align: center\">0</td><td style=\"text-align: center\">1</td><td style=\"text-align: center\">.</td><td style=\"text-align: center\">.</td><td style=\"text-align: center\">0</td><td style=\"text-align: center\">1</td><td style=\"text-align: center\">.</td><td style=\"text-align: center\">.</td><td style=\"text-align: center\">0</td><td style=\"text-align: center\">1</td><td style=\"text-align: center\">.</td><td style=\"text-align: center\">.</td><td style=\"text-align: center\">0</td><td style=\"text-align: center\">1</td><td style=\"text-align: center\">.</td><td style=\"text-align: center\">.</td><td style=\"text-align: center\">0</td><td style=\"text-align: center\">1</td><td style=\"text-align: center\">.</td><td style=\"text-align: center\">.</td></tr><tr><th style=\"text-align: center\">14</th><td style=\"text-align: center\">0</td><td style=\"text-align: center\">1</td><td style=\"text-align: center\">.</td><td style=\"text-align: center\">.</td><td style=\"text-align: center\">0</td><td style=\"text-align: center\">1</td><td style=\"text-align: center\">.</td><td style=\"text-align: center\">.</td><td style=\"text-align: center\">0</td><td style=\"text-align: center\">1</td><td style=\"text-align: center\">.</td><td style=\"text-align: center\">.</td><td style=\"text-align: center\">0</td><td style=\"text-align: center\">1</td><td style=\"text-align: center\">.</td><td style=\"text-align: center\">.</td><td style=\"text-align: center\">0</td><td style=\"text-align: center\">1</td><td style=\"text-align: center\">.</td><td style=\"text-align: center\">.</td><td style=\"text-align: center\">0</td><td style=\"text-align: center\">1</td><td style=\"text-align: center\">.</td><td style=\"text-align: center\">.</td><td style=\"text-align: center\">0</td><td style=\"text-align: center\">1</td><td style=\"text-align: center\">.</td><td style=\"text-align: center\">.</td><td style=\"text-align: center\">0</td><td style=\"text-align: center\">1</td><td style=\"text-align: center\">.</td><td style=\"text-align: center\">.</td><td style=\"text-align: center\">0</td><td style=\"text-align: center\">1</td><td style=\"text-align: center\">.</td><td style=\"text-align: center\">.</td><td style=\"text-align: center\">0</td><td style=\"text-align: center\">1</td><td style=\"text-align: center\">.</td><td style=\"text-align: center\">.</td><td style=\"text-align: center\">0</td><td style=\"text-align: center\">1</td><td style=\"text-align: center\">.</td><td style=\"text-align: center\">.</td><td style=\"text-align: center\">0</td><td style=\"text-align: center\">1</td><td style=\"text-align: center\">.</td><td style=\"text-align: center\">.</td><td style=\"text-align: center\">0</td><td style=\"text-align: center\">1</td><td style=\"text-align: center\">.</td><td style=\"text-align: center\">.</td><td style=\"text-align: center\">0</td><td style=\"text-align: center\">1</td><td style=\"text-align: center\">.</td><td style=\"text-align: center\">.</td><td style=\"text-align: center\">0</td><td style=\"text-align: center\">1</td><td style=\"text-align: center\">.</td><td style=\"text-align: center\">.</td><td style=\"text-align: center\">0</td><td style=\"text-align: center\">1</td><td style=\"text-align: center\">.</td><td style=\"text-align: center\">.</td><td style=\"text-align: center\">0</td><td style=\"text-align: center\">1</td><td style=\"text-align: center\">.</td><td style=\"text-align: center\">.</td><td style=\"text-align: center\">0</td><td style=\"text-align: center\">1</td><td style=\"text-align: center\">.</td><td style=\"text-align: center\">.</td><td style=\"text-align: center\">0</td><td style=\"text-align: center\">1</td><td style=\"text-align: center\">.</td><td style=\"text-align: center\">.</td><td style=\"text-align: center\">0</td><td style=\"text-align: center\">1</td><td style=\"text-align: center\">.</td><td style=\"text-align: center\">.</td></tr><tr><th style=\"text-align: center\">15</th><td style=\"text-align: center\">0</td><td style=\"text-align: center\">1</td><td style=\"text-align: center\">.</td><td style=\"text-align: center\">.</td><td style=\"text-align: center\">0</td><td style=\"text-align: center\">1</td><td style=\"text-align: center\">.</td><td style=\"text-align: center\">.</td><td style=\"text-align: center\">0</td><td style=\"text-align: center\">1</td><td style=\"text-align: center\">.</td><td style=\"text-align: center\">.</td><td style=\"text-align: center\">0</td><td style=\"text-align: center\">1</td><td style=\"text-align: center\">.</td><td style=\"text-align: center\">.</td><td style=\"text-align: center\">0</td><td style=\"text-align: center\">1</td><td style=\"text-align: center\">.</td><td style=\"text-align: center\">.</td><td style=\"text-align: center\">0</td><td style=\"text-align: center\">1</td><td style=\"text-align: center\">.</td><td style=\"text-align: center\">.</td><td style=\"text-align: center\">0</td><td style=\"text-align: center\">1</td><td style=\"text-align: center\">.</td><td style=\"text-align: center\">.</td><td style=\"text-align: center\">0</td><td style=\"text-align: center\">1</td><td style=\"text-align: center\">.</td><td style=\"text-align: center\">.</td><td style=\"text-align: center\">0</td><td style=\"text-align: center\">1</td><td style=\"text-align: center\">.</td><td style=\"text-align: center\">.</td><td style=\"text-align: center\">0</td><td style=\"text-align: center\">1</td><td style=\"text-align: center\">.</td><td style=\"text-align: center\">.</td><td style=\"text-align: center\">0</td><td style=\"text-align: center\">1</td><td style=\"text-align: center\">.</td><td style=\"text-align: center\">.</td><td style=\"text-align: center\">0</td><td style=\"text-align: center\">1</td><td style=\"text-align: center\">.</td><td style=\"text-align: center\">.</td><td style=\"text-align: center\">0</td><td style=\"text-align: center\">1</td><td style=\"text-align: center\">.</td><td style=\"text-align: center\">.</td><td style=\"text-align: center\">0</td><td style=\"text-align: center\">1</td><td style=\"text-align: center\">.</td><td style=\"text-align: center\">.</td><td style=\"text-align: center\">0</td><td style=\"text-align: center\">1</td><td style=\"text-align: center\">.</td><td style=\"text-align: center\">.</td><td style=\"text-align: center\">0</td><td style=\"text-align: center\">1</td><td style=\"text-align: center\">.</td><td style=\"text-align: center\">.</td><td style=\"text-align: center\">0</td><td style=\"text-align: center\">1</td><td style=\"text-align: center\">.</td><td style=\"text-align: center\">.</td><td style=\"text-align: center\">0</td><td style=\"text-align: center\">1</td><td style=\"text-align: center\">.</td><td style=\"text-align: center\">.</td><td style=\"text-align: center\">0</td><td style=\"text-align: center\">1</td><td style=\"text-align: center\">.</td><td style=\"text-align: center\">.</td><td style=\"text-align: center\">0</td><td style=\"text-align: center\">1</td><td style=\"text-align: center\">.</td><td style=\"text-align: center\">.</td></tr><tr><th style=\"text-align: center\">16</th><td style=\"text-align: center\">0</td><td style=\"text-align: center\">1</td><td style=\"text-align: center\">.</td><td style=\"text-align: center\">.</td><td style=\"text-align: center\">0</td><td style=\"text-align: center\">1</td><td style=\"text-align: center\">.</td><td style=\"text-align: center\">.</td><td style=\"text-align: center\">0</td><td style=\"text-align: center\">1</td><td style=\"text-align: center\">.</td><td style=\"text-align: center\">.</td><td style=\"text-align: center\">0</td><td style=\"text-align: center\">1</td><td style=\"text-align: center\">.</td><td style=\"text-align: center\">.</td><td style=\"text-align: center\">0</td><td style=\"text-align: center\">1</td><td style=\"text-align: center\">.</td><td style=\"text-align: center\">.</td><td style=\"text-align: center\">0</td><td style=\"text-align: center\">1</td><td style=\"text-align: center\">.</td><td style=\"text-align: center\">.</td><td style=\"text-align: center\">0</td><td style=\"text-align: center\">1</td><td style=\"text-align: center\">.</td><td style=\"text-align: center\">.</td><td style=\"text-align: center\">0</td><td style=\"text-align: center\">1</td><td style=\"text-align: center\">.</td><td style=\"text-align: center\">.</td><td style=\"text-align: center\">0</td><td style=\"text-align: center\">1</td><td style=\"text-align: center\">.</td><td style=\"text-align: center\">.</td><td style=\"text-align: center\">0</td><td style=\"text-align: center\">1</td><td style=\"text-align: center\">.</td><td style=\"text-align: center\">.</td><td style=\"text-align: center\">0</td><td style=\"text-align: center\">1</td><td style=\"text-align: center\">.</td><td style=\"text-align: center\">.</td><td style=\"text-align: center\">0</td><td style=\"text-align: center\">1</td><td style=\"text-align: center\">.</td><td style=\"text-align: center\">.</td><td style=\"text-align: center\">0</td><td style=\"text-align: center\">1</td><td style=\"text-align: center\">.</td><td style=\"text-align: center\">.</td><td style=\"text-align: center\">0</td><td style=\"text-align: center\">1</td><td style=\"text-align: center\">.</td><td style=\"text-align: center\">.</td><td style=\"text-align: center\">0</td><td style=\"text-align: center\">1</td><td style=\"text-align: center\">.</td><td style=\"text-align: center\">.</td><td style=\"text-align: center\">0</td><td style=\"text-align: center\">1</td><td style=\"text-align: center\">.</td><td style=\"text-align: center\">.</td><td style=\"text-align: center\">0</td><td style=\"text-align: center\">1</td><td style=\"text-align: center\">.</td><td style=\"text-align: center\">.</td><td style=\"text-align: center\">0</td><td style=\"text-align: center\">1</td><td style=\"text-align: center\">.</td><td style=\"text-align: center\">.</td><td style=\"text-align: center\">0</td><td style=\"text-align: center\">1</td><td style=\"text-align: center\">.</td><td style=\"text-align: center\">.</td><td style=\"text-align: center\">0</td><td style=\"text-align: center\">1</td><td style=\"text-align: center\">.</td><td style=\"text-align: center\">.</td></tr><tr><th style=\"text-align: center\">17</th><td style=\"text-align: center\">0</td><td style=\"text-align: center\">1</td><td style=\"text-align: center\">.</td><td style=\"text-align: center\">.</td><td style=\"text-align: center\">0</td><td style=\"text-align: center\">1</td><td style=\"text-align: center\">.</td><td style=\"text-align: center\">.</td><td style=\"text-align: center\">0</td><td style=\"text-align: center\">1</td><td style=\"text-align: center\">.</td><td style=\"text-align: center\">.</td><td style=\"text-align: center\">0</td><td style=\"text-align: center\">1</td><td style=\"text-align: center\">.</td><td style=\"text-align: center\">.</td><td style=\"text-align: center\">0</td><td style=\"text-align: center\">1</td><td style=\"text-align: center\">.</td><td style=\"text-align: center\">.</td><td style=\"text-align: center\">0</td><td style=\"text-align: center\">1</td><td style=\"text-align: center\">.</td><td style=\"text-align: center\">.</td><td style=\"text-align: center\">0</td><td style=\"text-align: center\">1</td><td style=\"text-align: center\">.</td><td style=\"text-align: center\">.</td><td style=\"text-align: center\">0</td><td style=\"text-align: center\">1</td><td style=\"text-align: center\">.</td><td style=\"text-align: center\">.</td><td style=\"text-align: center\">0</td><td style=\"text-align: center\">1</td><td style=\"text-align: center\">.</td><td style=\"text-align: center\">.</td><td style=\"text-align: center\">0</td><td style=\"text-align: center\">1</td><td style=\"text-align: center\">.</td><td style=\"text-align: center\">.</td><td style=\"text-align: center\">0</td><td style=\"text-align: center\">1</td><td style=\"text-align: center\">.</td><td style=\"text-align: center\">.</td><td style=\"text-align: center\">0</td><td style=\"text-align: center\">1</td><td style=\"text-align: center\">.</td><td style=\"text-align: center\">.</td><td style=\"text-align: center\">0</td><td style=\"text-align: center\">1</td><td style=\"text-align: center\">.</td><td style=\"text-align: center\">.</td><td style=\"text-align: center\">0</td><td style=\"text-align: center\">1</td><td style=\"text-align: center\">.</td><td style=\"text-align: center\">.</td><td style=\"text-align: center\">0</td><td style=\"text-align: center\">1</td><td style=\"text-align: center\">.</td><td style=\"text-align: center\">.</td><td style=\"text-align: center\">0</td><td style=\"text-align: center\">1</td><td style=\"text-align: center\">.</td><td style=\"text-align: center\">.</td><td style=\"text-align: center\">0</td><td style=\"text-align: center\">1</td><td style=\"text-align: center\">.</td><td style=\"text-align: center\">.</td><td style=\"text-align: center\">0</td><td style=\"text-align: center\">1</td><td style=\"text-align: center\">.</td><td style=\"text-align: center\">.</td><td style=\"text-align: center\">0</td><td style=\"text-align: center\">1</td><td style=\"text-align: center\">.</td><td style=\"text-align: center\">.</td><td style=\"text-align: center\">0</td><td style=\"text-align: center\">1</td><td style=\"text-align: center\">.</td><td style=\"text-align: center\">.</td></tr><tr><th style=\"text-align: center\">18</th><td style=\"text-align: center\">0</td><td style=\"text-align: center\">1</td><td style=\"text-align: center\">.</td><td style=\"text-align: center\">.</td><td style=\"text-align: center\">0</td><td style=\"text-align: center\">1</td><td style=\"text-align: center\">.</td><td style=\"text-align: center\">.</td><td style=\"text-align: center\">0</td><td style=\"text-align: center\">1</td><td style=\"text-align: center\">.</td><td style=\"text-align: center\">.</td><td style=\"text-align: center\">0</td><td style=\"text-align: center\">1</td><td style=\"text-align: center\">.</td><td style=\"text-align: center\">.</td><td style=\"text-align: center\">0</td><td style=\"text-align: center\">1</td><td style=\"text-align: center\">.</td><td style=\"text-align: center\">.</td><td style=\"text-align: center\">0</td><td style=\"text-align: center\">1</td><td style=\"text-align: center\">.</td><td style=\"text-align: center\">.</td><td style=\"text-align: center\">0</td><td style=\"text-align: center\">1</td><td style=\"text-align: center\">.</td><td style=\"text-align: center\">.</td><td style=\"text-align: center\">0</td><td style=\"text-align: center\">1</td><td style=\"text-align: center\">.</td><td style=\"text-align: center\">.</td><td style=\"text-align: center\">0</td><td style=\"text-align: center\">1</td><td style=\"text-align: center\">.</td><td style=\"text-align: center\">.</td><td style=\"text-align: center\">0</td><td style=\"text-align: center\">1</td><td style=\"text-align: center\">.</td><td style=\"text-align: center\">.</td><td style=\"text-align: center\">0</td><td style=\"text-align: center\">1</td><td style=\"text-align: center\">.</td><td style=\"text-align: center\">.</td><td style=\"text-align: center\">0</td><td style=\"text-align: center\">1</td><td style=\"text-align: center\">.</td><td style=\"text-align: center\">.</td><td style=\"text-align: center\">0</td><td style=\"text-align: center\">1</td><td style=\"text-align: center\">.</td><td style=\"text-align: center\">.</td><td style=\"text-align: center\">0</td><td style=\"text-align: center\">1</td><td style=\"text-align: center\">.</td><td style=\"text-align: center\">.</td><td style=\"text-align: center\">0</td><td style=\"text-align: center\">1</td><td style=\"text-align: center\">.</td><td style=\"text-align: center\">.</td><td style=\"text-align: center\">0</td><td style=\"text-align: center\">1</td><td style=\"text-align: center\">.</td><td style=\"text-align: center\">.</td><td style=\"text-align: center\">0</td><td style=\"text-align: center\">1</td><td style=\"text-align: center\">.</td><td style=\"text-align: center\">.</td><td style=\"text-align: center\">0</td><td style=\"text-align: center\">1</td><td style=\"text-align: center\">.</td><td style=\"text-align: center\">.</td><td style=\"text-align: center\">0</td><td style=\"text-align: center\">1</td><td style=\"text-align: center\">.</td><td style=\"text-align: center\">.</td><td style=\"text-align: center\">0</td><td style=\"text-align: center\">1</td><td style=\"text-align: center\">.</td><td style=\"text-align: center\">.</td></tr><tr><th style=\"text-align: center\">19</th><td style=\"text-align: center\">0</td><td style=\"text-align: center\">1</td><td style=\"text-align: center\">.</td><td style=\"text-align: center\">.</td><td style=\"text-align: center\">0</td><td style=\"text-align: center\">1</td><td style=\"text-align: center\">.</td><td style=\"text-align: center\">.</td><td style=\"text-align: center\">0</td><td style=\"text-align: center\">1</td><td style=\"text-align: center\">.</td><td style=\"text-align: center\">.</td><td style=\"text-align: center\">0</td><td style=\"text-align: center\">1</td><td style=\"text-align: center\">.</td><td style=\"text-align: center\">.</td><td style=\"text-align: center\">0</td><td style=\"text-align: center\">1</td><td style=\"text-align: center\">.</td><td style=\"text-align: center\">.</td><td style=\"text-align: center\">0</td><td style=\"text-align: center\">1</td><td style=\"text-align: center\">.</td><td style=\"text-align: center\">.</td><td style=\"text-align: center\">0</td><td style=\"text-align: center\">1</td><td style=\"text-align: center\">.</td><td style=\"text-align: center\">.</td><td style=\"text-align: center\">0</td><td style=\"text-align: center\">1</td><td style=\"text-align: center\">.</td><td style=\"text-align: center\">.</td><td style=\"text-align: center\">0</td><td style=\"text-align: center\">1</td><td style=\"text-align: center\">.</td><td style=\"text-align: center\">.</td><td style=\"text-align: center\">0</td><td style=\"text-align: center\">1</td><td style=\"text-align: center\">.</td><td style=\"text-align: center\">.</td><td style=\"text-align: center\">0</td><td style=\"text-align: center\">1</td><td style=\"text-align: center\">.</td><td style=\"text-align: center\">.</td><td style=\"text-align: center\">0</td><td style=\"text-align: center\">1</td><td style=\"text-align: center\">.</td><td style=\"text-align: center\">.</td><td style=\"text-align: center\">0</td><td style=\"text-align: center\">1</td><td style=\"text-align: center\">.</td><td style=\"text-align: center\">.</td><td style=\"text-align: center\">0</td><td style=\"text-align: center\">1</td><td style=\"text-align: center\">.</td><td style=\"text-align: center\">.</td><td style=\"text-align: center\">0</td><td style=\"text-align: center\">1</td><td style=\"text-align: center\">.</td><td style=\"text-align: center\">.</td><td style=\"text-align: center\">0</td><td style=\"text-align: center\">1</td><td style=\"text-align: center\">.</td><td style=\"text-align: center\">.</td><td style=\"text-align: center\">0</td><td style=\"text-align: center\">1</td><td style=\"text-align: center\">.</td><td style=\"text-align: center\">.</td><td style=\"text-align: center\">0</td><td style=\"text-align: center\">1</td><td style=\"text-align: center\">.</td><td style=\"text-align: center\">.</td><td style=\"text-align: center\">0</td><td style=\"text-align: center\">1</td><td style=\"text-align: center\">.</td><td style=\"text-align: center\">.</td><td style=\"text-align: center\">0</td><td style=\"text-align: center\">1</td><td style=\"text-align: center\">.</td><td style=\"text-align: center\">.</td></tr></table>"
      ]
     },
     "metadata": {},
     "output_type": "display_data"
    }
   ],
   "source": [
    "h.displayall()"
   ]
  },
  {
   "cell_type": "code",
   "execution_count": 99,
   "metadata": {
    "collapsed": false
   },
   "outputs": [
    {
     "data": {
      "text/html": [
       "AlleleCountsArray((20, 2), dtype=int32)<br/><table><tr><th></th><th style=\"text-align: center\">0</th><th style=\"text-align: center\">1</th></tr><tr><th style=\"text-align: center\">0</th><td style=\"text-align: center\">20</td><td style=\"text-align: center\">20</td></tr><tr><th style=\"text-align: center\">1</th><td style=\"text-align: center\">20</td><td style=\"text-align: center\">20</td></tr><tr><th style=\"text-align: center\">2</th><td style=\"text-align: center\">20</td><td style=\"text-align: center\">20</td></tr><tr><td>...</td><td colspan=\"2\"></td></tr><tr><th style=\"text-align: center\">17</th><td style=\"text-align: center\">20</td><td style=\"text-align: center\">20</td></tr><tr><th style=\"text-align: center\">18</th><td style=\"text-align: center\">20</td><td style=\"text-align: center\">20</td></tr><tr><th style=\"text-align: center\">19</th><td style=\"text-align: center\">20</td><td style=\"text-align: center\">20</td></tr></table>"
      ],
      "text/plain": [
       "AlleleCountsArray((20, 2), dtype=int32)\n",
       "20 20\n",
       "20 20\n",
       "20 20\n",
       "...\n",
       "20 20\n",
       "20 20\n",
       "20 20"
      ]
     },
     "execution_count": 99,
     "metadata": {},
     "output_type": "execute_result"
    }
   ],
   "source": [
    "ac = g.count_alleles()\n",
    "ac"
   ]
  },
  {
   "cell_type": "code",
   "execution_count": 100,
   "metadata": {
    "collapsed": false
   },
   "outputs": [
    {
     "data": {
      "text/html": [
       "AlleleCountsArray((20, 2), dtype=int32)<br/><table><tr><th></th><th style=\"text-align: center\">0</th><th style=\"text-align: center\">1</th></tr><tr><th style=\"text-align: center\">0</th><td style=\"text-align: center\">20</td><td style=\"text-align: center\">20</td></tr><tr><th style=\"text-align: center\">1</th><td style=\"text-align: center\">20</td><td style=\"text-align: center\">20</td></tr><tr><th style=\"text-align: center\">2</th><td style=\"text-align: center\">20</td><td style=\"text-align: center\">20</td></tr><tr><th style=\"text-align: center\">3</th><td style=\"text-align: center\">20</td><td style=\"text-align: center\">20</td></tr><tr><th style=\"text-align: center\">4</th><td style=\"text-align: center\">20</td><td style=\"text-align: center\">20</td></tr><tr><th style=\"text-align: center\">5</th><td style=\"text-align: center\">20</td><td style=\"text-align: center\">20</td></tr><tr><th style=\"text-align: center\">6</th><td style=\"text-align: center\">20</td><td style=\"text-align: center\">20</td></tr><tr><th style=\"text-align: center\">7</th><td style=\"text-align: center\">20</td><td style=\"text-align: center\">20</td></tr><tr><th style=\"text-align: center\">8</th><td style=\"text-align: center\">20</td><td style=\"text-align: center\">20</td></tr><tr><th style=\"text-align: center\">9</th><td style=\"text-align: center\">20</td><td style=\"text-align: center\">20</td></tr><tr><th style=\"text-align: center\">10</th><td style=\"text-align: center\">20</td><td style=\"text-align: center\">20</td></tr><tr><th style=\"text-align: center\">11</th><td style=\"text-align: center\">20</td><td style=\"text-align: center\">20</td></tr><tr><th style=\"text-align: center\">12</th><td style=\"text-align: center\">20</td><td style=\"text-align: center\">20</td></tr><tr><th style=\"text-align: center\">13</th><td style=\"text-align: center\">20</td><td style=\"text-align: center\">20</td></tr><tr><th style=\"text-align: center\">14</th><td style=\"text-align: center\">20</td><td style=\"text-align: center\">20</td></tr><tr><th style=\"text-align: center\">15</th><td style=\"text-align: center\">20</td><td style=\"text-align: center\">20</td></tr><tr><th style=\"text-align: center\">16</th><td style=\"text-align: center\">20</td><td style=\"text-align: center\">20</td></tr><tr><th style=\"text-align: center\">17</th><td style=\"text-align: center\">20</td><td style=\"text-align: center\">20</td></tr><tr><th style=\"text-align: center\">18</th><td style=\"text-align: center\">20</td><td style=\"text-align: center\">20</td></tr><tr><th style=\"text-align: center\">19</th><td style=\"text-align: center\">20</td><td style=\"text-align: center\">20</td></tr></table>"
      ]
     },
     "metadata": {},
     "output_type": "display_data"
    }
   ],
   "source": [
    "ac.displayall()"
   ]
  },
  {
   "cell_type": "code",
   "execution_count": 101,
   "metadata": {
    "collapsed": false
   },
   "outputs": [
    {
     "name": "stdout",
     "output_type": "stream",
     "text": [
      "20 20\n",
      "20 20\n",
      "20 20\n",
      "...\n",
      "20 20\n",
      "20 20\n",
      "20 20\n",
      "\n"
     ]
    }
   ],
   "source": [
    "print(ac)"
   ]
  },
  {
   "cell_type": "code",
   "execution_count": 102,
   "metadata": {
    "collapsed": false
   },
   "outputs": [
    {
     "name": "stdout",
     "output_type": "stream",
     "text": [
      "AlleleCountsArray((20, 2), dtype=int32)\n",
      "20 20\n",
      "20 20\n",
      "20 20\n",
      "...\n",
      "20 20\n",
      "20 20\n",
      "20 20\n",
      "\n"
     ]
    }
   ],
   "source": [
    "print(repr(ac))"
   ]
  },
  {
   "cell_type": "code",
   "execution_count": 103,
   "metadata": {
    "collapsed": false
   },
   "outputs": [
    {
     "data": {
      "text/html": [
       "AlleleCountsArray((20, 2), dtype=int32)<br/><table><tr><th></th><th style=\"text-align: center\">0</th><th style=\"text-align: center\">1</th></tr><tr><th style=\"text-align: center\">0</th><td style=\"text-align: center\">25</td><td style=\"text-align: center\">25</td></tr><tr><th style=\"text-align: center\">1</th><td style=\"text-align: center\">25</td><td style=\"text-align: center\">25</td></tr><tr><th style=\"text-align: center\">2</th><td style=\"text-align: center\">25</td><td style=\"text-align: center\">25</td></tr><tr><td>...</td><td colspan=\"2\"></td></tr><tr><th style=\"text-align: center\">17</th><td style=\"text-align: center\">25</td><td style=\"text-align: center\">25</td></tr><tr><th style=\"text-align: center\">18</th><td style=\"text-align: center\">25</td><td style=\"text-align: center\">25</td></tr><tr><th style=\"text-align: center\">19</th><td style=\"text-align: center\">25</td><td style=\"text-align: center\">25</td></tr></table>"
      ],
      "text/plain": [
       "AlleleCountsArray((20, 2), dtype=int32)\n",
       "25 25\n",
       "25 25\n",
       "25 25\n",
       "...\n",
       "25 25\n",
       "25 25\n",
       "25 25"
      ]
     },
     "execution_count": 103,
     "metadata": {},
     "output_type": "execute_result"
    }
   ],
   "source": [
    "ac + 5"
   ]
  },
  {
   "cell_type": "code",
   "execution_count": 104,
   "metadata": {
    "collapsed": false
   },
   "outputs": [
    {
     "data": {
      "text/html": [
       "AlleleCountsArray((20, 2), dtype=int32)<br/><table><tr><th></th><th style=\"text-align: center\">0</th><th style=\"text-align: center\">1</th></tr><tr><th style=\"text-align: center\">0</th><td style=\"text-align: center\">40</td><td style=\"text-align: center\">40</td></tr><tr><th style=\"text-align: center\">1</th><td style=\"text-align: center\">40</td><td style=\"text-align: center\">40</td></tr><tr><th style=\"text-align: center\">2</th><td style=\"text-align: center\">40</td><td style=\"text-align: center\">40</td></tr><tr><td>...</td><td colspan=\"2\"></td></tr><tr><th style=\"text-align: center\">17</th><td style=\"text-align: center\">40</td><td style=\"text-align: center\">40</td></tr><tr><th style=\"text-align: center\">18</th><td style=\"text-align: center\">40</td><td style=\"text-align: center\">40</td></tr><tr><th style=\"text-align: center\">19</th><td style=\"text-align: center\">40</td><td style=\"text-align: center\">40</td></tr></table>"
      ],
      "text/plain": [
       "AlleleCountsArray((20, 2), dtype=int32)\n",
       "40 40\n",
       "40 40\n",
       "40 40\n",
       "...\n",
       "40 40\n",
       "40 40\n",
       "40 40"
      ]
     },
     "execution_count": 104,
     "metadata": {},
     "output_type": "execute_result"
    }
   ],
   "source": [
    "ac + ac"
   ]
  },
  {
   "cell_type": "code",
   "execution_count": 105,
   "metadata": {
    "collapsed": false
   },
   "outputs": [
    {
     "data": {
      "text/plain": [
       "array([[20, 20],\n",
       "       [20, 20],\n",
       "       [20, 20],\n",
       "       [20, 20],\n",
       "       [20, 20],\n",
       "       [20, 20],\n",
       "       [20, 20],\n",
       "       [20, 20],\n",
       "       [20, 20],\n",
       "       [20, 20],\n",
       "       [20, 20],\n",
       "       [20, 20],\n",
       "       [20, 20],\n",
       "       [20, 20],\n",
       "       [20, 20],\n",
       "       [20, 20],\n",
       "       [20, 20],\n",
       "       [20, 20],\n",
       "       [20, 20],\n",
       "       [20, 20],\n",
       "       [20, 20],\n",
       "       [20, 20],\n",
       "       [20, 20],\n",
       "       [20, 20],\n",
       "       [20, 20],\n",
       "       [20, 20],\n",
       "       [20, 20],\n",
       "       [20, 20],\n",
       "       [20, 20],\n",
       "       [20, 20],\n",
       "       [20, 20],\n",
       "       [20, 20],\n",
       "       [20, 20],\n",
       "       [20, 20],\n",
       "       [20, 20],\n",
       "       [20, 20],\n",
       "       [20, 20],\n",
       "       [20, 20],\n",
       "       [20, 20],\n",
       "       [20, 20]], dtype=int32)"
      ]
     },
     "execution_count": 105,
     "metadata": {},
     "output_type": "execute_result"
    }
   ],
   "source": [
    "ac.vstack(ac)"
   ]
  },
  {
   "cell_type": "markdown",
   "metadata": {},
   "source": [
    "## Legacy"
   ]
  },
  {
   "cell_type": "code",
   "execution_count": null,
   "metadata": {
    "collapsed": true
   },
   "outputs": [],
   "source": []
  },
  {
   "cell_type": "code",
   "execution_count": 2,
   "metadata": {
    "collapsed": true
   },
   "outputs": [],
   "source": [
    "# setup an array of genotype calls\n",
    "shape = n_variants, n_samples, ploidy = 50000, 1000, 2\n",
    "data = np.zeros(shape, dtype='i1')\n",
    "# simulate some mutations\n",
    "n_alleles = n_variants * n_samples * ploidy\n",
    "idx = np.random.randint(0, (n_alleles//2)-1, size=n_alleles//20)\n",
    "data[:, :, 1].reshape((-1))[idx] = 1\n",
    "data[:, :, 0].reshape((-1))[idx[:n_alleles//200]] = 1\n",
    "g = allel.GenotypeArray(data, copy=False)"
   ]
  },
  {
   "cell_type": "code",
   "execution_count": 3,
   "metadata": {
    "collapsed": false
   },
   "outputs": [
    {
     "data": {
      "text/html": [
       "<table class='petl'>\n",
       "<caption>GenotypeArray((50000, 1000, 2), dtype=int8)</caption>\n",
       "<thead>\n",
       "<tr>\n",
       "<th></th>\n",
       "<th>0</th>\n",
       "<th>1</th>\n",
       "<th>2</th>\n",
       "<th>3</th>\n",
       "<th>4</th>\n",
       "<th>...</th>\n",
       "<th>995</th>\n",
       "<th>996</th>\n",
       "<th>997</th>\n",
       "<th>998</th>\n",
       "<th>999</th>\n",
       "</tr>\n",
       "</thead>\n",
       "<tbody>\n",
       "<tr>\n",
       "<td style='font-weight: bold'>0</td>\n",
       "<td>0/0</td>\n",
       "<td>0/0</td>\n",
       "<td>0/0</td>\n",
       "<td>0/0</td>\n",
       "<td>0/0</td>\n",
       "<td>...</td>\n",
       "<td>0/0</td>\n",
       "<td>0/0</td>\n",
       "<td>0/0</td>\n",
       "<td>0/0</td>\n",
       "<td>0/0</td>\n",
       "</tr>\n",
       "<tr>\n",
       "<td style='font-weight: bold'>1</td>\n",
       "<td>0/0</td>\n",
       "<td>0/0</td>\n",
       "<td>0/0</td>\n",
       "<td>0/0</td>\n",
       "<td>0/0</td>\n",
       "<td>...</td>\n",
       "<td>0/0</td>\n",
       "<td>1/1</td>\n",
       "<td>0/0</td>\n",
       "<td>0/0</td>\n",
       "<td>0/0</td>\n",
       "</tr>\n",
       "<tr>\n",
       "<td style='font-weight: bold'>2</td>\n",
       "<td>0/0</td>\n",
       "<td>0/0</td>\n",
       "<td>0/0</td>\n",
       "<td>0/0</td>\n",
       "<td>0/0</td>\n",
       "<td>...</td>\n",
       "<td>0/0</td>\n",
       "<td>0/0</td>\n",
       "<td>0/0</td>\n",
       "<td>0/0</td>\n",
       "<td>0/0</td>\n",
       "</tr>\n",
       "<tr>\n",
       "<td style='font-weight: bold'>3</td>\n",
       "<td>0/0</td>\n",
       "<td>0/0</td>\n",
       "<td>0/0</td>\n",
       "<td>0/0</td>\n",
       "<td>0/0</td>\n",
       "<td>...</td>\n",
       "<td>0/0</td>\n",
       "<td>0/0</td>\n",
       "<td>0/0</td>\n",
       "<td>0/0</td>\n",
       "<td>0/0</td>\n",
       "</tr>\n",
       "<tr>\n",
       "<td style='font-weight: bold'>4</td>\n",
       "<td>0/0</td>\n",
       "<td>0/0</td>\n",
       "<td>0/0</td>\n",
       "<td>0/0</td>\n",
       "<td>0/0</td>\n",
       "<td>...</td>\n",
       "<td>0/0</td>\n",
       "<td>0/0</td>\n",
       "<td>0/0</td>\n",
       "<td>1/1</td>\n",
       "<td>0/0</td>\n",
       "</tr>\n",
       "</tbody>\n",
       "</table>\n",
       "<p><strong>...</strong></p>"
      ],
      "text/plain": [
       "GenotypeArray((50000, 1000, 2), dtype=int8)\n",
       "[[[0 0]\n",
       "  [0 0]\n",
       "  [0 0]\n",
       "  ..., \n",
       "  [0 0]\n",
       "  [0 0]\n",
       "  [0 0]]\n",
       "\n",
       " [[0 0]\n",
       "  [0 0]\n",
       "  [0 0]\n",
       "  ..., \n",
       "  [0 0]\n",
       "  [0 0]\n",
       "  [0 0]]\n",
       "\n",
       " [[0 0]\n",
       "  [0 0]\n",
       "  [0 0]\n",
       "  ..., \n",
       "  [0 0]\n",
       "  [0 0]\n",
       "  [0 0]]\n",
       "\n",
       " ..., \n",
       " [[0 1]\n",
       "  [0 0]\n",
       "  [0 0]\n",
       "  ..., \n",
       "  [0 1]\n",
       "  [0 0]\n",
       "  [0 0]]\n",
       "\n",
       " [[0 0]\n",
       "  [0 0]\n",
       "  [0 0]\n",
       "  ..., \n",
       "  [0 0]\n",
       "  [0 0]\n",
       "  [0 0]]\n",
       "\n",
       " [[0 0]\n",
       "  [0 0]\n",
       "  [0 0]\n",
       "  ..., \n",
       "  [0 0]\n",
       "  [0 0]\n",
       "  [0 0]]]"
      ]
     },
     "execution_count": 3,
     "metadata": {},
     "output_type": "execute_result"
    }
   ],
   "source": [
    "g"
   ]
  },
  {
   "cell_type": "code",
   "execution_count": 4,
   "metadata": {
    "collapsed": false
   },
   "outputs": [
    {
     "data": {
      "text/html": [
       "<table class='petl'>\n",
       "<caption>GenotypeArray((50000, 3, 2), dtype=int8)</caption>\n",
       "<thead>\n",
       "<tr>\n",
       "<th></th>\n",
       "<th>0</th>\n",
       "<th>1</th>\n",
       "<th>2</th>\n",
       "</tr>\n",
       "</thead>\n",
       "<tbody>\n",
       "<tr>\n",
       "<td style='font-weight: bold'>0</td>\n",
       "<td>0/0</td>\n",
       "<td>0/0</td>\n",
       "<td>0/0</td>\n",
       "</tr>\n",
       "<tr>\n",
       "<td style='font-weight: bold'>1</td>\n",
       "<td>0/0</td>\n",
       "<td>0/0</td>\n",
       "<td>0/0</td>\n",
       "</tr>\n",
       "<tr>\n",
       "<td style='font-weight: bold'>2</td>\n",
       "<td>0/0</td>\n",
       "<td>0/0</td>\n",
       "<td>0/0</td>\n",
       "</tr>\n",
       "<tr>\n",
       "<td style='font-weight: bold'>3</td>\n",
       "<td>0/0</td>\n",
       "<td>0/0</td>\n",
       "<td>0/0</td>\n",
       "</tr>\n",
       "<tr>\n",
       "<td style='font-weight: bold'>4</td>\n",
       "<td>0/0</td>\n",
       "<td>0/0</td>\n",
       "<td>0/0</td>\n",
       "</tr>\n",
       "</tbody>\n",
       "</table>\n",
       "<p><strong>...</strong></p>"
      ],
      "text/plain": [
       "GenotypeArray((50000, 3, 2), dtype=int8)\n",
       "[[[0 0]\n",
       "  [0 0]\n",
       "  [0 0]]\n",
       "\n",
       " [[0 0]\n",
       "  [0 0]\n",
       "  [0 0]]\n",
       "\n",
       " [[0 0]\n",
       "  [0 0]\n",
       "  [0 0]]\n",
       "\n",
       " ..., \n",
       " [[0 1]\n",
       "  [0 0]\n",
       "  [0 0]]\n",
       "\n",
       " [[0 0]\n",
       "  [0 0]\n",
       "  [0 0]]\n",
       "\n",
       " [[0 0]\n",
       "  [0 0]\n",
       "  [0 0]]]"
      ]
     },
     "execution_count": 4,
     "metadata": {},
     "output_type": "execute_result"
    }
   ],
   "source": [
    "g.take([0, 1, 2], axis=1)"
   ]
  },
  {
   "cell_type": "code",
   "execution_count": 5,
   "metadata": {
    "collapsed": false
   },
   "outputs": [
    {
     "data": {
      "text/html": [
       "<table class='petl'>\n",
       "<caption>HaplotypeArray((50000, 2000), dtype=int8)</caption>\n",
       "<thead>\n",
       "<tr>\n",
       "<th></th>\n",
       "<th>0</th>\n",
       "<th>1</th>\n",
       "<th>2</th>\n",
       "<th>3</th>\n",
       "<th>4</th>\n",
       "<th>...</th>\n",
       "<th>1995</th>\n",
       "<th>1996</th>\n",
       "<th>1997</th>\n",
       "<th>1998</th>\n",
       "<th>1999</th>\n",
       "</tr>\n",
       "</thead>\n",
       "<tbody>\n",
       "<tr>\n",
       "<td style='font-weight: bold'>0</td>\n",
       "<td>0</td>\n",
       "<td>0</td>\n",
       "<td>0</td>\n",
       "<td>0</td>\n",
       "<td>0</td>\n",
       "<td>...</td>\n",
       "<td>0</td>\n",
       "<td>0</td>\n",
       "<td>0</td>\n",
       "<td>0</td>\n",
       "<td>0</td>\n",
       "</tr>\n",
       "<tr>\n",
       "<td style='font-weight: bold'>1</td>\n",
       "<td>0</td>\n",
       "<td>0</td>\n",
       "<td>0</td>\n",
       "<td>0</td>\n",
       "<td>0</td>\n",
       "<td>...</td>\n",
       "<td>0</td>\n",
       "<td>0</td>\n",
       "<td>0</td>\n",
       "<td>0</td>\n",
       "<td>0</td>\n",
       "</tr>\n",
       "<tr>\n",
       "<td style='font-weight: bold'>2</td>\n",
       "<td>0</td>\n",
       "<td>0</td>\n",
       "<td>0</td>\n",
       "<td>0</td>\n",
       "<td>0</td>\n",
       "<td>...</td>\n",
       "<td>0</td>\n",
       "<td>0</td>\n",
       "<td>0</td>\n",
       "<td>0</td>\n",
       "<td>0</td>\n",
       "</tr>\n",
       "<tr>\n",
       "<td style='font-weight: bold'>3</td>\n",
       "<td>0</td>\n",
       "<td>0</td>\n",
       "<td>0</td>\n",
       "<td>0</td>\n",
       "<td>0</td>\n",
       "<td>...</td>\n",
       "<td>0</td>\n",
       "<td>0</td>\n",
       "<td>0</td>\n",
       "<td>0</td>\n",
       "<td>0</td>\n",
       "</tr>\n",
       "<tr>\n",
       "<td style='font-weight: bold'>4</td>\n",
       "<td>0</td>\n",
       "<td>0</td>\n",
       "<td>0</td>\n",
       "<td>0</td>\n",
       "<td>0</td>\n",
       "<td>...</td>\n",
       "<td>0</td>\n",
       "<td>1</td>\n",
       "<td>1</td>\n",
       "<td>0</td>\n",
       "<td>0</td>\n",
       "</tr>\n",
       "</tbody>\n",
       "</table>\n",
       "<p><strong>...</strong></p>"
      ],
      "text/plain": [
       "HaplotypeArray((50000, 2000), dtype=int8)\n",
       "[[0 0 0 ..., 0 0 0]\n",
       " [0 0 0 ..., 0 0 0]\n",
       " [0 0 0 ..., 0 0 0]\n",
       " ..., \n",
       " [0 1 0 ..., 0 0 0]\n",
       " [0 0 0 ..., 0 0 0]\n",
       " [0 0 0 ..., 0 0 0]]"
      ]
     },
     "execution_count": 5,
     "metadata": {},
     "output_type": "execute_result"
    }
   ],
   "source": [
    "h = g.to_haplotypes()\n",
    "h"
   ]
  },
  {
   "cell_type": "code",
   "execution_count": 6,
   "metadata": {
    "collapsed": false
   },
   "outputs": [
    {
     "data": {
      "text/html": [
       "<table class='petl'>\n",
       "<caption>HaplotypeArray((50000, 3), dtype=int8)</caption>\n",
       "<thead>\n",
       "<tr>\n",
       "<th></th>\n",
       "<th>0</th>\n",
       "<th>1</th>\n",
       "<th>2</th>\n",
       "</tr>\n",
       "</thead>\n",
       "<tbody>\n",
       "<tr>\n",
       "<td style='font-weight: bold'>0</td>\n",
       "<td>0</td>\n",
       "<td>0</td>\n",
       "<td>0</td>\n",
       "</tr>\n",
       "<tr>\n",
       "<td style='font-weight: bold'>1</td>\n",
       "<td>0</td>\n",
       "<td>0</td>\n",
       "<td>0</td>\n",
       "</tr>\n",
       "<tr>\n",
       "<td style='font-weight: bold'>2</td>\n",
       "<td>0</td>\n",
       "<td>0</td>\n",
       "<td>0</td>\n",
       "</tr>\n",
       "<tr>\n",
       "<td style='font-weight: bold'>3</td>\n",
       "<td>0</td>\n",
       "<td>0</td>\n",
       "<td>0</td>\n",
       "</tr>\n",
       "<tr>\n",
       "<td style='font-weight: bold'>4</td>\n",
       "<td>0</td>\n",
       "<td>0</td>\n",
       "<td>0</td>\n",
       "</tr>\n",
       "</tbody>\n",
       "</table>\n",
       "<p><strong>...</strong></p>"
      ],
      "text/plain": [
       "HaplotypeArray((50000, 3), dtype=int8)\n",
       "[[0 0 0]\n",
       " [0 0 0]\n",
       " [0 0 0]\n",
       " ..., \n",
       " [0 1 0]\n",
       " [0 0 0]\n",
       " [0 0 0]]"
      ]
     },
     "execution_count": 6,
     "metadata": {},
     "output_type": "execute_result"
    }
   ],
   "source": [
    "h.take([0, 1, 2], axis=1)"
   ]
  },
  {
   "cell_type": "code",
   "execution_count": 7,
   "metadata": {
    "collapsed": false
   },
   "outputs": [
    {
     "data": {
      "text/html": [
       "<table class='petl'>\n",
       "<caption>GenotypeChunkedArray((50000, 1000, 2), int8, nbytes=95.4M, cbytes=16.0M, cratio=6.0, cname=blosclz, clevel=5, shuffle=True, chunks=(262, 1000, 2), data=bcolz.carray_ext.carray)</caption>\n",
       "<thead>\n",
       "<tr>\n",
       "<th></th>\n",
       "<th>0</th>\n",
       "<th>1</th>\n",
       "<th>2</th>\n",
       "<th>3</th>\n",
       "<th>4</th>\n",
       "<th>...</th>\n",
       "<th>995</th>\n",
       "<th>996</th>\n",
       "<th>997</th>\n",
       "<th>998</th>\n",
       "<th>999</th>\n",
       "</tr>\n",
       "</thead>\n",
       "<tbody>\n",
       "<tr>\n",
       "<td style='font-weight: bold'>0</td>\n",
       "<td>0/0</td>\n",
       "<td>0/0</td>\n",
       "<td>0/0</td>\n",
       "<td>0/0</td>\n",
       "<td>0/0</td>\n",
       "<td>...</td>\n",
       "<td>0/0</td>\n",
       "<td>0/0</td>\n",
       "<td>0/0</td>\n",
       "<td>0/0</td>\n",
       "<td>0/0</td>\n",
       "</tr>\n",
       "<tr>\n",
       "<td style='font-weight: bold'>1</td>\n",
       "<td>0/0</td>\n",
       "<td>0/0</td>\n",
       "<td>0/0</td>\n",
       "<td>0/0</td>\n",
       "<td>0/0</td>\n",
       "<td>...</td>\n",
       "<td>0/0</td>\n",
       "<td>1/1</td>\n",
       "<td>0/0</td>\n",
       "<td>0/0</td>\n",
       "<td>0/0</td>\n",
       "</tr>\n",
       "<tr>\n",
       "<td style='font-weight: bold'>2</td>\n",
       "<td>0/0</td>\n",
       "<td>0/0</td>\n",
       "<td>0/0</td>\n",
       "<td>0/0</td>\n",
       "<td>0/0</td>\n",
       "<td>...</td>\n",
       "<td>0/0</td>\n",
       "<td>0/0</td>\n",
       "<td>0/0</td>\n",
       "<td>0/0</td>\n",
       "<td>0/0</td>\n",
       "</tr>\n",
       "<tr>\n",
       "<td style='font-weight: bold'>3</td>\n",
       "<td>0/0</td>\n",
       "<td>0/0</td>\n",
       "<td>0/0</td>\n",
       "<td>0/0</td>\n",
       "<td>0/0</td>\n",
       "<td>...</td>\n",
       "<td>0/0</td>\n",
       "<td>0/0</td>\n",
       "<td>0/0</td>\n",
       "<td>0/0</td>\n",
       "<td>0/0</td>\n",
       "</tr>\n",
       "<tr>\n",
       "<td style='font-weight: bold'>4</td>\n",
       "<td>0/0</td>\n",
       "<td>0/0</td>\n",
       "<td>0/0</td>\n",
       "<td>0/0</td>\n",
       "<td>0/0</td>\n",
       "<td>...</td>\n",
       "<td>0/0</td>\n",
       "<td>0/0</td>\n",
       "<td>0/0</td>\n",
       "<td>1/1</td>\n",
       "<td>0/0</td>\n",
       "</tr>\n",
       "</tbody>\n",
       "</table>\n",
       "<p><strong>...</strong></p>"
      ],
      "text/plain": [
       "GenotypeChunkedArray((50000, 1000, 2), int8, nbytes=95.4M, cbytes=16.0M, cratio=6.0, cname=blosclz, clevel=5, shuffle=True, chunks=(262, 1000, 2), data=bcolz.carray_ext.carray)"
      ]
     },
     "execution_count": 7,
     "metadata": {},
     "output_type": "execute_result"
    }
   ],
   "source": [
    "gc = allel.GenotypeChunkedArray(g).copy()\n",
    "gc"
   ]
  },
  {
   "cell_type": "code",
   "execution_count": 8,
   "metadata": {
    "collapsed": false
   },
   "outputs": [
    {
     "data": {
      "text/html": [
       "<table class='petl'>\n",
       "<caption>GenotypeChunkedArray((50000, 3, 2), int8, nbytes=293.0K, cbytes=297.8K, cratio=1.0, cname=blosclz, clevel=5, shuffle=True, chunks=(43690, 3, 2), data=bcolz.carray_ext.carray)</caption>\n",
       "<thead>\n",
       "<tr>\n",
       "<th></th>\n",
       "<th>0</th>\n",
       "<th>1</th>\n",
       "<th>2</th>\n",
       "</tr>\n",
       "</thead>\n",
       "<tbody>\n",
       "<tr>\n",
       "<td style='font-weight: bold'>0</td>\n",
       "<td>0/0</td>\n",
       "<td>0/0</td>\n",
       "<td>0/0</td>\n",
       "</tr>\n",
       "<tr>\n",
       "<td style='font-weight: bold'>1</td>\n",
       "<td>0/0</td>\n",
       "<td>0/0</td>\n",
       "<td>0/0</td>\n",
       "</tr>\n",
       "<tr>\n",
       "<td style='font-weight: bold'>2</td>\n",
       "<td>0/0</td>\n",
       "<td>0/0</td>\n",
       "<td>0/0</td>\n",
       "</tr>\n",
       "<tr>\n",
       "<td style='font-weight: bold'>3</td>\n",
       "<td>0/0</td>\n",
       "<td>0/0</td>\n",
       "<td>0/0</td>\n",
       "</tr>\n",
       "<tr>\n",
       "<td style='font-weight: bold'>4</td>\n",
       "<td>0/0</td>\n",
       "<td>0/0</td>\n",
       "<td>0/0</td>\n",
       "</tr>\n",
       "</tbody>\n",
       "</table>\n",
       "<p><strong>...</strong></p>"
      ],
      "text/plain": [
       "GenotypeChunkedArray((50000, 3, 2), int8, nbytes=293.0K, cbytes=297.8K, cratio=1.0, cname=blosclz, clevel=5, shuffle=True, chunks=(43690, 3, 2), data=bcolz.carray_ext.carray)"
      ]
     },
     "execution_count": 8,
     "metadata": {},
     "output_type": "execute_result"
    }
   ],
   "source": [
    "gc.take([0, 1, 2], axis=1)"
   ]
  },
  {
   "cell_type": "code",
   "execution_count": 9,
   "metadata": {
    "collapsed": false
   },
   "outputs": [
    {
     "data": {
      "text/html": [
       "<table class='petl'>\n",
       "<caption>HaplotypeChunkedArray((50000, 2000), int8, nbytes=95.4M, cbytes=16.0M, cratio=6.0, cname=blosclz, clevel=5, shuffle=True, chunks=(262, 2000), data=bcolz.carray_ext.carray)</caption>\n",
       "<thead>\n",
       "<tr>\n",
       "<th></th>\n",
       "<th>0</th>\n",
       "<th>1</th>\n",
       "<th>2</th>\n",
       "<th>3</th>\n",
       "<th>4</th>\n",
       "<th>...</th>\n",
       "<th>1995</th>\n",
       "<th>1996</th>\n",
       "<th>1997</th>\n",
       "<th>1998</th>\n",
       "<th>1999</th>\n",
       "</tr>\n",
       "</thead>\n",
       "<tbody>\n",
       "<tr>\n",
       "<td style='font-weight: bold'>0</td>\n",
       "<td>0</td>\n",
       "<td>0</td>\n",
       "<td>0</td>\n",
       "<td>0</td>\n",
       "<td>0</td>\n",
       "<td>...</td>\n",
       "<td>0</td>\n",
       "<td>0</td>\n",
       "<td>0</td>\n",
       "<td>0</td>\n",
       "<td>0</td>\n",
       "</tr>\n",
       "<tr>\n",
       "<td style='font-weight: bold'>1</td>\n",
       "<td>0</td>\n",
       "<td>0</td>\n",
       "<td>0</td>\n",
       "<td>0</td>\n",
       "<td>0</td>\n",
       "<td>...</td>\n",
       "<td>0</td>\n",
       "<td>0</td>\n",
       "<td>0</td>\n",
       "<td>0</td>\n",
       "<td>0</td>\n",
       "</tr>\n",
       "<tr>\n",
       "<td style='font-weight: bold'>2</td>\n",
       "<td>0</td>\n",
       "<td>0</td>\n",
       "<td>0</td>\n",
       "<td>0</td>\n",
       "<td>0</td>\n",
       "<td>...</td>\n",
       "<td>0</td>\n",
       "<td>0</td>\n",
       "<td>0</td>\n",
       "<td>0</td>\n",
       "<td>0</td>\n",
       "</tr>\n",
       "<tr>\n",
       "<td style='font-weight: bold'>3</td>\n",
       "<td>0</td>\n",
       "<td>0</td>\n",
       "<td>0</td>\n",
       "<td>0</td>\n",
       "<td>0</td>\n",
       "<td>...</td>\n",
       "<td>0</td>\n",
       "<td>0</td>\n",
       "<td>0</td>\n",
       "<td>0</td>\n",
       "<td>0</td>\n",
       "</tr>\n",
       "<tr>\n",
       "<td style='font-weight: bold'>4</td>\n",
       "<td>0</td>\n",
       "<td>0</td>\n",
       "<td>0</td>\n",
       "<td>0</td>\n",
       "<td>0</td>\n",
       "<td>...</td>\n",
       "<td>0</td>\n",
       "<td>1</td>\n",
       "<td>1</td>\n",
       "<td>0</td>\n",
       "<td>0</td>\n",
       "</tr>\n",
       "</tbody>\n",
       "</table>\n",
       "<p><strong>...</strong></p>"
      ],
      "text/plain": [
       "HaplotypeChunkedArray((50000, 2000), int8, nbytes=95.4M, cbytes=16.0M, cratio=6.0, cname=blosclz, clevel=5, shuffle=True, chunks=(262, 2000), data=bcolz.carray_ext.carray)"
      ]
     },
     "execution_count": 9,
     "metadata": {},
     "output_type": "execute_result"
    }
   ],
   "source": [
    "hc = gc.to_haplotypes()\n",
    "hc"
   ]
  },
  {
   "cell_type": "code",
   "execution_count": 10,
   "metadata": {
    "collapsed": false
   },
   "outputs": [
    {
     "data": {
      "text/html": [
       "<table class='petl'>\n",
       "<caption>HaplotypeChunkedArray((50000, 3), int8, nbytes=146.5K, cbytes=256.0K, cratio=0.6, cname=blosclz, clevel=5, shuffle=True, chunks=(87381, 3), data=bcolz.carray_ext.carray)</caption>\n",
       "<thead>\n",
       "<tr>\n",
       "<th></th>\n",
       "<th>0</th>\n",
       "<th>1</th>\n",
       "<th>2</th>\n",
       "</tr>\n",
       "</thead>\n",
       "<tbody>\n",
       "<tr>\n",
       "<td style='font-weight: bold'>0</td>\n",
       "<td>0</td>\n",
       "<td>0</td>\n",
       "<td>0</td>\n",
       "</tr>\n",
       "<tr>\n",
       "<td style='font-weight: bold'>1</td>\n",
       "<td>0</td>\n",
       "<td>0</td>\n",
       "<td>0</td>\n",
       "</tr>\n",
       "<tr>\n",
       "<td style='font-weight: bold'>2</td>\n",
       "<td>0</td>\n",
       "<td>0</td>\n",
       "<td>0</td>\n",
       "</tr>\n",
       "<tr>\n",
       "<td style='font-weight: bold'>3</td>\n",
       "<td>0</td>\n",
       "<td>0</td>\n",
       "<td>0</td>\n",
       "</tr>\n",
       "<tr>\n",
       "<td style='font-weight: bold'>4</td>\n",
       "<td>0</td>\n",
       "<td>0</td>\n",
       "<td>0</td>\n",
       "</tr>\n",
       "</tbody>\n",
       "</table>\n",
       "<p><strong>...</strong></p>"
      ],
      "text/plain": [
       "HaplotypeChunkedArray((50000, 3), int8, nbytes=146.5K, cbytes=256.0K, cratio=0.6, cname=blosclz, clevel=5, shuffle=True, chunks=(87381, 3), data=bcolz.carray_ext.carray)"
      ]
     },
     "execution_count": 10,
     "metadata": {},
     "output_type": "execute_result"
    }
   ],
   "source": [
    "hc.take([0, 1, 2], axis=1)"
   ]
  },
  {
   "cell_type": "code",
   "execution_count": 11,
   "metadata": {
    "collapsed": false
   },
   "outputs": [
    {
     "data": {
      "text/html": [
       "<table class='petl'>\n",
       "<caption>AlleleCountsArray((50000, 2), dtype=int32)</caption>\n",
       "<thead>\n",
       "<tr>\n",
       "<th></th>\n",
       "<th>0</th>\n",
       "<th>1</th>\n",
       "</tr>\n",
       "</thead>\n",
       "<tbody>\n",
       "<tr>\n",
       "<td style='font-weight: bold'>0</td>\n",
       "<td>1911</td>\n",
       "<td>89</td>\n",
       "</tr>\n",
       "<tr>\n",
       "<td style='font-weight: bold'>1</td>\n",
       "<td>1895</td>\n",
       "<td>105</td>\n",
       "</tr>\n",
       "<tr>\n",
       "<td style='font-weight: bold'>2</td>\n",
       "<td>1896</td>\n",
       "<td>104</td>\n",
       "</tr>\n",
       "<tr>\n",
       "<td style='font-weight: bold'>3</td>\n",
       "<td>1892</td>\n",
       "<td>108</td>\n",
       "</tr>\n",
       "<tr>\n",
       "<td style='font-weight: bold'>4</td>\n",
       "<td>1892</td>\n",
       "<td>108</td>\n",
       "</tr>\n",
       "</tbody>\n",
       "</table>\n",
       "<p><strong>...</strong></p>"
      ],
      "text/plain": [
       "AlleleCountsArray((50000, 2), dtype=int32)\n",
       "[[1911   89]\n",
       " [1895  105]\n",
       " [1896  104]\n",
       " ..., \n",
       " [1908   92]\n",
       " [1887  113]\n",
       " [1904   96]]"
      ]
     },
     "execution_count": 11,
     "metadata": {},
     "output_type": "execute_result"
    }
   ],
   "source": [
    "ac = g.count_alleles()\n",
    "ac"
   ]
  },
  {
   "cell_type": "code",
   "execution_count": 12,
   "metadata": {
    "collapsed": false
   },
   "outputs": [
    {
     "data": {
      "text/html": [
       "<table class='petl'>\n",
       "<caption>AlleleCountsChunkedArray((50000, 2), int32, nbytes=390.6K, cbytes=321.3K, cratio=1.2, cname=blosclz, clevel=5, shuffle=True, chunks=(32768, 2), data=bcolz.carray_ext.carray)</caption>\n",
       "<thead>\n",
       "<tr>\n",
       "<th></th>\n",
       "<th>0</th>\n",
       "<th>1</th>\n",
       "</tr>\n",
       "</thead>\n",
       "<tbody>\n",
       "<tr>\n",
       "<td style='font-weight: bold'>0</td>\n",
       "<td>1911</td>\n",
       "<td>89</td>\n",
       "</tr>\n",
       "<tr>\n",
       "<td style='font-weight: bold'>1</td>\n",
       "<td>1895</td>\n",
       "<td>105</td>\n",
       "</tr>\n",
       "<tr>\n",
       "<td style='font-weight: bold'>2</td>\n",
       "<td>1896</td>\n",
       "<td>104</td>\n",
       "</tr>\n",
       "<tr>\n",
       "<td style='font-weight: bold'>3</td>\n",
       "<td>1892</td>\n",
       "<td>108</td>\n",
       "</tr>\n",
       "<tr>\n",
       "<td style='font-weight: bold'>4</td>\n",
       "<td>1892</td>\n",
       "<td>108</td>\n",
       "</tr>\n",
       "</tbody>\n",
       "</table>\n",
       "<p><strong>...</strong></p>"
      ],
      "text/plain": [
       "AlleleCountsChunkedArray((50000, 2), int32, nbytes=390.6K, cbytes=321.3K, cratio=1.2, cname=blosclz, clevel=5, shuffle=True, chunks=(32768, 2), data=bcolz.carray_ext.carray)"
      ]
     },
     "execution_count": 12,
     "metadata": {},
     "output_type": "execute_result"
    }
   ],
   "source": [
    "acc = gc.count_alleles()\n",
    "acc"
   ]
  },
  {
   "cell_type": "code",
   "execution_count": 13,
   "metadata": {
    "collapsed": false
   },
   "outputs": [
    {
     "data": {
      "text/plain": [
       "carray((50000, 1000), bool)\n",
       "  nbytes: 47.68 MB; cbytes: 743.19 KB; ratio: 65.70\n",
       "  cparams := cparams(clevel=5, shuffle=True, cname='blosclz')\n",
       "[[ True  True  True ...,  True  True  True]\n",
       " [ True  True  True ...,  True  True  True]\n",
       " [ True  True  True ...,  True  True  True]\n",
       " ..., \n",
       " [ True  True  True ...,  True  True  True]\n",
       " [ True  True  True ...,  True  True  True]\n",
       " [ True  True  True ...,  True  True  True]]"
      ]
     },
     "execution_count": 13,
     "metadata": {},
     "output_type": "execute_result"
    }
   ],
   "source": [
    "gc.is_called()"
   ]
  },
  {
   "cell_type": "code",
   "execution_count": 14,
   "metadata": {
    "collapsed": false
   },
   "outputs": [
    {
     "data": {
      "text/plain": [
       "ChunkedArray((50000, 1000), int8, nbytes=47.7M, cbytes=13.0M, cratio=3.7, cname=blosclz, clevel=5, shuffle=True, chunks=(524, 1000), data=bcolz.carray_ext.carray)"
      ]
     },
     "execution_count": 14,
     "metadata": {},
     "output_type": "execute_result"
    }
   ],
   "source": [
    "gc.to_n_alt()"
   ]
  },
  {
   "cell_type": "code",
   "execution_count": 15,
   "metadata": {
    "collapsed": false
   },
   "outputs": [
    {
     "data": {
      "text/plain": [
       "array([     9,     28,     30, ..., 999946, 999958, 999960])"
      ]
     },
     "execution_count": 15,
     "metadata": {},
     "output_type": "execute_result"
    }
   ],
   "source": [
    "pos = np.unique(np.random.randint(0, 1000000, size=50000))\n",
    "pos"
   ]
  },
  {
   "cell_type": "code",
   "execution_count": 16,
   "metadata": {
    "collapsed": false
   },
   "outputs": [
    {
     "data": {
      "text/plain": [
       "array([b'A', b'T', b'A', ..., b'G', b'G', b'A'], \n",
       "      dtype='|S1')"
      ]
     },
     "execution_count": 16,
     "metadata": {},
     "output_type": "execute_result"
    }
   ],
   "source": [
    "ref = np.random.choice([b'A', b'C', b'T', b'G'], size=pos.shape[0])\n",
    "ref"
   ]
  },
  {
   "cell_type": "code",
   "execution_count": 17,
   "metadata": {
    "collapsed": false
   },
   "outputs": [
    {
     "data": {
      "text/plain": [
       "array([b'G', b'A', b'A', ..., b'A', b'T', b'A'], \n",
       "      dtype='|S1')"
      ]
     },
     "execution_count": 17,
     "metadata": {},
     "output_type": "execute_result"
    }
   ],
   "source": [
    "alt = np.random.choice([b'A', b'C', b'T', b'G'], size=pos.shape[0])\n",
    "alt"
   ]
  },
  {
   "cell_type": "code",
   "execution_count": 18,
   "metadata": {
    "collapsed": false
   },
   "outputs": [
    {
     "data": {
      "text/html": [
       "<table class='petl'>\n",
       "<caption>VariantTable((48752,), dtype=(numpy.record, [('POS', '&lt;i8'), ('REF', 'S1'), ('ALT', 'S1')]))</caption>\n",
       "<thead>\n",
       "<tr>\n",
       "<th>POS</th>\n",
       "<th>REF</th>\n",
       "<th>ALT</th>\n",
       "</tr>\n",
       "</thead>\n",
       "<tbody>\n",
       "<tr>\n",
       "<td>9</td>\n",
       "<td>b'A'</td>\n",
       "<td>b'G'</td>\n",
       "</tr>\n",
       "<tr>\n",
       "<td>28</td>\n",
       "<td>b'T'</td>\n",
       "<td>b'A'</td>\n",
       "</tr>\n",
       "<tr>\n",
       "<td>30</td>\n",
       "<td>b'A'</td>\n",
       "<td>b'A'</td>\n",
       "</tr>\n",
       "<tr>\n",
       "<td>43</td>\n",
       "<td>b'C'</td>\n",
       "<td>b'T'</td>\n",
       "</tr>\n",
       "<tr>\n",
       "<td>53</td>\n",
       "<td>b'G'</td>\n",
       "<td>b'A'</td>\n",
       "</tr>\n",
       "</tbody>\n",
       "</table>\n",
       "<p><strong>...</strong></p>"
      ],
      "text/plain": [
       "VariantTable((48752,), dtype=(numpy.record, [('POS', '<i8'), ('REF', 'S1'), ('ALT', 'S1')]))\n",
       "[(9, b'A', b'G') (28, b'T', b'A') (30, b'A', b'A') ...,\n",
       " (999946, b'G', b'A') (999958, b'G', b'T') (999960, b'A', b'A')]"
      ]
     },
     "execution_count": 18,
     "metadata": {},
     "output_type": "execute_result"
    }
   ],
   "source": [
    "ra = np.rec.fromarrays([pos, ref, alt], names=['POS', 'REF', 'ALT'])\n",
    "vtbl = allel.VariantTable(ra)\n",
    "vtbl"
   ]
  },
  {
   "cell_type": "code",
   "execution_count": 19,
   "metadata": {
    "collapsed": false
   },
   "outputs": [
    {
     "data": {
      "text/html": [
       "<table class='petl'>\n",
       "<caption>VariantChunkedTable(48752, nbytes=476.1K, cbytes=557.2K, cratio=0.9, data=bcolz.ctable.ctable)</caption>\n",
       "<thead>\n",
       "<tr>\n",
       "<th>POS</th>\n",
       "<th>REF</th>\n",
       "<th>ALT</th>\n",
       "</tr>\n",
       "</thead>\n",
       "<tbody>\n",
       "<tr>\n",
       "<td>9</td>\n",
       "<td>b'A'</td>\n",
       "<td>b'G'</td>\n",
       "</tr>\n",
       "<tr>\n",
       "<td>28</td>\n",
       "<td>b'T'</td>\n",
       "<td>b'A'</td>\n",
       "</tr>\n",
       "<tr>\n",
       "<td>30</td>\n",
       "<td>b'A'</td>\n",
       "<td>b'A'</td>\n",
       "</tr>\n",
       "<tr>\n",
       "<td>43</td>\n",
       "<td>b'C'</td>\n",
       "<td>b'T'</td>\n",
       "</tr>\n",
       "<tr>\n",
       "<td>53</td>\n",
       "<td>b'G'</td>\n",
       "<td>b'A'</td>\n",
       "</tr>\n",
       "</tbody>\n",
       "</table>\n",
       "<p><strong>...</strong></p>"
      ],
      "text/plain": [
       "VariantChunkedTable(48752, nbytes=476.1K, cbytes=557.2K, cratio=0.9, data=bcolz.ctable.ctable)"
      ]
     },
     "execution_count": 19,
     "metadata": {},
     "output_type": "execute_result"
    }
   ],
   "source": [
    "vctbl = allel.VariantChunkedTable(vtbl).copy()\n",
    "vctbl"
   ]
  },
  {
   "cell_type": "code",
   "execution_count": 20,
   "metadata": {
    "collapsed": false
   },
   "outputs": [
    {
     "data": {
      "text/html": [
       "<table class='petl'>\n",
       "<caption>VariantTable((5,), dtype=(numpy.record, [('POS', '&lt;i8'), ('REF', 'S1'), ('ALT', 'S1')]))</caption>\n",
       "<thead>\n",
       "<tr>\n",
       "<th>POS</th>\n",
       "<th>REF</th>\n",
       "<th>ALT</th>\n",
       "</tr>\n",
       "</thead>\n",
       "<tbody>\n",
       "<tr>\n",
       "<td>9</td>\n",
       "<td>b'A'</td>\n",
       "<td>b'G'</td>\n",
       "</tr>\n",
       "<tr>\n",
       "<td>28</td>\n",
       "<td>b'T'</td>\n",
       "<td>b'A'</td>\n",
       "</tr>\n",
       "<tr>\n",
       "<td>30</td>\n",
       "<td>b'A'</td>\n",
       "<td>b'A'</td>\n",
       "</tr>\n",
       "<tr>\n",
       "<td>43</td>\n",
       "<td>b'C'</td>\n",
       "<td>b'T'</td>\n",
       "</tr>\n",
       "<tr>\n",
       "<td>53</td>\n",
       "<td>b'G'</td>\n",
       "<td>b'A'</td>\n",
       "</tr>\n",
       "</tbody>\n",
       "</table>\n"
      ]
     },
     "metadata": {},
     "output_type": "display_data"
    }
   ],
   "source": [
    "vtbl[:5].display(10)"
   ]
  },
  {
   "cell_type": "code",
   "execution_count": 21,
   "metadata": {
    "collapsed": false
   },
   "outputs": [
    {
     "data": {
      "text/html": [
       "<table class='petl'>\n",
       "<caption>VariantTable((5,), dtype=(numpy.record, [('POS', '&lt;i8'), ('REF', 'S1'), ('ALT', 'S1')]))</caption>\n",
       "<thead>\n",
       "<tr>\n",
       "<th>POS</th>\n",
       "<th>REF</th>\n",
       "<th>ALT</th>\n",
       "</tr>\n",
       "</thead>\n",
       "<tbody>\n",
       "<tr>\n",
       "<td>9</td>\n",
       "<td>b'A'</td>\n",
       "<td>b'G'</td>\n",
       "</tr>\n",
       "<tr>\n",
       "<td>28</td>\n",
       "<td>b'T'</td>\n",
       "<td>b'A'</td>\n",
       "</tr>\n",
       "<tr>\n",
       "<td>30</td>\n",
       "<td>b'A'</td>\n",
       "<td>b'A'</td>\n",
       "</tr>\n",
       "<tr>\n",
       "<td>43</td>\n",
       "<td>b'C'</td>\n",
       "<td>b'T'</td>\n",
       "</tr>\n",
       "<tr>\n",
       "<td>53</td>\n",
       "<td>b'G'</td>\n",
       "<td>b'A'</td>\n",
       "</tr>\n",
       "</tbody>\n",
       "</table>\n"
      ]
     },
     "metadata": {},
     "output_type": "display_data"
    }
   ],
   "source": [
    "vtbl[:5].display(None)"
   ]
  },
  {
   "cell_type": "code",
   "execution_count": 22,
   "metadata": {
    "collapsed": false
   },
   "outputs": [
    {
     "data": {
      "text/html": [
       "<table class='petl'>\n",
       "<caption>VariantTable((5,), dtype=(numpy.record, [('POS', '&lt;i8'), ('REF', 'S1'), ('ALT', 'S1')]))</caption>\n",
       "<thead>\n",
       "<tr>\n",
       "<th>POS</th>\n",
       "<th>REF</th>\n",
       "<th>ALT</th>\n",
       "</tr>\n",
       "</thead>\n",
       "<tbody>\n",
       "<tr>\n",
       "<td>9</td>\n",
       "<td>b'A'</td>\n",
       "<td>b'G'</td>\n",
       "</tr>\n",
       "<tr>\n",
       "<td>28</td>\n",
       "<td>b'T'</td>\n",
       "<td>b'A'</td>\n",
       "</tr>\n",
       "<tr>\n",
       "<td>30</td>\n",
       "<td>b'A'</td>\n",
       "<td>b'A'</td>\n",
       "</tr>\n",
       "<tr>\n",
       "<td>43</td>\n",
       "<td>b'C'</td>\n",
       "<td>b'T'</td>\n",
       "</tr>\n",
       "<tr>\n",
       "<td>53</td>\n",
       "<td>b'G'</td>\n",
       "<td>b'A'</td>\n",
       "</tr>\n",
       "</tbody>\n",
       "</table>\n"
      ]
     },
     "metadata": {},
     "output_type": "display_data"
    }
   ],
   "source": [
    "vtbl[:5].displayall()"
   ]
  },
  {
   "cell_type": "code",
   "execution_count": 23,
   "metadata": {
    "collapsed": false
   },
   "outputs": [
    {
     "data": {
      "text/html": [
       "<table class='petl'>\n",
       "<caption>VariantChunkedTable(5, nbytes=50, cbytes=48.0K, cratio=0.0, data=bcolz.ctable.ctable)</caption>\n",
       "<thead>\n",
       "<tr>\n",
       "<th>POS</th>\n",
       "<th>REF</th>\n",
       "<th>ALT</th>\n",
       "</tr>\n",
       "</thead>\n",
       "<tbody>\n",
       "<tr>\n",
       "<td>9</td>\n",
       "<td>b'A'</td>\n",
       "<td>b'G'</td>\n",
       "</tr>\n",
       "<tr>\n",
       "<td>28</td>\n",
       "<td>b'T'</td>\n",
       "<td>b'A'</td>\n",
       "</tr>\n",
       "<tr>\n",
       "<td>30</td>\n",
       "<td>b'A'</td>\n",
       "<td>b'A'</td>\n",
       "</tr>\n",
       "<tr>\n",
       "<td>43</td>\n",
       "<td>b'C'</td>\n",
       "<td>b'T'</td>\n",
       "</tr>\n",
       "<tr>\n",
       "<td>53</td>\n",
       "<td>b'G'</td>\n",
       "<td>b'A'</td>\n",
       "</tr>\n",
       "</tbody>\n",
       "</table>\n"
      ]
     },
     "metadata": {},
     "output_type": "display_data"
    }
   ],
   "source": [
    "vctbl.take(list(range(5))).display(10)"
   ]
  },
  {
   "cell_type": "code",
   "execution_count": 24,
   "metadata": {
    "collapsed": false
   },
   "outputs": [
    {
     "data": {
      "text/html": [
       "<table class='petl'>\n",
       "<caption>VariantChunkedTable(5, nbytes=50, cbytes=48.0K, cratio=0.0, data=bcolz.ctable.ctable)</caption>\n",
       "<thead>\n",
       "<tr>\n",
       "<th>POS</th>\n",
       "<th>REF</th>\n",
       "<th>ALT</th>\n",
       "</tr>\n",
       "</thead>\n",
       "<tbody>\n",
       "<tr>\n",
       "<td>9</td>\n",
       "<td>b'A'</td>\n",
       "<td>b'G'</td>\n",
       "</tr>\n",
       "<tr>\n",
       "<td>28</td>\n",
       "<td>b'T'</td>\n",
       "<td>b'A'</td>\n",
       "</tr>\n",
       "<tr>\n",
       "<td>30</td>\n",
       "<td>b'A'</td>\n",
       "<td>b'A'</td>\n",
       "</tr>\n",
       "<tr>\n",
       "<td>43</td>\n",
       "<td>b'C'</td>\n",
       "<td>b'T'</td>\n",
       "</tr>\n",
       "<tr>\n",
       "<td>53</td>\n",
       "<td>b'G'</td>\n",
       "<td>b'A'</td>\n",
       "</tr>\n",
       "</tbody>\n",
       "</table>\n"
      ]
     },
     "metadata": {},
     "output_type": "display_data"
    }
   ],
   "source": [
    "vctbl.take(list(range(5))).display(None)"
   ]
  },
  {
   "cell_type": "code",
   "execution_count": 25,
   "metadata": {
    "collapsed": false
   },
   "outputs": [
    {
     "data": {
      "text/html": [
       "<table class='petl'>\n",
       "<caption>VariantChunkedTable(5, nbytes=50, cbytes=48.0K, cratio=0.0, data=bcolz.ctable.ctable)</caption>\n",
       "<thead>\n",
       "<tr>\n",
       "<th>POS</th>\n",
       "<th>REF</th>\n",
       "<th>ALT</th>\n",
       "</tr>\n",
       "</thead>\n",
       "<tbody>\n",
       "<tr>\n",
       "<td>9</td>\n",
       "<td>b'A'</td>\n",
       "<td>b'G'</td>\n",
       "</tr>\n",
       "<tr>\n",
       "<td>28</td>\n",
       "<td>b'T'</td>\n",
       "<td>b'A'</td>\n",
       "</tr>\n",
       "<tr>\n",
       "<td>30</td>\n",
       "<td>b'A'</td>\n",
       "<td>b'A'</td>\n",
       "</tr>\n",
       "<tr>\n",
       "<td>43</td>\n",
       "<td>b'C'</td>\n",
       "<td>b'T'</td>\n",
       "</tr>\n",
       "<tr>\n",
       "<td>53</td>\n",
       "<td>b'G'</td>\n",
       "<td>b'A'</td>\n",
       "</tr>\n",
       "</tbody>\n",
       "</table>\n"
      ]
     },
     "metadata": {},
     "output_type": "display_data"
    }
   ],
   "source": [
    "vctbl.take(list(range(5))).displayall()"
   ]
  },
  {
   "cell_type": "code",
   "execution_count": null,
   "metadata": {
    "collapsed": true
   },
   "outputs": [],
   "source": []
  }
 ],
 "metadata": {
  "kernelspec": {
   "display_name": "Python 3",
   "language": "python",
   "name": "python3"
  },
  "language_info": {
   "codemirror_mode": {
    "name": "ipython",
    "version": 3
   },
   "file_extension": ".py",
   "mimetype": "text/x-python",
   "name": "python",
   "nbconvert_exporter": "python",
   "pygments_lexer": "ipython3",
   "version": "3.5.2"
  }
 },
 "nbformat": 4,
 "nbformat_minor": 0
}
