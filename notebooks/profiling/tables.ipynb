{
 "metadata": {
  "name": "",
  "signature": "sha256:98a3f8e576ac66e457e0346c3d20594ee1d4361ffcb4521665b0273a04111faa"
 },
 "nbformat": 3,
 "nbformat_minor": 0,
 "worksheets": [
  {
   "cells": [
    {
     "cell_type": "heading",
     "level": 2,
     "metadata": {},
     "source": [
      "Setup"
     ]
    },
    {
     "cell_type": "code",
     "collapsed": false,
     "input": [
      "import sys\n",
      "import numpy as np\n",
      "import bcolz\n",
      "import numexpr\n",
      "import humanize\n",
      "import h5py\n",
      "import tempfile\n",
      "def binarysize(n):\n",
      "    return humanize.naturalsize(n, binary=True)\n",
      "\n",
      "%reload_ext memory_profiler\n",
      "sys.path.insert(0, '../..')\n",
      "%reload_ext autoreload\n",
      "%autoreload 1\n",
      "%aimport allel.model\n",
      "%aimport allel.bcolz\n",
      "%aimport allel.io"
     ],
     "language": "python",
     "metadata": {},
     "outputs": [],
     "prompt_number": 1
    },
    {
     "cell_type": "code",
     "collapsed": false,
     "input": [
      "pos = np.unique(np.random.randint(0, 100000000, size=10000000))\n",
      "pos.size, binarysize(pos.nbytes)"
     ],
     "language": "python",
     "metadata": {},
     "outputs": [
      {
       "metadata": {},
       "output_type": "pyout",
       "prompt_number": 2,
       "text": [
        "(9515765, '72.6 MiB')"
       ]
      }
     ],
     "prompt_number": 2
    },
    {
     "cell_type": "code",
     "collapsed": false,
     "input": [
      "x = np.random.randint(0, 100, size=pos.size)\n",
      "binarysize(x.nbytes)"
     ],
     "language": "python",
     "metadata": {},
     "outputs": [
      {
       "metadata": {},
       "output_type": "pyout",
       "prompt_number": 3,
       "text": [
        "'72.6 MiB'"
       ]
      }
     ],
     "prompt_number": 3
    },
    {
     "cell_type": "code",
     "collapsed": false,
     "input": [
      "y = np.random.random(size=pos.size)\n",
      "binarysize(y.nbytes)"
     ],
     "language": "python",
     "metadata": {},
     "outputs": [
      {
       "metadata": {},
       "output_type": "pyout",
       "prompt_number": 4,
       "text": [
        "'72.6 MiB'"
       ]
      }
     ],
     "prompt_number": 4
    },
    {
     "cell_type": "code",
     "collapsed": false,
     "input": [
      "z = np.random.choice([b'a', b'b', b'c'], size=pos.size)\n",
      "binarysize(z.nbytes)"
     ],
     "language": "python",
     "metadata": {},
     "outputs": [
      {
       "metadata": {},
       "output_type": "pyout",
       "prompt_number": 5,
       "text": [
        "'9.1 MiB'"
       ]
      }
     ],
     "prompt_number": 5
    },
    {
     "cell_type": "code",
     "collapsed": false,
     "input": [
      "query = \"(x > 50) & (y < .5) & (z == b'a')\""
     ],
     "language": "python",
     "metadata": {},
     "outputs": [],
     "prompt_number": 6
    },
    {
     "cell_type": "code",
     "collapsed": false,
     "input": [
      "a = np.rec.fromarrays([pos, x, y, z], names=['pos', 'x', 'y', 'z'])\n",
      "vt = allel.model.VariantTable(a, index='pos')\n",
      "vt"
     ],
     "language": "python",
     "metadata": {},
     "outputs": [
      {
       "html": [
        "<div style=\"max-height:1000px;max-width:1500px;overflow:auto;\">\n",
        "<table border=\"1\" class=\"dataframe\">\n",
        "  <thead>\n",
        "    <tr style=\"text-align: right;\">\n",
        "      <th></th>\n",
        "      <th>pos</th>\n",
        "      <th>x</th>\n",
        "      <th>y</th>\n",
        "      <th>z</th>\n",
        "    </tr>\n",
        "  </thead>\n",
        "  <tbody>\n",
        "    <tr>\n",
        "      <th>0</th>\n",
        "      <td> 17</td>\n",
        "      <td> 47</td>\n",
        "      <td> 0.591361</td>\n",
        "      <td> b'c'</td>\n",
        "    </tr>\n",
        "    <tr>\n",
        "      <th>1</th>\n",
        "      <td> 29</td>\n",
        "      <td> 69</td>\n",
        "      <td> 0.509908</td>\n",
        "      <td> b'a'</td>\n",
        "    </tr>\n",
        "    <tr>\n",
        "      <th>2</th>\n",
        "      <td> 33</td>\n",
        "      <td>  5</td>\n",
        "      <td> 0.421662</td>\n",
        "      <td> b'a'</td>\n",
        "    </tr>\n",
        "    <tr>\n",
        "      <th>3</th>\n",
        "      <td> 45</td>\n",
        "      <td>  6</td>\n",
        "      <td> 0.188040</td>\n",
        "      <td> b'c'</td>\n",
        "    </tr>\n",
        "    <tr>\n",
        "      <th>4</th>\n",
        "      <td> 49</td>\n",
        "      <td> 87</td>\n",
        "      <td> 0.036082</td>\n",
        "      <td> b'c'</td>\n",
        "    </tr>\n",
        "  </tbody>\n",
        "</table>\n",
        "</div>"
       ],
       "metadata": {},
       "output_type": "pyout",
       "prompt_number": 7,
       "text": [
        "VariantTable((9516831,), dtype=[('pos', '<i8'), ('x', '<i8'), ('y', '<f8'), ('z', 'S1')])\n",
        "[(17, 47, 0.5913608398403671, b'c') (29, 69, 0.5099082561560956, b'a')\n",
        " (33, 5, 0.42166205919764566, b'a') ...,\n",
        " (99999979, 6, 0.6528048465563351, b'b')\n",
        " (99999983, 11, 0.6787959343139909, b'a')\n",
        " (99999984, 72, 0.6397948973426738, b'a')]"
       ]
      }
     ],
     "prompt_number": 7
    },
    {
     "cell_type": "code",
     "collapsed": false,
     "input": [
      "vt.x"
     ],
     "language": "python",
     "metadata": {},
     "outputs": [
      {
       "metadata": {},
       "output_type": "pyout",
       "prompt_number": 8,
       "text": [
        "array([47, 69,  5, ...,  6, 11, 72])"
       ]
      }
     ],
     "prompt_number": 8
    },
    {
     "cell_type": "code",
     "collapsed": false,
     "input": [
      "vt[['pos', 'x']]"
     ],
     "language": "python",
     "metadata": {},
     "outputs": [
      {
       "html": [
        "<div style=\"max-height:1000px;max-width:1500px;overflow:auto;\">\n",
        "<table border=\"1\" class=\"dataframe\">\n",
        "  <thead>\n",
        "    <tr style=\"text-align: right;\">\n",
        "      <th></th>\n",
        "      <th>pos</th>\n",
        "      <th>x</th>\n",
        "    </tr>\n",
        "  </thead>\n",
        "  <tbody>\n",
        "    <tr>\n",
        "      <th>0</th>\n",
        "      <td> 17</td>\n",
        "      <td> 47</td>\n",
        "    </tr>\n",
        "    <tr>\n",
        "      <th>1</th>\n",
        "      <td> 29</td>\n",
        "      <td> 69</td>\n",
        "    </tr>\n",
        "    <tr>\n",
        "      <th>2</th>\n",
        "      <td> 33</td>\n",
        "      <td>  5</td>\n",
        "    </tr>\n",
        "    <tr>\n",
        "      <th>3</th>\n",
        "      <td> 45</td>\n",
        "      <td>  6</td>\n",
        "    </tr>\n",
        "    <tr>\n",
        "      <th>4</th>\n",
        "      <td> 49</td>\n",
        "      <td> 87</td>\n",
        "    </tr>\n",
        "  </tbody>\n",
        "</table>\n",
        "</div>"
       ],
       "metadata": {},
       "output_type": "pyout",
       "prompt_number": 9,
       "text": [
        "VariantTable((9516831,), dtype=[('pos', '<i8'), ('x', '<i8')])\n",
        "[(17, 47) (29, 69) (33, 5) ..., (99999979, 6) (99999983, 11) (99999984, 72)]"
       ]
      }
     ],
     "prompt_number": 9
    },
    {
     "cell_type": "code",
     "collapsed": false,
     "input": [
      "vt.display(10)"
     ],
     "language": "python",
     "metadata": {},
     "outputs": [
      {
       "html": [
        "<div style=\"max-height:1000px;max-width:1500px;overflow:auto;\">\n",
        "<table border=\"1\" class=\"dataframe\">\n",
        "  <thead>\n",
        "    <tr style=\"text-align: right;\">\n",
        "      <th></th>\n",
        "      <th>pos</th>\n",
        "      <th>x</th>\n",
        "      <th>y</th>\n",
        "      <th>z</th>\n",
        "    </tr>\n",
        "  </thead>\n",
        "  <tbody>\n",
        "    <tr>\n",
        "      <th>0</th>\n",
        "      <td> 17</td>\n",
        "      <td> 47</td>\n",
        "      <td> 0.591361</td>\n",
        "      <td> b'c'</td>\n",
        "    </tr>\n",
        "    <tr>\n",
        "      <th>1</th>\n",
        "      <td> 29</td>\n",
        "      <td> 69</td>\n",
        "      <td> 0.509908</td>\n",
        "      <td> b'a'</td>\n",
        "    </tr>\n",
        "    <tr>\n",
        "      <th>2</th>\n",
        "      <td> 33</td>\n",
        "      <td>  5</td>\n",
        "      <td> 0.421662</td>\n",
        "      <td> b'a'</td>\n",
        "    </tr>\n",
        "    <tr>\n",
        "      <th>3</th>\n",
        "      <td> 45</td>\n",
        "      <td>  6</td>\n",
        "      <td> 0.188040</td>\n",
        "      <td> b'c'</td>\n",
        "    </tr>\n",
        "    <tr>\n",
        "      <th>4</th>\n",
        "      <td> 49</td>\n",
        "      <td> 87</td>\n",
        "      <td> 0.036082</td>\n",
        "      <td> b'c'</td>\n",
        "    </tr>\n",
        "    <tr>\n",
        "      <th>5</th>\n",
        "      <td> 51</td>\n",
        "      <td> 19</td>\n",
        "      <td> 0.952601</td>\n",
        "      <td> b'b'</td>\n",
        "    </tr>\n",
        "    <tr>\n",
        "      <th>6</th>\n",
        "      <td> 56</td>\n",
        "      <td> 58</td>\n",
        "      <td> 0.104133</td>\n",
        "      <td> b'a'</td>\n",
        "    </tr>\n",
        "    <tr>\n",
        "      <th>7</th>\n",
        "      <td> 57</td>\n",
        "      <td> 76</td>\n",
        "      <td> 0.718903</td>\n",
        "      <td> b'c'</td>\n",
        "    </tr>\n",
        "    <tr>\n",
        "      <th>8</th>\n",
        "      <td> 59</td>\n",
        "      <td> 63</td>\n",
        "      <td> 0.848839</td>\n",
        "      <td> b'c'</td>\n",
        "    </tr>\n",
        "    <tr>\n",
        "      <th>9</th>\n",
        "      <td> 62</td>\n",
        "      <td> 68</td>\n",
        "      <td> 0.371280</td>\n",
        "      <td> b'c'</td>\n",
        "    </tr>\n",
        "  </tbody>\n",
        "</table>\n",
        "</div>"
       ],
       "metadata": {},
       "output_type": "display_data"
      }
     ],
     "prompt_number": 10
    },
    {
     "cell_type": "code",
     "collapsed": false,
     "input": [
      "vtc = allel.bcolz.VariantCTable(a, index='pos')\n",
      "vtc"
     ],
     "language": "python",
     "metadata": {},
     "outputs": [
      {
       "html": [
        "<div style=\"max-height:1000px;max-width:1500px;overflow:auto;\">\n",
        "<table border=\"1\" class=\"dataframe\">\n",
        "  <thead>\n",
        "    <tr style=\"text-align: right;\">\n",
        "      <th></th>\n",
        "      <th>pos</th>\n",
        "      <th>x</th>\n",
        "      <th>y</th>\n",
        "      <th>z</th>\n",
        "    </tr>\n",
        "  </thead>\n",
        "  <tbody>\n",
        "    <tr>\n",
        "      <th>0</th>\n",
        "      <td> 17</td>\n",
        "      <td> 47</td>\n",
        "      <td> 0.591361</td>\n",
        "      <td> b'c'</td>\n",
        "    </tr>\n",
        "    <tr>\n",
        "      <th>1</th>\n",
        "      <td> 29</td>\n",
        "      <td> 69</td>\n",
        "      <td> 0.509908</td>\n",
        "      <td> b'a'</td>\n",
        "    </tr>\n",
        "    <tr>\n",
        "      <th>2</th>\n",
        "      <td> 33</td>\n",
        "      <td>  5</td>\n",
        "      <td> 0.421662</td>\n",
        "      <td> b'a'</td>\n",
        "    </tr>\n",
        "    <tr>\n",
        "      <th>3</th>\n",
        "      <td> 45</td>\n",
        "      <td>  6</td>\n",
        "      <td> 0.188040</td>\n",
        "      <td> b'c'</td>\n",
        "    </tr>\n",
        "    <tr>\n",
        "      <th>4</th>\n",
        "      <td> 49</td>\n",
        "      <td> 87</td>\n",
        "      <td> 0.036082</td>\n",
        "      <td> b'c'</td>\n",
        "    </tr>\n",
        "  </tbody>\n",
        "</table>\n",
        "</div>"
       ],
       "metadata": {},
       "output_type": "pyout",
       "prompt_number": 11,
       "text": [
        "VariantCTable((9516831,), [('pos', '<i8'), ('x', '<i8'), ('y', '<f8'), ('z', 'S1')])\n",
        "  nbytes: 226.90 MB; cbytes: 91.50 MB; ratio: 2.48\n",
        "  cparams := cparams(clevel=5, shuffle=True, cname='blosclz')\n",
        "[(17, 47, 0.5913608398403671, b'c') (29, 69, 0.5099082561560956, b'a')\n",
        " (33, 5, 0.42166205919764566, b'a') ...,\n",
        " (99999979, 6, 0.6528048465563351, b'b')\n",
        " (99999983, 11, 0.6787959343139909, b'a')\n",
        " (99999984, 72, 0.6397948973426738, b'a')]"
       ]
      }
     ],
     "prompt_number": 11
    },
    {
     "cell_type": "code",
     "collapsed": false,
     "input": [
      "vtc.x"
     ],
     "language": "python",
     "metadata": {},
     "outputs": [
      {
       "metadata": {},
       "output_type": "pyout",
       "prompt_number": 12,
       "text": [
        "carray((9516831,), int64)\n",
        "  nbytes: 72.61 MB; cbytes: 10.08 MB; ratio: 7.20\n",
        "  cparams := cparams(clevel=5, shuffle=True, cname='blosclz')\n",
        "[47 69  5 ...,  6 11 72]"
       ]
      }
     ],
     "prompt_number": 12
    },
    {
     "cell_type": "code",
     "collapsed": false,
     "input": [
      "vtc.display(10)"
     ],
     "language": "python",
     "metadata": {},
     "outputs": [
      {
       "html": [
        "<div style=\"max-height:1000px;max-width:1500px;overflow:auto;\">\n",
        "<table border=\"1\" class=\"dataframe\">\n",
        "  <thead>\n",
        "    <tr style=\"text-align: right;\">\n",
        "      <th></th>\n",
        "      <th>pos</th>\n",
        "      <th>x</th>\n",
        "      <th>y</th>\n",
        "      <th>z</th>\n",
        "    </tr>\n",
        "  </thead>\n",
        "  <tbody>\n",
        "    <tr>\n",
        "      <th>0</th>\n",
        "      <td>   9</td>\n",
        "      <td> 94</td>\n",
        "      <td> 0.048534</td>\n",
        "      <td> b'c'</td>\n",
        "    </tr>\n",
        "    <tr>\n",
        "      <th>1</th>\n",
        "      <td>  10</td>\n",
        "      <td> 87</td>\n",
        "      <td> 0.622883</td>\n",
        "      <td> b'b'</td>\n",
        "    </tr>\n",
        "    <tr>\n",
        "      <th>2</th>\n",
        "      <td>  25</td>\n",
        "      <td> 29</td>\n",
        "      <td> 0.625948</td>\n",
        "      <td> b'b'</td>\n",
        "    </tr>\n",
        "    <tr>\n",
        "      <th>3</th>\n",
        "      <td>  42</td>\n",
        "      <td> 34</td>\n",
        "      <td> 0.838398</td>\n",
        "      <td> b'a'</td>\n",
        "    </tr>\n",
        "    <tr>\n",
        "      <th>4</th>\n",
        "      <td>  67</td>\n",
        "      <td> 64</td>\n",
        "      <td> 0.094999</td>\n",
        "      <td> b'c'</td>\n",
        "    </tr>\n",
        "    <tr>\n",
        "      <th>5</th>\n",
        "      <td>  68</td>\n",
        "      <td>  1</td>\n",
        "      <td> 0.644828</td>\n",
        "      <td> b'a'</td>\n",
        "    </tr>\n",
        "    <tr>\n",
        "      <th>6</th>\n",
        "      <td>  80</td>\n",
        "      <td> 75</td>\n",
        "      <td> 0.606836</td>\n",
        "      <td> b'a'</td>\n",
        "    </tr>\n",
        "    <tr>\n",
        "      <th>7</th>\n",
        "      <td>  93</td>\n",
        "      <td> 50</td>\n",
        "      <td> 0.259451</td>\n",
        "      <td> b'c'</td>\n",
        "    </tr>\n",
        "    <tr>\n",
        "      <th>8</th>\n",
        "      <td> 103</td>\n",
        "      <td> 65</td>\n",
        "      <td> 0.276747</td>\n",
        "      <td> b'a'</td>\n",
        "    </tr>\n",
        "    <tr>\n",
        "      <th>9</th>\n",
        "      <td> 131</td>\n",
        "      <td> 33</td>\n",
        "      <td> 0.266642</td>\n",
        "      <td> b'b'</td>\n",
        "    </tr>\n",
        "  </tbody>\n",
        "</table>\n",
        "</div>"
       ],
       "metadata": {},
       "output_type": "display_data"
      }
     ],
     "prompt_number": 13
    },
    {
     "cell_type": "code",
     "collapsed": false,
     "input": [
      "rootdir = tempfile.mkdtemp()\n",
      "vtcp = allel.bcolz.VariantCTable(a, index='pos', rootdir=rootdir, mode='w')\n",
      "vtcp"
     ],
     "language": "python",
     "metadata": {},
     "outputs": [
      {
       "html": [
        "<div style=\"max-height:1000px;max-width:1500px;overflow:auto;\">\n",
        "<table border=\"1\" class=\"dataframe\">\n",
        "  <thead>\n",
        "    <tr style=\"text-align: right;\">\n",
        "      <th></th>\n",
        "      <th>pos</th>\n",
        "      <th>x</th>\n",
        "      <th>y</th>\n",
        "      <th>z</th>\n",
        "    </tr>\n",
        "  </thead>\n",
        "  <tbody>\n",
        "    <tr>\n",
        "      <th>0</th>\n",
        "      <td>  9</td>\n",
        "      <td> 94</td>\n",
        "      <td> 0.048534</td>\n",
        "      <td> b'c'</td>\n",
        "    </tr>\n",
        "    <tr>\n",
        "      <th>1</th>\n",
        "      <td> 10</td>\n",
        "      <td> 87</td>\n",
        "      <td> 0.622883</td>\n",
        "      <td> b'b'</td>\n",
        "    </tr>\n",
        "    <tr>\n",
        "      <th>2</th>\n",
        "      <td> 25</td>\n",
        "      <td> 29</td>\n",
        "      <td> 0.625948</td>\n",
        "      <td> b'b'</td>\n",
        "    </tr>\n",
        "    <tr>\n",
        "      <th>3</th>\n",
        "      <td> 42</td>\n",
        "      <td> 34</td>\n",
        "      <td> 0.838398</td>\n",
        "      <td> b'a'</td>\n",
        "    </tr>\n",
        "    <tr>\n",
        "      <th>4</th>\n",
        "      <td> 67</td>\n",
        "      <td> 64</td>\n",
        "      <td> 0.094999</td>\n",
        "      <td> b'c'</td>\n",
        "    </tr>\n",
        "  </tbody>\n",
        "</table>\n",
        "</div>"
       ],
       "metadata": {},
       "output_type": "pyout",
       "prompt_number": 14,
       "text": [
        "VariantCTable((9515340,), [('pos', '<i8'), ('x', '<i8'), ('y', '<f8'), ('z', 'S1')])\n",
        "  nbytes: 226.86 MB; cbytes: 91.50 MB; ratio: 2.48\n",
        "  cparams := cparams(clevel=5, shuffle=True, cname='blosclz')\n",
        "  rootdir := '/tmp/tmp4_if69pt'\n",
        "[(9, 94, 0.048534332330125385, b'c') (10, 87, 0.622882512425196, b'b')\n",
        " (25, 29, 0.625947574251329, b'b') ...,\n",
        " (99999966, 62, 0.4685614407421974, b'a')\n",
        " (99999973, 46, 0.8942343318112237, b'c')\n",
        " (99999995, 97, 0.3411698223021882, b'a')]"
       ]
      }
     ],
     "prompt_number": 14
    },
    {
     "cell_type": "code",
     "collapsed": false,
     "input": [
      "vtcp2 = allel.bcolz.VariantCTable.open(rootdir)\n",
      "vtcp2"
     ],
     "language": "python",
     "metadata": {},
     "outputs": [
      {
       "html": [
        "<div style=\"max-height:1000px;max-width:1500px;overflow:auto;\">\n",
        "<table border=\"1\" class=\"dataframe\">\n",
        "  <thead>\n",
        "    <tr style=\"text-align: right;\">\n",
        "      <th></th>\n",
        "      <th>pos</th>\n",
        "      <th>x</th>\n",
        "      <th>y</th>\n",
        "      <th>z</th>\n",
        "    </tr>\n",
        "  </thead>\n",
        "  <tbody>\n",
        "    <tr>\n",
        "      <th>0</th>\n",
        "      <td>  9</td>\n",
        "      <td> 94</td>\n",
        "      <td> 0.048534</td>\n",
        "      <td> b'c'</td>\n",
        "    </tr>\n",
        "    <tr>\n",
        "      <th>1</th>\n",
        "      <td> 10</td>\n",
        "      <td> 87</td>\n",
        "      <td> 0.622883</td>\n",
        "      <td> b'b'</td>\n",
        "    </tr>\n",
        "    <tr>\n",
        "      <th>2</th>\n",
        "      <td> 25</td>\n",
        "      <td> 29</td>\n",
        "      <td> 0.625948</td>\n",
        "      <td> b'b'</td>\n",
        "    </tr>\n",
        "    <tr>\n",
        "      <th>3</th>\n",
        "      <td> 42</td>\n",
        "      <td> 34</td>\n",
        "      <td> 0.838398</td>\n",
        "      <td> b'a'</td>\n",
        "    </tr>\n",
        "    <tr>\n",
        "      <th>4</th>\n",
        "      <td> 67</td>\n",
        "      <td> 64</td>\n",
        "      <td> 0.094999</td>\n",
        "      <td> b'c'</td>\n",
        "    </tr>\n",
        "  </tbody>\n",
        "</table>\n",
        "</div>"
       ],
       "metadata": {},
       "output_type": "pyout",
       "prompt_number": 15,
       "text": [
        "VariantCTable((9515340,), [('pos', '<i8'), ('x', '<i8'), ('y', '<f8'), ('z', 'S1')])\n",
        "  nbytes: 226.86 MB; cbytes: 91.50 MB; ratio: 2.48\n",
        "  cparams := cparams(clevel=5, shuffle=True, cname='blosclz')\n",
        "  rootdir := '/tmp/tmp4_if69pt'\n",
        "[(9, 94, 0.048534332330125385, b'c') (10, 87, 0.622882512425196, b'b')\n",
        " (25, 29, 0.625947574251329, b'b') ...,\n",
        " (99999966, 62, 0.4685614407421974, b'a')\n",
        " (99999973, 46, 0.8942343318112237, b'c')\n",
        " (99999995, 97, 0.3411698223021882, b'a')]"
       ]
      }
     ],
     "prompt_number": 15
    },
    {
     "cell_type": "code",
     "collapsed": false,
     "input": [
      "vt.query(query).display(10)"
     ],
     "language": "python",
     "metadata": {},
     "outputs": [
      {
       "html": [
        "<div style=\"max-height:1000px;max-width:1500px;overflow:auto;\">\n",
        "<table border=\"1\" class=\"dataframe\">\n",
        "  <thead>\n",
        "    <tr style=\"text-align: right;\">\n",
        "      <th></th>\n",
        "      <th>pos</th>\n",
        "      <th>x</th>\n",
        "      <th>y</th>\n",
        "      <th>z</th>\n",
        "    </tr>\n",
        "  </thead>\n",
        "  <tbody>\n",
        "    <tr>\n",
        "      <th>0</th>\n",
        "      <td> 103</td>\n",
        "      <td> 65</td>\n",
        "      <td> 0.276747</td>\n",
        "      <td> b'a'</td>\n",
        "    </tr>\n",
        "    <tr>\n",
        "      <th>1</th>\n",
        "      <td> 206</td>\n",
        "      <td> 86</td>\n",
        "      <td> 0.077573</td>\n",
        "      <td> b'a'</td>\n",
        "    </tr>\n",
        "    <tr>\n",
        "      <th>2</th>\n",
        "      <td> 282</td>\n",
        "      <td> 90</td>\n",
        "      <td> 0.278612</td>\n",
        "      <td> b'a'</td>\n",
        "    </tr>\n",
        "    <tr>\n",
        "      <th>3</th>\n",
        "      <td> 284</td>\n",
        "      <td> 52</td>\n",
        "      <td> 0.048890</td>\n",
        "      <td> b'a'</td>\n",
        "    </tr>\n",
        "    <tr>\n",
        "      <th>4</th>\n",
        "      <td> 341</td>\n",
        "      <td> 88</td>\n",
        "      <td> 0.467091</td>\n",
        "      <td> b'a'</td>\n",
        "    </tr>\n",
        "    <tr>\n",
        "      <th>5</th>\n",
        "      <td> 437</td>\n",
        "      <td> 64</td>\n",
        "      <td> 0.345448</td>\n",
        "      <td> b'a'</td>\n",
        "    </tr>\n",
        "    <tr>\n",
        "      <th>6</th>\n",
        "      <td> 443</td>\n",
        "      <td> 83</td>\n",
        "      <td> 0.025365</td>\n",
        "      <td> b'a'</td>\n",
        "    </tr>\n",
        "    <tr>\n",
        "      <th>7</th>\n",
        "      <td> 502</td>\n",
        "      <td> 68</td>\n",
        "      <td> 0.343255</td>\n",
        "      <td> b'a'</td>\n",
        "    </tr>\n",
        "    <tr>\n",
        "      <th>8</th>\n",
        "      <td> 593</td>\n",
        "      <td> 53</td>\n",
        "      <td> 0.045896</td>\n",
        "      <td> b'a'</td>\n",
        "    </tr>\n",
        "    <tr>\n",
        "      <th>9</th>\n",
        "      <td> 681</td>\n",
        "      <td> 77</td>\n",
        "      <td> 0.027589</td>\n",
        "      <td> b'a'</td>\n",
        "    </tr>\n",
        "  </tbody>\n",
        "</table>\n",
        "</div>"
       ],
       "metadata": {},
       "output_type": "display_data"
      }
     ],
     "prompt_number": 16
    },
    {
     "cell_type": "code",
     "collapsed": false,
     "input": [
      "vtc.query(query).display(10)"
     ],
     "language": "python",
     "metadata": {},
     "outputs": [
      {
       "html": [
        "<div style=\"max-height:1000px;max-width:1500px;overflow:auto;\">\n",
        "<table border=\"1\" class=\"dataframe\">\n",
        "  <thead>\n",
        "    <tr style=\"text-align: right;\">\n",
        "      <th></th>\n",
        "      <th>pos</th>\n",
        "      <th>x</th>\n",
        "      <th>y</th>\n",
        "      <th>z</th>\n",
        "    </tr>\n",
        "  </thead>\n",
        "  <tbody>\n",
        "    <tr>\n",
        "      <th>0</th>\n",
        "      <td> 103</td>\n",
        "      <td> 65</td>\n",
        "      <td> 0.276747</td>\n",
        "      <td> b'a'</td>\n",
        "    </tr>\n",
        "    <tr>\n",
        "      <th>1</th>\n",
        "      <td> 206</td>\n",
        "      <td> 86</td>\n",
        "      <td> 0.077573</td>\n",
        "      <td> b'a'</td>\n",
        "    </tr>\n",
        "    <tr>\n",
        "      <th>2</th>\n",
        "      <td> 282</td>\n",
        "      <td> 90</td>\n",
        "      <td> 0.278612</td>\n",
        "      <td> b'a'</td>\n",
        "    </tr>\n",
        "    <tr>\n",
        "      <th>3</th>\n",
        "      <td> 284</td>\n",
        "      <td> 52</td>\n",
        "      <td> 0.048890</td>\n",
        "      <td> b'a'</td>\n",
        "    </tr>\n",
        "    <tr>\n",
        "      <th>4</th>\n",
        "      <td> 341</td>\n",
        "      <td> 88</td>\n",
        "      <td> 0.467091</td>\n",
        "      <td> b'a'</td>\n",
        "    </tr>\n",
        "    <tr>\n",
        "      <th>5</th>\n",
        "      <td> 437</td>\n",
        "      <td> 64</td>\n",
        "      <td> 0.345448</td>\n",
        "      <td> b'a'</td>\n",
        "    </tr>\n",
        "    <tr>\n",
        "      <th>6</th>\n",
        "      <td> 443</td>\n",
        "      <td> 83</td>\n",
        "      <td> 0.025365</td>\n",
        "      <td> b'a'</td>\n",
        "    </tr>\n",
        "    <tr>\n",
        "      <th>7</th>\n",
        "      <td> 502</td>\n",
        "      <td> 68</td>\n",
        "      <td> 0.343255</td>\n",
        "      <td> b'a'</td>\n",
        "    </tr>\n",
        "    <tr>\n",
        "      <th>8</th>\n",
        "      <td> 593</td>\n",
        "      <td> 53</td>\n",
        "      <td> 0.045896</td>\n",
        "      <td> b'a'</td>\n",
        "    </tr>\n",
        "    <tr>\n",
        "      <th>9</th>\n",
        "      <td> 681</td>\n",
        "      <td> 77</td>\n",
        "      <td> 0.027589</td>\n",
        "      <td> b'a'</td>\n",
        "    </tr>\n",
        "  </tbody>\n",
        "</table>\n",
        "</div>"
       ],
       "metadata": {},
       "output_type": "display_data"
      }
     ],
     "prompt_number": 17
    },
    {
     "cell_type": "heading",
     "level": 2,
     "metadata": {},
     "source": [
      "Query profiling"
     ]
    },
    {
     "cell_type": "code",
     "collapsed": false,
     "input": [
      "# baselines with plain numpy arrays\n",
      "%timeit eval(query)\n",
      "%memit eval(query)\n",
      "%timeit numexpr.evaluate(query)\n",
      "%memit numexpr.evaluate(query)"
     ],
     "language": "python",
     "metadata": {},
     "outputs": [
      {
       "output_type": "stream",
       "stream": "stdout",
       "text": [
        "10 loops, best of 3: 154 ms per loop\n"
       ]
      },
      {
       "output_type": "stream",
       "stream": "stdout",
       "text": [
        "peak memory: 1170.03 MiB, increment: 0.11 MiB\n",
        "10 loops, best of 3: 48.5 ms per loop"
       ]
      },
      {
       "output_type": "stream",
       "stream": "stdout",
       "text": [
        "\n"
       ]
      },
      {
       "output_type": "stream",
       "stream": "stdout",
       "text": [
        "peak memory: 1170.08 MiB, increment: 0.05 MiB\n"
       ]
      }
     ],
     "prompt_number": 18
    },
    {
     "cell_type": "code",
     "collapsed": false,
     "input": [
      "vm = 'python'\n",
      "%timeit vt.eval(query, vm=vm)\n",
      "%memit vt.eval(query, vm=vm)\n",
      "%timeit vtc.eval(query, vm=vm)\n",
      "%memit vtc.eval(query, vm=vm)\n",
      "%timeit vtcp.eval(query, vm=vm)\n",
      "%memit vtcp.eval(query, vm=vm)"
     ],
     "language": "python",
     "metadata": {},
     "outputs": [
      {
       "output_type": "stream",
       "stream": "stdout",
       "text": [
        "1 loops, best of 3: 252 ms per loop\n"
       ]
      },
      {
       "output_type": "stream",
       "stream": "stdout",
       "text": [
        "peak memory: 1170.20 MiB, increment: 0.00 MiB\n",
        "1 loops, best of 3: 304 ms per loop"
       ]
      },
      {
       "output_type": "stream",
       "stream": "stdout",
       "text": [
        "\n"
       ]
      },
      {
       "output_type": "stream",
       "stream": "stdout",
       "text": [
        "peak memory: 1170.20 MiB, increment: 0.00 MiB\n",
        "1 loops, best of 3: 343 ms per loop"
       ]
      },
      {
       "output_type": "stream",
       "stream": "stdout",
       "text": [
        "\n"
       ]
      },
      {
       "output_type": "stream",
       "stream": "stdout",
       "text": [
        "peak memory: 1170.48 MiB, increment: 0.28 MiB\n"
       ]
      }
     ],
     "prompt_number": 19
    },
    {
     "cell_type": "code",
     "collapsed": false,
     "input": [
      "vm = 'numexpr'\n",
      "%timeit vt.eval(query, vm=vm)\n",
      "%memit vt.eval(query, vm=vm)\n",
      "%timeit vtc.eval(query, vm=vm)\n",
      "%memit vtc.eval(query, vm=vm)\n",
      "%timeit vtcp.eval(query, vm=vm)\n",
      "%memit vtcp.eval(query, vm=vm)"
     ],
     "language": "python",
     "metadata": {},
     "outputs": [
      {
       "output_type": "stream",
       "stream": "stdout",
       "text": [
        "10 loops, best of 3: 61 ms per loop\n"
       ]
      },
      {
       "output_type": "stream",
       "stream": "stdout",
       "text": [
        "peak memory: 1170.48 MiB, increment: 0.00 MiB\n",
        "1 loops, best of 3: 168 ms per loop"
       ]
      },
      {
       "output_type": "stream",
       "stream": "stdout",
       "text": [
        "\n"
       ]
      },
      {
       "output_type": "stream",
       "stream": "stdout",
       "text": [
        "peak memory: 1170.63 MiB, increment: 0.00 MiB\n",
        "1 loops, best of 3: 227 ms per loop"
       ]
      },
      {
       "output_type": "stream",
       "stream": "stdout",
       "text": [
        "\n"
       ]
      },
      {
       "output_type": "stream",
       "stream": "stdout",
       "text": [
        "peak memory: 1170.63 MiB, increment: 0.00 MiB\n"
       ]
      }
     ],
     "prompt_number": 20
    },
    {
     "cell_type": "code",
     "collapsed": false,
     "input": [
      "fn1 = tempfile.mktemp()\n",
      "fn1"
     ],
     "language": "python",
     "metadata": {},
     "outputs": [
      {
       "metadata": {},
       "output_type": "pyout",
       "prompt_number": 21,
       "text": [
        "'/tmp/tmpsoyqr5mx'"
       ]
      }
     ],
     "prompt_number": 21
    },
    {
     "cell_type": "code",
     "collapsed": false,
     "input": [
      "with h5py.File(fn1, mode='w') as h5f:\n",
      "    h5g = h5f.create_group('table')\n",
      "    h5g.create_dataset('pos', data=pos, chunks=(1000,))\n",
      "    h5g.create_dataset('x', data=x, chunks=(1000,))\n",
      "    h5g.create_dataset('y', data=y, chunks=(1000,))\n",
      "    h5g.create_dataset('z', data=z, chunks=(1000,))"
     ],
     "language": "python",
     "metadata": {},
     "outputs": [],
     "prompt_number": 22
    },
    {
     "cell_type": "code",
     "collapsed": false,
     "input": [
      "vtc2 = allel.bcolz.VariantCTable.from_hdf5_group(fn1, 'table', names=['pos', 'x', 'y', 'z'], cparams=bcolz.cparams(cname='lz4', clevel=4))\n",
      "vtc2"
     ],
     "language": "python",
     "metadata": {},
     "outputs": [
      {
       "html": [
        "<div style=\"max-height:1000px;max-width:1500px;overflow:auto;\">\n",
        "<table border=\"1\" class=\"dataframe\">\n",
        "  <thead>\n",
        "    <tr style=\"text-align: right;\">\n",
        "      <th></th>\n",
        "      <th>pos</th>\n",
        "      <th>x</th>\n",
        "      <th>y</th>\n",
        "      <th>z</th>\n",
        "    </tr>\n",
        "  </thead>\n",
        "  <tbody>\n",
        "    <tr>\n",
        "      <th>0</th>\n",
        "      <td>  9</td>\n",
        "      <td> 94</td>\n",
        "      <td> 0.048534</td>\n",
        "      <td> b'c'</td>\n",
        "    </tr>\n",
        "    <tr>\n",
        "      <th>1</th>\n",
        "      <td> 10</td>\n",
        "      <td> 87</td>\n",
        "      <td> 0.622883</td>\n",
        "      <td> b'b'</td>\n",
        "    </tr>\n",
        "    <tr>\n",
        "      <th>2</th>\n",
        "      <td> 25</td>\n",
        "      <td> 29</td>\n",
        "      <td> 0.625948</td>\n",
        "      <td> b'b'</td>\n",
        "    </tr>\n",
        "    <tr>\n",
        "      <th>3</th>\n",
        "      <td> 42</td>\n",
        "      <td> 34</td>\n",
        "      <td> 0.838398</td>\n",
        "      <td> b'a'</td>\n",
        "    </tr>\n",
        "    <tr>\n",
        "      <th>4</th>\n",
        "      <td> 67</td>\n",
        "      <td> 64</td>\n",
        "      <td> 0.094999</td>\n",
        "      <td> b'c'</td>\n",
        "    </tr>\n",
        "  </tbody>\n",
        "</table>\n",
        "</div>"
       ],
       "metadata": {},
       "output_type": "pyout",
       "prompt_number": 23,
       "text": [
        "VariantCTable((9515340,), [('pos', '<i8'), ('x', '<i8'), ('y', '<f8'), ('z', 'S1')])\n",
        "  nbytes: 226.86 MB; cbytes: 92.26 MB; ratio: 2.46\n",
        "  cparams := cparams(clevel=4, shuffle=True, cname='lz4')\n",
        "[(9, 94, 0.048534332330125385, b'c') (10, 87, 0.622882512425196, b'b')\n",
        " (25, 29, 0.625947574251329, b'b') ...,\n",
        " (99999966, 62, 0.4685614407421974, b'a')\n",
        " (99999973, 46, 0.8942343318112237, b'c')\n",
        " (99999995, 97, 0.3411698223021882, b'a')]"
       ]
      }
     ],
     "prompt_number": 23
    },
    {
     "cell_type": "code",
     "collapsed": false,
     "input": [
      "vtc2.pos"
     ],
     "language": "python",
     "metadata": {},
     "outputs": [
      {
       "metadata": {},
       "output_type": "pyout",
       "prompt_number": 24,
       "text": [
        "carray((9515340,), int64)\n",
        "  nbytes: 72.60 MB; cbytes: 11.84 MB; ratio: 6.13\n",
        "  cparams := cparams(clevel=4, shuffle=True, cname='lz4')\n",
        "[       9       10       25 ..., 99999966 99999973 99999995]"
       ]
      }
     ],
     "prompt_number": 24
    },
    {
     "cell_type": "code",
     "collapsed": false,
     "input": [
      "%timeit vtc2.eval(query)"
     ],
     "language": "python",
     "metadata": {},
     "outputs": [
      {
       "output_type": "stream",
       "stream": "stdout",
       "text": [
        "1 loops, best of 3: 192 ms per loop\n"
       ]
      }
     ],
     "prompt_number": 25
    },
    {
     "cell_type": "code",
     "collapsed": false,
     "input": [
      "%memit vtc2.eval(query)"
     ],
     "language": "python",
     "metadata": {},
     "outputs": [
      {
       "output_type": "stream",
       "stream": "stdout",
       "text": [
        "peak memory: 1306.82 MiB, increment: 0.76 MiB\n"
       ]
      }
     ],
     "prompt_number": 26
    },
    {
     "cell_type": "code",
     "collapsed": false,
     "input": [
      "h5g = h5py.File(fn1, mode='r')['table']\n",
      "%timeit numexpr.evaluate(query, local_dict=h5g)\n",
      "%memit numexpr.evaluate(query, local_dict=h5g)"
     ],
     "language": "python",
     "metadata": {},
     "outputs": [
      {
       "output_type": "stream",
       "stream": "stdout",
       "text": [
        "1 loops, best of 3: 400 ms per loop\n"
       ]
      },
      {
       "output_type": "stream",
       "stream": "stdout",
       "text": [
        "peak memory: 1463.86 MiB, increment: 145.38 MiB\n"
       ]
      }
     ],
     "prompt_number": 27
    },
    {
     "cell_type": "heading",
     "level": 2,
     "metadata": {},
     "source": [
      "VCF"
     ]
    },
    {
     "cell_type": "code",
     "collapsed": false,
     "input": [
      "size = 100000\n",
      "pos = np.unique(np.random.randint(0, 100000000, size=size))\n",
      "chrom = np.array([b'chr1'] * pos.size)\n",
      "ref = np.random.choice([b'A', b'C', b'T', b'G'], size=pos.size)\n",
      "x = np.random.randint(0, 100, size=pos.size)\n",
      "y = np.random.random(size=pos.size)\n",
      "z = np.random.choice([b'a', b'b', b'c'], size=pos.size)\n",
      "flag = np.random.randint(0, 2, size=pos.size).astype(bool)\n",
      "columns = [chrom, pos, ref, x, y, z, flag]\n",
      "names = ['CHROM', 'POS', 'REF', 'DP', 'MQ', 'ZZ', 'FLG']\n",
      "a = np.rec.fromarrays(columns, names=names)\n",
      "vt = allel.model.VariantTable(a)\n",
      "vt"
     ],
     "language": "python",
     "metadata": {},
     "outputs": [
      {
       "html": [
        "<div style=\"max-height:1000px;max-width:1500px;overflow:auto;\">\n",
        "<table border=\"1\" class=\"dataframe\">\n",
        "  <thead>\n",
        "    <tr style=\"text-align: right;\">\n",
        "      <th></th>\n",
        "      <th>CHROM</th>\n",
        "      <th>POS</th>\n",
        "      <th>REF</th>\n",
        "      <th>DP</th>\n",
        "      <th>MQ</th>\n",
        "      <th>ZZ</th>\n",
        "      <th>FLG</th>\n",
        "    </tr>\n",
        "  </thead>\n",
        "  <tbody>\n",
        "    <tr>\n",
        "      <th>0</th>\n",
        "      <td> b'chr1'</td>\n",
        "      <td>  961</td>\n",
        "      <td> b'A'</td>\n",
        "      <td>  4</td>\n",
        "      <td> 0.922264</td>\n",
        "      <td> b'a'</td>\n",
        "      <td> False</td>\n",
        "    </tr>\n",
        "    <tr>\n",
        "      <th>1</th>\n",
        "      <td> b'chr1'</td>\n",
        "      <td> 1812</td>\n",
        "      <td> b'A'</td>\n",
        "      <td> 70</td>\n",
        "      <td> 0.970685</td>\n",
        "      <td> b'c'</td>\n",
        "      <td> False</td>\n",
        "    </tr>\n",
        "    <tr>\n",
        "      <th>2</th>\n",
        "      <td> b'chr1'</td>\n",
        "      <td> 1937</td>\n",
        "      <td> b'G'</td>\n",
        "      <td> 71</td>\n",
        "      <td> 0.925726</td>\n",
        "      <td> b'b'</td>\n",
        "      <td> False</td>\n",
        "    </tr>\n",
        "    <tr>\n",
        "      <th>3</th>\n",
        "      <td> b'chr1'</td>\n",
        "      <td> 2324</td>\n",
        "      <td> b'A'</td>\n",
        "      <td> 71</td>\n",
        "      <td> 0.190789</td>\n",
        "      <td> b'b'</td>\n",
        "      <td>  True</td>\n",
        "    </tr>\n",
        "    <tr>\n",
        "      <th>4</th>\n",
        "      <td> b'chr1'</td>\n",
        "      <td> 2383</td>\n",
        "      <td> b'T'</td>\n",
        "      <td> 50</td>\n",
        "      <td> 0.214158</td>\n",
        "      <td> b'b'</td>\n",
        "      <td>  True</td>\n",
        "    </tr>\n",
        "  </tbody>\n",
        "</table>\n",
        "</div>"
       ],
       "metadata": {},
       "output_type": "pyout",
       "prompt_number": 21,
       "text": [
        "VariantTable((99939,), dtype=[('CHROM', 'S4'), ('POS', '<i8'), ('REF', 'S1'), ('DP', '<i8'), ('MQ', '<f8'), ('ZZ', 'S1'), ('FLG', '?')])\n",
        "[(b'chr1', 961, b'A', 4, 0.9222638986796139, b'a', False)\n",
        " (b'chr1', 1812, b'A', 70, 0.9706849895478908, b'c', False)\n",
        " (b'chr1', 1937, b'G', 71, 0.9257257271415631, b'b', False) ...,\n",
        " (b'chr1', 99997122, b'A', 94, 0.17218578661826123, b'b', True)\n",
        " (b'chr1', 99997355, b'G', 43, 0.1816417733322946, b'c', False)\n",
        " (b'chr1', 99997830, b'C', 38, 0.6657626339540229, b'b', False)]"
       ]
      }
     ],
     "prompt_number": 21
    },
    {
     "cell_type": "code",
     "collapsed": false,
     "input": [
      "fn = tempfile.mktemp()\n",
      "%time vt.to_vcf(fn)"
     ],
     "language": "python",
     "metadata": {},
     "outputs": [
      {
       "output_type": "stream",
       "stream": "stdout",
       "text": [
        "CPU times: user 3.08 s, sys: 16 ms, total: 3.09 s\n",
        "Wall time: 3.09 s\n"
       ]
      }
     ],
     "prompt_number": 22
    },
    {
     "cell_type": "code",
     "collapsed": false,
     "input": [
      "vct = allel.bcolz.VariantCTable(columns, names=names)\n",
      "vct"
     ],
     "language": "python",
     "metadata": {},
     "outputs": [
      {
       "html": [
        "<div style=\"max-height:1000px;max-width:1500px;overflow:auto;\">\n",
        "<table border=\"1\" class=\"dataframe\">\n",
        "  <thead>\n",
        "    <tr style=\"text-align: right;\">\n",
        "      <th></th>\n",
        "      <th>CHROM</th>\n",
        "      <th>POS</th>\n",
        "      <th>REF</th>\n",
        "      <th>DP</th>\n",
        "      <th>MQ</th>\n",
        "      <th>ZZ</th>\n",
        "      <th>FLG</th>\n",
        "    </tr>\n",
        "  </thead>\n",
        "  <tbody>\n",
        "    <tr>\n",
        "      <th>0</th>\n",
        "      <td> b'chr1'</td>\n",
        "      <td>  961</td>\n",
        "      <td> b'A'</td>\n",
        "      <td>  4</td>\n",
        "      <td> 0.922264</td>\n",
        "      <td> b'a'</td>\n",
        "      <td> False</td>\n",
        "    </tr>\n",
        "    <tr>\n",
        "      <th>1</th>\n",
        "      <td> b'chr1'</td>\n",
        "      <td> 1812</td>\n",
        "      <td> b'A'</td>\n",
        "      <td> 70</td>\n",
        "      <td> 0.970685</td>\n",
        "      <td> b'c'</td>\n",
        "      <td> False</td>\n",
        "    </tr>\n",
        "    <tr>\n",
        "      <th>2</th>\n",
        "      <td> b'chr1'</td>\n",
        "      <td> 1937</td>\n",
        "      <td> b'G'</td>\n",
        "      <td> 71</td>\n",
        "      <td> 0.925726</td>\n",
        "      <td> b'b'</td>\n",
        "      <td> False</td>\n",
        "    </tr>\n",
        "    <tr>\n",
        "      <th>3</th>\n",
        "      <td> b'chr1'</td>\n",
        "      <td> 2324</td>\n",
        "      <td> b'A'</td>\n",
        "      <td> 71</td>\n",
        "      <td> 0.190789</td>\n",
        "      <td> b'b'</td>\n",
        "      <td>  True</td>\n",
        "    </tr>\n",
        "    <tr>\n",
        "      <th>4</th>\n",
        "      <td> b'chr1'</td>\n",
        "      <td> 2383</td>\n",
        "      <td> b'T'</td>\n",
        "      <td> 50</td>\n",
        "      <td> 0.214158</td>\n",
        "      <td> b'b'</td>\n",
        "      <td>  True</td>\n",
        "    </tr>\n",
        "  </tbody>\n",
        "</table>\n",
        "</div>"
       ],
       "metadata": {},
       "output_type": "pyout",
       "prompt_number": 23,
       "text": [
        "VariantCTable((99939,), [('CHROM', 'S4'), ('POS', '<i8'), ('REF', 'S1'), ('DP', '<i8'), ('MQ', '<f8'), ('ZZ', 'S1'), ('FLG', '?')])\n",
        "  nbytes: 2.95 MB; cbytes: 2.33 MB; ratio: 1.27\n",
        "  cparams := cparams(clevel=5, shuffle=True, cname='blosclz')\n",
        "[(b'chr1', 961, b'A', 4, 0.9222638986796139, b'a', False)\n",
        " (b'chr1', 1812, b'A', 70, 0.9706849895478908, b'c', False)\n",
        " (b'chr1', 1937, b'G', 71, 0.9257257271415631, b'b', False) ...,\n",
        " (b'chr1', 99997122, b'A', 94, 0.17218578661826123, b'b', True)\n",
        " (b'chr1', 99997355, b'G', 43, 0.1816417733322946, b'c', False)\n",
        " (b'chr1', 99997830, b'C', 38, 0.6657626339540229, b'b', False)]"
       ]
      }
     ],
     "prompt_number": 23
    },
    {
     "cell_type": "code",
     "collapsed": false,
     "input": [
      "%time vct.to_vcf(fn)"
     ],
     "language": "python",
     "metadata": {},
     "outputs": [
      {
       "output_type": "stream",
       "stream": "stdout",
       "text": [
        "CPU times: user 3.09 s, sys: 12 ms, total: 3.1 s\n",
        "Wall time: 3.09 s\n"
       ]
      }
     ],
     "prompt_number": 28
    },
    {
     "cell_type": "code",
     "collapsed": false,
     "input": [
      "!head -n20 {fn}"
     ],
     "language": "python",
     "metadata": {},
     "outputs": [
      {
       "output_type": "stream",
       "stream": "stdout",
       "text": [
        "##fileformat=VCFv4.1\r\n",
        "##fileDate=20150225\r\n",
        "##source=scikit-allel-0.6.0.dev2\r\n",
        "##INFO=<ID=DP,Number=1,Type=Integer,Description=\"\">\r\n",
        "##INFO=<ID=FLG,Number=0,Type=Flag,Description=\"\">\r\n",
        "##INFO=<ID=MQ,Number=1,Type=Float,Description=\"\">\r\n",
        "##INFO=<ID=ZZ,Number=1,Type=String,Description=\"\">\r\n",
        "#CHROM\tPOS\tID\tREF\tALT\tQUAL\tFILTER\tINFO\r\n",
        "chr1\t961\t.\tA\t.\t.\t.\tDP=4;MQ=0.92226389868;ZZ=a\r",
        "\r\n",
        "chr1\t1812\t.\tA\t.\t.\t.\tDP=70;MQ=0.970684989548;ZZ=c\r",
        "\r\n",
        "chr1\t1937\t.\tG\t.\t.\t.\tDP=71;MQ=0.925725727142;ZZ=b\r",
        "\r\n",
        "chr1\t2324\t.\tA\t.\t.\t.\tDP=71;FLG;MQ=0.190789251089;ZZ=b\r",
        "\r\n",
        "chr1\t2383\t.\tT\t.\t.\t.\tDP=50;FLG;MQ=0.214157901464;ZZ=b\r",
        "\r\n",
        "chr1\t3740\t.\tA\t.\t.\t.\tDP=23;MQ=0.0477399302848;ZZ=b\r",
        "\r\n",
        "chr1\t3978\t.\tT\t.\t.\t.\tDP=20;FLG;MQ=0.489855469117;ZZ=c\r",
        "\r\n",
        "chr1\t5397\t.\tG\t.\t.\t.\tDP=65;FLG;MQ=0.292203259144;ZZ=c\r",
        "\r\n",
        "chr1\t5646\t.\tC\t.\t.\t.\tDP=7;MQ=0.940430619662;ZZ=c\r",
        "\r\n",
        "chr1\t6761\t.\tA\t.\t.\t.\tDP=54;FLG;MQ=0.459540675249;ZZ=a\r",
        "\r\n",
        "chr1\t6839\t.\tC\t.\t.\t.\tDP=29;MQ=0.961988545598;ZZ=b\r",
        "\r\n",
        "chr1\t7801\t.\tC\t.\t.\t.\tDP=78;MQ=0.0522209535111;ZZ=c\r",
        "\r\n"
       ]
      }
     ],
     "prompt_number": 25
    },
    {
     "cell_type": "code",
     "collapsed": false,
     "input": [
      "!tail -n20 {fn}"
     ],
     "language": "python",
     "metadata": {},
     "outputs": [
      {
       "output_type": "stream",
       "stream": "stdout",
       "text": [
        "chr1\t99975348\t.\tT\t.\t.\t.\tDP=20;FLG;MQ=0.648477263337;ZZ=c\r",
        "\r\n",
        "chr1\t99978373\t.\tC\t.\t.\t.\tDP=60;FLG;MQ=0.378684269053;ZZ=c\r",
        "\r\n",
        "chr1\t99978911\t.\tG\t.\t.\t.\tDP=84;FLG;MQ=0.880819844242;ZZ=a\r",
        "\r\n",
        "chr1\t99980404\t.\tC\t.\t.\t.\tDP=70;FLG;MQ=0.0227780525978;ZZ=b\r",
        "\r\n",
        "chr1\t99980473\t.\tA\t.\t.\t.\tDP=36;MQ=0.789241246483;ZZ=c\r",
        "\r\n",
        "chr1\t99980767\t.\tT\t.\t.\t.\tDP=79;MQ=0.146154489605;ZZ=b\r",
        "\r\n",
        "chr1\t99981663\t.\tC\t.\t.\t.\tDP=96;FLG;MQ=0.634845144778;ZZ=c\r",
        "\r\n",
        "chr1\t99983640\t.\tC\t.\t.\t.\tDP=34;FLG;MQ=0.807069869529;ZZ=a\r",
        "\r\n",
        "chr1\t99984076\t.\tA\t.\t.\t.\tDP=50;MQ=0.77312365257;ZZ=b\r",
        "\r\n",
        "chr1\t99984504\t.\tG\t.\t.\t.\tDP=22;MQ=0.46349080245;ZZ=c\r",
        "\r\n",
        "chr1\t99985202\t.\tG\t.\t.\t.\tDP=44;FLG;MQ=0.752395855687;ZZ=a\r",
        "\r\n",
        "chr1\t99985548\t.\tA\t.\t.\t.\tDP=36;MQ=0.330695408744;ZZ=b\r",
        "\r\n",
        "chr1\t99986566\t.\tA\t.\t.\t.\tDP=35;MQ=0.795041710901;ZZ=c\r",
        "\r\n",
        "chr1\t99987058\t.\tA\t.\t.\t.\tDP=82;FLG;MQ=0.77352409433;ZZ=b\r",
        "\r\n",
        "chr1\t99991192\t.\tT\t.\t.\t.\tDP=29;MQ=0.990447613724;ZZ=b\r",
        "\r\n",
        "chr1\t99991731\t.\tG\t.\t.\t.\tDP=34;MQ=0.425923765829;ZZ=a\r",
        "\r\n",
        "chr1\t99993549\t.\tA\t.\t.\t.\tDP=8;MQ=0.130474513454;ZZ=c\r",
        "\r\n",
        "chr1\t99997122\t.\tA\t.\t.\t.\tDP=94;FLG;MQ=0.172185786618;ZZ=b\r",
        "\r\n",
        "chr1\t99997355\t.\tG\t.\t.\t.\tDP=43;MQ=0.181641773332;ZZ=c\r",
        "\r\n",
        "chr1\t99997830\t.\tC\t.\t.\t.\tDP=38;MQ=0.665762633954;ZZ=b\r",
        "\r\n"
       ]
      }
     ],
     "prompt_number": 26
    },
    {
     "cell_type": "code",
     "collapsed": false,
     "input": [],
     "language": "python",
     "metadata": {},
     "outputs": []
    }
   ],
   "metadata": {}
  }
 ]
}