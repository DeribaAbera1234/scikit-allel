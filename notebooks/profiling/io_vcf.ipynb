{
 "cells": [
  {
   "cell_type": "code",
   "execution_count": 1,
   "metadata": {
    "collapsed": false
   },
   "outputs": [],
   "source": [
    "import sys\n",
    "sys.path.insert(0, '../..')\n",
    "from allel.io_vcf_read import read_vcf, _read_vcf\n",
    "from allel.opt.io_vcf_read import (iter_vcf, \n",
    "#                                    CalldataParser_parse, \n",
    "#                                    GenotypeInt8Parser_parse, \n",
    "#                                    ParserContext_next, \n",
    "#                                    BufferedReader_read\n",
    "                                  )"
   ]
  },
  {
   "cell_type": "code",
   "execution_count": 2,
   "metadata": {
    "collapsed": true
   },
   "outputs": [],
   "source": [
    "prof_vcf_fn = '/localssd/kwiat/vector/ag1000g/release/phase1.AR3.1/haplotypes/specific_regions/PARA/2L_2358158_2431617.vcf.gz'\n",
    "sample_vcf_fn = '../../fixture/sample.vcf'"
   ]
  },
  {
   "cell_type": "code",
   "execution_count": 3,
   "metadata": {
    "collapsed": false,
    "scrolled": false
   },
   "outputs": [],
   "source": [
    "results = read_vcf(sample_vcf_fn, buffer_size=2**15, block_size=3)"
   ]
  },
  {
   "cell_type": "code",
   "execution_count": 4,
   "metadata": {
    "collapsed": false
   },
   "outputs": [
    {
     "data": {
      "text/plain": [
       "['calldata/GT',\n",
       " 'variants/ALT',\n",
       " 'variants/CHROM',\n",
       " 'variants/FILTER',\n",
       " 'variants/ID',\n",
       " 'variants/POS',\n",
       " 'variants/QUAL',\n",
       " 'variants/REF']"
      ]
     },
     "execution_count": 4,
     "metadata": {},
     "output_type": "execute_result"
    }
   ],
   "source": [
    "sorted(results[0].keys())"
   ]
  },
  {
   "cell_type": "code",
   "execution_count": 5,
   "metadata": {
    "collapsed": false
   },
   "outputs": [
    {
     "data": {
      "text/plain": [
       "array([b'19', b'19', b'20'], \n",
       "      dtype='|S12')"
      ]
     },
     "execution_count": 5,
     "metadata": {},
     "output_type": "execute_result"
    }
   ],
   "source": [
    "results[0]['variants/CHROM']"
   ]
  },
  {
   "cell_type": "code",
   "execution_count": 6,
   "metadata": {
    "collapsed": false
   },
   "outputs": [
    {
     "data": {
      "text/plain": [
       "array([  111,   112, 14370], dtype=int32)"
      ]
     },
     "execution_count": 6,
     "metadata": {},
     "output_type": "execute_result"
    }
   ],
   "source": [
    "results[0]['variants/POS']"
   ]
  },
  {
   "cell_type": "code",
   "execution_count": 7,
   "metadata": {
    "collapsed": false
   },
   "outputs": [
    {
     "data": {
      "text/plain": [
       "array([b'.', b'.', b'rs6054257'], \n",
       "      dtype='|S12')"
      ]
     },
     "execution_count": 7,
     "metadata": {},
     "output_type": "execute_result"
    }
   ],
   "source": [
    "results[0]['variants/ID']"
   ]
  },
  {
   "cell_type": "code",
   "execution_count": 8,
   "metadata": {
    "collapsed": false
   },
   "outputs": [
    {
     "data": {
      "text/plain": [
       "array([b'A', b'A', b'G'], \n",
       "      dtype='|S1')"
      ]
     },
     "execution_count": 8,
     "metadata": {},
     "output_type": "execute_result"
    }
   ],
   "source": [
    "results[0]['variants/REF']"
   ]
  },
  {
   "cell_type": "code",
   "execution_count": 9,
   "metadata": {
    "collapsed": false
   },
   "outputs": [
    {
     "data": {
      "text/plain": [
       "array([[b'C', b'', b''],\n",
       "       [b'G', b'', b''],\n",
       "       [b'A', b'', b'']], \n",
       "      dtype='|S1')"
      ]
     },
     "execution_count": 9,
     "metadata": {},
     "output_type": "execute_result"
    }
   ],
   "source": [
    "results[0]['variants/ALT']"
   ]
  },
  {
   "cell_type": "code",
   "execution_count": 10,
   "metadata": {
    "collapsed": false
   },
   "outputs": [
    {
     "data": {
      "text/plain": [
       "array([  9.60000038,  10.        ,  29.        ], dtype=float32)"
      ]
     },
     "execution_count": 10,
     "metadata": {},
     "output_type": "execute_result"
    }
   ],
   "source": [
    "results[0]['variants/QUAL']"
   ]
  },
  {
   "cell_type": "code",
   "execution_count": 11,
   "metadata": {
    "collapsed": false
   },
   "outputs": [
    {
     "data": {
      "text/plain": [
       "array([[False],\n",
       "       [False],\n",
       "       [ True]], dtype=bool)"
      ]
     },
     "execution_count": 11,
     "metadata": {},
     "output_type": "execute_result"
    }
   ],
   "source": [
    "results[0]['variants/FILTER']"
   ]
  },
  {
   "cell_type": "code",
   "execution_count": 12,
   "metadata": {
    "collapsed": false
   },
   "outputs": [
    {
     "data": {
      "text/plain": [
       "array([[[0, 0],\n",
       "        [0, 0],\n",
       "        [0, 1]],\n",
       "\n",
       "       [[0, 0],\n",
       "        [0, 0],\n",
       "        [0, 1]],\n",
       "\n",
       "       [[0, 0],\n",
       "        [1, 0],\n",
       "        [1, 1]]], dtype=int8)"
      ]
     },
     "execution_count": 12,
     "metadata": {},
     "output_type": "execute_result"
    }
   ],
   "source": [
    "results[0]['calldata/GT']"
   ]
  },
  {
   "cell_type": "code",
   "execution_count": 13,
   "metadata": {
    "collapsed": true
   },
   "outputs": [],
   "source": [
    "results = read_vcf(prof_vcf_fn, buffer_size=2**15, block_size=1000)"
   ]
  },
  {
   "cell_type": "code",
   "execution_count": 14,
   "metadata": {
    "collapsed": false
   },
   "outputs": [
    {
     "data": {
      "text/plain": [
       "2"
      ]
     },
     "execution_count": 14,
     "metadata": {},
     "output_type": "execute_result"
    }
   ],
   "source": [
    "len(results)"
   ]
  },
  {
   "cell_type": "code",
   "execution_count": 15,
   "metadata": {
    "collapsed": false
   },
   "outputs": [
    {
     "data": {
      "text/plain": [
       "['calldata/GT',\n",
       " 'variants/ALT',\n",
       " 'variants/CHROM',\n",
       " 'variants/FILTER',\n",
       " 'variants/ID',\n",
       " 'variants/POS',\n",
       " 'variants/QUAL',\n",
       " 'variants/REF']"
      ]
     },
     "execution_count": 15,
     "metadata": {},
     "output_type": "execute_result"
    }
   ],
   "source": [
    "sorted(results[0].keys())"
   ]
  },
  {
   "cell_type": "code",
   "execution_count": 16,
   "metadata": {
    "collapsed": false
   },
   "outputs": [
    {
     "data": {
      "text/plain": [
       "(1000, 773, 2)"
      ]
     },
     "execution_count": 16,
     "metadata": {},
     "output_type": "execute_result"
    }
   ],
   "source": [
    "results[0]['calldata/GT'].shape"
   ]
  },
  {
   "cell_type": "code",
   "execution_count": 17,
   "metadata": {
    "collapsed": false
   },
   "outputs": [
    {
     "data": {
      "text/plain": [
       "(968, 773, 2)"
      ]
     },
     "execution_count": 17,
     "metadata": {},
     "output_type": "execute_result"
    }
   ],
   "source": [
    "results[1]['calldata/GT'].shape"
   ]
  },
  {
   "cell_type": "code",
   "execution_count": 18,
   "metadata": {
    "collapsed": false
   },
   "outputs": [
    {
     "data": {
      "text/plain": [
       "array([b'2L', b'2L', b'2L', b'2L', b'2L', b'2L', b'2L', b'2L', b'2L',\n",
       "       b'2L', b'2L', b'2L', b'2L', b'2L', b'2L', b'2L', b'2L', b'2L',\n",
       "       b'2L', b'2L', b'2L', b'2L', b'2L', b'2L', b'2L', b'2L', b'2L',\n",
       "       b'2L', b'2L', b'2L', b'2L', b'2L', b'2L', b'2L', b'2L', b'2L',\n",
       "       b'2L', b'2L', b'2L', b'2L', b'2L', b'2L', b'2L', b'2L', b'2L',\n",
       "       b'2L', b'2L', b'2L', b'2L', b'2L', b'2L', b'2L', b'2L', b'2L',\n",
       "       b'2L', b'2L', b'2L', b'2L', b'2L', b'2L', b'2L', b'2L', b'2L',\n",
       "       b'2L', b'2L', b'2L', b'2L', b'2L', b'2L', b'2L', b'2L', b'2L',\n",
       "       b'2L', b'2L', b'2L', b'2L', b'2L', b'2L', b'2L', b'2L', b'2L',\n",
       "       b'2L', b'2L', b'2L', b'2L', b'2L', b'2L', b'2L', b'2L', b'2L',\n",
       "       b'2L', b'2L', b'2L', b'2L', b'2L', b'2L', b'2L', b'2L', b'2L',\n",
       "       b'2L', b'2L', b'2L', b'2L', b'2L', b'2L', b'2L', b'2L', b'2L',\n",
       "       b'2L', b'2L', b'2L', b'2L', b'2L', b'2L', b'2L', b'2L', b'2L',\n",
       "       b'2L', b'2L', b'2L', b'2L', b'2L', b'2L', b'2L', b'2L', b'2L',\n",
       "       b'2L', b'2L', b'2L', b'2L', b'2L', b'2L', b'2L', b'2L', b'2L',\n",
       "       b'2L', b'2L', b'2L', b'2L', b'2L', b'2L', b'2L', b'2L', b'2L',\n",
       "       b'2L', b'2L', b'2L', b'2L', b'2L', b'2L', b'2L', b'2L', b'2L',\n",
       "       b'2L', b'2L', b'2L', b'2L', b'2L', b'2L', b'2L', b'2L', b'2L',\n",
       "       b'2L', b'2L', b'2L', b'2L', b'2L', b'2L', b'2L', b'2L', b'2L',\n",
       "       b'2L', b'2L', b'2L', b'2L', b'2L', b'2L', b'2L', b'2L', b'2L',\n",
       "       b'2L', b'2L', b'2L', b'2L', b'2L', b'2L', b'2L', b'2L', b'2L',\n",
       "       b'2L', b'2L', b'2L', b'2L', b'2L', b'2L', b'2L', b'2L', b'2L',\n",
       "       b'2L', b'2L', b'2L', b'2L', b'2L', b'2L', b'2L', b'2L', b'2L',\n",
       "       b'2L', b'2L', b'2L', b'2L', b'2L', b'2L', b'2L', b'2L', b'2L',\n",
       "       b'2L', b'2L', b'2L', b'2L', b'2L', b'2L', b'2L', b'2L', b'2L',\n",
       "       b'2L', b'2L', b'2L', b'2L', b'2L', b'2L', b'2L', b'2L', b'2L',\n",
       "       b'2L', b'2L', b'2L', b'2L', b'2L', b'2L', b'2L', b'2L', b'2L',\n",
       "       b'2L', b'2L', b'2L', b'2L', b'2L', b'2L', b'2L', b'2L', b'2L',\n",
       "       b'2L', b'2L', b'2L', b'2L', b'2L', b'2L', b'2L', b'2L', b'2L',\n",
       "       b'2L', b'2L', b'2L', b'2L', b'2L', b'2L', b'2L', b'2L', b'2L',\n",
       "       b'2L', b'2L', b'2L', b'2L', b'2L', b'2L', b'2L', b'2L', b'2L',\n",
       "       b'2L', b'2L', b'2L', b'2L', b'2L', b'2L', b'2L', b'2L', b'2L',\n",
       "       b'2L', b'2L', b'2L', b'2L', b'2L', b'2L', b'2L', b'2L', b'2L',\n",
       "       b'2L', b'2L', b'2L', b'2L', b'2L', b'2L', b'2L', b'2L', b'2L',\n",
       "       b'2L', b'2L', b'2L', b'2L', b'2L', b'2L', b'2L', b'2L', b'2L',\n",
       "       b'2L', b'2L', b'2L', b'2L', b'2L', b'2L', b'2L', b'2L', b'2L',\n",
       "       b'2L', b'2L', b'2L', b'2L', b'2L', b'2L', b'2L', b'2L', b'2L',\n",
       "       b'2L', b'2L', b'2L', b'2L', b'2L', b'2L', b'2L', b'2L', b'2L',\n",
       "       b'2L', b'2L', b'2L', b'2L', b'2L', b'2L', b'2L', b'2L', b'2L',\n",
       "       b'2L', b'2L', b'2L', b'2L', b'2L', b'2L', b'2L', b'2L', b'2L',\n",
       "       b'2L', b'2L', b'2L', b'2L', b'2L', b'2L', b'2L', b'2L', b'2L',\n",
       "       b'2L', b'2L', b'2L', b'2L', b'2L', b'2L', b'2L', b'2L', b'2L',\n",
       "       b'2L', b'2L', b'2L', b'2L', b'2L', b'2L', b'2L', b'2L', b'2L',\n",
       "       b'2L', b'2L', b'2L', b'2L', b'2L', b'2L', b'2L', b'2L', b'2L',\n",
       "       b'2L', b'2L', b'2L', b'2L', b'2L', b'2L', b'2L', b'2L', b'2L',\n",
       "       b'2L', b'2L', b'2L', b'2L', b'2L', b'2L', b'2L', b'2L', b'2L',\n",
       "       b'2L', b'2L', b'2L', b'2L', b'2L', b'2L', b'2L', b'2L', b'2L',\n",
       "       b'2L', b'2L', b'2L', b'2L', b'2L', b'2L', b'2L', b'2L', b'2L',\n",
       "       b'2L', b'2L', b'2L', b'2L', b'2L', b'2L', b'2L', b'2L', b'2L',\n",
       "       b'2L', b'2L', b'2L', b'2L', b'2L', b'2L', b'2L', b'2L', b'2L',\n",
       "       b'2L', b'2L', b'2L', b'2L', b'2L', b'2L', b'2L', b'2L', b'2L',\n",
       "       b'2L', b'2L', b'2L', b'2L', b'2L', b'2L', b'2L', b'2L', b'2L',\n",
       "       b'2L', b'2L', b'2L', b'2L', b'2L', b'2L', b'2L', b'2L', b'2L',\n",
       "       b'2L', b'2L', b'2L', b'2L', b'2L', b'2L', b'2L', b'2L', b'2L',\n",
       "       b'2L', b'2L', b'2L', b'2L', b'2L', b'2L', b'2L', b'2L', b'2L',\n",
       "       b'2L', b'2L', b'2L', b'2L', b'2L', b'2L', b'2L', b'2L', b'2L',\n",
       "       b'2L', b'2L', b'2L', b'2L', b'2L', b'2L', b'2L', b'2L', b'2L',\n",
       "       b'2L', b'2L', b'2L', b'2L', b'2L', b'2L', b'2L', b'2L', b'2L',\n",
       "       b'2L', b'2L', b'2L', b'2L', b'2L', b'2L', b'2L', b'2L', b'2L',\n",
       "       b'2L', b'2L', b'2L', b'2L', b'2L', b'2L', b'2L', b'2L', b'2L',\n",
       "       b'2L', b'2L', b'2L', b'2L', b'2L', b'2L', b'2L', b'2L', b'2L',\n",
       "       b'2L', b'2L', b'2L', b'2L', b'2L', b'2L', b'2L', b'2L', b'2L',\n",
       "       b'2L', b'2L', b'2L', b'2L', b'2L', b'2L', b'2L', b'2L', b'2L',\n",
       "       b'2L', b'2L', b'2L', b'2L', b'2L', b'2L', b'2L', b'2L', b'2L',\n",
       "       b'2L', b'2L', b'2L', b'2L', b'2L', b'2L', b'2L', b'2L', b'2L',\n",
       "       b'2L', b'2L', b'2L', b'2L', b'2L', b'2L', b'2L', b'2L', b'2L',\n",
       "       b'2L', b'2L', b'2L', b'2L', b'2L', b'2L', b'2L', b'2L', b'2L',\n",
       "       b'2L', b'2L', b'2L', b'2L', b'2L', b'2L', b'2L', b'2L', b'2L',\n",
       "       b'2L', b'2L', b'2L', b'2L', b'2L', b'2L', b'2L', b'2L', b'2L',\n",
       "       b'2L', b'2L', b'2L', b'2L', b'2L', b'2L', b'2L', b'2L', b'2L',\n",
       "       b'2L', b'2L', b'2L', b'2L', b'2L', b'2L', b'2L', b'2L', b'2L',\n",
       "       b'2L', b'2L', b'2L', b'2L', b'2L', b'2L', b'2L', b'2L', b'2L',\n",
       "       b'2L', b'2L', b'2L', b'2L', b'2L', b'2L', b'2L', b'2L', b'2L',\n",
       "       b'2L', b'2L', b'2L', b'2L', b'2L', b'2L', b'2L', b'2L', b'2L',\n",
       "       b'2L', b'2L', b'2L', b'2L', b'2L', b'2L', b'2L', b'2L', b'2L',\n",
       "       b'2L', b'2L', b'2L', b'2L', b'2L', b'2L', b'2L', b'2L', b'2L',\n",
       "       b'2L', b'2L', b'2L', b'2L', b'2L', b'2L', b'2L', b'2L', b'2L',\n",
       "       b'2L', b'2L', b'2L', b'2L', b'2L', b'2L', b'2L', b'2L', b'2L',\n",
       "       b'2L', b'2L', b'2L', b'2L', b'2L', b'2L', b'2L', b'2L', b'2L',\n",
       "       b'2L', b'2L', b'2L', b'2L', b'2L', b'2L', b'2L', b'2L', b'2L',\n",
       "       b'2L', b'2L', b'2L', b'2L', b'2L', b'2L', b'2L', b'2L', b'2L',\n",
       "       b'2L', b'2L', b'2L', b'2L', b'2L', b'2L', b'2L', b'2L', b'2L',\n",
       "       b'2L', b'2L', b'2L', b'2L', b'2L', b'2L', b'2L', b'2L', b'2L',\n",
       "       b'2L', b'2L', b'2L', b'2L', b'2L', b'2L', b'2L', b'2L', b'2L',\n",
       "       b'2L', b'2L', b'2L', b'2L', b'2L', b'2L', b'2L', b'2L', b'2L',\n",
       "       b'2L', b'2L', b'2L', b'2L', b'2L', b'2L', b'2L', b'2L', b'2L',\n",
       "       b'2L', b'2L', b'2L', b'2L', b'2L', b'2L', b'2L', b'2L', b'2L',\n",
       "       b'2L', b'2L', b'2L', b'2L', b'2L', b'2L', b'2L', b'2L', b'2L',\n",
       "       b'2L', b'2L', b'2L', b'2L', b'2L', b'2L', b'2L', b'2L', b'2L',\n",
       "       b'2L', b'2L', b'2L', b'2L', b'2L', b'2L', b'2L', b'2L', b'2L',\n",
       "       b'2L', b'2L', b'2L', b'2L', b'2L', b'2L', b'2L', b'2L', b'2L',\n",
       "       b'2L', b'2L', b'2L', b'2L', b'2L', b'2L', b'2L', b'2L', b'2L',\n",
       "       b'2L', b'2L', b'2L', b'2L', b'2L', b'2L', b'2L', b'2L', b'2L',\n",
       "       b'2L', b'2L', b'2L', b'2L', b'2L', b'2L', b'2L', b'2L', b'2L',\n",
       "       b'2L', b'2L', b'2L', b'2L', b'2L', b'2L', b'2L', b'2L', b'2L',\n",
       "       b'2L', b'2L', b'2L', b'2L', b'2L', b'2L', b'2L', b'2L', b'2L',\n",
       "       b'2L', b'2L', b'2L', b'2L', b'2L', b'2L', b'2L', b'2L', b'2L',\n",
       "       b'2L', b'2L', b'2L', b'2L', b'2L', b'2L', b'2L', b'2L', b'2L',\n",
       "       b'2L', b'2L', b'2L', b'2L', b'2L', b'2L', b'2L', b'2L', b'2L',\n",
       "       b'2L', b'2L', b'2L', b'2L', b'2L', b'2L', b'2L', b'2L', b'2L',\n",
       "       b'2L', b'2L', b'2L', b'2L', b'2L', b'2L', b'2L', b'2L', b'2L',\n",
       "       b'2L', b'2L', b'2L', b'2L', b'2L', b'2L', b'2L', b'2L', b'2L',\n",
       "       b'2L', b'2L', b'2L', b'2L', b'2L', b'2L', b'2L', b'2L', b'2L',\n",
       "       b'2L', b'2L', b'2L', b'2L', b'2L', b'2L', b'2L', b'2L', b'2L',\n",
       "       b'2L', b'2L', b'2L', b'2L', b'2L', b'2L', b'2L', b'2L', b'2L',\n",
       "       b'2L', b'2L', b'2L', b'2L', b'2L', b'2L', b'2L', b'2L', b'2L',\n",
       "       b'2L', b'2L', b'2L', b'2L', b'2L', b'2L', b'2L', b'2L', b'2L',\n",
       "       b'2L', b'2L', b'2L', b'2L', b'2L', b'2L', b'2L', b'2L', b'2L',\n",
       "       b'2L', b'2L', b'2L', b'2L', b'2L', b'2L', b'2L', b'2L', b'2L',\n",
       "       b'2L', b'2L', b'2L', b'2L', b'2L', b'2L', b'2L', b'2L', b'2L',\n",
       "       b'2L', b'2L', b'2L', b'2L', b'2L', b'2L', b'2L', b'2L', b'2L', b'2L'], \n",
       "      dtype='|S12')"
      ]
     },
     "execution_count": 18,
     "metadata": {},
     "output_type": "execute_result"
    }
   ],
   "source": [
    "results[0]['variants/CHROM']"
   ]
  },
  {
   "cell_type": "code",
   "execution_count": 19,
   "metadata": {
    "collapsed": false
   },
   "outputs": [
    {
     "data": {
      "text/plain": [
       "array([2353212, 2353223, 2353234, 2353251, 2353288, 2353294, 2353299,\n",
       "       2353319, 2353321, 2353359, 2353363, 2353387, 2353460, 2353470,\n",
       "       2353507, 2353514, 2353525, 2353579, 2353583, 2353635, 2353650,\n",
       "       2354069, 2354231, 2354449, 2354494, 2354502, 2354508, 2354526,\n",
       "       2354536, 2354539, 2354756, 2355009, 2355078, 2356461, 2356464,\n",
       "       2356481, 2356487, 2356491, 2356492, 2356495, 2356665, 2356738,\n",
       "       2356745, 2356788, 2357178, 2357179, 2357186, 2357218, 2357221,\n",
       "       2357262, 2357321, 2357532, 2357537, 2357544, 2357556, 2357577,\n",
       "       2357610, 2357646, 2357726, 2357768, 2357784, 2357816, 2357825,\n",
       "       2357828, 2357833, 2357837, 2357850, 2357859, 2357860, 2357862,\n",
       "       2357867, 2357873, 2357915, 2357955, 2357991, 2357993, 2357997,\n",
       "       2358007, 2358036, 2358056, 2358063, 2358084, 2358093, 2358254,\n",
       "       2358316, 2358328, 2358353, 2358405, 2358621, 2358667, 2358707,\n",
       "       2358734, 2358747, 2358801, 2358808, 2358818, 2358853, 2358884,\n",
       "       2359201, 2359233, 2359238, 2359241, 2359245, 2359296, 2359297,\n",
       "       2359299, 2359337, 2359346, 2359353, 2359377, 2359384, 2359422,\n",
       "       2359435, 2359440, 2359450, 2359455, 2359458, 2359460, 2359480,\n",
       "       2359508, 2359542, 2359580, 2359582, 2359596, 2359600, 2359611,\n",
       "       2359612, 2360071, 2360089, 2360106, 2360118, 2360128, 2360133,\n",
       "       2360151, 2360159, 2360169, 2360173, 2360177, 2360182, 2360189,\n",
       "       2360191, 2360193, 2360194, 2360195, 2360198, 2360209, 2360217,\n",
       "       2360225, 2360232, 2360255, 2360301, 2360303, 2360304, 2360328,\n",
       "       2360354, 2360373, 2360410, 2360431, 2360445, 2360493, 2360508,\n",
       "       2360537, 2360542, 2360547, 2360558, 2360582, 2360595, 2360605,\n",
       "       2360620, 2360644, 2360682, 2360707, 2360719, 2360737, 2360741,\n",
       "       2360748, 2360753, 2360754, 2360772, 2360797, 2360814, 2360821,\n",
       "       2360822, 2360831, 2360863, 2360952, 2360995, 2361041, 2361116,\n",
       "       2361117, 2361134, 2361177, 2361206, 2361232, 2361236, 2361238,\n",
       "       2361244, 2361253, 2361265, 2361291, 2361292, 2361301, 2361312,\n",
       "       2361314, 2361318, 2361321, 2361376, 2361396, 2361409, 2361414,\n",
       "       2361417, 2361451, 2361453, 2361454, 2361505, 2361594, 2361687,\n",
       "       2361692, 2361843, 2361850, 2361892, 2361895, 2361994, 2362002,\n",
       "       2362003, 2362019, 2362023, 2362168, 2362190, 2362247, 2362259,\n",
       "       2362266, 2362273, 2362287, 2362303, 2362328, 2362376, 2362380,\n",
       "       2362387, 2362400, 2362401, 2362427, 2362433, 2362436, 2362443,\n",
       "       2362455, 2362471, 2362477, 2363065, 2363089, 2363098, 2363111,\n",
       "       2363138, 2363146, 2363150, 2363168, 2363182, 2363227, 2363232,\n",
       "       2363236, 2363240, 2363256, 2366135, 2366158, 2366177, 2366245,\n",
       "       2366246, 2366253, 2366259, 2366285, 2366310, 2366335, 2366346,\n",
       "       2366349, 2366351, 2366361, 2366395, 2366399, 2366407, 2366469,\n",
       "       2366481, 2366505, 2366520, 2366538, 2366540, 2366579, 2366584,\n",
       "       2366590, 2366598, 2366601, 2366609, 2366624, 2366674, 2366708,\n",
       "       2366710, 2366719, 2366730, 2366732, 2366739, 2366754, 2366774,\n",
       "       2366788, 2366872, 2366902, 2366940, 2366951, 2366963, 2366965,\n",
       "       2367983, 2367984, 2368003, 2368022, 2368023, 2368034, 2368045,\n",
       "       2368077, 2368079, 2368094, 2368145, 2368149, 2368151, 2368165,\n",
       "       2368186, 2368229, 2368231, 2368253, 2368998, 2369004, 2369018,\n",
       "       2369039, 2369050, 2369051, 2369080, 2369086, 2369114, 2369139,\n",
       "       2374622, 2374635, 2374641, 2374654, 2374667, 2374694, 2374702,\n",
       "       2374705, 2374721, 2374725, 2374735, 2374748, 2374750, 2374751,\n",
       "       2374755, 2374773, 2374775, 2374779, 2374790, 2374791, 2374798,\n",
       "       2374818, 2374826, 2374841, 2374855, 2374869, 2374872, 2374882,\n",
       "       2374888, 2374904, 2374912, 2374917, 2374967, 2375002, 2375011,\n",
       "       2375026, 2375028, 2375032, 2375033, 2375047, 2375049, 2375093,\n",
       "       2375098, 2375107, 2375165, 2375277, 2375278, 2375280, 2375291,\n",
       "       2375319, 2375326, 2375355, 2375366, 2375371, 2375372, 2375398,\n",
       "       2375443, 2375457, 2375479, 2375489, 2375513, 2375534, 2375536,\n",
       "       2375538, 2375571, 2375574, 2375587, 2375588, 2375592, 2375622,\n",
       "       2375629, 2375691, 2375707, 2375714, 2375724, 2375731, 2375761,\n",
       "       2375778, 2375799, 2375818, 2375824, 2375834, 2375845, 2375849,\n",
       "       2375871, 2375875, 2375891, 2375898, 2375909, 2375918, 2375927,\n",
       "       2375934, 2375939, 2375956, 2375973, 2376070, 2376089, 2376095,\n",
       "       2376133, 2376140, 2376151, 2376161, 2376164, 2376180, 2376185,\n",
       "       2376241, 2376243, 2376264, 2376265, 2376271, 2376324, 2376361,\n",
       "       2376387, 2376766, 2376769, 2376776, 2376789, 2376832, 2376867,\n",
       "       2376886, 2376894, 2376895, 2376897, 2376915, 2376921, 2376929,\n",
       "       2376930, 2376964, 2377000, 2377020, 2380203, 2380210, 2380223,\n",
       "       2380249, 2380277, 2380281, 2380297, 2380308, 2380393, 2380418,\n",
       "       2380443, 2380590, 2380627, 2380636, 2380656, 2380675, 2380679,\n",
       "       2380762, 2380778, 2380781, 2380832, 2380836, 2380847, 2380848,\n",
       "       2380853, 2380854, 2380868, 2380870, 2380961, 2380982, 2380997,\n",
       "       2380999, 2381039, 2381047, 2381154, 2381284, 2381296, 2381305,\n",
       "       2381352, 2381364, 2381386, 2381408, 2381412, 2381436, 2381443,\n",
       "       2381459, 2381501, 2381527, 2381529, 2381535, 2381566, 2381601,\n",
       "       2381602, 2381610, 2381642, 2381659, 2381660, 2381671, 2381706,\n",
       "       2381714, 2381719, 2381742, 2381754, 2381767, 2381775, 2381780,\n",
       "       2381794, 2381816, 2381836, 2381839, 2381845, 2381846, 2381865,\n",
       "       2381885, 2381891, 2381963, 2381966, 2381969, 2381971, 2381972,\n",
       "       2381976, 2381985, 2381988, 2382007, 2382009, 2382010, 2382023,\n",
       "       2382029, 2382031, 2382064, 2382065, 2382067, 2382082, 2382084,\n",
       "       2382088, 2382098, 2382113, 2382116, 2382117, 2382119, 2382129,\n",
       "       2382137, 2382139, 2382147, 2382165, 2382221, 2382231, 2382233,\n",
       "       2382236, 2382263, 2382416, 2382425, 2382432, 2382454, 2382474,\n",
       "       2382525, 2382526, 2382536, 2382549, 2382561, 2382590, 2382627,\n",
       "       2382653, 2382657, 2382660, 2382670, 2382672, 2382691, 2382694,\n",
       "       2382699, 2382701, 2382711, 2382733, 2382756, 2382761, 2382776,\n",
       "       2382818, 2382841, 2382856, 2382870, 2382879, 2382924, 2382947,\n",
       "       2382950, 2382951, 2382966, 2382978, 2382997, 2383033, 2383059,\n",
       "       2383064, 2383086, 2383087, 2383209, 2383238, 2383251, 2383262,\n",
       "       2383265, 2383306, 2383323, 2383349, 2383364, 2383369, 2383379,\n",
       "       2383380, 2383384, 2383387, 2383413, 2383425, 2383437, 2383439,\n",
       "       2383453, 2383492, 2383496, 2383498, 2383503, 2383545, 2383553,\n",
       "       2383555, 2383564, 2383585, 2383595, 2383608, 2383627, 2383650,\n",
       "       2383690, 2383699, 2383707, 2383708, 2383738, 2383782, 2383783,\n",
       "       2383792, 2383820, 2383827, 2383830, 2383832, 2383838, 2383840,\n",
       "       2383843, 2383848, 2383849, 2383854, 2383901, 2383905, 2383973,\n",
       "       2384024, 2384040, 2384041, 2384087, 2384131, 2384174, 2384186,\n",
       "       2384256, 2384278, 2384281, 2384290, 2384292, 2384345, 2384346,\n",
       "       2384348, 2384365, 2384517, 2384524, 2384525, 2384526, 2384562,\n",
       "       2384570, 2384580, 2384599, 2384604, 2384670, 2384672, 2384685,\n",
       "       2384695, 2384701, 2384709, 2384740, 2384754, 2384762, 2384763,\n",
       "       2384786, 2384795, 2384799, 2384802, 2384812, 2384814, 2384819,\n",
       "       2384837, 2384851, 2384860, 2384873, 2384903, 2384934, 2384941,\n",
       "       2384948, 2384979, 2385002, 2385034, 2385040, 2385058, 2385064,\n",
       "       2385153, 2385169, 2385190, 2385192, 2385203, 2385239, 2385247,\n",
       "       2385314, 2385342, 2385412, 2385435, 2385451, 2385452, 2385461,\n",
       "       2385465, 2385467, 2385469, 2385476, 2385547, 2385624, 2385644,\n",
       "       2385667, 2385673, 2385757, 2385769, 2385809, 2385855, 2385873,\n",
       "       2385895, 2385896, 2385897, 2385904, 2385919, 2385923, 2385936,\n",
       "       2385943, 2385944, 2385953, 2386015, 2386023, 2386034, 2386037,\n",
       "       2386044, 2386051, 2386055, 2386067, 2386075, 2386096, 2386097,\n",
       "       2386107, 2386116, 2386130, 2386143, 2386149, 2386169, 2386174,\n",
       "       2386179, 2386182, 2386196, 2386215, 2386254, 2386284, 2386304,\n",
       "       2386317, 2386328, 2386351, 2386371, 2386379, 2386383, 2386390,\n",
       "       2386400, 2388293, 2388297, 2388319, 2388353, 2388354, 2388364,\n",
       "       2388365, 2388375, 2388394, 2388417, 2388437, 2388444, 2388445,\n",
       "       2388464, 2388482, 2388488, 2388510, 2388526, 2388548, 2388595,\n",
       "       2388596, 2388608, 2388642, 2388648, 2388649, 2388661, 2388664,\n",
       "       2388706, 2388729, 2388767, 2388772, 2388849, 2388877, 2388880,\n",
       "       2388884, 2388906, 2388909, 2388915, 2388917, 2389000, 2389028,\n",
       "       2389033, 2389036, 2389045, 2389046, 2389053, 2389061, 2389130,\n",
       "       2389132, 2389136, 2389138, 2389154, 2389215, 2389227, 2389264,\n",
       "       2389294, 2389327, 2389336, 2389337, 2389338, 2389339, 2389364,\n",
       "       2389369, 2389372, 2389388, 2389396, 2389424, 2389428, 2389471,\n",
       "       2389497, 2389502, 2389529, 2389621, 2389645, 2389674, 2389691,\n",
       "       2389716, 2389737, 2389748, 2389754, 2389764, 2389765, 2389766,\n",
       "       2389771, 2389785, 2389887, 2389896, 2389908, 2389941, 2389994,\n",
       "       2389995, 2390001, 2390034, 2390038, 2390069, 2390070, 2390110,\n",
       "       2390126, 2390130, 2390151, 2390168, 2390177, 2390205, 2390223,\n",
       "       2390310, 2390311, 2390356, 2390357, 2390370, 2390372, 2390375,\n",
       "       2390395, 2390448, 2390462, 2390501, 2390531, 2390544, 2390558,\n",
       "       2390569, 2390594, 2390844, 2391111, 2391468, 2391470, 2391488,\n",
       "       2391539, 2391688, 2391691, 2391696, 2391699, 2391704, 2391764,\n",
       "       2391776, 2391780, 2391781, 2391782, 2391798, 2391802, 2391823,\n",
       "       2391831, 2391875, 2392047, 2392056, 2392061, 2392062, 2392072,\n",
       "       2392092, 2392093, 2392094, 2392104, 2392114, 2392142, 2392177,\n",
       "       2392183, 2392225, 2392230, 2392248, 2392252, 2392279, 2392280,\n",
       "       2392300, 2392320, 2392346, 2392353, 2392357, 2392369, 2392378,\n",
       "       2392379, 2392386, 2392388, 2392389, 2392400, 2392413, 2392414,\n",
       "       2392417, 2392418, 2392457, 2392474, 2392502, 2392571, 2392575,\n",
       "       2392586, 2392587, 2392613, 2392634, 2392667, 2392686, 2392693,\n",
       "       2392697, 2392708, 2392710, 2392714, 2392723, 2392734, 2392794,\n",
       "       2392800, 2392801, 2392808, 2392812, 2392814, 2392864], dtype=int32)"
      ]
     },
     "execution_count": 19,
     "metadata": {},
     "output_type": "execute_result"
    }
   ],
   "source": [
    "results[0]['variants/POS']"
   ]
  },
  {
   "cell_type": "code",
   "execution_count": 20,
   "metadata": {
    "collapsed": false
   },
   "outputs": [
    {
     "data": {
      "text/plain": [
       "array([b'G', b'T', b'G', b'A', b'G', b'T', b'A', b'C', b'C', b'A', b'T',\n",
       "       b'G', b'C', b'G', b'C', b'C', b'C', b'A', b'T', b'C', b'T', b'C',\n",
       "       b'A', b'G', b'T', b'T', b'A', b'G', b'A', b'T', b'A', b'A', b'T',\n",
       "       b'C', b'A', b'C', b'C', b'A', b'C', b'C', b'A', b'A', b'T', b'A',\n",
       "       b'G', b'A', b'A', b'C', b'C', b'C', b'T', b'A', b'C', b'A', b'G',\n",
       "       b'G', b'A', b'C', b'C', b'T', b'C', b'A', b'C', b'C', b'T', b'A',\n",
       "       b'A', b'C', b'T', b'C', b'C', b'A', b'A', b'A', b'G', b'C', b'G',\n",
       "       b'C', b'T', b'G', b'T', b'T', b'G', b'G', b'T', b'T', b'C', b'T',\n",
       "       b'G', b'T', b'T', b'C', b'T', b'T', b'G', b'T', b'A', b'T', b'T',\n",
       "       b'C', b'C', b'T', b'T', b'C', b'T', b'C', b'G', b'G', b'T', b'T',\n",
       "       b'G', b'C', b'A', b'A', b'T', b'T', b'A', b'G', b'C', b'T', b'T',\n",
       "       b'A', b'A', b'T', b'G', b'C', b'A', b'A', b'G', b'G', b'A', b'T',\n",
       "       b'C', b'T', b'T', b'A', b'T', b'T', b'C', b'T', b'G', b'C', b'G',\n",
       "       b'A', b'A', b'T', b'A', b'G', b'T', b'C', b'A', b'C', b'G', b'A',\n",
       "       b'C', b'T', b'C', b'C', b'T', b'C', b'A', b'A', b'T', b'G', b'A',\n",
       "       b'C', b'A', b'A', b'T', b'G', b'T', b'T', b'A', b'A', b'C', b'A',\n",
       "       b'A', b'A', b'T', b'G', b'A', b'A', b'A', b'G', b'T', b'C', b'T',\n",
       "       b'T', b'A', b'A', b'C', b'T', b'A', b'C', b'A', b'C', b'A', b'A',\n",
       "       b'A', b'T', b'G', b'C', b'G', b'C', b'A', b'T', b'G', b'C', b'T',\n",
       "       b'A', b'G', b'C', b'A', b'G', b'G', b'C', b'T', b'T', b'C', b'C',\n",
       "       b'T', b'T', b'C', b'A', b'C', b'G', b'C', b'T', b'A', b'C', b'C',\n",
       "       b'G', b'G', b'T', b'A', b'T', b'G', b'A', b'G', b'C', b'A', b'A',\n",
       "       b'A', b'C', b'A', b'A', b'G', b'C', b'C', b'G', b'A', b'C', b'C',\n",
       "       b'T', b'G', b'C', b'G', b'A', b'G', b'T', b'A', b'C', b'C', b'T',\n",
       "       b'C', b'C', b'G', b'T', b'T', b'C', b'G', b'A', b'C', b'C', b'C',\n",
       "       b'C', b'G', b'C', b'A', b'C', b'A', b'T', b'G', b'C', b'G', b'T',\n",
       "       b'A', b'A', b'T', b'C', b'T', b'C', b'G', b'T', b'G', b'T', b'G',\n",
       "       b'C', b'A', b'G', b'T', b'C', b'A', b'C', b'G', b'A', b'G', b'T',\n",
       "       b'A', b'G', b'A', b'T', b'C', b'A', b'C', b'C', b'A', b'T', b'T',\n",
       "       b'G', b'A', b'G', b'G', b'G', b'G', b'G', b'A', b'C', b'T', b'C',\n",
       "       b'G', b'T', b'G', b'G', b'A', b'G', b'T', b'G', b'G', b'T', b'G',\n",
       "       b'T', b'C', b'T', b'A', b'A', b'T', b'T', b'T', b'A', b'T', b'C',\n",
       "       b'A', b'A', b'A', b'T', b'A', b'A', b'G', b'T', b'A', b'T', b'A',\n",
       "       b'C', b'C', b'T', b'A', b'T', b'A', b'A', b'G', b'A', b'G', b'G',\n",
       "       b'A', b'C', b'T', b'T', b'C', b'G', b'T', b'T', b'A', b'T', b'G',\n",
       "       b'C', b'A', b'G', b'C', b'A', b'T', b'C', b'A', b'C', b'T', b'G',\n",
       "       b'C', b'T', b'T', b'T', b'C', b'G', b'A', b'G', b'T', b'G', b'C',\n",
       "       b'A', b'C', b'C', b'C', b'G', b'T', b'A', b'C', b'T', b'G', b'T',\n",
       "       b'A', b'C', b'A', b'T', b'A', b'G', b'T', b'T', b'T', b'G', b'T',\n",
       "       b'A', b'T', b'C', b'T', b'C', b'A', b'A', b'A', b'C', b'C', b'A',\n",
       "       b'T', b'G', b'A', b'A', b'G', b'C', b'T', b'T', b'C', b'T', b'G',\n",
       "       b'A', b'A', b'T', b'T', b'A', b'C', b'C', b'C', b'T', b'C', b'A',\n",
       "       b'A', b'T', b'A', b'A', b'C', b'G', b'A', b'C', b'A', b'T', b'C',\n",
       "       b'G', b'G', b'G', b'T', b'T', b'C', b'A', b'G', b'A', b'A', b'G',\n",
       "       b'C', b'C', b'C', b'A', b'G', b'C', b'C', b'C', b'T', b'A', b'C',\n",
       "       b'T', b'T', b'C', b'T', b'T', b'C', b'A', b'G', b'G', b'C', b'C',\n",
       "       b'A', b'A', b'G', b'A', b'G', b'T', b'T', b'C', b'T', b'T', b'T',\n",
       "       b'C', b'A', b'T', b'A', b'G', b'T', b'A', b'A', b'C', b'T', b'T',\n",
       "       b'A', b'T', b'C', b'T', b'G', b'A', b'T', b'A', b'G', b'C', b'C',\n",
       "       b'T', b'G', b'C', b'A', b'T', b'C', b'G', b'G', b'C', b'A', b'A',\n",
       "       b'A', b'T', b'A', b'T', b'T', b'A', b'A', b'C', b'G', b'C', b'T',\n",
       "       b'C', b'C', b'C', b'G', b'C', b'C', b'G', b'T', b'T', b'T', b'C',\n",
       "       b'C', b'C', b'A', b'A', b'T', b'A', b'A', b'C', b'C', b'A', b'A',\n",
       "       b'C', b'A', b'G', b'C', b'T', b'T', b'G', b'A', b'C', b'A', b'G',\n",
       "       b'G', b'A', b'T', b'T', b'G', b'T', b'G', b'C', b'T', b'T', b'A',\n",
       "       b'A', b'T', b'A', b'G', b'C', b'T', b'C', b'C', b'C', b'C', b'T',\n",
       "       b'C', b'C', b'G', b'G', b'C', b'A', b'A', b'G', b'C', b'T', b'G',\n",
       "       b'G', b'C', b'G', b'C', b'C', b'T', b'C', b'G', b'T', b'T', b'C',\n",
       "       b'G', b'G', b'A', b'T', b'A', b'C', b'C', b'T', b'G', b'A', b'G',\n",
       "       b'A', b'G', b'A', b'T', b'T', b'A', b'A', b'G', b'G', b'C', b'T',\n",
       "       b'A', b'C', b'G', b'C', b'G', b'T', b'C', b'G', b'C', b'G', b'G',\n",
       "       b'A', b'A', b'C', b'G', b'C', b'C', b'T', b'A', b'G', b'G', b'A',\n",
       "       b'C', b'A', b'T', b'T', b'T', b'T', b'C', b'G', b'G', b'G', b'G',\n",
       "       b'G', b'C', b'C', b'G', b'C', b'C', b'T', b'T', b'T', b'G', b'C',\n",
       "       b'G', b'G', b'G', b'C', b'T', b'C', b'C', b'T', b'G', b'T', b'G',\n",
       "       b'A', b'A', b'T', b'G', b'A', b'T', b'T', b'A', b'A', b'C', b'A',\n",
       "       b'C', b'A', b'G', b'C', b'C', b'A', b'C', b'T', b'C', b'G', b'A',\n",
       "       b'T', b'C', b'C', b'T', b'C', b'T', b'T', b'A', b'T', b'C', b'G',\n",
       "       b'C', b'A', b'T', b'A', b'G', b'A', b'T', b'T', b'A', b'A', b'A',\n",
       "       b'A', b'C', b'A', b'C', b'T', b'C', b'C', b'G', b'G', b'A', b'G',\n",
       "       b'A', b'A', b'G', b'A', b'C', b'G', b'C', b'C', b'T', b'G', b'C',\n",
       "       b'C', b'A', b'A', b'A', b'G', b'C', b'A', b'C', b'G', b'A', b'G',\n",
       "       b'T', b'C', b'G', b'G', b'C', b'T', b'G', b'C', b'G', b'G', b'G',\n",
       "       b'T', b'T', b'T', b'A', b'G', b'C', b'T', b'T', b'G', b'T', b'T',\n",
       "       b'G', b'A', b'A', b'G', b'G', b'T', b'G', b'T', b'A', b'G', b'G',\n",
       "       b'G', b'T', b'G', b'G', b'T', b'G', b'T', b'A', b'G', b'G', b'G',\n",
       "       b'C', b'A', b'T', b'C', b'C', b'G', b'C', b'T', b'T', b'G', b'C',\n",
       "       b'T', b'C', b'G', b'C', b'G', b'G', b'C', b'C', b'C', b'A', b'T',\n",
       "       b'C', b'A', b'G', b'G', b'C', b'G', b'C', b'G', b'G', b'A', b'A',\n",
       "       b'G', b'T', b'G', b'G', b'A', b'T', b'G', b'G', b'G', b'G', b'C',\n",
       "       b'A', b'A', b'G', b'T', b'G', b'C', b'C', b'A', b'C', b'G', b'G',\n",
       "       b'A', b'G', b'A', b'T', b'G', b'C', b'C', b'C', b'A', b'G', b'G',\n",
       "       b'G', b'C', b'G', b'C', b'A', b'A', b'A', b'C', b'T', b'G', b'T',\n",
       "       b'C', b'C', b'A', b'G', b'A', b'A', b'C', b'T', b'T', b'C', b'G',\n",
       "       b'A', b'C', b'A', b'A', b'A', b'T', b'C', b'T', b'A', b'A', b'G',\n",
       "       b'C', b'G', b'C', b'G', b'A', b'T', b'A', b'G', b'A', b'T', b'T',\n",
       "       b'A', b'A', b'T', b'A', b'G', b'T', b'C', b'T', b'G', b'C', b'A',\n",
       "       b'G', b'G', b'A', b'C', b'T', b'G', b'A', b'C', b'A', b'C', b'C',\n",
       "       b'C', b'G', b'C', b'G', b'A', b'G', b'A', b'G', b'C', b'C', b'T',\n",
       "       b'C', b'G', b'G', b'C', b'G', b'T', b'C', b'G', b'G', b'C', b'T',\n",
       "       b'C', b'C', b'A', b'G', b'A', b'C', b'C', b'T', b'C', b'T'], \n",
       "      dtype='|S1')"
      ]
     },
     "execution_count": 20,
     "metadata": {},
     "output_type": "execute_result"
    }
   ],
   "source": [
    "results[0]['variants/REF']"
   ]
  },
  {
   "cell_type": "code",
   "execution_count": 21,
   "metadata": {
    "collapsed": false
   },
   "outputs": [
    {
     "data": {
      "text/plain": [
       "array([[b'A', b'', b''],\n",
       "       [b'G', b'', b''],\n",
       "       [b'C', b'', b''],\n",
       "       ..., \n",
       "       [b'C', b'', b''],\n",
       "       [b'G', b'', b''],\n",
       "       [b'A', b'', b'']], \n",
       "      dtype='|S1')"
      ]
     },
     "execution_count": 21,
     "metadata": {},
     "output_type": "execute_result"
    }
   ],
   "source": [
    "results[0]['variants/ALT']"
   ]
  },
  {
   "cell_type": "code",
   "execution_count": 22,
   "metadata": {
    "collapsed": false
   },
   "outputs": [
    {
     "name": "stdout",
     "output_type": "stream",
     "text": [
      "CPU times: user 132 ms, sys: 0 ns, total: 132 ms\n",
      "Wall time: 133 ms\n"
     ]
    }
   ],
   "source": [
    "%time _ = read_vcf(prof_vcf_fn, buffer_size=2**15, block_size=1000)"
   ]
  },
  {
   "cell_type": "code",
   "execution_count": 23,
   "metadata": {
    "collapsed": false
   },
   "outputs": [
    {
     "name": "stdout",
     "output_type": "stream",
     "text": [
      "10 loops, best of 3: 92.1 ms per loop\n"
     ]
    }
   ],
   "source": [
    "%timeit _ = read_vcf(prof_vcf_fn, buffer_size=2**15, block_size=1000)"
   ]
  },
  {
   "cell_type": "code",
   "execution_count": 24,
   "metadata": {
    "collapsed": true
   },
   "outputs": [],
   "source": [
    "import cProfile"
   ]
  },
  {
   "cell_type": "code",
   "execution_count": 25,
   "metadata": {
    "collapsed": false,
    "scrolled": false
   },
   "outputs": [
    {
     "name": "stdout",
     "output_type": "stream",
     "text": [
      "         46560 function calls (46176 primitive calls) in 0.148 seconds\n",
      "\n",
      "   Ordered by: internal time\n",
      "\n",
      "   ncalls  tottime  percall  cumtime  percall filename:lineno(function)\n",
      "        1    0.072    0.072    0.111    0.111 {allel.opt.io_vcf_read.iter_vcf}\n",
      "      377    0.021    0.000    0.021    0.000 {method 'decompress' of 'zlib.Decompress' objects}\n",
      "     7744    0.011    0.000    0.066    0.000 gzip.py:269(read)\n",
      "8128/7744    0.011    0.000    0.048    0.000 {method 'read' of '_io.BufferedReader' objects}\n",
      "      473    0.009    0.000    0.009    0.000 {built-in method zlib.crc32}\n",
      "       12    0.007    0.001    0.036    0.003 io_vcf_read.py:45(_binary_readline)\n",
      "     7744    0.005    0.000    0.007    0.000 _compression.py:12(_check_not_closed)\n",
      "     7746    0.002    0.000    0.002    0.000 gzip.py:296(closed)\n",
      "      378    0.002    0.000    0.036    0.000 gzip.py:436(read)\n",
      "      378    0.002    0.000    0.037    0.000 _compression.py:66(readinto)\n",
      "      949    0.001    0.000    0.002    0.000 gzip.py:80(read)\n",
      "     7555    0.001    0.000    0.001    0.000 {method 'append' of 'list' objects}\n",
      "        1    0.001    0.001    0.001    0.001 {built-in method io.open}\n",
      "      376    0.000    0.000    0.010    0.000 gzip.py:487(_add_read_data)\n",
      "      471    0.000    0.000    0.000    0.000 gzip.py:93(prepend)\n",
      "       97    0.000    0.000    0.001    0.000 gzip.py:403(_read_gzip_header)\n",
      "       95    0.000    0.000    0.001    0.000 gzip.py:491(_read_eof)\n",
      "     2739    0.000    0.000    0.000    0.000 {built-in method builtins.len}\n",
      "       96    0.000    0.000    0.000    0.000 {built-in method zlib.decompressobj}\n",
      "      380    0.000    0.000    0.001    0.000 gzip.py:387(_read_exact)\n",
      "       12    0.000    0.000    0.000    0.000 {method 'join' of 'bytes' objects}\n",
      "      285    0.000    0.000    0.000    0.000 {built-in method _struct.unpack}\n",
      "      378    0.000    0.000    0.000    0.000 {method 'cast' of 'memoryview' objects}\n",
      "        1    0.000    0.000    0.148    0.148 {built-in method builtins.exec}\n",
      "        1    0.000    0.000    0.036    0.036 io_vcf_read.py:54(_read_vcf_headers)\n",
      "        1    0.000    0.000    0.001    0.001 gzip.py:123(__init__)\n",
      "       97    0.000    0.000    0.000    0.000 gzip.py:383(_init_read)\n",
      "        1    0.000    0.000    0.000    0.000 {method 'split' of 'bytes' objects}\n",
      "        1    0.000    0.000    0.147    0.147 io_vcf_read.py:16(read_vcf)\n",
      "        2    0.000    0.000    0.000    0.000 {method 'close' of '_io.BufferedReader' objects}\n",
      "        1    0.000    0.000    0.147    0.147 <string>:1(<module>)\n",
      "        1    0.000    0.000    0.000    0.000 gzip.py:376(__init__)\n",
      "        1    0.000    0.000    0.001    0.001 gzip.py:20(open)\n",
      "       12    0.000    0.000    0.000    0.000 {method 'startswith' of 'bytes' objects}\n",
      "        1    0.000    0.000    0.000    0.000 gzip.py:74(__init__)\n",
      "        1    0.000    0.000    0.000    0.000 gzip.py:300(close)\n",
      "        1    0.000    0.000    0.000    0.000 _compression.py:59(close)\n",
      "        1    0.000    0.000    0.147    0.147 io_vcf_read.py:38(_read_vcf)\n",
      "        1    0.000    0.000    0.000    0.000 _compression.py:39(__init__)\n",
      "        1    0.000    0.000    0.000    0.000 {function DecompressReader.close at 0x7f1db4b5bc80}\n",
      "        1    0.000    0.000    0.000    0.000 {method 'startswith' of 'str' objects}\n",
      "        1    0.000    0.000    0.000    0.000 _compression.py:150(tell)\n",
      "        1    0.000    0.000    0.000    0.000 {method 'endswith' of 'str' objects}\n",
      "        1    0.000    0.000    0.000    0.000 {method 'replace' of 'str' objects}\n",
      "       12    0.000    0.000    0.000    0.000 {built-in method builtins.ord}\n",
      "        2    0.000    0.000    0.000    0.000 {built-in method builtins.isinstance}\n",
      "        1    0.000    0.000    0.000    0.000 _compression.py:36(readable)\n",
      "        1    0.000    0.000    0.000    0.000 {method 'disable' of '_lsprof.Profiler' objects}\n",
      "\n",
      "\n"
     ]
    }
   ],
   "source": [
    "cProfile.run('read_vcf(prof_vcf_fn, buffer_size=2**15, block_size=1000)', sort='time')"
   ]
  },
  {
   "cell_type": "code",
   "execution_count": 37,
   "metadata": {
    "collapsed": false,
    "scrolled": false
   },
   "outputs": [
    {
     "name": "stdout",
     "output_type": "stream",
     "text": [
      "Timer unit: 1e-06 s\n",
      "\n",
      "Total time: 27.5659 s\n",
      "File: ../../allel/io_vcf_read.py\n",
      "Function: _read_vcf at line 38\n",
      "\n",
      "Line #      Hits         Time  Per Hit   % Time  Line Contents\n",
      "==============================================================\n",
      "    38                                           def _read_vcf(fileobj, buffer_size, block_size, temp_max_size):\n",
      "    39         1        24608  24608.0      0.1      headers, samples = _read_vcf_headers(fileobj)\n",
      "    40                                               # debug(samples)\n",
      "    41         1            2      2.0      0.0      return iter_vcf(fileobj, buffer_size=buffer_size, block_size=block_size,\n",
      "    42         1     27541339 27541339.0     99.9                      temp_max_size=temp_max_size, n_samples=len(samples))\n",
      "\n",
      "Total time: 27.4744 s\n",
      "File: /home/aliman/src/github/cggh/scikit-allel/allel/opt/io_vcf_read.pyx\n",
      "Function: iter_vcf at line 34\n",
      "\n",
      "Line #      Hits         Time  Per Hit   % Time  Line Contents\n",
      "==============================================================\n",
      "    34                                           def iter_vcf(binary_file, buffer_size, block_size, n_samples, temp_max_size):\n",
      "    35                                               cdef:\n",
      "    36                                                   ParserContext context\n",
      "    37                                                   StringParser chrom_parser\n",
      "    38                                                   Parser pos_parser\n",
      "    39                                                   StringParser id_parser\n",
      "    40                                                   StringParser ref_parser\n",
      "    41                                                   AltParser alt_parser\n",
      "    42                                                   Parser qual_parser\n",
      "    43                                                   FilterParser filter_parser\n",
      "    44                                                   InfoParser info_parser\n",
      "    45                                                   FormatParser format_parser\n",
      "    46                                                   CalldataParser calldata_parser\n",
      "    47                                           \n",
      "    48                                               # setup output\n",
      "    49         1            1      1.0      0.0      blocks = []\n",
      "    50                                           \n",
      "    51                                               # setup reader\n",
      "    52         1          337    337.0      0.0      reader = BufferedReader(binary_file, buffer_size=buffer_size)\n",
      "    53                                           \n",
      "    54                                               # setup context\n",
      "    55         1            7      7.0      0.0      context = ParserContext(reader, temp_max_size=temp_max_size, n_samples=n_samples)\n",
      "    56                                           \n",
      "    57                                               # read in first character\n",
      "    58         1            4      4.0      0.0      ParserContext_next(context)\n",
      "    59                                           \n",
      "    60                                               # TODO setup parsers\n",
      "    61         1           59     59.0      0.0      chrom_parser = StringParser(field_name='CHROM', block_size=block_size, dtype='S12')\n",
      "    62         1           17     17.0      0.0      pos_parser = PosInt32Parser(block_size=block_size)\n",
      "    63         1           19     19.0      0.0      id_parser = StringParser(field_name='ID', block_size=block_size, dtype='S12')\n",
      "    64         1           17     17.0      0.0      ref_parser = StringParser(field_name='REF', block_size=block_size, dtype='S1')\n",
      "    65         1           26     26.0      0.0      alt_parser = AltParser(block_size=block_size, dtype='S1', arity=3)\n",
      "    66         1           17     17.0      0.0      qual_parser = QualFloat32Parser(block_size=block_size, fill=-1)\n",
      "    67                                               # TODO discover filters from header\n",
      "    68         1           18     18.0      0.0      filter_parser = FilterParser(block_size=block_size, filters=[])\n",
      "    69                                               # TODO discuver INFO fields from header\n",
      "    70         1            3      3.0      0.0      info_parser = InfoParser(block_size=block_size)\n",
      "    71         1            2      2.0      0.0      format_parser = FormatParser()\n",
      "    72                                               # # TODO handle all FORMAT fields\n",
      "    73         2         1546    773.0      0.0      calldata_parser = CalldataParser(block_size=block_size,\n",
      "    74         1            1      1.0      0.0                                       formats=[b'GT'],\n",
      "    75         1            1      1.0      0.0                                       n_samples=context.n_samples,\n",
      "    76                                                                                ploidy=2)\n",
      "    77                                           \n",
      "    78         1            1      1.0      0.0      while True:\n",
      "    79                                           \n",
      "    80     19671         6743      0.3      0.0          if context.c == 0:\n",
      "    81         1            1      1.0      0.0              break\n",
      "    82                                           \n",
      "    83     19670         6852      0.3      0.0          elif context.state == ParserState.CHROM:\n",
      "    84      1967         7667      3.9      0.0              chrom_parser.parse(context)\n",
      "    85      1967          872      0.4      0.0              context.state = ParserState.POS\n",
      "    86                                           \n",
      "    87     17703         6126      0.3      0.0          elif context.state == ParserState.POS:\n",
      "    88      1967        15228      7.7      0.1              pos_parser.parse(context)\n",
      "    89      1967          832      0.4      0.0              context.state = ParserState.ID\n",
      "    90                                           \n",
      "    91     15736         5458      0.3      0.0          elif context.state == ParserState.ID:\n",
      "    92      1967         4860      2.5      0.0              id_parser.parse(context)\n",
      "    93      1967          823      0.4      0.0              context.state = ParserState.REF\n",
      "    94                                           \n",
      "    95     13769         4777      0.3      0.0          elif context.state == ParserState.REF:\n",
      "    96      1967         5044      2.6      0.0              ref_parser.parse(context)\n",
      "    97      1967          785      0.4      0.0              context.state = ParserState.ALT\n",
      "    98                                           \n",
      "    99     11802         4081      0.3      0.0          elif context.state == ParserState.ALT:\n",
      "   100      1967         6464      3.3      0.0              alt_parser.parse(context)\n",
      "   101      1967          859      0.4      0.0              context.state = ParserState.QUAL\n",
      "   102                                           \n",
      "   103      9835         3600      0.4      0.0          elif context.state == ParserState.QUAL:\n",
      "   104      1967         6324      3.2      0.0              qual_parser.parse(context)\n",
      "   105      1967          870      0.4      0.0              context.state = ParserState.FILTER\n",
      "   106                                           \n",
      "   107      7868         2829      0.4      0.0          elif context.state == ParserState.FILTER:\n",
      "   108      1967         5951      3.0      0.0              filter_parser.parse(context)\n",
      "   109      1967          806      0.4      0.0              context.state = ParserState.INFO\n",
      "   110                                           \n",
      "   111      5901         2126      0.4      0.0          elif context.state == ParserState.INFO:\n",
      "   112      1967         5201      2.6      0.0              info_parser.parse(context)\n",
      "   113      1967          776      0.4      0.0              context.state = ParserState.FORMAT\n",
      "   114                                           \n",
      "   115      3934         1420      0.4      0.0          elif context.state == ParserState.FORMAT:\n",
      "   116      1967         9045      4.6      0.0              format_parser.parse(context)\n",
      "   117      1967          866      0.4      0.0              context.state = ParserState.CALLDATA\n",
      "   118                                           \n",
      "   119      1967          724      0.4      0.0          elif context.state == ParserState.CALLDATA:\n",
      "   120      1967     27349835  13904.3     99.5              calldata_parser.parse(context)\n",
      "   121      1967          721      0.4      0.0              context.state = ParserState.CHROM\n",
      "   122                                           \n",
      "   123                                                       # setup next variant\n",
      "   124                                                       # debug('setup next variant')\n",
      "   125      1967          678      0.3      0.0              context.variant_index += 1\n",
      "   126      1967          979      0.5      0.0              if context.block_variant_index < block_size - 1:\n",
      "   127      1966          734      0.4      0.0                  context.block_variant_index += 1\n",
      "   128                                                       else:\n",
      "   129                                                           # debug('start new block')\n",
      "   130         1            0      0.0      0.0                  block = {\n",
      "   131         1            1      1.0      0.0                      'variants/CHROM': chrom_parser.values,\n",
      "   132         1            0      0.0      0.0                      'variants/POS': pos_parser.values,\n",
      "   133         1            0      0.0      0.0                      'variants/ID': id_parser.values,\n",
      "   134         1            1      1.0      0.0                      'variants/REF': ref_parser.values,\n",
      "   135         1            1      1.0      0.0                      'variants/ALT': alt_parser.values,\n",
      "   136         1            1      1.0      0.0                      'variants/QUAL': qual_parser.values,\n",
      "   137         1            0      0.0      0.0                      'variants/FILTER': filter_parser.values,\n",
      "   138                                                               # TODO INFO\n",
      "   139         1            1      1.0      0.0                      'calldata/GT': calldata_parser.get_parser(b'GT').values,\n",
      "   140                                                               # TODO other calldata\n",
      "   141                                                           }\n",
      "   142                                                           # setup next block\n",
      "   143         1            1      1.0      0.0                  context.block_variant_index = 0\n",
      "   144         1            1      1.0      0.0                  blocks.append(block)\n",
      "   145         1           27     27.0      0.0                  chrom_parser.malloc()\n",
      "   146         1            9      9.0      0.0                  pos_parser.malloc()\n",
      "   147         1            8      8.0      0.0                  id_parser.malloc()\n",
      "   148         1            7      7.0      0.0                  ref_parser.malloc()\n",
      "   149         1           11     11.0      0.0                  alt_parser.malloc()\n",
      "   150         1           10     10.0      0.0                  qual_parser.malloc()\n",
      "   151         1            9      9.0      0.0                  filter_parser.malloc()\n",
      "   152         1            1      1.0      0.0                  info_parser.malloc()\n",
      "   153         1         1212   1212.0      0.0                  calldata_parser.malloc()\n",
      "   154                                           \n",
      "   155                                                   else:\n",
      "   156                                                       raise Exception('unexpected parser state')\n",
      "   157                                           \n",
      "   158                                               # left-over block\n",
      "   159         1            0      0.0      0.0      l = context.block_variant_index + 1\n",
      "   160                                               block = {\n",
      "   161         1            5      5.0      0.0          'variants/CHROM': chrom_parser.values[:l],\n",
      "   162         1            1      1.0      0.0          'variants/POS': pos_parser.values[:l],\n",
      "   163         1            1      1.0      0.0          'variants/ID': id_parser.values[:l],\n",
      "   164         1            1      1.0      0.0          'variants/REF': ref_parser.values[:l],\n",
      "   165         1            1      1.0      0.0          'variants/ALT': alt_parser.values[:l],\n",
      "   166         1            2      2.0      0.0          'variants/QUAL': qual_parser.values[:l],\n",
      "   167         1            1      1.0      0.0          'variants/FILTER': filter_parser.values[:l],\n",
      "   168                                                   # TODO INFO\n",
      "   169         1            1      1.0      0.0          'calldata/GT': calldata_parser.get_parser(b'GT').values[:l],\n",
      "   170                                                   # TODO other calldata\n",
      "   171                                               }\n",
      "   172         1            0      0.0      0.0      blocks.append(block)\n",
      "   173                                           \n",
      "   174                                               # TODO yield\n",
      "   175         1           16     16.0      0.0      return blocks\n",
      "\n",
      "Total time: 24.3087 s\n",
      "File: /home/aliman/src/github/cggh/scikit-allel/allel/opt/io_vcf_read.pyx\n",
      "Function: CalldataParser_parse at line 770\n",
      "\n",
      "Line #      Hits         Time  Per Hit   % Time  Line Contents\n",
      "==============================================================\n",
      "   770                                           cpdef inline void CalldataParser_parse(CalldataParser self, ParserContext context):\n",
      "   771                                               cdef:\n",
      "   772                                                   list parsers\n",
      "   773                                                   Parser parser\n",
      "   774                                           \n",
      "   775                                               # initialise context\n",
      "   776      1967          477      0.2      0.0      context.sample_index = 0\n",
      "   777      1967          401      0.2      0.0      context.format_index = 0\n",
      "   778                                           \n",
      "   779                                               # initialise format parsers in correct order for this variant\n",
      "   780      1967          982      0.5      0.0      parsers = [self.parsers.get(f, self.dummy_parser) for f in context.formats]\n",
      "   781      1967          431      0.2      0.0      parser = <Parser> parsers[0]\n",
      "   782                                           \n",
      "   783      1967          400      0.2      0.0      while True:\n",
      "   784                                           \n",
      "   785   3040982       598264      0.2      2.5          if context.c == 0 or context.c == NEWLINE:\n",
      "   786      1967         1859      0.9      0.0              ParserContext_next(context)\n",
      "   787      1967          684      0.3      0.0              break\n",
      "   788                                           \n",
      "   789   3039015       621637      0.2      2.6          elif context.c == TAB:\n",
      "   790                                           \n",
      "   791   1518524       294890      0.2      1.2              context.sample_index += 1\n",
      "   792   1518524       302184      0.2      1.2              context.format_index = 0\n",
      "   793   1518524       297000      0.2      1.2              parser = <Parser> parsers[0]\n",
      "   794   1518524      1271803      0.8      5.2              ParserContext_next(context)\n",
      "   795                                           \n",
      "   796   1520491       294524      0.2      1.2          elif context.c == COLON:\n",
      "   797                                           \n",
      "   798                                                       context.format_index += 1\n",
      "   799                                                       parser = <Parser> parsers[context.format_index]\n",
      "   800                                                       ParserContext_next(context)\n",
      "   801                                           \n",
      "   802                                                   else:\n",
      "   803                                           \n",
      "   804                                                       # debug('format parse', context.format_index,\n",
      "   805                                                       #       context.formats[context.format_index],\n",
      "   806                                                       #       repr(parser))\n",
      "   807   1520491     20623149     13.6     84.8              parser.parse(context)\n",
      "   808                                           \n",
      "   809                                           \n",
      "   810                                           cdef class GenotypeInt8Parser(Parser):\n",
      "   811                                           \n",
      "   812                                               cdef int n_samples\n",
      "   813                                               cdef int ploidy\n",
      "   814                                               cdef np.int8_t[:, :, :] memory\n",
      "   815                                               cdef np.int8_t fill\n",
      "   816                                           \n",
      "   817                                               def __cinit__(self, block_size, n_samples, ploidy, fill):\n",
      "   818                                                   self.block_size = block_size\n",
      "   819                                                   self.n_samples = n_samples\n",
      "   820                                                   self.ploidy = ploidy\n",
      "   821                                                   self.fill = fill\n",
      "   822                                                   self.malloc()\n",
      "   823                                           \n",
      "   824                                               cdef malloc(self):\n",
      "   825                                                   self.values = np.empty((self.block_size, self.n_samples, self.ploidy), dtype='i1')\n",
      "   826                                                   self.memory = self.values\n",
      "   827                                                   self.memory[:] = self.fill\n",
      "   828                                           \n",
      "   829                                               cdef parse(self, ParserContext context):\n",
      "   830                                                   GenotypeInt8Parser_parse(self, context)\n",
      "   831                                           \n",
      "   832                                               cdef store(self, ParserContext context, int allele_index):\n",
      "   833                                                   GenotypeInt8Parser_store(self, context, allele_index)\n",
      "\n",
      "Total time: 11.9815 s\n",
      "File: /home/aliman/src/github/cggh/scikit-allel/allel/opt/io_vcf_read.pyx\n",
      "Function: GenotypeInt8Parser_parse at line 840\n",
      "\n",
      "Line #      Hits         Time  Per Hit   % Time  Line Contents\n",
      "==============================================================\n",
      "   840                                           cpdef inline void GenotypeInt8Parser_parse(GenotypeInt8Parser self, ParserContext context):\n",
      "   841                                               cdef:\n",
      "   842   1520491       311291      0.2      2.6          int allele_index = 0\n",
      "   843                                                   long allele\n",
      "   844                                                   char* str_end\n",
      "   845                                               # debug('GenotypeInt8Parser_parse')\n",
      "   846                                           \n",
      "   847                                               # reset temporary buffer\n",
      "   848   1520491       295830      0.2      2.5      context.temp_size = 0\n",
      "   849                                           \n",
      "   850   1520491       297773      0.2      2.5      while context.temp_size < context.temp_max_size:\n",
      "   851                                           \n",
      "   852   6081964      1188768      0.2      9.9          if context.c == PERIOD:\n",
      "   853                                                       pass\n",
      "   854                                           \n",
      "   855   6081964      1209786      0.2     10.1          elif context.c == SLASH or context.c == PIPE:\n",
      "   856                                           \n",
      "   857   1520491      1126254      0.7      9.4              GenotypeInt8Parser_store(self, context, allele_index)\n",
      "   858   1520491       296844      0.2      2.5              allele_index += 1\n",
      "   859                                           \n",
      "   860   4561473       917498      0.2      7.7          elif context.c == COLON or context.c == TAB or context.c == NEWLINE:\n",
      "   861                                           \n",
      "   862   1520491      1116267      0.7      9.3              GenotypeInt8Parser_store(self, context, allele_index)\n",
      "   863   1520491       297084      0.2      2.5              break\n",
      "   864                                           \n",
      "   865                                                   else:\n",
      "   866                                           \n",
      "   867   3040982       590381      0.2      4.9              context.temp[context.temp_size] = context.c\n",
      "   868   3040982       585858      0.2      4.9              context.temp_size += 1\n",
      "   869                                           \n",
      "   870   4561473      3747889      0.8     31.3          ParserContext_next(context)\n",
      "   871                                           \n",
      "   872                                               # debug(context.variant_index, context.sample_index, 'GT',\n",
      "   873                                               #       self.values[context.block_variant_index, context.sample_index])\n",
      "   874                                           \n",
      "   875                                           \n",
      "   876                                           @cython.boundscheck(False)\n",
      "   877                                           @cython.wraparound(False)\n",
      "   878                                           @cython.initializedcheck(False)\n",
      "   879                                           @cython.nonecheck(False)\n",
      "   880                                           cpdef inline void GenotypeInt8Parser_store(GenotypeInt8Parser self, ParserContext context,\n",
      "   881                                                                               int allele_index):\n",
      "   882                                               cdef:\n",
      "   883                                                   long allele\n",
      "   884                                                   char* str_end\n",
      "   885                                           \n",
      "   886                                               if allele_index >= self.ploidy:\n",
      "   887                                                   # more alleles than we've made room for, ignore\n",
      "   888                                                   pass\n",
      "   889                                           \n",
      "   890                                               elif context.temp_size == 0:\n",
      "   891                                                   # empty allele - note strictly kosher\n",
      "   892                                                   pass\n",
      "   893                                           \n",
      "   894                                                   # raise RuntimeError('empty genotype allele at variant index %s, sample index %s, '\n",
      "   895                                                   #                    'allele index %s' % (context.variant_index, context.sample_index,\n",
      "   896                                                   #                                         allele_index))\n",
      "   897                                           \n",
      "   898                                               else:\n",
      "   899                                           \n",
      "   900                                                   # attempt to parse allele\n",
      "   901                                                   context.temp[context.temp_size] = 0\n",
      "   902                                                   allele = strtol(context.temp, &str_end, 10)\n",
      "   903                                                   # debug('storing allele', context.variant_index, context.sample_index, allele_index, allele)\n",
      "   904                                           \n",
      "   905                                                   # reset temporary buffer\n",
      "   906                                                   context.temp_size = 0\n",
      "   907                                           \n",
      "   908                                                   # store value\n",
      "   909                                                   if str_end > context.temp:\n",
      "   910                                                       self.memory[context.block_variant_index, context.sample_index, allele_index] = allele\n",
      "   911                                           \n",
      "   912                                                   else:\n",
      "   913                                                       raise RuntimeError('error %s parsing genotype at variant index %s, sample index '\n",
      "   914                                                                          '%s' % (allele, context.variant_index, context.sample_index))\n",
      "   915                                           \n",
      "   916                                           \n",
      "   917                                           cdef class DummyCalldataParser(Parser):\n",
      "   918                                           \n",
      "   919                                               def __cinit__(self):\n",
      "   920                                                   pass\n",
      "   921                                           \n",
      "   922                                               cdef malloc(self):\n",
      "   923                                                   pass\n",
      "   924                                           \n",
      "   925                                               cdef parse(self, ParserContext context):\n",
      "   926                                                   DummyCalldataParser_parse(self, context)\n",
      "\n"
     ]
    }
   ],
   "source": [
    "import line_profiler\n",
    "l = line_profiler.LineProfiler()\n",
    "# l.add_function(_read_vcf)\n",
    "l.add_function(iter_vcf)\n",
    "l.add_function(CalldataParser_parse)\n",
    "l.add_function(GenotypeInt8Parser_parse)\n",
    "# l.add_function(ParserContext_next)\n",
    "# l.add_function(BufferedReader_read)\n",
    "l.runcall(read_vcf, prof_vcf_fn, buffer_size=2**15, block_size=1000)\n",
    "l.print_stats()"
   ]
  },
  {
   "cell_type": "code",
   "execution_count": 26,
   "metadata": {
    "collapsed": true
   },
   "outputs": [],
   "source": [
    "import vcfnp"
   ]
  },
  {
   "cell_type": "code",
   "execution_count": 28,
   "metadata": {
    "collapsed": false
   },
   "outputs": [
    {
     "name": "stderr",
     "output_type": "stream",
     "text": [
      "[vcfnp] 2017-05-24 14:49:30.651145 :: caching is disabled\n",
      "[vcfnp] 2017-05-24 14:49:30.651788 :: building array\n"
     ]
    },
    {
     "name": "stdout",
     "output_type": "stream",
     "text": [
      "CPU times: user 4.31 s, sys: 0 ns, total: 4.31 s\n",
      "Wall time: 4.3 s\n"
     ]
    },
    {
     "data": {
      "text/plain": [
       "array([ (([0, 0],), ([0, 0],), ([0, 0],), ([0, 0],), ([0, 0],), ([0, 0],), ([0, 0],), ([0, 0],), ([0, 0],), ([0, 0],), ([0, 0],), ([0, 0],), ([0, 0],), ([0, 0],), ([0, 0],), ([0, 0],), ([0, 0],), ([0, 0],), ([0, 0],), ([0, 0],), ([0, 0],), ([0, 0],), ([0, 0],), ([0, 0],), ([0, 0],), ([0, 0],), ([0, 0],), ([0, 0],), ([0, 0],), ([0, 0],), ([0, 0],), ([0, 0],), ([0, 0],), ([0, 0],), ([0, 0],), ([0, 0],), ([0, 0],), ([0, 0],), ([0, 0],), ([0, 0],), ([0, 0],), ([0, 0],), ([0, 0],), ([0, 0],), ([0, 0],), ([0, 0],), ([0, 0],), ([0, 0],), ([0, 0],), ([0, 0],), ([0, 0],), ([0, 0],), ([0, 0],), ([0, 0],), ([0, 0],), ([0, 0],), ([0, 0],), ([0, 0],), ([0, 0],), ([0, 0],), ([0, 0],), ([0, 0],), ([0, 0],), ([0, 0],), ([0, 0],), ([0, 0],), ([0, 0],), ([0, 0],), ([0, 0],), ([0, 0],), ([0, 0],), ([0, 0],), ([0, 0],), ([0, 0],), ([0, 0],), ([0, 0],), ([0, 0],), ([0, 0],), ([0, 0],), ([0, 0],), ([0, 0],), ([0, 0],), ([0, 0],), ([0, 0],), ([0, 0],), ([0, 0],), ([0, 0],), ([0, 0],), ([0, 0],), ([0, 0],), ([0, 0],), ([0, 0],), ([0, 0],), ([0, 0],), ([0, 0],), ([0, 0],), ([0, 0],), ([0, 0],), ([0, 0],), ([0, 0],), ([0, 0],), ([0, 0],), ([0, 0],), ([0, 0],), ([0, 0],), ([0, 0],), ([0, 0],), ([0, 0],), ([0, 0],), ([0, 0],), ([0, 0],), ([0, 0],), ([0, 0],), ([0, 0],), ([0, 0],), ([0, 0],), ([0, 0],), ([0, 0],), ([0, 0],), ([0, 0],), ([0, 0],), ([0, 0],), ([0, 0],), ([0, 0],), ([0, 0],), ([0, 0],), ([0, 0],), ([0, 0],), ([0, 0],), ([0, 0],), ([0, 0],), ([0, 0],), ([0, 0],), ([0, 0],), ([0, 0],), ([0, 0],), ([0, 0],), ([0, 0],), ([0, 0],), ([0, 0],), ([0, 0],), ([0, 0],), ([0, 0],), ([0, 0],), ([0, 0],), ([0, 0],), ([0, 0],), ([0, 0],), ([0, 0],), ([0, 0],), ([0, 0],), ([0, 0],), ([0, 0],), ([0, 0],), ([0, 0],), ([0, 0],), ([0, 1],), ([1, 0],), ([0, 0],), ([0, 0],), ([0, 0],), ([0, 0],), ([1, 0],), ([0, 0],), ([0, 0],), ([0, 0],), ([1, 0],), ([0, 0],), ([0, 0],), ([0, 0],), ([0, 0],), ([0, 0],), ([0, 0],), ([0, 0],), ([0, 0],), ([0, 0],), ([0, 1],), ([1, 0],), ([1, 0],), ([0, 0],), ([0, 0],), ([0, 0],), ([0, 0],), ([0, 0],), ([0, 0],), ([0, 0],), ([0, 0],), ([0, 0],), ([1, 0],), ([0, 0],), ([0, 1],), ([0, 0],), ([0, 0],), ([0, 0],), ([0, 0],), ([0, 0],), ([0, 0],), ([0, 0],), ([0, 0],), ([0, 0],), ([0, 0],), ([0, 0],), ([0, 0],), ([1, 0],), ([0, 0],), ([0, 0],), ([0, 1],), ([0, 0],), ([0, 1],), ([0, 0],), ([0, 0],), ([0, 0],), ([0, 1],), ([0, 0],), ([0, 0],), ([1, 0],), ([0, 0],), ([1, 0],), ([0, 0],), ([0, 0],), ([0, 0],), ([0, 1],), ([0, 0],), ([0, 0],), ([0, 0],), ([1, 0],), ([0, 0],), ([0, 0],), ([0, 0],), ([0, 0],), ([0, 1],), ([0, 0],), ([0, 0],), ([0, 0],), ([0, 0],), ([0, 0],), ([0, 0],), ([0, 1],), ([0, 0],), ([0, 1],), ([0, 0],), ([0, 0],), ([0, 0],), ([0, 0],), ([0, 0],), ([0, 1],), ([1, 0],), ([0, 0],), ([0, 0],), ([0, 0],), ([0, 0],), ([0, 0],), ([0, 0],), ([0, 0],), ([0, 0],), ([0, 0],), ([0, 0],), ([0, 0],), ([0, 0],), ([0, 0],), ([0, 0],), ([0, 0],), ([0, 0],), ([0, 0],), ([0, 0],), ([0, 0],), ([0, 0],), ([0, 0],), ([0, 0],), ([0, 0],), ([0, 0],), ([0, 0],), ([0, 0],), ([0, 0],), ([0, 0],), ([0, 0],), ([0, 0],), ([0, 0],), ([0, 0],), ([0, 0],), ([0, 0],), ([0, 0],), ([0, 0],), ([0, 0],), ([0, 0],), ([0, 0],), ([0, 0],), ([0, 0],), ([0, 0],), ([0, 0],), ([0, 0],), ([0, 0],), ([0, 0],), ([0, 0],), ([0, 0],), ([0, 0],), ([0, 0],), ([0, 0],), ([0, 0],), ([0, 0],), ([0, 0],), ([0, 0],), ([0, 0],), ([0, 0],), ([0, 0],), ([0, 0],), ([0, 0],), ([0, 0],), ([0, 0],), ([0, 0],), ([0, 0],), ([0, 0],), ([0, 0],), ([0, 0],), ([0, 0],), ([0, 0],), ([0, 0],), ([0, 0],), ([0, 0],), ([0, 0],), ([0, 0],), ([0, 0],), ([0, 0],), ([0, 0],), ([0, 0],), ([0, 0],), ([0, 0],), ([0, 0],), ([0, 0],), ([0, 0],), ([0, 0],), ([0, 0],), ([0, 0],), ([0, 0],), ([0, 0],), ([0, 0],), ([0, 0],), ([0, 0],), ([0, 0],), ([0, 0],), ([0, 0],), ([0, 0],), ([0, 0],), ([0, 0],), ([0, 0],), ([0, 0],), ([0, 0],), ([0, 0],), ([0, 0],), ([0, 0],), ([0, 0],), ([0, 0],), ([0, 0],), ([0, 0],), ([0, 0],), ([0, 0],), ([0, 0],), ([0, 0],), ([0, 0],), ([0, 0],), ([0, 0],), ([0, 0],), ([0, 0],), ([0, 0],), ([0, 0],), ([0, 0],), ([0, 0],), ([0, 0],), ([0, 0],), ([0, 0],), ([0, 0],), ([0, 0],), ([0, 0],), ([0, 0],), ([0, 0],), ([0, 0],), ([0, 0],), ([0, 0],), ([0, 0],), ([0, 0],), ([0, 0],), ([0, 0],), ([0, 0],), ([0, 0],), ([0, 0],), ([0, 0],), ([0, 0],), ([0, 0],), ([0, 0],), ([0, 0],), ([0, 0],), ([0, 0],), ([0, 0],), ([0, 0],), ([0, 0],), ([0, 0],), ([0, 0],), ([0, 0],), ([0, 0],), ([0, 0],), ([0, 0],), ([0, 0],), ([0, 0],), ([0, 0],), ([0, 0],), ([0, 0],), ([0, 0],), ([0, 0],), ([0, 0],), ([0, 0],), ([0, 0],), ([0, 0],), ([0, 0],), ([0, 0],), ([0, 0],), ([0, 0],), ([0, 0],), ([0, 0],), ([0, 0],), ([0, 0],), ([0, 0],), ([0, 0],), ([0, 0],), ([0, 0],), ([0, 0],), ([0, 0],), ([0, 0],), ([0, 0],), ([0, 0],), ([0, 0],), ([0, 0],), ([0, 0],), ([0, 0],), ([0, 0],), ([0, 0],), ([0, 0],), ([0, 0],), ([0, 0],), ([0, 0],), ([0, 0],), ([0, 0],), ([0, 0],), ([0, 0],), ([0, 0],), ([0, 0],), ([0, 0],), ([0, 0],), ([0, 0],), ([0, 0],), ([0, 0],), ([0, 0],), ([0, 0],), ([0, 0],), ([0, 0],), ([0, 0],), ([0, 0],), ([0, 0],), ([0, 0],), ([0, 0],), ([0, 0],), ([0, 0],), ([0, 0],), ([0, 0],), ([0, 0],), ([0, 0],), ([0, 0],), ([0, 0],), ([0, 0],), ([0, 0],), ([0, 0],), ([0, 0],), ([0, 0],), ([0, 0],), ([0, 0],), ([0, 0],), ([0, 0],), ([0, 0],), ([0, 0],), ([0, 0],), ([0, 0],), ([0, 0],), ([0, 0],), ([0, 0],), ([0, 0],), ([0, 0],), ([0, 0],), ([0, 0],), ([0, 0],), ([0, 0],), ([0, 0],), ([0, 0],), ([0, 0],), ([0, 0],), ([0, 0],), ([0, 0],), ([0, 0],), ([0, 0],), ([0, 0],), ([0, 0],), ([0, 0],), ([0, 0],), ([0, 0],), ([0, 0],), ([0, 0],), ([0, 0],), ([0, 0],), ([0, 0],), ([0, 0],), ([0, 0],), ([0, 0],), ([0, 0],), ([0, 0],), ([0, 0],), ([0, 0],), ([0, 0],), ([0, 0],), ([0, 0],), ([0, 0],), ([0, 0],), ([0, 0],), ([0, 0],), ([0, 0],), ([0, 0],), ([0, 0],), ([0, 0],), ([0, 0],), ([0, 0],), ([0, 0],), ([0, 0],), ([0, 0],), ([0, 0],), ([0, 0],), ([0, 0],), ([0, 0],), ([0, 0],), ([0, 0],), ([0, 0],), ([0, 0],), ([0, 0],), ([0, 0],), ([0, 0],), ([0, 0],), ([0, 0],), ([0, 0],), ([0, 0],), ([0, 0],), ([0, 0],), ([0, 0],), ([0, 0],), ([0, 0],), ([0, 0],), ([0, 0],), ([0, 0],), ([0, 0],), ([0, 0],), ([0, 0],), ([0, 0],), ([0, 0],), ([0, 0],), ([0, 0],), ([0, 0],), ([0, 0],), ([0, 0],), ([0, 0],), ([0, 0],), ([0, 0],), ([0, 0],), ([0, 0],), ([0, 0],), ([0, 0],), ([0, 0],), ([0, 0],), ([0, 0],), ([0, 0],), ([0, 0],), ([0, 0],), ([0, 0],), ([0, 0],), ([0, 0],), ([0, 0],), ([0, 0],), ([0, 0],), ([0, 0],), ([0, 0],), ([0, 0],), ([0, 0],), ([0, 0],), ([0, 0],), ([0, 0],), ([0, 0],), ([0, 0],), ([0, 0],), ([0, 0],), ([0, 0],), ([0, 0],), ([0, 0],), ([0, 0],), ([0, 0],), ([0, 0],), ([0, 0],), ([0, 0],), ([0, 0],), ([0, 0],), ([0, 0],), ([0, 0],), ([0, 0],), ([0, 0],), ([0, 0],), ([0, 0],), ([0, 0],), ([0, 0],), ([0, 0],), ([0, 0],), ([0, 0],), ([0, 0],), ([0, 0],), ([0, 0],), ([0, 0],), ([0, 0],), ([0, 0],), ([0, 0],), ([0, 0],), ([0, 0],), ([0, 0],), ([0, 0],), ([0, 0],), ([0, 0],), ([0, 0],), ([0, 0],), ([0, 0],), ([0, 0],), ([0, 0],), ([0, 0],), ([0, 0],), ([0, 0],), ([0, 0],), ([0, 0],), ([0, 0],), ([0, 0],), ([0, 0],), ([0, 0],), ([0, 0],), ([0, 0],), ([0, 0],), ([0, 0],), ([0, 0],), ([0, 0],), ([0, 0],), ([0, 0],), ([0, 0],), ([0, 0],), ([0, 0],), ([0, 0],), ([0, 0],), ([0, 0],), ([0, 0],), ([0, 0],), ([0, 0],), ([0, 0],), ([0, 0],), ([0, 0],), ([0, 0],), ([0, 0],), ([0, 0],), ([0, 0],), ([0, 0],), ([0, 0],), ([0, 0],), ([0, 0],), ([0, 0],), ([0, 0],), ([0, 0],), ([0, 0],), ([0, 0],), ([0, 0],), ([0, 0],), ([0, 0],), ([0, 0],), ([0, 0],), ([0, 0],), ([0, 0],), ([0, 0],), ([0, 0],), ([0, 0],), ([0, 0],), ([0, 0],), ([0, 0],), ([0, 0],), ([0, 0],), ([0, 0],), ([0, 0],), ([0, 0],), ([0, 0],), ([0, 0],), ([0, 0],), ([0, 0],), ([0, 0],), ([0, 0],), ([0, 0],), ([0, 0],), ([0, 0],), ([0, 0],), ([0, 0],), ([0, 0],), ([0, 0],), ([0, 0],), ([0, 0],), ([0, 0],), ([0, 0],), ([0, 0],), ([0, 0],), ([0, 0],), ([0, 0],), ([0, 0],), ([0, 0],), ([0, 0],), ([0, 0],), ([0, 0],), ([0, 0],), ([0, 0],), ([0, 0],), ([0, 0],), ([0, 0],), ([0, 0],), ([0, 0],), ([0, 0],), ([0, 0],), ([0, 0],), ([0, 0],), ([0, 0],), ([0, 0],), ([0, 0],), ([0, 0],), ([0, 0],), ([0, 0],), ([0, 0],), ([0, 0],), ([0, 0],), ([0, 0],), ([0, 0],), ([0, 0],), ([0, 0],), ([0, 0],), ([0, 0],), ([0, 0],), ([0, 0],), ([0, 0],), ([0, 0],), ([0, 0],), ([0, 0],), ([0, 0],), ([0, 0],), ([0, 0],), ([0, 0],), ([0, 0],), ([0, 0],), ([0, 0],), ([0, 0],), ([0, 0],), ([0, 0],), ([0, 0],), ([0, 0],), ([0, 0],), ([0, 0],), ([0, 0],), ([0, 0],), ([0, 0],), ([0, 0],), ([0, 0],), ([0, 0],), ([0, 0],), ([0, 0],), ([0, 0],)),\n",
       "       (([0, 0],), ([0, 0],), ([0, 0],), ([0, 0],), ([0, 0],), ([0, 0],), ([0, 0],), ([0, 0],), ([0, 0],), ([0, 0],), ([0, 0],), ([0, 0],), ([0, 0],), ([0, 0],), ([0, 0],), ([0, 0],), ([0, 0],), ([0, 0],), ([0, 0],), ([0, 0],), ([0, 0],), ([0, 0],), ([0, 0],), ([0, 0],), ([0, 0],), ([0, 0],), ([0, 0],), ([0, 0],), ([0, 0],), ([0, 0],), ([0, 0],), ([0, 0],), ([0, 0],), ([0, 0],), ([0, 0],), ([0, 0],), ([0, 0],), ([0, 0],), ([0, 0],), ([0, 0],), ([0, 0],), ([0, 0],), ([0, 0],), ([0, 0],), ([0, 0],), ([0, 0],), ([0, 0],), ([0, 0],), ([0, 0],), ([0, 0],), ([0, 0],), ([0, 0],), ([0, 0],), ([0, 0],), ([0, 0],), ([0, 0],), ([0, 0],), ([0, 0],), ([0, 0],), ([0, 0],), ([0, 0],), ([0, 0],), ([0, 0],), ([0, 0],), ([0, 0],), ([0, 0],), ([0, 0],), ([0, 0],), ([0, 0],), ([0, 0],), ([0, 0],), ([0, 0],), ([0, 0],), ([0, 0],), ([0, 0],), ([0, 0],), ([0, 0],), ([0, 0],), ([0, 0],), ([0, 0],), ([0, 0],), ([0, 0],), ([0, 0],), ([0, 0],), ([0, 0],), ([0, 0],), ([0, 0],), ([0, 0],), ([0, 0],), ([0, 0],), ([0, 0],), ([0, 0],), ([0, 0],), ([0, 0],), ([0, 0],), ([0, 0],), ([0, 0],), ([0, 0],), ([0, 0],), ([0, 0],), ([0, 0],), ([0, 0],), ([0, 0],), ([0, 0],), ([0, 0],), ([0, 0],), ([0, 0],), ([0, 0],), ([0, 0],), ([0, 0],), ([0, 0],), ([0, 0],), ([0, 0],), ([0, 0],), ([0, 0],), ([0, 0],), ([0, 0],), ([0, 0],), ([0, 0],), ([0, 0],), ([0, 0],), ([0, 0],), ([0, 0],), ([0, 0],), ([0, 0],), ([0, 0],), ([0, 0],), ([0, 0],), ([0, 0],), ([0, 0],), ([0, 0],), ([0, 0],), ([0, 0],), ([0, 0],), ([0, 0],), ([0, 0],), ([0, 0],), ([0, 0],), ([0, 0],), ([0, 0],), ([0, 0],), ([0, 0],), ([0, 0],), ([0, 0],), ([0, 0],), ([0, 0],), ([0, 0],), ([0, 0],), ([0, 0],), ([0, 0],), ([0, 0],), ([0, 0],), ([0, 0],), ([0, 0],), ([0, 0],), ([0, 0],), ([0, 0],), ([0, 0],), ([0, 0],), ([0, 0],), ([0, 0],), ([0, 0],), ([0, 0],), ([0, 0],), ([0, 0],), ([0, 0],), ([0, 0],), ([0, 0],), ([0, 0],), ([0, 0],), ([0, 0],), ([0, 0],), ([0, 0],), ([0, 0],), ([0, 0],), ([0, 0],), ([0, 0],), ([0, 0],), ([0, 0],), ([0, 0],), ([0, 0],), ([0, 0],), ([0, 0],), ([0, 0],), ([0, 0],), ([0, 0],), ([0, 0],), ([0, 0],), ([0, 0],), ([0, 0],), ([0, 0],), ([0, 0],), ([0, 0],), ([0, 0],), ([0, 0],), ([0, 0],), ([0, 0],), ([0, 0],), ([0, 0],), ([0, 0],), ([0, 0],), ([0, 0],), ([0, 0],), ([0, 0],), ([0, 0],), ([0, 0],), ([0, 0],), ([0, 0],), ([0, 0],), ([0, 0],), ([0, 0],), ([0, 0],), ([0, 0],), ([0, 0],), ([0, 0],), ([0, 0],), ([0, 0],), ([0, 0],), ([0, 0],), ([0, 0],), ([0, 0],), ([0, 0],), ([0, 0],), ([0, 0],), ([0, 0],), ([0, 0],), ([0, 0],), ([0, 0],), ([0, 0],), ([0, 0],), ([0, 0],), ([0, 0],), ([0, 0],), ([0, 0],), ([0, 0],), ([0, 0],), ([0, 0],), ([0, 0],), ([0, 0],), ([0, 0],), ([0, 0],), ([0, 0],), ([0, 0],), ([0, 0],), ([0, 0],), ([0, 0],), ([0, 0],), ([0, 0],), ([0, 0],), ([0, 0],), ([0, 0],), ([0, 0],), ([0, 0],), ([0, 1],), ([1, 1],), ([0, 1],), ([1, 1],), ([1, 0],), ([0, 1],), ([0, 0],), ([0, 1],), ([0, 0],), ([1, 1],), ([0, 0],), ([1, 1],), ([0, 1],), ([0, 1],), ([1, 0],), ([1, 1],), ([0, 0],), ([1, 1],), ([0, 0],), ([1, 1],), ([1, 1],), ([0, 1],), ([0, 1],), ([0, 1],), ([1, 1],), ([1, 1],), ([0, 1],), ([0, 0],), ([0, 1],), ([0, 1],), ([0, 1],), ([0, 0],), ([0, 0],), ([0, 0],), ([0, 1],), ([1, 1],), ([0, 0],), ([0, 0],), ([0, 1],), ([0, 1],), ([0, 0],), ([0, 0],), ([0, 0],), ([0, 0],), ([0, 0],), ([0, 0],), ([0, 0],), ([0, 0],), ([0, 0],), ([0, 0],), ([0, 0],), ([0, 0],), ([0, 0],), ([0, 0],), ([0, 0],), ([0, 0],), ([0, 0],), ([0, 0],), ([0, 0],), ([0, 0],), ([0, 0],), ([0, 0],), ([0, 0],), ([0, 0],), ([0, 0],), ([0, 0],), ([0, 0],), ([0, 0],), ([0, 0],), ([0, 0],), ([0, 0],), ([0, 0],), ([0, 0],), ([0, 0],), ([0, 0],), ([0, 0],), ([0, 0],), ([0, 0],), ([0, 0],), ([0, 0],), ([0, 0],), ([0, 0],), ([0, 0],), ([0, 0],), ([0, 0],), ([0, 0],), ([0, 0],), ([0, 0],), ([0, 0],), ([0, 0],), ([0, 0],), ([0, 0],), ([0, 0],), ([0, 0],), ([0, 0],), ([0, 0],), ([0, 0],), ([0, 0],), ([0, 0],), ([0, 0],), ([0, 0],), ([0, 0],), ([0, 0],), ([0, 0],), ([0, 0],), ([0, 0],), ([0, 0],), ([0, 0],), ([0, 0],), ([0, 0],), ([0, 0],), ([0, 0],), ([0, 0],), ([0, 0],), ([0, 0],), ([0, 0],), ([0, 0],), ([0, 0],), ([0, 0],), ([0, 0],), ([0, 0],), ([0, 0],), ([0, 0],), ([0, 0],), ([0, 0],), ([0, 0],), ([0, 0],), ([0, 0],), ([0, 0],), ([0, 0],), ([0, 0],), ([0, 0],), ([0, 0],), ([0, 0],), ([0, 0],), ([0, 0],), ([0, 0],), ([0, 0],), ([0, 0],), ([0, 0],), ([0, 0],), ([0, 0],), ([0, 0],), ([0, 0],), ([0, 0],), ([0, 0],), ([0, 0],), ([0, 0],), ([0, 0],), ([0, 0],), ([0, 0],), ([0, 0],), ([0, 0],), ([0, 0],), ([0, 0],), ([0, 0],), ([0, 0],), ([0, 0],), ([0, 0],), ([0, 0],), ([0, 0],), ([0, 0],), ([0, 0],), ([0, 0],), ([0, 0],), ([0, 0],), ([0, 0],), ([0, 0],), ([0, 0],), ([0, 0],), ([0, 0],), ([0, 0],), ([0, 0],), ([0, 0],), ([0, 0],), ([0, 0],), ([0, 0],), ([0, 0],), ([0, 0],), ([0, 0],), ([0, 0],), ([0, 0],), ([0, 0],), ([0, 0],), ([0, 0],), ([0, 0],), ([0, 0],), ([0, 0],), ([0, 0],), ([0, 0],), ([0, 0],), ([0, 0],), ([0, 0],), ([0, 0],), ([0, 0],), ([0, 0],), ([0, 0],), ([0, 0],), ([0, 0],), ([0, 0],), ([0, 0],), ([0, 0],), ([0, 0],), ([0, 0],), ([0, 0],), ([0, 0],), ([0, 0],), ([0, 0],), ([0, 0],), ([0, 0],), ([0, 0],), ([0, 0],), ([0, 0],), ([0, 0],), ([0, 0],), ([0, 0],), ([0, 0],), ([0, 0],), ([0, 0],), ([0, 0],), ([0, 0],), ([0, 0],), ([0, 0],), ([0, 0],), ([0, 0],), ([0, 0],), ([0, 0],), ([0, 0],), ([0, 0],), ([0, 0],), ([0, 0],), ([0, 0],), ([0, 0],), ([0, 0],), ([0, 0],), ([0, 0],), ([0, 0],), ([0, 0],), ([0, 0],), ([0, 0],), ([0, 0],), ([0, 0],), ([0, 0],), ([0, 0],), ([0, 0],), ([0, 0],), ([0, 0],), ([0, 0],), ([0, 0],), ([0, 0],), ([0, 0],), ([0, 0],), ([0, 0],), ([0, 0],), ([0, 0],), ([0, 0],), ([0, 0],), ([0, 0],), ([0, 0],), ([0, 0],), ([0, 0],), ([0, 0],), ([0, 0],), ([0, 0],), ([0, 0],), ([0, 0],), ([0, 0],), ([0, 0],), ([0, 0],), ([0, 0],), ([0, 0],), ([0, 0],), ([0, 0],), ([0, 0],), ([0, 0],), ([0, 0],), ([0, 0],), ([0, 0],), ([0, 0],), ([0, 0],), ([0, 0],), ([0, 0],), ([0, 0],), ([0, 0],), ([0, 0],), ([0, 0],), ([0, 0],), ([0, 0],), ([0, 0],), ([0, 0],), ([0, 0],), ([0, 0],), ([0, 0],), ([0, 0],), ([0, 0],), ([0, 0],), ([0, 0],), ([0, 0],), ([0, 0],), ([0, 0],), ([0, 0],), ([0, 0],), ([0, 0],), ([0, 0],), ([0, 0],), ([0, 0],), ([0, 0],), ([0, 0],), ([0, 0],), ([0, 0],), ([0, 0],), ([0, 0],), ([0, 0],), ([0, 0],), ([0, 0],), ([0, 0],), ([0, 0],), ([0, 0],), ([0, 0],), ([0, 0],), ([0, 0],), ([0, 0],), ([0, 0],), ([0, 0],), ([0, 0],), ([0, 0],), ([0, 0],), ([0, 0],), ([0, 0],), ([0, 0],), ([0, 0],), ([0, 0],), ([0, 0],), ([0, 0],), ([0, 0],), ([0, 0],), ([0, 0],), ([0, 0],), ([0, 0],), ([0, 0],), ([0, 0],), ([0, 0],), ([0, 0],), ([0, 0],), ([0, 0],), ([0, 0],), ([0, 0],), ([0, 0],), ([0, 0],), ([0, 0],), ([0, 0],), ([0, 0],), ([0, 0],), ([0, 0],), ([0, 0],), ([0, 0],), ([0, 0],), ([0, 0],), ([0, 0],), ([0, 0],), ([0, 0],), ([0, 0],), ([0, 0],), ([0, 0],), ([0, 0],), ([0, 0],), ([0, 0],), ([0, 0],), ([0, 0],), ([0, 0],), ([0, 0],), ([0, 0],), ([0, 0],), ([0, 0],), ([0, 0],), ([0, 0],), ([0, 0],), ([0, 0],), ([0, 0],), ([0, 0],), ([0, 0],), ([0, 0],), ([0, 0],), ([0, 0],), ([0, 0],), ([0, 0],), ([0, 0],), ([0, 0],), ([0, 0],), ([0, 0],), ([0, 0],), ([0, 0],), ([0, 0],), ([0, 0],), ([0, 0],), ([0, 0],), ([0, 0],), ([0, 0],), ([0, 0],), ([0, 0],), ([0, 0],), ([0, 0],), ([0, 0],), ([0, 0],), ([0, 0],), ([0, 0],), ([0, 0],), ([0, 0],), ([0, 0],), ([0, 0],), ([0, 0],), ([0, 0],), ([0, 0],), ([0, 0],), ([0, 0],), ([0, 0],), ([0, 0],), ([0, 0],), ([0, 0],), ([0, 0],), ([0, 0],), ([0, 0],), ([0, 0],), ([0, 0],), ([0, 0],), ([0, 0],), ([0, 0],), ([0, 0],), ([0, 0],), ([0, 0],), ([0, 0],), ([0, 0],), ([0, 0],), ([0, 0],), ([0, 0],), ([0, 0],), ([0, 0],), ([0, 0],), ([0, 0],), ([0, 0],), ([0, 0],), ([0, 0],), ([0, 0],), ([0, 0],), ([0, 0],), ([0, 0],), ([0, 0],), ([0, 0],), ([0, 0],), ([0, 0],), ([0, 0],), ([0, 0],), ([0, 0],), ([0, 0],), ([0, 0],), ([0, 0],), ([0, 0],), ([0, 0],), ([0, 0],), ([0, 0],), ([0, 0],), ([0, 0],), ([0, 0],), ([0, 0],), ([0, 0],), ([0, 0],), ([0, 0],), ([0, 0],), ([0, 0],), ([0, 0],), ([0, 0],), ([0, 0],), ([0, 0],), ([0, 0],), ([0, 0],), ([0, 0],), ([0, 0],), ([0, 0],), ([0, 0],), ([0, 0],), ([0, 0],), ([0, 0],), ([0, 0],), ([0, 0],), ([0, 0],), ([0, 0],), ([0, 0],), ([0, 0],), ([0, 0],), ([0, 0],), ([0, 0],), ([0, 0],), ([0, 0],), ([0, 0],), ([0, 0],), ([0, 0],), ([0, 0],), ([0, 0],), ([0, 0],), ([0, 0],), ([0, 0],), ([0, 0],), ([0, 0],), ([0, 0],), ([0, 0],), ([0, 0],), ([0, 0],), ([0, 0],), ([0, 0],), ([0, 0],), ([0, 0],), ([0, 0],), ([0, 0],), ([0, 0],), ([0, 0],), ([0, 0],), ([0, 0],), ([0, 0],), ([0, 0],), ([0, 0],)),\n",
       "       (([0, 0],), ([0, 0],), ([0, 0],), ([0, 0],), ([0, 0],), ([0, 0],), ([0, 0],), ([0, 0],), ([0, 0],), ([0, 0],), ([0, 0],), ([0, 0],), ([0, 0],), ([0, 0],), ([0, 0],), ([0, 0],), ([0, 0],), ([0, 0],), ([0, 0],), ([0, 0],), ([0, 0],), ([0, 0],), ([0, 0],), ([0, 0],), ([0, 0],), ([0, 0],), ([0, 0],), ([0, 0],), ([0, 0],), ([0, 0],), ([0, 0],), ([0, 0],), ([0, 0],), ([0, 0],), ([0, 0],), ([0, 0],), ([0, 0],), ([0, 0],), ([0, 0],), ([0, 0],), ([0, 0],), ([0, 0],), ([0, 0],), ([0, 0],), ([0, 0],), ([0, 0],), ([0, 0],), ([0, 0],), ([0, 0],), ([0, 0],), ([0, 0],), ([0, 0],), ([0, 0],), ([0, 0],), ([0, 0],), ([0, 0],), ([0, 0],), ([0, 0],), ([0, 0],), ([0, 0],), ([0, 0],), ([0, 0],), ([0, 0],), ([0, 0],), ([0, 0],), ([0, 0],), ([0, 0],), ([0, 0],), ([0, 0],), ([0, 0],), ([0, 0],), ([0, 0],), ([0, 0],), ([0, 0],), ([0, 0],), ([0, 0],), ([0, 0],), ([0, 0],), ([0, 0],), ([0, 0],), ([0, 0],), ([0, 0],), ([0, 0],), ([0, 0],), ([0, 0],), ([0, 0],), ([0, 0],), ([0, 0],), ([0, 0],), ([0, 0],), ([0, 0],), ([0, 0],), ([0, 0],), ([0, 0],), ([0, 0],), ([0, 0],), ([0, 0],), ([0, 0],), ([0, 0],), ([0, 0],), ([0, 0],), ([0, 0],), ([0, 0],), ([0, 0],), ([0, 0],), ([0, 0],), ([0, 0],), ([0, 0],), ([0, 0],), ([0, 0],), ([0, 0],), ([0, 0],), ([0, 0],), ([0, 0],), ([0, 0],), ([0, 0],), ([0, 0],), ([0, 0],), ([0, 0],), ([0, 0],), ([0, 0],), ([0, 0],), ([0, 0],), ([0, 0],), ([0, 0],), ([0, 0],), ([0, 0],), ([0, 0],), ([0, 0],), ([0, 0],), ([0, 0],), ([0, 0],), ([0, 0],), ([0, 0],), ([0, 0],), ([0, 0],), ([0, 0],), ([0, 0],), ([0, 0],), ([0, 0],), ([0, 0],), ([0, 0],), ([0, 0],), ([0, 0],), ([0, 0],), ([0, 0],), ([0, 0],), ([0, 0],), ([0, 0],), ([0, 0],), ([0, 0],), ([0, 0],), ([0, 0],), ([0, 0],), ([0, 0],), ([0, 0],), ([0, 0],), ([0, 0],), ([0, 0],), ([0, 0],), ([0, 0],), ([0, 0],), ([0, 0],), ([0, 0],), ([0, 0],), ([0, 0],), ([0, 0],), ([0, 0],), ([0, 0],), ([0, 0],), ([0, 0],), ([0, 0],), ([0, 0],), ([0, 0],), ([0, 0],), ([0, 0],), ([0, 0],), ([0, 0],), ([0, 0],), ([0, 0],), ([0, 0],), ([0, 0],), ([0, 0],), ([0, 0],), ([0, 0],), ([0, 0],), ([0, 0],), ([0, 0],), ([0, 0],), ([0, 0],), ([0, 0],), ([0, 0],), ([0, 0],), ([0, 0],), ([0, 0],), ([0, 0],), ([0, 0],), ([0, 0],), ([0, 0],), ([0, 0],), ([0, 0],), ([0, 0],), ([0, 0],), ([0, 0],), ([0, 0],), ([0, 0],), ([0, 0],), ([0, 0],), ([0, 0],), ([0, 0],), ([0, 0],), ([0, 0],), ([0, 0],), ([0, 0],), ([0, 0],), ([0, 0],), ([0, 0],), ([0, 0],), ([0, 0],), ([0, 0],), ([0, 0],), ([0, 0],), ([0, 0],), ([0, 0],), ([0, 0],), ([0, 0],), ([0, 0],), ([0, 0],), ([0, 0],), ([0, 0],), ([0, 0],), ([0, 0],), ([0, 0],), ([0, 0],), ([0, 0],), ([0, 0],), ([0, 0],), ([0, 0],), ([0, 0],), ([0, 0],), ([0, 0],), ([0, 0],), ([0, 0],), ([0, 0],), ([0, 0],), ([0, 0],), ([0, 0],), ([0, 0],), ([0, 0],), ([0, 0],), ([0, 0],), ([0, 0],), ([0, 0],), ([0, 0],), ([0, 0],), ([0, 0],), ([0, 0],), ([0, 0],), ([0, 0],), ([0, 0],), ([0, 0],), ([0, 0],), ([0, 0],), ([0, 0],), ([0, 0],), ([0, 0],), ([0, 0],), ([0, 0],), ([0, 0],), ([0, 0],), ([0, 0],), ([0, 0],), ([0, 0],), ([0, 0],), ([1, 0],), ([0, 0],), ([0, 0],), ([0, 0],), ([0, 0],), ([0, 0],), ([0, 0],), ([0, 0],), ([0, 0],), ([0, 0],), ([0, 0],), ([0, 0],), ([0, 0],), ([0, 0],), ([0, 0],), ([0, 0],), ([0, 0],), ([0, 0],), ([0, 0],), ([0, 0],), ([0, 0],), ([0, 0],), ([0, 1],), ([0, 0],), ([0, 0],), ([0, 0],), ([0, 0],), ([0, 0],), ([0, 0],), ([0, 0],), ([0, 0],), ([0, 0],), ([0, 0],), ([0, 0],), ([0, 0],), ([0, 0],), ([0, 0],), ([0, 0],), ([0, 0],), ([0, 0],), ([0, 0],), ([0, 0],), ([0, 0],), ([0, 0],), ([0, 0],), ([0, 0],), ([0, 0],), ([0, 0],), ([0, 0],), ([0, 0],), ([0, 0],), ([0, 0],), ([0, 0],), ([0, 0],), ([0, 0],), ([0, 0],), ([0, 0],), ([0, 0],), ([0, 0],), ([0, 0],), ([0, 0],), ([0, 0],), ([0, 0],), ([0, 0],), ([0, 0],), ([0, 0],), ([0, 0],), ([0, 0],), ([0, 0],), ([0, 0],), ([0, 0],), ([0, 0],), ([0, 0],), ([0, 0],), ([0, 0],), ([0, 0],), ([0, 0],), ([0, 0],), ([0, 0],), ([0, 0],), ([0, 0],), ([0, 0],), ([0, 0],), ([0, 0],), ([0, 0],), ([0, 0],), ([0, 0],), ([0, 0],), ([0, 0],), ([0, 0],), ([0, 0],), ([0, 0],), ([0, 0],), ([0, 0],), ([0, 0],), ([0, 0],), ([0, 0],), ([0, 0],), ([0, 0],), ([0, 0],), ([0, 0],), ([0, 0],), ([0, 0],), ([0, 0],), ([0, 0],), ([0, 0],), ([0, 0],), ([0, 0],), ([0, 0],), ([0, 0],), ([0, 0],), ([0, 0],), ([0, 0],), ([0, 0],), ([0, 0],), ([0, 0],), ([0, 0],), ([0, 0],), ([0, 0],), ([0, 0],), ([0, 0],), ([0, 0],), ([0, 0],), ([0, 0],), ([0, 0],), ([0, 0],), ([0, 0],), ([0, 0],), ([0, 0],), ([0, 0],), ([0, 0],), ([0, 0],), ([0, 0],), ([0, 0],), ([0, 0],), ([0, 0],), ([0, 0],), ([0, 0],), ([0, 0],), ([0, 0],), ([0, 0],), ([0, 0],), ([0, 0],), ([0, 0],), ([0, 0],), ([0, 0],), ([0, 0],), ([0, 0],), ([0, 0],), ([0, 0],), ([0, 0],), ([0, 0],), ([0, 0],), ([0, 0],), ([0, 0],), ([0, 0],), ([0, 0],), ([0, 0],), ([0, 0],), ([0, 0],), ([0, 0],), ([0, 0],), ([0, 0],), ([0, 0],), ([0, 0],), ([0, 0],), ([0, 0],), ([0, 0],), ([0, 0],), ([0, 0],), ([0, 0],), ([0, 0],), ([0, 0],), ([0, 0],), ([0, 0],), ([0, 0],), ([0, 0],), ([0, 0],), ([0, 0],), ([0, 0],), ([0, 0],), ([0, 0],), ([0, 0],), ([0, 0],), ([0, 0],), ([0, 0],), ([0, 0],), ([0, 0],), ([0, 0],), ([0, 0],), ([0, 0],), ([0, 0],), ([0, 0],), ([0, 0],), ([0, 0],), ([0, 0],), ([0, 0],), ([0, 0],), ([0, 0],), ([0, 0],), ([0, 0],), ([0, 0],), ([0, 0],), ([0, 0],), ([0, 0],), ([0, 0],), ([0, 0],), ([0, 0],), ([0, 0],), ([0, 0],), ([0, 0],), ([0, 0],), ([0, 0],), ([0, 0],), ([0, 0],), ([0, 0],), ([0, 0],), ([0, 0],), ([0, 0],), ([0, 0],), ([0, 0],), ([0, 0],), ([0, 0],), ([0, 0],), ([0, 0],), ([0, 0],), ([0, 0],), ([0, 0],), ([0, 0],), ([0, 0],), ([0, 0],), ([0, 0],), ([0, 0],), ([0, 0],), ([0, 0],), ([0, 0],), ([0, 0],), ([0, 0],), ([0, 0],), ([0, 0],), ([0, 0],), ([0, 0],), ([0, 0],), ([0, 0],), ([0, 0],), ([0, 0],), ([0, 0],), ([0, 0],), ([0, 0],), ([0, 0],), ([0, 0],), ([0, 0],), ([0, 0],), ([0, 0],), ([0, 0],), ([0, 0],), ([0, 0],), ([0, 0],), ([0, 0],), ([0, 0],), ([0, 0],), ([0, 0],), ([0, 0],), ([0, 0],), ([0, 0],), ([0, 0],), ([0, 0],), ([0, 0],), ([0, 0],), ([0, 0],), ([0, 0],), ([0, 0],), ([0, 0],), ([0, 0],), ([0, 0],), ([0, 0],), ([0, 0],), ([0, 0],), ([0, 0],), ([0, 0],), ([0, 0],), ([0, 0],), ([0, 0],), ([0, 0],), ([0, 0],), ([0, 0],), ([0, 0],), ([0, 0],), ([0, 0],), ([0, 0],), ([0, 0],), ([0, 0],), ([0, 0],), ([0, 0],), ([0, 0],), ([0, 0],), ([0, 0],), ([0, 0],), ([0, 0],), ([0, 0],), ([0, 0],), ([0, 0],), ([0, 0],), ([0, 0],), ([0, 0],), ([0, 0],), ([0, 0],), ([0, 0],), ([0, 0],), ([0, 0],), ([0, 0],), ([0, 0],), ([0, 0],), ([0, 0],), ([0, 0],), ([0, 0],), ([0, 0],), ([0, 0],), ([0, 0],), ([0, 0],), ([0, 0],), ([0, 0],), ([0, 0],), ([0, 0],), ([0, 0],), ([0, 0],), ([0, 0],), ([0, 0],), ([0, 0],), ([0, 0],), ([0, 0],), ([0, 0],), ([0, 0],), ([0, 0],), ([0, 0],), ([0, 0],), ([0, 0],), ([0, 0],), ([0, 0],), ([0, 0],), ([0, 0],), ([0, 0],), ([0, 0],), ([0, 0],), ([0, 0],), ([0, 0],), ([0, 0],), ([0, 0],), ([0, 0],), ([0, 0],), ([0, 0],), ([0, 0],), ([0, 0],), ([0, 0],), ([0, 0],), ([0, 0],), ([0, 0],), ([0, 0],), ([0, 0],), ([0, 0],), ([0, 0],), ([0, 0],), ([0, 0],), ([0, 0],), ([0, 0],), ([0, 0],), ([0, 0],), ([0, 0],), ([0, 0],), ([0, 0],), ([0, 0],), ([0, 0],), ([0, 0],), ([0, 0],), ([0, 0],), ([0, 0],), ([0, 0],), ([0, 0],), ([0, 0],), ([0, 0],), ([0, 0],), ([0, 0],), ([0, 0],), ([0, 0],), ([0, 0],), ([0, 0],), ([0, 0],), ([0, 0],), ([0, 0],), ([0, 0],), ([0, 0],), ([0, 0],), ([0, 0],), ([0, 0],), ([0, 0],), ([0, 0],), ([0, 0],), ([0, 0],), ([0, 0],), ([0, 0],), ([0, 0],), ([0, 0],), ([0, 0],), ([0, 0],), ([0, 0],), ([0, 0],), ([0, 0],), ([0, 0],), ([0, 0],), ([0, 0],), ([0, 0],), ([0, 0],), ([0, 0],), ([0, 0],), ([0, 0],), ([0, 0],), ([0, 0],), ([0, 0],), ([0, 0],), ([0, 0],), ([0, 0],), ([0, 0],), ([0, 0],), ([0, 0],), ([0, 0],), ([0, 0],), ([0, 0],), ([0, 0],), ([0, 0],), ([0, 0],), ([0, 0],), ([0, 0],), ([0, 0],), ([0, 0],), ([0, 0],), ([0, 0],), ([0, 0],), ([0, 0],), ([0, 0],), ([0, 0],), ([0, 0],), ([0, 0],), ([0, 0],), ([0, 0],), ([0, 0],), ([0, 0],), ([0, 0],), ([0, 0],), ([0, 0],), ([0, 0],), ([0, 0],), ([0, 0],), ([0, 0],), ([0, 0],), ([0, 0],), ([0, 0],), ([0, 0],), ([0, 0],), ([0, 0],), ([0, 0],), ([0, 0],), ([0, 0],), ([0, 0],), ([0, 0],), ([0, 0],), ([0, 0],), ([0, 0],), ([0, 0],), ([0, 0],), ([0, 0],), ([0, 0],), ([0, 0],), ([0, 0],), ([0, 0],), ([0, 0],), ([0, 0],), ([0, 0],), ([0, 0],), ([0, 0],), ([0, 0],), ([0, 0],), ([0, 0],), ([0, 0],), ([0, 0],), ([0, 0],), ([0, 0],), ([0, 0],), ([0, 0],), ([0, 0],), ([0, 0],), ([0, 0],), ([0, 0],), ([0, 0],), ([0, 0],), ([0, 0],), ([0, 0],), ([0, 0],), ([0, 0],), ([0, 0],)),\n",
       "       ...,\n",
       "       (([0, 0],), ([0, 0],), ([0, 0],), ([0, 0],), ([0, 0],), ([0, 0],), ([0, 0],), ([0, 0],), ([0, 0],), ([0, 0],), ([0, 0],), ([0, 0],), ([0, 0],), ([0, 0],), ([0, 0],), ([0, 0],), ([0, 0],), ([0, 0],), ([0, 0],), ([0, 0],), ([0, 0],), ([0, 0],), ([0, 0],), ([0, 0],), ([0, 0],), ([0, 0],), ([0, 0],), ([0, 0],), ([0, 0],), ([0, 0],), ([0, 0],), ([0, 0],), ([0, 0],), ([0, 0],), ([0, 0],), ([0, 0],), ([0, 0],), ([0, 0],), ([0, 0],), ([0, 0],), ([0, 0],), ([0, 0],), ([0, 0],), ([0, 0],), ([0, 0],), ([0, 0],), ([0, 0],), ([0, 0],), ([0, 0],), ([0, 0],), ([0, 0],), ([0, 0],), ([0, 0],), ([0, 0],), ([0, 0],), ([0, 0],), ([0, 0],), ([0, 0],), ([0, 0],), ([0, 0],), ([0, 0],), ([0, 0],), ([0, 0],), ([0, 0],), ([0, 0],), ([0, 0],), ([0, 0],), ([0, 0],), ([0, 0],), ([0, 0],), ([0, 0],), ([0, 0],), ([0, 0],), ([0, 0],), ([0, 0],), ([0, 0],), ([0, 0],), ([0, 0],), ([0, 0],), ([0, 0],), ([0, 0],), ([0, 0],), ([0, 0],), ([0, 0],), ([0, 0],), ([0, 0],), ([0, 0],), ([0, 0],), ([0, 0],), ([0, 0],), ([0, 0],), ([0, 0],), ([0, 0],), ([0, 0],), ([0, 0],), ([0, 0],), ([0, 0],), ([0, 0],), ([0, 0],), ([0, 0],), ([0, 0],), ([0, 0],), ([0, 0],), ([0, 0],), ([0, 0],), ([0, 0],), ([0, 0],), ([0, 0],), ([0, 0],), ([0, 0],), ([0, 0],), ([0, 0],), ([0, 0],), ([0, 0],), ([0, 0],), ([0, 0],), ([0, 0],), ([0, 0],), ([0, 0],), ([0, 0],), ([0, 0],), ([0, 0],), ([0, 0],), ([0, 0],), ([0, 0],), ([0, 0],), ([0, 0],), ([0, 0],), ([0, 0],), ([0, 0],), ([0, 0],), ([0, 0],), ([0, 0],), ([0, 0],), ([0, 0],), ([0, 0],), ([0, 0],), ([0, 0],), ([0, 0],), ([0, 0],), ([0, 0],), ([0, 0],), ([0, 0],), ([0, 0],), ([0, 0],), ([0, 0],), ([0, 0],), ([0, 0],), ([0, 0],), ([0, 0],), ([0, 0],), ([0, 0],), ([0, 0],), ([0, 0],), ([0, 0],), ([0, 0],), ([0, 0],), ([0, 0],), ([0, 0],), ([0, 0],), ([0, 0],), ([0, 0],), ([0, 0],), ([0, 0],), ([0, 0],), ([0, 0],), ([0, 0],), ([0, 0],), ([0, 0],), ([0, 0],), ([0, 0],), ([0, 0],), ([0, 0],), ([0, 0],), ([0, 0],), ([0, 0],), ([0, 0],), ([0, 0],), ([0, 0],), ([0, 0],), ([0, 0],), ([0, 0],), ([0, 0],), ([0, 0],), ([0, 0],), ([0, 0],), ([0, 0],), ([0, 0],), ([0, 0],), ([0, 0],), ([0, 0],), ([0, 0],), ([0, 0],), ([0, 0],), ([0, 0],), ([0, 0],), ([0, 0],), ([0, 0],), ([0, 0],), ([0, 0],), ([0, 0],), ([0, 0],), ([0, 0],), ([0, 0],), ([0, 0],), ([0, 0],), ([0, 0],), ([0, 0],), ([0, 0],), ([0, 0],), ([0, 0],), ([0, 0],), ([0, 0],), ([0, 0],), ([0, 0],), ([0, 0],), ([0, 0],), ([0, 0],), ([0, 0],), ([0, 0],), ([0, 0],), ([0, 0],), ([0, 0],), ([0, 0],), ([0, 0],), ([0, 0],), ([0, 0],), ([0, 0],), ([0, 0],), ([0, 0],), ([0, 0],), ([0, 0],), ([0, 0],), ([0, 0],), ([0, 0],), ([0, 0],), ([0, 0],), ([0, 0],), ([0, 0],), ([0, 0],), ([0, 0],), ([0, 0],), ([0, 0],), ([0, 0],), ([0, 0],), ([0, 0],), ([0, 0],), ([0, 0],), ([0, 0],), ([0, 0],), ([0, 0],), ([0, 0],), ([0, 0],), ([0, 0],), ([0, 0],), ([0, 0],), ([0, 0],), ([0, 0],), ([0, 0],), ([0, 0],), ([0, 0],), ([0, 0],), ([0, 0],), ([0, 0],), ([0, 0],), ([0, 0],), ([0, 0],), ([0, 0],), ([0, 0],), ([0, 0],), ([0, 0],), ([0, 0],), ([0, 0],), ([0, 0],), ([0, 0],), ([0, 0],), ([0, 0],), ([0, 0],), ([0, 0],), ([0, 0],), ([0, 0],), ([0, 0],), ([0, 0],), ([0, 0],), ([0, 0],), ([0, 0],), ([0, 0],), ([0, 0],), ([0, 0],), ([0, 0],), ([0, 0],), ([0, 0],), ([0, 0],), ([0, 0],), ([0, 0],), ([0, 0],), ([0, 0],), ([0, 0],), ([0, 0],), ([0, 0],), ([0, 0],), ([0, 0],), ([0, 0],), ([0, 0],), ([0, 0],), ([0, 0],), ([0, 0],), ([0, 0],), ([0, 0],), ([0, 0],), ([0, 0],), ([0, 0],), ([0, 0],), ([0, 0],), ([0, 0],), ([0, 0],), ([0, 0],), ([0, 0],), ([0, 0],), ([0, 0],), ([0, 0],), ([0, 0],), ([0, 0],), ([0, 0],), ([0, 0],), ([0, 0],), ([0, 0],), ([0, 0],), ([0, 0],), ([0, 0],), ([0, 0],), ([0, 0],), ([0, 0],), ([0, 0],), ([0, 0],), ([0, 0],), ([0, 0],), ([0, 0],), ([0, 0],), ([0, 0],), ([0, 0],), ([0, 0],), ([0, 0],), ([0, 0],), ([0, 0],), ([0, 0],), ([0, 0],), ([0, 0],), ([0, 0],), ([0, 0],), ([0, 0],), ([0, 0],), ([0, 0],), ([0, 0],), ([0, 0],), ([0, 0],), ([0, 0],), ([0, 0],), ([0, 0],), ([0, 0],), ([0, 0],), ([0, 0],), ([0, 0],), ([0, 0],), ([0, 0],), ([0, 0],), ([0, 0],), ([0, 0],), ([0, 0],), ([0, 0],), ([0, 0],), ([0, 0],), ([0, 0],), ([0, 0],), ([0, 0],), ([0, 0],), ([0, 0],), ([0, 0],), ([0, 0],), ([0, 0],), ([0, 0],), ([0, 0],), ([0, 0],), ([0, 0],), ([0, 0],), ([0, 0],), ([0, 0],), ([0, 0],), ([0, 0],), ([0, 0],), ([0, 0],), ([0, 0],), ([0, 0],), ([0, 0],), ([0, 0],), ([0, 0],), ([0, 0],), ([0, 0],), ([0, 0],), ([0, 0],), ([0, 0],), ([0, 0],), ([0, 0],), ([0, 0],), ([0, 0],), ([0, 0],), ([0, 0],), ([0, 0],), ([0, 0],), ([0, 0],), ([0, 0],), ([0, 0],), ([0, 0],), ([0, 0],), ([0, 0],), ([0, 0],), ([0, 0],), ([0, 0],), ([0, 0],), ([0, 0],), ([0, 0],), ([0, 0],), ([0, 0],), ([0, 0],), ([0, 0],), ([0, 0],), ([0, 0],), ([0, 0],), ([0, 0],), ([0, 0],), ([0, 0],), ([0, 0],), ([0, 0],), ([0, 0],), ([0, 0],), ([0, 0],), ([0, 0],), ([0, 0],), ([0, 0],), ([0, 0],), ([0, 0],), ([0, 0],), ([0, 0],), ([0, 0],), ([0, 0],), ([0, 0],), ([0, 0],), ([0, 0],), ([0, 0],), ([0, 0],), ([0, 0],), ([0, 0],), ([0, 0],), ([0, 0],), ([0, 0],), ([0, 0],), ([0, 0],), ([0, 0],), ([0, 0],), ([0, 0],), ([0, 0],), ([0, 0],), ([0, 0],), ([0, 0],), ([0, 0],), ([0, 0],), ([0, 0],), ([0, 0],), ([0, 0],), ([0, 0],), ([0, 0],), ([0, 0],), ([0, 0],), ([0, 0],), ([0, 0],), ([0, 0],), ([0, 0],), ([0, 0],), ([0, 0],), ([0, 0],), ([0, 0],), ([0, 0],), ([0, 0],), ([0, 0],), ([0, 0],), ([0, 0],), ([0, 0],), ([0, 0],), ([0, 0],), ([0, 0],), ([0, 0],), ([0, 0],), ([0, 0],), ([0, 0],), ([0, 0],), ([0, 0],), ([0, 0],), ([0, 0],), ([0, 0],), ([0, 0],), ([0, 0],), ([0, 0],), ([0, 0],), ([0, 0],), ([0, 0],), ([0, 0],), ([0, 0],), ([0, 0],), ([0, 0],), ([0, 0],), ([0, 0],), ([0, 0],), ([0, 0],), ([0, 0],), ([0, 0],), ([0, 0],), ([0, 0],), ([0, 0],), ([0, 0],), ([0, 0],), ([0, 0],), ([0, 0],), ([0, 0],), ([0, 0],), ([0, 0],), ([0, 0],), ([0, 0],), ([0, 0],), ([0, 0],), ([0, 0],), ([0, 0],), ([0, 0],), ([0, 0],), ([0, 0],), ([0, 0],), ([0, 0],), ([0, 0],), ([0, 0],), ([0, 0],), ([0, 0],), ([0, 0],), ([0, 0],), ([0, 0],), ([0, 0],), ([0, 0],), ([0, 0],), ([0, 0],), ([0, 0],), ([0, 0],), ([0, 0],), ([0, 0],), ([0, 0],), ([0, 0],), ([0, 0],), ([0, 0],), ([0, 0],), ([0, 0],), ([0, 0],), ([0, 0],), ([0, 0],), ([0, 0],), ([0, 0],), ([0, 0],), ([0, 0],), ([0, 0],), ([0, 0],), ([0, 0],), ([0, 0],), ([0, 0],), ([0, 0],), ([0, 0],), ([0, 0],), ([0, 0],), ([0, 0],), ([0, 0],), ([0, 0],), ([0, 0],), ([0, 0],), ([0, 0],), ([0, 0],), ([0, 0],), ([0, 0],), ([0, 0],), ([0, 0],), ([0, 0],), ([0, 0],), ([0, 0],), ([0, 0],), ([0, 0],), ([0, 0],), ([0, 0],), ([0, 0],), ([0, 0],), ([0, 0],), ([0, 0],), ([0, 0],), ([0, 0],), ([0, 0],), ([0, 0],), ([0, 0],), ([0, 0],), ([0, 0],), ([0, 0],), ([0, 0],), ([0, 0],), ([0, 0],), ([0, 0],), ([0, 0],), ([0, 0],), ([0, 0],), ([0, 0],), ([0, 0],), ([0, 0],), ([0, 0],), ([0, 0],), ([0, 0],), ([0, 0],), ([0, 0],), ([0, 0],), ([0, 0],), ([0, 0],), ([0, 0],), ([0, 0],), ([0, 0],), ([0, 0],), ([0, 0],), ([0, 0],), ([0, 0],), ([0, 0],), ([0, 0],), ([0, 0],), ([0, 0],), ([0, 0],), ([0, 0],), ([1, 0],), ([0, 0],), ([0, 0],), ([0, 0],), ([0, 0],), ([0, 0],), ([0, 0],), ([0, 0],), ([0, 0],), ([0, 0],), ([0, 0],), ([0, 0],), ([0, 0],), ([0, 0],), ([0, 0],), ([0, 0],), ([0, 0],), ([0, 0],), ([0, 0],), ([0, 0],), ([0, 0],), ([0, 0],), ([0, 0],), ([0, 0],), ([0, 0],), ([0, 0],), ([1, 0],), ([0, 0],), ([0, 0],), ([0, 0],), ([0, 0],), ([0, 0],), ([0, 0],), ([0, 0],), ([0, 0],), ([0, 0],), ([0, 0],), ([0, 0],), ([0, 0],), ([0, 0],), ([0, 0],), ([0, 0],), ([0, 0],), ([0, 0],), ([0, 0],), ([0, 0],), ([0, 0],), ([0, 0],), ([0, 0],), ([0, 0],), ([0, 0],), ([0, 0],), ([0, 0],), ([0, 0],), ([0, 0],), ([0, 0],), ([0, 0],), ([0, 0],), ([0, 0],), ([0, 0],), ([0, 0],), ([0, 0],), ([0, 0],), ([0, 0],), ([0, 0],), ([0, 0],), ([0, 0],), ([0, 0],), ([0, 0],), ([0, 0],), ([0, 0],), ([0, 0],), ([0, 0],), ([0, 0],), ([0, 0],), ([0, 0],), ([0, 0],), ([0, 0],), ([0, 0],), ([0, 0],), ([0, 0],), ([0, 0],), ([0, 0],), ([0, 0],), ([0, 0],), ([0, 0],), ([0, 0],), ([0, 0],), ([0, 0],), ([0, 0],), ([0, 0],), ([0, 0],), ([0, 0],), ([0, 0],), ([0, 0],), ([0, 0],), ([0, 0],), ([0, 0],), ([0, 0],), ([0, 0],), ([0, 0],), ([0, 0],), ([0, 0],), ([0, 0],), ([0, 0],), ([0, 0],), ([0, 0],), ([0, 0],), ([0, 0],), ([0, 0],), ([0, 0],), ([0, 0],), ([0, 0],), ([0, 0],), ([0, 0],), ([0, 0],), ([0, 0],), ([0, 0],), ([0, 0],), ([0, 0],), ([0, 0],), ([0, 0],), ([0, 0],), ([0, 0],), ([0, 0],), ([0, 0],), ([0, 0],), ([0, 0],), ([0, 0],), ([0, 0],), ([0, 0],), ([0, 0],), ([0, 0],), ([0, 0],), ([0, 0],), ([0, 0],), ([0, 0],), ([0, 0],), ([0, 0],)),\n",
       "       (([1, 1],), ([0, 1],), ([1, 1],), ([1, 1],), ([0, 1],), ([0, 1],), ([1, 1],), ([1, 1],), ([1, 1],), ([1, 1],), ([1, 1],), ([1, 1],), ([1, 1],), ([1, 1],), ([1, 1],), ([1, 1],), ([1, 1],), ([0, 1],), ([1, 1],), ([0, 1],), ([1, 1],), ([1, 1],), ([1, 1],), ([1, 1],), ([1, 1],), ([1, 1],), ([1, 1],), ([1, 1],), ([1, 1],), ([1, 1],), ([1, 1],), ([1, 1],), ([1, 1],), ([1, 1],), ([1, 1],), ([1, 1],), ([1, 1],), ([0, 1],), ([1, 1],), ([1, 1],), ([1, 1],), ([1, 1],), ([1, 1],), ([1, 1],), ([1, 1],), ([1, 1],), ([1, 1],), ([1, 1],), ([1, 1],), ([1, 1],), ([1, 1],), ([1, 1],), ([1, 1],), ([1, 1],), ([1, 1],), ([1, 1],), ([1, 1],), ([1, 1],), ([1, 1],), ([1, 1],), ([1, 1],), ([1, 1],), ([1, 1],), ([1, 1],), ([1, 1],), ([1, 1],), ([1, 1],), ([0, 1],), ([1, 1],), ([1, 1],), ([1, 1],), ([1, 1],), ([1, 1],), ([1, 1],), ([0, 1],), ([1, 1],), ([1, 1],), ([1, 1],), ([0, 1],), ([1, 1],), ([1, 1],), ([1, 1],), ([1, 1],), ([1, 1],), ([1, 1],), ([0, 1],), ([1, 1],), ([1, 1],), ([1, 1],), ([1, 1],), ([1, 1],), ([1, 1],), ([1, 1],), ([0, 1],), ([1, 1],), ([1, 1],), ([1, 1],), ([1, 1],), ([1, 1],), ([1, 1],), ([1, 1],), ([0, 1],), ([1, 1],), ([1, 1],), ([0, 1],), ([1, 1],), ([1, 1],), ([1, 1],), ([1, 1],), ([1, 1],), ([1, 1],), ([1, 1],), ([1, 1],), ([0, 1],), ([1, 1],), ([1, 0],), ([1, 1],), ([1, 1],), ([0, 1],), ([1, 1],), ([1, 1],), ([1, 1],), ([1, 1],), ([1, 1],), ([1, 1],), ([0, 1],), ([1, 1],), ([1, 1],), ([1, 1],), ([1, 1],), ([0, 1],), ([1, 1],), ([1, 1],), ([0, 0],), ([1, 0],), ([1, 1],), ([1, 1],), ([1, 1],), ([1, 1],), ([1, 1],), ([1, 1],), ([1, 1],), ([1, 1],), ([1, 1],), ([1, 1],), ([1, 1],), ([1, 1],), ([1, 1],), ([1, 1],), ([1, 1],), ([1, 1],), ([1, 1],), ([1, 1],), ([1, 1],), ([1, 1],), ([1, 1],), ([1, 1],), ([1, 1],), ([1, 1],), ([1, 1],), ([1, 1],), ([1, 1],), ([1, 1],), ([1, 1],), ([1, 1],), ([1, 1],), ([1, 1],), ([1, 1],), ([1, 1],), ([1, 1],), ([1, 1],), ([1, 1],), ([1, 1],), ([1, 1],), ([1, 1],), ([1, 1],), ([1, 1],), ([1, 1],), ([1, 1],), ([1, 1],), ([1, 1],), ([1, 1],), ([1, 1],), ([1, 1],), ([1, 1],), ([1, 1],), ([1, 1],), ([1, 1],), ([1, 1],), ([1, 1],), ([1, 1],), ([1, 1],), ([1, 1],), ([1, 1],), ([1, 1],), ([1, 1],), ([1, 1],), ([1, 1],), ([1, 1],), ([1, 1],), ([1, 1],), ([1, 1],), ([1, 1],), ([1, 1],), ([1, 1],), ([1, 1],), ([1, 1],), ([1, 1],), ([1, 1],), ([1, 1],), ([1, 1],), ([1, 1],), ([1, 1],), ([1, 1],), ([1, 1],), ([1, 1],), ([1, 1],), ([1, 1],), ([1, 1],), ([1, 1],), ([1, 1],), ([1, 1],), ([1, 1],), ([1, 1],), ([1, 1],), ([1, 1],), ([1, 1],), ([1, 1],), ([1, 1],), ([1, 1],), ([1, 1],), ([1, 1],), ([1, 1],), ([1, 1],), ([1, 1],), ([1, 1],), ([1, 1],), ([1, 1],), ([1, 1],), ([1, 1],), ([1, 1],), ([1, 1],), ([1, 1],), ([1, 1],), ([1, 1],), ([1, 1],), ([1, 1],), ([1, 1],), ([1, 1],), ([1, 1],), ([1, 1],), ([1, 1],), ([1, 1],), ([0, 1],), ([1, 1],), ([1, 1],), ([1, 1],), ([1, 0],), ([1, 1],), ([1, 1],), ([1, 0],), ([1, 1],), ([1, 1],), ([1, 0],), ([1, 1],), ([1, 1],), ([1, 1],), ([1, 1],), ([1, 0],), ([0, 1],), ([0, 1],), ([1, 0],), ([1, 1],), ([1, 1],), ([1, 1],), ([0, 1],), ([1, 0],), ([1, 1],), ([1, 1],), ([1, 1],), ([0, 1],), ([1, 1],), ([1, 1],), ([1, 1],), ([0, 0],), ([0, 1],), ([1, 1],), ([0, 1],), ([1, 1],), ([0, 1],), ([0, 1],), ([1, 0],), ([1, 1],), ([0, 1],), ([0, 1],), ([1, 0],), ([1, 1],), ([1, 1],), ([0, 0],), ([1, 0],), ([1, 1],), ([1, 1],), ([1, 1],), ([0, 1],), ([1, 1],), ([1, 0],), ([1, 0],), ([0, 1],), ([1, 0],), ([0, 0],), ([1, 0],), ([1, 1],), ([0, 0],), ([1, 0],), ([1, 1],), ([1, 1],), ([1, 1],), ([1, 1],), ([1, 1],), ([1, 1],), ([1, 1],), ([1, 1],), ([1, 1],), ([1, 1],), ([1, 1],), ([1, 1],), ([1, 1],), ([1, 1],), ([1, 1],), ([0, 1],), ([1, 1],), ([1, 1],), ([1, 1],), ([0, 1],), ([1, 1],), ([1, 1],), ([1, 1],), ([1, 1],), ([0, 1],), ([1, 1],), ([1, 1],), ([0, 1],), ([1, 1],), ([1, 1],), ([1, 1],), ([1, 1],), ([1, 1],), ([1, 1],), ([1, 1],), ([1, 1],), ([1, 1],), ([1, 1],), ([1, 1],), ([1, 1],), ([1, 1],), ([1, 1],), ([1, 1],), ([1, 1],), ([1, 1],), ([1, 1],), ([1, 1],), ([1, 1],), ([1, 1],), ([1, 1],), ([1, 1],), ([1, 1],), ([1, 1],), ([1, 1],), ([1, 1],), ([1, 1],), ([1, 1],), ([1, 1],), ([1, 1],), ([1, 1],), ([1, 1],), ([1, 1],), ([1, 1],), ([1, 1],), ([1, 1],), ([1, 1],), ([1, 1],), ([1, 1],), ([1, 1],), ([1, 1],), ([1, 1],), ([1, 1],), ([1, 1],), ([1, 1],), ([1, 1],), ([1, 1],), ([1, 1],), ([1, 1],), ([1, 1],), ([1, 1],), ([1, 1],), ([1, 1],), ([1, 1],), ([1, 1],), ([1, 1],), ([1, 1],), ([1, 1],), ([1, 1],), ([1, 1],), ([1, 1],), ([1, 1],), ([1, 1],), ([1, 1],), ([1, 1],), ([1, 1],), ([1, 1],), ([1, 1],), ([1, 1],), ([1, 1],), ([1, 1],), ([1, 1],), ([1, 1],), ([1, 1],), ([1, 1],), ([1, 1],), ([1, 1],), ([1, 1],), ([1, 1],), ([1, 1],), ([1, 1],), ([1, 1],), ([1, 1],), ([1, 1],), ([1, 1],), ([1, 1],), ([1, 1],), ([1, 1],), ([1, 1],), ([1, 1],), ([1, 1],), ([1, 1],), ([1, 1],), ([1, 1],), ([1, 1],), ([1, 1],), ([1, 1],), ([1, 1],), ([1, 1],), ([1, 1],), ([1, 1],), ([1, 1],), ([1, 1],), ([1, 1],), ([1, 1],), ([1, 1],), ([1, 1],), ([1, 1],), ([1, 1],), ([1, 1],), ([1, 1],), ([1, 1],), ([1, 1],), ([1, 1],), ([1, 1],), ([1, 1],), ([1, 1],), ([1, 1],), ([1, 1],), ([1, 1],), ([1, 1],), ([1, 1],), ([1, 1],), ([1, 1],), ([1, 1],), ([1, 1],), ([1, 1],), ([1, 1],), ([1, 1],), ([1, 1],), ([1, 1],), ([1, 1],), ([1, 1],), ([1, 1],), ([1, 1],), ([1, 1],), ([1, 1],), ([1, 1],), ([1, 1],), ([1, 1],), ([1, 1],), ([1, 1],), ([1, 1],), ([1, 1],), ([1, 1],), ([1, 1],), ([1, 1],), ([1, 1],), ([1, 1],), ([1, 1],), ([1, 1],), ([1, 1],), ([1, 1],), ([1, 1],), ([1, 1],), ([1, 1],), ([1, 1],), ([1, 1],), ([1, 1],), ([1, 1],), ([1, 1],), ([1, 1],), ([1, 1],), ([1, 1],), ([1, 1],), ([1, 1],), ([1, 1],), ([1, 1],), ([1, 1],), ([1, 1],), ([1, 1],), ([1, 1],), ([1, 1],), ([1, 1],), ([1, 1],), ([1, 1],), ([1, 1],), ([1, 1],), ([1, 1],), ([1, 1],), ([1, 1],), ([1, 1],), ([1, 1],), ([1, 1],), ([1, 1],), ([1, 1],), ([1, 1],), ([1, 1],), ([1, 1],), ([1, 1],), ([1, 1],), ([1, 1],), ([1, 1],), ([1, 1],), ([1, 1],), ([1, 1],), ([1, 1],), ([1, 1],), ([1, 1],), ([1, 1],), ([1, 1],), ([1, 1],), ([1, 1],), ([1, 1],), ([1, 1],), ([1, 1],), ([1, 1],), ([1, 1],), ([1, 1],), ([1, 1],), ([1, 1],), ([1, 1],), ([1, 1],), ([1, 1],), ([1, 1],), ([1, 1],), ([1, 1],), ([1, 1],), ([1, 1],), ([1, 1],), ([1, 1],), ([1, 1],), ([1, 1],), ([1, 1],), ([1, 1],), ([1, 1],), ([1, 1],), ([1, 1],), ([1, 1],), ([1, 1],), ([1, 1],), ([1, 1],), ([1, 1],), ([1, 1],), ([1, 1],), ([1, 1],), ([1, 1],), ([1, 1],), ([1, 1],), ([1, 1],), ([1, 1],), ([1, 1],), ([1, 1],), ([1, 1],), ([1, 1],), ([1, 1],), ([1, 1],), ([1, 1],), ([1, 1],), ([1, 1],), ([1, 1],), ([1, 1],), ([1, 1],), ([1, 1],), ([1, 1],), ([1, 1],), ([1, 1],), ([1, 1],), ([1, 1],), ([1, 1],), ([1, 1],), ([1, 1],), ([1, 1],), ([1, 1],), ([1, 1],), ([1, 1],), ([1, 1],), ([1, 1],), ([1, 1],), ([1, 1],), ([1, 1],), ([1, 1],), ([1, 1],), ([1, 1],), ([1, 1],), ([1, 1],), ([1, 1],), ([1, 1],), ([1, 1],), ([1, 1],), ([0, 1],), ([1, 1],), ([1, 1],), ([1, 1],), ([1, 1],), ([1, 1],), ([1, 1],), ([1, 1],), ([1, 1],), ([0, 0],), ([0, 1],), ([0, 1],), ([0, 1],), ([1, 1],), ([1, 1],), ([1, 1],), ([1, 1],), ([1, 1],), ([1, 1],), ([1, 1],), ([1, 1],), ([0, 1],), ([1, 1],), ([1, 1],), ([1, 1],), ([1, 1],), ([0, 1],), ([1, 1],), ([1, 1],), ([1, 1],), ([1, 1],), ([1, 1],), ([0, 1],), ([1, 1],), ([1, 1],), ([0, 1],), ([0, 1],), ([0, 1],), ([1, 1],), ([1, 1],), ([0, 1],), ([1, 1],), ([1, 1],), ([0, 0],), ([1, 1],), ([0, 1],), ([1, 1],), ([1, 1],), ([1, 1],), ([1, 1],), ([1, 1],), ([1, 1],), ([1, 1],), ([1, 1],), ([0, 1],), ([1, 1],), ([1, 1],), ([1, 1],), ([1, 1],), ([1, 1],), ([1, 1],), ([1, 1],), ([1, 1],), ([1, 1],), ([1, 1],), ([1, 1],), ([1, 1],), ([1, 1],), ([1, 1],), ([1, 1],), ([1, 1],), ([1, 1],), ([1, 1],), ([1, 1],), ([1, 1],), ([1, 1],), ([1, 1],), ([1, 1],), ([1, 1],), ([1, 1],), ([1, 1],), ([1, 1],), ([1, 1],), ([1, 1],), ([1, 1],), ([1, 1],), ([1, 1],), ([1, 1],), ([1, 1],), ([1, 1],), ([1, 1],), ([1, 1],), ([1, 1],), ([1, 1],), ([1, 1],), ([1, 1],), ([1, 1],), ([1, 1],), ([1, 1],), ([1, 1],), ([1, 1],), ([1, 1],), ([1, 1],), ([1, 1],), ([1, 1],), ([1, 1],), ([1, 1],), ([1, 1],), ([1, 1],), ([1, 1],), ([1, 1],), ([1, 1],), ([1, 1],), ([1, 1],), ([1, 1],), ([1, 1],), ([1, 1],), ([1, 1],), ([1, 1],), ([1, 1],), ([1, 1],), ([1, 1],), ([1, 1],), ([1, 1],), ([1, 1],), ([1, 1],), ([1, 1],), ([1, 1],), ([1, 1],), ([1, 1],), ([1, 1],), ([1, 1],), ([1, 1],), ([1, 1],), ([1, 1],), ([1, 1],), ([1, 1],), ([1, 1],), ([1, 1],), ([1, 1],), ([1, 1],), ([1, 1],), ([1, 1],), ([0, 0],), ([0, 1],), ([0, 0],), ([1, 0],), ([0, 0],), ([1, 1],), ([0, 1],)),\n",
       "       (([0, 0],), ([0, 0],), ([0, 0],), ([0, 0],), ([0, 0],), ([0, 0],), ([0, 0],), ([0, 0],), ([0, 0],), ([0, 0],), ([0, 0],), ([0, 0],), ([0, 0],), ([0, 0],), ([0, 0],), ([0, 0],), ([0, 0],), ([0, 0],), ([0, 0],), ([0, 0],), ([0, 0],), ([0, 0],), ([0, 0],), ([0, 0],), ([0, 0],), ([0, 0],), ([0, 0],), ([0, 0],), ([0, 0],), ([0, 0],), ([0, 0],), ([0, 0],), ([0, 0],), ([0, 0],), ([0, 0],), ([0, 0],), ([0, 0],), ([0, 0],), ([0, 0],), ([0, 0],), ([0, 0],), ([0, 0],), ([0, 0],), ([0, 0],), ([0, 0],), ([0, 0],), ([0, 0],), ([0, 0],), ([0, 0],), ([0, 0],), ([0, 0],), ([0, 0],), ([0, 0],), ([0, 0],), ([0, 0],), ([0, 0],), ([0, 0],), ([0, 0],), ([0, 0],), ([0, 0],), ([0, 0],), ([0, 0],), ([0, 0],), ([0, 0],), ([0, 0],), ([0, 0],), ([0, 0],), ([0, 0],), ([0, 0],), ([0, 0],), ([0, 0],), ([0, 0],), ([0, 0],), ([0, 0],), ([0, 0],), ([0, 0],), ([0, 0],), ([0, 0],), ([0, 0],), ([0, 0],), ([0, 0],), ([0, 0],), ([0, 0],), ([0, 0],), ([0, 0],), ([0, 0],), ([0, 0],), ([0, 0],), ([0, 0],), ([0, 0],), ([0, 0],), ([0, 0],), ([0, 0],), ([0, 0],), ([0, 0],), ([0, 0],), ([0, 0],), ([0, 0],), ([0, 0],), ([0, 0],), ([0, 0],), ([0, 0],), ([0, 0],), ([0, 0],), ([0, 0],), ([0, 0],), ([0, 0],), ([0, 0],), ([0, 0],), ([0, 0],), ([0, 0],), ([0, 0],), ([0, 0],), ([0, 0],), ([0, 0],), ([0, 0],), ([0, 0],), ([0, 0],), ([0, 0],), ([0, 0],), ([0, 0],), ([0, 0],), ([0, 0],), ([0, 0],), ([0, 0],), ([0, 0],), ([0, 0],), ([0, 0],), ([0, 0],), ([0, 0],), ([0, 0],), ([0, 0],), ([0, 0],), ([0, 0],), ([0, 0],), ([0, 0],), ([0, 0],), ([0, 0],), ([0, 0],), ([0, 0],), ([0, 0],), ([0, 0],), ([0, 0],), ([0, 0],), ([0, 0],), ([0, 0],), ([0, 0],), ([0, 0],), ([0, 0],), ([0, 0],), ([0, 0],), ([0, 0],), ([0, 0],), ([0, 0],), ([0, 0],), ([0, 0],), ([0, 0],), ([0, 0],), ([0, 0],), ([0, 0],), ([0, 0],), ([0, 0],), ([0, 0],), ([0, 0],), ([0, 0],), ([0, 0],), ([0, 0],), ([0, 0],), ([0, 0],), ([0, 0],), ([0, 0],), ([0, 0],), ([0, 0],), ([0, 0],), ([0, 0],), ([0, 0],), ([0, 0],), ([0, 0],), ([0, 0],), ([0, 0],), ([0, 0],), ([0, 0],), ([0, 0],), ([0, 0],), ([0, 0],), ([0, 0],), ([0, 0],), ([0, 0],), ([0, 0],), ([0, 0],), ([0, 0],), ([0, 0],), ([0, 0],), ([0, 0],), ([0, 0],), ([0, 0],), ([0, 0],), ([0, 0],), ([0, 0],), ([0, 0],), ([0, 0],), ([0, 0],), ([0, 0],), ([0, 0],), ([0, 0],), ([0, 0],), ([0, 0],), ([0, 0],), ([0, 0],), ([0, 0],), ([0, 0],), ([0, 0],), ([0, 0],), ([0, 0],), ([0, 0],), ([0, 0],), ([0, 0],), ([0, 0],), ([0, 0],), ([0, 0],), ([0, 0],), ([0, 0],), ([0, 0],), ([0, 0],), ([0, 0],), ([0, 0],), ([0, 0],), ([0, 0],), ([0, 0],), ([0, 0],), ([0, 0],), ([0, 0],), ([0, 0],), ([0, 0],), ([0, 0],), ([0, 0],), ([0, 0],), ([0, 0],), ([0, 0],), ([0, 0],), ([0, 0],), ([0, 0],), ([0, 0],), ([0, 0],), ([0, 0],), ([0, 0],), ([0, 0],), ([0, 0],), ([0, 0],), ([0, 0],), ([0, 0],), ([0, 0],), ([0, 0],), ([0, 0],), ([0, 0],), ([0, 0],), ([0, 0],), ([0, 0],), ([0, 0],), ([0, 0],), ([0, 0],), ([0, 0],), ([0, 0],), ([0, 0],), ([0, 1],), ([0, 0],), ([0, 0],), ([0, 0],), ([0, 0],), ([0, 0],), ([0, 0],), ([0, 0],), ([0, 0],), ([0, 0],), ([0, 0],), ([0, 0],), ([0, 0],), ([0, 0],), ([0, 0],), ([0, 0],), ([0, 0],), ([0, 0],), ([0, 0],), ([0, 0],), ([0, 0],), ([0, 0],), ([0, 0],), ([0, 0],), ([0, 0],), ([0, 0],), ([0, 0],), ([0, 0],), ([0, 0],), ([0, 0],), ([0, 0],), ([0, 0],), ([0, 0],), ([0, 0],), ([0, 0],), ([0, 0],), ([0, 0],), ([0, 0],), ([0, 0],), ([0, 0],), ([0, 0],), ([0, 0],), ([0, 0],), ([0, 0],), ([0, 0],), ([0, 0],), ([0, 0],), ([0, 0],), ([0, 0],), ([0, 0],), ([0, 0],), ([0, 0],), ([0, 0],), ([0, 0],), ([0, 0],), ([0, 0],), ([0, 0],), ([0, 0],), ([0, 0],), ([0, 0],), ([0, 0],), ([0, 0],), ([0, 0],), ([0, 0],), ([0, 0],), ([0, 0],), ([0, 0],), ([0, 0],), ([0, 0],), ([0, 0],), ([0, 0],), ([0, 0],), ([0, 0],), ([0, 0],), ([0, 0],), ([0, 0],), ([0, 0],), ([0, 0],), ([0, 0],), ([0, 0],), ([0, 0],), ([0, 0],), ([0, 0],), ([0, 0],), ([0, 0],), ([0, 0],), ([0, 0],), ([0, 0],), ([0, 0],), ([0, 0],), ([0, 0],), ([0, 0],), ([0, 0],), ([0, 0],), ([0, 0],), ([0, 0],), ([0, 0],), ([0, 0],), ([0, 0],), ([0, 0],), ([0, 0],), ([0, 0],), ([0, 0],), ([0, 0],), ([0, 0],), ([0, 0],), ([0, 0],), ([0, 0],), ([0, 0],), ([0, 0],), ([0, 0],), ([0, 0],), ([0, 0],), ([0, 0],), ([0, 0],), ([0, 0],), ([0, 0],), ([0, 0],), ([0, 0],), ([0, 0],), ([0, 0],), ([0, 0],), ([0, 0],), ([0, 0],), ([0, 0],), ([0, 0],), ([0, 0],), ([0, 0],), ([0, 0],), ([0, 0],), ([0, 0],), ([0, 0],), ([0, 0],), ([0, 0],), ([0, 0],), ([0, 0],), ([0, 0],), ([0, 0],), ([0, 0],), ([0, 0],), ([0, 0],), ([0, 0],), ([0, 0],), ([0, 0],), ([0, 0],), ([0, 0],), ([0, 0],), ([0, 0],), ([0, 0],), ([0, 0],), ([0, 0],), ([0, 0],), ([0, 0],), ([0, 0],), ([0, 0],), ([0, 0],), ([0, 0],), ([0, 0],), ([0, 0],), ([0, 0],), ([0, 0],), ([0, 0],), ([0, 0],), ([0, 0],), ([0, 0],), ([0, 0],), ([0, 0],), ([0, 0],), ([0, 0],), ([0, 0],), ([0, 0],), ([0, 0],), ([0, 0],), ([0, 0],), ([0, 0],), ([0, 0],), ([0, 0],), ([0, 0],), ([0, 0],), ([0, 0],), ([0, 0],), ([0, 0],), ([0, 0],), ([0, 0],), ([0, 0],), ([0, 0],), ([0, 0],), ([0, 0],), ([0, 0],), ([0, 0],), ([0, 0],), ([0, 0],), ([0, 0],), ([0, 0],), ([0, 0],), ([0, 0],), ([0, 0],), ([0, 0],), ([0, 0],), ([0, 0],), ([0, 0],), ([0, 0],), ([0, 0],), ([0, 0],), ([0, 0],), ([0, 0],), ([0, 0],), ([0, 0],), ([0, 0],), ([0, 0],), ([0, 0],), ([0, 0],), ([0, 0],), ([0, 0],), ([0, 0],), ([0, 0],), ([0, 0],), ([0, 0],), ([0, 0],), ([0, 0],), ([0, 0],), ([0, 0],), ([0, 0],), ([0, 0],), ([0, 0],), ([0, 0],), ([0, 0],), ([0, 0],), ([0, 0],), ([0, 0],), ([0, 0],), ([0, 0],), ([0, 0],), ([0, 0],), ([0, 0],), ([0, 0],), ([0, 0],), ([0, 0],), ([0, 0],), ([0, 0],), ([0, 0],), ([0, 0],), ([0, 0],), ([0, 0],), ([0, 0],), ([0, 0],), ([0, 0],), ([0, 0],), ([0, 0],), ([0, 0],), ([0, 0],), ([0, 0],), ([0, 0],), ([0, 0],), ([0, 0],), ([0, 0],), ([0, 0],), ([0, 0],), ([0, 0],), ([0, 0],), ([0, 0],), ([0, 0],), ([0, 0],), ([0, 0],), ([0, 0],), ([0, 0],), ([0, 0],), ([0, 0],), ([0, 0],), ([0, 0],), ([0, 0],), ([0, 0],), ([0, 0],), ([0, 0],), ([0, 0],), ([0, 0],), ([0, 0],), ([0, 0],), ([0, 0],), ([0, 0],), ([0, 0],), ([0, 0],), ([0, 0],), ([0, 0],), ([0, 0],), ([0, 0],), ([0, 0],), ([0, 0],), ([0, 0],), ([0, 0],), ([0, 0],), ([0, 0],), ([0, 0],), ([0, 0],), ([0, 0],), ([0, 0],), ([0, 0],), ([0, 0],), ([0, 0],), ([0, 0],), ([0, 0],), ([0, 0],), ([0, 0],), ([0, 0],), ([0, 0],), ([0, 0],), ([0, 0],), ([0, 0],), ([0, 0],), ([0, 0],), ([0, 0],), ([0, 0],), ([0, 0],), ([0, 0],), ([0, 0],), ([0, 0],), ([0, 0],), ([0, 0],), ([0, 0],), ([0, 0],), ([0, 0],), ([0, 0],), ([0, 0],), ([0, 0],), ([0, 0],), ([0, 0],), ([0, 0],), ([0, 0],), ([0, 0],), ([0, 0],), ([0, 0],), ([0, 0],), ([0, 0],), ([0, 0],), ([0, 0],), ([0, 0],), ([0, 0],), ([0, 0],), ([0, 0],), ([0, 0],), ([0, 0],), ([0, 0],), ([0, 0],), ([0, 0],), ([0, 0],), ([0, 0],), ([0, 0],), ([0, 0],), ([0, 0],), ([0, 0],), ([0, 0],), ([0, 0],), ([0, 0],), ([0, 0],), ([0, 0],), ([0, 0],), ([0, 0],), ([0, 0],), ([0, 0],), ([0, 0],), ([0, 0],), ([0, 0],), ([0, 0],), ([0, 0],), ([0, 0],), ([0, 0],), ([0, 0],), ([0, 0],), ([0, 0],), ([0, 0],), ([0, 0],), ([0, 0],), ([0, 0],), ([0, 0],), ([0, 0],), ([0, 0],), ([0, 0],), ([0, 0],), ([0, 0],), ([0, 0],), ([0, 0],), ([0, 0],), ([0, 0],), ([0, 0],), ([0, 0],), ([0, 0],), ([0, 0],), ([0, 0],), ([0, 0],), ([0, 0],), ([0, 0],), ([0, 0],), ([0, 0],), ([0, 0],), ([0, 0],), ([0, 0],), ([0, 0],), ([0, 0],), ([0, 0],), ([0, 0],), ([0, 0],), ([0, 0],), ([0, 0],), ([0, 0],), ([0, 0],), ([0, 0],), ([0, 0],), ([0, 0],), ([0, 0],), ([0, 0],), ([0, 0],), ([0, 0],), ([0, 0],), ([0, 0],), ([0, 0],), ([0, 0],), ([0, 0],), ([0, 0],), ([0, 0],), ([0, 0],), ([0, 0],), ([0, 0],), ([0, 0],), ([0, 0],), ([0, 0],), ([0, 0],), ([0, 0],), ([0, 0],), ([0, 0],), ([0, 0],), ([0, 0],), ([0, 0],), ([0, 0],), ([0, 0],), ([0, 0],), ([0, 0],), ([0, 0],), ([0, 0],), ([0, 0],), ([0, 0],), ([0, 0],), ([0, 0],), ([0, 0],), ([0, 0],), ([0, 0],), ([0, 0],), ([0, 0],), ([0, 0],), ([0, 0],), ([0, 0],), ([0, 0],), ([0, 0],), ([0, 0],), ([0, 0],), ([0, 0],), ([0, 0],), ([0, 0],), ([0, 0],), ([0, 0],), ([0, 0],), ([0, 0],), ([0, 0],), ([0, 0],), ([0, 0],), ([0, 0],), ([0, 0],), ([0, 0],), ([0, 0],), ([0, 0],), ([0, 0],), ([0, 0],), ([0, 0],), ([0, 0],), ([0, 0],), ([0, 0],), ([0, 0],), ([0, 0],), ([0, 0],), ([0, 0],), ([0, 0],), ([0, 0],), ([0, 0],), ([0, 0],), ([0, 0],), ([0, 0],), ([0, 0],), ([0, 0],), ([0, 0],), ([0, 0],), ([0, 0],), ([0, 0],), ([0, 0],), ([0, 0],), ([0, 0],), ([0, 0],), ([0, 0],), ([0, 0],), ([0, 0],), ([0, 0],), ([0, 0],), ([0, 0],), ([0, 0],), ([0, 0],), ([0, 0],), ([0, 0],), ([0, 0],), ([0, 0],), ([0, 0],), ([0, 0],))], \n",
       "      dtype=[('AB0085-C', [('genotype', 'i1', (2,))]), ('AB0087-C', [('genotype', 'i1', (2,))]), ('AB0088-C', [('genotype', 'i1', (2,))]), ('AB0089-C', [('genotype', 'i1', (2,))]), ('AB0090-C', [('genotype', 'i1', (2,))]), ('AB0091-C', [('genotype', 'i1', (2,))]), ('AB0092-C', [('genotype', 'i1', (2,))]), ('AB0094-C', [('genotype', 'i1', (2,))]), ('AB0095-C', [('genotype', 'i1', (2,))]), ('AB0097-C', [('genotype', 'i1', (2,))]), ('AB0098-C', [('genotype', 'i1', (2,))]), ('AB0099-C', [('genotype', 'i1', (2,))]), ('AB0100-C', [('genotype', 'i1', (2,))]), ('AB0101-C', [('genotype', 'i1', (2,))]), ('AB0103-C', [('genotype', 'i1', (2,))]), ('AB0104-C', [('genotype', 'i1', (2,))]), ('AB0109-C', [('genotype', 'i1', (2,))]), ('AB0110-C', [('genotype', 'i1', (2,))]), ('AB0111-C', [('genotype', 'i1', (2,))]), ('AB0112-C', [('genotype', 'i1', (2,))]), ('AB0113-C', [('genotype', 'i1', (2,))]), ('AB0114-C', [('genotype', 'i1', (2,))]), ('AB0117-C', [('genotype', 'i1', (2,))]), ('AB0119-C', [('genotype', 'i1', (2,))]), ('AB0122-C', [('genotype', 'i1', (2,))]), ('AB0123-C', [('genotype', 'i1', (2,))]), ('AB0124-C', [('genotype', 'i1', (2,))]), ('AB0126-C', [('genotype', 'i1', (2,))]), ('AB0127-C', [('genotype', 'i1', (2,))]), ('AB0128-C', [('genotype', 'i1', (2,))]), ('AB0129-C', [('genotype', 'i1', (2,))]), ('AB0130-C', [('genotype', 'i1', (2,))]), ('AB0133-C', [('genotype', 'i1', (2,))]), ('AB0134-C', [('genotype', 'i1', (2,))]), ('AB0135-C', [('genotype', 'i1', (2,))]), ('AB0136-C', [('genotype', 'i1', (2,))]), ('AB0137-C', [('genotype', 'i1', (2,))]), ('AB0138-C', [('genotype', 'i1', (2,))]), ('AB0139-C', [('genotype', 'i1', (2,))]), ('AB0140-C', [('genotype', 'i1', (2,))]), ('AB0142-C', [('genotype', 'i1', (2,))]), ('AB0143-C', [('genotype', 'i1', (2,))]), ('AB0145-C', [('genotype', 'i1', (2,))]), ('AB0146-C', [('genotype', 'i1', (2,))]), ('AB0147-C', [('genotype', 'i1', (2,))]), ('AB0148-C', [('genotype', 'i1', (2,))]), ('AB0151-C', [('genotype', 'i1', (2,))]), ('AB0153-C', [('genotype', 'i1', (2,))]), ('AB0155-C', [('genotype', 'i1', (2,))]), ('AB0157-C', [('genotype', 'i1', (2,))]), ('AB0158-C', [('genotype', 'i1', (2,))]), ('AB0159-C', [('genotype', 'i1', (2,))]), ('AB0160-C', [('genotype', 'i1', (2,))]), ('AB0161-C', [('genotype', 'i1', (2,))]), ('AB0164-C', [('genotype', 'i1', (2,))]), ('AB0166-C', [('genotype', 'i1', (2,))]), ('AB0169-C', [('genotype', 'i1', (2,))]), ('AB0170-C', [('genotype', 'i1', (2,))]), ('AB0171-C', [('genotype', 'i1', (2,))]), ('AB0172-C', [('genotype', 'i1', (2,))]), ('AB0173-C', [('genotype', 'i1', (2,))]), ('AB0174-C', [('genotype', 'i1', (2,))]), ('AB0175-C', [('genotype', 'i1', (2,))]), ('AB0176-C', [('genotype', 'i1', (2,))]), ('AB0177-C', [('genotype', 'i1', (2,))]), ('AB0178-C', [('genotype', 'i1', (2,))]), ('AB0179-C', [('genotype', 'i1', (2,))]), ('AB0181-C', [('genotype', 'i1', (2,))]), ('AB0182-C', [('genotype', 'i1', (2,))]), ('AB0183-C', [('genotype', 'i1', (2,))]), ('AB0184-C', [('genotype', 'i1', (2,))]), ('AB0185-C', [('genotype', 'i1', (2,))]), ('AB0186-C', [('genotype', 'i1', (2,))]), ('AB0187-C', [('genotype', 'i1', (2,))]), ('AB0188-C', [('genotype', 'i1', (2,))]), ('AB0189-C', [('genotype', 'i1', (2,))]), ('AB0190-C', [('genotype', 'i1', (2,))]), ('AB0191-C', [('genotype', 'i1', (2,))]), ('AB0192-C', [('genotype', 'i1', (2,))]), ('AB0197-C', [('genotype', 'i1', (2,))]), ('AB0198-C', [('genotype', 'i1', (2,))]), ('AB0199-C', [('genotype', 'i1', (2,))]), ('AB0201-C', [('genotype', 'i1', (2,))]), ('AB0202-C', [('genotype', 'i1', (2,))]), ('AB0203-C', [('genotype', 'i1', (2,))]), ('AB0204-C', [('genotype', 'i1', (2,))]), ('AB0205-C', [('genotype', 'i1', (2,))]), ('AB0206-C', [('genotype', 'i1', (2,))]), ('AB0207-C', [('genotype', 'i1', (2,))]), ('AB0208-C', [('genotype', 'i1', (2,))]), ('AB0209-C', [('genotype', 'i1', (2,))]), ('AB0210-C', [('genotype', 'i1', (2,))]), ('AB0211-C', [('genotype', 'i1', (2,))]), ('AB0212-C', [('genotype', 'i1', (2,))]), ('AB0213-C', [('genotype', 'i1', (2,))]), ('AB0217-C', [('genotype', 'i1', (2,))]), ('AB0219-C', [('genotype', 'i1', (2,))]), ('AB0221-C', [('genotype', 'i1', (2,))]), ('AB0222-C', [('genotype', 'i1', (2,))]), ('AB0223-C', [('genotype', 'i1', (2,))]), ('AB0224-C', [('genotype', 'i1', (2,))]), ('AB0226-C', [('genotype', 'i1', (2,))]), ('AB0227-C', [('genotype', 'i1', (2,))]), ('AB0228-C', [('genotype', 'i1', (2,))]), ('AB0229-C', [('genotype', 'i1', (2,))]), ('AB0231-C', [('genotype', 'i1', (2,))]), ('AB0233-C', [('genotype', 'i1', (2,))]), ('AB0234-C', [('genotype', 'i1', (2,))]), ('AB0235-C', [('genotype', 'i1', (2,))]), ('AB0236-C', [('genotype', 'i1', (2,))]), ('AB0237-C', [('genotype', 'i1', (2,))]), ('AB0238-C', [('genotype', 'i1', (2,))]), ('AB0239-C', [('genotype', 'i1', (2,))]), ('AB0240-C', [('genotype', 'i1', (2,))]), ('AB0241-C', [('genotype', 'i1', (2,))]), ('AB0242-C', [('genotype', 'i1', (2,))]), ('AB0243-C', [('genotype', 'i1', (2,))]), ('AB0244-C', [('genotype', 'i1', (2,))]), ('AB0246-C', [('genotype', 'i1', (2,))]), ('AB0249-C', [('genotype', 'i1', (2,))]), ('AB0250-C', [('genotype', 'i1', (2,))]), ('AB0251-C', [('genotype', 'i1', (2,))]), ('AB0252-C', [('genotype', 'i1', (2,))]), ('AB0253-C', [('genotype', 'i1', (2,))]), ('AB0256-C', [('genotype', 'i1', (2,))]), ('AB0257-C', [('genotype', 'i1', (2,))]), ('AB0258-C', [('genotype', 'i1', (2,))]), ('AB0260-C', [('genotype', 'i1', (2,))]), ('AB0261-C', [('genotype', 'i1', (2,))]), ('AB0262-C', [('genotype', 'i1', (2,))]), ('AB0263-C', [('genotype', 'i1', (2,))]), ('AB0264-C', [('genotype', 'i1', (2,))]), ('AB0265-C', [('genotype', 'i1', (2,))]), ('AB0266-C', [('genotype', 'i1', (2,))]), ('AB0267-C', [('genotype', 'i1', (2,))]), ('AB0268-C', [('genotype', 'i1', (2,))]), ('AB0270-C', [('genotype', 'i1', (2,))]), ('AB0271-C', [('genotype', 'i1', (2,))]), ('AB0272-C', [('genotype', 'i1', (2,))]), ('AB0273-C', [('genotype', 'i1', (2,))]), ('AB0274-C', [('genotype', 'i1', (2,))]), ('AB0276-C', [('genotype', 'i1', (2,))]), ('AB0277-C', [('genotype', 'i1', (2,))]), ('AB0278-C', [('genotype', 'i1', (2,))]), ('AB0279-C', [('genotype', 'i1', (2,))]), ('AB0280-C', [('genotype', 'i1', (2,))]), ('AB0281-C', [('genotype', 'i1', (2,))]), ('AB0282-C', [('genotype', 'i1', (2,))]), ('AB0283-C', [('genotype', 'i1', (2,))]), ('AB0284-C', [('genotype', 'i1', (2,))]), ('AC0090-C', [('genotype', 'i1', (2,))]), ('AC0091-C', [('genotype', 'i1', (2,))]), ('AC0092-C', [('genotype', 'i1', (2,))]), ('AC0093-C', [('genotype', 'i1', (2,))]), ('AC0094-C', [('genotype', 'i1', (2,))]), ('AC0095-C', [('genotype', 'i1', (2,))]), ('AC0096-C', [('genotype', 'i1', (2,))]), ('AC0097-C', [('genotype', 'i1', (2,))]), ('AC0098-C', [('genotype', 'i1', (2,))]), ('AC0099-C', [('genotype', 'i1', (2,))]), ('AC0100-C', [('genotype', 'i1', (2,))]), ('AC0101-C', [('genotype', 'i1', (2,))]), ('AC0102-C', [('genotype', 'i1', (2,))]), ('AC0103-C', [('genotype', 'i1', (2,))]), ('AC0104-C', [('genotype', 'i1', (2,))]), ('AC0106-C', [('genotype', 'i1', (2,))]), ('AC0107-C', [('genotype', 'i1', (2,))]), ('AC0108-C', [('genotype', 'i1', (2,))]), ('AC0109-C', [('genotype', 'i1', (2,))]), ('AC0110-C', [('genotype', 'i1', (2,))]), ('AC0111-C', [('genotype', 'i1', (2,))]), ('AC0112-C', [('genotype', 'i1', (2,))]), ('AC0113-C', [('genotype', 'i1', (2,))]), ('AC0114-C', [('genotype', 'i1', (2,))]), ('AC0115-C', [('genotype', 'i1', (2,))]), ('AC0116-C', [('genotype', 'i1', (2,))]), ('AC0117-C', [('genotype', 'i1', (2,))]), ('AC0118-C', [('genotype', 'i1', (2,))]), ('AC0119-C', [('genotype', 'i1', (2,))]), ('AC0120-C', [('genotype', 'i1', (2,))]), ('AC0121-C', [('genotype', 'i1', (2,))]), ('AC0122-C', [('genotype', 'i1', (2,))]), ('AC0123-C', [('genotype', 'i1', (2,))]), ('AC0124-C', [('genotype', 'i1', (2,))]), ('AC0125-C', [('genotype', 'i1', (2,))]), ('AC0126-C', [('genotype', 'i1', (2,))]), ('AC0127-C', [('genotype', 'i1', (2,))]), ('AC0128-C', [('genotype', 'i1', (2,))]), ('AC0129-C', [('genotype', 'i1', (2,))]), ('AC0130-C', [('genotype', 'i1', (2,))]), ('AC0131-C', [('genotype', 'i1', (2,))]), ('AC0132-C', [('genotype', 'i1', (2,))]), ('AC0133-C', [('genotype', 'i1', (2,))]), ('AC0135-C', [('genotype', 'i1', (2,))]), ('AC0136-C', [('genotype', 'i1', (2,))]), ('AC0137-C', [('genotype', 'i1', (2,))]), ('AC0138-C', [('genotype', 'i1', (2,))]), ('AC0139-C', [('genotype', 'i1', (2,))]), ('AC0140-C', [('genotype', 'i1', (2,))]), ('AC0142-C', [('genotype', 'i1', (2,))]), ('AC0143-C', [('genotype', 'i1', (2,))]), ('AC0144-C', [('genotype', 'i1', (2,))]), ('AC0145-C', [('genotype', 'i1', (2,))]), ('AC0147-C', [('genotype', 'i1', (2,))]), ('AC0148-C', [('genotype', 'i1', (2,))]), ('AC0149-C', [('genotype', 'i1', (2,))]), ('AC0150-C', [('genotype', 'i1', (2,))]), ('AC0151-C', [('genotype', 'i1', (2,))]), ('AC0152-C', [('genotype', 'i1', (2,))]), ('AC0153-C', [('genotype', 'i1', (2,))]), ('AC0154-C', [('genotype', 'i1', (2,))]), ('AC0156-C', [('genotype', 'i1', (2,))]), ('AC0158-C', [('genotype', 'i1', (2,))]), ('AC0159-C', [('genotype', 'i1', (2,))]), ('AC0160-C', [('genotype', 'i1', (2,))]), ('AC0161-C', [('genotype', 'i1', (2,))]), ('AC0162-C', [('genotype', 'i1', (2,))]), ('AC0163-C', [('genotype', 'i1', (2,))]), ('AC0164-C', [('genotype', 'i1', (2,))]), ('AC0166-C', [('genotype', 'i1', (2,))]), ('AC0167-C', [('genotype', 'i1', (2,))]), ('AC0168-C', [('genotype', 'i1', (2,))]), ('AC0169-C', [('genotype', 'i1', (2,))]), ('AC0170-C', [('genotype', 'i1', (2,))]), ('AC0171-C', [('genotype', 'i1', (2,))]), ('AC0172-C', [('genotype', 'i1', (2,))]), ('AC0173-C', [('genotype', 'i1', (2,))]), ('AC0174-C', [('genotype', 'i1', (2,))]), ('AC0176-C', [('genotype', 'i1', (2,))]), ('AC0178-C', [('genotype', 'i1', (2,))]), ('AC0179-C', [('genotype', 'i1', (2,))]), ('AC0180-C', [('genotype', 'i1', (2,))]), ('AC0181-C', [('genotype', 'i1', (2,))]), ('AC0182-C', [('genotype', 'i1', (2,))]), ('AC0183-C', [('genotype', 'i1', (2,))]), ('AC0184-C', [('genotype', 'i1', (2,))]), ('AC0186-C', [('genotype', 'i1', (2,))]), ('AC0187-C', [('genotype', 'i1', (2,))]), ('AC0188-C', [('genotype', 'i1', (2,))]), ('AC0189-C', [('genotype', 'i1', (2,))]), ('AC0190-C', [('genotype', 'i1', (2,))]), ('AC0191-C', [('genotype', 'i1', (2,))]), ('AC0192-C', [('genotype', 'i1', (2,))]), ('AC0193-C', [('genotype', 'i1', (2,))]), ('AC0194-C', [('genotype', 'i1', (2,))]), ('AC0195-C', [('genotype', 'i1', (2,))]), ('AC0196-C', [('genotype', 'i1', (2,))]), ('AC0197-C', [('genotype', 'i1', (2,))]), ('AC0199-C', [('genotype', 'i1', (2,))]), ('AC0200-C', [('genotype', 'i1', (2,))]), ('AC0201-C', [('genotype', 'i1', (2,))]), ('AC0202-C', [('genotype', 'i1', (2,))]), ('AC0203-C', [('genotype', 'i1', (2,))]), ('AJ0023-C', [('genotype', 'i1', (2,))]), ('AJ0024-C', [('genotype', 'i1', (2,))]), ('AJ0032-C', [('genotype', 'i1', (2,))]), ('AJ0035-C', [('genotype', 'i1', (2,))]), ('AJ0036-C', [('genotype', 'i1', (2,))]), ('AJ0039-C', [('genotype', 'i1', (2,))]), ('AJ0043-C', [('genotype', 'i1', (2,))]), ('AJ0044-C', [('genotype', 'i1', (2,))]), ('AJ0045-C', [('genotype', 'i1', (2,))]), ('AJ0047-C', [('genotype', 'i1', (2,))]), ('AJ0051-C', [('genotype', 'i1', (2,))]), ('AJ0052-C', [('genotype', 'i1', (2,))]), ('AJ0056-C', [('genotype', 'i1', (2,))]), ('AJ0061-C', [('genotype', 'i1', (2,))]), ('AJ0063-C', [('genotype', 'i1', (2,))]), ('AJ0064-C', [('genotype', 'i1', (2,))]), ('AJ0066-C', [('genotype', 'i1', (2,))]), ('AJ0070-C', [('genotype', 'i1', (2,))]), ('AJ0071-C', [('genotype', 'i1', (2,))]), ('AJ0072-C', [('genotype', 'i1', (2,))]), ('AJ0074-C', [('genotype', 'i1', (2,))]), ('AJ0075-C', [('genotype', 'i1', (2,))]), ('AJ0076-C', [('genotype', 'i1', (2,))]), ('AJ0077-C', [('genotype', 'i1', (2,))]), ('AJ0078-C', [('genotype', 'i1', (2,))]), ('AJ0081-C', [('genotype', 'i1', (2,))]), ('AJ0084-C', [('genotype', 'i1', (2,))]), ('AJ0085-C', [('genotype', 'i1', (2,))]), ('AJ0086-C', [('genotype', 'i1', (2,))]), ('AJ0088-C', [('genotype', 'i1', (2,))]), ('AJ0090-C', [('genotype', 'i1', (2,))]), ('AJ0092-C', [('genotype', 'i1', (2,))]), ('AJ0093-C', [('genotype', 'i1', (2,))]), ('AJ0096-C', [('genotype', 'i1', (2,))]), ('AJ0097-C', [('genotype', 'i1', (2,))]), ('AJ0098-C', [('genotype', 'i1', (2,))]), ('AJ0100-C', [('genotype', 'i1', (2,))]), ('AJ0101-C', [('genotype', 'i1', (2,))]), ('AJ0102-C', [('genotype', 'i1', (2,))]), ('AJ0103-C', [('genotype', 'i1', (2,))]), ('AJ0105-C', [('genotype', 'i1', (2,))]), ('AJ0107-C', [('genotype', 'i1', (2,))]), ('AJ0109-C', [('genotype', 'i1', (2,))]), ('AJ0113-C', [('genotype', 'i1', (2,))]), ('AJ0115-C', [('genotype', 'i1', (2,))]), ('AJ0116-C', [('genotype', 'i1', (2,))]), ('AK0065-C', [('genotype', 'i1', (2,))]), ('AK0066-C', [('genotype', 'i1', (2,))]), ('AK0067-C', [('genotype', 'i1', (2,))]), ('AK0068-C', [('genotype', 'i1', (2,))]), ('AK0069-C', [('genotype', 'i1', (2,))]), ('AK0070-C', [('genotype', 'i1', (2,))]), ('AK0072-C', [('genotype', 'i1', (2,))]), ('AK0073-C', [('genotype', 'i1', (2,))]), ('AK0074-C', [('genotype', 'i1', (2,))]), ('AK0075-C', [('genotype', 'i1', (2,))]), ('AK0076-C', [('genotype', 'i1', (2,))]), ('AK0077-C', [('genotype', 'i1', (2,))]), ('AK0078-C', [('genotype', 'i1', (2,))]), ('AK0079-C', [('genotype', 'i1', (2,))]), ('AK0080-C', [('genotype', 'i1', (2,))]), ('AK0081-C', [('genotype', 'i1', (2,))]), ('AK0082-C', [('genotype', 'i1', (2,))]), ('AK0085-C', [('genotype', 'i1', (2,))]), ('AK0086-C', [('genotype', 'i1', (2,))]), ('AK0087-C', [('genotype', 'i1', (2,))]), ('AK0088-C', [('genotype', 'i1', (2,))]), ('AK0089-C', [('genotype', 'i1', (2,))]), ('AK0090-C', [('genotype', 'i1', (2,))]), ('AK0091-C', [('genotype', 'i1', (2,))]), ('AK0092-C', [('genotype', 'i1', (2,))]), ('AK0093-C', [('genotype', 'i1', (2,))]), ('AK0094-C', [('genotype', 'i1', (2,))]), ('AK0095-C', [('genotype', 'i1', (2,))]), ('AK0096-C', [('genotype', 'i1', (2,))]), ('AK0098-C', [('genotype', 'i1', (2,))]), ('AK0099-C', [('genotype', 'i1', (2,))]), ('AK0100-C', [('genotype', 'i1', (2,))]), ('AK0101-C', [('genotype', 'i1', (2,))]), ('AK0102-C', [('genotype', 'i1', (2,))]), ('AK0103-C', [('genotype', 'i1', (2,))]), ('AK0104-C', [('genotype', 'i1', (2,))]), ('AK0105-C', [('genotype', 'i1', (2,))]), ('AK0106-C', [('genotype', 'i1', (2,))]), ('AK0108-C', [('genotype', 'i1', (2,))]), ('AK0109-C', [('genotype', 'i1', (2,))]), ('AK0110-C', [('genotype', 'i1', (2,))]), ('AK0116-C', [('genotype', 'i1', (2,))]), ('AK0119-C', [('genotype', 'i1', (2,))]), ('AK0127-C', [('genotype', 'i1', (2,))]), ('AN0007-C', [('genotype', 'i1', (2,))]), ('AN0008-C', [('genotype', 'i1', (2,))]), ('AN0009-C', [('genotype', 'i1', (2,))]), ('AN0010-C', [('genotype', 'i1', (2,))]), ('AN0011-C', [('genotype', 'i1', (2,))]), ('AN0012-C', [('genotype', 'i1', (2,))]), ('AN0014-C', [('genotype', 'i1', (2,))]), ('AN0016-C', [('genotype', 'i1', (2,))]), ('AN0017-C', [('genotype', 'i1', (2,))]), ('AN0018-C', [('genotype', 'i1', (2,))]), ('AN0019-C', [('genotype', 'i1', (2,))]), ('AN0020-C', [('genotype', 'i1', (2,))]), ('AN0022-C', [('genotype', 'i1', (2,))]), ('AN0023-C', [('genotype', 'i1', (2,))]), ('AN0024-C', [('genotype', 'i1', (2,))]), ('AN0025-C', [('genotype', 'i1', (2,))]), ('AN0026-C', [('genotype', 'i1', (2,))]), ('AN0027-C', [('genotype', 'i1', (2,))]), ('AN0028-C', [('genotype', 'i1', (2,))]), ('AN0029-C', [('genotype', 'i1', (2,))]), ('AN0030-C', [('genotype', 'i1', (2,))]), ('AN0031-C', [('genotype', 'i1', (2,))]), ('AN0032-C', [('genotype', 'i1', (2,))]), ('AN0033-C', [('genotype', 'i1', (2,))]), ('AN0034-C', [('genotype', 'i1', (2,))]), ('AN0035-C', [('genotype', 'i1', (2,))]), ('AN0036-C', [('genotype', 'i1', (2,))]), ('AN0037-C', [('genotype', 'i1', (2,))]), ('AN0038-C', [('genotype', 'i1', (2,))]), ('AN0039-C', [('genotype', 'i1', (2,))]), ('AN0040-C', [('genotype', 'i1', (2,))]), ('AN0041-C', [('genotype', 'i1', (2,))]), ('AN0042-C', [('genotype', 'i1', (2,))]), ('AN0043-C', [('genotype', 'i1', (2,))]), ('AN0045-C', [('genotype', 'i1', (2,))]), ('AN0046-C', [('genotype', 'i1', (2,))]), ('AN0047-C', [('genotype', 'i1', (2,))]), ('AN0048-C', [('genotype', 'i1', (2,))]), ('AN0049-C', [('genotype', 'i1', (2,))]), ('AN0050-C', [('genotype', 'i1', (2,))]), ('AN0051-C', [('genotype', 'i1', (2,))]), ('AN0053-C', [('genotype', 'i1', (2,))]), ('AN0054-C', [('genotype', 'i1', (2,))]), ('AN0055-C', [('genotype', 'i1', (2,))]), ('AN0056-C', [('genotype', 'i1', (2,))]), ('AN0057-C', [('genotype', 'i1', (2,))]), ('AN0058-C', [('genotype', 'i1', (2,))]), ('AN0059-C', [('genotype', 'i1', (2,))]), ('AN0060-C', [('genotype', 'i1', (2,))]), ('AN0063-C', [('genotype', 'i1', (2,))]), ('AN0064-C', [('genotype', 'i1', (2,))]), ('AN0065-C', [('genotype', 'i1', (2,))]), ('AN0066-C', [('genotype', 'i1', (2,))]), ('AN0067-C', [('genotype', 'i1', (2,))]), ('AN0068-C', [('genotype', 'i1', (2,))]), ('AN0069-C', [('genotype', 'i1', (2,))]), ('AN0070-C', [('genotype', 'i1', (2,))]), ('AN0071-C', [('genotype', 'i1', (2,))]), ('AN0072-C', [('genotype', 'i1', (2,))]), ('AN0073-C', [('genotype', 'i1', (2,))]), ('AN0074-C', [('genotype', 'i1', (2,))]), ('AN0075-C', [('genotype', 'i1', (2,))]), ('AN0076-C', [('genotype', 'i1', (2,))]), ('AN0077-C', [('genotype', 'i1', (2,))]), ('AN0079-C', [('genotype', 'i1', (2,))]), ('AN0080-C', [('genotype', 'i1', (2,))]), ('AN0081-C', [('genotype', 'i1', (2,))]), ('AN0082-C', [('genotype', 'i1', (2,))]), ('AN0083-C', [('genotype', 'i1', (2,))]), ('AN0084-C', [('genotype', 'i1', (2,))]), ('AN0085-C', [('genotype', 'i1', (2,))]), ('AN0086-C', [('genotype', 'i1', (2,))]), ('AN0087-C', [('genotype', 'i1', (2,))]), ('AN0088-C', [('genotype', 'i1', (2,))]), ('AN0089-C', [('genotype', 'i1', (2,))]), ('AN0090-C', [('genotype', 'i1', (2,))]), ('AN0091-C', [('genotype', 'i1', (2,))]), ('AN0092-C', [('genotype', 'i1', (2,))]), ('AN0093-C', [('genotype', 'i1', (2,))]), ('AN0094-C', [('genotype', 'i1', (2,))]), ('AN0095-C', [('genotype', 'i1', (2,))]), ('AN0096-C', [('genotype', 'i1', (2,))]), ('AN0097-C', [('genotype', 'i1', (2,))]), ('AN0098-C', [('genotype', 'i1', (2,))]), ('AN0099-C', [('genotype', 'i1', (2,))]), ('AN0100-C', [('genotype', 'i1', (2,))]), ('AN0101-C', [('genotype', 'i1', (2,))]), ('AN0102-C', [('genotype', 'i1', (2,))]), ('AN0103-C', [('genotype', 'i1', (2,))]), ('AN0104-C', [('genotype', 'i1', (2,))]), ('AN0105-C', [('genotype', 'i1', (2,))]), ('AN0106-C', [('genotype', 'i1', (2,))]), ('AN0107-C', [('genotype', 'i1', (2,))]), ('AN0108-C', [('genotype', 'i1', (2,))]), ('AN0109-C', [('genotype', 'i1', (2,))]), ('AN0111-C', [('genotype', 'i1', (2,))]), ('AN0112-C', [('genotype', 'i1', (2,))]), ('AN0113-C', [('genotype', 'i1', (2,))]), ('AN0114-C', [('genotype', 'i1', (2,))]), ('AN0115-C', [('genotype', 'i1', (2,))]), ('AN0117-C', [('genotype', 'i1', (2,))]), ('AN0120-C', [('genotype', 'i1', (2,))]), ('AN0121-C', [('genotype', 'i1', (2,))]), ('AN0122-C', [('genotype', 'i1', (2,))]), ('AN0123-C', [('genotype', 'i1', (2,))]), ('AN0124-C', [('genotype', 'i1', (2,))]), ('AN0125-C', [('genotype', 'i1', (2,))]), ('AN0126-C', [('genotype', 'i1', (2,))]), ('AN0127-C', [('genotype', 'i1', (2,))]), ('AN0128-C', [('genotype', 'i1', (2,))]), ('AN0129-C', [('genotype', 'i1', (2,))]), ('AN0130-C', [('genotype', 'i1', (2,))]), ('AN0131-C', [('genotype', 'i1', (2,))]), ('AN0132-C', [('genotype', 'i1', (2,))]), ('AN0134-C', [('genotype', 'i1', (2,))]), ('AN0135-C', [('genotype', 'i1', (2,))]), ('AN0136-C', [('genotype', 'i1', (2,))]), ('AN0137-C', [('genotype', 'i1', (2,))]), ('AN0138-C', [('genotype', 'i1', (2,))]), ('AN0139-C', [('genotype', 'i1', (2,))]), ('AN0140-C', [('genotype', 'i1', (2,))]), ('AN0141-C', [('genotype', 'i1', (2,))]), ('AN0143-C', [('genotype', 'i1', (2,))]), ('AN0147-C', [('genotype', 'i1', (2,))]), ('AN0149-C', [('genotype', 'i1', (2,))]), ('AN0151-C', [('genotype', 'i1', (2,))]), ('AN0152-C', [('genotype', 'i1', (2,))]), ('AN0153-C', [('genotype', 'i1', (2,))]), ('AN0154-C', [('genotype', 'i1', (2,))]), ('AN0155-C', [('genotype', 'i1', (2,))]), ('AN0156-C', [('genotype', 'i1', (2,))]), ('AN0157-C', [('genotype', 'i1', (2,))]), ('AN0158-C', [('genotype', 'i1', (2,))]), ('AN0159-C', [('genotype', 'i1', (2,))]), ('AN0160-C', [('genotype', 'i1', (2,))]), ('AN0162-C', [('genotype', 'i1', (2,))]), ('AN0163-C', [('genotype', 'i1', (2,))]), ('AN0164-C', [('genotype', 'i1', (2,))]), ('AN0165-C', [('genotype', 'i1', (2,))]), ('AN0166-C', [('genotype', 'i1', (2,))]), ('AN0167-C', [('genotype', 'i1', (2,))]), ('AN0168-C', [('genotype', 'i1', (2,))]), ('AN0169-C', [('genotype', 'i1', (2,))]), ('AN0170-C', [('genotype', 'i1', (2,))]), ('AN0171-C', [('genotype', 'i1', (2,))]), ('AN0172-C', [('genotype', 'i1', (2,))]), ('AN0173-C', [('genotype', 'i1', (2,))]), ('AN0174-C', [('genotype', 'i1', (2,))]), ('AN0175-C', [('genotype', 'i1', (2,))]), ('AN0176-C', [('genotype', 'i1', (2,))]), ('AN0177-C', [('genotype', 'i1', (2,))]), ('AN0178-C', [('genotype', 'i1', (2,))]), ('AN0179-C', [('genotype', 'i1', (2,))]), ('AN0180-C', [('genotype', 'i1', (2,))]), ('AN0181-C', [('genotype', 'i1', (2,))]), ('AN0182-C', [('genotype', 'i1', (2,))]), ('AN0183-C', [('genotype', 'i1', (2,))]), ('AN0184-C', [('genotype', 'i1', (2,))]), ('AN0185-C', [('genotype', 'i1', (2,))]), ('AN0186-C', [('genotype', 'i1', (2,))]), ('AN0187-C', [('genotype', 'i1', (2,))]), ('AN0188-C', [('genotype', 'i1', (2,))]), ('AN0189-C', [('genotype', 'i1', (2,))]), ('AN0190-C', [('genotype', 'i1', (2,))]), ('AN0191-C', [('genotype', 'i1', (2,))]), ('AN0192-C', [('genotype', 'i1', (2,))]), ('AN0193-C', [('genotype', 'i1', (2,))]), ('AN0194-C', [('genotype', 'i1', (2,))]), ('AN0196-C', [('genotype', 'i1', (2,))]), ('AN0197-C', [('genotype', 'i1', (2,))]), ('AN0198-C', [('genotype', 'i1', (2,))]), ('AN0199-C', [('genotype', 'i1', (2,))]), ('AN0200-C', [('genotype', 'i1', (2,))]), ('AN0201-C', [('genotype', 'i1', (2,))]), ('AN0202-C', [('genotype', 'i1', (2,))]), ('AN0203-C', [('genotype', 'i1', (2,))]), ('AN0204-C', [('genotype', 'i1', (2,))]), ('AN0205-C', [('genotype', 'i1', (2,))]), ('AN0206-C', [('genotype', 'i1', (2,))]), ('AN0207-C', [('genotype', 'i1', (2,))]), ('AN0208-C', [('genotype', 'i1', (2,))]), ('AN0209-C', [('genotype', 'i1', (2,))]), ('AN0210-C', [('genotype', 'i1', (2,))]), ('AN0212-C', [('genotype', 'i1', (2,))]), ('AN0213-C', [('genotype', 'i1', (2,))]), ('AN0214-C', [('genotype', 'i1', (2,))]), ('AN0215-C', [('genotype', 'i1', (2,))]), ('AN0217-C', [('genotype', 'i1', (2,))]), ('AN0218-C', [('genotype', 'i1', (2,))]), ('AN0219-C', [('genotype', 'i1', (2,))]), ('AN0220-C', [('genotype', 'i1', (2,))]), ('AN0221-C', [('genotype', 'i1', (2,))]), ('AN0222-C', [('genotype', 'i1', (2,))]), ('AN0223-C', [('genotype', 'i1', (2,))]), ('AN0224-C', [('genotype', 'i1', (2,))]), ('AN0225-C', [('genotype', 'i1', (2,))]), ('AN0226-C', [('genotype', 'i1', (2,))]), ('AN0227-C', [('genotype', 'i1', (2,))]), ('AN0228-C', [('genotype', 'i1', (2,))]), ('AN0229-C', [('genotype', 'i1', (2,))]), ('AN0230-C', [('genotype', 'i1', (2,))]), ('AN0231-C', [('genotype', 'i1', (2,))]), ('AN0233-C', [('genotype', 'i1', (2,))]), ('AN0234-C', [('genotype', 'i1', (2,))]), ('AN0235-C', [('genotype', 'i1', (2,))]), ('AN0236-C', [('genotype', 'i1', (2,))]), ('AN0237-C', [('genotype', 'i1', (2,))]), ('AN0238-C', [('genotype', 'i1', (2,))]), ('AN0239-C', [('genotype', 'i1', (2,))]), ('AN0240-C', [('genotype', 'i1', (2,))]), ('AN0241-C', [('genotype', 'i1', (2,))]), ('AN0242-C', [('genotype', 'i1', (2,))]), ('AN0243-C', [('genotype', 'i1', (2,))]), ('AN0244-C', [('genotype', 'i1', (2,))]), ('AN0245-C', [('genotype', 'i1', (2,))]), ('AN0246-C', [('genotype', 'i1', (2,))]), ('AN0247-C', [('genotype', 'i1', (2,))]), ('AN0248-C', [('genotype', 'i1', (2,))]), ('AN0250-C', [('genotype', 'i1', (2,))]), ('AN0251-C', [('genotype', 'i1', (2,))]), ('AN0252-C', [('genotype', 'i1', (2,))]), ('AN0253-C', [('genotype', 'i1', (2,))]), ('AN0254-C', [('genotype', 'i1', (2,))]), ('AN0255-C', [('genotype', 'i1', (2,))]), ('AN0256-C', [('genotype', 'i1', (2,))]), ('AN0258-C', [('genotype', 'i1', (2,))]), ('AN0259-C', [('genotype', 'i1', (2,))]), ('AN0260-C', [('genotype', 'i1', (2,))]), ('AN0261-C', [('genotype', 'i1', (2,))]), ('AN0262-C', [('genotype', 'i1', (2,))]), ('AN0263-C', [('genotype', 'i1', (2,))]), ('AN0264-C', [('genotype', 'i1', (2,))]), ('AN0266-C', [('genotype', 'i1', (2,))]), ('AN0267-C', [('genotype', 'i1', (2,))]), ('AN0268-C', [('genotype', 'i1', (2,))]), ('AN0269-C', [('genotype', 'i1', (2,))]), ('AN0270-C', [('genotype', 'i1', (2,))]), ('AN0272-C', [('genotype', 'i1', (2,))]), ('AN0275-C', [('genotype', 'i1', (2,))]), ('AN0276-C', [('genotype', 'i1', (2,))]), ('AN0277-C', [('genotype', 'i1', (2,))]), ('AN0280-C', [('genotype', 'i1', (2,))]), ('AN0282-C', [('genotype', 'i1', (2,))]), ('AN0283-C', [('genotype', 'i1', (2,))]), ('AN0284-C', [('genotype', 'i1', (2,))]), ('AN0285-C', [('genotype', 'i1', (2,))]), ('AN0286-C', [('genotype', 'i1', (2,))]), ('AN0287-C', [('genotype', 'i1', (2,))]), ('AN0288-C', [('genotype', 'i1', (2,))]), ('AN0290-C', [('genotype', 'i1', (2,))]), ('AN0291-C', [('genotype', 'i1', (2,))]), ('AN0292-C', [('genotype', 'i1', (2,))]), ('AN0294-C', [('genotype', 'i1', (2,))]), ('AN0295-C', [('genotype', 'i1', (2,))]), ('AN0296-C', [('genotype', 'i1', (2,))]), ('AN0297-C', [('genotype', 'i1', (2,))]), ('AN0298-C', [('genotype', 'i1', (2,))]), ('AN0299-C', [('genotype', 'i1', (2,))]), ('AN0300-C', [('genotype', 'i1', (2,))]), ('AN0301-C', [('genotype', 'i1', (2,))]), ('AN0303-C', [('genotype', 'i1', (2,))]), ('AN0304-C', [('genotype', 'i1', (2,))]), ('AN0305-C', [('genotype', 'i1', (2,))]), ('AN0307-C', [('genotype', 'i1', (2,))]), ('AN0308-C', [('genotype', 'i1', (2,))]), ('AN0309-C', [('genotype', 'i1', (2,))]), ('AN0310-C', [('genotype', 'i1', (2,))]), ('AN0312-C', [('genotype', 'i1', (2,))]), ('AN0313-C', [('genotype', 'i1', (2,))]), ('AN0314-C', [('genotype', 'i1', (2,))]), ('AN0315-C', [('genotype', 'i1', (2,))]), ('AN0317-C', [('genotype', 'i1', (2,))]), ('AN0318-C', [('genotype', 'i1', (2,))]), ('AN0319-C', [('genotype', 'i1', (2,))]), ('AN0321-C', [('genotype', 'i1', (2,))]), ('AR0007-C', [('genotype', 'i1', (2,))]), ('AR0008-C', [('genotype', 'i1', (2,))]), ('AR0009-C', [('genotype', 'i1', (2,))]), ('AR0010-C', [('genotype', 'i1', (2,))]), ('AR0011-C', [('genotype', 'i1', (2,))]), ('AR0012-C', [('genotype', 'i1', (2,))]), ('AR0014-C', [('genotype', 'i1', (2,))]), ('AR0015-C', [('genotype', 'i1', (2,))]), ('AR0017-C', [('genotype', 'i1', (2,))]), ('AR0019-C', [('genotype', 'i1', (2,))]), ('AR0020-C', [('genotype', 'i1', (2,))]), ('AR0021-C', [('genotype', 'i1', (2,))]), ('AR0022-C', [('genotype', 'i1', (2,))]), ('AR0023-C', [('genotype', 'i1', (2,))]), ('AR0024-C', [('genotype', 'i1', (2,))]), ('AR0026-C', [('genotype', 'i1', (2,))]), ('AR0027-C', [('genotype', 'i1', (2,))]), ('AR0034-C', [('genotype', 'i1', (2,))]), ('AR0035-C', [('genotype', 'i1', (2,))]), ('AR0042-C', [('genotype', 'i1', (2,))]), ('AR0043-C', [('genotype', 'i1', (2,))]), ('AR0045-C', [('genotype', 'i1', (2,))]), ('AR0047-C', [('genotype', 'i1', (2,))]), ('AR0049-C', [('genotype', 'i1', (2,))]), ('AR0050-C', [('genotype', 'i1', (2,))]), ('AR0051-C', [('genotype', 'i1', (2,))]), ('AR0053-C', [('genotype', 'i1', (2,))]), ('AR0054-C', [('genotype', 'i1', (2,))]), ('AR0057-C', [('genotype', 'i1', (2,))]), ('AR0059-C', [('genotype', 'i1', (2,))]), ('AR0061-C', [('genotype', 'i1', (2,))]), ('AR0062-C', [('genotype', 'i1', (2,))]), ('AR0063-C', [('genotype', 'i1', (2,))]), ('AR0065-C', [('genotype', 'i1', (2,))]), ('AR0066-C', [('genotype', 'i1', (2,))]), ('AR0069-C', [('genotype', 'i1', (2,))]), ('AR0070-C', [('genotype', 'i1', (2,))]), ('AR0071-C', [('genotype', 'i1', (2,))]), ('AR0072-C', [('genotype', 'i1', (2,))]), ('AR0073-C', [('genotype', 'i1', (2,))]), ('AR0074-C', [('genotype', 'i1', (2,))]), ('AR0075-C', [('genotype', 'i1', (2,))]), ('AR0076-C', [('genotype', 'i1', (2,))]), ('AR0078-C', [('genotype', 'i1', (2,))]), ('AR0079-C', [('genotype', 'i1', (2,))]), ('AR0080-C', [('genotype', 'i1', (2,))]), ('AR0081-C', [('genotype', 'i1', (2,))]), ('AR0083-C', [('genotype', 'i1', (2,))]), ('AR0084-C', [('genotype', 'i1', (2,))]), ('AR0086-C', [('genotype', 'i1', (2,))]), ('AR0087-C', [('genotype', 'i1', (2,))]), ('AR0089-C', [('genotype', 'i1', (2,))]), ('AR0090-C', [('genotype', 'i1', (2,))]), ('AR0092-C', [('genotype', 'i1', (2,))]), ('AR0093-C', [('genotype', 'i1', (2,))]), ('AR0095-C', [('genotype', 'i1', (2,))]), ('AR0096-C', [('genotype', 'i1', (2,))]), ('AR0098-C', [('genotype', 'i1', (2,))]), ('AR0099-C', [('genotype', 'i1', (2,))]), ('AR0100-C', [('genotype', 'i1', (2,))]), ('AS0001-C', [('genotype', 'i1', (2,))]), ('AS0002-C', [('genotype', 'i1', (2,))]), ('AS0003-C', [('genotype', 'i1', (2,))]), ('AS0004-C', [('genotype', 'i1', (2,))]), ('AS0006-C', [('genotype', 'i1', (2,))]), ('AS0007-C', [('genotype', 'i1', (2,))]), ('AS0008-C', [('genotype', 'i1', (2,))]), ('AS0009-C', [('genotype', 'i1', (2,))]), ('AS0010-C', [('genotype', 'i1', (2,))]), ('AS0011-C', [('genotype', 'i1', (2,))]), ('AS0012-C', [('genotype', 'i1', (2,))]), ('AS0013-C', [('genotype', 'i1', (2,))]), ('AS0014-C', [('genotype', 'i1', (2,))]), ('AS0015-C', [('genotype', 'i1', (2,))]), ('AS0016-C', [('genotype', 'i1', (2,))]), ('AS0017-C', [('genotype', 'i1', (2,))]), ('AS0018-C', [('genotype', 'i1', (2,))]), ('AS0019-C', [('genotype', 'i1', (2,))]), ('AS0020-C', [('genotype', 'i1', (2,))]), ('AS0021-C', [('genotype', 'i1', (2,))]), ('AS0022-C', [('genotype', 'i1', (2,))]), ('AS0024-C', [('genotype', 'i1', (2,))]), ('AS0026-C', [('genotype', 'i1', (2,))]), ('AS0028-C', [('genotype', 'i1', (2,))]), ('AS0030-C', [('genotype', 'i1', (2,))]), ('AS0032-C', [('genotype', 'i1', (2,))]), ('AS0033-C', [('genotype', 'i1', (2,))]), ('AS0034-C', [('genotype', 'i1', (2,))]), ('AS0035-C', [('genotype', 'i1', (2,))]), ('AS0036-C', [('genotype', 'i1', (2,))]), ('AS0037-C', [('genotype', 'i1', (2,))]), ('AS0039-C', [('genotype', 'i1', (2,))]), ('AS0042-C', [('genotype', 'i1', (2,))]), ('AS0044-C', [('genotype', 'i1', (2,))]), ('AS0045-C', [('genotype', 'i1', (2,))]), ('AS0047-C', [('genotype', 'i1', (2,))]), ('AS0049-C', [('genotype', 'i1', (2,))]), ('AS0052-C', [('genotype', 'i1', (2,))]), ('AS0053-C', [('genotype', 'i1', (2,))]), ('AS0054-C', [('genotype', 'i1', (2,))]), ('AS0055-C', [('genotype', 'i1', (2,))]), ('AS0056-C', [('genotype', 'i1', (2,))]), ('AS0058-C', [('genotype', 'i1', (2,))]), ('AS0059-C', [('genotype', 'i1', (2,))]), ('AS0064-C', [('genotype', 'i1', (2,))]), ('AS0065-C', [('genotype', 'i1', (2,))]), ('AS0066-C', [('genotype', 'i1', (2,))]), ('AS0068-C', [('genotype', 'i1', (2,))]), ('AS0069-C', [('genotype', 'i1', (2,))]), ('AS0070-C', [('genotype', 'i1', (2,))]), ('AS0071-C', [('genotype', 'i1', (2,))]), ('AS0072-C', [('genotype', 'i1', (2,))]), ('AS0073-C', [('genotype', 'i1', (2,))]), ('AS0074-C', [('genotype', 'i1', (2,))]), ('AS0076-C', [('genotype', 'i1', (2,))]), ('AS0077-C', [('genotype', 'i1', (2,))]), ('AV0001-C', [('genotype', 'i1', (2,))]), ('AV0002-C', [('genotype', 'i1', (2,))]), ('AV0003-C', [('genotype', 'i1', (2,))]), ('AV0004-C', [('genotype', 'i1', (2,))]), ('AV0005-C', [('genotype', 'i1', (2,))]), ('AV0007-C', [('genotype', 'i1', (2,))]), ('AV0008-C', [('genotype', 'i1', (2,))]), ('AV0009-C', [('genotype', 'i1', (2,))]), ('AV0010-C', [('genotype', 'i1', (2,))]), ('AV0011-C', [('genotype', 'i1', (2,))]), ('AV0012-C', [('genotype', 'i1', (2,))]), ('AV0013-C', [('genotype', 'i1', (2,))]), ('AV0014-C', [('genotype', 'i1', (2,))]), ('AV0015-C', [('genotype', 'i1', (2,))]), ('AV0018-C', [('genotype', 'i1', (2,))]), ('AV0024-C', [('genotype', 'i1', (2,))]), ('AV0026-C', [('genotype', 'i1', (2,))]), ('AV0027-C', [('genotype', 'i1', (2,))]), ('AV0029-C', [('genotype', 'i1', (2,))]), ('AV0030-C', [('genotype', 'i1', (2,))]), ('AV0031-C', [('genotype', 'i1', (2,))]), ('AV0032-C', [('genotype', 'i1', (2,))]), ('AV0033-C', [('genotype', 'i1', (2,))]), ('AV0034-C', [('genotype', 'i1', (2,))]), ('AV0035-C', [('genotype', 'i1', (2,))]), ('AV0036-C', [('genotype', 'i1', (2,))]), ('AV0039-C', [('genotype', 'i1', (2,))]), ('AV0041-C', [('genotype', 'i1', (2,))]), ('AV0044-C', [('genotype', 'i1', (2,))]), ('AV0045-C', [('genotype', 'i1', (2,))]), ('AV0047-C', [('genotype', 'i1', (2,))]), ('AD0231-C', [('genotype', 'i1', (2,))]), ('AD0232-C', [('genotype', 'i1', (2,))]), ('AD0254-C', [('genotype', 'i1', (2,))]), ('AD0255-C', [('genotype', 'i1', (2,))]), ('AD0305-C', [('genotype', 'i1', (2,))]), ('AD0306-C', [('genotype', 'i1', (2,))]), ('AD0347-C', [('genotype', 'i1', (2,))]), ('AD0348-C', [('genotype', 'i1', (2,))])])"
      ]
     },
     "execution_count": 28,
     "metadata": {},
     "output_type": "execute_result"
    }
   ],
   "source": [
    "%time vcfnp.calldata(prof_vcf_fn, fields=('genotype',))"
   ]
  },
  {
   "cell_type": "code",
   "execution_count": 29,
   "metadata": {
    "collapsed": false
   },
   "outputs": [
    {
     "data": {
      "text/plain": [
       "47.77777777777778"
      ]
     },
     "execution_count": 29,
     "metadata": {},
     "output_type": "execute_result"
    }
   ],
   "source": [
    "4.3 / 0.09"
   ]
  },
  {
   "cell_type": "markdown",
   "metadata": {},
   "source": [
    "## Legacy"
   ]
  },
  {
   "cell_type": "code",
   "execution_count": null,
   "metadata": {
    "collapsed": true
   },
   "outputs": [],
   "source": [
    "vcf_block_read(vcf_fn, buffer_size=2**15, block_size=2**25)"
   ]
  },
  {
   "cell_type": "code",
   "execution_count": 3,
   "metadata": {
    "collapsed": false
   },
   "outputs": [
    {
     "name": "stdout",
     "output_type": "stream",
     "text": [
      "CPU times: user 700 ms, sys: 0 ns, total: 700 ms\n",
      "Wall time: 697 ms\n"
     ]
    },
    {
     "data": {
      "text/plain": [
       "6140661"
      ]
     },
     "execution_count": 3,
     "metadata": {},
     "output_type": "execute_result"
    }
   ],
   "source": [
    "%time spike_read_len(vcf_fn, buffer_size=10)"
   ]
  },
  {
   "cell_type": "code",
   "execution_count": 4,
   "metadata": {
    "collapsed": false
   },
   "outputs": [
    {
     "name": "stdout",
     "output_type": "stream",
     "text": [
      "10 loops, best of 3: 105 ms per loop\n"
     ]
    }
   ],
   "source": [
    "%timeit spike_read_len(vcf_fn, buffer_size=100)"
   ]
  },
  {
   "cell_type": "code",
   "execution_count": 5,
   "metadata": {
    "collapsed": false
   },
   "outputs": [
    {
     "name": "stdout",
     "output_type": "stream",
     "text": [
      "10 loops, best of 3: 50 ms per loop\n"
     ]
    }
   ],
   "source": [
    "%timeit spike_read_len(vcf_fn, buffer_size=1000)"
   ]
  },
  {
   "cell_type": "code",
   "execution_count": 6,
   "metadata": {
    "collapsed": false
   },
   "outputs": [
    {
     "name": "stdout",
     "output_type": "stream",
     "text": [
      "10 loops, best of 3: 39 ms per loop\n"
     ]
    }
   ],
   "source": [
    "%timeit spike_read_len(vcf_fn, buffer_size=2**15)"
   ]
  },
  {
   "cell_type": "code",
   "execution_count": 7,
   "metadata": {
    "collapsed": false
   },
   "outputs": [
    {
     "name": "stdout",
     "output_type": "stream",
     "text": [
      "10 loops, best of 3: 45.3 ms per loop\n"
     ]
    }
   ],
   "source": [
    "%timeit spike_read_len(vcf_fn, buffer_size=2**12)"
   ]
  },
  {
   "cell_type": "code",
   "execution_count": 8,
   "metadata": {
    "collapsed": true
   },
   "outputs": [],
   "source": [
    "import cProfile"
   ]
  },
  {
   "cell_type": "code",
   "execution_count": 9,
   "metadata": {
    "collapsed": false
   },
   "outputs": [
    {
     "name": "stdout",
     "output_type": "stream",
     "text": [
      "         6146762 function calls (6146566 primitive calls) in 0.941 seconds\n",
      "\n",
      "   Ordered by: internal time\n",
      "\n",
      "   ncalls  tottime  percall  cumtime  percall filename:lineno(function)\n",
      "        1    0.584    0.584    0.941    0.941 io_vcf.pyx:90(spike_read_len)\n",
      "  6140662    0.322    0.000    0.356    0.000 io_vcf.pyx:74(BufferedInputStream_next)\n",
      "      189    0.019    0.000    0.019    0.000 {method 'decompress' of 'zlib.Decompress' objects}\n",
      "      285    0.008    0.000    0.008    0.000 {built-in method zlib.crc32}\n",
      "  385/189    0.001    0.000    0.033    0.000 {method 'read' of '_io.BufferedReader' objects}\n",
      "      190    0.001    0.000    0.031    0.000 gzip.py:436(read)\n",
      "      190    0.001    0.000    0.033    0.000 _compression.py:66(readinto)\n",
      "      761    0.001    0.000    0.001    0.000 gzip.py:80(read)\n",
      "      189    0.001    0.000    0.034    0.000 gzip.py:269(read)\n",
      "      189    0.000    0.000    0.035    0.000 io_vcf.pyx:56(BufferedInputStream_fill_buffer)\n",
      "       97    0.000    0.000    0.001    0.000 gzip.py:403(_read_gzip_header)\n",
      "       95    0.000    0.000    0.001    0.000 gzip.py:491(_read_eof)\n",
      "      188    0.000    0.000    0.008    0.000 gzip.py:487(_add_read_data)\n",
      "      380    0.000    0.000    0.001    0.000 gzip.py:387(_read_exact)\n",
      "      283    0.000    0.000    0.000    0.000 gzip.py:93(prepend)\n",
      "       96    0.000    0.000    0.000    0.000 {built-in method zlib.decompressobj}\n",
      "      189    0.000    0.000    0.000    0.000 _compression.py:12(_check_not_closed)\n",
      "     1610    0.000    0.000    0.000    0.000 {built-in method builtins.len}\n",
      "      285    0.000    0.000    0.000    0.000 {built-in method _struct.unpack}\n",
      "        1    0.000    0.000    0.941    0.941 {built-in method builtins.exec}\n",
      "      190    0.000    0.000    0.000    0.000 {method 'cast' of 'memoryview' objects}\n",
      "        1    0.000    0.000    0.000    0.000 {built-in method io.open}\n",
      "       97    0.000    0.000    0.000    0.000 gzip.py:383(_init_read)\n",
      "      191    0.000    0.000    0.000    0.000 gzip.py:296(closed)\n",
      "        1    0.000    0.000    0.000    0.000 gzip.py:123(__init__)\n",
      "        1    0.000    0.000    0.000    0.000 gzip.py:20(open)\n",
      "        1    0.000    0.000    0.000    0.000 gzip.py:376(__init__)\n",
      "        2    0.000    0.000    0.000    0.000 {method 'close' of '_io.BufferedReader' objects}\n",
      "        1    0.000    0.000    0.000    0.000 _compression.py:39(__init__)\n",
      "        1    0.000    0.000    0.000    0.000 gzip.py:74(__init__)\n",
      "        1    0.000    0.000    0.941    0.941 <string>:1(<module>)\n",
      "        1    0.000    0.000    0.000    0.000 _compression.py:59(close)\n",
      "        1    0.000    0.000    0.000    0.000 gzip.py:300(close)\n",
      "        1    0.000    0.000    0.001    0.001 io_vcf.pyx:44(__cinit__)\n",
      "        1    0.000    0.000    0.000    0.000 {method 'replace' of 'str' objects}\n",
      "        1    0.000    0.000    0.000    0.000 _compression.py:150(tell)\n",
      "        1    0.000    0.000    0.000    0.000 {method 'startswith' of 'str' objects}\n",
      "        1    0.000    0.000    0.000    0.000 {built-in method builtins.isinstance}\n",
      "        1    0.000    0.000    0.000    0.000 _compression.py:36(readable)\n",
      "        1    0.000    0.000    0.000    0.000 {function DecompressReader.close at 0x7f1ca6ab9c80}\n",
      "        1    0.000    0.000    0.000    0.000 {method 'disable' of '_lsprof.Profiler' objects}\n",
      "\n",
      "\n"
     ]
    }
   ],
   "source": [
    "cProfile.run('spike_read_len(vcf_fn, buffer_size=2**15)', sort='time')"
   ]
  },
  {
   "cell_type": "code",
   "execution_count": 10,
   "metadata": {
    "collapsed": true
   },
   "outputs": [],
   "source": [
    "import line_profiler\n",
    "\n",
    "l = line_profiler.LineProfiler()\n",
    "l.add_function(spike_read_len)\n",
    "l.add_function(BufferedInputStream_next)\n",
    "l.add_function(BufferedInputStream_fill_buffer)\n",
    "l.runcall(spike_read_len, vcf_fn, buffer_size=2**14)\n",
    "l.print_stats()"
   ]
  },
  {
   "cell_type": "markdown",
   "metadata": {},
   "source": [
    "## Legacy"
   ]
  },
  {
   "cell_type": "code",
   "execution_count": null,
   "metadata": {
    "collapsed": true
   },
   "outputs": [],
   "source": [
    "l = line_profiler.CLineProfiler"
   ]
  },
  {
   "cell_type": "code",
   "execution_count": 3,
   "metadata": {
    "collapsed": false
   },
   "outputs": [
    {
     "data": {
      "text/plain": [
       "32768"
      ]
     },
     "execution_count": 3,
     "metadata": {},
     "output_type": "execute_result"
    }
   ],
   "source": [
    "2**15"
   ]
  },
  {
   "cell_type": "code",
   "execution_count": null,
   "metadata": {
    "collapsed": false
   },
   "outputs": [
    {
     "name": "stderr",
     "output_type": "stream",
     "text": [
      "HeaderParser_parse 37873392 35\n",
      "20\n",
      "b'##fileformat=VCFv4.1'\n",
      "HeaderParser_parse 37873413 35\n",
      "60\n",
      "b'##FORMAT=<ID=GT,Number=1,Type=String,Description=\"Genotype\">'\n",
      "HeaderParser_parse 37873474 35\n",
      "124\n",
      "b'##INFO=<ID=AC,Number=A,Type=Integer,Description=\"Allele countin genotypes, for each ALT allele, in the same order aslisted\">'\n",
      "HeaderParser_parse 37873599 35\n",
      "32\n",
      "b'##contig=<ID=2L,length=49364325>'\n",
      "HeaderParser_parse 37873632 35\n",
      "32\n",
      "b'##contig=<ID=2R,length=61545105>'\n",
      "HeaderParser_parse 37873665 35\n",
      "32\n",
      "b'##contig=<ID=3L,length=41963435>'\n",
      "HeaderParser_parse 37873698 35\n",
      "32\n",
      "b'##contig=<ID=3R,length=53200684>'\n",
      "HeaderParser_parse 37873731 35\n",
      "34\n",
      "b'##contig=<ID=UNKN,length=42389979>'\n",
      "HeaderParser_parse 37873766 35\n",
      "31\n",
      "b'##contig=<ID=X,length=24393108>'\n",
      "HeaderParser_parse 37873798 35\n",
      "38\n",
      "b'##contig=<ID=Y_unplaced,length=237045>'\n",
      "HeaderParser_parse 37873837 35\n",
      "106\n",
      "b'##reference=file:///data/anopheles/ag1000g/data/genome/AgamP3/Anopheles-gambiae-PEST_CHROMOSOMES_AgamP3.fa'\n",
      "HeaderParser_parse 37873944 35\n",
      "7002\n"
     ]
    }
   ],
   "source": [
    "blocks = io_vcf.vcf_block_read(vcf_fn, buffer_size=2**16, block_size=1000)"
   ]
  },
  {
   "cell_type": "code",
   "execution_count": null,
   "metadata": {
    "collapsed": true
   },
   "outputs": [],
   "source": []
  }
 ],
 "metadata": {
  "kernelspec": {
   "display_name": "Python 3",
   "language": "python",
   "name": "python3"
  },
  "language_info": {
   "codemirror_mode": {
    "name": "ipython",
    "version": 3
   },
   "file_extension": ".py",
   "mimetype": "text/x-python",
   "name": "python",
   "nbconvert_exporter": "python",
   "pygments_lexer": "ipython3",
   "version": "3.5.3"
  }
 },
 "nbformat": 4,
 "nbformat_minor": 2
}
