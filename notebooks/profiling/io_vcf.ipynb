{
 "cells": [
  {
   "cell_type": "code",
   "execution_count": 11,
   "metadata": {
    "collapsed": false
   },
   "outputs": [],
   "source": [
    "import sys\n",
    "sys.path.insert(0, '../..')\n",
    "from allel.opt.io_vcf import spike_read_len, BufferedInputStream_next, BufferedInputStream_fill_buffer"
   ]
  },
  {
   "cell_type": "code",
   "execution_count": 19,
   "metadata": {
    "collapsed": false
   },
   "outputs": [
    {
     "data": {
      "text/plain": [
       "b'9'"
      ]
     },
     "execution_count": 19,
     "metadata": {},
     "output_type": "execute_result"
    }
   ],
   "source": [
    "b'9'"
   ]
  },
  {
   "cell_type": "code",
   "execution_count": 2,
   "metadata": {
    "collapsed": true
   },
   "outputs": [],
   "source": [
    "vcf_fn = '/localssd/kwiat/vector/ag1000g/release/phase1.AR3.1/haplotypes/specific_regions/PARA/2L_2358158_2431617.vcf.gz'"
   ]
  },
  {
   "cell_type": "code",
   "execution_count": 3,
   "metadata": {
    "collapsed": false
   },
   "outputs": [
    {
     "name": "stdout",
     "output_type": "stream",
     "text": [
      "CPU times: user 700 ms, sys: 0 ns, total: 700 ms\n",
      "Wall time: 697 ms\n"
     ]
    },
    {
     "data": {
      "text/plain": [
       "6140661"
      ]
     },
     "execution_count": 3,
     "metadata": {},
     "output_type": "execute_result"
    }
   ],
   "source": [
    "%time spike_read_len(vcf_fn, buffer_size=10)"
   ]
  },
  {
   "cell_type": "code",
   "execution_count": 4,
   "metadata": {
    "collapsed": false
   },
   "outputs": [
    {
     "name": "stdout",
     "output_type": "stream",
     "text": [
      "10 loops, best of 3: 105 ms per loop\n"
     ]
    }
   ],
   "source": [
    "%timeit spike_read_len(vcf_fn, buffer_size=100)"
   ]
  },
  {
   "cell_type": "code",
   "execution_count": 5,
   "metadata": {
    "collapsed": false
   },
   "outputs": [
    {
     "name": "stdout",
     "output_type": "stream",
     "text": [
      "10 loops, best of 3: 50 ms per loop\n"
     ]
    }
   ],
   "source": [
    "%timeit spike_read_len(vcf_fn, buffer_size=1000)"
   ]
  },
  {
   "cell_type": "code",
   "execution_count": 6,
   "metadata": {
    "collapsed": false
   },
   "outputs": [
    {
     "name": "stdout",
     "output_type": "stream",
     "text": [
      "10 loops, best of 3: 39 ms per loop\n"
     ]
    }
   ],
   "source": [
    "%timeit spike_read_len(vcf_fn, buffer_size=2**15)"
   ]
  },
  {
   "cell_type": "code",
   "execution_count": 7,
   "metadata": {
    "collapsed": false
   },
   "outputs": [
    {
     "name": "stdout",
     "output_type": "stream",
     "text": [
      "10 loops, best of 3: 45.3 ms per loop\n"
     ]
    }
   ],
   "source": [
    "%timeit spike_read_len(vcf_fn, buffer_size=2**12)"
   ]
  },
  {
   "cell_type": "code",
   "execution_count": 8,
   "metadata": {
    "collapsed": true
   },
   "outputs": [],
   "source": [
    "import cProfile"
   ]
  },
  {
   "cell_type": "code",
   "execution_count": 9,
   "metadata": {
    "collapsed": false
   },
   "outputs": [
    {
     "name": "stdout",
     "output_type": "stream",
     "text": [
      "         6146762 function calls (6146566 primitive calls) in 0.941 seconds\n",
      "\n",
      "   Ordered by: internal time\n",
      "\n",
      "   ncalls  tottime  percall  cumtime  percall filename:lineno(function)\n",
      "        1    0.584    0.584    0.941    0.941 io_vcf.pyx:90(spike_read_len)\n",
      "  6140662    0.322    0.000    0.356    0.000 io_vcf.pyx:74(BufferedInputStream_next)\n",
      "      189    0.019    0.000    0.019    0.000 {method 'decompress' of 'zlib.Decompress' objects}\n",
      "      285    0.008    0.000    0.008    0.000 {built-in method zlib.crc32}\n",
      "  385/189    0.001    0.000    0.033    0.000 {method 'read' of '_io.BufferedReader' objects}\n",
      "      190    0.001    0.000    0.031    0.000 gzip.py:436(read)\n",
      "      190    0.001    0.000    0.033    0.000 _compression.py:66(readinto)\n",
      "      761    0.001    0.000    0.001    0.000 gzip.py:80(read)\n",
      "      189    0.001    0.000    0.034    0.000 gzip.py:269(read)\n",
      "      189    0.000    0.000    0.035    0.000 io_vcf.pyx:56(BufferedInputStream_fill_buffer)\n",
      "       97    0.000    0.000    0.001    0.000 gzip.py:403(_read_gzip_header)\n",
      "       95    0.000    0.000    0.001    0.000 gzip.py:491(_read_eof)\n",
      "      188    0.000    0.000    0.008    0.000 gzip.py:487(_add_read_data)\n",
      "      380    0.000    0.000    0.001    0.000 gzip.py:387(_read_exact)\n",
      "      283    0.000    0.000    0.000    0.000 gzip.py:93(prepend)\n",
      "       96    0.000    0.000    0.000    0.000 {built-in method zlib.decompressobj}\n",
      "      189    0.000    0.000    0.000    0.000 _compression.py:12(_check_not_closed)\n",
      "     1610    0.000    0.000    0.000    0.000 {built-in method builtins.len}\n",
      "      285    0.000    0.000    0.000    0.000 {built-in method _struct.unpack}\n",
      "        1    0.000    0.000    0.941    0.941 {built-in method builtins.exec}\n",
      "      190    0.000    0.000    0.000    0.000 {method 'cast' of 'memoryview' objects}\n",
      "        1    0.000    0.000    0.000    0.000 {built-in method io.open}\n",
      "       97    0.000    0.000    0.000    0.000 gzip.py:383(_init_read)\n",
      "      191    0.000    0.000    0.000    0.000 gzip.py:296(closed)\n",
      "        1    0.000    0.000    0.000    0.000 gzip.py:123(__init__)\n",
      "        1    0.000    0.000    0.000    0.000 gzip.py:20(open)\n",
      "        1    0.000    0.000    0.000    0.000 gzip.py:376(__init__)\n",
      "        2    0.000    0.000    0.000    0.000 {method 'close' of '_io.BufferedReader' objects}\n",
      "        1    0.000    0.000    0.000    0.000 _compression.py:39(__init__)\n",
      "        1    0.000    0.000    0.000    0.000 gzip.py:74(__init__)\n",
      "        1    0.000    0.000    0.941    0.941 <string>:1(<module>)\n",
      "        1    0.000    0.000    0.000    0.000 _compression.py:59(close)\n",
      "        1    0.000    0.000    0.000    0.000 gzip.py:300(close)\n",
      "        1    0.000    0.000    0.001    0.001 io_vcf.pyx:44(__cinit__)\n",
      "        1    0.000    0.000    0.000    0.000 {method 'replace' of 'str' objects}\n",
      "        1    0.000    0.000    0.000    0.000 _compression.py:150(tell)\n",
      "        1    0.000    0.000    0.000    0.000 {method 'startswith' of 'str' objects}\n",
      "        1    0.000    0.000    0.000    0.000 {built-in method builtins.isinstance}\n",
      "        1    0.000    0.000    0.000    0.000 _compression.py:36(readable)\n",
      "        1    0.000    0.000    0.000    0.000 {function DecompressReader.close at 0x7f1ca6ab9c80}\n",
      "        1    0.000    0.000    0.000    0.000 {method 'disable' of '_lsprof.Profiler' objects}\n",
      "\n",
      "\n"
     ]
    }
   ],
   "source": [
    "cProfile.run('spike_read_len(vcf_fn, buffer_size=2**15)', sort='time')"
   ]
  },
  {
   "cell_type": "code",
   "execution_count": 10,
   "metadata": {
    "collapsed": true
   },
   "outputs": [],
   "source": [
    "import line_profiler"
   ]
  },
  {
   "cell_type": "code",
   "execution_count": 12,
   "metadata": {
    "collapsed": false,
    "scrolled": false
   },
   "outputs": [
    {
     "name": "stdout",
     "output_type": "stream",
     "text": [
      "Timer unit: 1e-06 s\n",
      "\n",
      "Total time: 0.051572 s\n",
      "File: /home/aliman/src/github/cggh/scikit-allel/allel/opt/io_vcf.pyx\n",
      "Function: BufferedInputStream_fill_buffer at line 56\n",
      "\n",
      "Line #      Hits         Time  Per Hit   % Time  Line Contents\n",
      "==============================================================\n",
      "    56                                           cpdef inline void BufferedInputStream_fill_buffer(BufferedInputStream self):\n",
      "    57                                               cdef:\n",
      "    58                                                   int l\n",
      "    59       376        51135    136.0     99.2      self.buffer = self.fileobj.read(self.buffer_size)\n",
      "    60       376          218      0.6      0.4      l = len(self.buffer)\n",
      "    61       376           87      0.2      0.2      if l > 0:\n",
      "    62       375           68      0.2      0.1          self.stream = PyBytes_AS_STRING(self.buffer)\n",
      "    63       375           64      0.2      0.1          self.stream_end = self.stream + l\n",
      "    64                                               else:\n",
      "    65         1            0      0.0      0.0          self.stream = NULL\n",
      "    66                                           \n",
      "    67                                           \n",
      "    68                                           # break out method as function for profiling\n",
      "    69                                           @cython.initializedcheck(False)\n",
      "    70                                           @cython.nonecheck(False)\n",
      "    71                                           @cython.boundscheck(False)\n",
      "    72                                           @cython.wraparound(False)\n",
      "    73                                           # @cython.profile(False)\n",
      "    74                                           cpdef inline char BufferedInputStream_next(BufferedInputStream self):\n",
      "    75                                               cdef:\n",
      "    76                                                   char c\n",
      "    77                                               if self.stream == self.stream_end:\n",
      "    78                                                   BufferedInputStream_fill_buffer(self)\n",
      "    79                                               if self.stream == NULL:\n",
      "    80                                                   return 0\n",
      "    81                                               c = self.stream[0]\n",
      "    82                                               self.stream += 1\n",
      "    83                                               return c\n",
      "    84                                           \n",
      "    85                                           \n",
      "    86                                           @cython.initializedcheck(False)\n",
      "    87                                           @cython.nonecheck(False)\n",
      "    88                                           @cython.boundscheck(False)\n",
      "    89                                           @cython.wraparound(False)\n",
      "    90                                           def spike_read_len(fn, buffer_size):\n",
      "    91                                               \"\"\"Foo.\"\"\"\n",
      "    92                                               cdef:\n",
      "    93                                                   BufferedInputStream input_stream\n",
      "    94                                                   char c\n",
      "    95                                                   int i = 0\n",
      "    96                                               with gzip.open(fn, mode='rb') as fileobj:\n",
      "    97                                                   input_stream = BufferedInputStream(fileobj, buffer_size=buffer_size)\n",
      "    98                                                   c = BufferedInputStream_next(input_stream)\n",
      "    99                                                   while c != 0:\n",
      "   100                                                       c = BufferedInputStream_next(input_stream)\n",
      "   101                                                       i += 1\n",
      "   102                                               return i\n",
      "\n",
      "Total time: 5.58299 s\n",
      "File: /home/aliman/src/github/cggh/scikit-allel/allel/opt/io_vcf.pyx\n",
      "Function: BufferedInputStream_next at line 74\n",
      "\n",
      "Line #      Hits         Time  Per Hit   % Time  Line Contents\n",
      "==============================================================\n",
      "    74                                           cpdef inline char BufferedInputStream_next(BufferedInputStream self):\n",
      "    75                                               cdef:\n",
      "    76                                                   char c\n",
      "    77   6140662      1179278      0.2     21.1      if self.stream == self.stream_end:\n",
      "    78       375        51706    137.9      0.9          BufferedInputStream_fill_buffer(self)\n",
      "    79   6140662      1094024      0.2     19.6      if self.stream == NULL:\n",
      "    80         1            0      0.0      0.0          return 0\n",
      "    81   6140661      1086995      0.2     19.5      c = self.stream[0]\n",
      "    82   6140661      1087030      0.2     19.5      self.stream += 1\n",
      "    83   6140661      1083958      0.2     19.4      return c\n",
      "    84                                           \n",
      "    85                                           \n",
      "    86                                           @cython.initializedcheck(False)\n",
      "    87                                           @cython.nonecheck(False)\n",
      "    88                                           @cython.boundscheck(False)\n",
      "    89                                           @cython.wraparound(False)\n",
      "    90                                           def spike_read_len(fn, buffer_size):\n",
      "    91                                               \"\"\"Foo.\"\"\"\n",
      "    92                                               cdef:\n",
      "    93                                                   BufferedInputStream input_stream\n",
      "    94                                                   char c\n",
      "    95                                                   int i = 0\n",
      "    96                                               with gzip.open(fn, mode='rb') as fileobj:\n",
      "    97                                                   input_stream = BufferedInputStream(fileobj, buffer_size=buffer_size)\n",
      "    98                                                   c = BufferedInputStream_next(input_stream)\n",
      "    99                                                   while c != 0:\n",
      "   100                                                       c = BufferedInputStream_next(input_stream)\n",
      "   101                                                       i += 1\n",
      "   102                                               return i\n",
      "\n",
      "Total time: 14.7046 s\n",
      "File: /home/aliman/src/github/cggh/scikit-allel/allel/opt/io_vcf.pyx\n",
      "Function: spike_read_len at line 90\n",
      "\n",
      "Line #      Hits         Time  Per Hit   % Time  Line Contents\n",
      "==============================================================\n",
      "    90                                           def spike_read_len(fn, buffer_size):\n",
      "    91                                               \"\"\"Foo.\"\"\"\n",
      "    92                                               cdef:\n",
      "    93                                                   BufferedInputStream input_stream\n",
      "    94                                                   char c\n",
      "    95         1            4      4.0      0.0          int i = 0\n",
      "    96         1          106    106.0      0.0      with gzip.open(fn, mode='rb') as fileobj:\n",
      "    97         1          550    550.0      0.0          input_stream = BufferedInputStream(fileobj, buffer_size=buffer_size)\n",
      "    98         1            5      5.0      0.0          c = BufferedInputStream_next(input_stream)\n",
      "    99         1            0      0.0      0.0          while c != 0:\n",
      "   100   6140661     13387244      2.2     91.0              c = BufferedInputStream_next(input_stream)\n",
      "   101   6140661      1316689      0.2      9.0              i += 1\n",
      "   102         1            6      6.0      0.0      return i\n",
      "\n"
     ]
    }
   ],
   "source": [
    "l = line_profiler.LineProfiler()\n",
    "l.add_function(spike_read_len)\n",
    "l.add_function(BufferedInputStream_next)\n",
    "l.add_function(BufferedInputStream_fill_buffer)\n",
    "l.runcall(spike_read_len, vcf_fn, buffer_size=2**14)\n",
    "l.print_stats()"
   ]
  },
  {
   "cell_type": "markdown",
   "metadata": {},
   "source": [
    "## Legacy"
   ]
  },
  {
   "cell_type": "code",
   "execution_count": null,
   "metadata": {
    "collapsed": true
   },
   "outputs": [],
   "source": [
    "l = line_profiler.CLineProfiler"
   ]
  },
  {
   "cell_type": "code",
   "execution_count": 3,
   "metadata": {
    "collapsed": false
   },
   "outputs": [
    {
     "data": {
      "text/plain": [
       "32768"
      ]
     },
     "execution_count": 3,
     "metadata": {},
     "output_type": "execute_result"
    }
   ],
   "source": [
    "2**15"
   ]
  },
  {
   "cell_type": "code",
   "execution_count": null,
   "metadata": {
    "collapsed": false
   },
   "outputs": [
    {
     "name": "stderr",
     "output_type": "stream",
     "text": [
      "HeaderParser_parse 37873392 35\n",
      "20\n",
      "b'##fileformat=VCFv4.1'\n",
      "HeaderParser_parse 37873413 35\n",
      "60\n",
      "b'##FORMAT=<ID=GT,Number=1,Type=String,Description=\"Genotype\">'\n",
      "HeaderParser_parse 37873474 35\n",
      "124\n",
      "b'##INFO=<ID=AC,Number=A,Type=Integer,Description=\"Allele countin genotypes, for each ALT allele, in the same order aslisted\">'\n",
      "HeaderParser_parse 37873599 35\n",
      "32\n",
      "b'##contig=<ID=2L,length=49364325>'\n",
      "HeaderParser_parse 37873632 35\n",
      "32\n",
      "b'##contig=<ID=2R,length=61545105>'\n",
      "HeaderParser_parse 37873665 35\n",
      "32\n",
      "b'##contig=<ID=3L,length=41963435>'\n",
      "HeaderParser_parse 37873698 35\n",
      "32\n",
      "b'##contig=<ID=3R,length=53200684>'\n",
      "HeaderParser_parse 37873731 35\n",
      "34\n",
      "b'##contig=<ID=UNKN,length=42389979>'\n",
      "HeaderParser_parse 37873766 35\n",
      "31\n",
      "b'##contig=<ID=X,length=24393108>'\n",
      "HeaderParser_parse 37873798 35\n",
      "38\n",
      "b'##contig=<ID=Y_unplaced,length=237045>'\n",
      "HeaderParser_parse 37873837 35\n",
      "106\n",
      "b'##reference=file:///data/anopheles/ag1000g/data/genome/AgamP3/Anopheles-gambiae-PEST_CHROMOSOMES_AgamP3.fa'\n",
      "HeaderParser_parse 37873944 35\n",
      "7002\n"
     ]
    }
   ],
   "source": [
    "blocks = io_vcf.vcf_block_read(vcf_fn, buffer_size=2**16, block_size=1000)"
   ]
  },
  {
   "cell_type": "code",
   "execution_count": null,
   "metadata": {
    "collapsed": true
   },
   "outputs": [],
   "source": []
  }
 ],
 "metadata": {
  "kernelspec": {
   "display_name": "Python 3",
   "language": "python",
   "name": "python3"
  },
  "language_info": {
   "codemirror_mode": {
    "name": "ipython",
    "version": 3
   },
   "file_extension": ".py",
   "mimetype": "text/x-python",
   "name": "python",
   "nbconvert_exporter": "python",
   "pygments_lexer": "ipython3",
   "version": "3.5.3"
  }
 },
 "nbformat": 4,
 "nbformat_minor": 2
}
