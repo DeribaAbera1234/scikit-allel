{
 "metadata": {
  "name": "",
  "signature": "sha256:f2b3c61bf2d5d500d61383df04207f4216d9973aab5125105953c3cbe6a621b3"
 },
 "nbformat": 3,
 "nbformat_minor": 0,
 "worksheets": [
  {
   "cells": [
    {
     "cell_type": "code",
     "collapsed": false,
     "input": [
      "import numpy as np\n",
      "import bcolz\n",
      "import numexpr\n",
      "import humanize\n",
      "def binarysize(n):\n",
      "    return humanize.naturalsize(n, binary=True)\n",
      "\n",
      "%load_ext memory_profiler"
     ],
     "language": "python",
     "metadata": {},
     "outputs": [],
     "prompt_number": 1
    },
    {
     "cell_type": "code",
     "collapsed": false,
     "input": [
      "pos = np.unique(np.random.randint(0, 100000000, size=10000000))\n",
      "pos.size, pos.dtype, binarysize(pos.nbytes)"
     ],
     "language": "python",
     "metadata": {},
     "outputs": [
      {
       "metadata": {},
       "output_type": "pyout",
       "prompt_number": 2,
       "text": [
        "(9515255, dtype('int64'), '72.6 MiB')"
       ]
      }
     ],
     "prompt_number": 2
    },
    {
     "cell_type": "code",
     "collapsed": false,
     "input": [
      "x = np.random.randint(0, 100, size=pos.size)\n",
      "binarysize(x.nbytes)"
     ],
     "language": "python",
     "metadata": {},
     "outputs": [
      {
       "metadata": {},
       "output_type": "pyout",
       "prompt_number": 3,
       "text": [
        "'72.6 MiB'"
       ]
      }
     ],
     "prompt_number": 3
    },
    {
     "cell_type": "code",
     "collapsed": false,
     "input": [
      "y = np.random.random(size=pos.size)\n",
      "binarysize(y.nbytes)"
     ],
     "language": "python",
     "metadata": {},
     "outputs": [
      {
       "metadata": {},
       "output_type": "pyout",
       "prompt_number": 4,
       "text": [
        "'72.6 MiB'"
       ]
      }
     ],
     "prompt_number": 4
    },
    {
     "cell_type": "code",
     "collapsed": false,
     "input": [
      "z = np.random.choice([b'a', b'b', b'c'], size=pos.size)\n",
      "z.dtype, binarysize(z.nbytes)"
     ],
     "language": "python",
     "metadata": {},
     "outputs": [
      {
       "metadata": {},
       "output_type": "pyout",
       "prompt_number": 5,
       "text": [
        "(dtype('S1'), '9.1 MiB')"
       ]
      }
     ],
     "prompt_number": 5
    },
    {
     "cell_type": "code",
     "collapsed": false,
     "input": [
      "query = \"(x > 50) & (y < .5) & (z == b'a')\""
     ],
     "language": "python",
     "metadata": {},
     "outputs": [],
     "prompt_number": 18
    },
    {
     "cell_type": "code",
     "collapsed": false,
     "input": [
      "ctbl1 = bcolz.ctable([pos, x, y, z], names=['pos', 'x', 'y', 'z'])\n",
      "ctbl1"
     ],
     "language": "python",
     "metadata": {},
     "outputs": [
      {
       "metadata": {},
       "output_type": "pyout",
       "prompt_number": 6,
       "text": [
        "ctable((9517085,), [('pos', '<i8'), ('x', '<i8'), ('y', '<f8'), ('z', 'S1')])\n",
        "  nbytes: 226.90 MB; cbytes: 91.50 MB; ratio: 2.48\n",
        "  cparams := cparams(clevel=5, shuffle=True, cname='blosclz')\n",
        "[(21, 19, 0.08858824010611521, b'a') (32, 37, 0.300618634538778, b'c')\n",
        " (36, 37, 0.2132063516964321, b'b') ...,\n",
        " (99999991, 14, 0.37575360304225824, b'c')\n",
        " (99999998, 38, 0.2358947385794946, b'c')\n",
        " (99999999, 9, 0.6620298185586881, b'b')]"
       ]
      }
     ],
     "prompt_number": 6
    },
    {
     "cell_type": "code",
     "collapsed": false,
     "input": [
      "ctbl2 = bcolz.ctable([pos, x, y, z], names=['pos', 'x', 'y', 'z'], cparams=bcolz.cparams(cname='lz4'))\n",
      "ctbl2"
     ],
     "language": "python",
     "metadata": {},
     "outputs": [
      {
       "metadata": {},
       "output_type": "pyout",
       "prompt_number": 7,
       "text": [
        "ctable((9517085,), [('pos', '<i8'), ('x', '<i8'), ('y', '<f8'), ('z', 'S1')])\n",
        "  nbytes: 226.90 MB; cbytes: 92.26 MB; ratio: 2.46\n",
        "  cparams := cparams(clevel=5, shuffle=True, cname='lz4')\n",
        "[(21, 19, 0.08858824010611521, b'a') (32, 37, 0.300618634538778, b'c')\n",
        " (36, 37, 0.2132063516964321, b'b') ...,\n",
        " (99999991, 14, 0.37575360304225824, b'c')\n",
        " (99999998, 38, 0.2358947385794946, b'c')\n",
        " (99999999, 9, 0.6620298185586881, b'b')]"
       ]
      }
     ],
     "prompt_number": 7
    },
    {
     "cell_type": "code",
     "collapsed": false,
     "input": [
      "%timeit eval(query)"
     ],
     "language": "python",
     "metadata": {},
     "outputs": [
      {
       "output_type": "stream",
       "stream": "stdout",
       "text": [
        "10 loops, best of 3: 117 ms per loop\n"
       ]
      }
     ],
     "prompt_number": 59
    },
    {
     "cell_type": "code",
     "collapsed": false,
     "input": [
      "%memit eval(query)"
     ],
     "language": "python",
     "metadata": {},
     "outputs": [
      {
       "output_type": "stream",
       "stream": "stdout",
       "text": [
        "peak memory: 2750.00 MiB, increment: 26.88 MiB\n"
       ]
      }
     ],
     "prompt_number": 60
    },
    {
     "cell_type": "code",
     "collapsed": false,
     "input": [
      "%timeit numexpr.evaluate(query)"
     ],
     "language": "python",
     "metadata": {},
     "outputs": [
      {
       "output_type": "stream",
       "stream": "stdout",
       "text": [
        "10 loops, best of 3: 57.2 ms per loop\n"
       ]
      }
     ],
     "prompt_number": 61
    },
    {
     "cell_type": "code",
     "collapsed": false,
     "input": [
      "%memit numexpr.evaluate(query)"
     ],
     "language": "python",
     "metadata": {},
     "outputs": [
      {
       "output_type": "stream",
       "stream": "stdout",
       "text": [
        "peak memory: 2732.07 MiB, increment: 0.70 MiB\n"
       ]
      }
     ],
     "prompt_number": 62
    },
    {
     "cell_type": "code",
     "collapsed": false,
     "input": [
      "%timeit ctbl1.eval(query)"
     ],
     "language": "python",
     "metadata": {},
     "outputs": [
      {
       "output_type": "stream",
       "stream": "stdout",
       "text": [
        "10 loops, best of 3: 130 ms per loop\n"
       ]
      }
     ],
     "prompt_number": 63
    },
    {
     "cell_type": "code",
     "collapsed": false,
     "input": [
      "%memit ctbl1.eval(query)"
     ],
     "language": "python",
     "metadata": {},
     "outputs": [
      {
       "output_type": "stream",
       "stream": "stdout",
       "text": [
        "peak memory: 2732.15 MiB, increment: 0.00 MiB\n"
       ]
      }
     ],
     "prompt_number": 64
    },
    {
     "cell_type": "code",
     "collapsed": false,
     "input": [
      "%timeit ctbl2.eval(query)"
     ],
     "language": "python",
     "metadata": {},
     "outputs": [
      {
       "output_type": "stream",
       "stream": "stdout",
       "text": [
        "10 loops, best of 3: 136 ms per loop\n"
       ]
      }
     ],
     "prompt_number": 65
    },
    {
     "cell_type": "code",
     "collapsed": false,
     "input": [
      "%memit ctbl2.eval(query)"
     ],
     "language": "python",
     "metadata": {},
     "outputs": [
      {
       "output_type": "stream",
       "stream": "stdout",
       "text": [
        "peak memory: 2732.15 MiB, increment: 0.00 MiB\n"
       ]
      }
     ],
     "prompt_number": 66
    },
    {
     "cell_type": "code",
     "collapsed": false,
     "input": [
      "%timeit bcolz.eval(query, user_dict=ctbl1.cols, vm='numexpr')"
     ],
     "language": "python",
     "metadata": {},
     "outputs": [
      {
       "output_type": "stream",
       "stream": "stdout",
       "text": [
        "10 loops, best of 3: 85 ms per loop\n"
       ]
      }
     ],
     "prompt_number": 46
    },
    {
     "cell_type": "code",
     "collapsed": false,
     "input": [
      "%timeit numexpr.evaluate(query, local_dict=ctbl1)"
     ],
     "language": "python",
     "metadata": {},
     "outputs": [
      {
       "output_type": "stream",
       "stream": "stdout",
       "text": [
        "1 loops, best of 3: 2.75 s per loop\n"
       ]
      }
     ],
     "prompt_number": 13
    },
    {
     "cell_type": "code",
     "collapsed": false,
     "input": [
      "ctbl1['x']"
     ],
     "language": "python",
     "metadata": {},
     "outputs": [
      {
       "metadata": {},
       "output_type": "pyout",
       "prompt_number": 14,
       "text": [
        "carray((9517085,), int64)\n",
        "  nbytes: 72.61 MB; cbytes: 10.08 MB; ratio: 7.20\n",
        "  cparams := cparams(clevel=5, shuffle=True, cname='blosclz')\n",
        "[19 37 37 ..., 14 38  9]"
       ]
      }
     ],
     "prompt_number": 14
    },
    {
     "cell_type": "code",
     "collapsed": false,
     "input": [
      "ctbl2['x']"
     ],
     "language": "python",
     "metadata": {},
     "outputs": [
      {
       "metadata": {},
       "output_type": "pyout",
       "prompt_number": 15,
       "text": [
        "carray((9517085,), int64)\n",
        "  nbytes: 72.61 MB; cbytes: 10.06 MB; ratio: 7.21\n",
        "  cparams := cparams(clevel=5, shuffle=True, cname='lz4')\n",
        "[19 37 37 ..., 14 38  9]"
       ]
      }
     ],
     "prompt_number": 15
    },
    {
     "cell_type": "code",
     "collapsed": false,
     "input": [
      "import pandas"
     ],
     "language": "python",
     "metadata": {},
     "outputs": [],
     "prompt_number": 16
    },
    {
     "cell_type": "code",
     "collapsed": false,
     "input": [
      "df = pandas.DataFrame({'pos': pos, 'x': x, 'y': y, 'z': z})\n",
      "df.head()"
     ],
     "language": "python",
     "metadata": {},
     "outputs": [
      {
       "html": [
        "<div style=\"max-height:1000px;max-width:1500px;overflow:auto;\">\n",
        "<table border=\"1\" class=\"dataframe\">\n",
        "  <thead>\n",
        "    <tr style=\"text-align: right;\">\n",
        "      <th></th>\n",
        "      <th>pos</th>\n",
        "      <th>x</th>\n",
        "      <th>y</th>\n",
        "      <th>z</th>\n",
        "    </tr>\n",
        "  </thead>\n",
        "  <tbody>\n",
        "    <tr>\n",
        "      <th>0</th>\n",
        "      <td> 21</td>\n",
        "      <td> 19</td>\n",
        "      <td> 0.088588</td>\n",
        "      <td> b'a'</td>\n",
        "    </tr>\n",
        "    <tr>\n",
        "      <th>1</th>\n",
        "      <td> 32</td>\n",
        "      <td> 37</td>\n",
        "      <td> 0.300619</td>\n",
        "      <td> b'c'</td>\n",
        "    </tr>\n",
        "    <tr>\n",
        "      <th>2</th>\n",
        "      <td> 36</td>\n",
        "      <td> 37</td>\n",
        "      <td> 0.213206</td>\n",
        "      <td> b'b'</td>\n",
        "    </tr>\n",
        "    <tr>\n",
        "      <th>3</th>\n",
        "      <td> 65</td>\n",
        "      <td> 70</td>\n",
        "      <td> 0.116222</td>\n",
        "      <td> b'b'</td>\n",
        "    </tr>\n",
        "    <tr>\n",
        "      <th>4</th>\n",
        "      <td> 85</td>\n",
        "      <td> 62</td>\n",
        "      <td> 0.971212</td>\n",
        "      <td> b'c'</td>\n",
        "    </tr>\n",
        "  </tbody>\n",
        "</table>\n",
        "</div>"
       ],
       "metadata": {},
       "output_type": "pyout",
       "prompt_number": 17,
       "text": [
        "   pos   x         y     z\n",
        "0   21  19  0.088588  b'a'\n",
        "1   32  37  0.300619  b'c'\n",
        "2   36  37  0.213206  b'b'\n",
        "3   65  70  0.116222  b'b'\n",
        "4   85  62  0.971212  b'c'"
       ]
      }
     ],
     "prompt_number": 17
    },
    {
     "cell_type": "code",
     "collapsed": false,
     "input": [
      "%timeit df.eval(query)"
     ],
     "language": "python",
     "metadata": {},
     "outputs": [
      {
       "output_type": "stream",
       "stream": "stdout",
       "text": [
        "10 loops, best of 3: 23.6 ms per loop\n"
       ]
      }
     ],
     "prompt_number": 18
    },
    {
     "cell_type": "code",
     "collapsed": false,
     "input": [
      "ra = ctbl1[:]\n",
      "ra"
     ],
     "language": "python",
     "metadata": {},
     "outputs": [
      {
       "metadata": {},
       "output_type": "pyout",
       "prompt_number": 22,
       "text": [
        "array([(21, 19, 0.08858824010611521, b'a'),\n",
        "       (32, 37, 0.300618634538778, b'c'),\n",
        "       (36, 37, 0.2132063516964321, b'b'), ...,\n",
        "       (99999991, 14, 0.37575360304225824, b'c'),\n",
        "       (99999998, 38, 0.2358947385794946, b'c'),\n",
        "       (99999999, 9, 0.6620298185586881, b'b')], \n",
        "      dtype=[('pos', '<i8'), ('x', '<i8'), ('y', '<f8'), ('z', 'S1')])"
       ]
      }
     ],
     "prompt_number": 22
    },
    {
     "cell_type": "code",
     "collapsed": false,
     "input": [
      "%timeit numexpr.evaluate(query, local_dict=ra)"
     ],
     "language": "python",
     "metadata": {},
     "outputs": [
      {
       "output_type": "stream",
       "stream": "stdout",
       "text": [
        "10 loops, best of 3: 25.1 ms per loop\n"
       ]
      }
     ],
     "prompt_number": 23
    },
    {
     "cell_type": "code",
     "collapsed": false,
     "input": [
      "%timeit eval(query, {}, ra)"
     ],
     "language": "python",
     "metadata": {},
     "outputs": [
      {
       "output_type": "stream",
       "stream": "stdout",
       "text": [
        "10 loops, best of 3: 102 ms per loop\n"
       ]
      }
     ],
     "prompt_number": 24
    },
    {
     "cell_type": "code",
     "collapsed": false,
     "input": [
      "query2 = \"(x > 50) & (z == b'a')\""
     ],
     "language": "python",
     "metadata": {},
     "outputs": [],
     "prompt_number": 25
    },
    {
     "cell_type": "code",
     "collapsed": false,
     "input": [
      "%timeit eval(query2)"
     ],
     "language": "python",
     "metadata": {},
     "outputs": [
      {
       "output_type": "stream",
       "stream": "stdout",
       "text": [
        "10 loops, best of 3: 105 ms per loop\n"
       ]
      }
     ],
     "prompt_number": 28
    },
    {
     "cell_type": "code",
     "collapsed": false,
     "input": [
      "%timeit numexpr.evaluate(query2)"
     ],
     "language": "python",
     "metadata": {},
     "outputs": [
      {
       "output_type": "stream",
       "stream": "stdout",
       "text": [
        "10 loops, best of 3: 44.1 ms per loop\n"
       ]
      }
     ],
     "prompt_number": 29
    },
    {
     "cell_type": "code",
     "collapsed": false,
     "input": [
      "%timeit ctbl1.eval(query2)"
     ],
     "language": "python",
     "metadata": {},
     "outputs": [
      {
       "output_type": "stream",
       "stream": "stdout",
       "text": [
        "10 loops, best of 3: 107 ms per loop\n"
       ]
      }
     ],
     "prompt_number": 30
    },
    {
     "cell_type": "code",
     "collapsed": false,
     "input": [
      "%timeit ctbl2.eval(query2)"
     ],
     "language": "python",
     "metadata": {},
     "outputs": [
      {
       "output_type": "stream",
       "stream": "stdout",
       "text": [
        "10 loops, best of 3: 99.4 ms per loop\n"
       ]
      }
     ],
     "prompt_number": 31
    },
    {
     "cell_type": "code",
     "collapsed": false,
     "input": [
      "%timeit numexpr.evaluate(query2, local_dict=ra)"
     ],
     "language": "python",
     "metadata": {},
     "outputs": [
      {
       "output_type": "stream",
       "stream": "stdout",
       "text": [
        "10 loops, best of 3: 46 ms per loop\n"
       ]
      }
     ],
     "prompt_number": 34
    },
    {
     "cell_type": "code",
     "collapsed": false,
     "input": [
      "str(x.dtype.names)"
     ],
     "language": "python",
     "metadata": {},
     "outputs": [
      {
       "metadata": {},
       "output_type": "pyout",
       "prompt_number": 37,
       "text": [
        "'None'"
       ]
      }
     ],
     "prompt_number": 37
    },
    {
     "cell_type": "code",
     "collapsed": false,
     "input": [
      "ra.dtype.names"
     ],
     "language": "python",
     "metadata": {},
     "outputs": [
      {
       "metadata": {},
       "output_type": "pyout",
       "prompt_number": 36,
       "text": [
        "('pos', 'x', 'y', 'z')"
       ]
      }
     ],
     "prompt_number": 36
    },
    {
     "cell_type": "code",
     "collapsed": false,
     "input": [
      "pandas.DataFrame(ra[:10])"
     ],
     "language": "python",
     "metadata": {},
     "outputs": [
      {
       "html": [
        "<div style=\"max-height:1000px;max-width:1500px;overflow:auto;\">\n",
        "<table border=\"1\" class=\"dataframe\">\n",
        "  <thead>\n",
        "    <tr style=\"text-align: right;\">\n",
        "      <th></th>\n",
        "      <th>pos</th>\n",
        "      <th>x</th>\n",
        "      <th>y</th>\n",
        "      <th>z</th>\n",
        "    </tr>\n",
        "  </thead>\n",
        "  <tbody>\n",
        "    <tr>\n",
        "      <th>0</th>\n",
        "      <td>  21</td>\n",
        "      <td> 19</td>\n",
        "      <td> 0.088588</td>\n",
        "      <td> b'a'</td>\n",
        "    </tr>\n",
        "    <tr>\n",
        "      <th>1</th>\n",
        "      <td>  32</td>\n",
        "      <td> 37</td>\n",
        "      <td> 0.300619</td>\n",
        "      <td> b'c'</td>\n",
        "    </tr>\n",
        "    <tr>\n",
        "      <th>2</th>\n",
        "      <td>  36</td>\n",
        "      <td> 37</td>\n",
        "      <td> 0.213206</td>\n",
        "      <td> b'b'</td>\n",
        "    </tr>\n",
        "    <tr>\n",
        "      <th>3</th>\n",
        "      <td>  65</td>\n",
        "      <td> 70</td>\n",
        "      <td> 0.116222</td>\n",
        "      <td> b'b'</td>\n",
        "    </tr>\n",
        "    <tr>\n",
        "      <th>4</th>\n",
        "      <td>  85</td>\n",
        "      <td> 62</td>\n",
        "      <td> 0.971212</td>\n",
        "      <td> b'c'</td>\n",
        "    </tr>\n",
        "    <tr>\n",
        "      <th>5</th>\n",
        "      <td>  89</td>\n",
        "      <td> 17</td>\n",
        "      <td> 0.302189</td>\n",
        "      <td> b'a'</td>\n",
        "    </tr>\n",
        "    <tr>\n",
        "      <th>6</th>\n",
        "      <td>  95</td>\n",
        "      <td> 19</td>\n",
        "      <td> 0.450676</td>\n",
        "      <td> b'b'</td>\n",
        "    </tr>\n",
        "    <tr>\n",
        "      <th>7</th>\n",
        "      <td> 113</td>\n",
        "      <td> 10</td>\n",
        "      <td> 0.443259</td>\n",
        "      <td> b'a'</td>\n",
        "    </tr>\n",
        "    <tr>\n",
        "      <th>8</th>\n",
        "      <td> 119</td>\n",
        "      <td> 70</td>\n",
        "      <td> 0.328290</td>\n",
        "      <td> b'c'</td>\n",
        "    </tr>\n",
        "    <tr>\n",
        "      <th>9</th>\n",
        "      <td> 141</td>\n",
        "      <td> 51</td>\n",
        "      <td> 0.665143</td>\n",
        "      <td> b'c'</td>\n",
        "    </tr>\n",
        "  </tbody>\n",
        "</table>\n",
        "</div>"
       ],
       "metadata": {},
       "output_type": "pyout",
       "prompt_number": 40,
       "text": [
        "   pos   x         y     z\n",
        "0   21  19  0.088588  b'a'\n",
        "1   32  37  0.300619  b'c'\n",
        "2   36  37  0.213206  b'b'\n",
        "3   65  70  0.116222  b'b'\n",
        "4   85  62  0.971212  b'c'\n",
        "5   89  17  0.302189  b'a'\n",
        "6   95  19  0.450676  b'b'\n",
        "7  113  10  0.443259  b'a'\n",
        "8  119  70  0.328290  b'c'\n",
        "9  141  51  0.665143  b'c'"
       ]
      }
     ],
     "prompt_number": 40
    },
    {
     "cell_type": "heading",
     "level": 2,
     "metadata": {},
     "source": [
      "HDF5"
     ]
    },
    {
     "cell_type": "code",
     "collapsed": false,
     "input": [
      "import tempfile"
     ],
     "language": "python",
     "metadata": {},
     "outputs": [],
     "prompt_number": 6
    },
    {
     "cell_type": "code",
     "collapsed": false,
     "input": [
      "fn1 = tempfile.mktemp()\n",
      "fn1"
     ],
     "language": "python",
     "metadata": {},
     "outputs": [
      {
       "metadata": {},
       "output_type": "pyout",
       "prompt_number": 7,
       "text": [
        "'/tmp/tmp8_ai23n1'"
       ]
      }
     ],
     "prompt_number": 7
    },
    {
     "cell_type": "code",
     "collapsed": false,
     "input": [
      "import bcolz\n",
      "import h5py"
     ],
     "language": "python",
     "metadata": {},
     "outputs": [],
     "prompt_number": 20
    },
    {
     "cell_type": "code",
     "collapsed": false,
     "input": [
      "with h5py.File(fn1, mode='w') as h5f:\n",
      "    h5g = h5f.create_group('table')\n",
      "    h5g.create_dataset('pos', data=pos, chunks=(1000,))\n",
      "    h5g.create_dataset('x', data=x, chunks=(1000,))\n",
      "    h5g.create_dataset('y', data=y, chunks=(1000,))\n",
      "    h5g.create_dataset('z', data=z, chunks=(1000,))"
     ],
     "language": "python",
     "metadata": {},
     "outputs": [],
     "prompt_number": 10
    },
    {
     "cell_type": "code",
     "collapsed": false,
     "input": [
      "%load_ext autoreload\n",
      "%autoreload 1\n",
      "import sys\n",
      "sys.path.insert(0, '../..')\n",
      "%aimport allel.bcolz"
     ],
     "language": "python",
     "metadata": {},
     "outputs": [],
     "prompt_number": 11
    },
    {
     "cell_type": "code",
     "collapsed": false,
     "input": [
      "ctbl4 = allel.bcolz.ctable_from_hdf5_group(fn1, 'table', names=['pos', 'x'], cparams=bcolz.cparams(cname='lz4', clevel=9))\n",
      "ctbl4"
     ],
     "language": "python",
     "metadata": {},
     "outputs": [
      {
       "metadata": {},
       "output_type": "pyout",
       "prompt_number": 29,
       "text": [
        "ctable((9515255,), [('pos', '<i8'), ('x', '<i8')])\n",
        "  nbytes: 145.19 MB; cbytes: 21.63 MB; ratio: 6.71\n",
        "  cparams := cparams(clevel=9, shuffle=True, cname='lz4')\n",
        "[(14, 78) (20, 49) (41, 30) ..., (99999976, 34) (99999988, 40)\n",
        " (99999991, 68)]"
       ]
      }
     ],
     "prompt_number": 29
    },
    {
     "cell_type": "code",
     "collapsed": false,
     "input": [
      "ctbl4['pos']"
     ],
     "language": "python",
     "metadata": {},
     "outputs": [
      {
       "metadata": {},
       "output_type": "pyout",
       "prompt_number": 22,
       "text": [
        "carray((9515255,), int64)\n",
        "  nbytes: 72.60 MB; cbytes: 11.77 MB; ratio: 6.17\n",
        "  cparams := cparams(clevel=9, shuffle=True, cname='lz4')\n",
        "[      14       20       41 ..., 99999976 99999988 99999991]"
       ]
      }
     ],
     "prompt_number": 22
    },
    {
     "cell_type": "code",
     "collapsed": false,
     "input": [
      "%timeit ctbl4.eval(query)"
     ],
     "language": "python",
     "metadata": {},
     "outputs": [
      {
       "output_type": "stream",
       "stream": "stdout",
       "text": [
        "1 loops, best of 3: 167 ms per loop\n"
       ]
      }
     ],
     "prompt_number": 24
    },
    {
     "cell_type": "code",
     "collapsed": false,
     "input": [
      "%memit ctbl4.eval(query)"
     ],
     "language": "python",
     "metadata": {},
     "outputs": [
      {
       "output_type": "stream",
       "stream": "stdout",
       "text": [
        "peak memory: 568.16 MiB, increment: 0.37 MiB\n"
       ]
      }
     ],
     "prompt_number": 25
    },
    {
     "cell_type": "code",
     "collapsed": false,
     "input": [
      "import numexpr"
     ],
     "language": "python",
     "metadata": {},
     "outputs": [],
     "prompt_number": 26
    },
    {
     "cell_type": "code",
     "collapsed": false,
     "input": [
      "h5g = h5py.File(fn1, mode='r')['table']\n",
      "%timeit numexpr.evaluate(query, local_dict=h5g)\n",
      "%memit numexpr.evaluate(query, local_dict=h5g)"
     ],
     "language": "python",
     "metadata": {},
     "outputs": [
      {
       "output_type": "stream",
       "stream": "stdout",
       "text": [
        "1 loops, best of 3: 269 ms per loop\n"
       ]
      },
      {
       "output_type": "stream",
       "stream": "stdout",
       "text": [
        "peak memory: 728.11 MiB, increment: 145.54 MiB\n"
       ]
      }
     ],
     "prompt_number": 28
    },
    {
     "cell_type": "code",
     "collapsed": false,
     "input": [],
     "language": "python",
     "metadata": {},
     "outputs": []
    }
   ],
   "metadata": {}
  }
 ]
}