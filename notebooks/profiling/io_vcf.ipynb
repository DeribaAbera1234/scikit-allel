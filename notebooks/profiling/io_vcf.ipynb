{
 "cells": [
  {
   "cell_type": "code",
   "execution_count": 1,
   "metadata": {
    "collapsed": false
   },
   "outputs": [],
   "source": [
    "import sys\n",
    "sys.path.insert(0, '../..')\n",
    "from allel.io_vcf_read import read_vcf, read_vcf_chunks, vcf_to_npz, vcf_to_hdf5, vcf_to_zarr\n",
    "from allel.opt.io_vcf_read import (iter_vcf, \n",
    "#                                    CalldataParser_parse, \n",
    "#                                    GenotypeInt8Parser_parse, \n",
    "#                                    ParserContext_next, \n",
    "#                                    BufferedReader_read\n",
    "                                  )"
   ]
  },
  {
   "cell_type": "code",
   "execution_count": 2,
   "metadata": {
    "collapsed": true
   },
   "outputs": [],
   "source": [
    "prof_vcf_fn = '/localssd/kwiat/vector/ag1000g/release/phase1.AR3.1/haplotypes/specific_regions/PARA/2L_2358158_2431617.vcf.gz'\n",
    "sample_vcf_fn = '../../fixture/sample.vcf'"
   ]
  },
  {
   "cell_type": "code",
   "execution_count": 3,
   "metadata": {
    "collapsed": false
   },
   "outputs": [
    {
     "name": "stdout",
     "output_type": "stream",
     "text": [
      "##fileformat=VCFv4.0\r\n",
      "##fileDate=20090805\r\n",
      "##source=myImputationProgramV3.1\r\n",
      "##reference=1000GenomesPilot-NCBI36\r\n",
      "##phasing=partial\r\n",
      "##INFO=<ID=NS,Number=1,Type=Integer,Description=\"Number of Samples With Data\">\r\n",
      "##INFO=<ID=AN,Number=1,Type=Integer,Description=\"Total number of alleles in called genotypes\">\r\n",
      "##INFO=<ID=AC,Number=.,Type=Integer,Description=\"Allele count in genotypes, for each ALT allele, in the same order as listed\">\r\n",
      "##INFO=<ID=DP,Number=1,Type=Integer,Description=\"Total Depth\">\r\n",
      "##INFO=<ID=AF,Number=.,Type=Float,Description=\"Allele Frequency\">\r\n",
      "##INFO=<ID=AA,Number=1,Type=String,Description=\"Ancestral Allele\">\r\n",
      "##INFO=<ID=DB,Number=0,Type=Flag,Description=\"dbSNP membership, build 129\">\r\n",
      "##INFO=<ID=H2,Number=0,Type=Flag,Description=\"HapMap2 membership\">\r\n",
      "##FILTER=<ID=s50,Description=\"Less than 50% of samples have data\">\r\n",
      "##FILTER=<ID=q10,Description=\"Quality below 10\">\r\n",
      "##FORMAT=<ID=GT,Number=1,Type=String,Description=\"Genotype\">\r\n",
      "##FORMAT=<ID=GQ,Number=1,Type=Integer,Description=\"Genotype Quality\">\r\n",
      "##FORMAT=<ID=DP,Number=1,Type=Integer,Description=\"Read Depth\">\r\n",
      "##FORMAT=<ID=HQ,Number=2,Type=Integer,Description=\"Haplotype Quality\">\r\n",
      "##ALT=<ID=DEL:ME:ALU,Description=\"Deletion of ALU element\">\r\n",
      "##ALT=<ID=CNV,Description=\"Copy number variable region\">\r\n",
      "#CHROM\tPOS\tID\tREF\tALT\tQUAL\tFILTER\tINFO\tFORMAT\tNA00001\tNA00002\tNA00003\r\n",
      "19\t111\t.\tA\tC\t9.6\t.\t.\tGT:HQ\t0|0:10,10\t0|0:10,10\t0/1:3,3\r\n",
      "19\t112\t.\tA\tG\t10\t.\t.\tGT:HQ\t0|0:10,10\t0|0:10,10\t0/1:3,3\r\n",
      "20\t14370\trs6054257\tG\tA\t29\tPASS\tNS=3;DP=14;AF=0.5;DB;H2\tGT:GQ:DP:HQ\t0|0:48:1:51,51\t1|0:48:8:51,51\t1/1:43:5:.,.\r\n",
      "20\t17330\t.\tT\tA\t3\tq10\tNS=3;DP=11;AF=0.017\tGT:GQ:DP:HQ\t0|0:49:3:58,50\t0|1:3:5:65,3\t0/0:41:3:.,.\r\n",
      "20\t1110696\trs6040355\tA\tG,T\t67\tPASS\tNS=2;DP=10;AF=0.333,0.667;AA=T;DB\tGT:GQ:DP:HQ\t1|2:21:6:23,27\t2|1:2:0:18,2\t2/2:35:4:.,.\r\n",
      "20\t1230237\t.\tT\t.\t47\tPASS\tNS=3;DP=13;AA=T\tGT:GQ:DP:HQ\t0|0:54:.:56,60\t0|0:48:4:51,51\t0/0:61:2:.,.\r\n",
      "20\t1234567\tmicrosat1\tG\tGA,GAC\t50\tPASS\tNS=3;DP=9;AA=G;AN=6;AC=3,1\tGT:GQ:DP\t0/1:.:4\t0/2:17:2\t./.:40:3\r\n",
      "20\t1235237\t.\tT\t.\t.\t.\t.\tGT\t0/0\t0|0\t./.\r\n",
      "X\t10\trsTest\tAC\tA,ATG\t10\tPASS\t.\tGT\t0\t0/1\t0|2\r\n"
     ]
    }
   ],
   "source": [
    "!cat {sample_vcf_fn}"
   ]
  },
  {
   "cell_type": "code",
   "execution_count": 4,
   "metadata": {
    "collapsed": false
   },
   "outputs": [
    {
     "data": {
      "text/plain": [
       "['NA00001', 'NA00002', 'NA00003']"
      ]
     },
     "execution_count": 4,
     "metadata": {},
     "output_type": "execute_result"
    }
   ],
   "source": [
    "headers, chunks = read_vcf_chunks(sample_vcf_fn, buffer_size=2**15, chunk_length=3, \n",
    "                                  fields='*',\n",
    "                                  types={'CHROM': 'S4', 'ID': 'S20', 'DP': 'i8', 'AF': 'f8', 'HQ': 'i1', 'GQ': 'i1'},\n",
    "                                  numbers={'ALT': 2, 'AF': 2, 'AA': 2}\n",
    "                                 )\n",
    "headers.samples"
   ]
  },
  {
   "cell_type": "code",
   "execution_count": 5,
   "metadata": {
    "collapsed": false
   },
   "outputs": [
    {
     "data": {
      "text/plain": [
       "{'q10': {'Description': 'Quality below 10', 'ID': 'q10'},\n",
       " 's50': {'Description': 'Less than 50% of samples have data', 'ID': 's50'}}"
      ]
     },
     "execution_count": 5,
     "metadata": {},
     "output_type": "execute_result"
    }
   ],
   "source": [
    "headers.filters"
   ]
  },
  {
   "cell_type": "code",
   "execution_count": 6,
   "metadata": {
    "collapsed": false
   },
   "outputs": [
    {
     "data": {
      "text/plain": [
       "{'AA': {'Description': 'Ancestral Allele',\n",
       "  'ID': 'AA',\n",
       "  'Number': '1',\n",
       "  'Type': 'String'},\n",
       " 'AC': {'Description': 'Allele count in genotypes, for each ALT allele, in the same order as listed',\n",
       "  'ID': 'AC',\n",
       "  'Number': '.',\n",
       "  'Type': 'Integer'},\n",
       " 'AF': {'Description': 'Allele Frequency',\n",
       "  'ID': 'AF',\n",
       "  'Number': '.',\n",
       "  'Type': 'Float'},\n",
       " 'AN': {'Description': 'Total number of alleles in called genotypes',\n",
       "  'ID': 'AN',\n",
       "  'Number': '1',\n",
       "  'Type': 'Integer'},\n",
       " 'DB': {'Description': 'dbSNP membership, build 129',\n",
       "  'ID': 'DB',\n",
       "  'Number': '0',\n",
       "  'Type': 'Flag'},\n",
       " 'DP': {'Description': 'Total Depth',\n",
       "  'ID': 'DP',\n",
       "  'Number': '1',\n",
       "  'Type': 'Integer'},\n",
       " 'H2': {'Description': 'HapMap2 membership',\n",
       "  'ID': 'H2',\n",
       "  'Number': '0',\n",
       "  'Type': 'Flag'},\n",
       " 'NS': {'Description': 'Number of Samples With Data',\n",
       "  'ID': 'NS',\n",
       "  'Number': '1',\n",
       "  'Type': 'Integer'}}"
      ]
     },
     "execution_count": 6,
     "metadata": {},
     "output_type": "execute_result"
    }
   ],
   "source": [
    "headers.infos"
   ]
  },
  {
   "cell_type": "code",
   "execution_count": 7,
   "metadata": {
    "collapsed": false
   },
   "outputs": [
    {
     "data": {
      "text/plain": [
       "{'DP': {'Description': 'Read Depth',\n",
       "  'ID': 'DP',\n",
       "  'Number': '1',\n",
       "  'Type': 'Integer'},\n",
       " 'GQ': {'Description': 'Genotype Quality',\n",
       "  'ID': 'GQ',\n",
       "  'Number': '1',\n",
       "  'Type': 'Integer'},\n",
       " 'GT': {'Description': 'Genotype',\n",
       "  'ID': 'GT',\n",
       "  'Number': '1',\n",
       "  'Type': 'String'},\n",
       " 'HQ': {'Description': 'Haplotype Quality',\n",
       "  'ID': 'HQ',\n",
       "  'Number': '2',\n",
       "  'Type': 'Integer'}}"
      ]
     },
     "execution_count": 7,
     "metadata": {},
     "output_type": "execute_result"
    }
   ],
   "source": [
    "headers.formats"
   ]
  },
  {
   "cell_type": "code",
   "execution_count": 8,
   "metadata": {
    "collapsed": false,
    "scrolled": false
   },
   "outputs": [
    {
     "data": {
      "text/plain": [
       "3"
      ]
     },
     "execution_count": 8,
     "metadata": {},
     "output_type": "execute_result"
    }
   ],
   "source": [
    "chunks = list(chunks)\n",
    "len(chunks)"
   ]
  },
  {
   "cell_type": "code",
   "execution_count": 9,
   "metadata": {
    "collapsed": false
   },
   "outputs": [
    {
     "data": {
      "text/plain": [
       "['calldata/DP',\n",
       " 'calldata/GQ',\n",
       " 'calldata/GT',\n",
       " 'calldata/HQ',\n",
       " 'variants/AA',\n",
       " 'variants/AC',\n",
       " 'variants/AF',\n",
       " 'variants/ALT',\n",
       " 'variants/AN',\n",
       " 'variants/CHROM',\n",
       " 'variants/DB',\n",
       " 'variants/DP',\n",
       " 'variants/FILTER_PASS',\n",
       " 'variants/FILTER_q10',\n",
       " 'variants/FILTER_s50',\n",
       " 'variants/H2',\n",
       " 'variants/ID',\n",
       " 'variants/NS',\n",
       " 'variants/POS',\n",
       " 'variants/QUAL',\n",
       " 'variants/REF']"
      ]
     },
     "execution_count": 9,
     "metadata": {},
     "output_type": "execute_result"
    }
   ],
   "source": [
    "sorted(chunks[0].keys())"
   ]
  },
  {
   "cell_type": "code",
   "execution_count": 10,
   "metadata": {
    "collapsed": false
   },
   "outputs": [
    {
     "data": {
      "text/plain": [
       "9"
      ]
     },
     "execution_count": 10,
     "metadata": {},
     "output_type": "execute_result"
    }
   ],
   "source": [
    "sum([r['variants/CHROM'].shape[0] for r in chunks])"
   ]
  },
  {
   "cell_type": "code",
   "execution_count": 11,
   "metadata": {
    "collapsed": false
   },
   "outputs": [
    {
     "data": {
      "text/plain": [
       "array([b'19', b'19', b'20'], \n",
       "      dtype='|S4')"
      ]
     },
     "execution_count": 11,
     "metadata": {},
     "output_type": "execute_result"
    }
   ],
   "source": [
    "chunks[0]['variants/CHROM']"
   ]
  },
  {
   "cell_type": "code",
   "execution_count": 12,
   "metadata": {
    "collapsed": false
   },
   "outputs": [
    {
     "data": {
      "text/plain": [
       "array([b'20', b'20', b'X'], \n",
       "      dtype='|S4')"
      ]
     },
     "execution_count": 12,
     "metadata": {},
     "output_type": "execute_result"
    }
   ],
   "source": [
    "chunks[-1]['variants/CHROM']"
   ]
  },
  {
   "cell_type": "code",
   "execution_count": 13,
   "metadata": {
    "collapsed": false
   },
   "outputs": [
    {
     "data": {
      "text/plain": [
       "array([  111,   112, 14370], dtype=int32)"
      ]
     },
     "execution_count": 13,
     "metadata": {},
     "output_type": "execute_result"
    }
   ],
   "source": [
    "chunks[0]['variants/POS']"
   ]
  },
  {
   "cell_type": "code",
   "execution_count": 14,
   "metadata": {
    "collapsed": false
   },
   "outputs": [
    {
     "data": {
      "text/plain": [
       "array([1234567, 1235237,      10], dtype=int32)"
      ]
     },
     "execution_count": 14,
     "metadata": {},
     "output_type": "execute_result"
    }
   ],
   "source": [
    "chunks[-1]['variants/POS']"
   ]
  },
  {
   "cell_type": "code",
   "execution_count": 15,
   "metadata": {
    "collapsed": false
   },
   "outputs": [
    {
     "data": {
      "text/plain": [
       "array([b'.', b'.', b'rs6054257'], \n",
       "      dtype='|S20')"
      ]
     },
     "execution_count": 15,
     "metadata": {},
     "output_type": "execute_result"
    }
   ],
   "source": [
    "chunks[0]['variants/ID']"
   ]
  },
  {
   "cell_type": "code",
   "execution_count": 16,
   "metadata": {
    "collapsed": false
   },
   "outputs": [
    {
     "data": {
      "text/plain": [
       "array([b'A', b'A', b'G'], \n",
       "      dtype='|S1')"
      ]
     },
     "execution_count": 16,
     "metadata": {},
     "output_type": "execute_result"
    }
   ],
   "source": [
    "chunks[0]['variants/REF']"
   ]
  },
  {
   "cell_type": "code",
   "execution_count": 17,
   "metadata": {
    "collapsed": false
   },
   "outputs": [
    {
     "data": {
      "text/plain": [
       "array([[b'C', b''],\n",
       "       [b'G', b''],\n",
       "       [b'A', b'']], \n",
       "      dtype='|S1')"
      ]
     },
     "execution_count": 17,
     "metadata": {},
     "output_type": "execute_result"
    }
   ],
   "source": [
    "chunks[0]['variants/ALT']"
   ]
  },
  {
   "cell_type": "code",
   "execution_count": 18,
   "metadata": {
    "collapsed": false
   },
   "outputs": [
    {
     "data": {
      "text/plain": [
       "array([[b'G', b'G'],\n",
       "       [b'.', b''],\n",
       "       [b'A', b'A']], \n",
       "      dtype='|S1')"
      ]
     },
     "execution_count": 18,
     "metadata": {},
     "output_type": "execute_result"
    }
   ],
   "source": [
    "chunks[-1]['variants/ALT']"
   ]
  },
  {
   "cell_type": "code",
   "execution_count": 19,
   "metadata": {
    "collapsed": false
   },
   "outputs": [
    {
     "data": {
      "text/plain": [
       "array([  9.60000038,  10.        ,  29.        ], dtype=float32)"
      ]
     },
     "execution_count": 19,
     "metadata": {},
     "output_type": "execute_result"
    }
   ],
   "source": [
    "chunks[0]['variants/QUAL']"
   ]
  },
  {
   "cell_type": "code",
   "execution_count": 20,
   "metadata": {
    "collapsed": false
   },
   "outputs": [
    {
     "data": {
      "text/plain": [
       "array([False, False,  True], dtype=bool)"
      ]
     },
     "execution_count": 20,
     "metadata": {},
     "output_type": "execute_result"
    }
   ],
   "source": [
    "chunks[0]['variants/FILTER_PASS']"
   ]
  },
  {
   "cell_type": "code",
   "execution_count": 21,
   "metadata": {
    "collapsed": false
   },
   "outputs": [
    {
     "data": {
      "text/plain": [
       "array([-1, -1,  3], dtype=int32)"
      ]
     },
     "execution_count": 21,
     "metadata": {},
     "output_type": "execute_result"
    }
   ],
   "source": [
    "chunks[0]['variants/NS']"
   ]
  },
  {
   "cell_type": "code",
   "execution_count": 22,
   "metadata": {
    "collapsed": false
   },
   "outputs": [
    {
     "data": {
      "text/plain": [
       "array([-1, -1, 14])"
      ]
     },
     "execution_count": 22,
     "metadata": {},
     "output_type": "execute_result"
    }
   ],
   "source": [
    "chunks[0]['variants/DP']"
   ]
  },
  {
   "cell_type": "code",
   "execution_count": 23,
   "metadata": {
    "collapsed": false
   },
   "outputs": [
    {
     "data": {
      "text/plain": [
       "array([[ nan,  nan],\n",
       "       [ nan,  nan],\n",
       "       [ 0.5,  nan]])"
      ]
     },
     "execution_count": 23,
     "metadata": {},
     "output_type": "execute_result"
    }
   ],
   "source": [
    "chunks[0]['variants/AF']"
   ]
  },
  {
   "cell_type": "code",
   "execution_count": 24,
   "metadata": {
    "collapsed": false
   },
   "outputs": [
    {
     "data": {
      "text/plain": [
       "array([[ 3,  1, -1],\n",
       "       [-1, -1, -1],\n",
       "       [-1, -1, -1]], dtype=int32)"
      ]
     },
     "execution_count": 24,
     "metadata": {},
     "output_type": "execute_result"
    }
   ],
   "source": [
    "chunks[-1]['variants/AC']"
   ]
  },
  {
   "cell_type": "code",
   "execution_count": 25,
   "metadata": {
    "collapsed": false
   },
   "outputs": [
    {
     "data": {
      "text/plain": [
       "array([-1, -1,  3], dtype=int32)"
      ]
     },
     "execution_count": 25,
     "metadata": {},
     "output_type": "execute_result"
    }
   ],
   "source": [
    "chunks[0]['variants/NS']"
   ]
  },
  {
   "cell_type": "code",
   "execution_count": 26,
   "metadata": {
    "collapsed": false
   },
   "outputs": [
    {
     "data": {
      "text/plain": [
       "array([-1, -1, -1], dtype=int32)"
      ]
     },
     "execution_count": 26,
     "metadata": {},
     "output_type": "execute_result"
    }
   ],
   "source": [
    "chunks[0]['variants/AN']"
   ]
  },
  {
   "cell_type": "code",
   "execution_count": 27,
   "metadata": {
    "collapsed": false
   },
   "outputs": [
    {
     "data": {
      "text/plain": [
       "array([False, False,  True], dtype=bool)"
      ]
     },
     "execution_count": 27,
     "metadata": {},
     "output_type": "execute_result"
    }
   ],
   "source": [
    "chunks[0]['variants/DB']"
   ]
  },
  {
   "cell_type": "code",
   "execution_count": 28,
   "metadata": {
    "collapsed": false
   },
   "outputs": [
    {
     "data": {
      "text/plain": [
       "array([False, False,  True], dtype=bool)"
      ]
     },
     "execution_count": 28,
     "metadata": {},
     "output_type": "execute_result"
    }
   ],
   "source": [
    "chunks[0]['variants/H2']"
   ]
  },
  {
   "cell_type": "code",
   "execution_count": 29,
   "metadata": {
    "collapsed": false
   },
   "outputs": [
    {
     "data": {
      "text/plain": [
       "array([[b'', b''],\n",
       "       [b'T', b''],\n",
       "       [b'T', b'']], \n",
       "      dtype='|S12')"
      ]
     },
     "execution_count": 29,
     "metadata": {},
     "output_type": "execute_result"
    }
   ],
   "source": [
    "chunks[1]['variants/AA']"
   ]
  },
  {
   "cell_type": "code",
   "execution_count": 30,
   "metadata": {
    "collapsed": false
   },
   "outputs": [
    {
     "data": {
      "text/plain": [
       "array([[[0, 0],\n",
       "        [0, 0],\n",
       "        [0, 1]],\n",
       "\n",
       "       [[0, 0],\n",
       "        [0, 0],\n",
       "        [0, 1]],\n",
       "\n",
       "       [[0, 0],\n",
       "        [1, 0],\n",
       "        [1, 1]]], dtype=int8)"
      ]
     },
     "execution_count": 30,
     "metadata": {},
     "output_type": "execute_result"
    }
   ],
   "source": [
    "chunks[0]['calldata/GT']"
   ]
  },
  {
   "cell_type": "code",
   "execution_count": 31,
   "metadata": {
    "collapsed": false
   },
   "outputs": [
    {
     "data": {
      "text/plain": [
       "array([[-1, -1, -1],\n",
       "       [-1, -1, -1],\n",
       "       [48, 48, 43]], dtype=int8)"
      ]
     },
     "execution_count": 31,
     "metadata": {},
     "output_type": "execute_result"
    }
   ],
   "source": [
    "chunks[0]['calldata/GQ']"
   ]
  },
  {
   "cell_type": "code",
   "execution_count": 32,
   "metadata": {
    "collapsed": false
   },
   "outputs": [
    {
     "data": {
      "text/plain": [
       "array([[[10, 10],\n",
       "        [10, 10],\n",
       "        [ 3,  3]],\n",
       "\n",
       "       [[10, 10],\n",
       "        [10, 10],\n",
       "        [ 3,  3]],\n",
       "\n",
       "       [[51, 51],\n",
       "        [51, 51],\n",
       "        [-1, -1]]], dtype=int8)"
      ]
     },
     "execution_count": 32,
     "metadata": {},
     "output_type": "execute_result"
    }
   ],
   "source": [
    "chunks[0]['calldata/HQ']"
   ]
  },
  {
   "cell_type": "code",
   "execution_count": 33,
   "metadata": {
    "collapsed": false
   },
   "outputs": [
    {
     "data": {
      "text/plain": [
       "array([[-1, -1, -1],\n",
       "       [-1, -1, -1],\n",
       "       [ 1,  8,  5]], dtype=int16)"
      ]
     },
     "execution_count": 33,
     "metadata": {},
     "output_type": "execute_result"
    }
   ],
   "source": [
    "chunks[0]['calldata/DP']"
   ]
  },
  {
   "cell_type": "code",
   "execution_count": 34,
   "metadata": {
    "collapsed": false
   },
   "outputs": [
    {
     "data": {
      "text/plain": [
       "['calldata/GT',\n",
       " 'samples',\n",
       " 'variants/ALT',\n",
       " 'variants/CHROM',\n",
       " 'variants/FILTER_PASS',\n",
       " 'variants/ID',\n",
       " 'variants/POS',\n",
       " 'variants/QUAL',\n",
       " 'variants/REF']"
      ]
     },
     "execution_count": 34,
     "metadata": {},
     "output_type": "execute_result"
    }
   ],
   "source": [
    "callset = read_vcf(sample_vcf_fn, buffer_size=2**15, chunk_length=1000)\n",
    "sorted(callset.keys())"
   ]
  },
  {
   "cell_type": "code",
   "execution_count": 35,
   "metadata": {
    "collapsed": true
   },
   "outputs": [],
   "source": [
    "callset = read_vcf(sample_vcf_fn, fields='FILTER',\n",
    "                   buffer_size=2**15, chunk_length=1000)"
   ]
  },
  {
   "cell_type": "code",
   "execution_count": 36,
   "metadata": {
    "collapsed": false
   },
   "outputs": [
    {
     "data": {
      "text/plain": [
       "['samples',\n",
       " 'variants/FILTER_PASS',\n",
       " 'variants/FILTER_q10',\n",
       " 'variants/FILTER_s50']"
      ]
     },
     "execution_count": 36,
     "metadata": {},
     "output_type": "execute_result"
    }
   ],
   "source": [
    "sorted(callset.keys())"
   ]
  },
  {
   "cell_type": "code",
   "execution_count": 37,
   "metadata": {
    "collapsed": false
   },
   "outputs": [
    {
     "data": {
      "text/plain": [
       "array([b'NA00001', b'NA00002', b'NA00003'], \n",
       "      dtype='|S7')"
      ]
     },
     "execution_count": 37,
     "metadata": {},
     "output_type": "execute_result"
    }
   ],
   "source": [
    "callset['samples']"
   ]
  },
  {
   "cell_type": "code",
   "execution_count": 38,
   "metadata": {
    "collapsed": false
   },
   "outputs": [
    {
     "data": {
      "text/plain": [
       "array([False, False, False,  True, False, False, False, False, False], dtype=bool)"
      ]
     },
     "execution_count": 38,
     "metadata": {},
     "output_type": "execute_result"
    }
   ],
   "source": [
    "callset['variants/FILTER_q10']"
   ]
  },
  {
   "cell_type": "code",
   "execution_count": 39,
   "metadata": {
    "collapsed": false
   },
   "outputs": [
    {
     "data": {
      "text/plain": [
       "array([False, False, False, False, False, False, False, False, False], dtype=bool)"
      ]
     },
     "execution_count": 39,
     "metadata": {},
     "output_type": "execute_result"
    }
   ],
   "source": [
    "callset['variants/FILTER_s50']"
   ]
  },
  {
   "cell_type": "code",
   "execution_count": 40,
   "metadata": {
    "collapsed": true
   },
   "outputs": [],
   "source": [
    "callset = read_vcf(sample_vcf_fn, fields='variants/*')"
   ]
  },
  {
   "cell_type": "code",
   "execution_count": 41,
   "metadata": {
    "collapsed": false
   },
   "outputs": [
    {
     "data": {
      "text/plain": [
       "['calldata/DP',\n",
       " 'calldata/GQ',\n",
       " 'calldata/GT',\n",
       " 'calldata/HQ',\n",
       " 'samples',\n",
       " 'variants/AA',\n",
       " 'variants/AC',\n",
       " 'variants/AF',\n",
       " 'variants/ALT',\n",
       " 'variants/AN',\n",
       " 'variants/CHROM',\n",
       " 'variants/DB',\n",
       " 'variants/DP',\n",
       " 'variants/FILTER_PASS',\n",
       " 'variants/FILTER_q10',\n",
       " 'variants/FILTER_s50',\n",
       " 'variants/H2',\n",
       " 'variants/ID',\n",
       " 'variants/NS',\n",
       " 'variants/POS',\n",
       " 'variants/QUAL',\n",
       " 'variants/REF']"
      ]
     },
     "execution_count": 41,
     "metadata": {},
     "output_type": "execute_result"
    }
   ],
   "source": [
    "callset = read_vcf(sample_vcf_fn, fields='*', numbers=dict(ALT=1, AA=1),\n",
    "                   buffer_size=2**15, chunk_length=1000)\n",
    "sorted(callset.keys())"
   ]
  },
  {
   "cell_type": "code",
   "execution_count": 42,
   "metadata": {
    "collapsed": false
   },
   "outputs": [
    {
     "data": {
      "text/plain": [
       "(9,)"
      ]
     },
     "execution_count": 42,
     "metadata": {},
     "output_type": "execute_result"
    }
   ],
   "source": [
    "callset['variants/ALT'].shape"
   ]
  },
  {
   "cell_type": "code",
   "execution_count": 43,
   "metadata": {
    "collapsed": false
   },
   "outputs": [
    {
     "data": {
      "text/plain": [
       "array([b'C', b'G', b'A', b'A', b'G', b'.', b'G', b'.', b'A'], \n",
       "      dtype='|S1')"
      ]
     },
     "execution_count": 43,
     "metadata": {},
     "output_type": "execute_result"
    }
   ],
   "source": [
    "callset['variants/ALT']"
   ]
  },
  {
   "cell_type": "code",
   "execution_count": 44,
   "metadata": {
    "collapsed": false
   },
   "outputs": [
    {
     "data": {
      "text/plain": [
       "array([b'', b'', b'', b'', b'T', b'T', b'G', b'', b''], \n",
       "      dtype='|S12')"
      ]
     },
     "execution_count": 44,
     "metadata": {},
     "output_type": "execute_result"
    }
   ],
   "source": [
    "callset['variants/AA']"
   ]
  },
  {
   "cell_type": "code",
   "execution_count": 45,
   "metadata": {
    "collapsed": false
   },
   "outputs": [],
   "source": [
    "callset = read_vcf(prof_vcf_fn, buffer_size=2**15, chunk_length=1000)"
   ]
  },
  {
   "cell_type": "code",
   "execution_count": 46,
   "metadata": {
    "collapsed": false
   },
   "outputs": [
    {
     "data": {
      "text/plain": [
       "['calldata/GT',\n",
       " 'samples',\n",
       " 'variants/ALT',\n",
       " 'variants/CHROM',\n",
       " 'variants/FILTER_PASS',\n",
       " 'variants/ID',\n",
       " 'variants/POS',\n",
       " 'variants/QUAL',\n",
       " 'variants/REF']"
      ]
     },
     "execution_count": 46,
     "metadata": {},
     "output_type": "execute_result"
    }
   ],
   "source": [
    "sorted(callset.keys())"
   ]
  },
  {
   "cell_type": "code",
   "execution_count": 47,
   "metadata": {
    "collapsed": false
   },
   "outputs": [
    {
     "data": {
      "text/plain": [
       "array([b'AB0085-C', b'AB0087-C', b'AB0088-C', b'AB0089-C', b'AB0090-C',\n",
       "       b'AB0091-C', b'AB0092-C', b'AB0094-C', b'AB0095-C', b'AB0097-C',\n",
       "       b'AB0098-C', b'AB0099-C', b'AB0100-C', b'AB0101-C', b'AB0103-C',\n",
       "       b'AB0104-C', b'AB0109-C', b'AB0110-C', b'AB0111-C', b'AB0112-C',\n",
       "       b'AB0113-C', b'AB0114-C', b'AB0117-C', b'AB0119-C', b'AB0122-C',\n",
       "       b'AB0123-C', b'AB0124-C', b'AB0126-C', b'AB0127-C', b'AB0128-C',\n",
       "       b'AB0129-C', b'AB0130-C', b'AB0133-C', b'AB0134-C', b'AB0135-C',\n",
       "       b'AB0136-C', b'AB0137-C', b'AB0138-C', b'AB0139-C', b'AB0140-C',\n",
       "       b'AB0142-C', b'AB0143-C', b'AB0145-C', b'AB0146-C', b'AB0147-C',\n",
       "       b'AB0148-C', b'AB0151-C', b'AB0153-C', b'AB0155-C', b'AB0157-C',\n",
       "       b'AB0158-C', b'AB0159-C', b'AB0160-C', b'AB0161-C', b'AB0164-C',\n",
       "       b'AB0166-C', b'AB0169-C', b'AB0170-C', b'AB0171-C', b'AB0172-C',\n",
       "       b'AB0173-C', b'AB0174-C', b'AB0175-C', b'AB0176-C', b'AB0177-C',\n",
       "       b'AB0178-C', b'AB0179-C', b'AB0181-C', b'AB0182-C', b'AB0183-C',\n",
       "       b'AB0184-C', b'AB0185-C', b'AB0186-C', b'AB0187-C', b'AB0188-C',\n",
       "       b'AB0189-C', b'AB0190-C', b'AB0191-C', b'AB0192-C', b'AB0197-C',\n",
       "       b'AB0198-C', b'AB0199-C', b'AB0201-C', b'AB0202-C', b'AB0203-C',\n",
       "       b'AB0204-C', b'AB0205-C', b'AB0206-C', b'AB0207-C', b'AB0208-C',\n",
       "       b'AB0209-C', b'AB0210-C', b'AB0211-C', b'AB0212-C', b'AB0213-C',\n",
       "       b'AB0217-C', b'AB0219-C', b'AB0221-C', b'AB0222-C', b'AB0223-C',\n",
       "       b'AB0224-C', b'AB0226-C', b'AB0227-C', b'AB0228-C', b'AB0229-C',\n",
       "       b'AB0231-C', b'AB0233-C', b'AB0234-C', b'AB0235-C', b'AB0236-C',\n",
       "       b'AB0237-C', b'AB0238-C', b'AB0239-C', b'AB0240-C', b'AB0241-C',\n",
       "       b'AB0242-C', b'AB0243-C', b'AB0244-C', b'AB0246-C', b'AB0249-C',\n",
       "       b'AB0250-C', b'AB0251-C', b'AB0252-C', b'AB0253-C', b'AB0256-C',\n",
       "       b'AB0257-C', b'AB0258-C', b'AB0260-C', b'AB0261-C', b'AB0262-C',\n",
       "       b'AB0263-C', b'AB0264-C', b'AB0265-C', b'AB0266-C', b'AB0267-C',\n",
       "       b'AB0268-C', b'AB0270-C', b'AB0271-C', b'AB0272-C', b'AB0273-C',\n",
       "       b'AB0274-C', b'AB0276-C', b'AB0277-C', b'AB0278-C', b'AB0279-C',\n",
       "       b'AB0280-C', b'AB0281-C', b'AB0282-C', b'AB0283-C', b'AB0284-C',\n",
       "       b'AC0090-C', b'AC0091-C', b'AC0092-C', b'AC0093-C', b'AC0094-C',\n",
       "       b'AC0095-C', b'AC0096-C', b'AC0097-C', b'AC0098-C', b'AC0099-C',\n",
       "       b'AC0100-C', b'AC0101-C', b'AC0102-C', b'AC0103-C', b'AC0104-C',\n",
       "       b'AC0106-C', b'AC0107-C', b'AC0108-C', b'AC0109-C', b'AC0110-C',\n",
       "       b'AC0111-C', b'AC0112-C', b'AC0113-C', b'AC0114-C', b'AC0115-C',\n",
       "       b'AC0116-C', b'AC0117-C', b'AC0118-C', b'AC0119-C', b'AC0120-C',\n",
       "       b'AC0121-C', b'AC0122-C', b'AC0123-C', b'AC0124-C', b'AC0125-C',\n",
       "       b'AC0126-C', b'AC0127-C', b'AC0128-C', b'AC0129-C', b'AC0130-C',\n",
       "       b'AC0131-C', b'AC0132-C', b'AC0133-C', b'AC0135-C', b'AC0136-C',\n",
       "       b'AC0137-C', b'AC0138-C', b'AC0139-C', b'AC0140-C', b'AC0142-C',\n",
       "       b'AC0143-C', b'AC0144-C', b'AC0145-C', b'AC0147-C', b'AC0148-C',\n",
       "       b'AC0149-C', b'AC0150-C', b'AC0151-C', b'AC0152-C', b'AC0153-C',\n",
       "       b'AC0154-C', b'AC0156-C', b'AC0158-C', b'AC0159-C', b'AC0160-C',\n",
       "       b'AC0161-C', b'AC0162-C', b'AC0163-C', b'AC0164-C', b'AC0166-C',\n",
       "       b'AC0167-C', b'AC0168-C', b'AC0169-C', b'AC0170-C', b'AC0171-C',\n",
       "       b'AC0172-C', b'AC0173-C', b'AC0174-C', b'AC0176-C', b'AC0178-C',\n",
       "       b'AC0179-C', b'AC0180-C', b'AC0181-C', b'AC0182-C', b'AC0183-C',\n",
       "       b'AC0184-C', b'AC0186-C', b'AC0187-C', b'AC0188-C', b'AC0189-C',\n",
       "       b'AC0190-C', b'AC0191-C', b'AC0192-C', b'AC0193-C', b'AC0194-C',\n",
       "       b'AC0195-C', b'AC0196-C', b'AC0197-C', b'AC0199-C', b'AC0200-C',\n",
       "       b'AC0201-C', b'AC0202-C', b'AC0203-C', b'AJ0023-C', b'AJ0024-C',\n",
       "       b'AJ0032-C', b'AJ0035-C', b'AJ0036-C', b'AJ0039-C', b'AJ0043-C',\n",
       "       b'AJ0044-C', b'AJ0045-C', b'AJ0047-C', b'AJ0051-C', b'AJ0052-C',\n",
       "       b'AJ0056-C', b'AJ0061-C', b'AJ0063-C', b'AJ0064-C', b'AJ0066-C',\n",
       "       b'AJ0070-C', b'AJ0071-C', b'AJ0072-C', b'AJ0074-C', b'AJ0075-C',\n",
       "       b'AJ0076-C', b'AJ0077-C', b'AJ0078-C', b'AJ0081-C', b'AJ0084-C',\n",
       "       b'AJ0085-C', b'AJ0086-C', b'AJ0088-C', b'AJ0090-C', b'AJ0092-C',\n",
       "       b'AJ0093-C', b'AJ0096-C', b'AJ0097-C', b'AJ0098-C', b'AJ0100-C',\n",
       "       b'AJ0101-C', b'AJ0102-C', b'AJ0103-C', b'AJ0105-C', b'AJ0107-C',\n",
       "       b'AJ0109-C', b'AJ0113-C', b'AJ0115-C', b'AJ0116-C', b'AK0065-C',\n",
       "       b'AK0066-C', b'AK0067-C', b'AK0068-C', b'AK0069-C', b'AK0070-C',\n",
       "       b'AK0072-C', b'AK0073-C', b'AK0074-C', b'AK0075-C', b'AK0076-C',\n",
       "       b'AK0077-C', b'AK0078-C', b'AK0079-C', b'AK0080-C', b'AK0081-C',\n",
       "       b'AK0082-C', b'AK0085-C', b'AK0086-C', b'AK0087-C', b'AK0088-C',\n",
       "       b'AK0089-C', b'AK0090-C', b'AK0091-C', b'AK0092-C', b'AK0093-C',\n",
       "       b'AK0094-C', b'AK0095-C', b'AK0096-C', b'AK0098-C', b'AK0099-C',\n",
       "       b'AK0100-C', b'AK0101-C', b'AK0102-C', b'AK0103-C', b'AK0104-C',\n",
       "       b'AK0105-C', b'AK0106-C', b'AK0108-C', b'AK0109-C', b'AK0110-C',\n",
       "       b'AK0116-C', b'AK0119-C', b'AK0127-C', b'AN0007-C', b'AN0008-C',\n",
       "       b'AN0009-C', b'AN0010-C', b'AN0011-C', b'AN0012-C', b'AN0014-C',\n",
       "       b'AN0016-C', b'AN0017-C', b'AN0018-C', b'AN0019-C', b'AN0020-C',\n",
       "       b'AN0022-C', b'AN0023-C', b'AN0024-C', b'AN0025-C', b'AN0026-C',\n",
       "       b'AN0027-C', b'AN0028-C', b'AN0029-C', b'AN0030-C', b'AN0031-C',\n",
       "       b'AN0032-C', b'AN0033-C', b'AN0034-C', b'AN0035-C', b'AN0036-C',\n",
       "       b'AN0037-C', b'AN0038-C', b'AN0039-C', b'AN0040-C', b'AN0041-C',\n",
       "       b'AN0042-C', b'AN0043-C', b'AN0045-C', b'AN0046-C', b'AN0047-C',\n",
       "       b'AN0048-C', b'AN0049-C', b'AN0050-C', b'AN0051-C', b'AN0053-C',\n",
       "       b'AN0054-C', b'AN0055-C', b'AN0056-C', b'AN0057-C', b'AN0058-C',\n",
       "       b'AN0059-C', b'AN0060-C', b'AN0063-C', b'AN0064-C', b'AN0065-C',\n",
       "       b'AN0066-C', b'AN0067-C', b'AN0068-C', b'AN0069-C', b'AN0070-C',\n",
       "       b'AN0071-C', b'AN0072-C', b'AN0073-C', b'AN0074-C', b'AN0075-C',\n",
       "       b'AN0076-C', b'AN0077-C', b'AN0079-C', b'AN0080-C', b'AN0081-C',\n",
       "       b'AN0082-C', b'AN0083-C', b'AN0084-C', b'AN0085-C', b'AN0086-C',\n",
       "       b'AN0087-C', b'AN0088-C', b'AN0089-C', b'AN0090-C', b'AN0091-C',\n",
       "       b'AN0092-C', b'AN0093-C', b'AN0094-C', b'AN0095-C', b'AN0096-C',\n",
       "       b'AN0097-C', b'AN0098-C', b'AN0099-C', b'AN0100-C', b'AN0101-C',\n",
       "       b'AN0102-C', b'AN0103-C', b'AN0104-C', b'AN0105-C', b'AN0106-C',\n",
       "       b'AN0107-C', b'AN0108-C', b'AN0109-C', b'AN0111-C', b'AN0112-C',\n",
       "       b'AN0113-C', b'AN0114-C', b'AN0115-C', b'AN0117-C', b'AN0120-C',\n",
       "       b'AN0121-C', b'AN0122-C', b'AN0123-C', b'AN0124-C', b'AN0125-C',\n",
       "       b'AN0126-C', b'AN0127-C', b'AN0128-C', b'AN0129-C', b'AN0130-C',\n",
       "       b'AN0131-C', b'AN0132-C', b'AN0134-C', b'AN0135-C', b'AN0136-C',\n",
       "       b'AN0137-C', b'AN0138-C', b'AN0139-C', b'AN0140-C', b'AN0141-C',\n",
       "       b'AN0143-C', b'AN0147-C', b'AN0149-C', b'AN0151-C', b'AN0152-C',\n",
       "       b'AN0153-C', b'AN0154-C', b'AN0155-C', b'AN0156-C', b'AN0157-C',\n",
       "       b'AN0158-C', b'AN0159-C', b'AN0160-C', b'AN0162-C', b'AN0163-C',\n",
       "       b'AN0164-C', b'AN0165-C', b'AN0166-C', b'AN0167-C', b'AN0168-C',\n",
       "       b'AN0169-C', b'AN0170-C', b'AN0171-C', b'AN0172-C', b'AN0173-C',\n",
       "       b'AN0174-C', b'AN0175-C', b'AN0176-C', b'AN0177-C', b'AN0178-C',\n",
       "       b'AN0179-C', b'AN0180-C', b'AN0181-C', b'AN0182-C', b'AN0183-C',\n",
       "       b'AN0184-C', b'AN0185-C', b'AN0186-C', b'AN0187-C', b'AN0188-C',\n",
       "       b'AN0189-C', b'AN0190-C', b'AN0191-C', b'AN0192-C', b'AN0193-C',\n",
       "       b'AN0194-C', b'AN0196-C', b'AN0197-C', b'AN0198-C', b'AN0199-C',\n",
       "       b'AN0200-C', b'AN0201-C', b'AN0202-C', b'AN0203-C', b'AN0204-C',\n",
       "       b'AN0205-C', b'AN0206-C', b'AN0207-C', b'AN0208-C', b'AN0209-C',\n",
       "       b'AN0210-C', b'AN0212-C', b'AN0213-C', b'AN0214-C', b'AN0215-C',\n",
       "       b'AN0217-C', b'AN0218-C', b'AN0219-C', b'AN0220-C', b'AN0221-C',\n",
       "       b'AN0222-C', b'AN0223-C', b'AN0224-C', b'AN0225-C', b'AN0226-C',\n",
       "       b'AN0227-C', b'AN0228-C', b'AN0229-C', b'AN0230-C', b'AN0231-C',\n",
       "       b'AN0233-C', b'AN0234-C', b'AN0235-C', b'AN0236-C', b'AN0237-C',\n",
       "       b'AN0238-C', b'AN0239-C', b'AN0240-C', b'AN0241-C', b'AN0242-C',\n",
       "       b'AN0243-C', b'AN0244-C', b'AN0245-C', b'AN0246-C', b'AN0247-C',\n",
       "       b'AN0248-C', b'AN0250-C', b'AN0251-C', b'AN0252-C', b'AN0253-C',\n",
       "       b'AN0254-C', b'AN0255-C', b'AN0256-C', b'AN0258-C', b'AN0259-C',\n",
       "       b'AN0260-C', b'AN0261-C', b'AN0262-C', b'AN0263-C', b'AN0264-C',\n",
       "       b'AN0266-C', b'AN0267-C', b'AN0268-C', b'AN0269-C', b'AN0270-C',\n",
       "       b'AN0272-C', b'AN0275-C', b'AN0276-C', b'AN0277-C', b'AN0280-C',\n",
       "       b'AN0282-C', b'AN0283-C', b'AN0284-C', b'AN0285-C', b'AN0286-C',\n",
       "       b'AN0287-C', b'AN0288-C', b'AN0290-C', b'AN0291-C', b'AN0292-C',\n",
       "       b'AN0294-C', b'AN0295-C', b'AN0296-C', b'AN0297-C', b'AN0298-C',\n",
       "       b'AN0299-C', b'AN0300-C', b'AN0301-C', b'AN0303-C', b'AN0304-C',\n",
       "       b'AN0305-C', b'AN0307-C', b'AN0308-C', b'AN0309-C', b'AN0310-C',\n",
       "       b'AN0312-C', b'AN0313-C', b'AN0314-C', b'AN0315-C', b'AN0317-C',\n",
       "       b'AN0318-C', b'AN0319-C', b'AN0321-C', b'AR0007-C', b'AR0008-C',\n",
       "       b'AR0009-C', b'AR0010-C', b'AR0011-C', b'AR0012-C', b'AR0014-C',\n",
       "       b'AR0015-C', b'AR0017-C', b'AR0019-C', b'AR0020-C', b'AR0021-C',\n",
       "       b'AR0022-C', b'AR0023-C', b'AR0024-C', b'AR0026-C', b'AR0027-C',\n",
       "       b'AR0034-C', b'AR0035-C', b'AR0042-C', b'AR0043-C', b'AR0045-C',\n",
       "       b'AR0047-C', b'AR0049-C', b'AR0050-C', b'AR0051-C', b'AR0053-C',\n",
       "       b'AR0054-C', b'AR0057-C', b'AR0059-C', b'AR0061-C', b'AR0062-C',\n",
       "       b'AR0063-C', b'AR0065-C', b'AR0066-C', b'AR0069-C', b'AR0070-C',\n",
       "       b'AR0071-C', b'AR0072-C', b'AR0073-C', b'AR0074-C', b'AR0075-C',\n",
       "       b'AR0076-C', b'AR0078-C', b'AR0079-C', b'AR0080-C', b'AR0081-C',\n",
       "       b'AR0083-C', b'AR0084-C', b'AR0086-C', b'AR0087-C', b'AR0089-C',\n",
       "       b'AR0090-C', b'AR0092-C', b'AR0093-C', b'AR0095-C', b'AR0096-C',\n",
       "       b'AR0098-C', b'AR0099-C', b'AR0100-C', b'AS0001-C', b'AS0002-C',\n",
       "       b'AS0003-C', b'AS0004-C', b'AS0006-C', b'AS0007-C', b'AS0008-C',\n",
       "       b'AS0009-C', b'AS0010-C', b'AS0011-C', b'AS0012-C', b'AS0013-C',\n",
       "       b'AS0014-C', b'AS0015-C', b'AS0016-C', b'AS0017-C', b'AS0018-C',\n",
       "       b'AS0019-C', b'AS0020-C', b'AS0021-C', b'AS0022-C', b'AS0024-C',\n",
       "       b'AS0026-C', b'AS0028-C', b'AS0030-C', b'AS0032-C', b'AS0033-C',\n",
       "       b'AS0034-C', b'AS0035-C', b'AS0036-C', b'AS0037-C', b'AS0039-C',\n",
       "       b'AS0042-C', b'AS0044-C', b'AS0045-C', b'AS0047-C', b'AS0049-C',\n",
       "       b'AS0052-C', b'AS0053-C', b'AS0054-C', b'AS0055-C', b'AS0056-C',\n",
       "       b'AS0058-C', b'AS0059-C', b'AS0064-C', b'AS0065-C', b'AS0066-C',\n",
       "       b'AS0068-C', b'AS0069-C', b'AS0070-C', b'AS0071-C', b'AS0072-C',\n",
       "       b'AS0073-C', b'AS0074-C', b'AS0076-C', b'AS0077-C', b'AV0001-C',\n",
       "       b'AV0002-C', b'AV0003-C', b'AV0004-C', b'AV0005-C', b'AV0007-C',\n",
       "       b'AV0008-C', b'AV0009-C', b'AV0010-C', b'AV0011-C', b'AV0012-C',\n",
       "       b'AV0013-C', b'AV0014-C', b'AV0015-C', b'AV0018-C', b'AV0024-C',\n",
       "       b'AV0026-C', b'AV0027-C', b'AV0029-C', b'AV0030-C', b'AV0031-C',\n",
       "       b'AV0032-C', b'AV0033-C', b'AV0034-C', b'AV0035-C', b'AV0036-C',\n",
       "       b'AV0039-C', b'AV0041-C', b'AV0044-C', b'AV0045-C', b'AV0047-C',\n",
       "       b'AD0231-C', b'AD0232-C', b'AD0254-C', b'AD0255-C', b'AD0305-C',\n",
       "       b'AD0306-C', b'AD0347-C', b'AD0348-C'], \n",
       "      dtype='|S8')"
      ]
     },
     "execution_count": 47,
     "metadata": {},
     "output_type": "execute_result"
    }
   ],
   "source": [
    "callset['samples']"
   ]
  },
  {
   "cell_type": "code",
   "execution_count": 48,
   "metadata": {
    "collapsed": false
   },
   "outputs": [
    {
     "data": {
      "text/plain": [
       "(1967, 773, 2)"
      ]
     },
     "execution_count": 48,
     "metadata": {},
     "output_type": "execute_result"
    }
   ],
   "source": [
    "callset['calldata/GT'].shape"
   ]
  },
  {
   "cell_type": "code",
   "execution_count": 49,
   "metadata": {
    "collapsed": false
   },
   "outputs": [
    {
     "data": {
      "text/plain": [
       "(1967, 773, 2)"
      ]
     },
     "execution_count": 49,
     "metadata": {},
     "output_type": "execute_result"
    }
   ],
   "source": [
    "callset['calldata/GT'].shape"
   ]
  },
  {
   "cell_type": "code",
   "execution_count": 50,
   "metadata": {
    "collapsed": false
   },
   "outputs": [
    {
     "data": {
      "text/plain": [
       "array([b'2L', b'2L', b'2L', ..., b'2L', b'2L', b'2L'], \n",
       "      dtype='|S12')"
      ]
     },
     "execution_count": 50,
     "metadata": {},
     "output_type": "execute_result"
    }
   ],
   "source": [
    "callset['variants/CHROM']"
   ]
  },
  {
   "cell_type": "code",
   "execution_count": 51,
   "metadata": {
    "collapsed": false
   },
   "outputs": [
    {
     "data": {
      "text/plain": [
       "array([2353212, 2353223, 2353234, ..., 2436558, 2436585, 2436615], dtype=int32)"
      ]
     },
     "execution_count": 51,
     "metadata": {},
     "output_type": "execute_result"
    }
   ],
   "source": [
    "callset['variants/POS']"
   ]
  },
  {
   "cell_type": "code",
   "execution_count": 52,
   "metadata": {
    "collapsed": false
   },
   "outputs": [
    {
     "data": {
      "text/plain": [
       "array([b'G', b'T', b'G', ..., b'G', b'A', b'C'], \n",
       "      dtype='|S1')"
      ]
     },
     "execution_count": 52,
     "metadata": {},
     "output_type": "execute_result"
    }
   ],
   "source": [
    "callset['variants/REF']"
   ]
  },
  {
   "cell_type": "code",
   "execution_count": 53,
   "metadata": {
    "collapsed": false
   },
   "outputs": [
    {
     "data": {
      "text/plain": [
       "array([[b'A', b'', b''],\n",
       "       [b'G', b'', b''],\n",
       "       [b'C', b'', b''],\n",
       "       ..., \n",
       "       [b'A', b'', b''],\n",
       "       [b'C', b'', b''],\n",
       "       [b'A', b'', b'']], \n",
       "      dtype='|S1')"
      ]
     },
     "execution_count": 53,
     "metadata": {},
     "output_type": "execute_result"
    }
   ],
   "source": [
    "callset['variants/ALT']"
   ]
  },
  {
   "cell_type": "markdown",
   "metadata": {},
   "source": [
    "## Format conversion"
   ]
  },
  {
   "cell_type": "code",
   "execution_count": 54,
   "metadata": {
    "collapsed": false
   },
   "outputs": [
    {
     "ename": "ValueError",
     "evalue": "file exists at path 'sample.npz'; use overwrite=True to replace",
     "output_type": "error",
     "traceback": [
      "\u001b[0;31m---------------------------------------------------------------------------\u001b[0m",
      "\u001b[0;31mValueError\u001b[0m                                Traceback (most recent call last)",
      "\u001b[0;32m<ipython-input-54-fe36617e2a57>\u001b[0m in \u001b[0;36m<module>\u001b[0;34m()\u001b[0m\n\u001b[1;32m      1\u001b[0m \u001b[0mnpz_fn\u001b[0m \u001b[0;34m=\u001b[0m \u001b[0;34m'sample.npz'\u001b[0m\u001b[0;34m\u001b[0m\u001b[0m\n\u001b[0;32m----> 2\u001b[0;31m \u001b[0mvcf_to_npz\u001b[0m\u001b[0;34m(\u001b[0m\u001b[0msample_vcf_fn\u001b[0m\u001b[0;34m,\u001b[0m \u001b[0mnpz_fn\u001b[0m\u001b[0;34m,\u001b[0m \u001b[0mfields\u001b[0m\u001b[0;34m=\u001b[0m\u001b[0;34m'*'\u001b[0m\u001b[0;34m,\u001b[0m \u001b[0mchunk_length\u001b[0m\u001b[0;34m=\u001b[0m\u001b[0;36m3\u001b[0m\u001b[0;34m,\u001b[0m \u001b[0moverwrite\u001b[0m\u001b[0;34m=\u001b[0m\u001b[0;32mFalse\u001b[0m\u001b[0;34m)\u001b[0m\u001b[0;34m\u001b[0m\u001b[0m\n\u001b[0m",
      "\u001b[0;32m/home/aliman/src/github/cggh/scikit-allel/allel/io_vcf_read.py\u001b[0m in \u001b[0;36mvcf_to_npz\u001b[0;34m(input_path, output_path, compressed, overwrite, fields, types, numbers, buffer_size, chunk_length)\u001b[0m\n\u001b[1;32m    144\u001b[0m     \u001b[0;32mif\u001b[0m \u001b[0;32mnot\u001b[0m \u001b[0moverwrite\u001b[0m \u001b[0;32mand\u001b[0m \u001b[0mos\u001b[0m\u001b[0;34m.\u001b[0m\u001b[0mpath\u001b[0m\u001b[0;34m.\u001b[0m\u001b[0mexists\u001b[0m\u001b[0;34m(\u001b[0m\u001b[0moutput_path\u001b[0m\u001b[0;34m)\u001b[0m\u001b[0;34m:\u001b[0m\u001b[0;34m\u001b[0m\u001b[0m\n\u001b[1;32m    145\u001b[0m         \u001b[0;31m# TODO right exception class?\u001b[0m\u001b[0;34m\u001b[0m\u001b[0;34m\u001b[0m\u001b[0m\n\u001b[0;32m--> 146\u001b[0;31m         \u001b[0;32mraise\u001b[0m \u001b[0mValueError\u001b[0m\u001b[0;34m(\u001b[0m\u001b[0;34m'file exists at path %r; use overwrite=True to replace'\u001b[0m \u001b[0;34m%\u001b[0m \u001b[0moutput_path\u001b[0m\u001b[0;34m)\u001b[0m\u001b[0;34m\u001b[0m\u001b[0m\n\u001b[0m\u001b[1;32m    147\u001b[0m \u001b[0;34m\u001b[0m\u001b[0m\n\u001b[1;32m    148\u001b[0m     \u001b[0;31m# read all data into memory\u001b[0m\u001b[0;34m\u001b[0m\u001b[0;34m\u001b[0m\u001b[0m\n",
      "\u001b[0;31mValueError\u001b[0m: file exists at path 'sample.npz'; use overwrite=True to replace"
     ]
    }
   ],
   "source": [
    "npz_fn = 'sample.npz'\n",
    "vcf_to_npz(sample_vcf_fn, npz_fn, fields='*', chunk_length=3, overwrite=False)"
   ]
  },
  {
   "cell_type": "code",
   "execution_count": 55,
   "metadata": {
    "collapsed": false
   },
   "outputs": [],
   "source": [
    "vcf_to_npz(sample_vcf_fn, npz_fn, fields='*', chunk_length=3, overwrite=True)"
   ]
  },
  {
   "cell_type": "code",
   "execution_count": 56,
   "metadata": {
    "collapsed": false
   },
   "outputs": [
    {
     "name": "stdout",
     "output_type": "stream",
     "text": [
      "-rw-r--r-- 1 aliman aliman 4.3K May 30 10:38 sample.npz\r\n"
     ]
    }
   ],
   "source": [
    "!ls -lh {npz_fn}"
   ]
  },
  {
   "cell_type": "code",
   "execution_count": 57,
   "metadata": {
    "collapsed": true
   },
   "outputs": [],
   "source": [
    "import numpy as np"
   ]
  },
  {
   "cell_type": "code",
   "execution_count": 58,
   "metadata": {
    "collapsed": false
   },
   "outputs": [
    {
     "data": {
      "text/plain": [
       "<numpy.lib.npyio.NpzFile at 0x7feb600ce780>"
      ]
     },
     "execution_count": 58,
     "metadata": {},
     "output_type": "execute_result"
    }
   ],
   "source": [
    "callset = np.load(npz_fn)\n",
    "callset"
   ]
  },
  {
   "cell_type": "code",
   "execution_count": 59,
   "metadata": {
    "collapsed": false
   },
   "outputs": [
    {
     "data": {
      "text/plain": [
       "['calldata/DP',\n",
       " 'calldata/GQ',\n",
       " 'calldata/GT',\n",
       " 'calldata/HQ',\n",
       " 'samples',\n",
       " 'variants/AA',\n",
       " 'variants/AC',\n",
       " 'variants/AF',\n",
       " 'variants/ALT',\n",
       " 'variants/AN',\n",
       " 'variants/CHROM',\n",
       " 'variants/DB',\n",
       " 'variants/DP',\n",
       " 'variants/FILTER_PASS',\n",
       " 'variants/FILTER_q10',\n",
       " 'variants/FILTER_s50',\n",
       " 'variants/H2',\n",
       " 'variants/ID',\n",
       " 'variants/NS',\n",
       " 'variants/POS',\n",
       " 'variants/QUAL',\n",
       " 'variants/REF']"
      ]
     },
     "execution_count": 59,
     "metadata": {},
     "output_type": "execute_result"
    }
   ],
   "source": [
    "sorted(callset.keys())"
   ]
  },
  {
   "cell_type": "code",
   "execution_count": 60,
   "metadata": {
    "collapsed": false
   },
   "outputs": [
    {
     "data": {
      "text/plain": [
       "array([b'NA00001', b'NA00002', b'NA00003'], \n",
       "      dtype='|S7')"
      ]
     },
     "execution_count": 60,
     "metadata": {},
     "output_type": "execute_result"
    }
   ],
   "source": [
    "callset['samples']"
   ]
  },
  {
   "cell_type": "code",
   "execution_count": 61,
   "metadata": {
    "collapsed": false
   },
   "outputs": [
    {
     "data": {
      "text/plain": [
       "array([    111,     112,   14370,   17330, 1110696, 1230237, 1234567,\n",
       "       1235237,      10], dtype=int32)"
      ]
     },
     "execution_count": 61,
     "metadata": {},
     "output_type": "execute_result"
    }
   ],
   "source": [
    "callset['variants/POS']"
   ]
  },
  {
   "cell_type": "code",
   "execution_count": 62,
   "metadata": {
    "collapsed": false
   },
   "outputs": [
    {
     "data": {
      "text/plain": [
       "array([b'19', b'19', b'20', b'20', b'20', b'20', b'20', b'20', b'X'], \n",
       "      dtype='|S12')"
      ]
     },
     "execution_count": 62,
     "metadata": {},
     "output_type": "execute_result"
    }
   ],
   "source": [
    "callset['variants/CHROM']"
   ]
  },
  {
   "cell_type": "code",
   "execution_count": 63,
   "metadata": {
    "collapsed": false
   },
   "outputs": [
    {
     "data": {
      "text/plain": [
       "array([[[ 0,  0],\n",
       "        [ 0,  0],\n",
       "        [ 0,  1]],\n",
       "\n",
       "       [[ 0,  0],\n",
       "        [ 0,  0],\n",
       "        [ 0,  1]],\n",
       "\n",
       "       [[ 0,  0],\n",
       "        [ 1,  0],\n",
       "        [ 1,  1]],\n",
       "\n",
       "       [[ 0,  0],\n",
       "        [ 0,  1],\n",
       "        [ 0,  0]],\n",
       "\n",
       "       [[ 1,  2],\n",
       "        [ 2,  1],\n",
       "        [ 2,  2]],\n",
       "\n",
       "       [[ 0,  0],\n",
       "        [ 0,  0],\n",
       "        [ 0,  0]],\n",
       "\n",
       "       [[ 0,  1],\n",
       "        [ 0,  2],\n",
       "        [-1, -1]],\n",
       "\n",
       "       [[ 0,  0],\n",
       "        [ 0,  0],\n",
       "        [-1, -1]],\n",
       "\n",
       "       [[ 0, -1],\n",
       "        [ 0,  1],\n",
       "        [ 0,  2]]], dtype=int8)"
      ]
     },
     "execution_count": 63,
     "metadata": {},
     "output_type": "execute_result"
    }
   ],
   "source": [
    "callset['calldata/GT']"
   ]
  },
  {
   "cell_type": "code",
   "execution_count": 64,
   "metadata": {
    "collapsed": false
   },
   "outputs": [
    {
     "ename": "ValueError",
     "evalue": "dataset exists at path 'samples'; use overwrite=True to replace",
     "output_type": "error",
     "traceback": [
      "\u001b[0;31m---------------------------------------------------------------------------\u001b[0m",
      "\u001b[0;31mValueError\u001b[0m                                Traceback (most recent call last)",
      "\u001b[0;32m<ipython-input-64-ddbb299760ca>\u001b[0m in \u001b[0;36m<module>\u001b[0;34m()\u001b[0m\n\u001b[1;32m      1\u001b[0m \u001b[0mhdf5_fn\u001b[0m \u001b[0;34m=\u001b[0m \u001b[0;34m'sample.h5'\u001b[0m\u001b[0;34m\u001b[0m\u001b[0m\n\u001b[0;32m----> 2\u001b[0;31m \u001b[0mvcf_to_hdf5\u001b[0m\u001b[0;34m(\u001b[0m\u001b[0msample_vcf_fn\u001b[0m\u001b[0;34m,\u001b[0m \u001b[0mhdf5_fn\u001b[0m\u001b[0;34m,\u001b[0m \u001b[0mfields\u001b[0m\u001b[0;34m=\u001b[0m\u001b[0;34m'*'\u001b[0m\u001b[0;34m,\u001b[0m \u001b[0mchunk_length\u001b[0m\u001b[0;34m=\u001b[0m\u001b[0;36m3\u001b[0m\u001b[0;34m)\u001b[0m\u001b[0;34m\u001b[0m\u001b[0m\n\u001b[0m",
      "\u001b[0;32m/home/aliman/src/github/cggh/scikit-allel/allel/io_vcf_read.py\u001b[0m in \u001b[0;36mvcf_to_hdf5\u001b[0;34m(input_path, output_path, group, compression, compression_opts, shuffle, overwrite, fields, types, numbers, buffer_size, chunk_length, chunk_width)\u001b[0m\n\u001b[1;32m    202\u001b[0m             \u001b[0;32melse\u001b[0m\u001b[0;34m:\u001b[0m\u001b[0;34m\u001b[0m\u001b[0m\n\u001b[1;32m    203\u001b[0m                 \u001b[0;31m# TODO right exception class?\u001b[0m\u001b[0;34m\u001b[0m\u001b[0;34m\u001b[0m\u001b[0m\n\u001b[0;32m--> 204\u001b[0;31m                 \u001b[0;32mraise\u001b[0m \u001b[0mValueError\u001b[0m\u001b[0;34m(\u001b[0m\u001b[0;34m'dataset exists at path %r; use overwrite=True to replace'\u001b[0m \u001b[0;34m%\u001b[0m \u001b[0mname\u001b[0m\u001b[0;34m)\u001b[0m\u001b[0;34m\u001b[0m\u001b[0m\n\u001b[0m\u001b[1;32m    205\u001b[0m         root[group].create_dataset(name, data=np.array(headers.samples).astype('S'),\n\u001b[1;32m    206\u001b[0m                                    chunks=None)\n",
      "\u001b[0;31mValueError\u001b[0m: dataset exists at path 'samples'; use overwrite=True to replace"
     ]
    }
   ],
   "source": [
    "hdf5_fn = 'sample.h5'\n",
    "vcf_to_hdf5(sample_vcf_fn, hdf5_fn, fields='*', chunk_length=3)"
   ]
  },
  {
   "cell_type": "code",
   "execution_count": 65,
   "metadata": {
    "collapsed": false
   },
   "outputs": [],
   "source": [
    "vcf_to_hdf5(sample_vcf_fn, hdf5_fn, fields='*', chunk_length=3, overwrite=True)"
   ]
  },
  {
   "cell_type": "code",
   "execution_count": 66,
   "metadata": {
    "collapsed": false
   },
   "outputs": [
    {
     "name": "stdout",
     "output_type": "stream",
     "text": [
      "-rw-r--r-- 1 aliman aliman 82K May 30 10:38 sample.h5\r\n"
     ]
    }
   ],
   "source": [
    "!ls -lh {hdf5_fn}"
   ]
  },
  {
   "cell_type": "code",
   "execution_count": 67,
   "metadata": {
    "collapsed": false
   },
   "outputs": [
    {
     "name": "stdout",
     "output_type": "stream",
     "text": [
      "calldata                 Group\r\n",
      "samples                  Dataset {3}\r\n",
      "variants                 Group\r\n"
     ]
    }
   ],
   "source": [
    "!h5ls {hdf5_fn}"
   ]
  },
  {
   "cell_type": "code",
   "execution_count": 68,
   "metadata": {
    "collapsed": false
   },
   "outputs": [
    {
     "name": "stdout",
     "output_type": "stream",
     "text": [
      "AA                       Dataset {9/Inf}\r\n",
      "AC                       Dataset {9/Inf, 3}\r\n",
      "AF                       Dataset {9/Inf, 3}\r\n",
      "ALT                      Dataset {9/Inf, 3}\r\n",
      "AN                       Dataset {9/Inf}\r\n",
      "CHROM                    Dataset {9/Inf}\r\n",
      "DB                       Dataset {9/Inf}\r\n",
      "DP                       Dataset {9/Inf}\r\n",
      "FILTER                   Dataset {9/Inf, 1}\r\n",
      "FILTER_PASS              Dataset {9/Inf}\r\n",
      "FILTER_q10               Dataset {9/Inf}\r\n",
      "FILTER_s50               Dataset {9/Inf}\r\n",
      "H2                       Dataset {9/Inf}\r\n",
      "ID                       Dataset {9/Inf}\r\n",
      "NS                       Dataset {9/Inf}\r\n",
      "POS                      Dataset {9/Inf}\r\n",
      "QUAL                     Dataset {9/Inf}\r\n",
      "REF                      Dataset {9/Inf}\r\n"
     ]
    }
   ],
   "source": [
    "!h5ls {hdf5_fn}/variants"
   ]
  },
  {
   "cell_type": "code",
   "execution_count": 69,
   "metadata": {
    "collapsed": false
   },
   "outputs": [
    {
     "name": "stdout",
     "output_type": "stream",
     "text": [
      "CHROM                    Dataset {9/Inf}\r\n"
     ]
    }
   ],
   "source": [
    "!h5ls {hdf5_fn}/variants/CHROM"
   ]
  },
  {
   "cell_type": "code",
   "execution_count": 70,
   "metadata": {
    "collapsed": false
   },
   "outputs": [
    {
     "name": "stdout",
     "output_type": "stream",
     "text": [
      "DP                       Dataset {9/Inf, 3}\r\n",
      "GQ                       Dataset {9/Inf, 3}\r\n",
      "GT                       Dataset {9/Inf, 3, 2}\r\n",
      "HQ                       Dataset {9/Inf, 3, 2}\r\n"
     ]
    }
   ],
   "source": [
    "!h5ls {hdf5_fn}/calldata"
   ]
  },
  {
   "cell_type": "code",
   "execution_count": 71,
   "metadata": {
    "collapsed": false
   },
   "outputs": [
    {
     "name": "stdout",
     "output_type": "stream",
     "text": [
      "GT                       Dataset {9/Inf, 3, 2}\r\n"
     ]
    }
   ],
   "source": [
    "!h5ls {hdf5_fn}/calldata/GT"
   ]
  },
  {
   "cell_type": "code",
   "execution_count": 72,
   "metadata": {
    "collapsed": true
   },
   "outputs": [],
   "source": [
    "import h5py"
   ]
  },
  {
   "cell_type": "code",
   "execution_count": 73,
   "metadata": {
    "collapsed": false
   },
   "outputs": [
    {
     "name": "stdout",
     "output_type": "stream",
     "text": [
      "[b'NA00001' b'NA00002' b'NA00003']\n",
      "[b'19' b'19' b'20' b'20' b'20' b'20' b'20' b'20' b'X']\n",
      "[    111     112   14370   17330 1110696 1230237 1234567 1235237      10]\n",
      "[[[ 0  0]\n",
      "  [ 0  0]\n",
      "  [ 0  1]]\n",
      "\n",
      " [[ 0  0]\n",
      "  [ 0  0]\n",
      "  [ 0  1]]\n",
      "\n",
      " [[ 0  0]\n",
      "  [ 1  0]\n",
      "  [ 1  1]]\n",
      "\n",
      " [[ 0  0]\n",
      "  [ 0  1]\n",
      "  [ 0  0]]\n",
      "\n",
      " [[ 1  2]\n",
      "  [ 2  1]\n",
      "  [ 2  2]]\n",
      "\n",
      " [[ 0  0]\n",
      "  [ 0  0]\n",
      "  [ 0  0]]\n",
      "\n",
      " [[ 0  1]\n",
      "  [ 0  2]\n",
      "  [-1 -1]]\n",
      "\n",
      " [[ 0  0]\n",
      "  [ 0  0]\n",
      "  [-1 -1]]\n",
      "\n",
      " [[ 0 -1]\n",
      "  [ 0  1]\n",
      "  [ 0  2]]]\n"
     ]
    }
   ],
   "source": [
    "with h5py.File(hdf5_fn, mode='r') as h5f:\n",
    "    print(h5f['samples'][:])\n",
    "    print(h5f['variants/CHROM'][:])\n",
    "    print(h5f['variants/POS'][:])\n",
    "    print(h5f['calldata/GT'][:])\n",
    "    "
   ]
  },
  {
   "cell_type": "code",
   "execution_count": 74,
   "metadata": {
    "collapsed": false
   },
   "outputs": [
    {
     "ename": "KeyError",
     "evalue": "\"path 'samples' contains an array\"",
     "output_type": "error",
     "traceback": [
      "\u001b[0;31m---------------------------------------------------------------------------\u001b[0m",
      "\u001b[0;31mKeyError\u001b[0m                                  Traceback (most recent call last)",
      "\u001b[0;32m<ipython-input-74-afd148abc966>\u001b[0m in \u001b[0;36m<module>\u001b[0;34m()\u001b[0m\n\u001b[1;32m      1\u001b[0m \u001b[0mzarr_fn\u001b[0m \u001b[0;34m=\u001b[0m \u001b[0;34m'sample.zarr'\u001b[0m\u001b[0;34m\u001b[0m\u001b[0m\n\u001b[0;32m----> 2\u001b[0;31m \u001b[0mvcf_to_zarr\u001b[0m\u001b[0;34m(\u001b[0m\u001b[0msample_vcf_fn\u001b[0m\u001b[0;34m,\u001b[0m \u001b[0mzarr_fn\u001b[0m\u001b[0;34m,\u001b[0m \u001b[0mfields\u001b[0m\u001b[0;34m=\u001b[0m\u001b[0;34m'*'\u001b[0m\u001b[0;34m,\u001b[0m \u001b[0mchunk_length\u001b[0m\u001b[0;34m=\u001b[0m\u001b[0;36m3\u001b[0m\u001b[0;34m)\u001b[0m\u001b[0;34m\u001b[0m\u001b[0m\n\u001b[0m",
      "\u001b[0;32m/home/aliman/src/github/cggh/scikit-allel/allel/io_vcf_read.py\u001b[0m in \u001b[0;36mvcf_to_zarr\u001b[0;34m(input_path, output_path, group, compressor, fill_value, order, overwrite, fields, types, numbers, buffer_size, chunk_length, chunk_width)\u001b[0m\n\u001b[1;32m    306\u001b[0m     \u001b[0;31m# store samples\u001b[0m\u001b[0;34m\u001b[0m\u001b[0;34m\u001b[0m\u001b[0m\n\u001b[1;32m    307\u001b[0m     root[group].create_dataset('samples', data=np.array(headers.samples).astype('S'),\n\u001b[0;32m--> 308\u001b[0;31m                                compressor=None, overwrite=overwrite)\n\u001b[0m\u001b[1;32m    309\u001b[0m \u001b[0;34m\u001b[0m\u001b[0m\n\u001b[1;32m    310\u001b[0m     \u001b[0;31m# read first chunk\u001b[0m\u001b[0;34m\u001b[0m\u001b[0;34m\u001b[0m\u001b[0m\n",
      "\u001b[0;32m/home/aliman/miniconda3/envs/biipy_20170126_py35/lib/python3.5/site-packages/zarr/hierarchy.py\u001b[0m in \u001b[0;36mcreate_dataset\u001b[0;34m(self, name, **kwargs)\u001b[0m\n\u001b[1;32m    569\u001b[0m         \"\"\"  # flake8: noqa\n\u001b[1;32m    570\u001b[0m \u001b[0;34m\u001b[0m\u001b[0m\n\u001b[0;32m--> 571\u001b[0;31m         \u001b[0;32mreturn\u001b[0m \u001b[0mself\u001b[0m\u001b[0;34m.\u001b[0m\u001b[0m_write_op\u001b[0m\u001b[0;34m(\u001b[0m\u001b[0mself\u001b[0m\u001b[0;34m.\u001b[0m\u001b[0m_create_dataset_nosync\u001b[0m\u001b[0;34m,\u001b[0m \u001b[0mname\u001b[0m\u001b[0;34m,\u001b[0m \u001b[0;34m**\u001b[0m\u001b[0mkwargs\u001b[0m\u001b[0;34m)\u001b[0m\u001b[0;34m\u001b[0m\u001b[0m\n\u001b[0m\u001b[1;32m    572\u001b[0m \u001b[0;34m\u001b[0m\u001b[0m\n\u001b[1;32m    573\u001b[0m     \u001b[0;32mdef\u001b[0m \u001b[0m_create_dataset_nosync\u001b[0m\u001b[0;34m(\u001b[0m\u001b[0mself\u001b[0m\u001b[0;34m,\u001b[0m \u001b[0mname\u001b[0m\u001b[0;34m,\u001b[0m \u001b[0mdata\u001b[0m\u001b[0;34m=\u001b[0m\u001b[0;32mNone\u001b[0m\u001b[0;34m,\u001b[0m \u001b[0;34m**\u001b[0m\u001b[0mkwargs\u001b[0m\u001b[0;34m)\u001b[0m\u001b[0;34m:\u001b[0m\u001b[0;34m\u001b[0m\u001b[0m\n",
      "\u001b[0;32m/home/aliman/miniconda3/envs/biipy_20170126_py35/lib/python3.5/site-packages/zarr/hierarchy.py\u001b[0m in \u001b[0;36m_write_op\u001b[0;34m(self, f, *args, **kwargs)\u001b[0m\n\u001b[1;32m    423\u001b[0m         \u001b[0;31m# synchronization\u001b[0m\u001b[0;34m\u001b[0m\u001b[0;34m\u001b[0m\u001b[0m\n\u001b[1;32m    424\u001b[0m         \u001b[0;32mif\u001b[0m \u001b[0mself\u001b[0m\u001b[0;34m.\u001b[0m\u001b[0m_synchronizer\u001b[0m \u001b[0;32mis\u001b[0m \u001b[0;32mNone\u001b[0m\u001b[0;34m:\u001b[0m\u001b[0;34m\u001b[0m\u001b[0m\n\u001b[0;32m--> 425\u001b[0;31m             \u001b[0;32mreturn\u001b[0m \u001b[0mf\u001b[0m\u001b[0;34m(\u001b[0m\u001b[0;34m*\u001b[0m\u001b[0margs\u001b[0m\u001b[0;34m,\u001b[0m \u001b[0;34m**\u001b[0m\u001b[0mkwargs\u001b[0m\u001b[0;34m)\u001b[0m\u001b[0;34m\u001b[0m\u001b[0m\n\u001b[0m\u001b[1;32m    426\u001b[0m         \u001b[0;32melse\u001b[0m\u001b[0;34m:\u001b[0m\u001b[0;34m\u001b[0m\u001b[0m\n\u001b[1;32m    427\u001b[0m             \u001b[0;31m# synchronize on the root group\u001b[0m\u001b[0;34m\u001b[0m\u001b[0;34m\u001b[0m\u001b[0m\n",
      "\u001b[0;32m/home/aliman/miniconda3/envs/biipy_20170126_py35/lib/python3.5/site-packages/zarr/hierarchy.py\u001b[0m in \u001b[0;36m_create_dataset_nosync\u001b[0;34m(self, name, data, **kwargs)\u001b[0m\n\u001b[1;32m    585\u001b[0m         \u001b[0;32melse\u001b[0m\u001b[0;34m:\u001b[0m\u001b[0;34m\u001b[0m\u001b[0m\n\u001b[1;32m    586\u001b[0m             a = array(data, store=self._store, path=path,\n\u001b[0;32m--> 587\u001b[0;31m                       chunk_store=self._chunk_store, **kwargs)\n\u001b[0m\u001b[1;32m    588\u001b[0m \u001b[0;34m\u001b[0m\u001b[0m\n\u001b[1;32m    589\u001b[0m         \u001b[0;32mreturn\u001b[0m \u001b[0ma\u001b[0m\u001b[0;34m\u001b[0m\u001b[0m\n",
      "\u001b[0;32m/home/aliman/miniconda3/envs/biipy_20170126_py35/lib/python3.5/site-packages/zarr/creation.py\u001b[0m in \u001b[0;36marray\u001b[0;34m(data, **kwargs)\u001b[0m\n\u001b[1;32m    306\u001b[0m \u001b[0;34m\u001b[0m\u001b[0m\n\u001b[1;32m    307\u001b[0m     \u001b[0;31m# instantiate array\u001b[0m\u001b[0;34m\u001b[0m\u001b[0;34m\u001b[0m\u001b[0m\n\u001b[0;32m--> 308\u001b[0;31m     \u001b[0mz\u001b[0m \u001b[0;34m=\u001b[0m \u001b[0mcreate\u001b[0m\u001b[0;34m(\u001b[0m\u001b[0;34m**\u001b[0m\u001b[0mkwargs\u001b[0m\u001b[0;34m)\u001b[0m\u001b[0;34m\u001b[0m\u001b[0m\n\u001b[0m\u001b[1;32m    309\u001b[0m \u001b[0;34m\u001b[0m\u001b[0m\n\u001b[1;32m    310\u001b[0m     \u001b[0;31m# fill with data\u001b[0m\u001b[0;34m\u001b[0m\u001b[0;34m\u001b[0m\u001b[0m\n",
      "\u001b[0;32m/home/aliman/miniconda3/envs/biipy_20170126_py35/lib/python3.5/site-packages/zarr/creation.py\u001b[0m in \u001b[0;36mcreate\u001b[0;34m(shape, chunks, dtype, compressor, fill_value, order, store, synchronizer, overwrite, path, chunk_store, filters, cache_metadata, **kwargs)\u001b[0m\n\u001b[1;32m     84\u001b[0m                \u001b[0mcompressor\u001b[0m\u001b[0;34m=\u001b[0m\u001b[0mcompressor\u001b[0m\u001b[0;34m,\u001b[0m \u001b[0mfill_value\u001b[0m\u001b[0;34m=\u001b[0m\u001b[0mfill_value\u001b[0m\u001b[0;34m,\u001b[0m \u001b[0morder\u001b[0m\u001b[0;34m=\u001b[0m\u001b[0morder\u001b[0m\u001b[0;34m,\u001b[0m\u001b[0;34m\u001b[0m\u001b[0m\n\u001b[1;32m     85\u001b[0m                \u001b[0moverwrite\u001b[0m\u001b[0;34m=\u001b[0m\u001b[0moverwrite\u001b[0m\u001b[0;34m,\u001b[0m \u001b[0mpath\u001b[0m\u001b[0;34m=\u001b[0m\u001b[0mpath\u001b[0m\u001b[0;34m,\u001b[0m \u001b[0mchunk_store\u001b[0m\u001b[0;34m=\u001b[0m\u001b[0mchunk_store\u001b[0m\u001b[0;34m,\u001b[0m\u001b[0;34m\u001b[0m\u001b[0m\n\u001b[0;32m---> 86\u001b[0;31m                filters=filters)\n\u001b[0m\u001b[1;32m     87\u001b[0m \u001b[0;34m\u001b[0m\u001b[0m\n\u001b[1;32m     88\u001b[0m     \u001b[0;31m# instantiate array\u001b[0m\u001b[0;34m\u001b[0m\u001b[0;34m\u001b[0m\u001b[0m\n",
      "\u001b[0;32m/home/aliman/miniconda3/envs/biipy_20170126_py35/lib/python3.5/site-packages/zarr/storage.py\u001b[0m in \u001b[0;36minit_array\u001b[0;34m(store, shape, chunks, dtype, compressor, fill_value, order, overwrite, path, chunk_store, filters)\u001b[0m\n\u001b[1;32m    256\u001b[0m                          \u001b[0mcompressor\u001b[0m\u001b[0;34m=\u001b[0m\u001b[0mcompressor\u001b[0m\u001b[0;34m,\u001b[0m \u001b[0mfill_value\u001b[0m\u001b[0;34m=\u001b[0m\u001b[0mfill_value\u001b[0m\u001b[0;34m,\u001b[0m\u001b[0;34m\u001b[0m\u001b[0m\n\u001b[1;32m    257\u001b[0m                          \u001b[0morder\u001b[0m\u001b[0;34m=\u001b[0m\u001b[0morder\u001b[0m\u001b[0;34m,\u001b[0m \u001b[0moverwrite\u001b[0m\u001b[0;34m=\u001b[0m\u001b[0moverwrite\u001b[0m\u001b[0;34m,\u001b[0m \u001b[0mpath\u001b[0m\u001b[0;34m=\u001b[0m\u001b[0mpath\u001b[0m\u001b[0;34m,\u001b[0m\u001b[0;34m\u001b[0m\u001b[0m\n\u001b[0;32m--> 258\u001b[0;31m                          chunk_store=chunk_store, filters=filters)\n\u001b[0m\u001b[1;32m    259\u001b[0m \u001b[0;34m\u001b[0m\u001b[0m\n\u001b[1;32m    260\u001b[0m \u001b[0;34m\u001b[0m\u001b[0m\n",
      "\u001b[0;32m/home/aliman/miniconda3/envs/biipy_20170126_py35/lib/python3.5/site-packages/zarr/storage.py\u001b[0m in \u001b[0;36m_init_array_metadata\u001b[0;34m(store, shape, chunks, dtype, compressor, fill_value, order, overwrite, path, chunk_store, filters)\u001b[0m\n\u001b[1;32m    271\u001b[0m             \u001b[0mrmdir\u001b[0m\u001b[0;34m(\u001b[0m\u001b[0mchunk_store\u001b[0m\u001b[0;34m,\u001b[0m \u001b[0mpath\u001b[0m\u001b[0;34m)\u001b[0m\u001b[0;34m\u001b[0m\u001b[0m\n\u001b[1;32m    272\u001b[0m     \u001b[0;32melif\u001b[0m \u001b[0mcontains_array\u001b[0m\u001b[0;34m(\u001b[0m\u001b[0mstore\u001b[0m\u001b[0;34m,\u001b[0m \u001b[0mpath\u001b[0m\u001b[0;34m)\u001b[0m\u001b[0;34m:\u001b[0m\u001b[0;34m\u001b[0m\u001b[0m\n\u001b[0;32m--> 273\u001b[0;31m         \u001b[0merr_contains_array\u001b[0m\u001b[0;34m(\u001b[0m\u001b[0mpath\u001b[0m\u001b[0;34m)\u001b[0m\u001b[0;34m\u001b[0m\u001b[0m\n\u001b[0m\u001b[1;32m    274\u001b[0m     \u001b[0;32melif\u001b[0m \u001b[0mcontains_group\u001b[0m\u001b[0;34m(\u001b[0m\u001b[0mstore\u001b[0m\u001b[0;34m,\u001b[0m \u001b[0mpath\u001b[0m\u001b[0;34m)\u001b[0m\u001b[0;34m:\u001b[0m\u001b[0;34m\u001b[0m\u001b[0m\n\u001b[1;32m    275\u001b[0m         \u001b[0merr_contains_group\u001b[0m\u001b[0;34m(\u001b[0m\u001b[0mpath\u001b[0m\u001b[0;34m)\u001b[0m\u001b[0;34m\u001b[0m\u001b[0m\n",
      "\u001b[0;32m/home/aliman/miniconda3/envs/biipy_20170126_py35/lib/python3.5/site-packages/zarr/errors.py\u001b[0m in \u001b[0;36merr_contains_array\u001b[0;34m(path)\u001b[0m\n\u001b[1;32m     25\u001b[0m \u001b[0;34m\u001b[0m\u001b[0m\n\u001b[1;32m     26\u001b[0m \u001b[0;32mdef\u001b[0m \u001b[0merr_contains_array\u001b[0m\u001b[0;34m(\u001b[0m\u001b[0mpath\u001b[0m\u001b[0;34m)\u001b[0m\u001b[0;34m:\u001b[0m\u001b[0;34m\u001b[0m\u001b[0m\n\u001b[0;32m---> 27\u001b[0;31m     \u001b[0;32mraise\u001b[0m \u001b[0mKeyError\u001b[0m\u001b[0;34m(\u001b[0m\u001b[0;34m'path %r contains an array'\u001b[0m \u001b[0;34m%\u001b[0m \u001b[0mpath\u001b[0m\u001b[0;34m)\u001b[0m\u001b[0;34m\u001b[0m\u001b[0m\n\u001b[0m\u001b[1;32m     28\u001b[0m \u001b[0;34m\u001b[0m\u001b[0m\n\u001b[1;32m     29\u001b[0m \u001b[0;34m\u001b[0m\u001b[0m\n",
      "\u001b[0;31mKeyError\u001b[0m: \"path 'samples' contains an array\""
     ]
    }
   ],
   "source": [
    "zarr_fn = 'sample.zarr'\n",
    "vcf_to_zarr(sample_vcf_fn, zarr_fn, fields='*', chunk_length=3)"
   ]
  },
  {
   "cell_type": "code",
   "execution_count": 75,
   "metadata": {
    "collapsed": true
   },
   "outputs": [],
   "source": [
    "vcf_to_zarr(sample_vcf_fn, zarr_fn, fields='*', chunk_length=3, overwrite=True)"
   ]
  },
  {
   "cell_type": "code",
   "execution_count": 76,
   "metadata": {
    "collapsed": false
   },
   "outputs": [
    {
     "data": {
      "text/plain": [
       "Group(/, 3)\n",
       "  arrays: 1; samples\n",
       "  groups: 2; calldata, variants\n",
       "  store: DirectoryStore"
      ]
     },
     "execution_count": 76,
     "metadata": {},
     "output_type": "execute_result"
    }
   ],
   "source": [
    "import zarr\n",
    "callset = zarr.open_group('sample.zarr')\n",
    "callset"
   ]
  },
  {
   "cell_type": "code",
   "execution_count": 77,
   "metadata": {
    "collapsed": false
   },
   "outputs": [
    {
     "data": {
      "text/plain": [
       "array([b'NA00001', b'NA00002', b'NA00003'], \n",
       "      dtype='|S7')"
      ]
     },
     "execution_count": 77,
     "metadata": {},
     "output_type": "execute_result"
    }
   ],
   "source": [
    "callset['samples'][:]"
   ]
  },
  {
   "cell_type": "code",
   "execution_count": 78,
   "metadata": {
    "collapsed": false
   },
   "outputs": [
    {
     "data": {
      "text/plain": [
       "Group(/variants, 18)\n",
       "  arrays: 18; AA, AC, AF, ALT, AN, CHROM, DB, DP, FILTER, FILTER_PASS, FILTE...\n",
       "  store: DirectoryStore"
      ]
     },
     "execution_count": 78,
     "metadata": {},
     "output_type": "execute_result"
    }
   ],
   "source": [
    "callset['variants']"
   ]
  },
  {
   "cell_type": "code",
   "execution_count": 79,
   "metadata": {
    "collapsed": false
   },
   "outputs": [
    {
     "data": {
      "text/plain": [
       "array([    111,     112,   14370,   17330, 1110696, 1230237, 1234567,\n",
       "       1235237,      10], dtype=int32)"
      ]
     },
     "execution_count": 79,
     "metadata": {},
     "output_type": "execute_result"
    }
   ],
   "source": [
    "callset['variants/POS'][:]"
   ]
  },
  {
   "cell_type": "code",
   "execution_count": 80,
   "metadata": {
    "collapsed": false
   },
   "outputs": [
    {
     "data": {
      "text/plain": [
       "array([b'19', b'19', b'20', b'20', b'20', b'20', b'20', b'20', b'X'], \n",
       "      dtype='|S12')"
      ]
     },
     "execution_count": 80,
     "metadata": {},
     "output_type": "execute_result"
    }
   ],
   "source": [
    "callset['variants/CHROM'][:]"
   ]
  },
  {
   "cell_type": "code",
   "execution_count": 81,
   "metadata": {
    "collapsed": false
   },
   "outputs": [
    {
     "data": {
      "text/plain": [
       "Group(/calldata, 4)\n",
       "  arrays: 4; DP, GQ, GT, HQ\n",
       "  store: DirectoryStore"
      ]
     },
     "execution_count": 81,
     "metadata": {},
     "output_type": "execute_result"
    }
   ],
   "source": [
    "callset['calldata']"
   ]
  },
  {
   "cell_type": "code",
   "execution_count": 82,
   "metadata": {
    "collapsed": false
   },
   "outputs": [
    {
     "data": {
      "text/plain": [
       "array([[[ 0,  0],\n",
       "        [ 0,  0],\n",
       "        [ 0,  1]],\n",
       "\n",
       "       [[ 0,  0],\n",
       "        [ 0,  0],\n",
       "        [ 0,  1]],\n",
       "\n",
       "       [[ 0,  0],\n",
       "        [ 1,  0],\n",
       "        [ 1,  1]],\n",
       "\n",
       "       [[ 0,  0],\n",
       "        [ 0,  1],\n",
       "        [ 0,  0]],\n",
       "\n",
       "       [[ 1,  2],\n",
       "        [ 2,  1],\n",
       "        [ 2,  2]],\n",
       "\n",
       "       [[ 0,  0],\n",
       "        [ 0,  0],\n",
       "        [ 0,  0]],\n",
       "\n",
       "       [[ 0,  1],\n",
       "        [ 0,  2],\n",
       "        [-1, -1]],\n",
       "\n",
       "       [[ 0,  0],\n",
       "        [ 0,  0],\n",
       "        [-1, -1]],\n",
       "\n",
       "       [[ 0, -1],\n",
       "        [ 0,  1],\n",
       "        [ 0,  2]]], dtype=int8)"
      ]
     },
     "execution_count": 82,
     "metadata": {},
     "output_type": "execute_result"
    }
   ],
   "source": [
    "callset['calldata/GT'][:]"
   ]
  },
  {
   "cell_type": "code",
   "execution_count": 83,
   "metadata": {
    "collapsed": false
   },
   "outputs": [
    {
     "data": {
      "text/plain": [
       "array([[-1, -1, -1],\n",
       "       [-1, -1, -1],\n",
       "       [48, 48, 43],\n",
       "       [49,  3, 41],\n",
       "       [21,  2, 35],\n",
       "       [54, 48, 61],\n",
       "       [-1, 17, 40],\n",
       "       [-1, -1, -1],\n",
       "       [-1, -1, -1]], dtype=int8)"
      ]
     },
     "execution_count": 83,
     "metadata": {},
     "output_type": "execute_result"
    }
   ],
   "source": [
    "callset['calldata/GQ'][:]"
   ]
  },
  {
   "cell_type": "markdown",
   "metadata": {},
   "source": [
    "## Profiling"
   ]
  },
  {
   "cell_type": "code",
   "execution_count": 9,
   "metadata": {
    "collapsed": false
   },
   "outputs": [
    {
     "name": "stdout",
     "output_type": "stream",
     "text": [
      "CPU times: user 132 ms, sys: 4 ms, total: 136 ms\n",
      "Wall time: 135 ms\n"
     ]
    }
   ],
   "source": [
    "%time _ = read_vcf(prof_vcf_fn, buffer_size=2**15, chunk_length=1000)"
   ]
  },
  {
   "cell_type": "code",
   "execution_count": 10,
   "metadata": {
    "collapsed": false
   },
   "outputs": [
    {
     "name": "stdout",
     "output_type": "stream",
     "text": [
      "10 loops, best of 3: 91.6 ms per loop\n"
     ]
    }
   ],
   "source": [
    "%timeit _ = read_vcf(prof_vcf_fn, buffer_size=2**15, chunk_length=1000)"
   ]
  },
  {
   "cell_type": "code",
   "execution_count": 11,
   "metadata": {
    "collapsed": true
   },
   "outputs": [],
   "source": [
    "import cProfile"
   ]
  },
  {
   "cell_type": "code",
   "execution_count": 12,
   "metadata": {
    "collapsed": false,
    "scrolled": false
   },
   "outputs": [
    {
     "name": "stdout",
     "output_type": "stream",
     "text": [
      "         46648 function calls (46264 primitive calls) in 0.150 seconds\n",
      "\n",
      "   Ordered by: internal time\n",
      "\n",
      "   ncalls  tottime  percall  cumtime  percall filename:lineno(function)\n",
      "        1    0.077    0.077    0.117    0.117 {allel.opt.io_vcf_read.iter_vcf}\n",
      "      377    0.022    0.000    0.022    0.000 {method 'decompress' of 'zlib.Decompress' objects}\n",
      "      473    0.010    0.000    0.010    0.000 {built-in method zlib.crc32}\n",
      "     7744    0.009    0.000    0.063    0.000 gzip.py:269(read)\n",
      "8128/7744    0.009    0.000    0.048    0.000 {method 'read' of '_io.BufferedReader' objects}\n",
      "       12    0.006    0.001    0.030    0.002 io_vcf_read.py:745(_binary_readline)\n",
      "     7744    0.004    0.000    0.006    0.000 _compression.py:12(_check_not_closed)\n",
      "     7746    0.002    0.000    0.002    0.000 gzip.py:296(closed)\n",
      "      378    0.002    0.000    0.038    0.000 gzip.py:436(read)\n",
      "      378    0.002    0.000    0.040    0.000 _compression.py:66(readinto)\n",
      "      949    0.002    0.000    0.002    0.000 gzip.py:80(read)\n",
      "        8    0.001    0.000    0.001    0.000 {built-in method numpy.core.multiarray.concatenate}\n",
      "     7555    0.001    0.000    0.001    0.000 {method 'append' of 'list' objects}\n",
      "        1    0.001    0.001    0.001    0.001 {built-in method io.open}\n",
      "      471    0.000    0.000    0.001    0.000 gzip.py:93(prepend)\n",
      "      376    0.000    0.000    0.010    0.000 gzip.py:487(_add_read_data)\n",
      "       97    0.000    0.000    0.001    0.000 gzip.py:403(_read_gzip_header)\n",
      "       95    0.000    0.000    0.001    0.000 gzip.py:491(_read_eof)\n",
      "     2738    0.000    0.000    0.000    0.000 {built-in method builtins.len}\n",
      "      380    0.000    0.000    0.001    0.000 gzip.py:387(_read_exact)\n",
      "       96    0.000    0.000    0.000    0.000 {built-in method zlib.decompressobj}\n",
      "       12    0.000    0.000    0.000    0.000 {method 'join' of 'bytes' objects}\n",
      "        1    0.000    0.000    0.000    0.000 io_vcf_read.py:659(normalize_numbers)\n",
      "        1    0.000    0.000    0.150    0.150 {built-in method builtins.exec}\n",
      "      378    0.000    0.000    0.000    0.000 {method 'cast' of 'memoryview' objects}\n",
      "      285    0.000    0.000    0.000    0.000 {built-in method _struct.unpack}\n",
      "        1    0.000    0.000    0.000    0.000 {built-in method numpy.core.multiarray.array}\n",
      "        1    0.000    0.000    0.030    0.030 io_vcf_read.py:770(read_vcf_headers)\n",
      "        1    0.000    0.000    0.000    0.000 {method 'astype' of 'numpy.ndarray' objects}\n",
      "        1    0.000    0.000    0.150    0.150 io_vcf_read.py:79(read_vcf)\n",
      "       97    0.000    0.000    0.000    0.000 gzip.py:383(_init_read)\n",
      "        1    0.000    0.000    0.150    0.150 <string>:1(<module>)\n",
      "        1    0.000    0.000    0.001    0.001 gzip.py:123(__init__)\n",
      "        1    0.000    0.000    0.148    0.148 io_vcf_read.py:349(read_vcf_chunks)\n",
      "       17    0.000    0.000    0.000    0.000 {method 'split' of 'str' objects}\n",
      "        1    0.000    0.000    0.000    0.000 io_vcf_read.py:568(normalize_types)\n",
      "       48    0.000    0.000    0.000    0.000 {method 'startswith' of 'str' objects}\n",
      "        1    0.000    0.000    0.148    0.148 io_vcf_read.py:710(_read_vcf)\n",
      "        1    0.000    0.000    0.001    0.001 gzip.py:20(open)\n",
      "        1    0.000    0.000    0.000    0.000 gzip.py:376(__init__)\n",
      "        2    0.000    0.000    0.000    0.000 {method 'close' of '_io.BufferedReader' objects}\n",
      "        1    0.000    0.000    0.000    0.000 gzip.py:300(close)\n",
      "        7    0.000    0.000    0.000    0.000 io_vcf_read.py:533(normalize_type)\n",
      "        2    0.000    0.000    0.000    0.000 {method 'match' of '_sre.SRE_Pattern' objects}\n",
      "        1    0.000    0.000    0.000    0.000 _compression.py:39(__init__)\n",
      "        1    0.000    0.000    0.000    0.000 gzip.py:74(__init__)\n",
      "        1    0.000    0.000    0.000    0.000 _compression.py:59(close)\n",
      "        1    0.000    0.000    0.000    0.000 <string>:12(__new__)\n",
      "        1    0.000    0.000    0.000    0.000 {built-in method builtins.sorted}\n",
      "        1    0.000    0.000    0.000    0.000 io_vcf_read.py:466(add_all_fixed_variants_fields)\n",
      "        8    0.000    0.000    0.000    0.000 io_vcf_read.py:128(<listcomp>)\n",
      "        1    0.000    0.000    0.000    0.000 {method 'endswith' of 'str' objects}\n",
      "        1    0.000    0.000    0.000    0.000 io_vcf_read.py:642(normalize_number)\n",
      "        2    0.000    0.000    0.000    0.000 {method 'groups' of '_sre.SRE_Match' objects}\n",
      "        8    0.000    0.000    0.000    0.000 {method 'add' of 'set' objects}\n",
      "        1    0.000    0.000    0.000    0.000 {method 'replace' of 'str' objects}\n",
      "        2    0.000    0.000    0.000    0.000 {built-in method builtins.isinstance}\n",
      "        1    0.000    0.000    0.000    0.000 {function DecompressReader.close at 0x7fa48d0fcc80}\n",
      "        1    0.000    0.000    0.000    0.000 {built-in method __new__ of type object at 0x7fa48f2f4d20}\n",
      "        1    0.000    0.000    0.000    0.000 _compression.py:150(tell)\n",
      "        1    0.000    0.000    0.000    0.000 _compression.py:36(readable)\n",
      "        1    0.000    0.000    0.000    0.000 {method 'keys' of 'dict' objects}\n",
      "        1    0.000    0.000    0.000    0.000 io_vcf_read.py:665(<dictcomp>)\n",
      "        1    0.000    0.000    0.000    0.000 io_vcf_read.py:574(<dictcomp>)\n",
      "        1    0.000    0.000    0.000    0.000 {method 'disable' of '_lsprof.Profiler' objects}\n",
      "        2    0.000    0.000    0.000    0.000 {method 'items' of 'dict' objects}\n",
      "\n",
      "\n"
     ]
    }
   ],
   "source": [
    "cProfile.run('read_vcf(prof_vcf_fn, buffer_size=2**15, chunk_length=1000)', sort='time')"
   ]
  },
  {
   "cell_type": "code",
   "execution_count": 95,
   "metadata": {
    "collapsed": false
   },
   "outputs": [
    {
     "name": "stdout",
     "output_type": "stream",
     "text": [
      "CPU times: user 224 ms, sys: 4 ms, total: 228 ms\n",
      "Wall time: 230 ms\n"
     ]
    }
   ],
   "source": [
    "%time vcf_to_npz(prof_vcf_fn, 'prof.npz', buffer_size=2**15, chunk_length=1000, overwrite=True)"
   ]
  },
  {
   "cell_type": "code",
   "execution_count": 96,
   "metadata": {
    "collapsed": false
   },
   "outputs": [
    {
     "name": "stdout",
     "output_type": "stream",
     "text": [
      "CPU times: user 180 ms, sys: 0 ns, total: 180 ms\n",
      "Wall time: 179 ms\n"
     ]
    }
   ],
   "source": [
    "%time vcf_to_hdf5(prof_vcf_fn, 'prof.h5', buffer_size=2**15, chunk_length=1000, overwrite=True)"
   ]
  },
  {
   "cell_type": "code",
   "execution_count": 97,
   "metadata": {
    "collapsed": false
   },
   "outputs": [
    {
     "name": "stdout",
     "output_type": "stream",
     "text": [
      "CPU times: user 168 ms, sys: 16 ms, total: 184 ms\n",
      "Wall time: 176 ms\n"
     ]
    }
   ],
   "source": [
    "%time vcf_to_zarr(prof_vcf_fn, 'prof.zarr', buffer_size=2**15, chunk_length=1000, overwrite=True)"
   ]
  },
  {
   "cell_type": "code",
   "execution_count": 66,
   "metadata": {
    "collapsed": false
   },
   "outputs": [
    {
     "name": "stdout",
     "output_type": "stream",
     "text": [
      " "
     ]
    }
   ],
   "source": [
    "%prun vcf_to_hdf5(prof_vcf_fn, 'prof.h5', buffer_size=2**15, chunk_length=1000, overwrite=True)"
   ]
  },
  {
   "cell_type": "code",
   "execution_count": 67,
   "metadata": {
    "collapsed": false
   },
   "outputs": [
    {
     "name": "stdout",
     "output_type": "stream",
     "text": [
      " "
     ]
    }
   ],
   "source": [
    "%prun vcf_to_zarr(prof_vcf_fn, 'prof.zarr', buffer_size=2**15, chunk_length=1000, overwrite=True)"
   ]
  },
  {
   "cell_type": "code",
   "execution_count": 11,
   "metadata": {
    "collapsed": false,
    "scrolled": false
   },
   "outputs": [
    {
     "name": "stdout",
     "output_type": "stream",
     "text": [
      "Timer unit: 1e-06 s\n",
      "\n",
      "Total time: 23.9421 s\n",
      "File: /home/aliman/src/github/cggh/scikit-allel/allel/opt/io_vcf_read.pyx\n",
      "Function: iter_vcf at line 71\n",
      "\n",
      "Line #      Hits         Time  Per Hit   % Time  Line Contents\n",
      "==============================================================\n",
      "    71                                           def iter_vcf(binary_file, int buffer_size, int chunk_length, int temp_max_size, headers, fields,\n",
      "    72                                                        types, numbers):\n",
      "    73                                               cdef:\n",
      "    74                                                   ParserContext context\n",
      "    75                                                   Parser chrom_parser\n",
      "    76                                                   Parser pos_parser\n",
      "    77                                                   Parser id_parser\n",
      "    78                                                   Parser ref_parser\n",
      "    79                                                   Parser alt_parser\n",
      "    80                                                   Parser qual_parser\n",
      "    81                                                   Parser filter_parser\n",
      "    82                                                   Parser info_parser\n",
      "    83                                                   Parser format_parser\n",
      "    84                                                   Parser calldata_parser\n",
      "    85                                           \n",
      "    86                                               # setup output\n",
      "    87                                               # TODO yield chunks\n",
      "    88         1            2      2.0      0.0      chunks = []\n",
      "    89                                           \n",
      "    90                                               # setup reader\n",
      "    91         1          253    253.0      0.0      reader = BufferedReader(binary_file, buffer_size=buffer_size)\n",
      "    92                                           \n",
      "    93                                               # setup context\n",
      "    94         1            4      4.0      0.0      n_samples = len(headers.samples)\n",
      "    95         1            4      4.0      0.0      context = ParserContext(reader, temp_max_size=temp_max_size, n_samples=n_samples)\n",
      "    96                                           \n",
      "    97                                               # read in first character\n",
      "    98         1            2      2.0      0.0      ParserContext_next(context)\n",
      "    99                                           \n",
      "   100                                               # copy so we don't modify someone else's data\n",
      "   101         1            2      2.0      0.0      fields = set(fields)\n",
      "   102                                           \n",
      "   103                                               # setup CHROM parser\n",
      "   104         1            1      1.0      0.0      if CHROM_FIELD in fields:\n",
      "   105         2           29     14.5      0.0          chrom_parser = StringParser(field=CHROM_FIELD, chunk_length=chunk_length,\n",
      "   106         1            1      1.0      0.0                                      dtype=types[CHROM_FIELD])\n",
      "   107         1            2      2.0      0.0          fields.remove(CHROM_FIELD)\n",
      "   108                                               else:\n",
      "   109                                                   chrom_parser = SkipChromParser()\n",
      "   110                                           \n",
      "   111                                               # setup POS parser\n",
      "   112         1            1      1.0      0.0      if POS_FIELD in fields:\n",
      "   113                                                   # TODO user-provided type\n",
      "   114         1           10     10.0      0.0          pos_parser = PosInt32Parser(chunk_length=chunk_length)\n",
      "   115         1            2      2.0      0.0          fields.remove(POS_FIELD)\n",
      "   116                                               else:\n",
      "   117                                                   pos_parser = SkipPosParser()\n",
      "   118                                           \n",
      "   119                                               # setup ID parser\n",
      "   120         1            1      1.0      0.0      if ID_FIELD in fields:\n",
      "   121         2           11      5.5      0.0          id_parser = StringParser(field=ID_FIELD, chunk_length=chunk_length,\n",
      "   122         1            1      1.0      0.0                                   dtype=types[ID_FIELD])\n",
      "   123         1            1      1.0      0.0          fields.remove(ID_FIELD)\n",
      "   124                                               else:\n",
      "   125                                                   id_parser = SkipParser()\n",
      "   126                                           \n",
      "   127                                               # setup REF parser\n",
      "   128         1            1      1.0      0.0      if REF_FIELD in fields:\n",
      "   129         2           10      5.0      0.0          ref_parser = StringParser(field=REF_FIELD, chunk_length=chunk_length,\n",
      "   130         1            1      1.0      0.0                                    dtype=types[REF_FIELD])\n",
      "   131         1            1      1.0      0.0          fields.remove(REF_FIELD)\n",
      "   132                                               else:\n",
      "   133                                                   ref_parser = SkipParser()\n",
      "   134                                           \n",
      "   135                                               # setup ALT parser\n",
      "   136         1            1      1.0      0.0      if ALT_FIELD in fields:\n",
      "   137         1            0      0.0      0.0          t = types[ALT_FIELD]\n",
      "   138         1            1      1.0      0.0          n = numbers[ALT_FIELD]\n",
      "   139         1           15     15.0      0.0          alt_parser = AltParser(chunk_length=chunk_length, dtype=t, number=n)\n",
      "   140         1            1      1.0      0.0          fields.remove(ALT_FIELD)\n",
      "   141                                               else:\n",
      "   142                                                   alt_parser = SkipParser()\n",
      "   143                                           \n",
      "   144                                               # setup QUAL parser\n",
      "   145         1            1      1.0      0.0      if QUAL_FIELD in fields:\n",
      "   146                                                   # TODO user-provided type\n",
      "   147         1           12     12.0      0.0          qual_parser = QualFloat32Parser(chunk_length=chunk_length, fill=-1)\n",
      "   148         1            1      1.0      0.0          fields.remove(QUAL_FIELD)\n",
      "   149                                               else:\n",
      "   150                                                   qual_parser = SkipParser()\n",
      "   151                                           \n",
      "   152                                               # setup FILTER parser\n",
      "   153         1            1      1.0      0.0      filters = list()\n",
      "   154         3            3      1.0      0.0      for field in list(fields):\n",
      "   155         2            3      1.5      0.0          if field.startswith('variants/FILTER_'):\n",
      "   156         1            2      2.0      0.0              filter = field[16:].encode('ascii')\n",
      "   157         1            1      1.0      0.0              filters.append(filter)\n",
      "   158         1            1      1.0      0.0              fields.remove(field)\n",
      "   159         1            1      1.0      0.0      if filters:\n",
      "   160         1           12     12.0      0.0          filter_parser = FilterParser(chunk_length=chunk_length, filters=filters)\n",
      "   161                                               else:\n",
      "   162                                                   filter_parser = SkipParser()\n",
      "   163                                           \n",
      "   164                                               # setup INFO parsers\n",
      "   165         1            1      1.0      0.0      infos = list()\n",
      "   166         1            0      0.0      0.0      info_types = dict()\n",
      "   167         1            1      1.0      0.0      info_numbers = dict()\n",
      "   168                                               # assume any variants fields left are INFO\n",
      "   169         2            2      1.0      0.0      for field in list(fields):\n",
      "   170         1            2      2.0      0.0          group, name = field.split('/')\n",
      "   171         1            1      1.0      0.0          if group == 'variants':\n",
      "   172                                                       key = name.encode('ascii')\n",
      "   173                                                       infos.append(key)\n",
      "   174                                                       fields.remove(field)\n",
      "   175                                                       info_types[key] = types[field]\n",
      "   176                                                       info_numbers[key] = numbers[field]\n",
      "   177         1            1      1.0      0.0      if infos:\n",
      "   178                                                   info_parser = InfoParser(chunk_length=chunk_length, infos=infos, types=info_types,\n",
      "   179                                                                            numbers=info_numbers)\n",
      "   180                                               else:\n",
      "   181         1            1      1.0      0.0          info_parser = SkipParser()\n",
      "   182                                           \n",
      "   183                                               # setup FORMAT and calldata parsers\n",
      "   184         1            0      0.0      0.0      formats = list()\n",
      "   185         1            1      1.0      0.0      format_types = dict()\n",
      "   186         1            1      1.0      0.0      format_numbers = dict()\n",
      "   187         2            1      0.5      0.0      for field in list(fields):\n",
      "   188         1            4      4.0      0.0          group, name = field.split('/')\n",
      "   189         1            1      1.0      0.0          if group == 'calldata':\n",
      "   190         1            2      2.0      0.0              key = name.encode('ascii')\n",
      "   191         1            1      1.0      0.0              formats.append(key)\n",
      "   192         1            1      1.0      0.0              fields.remove(field)\n",
      "   193         1            1      1.0      0.0              format_types[key] = types[field]\n",
      "   194         1            1      1.0      0.0              format_numbers[key] = numbers[field]\n",
      "   195         1            1      1.0      0.0      if formats:\n",
      "   196         1            2      2.0      0.0          format_parser = FormatParser()\n",
      "   197         2         1498    749.0      0.0          calldata_parser = CalldataParser(chunk_length=chunk_length,\n",
      "   198         1            1      1.0      0.0                                           formats=formats, types=format_types,\n",
      "   199         1            0      0.0      0.0                                           numbers=format_numbers,\n",
      "   200         1            1      1.0      0.0                                           n_samples=context.n_samples,\n",
      "   201                                                                                    ploidy=2)\n",
      "   202                                               else:\n",
      "   203                                                   format_parser = SkipParser()\n",
      "   204                                                   calldata_parser = SkipParser()\n",
      "   205                                           \n",
      "   206         1            1      1.0      0.0      if fields:\n",
      "   207                                                   # shouldn't ever be any left over\n",
      "   208                                                   raise RuntimeError('unexpected fields left over: %r' % set(fields))\n",
      "   209                                           \n",
      "   210         1            1      1.0      0.0      while True:\n",
      "   211                                           \n",
      "   212     19671         9382      0.5      0.0          if context.c == 0:\n",
      "   213         1            0      0.0      0.0              break\n",
      "   214                                           \n",
      "   215     19670         9411      0.5      0.0          elif context.state == ParserState.CHROM:\n",
      "   216      1967         7764      3.9      0.0              chrom_parser.parse(context)\n",
      "   217      1967         1031      0.5      0.0              context.state = ParserState.POS\n",
      "   218                                           \n",
      "   219     17703         8456      0.5      0.0          elif context.state == ParserState.POS:\n",
      "   220      1967        17697      9.0      0.1              pos_parser.parse(context)\n",
      "   221      1967         1091      0.6      0.0              context.state = ParserState.ID\n",
      "   222                                           \n",
      "   223     15736         7584      0.5      0.0          elif context.state == ParserState.ID:\n",
      "   224      1967         4719      2.4      0.0              id_parser.parse(context)\n",
      "   225      1967         1077      0.5      0.0              context.state = ParserState.REF\n",
      "   226                                           \n",
      "   227     13769         6644      0.5      0.0          elif context.state == ParserState.REF:\n",
      "   228      1967         4863      2.5      0.0              ref_parser.parse(context)\n",
      "   229      1967         1097      0.6      0.0              context.state = ParserState.ALT\n",
      "   230                                           \n",
      "   231     11802         5623      0.5      0.0          elif context.state == ParserState.ALT:\n",
      "   232      1967         6807      3.5      0.0              alt_parser.parse(context)\n",
      "   233      1967         1030      0.5      0.0              context.state = ParserState.QUAL\n",
      "   234                                           \n",
      "   235      9835         4785      0.5      0.0          elif context.state == ParserState.QUAL:\n",
      "   236      1967         8932      4.5      0.0              qual_parser.parse(context)\n",
      "   237      1967         1079      0.5      0.0              context.state = ParserState.FILTER\n",
      "   238                                           \n",
      "   239      7868         3943      0.5      0.0          elif context.state == ParserState.FILTER:\n",
      "   240      1967         6563      3.3      0.0              filter_parser.parse(context)\n",
      "   241      1967         1081      0.5      0.0              context.state = ParserState.INFO\n",
      "   242                                           \n",
      "   243      5901         3024      0.5      0.0          elif context.state == ParserState.INFO:\n",
      "   244                                                       # debug(context.variant_index, 'parse INFO')\n",
      "   245      1967         4709      2.4      0.0              info_parser.parse(context)\n",
      "   246      1967         1108      0.6      0.0              context.state = ParserState.FORMAT\n",
      "   247                                           \n",
      "   248      3934         2063      0.5      0.0          elif context.state == ParserState.FORMAT:\n",
      "   249      1967        10955      5.6      0.0              format_parser.parse(context)\n",
      "   250      1967         1179      0.6      0.0              context.state = ParserState.CALLDATA\n",
      "   251                                           \n",
      "   252      1967          953      0.5      0.0          elif context.state == ParserState.CALLDATA:\n",
      "   253      1967     23788570  12093.8     99.4              calldata_parser.parse(context)\n",
      "   254      1967         1093      0.6      0.0              context.state = ParserState.CHROM\n",
      "   255                                           \n",
      "   256                                                       # setup next variant\n",
      "   257                                                       # debug('setup next variant')\n",
      "   258      1967          973      0.5      0.0              context.variant_index += 1\n",
      "   259      1967          922      0.5      0.0              if context.chunk_variant_index < chunk_length - 1:\n",
      "   260      1966          986      0.5      0.0                  context.chunk_variant_index += 1\n",
      "   261                                           \n",
      "   262                                                       else:\n",
      "   263                                           \n",
      "   264                                                           # build chunk for output\n",
      "   265         1            2      2.0      0.0                  chunk = dict()\n",
      "   266         1           47     47.0      0.0                  chrom_parser.mkchunk(chunk)\n",
      "   267         1           11     11.0      0.0                  pos_parser.mkchunk(chunk)\n",
      "   268         1           12     12.0      0.0                  id_parser.mkchunk(chunk)\n",
      "   269         1            9      9.0      0.0                  ref_parser.mkchunk(chunk)\n",
      "   270         1           16     16.0      0.0                  alt_parser.mkchunk(chunk)\n",
      "   271         1           10     10.0      0.0                  qual_parser.mkchunk(chunk)\n",
      "   272         1           16     16.0      0.0                  filter_parser.mkchunk(chunk)\n",
      "   273         1            1      1.0      0.0                  info_parser.mkchunk(chunk)\n",
      "   274         1         1460   1460.0      0.0                  calldata_parser.mkchunk(chunk)\n",
      "   275                                                           # TODO yield\n",
      "   276         1            2      2.0      0.0                  chunks.append(chunk)\n",
      "   277                                           \n",
      "   278                                                           # setup next chunk\n",
      "   279         1            1      1.0      0.0                  context.chunk_variant_index = 0\n",
      "   280                                           \n",
      "   281                                                   else:\n",
      "   282                                                       # shouldn't ever happen\n",
      "   283                                                       raise RuntimeError('unexpected parser state')\n",
      "   284                                           \n",
      "   285                                               # left-over chunk\n",
      "   286         1            1      1.0      0.0      limit = context.chunk_variant_index\n",
      "   287         1            0      0.0      0.0      if limit > 0:\n",
      "   288         1            1      1.0      0.0          chunk = dict()\n",
      "   289         1           27     27.0      0.0          chrom_parser.mkchunk(chunk, limit=limit)\n",
      "   290         1           10     10.0      0.0          pos_parser.mkchunk(chunk, limit=limit)\n",
      "   291         1            9      9.0      0.0          id_parser.mkchunk(chunk, limit=limit)\n",
      "   292         1            7      7.0      0.0          ref_parser.mkchunk(chunk, limit=limit)\n",
      "   293         1           15     15.0      0.0          alt_parser.mkchunk(chunk, limit=limit)\n",
      "   294         1           18     18.0      0.0          qual_parser.mkchunk(chunk, limit=limit)\n",
      "   295         1           14     14.0      0.0          filter_parser.mkchunk(chunk, limit=limit)\n",
      "   296         1            1      1.0      0.0          info_parser.mkchunk(chunk, limit=limit)\n",
      "   297         1         1256   1256.0      0.0          calldata_parser.mkchunk(chunk, limit=limit)\n",
      "   298                                                   # TODO yield\n",
      "   299         1            1      1.0      0.0          chunks.append(chunk)\n",
      "   300                                           \n",
      "   301                                               # TODO yield\n",
      "   302         1           17     17.0      0.0      return chunks\n",
      "\n",
      "Total time: 13.673 s\n",
      "File: /home/aliman/src/github/cggh/scikit-allel/allel/opt/io_vcf_read.pyx\n",
      "Function: GenotypeInt8Parser_parse at line 1452\n",
      "\n",
      "Line #      Hits         Time  Per Hit   % Time  Line Contents\n",
      "==============================================================\n",
      "  1452                                           cpdef inline void GenotypeInt8Parser_parse(GenotypeInt8Parser self, ParserContext context):\n",
      "  1453                                               cdef:\n",
      "  1454   1520491       418450      0.3      3.1          int allele_index = 0\n",
      "  1455                                               # debug('GenotypeInt8Parser_parse')\n",
      "  1456                                           \n",
      "  1457                                               # reset temporary buffer\n",
      "  1458   1520491       563282      0.4      4.1      temp_clear(context)\n",
      "  1459                                           \n",
      "  1460   1520491       317756      0.2      2.3      while True:\n",
      "  1461                                           \n",
      "  1462   6081964      1218841      0.2      8.9          if context.c == PERIOD:\n",
      "  1463                                                       pass\n",
      "  1464                                           \n",
      "  1465   6081964      1249002      0.2      9.1          elif context.c == SLASH or context.c == PIPE:\n",
      "  1466                                           \n",
      "  1467   1520491      1531151      1.0     11.2              GenotypeInt8Parser_store(self, context, allele_index)\n",
      "  1468   1520491       309492      0.2      2.3              allele_index += 1\n",
      "  1469   1520491       572537      0.4      4.2              temp_clear(context)\n",
      "  1470                                           \n",
      "  1471   4561473       970231      0.2      7.1          elif context.c == COLON or context.c == TAB or context.c == NEWLINE:\n",
      "  1472                                           \n",
      "  1473   1520491      1500280      1.0     11.0              GenotypeInt8Parser_store(self, context, allele_index)\n",
      "  1474   1520491       309290      0.2      2.3              break\n",
      "  1475                                           \n",
      "  1476                                                   else:\n",
      "  1477                                           \n",
      "  1478   3040982      1399506      0.5     10.2              temp_append(context)\n",
      "  1479                                           \n",
      "  1480   4561473      3313201      0.7     24.2          ParserContext_next(context)\n",
      "  1481                                           \n",
      "  1482                                               # debug(context.variant_index, context.sample_index, 'GT',\n",
      "  1483                                               #       self.values[context.chunk_variant_index, context.sample_index])\n",
      "  1484                                           \n",
      "  1485                                           \n",
      "  1486                                           cdef inline void GenotypeInt8Parser_store(GenotypeInt8Parser self, ParserContext context,\n",
      "  1487                                                                                     int allele_index):\n",
      "  1488                                               cdef:\n",
      "  1489                                                   long allele\n",
      "  1490                                                   char* str_end\n",
      "  1491                                           \n",
      "  1492                                               if allele_index >= self.ploidy:\n",
      "  1493                                                   # more alleles than we've made room for, ignore\n",
      "  1494                                                   return\n",
      "  1495                                           \n",
      "  1496                                               if context.temp_size == 0:\n",
      "  1497                                                   # empty allele - note strictly kosher\n",
      "  1498                                                   return\n",
      "  1499                                           \n",
      "  1500                                               # attempt to parse allele\n",
      "  1501                                               allele = temp_strtol(context, -1)\n",
      "  1502                                           \n",
      "  1503                                               # store value\n",
      "  1504                                               self.memory[context.chunk_variant_index, context.sample_index, allele_index] = allele\n",
      "  1505                                           \n",
      "  1506                                           \n",
      "  1507                                           cdef class SkipInfoParser(Parser):\n",
      "  1508                                           \n",
      "  1509                                               def __cinit__(self):\n",
      "  1510                                                   pass\n",
      "  1511                                           \n",
      "  1512                                               cdef parse(self, ParserContext context):\n",
      "  1513                                                   # debug(context.variant_index, 'SkipInfoParser.parse', bytes([context.c]))\n",
      "  1514                                                   SkipInfoParser_parse(self, context)\n",
      "\n"
     ]
    }
   ],
   "source": [
    "import line_profiler\n",
    "l = line_profiler.LineProfiler()\n",
    "# l.add_function(_read_vcf)\n",
    "l.add_function(iter_vcf)\n",
    "# l.add_function(CalldataParser_parse)\n",
    "l.add_function(GenotypeInt8Parser_parse)\n",
    "# l.add_function(ParserContext_next)\n",
    "# l.add_function(BufferedReader_read)\n",
    "l.runcall(read_vcf, prof_vcf_fn, buffer_size=2**15, chunk_length=1000)\n",
    "l.print_stats()"
   ]
  },
  {
   "cell_type": "code",
   "execution_count": 26,
   "metadata": {
    "collapsed": true
   },
   "outputs": [],
   "source": [
    "import vcfnp"
   ]
  },
  {
   "cell_type": "code",
   "execution_count": 28,
   "metadata": {
    "collapsed": false
   },
   "outputs": [
    {
     "name": "stderr",
     "output_type": "stream",
     "text": [
      "[vcfnp] 2017-05-24 14:49:30.651145 :: caching is disabled\n",
      "[vcfnp] 2017-05-24 14:49:30.651788 :: building array\n"
     ]
    },
    {
     "name": "stdout",
     "output_type": "stream",
     "text": [
      "CPU times: user 4.31 s, sys: 0 ns, total: 4.31 s\n",
      "Wall time: 4.3 s\n"
     ]
    },
    {
     "data": {
      "text/plain": [
       "array([ (([0, 0],), ([0, 0],), ([0, 0],), ([0, 0],), ([0, 0],), ([0, 0],), ([0, 0],), ([0, 0],), ([0, 0],), ([0, 0],), ([0, 0],), ([0, 0],), ([0, 0],), ([0, 0],), ([0, 0],), ([0, 0],), ([0, 0],), ([0, 0],), ([0, 0],), ([0, 0],), ([0, 0],), ([0, 0],), ([0, 0],), ([0, 0],), ([0, 0],), ([0, 0],), ([0, 0],), ([0, 0],), ([0, 0],), ([0, 0],), ([0, 0],), ([0, 0],), ([0, 0],), ([0, 0],), ([0, 0],), ([0, 0],), ([0, 0],), ([0, 0],), ([0, 0],), ([0, 0],), ([0, 0],), ([0, 0],), ([0, 0],), ([0, 0],), ([0, 0],), ([0, 0],), ([0, 0],), ([0, 0],), ([0, 0],), ([0, 0],), ([0, 0],), ([0, 0],), ([0, 0],), ([0, 0],), ([0, 0],), ([0, 0],), ([0, 0],), ([0, 0],), ([0, 0],), ([0, 0],), ([0, 0],), ([0, 0],), ([0, 0],), ([0, 0],), ([0, 0],), ([0, 0],), ([0, 0],), ([0, 0],), ([0, 0],), ([0, 0],), ([0, 0],), ([0, 0],), ([0, 0],), ([0, 0],), ([0, 0],), ([0, 0],), ([0, 0],), ([0, 0],), ([0, 0],), ([0, 0],), ([0, 0],), ([0, 0],), ([0, 0],), ([0, 0],), ([0, 0],), ([0, 0],), ([0, 0],), ([0, 0],), ([0, 0],), ([0, 0],), ([0, 0],), ([0, 0],), ([0, 0],), ([0, 0],), ([0, 0],), ([0, 0],), ([0, 0],), ([0, 0],), ([0, 0],), ([0, 0],), ([0, 0],), ([0, 0],), ([0, 0],), ([0, 0],), ([0, 0],), ([0, 0],), ([0, 0],), ([0, 0],), ([0, 0],), ([0, 0],), ([0, 0],), ([0, 0],), ([0, 0],), ([0, 0],), ([0, 0],), ([0, 0],), ([0, 0],), ([0, 0],), ([0, 0],), ([0, 0],), ([0, 0],), ([0, 0],), ([0, 0],), ([0, 0],), ([0, 0],), ([0, 0],), ([0, 0],), ([0, 0],), ([0, 0],), ([0, 0],), ([0, 0],), ([0, 0],), ([0, 0],), ([0, 0],), ([0, 0],), ([0, 0],), ([0, 0],), ([0, 0],), ([0, 0],), ([0, 0],), ([0, 0],), ([0, 0],), ([0, 0],), ([0, 0],), ([0, 0],), ([0, 0],), ([0, 0],), ([0, 0],), ([0, 0],), ([0, 0],), ([0, 0],), ([0, 0],), ([0, 0],), ([0, 0],), ([0, 0],), ([0, 0],), ([0, 1],), ([1, 0],), ([0, 0],), ([0, 0],), ([0, 0],), ([0, 0],), ([1, 0],), ([0, 0],), ([0, 0],), ([0, 0],), ([1, 0],), ([0, 0],), ([0, 0],), ([0, 0],), ([0, 0],), ([0, 0],), ([0, 0],), ([0, 0],), ([0, 0],), ([0, 0],), ([0, 1],), ([1, 0],), ([1, 0],), ([0, 0],), ([0, 0],), ([0, 0],), ([0, 0],), ([0, 0],), ([0, 0],), ([0, 0],), ([0, 0],), ([0, 0],), ([1, 0],), ([0, 0],), ([0, 1],), ([0, 0],), ([0, 0],), ([0, 0],), ([0, 0],), ([0, 0],), ([0, 0],), ([0, 0],), ([0, 0],), ([0, 0],), ([0, 0],), ([0, 0],), ([0, 0],), ([1, 0],), ([0, 0],), ([0, 0],), ([0, 1],), ([0, 0],), ([0, 1],), ([0, 0],), ([0, 0],), ([0, 0],), ([0, 1],), ([0, 0],), ([0, 0],), ([1, 0],), ([0, 0],), ([1, 0],), ([0, 0],), ([0, 0],), ([0, 0],), ([0, 1],), ([0, 0],), ([0, 0],), ([0, 0],), ([1, 0],), ([0, 0],), ([0, 0],), ([0, 0],), ([0, 0],), ([0, 1],), ([0, 0],), ([0, 0],), ([0, 0],), ([0, 0],), ([0, 0],), ([0, 0],), ([0, 1],), ([0, 0],), ([0, 1],), ([0, 0],), ([0, 0],), ([0, 0],), ([0, 0],), ([0, 0],), ([0, 1],), ([1, 0],), ([0, 0],), ([0, 0],), ([0, 0],), ([0, 0],), ([0, 0],), ([0, 0],), ([0, 0],), ([0, 0],), ([0, 0],), ([0, 0],), ([0, 0],), ([0, 0],), ([0, 0],), ([0, 0],), ([0, 0],), ([0, 0],), ([0, 0],), ([0, 0],), ([0, 0],), ([0, 0],), ([0, 0],), ([0, 0],), ([0, 0],), ([0, 0],), ([0, 0],), ([0, 0],), ([0, 0],), ([0, 0],), ([0, 0],), ([0, 0],), ([0, 0],), ([0, 0],), ([0, 0],), ([0, 0],), ([0, 0],), ([0, 0],), ([0, 0],), ([0, 0],), ([0, 0],), ([0, 0],), ([0, 0],), ([0, 0],), ([0, 0],), ([0, 0],), ([0, 0],), ([0, 0],), ([0, 0],), ([0, 0],), ([0, 0],), ([0, 0],), ([0, 0],), ([0, 0],), ([0, 0],), ([0, 0],), ([0, 0],), ([0, 0],), ([0, 0],), ([0, 0],), ([0, 0],), ([0, 0],), ([0, 0],), ([0, 0],), ([0, 0],), ([0, 0],), ([0, 0],), ([0, 0],), ([0, 0],), ([0, 0],), ([0, 0],), ([0, 0],), ([0, 0],), ([0, 0],), ([0, 0],), ([0, 0],), ([0, 0],), ([0, 0],), ([0, 0],), ([0, 0],), ([0, 0],), ([0, 0],), ([0, 0],), ([0, 0],), ([0, 0],), ([0, 0],), ([0, 0],), ([0, 0],), ([0, 0],), ([0, 0],), ([0, 0],), ([0, 0],), ([0, 0],), ([0, 0],), ([0, 0],), ([0, 0],), ([0, 0],), ([0, 0],), ([0, 0],), ([0, 0],), ([0, 0],), ([0, 0],), ([0, 0],), ([0, 0],), ([0, 0],), ([0, 0],), ([0, 0],), ([0, 0],), ([0, 0],), ([0, 0],), ([0, 0],), ([0, 0],), ([0, 0],), ([0, 0],), ([0, 0],), ([0, 0],), ([0, 0],), ([0, 0],), ([0, 0],), ([0, 0],), ([0, 0],), ([0, 0],), ([0, 0],), ([0, 0],), ([0, 0],), ([0, 0],), ([0, 0],), ([0, 0],), ([0, 0],), ([0, 0],), ([0, 0],), ([0, 0],), ([0, 0],), ([0, 0],), ([0, 0],), ([0, 0],), ([0, 0],), ([0, 0],), ([0, 0],), ([0, 0],), ([0, 0],), ([0, 0],), ([0, 0],), ([0, 0],), ([0, 0],), ([0, 0],), ([0, 0],), ([0, 0],), ([0, 0],), ([0, 0],), ([0, 0],), ([0, 0],), ([0, 0],), ([0, 0],), ([0, 0],), ([0, 0],), ([0, 0],), ([0, 0],), ([0, 0],), ([0, 0],), ([0, 0],), ([0, 0],), ([0, 0],), ([0, 0],), ([0, 0],), ([0, 0],), ([0, 0],), ([0, 0],), ([0, 0],), ([0, 0],), ([0, 0],), ([0, 0],), ([0, 0],), ([0, 0],), ([0, 0],), ([0, 0],), ([0, 0],), ([0, 0],), ([0, 0],), ([0, 0],), ([0, 0],), ([0, 0],), ([0, 0],), ([0, 0],), ([0, 0],), ([0, 0],), ([0, 0],), ([0, 0],), ([0, 0],), ([0, 0],), ([0, 0],), ([0, 0],), ([0, 0],), ([0, 0],), ([0, 0],), ([0, 0],), ([0, 0],), ([0, 0],), ([0, 0],), ([0, 0],), ([0, 0],), ([0, 0],), ([0, 0],), ([0, 0],), ([0, 0],), ([0, 0],), ([0, 0],), ([0, 0],), ([0, 0],), ([0, 0],), ([0, 0],), ([0, 0],), ([0, 0],), ([0, 0],), ([0, 0],), ([0, 0],), ([0, 0],), ([0, 0],), ([0, 0],), ([0, 0],), ([0, 0],), ([0, 0],), ([0, 0],), ([0, 0],), ([0, 0],), ([0, 0],), ([0, 0],), ([0, 0],), ([0, 0],), ([0, 0],), ([0, 0],), ([0, 0],), ([0, 0],), ([0, 0],), ([0, 0],), ([0, 0],), ([0, 0],), ([0, 0],), ([0, 0],), ([0, 0],), ([0, 0],), ([0, 0],), ([0, 0],), ([0, 0],), ([0, 0],), ([0, 0],), ([0, 0],), ([0, 0],), ([0, 0],), ([0, 0],), ([0, 0],), ([0, 0],), ([0, 0],), ([0, 0],), ([0, 0],), ([0, 0],), ([0, 0],), ([0, 0],), ([0, 0],), ([0, 0],), ([0, 0],), ([0, 0],), ([0, 0],), ([0, 0],), ([0, 0],), ([0, 0],), ([0, 0],), ([0, 0],), ([0, 0],), ([0, 0],), ([0, 0],), ([0, 0],), ([0, 0],), ([0, 0],), ([0, 0],), ([0, 0],), ([0, 0],), ([0, 0],), ([0, 0],), ([0, 0],), ([0, 0],), ([0, 0],), ([0, 0],), ([0, 0],), ([0, 0],), ([0, 0],), ([0, 0],), ([0, 0],), ([0, 0],), ([0, 0],), ([0, 0],), ([0, 0],), ([0, 0],), ([0, 0],), ([0, 0],), ([0, 0],), ([0, 0],), ([0, 0],), ([0, 0],), ([0, 0],), ([0, 0],), ([0, 0],), ([0, 0],), ([0, 0],), ([0, 0],), ([0, 0],), ([0, 0],), ([0, 0],), ([0, 0],), ([0, 0],), ([0, 0],), ([0, 0],), ([0, 0],), ([0, 0],), ([0, 0],), ([0, 0],), ([0, 0],), ([0, 0],), ([0, 0],), ([0, 0],), ([0, 0],), ([0, 0],), ([0, 0],), ([0, 0],), ([0, 0],), ([0, 0],), ([0, 0],), ([0, 0],), ([0, 0],), ([0, 0],), ([0, 0],), ([0, 0],), ([0, 0],), ([0, 0],), ([0, 0],), ([0, 0],), ([0, 0],), ([0, 0],), ([0, 0],), ([0, 0],), ([0, 0],), ([0, 0],), ([0, 0],), ([0, 0],), ([0, 0],), ([0, 0],), ([0, 0],), ([0, 0],), ([0, 0],), ([0, 0],), ([0, 0],), ([0, 0],), ([0, 0],), ([0, 0],), ([0, 0],), ([0, 0],), ([0, 0],), ([0, 0],), ([0, 0],), ([0, 0],), ([0, 0],), ([0, 0],), ([0, 0],), ([0, 0],), ([0, 0],), ([0, 0],), ([0, 0],), ([0, 0],), ([0, 0],), ([0, 0],), ([0, 0],), ([0, 0],), ([0, 0],), ([0, 0],), ([0, 0],), ([0, 0],), ([0, 0],), ([0, 0],), ([0, 0],), ([0, 0],), ([0, 0],), ([0, 0],), ([0, 0],), ([0, 0],), ([0, 0],), ([0, 0],), ([0, 0],), ([0, 0],), ([0, 0],), ([0, 0],), ([0, 0],), ([0, 0],), ([0, 0],), ([0, 0],), ([0, 0],), ([0, 0],), ([0, 0],), ([0, 0],), ([0, 0],), ([0, 0],), ([0, 0],), ([0, 0],), ([0, 0],), ([0, 0],), ([0, 0],), ([0, 0],), ([0, 0],), ([0, 0],), ([0, 0],), ([0, 0],), ([0, 0],), ([0, 0],), ([0, 0],), ([0, 0],), ([0, 0],), ([0, 0],), ([0, 0],), ([0, 0],), ([0, 0],), ([0, 0],), ([0, 0],), ([0, 0],), ([0, 0],), ([0, 0],), ([0, 0],), ([0, 0],), ([0, 0],), ([0, 0],), ([0, 0],), ([0, 0],), ([0, 0],), ([0, 0],), ([0, 0],), ([0, 0],), ([0, 0],), ([0, 0],), ([0, 0],), ([0, 0],), ([0, 0],), ([0, 0],), ([0, 0],), ([0, 0],), ([0, 0],), ([0, 0],), ([0, 0],), ([0, 0],), ([0, 0],), ([0, 0],), ([0, 0],), ([0, 0],), ([0, 0],), ([0, 0],), ([0, 0],), ([0, 0],), ([0, 0],), ([0, 0],), ([0, 0],), ([0, 0],), ([0, 0],), ([0, 0],), ([0, 0],), ([0, 0],), ([0, 0],), ([0, 0],), ([0, 0],), ([0, 0],), ([0, 0],), ([0, 0],), ([0, 0],), ([0, 0],), ([0, 0],), ([0, 0],), ([0, 0],), ([0, 0],), ([0, 0],), ([0, 0],), ([0, 0],), ([0, 0],), ([0, 0],), ([0, 0],), ([0, 0],), ([0, 0],), ([0, 0],), ([0, 0],), ([0, 0],), ([0, 0],), ([0, 0],), ([0, 0],), ([0, 0],), ([0, 0],), ([0, 0],), ([0, 0],), ([0, 0],), ([0, 0],), ([0, 0],), ([0, 0],), ([0, 0],), ([0, 0],), ([0, 0],), ([0, 0],), ([0, 0],), ([0, 0],), ([0, 0],), ([0, 0],), ([0, 0],), ([0, 0],), ([0, 0],), ([0, 0],), ([0, 0],), ([0, 0],), ([0, 0],), ([0, 0],), ([0, 0],), ([0, 0],), ([0, 0],), ([0, 0],), ([0, 0],), ([0, 0],), ([0, 0],), ([0, 0],), ([0, 0],), ([0, 0],), ([0, 0],), ([0, 0],), ([0, 0],), ([0, 0],), ([0, 0],), ([0, 0],)),\n",
       "       (([0, 0],), ([0, 0],), ([0, 0],), ([0, 0],), ([0, 0],), ([0, 0],), ([0, 0],), ([0, 0],), ([0, 0],), ([0, 0],), ([0, 0],), ([0, 0],), ([0, 0],), ([0, 0],), ([0, 0],), ([0, 0],), ([0, 0],), ([0, 0],), ([0, 0],), ([0, 0],), ([0, 0],), ([0, 0],), ([0, 0],), ([0, 0],), ([0, 0],), ([0, 0],), ([0, 0],), ([0, 0],), ([0, 0],), ([0, 0],), ([0, 0],), ([0, 0],), ([0, 0],), ([0, 0],), ([0, 0],), ([0, 0],), ([0, 0],), ([0, 0],), ([0, 0],), ([0, 0],), ([0, 0],), ([0, 0],), ([0, 0],), ([0, 0],), ([0, 0],), ([0, 0],), ([0, 0],), ([0, 0],), ([0, 0],), ([0, 0],), ([0, 0],), ([0, 0],), ([0, 0],), ([0, 0],), ([0, 0],), ([0, 0],), ([0, 0],), ([0, 0],), ([0, 0],), ([0, 0],), ([0, 0],), ([0, 0],), ([0, 0],), ([0, 0],), ([0, 0],), ([0, 0],), ([0, 0],), ([0, 0],), ([0, 0],), ([0, 0],), ([0, 0],), ([0, 0],), ([0, 0],), ([0, 0],), ([0, 0],), ([0, 0],), ([0, 0],), ([0, 0],), ([0, 0],), ([0, 0],), ([0, 0],), ([0, 0],), ([0, 0],), ([0, 0],), ([0, 0],), ([0, 0],), ([0, 0],), ([0, 0],), ([0, 0],), ([0, 0],), ([0, 0],), ([0, 0],), ([0, 0],), ([0, 0],), ([0, 0],), ([0, 0],), ([0, 0],), ([0, 0],), ([0, 0],), ([0, 0],), ([0, 0],), ([0, 0],), ([0, 0],), ([0, 0],), ([0, 0],), ([0, 0],), ([0, 0],), ([0, 0],), ([0, 0],), ([0, 0],), ([0, 0],), ([0, 0],), ([0, 0],), ([0, 0],), ([0, 0],), ([0, 0],), ([0, 0],), ([0, 0],), ([0, 0],), ([0, 0],), ([0, 0],), ([0, 0],), ([0, 0],), ([0, 0],), ([0, 0],), ([0, 0],), ([0, 0],), ([0, 0],), ([0, 0],), ([0, 0],), ([0, 0],), ([0, 0],), ([0, 0],), ([0, 0],), ([0, 0],), ([0, 0],), ([0, 0],), ([0, 0],), ([0, 0],), ([0, 0],), ([0, 0],), ([0, 0],), ([0, 0],), ([0, 0],), ([0, 0],), ([0, 0],), ([0, 0],), ([0, 0],), ([0, 0],), ([0, 0],), ([0, 0],), ([0, 0],), ([0, 0],), ([0, 0],), ([0, 0],), ([0, 0],), ([0, 0],), ([0, 0],), ([0, 0],), ([0, 0],), ([0, 0],), ([0, 0],), ([0, 0],), ([0, 0],), ([0, 0],), ([0, 0],), ([0, 0],), ([0, 0],), ([0, 0],), ([0, 0],), ([0, 0],), ([0, 0],), ([0, 0],), ([0, 0],), ([0, 0],), ([0, 0],), ([0, 0],), ([0, 0],), ([0, 0],), ([0, 0],), ([0, 0],), ([0, 0],), ([0, 0],), ([0, 0],), ([0, 0],), ([0, 0],), ([0, 0],), ([0, 0],), ([0, 0],), ([0, 0],), ([0, 0],), ([0, 0],), ([0, 0],), ([0, 0],), ([0, 0],), ([0, 0],), ([0, 0],), ([0, 0],), ([0, 0],), ([0, 0],), ([0, 0],), ([0, 0],), ([0, 0],), ([0, 0],), ([0, 0],), ([0, 0],), ([0, 0],), ([0, 0],), ([0, 0],), ([0, 0],), ([0, 0],), ([0, 0],), ([0, 0],), ([0, 0],), ([0, 0],), ([0, 0],), ([0, 0],), ([0, 0],), ([0, 0],), ([0, 0],), ([0, 0],), ([0, 0],), ([0, 0],), ([0, 0],), ([0, 0],), ([0, 0],), ([0, 0],), ([0, 0],), ([0, 0],), ([0, 0],), ([0, 0],), ([0, 0],), ([0, 0],), ([0, 0],), ([0, 0],), ([0, 0],), ([0, 0],), ([0, 0],), ([0, 0],), ([0, 0],), ([0, 0],), ([0, 0],), ([0, 0],), ([0, 0],), ([0, 0],), ([0, 0],), ([0, 0],), ([0, 0],), ([0, 0],), ([0, 0],), ([0, 0],), ([0, 0],), ([0, 0],), ([0, 1],), ([1, 1],), ([0, 1],), ([1, 1],), ([1, 0],), ([0, 1],), ([0, 0],), ([0, 1],), ([0, 0],), ([1, 1],), ([0, 0],), ([1, 1],), ([0, 1],), ([0, 1],), ([1, 0],), ([1, 1],), ([0, 0],), ([1, 1],), ([0, 0],), ([1, 1],), ([1, 1],), ([0, 1],), ([0, 1],), ([0, 1],), ([1, 1],), ([1, 1],), ([0, 1],), ([0, 0],), ([0, 1],), ([0, 1],), ([0, 1],), ([0, 0],), ([0, 0],), ([0, 0],), ([0, 1],), ([1, 1],), ([0, 0],), ([0, 0],), ([0, 1],), ([0, 1],), ([0, 0],), ([0, 0],), ([0, 0],), ([0, 0],), ([0, 0],), ([0, 0],), ([0, 0],), ([0, 0],), ([0, 0],), ([0, 0],), ([0, 0],), ([0, 0],), ([0, 0],), ([0, 0],), ([0, 0],), ([0, 0],), ([0, 0],), ([0, 0],), ([0, 0],), ([0, 0],), ([0, 0],), ([0, 0],), ([0, 0],), ([0, 0],), ([0, 0],), ([0, 0],), ([0, 0],), ([0, 0],), ([0, 0],), ([0, 0],), ([0, 0],), ([0, 0],), ([0, 0],), ([0, 0],), ([0, 0],), ([0, 0],), ([0, 0],), ([0, 0],), ([0, 0],), ([0, 0],), ([0, 0],), ([0, 0],), ([0, 0],), ([0, 0],), ([0, 0],), ([0, 0],), ([0, 0],), ([0, 0],), ([0, 0],), ([0, 0],), ([0, 0],), ([0, 0],), ([0, 0],), ([0, 0],), ([0, 0],), ([0, 0],), ([0, 0],), ([0, 0],), ([0, 0],), ([0, 0],), ([0, 0],), ([0, 0],), ([0, 0],), ([0, 0],), ([0, 0],), ([0, 0],), ([0, 0],), ([0, 0],), ([0, 0],), ([0, 0],), ([0, 0],), ([0, 0],), ([0, 0],), ([0, 0],), ([0, 0],), ([0, 0],), ([0, 0],), ([0, 0],), ([0, 0],), ([0, 0],), ([0, 0],), ([0, 0],), ([0, 0],), ([0, 0],), ([0, 0],), ([0, 0],), ([0, 0],), ([0, 0],), ([0, 0],), ([0, 0],), ([0, 0],), ([0, 0],), ([0, 0],), ([0, 0],), ([0, 0],), ([0, 0],), ([0, 0],), ([0, 0],), ([0, 0],), ([0, 0],), ([0, 0],), ([0, 0],), ([0, 0],), ([0, 0],), ([0, 0],), ([0, 0],), ([0, 0],), ([0, 0],), ([0, 0],), ([0, 0],), ([0, 0],), ([0, 0],), ([0, 0],), ([0, 0],), ([0, 0],), ([0, 0],), ([0, 0],), ([0, 0],), ([0, 0],), ([0, 0],), ([0, 0],), ([0, 0],), ([0, 0],), ([0, 0],), ([0, 0],), ([0, 0],), ([0, 0],), ([0, 0],), ([0, 0],), ([0, 0],), ([0, 0],), ([0, 0],), ([0, 0],), ([0, 0],), ([0, 0],), ([0, 0],), ([0, 0],), ([0, 0],), ([0, 0],), ([0, 0],), ([0, 0],), ([0, 0],), ([0, 0],), ([0, 0],), ([0, 0],), ([0, 0],), ([0, 0],), ([0, 0],), ([0, 0],), ([0, 0],), ([0, 0],), ([0, 0],), ([0, 0],), ([0, 0],), ([0, 0],), ([0, 0],), ([0, 0],), ([0, 0],), ([0, 0],), ([0, 0],), ([0, 0],), ([0, 0],), ([0, 0],), ([0, 0],), ([0, 0],), ([0, 0],), ([0, 0],), ([0, 0],), ([0, 0],), ([0, 0],), ([0, 0],), ([0, 0],), ([0, 0],), ([0, 0],), ([0, 0],), ([0, 0],), ([0, 0],), ([0, 0],), ([0, 0],), ([0, 0],), ([0, 0],), ([0, 0],), ([0, 0],), ([0, 0],), ([0, 0],), ([0, 0],), ([0, 0],), ([0, 0],), ([0, 0],), ([0, 0],), ([0, 0],), ([0, 0],), ([0, 0],), ([0, 0],), ([0, 0],), ([0, 0],), ([0, 0],), ([0, 0],), ([0, 0],), ([0, 0],), ([0, 0],), ([0, 0],), ([0, 0],), ([0, 0],), ([0, 0],), ([0, 0],), ([0, 0],), ([0, 0],), ([0, 0],), ([0, 0],), ([0, 0],), ([0, 0],), ([0, 0],), ([0, 0],), ([0, 0],), ([0, 0],), ([0, 0],), ([0, 0],), ([0, 0],), ([0, 0],), ([0, 0],), ([0, 0],), ([0, 0],), ([0, 0],), ([0, 0],), ([0, 0],), ([0, 0],), ([0, 0],), ([0, 0],), ([0, 0],), ([0, 0],), ([0, 0],), ([0, 0],), ([0, 0],), ([0, 0],), ([0, 0],), ([0, 0],), ([0, 0],), ([0, 0],), ([0, 0],), ([0, 0],), ([0, 0],), ([0, 0],), ([0, 0],), ([0, 0],), ([0, 0],), ([0, 0],), ([0, 0],), ([0, 0],), ([0, 0],), ([0, 0],), ([0, 0],), ([0, 0],), ([0, 0],), ([0, 0],), ([0, 0],), ([0, 0],), ([0, 0],), ([0, 0],), ([0, 0],), ([0, 0],), ([0, 0],), ([0, 0],), ([0, 0],), ([0, 0],), ([0, 0],), ([0, 0],), ([0, 0],), ([0, 0],), ([0, 0],), ([0, 0],), ([0, 0],), ([0, 0],), ([0, 0],), ([0, 0],), ([0, 0],), ([0, 0],), ([0, 0],), ([0, 0],), ([0, 0],), ([0, 0],), ([0, 0],), ([0, 0],), ([0, 0],), ([0, 0],), ([0, 0],), ([0, 0],), ([0, 0],), ([0, 0],), ([0, 0],), ([0, 0],), ([0, 0],), ([0, 0],), ([0, 0],), ([0, 0],), ([0, 0],), ([0, 0],), ([0, 0],), ([0, 0],), ([0, 0],), ([0, 0],), ([0, 0],), ([0, 0],), ([0, 0],), ([0, 0],), ([0, 0],), ([0, 0],), ([0, 0],), ([0, 0],), ([0, 0],), ([0, 0],), ([0, 0],), ([0, 0],), ([0, 0],), ([0, 0],), ([0, 0],), ([0, 0],), ([0, 0],), ([0, 0],), ([0, 0],), ([0, 0],), ([0, 0],), ([0, 0],), ([0, 0],), ([0, 0],), ([0, 0],), ([0, 0],), ([0, 0],), ([0, 0],), ([0, 0],), ([0, 0],), ([0, 0],), ([0, 0],), ([0, 0],), ([0, 0],), ([0, 0],), ([0, 0],), ([0, 0],), ([0, 0],), ([0, 0],), ([0, 0],), ([0, 0],), ([0, 0],), ([0, 0],), ([0, 0],), ([0, 0],), ([0, 0],), ([0, 0],), ([0, 0],), ([0, 0],), ([0, 0],), ([0, 0],), ([0, 0],), ([0, 0],), ([0, 0],), ([0, 0],), ([0, 0],), ([0, 0],), ([0, 0],), ([0, 0],), ([0, 0],), ([0, 0],), ([0, 0],), ([0, 0],), ([0, 0],), ([0, 0],), ([0, 0],), ([0, 0],), ([0, 0],), ([0, 0],), ([0, 0],), ([0, 0],), ([0, 0],), ([0, 0],), ([0, 0],), ([0, 0],), ([0, 0],), ([0, 0],), ([0, 0],), ([0, 0],), ([0, 0],), ([0, 0],), ([0, 0],), ([0, 0],), ([0, 0],), ([0, 0],), ([0, 0],), ([0, 0],), ([0, 0],), ([0, 0],), ([0, 0],), ([0, 0],), ([0, 0],), ([0, 0],), ([0, 0],), ([0, 0],), ([0, 0],), ([0, 0],), ([0, 0],), ([0, 0],), ([0, 0],), ([0, 0],), ([0, 0],), ([0, 0],), ([0, 0],), ([0, 0],), ([0, 0],), ([0, 0],), ([0, 0],), ([0, 0],), ([0, 0],), ([0, 0],), ([0, 0],), ([0, 0],), ([0, 0],), ([0, 0],), ([0, 0],), ([0, 0],), ([0, 0],), ([0, 0],), ([0, 0],), ([0, 0],), ([0, 0],), ([0, 0],), ([0, 0],), ([0, 0],), ([0, 0],), ([0, 0],), ([0, 0],), ([0, 0],), ([0, 0],), ([0, 0],), ([0, 0],), ([0, 0],), ([0, 0],), ([0, 0],), ([0, 0],), ([0, 0],), ([0, 0],), ([0, 0],), ([0, 0],), ([0, 0],), ([0, 0],), ([0, 0],), ([0, 0],), ([0, 0],), ([0, 0],), ([0, 0],), ([0, 0],), ([0, 0],), ([0, 0],), ([0, 0],), ([0, 0],), ([0, 0],), ([0, 0],), ([0, 0],), ([0, 0],), ([0, 0],), ([0, 0],), ([0, 0],), ([0, 0],), ([0, 0],), ([0, 0],), ([0, 0],), ([0, 0],), ([0, 0],), ([0, 0],), ([0, 0],), ([0, 0],), ([0, 0],), ([0, 0],), ([0, 0],), ([0, 0],), ([0, 0],), ([0, 0],), ([0, 0],), ([0, 0],), ([0, 0],), ([0, 0],), ([0, 0],)),\n",
       "       (([0, 0],), ([0, 0],), ([0, 0],), ([0, 0],), ([0, 0],), ([0, 0],), ([0, 0],), ([0, 0],), ([0, 0],), ([0, 0],), ([0, 0],), ([0, 0],), ([0, 0],), ([0, 0],), ([0, 0],), ([0, 0],), ([0, 0],), ([0, 0],), ([0, 0],), ([0, 0],), ([0, 0],), ([0, 0],), ([0, 0],), ([0, 0],), ([0, 0],), ([0, 0],), ([0, 0],), ([0, 0],), ([0, 0],), ([0, 0],), ([0, 0],), ([0, 0],), ([0, 0],), ([0, 0],), ([0, 0],), ([0, 0],), ([0, 0],), ([0, 0],), ([0, 0],), ([0, 0],), ([0, 0],), ([0, 0],), ([0, 0],), ([0, 0],), ([0, 0],), ([0, 0],), ([0, 0],), ([0, 0],), ([0, 0],), ([0, 0],), ([0, 0],), ([0, 0],), ([0, 0],), ([0, 0],), ([0, 0],), ([0, 0],), ([0, 0],), ([0, 0],), ([0, 0],), ([0, 0],), ([0, 0],), ([0, 0],), ([0, 0],), ([0, 0],), ([0, 0],), ([0, 0],), ([0, 0],), ([0, 0],), ([0, 0],), ([0, 0],), ([0, 0],), ([0, 0],), ([0, 0],), ([0, 0],), ([0, 0],), ([0, 0],), ([0, 0],), ([0, 0],), ([0, 0],), ([0, 0],), ([0, 0],), ([0, 0],), ([0, 0],), ([0, 0],), ([0, 0],), ([0, 0],), ([0, 0],), ([0, 0],), ([0, 0],), ([0, 0],), ([0, 0],), ([0, 0],), ([0, 0],), ([0, 0],), ([0, 0],), ([0, 0],), ([0, 0],), ([0, 0],), ([0, 0],), ([0, 0],), ([0, 0],), ([0, 0],), ([0, 0],), ([0, 0],), ([0, 0],), ([0, 0],), ([0, 0],), ([0, 0],), ([0, 0],), ([0, 0],), ([0, 0],), ([0, 0],), ([0, 0],), ([0, 0],), ([0, 0],), ([0, 0],), ([0, 0],), ([0, 0],), ([0, 0],), ([0, 0],), ([0, 0],), ([0, 0],), ([0, 0],), ([0, 0],), ([0, 0],), ([0, 0],), ([0, 0],), ([0, 0],), ([0, 0],), ([0, 0],), ([0, 0],), ([0, 0],), ([0, 0],), ([0, 0],), ([0, 0],), ([0, 0],), ([0, 0],), ([0, 0],), ([0, 0],), ([0, 0],), ([0, 0],), ([0, 0],), ([0, 0],), ([0, 0],), ([0, 0],), ([0, 0],), ([0, 0],), ([0, 0],), ([0, 0],), ([0, 0],), ([0, 0],), ([0, 0],), ([0, 0],), ([0, 0],), ([0, 0],), ([0, 0],), ([0, 0],), ([0, 0],), ([0, 0],), ([0, 0],), ([0, 0],), ([0, 0],), ([0, 0],), ([0, 0],), ([0, 0],), ([0, 0],), ([0, 0],), ([0, 0],), ([0, 0],), ([0, 0],), ([0, 0],), ([0, 0],), ([0, 0],), ([0, 0],), ([0, 0],), ([0, 0],), ([0, 0],), ([0, 0],), ([0, 0],), ([0, 0],), ([0, 0],), ([0, 0],), ([0, 0],), ([0, 0],), ([0, 0],), ([0, 0],), ([0, 0],), ([0, 0],), ([0, 0],), ([0, 0],), ([0, 0],), ([0, 0],), ([0, 0],), ([0, 0],), ([0, 0],), ([0, 0],), ([0, 0],), ([0, 0],), ([0, 0],), ([0, 0],), ([0, 0],), ([0, 0],), ([0, 0],), ([0, 0],), ([0, 0],), ([0, 0],), ([0, 0],), ([0, 0],), ([0, 0],), ([0, 0],), ([0, 0],), ([0, 0],), ([0, 0],), ([0, 0],), ([0, 0],), ([0, 0],), ([0, 0],), ([0, 0],), ([0, 0],), ([0, 0],), ([0, 0],), ([0, 0],), ([0, 0],), ([0, 0],), ([0, 0],), ([0, 0],), ([0, 0],), ([0, 0],), ([0, 0],), ([0, 0],), ([0, 0],), ([0, 0],), ([0, 0],), ([0, 0],), ([0, 0],), ([0, 0],), ([0, 0],), ([0, 0],), ([0, 0],), ([0, 0],), ([0, 0],), ([0, 0],), ([0, 0],), ([0, 0],), ([0, 0],), ([0, 0],), ([0, 0],), ([0, 0],), ([0, 0],), ([0, 0],), ([0, 0],), ([0, 0],), ([0, 0],), ([0, 0],), ([0, 0],), ([0, 0],), ([0, 0],), ([0, 0],), ([0, 0],), ([0, 0],), ([0, 0],), ([0, 0],), ([0, 0],), ([0, 0],), ([0, 0],), ([0, 0],), ([0, 0],), ([0, 0],), ([0, 0],), ([0, 0],), ([0, 0],), ([0, 0],), ([0, 0],), ([0, 0],), ([1, 0],), ([0, 0],), ([0, 0],), ([0, 0],), ([0, 0],), ([0, 0],), ([0, 0],), ([0, 0],), ([0, 0],), ([0, 0],), ([0, 0],), ([0, 0],), ([0, 0],), ([0, 0],), ([0, 0],), ([0, 0],), ([0, 0],), ([0, 0],), ([0, 0],), ([0, 0],), ([0, 0],), ([0, 0],), ([0, 1],), ([0, 0],), ([0, 0],), ([0, 0],), ([0, 0],), ([0, 0],), ([0, 0],), ([0, 0],), ([0, 0],), ([0, 0],), ([0, 0],), ([0, 0],), ([0, 0],), ([0, 0],), ([0, 0],), ([0, 0],), ([0, 0],), ([0, 0],), ([0, 0],), ([0, 0],), ([0, 0],), ([0, 0],), ([0, 0],), ([0, 0],), ([0, 0],), ([0, 0],), ([0, 0],), ([0, 0],), ([0, 0],), ([0, 0],), ([0, 0],), ([0, 0],), ([0, 0],), ([0, 0],), ([0, 0],), ([0, 0],), ([0, 0],), ([0, 0],), ([0, 0],), ([0, 0],), ([0, 0],), ([0, 0],), ([0, 0],), ([0, 0],), ([0, 0],), ([0, 0],), ([0, 0],), ([0, 0],), ([0, 0],), ([0, 0],), ([0, 0],), ([0, 0],), ([0, 0],), ([0, 0],), ([0, 0],), ([0, 0],), ([0, 0],), ([0, 0],), ([0, 0],), ([0, 0],), ([0, 0],), ([0, 0],), ([0, 0],), ([0, 0],), ([0, 0],), ([0, 0],), ([0, 0],), ([0, 0],), ([0, 0],), ([0, 0],), ([0, 0],), ([0, 0],), ([0, 0],), ([0, 0],), ([0, 0],), ([0, 0],), ([0, 0],), ([0, 0],), ([0, 0],), ([0, 0],), ([0, 0],), ([0, 0],), ([0, 0],), ([0, 0],), ([0, 0],), ([0, 0],), ([0, 0],), ([0, 0],), ([0, 0],), ([0, 0],), ([0, 0],), ([0, 0],), ([0, 0],), ([0, 0],), ([0, 0],), ([0, 0],), ([0, 0],), ([0, 0],), ([0, 0],), ([0, 0],), ([0, 0],), ([0, 0],), ([0, 0],), ([0, 0],), ([0, 0],), ([0, 0],), ([0, 0],), ([0, 0],), ([0, 0],), ([0, 0],), ([0, 0],), ([0, 0],), ([0, 0],), ([0, 0],), ([0, 0],), ([0, 0],), ([0, 0],), ([0, 0],), ([0, 0],), ([0, 0],), ([0, 0],), ([0, 0],), ([0, 0],), ([0, 0],), ([0, 0],), ([0, 0],), ([0, 0],), ([0, 0],), ([0, 0],), ([0, 0],), ([0, 0],), ([0, 0],), ([0, 0],), ([0, 0],), ([0, 0],), ([0, 0],), ([0, 0],), ([0, 0],), ([0, 0],), ([0, 0],), ([0, 0],), ([0, 0],), ([0, 0],), ([0, 0],), ([0, 0],), ([0, 0],), ([0, 0],), ([0, 0],), ([0, 0],), ([0, 0],), ([0, 0],), ([0, 0],), ([0, 0],), ([0, 0],), ([0, 0],), ([0, 0],), ([0, 0],), ([0, 0],), ([0, 0],), ([0, 0],), ([0, 0],), ([0, 0],), ([0, 0],), ([0, 0],), ([0, 0],), ([0, 0],), ([0, 0],), ([0, 0],), ([0, 0],), ([0, 0],), ([0, 0],), ([0, 0],), ([0, 0],), ([0, 0],), ([0, 0],), ([0, 0],), ([0, 0],), ([0, 0],), ([0, 0],), ([0, 0],), ([0, 0],), ([0, 0],), ([0, 0],), ([0, 0],), ([0, 0],), ([0, 0],), ([0, 0],), ([0, 0],), ([0, 0],), ([0, 0],), ([0, 0],), ([0, 0],), ([0, 0],), ([0, 0],), ([0, 0],), ([0, 0],), ([0, 0],), ([0, 0],), ([0, 0],), ([0, 0],), ([0, 0],), ([0, 0],), ([0, 0],), ([0, 0],), ([0, 0],), ([0, 0],), ([0, 0],), ([0, 0],), ([0, 0],), ([0, 0],), ([0, 0],), ([0, 0],), ([0, 0],), ([0, 0],), ([0, 0],), ([0, 0],), ([0, 0],), ([0, 0],), ([0, 0],), ([0, 0],), ([0, 0],), ([0, 0],), ([0, 0],), ([0, 0],), ([0, 0],), ([0, 0],), ([0, 0],), ([0, 0],), ([0, 0],), ([0, 0],), ([0, 0],), ([0, 0],), ([0, 0],), ([0, 0],), ([0, 0],), ([0, 0],), ([0, 0],), ([0, 0],), ([0, 0],), ([0, 0],), ([0, 0],), ([0, 0],), ([0, 0],), ([0, 0],), ([0, 0],), ([0, 0],), ([0, 0],), ([0, 0],), ([0, 0],), ([0, 0],), ([0, 0],), ([0, 0],), ([0, 0],), ([0, 0],), ([0, 0],), ([0, 0],), ([0, 0],), ([0, 0],), ([0, 0],), ([0, 0],), ([0, 0],), ([0, 0],), ([0, 0],), ([0, 0],), ([0, 0],), ([0, 0],), ([0, 0],), ([0, 0],), ([0, 0],), ([0, 0],), ([0, 0],), ([0, 0],), ([0, 0],), ([0, 0],), ([0, 0],), ([0, 0],), ([0, 0],), ([0, 0],), ([0, 0],), ([0, 0],), ([0, 0],), ([0, 0],), ([0, 0],), ([0, 0],), ([0, 0],), ([0, 0],), ([0, 0],), ([0, 0],), ([0, 0],), ([0, 0],), ([0, 0],), ([0, 0],), ([0, 0],), ([0, 0],), ([0, 0],), ([0, 0],), ([0, 0],), ([0, 0],), ([0, 0],), ([0, 0],), ([0, 0],), ([0, 0],), ([0, 0],), ([0, 0],), ([0, 0],), ([0, 0],), ([0, 0],), ([0, 0],), ([0, 0],), ([0, 0],), ([0, 0],), ([0, 0],), ([0, 0],), ([0, 0],), ([0, 0],), ([0, 0],), ([0, 0],), ([0, 0],), ([0, 0],), ([0, 0],), ([0, 0],), ([0, 0],), ([0, 0],), ([0, 0],), ([0, 0],), ([0, 0],), ([0, 0],), ([0, 0],), ([0, 0],), ([0, 0],), ([0, 0],), ([0, 0],), ([0, 0],), ([0, 0],), ([0, 0],), ([0, 0],), ([0, 0],), ([0, 0],), ([0, 0],), ([0, 0],), ([0, 0],), ([0, 0],), ([0, 0],), ([0, 0],), ([0, 0],), ([0, 0],), ([0, 0],), ([0, 0],), ([0, 0],), ([0, 0],), ([0, 0],), ([0, 0],), ([0, 0],), ([0, 0],), ([0, 0],), ([0, 0],), ([0, 0],), ([0, 0],), ([0, 0],), ([0, 0],), ([0, 0],), ([0, 0],), ([0, 0],), ([0, 0],), ([0, 0],), ([0, 0],), ([0, 0],), ([0, 0],), ([0, 0],), ([0, 0],), ([0, 0],), ([0, 0],), ([0, 0],), ([0, 0],), ([0, 0],), ([0, 0],), ([0, 0],), ([0, 0],), ([0, 0],), ([0, 0],), ([0, 0],), ([0, 0],), ([0, 0],), ([0, 0],), ([0, 0],), ([0, 0],), ([0, 0],), ([0, 0],), ([0, 0],), ([0, 0],), ([0, 0],), ([0, 0],), ([0, 0],), ([0, 0],), ([0, 0],), ([0, 0],), ([0, 0],), ([0, 0],), ([0, 0],), ([0, 0],), ([0, 0],), ([0, 0],), ([0, 0],), ([0, 0],), ([0, 0],), ([0, 0],), ([0, 0],), ([0, 0],), ([0, 0],), ([0, 0],), ([0, 0],), ([0, 0],), ([0, 0],), ([0, 0],), ([0, 0],), ([0, 0],), ([0, 0],), ([0, 0],), ([0, 0],), ([0, 0],), ([0, 0],), ([0, 0],), ([0, 0],), ([0, 0],), ([0, 0],), ([0, 0],), ([0, 0],), ([0, 0],), ([0, 0],), ([0, 0],), ([0, 0],), ([0, 0],), ([0, 0],), ([0, 0],), ([0, 0],), ([0, 0],), ([0, 0],), ([0, 0],), ([0, 0],), ([0, 0],), ([0, 0],), ([0, 0],), ([0, 0],), ([0, 0],), ([0, 0],), ([0, 0],), ([0, 0],), ([0, 0],), ([0, 0],), ([0, 0],), ([0, 0],), ([0, 0],), ([0, 0],), ([0, 0],), ([0, 0],), ([0, 0],), ([0, 0],), ([0, 0],), ([0, 0],), ([0, 0],), ([0, 0],), ([0, 0],), ([0, 0],), ([0, 0],), ([0, 0],), ([0, 0],), ([0, 0],), ([0, 0],), ([0, 0],), ([0, 0],), ([0, 0],), ([0, 0],), ([0, 0],), ([0, 0],), ([0, 0],), ([0, 0],), ([0, 0],)),\n",
       "       ...,\n",
       "       (([0, 0],), ([0, 0],), ([0, 0],), ([0, 0],), ([0, 0],), ([0, 0],), ([0, 0],), ([0, 0],), ([0, 0],), ([0, 0],), ([0, 0],), ([0, 0],), ([0, 0],), ([0, 0],), ([0, 0],), ([0, 0],), ([0, 0],), ([0, 0],), ([0, 0],), ([0, 0],), ([0, 0],), ([0, 0],), ([0, 0],), ([0, 0],), ([0, 0],), ([0, 0],), ([0, 0],), ([0, 0],), ([0, 0],), ([0, 0],), ([0, 0],), ([0, 0],), ([0, 0],), ([0, 0],), ([0, 0],), ([0, 0],), ([0, 0],), ([0, 0],), ([0, 0],), ([0, 0],), ([0, 0],), ([0, 0],), ([0, 0],), ([0, 0],), ([0, 0],), ([0, 0],), ([0, 0],), ([0, 0],), ([0, 0],), ([0, 0],), ([0, 0],), ([0, 0],), ([0, 0],), ([0, 0],), ([0, 0],), ([0, 0],), ([0, 0],), ([0, 0],), ([0, 0],), ([0, 0],), ([0, 0],), ([0, 0],), ([0, 0],), ([0, 0],), ([0, 0],), ([0, 0],), ([0, 0],), ([0, 0],), ([0, 0],), ([0, 0],), ([0, 0],), ([0, 0],), ([0, 0],), ([0, 0],), ([0, 0],), ([0, 0],), ([0, 0],), ([0, 0],), ([0, 0],), ([0, 0],), ([0, 0],), ([0, 0],), ([0, 0],), ([0, 0],), ([0, 0],), ([0, 0],), ([0, 0],), ([0, 0],), ([0, 0],), ([0, 0],), ([0, 0],), ([0, 0],), ([0, 0],), ([0, 0],), ([0, 0],), ([0, 0],), ([0, 0],), ([0, 0],), ([0, 0],), ([0, 0],), ([0, 0],), ([0, 0],), ([0, 0],), ([0, 0],), ([0, 0],), ([0, 0],), ([0, 0],), ([0, 0],), ([0, 0],), ([0, 0],), ([0, 0],), ([0, 0],), ([0, 0],), ([0, 0],), ([0, 0],), ([0, 0],), ([0, 0],), ([0, 0],), ([0, 0],), ([0, 0],), ([0, 0],), ([0, 0],), ([0, 0],), ([0, 0],), ([0, 0],), ([0, 0],), ([0, 0],), ([0, 0],), ([0, 0],), ([0, 0],), ([0, 0],), ([0, 0],), ([0, 0],), ([0, 0],), ([0, 0],), ([0, 0],), ([0, 0],), ([0, 0],), ([0, 0],), ([0, 0],), ([0, 0],), ([0, 0],), ([0, 0],), ([0, 0],), ([0, 0],), ([0, 0],), ([0, 0],), ([0, 0],), ([0, 0],), ([0, 0],), ([0, 0],), ([0, 0],), ([0, 0],), ([0, 0],), ([0, 0],), ([0, 0],), ([0, 0],), ([0, 0],), ([0, 0],), ([0, 0],), ([0, 0],), ([0, 0],), ([0, 0],), ([0, 0],), ([0, 0],), ([0, 0],), ([0, 0],), ([0, 0],), ([0, 0],), ([0, 0],), ([0, 0],), ([0, 0],), ([0, 0],), ([0, 0],), ([0, 0],), ([0, 0],), ([0, 0],), ([0, 0],), ([0, 0],), ([0, 0],), ([0, 0],), ([0, 0],), ([0, 0],), ([0, 0],), ([0, 0],), ([0, 0],), ([0, 0],), ([0, 0],), ([0, 0],), ([0, 0],), ([0, 0],), ([0, 0],), ([0, 0],), ([0, 0],), ([0, 0],), ([0, 0],), ([0, 0],), ([0, 0],), ([0, 0],), ([0, 0],), ([0, 0],), ([0, 0],), ([0, 0],), ([0, 0],), ([0, 0],), ([0, 0],), ([0, 0],), ([0, 0],), ([0, 0],), ([0, 0],), ([0, 0],), ([0, 0],), ([0, 0],), ([0, 0],), ([0, 0],), ([0, 0],), ([0, 0],), ([0, 0],), ([0, 0],), ([0, 0],), ([0, 0],), ([0, 0],), ([0, 0],), ([0, 0],), ([0, 0],), ([0, 0],), ([0, 0],), ([0, 0],), ([0, 0],), ([0, 0],), ([0, 0],), ([0, 0],), ([0, 0],), ([0, 0],), ([0, 0],), ([0, 0],), ([0, 0],), ([0, 0],), ([0, 0],), ([0, 0],), ([0, 0],), ([0, 0],), ([0, 0],), ([0, 0],), ([0, 0],), ([0, 0],), ([0, 0],), ([0, 0],), ([0, 0],), ([0, 0],), ([0, 0],), ([0, 0],), ([0, 0],), ([0, 0],), ([0, 0],), ([0, 0],), ([0, 0],), ([0, 0],), ([0, 0],), ([0, 0],), ([0, 0],), ([0, 0],), ([0, 0],), ([0, 0],), ([0, 0],), ([0, 0],), ([0, 0],), ([0, 0],), ([0, 0],), ([0, 0],), ([0, 0],), ([0, 0],), ([0, 0],), ([0, 0],), ([0, 0],), ([0, 0],), ([0, 0],), ([0, 0],), ([0, 0],), ([0, 0],), ([0, 0],), ([0, 0],), ([0, 0],), ([0, 0],), ([0, 0],), ([0, 0],), ([0, 0],), ([0, 0],), ([0, 0],), ([0, 0],), ([0, 0],), ([0, 0],), ([0, 0],), ([0, 0],), ([0, 0],), ([0, 0],), ([0, 0],), ([0, 0],), ([0, 0],), ([0, 0],), ([0, 0],), ([0, 0],), ([0, 0],), ([0, 0],), ([0, 0],), ([0, 0],), ([0, 0],), ([0, 0],), ([0, 0],), ([0, 0],), ([0, 0],), ([0, 0],), ([0, 0],), ([0, 0],), ([0, 0],), ([0, 0],), ([0, 0],), ([0, 0],), ([0, 0],), ([0, 0],), ([0, 0],), ([0, 0],), ([0, 0],), ([0, 0],), ([0, 0],), ([0, 0],), ([0, 0],), ([0, 0],), ([0, 0],), ([0, 0],), ([0, 0],), ([0, 0],), ([0, 0],), ([0, 0],), ([0, 0],), ([0, 0],), ([0, 0],), ([0, 0],), ([0, 0],), ([0, 0],), ([0, 0],), ([0, 0],), ([0, 0],), ([0, 0],), ([0, 0],), ([0, 0],), ([0, 0],), ([0, 0],), ([0, 0],), ([0, 0],), ([0, 0],), ([0, 0],), ([0, 0],), ([0, 0],), ([0, 0],), ([0, 0],), ([0, 0],), ([0, 0],), ([0, 0],), ([0, 0],), ([0, 0],), ([0, 0],), ([0, 0],), ([0, 0],), ([0, 0],), ([0, 0],), ([0, 0],), ([0, 0],), ([0, 0],), ([0, 0],), ([0, 0],), ([0, 0],), ([0, 0],), ([0, 0],), ([0, 0],), ([0, 0],), ([0, 0],), ([0, 0],), ([0, 0],), ([0, 0],), ([0, 0],), ([0, 0],), ([0, 0],), ([0, 0],), ([0, 0],), ([0, 0],), ([0, 0],), ([0, 0],), ([0, 0],), ([0, 0],), ([0, 0],), ([0, 0],), ([0, 0],), ([0, 0],), ([0, 0],), ([0, 0],), ([0, 0],), ([0, 0],), ([0, 0],), ([0, 0],), ([0, 0],), ([0, 0],), ([0, 0],), ([0, 0],), ([0, 0],), ([0, 0],), ([0, 0],), ([0, 0],), ([0, 0],), ([0, 0],), ([0, 0],), ([0, 0],), ([0, 0],), ([0, 0],), ([0, 0],), ([0, 0],), ([0, 0],), ([0, 0],), ([0, 0],), ([0, 0],), ([0, 0],), ([0, 0],), ([0, 0],), ([0, 0],), ([0, 0],), ([0, 0],), ([0, 0],), ([0, 0],), ([0, 0],), ([0, 0],), ([0, 0],), ([0, 0],), ([0, 0],), ([0, 0],), ([0, 0],), ([0, 0],), ([0, 0],), ([0, 0],), ([0, 0],), ([0, 0],), ([0, 0],), ([0, 0],), ([0, 0],), ([0, 0],), ([0, 0],), ([0, 0],), ([0, 0],), ([0, 0],), ([0, 0],), ([0, 0],), ([0, 0],), ([0, 0],), ([0, 0],), ([0, 0],), ([0, 0],), ([0, 0],), ([0, 0],), ([0, 0],), ([0, 0],), ([0, 0],), ([0, 0],), ([0, 0],), ([0, 0],), ([0, 0],), ([0, 0],), ([0, 0],), ([0, 0],), ([0, 0],), ([0, 0],), ([0, 0],), ([0, 0],), ([0, 0],), ([0, 0],), ([0, 0],), ([0, 0],), ([0, 0],), ([0, 0],), ([0, 0],), ([0, 0],), ([0, 0],), ([0, 0],), ([0, 0],), ([0, 0],), ([0, 0],), ([0, 0],), ([0, 0],), ([0, 0],), ([0, 0],), ([0, 0],), ([0, 0],), ([0, 0],), ([0, 0],), ([0, 0],), ([0, 0],), ([0, 0],), ([0, 0],), ([0, 0],), ([0, 0],), ([0, 0],), ([0, 0],), ([0, 0],), ([0, 0],), ([0, 0],), ([0, 0],), ([0, 0],), ([0, 0],), ([0, 0],), ([0, 0],), ([0, 0],), ([0, 0],), ([0, 0],), ([0, 0],), ([0, 0],), ([0, 0],), ([0, 0],), ([0, 0],), ([0, 0],), ([0, 0],), ([0, 0],), ([0, 0],), ([0, 0],), ([0, 0],), ([0, 0],), ([0, 0],), ([0, 0],), ([0, 0],), ([0, 0],), ([0, 0],), ([0, 0],), ([0, 0],), ([0, 0],), ([0, 0],), ([0, 0],), ([0, 0],), ([0, 0],), ([0, 0],), ([0, 0],), ([0, 0],), ([0, 0],), ([0, 0],), ([0, 0],), ([0, 0],), ([0, 0],), ([0, 0],), ([0, 0],), ([0, 0],), ([0, 0],), ([0, 0],), ([0, 0],), ([0, 0],), ([0, 0],), ([0, 0],), ([0, 0],), ([0, 0],), ([0, 0],), ([0, 0],), ([0, 0],), ([0, 0],), ([0, 0],), ([0, 0],), ([0, 0],), ([0, 0],), ([0, 0],), ([0, 0],), ([0, 0],), ([0, 0],), ([0, 0],), ([0, 0],), ([0, 0],), ([0, 0],), ([0, 0],), ([0, 0],), ([0, 0],), ([0, 0],), ([0, 0],), ([0, 0],), ([0, 0],), ([0, 0],), ([0, 0],), ([0, 0],), ([0, 0],), ([0, 0],), ([0, 0],), ([0, 0],), ([0, 0],), ([0, 0],), ([0, 0],), ([0, 0],), ([0, 0],), ([0, 0],), ([0, 0],), ([0, 0],), ([0, 0],), ([0, 0],), ([0, 0],), ([0, 0],), ([0, 0],), ([0, 0],), ([0, 0],), ([0, 0],), ([0, 0],), ([0, 0],), ([0, 0],), ([0, 0],), ([0, 0],), ([0, 0],), ([0, 0],), ([0, 0],), ([0, 0],), ([0, 0],), ([0, 0],), ([0, 0],), ([0, 0],), ([0, 0],), ([0, 0],), ([0, 0],), ([0, 0],), ([0, 0],), ([0, 0],), ([0, 0],), ([0, 0],), ([0, 0],), ([0, 0],), ([0, 0],), ([0, 0],), ([0, 0],), ([0, 0],), ([0, 0],), ([0, 0],), ([0, 0],), ([0, 0],), ([0, 0],), ([0, 0],), ([0, 0],), ([1, 0],), ([0, 0],), ([0, 0],), ([0, 0],), ([0, 0],), ([0, 0],), ([0, 0],), ([0, 0],), ([0, 0],), ([0, 0],), ([0, 0],), ([0, 0],), ([0, 0],), ([0, 0],), ([0, 0],), ([0, 0],), ([0, 0],), ([0, 0],), ([0, 0],), ([0, 0],), ([0, 0],), ([0, 0],), ([0, 0],), ([0, 0],), ([0, 0],), ([0, 0],), ([1, 0],), ([0, 0],), ([0, 0],), ([0, 0],), ([0, 0],), ([0, 0],), ([0, 0],), ([0, 0],), ([0, 0],), ([0, 0],), ([0, 0],), ([0, 0],), ([0, 0],), ([0, 0],), ([0, 0],), ([0, 0],), ([0, 0],), ([0, 0],), ([0, 0],), ([0, 0],), ([0, 0],), ([0, 0],), ([0, 0],), ([0, 0],), ([0, 0],), ([0, 0],), ([0, 0],), ([0, 0],), ([0, 0],), ([0, 0],), ([0, 0],), ([0, 0],), ([0, 0],), ([0, 0],), ([0, 0],), ([0, 0],), ([0, 0],), ([0, 0],), ([0, 0],), ([0, 0],), ([0, 0],), ([0, 0],), ([0, 0],), ([0, 0],), ([0, 0],), ([0, 0],), ([0, 0],), ([0, 0],), ([0, 0],), ([0, 0],), ([0, 0],), ([0, 0],), ([0, 0],), ([0, 0],), ([0, 0],), ([0, 0],), ([0, 0],), ([0, 0],), ([0, 0],), ([0, 0],), ([0, 0],), ([0, 0],), ([0, 0],), ([0, 0],), ([0, 0],), ([0, 0],), ([0, 0],), ([0, 0],), ([0, 0],), ([0, 0],), ([0, 0],), ([0, 0],), ([0, 0],), ([0, 0],), ([0, 0],), ([0, 0],), ([0, 0],), ([0, 0],), ([0, 0],), ([0, 0],), ([0, 0],), ([0, 0],), ([0, 0],), ([0, 0],), ([0, 0],), ([0, 0],), ([0, 0],), ([0, 0],), ([0, 0],), ([0, 0],), ([0, 0],), ([0, 0],), ([0, 0],), ([0, 0],), ([0, 0],), ([0, 0],), ([0, 0],), ([0, 0],), ([0, 0],), ([0, 0],), ([0, 0],), ([0, 0],), ([0, 0],), ([0, 0],), ([0, 0],), ([0, 0],), ([0, 0],), ([0, 0],), ([0, 0],), ([0, 0],), ([0, 0],), ([0, 0],), ([0, 0],)),\n",
       "       (([1, 1],), ([0, 1],), ([1, 1],), ([1, 1],), ([0, 1],), ([0, 1],), ([1, 1],), ([1, 1],), ([1, 1],), ([1, 1],), ([1, 1],), ([1, 1],), ([1, 1],), ([1, 1],), ([1, 1],), ([1, 1],), ([1, 1],), ([0, 1],), ([1, 1],), ([0, 1],), ([1, 1],), ([1, 1],), ([1, 1],), ([1, 1],), ([1, 1],), ([1, 1],), ([1, 1],), ([1, 1],), ([1, 1],), ([1, 1],), ([1, 1],), ([1, 1],), ([1, 1],), ([1, 1],), ([1, 1],), ([1, 1],), ([1, 1],), ([0, 1],), ([1, 1],), ([1, 1],), ([1, 1],), ([1, 1],), ([1, 1],), ([1, 1],), ([1, 1],), ([1, 1],), ([1, 1],), ([1, 1],), ([1, 1],), ([1, 1],), ([1, 1],), ([1, 1],), ([1, 1],), ([1, 1],), ([1, 1],), ([1, 1],), ([1, 1],), ([1, 1],), ([1, 1],), ([1, 1],), ([1, 1],), ([1, 1],), ([1, 1],), ([1, 1],), ([1, 1],), ([1, 1],), ([1, 1],), ([0, 1],), ([1, 1],), ([1, 1],), ([1, 1],), ([1, 1],), ([1, 1],), ([1, 1],), ([0, 1],), ([1, 1],), ([1, 1],), ([1, 1],), ([0, 1],), ([1, 1],), ([1, 1],), ([1, 1],), ([1, 1],), ([1, 1],), ([1, 1],), ([0, 1],), ([1, 1],), ([1, 1],), ([1, 1],), ([1, 1],), ([1, 1],), ([1, 1],), ([1, 1],), ([0, 1],), ([1, 1],), ([1, 1],), ([1, 1],), ([1, 1],), ([1, 1],), ([1, 1],), ([1, 1],), ([0, 1],), ([1, 1],), ([1, 1],), ([0, 1],), ([1, 1],), ([1, 1],), ([1, 1],), ([1, 1],), ([1, 1],), ([1, 1],), ([1, 1],), ([1, 1],), ([0, 1],), ([1, 1],), ([1, 0],), ([1, 1],), ([1, 1],), ([0, 1],), ([1, 1],), ([1, 1],), ([1, 1],), ([1, 1],), ([1, 1],), ([1, 1],), ([0, 1],), ([1, 1],), ([1, 1],), ([1, 1],), ([1, 1],), ([0, 1],), ([1, 1],), ([1, 1],), ([0, 0],), ([1, 0],), ([1, 1],), ([1, 1],), ([1, 1],), ([1, 1],), ([1, 1],), ([1, 1],), ([1, 1],), ([1, 1],), ([1, 1],), ([1, 1],), ([1, 1],), ([1, 1],), ([1, 1],), ([1, 1],), ([1, 1],), ([1, 1],), ([1, 1],), ([1, 1],), ([1, 1],), ([1, 1],), ([1, 1],), ([1, 1],), ([1, 1],), ([1, 1],), ([1, 1],), ([1, 1],), ([1, 1],), ([1, 1],), ([1, 1],), ([1, 1],), ([1, 1],), ([1, 1],), ([1, 1],), ([1, 1],), ([1, 1],), ([1, 1],), ([1, 1],), ([1, 1],), ([1, 1],), ([1, 1],), ([1, 1],), ([1, 1],), ([1, 1],), ([1, 1],), ([1, 1],), ([1, 1],), ([1, 1],), ([1, 1],), ([1, 1],), ([1, 1],), ([1, 1],), ([1, 1],), ([1, 1],), ([1, 1],), ([1, 1],), ([1, 1],), ([1, 1],), ([1, 1],), ([1, 1],), ([1, 1],), ([1, 1],), ([1, 1],), ([1, 1],), ([1, 1],), ([1, 1],), ([1, 1],), ([1, 1],), ([1, 1],), ([1, 1],), ([1, 1],), ([1, 1],), ([1, 1],), ([1, 1],), ([1, 1],), ([1, 1],), ([1, 1],), ([1, 1],), ([1, 1],), ([1, 1],), ([1, 1],), ([1, 1],), ([1, 1],), ([1, 1],), ([1, 1],), ([1, 1],), ([1, 1],), ([1, 1],), ([1, 1],), ([1, 1],), ([1, 1],), ([1, 1],), ([1, 1],), ([1, 1],), ([1, 1],), ([1, 1],), ([1, 1],), ([1, 1],), ([1, 1],), ([1, 1],), ([1, 1],), ([1, 1],), ([1, 1],), ([1, 1],), ([1, 1],), ([1, 1],), ([1, 1],), ([1, 1],), ([1, 1],), ([1, 1],), ([1, 1],), ([1, 1],), ([1, 1],), ([1, 1],), ([1, 1],), ([1, 1],), ([1, 1],), ([1, 1],), ([1, 1],), ([0, 1],), ([1, 1],), ([1, 1],), ([1, 1],), ([1, 0],), ([1, 1],), ([1, 1],), ([1, 0],), ([1, 1],), ([1, 1],), ([1, 0],), ([1, 1],), ([1, 1],), ([1, 1],), ([1, 1],), ([1, 0],), ([0, 1],), ([0, 1],), ([1, 0],), ([1, 1],), ([1, 1],), ([1, 1],), ([0, 1],), ([1, 0],), ([1, 1],), ([1, 1],), ([1, 1],), ([0, 1],), ([1, 1],), ([1, 1],), ([1, 1],), ([0, 0],), ([0, 1],), ([1, 1],), ([0, 1],), ([1, 1],), ([0, 1],), ([0, 1],), ([1, 0],), ([1, 1],), ([0, 1],), ([0, 1],), ([1, 0],), ([1, 1],), ([1, 1],), ([0, 0],), ([1, 0],), ([1, 1],), ([1, 1],), ([1, 1],), ([0, 1],), ([1, 1],), ([1, 0],), ([1, 0],), ([0, 1],), ([1, 0],), ([0, 0],), ([1, 0],), ([1, 1],), ([0, 0],), ([1, 0],), ([1, 1],), ([1, 1],), ([1, 1],), ([1, 1],), ([1, 1],), ([1, 1],), ([1, 1],), ([1, 1],), ([1, 1],), ([1, 1],), ([1, 1],), ([1, 1],), ([1, 1],), ([1, 1],), ([1, 1],), ([0, 1],), ([1, 1],), ([1, 1],), ([1, 1],), ([0, 1],), ([1, 1],), ([1, 1],), ([1, 1],), ([1, 1],), ([0, 1],), ([1, 1],), ([1, 1],), ([0, 1],), ([1, 1],), ([1, 1],), ([1, 1],), ([1, 1],), ([1, 1],), ([1, 1],), ([1, 1],), ([1, 1],), ([1, 1],), ([1, 1],), ([1, 1],), ([1, 1],), ([1, 1],), ([1, 1],), ([1, 1],), ([1, 1],), ([1, 1],), ([1, 1],), ([1, 1],), ([1, 1],), ([1, 1],), ([1, 1],), ([1, 1],), ([1, 1],), ([1, 1],), ([1, 1],), ([1, 1],), ([1, 1],), ([1, 1],), ([1, 1],), ([1, 1],), ([1, 1],), ([1, 1],), ([1, 1],), ([1, 1],), ([1, 1],), ([1, 1],), ([1, 1],), ([1, 1],), ([1, 1],), ([1, 1],), ([1, 1],), ([1, 1],), ([1, 1],), ([1, 1],), ([1, 1],), ([1, 1],), ([1, 1],), ([1, 1],), ([1, 1],), ([1, 1],), ([1, 1],), ([1, 1],), ([1, 1],), ([1, 1],), ([1, 1],), ([1, 1],), ([1, 1],), ([1, 1],), ([1, 1],), ([1, 1],), ([1, 1],), ([1, 1],), ([1, 1],), ([1, 1],), ([1, 1],), ([1, 1],), ([1, 1],), ([1, 1],), ([1, 1],), ([1, 1],), ([1, 1],), ([1, 1],), ([1, 1],), ([1, 1],), ([1, 1],), ([1, 1],), ([1, 1],), ([1, 1],), ([1, 1],), ([1, 1],), ([1, 1],), ([1, 1],), ([1, 1],), ([1, 1],), ([1, 1],), ([1, 1],), ([1, 1],), ([1, 1],), ([1, 1],), ([1, 1],), ([1, 1],), ([1, 1],), ([1, 1],), ([1, 1],), ([1, 1],), ([1, 1],), ([1, 1],), ([1, 1],), ([1, 1],), ([1, 1],), ([1, 1],), ([1, 1],), ([1, 1],), ([1, 1],), ([1, 1],), ([1, 1],), ([1, 1],), ([1, 1],), ([1, 1],), ([1, 1],), ([1, 1],), ([1, 1],), ([1, 1],), ([1, 1],), ([1, 1],), ([1, 1],), ([1, 1],), ([1, 1],), ([1, 1],), ([1, 1],), ([1, 1],), ([1, 1],), ([1, 1],), ([1, 1],), ([1, 1],), ([1, 1],), ([1, 1],), ([1, 1],), ([1, 1],), ([1, 1],), ([1, 1],), ([1, 1],), ([1, 1],), ([1, 1],), ([1, 1],), ([1, 1],), ([1, 1],), ([1, 1],), ([1, 1],), ([1, 1],), ([1, 1],), ([1, 1],), ([1, 1],), ([1, 1],), ([1, 1],), ([1, 1],), ([1, 1],), ([1, 1],), ([1, 1],), ([1, 1],), ([1, 1],), ([1, 1],), ([1, 1],), ([1, 1],), ([1, 1],), ([1, 1],), ([1, 1],), ([1, 1],), ([1, 1],), ([1, 1],), ([1, 1],), ([1, 1],), ([1, 1],), ([1, 1],), ([1, 1],), ([1, 1],), ([1, 1],), ([1, 1],), ([1, 1],), ([1, 1],), ([1, 1],), ([1, 1],), ([1, 1],), ([1, 1],), ([1, 1],), ([1, 1],), ([1, 1],), ([1, 1],), ([1, 1],), ([1, 1],), ([1, 1],), ([1, 1],), ([1, 1],), ([1, 1],), ([1, 1],), ([1, 1],), ([1, 1],), ([1, 1],), ([1, 1],), ([1, 1],), ([1, 1],), ([1, 1],), ([1, 1],), ([1, 1],), ([1, 1],), ([1, 1],), ([1, 1],), ([1, 1],), ([1, 1],), ([1, 1],), ([1, 1],), ([1, 1],), ([1, 1],), ([1, 1],), ([1, 1],), ([1, 1],), ([1, 1],), ([1, 1],), ([1, 1],), ([1, 1],), ([1, 1],), ([1, 1],), ([1, 1],), ([1, 1],), ([1, 1],), ([1, 1],), ([1, 1],), ([1, 1],), ([1, 1],), ([1, 1],), ([1, 1],), ([1, 1],), ([1, 1],), ([1, 1],), ([1, 1],), ([1, 1],), ([1, 1],), ([1, 1],), ([1, 1],), ([1, 1],), ([1, 1],), ([1, 1],), ([1, 1],), ([1, 1],), ([1, 1],), ([1, 1],), ([1, 1],), ([1, 1],), ([1, 1],), ([1, 1],), ([1, 1],), ([1, 1],), ([1, 1],), ([1, 1],), ([1, 1],), ([1, 1],), ([1, 1],), ([1, 1],), ([1, 1],), ([1, 1],), ([1, 1],), ([1, 1],), ([1, 1],), ([1, 1],), ([1, 1],), ([1, 1],), ([1, 1],), ([1, 1],), ([1, 1],), ([1, 1],), ([1, 1],), ([1, 1],), ([1, 1],), ([1, 1],), ([1, 1],), ([1, 1],), ([1, 1],), ([1, 1],), ([1, 1],), ([1, 1],), ([1, 1],), ([1, 1],), ([1, 1],), ([1, 1],), ([1, 1],), ([1, 1],), ([1, 1],), ([1, 1],), ([1, 1],), ([1, 1],), ([0, 1],), ([1, 1],), ([1, 1],), ([1, 1],), ([1, 1],), ([1, 1],), ([1, 1],), ([1, 1],), ([1, 1],), ([0, 0],), ([0, 1],), ([0, 1],), ([0, 1],), ([1, 1],), ([1, 1],), ([1, 1],), ([1, 1],), ([1, 1],), ([1, 1],), ([1, 1],), ([1, 1],), ([0, 1],), ([1, 1],), ([1, 1],), ([1, 1],), ([1, 1],), ([0, 1],), ([1, 1],), ([1, 1],), ([1, 1],), ([1, 1],), ([1, 1],), ([0, 1],), ([1, 1],), ([1, 1],), ([0, 1],), ([0, 1],), ([0, 1],), ([1, 1],), ([1, 1],), ([0, 1],), ([1, 1],), ([1, 1],), ([0, 0],), ([1, 1],), ([0, 1],), ([1, 1],), ([1, 1],), ([1, 1],), ([1, 1],), ([1, 1],), ([1, 1],), ([1, 1],), ([1, 1],), ([0, 1],), ([1, 1],), ([1, 1],), ([1, 1],), ([1, 1],), ([1, 1],), ([1, 1],), ([1, 1],), ([1, 1],), ([1, 1],), ([1, 1],), ([1, 1],), ([1, 1],), ([1, 1],), ([1, 1],), ([1, 1],), ([1, 1],), ([1, 1],), ([1, 1],), ([1, 1],), ([1, 1],), ([1, 1],), ([1, 1],), ([1, 1],), ([1, 1],), ([1, 1],), ([1, 1],), ([1, 1],), ([1, 1],), ([1, 1],), ([1, 1],), ([1, 1],), ([1, 1],), ([1, 1],), ([1, 1],), ([1, 1],), ([1, 1],), ([1, 1],), ([1, 1],), ([1, 1],), ([1, 1],), ([1, 1],), ([1, 1],), ([1, 1],), ([1, 1],), ([1, 1],), ([1, 1],), ([1, 1],), ([1, 1],), ([1, 1],), ([1, 1],), ([1, 1],), ([1, 1],), ([1, 1],), ([1, 1],), ([1, 1],), ([1, 1],), ([1, 1],), ([1, 1],), ([1, 1],), ([1, 1],), ([1, 1],), ([1, 1],), ([1, 1],), ([1, 1],), ([1, 1],), ([1, 1],), ([1, 1],), ([1, 1],), ([1, 1],), ([1, 1],), ([1, 1],), ([1, 1],), ([1, 1],), ([1, 1],), ([1, 1],), ([1, 1],), ([1, 1],), ([1, 1],), ([1, 1],), ([1, 1],), ([1, 1],), ([1, 1],), ([1, 1],), ([1, 1],), ([1, 1],), ([1, 1],), ([1, 1],), ([1, 1],), ([0, 0],), ([0, 1],), ([0, 0],), ([1, 0],), ([0, 0],), ([1, 1],), ([0, 1],)),\n",
       "       (([0, 0],), ([0, 0],), ([0, 0],), ([0, 0],), ([0, 0],), ([0, 0],), ([0, 0],), ([0, 0],), ([0, 0],), ([0, 0],), ([0, 0],), ([0, 0],), ([0, 0],), ([0, 0],), ([0, 0],), ([0, 0],), ([0, 0],), ([0, 0],), ([0, 0],), ([0, 0],), ([0, 0],), ([0, 0],), ([0, 0],), ([0, 0],), ([0, 0],), ([0, 0],), ([0, 0],), ([0, 0],), ([0, 0],), ([0, 0],), ([0, 0],), ([0, 0],), ([0, 0],), ([0, 0],), ([0, 0],), ([0, 0],), ([0, 0],), ([0, 0],), ([0, 0],), ([0, 0],), ([0, 0],), ([0, 0],), ([0, 0],), ([0, 0],), ([0, 0],), ([0, 0],), ([0, 0],), ([0, 0],), ([0, 0],), ([0, 0],), ([0, 0],), ([0, 0],), ([0, 0],), ([0, 0],), ([0, 0],), ([0, 0],), ([0, 0],), ([0, 0],), ([0, 0],), ([0, 0],), ([0, 0],), ([0, 0],), ([0, 0],), ([0, 0],), ([0, 0],), ([0, 0],), ([0, 0],), ([0, 0],), ([0, 0],), ([0, 0],), ([0, 0],), ([0, 0],), ([0, 0],), ([0, 0],), ([0, 0],), ([0, 0],), ([0, 0],), ([0, 0],), ([0, 0],), ([0, 0],), ([0, 0],), ([0, 0],), ([0, 0],), ([0, 0],), ([0, 0],), ([0, 0],), ([0, 0],), ([0, 0],), ([0, 0],), ([0, 0],), ([0, 0],), ([0, 0],), ([0, 0],), ([0, 0],), ([0, 0],), ([0, 0],), ([0, 0],), ([0, 0],), ([0, 0],), ([0, 0],), ([0, 0],), ([0, 0],), ([0, 0],), ([0, 0],), ([0, 0],), ([0, 0],), ([0, 0],), ([0, 0],), ([0, 0],), ([0, 0],), ([0, 0],), ([0, 0],), ([0, 0],), ([0, 0],), ([0, 0],), ([0, 0],), ([0, 0],), ([0, 0],), ([0, 0],), ([0, 0],), ([0, 0],), ([0, 0],), ([0, 0],), ([0, 0],), ([0, 0],), ([0, 0],), ([0, 0],), ([0, 0],), ([0, 0],), ([0, 0],), ([0, 0],), ([0, 0],), ([0, 0],), ([0, 0],), ([0, 0],), ([0, 0],), ([0, 0],), ([0, 0],), ([0, 0],), ([0, 0],), ([0, 0],), ([0, 0],), ([0, 0],), ([0, 0],), ([0, 0],), ([0, 0],), ([0, 0],), ([0, 0],), ([0, 0],), ([0, 0],), ([0, 0],), ([0, 0],), ([0, 0],), ([0, 0],), ([0, 0],), ([0, 0],), ([0, 0],), ([0, 0],), ([0, 0],), ([0, 0],), ([0, 0],), ([0, 0],), ([0, 0],), ([0, 0],), ([0, 0],), ([0, 0],), ([0, 0],), ([0, 0],), ([0, 0],), ([0, 0],), ([0, 0],), ([0, 0],), ([0, 0],), ([0, 0],), ([0, 0],), ([0, 0],), ([0, 0],), ([0, 0],), ([0, 0],), ([0, 0],), ([0, 0],), ([0, 0],), ([0, 0],), ([0, 0],), ([0, 0],), ([0, 0],), ([0, 0],), ([0, 0],), ([0, 0],), ([0, 0],), ([0, 0],), ([0, 0],), ([0, 0],), ([0, 0],), ([0, 0],), ([0, 0],), ([0, 0],), ([0, 0],), ([0, 0],), ([0, 0],), ([0, 0],), ([0, 0],), ([0, 0],), ([0, 0],), ([0, 0],), ([0, 0],), ([0, 0],), ([0, 0],), ([0, 0],), ([0, 0],), ([0, 0],), ([0, 0],), ([0, 0],), ([0, 0],), ([0, 0],), ([0, 0],), ([0, 0],), ([0, 0],), ([0, 0],), ([0, 0],), ([0, 0],), ([0, 0],), ([0, 0],), ([0, 0],), ([0, 0],), ([0, 0],), ([0, 0],), ([0, 0],), ([0, 0],), ([0, 0],), ([0, 0],), ([0, 0],), ([0, 0],), ([0, 0],), ([0, 0],), ([0, 0],), ([0, 0],), ([0, 0],), ([0, 0],), ([0, 0],), ([0, 0],), ([0, 0],), ([0, 0],), ([0, 0],), ([0, 0],), ([0, 0],), ([0, 0],), ([0, 0],), ([0, 0],), ([0, 0],), ([0, 0],), ([0, 0],), ([0, 0],), ([0, 0],), ([0, 0],), ([0, 0],), ([0, 0],), ([0, 0],), ([0, 0],), ([0, 0],), ([0, 0],), ([0, 0],), ([0, 0],), ([0, 0],), ([0, 1],), ([0, 0],), ([0, 0],), ([0, 0],), ([0, 0],), ([0, 0],), ([0, 0],), ([0, 0],), ([0, 0],), ([0, 0],), ([0, 0],), ([0, 0],), ([0, 0],), ([0, 0],), ([0, 0],), ([0, 0],), ([0, 0],), ([0, 0],), ([0, 0],), ([0, 0],), ([0, 0],), ([0, 0],), ([0, 0],), ([0, 0],), ([0, 0],), ([0, 0],), ([0, 0],), ([0, 0],), ([0, 0],), ([0, 0],), ([0, 0],), ([0, 0],), ([0, 0],), ([0, 0],), ([0, 0],), ([0, 0],), ([0, 0],), ([0, 0],), ([0, 0],), ([0, 0],), ([0, 0],), ([0, 0],), ([0, 0],), ([0, 0],), ([0, 0],), ([0, 0],), ([0, 0],), ([0, 0],), ([0, 0],), ([0, 0],), ([0, 0],), ([0, 0],), ([0, 0],), ([0, 0],), ([0, 0],), ([0, 0],), ([0, 0],), ([0, 0],), ([0, 0],), ([0, 0],), ([0, 0],), ([0, 0],), ([0, 0],), ([0, 0],), ([0, 0],), ([0, 0],), ([0, 0],), ([0, 0],), ([0, 0],), ([0, 0],), ([0, 0],), ([0, 0],), ([0, 0],), ([0, 0],), ([0, 0],), ([0, 0],), ([0, 0],), ([0, 0],), ([0, 0],), ([0, 0],), ([0, 0],), ([0, 0],), ([0, 0],), ([0, 0],), ([0, 0],), ([0, 0],), ([0, 0],), ([0, 0],), ([0, 0],), ([0, 0],), ([0, 0],), ([0, 0],), ([0, 0],), ([0, 0],), ([0, 0],), ([0, 0],), ([0, 0],), ([0, 0],), ([0, 0],), ([0, 0],), ([0, 0],), ([0, 0],), ([0, 0],), ([0, 0],), ([0, 0],), ([0, 0],), ([0, 0],), ([0, 0],), ([0, 0],), ([0, 0],), ([0, 0],), ([0, 0],), ([0, 0],), ([0, 0],), ([0, 0],), ([0, 0],), ([0, 0],), ([0, 0],), ([0, 0],), ([0, 0],), ([0, 0],), ([0, 0],), ([0, 0],), ([0, 0],), ([0, 0],), ([0, 0],), ([0, 0],), ([0, 0],), ([0, 0],), ([0, 0],), ([0, 0],), ([0, 0],), ([0, 0],), ([0, 0],), ([0, 0],), ([0, 0],), ([0, 0],), ([0, 0],), ([0, 0],), ([0, 0],), ([0, 0],), ([0, 0],), ([0, 0],), ([0, 0],), ([0, 0],), ([0, 0],), ([0, 0],), ([0, 0],), ([0, 0],), ([0, 0],), ([0, 0],), ([0, 0],), ([0, 0],), ([0, 0],), ([0, 0],), ([0, 0],), ([0, 0],), ([0, 0],), ([0, 0],), ([0, 0],), ([0, 0],), ([0, 0],), ([0, 0],), ([0, 0],), ([0, 0],), ([0, 0],), ([0, 0],), ([0, 0],), ([0, 0],), ([0, 0],), ([0, 0],), ([0, 0],), ([0, 0],), ([0, 0],), ([0, 0],), ([0, 0],), ([0, 0],), ([0, 0],), ([0, 0],), ([0, 0],), ([0, 0],), ([0, 0],), ([0, 0],), ([0, 0],), ([0, 0],), ([0, 0],), ([0, 0],), ([0, 0],), ([0, 0],), ([0, 0],), ([0, 0],), ([0, 0],), ([0, 0],), ([0, 0],), ([0, 0],), ([0, 0],), ([0, 0],), ([0, 0],), ([0, 0],), ([0, 0],), ([0, 0],), ([0, 0],), ([0, 0],), ([0, 0],), ([0, 0],), ([0, 0],), ([0, 0],), ([0, 0],), ([0, 0],), ([0, 0],), ([0, 0],), ([0, 0],), ([0, 0],), ([0, 0],), ([0, 0],), ([0, 0],), ([0, 0],), ([0, 0],), ([0, 0],), ([0, 0],), ([0, 0],), ([0, 0],), ([0, 0],), ([0, 0],), ([0, 0],), ([0, 0],), ([0, 0],), ([0, 0],), ([0, 0],), ([0, 0],), ([0, 0],), ([0, 0],), ([0, 0],), ([0, 0],), ([0, 0],), ([0, 0],), ([0, 0],), ([0, 0],), ([0, 0],), ([0, 0],), ([0, 0],), ([0, 0],), ([0, 0],), ([0, 0],), ([0, 0],), ([0, 0],), ([0, 0],), ([0, 0],), ([0, 0],), ([0, 0],), ([0, 0],), ([0, 0],), ([0, 0],), ([0, 0],), ([0, 0],), ([0, 0],), ([0, 0],), ([0, 0],), ([0, 0],), ([0, 0],), ([0, 0],), ([0, 0],), ([0, 0],), ([0, 0],), ([0, 0],), ([0, 0],), ([0, 0],), ([0, 0],), ([0, 0],), ([0, 0],), ([0, 0],), ([0, 0],), ([0, 0],), ([0, 0],), ([0, 0],), ([0, 0],), ([0, 0],), ([0, 0],), ([0, 0],), ([0, 0],), ([0, 0],), ([0, 0],), ([0, 0],), ([0, 0],), ([0, 0],), ([0, 0],), ([0, 0],), ([0, 0],), ([0, 0],), ([0, 0],), ([0, 0],), ([0, 0],), ([0, 0],), ([0, 0],), ([0, 0],), ([0, 0],), ([0, 0],), ([0, 0],), ([0, 0],), ([0, 0],), ([0, 0],), ([0, 0],), ([0, 0],), ([0, 0],), ([0, 0],), ([0, 0],), ([0, 0],), ([0, 0],), ([0, 0],), ([0, 0],), ([0, 0],), ([0, 0],), ([0, 0],), ([0, 0],), ([0, 0],), ([0, 0],), ([0, 0],), ([0, 0],), ([0, 0],), ([0, 0],), ([0, 0],), ([0, 0],), ([0, 0],), ([0, 0],), ([0, 0],), ([0, 0],), ([0, 0],), ([0, 0],), ([0, 0],), ([0, 0],), ([0, 0],), ([0, 0],), ([0, 0],), ([0, 0],), ([0, 0],), ([0, 0],), ([0, 0],), ([0, 0],), ([0, 0],), ([0, 0],), ([0, 0],), ([0, 0],), ([0, 0],), ([0, 0],), ([0, 0],), ([0, 0],), ([0, 0],), ([0, 0],), ([0, 0],), ([0, 0],), ([0, 0],), ([0, 0],), ([0, 0],), ([0, 0],), ([0, 0],), ([0, 0],), ([0, 0],), ([0, 0],), ([0, 0],), ([0, 0],), ([0, 0],), ([0, 0],), ([0, 0],), ([0, 0],), ([0, 0],), ([0, 0],), ([0, 0],), ([0, 0],), ([0, 0],), ([0, 0],), ([0, 0],), ([0, 0],), ([0, 0],), ([0, 0],), ([0, 0],), ([0, 0],), ([0, 0],), ([0, 0],), ([0, 0],), ([0, 0],), ([0, 0],), ([0, 0],), ([0, 0],), ([0, 0],), ([0, 0],), ([0, 0],), ([0, 0],), ([0, 0],), ([0, 0],), ([0, 0],), ([0, 0],), ([0, 0],), ([0, 0],), ([0, 0],), ([0, 0],), ([0, 0],), ([0, 0],), ([0, 0],), ([0, 0],), ([0, 0],), ([0, 0],), ([0, 0],), ([0, 0],), ([0, 0],), ([0, 0],), ([0, 0],), ([0, 0],), ([0, 0],), ([0, 0],), ([0, 0],), ([0, 0],), ([0, 0],), ([0, 0],), ([0, 0],), ([0, 0],), ([0, 0],), ([0, 0],), ([0, 0],), ([0, 0],), ([0, 0],), ([0, 0],), ([0, 0],), ([0, 0],), ([0, 0],), ([0, 0],), ([0, 0],), ([0, 0],), ([0, 0],), ([0, 0],), ([0, 0],), ([0, 0],), ([0, 0],), ([0, 0],), ([0, 0],), ([0, 0],), ([0, 0],), ([0, 0],), ([0, 0],), ([0, 0],), ([0, 0],), ([0, 0],), ([0, 0],), ([0, 0],), ([0, 0],), ([0, 0],), ([0, 0],), ([0, 0],), ([0, 0],), ([0, 0],), ([0, 0],), ([0, 0],), ([0, 0],), ([0, 0],), ([0, 0],), ([0, 0],), ([0, 0],), ([0, 0],), ([0, 0],), ([0, 0],), ([0, 0],), ([0, 0],), ([0, 0],), ([0, 0],), ([0, 0],), ([0, 0],), ([0, 0],), ([0, 0],), ([0, 0],), ([0, 0],), ([0, 0],), ([0, 0],), ([0, 0],), ([0, 0],), ([0, 0],), ([0, 0],), ([0, 0],), ([0, 0],), ([0, 0],), ([0, 0],), ([0, 0],), ([0, 0],), ([0, 0],), ([0, 0],), ([0, 0],), ([0, 0],), ([0, 0],), ([0, 0],), ([0, 0],), ([0, 0],), ([0, 0],), ([0, 0],), ([0, 0],), ([0, 0],), ([0, 0],), ([0, 0],), ([0, 0],), ([0, 0],), ([0, 0],), ([0, 0],), ([0, 0],), ([0, 0],), ([0, 0],), ([0, 0],), ([0, 0],), ([0, 0],), ([0, 0],), ([0, 0],), ([0, 0],), ([0, 0],))], \n",
       "      dtype=[('AB0085-C', [('genotype', 'i1', (2,))]), ('AB0087-C', [('genotype', 'i1', (2,))]), ('AB0088-C', [('genotype', 'i1', (2,))]), ('AB0089-C', [('genotype', 'i1', (2,))]), ('AB0090-C', [('genotype', 'i1', (2,))]), ('AB0091-C', [('genotype', 'i1', (2,))]), ('AB0092-C', [('genotype', 'i1', (2,))]), ('AB0094-C', [('genotype', 'i1', (2,))]), ('AB0095-C', [('genotype', 'i1', (2,))]), ('AB0097-C', [('genotype', 'i1', (2,))]), ('AB0098-C', [('genotype', 'i1', (2,))]), ('AB0099-C', [('genotype', 'i1', (2,))]), ('AB0100-C', [('genotype', 'i1', (2,))]), ('AB0101-C', [('genotype', 'i1', (2,))]), ('AB0103-C', [('genotype', 'i1', (2,))]), ('AB0104-C', [('genotype', 'i1', (2,))]), ('AB0109-C', [('genotype', 'i1', (2,))]), ('AB0110-C', [('genotype', 'i1', (2,))]), ('AB0111-C', [('genotype', 'i1', (2,))]), ('AB0112-C', [('genotype', 'i1', (2,))]), ('AB0113-C', [('genotype', 'i1', (2,))]), ('AB0114-C', [('genotype', 'i1', (2,))]), ('AB0117-C', [('genotype', 'i1', (2,))]), ('AB0119-C', [('genotype', 'i1', (2,))]), ('AB0122-C', [('genotype', 'i1', (2,))]), ('AB0123-C', [('genotype', 'i1', (2,))]), ('AB0124-C', [('genotype', 'i1', (2,))]), ('AB0126-C', [('genotype', 'i1', (2,))]), ('AB0127-C', [('genotype', 'i1', (2,))]), ('AB0128-C', [('genotype', 'i1', (2,))]), ('AB0129-C', [('genotype', 'i1', (2,))]), ('AB0130-C', [('genotype', 'i1', (2,))]), ('AB0133-C', [('genotype', 'i1', (2,))]), ('AB0134-C', [('genotype', 'i1', (2,))]), ('AB0135-C', [('genotype', 'i1', (2,))]), ('AB0136-C', [('genotype', 'i1', (2,))]), ('AB0137-C', [('genotype', 'i1', (2,))]), ('AB0138-C', [('genotype', 'i1', (2,))]), ('AB0139-C', [('genotype', 'i1', (2,))]), ('AB0140-C', [('genotype', 'i1', (2,))]), ('AB0142-C', [('genotype', 'i1', (2,))]), ('AB0143-C', [('genotype', 'i1', (2,))]), ('AB0145-C', [('genotype', 'i1', (2,))]), ('AB0146-C', [('genotype', 'i1', (2,))]), ('AB0147-C', [('genotype', 'i1', (2,))]), ('AB0148-C', [('genotype', 'i1', (2,))]), ('AB0151-C', [('genotype', 'i1', (2,))]), ('AB0153-C', [('genotype', 'i1', (2,))]), ('AB0155-C', [('genotype', 'i1', (2,))]), ('AB0157-C', [('genotype', 'i1', (2,))]), ('AB0158-C', [('genotype', 'i1', (2,))]), ('AB0159-C', [('genotype', 'i1', (2,))]), ('AB0160-C', [('genotype', 'i1', (2,))]), ('AB0161-C', [('genotype', 'i1', (2,))]), ('AB0164-C', [('genotype', 'i1', (2,))]), ('AB0166-C', [('genotype', 'i1', (2,))]), ('AB0169-C', [('genotype', 'i1', (2,))]), ('AB0170-C', [('genotype', 'i1', (2,))]), ('AB0171-C', [('genotype', 'i1', (2,))]), ('AB0172-C', [('genotype', 'i1', (2,))]), ('AB0173-C', [('genotype', 'i1', (2,))]), ('AB0174-C', [('genotype', 'i1', (2,))]), ('AB0175-C', [('genotype', 'i1', (2,))]), ('AB0176-C', [('genotype', 'i1', (2,))]), ('AB0177-C', [('genotype', 'i1', (2,))]), ('AB0178-C', [('genotype', 'i1', (2,))]), ('AB0179-C', [('genotype', 'i1', (2,))]), ('AB0181-C', [('genotype', 'i1', (2,))]), ('AB0182-C', [('genotype', 'i1', (2,))]), ('AB0183-C', [('genotype', 'i1', (2,))]), ('AB0184-C', [('genotype', 'i1', (2,))]), ('AB0185-C', [('genotype', 'i1', (2,))]), ('AB0186-C', [('genotype', 'i1', (2,))]), ('AB0187-C', [('genotype', 'i1', (2,))]), ('AB0188-C', [('genotype', 'i1', (2,))]), ('AB0189-C', [('genotype', 'i1', (2,))]), ('AB0190-C', [('genotype', 'i1', (2,))]), ('AB0191-C', [('genotype', 'i1', (2,))]), ('AB0192-C', [('genotype', 'i1', (2,))]), ('AB0197-C', [('genotype', 'i1', (2,))]), ('AB0198-C', [('genotype', 'i1', (2,))]), ('AB0199-C', [('genotype', 'i1', (2,))]), ('AB0201-C', [('genotype', 'i1', (2,))]), ('AB0202-C', [('genotype', 'i1', (2,))]), ('AB0203-C', [('genotype', 'i1', (2,))]), ('AB0204-C', [('genotype', 'i1', (2,))]), ('AB0205-C', [('genotype', 'i1', (2,))]), ('AB0206-C', [('genotype', 'i1', (2,))]), ('AB0207-C', [('genotype', 'i1', (2,))]), ('AB0208-C', [('genotype', 'i1', (2,))]), ('AB0209-C', [('genotype', 'i1', (2,))]), ('AB0210-C', [('genotype', 'i1', (2,))]), ('AB0211-C', [('genotype', 'i1', (2,))]), ('AB0212-C', [('genotype', 'i1', (2,))]), ('AB0213-C', [('genotype', 'i1', (2,))]), ('AB0217-C', [('genotype', 'i1', (2,))]), ('AB0219-C', [('genotype', 'i1', (2,))]), ('AB0221-C', [('genotype', 'i1', (2,))]), ('AB0222-C', [('genotype', 'i1', (2,))]), ('AB0223-C', [('genotype', 'i1', (2,))]), ('AB0224-C', [('genotype', 'i1', (2,))]), ('AB0226-C', [('genotype', 'i1', (2,))]), ('AB0227-C', [('genotype', 'i1', (2,))]), ('AB0228-C', [('genotype', 'i1', (2,))]), ('AB0229-C', [('genotype', 'i1', (2,))]), ('AB0231-C', [('genotype', 'i1', (2,))]), ('AB0233-C', [('genotype', 'i1', (2,))]), ('AB0234-C', [('genotype', 'i1', (2,))]), ('AB0235-C', [('genotype', 'i1', (2,))]), ('AB0236-C', [('genotype', 'i1', (2,))]), ('AB0237-C', [('genotype', 'i1', (2,))]), ('AB0238-C', [('genotype', 'i1', (2,))]), ('AB0239-C', [('genotype', 'i1', (2,))]), ('AB0240-C', [('genotype', 'i1', (2,))]), ('AB0241-C', [('genotype', 'i1', (2,))]), ('AB0242-C', [('genotype', 'i1', (2,))]), ('AB0243-C', [('genotype', 'i1', (2,))]), ('AB0244-C', [('genotype', 'i1', (2,))]), ('AB0246-C', [('genotype', 'i1', (2,))]), ('AB0249-C', [('genotype', 'i1', (2,))]), ('AB0250-C', [('genotype', 'i1', (2,))]), ('AB0251-C', [('genotype', 'i1', (2,))]), ('AB0252-C', [('genotype', 'i1', (2,))]), ('AB0253-C', [('genotype', 'i1', (2,))]), ('AB0256-C', [('genotype', 'i1', (2,))]), ('AB0257-C', [('genotype', 'i1', (2,))]), ('AB0258-C', [('genotype', 'i1', (2,))]), ('AB0260-C', [('genotype', 'i1', (2,))]), ('AB0261-C', [('genotype', 'i1', (2,))]), ('AB0262-C', [('genotype', 'i1', (2,))]), ('AB0263-C', [('genotype', 'i1', (2,))]), ('AB0264-C', [('genotype', 'i1', (2,))]), ('AB0265-C', [('genotype', 'i1', (2,))]), ('AB0266-C', [('genotype', 'i1', (2,))]), ('AB0267-C', [('genotype', 'i1', (2,))]), ('AB0268-C', [('genotype', 'i1', (2,))]), ('AB0270-C', [('genotype', 'i1', (2,))]), ('AB0271-C', [('genotype', 'i1', (2,))]), ('AB0272-C', [('genotype', 'i1', (2,))]), ('AB0273-C', [('genotype', 'i1', (2,))]), ('AB0274-C', [('genotype', 'i1', (2,))]), ('AB0276-C', [('genotype', 'i1', (2,))]), ('AB0277-C', [('genotype', 'i1', (2,))]), ('AB0278-C', [('genotype', 'i1', (2,))]), ('AB0279-C', [('genotype', 'i1', (2,))]), ('AB0280-C', [('genotype', 'i1', (2,))]), ('AB0281-C', [('genotype', 'i1', (2,))]), ('AB0282-C', [('genotype', 'i1', (2,))]), ('AB0283-C', [('genotype', 'i1', (2,))]), ('AB0284-C', [('genotype', 'i1', (2,))]), ('AC0090-C', [('genotype', 'i1', (2,))]), ('AC0091-C', [('genotype', 'i1', (2,))]), ('AC0092-C', [('genotype', 'i1', (2,))]), ('AC0093-C', [('genotype', 'i1', (2,))]), ('AC0094-C', [('genotype', 'i1', (2,))]), ('AC0095-C', [('genotype', 'i1', (2,))]), ('AC0096-C', [('genotype', 'i1', (2,))]), ('AC0097-C', [('genotype', 'i1', (2,))]), ('AC0098-C', [('genotype', 'i1', (2,))]), ('AC0099-C', [('genotype', 'i1', (2,))]), ('AC0100-C', [('genotype', 'i1', (2,))]), ('AC0101-C', [('genotype', 'i1', (2,))]), ('AC0102-C', [('genotype', 'i1', (2,))]), ('AC0103-C', [('genotype', 'i1', (2,))]), ('AC0104-C', [('genotype', 'i1', (2,))]), ('AC0106-C', [('genotype', 'i1', (2,))]), ('AC0107-C', [('genotype', 'i1', (2,))]), ('AC0108-C', [('genotype', 'i1', (2,))]), ('AC0109-C', [('genotype', 'i1', (2,))]), ('AC0110-C', [('genotype', 'i1', (2,))]), ('AC0111-C', [('genotype', 'i1', (2,))]), ('AC0112-C', [('genotype', 'i1', (2,))]), ('AC0113-C', [('genotype', 'i1', (2,))]), ('AC0114-C', [('genotype', 'i1', (2,))]), ('AC0115-C', [('genotype', 'i1', (2,))]), ('AC0116-C', [('genotype', 'i1', (2,))]), ('AC0117-C', [('genotype', 'i1', (2,))]), ('AC0118-C', [('genotype', 'i1', (2,))]), ('AC0119-C', [('genotype', 'i1', (2,))]), ('AC0120-C', [('genotype', 'i1', (2,))]), ('AC0121-C', [('genotype', 'i1', (2,))]), ('AC0122-C', [('genotype', 'i1', (2,))]), ('AC0123-C', [('genotype', 'i1', (2,))]), ('AC0124-C', [('genotype', 'i1', (2,))]), ('AC0125-C', [('genotype', 'i1', (2,))]), ('AC0126-C', [('genotype', 'i1', (2,))]), ('AC0127-C', [('genotype', 'i1', (2,))]), ('AC0128-C', [('genotype', 'i1', (2,))]), ('AC0129-C', [('genotype', 'i1', (2,))]), ('AC0130-C', [('genotype', 'i1', (2,))]), ('AC0131-C', [('genotype', 'i1', (2,))]), ('AC0132-C', [('genotype', 'i1', (2,))]), ('AC0133-C', [('genotype', 'i1', (2,))]), ('AC0135-C', [('genotype', 'i1', (2,))]), ('AC0136-C', [('genotype', 'i1', (2,))]), ('AC0137-C', [('genotype', 'i1', (2,))]), ('AC0138-C', [('genotype', 'i1', (2,))]), ('AC0139-C', [('genotype', 'i1', (2,))]), ('AC0140-C', [('genotype', 'i1', (2,))]), ('AC0142-C', [('genotype', 'i1', (2,))]), ('AC0143-C', [('genotype', 'i1', (2,))]), ('AC0144-C', [('genotype', 'i1', (2,))]), ('AC0145-C', [('genotype', 'i1', (2,))]), ('AC0147-C', [('genotype', 'i1', (2,))]), ('AC0148-C', [('genotype', 'i1', (2,))]), ('AC0149-C', [('genotype', 'i1', (2,))]), ('AC0150-C', [('genotype', 'i1', (2,))]), ('AC0151-C', [('genotype', 'i1', (2,))]), ('AC0152-C', [('genotype', 'i1', (2,))]), ('AC0153-C', [('genotype', 'i1', (2,))]), ('AC0154-C', [('genotype', 'i1', (2,))]), ('AC0156-C', [('genotype', 'i1', (2,))]), ('AC0158-C', [('genotype', 'i1', (2,))]), ('AC0159-C', [('genotype', 'i1', (2,))]), ('AC0160-C', [('genotype', 'i1', (2,))]), ('AC0161-C', [('genotype', 'i1', (2,))]), ('AC0162-C', [('genotype', 'i1', (2,))]), ('AC0163-C', [('genotype', 'i1', (2,))]), ('AC0164-C', [('genotype', 'i1', (2,))]), ('AC0166-C', [('genotype', 'i1', (2,))]), ('AC0167-C', [('genotype', 'i1', (2,))]), ('AC0168-C', [('genotype', 'i1', (2,))]), ('AC0169-C', [('genotype', 'i1', (2,))]), ('AC0170-C', [('genotype', 'i1', (2,))]), ('AC0171-C', [('genotype', 'i1', (2,))]), ('AC0172-C', [('genotype', 'i1', (2,))]), ('AC0173-C', [('genotype', 'i1', (2,))]), ('AC0174-C', [('genotype', 'i1', (2,))]), ('AC0176-C', [('genotype', 'i1', (2,))]), ('AC0178-C', [('genotype', 'i1', (2,))]), ('AC0179-C', [('genotype', 'i1', (2,))]), ('AC0180-C', [('genotype', 'i1', (2,))]), ('AC0181-C', [('genotype', 'i1', (2,))]), ('AC0182-C', [('genotype', 'i1', (2,))]), ('AC0183-C', [('genotype', 'i1', (2,))]), ('AC0184-C', [('genotype', 'i1', (2,))]), ('AC0186-C', [('genotype', 'i1', (2,))]), ('AC0187-C', [('genotype', 'i1', (2,))]), ('AC0188-C', [('genotype', 'i1', (2,))]), ('AC0189-C', [('genotype', 'i1', (2,))]), ('AC0190-C', [('genotype', 'i1', (2,))]), ('AC0191-C', [('genotype', 'i1', (2,))]), ('AC0192-C', [('genotype', 'i1', (2,))]), ('AC0193-C', [('genotype', 'i1', (2,))]), ('AC0194-C', [('genotype', 'i1', (2,))]), ('AC0195-C', [('genotype', 'i1', (2,))]), ('AC0196-C', [('genotype', 'i1', (2,))]), ('AC0197-C', [('genotype', 'i1', (2,))]), ('AC0199-C', [('genotype', 'i1', (2,))]), ('AC0200-C', [('genotype', 'i1', (2,))]), ('AC0201-C', [('genotype', 'i1', (2,))]), ('AC0202-C', [('genotype', 'i1', (2,))]), ('AC0203-C', [('genotype', 'i1', (2,))]), ('AJ0023-C', [('genotype', 'i1', (2,))]), ('AJ0024-C', [('genotype', 'i1', (2,))]), ('AJ0032-C', [('genotype', 'i1', (2,))]), ('AJ0035-C', [('genotype', 'i1', (2,))]), ('AJ0036-C', [('genotype', 'i1', (2,))]), ('AJ0039-C', [('genotype', 'i1', (2,))]), ('AJ0043-C', [('genotype', 'i1', (2,))]), ('AJ0044-C', [('genotype', 'i1', (2,))]), ('AJ0045-C', [('genotype', 'i1', (2,))]), ('AJ0047-C', [('genotype', 'i1', (2,))]), ('AJ0051-C', [('genotype', 'i1', (2,))]), ('AJ0052-C', [('genotype', 'i1', (2,))]), ('AJ0056-C', [('genotype', 'i1', (2,))]), ('AJ0061-C', [('genotype', 'i1', (2,))]), ('AJ0063-C', [('genotype', 'i1', (2,))]), ('AJ0064-C', [('genotype', 'i1', (2,))]), ('AJ0066-C', [('genotype', 'i1', (2,))]), ('AJ0070-C', [('genotype', 'i1', (2,))]), ('AJ0071-C', [('genotype', 'i1', (2,))]), ('AJ0072-C', [('genotype', 'i1', (2,))]), ('AJ0074-C', [('genotype', 'i1', (2,))]), ('AJ0075-C', [('genotype', 'i1', (2,))]), ('AJ0076-C', [('genotype', 'i1', (2,))]), ('AJ0077-C', [('genotype', 'i1', (2,))]), ('AJ0078-C', [('genotype', 'i1', (2,))]), ('AJ0081-C', [('genotype', 'i1', (2,))]), ('AJ0084-C', [('genotype', 'i1', (2,))]), ('AJ0085-C', [('genotype', 'i1', (2,))]), ('AJ0086-C', [('genotype', 'i1', (2,))]), ('AJ0088-C', [('genotype', 'i1', (2,))]), ('AJ0090-C', [('genotype', 'i1', (2,))]), ('AJ0092-C', [('genotype', 'i1', (2,))]), ('AJ0093-C', [('genotype', 'i1', (2,))]), ('AJ0096-C', [('genotype', 'i1', (2,))]), ('AJ0097-C', [('genotype', 'i1', (2,))]), ('AJ0098-C', [('genotype', 'i1', (2,))]), ('AJ0100-C', [('genotype', 'i1', (2,))]), ('AJ0101-C', [('genotype', 'i1', (2,))]), ('AJ0102-C', [('genotype', 'i1', (2,))]), ('AJ0103-C', [('genotype', 'i1', (2,))]), ('AJ0105-C', [('genotype', 'i1', (2,))]), ('AJ0107-C', [('genotype', 'i1', (2,))]), ('AJ0109-C', [('genotype', 'i1', (2,))]), ('AJ0113-C', [('genotype', 'i1', (2,))]), ('AJ0115-C', [('genotype', 'i1', (2,))]), ('AJ0116-C', [('genotype', 'i1', (2,))]), ('AK0065-C', [('genotype', 'i1', (2,))]), ('AK0066-C', [('genotype', 'i1', (2,))]), ('AK0067-C', [('genotype', 'i1', (2,))]), ('AK0068-C', [('genotype', 'i1', (2,))]), ('AK0069-C', [('genotype', 'i1', (2,))]), ('AK0070-C', [('genotype', 'i1', (2,))]), ('AK0072-C', [('genotype', 'i1', (2,))]), ('AK0073-C', [('genotype', 'i1', (2,))]), ('AK0074-C', [('genotype', 'i1', (2,))]), ('AK0075-C', [('genotype', 'i1', (2,))]), ('AK0076-C', [('genotype', 'i1', (2,))]), ('AK0077-C', [('genotype', 'i1', (2,))]), ('AK0078-C', [('genotype', 'i1', (2,))]), ('AK0079-C', [('genotype', 'i1', (2,))]), ('AK0080-C', [('genotype', 'i1', (2,))]), ('AK0081-C', [('genotype', 'i1', (2,))]), ('AK0082-C', [('genotype', 'i1', (2,))]), ('AK0085-C', [('genotype', 'i1', (2,))]), ('AK0086-C', [('genotype', 'i1', (2,))]), ('AK0087-C', [('genotype', 'i1', (2,))]), ('AK0088-C', [('genotype', 'i1', (2,))]), ('AK0089-C', [('genotype', 'i1', (2,))]), ('AK0090-C', [('genotype', 'i1', (2,))]), ('AK0091-C', [('genotype', 'i1', (2,))]), ('AK0092-C', [('genotype', 'i1', (2,))]), ('AK0093-C', [('genotype', 'i1', (2,))]), ('AK0094-C', [('genotype', 'i1', (2,))]), ('AK0095-C', [('genotype', 'i1', (2,))]), ('AK0096-C', [('genotype', 'i1', (2,))]), ('AK0098-C', [('genotype', 'i1', (2,))]), ('AK0099-C', [('genotype', 'i1', (2,))]), ('AK0100-C', [('genotype', 'i1', (2,))]), ('AK0101-C', [('genotype', 'i1', (2,))]), ('AK0102-C', [('genotype', 'i1', (2,))]), ('AK0103-C', [('genotype', 'i1', (2,))]), ('AK0104-C', [('genotype', 'i1', (2,))]), ('AK0105-C', [('genotype', 'i1', (2,))]), ('AK0106-C', [('genotype', 'i1', (2,))]), ('AK0108-C', [('genotype', 'i1', (2,))]), ('AK0109-C', [('genotype', 'i1', (2,))]), ('AK0110-C', [('genotype', 'i1', (2,))]), ('AK0116-C', [('genotype', 'i1', (2,))]), ('AK0119-C', [('genotype', 'i1', (2,))]), ('AK0127-C', [('genotype', 'i1', (2,))]), ('AN0007-C', [('genotype', 'i1', (2,))]), ('AN0008-C', [('genotype', 'i1', (2,))]), ('AN0009-C', [('genotype', 'i1', (2,))]), ('AN0010-C', [('genotype', 'i1', (2,))]), ('AN0011-C', [('genotype', 'i1', (2,))]), ('AN0012-C', [('genotype', 'i1', (2,))]), ('AN0014-C', [('genotype', 'i1', (2,))]), ('AN0016-C', [('genotype', 'i1', (2,))]), ('AN0017-C', [('genotype', 'i1', (2,))]), ('AN0018-C', [('genotype', 'i1', (2,))]), ('AN0019-C', [('genotype', 'i1', (2,))]), ('AN0020-C', [('genotype', 'i1', (2,))]), ('AN0022-C', [('genotype', 'i1', (2,))]), ('AN0023-C', [('genotype', 'i1', (2,))]), ('AN0024-C', [('genotype', 'i1', (2,))]), ('AN0025-C', [('genotype', 'i1', (2,))]), ('AN0026-C', [('genotype', 'i1', (2,))]), ('AN0027-C', [('genotype', 'i1', (2,))]), ('AN0028-C', [('genotype', 'i1', (2,))]), ('AN0029-C', [('genotype', 'i1', (2,))]), ('AN0030-C', [('genotype', 'i1', (2,))]), ('AN0031-C', [('genotype', 'i1', (2,))]), ('AN0032-C', [('genotype', 'i1', (2,))]), ('AN0033-C', [('genotype', 'i1', (2,))]), ('AN0034-C', [('genotype', 'i1', (2,))]), ('AN0035-C', [('genotype', 'i1', (2,))]), ('AN0036-C', [('genotype', 'i1', (2,))]), ('AN0037-C', [('genotype', 'i1', (2,))]), ('AN0038-C', [('genotype', 'i1', (2,))]), ('AN0039-C', [('genotype', 'i1', (2,))]), ('AN0040-C', [('genotype', 'i1', (2,))]), ('AN0041-C', [('genotype', 'i1', (2,))]), ('AN0042-C', [('genotype', 'i1', (2,))]), ('AN0043-C', [('genotype', 'i1', (2,))]), ('AN0045-C', [('genotype', 'i1', (2,))]), ('AN0046-C', [('genotype', 'i1', (2,))]), ('AN0047-C', [('genotype', 'i1', (2,))]), ('AN0048-C', [('genotype', 'i1', (2,))]), ('AN0049-C', [('genotype', 'i1', (2,))]), ('AN0050-C', [('genotype', 'i1', (2,))]), ('AN0051-C', [('genotype', 'i1', (2,))]), ('AN0053-C', [('genotype', 'i1', (2,))]), ('AN0054-C', [('genotype', 'i1', (2,))]), ('AN0055-C', [('genotype', 'i1', (2,))]), ('AN0056-C', [('genotype', 'i1', (2,))]), ('AN0057-C', [('genotype', 'i1', (2,))]), ('AN0058-C', [('genotype', 'i1', (2,))]), ('AN0059-C', [('genotype', 'i1', (2,))]), ('AN0060-C', [('genotype', 'i1', (2,))]), ('AN0063-C', [('genotype', 'i1', (2,))]), ('AN0064-C', [('genotype', 'i1', (2,))]), ('AN0065-C', [('genotype', 'i1', (2,))]), ('AN0066-C', [('genotype', 'i1', (2,))]), ('AN0067-C', [('genotype', 'i1', (2,))]), ('AN0068-C', [('genotype', 'i1', (2,))]), ('AN0069-C', [('genotype', 'i1', (2,))]), ('AN0070-C', [('genotype', 'i1', (2,))]), ('AN0071-C', [('genotype', 'i1', (2,))]), ('AN0072-C', [('genotype', 'i1', (2,))]), ('AN0073-C', [('genotype', 'i1', (2,))]), ('AN0074-C', [('genotype', 'i1', (2,))]), ('AN0075-C', [('genotype', 'i1', (2,))]), ('AN0076-C', [('genotype', 'i1', (2,))]), ('AN0077-C', [('genotype', 'i1', (2,))]), ('AN0079-C', [('genotype', 'i1', (2,))]), ('AN0080-C', [('genotype', 'i1', (2,))]), ('AN0081-C', [('genotype', 'i1', (2,))]), ('AN0082-C', [('genotype', 'i1', (2,))]), ('AN0083-C', [('genotype', 'i1', (2,))]), ('AN0084-C', [('genotype', 'i1', (2,))]), ('AN0085-C', [('genotype', 'i1', (2,))]), ('AN0086-C', [('genotype', 'i1', (2,))]), ('AN0087-C', [('genotype', 'i1', (2,))]), ('AN0088-C', [('genotype', 'i1', (2,))]), ('AN0089-C', [('genotype', 'i1', (2,))]), ('AN0090-C', [('genotype', 'i1', (2,))]), ('AN0091-C', [('genotype', 'i1', (2,))]), ('AN0092-C', [('genotype', 'i1', (2,))]), ('AN0093-C', [('genotype', 'i1', (2,))]), ('AN0094-C', [('genotype', 'i1', (2,))]), ('AN0095-C', [('genotype', 'i1', (2,))]), ('AN0096-C', [('genotype', 'i1', (2,))]), ('AN0097-C', [('genotype', 'i1', (2,))]), ('AN0098-C', [('genotype', 'i1', (2,))]), ('AN0099-C', [('genotype', 'i1', (2,))]), ('AN0100-C', [('genotype', 'i1', (2,))]), ('AN0101-C', [('genotype', 'i1', (2,))]), ('AN0102-C', [('genotype', 'i1', (2,))]), ('AN0103-C', [('genotype', 'i1', (2,))]), ('AN0104-C', [('genotype', 'i1', (2,))]), ('AN0105-C', [('genotype', 'i1', (2,))]), ('AN0106-C', [('genotype', 'i1', (2,))]), ('AN0107-C', [('genotype', 'i1', (2,))]), ('AN0108-C', [('genotype', 'i1', (2,))]), ('AN0109-C', [('genotype', 'i1', (2,))]), ('AN0111-C', [('genotype', 'i1', (2,))]), ('AN0112-C', [('genotype', 'i1', (2,))]), ('AN0113-C', [('genotype', 'i1', (2,))]), ('AN0114-C', [('genotype', 'i1', (2,))]), ('AN0115-C', [('genotype', 'i1', (2,))]), ('AN0117-C', [('genotype', 'i1', (2,))]), ('AN0120-C', [('genotype', 'i1', (2,))]), ('AN0121-C', [('genotype', 'i1', (2,))]), ('AN0122-C', [('genotype', 'i1', (2,))]), ('AN0123-C', [('genotype', 'i1', (2,))]), ('AN0124-C', [('genotype', 'i1', (2,))]), ('AN0125-C', [('genotype', 'i1', (2,))]), ('AN0126-C', [('genotype', 'i1', (2,))]), ('AN0127-C', [('genotype', 'i1', (2,))]), ('AN0128-C', [('genotype', 'i1', (2,))]), ('AN0129-C', [('genotype', 'i1', (2,))]), ('AN0130-C', [('genotype', 'i1', (2,))]), ('AN0131-C', [('genotype', 'i1', (2,))]), ('AN0132-C', [('genotype', 'i1', (2,))]), ('AN0134-C', [('genotype', 'i1', (2,))]), ('AN0135-C', [('genotype', 'i1', (2,))]), ('AN0136-C', [('genotype', 'i1', (2,))]), ('AN0137-C', [('genotype', 'i1', (2,))]), ('AN0138-C', [('genotype', 'i1', (2,))]), ('AN0139-C', [('genotype', 'i1', (2,))]), ('AN0140-C', [('genotype', 'i1', (2,))]), ('AN0141-C', [('genotype', 'i1', (2,))]), ('AN0143-C', [('genotype', 'i1', (2,))]), ('AN0147-C', [('genotype', 'i1', (2,))]), ('AN0149-C', [('genotype', 'i1', (2,))]), ('AN0151-C', [('genotype', 'i1', (2,))]), ('AN0152-C', [('genotype', 'i1', (2,))]), ('AN0153-C', [('genotype', 'i1', (2,))]), ('AN0154-C', [('genotype', 'i1', (2,))]), ('AN0155-C', [('genotype', 'i1', (2,))]), ('AN0156-C', [('genotype', 'i1', (2,))]), ('AN0157-C', [('genotype', 'i1', (2,))]), ('AN0158-C', [('genotype', 'i1', (2,))]), ('AN0159-C', [('genotype', 'i1', (2,))]), ('AN0160-C', [('genotype', 'i1', (2,))]), ('AN0162-C', [('genotype', 'i1', (2,))]), ('AN0163-C', [('genotype', 'i1', (2,))]), ('AN0164-C', [('genotype', 'i1', (2,))]), ('AN0165-C', [('genotype', 'i1', (2,))]), ('AN0166-C', [('genotype', 'i1', (2,))]), ('AN0167-C', [('genotype', 'i1', (2,))]), ('AN0168-C', [('genotype', 'i1', (2,))]), ('AN0169-C', [('genotype', 'i1', (2,))]), ('AN0170-C', [('genotype', 'i1', (2,))]), ('AN0171-C', [('genotype', 'i1', (2,))]), ('AN0172-C', [('genotype', 'i1', (2,))]), ('AN0173-C', [('genotype', 'i1', (2,))]), ('AN0174-C', [('genotype', 'i1', (2,))]), ('AN0175-C', [('genotype', 'i1', (2,))]), ('AN0176-C', [('genotype', 'i1', (2,))]), ('AN0177-C', [('genotype', 'i1', (2,))]), ('AN0178-C', [('genotype', 'i1', (2,))]), ('AN0179-C', [('genotype', 'i1', (2,))]), ('AN0180-C', [('genotype', 'i1', (2,))]), ('AN0181-C', [('genotype', 'i1', (2,))]), ('AN0182-C', [('genotype', 'i1', (2,))]), ('AN0183-C', [('genotype', 'i1', (2,))]), ('AN0184-C', [('genotype', 'i1', (2,))]), ('AN0185-C', [('genotype', 'i1', (2,))]), ('AN0186-C', [('genotype', 'i1', (2,))]), ('AN0187-C', [('genotype', 'i1', (2,))]), ('AN0188-C', [('genotype', 'i1', (2,))]), ('AN0189-C', [('genotype', 'i1', (2,))]), ('AN0190-C', [('genotype', 'i1', (2,))]), ('AN0191-C', [('genotype', 'i1', (2,))]), ('AN0192-C', [('genotype', 'i1', (2,))]), ('AN0193-C', [('genotype', 'i1', (2,))]), ('AN0194-C', [('genotype', 'i1', (2,))]), ('AN0196-C', [('genotype', 'i1', (2,))]), ('AN0197-C', [('genotype', 'i1', (2,))]), ('AN0198-C', [('genotype', 'i1', (2,))]), ('AN0199-C', [('genotype', 'i1', (2,))]), ('AN0200-C', [('genotype', 'i1', (2,))]), ('AN0201-C', [('genotype', 'i1', (2,))]), ('AN0202-C', [('genotype', 'i1', (2,))]), ('AN0203-C', [('genotype', 'i1', (2,))]), ('AN0204-C', [('genotype', 'i1', (2,))]), ('AN0205-C', [('genotype', 'i1', (2,))]), ('AN0206-C', [('genotype', 'i1', (2,))]), ('AN0207-C', [('genotype', 'i1', (2,))]), ('AN0208-C', [('genotype', 'i1', (2,))]), ('AN0209-C', [('genotype', 'i1', (2,))]), ('AN0210-C', [('genotype', 'i1', (2,))]), ('AN0212-C', [('genotype', 'i1', (2,))]), ('AN0213-C', [('genotype', 'i1', (2,))]), ('AN0214-C', [('genotype', 'i1', (2,))]), ('AN0215-C', [('genotype', 'i1', (2,))]), ('AN0217-C', [('genotype', 'i1', (2,))]), ('AN0218-C', [('genotype', 'i1', (2,))]), ('AN0219-C', [('genotype', 'i1', (2,))]), ('AN0220-C', [('genotype', 'i1', (2,))]), ('AN0221-C', [('genotype', 'i1', (2,))]), ('AN0222-C', [('genotype', 'i1', (2,))]), ('AN0223-C', [('genotype', 'i1', (2,))]), ('AN0224-C', [('genotype', 'i1', (2,))]), ('AN0225-C', [('genotype', 'i1', (2,))]), ('AN0226-C', [('genotype', 'i1', (2,))]), ('AN0227-C', [('genotype', 'i1', (2,))]), ('AN0228-C', [('genotype', 'i1', (2,))]), ('AN0229-C', [('genotype', 'i1', (2,))]), ('AN0230-C', [('genotype', 'i1', (2,))]), ('AN0231-C', [('genotype', 'i1', (2,))]), ('AN0233-C', [('genotype', 'i1', (2,))]), ('AN0234-C', [('genotype', 'i1', (2,))]), ('AN0235-C', [('genotype', 'i1', (2,))]), ('AN0236-C', [('genotype', 'i1', (2,))]), ('AN0237-C', [('genotype', 'i1', (2,))]), ('AN0238-C', [('genotype', 'i1', (2,))]), ('AN0239-C', [('genotype', 'i1', (2,))]), ('AN0240-C', [('genotype', 'i1', (2,))]), ('AN0241-C', [('genotype', 'i1', (2,))]), ('AN0242-C', [('genotype', 'i1', (2,))]), ('AN0243-C', [('genotype', 'i1', (2,))]), ('AN0244-C', [('genotype', 'i1', (2,))]), ('AN0245-C', [('genotype', 'i1', (2,))]), ('AN0246-C', [('genotype', 'i1', (2,))]), ('AN0247-C', [('genotype', 'i1', (2,))]), ('AN0248-C', [('genotype', 'i1', (2,))]), ('AN0250-C', [('genotype', 'i1', (2,))]), ('AN0251-C', [('genotype', 'i1', (2,))]), ('AN0252-C', [('genotype', 'i1', (2,))]), ('AN0253-C', [('genotype', 'i1', (2,))]), ('AN0254-C', [('genotype', 'i1', (2,))]), ('AN0255-C', [('genotype', 'i1', (2,))]), ('AN0256-C', [('genotype', 'i1', (2,))]), ('AN0258-C', [('genotype', 'i1', (2,))]), ('AN0259-C', [('genotype', 'i1', (2,))]), ('AN0260-C', [('genotype', 'i1', (2,))]), ('AN0261-C', [('genotype', 'i1', (2,))]), ('AN0262-C', [('genotype', 'i1', (2,))]), ('AN0263-C', [('genotype', 'i1', (2,))]), ('AN0264-C', [('genotype', 'i1', (2,))]), ('AN0266-C', [('genotype', 'i1', (2,))]), ('AN0267-C', [('genotype', 'i1', (2,))]), ('AN0268-C', [('genotype', 'i1', (2,))]), ('AN0269-C', [('genotype', 'i1', (2,))]), ('AN0270-C', [('genotype', 'i1', (2,))]), ('AN0272-C', [('genotype', 'i1', (2,))]), ('AN0275-C', [('genotype', 'i1', (2,))]), ('AN0276-C', [('genotype', 'i1', (2,))]), ('AN0277-C', [('genotype', 'i1', (2,))]), ('AN0280-C', [('genotype', 'i1', (2,))]), ('AN0282-C', [('genotype', 'i1', (2,))]), ('AN0283-C', [('genotype', 'i1', (2,))]), ('AN0284-C', [('genotype', 'i1', (2,))]), ('AN0285-C', [('genotype', 'i1', (2,))]), ('AN0286-C', [('genotype', 'i1', (2,))]), ('AN0287-C', [('genotype', 'i1', (2,))]), ('AN0288-C', [('genotype', 'i1', (2,))]), ('AN0290-C', [('genotype', 'i1', (2,))]), ('AN0291-C', [('genotype', 'i1', (2,))]), ('AN0292-C', [('genotype', 'i1', (2,))]), ('AN0294-C', [('genotype', 'i1', (2,))]), ('AN0295-C', [('genotype', 'i1', (2,))]), ('AN0296-C', [('genotype', 'i1', (2,))]), ('AN0297-C', [('genotype', 'i1', (2,))]), ('AN0298-C', [('genotype', 'i1', (2,))]), ('AN0299-C', [('genotype', 'i1', (2,))]), ('AN0300-C', [('genotype', 'i1', (2,))]), ('AN0301-C', [('genotype', 'i1', (2,))]), ('AN0303-C', [('genotype', 'i1', (2,))]), ('AN0304-C', [('genotype', 'i1', (2,))]), ('AN0305-C', [('genotype', 'i1', (2,))]), ('AN0307-C', [('genotype', 'i1', (2,))]), ('AN0308-C', [('genotype', 'i1', (2,))]), ('AN0309-C', [('genotype', 'i1', (2,))]), ('AN0310-C', [('genotype', 'i1', (2,))]), ('AN0312-C', [('genotype', 'i1', (2,))]), ('AN0313-C', [('genotype', 'i1', (2,))]), ('AN0314-C', [('genotype', 'i1', (2,))]), ('AN0315-C', [('genotype', 'i1', (2,))]), ('AN0317-C', [('genotype', 'i1', (2,))]), ('AN0318-C', [('genotype', 'i1', (2,))]), ('AN0319-C', [('genotype', 'i1', (2,))]), ('AN0321-C', [('genotype', 'i1', (2,))]), ('AR0007-C', [('genotype', 'i1', (2,))]), ('AR0008-C', [('genotype', 'i1', (2,))]), ('AR0009-C', [('genotype', 'i1', (2,))]), ('AR0010-C', [('genotype', 'i1', (2,))]), ('AR0011-C', [('genotype', 'i1', (2,))]), ('AR0012-C', [('genotype', 'i1', (2,))]), ('AR0014-C', [('genotype', 'i1', (2,))]), ('AR0015-C', [('genotype', 'i1', (2,))]), ('AR0017-C', [('genotype', 'i1', (2,))]), ('AR0019-C', [('genotype', 'i1', (2,))]), ('AR0020-C', [('genotype', 'i1', (2,))]), ('AR0021-C', [('genotype', 'i1', (2,))]), ('AR0022-C', [('genotype', 'i1', (2,))]), ('AR0023-C', [('genotype', 'i1', (2,))]), ('AR0024-C', [('genotype', 'i1', (2,))]), ('AR0026-C', [('genotype', 'i1', (2,))]), ('AR0027-C', [('genotype', 'i1', (2,))]), ('AR0034-C', [('genotype', 'i1', (2,))]), ('AR0035-C', [('genotype', 'i1', (2,))]), ('AR0042-C', [('genotype', 'i1', (2,))]), ('AR0043-C', [('genotype', 'i1', (2,))]), ('AR0045-C', [('genotype', 'i1', (2,))]), ('AR0047-C', [('genotype', 'i1', (2,))]), ('AR0049-C', [('genotype', 'i1', (2,))]), ('AR0050-C', [('genotype', 'i1', (2,))]), ('AR0051-C', [('genotype', 'i1', (2,))]), ('AR0053-C', [('genotype', 'i1', (2,))]), ('AR0054-C', [('genotype', 'i1', (2,))]), ('AR0057-C', [('genotype', 'i1', (2,))]), ('AR0059-C', [('genotype', 'i1', (2,))]), ('AR0061-C', [('genotype', 'i1', (2,))]), ('AR0062-C', [('genotype', 'i1', (2,))]), ('AR0063-C', [('genotype', 'i1', (2,))]), ('AR0065-C', [('genotype', 'i1', (2,))]), ('AR0066-C', [('genotype', 'i1', (2,))]), ('AR0069-C', [('genotype', 'i1', (2,))]), ('AR0070-C', [('genotype', 'i1', (2,))]), ('AR0071-C', [('genotype', 'i1', (2,))]), ('AR0072-C', [('genotype', 'i1', (2,))]), ('AR0073-C', [('genotype', 'i1', (2,))]), ('AR0074-C', [('genotype', 'i1', (2,))]), ('AR0075-C', [('genotype', 'i1', (2,))]), ('AR0076-C', [('genotype', 'i1', (2,))]), ('AR0078-C', [('genotype', 'i1', (2,))]), ('AR0079-C', [('genotype', 'i1', (2,))]), ('AR0080-C', [('genotype', 'i1', (2,))]), ('AR0081-C', [('genotype', 'i1', (2,))]), ('AR0083-C', [('genotype', 'i1', (2,))]), ('AR0084-C', [('genotype', 'i1', (2,))]), ('AR0086-C', [('genotype', 'i1', (2,))]), ('AR0087-C', [('genotype', 'i1', (2,))]), ('AR0089-C', [('genotype', 'i1', (2,))]), ('AR0090-C', [('genotype', 'i1', (2,))]), ('AR0092-C', [('genotype', 'i1', (2,))]), ('AR0093-C', [('genotype', 'i1', (2,))]), ('AR0095-C', [('genotype', 'i1', (2,))]), ('AR0096-C', [('genotype', 'i1', (2,))]), ('AR0098-C', [('genotype', 'i1', (2,))]), ('AR0099-C', [('genotype', 'i1', (2,))]), ('AR0100-C', [('genotype', 'i1', (2,))]), ('AS0001-C', [('genotype', 'i1', (2,))]), ('AS0002-C', [('genotype', 'i1', (2,))]), ('AS0003-C', [('genotype', 'i1', (2,))]), ('AS0004-C', [('genotype', 'i1', (2,))]), ('AS0006-C', [('genotype', 'i1', (2,))]), ('AS0007-C', [('genotype', 'i1', (2,))]), ('AS0008-C', [('genotype', 'i1', (2,))]), ('AS0009-C', [('genotype', 'i1', (2,))]), ('AS0010-C', [('genotype', 'i1', (2,))]), ('AS0011-C', [('genotype', 'i1', (2,))]), ('AS0012-C', [('genotype', 'i1', (2,))]), ('AS0013-C', [('genotype', 'i1', (2,))]), ('AS0014-C', [('genotype', 'i1', (2,))]), ('AS0015-C', [('genotype', 'i1', (2,))]), ('AS0016-C', [('genotype', 'i1', (2,))]), ('AS0017-C', [('genotype', 'i1', (2,))]), ('AS0018-C', [('genotype', 'i1', (2,))]), ('AS0019-C', [('genotype', 'i1', (2,))]), ('AS0020-C', [('genotype', 'i1', (2,))]), ('AS0021-C', [('genotype', 'i1', (2,))]), ('AS0022-C', [('genotype', 'i1', (2,))]), ('AS0024-C', [('genotype', 'i1', (2,))]), ('AS0026-C', [('genotype', 'i1', (2,))]), ('AS0028-C', [('genotype', 'i1', (2,))]), ('AS0030-C', [('genotype', 'i1', (2,))]), ('AS0032-C', [('genotype', 'i1', (2,))]), ('AS0033-C', [('genotype', 'i1', (2,))]), ('AS0034-C', [('genotype', 'i1', (2,))]), ('AS0035-C', [('genotype', 'i1', (2,))]), ('AS0036-C', [('genotype', 'i1', (2,))]), ('AS0037-C', [('genotype', 'i1', (2,))]), ('AS0039-C', [('genotype', 'i1', (2,))]), ('AS0042-C', [('genotype', 'i1', (2,))]), ('AS0044-C', [('genotype', 'i1', (2,))]), ('AS0045-C', [('genotype', 'i1', (2,))]), ('AS0047-C', [('genotype', 'i1', (2,))]), ('AS0049-C', [('genotype', 'i1', (2,))]), ('AS0052-C', [('genotype', 'i1', (2,))]), ('AS0053-C', [('genotype', 'i1', (2,))]), ('AS0054-C', [('genotype', 'i1', (2,))]), ('AS0055-C', [('genotype', 'i1', (2,))]), ('AS0056-C', [('genotype', 'i1', (2,))]), ('AS0058-C', [('genotype', 'i1', (2,))]), ('AS0059-C', [('genotype', 'i1', (2,))]), ('AS0064-C', [('genotype', 'i1', (2,))]), ('AS0065-C', [('genotype', 'i1', (2,))]), ('AS0066-C', [('genotype', 'i1', (2,))]), ('AS0068-C', [('genotype', 'i1', (2,))]), ('AS0069-C', [('genotype', 'i1', (2,))]), ('AS0070-C', [('genotype', 'i1', (2,))]), ('AS0071-C', [('genotype', 'i1', (2,))]), ('AS0072-C', [('genotype', 'i1', (2,))]), ('AS0073-C', [('genotype', 'i1', (2,))]), ('AS0074-C', [('genotype', 'i1', (2,))]), ('AS0076-C', [('genotype', 'i1', (2,))]), ('AS0077-C', [('genotype', 'i1', (2,))]), ('AV0001-C', [('genotype', 'i1', (2,))]), ('AV0002-C', [('genotype', 'i1', (2,))]), ('AV0003-C', [('genotype', 'i1', (2,))]), ('AV0004-C', [('genotype', 'i1', (2,))]), ('AV0005-C', [('genotype', 'i1', (2,))]), ('AV0007-C', [('genotype', 'i1', (2,))]), ('AV0008-C', [('genotype', 'i1', (2,))]), ('AV0009-C', [('genotype', 'i1', (2,))]), ('AV0010-C', [('genotype', 'i1', (2,))]), ('AV0011-C', [('genotype', 'i1', (2,))]), ('AV0012-C', [('genotype', 'i1', (2,))]), ('AV0013-C', [('genotype', 'i1', (2,))]), ('AV0014-C', [('genotype', 'i1', (2,))]), ('AV0015-C', [('genotype', 'i1', (2,))]), ('AV0018-C', [('genotype', 'i1', (2,))]), ('AV0024-C', [('genotype', 'i1', (2,))]), ('AV0026-C', [('genotype', 'i1', (2,))]), ('AV0027-C', [('genotype', 'i1', (2,))]), ('AV0029-C', [('genotype', 'i1', (2,))]), ('AV0030-C', [('genotype', 'i1', (2,))]), ('AV0031-C', [('genotype', 'i1', (2,))]), ('AV0032-C', [('genotype', 'i1', (2,))]), ('AV0033-C', [('genotype', 'i1', (2,))]), ('AV0034-C', [('genotype', 'i1', (2,))]), ('AV0035-C', [('genotype', 'i1', (2,))]), ('AV0036-C', [('genotype', 'i1', (2,))]), ('AV0039-C', [('genotype', 'i1', (2,))]), ('AV0041-C', [('genotype', 'i1', (2,))]), ('AV0044-C', [('genotype', 'i1', (2,))]), ('AV0045-C', [('genotype', 'i1', (2,))]), ('AV0047-C', [('genotype', 'i1', (2,))]), ('AD0231-C', [('genotype', 'i1', (2,))]), ('AD0232-C', [('genotype', 'i1', (2,))]), ('AD0254-C', [('genotype', 'i1', (2,))]), ('AD0255-C', [('genotype', 'i1', (2,))]), ('AD0305-C', [('genotype', 'i1', (2,))]), ('AD0306-C', [('genotype', 'i1', (2,))]), ('AD0347-C', [('genotype', 'i1', (2,))]), ('AD0348-C', [('genotype', 'i1', (2,))])])"
      ]
     },
     "execution_count": 28,
     "metadata": {},
     "output_type": "execute_result"
    }
   ],
   "source": [
    "%time vcfnp.calldata(prof_vcf_fn, fields=('genotype',))"
   ]
  },
  {
   "cell_type": "code",
   "execution_count": 29,
   "metadata": {
    "collapsed": false
   },
   "outputs": [
    {
     "data": {
      "text/plain": [
       "47.77777777777778"
      ]
     },
     "execution_count": 29,
     "metadata": {},
     "output_type": "execute_result"
    }
   ],
   "source": [
    "4.3 / 0.09"
   ]
  },
  {
   "cell_type": "markdown",
   "metadata": {},
   "source": [
    "## Legacy"
   ]
  },
  {
   "cell_type": "code",
   "execution_count": null,
   "metadata": {
    "collapsed": true
   },
   "outputs": [],
   "source": [
    "vcf_block_read(vcf_fn, buffer_size=2**15, block_size=2**25)"
   ]
  },
  {
   "cell_type": "code",
   "execution_count": 3,
   "metadata": {
    "collapsed": false
   },
   "outputs": [
    {
     "name": "stdout",
     "output_type": "stream",
     "text": [
      "CPU times: user 700 ms, sys: 0 ns, total: 700 ms\n",
      "Wall time: 697 ms\n"
     ]
    },
    {
     "data": {
      "text/plain": [
       "6140661"
      ]
     },
     "execution_count": 3,
     "metadata": {},
     "output_type": "execute_result"
    }
   ],
   "source": [
    "%time spike_read_len(vcf_fn, buffer_size=10)"
   ]
  },
  {
   "cell_type": "code",
   "execution_count": 4,
   "metadata": {
    "collapsed": false
   },
   "outputs": [
    {
     "name": "stdout",
     "output_type": "stream",
     "text": [
      "10 loops, best of 3: 105 ms per loop\n"
     ]
    }
   ],
   "source": [
    "%timeit spike_read_len(vcf_fn, buffer_size=100)"
   ]
  },
  {
   "cell_type": "code",
   "execution_count": 5,
   "metadata": {
    "collapsed": false
   },
   "outputs": [
    {
     "name": "stdout",
     "output_type": "stream",
     "text": [
      "10 loops, best of 3: 50 ms per loop\n"
     ]
    }
   ],
   "source": [
    "%timeit spike_read_len(vcf_fn, buffer_size=1000)"
   ]
  },
  {
   "cell_type": "code",
   "execution_count": 6,
   "metadata": {
    "collapsed": false
   },
   "outputs": [
    {
     "name": "stdout",
     "output_type": "stream",
     "text": [
      "10 loops, best of 3: 39 ms per loop\n"
     ]
    }
   ],
   "source": [
    "%timeit spike_read_len(vcf_fn, buffer_size=2**15)"
   ]
  },
  {
   "cell_type": "code",
   "execution_count": 7,
   "metadata": {
    "collapsed": false
   },
   "outputs": [
    {
     "name": "stdout",
     "output_type": "stream",
     "text": [
      "10 loops, best of 3: 45.3 ms per loop\n"
     ]
    }
   ],
   "source": [
    "%timeit spike_read_len(vcf_fn, buffer_size=2**12)"
   ]
  },
  {
   "cell_type": "code",
   "execution_count": 8,
   "metadata": {
    "collapsed": true
   },
   "outputs": [],
   "source": [
    "import cProfile"
   ]
  },
  {
   "cell_type": "code",
   "execution_count": 9,
   "metadata": {
    "collapsed": false
   },
   "outputs": [
    {
     "name": "stdout",
     "output_type": "stream",
     "text": [
      "         6146762 function calls (6146566 primitive calls) in 0.941 seconds\n",
      "\n",
      "   Ordered by: internal time\n",
      "\n",
      "   ncalls  tottime  percall  cumtime  percall filename:lineno(function)\n",
      "        1    0.584    0.584    0.941    0.941 io_vcf.pyx:90(spike_read_len)\n",
      "  6140662    0.322    0.000    0.356    0.000 io_vcf.pyx:74(BufferedInputStream_next)\n",
      "      189    0.019    0.000    0.019    0.000 {method 'decompress' of 'zlib.Decompress' objects}\n",
      "      285    0.008    0.000    0.008    0.000 {built-in method zlib.crc32}\n",
      "  385/189    0.001    0.000    0.033    0.000 {method 'read' of '_io.BufferedReader' objects}\n",
      "      190    0.001    0.000    0.031    0.000 gzip.py:436(read)\n",
      "      190    0.001    0.000    0.033    0.000 _compression.py:66(readinto)\n",
      "      761    0.001    0.000    0.001    0.000 gzip.py:80(read)\n",
      "      189    0.001    0.000    0.034    0.000 gzip.py:269(read)\n",
      "      189    0.000    0.000    0.035    0.000 io_vcf.pyx:56(BufferedInputStream_fill_buffer)\n",
      "       97    0.000    0.000    0.001    0.000 gzip.py:403(_read_gzip_header)\n",
      "       95    0.000    0.000    0.001    0.000 gzip.py:491(_read_eof)\n",
      "      188    0.000    0.000    0.008    0.000 gzip.py:487(_add_read_data)\n",
      "      380    0.000    0.000    0.001    0.000 gzip.py:387(_read_exact)\n",
      "      283    0.000    0.000    0.000    0.000 gzip.py:93(prepend)\n",
      "       96    0.000    0.000    0.000    0.000 {built-in method zlib.decompressobj}\n",
      "      189    0.000    0.000    0.000    0.000 _compression.py:12(_check_not_closed)\n",
      "     1610    0.000    0.000    0.000    0.000 {built-in method builtins.len}\n",
      "      285    0.000    0.000    0.000    0.000 {built-in method _struct.unpack}\n",
      "        1    0.000    0.000    0.941    0.941 {built-in method builtins.exec}\n",
      "      190    0.000    0.000    0.000    0.000 {method 'cast' of 'memoryview' objects}\n",
      "        1    0.000    0.000    0.000    0.000 {built-in method io.open}\n",
      "       97    0.000    0.000    0.000    0.000 gzip.py:383(_init_read)\n",
      "      191    0.000    0.000    0.000    0.000 gzip.py:296(closed)\n",
      "        1    0.000    0.000    0.000    0.000 gzip.py:123(__init__)\n",
      "        1    0.000    0.000    0.000    0.000 gzip.py:20(open)\n",
      "        1    0.000    0.000    0.000    0.000 gzip.py:376(__init__)\n",
      "        2    0.000    0.000    0.000    0.000 {method 'close' of '_io.BufferedReader' objects}\n",
      "        1    0.000    0.000    0.000    0.000 _compression.py:39(__init__)\n",
      "        1    0.000    0.000    0.000    0.000 gzip.py:74(__init__)\n",
      "        1    0.000    0.000    0.941    0.941 <string>:1(<module>)\n",
      "        1    0.000    0.000    0.000    0.000 _compression.py:59(close)\n",
      "        1    0.000    0.000    0.000    0.000 gzip.py:300(close)\n",
      "        1    0.000    0.000    0.001    0.001 io_vcf.pyx:44(__cinit__)\n",
      "        1    0.000    0.000    0.000    0.000 {method 'replace' of 'str' objects}\n",
      "        1    0.000    0.000    0.000    0.000 _compression.py:150(tell)\n",
      "        1    0.000    0.000    0.000    0.000 {method 'startswith' of 'str' objects}\n",
      "        1    0.000    0.000    0.000    0.000 {built-in method builtins.isinstance}\n",
      "        1    0.000    0.000    0.000    0.000 _compression.py:36(readable)\n",
      "        1    0.000    0.000    0.000    0.000 {function DecompressReader.close at 0x7f1ca6ab9c80}\n",
      "        1    0.000    0.000    0.000    0.000 {method 'disable' of '_lsprof.Profiler' objects}\n",
      "\n",
      "\n"
     ]
    }
   ],
   "source": [
    "cProfile.run('spike_read_len(vcf_fn, buffer_size=2**15)', sort='time')"
   ]
  },
  {
   "cell_type": "code",
   "execution_count": 10,
   "metadata": {
    "collapsed": true
   },
   "outputs": [],
   "source": [
    "import line_profiler\n",
    "\n",
    "l = line_profiler.LineProfiler()\n",
    "l.add_function(spike_read_len)\n",
    "l.add_function(BufferedInputStream_next)\n",
    "l.add_function(BufferedInputStream_fill_buffer)\n",
    "l.runcall(spike_read_len, vcf_fn, buffer_size=2**14)\n",
    "l.print_stats()"
   ]
  },
  {
   "cell_type": "markdown",
   "metadata": {},
   "source": [
    "## Legacy"
   ]
  },
  {
   "cell_type": "code",
   "execution_count": null,
   "metadata": {
    "collapsed": true
   },
   "outputs": [],
   "source": [
    "l = line_profiler.CLineProfiler"
   ]
  },
  {
   "cell_type": "code",
   "execution_count": 3,
   "metadata": {
    "collapsed": false
   },
   "outputs": [
    {
     "data": {
      "text/plain": [
       "32768"
      ]
     },
     "execution_count": 3,
     "metadata": {},
     "output_type": "execute_result"
    }
   ],
   "source": [
    "2**15"
   ]
  },
  {
   "cell_type": "code",
   "execution_count": null,
   "metadata": {
    "collapsed": false
   },
   "outputs": [
    {
     "name": "stderr",
     "output_type": "stream",
     "text": [
      "HeaderParser_parse 37873392 35\n",
      "20\n",
      "b'##fileformat=VCFv4.1'\n",
      "HeaderParser_parse 37873413 35\n",
      "60\n",
      "b'##FORMAT=<ID=GT,Number=1,Type=String,Description=\"Genotype\">'\n",
      "HeaderParser_parse 37873474 35\n",
      "124\n",
      "b'##INFO=<ID=AC,Number=A,Type=Integer,Description=\"Allele countin genotypes, for each ALT allele, in the same order aslisted\">'\n",
      "HeaderParser_parse 37873599 35\n",
      "32\n",
      "b'##contig=<ID=2L,length=49364325>'\n",
      "HeaderParser_parse 37873632 35\n",
      "32\n",
      "b'##contig=<ID=2R,length=61545105>'\n",
      "HeaderParser_parse 37873665 35\n",
      "32\n",
      "b'##contig=<ID=3L,length=41963435>'\n",
      "HeaderParser_parse 37873698 35\n",
      "32\n",
      "b'##contig=<ID=3R,length=53200684>'\n",
      "HeaderParser_parse 37873731 35\n",
      "34\n",
      "b'##contig=<ID=UNKN,length=42389979>'\n",
      "HeaderParser_parse 37873766 35\n",
      "31\n",
      "b'##contig=<ID=X,length=24393108>'\n",
      "HeaderParser_parse 37873798 35\n",
      "38\n",
      "b'##contig=<ID=Y_unplaced,length=237045>'\n",
      "HeaderParser_parse 37873837 35\n",
      "106\n",
      "b'##reference=file:///data/anopheles/ag1000g/data/genome/AgamP3/Anopheles-gambiae-PEST_CHROMOSOMES_AgamP3.fa'\n",
      "HeaderParser_parse 37873944 35\n",
      "7002\n"
     ]
    }
   ],
   "source": [
    "blocks = io_vcf.vcf_block_read(vcf_fn, buffer_size=2**16, block_size=1000)"
   ]
  },
  {
   "cell_type": "code",
   "execution_count": null,
   "metadata": {
    "collapsed": true
   },
   "outputs": [],
   "source": []
  }
 ],
 "metadata": {
  "kernelspec": {
   "display_name": "Python 3",
   "language": "python",
   "name": "python3"
  },
  "language_info": {
   "codemirror_mode": {
    "name": "ipython",
    "version": 3
   },
   "file_extension": ".py",
   "mimetype": "text/x-python",
   "name": "python",
   "nbconvert_exporter": "python",
   "pygments_lexer": "ipython3",
   "version": "3.5.3"
  }
 },
 "nbformat": 4,
 "nbformat_minor": 2
}
