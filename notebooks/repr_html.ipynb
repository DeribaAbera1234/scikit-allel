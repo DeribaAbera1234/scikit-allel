{
 "cells": [
  {
   "cell_type": "code",
   "execution_count": 1,
   "metadata": {},
   "outputs": [
    {
     "data": {
      "text/plain": [
       "'1.1.0.dev0'"
      ]
     },
     "execution_count": 1,
     "metadata": {},
     "output_type": "execute_result"
    }
   ],
   "source": [
    "import sys\n",
    "sys.path.insert(0, '../')\n",
    "import numpy as np\n",
    "%reload_ext autoreload\n",
    "%autoreload 1\n",
    "%aimport allel\n",
    "%aimport allel.model.ndarray\n",
    "%aimport allel.model.chunked\n",
    "%aimport allel.model.dask\n",
    "allel.__version__"
   ]
  },
  {
   "cell_type": "markdown",
   "metadata": {},
   "source": [
    "## GenotypeVector"
   ]
  },
  {
   "cell_type": "code",
   "execution_count": 2,
   "metadata": {},
   "outputs": [
    {
     "data": {
      "text/html": [
       "<div class=\"allel allel-DisplayAs1D\"><span>&lt;GenotypeVector shape=(40, 2) dtype=int64&gt;</span><table><thead><tr><th style=\"text-align: center\">0</th><th style=\"text-align: center\">1</th><th style=\"text-align: center\">2</th><th style=\"text-align: center\">3</th><th style=\"text-align: center\">4</th><th style=\"text-align: center\">...</th><th style=\"text-align: center\">35</th><th style=\"text-align: center\">36</th><th style=\"text-align: center\">37</th><th style=\"text-align: center\">38</th><th style=\"text-align: center\">39</th></tr></thead><tbody><tr><td style=\"text-align: center\">0|1</td><td style=\"text-align: center\">./.</td><td style=\"text-align: center\">0|1</td><td style=\"text-align: center\">./.</td><td style=\"text-align: center\">0|1</td><td style=\"text-align: center\">...</td><td style=\"text-align: center\">./.</td><td style=\"text-align: center\">0|1</td><td style=\"text-align: center\">./.</td><td style=\"text-align: center\">0|1</td><td style=\"text-align: center\">./.</td></tr></tbody></table></div>"
      ],
      "text/plain": [
       "<GenotypeVector shape=(40, 2) dtype=int64>\n",
       "0|1 ./. 0|1 ./. 0|1 ... ./. 0|1 ./. 0|1 ./."
      ]
     },
     "execution_count": 2,
     "metadata": {},
     "output_type": "execute_result"
    }
   ],
   "source": [
    "g = allel.GenotypeVector([[0, 1], [-1, -1]]*20)\n",
    "g.is_phased = np.array([True, False]*20, dtype=bool)\n",
    "g"
   ]
  },
  {
   "cell_type": "code",
   "execution_count": 3,
   "metadata": {},
   "outputs": [
    {
     "data": {
      "text/html": [
       "<div class=\"allel allel-DisplayAs1D\"><span>&lt;GenotypeVector shape=(40, 2) dtype=int64&gt;</span><table><thead><tr><th style=\"text-align: center\">0</th><th style=\"text-align: center\">1</th><th style=\"text-align: center\">2</th><th style=\"text-align: center\">3</th><th style=\"text-align: center\">4</th><th style=\"text-align: center\">5</th><th style=\"text-align: center\">6</th><th style=\"text-align: center\">7</th><th style=\"text-align: center\">8</th><th style=\"text-align: center\">9</th><th style=\"text-align: center\">...</th><th style=\"text-align: center\">30</th><th style=\"text-align: center\">31</th><th style=\"text-align: center\">32</th><th style=\"text-align: center\">33</th><th style=\"text-align: center\">34</th><th style=\"text-align: center\">35</th><th style=\"text-align: center\">36</th><th style=\"text-align: center\">37</th><th style=\"text-align: center\">38</th><th style=\"text-align: center\">39</th></tr></thead><tbody><tr><td style=\"text-align: center\">0|1</td><td style=\"text-align: center\">./.</td><td style=\"text-align: center\">0|1</td><td style=\"text-align: center\">./.</td><td style=\"text-align: center\">0|1</td><td style=\"text-align: center\">./.</td><td style=\"text-align: center\">0|1</td><td style=\"text-align: center\">./.</td><td style=\"text-align: center\">0|1</td><td style=\"text-align: center\">./.</td><td style=\"text-align: center\">...</td><td style=\"text-align: center\">0|1</td><td style=\"text-align: center\">./.</td><td style=\"text-align: center\">0|1</td><td style=\"text-align: center\">./.</td><td style=\"text-align: center\">0|1</td><td style=\"text-align: center\">./.</td><td style=\"text-align: center\">0|1</td><td style=\"text-align: center\">./.</td><td style=\"text-align: center\">0|1</td><td style=\"text-align: center\">./.</td></tr></tbody></table></div>"
      ]
     },
     "metadata": {},
     "output_type": "display_data"
    }
   ],
   "source": [
    "g.display(30, 10)"
   ]
  },
  {
   "cell_type": "code",
   "execution_count": 4,
   "metadata": {},
   "outputs": [
    {
     "data": {
      "text/html": [
       "<div class=\"allel allel-DisplayAs1D\"><span>&lt;GenotypeVector shape=(40, 2) dtype=int64&gt;</span><table><thead><tr><th style=\"text-align: center\">0</th><th style=\"text-align: center\">1</th><th style=\"text-align: center\">2</th><th style=\"text-align: center\">3</th><th style=\"text-align: center\">4</th><th style=\"text-align: center\">5</th><th style=\"text-align: center\">6</th><th style=\"text-align: center\">7</th><th style=\"text-align: center\">8</th><th style=\"text-align: center\">9</th><th style=\"text-align: center\">10</th><th style=\"text-align: center\">11</th><th style=\"text-align: center\">12</th><th style=\"text-align: center\">13</th><th style=\"text-align: center\">14</th><th style=\"text-align: center\">15</th><th style=\"text-align: center\">16</th><th style=\"text-align: center\">17</th><th style=\"text-align: center\">18</th><th style=\"text-align: center\">19</th><th style=\"text-align: center\">20</th><th style=\"text-align: center\">21</th><th style=\"text-align: center\">22</th><th style=\"text-align: center\">23</th><th style=\"text-align: center\">24</th><th style=\"text-align: center\">25</th><th style=\"text-align: center\">26</th><th style=\"text-align: center\">27</th><th style=\"text-align: center\">28</th><th style=\"text-align: center\">29</th><th style=\"text-align: center\">30</th><th style=\"text-align: center\">31</th><th style=\"text-align: center\">32</th><th style=\"text-align: center\">33</th><th style=\"text-align: center\">34</th><th style=\"text-align: center\">35</th><th style=\"text-align: center\">36</th><th style=\"text-align: center\">37</th><th style=\"text-align: center\">38</th><th style=\"text-align: center\">39</th></tr></thead><tbody><tr><td style=\"text-align: center\">0|1</td><td style=\"text-align: center\">./.</td><td style=\"text-align: center\">0|1</td><td style=\"text-align: center\">./.</td><td style=\"text-align: center\">0|1</td><td style=\"text-align: center\">./.</td><td style=\"text-align: center\">0|1</td><td style=\"text-align: center\">./.</td><td style=\"text-align: center\">0|1</td><td style=\"text-align: center\">./.</td><td style=\"text-align: center\">0|1</td><td style=\"text-align: center\">./.</td><td style=\"text-align: center\">0|1</td><td style=\"text-align: center\">./.</td><td style=\"text-align: center\">0|1</td><td style=\"text-align: center\">./.</td><td style=\"text-align: center\">0|1</td><td style=\"text-align: center\">./.</td><td style=\"text-align: center\">0|1</td><td style=\"text-align: center\">./.</td><td style=\"text-align: center\">0|1</td><td style=\"text-align: center\">./.</td><td style=\"text-align: center\">0|1</td><td style=\"text-align: center\">./.</td><td style=\"text-align: center\">0|1</td><td style=\"text-align: center\">./.</td><td style=\"text-align: center\">0|1</td><td style=\"text-align: center\">./.</td><td style=\"text-align: center\">0|1</td><td style=\"text-align: center\">./.</td><td style=\"text-align: center\">0|1</td><td style=\"text-align: center\">./.</td><td style=\"text-align: center\">0|1</td><td style=\"text-align: center\">./.</td><td style=\"text-align: center\">0|1</td><td style=\"text-align: center\">./.</td><td style=\"text-align: center\">0|1</td><td style=\"text-align: center\">./.</td><td style=\"text-align: center\">0|1</td><td style=\"text-align: center\">./.</td></tr></tbody></table></div>"
      ]
     },
     "metadata": {},
     "output_type": "display_data"
    }
   ],
   "source": [
    "g.displayall()"
   ]
  },
  {
   "cell_type": "code",
   "execution_count": 5,
   "metadata": {},
   "outputs": [
    {
     "name": "stdout",
     "output_type": "stream",
     "text": [
      "<GenotypeVector shape=(40, 2) dtype=int64>\n",
      "0|1 ./. 0|1 ./. 0|1 ... ./. 0|1 ./. 0|1 ./.\n"
     ]
    }
   ],
   "source": [
    "print(repr(g))"
   ]
  },
  {
   "cell_type": "code",
   "execution_count": 6,
   "metadata": {},
   "outputs": [
    {
     "name": "stdout",
     "output_type": "stream",
     "text": [
      "0|1 ./. 0|1 ./. 0|1 ... ./. 0|1 ./. 0|1 ./.\n"
     ]
    }
   ],
   "source": [
    "print(g)"
   ]
  },
  {
   "cell_type": "code",
   "execution_count": 7,
   "metadata": {},
   "outputs": [
    {
     "name": "stdout",
     "output_type": "stream",
     "text": [
      "0|1 ./. 0|1 ./. 0|1 ./. 0|1 ./. 0|1 ./. 0|1 ./. 0|1 ./. 0|1 ./. 0|1 ./. 0|1 ./. 0|1 ./. 0|1 ./. 0|1 ./. 0|1 ./. 0|1 ./. 0|1 ./. 0|1 ./. 0|1 ./. 0|1 ./. 0|1 ./.\n"
     ]
    }
   ],
   "source": [
    "print(g.to_str(40))"
   ]
  },
  {
   "cell_type": "code",
   "execution_count": 8,
   "metadata": {},
   "outputs": [
    {
     "data": {
      "text/html": [
       "<div class=\"allel allel-DisplayAs1D\"><span>&lt;GenotypeVector shape=(80, 2) dtype=int64&gt;</span><table><thead><tr><th style=\"text-align: center\">0</th><th style=\"text-align: center\">1</th><th style=\"text-align: center\">2</th><th style=\"text-align: center\">3</th><th style=\"text-align: center\">4</th><th style=\"text-align: center\">...</th><th style=\"text-align: center\">75</th><th style=\"text-align: center\">76</th><th style=\"text-align: center\">77</th><th style=\"text-align: center\">78</th><th style=\"text-align: center\">79</th></tr></thead><tbody><tr><td style=\"text-align: center\">0|1</td><td style=\"text-align: center\">./.</td><td style=\"text-align: center\">0|1</td><td style=\"text-align: center\">./.</td><td style=\"text-align: center\">0|1</td><td style=\"text-align: center\">...</td><td style=\"text-align: center\">./.</td><td style=\"text-align: center\">0|1</td><td style=\"text-align: center\">./.</td><td style=\"text-align: center\">0|1</td><td style=\"text-align: center\">./.</td></tr></tbody></table></div>"
      ],
      "text/plain": [
       "<GenotypeVector shape=(80, 2) dtype=int64>\n",
       "0|1 ./. 0|1 ./. 0|1 ... ./. 0|1 ./. 0|1 ./."
      ]
     },
     "execution_count": 8,
     "metadata": {},
     "output_type": "execute_result"
    }
   ],
   "source": [
    "g.concatenate(g)"
   ]
  },
  {
   "cell_type": "code",
   "execution_count": 9,
   "metadata": {},
   "outputs": [
    {
     "data": {
      "text/plain": [
       "array([[ 0,  1,  0,  1],\n",
       "       [-1, -1, -1, -1],\n",
       "       [ 0,  1,  0,  1],\n",
       "       [-1, -1, -1, -1],\n",
       "       [ 0,  1,  0,  1],\n",
       "       [-1, -1, -1, -1],\n",
       "       [ 0,  1,  0,  1],\n",
       "       [-1, -1, -1, -1],\n",
       "       [ 0,  1,  0,  1],\n",
       "       [-1, -1, -1, -1],\n",
       "       [ 0,  1,  0,  1],\n",
       "       [-1, -1, -1, -1],\n",
       "       [ 0,  1,  0,  1],\n",
       "       [-1, -1, -1, -1],\n",
       "       [ 0,  1,  0,  1],\n",
       "       [-1, -1, -1, -1],\n",
       "       [ 0,  1,  0,  1],\n",
       "       [-1, -1, -1, -1],\n",
       "       [ 0,  1,  0,  1],\n",
       "       [-1, -1, -1, -1],\n",
       "       [ 0,  1,  0,  1],\n",
       "       [-1, -1, -1, -1],\n",
       "       [ 0,  1,  0,  1],\n",
       "       [-1, -1, -1, -1],\n",
       "       [ 0,  1,  0,  1],\n",
       "       [-1, -1, -1, -1],\n",
       "       [ 0,  1,  0,  1],\n",
       "       [-1, -1, -1, -1],\n",
       "       [ 0,  1,  0,  1],\n",
       "       [-1, -1, -1, -1],\n",
       "       [ 0,  1,  0,  1],\n",
       "       [-1, -1, -1, -1],\n",
       "       [ 0,  1,  0,  1],\n",
       "       [-1, -1, -1, -1],\n",
       "       [ 0,  1,  0,  1],\n",
       "       [-1, -1, -1, -1],\n",
       "       [ 0,  1,  0,  1],\n",
       "       [-1, -1, -1, -1],\n",
       "       [ 0,  1,  0,  1],\n",
       "       [-1, -1, -1, -1]])"
      ]
     },
     "execution_count": 9,
     "metadata": {},
     "output_type": "execute_result"
    }
   ],
   "source": [
    "g.concatenate(g, axis=1)"
   ]
  },
  {
   "cell_type": "markdown",
   "metadata": {},
   "source": [
    "## GenotypeArray"
   ]
  },
  {
   "cell_type": "code",
   "execution_count": 10,
   "metadata": {},
   "outputs": [],
   "source": [
    "g = allel.GenotypeArray([[[0, 1], [-1, -1]]*20]*20)\n",
    "g.is_phased = np.array([[True, False, False, False]*10]*20, dtype=bool)\n",
    "g.mask = np.array([[1, 0, 0, 0, 0]*8]*20, dtype=bool)"
   ]
  },
  {
   "cell_type": "code",
   "execution_count": 11,
   "metadata": {},
   "outputs": [
    {
     "name": "stdout",
     "output_type": "stream",
     "text": [
      ".|. ./. 0/1 ./. 0|1 ... ./. 0|1 ./. 0/1 ./.\n",
      ".|. ./. 0/1 ./. 0|1 ... ./. 0|1 ./. 0/1 ./.\n",
      ".|. ./. 0/1 ./. 0|1 ... ./. 0|1 ./. 0/1 ./.\n",
      "...\n",
      ".|. ./. 0/1 ./. 0|1 ... ./. 0|1 ./. 0/1 ./.\n",
      ".|. ./. 0/1 ./. 0|1 ... ./. 0|1 ./. 0/1 ./.\n",
      ".|. ./. 0/1 ./. 0|1 ... ./. 0|1 ./. 0/1 ./.\n",
      "\n"
     ]
    }
   ],
   "source": [
    "print(g)"
   ]
  },
  {
   "cell_type": "code",
   "execution_count": 12,
   "metadata": {},
   "outputs": [
    {
     "name": "stdout",
     "output_type": "stream",
     "text": [
      "<GenotypeArray shape=(20, 40, 2) dtype=int64>\n",
      ".|. ./. 0/1 ./. 0|1 ... ./. 0|1 ./. 0/1 ./.\n",
      ".|. ./. 0/1 ./. 0|1 ... ./. 0|1 ./. 0/1 ./.\n",
      ".|. ./. 0/1 ./. 0|1 ... ./. 0|1 ./. 0/1 ./.\n",
      "...\n",
      ".|. ./. 0/1 ./. 0|1 ... ./. 0|1 ./. 0/1 ./.\n",
      ".|. ./. 0/1 ./. 0|1 ... ./. 0|1 ./. 0/1 ./.\n",
      ".|. ./. 0/1 ./. 0|1 ... ./. 0|1 ./. 0/1 ./.\n",
      "\n"
     ]
    }
   ],
   "source": [
    "print(repr(g))"
   ]
  },
  {
   "cell_type": "code",
   "execution_count": 13,
   "metadata": {},
   "outputs": [
    {
     "data": {
      "text/html": [
       "<div class=\"allel allel-DisplayAs2D\"><span>&lt;GenotypeArray shape=(20, 40, 2) dtype=int64&gt;</span><table><thead><tr><th></th><th style=\"text-align: center\">0</th><th style=\"text-align: center\">1</th><th style=\"text-align: center\">2</th><th style=\"text-align: center\">3</th><th style=\"text-align: center\">4</th><th style=\"text-align: center\">...</th><th style=\"text-align: center\">35</th><th style=\"text-align: center\">36</th><th style=\"text-align: center\">37</th><th style=\"text-align: center\">38</th><th style=\"text-align: center\">39</th></tr></thead><tbody><tr><th style=\"text-align: center; background-color: white; border-right: 1px solid black; \">0</th><td style=\"text-align: center\">.|.</td><td style=\"text-align: center\">./.</td><td style=\"text-align: center\">0/1</td><td style=\"text-align: center\">./.</td><td style=\"text-align: center\">0|1</td><td style=\"text-align: center\">...</td><td style=\"text-align: center\">./.</td><td style=\"text-align: center\">0|1</td><td style=\"text-align: center\">./.</td><td style=\"text-align: center\">0/1</td><td style=\"text-align: center\">./.</td></tr><tr><th style=\"text-align: center; background-color: white; border-right: 1px solid black; \">1</th><td style=\"text-align: center\">.|.</td><td style=\"text-align: center\">./.</td><td style=\"text-align: center\">0/1</td><td style=\"text-align: center\">./.</td><td style=\"text-align: center\">0|1</td><td style=\"text-align: center\">...</td><td style=\"text-align: center\">./.</td><td style=\"text-align: center\">0|1</td><td style=\"text-align: center\">./.</td><td style=\"text-align: center\">0/1</td><td style=\"text-align: center\">./.</td></tr><tr><th style=\"text-align: center; background-color: white; border-right: 1px solid black; \">2</th><td style=\"text-align: center\">.|.</td><td style=\"text-align: center\">./.</td><td style=\"text-align: center\">0/1</td><td style=\"text-align: center\">./.</td><td style=\"text-align: center\">0|1</td><td style=\"text-align: center\">...</td><td style=\"text-align: center\">./.</td><td style=\"text-align: center\">0|1</td><td style=\"text-align: center\">./.</td><td style=\"text-align: center\">0/1</td><td style=\"text-align: center\">./.</td></tr><tr><th style=\"text-align: center; background-color: white; border-right: 1px solid black; \">...</th><td style=\"text-align: center\" colspan=\"12\">...</td></tr><tr><th style=\"text-align: center; background-color: white; border-right: 1px solid black; \">17</th><td style=\"text-align: center\">.|.</td><td style=\"text-align: center\">./.</td><td style=\"text-align: center\">0/1</td><td style=\"text-align: center\">./.</td><td style=\"text-align: center\">0|1</td><td style=\"text-align: center\">...</td><td style=\"text-align: center\">./.</td><td style=\"text-align: center\">0|1</td><td style=\"text-align: center\">./.</td><td style=\"text-align: center\">0/1</td><td style=\"text-align: center\">./.</td></tr><tr><th style=\"text-align: center; background-color: white; border-right: 1px solid black; \">18</th><td style=\"text-align: center\">.|.</td><td style=\"text-align: center\">./.</td><td style=\"text-align: center\">0/1</td><td style=\"text-align: center\">./.</td><td style=\"text-align: center\">0|1</td><td style=\"text-align: center\">...</td><td style=\"text-align: center\">./.</td><td style=\"text-align: center\">0|1</td><td style=\"text-align: center\">./.</td><td style=\"text-align: center\">0/1</td><td style=\"text-align: center\">./.</td></tr><tr><th style=\"text-align: center; background-color: white; border-right: 1px solid black; \">19</th><td style=\"text-align: center\">.|.</td><td style=\"text-align: center\">./.</td><td style=\"text-align: center\">0/1</td><td style=\"text-align: center\">./.</td><td style=\"text-align: center\">0|1</td><td style=\"text-align: center\">...</td><td style=\"text-align: center\">./.</td><td style=\"text-align: center\">0|1</td><td style=\"text-align: center\">./.</td><td style=\"text-align: center\">0/1</td><td style=\"text-align: center\">./.</td></tr></tbody></table></div>"
      ],
      "text/plain": [
       "<GenotypeArray shape=(20, 40, 2) dtype=int64>\n",
       ".|. ./. 0/1 ./. 0|1 ... ./. 0|1 ./. 0/1 ./.\n",
       ".|. ./. 0/1 ./. 0|1 ... ./. 0|1 ./. 0/1 ./.\n",
       ".|. ./. 0/1 ./. 0|1 ... ./. 0|1 ./. 0/1 ./.\n",
       "...\n",
       ".|. ./. 0/1 ./. 0|1 ... ./. 0|1 ./. 0/1 ./.\n",
       ".|. ./. 0/1 ./. 0|1 ... ./. 0|1 ./. 0/1 ./.\n",
       ".|. ./. 0/1 ./. 0|1 ... ./. 0|1 ./. 0/1 ./."
      ]
     },
     "execution_count": 13,
     "metadata": {},
     "output_type": "execute_result"
    }
   ],
   "source": [
    "g"
   ]
  },
  {
   "cell_type": "code",
   "execution_count": 14,
   "metadata": {},
   "outputs": [
    {
     "data": {
      "text/html": [
       "<div class=\"allel allel-DisplayAs2D\"><span>&lt;GenotypeArray shape=(20, 40, 2) dtype=int64&gt;</span><table><thead><tr><th></th><th style=\"text-align: center\">0</th><th style=\"text-align: center\">1</th><th style=\"text-align: center\">2</th><th style=\"text-align: center\">3</th><th style=\"text-align: center\">4</th><th style=\"text-align: center\">5</th><th style=\"text-align: center\">6</th><th style=\"text-align: center\">7</th><th style=\"text-align: center\">8</th><th style=\"text-align: center\">9</th><th style=\"text-align: center\">...</th><th style=\"text-align: center\">30</th><th style=\"text-align: center\">31</th><th style=\"text-align: center\">32</th><th style=\"text-align: center\">33</th><th style=\"text-align: center\">34</th><th style=\"text-align: center\">35</th><th style=\"text-align: center\">36</th><th style=\"text-align: center\">37</th><th style=\"text-align: center\">38</th><th style=\"text-align: center\">39</th></tr></thead><tbody><tr><th style=\"text-align: center; background-color: white; border-right: 1px solid black; \">0</th><td style=\"text-align: center\">.|.</td><td style=\"text-align: center\">./.</td><td style=\"text-align: center\">0/1</td><td style=\"text-align: center\">./.</td><td style=\"text-align: center\">0|1</td><td style=\"text-align: center\">./.</td><td style=\"text-align: center\">0/1</td><td style=\"text-align: center\">./.</td><td style=\"text-align: center\">0|1</td><td style=\"text-align: center\">./.</td><td style=\"text-align: center\">...</td><td style=\"text-align: center\">./.</td><td style=\"text-align: center\">./.</td><td style=\"text-align: center\">0|1</td><td style=\"text-align: center\">./.</td><td style=\"text-align: center\">0/1</td><td style=\"text-align: center\">./.</td><td style=\"text-align: center\">0|1</td><td style=\"text-align: center\">./.</td><td style=\"text-align: center\">0/1</td><td style=\"text-align: center\">./.</td></tr><tr><th style=\"text-align: center; background-color: white; border-right: 1px solid black; \">1</th><td style=\"text-align: center\">.|.</td><td style=\"text-align: center\">./.</td><td style=\"text-align: center\">0/1</td><td style=\"text-align: center\">./.</td><td style=\"text-align: center\">0|1</td><td style=\"text-align: center\">./.</td><td style=\"text-align: center\">0/1</td><td style=\"text-align: center\">./.</td><td style=\"text-align: center\">0|1</td><td style=\"text-align: center\">./.</td><td style=\"text-align: center\">...</td><td style=\"text-align: center\">./.</td><td style=\"text-align: center\">./.</td><td style=\"text-align: center\">0|1</td><td style=\"text-align: center\">./.</td><td style=\"text-align: center\">0/1</td><td style=\"text-align: center\">./.</td><td style=\"text-align: center\">0|1</td><td style=\"text-align: center\">./.</td><td style=\"text-align: center\">0/1</td><td style=\"text-align: center\">./.</td></tr><tr><th style=\"text-align: center; background-color: white; border-right: 1px solid black; \">2</th><td style=\"text-align: center\">.|.</td><td style=\"text-align: center\">./.</td><td style=\"text-align: center\">0/1</td><td style=\"text-align: center\">./.</td><td style=\"text-align: center\">0|1</td><td style=\"text-align: center\">./.</td><td style=\"text-align: center\">0/1</td><td style=\"text-align: center\">./.</td><td style=\"text-align: center\">0|1</td><td style=\"text-align: center\">./.</td><td style=\"text-align: center\">...</td><td style=\"text-align: center\">./.</td><td style=\"text-align: center\">./.</td><td style=\"text-align: center\">0|1</td><td style=\"text-align: center\">./.</td><td style=\"text-align: center\">0/1</td><td style=\"text-align: center\">./.</td><td style=\"text-align: center\">0|1</td><td style=\"text-align: center\">./.</td><td style=\"text-align: center\">0/1</td><td style=\"text-align: center\">./.</td></tr><tr><th style=\"text-align: center; background-color: white; border-right: 1px solid black; \">3</th><td style=\"text-align: center\">.|.</td><td style=\"text-align: center\">./.</td><td style=\"text-align: center\">0/1</td><td style=\"text-align: center\">./.</td><td style=\"text-align: center\">0|1</td><td style=\"text-align: center\">./.</td><td style=\"text-align: center\">0/1</td><td style=\"text-align: center\">./.</td><td style=\"text-align: center\">0|1</td><td style=\"text-align: center\">./.</td><td style=\"text-align: center\">...</td><td style=\"text-align: center\">./.</td><td style=\"text-align: center\">./.</td><td style=\"text-align: center\">0|1</td><td style=\"text-align: center\">./.</td><td style=\"text-align: center\">0/1</td><td style=\"text-align: center\">./.</td><td style=\"text-align: center\">0|1</td><td style=\"text-align: center\">./.</td><td style=\"text-align: center\">0/1</td><td style=\"text-align: center\">./.</td></tr><tr><th style=\"text-align: center; background-color: white; border-right: 1px solid black; \">4</th><td style=\"text-align: center\">.|.</td><td style=\"text-align: center\">./.</td><td style=\"text-align: center\">0/1</td><td style=\"text-align: center\">./.</td><td style=\"text-align: center\">0|1</td><td style=\"text-align: center\">./.</td><td style=\"text-align: center\">0/1</td><td style=\"text-align: center\">./.</td><td style=\"text-align: center\">0|1</td><td style=\"text-align: center\">./.</td><td style=\"text-align: center\">...</td><td style=\"text-align: center\">./.</td><td style=\"text-align: center\">./.</td><td style=\"text-align: center\">0|1</td><td style=\"text-align: center\">./.</td><td style=\"text-align: center\">0/1</td><td style=\"text-align: center\">./.</td><td style=\"text-align: center\">0|1</td><td style=\"text-align: center\">./.</td><td style=\"text-align: center\">0/1</td><td style=\"text-align: center\">./.</td></tr><tr><th style=\"text-align: center; background-color: white; border-right: 1px solid black; \">...</th><td style=\"text-align: center\" colspan=\"22\">...</td></tr><tr><th style=\"text-align: center; background-color: white; border-right: 1px solid black; \">15</th><td style=\"text-align: center\">.|.</td><td style=\"text-align: center\">./.</td><td style=\"text-align: center\">0/1</td><td style=\"text-align: center\">./.</td><td style=\"text-align: center\">0|1</td><td style=\"text-align: center\">./.</td><td style=\"text-align: center\">0/1</td><td style=\"text-align: center\">./.</td><td style=\"text-align: center\">0|1</td><td style=\"text-align: center\">./.</td><td style=\"text-align: center\">...</td><td style=\"text-align: center\">./.</td><td style=\"text-align: center\">./.</td><td style=\"text-align: center\">0|1</td><td style=\"text-align: center\">./.</td><td style=\"text-align: center\">0/1</td><td style=\"text-align: center\">./.</td><td style=\"text-align: center\">0|1</td><td style=\"text-align: center\">./.</td><td style=\"text-align: center\">0/1</td><td style=\"text-align: center\">./.</td></tr><tr><th style=\"text-align: center; background-color: white; border-right: 1px solid black; \">16</th><td style=\"text-align: center\">.|.</td><td style=\"text-align: center\">./.</td><td style=\"text-align: center\">0/1</td><td style=\"text-align: center\">./.</td><td style=\"text-align: center\">0|1</td><td style=\"text-align: center\">./.</td><td style=\"text-align: center\">0/1</td><td style=\"text-align: center\">./.</td><td style=\"text-align: center\">0|1</td><td style=\"text-align: center\">./.</td><td style=\"text-align: center\">...</td><td style=\"text-align: center\">./.</td><td style=\"text-align: center\">./.</td><td style=\"text-align: center\">0|1</td><td style=\"text-align: center\">./.</td><td style=\"text-align: center\">0/1</td><td style=\"text-align: center\">./.</td><td style=\"text-align: center\">0|1</td><td style=\"text-align: center\">./.</td><td style=\"text-align: center\">0/1</td><td style=\"text-align: center\">./.</td></tr><tr><th style=\"text-align: center; background-color: white; border-right: 1px solid black; \">17</th><td style=\"text-align: center\">.|.</td><td style=\"text-align: center\">./.</td><td style=\"text-align: center\">0/1</td><td style=\"text-align: center\">./.</td><td style=\"text-align: center\">0|1</td><td style=\"text-align: center\">./.</td><td style=\"text-align: center\">0/1</td><td style=\"text-align: center\">./.</td><td style=\"text-align: center\">0|1</td><td style=\"text-align: center\">./.</td><td style=\"text-align: center\">...</td><td style=\"text-align: center\">./.</td><td style=\"text-align: center\">./.</td><td style=\"text-align: center\">0|1</td><td style=\"text-align: center\">./.</td><td style=\"text-align: center\">0/1</td><td style=\"text-align: center\">./.</td><td style=\"text-align: center\">0|1</td><td style=\"text-align: center\">./.</td><td style=\"text-align: center\">0/1</td><td style=\"text-align: center\">./.</td></tr><tr><th style=\"text-align: center; background-color: white; border-right: 1px solid black; \">18</th><td style=\"text-align: center\">.|.</td><td style=\"text-align: center\">./.</td><td style=\"text-align: center\">0/1</td><td style=\"text-align: center\">./.</td><td style=\"text-align: center\">0|1</td><td style=\"text-align: center\">./.</td><td style=\"text-align: center\">0/1</td><td style=\"text-align: center\">./.</td><td style=\"text-align: center\">0|1</td><td style=\"text-align: center\">./.</td><td style=\"text-align: center\">...</td><td style=\"text-align: center\">./.</td><td style=\"text-align: center\">./.</td><td style=\"text-align: center\">0|1</td><td style=\"text-align: center\">./.</td><td style=\"text-align: center\">0/1</td><td style=\"text-align: center\">./.</td><td style=\"text-align: center\">0|1</td><td style=\"text-align: center\">./.</td><td style=\"text-align: center\">0/1</td><td style=\"text-align: center\">./.</td></tr><tr><th style=\"text-align: center; background-color: white; border-right: 1px solid black; \">19</th><td style=\"text-align: center\">.|.</td><td style=\"text-align: center\">./.</td><td style=\"text-align: center\">0/1</td><td style=\"text-align: center\">./.</td><td style=\"text-align: center\">0|1</td><td style=\"text-align: center\">./.</td><td style=\"text-align: center\">0/1</td><td style=\"text-align: center\">./.</td><td style=\"text-align: center\">0|1</td><td style=\"text-align: center\">./.</td><td style=\"text-align: center\">...</td><td style=\"text-align: center\">./.</td><td style=\"text-align: center\">./.</td><td style=\"text-align: center\">0|1</td><td style=\"text-align: center\">./.</td><td style=\"text-align: center\">0/1</td><td style=\"text-align: center\">./.</td><td style=\"text-align: center\">0|1</td><td style=\"text-align: center\">./.</td><td style=\"text-align: center\">0/1</td><td style=\"text-align: center\">./.</td></tr></tbody></table></div>"
      ]
     },
     "metadata": {},
     "output_type": "display_data"
    }
   ],
   "source": [
    "g.display(row_threshold=10, row_edgeitems=5, col_threshold=20, col_edgeitems=10)"
   ]
  },
  {
   "cell_type": "code",
   "execution_count": 15,
   "metadata": {},
   "outputs": [
    {
     "data": {
      "text/html": [
       "<div class=\"allel allel-DisplayAs2D\"><span>&lt;GenotypeArray shape=(20, 40, 2) dtype=int64&gt;</span><table><thead><tr><th></th><th style=\"text-align: center\">0</th><th style=\"text-align: center\">1</th><th style=\"text-align: center\">2</th><th style=\"text-align: center\">3</th><th style=\"text-align: center\">4</th><th style=\"text-align: center\">5</th><th style=\"text-align: center\">6</th><th style=\"text-align: center\">7</th><th style=\"text-align: center\">8</th><th style=\"text-align: center\">9</th><th style=\"text-align: center\">10</th><th style=\"text-align: center\">11</th><th style=\"text-align: center\">12</th><th style=\"text-align: center\">13</th><th style=\"text-align: center\">14</th><th style=\"text-align: center\">15</th><th style=\"text-align: center\">16</th><th style=\"text-align: center\">17</th><th style=\"text-align: center\">18</th><th style=\"text-align: center\">19</th><th style=\"text-align: center\">20</th><th style=\"text-align: center\">21</th><th style=\"text-align: center\">22</th><th style=\"text-align: center\">23</th><th style=\"text-align: center\">24</th><th style=\"text-align: center\">25</th><th style=\"text-align: center\">26</th><th style=\"text-align: center\">27</th><th style=\"text-align: center\">28</th><th style=\"text-align: center\">29</th><th style=\"text-align: center\">30</th><th style=\"text-align: center\">31</th><th style=\"text-align: center\">32</th><th style=\"text-align: center\">33</th><th style=\"text-align: center\">34</th><th style=\"text-align: center\">35</th><th style=\"text-align: center\">36</th><th style=\"text-align: center\">37</th><th style=\"text-align: center\">38</th><th style=\"text-align: center\">39</th></tr></thead><tbody><tr><th style=\"text-align: center; background-color: white; border-right: 1px solid black; \">0</th><td style=\"text-align: center\">.|.</td><td style=\"text-align: center\">./.</td><td style=\"text-align: center\">0/1</td><td style=\"text-align: center\">./.</td><td style=\"text-align: center\">0|1</td><td style=\"text-align: center\">./.</td><td style=\"text-align: center\">0/1</td><td style=\"text-align: center\">./.</td><td style=\"text-align: center\">0|1</td><td style=\"text-align: center\">./.</td><td style=\"text-align: center\">./.</td><td style=\"text-align: center\">./.</td><td style=\"text-align: center\">0|1</td><td style=\"text-align: center\">./.</td><td style=\"text-align: center\">0/1</td><td style=\"text-align: center\">./.</td><td style=\"text-align: center\">0|1</td><td style=\"text-align: center\">./.</td><td style=\"text-align: center\">0/1</td><td style=\"text-align: center\">./.</td><td style=\"text-align: center\">.|.</td><td style=\"text-align: center\">./.</td><td style=\"text-align: center\">0/1</td><td style=\"text-align: center\">./.</td><td style=\"text-align: center\">0|1</td><td style=\"text-align: center\">./.</td><td style=\"text-align: center\">0/1</td><td style=\"text-align: center\">./.</td><td style=\"text-align: center\">0|1</td><td style=\"text-align: center\">./.</td><td style=\"text-align: center\">./.</td><td style=\"text-align: center\">./.</td><td style=\"text-align: center\">0|1</td><td style=\"text-align: center\">./.</td><td style=\"text-align: center\">0/1</td><td style=\"text-align: center\">./.</td><td style=\"text-align: center\">0|1</td><td style=\"text-align: center\">./.</td><td style=\"text-align: center\">0/1</td><td style=\"text-align: center\">./.</td></tr><tr><th style=\"text-align: center; background-color: white; border-right: 1px solid black; \">1</th><td style=\"text-align: center\">.|.</td><td style=\"text-align: center\">./.</td><td style=\"text-align: center\">0/1</td><td style=\"text-align: center\">./.</td><td style=\"text-align: center\">0|1</td><td style=\"text-align: center\">./.</td><td style=\"text-align: center\">0/1</td><td style=\"text-align: center\">./.</td><td style=\"text-align: center\">0|1</td><td style=\"text-align: center\">./.</td><td style=\"text-align: center\">./.</td><td style=\"text-align: center\">./.</td><td style=\"text-align: center\">0|1</td><td style=\"text-align: center\">./.</td><td style=\"text-align: center\">0/1</td><td style=\"text-align: center\">./.</td><td style=\"text-align: center\">0|1</td><td style=\"text-align: center\">./.</td><td style=\"text-align: center\">0/1</td><td style=\"text-align: center\">./.</td><td style=\"text-align: center\">.|.</td><td style=\"text-align: center\">./.</td><td style=\"text-align: center\">0/1</td><td style=\"text-align: center\">./.</td><td style=\"text-align: center\">0|1</td><td style=\"text-align: center\">./.</td><td style=\"text-align: center\">0/1</td><td style=\"text-align: center\">./.</td><td style=\"text-align: center\">0|1</td><td style=\"text-align: center\">./.</td><td style=\"text-align: center\">./.</td><td style=\"text-align: center\">./.</td><td style=\"text-align: center\">0|1</td><td style=\"text-align: center\">./.</td><td style=\"text-align: center\">0/1</td><td style=\"text-align: center\">./.</td><td style=\"text-align: center\">0|1</td><td style=\"text-align: center\">./.</td><td style=\"text-align: center\">0/1</td><td style=\"text-align: center\">./.</td></tr><tr><th style=\"text-align: center; background-color: white; border-right: 1px solid black; \">2</th><td style=\"text-align: center\">.|.</td><td style=\"text-align: center\">./.</td><td style=\"text-align: center\">0/1</td><td style=\"text-align: center\">./.</td><td style=\"text-align: center\">0|1</td><td style=\"text-align: center\">./.</td><td style=\"text-align: center\">0/1</td><td style=\"text-align: center\">./.</td><td style=\"text-align: center\">0|1</td><td style=\"text-align: center\">./.</td><td style=\"text-align: center\">./.</td><td style=\"text-align: center\">./.</td><td style=\"text-align: center\">0|1</td><td style=\"text-align: center\">./.</td><td style=\"text-align: center\">0/1</td><td style=\"text-align: center\">./.</td><td style=\"text-align: center\">0|1</td><td style=\"text-align: center\">./.</td><td style=\"text-align: center\">0/1</td><td style=\"text-align: center\">./.</td><td style=\"text-align: center\">.|.</td><td style=\"text-align: center\">./.</td><td style=\"text-align: center\">0/1</td><td style=\"text-align: center\">./.</td><td style=\"text-align: center\">0|1</td><td style=\"text-align: center\">./.</td><td style=\"text-align: center\">0/1</td><td style=\"text-align: center\">./.</td><td style=\"text-align: center\">0|1</td><td style=\"text-align: center\">./.</td><td style=\"text-align: center\">./.</td><td style=\"text-align: center\">./.</td><td style=\"text-align: center\">0|1</td><td style=\"text-align: center\">./.</td><td style=\"text-align: center\">0/1</td><td style=\"text-align: center\">./.</td><td style=\"text-align: center\">0|1</td><td style=\"text-align: center\">./.</td><td style=\"text-align: center\">0/1</td><td style=\"text-align: center\">./.</td></tr><tr><th style=\"text-align: center; background-color: white; border-right: 1px solid black; \">3</th><td style=\"text-align: center\">.|.</td><td style=\"text-align: center\">./.</td><td style=\"text-align: center\">0/1</td><td style=\"text-align: center\">./.</td><td style=\"text-align: center\">0|1</td><td style=\"text-align: center\">./.</td><td style=\"text-align: center\">0/1</td><td style=\"text-align: center\">./.</td><td style=\"text-align: center\">0|1</td><td style=\"text-align: center\">./.</td><td style=\"text-align: center\">./.</td><td style=\"text-align: center\">./.</td><td style=\"text-align: center\">0|1</td><td style=\"text-align: center\">./.</td><td style=\"text-align: center\">0/1</td><td style=\"text-align: center\">./.</td><td style=\"text-align: center\">0|1</td><td style=\"text-align: center\">./.</td><td style=\"text-align: center\">0/1</td><td style=\"text-align: center\">./.</td><td style=\"text-align: center\">.|.</td><td style=\"text-align: center\">./.</td><td style=\"text-align: center\">0/1</td><td style=\"text-align: center\">./.</td><td style=\"text-align: center\">0|1</td><td style=\"text-align: center\">./.</td><td style=\"text-align: center\">0/1</td><td style=\"text-align: center\">./.</td><td style=\"text-align: center\">0|1</td><td style=\"text-align: center\">./.</td><td style=\"text-align: center\">./.</td><td style=\"text-align: center\">./.</td><td style=\"text-align: center\">0|1</td><td style=\"text-align: center\">./.</td><td style=\"text-align: center\">0/1</td><td style=\"text-align: center\">./.</td><td style=\"text-align: center\">0|1</td><td style=\"text-align: center\">./.</td><td style=\"text-align: center\">0/1</td><td style=\"text-align: center\">./.</td></tr><tr><th style=\"text-align: center; background-color: white; border-right: 1px solid black; \">4</th><td style=\"text-align: center\">.|.</td><td style=\"text-align: center\">./.</td><td style=\"text-align: center\">0/1</td><td style=\"text-align: center\">./.</td><td style=\"text-align: center\">0|1</td><td style=\"text-align: center\">./.</td><td style=\"text-align: center\">0/1</td><td style=\"text-align: center\">./.</td><td style=\"text-align: center\">0|1</td><td style=\"text-align: center\">./.</td><td style=\"text-align: center\">./.</td><td style=\"text-align: center\">./.</td><td style=\"text-align: center\">0|1</td><td style=\"text-align: center\">./.</td><td style=\"text-align: center\">0/1</td><td style=\"text-align: center\">./.</td><td style=\"text-align: center\">0|1</td><td style=\"text-align: center\">./.</td><td style=\"text-align: center\">0/1</td><td style=\"text-align: center\">./.</td><td style=\"text-align: center\">.|.</td><td style=\"text-align: center\">./.</td><td style=\"text-align: center\">0/1</td><td style=\"text-align: center\">./.</td><td style=\"text-align: center\">0|1</td><td style=\"text-align: center\">./.</td><td style=\"text-align: center\">0/1</td><td style=\"text-align: center\">./.</td><td style=\"text-align: center\">0|1</td><td style=\"text-align: center\">./.</td><td style=\"text-align: center\">./.</td><td style=\"text-align: center\">./.</td><td style=\"text-align: center\">0|1</td><td style=\"text-align: center\">./.</td><td style=\"text-align: center\">0/1</td><td style=\"text-align: center\">./.</td><td style=\"text-align: center\">0|1</td><td style=\"text-align: center\">./.</td><td style=\"text-align: center\">0/1</td><td style=\"text-align: center\">./.</td></tr><tr><th style=\"text-align: center; background-color: white; border-right: 1px solid black; \">5</th><td style=\"text-align: center\">.|.</td><td style=\"text-align: center\">./.</td><td style=\"text-align: center\">0/1</td><td style=\"text-align: center\">./.</td><td style=\"text-align: center\">0|1</td><td style=\"text-align: center\">./.</td><td style=\"text-align: center\">0/1</td><td style=\"text-align: center\">./.</td><td style=\"text-align: center\">0|1</td><td style=\"text-align: center\">./.</td><td style=\"text-align: center\">./.</td><td style=\"text-align: center\">./.</td><td style=\"text-align: center\">0|1</td><td style=\"text-align: center\">./.</td><td style=\"text-align: center\">0/1</td><td style=\"text-align: center\">./.</td><td style=\"text-align: center\">0|1</td><td style=\"text-align: center\">./.</td><td style=\"text-align: center\">0/1</td><td style=\"text-align: center\">./.</td><td style=\"text-align: center\">.|.</td><td style=\"text-align: center\">./.</td><td style=\"text-align: center\">0/1</td><td style=\"text-align: center\">./.</td><td style=\"text-align: center\">0|1</td><td style=\"text-align: center\">./.</td><td style=\"text-align: center\">0/1</td><td style=\"text-align: center\">./.</td><td style=\"text-align: center\">0|1</td><td style=\"text-align: center\">./.</td><td style=\"text-align: center\">./.</td><td style=\"text-align: center\">./.</td><td style=\"text-align: center\">0|1</td><td style=\"text-align: center\">./.</td><td style=\"text-align: center\">0/1</td><td style=\"text-align: center\">./.</td><td style=\"text-align: center\">0|1</td><td style=\"text-align: center\">./.</td><td style=\"text-align: center\">0/1</td><td style=\"text-align: center\">./.</td></tr><tr><th style=\"text-align: center; background-color: white; border-right: 1px solid black; \">6</th><td style=\"text-align: center\">.|.</td><td style=\"text-align: center\">./.</td><td style=\"text-align: center\">0/1</td><td style=\"text-align: center\">./.</td><td style=\"text-align: center\">0|1</td><td style=\"text-align: center\">./.</td><td style=\"text-align: center\">0/1</td><td style=\"text-align: center\">./.</td><td style=\"text-align: center\">0|1</td><td style=\"text-align: center\">./.</td><td style=\"text-align: center\">./.</td><td style=\"text-align: center\">./.</td><td style=\"text-align: center\">0|1</td><td style=\"text-align: center\">./.</td><td style=\"text-align: center\">0/1</td><td style=\"text-align: center\">./.</td><td style=\"text-align: center\">0|1</td><td style=\"text-align: center\">./.</td><td style=\"text-align: center\">0/1</td><td style=\"text-align: center\">./.</td><td style=\"text-align: center\">.|.</td><td style=\"text-align: center\">./.</td><td style=\"text-align: center\">0/1</td><td style=\"text-align: center\">./.</td><td style=\"text-align: center\">0|1</td><td style=\"text-align: center\">./.</td><td style=\"text-align: center\">0/1</td><td style=\"text-align: center\">./.</td><td style=\"text-align: center\">0|1</td><td style=\"text-align: center\">./.</td><td style=\"text-align: center\">./.</td><td style=\"text-align: center\">./.</td><td style=\"text-align: center\">0|1</td><td style=\"text-align: center\">./.</td><td style=\"text-align: center\">0/1</td><td style=\"text-align: center\">./.</td><td style=\"text-align: center\">0|1</td><td style=\"text-align: center\">./.</td><td style=\"text-align: center\">0/1</td><td style=\"text-align: center\">./.</td></tr><tr><th style=\"text-align: center; background-color: white; border-right: 1px solid black; \">7</th><td style=\"text-align: center\">.|.</td><td style=\"text-align: center\">./.</td><td style=\"text-align: center\">0/1</td><td style=\"text-align: center\">./.</td><td style=\"text-align: center\">0|1</td><td style=\"text-align: center\">./.</td><td style=\"text-align: center\">0/1</td><td style=\"text-align: center\">./.</td><td style=\"text-align: center\">0|1</td><td style=\"text-align: center\">./.</td><td style=\"text-align: center\">./.</td><td style=\"text-align: center\">./.</td><td style=\"text-align: center\">0|1</td><td style=\"text-align: center\">./.</td><td style=\"text-align: center\">0/1</td><td style=\"text-align: center\">./.</td><td style=\"text-align: center\">0|1</td><td style=\"text-align: center\">./.</td><td style=\"text-align: center\">0/1</td><td style=\"text-align: center\">./.</td><td style=\"text-align: center\">.|.</td><td style=\"text-align: center\">./.</td><td style=\"text-align: center\">0/1</td><td style=\"text-align: center\">./.</td><td style=\"text-align: center\">0|1</td><td style=\"text-align: center\">./.</td><td style=\"text-align: center\">0/1</td><td style=\"text-align: center\">./.</td><td style=\"text-align: center\">0|1</td><td style=\"text-align: center\">./.</td><td style=\"text-align: center\">./.</td><td style=\"text-align: center\">./.</td><td style=\"text-align: center\">0|1</td><td style=\"text-align: center\">./.</td><td style=\"text-align: center\">0/1</td><td style=\"text-align: center\">./.</td><td style=\"text-align: center\">0|1</td><td style=\"text-align: center\">./.</td><td style=\"text-align: center\">0/1</td><td style=\"text-align: center\">./.</td></tr><tr><th style=\"text-align: center; background-color: white; border-right: 1px solid black; \">8</th><td style=\"text-align: center\">.|.</td><td style=\"text-align: center\">./.</td><td style=\"text-align: center\">0/1</td><td style=\"text-align: center\">./.</td><td style=\"text-align: center\">0|1</td><td style=\"text-align: center\">./.</td><td style=\"text-align: center\">0/1</td><td style=\"text-align: center\">./.</td><td style=\"text-align: center\">0|1</td><td style=\"text-align: center\">./.</td><td style=\"text-align: center\">./.</td><td style=\"text-align: center\">./.</td><td style=\"text-align: center\">0|1</td><td style=\"text-align: center\">./.</td><td style=\"text-align: center\">0/1</td><td style=\"text-align: center\">./.</td><td style=\"text-align: center\">0|1</td><td style=\"text-align: center\">./.</td><td style=\"text-align: center\">0/1</td><td style=\"text-align: center\">./.</td><td style=\"text-align: center\">.|.</td><td style=\"text-align: center\">./.</td><td style=\"text-align: center\">0/1</td><td style=\"text-align: center\">./.</td><td style=\"text-align: center\">0|1</td><td style=\"text-align: center\">./.</td><td style=\"text-align: center\">0/1</td><td style=\"text-align: center\">./.</td><td style=\"text-align: center\">0|1</td><td style=\"text-align: center\">./.</td><td style=\"text-align: center\">./.</td><td style=\"text-align: center\">./.</td><td style=\"text-align: center\">0|1</td><td style=\"text-align: center\">./.</td><td style=\"text-align: center\">0/1</td><td style=\"text-align: center\">./.</td><td style=\"text-align: center\">0|1</td><td style=\"text-align: center\">./.</td><td style=\"text-align: center\">0/1</td><td style=\"text-align: center\">./.</td></tr><tr><th style=\"text-align: center; background-color: white; border-right: 1px solid black; \">9</th><td style=\"text-align: center\">.|.</td><td style=\"text-align: center\">./.</td><td style=\"text-align: center\">0/1</td><td style=\"text-align: center\">./.</td><td style=\"text-align: center\">0|1</td><td style=\"text-align: center\">./.</td><td style=\"text-align: center\">0/1</td><td style=\"text-align: center\">./.</td><td style=\"text-align: center\">0|1</td><td style=\"text-align: center\">./.</td><td style=\"text-align: center\">./.</td><td style=\"text-align: center\">./.</td><td style=\"text-align: center\">0|1</td><td style=\"text-align: center\">./.</td><td style=\"text-align: center\">0/1</td><td style=\"text-align: center\">./.</td><td style=\"text-align: center\">0|1</td><td style=\"text-align: center\">./.</td><td style=\"text-align: center\">0/1</td><td style=\"text-align: center\">./.</td><td style=\"text-align: center\">.|.</td><td style=\"text-align: center\">./.</td><td style=\"text-align: center\">0/1</td><td style=\"text-align: center\">./.</td><td style=\"text-align: center\">0|1</td><td style=\"text-align: center\">./.</td><td style=\"text-align: center\">0/1</td><td style=\"text-align: center\">./.</td><td style=\"text-align: center\">0|1</td><td style=\"text-align: center\">./.</td><td style=\"text-align: center\">./.</td><td style=\"text-align: center\">./.</td><td style=\"text-align: center\">0|1</td><td style=\"text-align: center\">./.</td><td style=\"text-align: center\">0/1</td><td style=\"text-align: center\">./.</td><td style=\"text-align: center\">0|1</td><td style=\"text-align: center\">./.</td><td style=\"text-align: center\">0/1</td><td style=\"text-align: center\">./.</td></tr><tr><th style=\"text-align: center; background-color: white; border-right: 1px solid black; \">10</th><td style=\"text-align: center\">.|.</td><td style=\"text-align: center\">./.</td><td style=\"text-align: center\">0/1</td><td style=\"text-align: center\">./.</td><td style=\"text-align: center\">0|1</td><td style=\"text-align: center\">./.</td><td style=\"text-align: center\">0/1</td><td style=\"text-align: center\">./.</td><td style=\"text-align: center\">0|1</td><td style=\"text-align: center\">./.</td><td style=\"text-align: center\">./.</td><td style=\"text-align: center\">./.</td><td style=\"text-align: center\">0|1</td><td style=\"text-align: center\">./.</td><td style=\"text-align: center\">0/1</td><td style=\"text-align: center\">./.</td><td style=\"text-align: center\">0|1</td><td style=\"text-align: center\">./.</td><td style=\"text-align: center\">0/1</td><td style=\"text-align: center\">./.</td><td style=\"text-align: center\">.|.</td><td style=\"text-align: center\">./.</td><td style=\"text-align: center\">0/1</td><td style=\"text-align: center\">./.</td><td style=\"text-align: center\">0|1</td><td style=\"text-align: center\">./.</td><td style=\"text-align: center\">0/1</td><td style=\"text-align: center\">./.</td><td style=\"text-align: center\">0|1</td><td style=\"text-align: center\">./.</td><td style=\"text-align: center\">./.</td><td style=\"text-align: center\">./.</td><td style=\"text-align: center\">0|1</td><td style=\"text-align: center\">./.</td><td style=\"text-align: center\">0/1</td><td style=\"text-align: center\">./.</td><td style=\"text-align: center\">0|1</td><td style=\"text-align: center\">./.</td><td style=\"text-align: center\">0/1</td><td style=\"text-align: center\">./.</td></tr><tr><th style=\"text-align: center; background-color: white; border-right: 1px solid black; \">11</th><td style=\"text-align: center\">.|.</td><td style=\"text-align: center\">./.</td><td style=\"text-align: center\">0/1</td><td style=\"text-align: center\">./.</td><td style=\"text-align: center\">0|1</td><td style=\"text-align: center\">./.</td><td style=\"text-align: center\">0/1</td><td style=\"text-align: center\">./.</td><td style=\"text-align: center\">0|1</td><td style=\"text-align: center\">./.</td><td style=\"text-align: center\">./.</td><td style=\"text-align: center\">./.</td><td style=\"text-align: center\">0|1</td><td style=\"text-align: center\">./.</td><td style=\"text-align: center\">0/1</td><td style=\"text-align: center\">./.</td><td style=\"text-align: center\">0|1</td><td style=\"text-align: center\">./.</td><td style=\"text-align: center\">0/1</td><td style=\"text-align: center\">./.</td><td style=\"text-align: center\">.|.</td><td style=\"text-align: center\">./.</td><td style=\"text-align: center\">0/1</td><td style=\"text-align: center\">./.</td><td style=\"text-align: center\">0|1</td><td style=\"text-align: center\">./.</td><td style=\"text-align: center\">0/1</td><td style=\"text-align: center\">./.</td><td style=\"text-align: center\">0|1</td><td style=\"text-align: center\">./.</td><td style=\"text-align: center\">./.</td><td style=\"text-align: center\">./.</td><td style=\"text-align: center\">0|1</td><td style=\"text-align: center\">./.</td><td style=\"text-align: center\">0/1</td><td style=\"text-align: center\">./.</td><td style=\"text-align: center\">0|1</td><td style=\"text-align: center\">./.</td><td style=\"text-align: center\">0/1</td><td style=\"text-align: center\">./.</td></tr><tr><th style=\"text-align: center; background-color: white; border-right: 1px solid black; \">12</th><td style=\"text-align: center\">.|.</td><td style=\"text-align: center\">./.</td><td style=\"text-align: center\">0/1</td><td style=\"text-align: center\">./.</td><td style=\"text-align: center\">0|1</td><td style=\"text-align: center\">./.</td><td style=\"text-align: center\">0/1</td><td style=\"text-align: center\">./.</td><td style=\"text-align: center\">0|1</td><td style=\"text-align: center\">./.</td><td style=\"text-align: center\">./.</td><td style=\"text-align: center\">./.</td><td style=\"text-align: center\">0|1</td><td style=\"text-align: center\">./.</td><td style=\"text-align: center\">0/1</td><td style=\"text-align: center\">./.</td><td style=\"text-align: center\">0|1</td><td style=\"text-align: center\">./.</td><td style=\"text-align: center\">0/1</td><td style=\"text-align: center\">./.</td><td style=\"text-align: center\">.|.</td><td style=\"text-align: center\">./.</td><td style=\"text-align: center\">0/1</td><td style=\"text-align: center\">./.</td><td style=\"text-align: center\">0|1</td><td style=\"text-align: center\">./.</td><td style=\"text-align: center\">0/1</td><td style=\"text-align: center\">./.</td><td style=\"text-align: center\">0|1</td><td style=\"text-align: center\">./.</td><td style=\"text-align: center\">./.</td><td style=\"text-align: center\">./.</td><td style=\"text-align: center\">0|1</td><td style=\"text-align: center\">./.</td><td style=\"text-align: center\">0/1</td><td style=\"text-align: center\">./.</td><td style=\"text-align: center\">0|1</td><td style=\"text-align: center\">./.</td><td style=\"text-align: center\">0/1</td><td style=\"text-align: center\">./.</td></tr><tr><th style=\"text-align: center; background-color: white; border-right: 1px solid black; \">13</th><td style=\"text-align: center\">.|.</td><td style=\"text-align: center\">./.</td><td style=\"text-align: center\">0/1</td><td style=\"text-align: center\">./.</td><td style=\"text-align: center\">0|1</td><td style=\"text-align: center\">./.</td><td style=\"text-align: center\">0/1</td><td style=\"text-align: center\">./.</td><td style=\"text-align: center\">0|1</td><td style=\"text-align: center\">./.</td><td style=\"text-align: center\">./.</td><td style=\"text-align: center\">./.</td><td style=\"text-align: center\">0|1</td><td style=\"text-align: center\">./.</td><td style=\"text-align: center\">0/1</td><td style=\"text-align: center\">./.</td><td style=\"text-align: center\">0|1</td><td style=\"text-align: center\">./.</td><td style=\"text-align: center\">0/1</td><td style=\"text-align: center\">./.</td><td style=\"text-align: center\">.|.</td><td style=\"text-align: center\">./.</td><td style=\"text-align: center\">0/1</td><td style=\"text-align: center\">./.</td><td style=\"text-align: center\">0|1</td><td style=\"text-align: center\">./.</td><td style=\"text-align: center\">0/1</td><td style=\"text-align: center\">./.</td><td style=\"text-align: center\">0|1</td><td style=\"text-align: center\">./.</td><td style=\"text-align: center\">./.</td><td style=\"text-align: center\">./.</td><td style=\"text-align: center\">0|1</td><td style=\"text-align: center\">./.</td><td style=\"text-align: center\">0/1</td><td style=\"text-align: center\">./.</td><td style=\"text-align: center\">0|1</td><td style=\"text-align: center\">./.</td><td style=\"text-align: center\">0/1</td><td style=\"text-align: center\">./.</td></tr><tr><th style=\"text-align: center; background-color: white; border-right: 1px solid black; \">14</th><td style=\"text-align: center\">.|.</td><td style=\"text-align: center\">./.</td><td style=\"text-align: center\">0/1</td><td style=\"text-align: center\">./.</td><td style=\"text-align: center\">0|1</td><td style=\"text-align: center\">./.</td><td style=\"text-align: center\">0/1</td><td style=\"text-align: center\">./.</td><td style=\"text-align: center\">0|1</td><td style=\"text-align: center\">./.</td><td style=\"text-align: center\">./.</td><td style=\"text-align: center\">./.</td><td style=\"text-align: center\">0|1</td><td style=\"text-align: center\">./.</td><td style=\"text-align: center\">0/1</td><td style=\"text-align: center\">./.</td><td style=\"text-align: center\">0|1</td><td style=\"text-align: center\">./.</td><td style=\"text-align: center\">0/1</td><td style=\"text-align: center\">./.</td><td style=\"text-align: center\">.|.</td><td style=\"text-align: center\">./.</td><td style=\"text-align: center\">0/1</td><td style=\"text-align: center\">./.</td><td style=\"text-align: center\">0|1</td><td style=\"text-align: center\">./.</td><td style=\"text-align: center\">0/1</td><td style=\"text-align: center\">./.</td><td style=\"text-align: center\">0|1</td><td style=\"text-align: center\">./.</td><td style=\"text-align: center\">./.</td><td style=\"text-align: center\">./.</td><td style=\"text-align: center\">0|1</td><td style=\"text-align: center\">./.</td><td style=\"text-align: center\">0/1</td><td style=\"text-align: center\">./.</td><td style=\"text-align: center\">0|1</td><td style=\"text-align: center\">./.</td><td style=\"text-align: center\">0/1</td><td style=\"text-align: center\">./.</td></tr><tr><th style=\"text-align: center; background-color: white; border-right: 1px solid black; \">15</th><td style=\"text-align: center\">.|.</td><td style=\"text-align: center\">./.</td><td style=\"text-align: center\">0/1</td><td style=\"text-align: center\">./.</td><td style=\"text-align: center\">0|1</td><td style=\"text-align: center\">./.</td><td style=\"text-align: center\">0/1</td><td style=\"text-align: center\">./.</td><td style=\"text-align: center\">0|1</td><td style=\"text-align: center\">./.</td><td style=\"text-align: center\">./.</td><td style=\"text-align: center\">./.</td><td style=\"text-align: center\">0|1</td><td style=\"text-align: center\">./.</td><td style=\"text-align: center\">0/1</td><td style=\"text-align: center\">./.</td><td style=\"text-align: center\">0|1</td><td style=\"text-align: center\">./.</td><td style=\"text-align: center\">0/1</td><td style=\"text-align: center\">./.</td><td style=\"text-align: center\">.|.</td><td style=\"text-align: center\">./.</td><td style=\"text-align: center\">0/1</td><td style=\"text-align: center\">./.</td><td style=\"text-align: center\">0|1</td><td style=\"text-align: center\">./.</td><td style=\"text-align: center\">0/1</td><td style=\"text-align: center\">./.</td><td style=\"text-align: center\">0|1</td><td style=\"text-align: center\">./.</td><td style=\"text-align: center\">./.</td><td style=\"text-align: center\">./.</td><td style=\"text-align: center\">0|1</td><td style=\"text-align: center\">./.</td><td style=\"text-align: center\">0/1</td><td style=\"text-align: center\">./.</td><td style=\"text-align: center\">0|1</td><td style=\"text-align: center\">./.</td><td style=\"text-align: center\">0/1</td><td style=\"text-align: center\">./.</td></tr><tr><th style=\"text-align: center; background-color: white; border-right: 1px solid black; \">16</th><td style=\"text-align: center\">.|.</td><td style=\"text-align: center\">./.</td><td style=\"text-align: center\">0/1</td><td style=\"text-align: center\">./.</td><td style=\"text-align: center\">0|1</td><td style=\"text-align: center\">./.</td><td style=\"text-align: center\">0/1</td><td style=\"text-align: center\">./.</td><td style=\"text-align: center\">0|1</td><td style=\"text-align: center\">./.</td><td style=\"text-align: center\">./.</td><td style=\"text-align: center\">./.</td><td style=\"text-align: center\">0|1</td><td style=\"text-align: center\">./.</td><td style=\"text-align: center\">0/1</td><td style=\"text-align: center\">./.</td><td style=\"text-align: center\">0|1</td><td style=\"text-align: center\">./.</td><td style=\"text-align: center\">0/1</td><td style=\"text-align: center\">./.</td><td style=\"text-align: center\">.|.</td><td style=\"text-align: center\">./.</td><td style=\"text-align: center\">0/1</td><td style=\"text-align: center\">./.</td><td style=\"text-align: center\">0|1</td><td style=\"text-align: center\">./.</td><td style=\"text-align: center\">0/1</td><td style=\"text-align: center\">./.</td><td style=\"text-align: center\">0|1</td><td style=\"text-align: center\">./.</td><td style=\"text-align: center\">./.</td><td style=\"text-align: center\">./.</td><td style=\"text-align: center\">0|1</td><td style=\"text-align: center\">./.</td><td style=\"text-align: center\">0/1</td><td style=\"text-align: center\">./.</td><td style=\"text-align: center\">0|1</td><td style=\"text-align: center\">./.</td><td style=\"text-align: center\">0/1</td><td style=\"text-align: center\">./.</td></tr><tr><th style=\"text-align: center; background-color: white; border-right: 1px solid black; \">17</th><td style=\"text-align: center\">.|.</td><td style=\"text-align: center\">./.</td><td style=\"text-align: center\">0/1</td><td style=\"text-align: center\">./.</td><td style=\"text-align: center\">0|1</td><td style=\"text-align: center\">./.</td><td style=\"text-align: center\">0/1</td><td style=\"text-align: center\">./.</td><td style=\"text-align: center\">0|1</td><td style=\"text-align: center\">./.</td><td style=\"text-align: center\">./.</td><td style=\"text-align: center\">./.</td><td style=\"text-align: center\">0|1</td><td style=\"text-align: center\">./.</td><td style=\"text-align: center\">0/1</td><td style=\"text-align: center\">./.</td><td style=\"text-align: center\">0|1</td><td style=\"text-align: center\">./.</td><td style=\"text-align: center\">0/1</td><td style=\"text-align: center\">./.</td><td style=\"text-align: center\">.|.</td><td style=\"text-align: center\">./.</td><td style=\"text-align: center\">0/1</td><td style=\"text-align: center\">./.</td><td style=\"text-align: center\">0|1</td><td style=\"text-align: center\">./.</td><td style=\"text-align: center\">0/1</td><td style=\"text-align: center\">./.</td><td style=\"text-align: center\">0|1</td><td style=\"text-align: center\">./.</td><td style=\"text-align: center\">./.</td><td style=\"text-align: center\">./.</td><td style=\"text-align: center\">0|1</td><td style=\"text-align: center\">./.</td><td style=\"text-align: center\">0/1</td><td style=\"text-align: center\">./.</td><td style=\"text-align: center\">0|1</td><td style=\"text-align: center\">./.</td><td style=\"text-align: center\">0/1</td><td style=\"text-align: center\">./.</td></tr><tr><th style=\"text-align: center; background-color: white; border-right: 1px solid black; \">18</th><td style=\"text-align: center\">.|.</td><td style=\"text-align: center\">./.</td><td style=\"text-align: center\">0/1</td><td style=\"text-align: center\">./.</td><td style=\"text-align: center\">0|1</td><td style=\"text-align: center\">./.</td><td style=\"text-align: center\">0/1</td><td style=\"text-align: center\">./.</td><td style=\"text-align: center\">0|1</td><td style=\"text-align: center\">./.</td><td style=\"text-align: center\">./.</td><td style=\"text-align: center\">./.</td><td style=\"text-align: center\">0|1</td><td style=\"text-align: center\">./.</td><td style=\"text-align: center\">0/1</td><td style=\"text-align: center\">./.</td><td style=\"text-align: center\">0|1</td><td style=\"text-align: center\">./.</td><td style=\"text-align: center\">0/1</td><td style=\"text-align: center\">./.</td><td style=\"text-align: center\">.|.</td><td style=\"text-align: center\">./.</td><td style=\"text-align: center\">0/1</td><td style=\"text-align: center\">./.</td><td style=\"text-align: center\">0|1</td><td style=\"text-align: center\">./.</td><td style=\"text-align: center\">0/1</td><td style=\"text-align: center\">./.</td><td style=\"text-align: center\">0|1</td><td style=\"text-align: center\">./.</td><td style=\"text-align: center\">./.</td><td style=\"text-align: center\">./.</td><td style=\"text-align: center\">0|1</td><td style=\"text-align: center\">./.</td><td style=\"text-align: center\">0/1</td><td style=\"text-align: center\">./.</td><td style=\"text-align: center\">0|1</td><td style=\"text-align: center\">./.</td><td style=\"text-align: center\">0/1</td><td style=\"text-align: center\">./.</td></tr><tr><th style=\"text-align: center; background-color: white; border-right: 1px solid black; \">19</th><td style=\"text-align: center\">.|.</td><td style=\"text-align: center\">./.</td><td style=\"text-align: center\">0/1</td><td style=\"text-align: center\">./.</td><td style=\"text-align: center\">0|1</td><td style=\"text-align: center\">./.</td><td style=\"text-align: center\">0/1</td><td style=\"text-align: center\">./.</td><td style=\"text-align: center\">0|1</td><td style=\"text-align: center\">./.</td><td style=\"text-align: center\">./.</td><td style=\"text-align: center\">./.</td><td style=\"text-align: center\">0|1</td><td style=\"text-align: center\">./.</td><td style=\"text-align: center\">0/1</td><td style=\"text-align: center\">./.</td><td style=\"text-align: center\">0|1</td><td style=\"text-align: center\">./.</td><td style=\"text-align: center\">0/1</td><td style=\"text-align: center\">./.</td><td style=\"text-align: center\">.|.</td><td style=\"text-align: center\">./.</td><td style=\"text-align: center\">0/1</td><td style=\"text-align: center\">./.</td><td style=\"text-align: center\">0|1</td><td style=\"text-align: center\">./.</td><td style=\"text-align: center\">0/1</td><td style=\"text-align: center\">./.</td><td style=\"text-align: center\">0|1</td><td style=\"text-align: center\">./.</td><td style=\"text-align: center\">./.</td><td style=\"text-align: center\">./.</td><td style=\"text-align: center\">0|1</td><td style=\"text-align: center\">./.</td><td style=\"text-align: center\">0/1</td><td style=\"text-align: center\">./.</td><td style=\"text-align: center\">0|1</td><td style=\"text-align: center\">./.</td><td style=\"text-align: center\">0/1</td><td style=\"text-align: center\">./.</td></tr></tbody></table></div>"
      ]
     },
     "metadata": {},
     "output_type": "display_data"
    }
   ],
   "source": [
    "g.displayall()"
   ]
  },
  {
   "cell_type": "code",
   "execution_count": 16,
   "metadata": {},
   "outputs": [
    {
     "data": {
      "text/html": [
       "<div class=\"allel allel-DisplayAs1D\"><span>&lt;GenotypeVector shape=(40, 2) dtype=int64&gt;</span><table><thead><tr><th style=\"text-align: center\">0</th><th style=\"text-align: center\">1</th><th style=\"text-align: center\">2</th><th style=\"text-align: center\">3</th><th style=\"text-align: center\">4</th><th style=\"text-align: center\">...</th><th style=\"text-align: center\">35</th><th style=\"text-align: center\">36</th><th style=\"text-align: center\">37</th><th style=\"text-align: center\">38</th><th style=\"text-align: center\">39</th></tr></thead><tbody><tr><td style=\"text-align: center\">.|.</td><td style=\"text-align: center\">./.</td><td style=\"text-align: center\">0/1</td><td style=\"text-align: center\">./.</td><td style=\"text-align: center\">0|1</td><td style=\"text-align: center\">...</td><td style=\"text-align: center\">./.</td><td style=\"text-align: center\">0|1</td><td style=\"text-align: center\">./.</td><td style=\"text-align: center\">0/1</td><td style=\"text-align: center\">./.</td></tr></tbody></table></div>"
      ],
      "text/plain": [
       "<GenotypeVector shape=(40, 2) dtype=int64>\n",
       ".|. ./. 0/1 ./. 0|1 ... ./. 0|1 ./. 0/1 ./."
      ]
     },
     "execution_count": 16,
     "metadata": {},
     "output_type": "execute_result"
    }
   ],
   "source": [
    "g[0]"
   ]
  },
  {
   "cell_type": "code",
   "execution_count": 17,
   "metadata": {},
   "outputs": [
    {
     "data": {
      "text/html": [
       "<div class=\"allel allel-DisplayAs1D\"><span>&lt;GenotypeVector shape=(20, 2) dtype=int64&gt;</span><table><thead><tr><th style=\"text-align: center\">0</th><th style=\"text-align: center\">1</th><th style=\"text-align: center\">2</th><th style=\"text-align: center\">3</th><th style=\"text-align: center\">4</th><th style=\"text-align: center\">...</th><th style=\"text-align: center\">15</th><th style=\"text-align: center\">16</th><th style=\"text-align: center\">17</th><th style=\"text-align: center\">18</th><th style=\"text-align: center\">19</th></tr></thead><tbody><tr><td style=\"text-align: center\">0|1</td><td style=\"text-align: center\">0|1</td><td style=\"text-align: center\">0|1</td><td style=\"text-align: center\">0|1</td><td style=\"text-align: center\">0|1</td><td style=\"text-align: center\">...</td><td style=\"text-align: center\">0|1</td><td style=\"text-align: center\">0|1</td><td style=\"text-align: center\">0|1</td><td style=\"text-align: center\">0|1</td><td style=\"text-align: center\">0|1</td></tr></tbody></table></div>"
      ],
      "text/plain": [
       "<GenotypeVector shape=(20, 2) dtype=int64>\n",
       "0|1 0|1 0|1 0|1 0|1 ... 0|1 0|1 0|1 0|1 0|1"
      ]
     },
     "execution_count": 17,
     "metadata": {},
     "output_type": "execute_result"
    }
   ],
   "source": [
    "g[:, 4]"
   ]
  },
  {
   "cell_type": "code",
   "execution_count": 18,
   "metadata": {},
   "outputs": [
    {
     "data": {
      "text/html": [
       "<div class=\"allel allel-DisplayAs1D\"><span>&lt;GenotypeVector shape=(20, 2) dtype=int64&gt;</span><table><thead><tr><th style=\"text-align: center\">0</th><th style=\"text-align: center\">1</th><th style=\"text-align: center\">2</th><th style=\"text-align: center\">3</th><th style=\"text-align: center\">4</th><th style=\"text-align: center\">5</th><th style=\"text-align: center\">6</th><th style=\"text-align: center\">7</th><th style=\"text-align: center\">8</th><th style=\"text-align: center\">9</th><th style=\"text-align: center\">10</th><th style=\"text-align: center\">11</th><th style=\"text-align: center\">12</th><th style=\"text-align: center\">13</th><th style=\"text-align: center\">14</th><th style=\"text-align: center\">15</th><th style=\"text-align: center\">16</th><th style=\"text-align: center\">17</th><th style=\"text-align: center\">18</th><th style=\"text-align: center\">19</th></tr></thead><tbody><tr><td style=\"text-align: center\">0|1</td><td style=\"text-align: center\">0|1</td><td style=\"text-align: center\">0|1</td><td style=\"text-align: center\">0|1</td><td style=\"text-align: center\">0|1</td><td style=\"text-align: center\">0|1</td><td style=\"text-align: center\">0|1</td><td style=\"text-align: center\">0|1</td><td style=\"text-align: center\">0|1</td><td style=\"text-align: center\">0|1</td><td style=\"text-align: center\">0|1</td><td style=\"text-align: center\">0|1</td><td style=\"text-align: center\">0|1</td><td style=\"text-align: center\">0|1</td><td style=\"text-align: center\">0|1</td><td style=\"text-align: center\">0|1</td><td style=\"text-align: center\">0|1</td><td style=\"text-align: center\">0|1</td><td style=\"text-align: center\">0|1</td><td style=\"text-align: center\">0|1</td></tr></tbody></table></div>"
      ]
     },
     "metadata": {},
     "output_type": "display_data"
    }
   ],
   "source": [
    "g[:, 4].displayall()"
   ]
  },
  {
   "cell_type": "code",
   "execution_count": 19,
   "metadata": {},
   "outputs": [
    {
     "data": {
      "text/html": [
       "<div class=\"allel allel-DisplayAs2D\"><span>&lt;GenotypeArray shape=(20, 40, 2) dtype=int64&gt;</span><table><thead><tr><th></th><th style=\"text-align: center\">0</th><th style=\"text-align: center\">1</th><th style=\"text-align: center\">2</th><th style=\"text-align: center\">3</th><th style=\"text-align: center\">4</th><th style=\"text-align: center\">...</th><th style=\"text-align: center\">35</th><th style=\"text-align: center\">36</th><th style=\"text-align: center\">37</th><th style=\"text-align: center\">38</th><th style=\"text-align: center\">39</th></tr></thead><tbody><tr><th style=\"text-align: center; background-color: white; border-right: 1px solid black; \">0</th><td style=\"text-align: center\">0|1</td><td style=\"text-align: center\">./.</td><td style=\"text-align: center\">0/1</td><td style=\"text-align: center\">./.</td><td style=\"text-align: center\">0|1</td><td style=\"text-align: center\">...</td><td style=\"text-align: center\">./.</td><td style=\"text-align: center\">0|1</td><td style=\"text-align: center\">./.</td><td style=\"text-align: center\">0/1</td><td style=\"text-align: center\">./.</td></tr><tr><th style=\"text-align: center; background-color: white; border-right: 1px solid black; \">1</th><td style=\"text-align: center\">0|1</td><td style=\"text-align: center\">./.</td><td style=\"text-align: center\">0/1</td><td style=\"text-align: center\">./.</td><td style=\"text-align: center\">0|1</td><td style=\"text-align: center\">...</td><td style=\"text-align: center\">./.</td><td style=\"text-align: center\">0|1</td><td style=\"text-align: center\">./.</td><td style=\"text-align: center\">0/1</td><td style=\"text-align: center\">./.</td></tr><tr><th style=\"text-align: center; background-color: white; border-right: 1px solid black; \">2</th><td style=\"text-align: center\">0|1</td><td style=\"text-align: center\">./.</td><td style=\"text-align: center\">0/1</td><td style=\"text-align: center\">./.</td><td style=\"text-align: center\">0|1</td><td style=\"text-align: center\">...</td><td style=\"text-align: center\">./.</td><td style=\"text-align: center\">0|1</td><td style=\"text-align: center\">./.</td><td style=\"text-align: center\">0/1</td><td style=\"text-align: center\">./.</td></tr><tr><th style=\"text-align: center; background-color: white; border-right: 1px solid black; \">...</th><td style=\"text-align: center\" colspan=\"12\">...</td></tr><tr><th style=\"text-align: center; background-color: white; border-right: 1px solid black; \">17</th><td style=\"text-align: center\">0|1</td><td style=\"text-align: center\">./.</td><td style=\"text-align: center\">0/1</td><td style=\"text-align: center\">./.</td><td style=\"text-align: center\">0|1</td><td style=\"text-align: center\">...</td><td style=\"text-align: center\">./.</td><td style=\"text-align: center\">0|1</td><td style=\"text-align: center\">./.</td><td style=\"text-align: center\">0/1</td><td style=\"text-align: center\">./.</td></tr><tr><th style=\"text-align: center; background-color: white; border-right: 1px solid black; \">18</th><td style=\"text-align: center\">0|1</td><td style=\"text-align: center\">./.</td><td style=\"text-align: center\">0/1</td><td style=\"text-align: center\">./.</td><td style=\"text-align: center\">0|1</td><td style=\"text-align: center\">...</td><td style=\"text-align: center\">./.</td><td style=\"text-align: center\">0|1</td><td style=\"text-align: center\">./.</td><td style=\"text-align: center\">0/1</td><td style=\"text-align: center\">./.</td></tr><tr><th style=\"text-align: center; background-color: white; border-right: 1px solid black; \">19</th><td style=\"text-align: center\">0|1</td><td style=\"text-align: center\">./.</td><td style=\"text-align: center\">0/1</td><td style=\"text-align: center\">./.</td><td style=\"text-align: center\">0|1</td><td style=\"text-align: center\">...</td><td style=\"text-align: center\">./.</td><td style=\"text-align: center\">0|1</td><td style=\"text-align: center\">./.</td><td style=\"text-align: center\">0/1</td><td style=\"text-align: center\">./.</td></tr></tbody></table></div>"
      ],
      "text/plain": [
       "<GenotypeArray shape=(20, 40, 2) dtype=int64>\n",
       "0|1 ./. 0/1 ./. 0|1 ... ./. 0|1 ./. 0/1 ./.\n",
       "0|1 ./. 0/1 ./. 0|1 ... ./. 0|1 ./. 0/1 ./.\n",
       "0|1 ./. 0/1 ./. 0|1 ... ./. 0|1 ./. 0/1 ./.\n",
       "...\n",
       "0|1 ./. 0/1 ./. 0|1 ... ./. 0|1 ./. 0/1 ./.\n",
       "0|1 ./. 0/1 ./. 0|1 ... ./. 0|1 ./. 0/1 ./.\n",
       "0|1 ./. 0/1 ./. 0|1 ... ./. 0|1 ./. 0/1 ./."
      ]
     },
     "execution_count": 19,
     "metadata": {},
     "output_type": "execute_result"
    }
   ],
   "source": [
    "g.mask = None\n",
    "g"
   ]
  },
  {
   "cell_type": "code",
   "execution_count": 20,
   "metadata": {},
   "outputs": [
    {
     "data": {
      "text/html": [
       "<div class=\"allel allel-DisplayAs2D\"><span>&lt;GenotypeArray shape=(20, 40, 2) dtype=int64&gt;</span><table><thead><tr><th></th><th style=\"text-align: center\">0</th><th style=\"text-align: center\">1</th><th style=\"text-align: center\">2</th><th style=\"text-align: center\">3</th><th style=\"text-align: center\">4</th><th style=\"text-align: center\">5</th><th style=\"text-align: center\">6</th><th style=\"text-align: center\">7</th><th style=\"text-align: center\">8</th><th style=\"text-align: center\">9</th><th style=\"text-align: center\">10</th><th style=\"text-align: center\">11</th><th style=\"text-align: center\">12</th><th style=\"text-align: center\">13</th><th style=\"text-align: center\">14</th><th style=\"text-align: center\">15</th><th style=\"text-align: center\">16</th><th style=\"text-align: center\">17</th><th style=\"text-align: center\">18</th><th style=\"text-align: center\">19</th><th style=\"text-align: center\">20</th><th style=\"text-align: center\">21</th><th style=\"text-align: center\">22</th><th style=\"text-align: center\">23</th><th style=\"text-align: center\">24</th><th style=\"text-align: center\">25</th><th style=\"text-align: center\">26</th><th style=\"text-align: center\">27</th><th style=\"text-align: center\">28</th><th style=\"text-align: center\">29</th><th style=\"text-align: center\">30</th><th style=\"text-align: center\">31</th><th style=\"text-align: center\">32</th><th style=\"text-align: center\">33</th><th style=\"text-align: center\">34</th><th style=\"text-align: center\">35</th><th style=\"text-align: center\">36</th><th style=\"text-align: center\">37</th><th style=\"text-align: center\">38</th><th style=\"text-align: center\">39</th></tr></thead><tbody><tr><th style=\"text-align: center; background-color: white; border-right: 1px solid black; \">0</th><td style=\"text-align: center\">0|1</td><td style=\"text-align: center\">./.</td><td style=\"text-align: center\">0/1</td><td style=\"text-align: center\">./.</td><td style=\"text-align: center\">0|1</td><td style=\"text-align: center\">./.</td><td style=\"text-align: center\">0/1</td><td style=\"text-align: center\">./.</td><td style=\"text-align: center\">0|1</td><td style=\"text-align: center\">./.</td><td style=\"text-align: center\">0/1</td><td style=\"text-align: center\">./.</td><td style=\"text-align: center\">0|1</td><td style=\"text-align: center\">./.</td><td style=\"text-align: center\">0/1</td><td style=\"text-align: center\">./.</td><td style=\"text-align: center\">0|1</td><td style=\"text-align: center\">./.</td><td style=\"text-align: center\">0/1</td><td style=\"text-align: center\">./.</td><td style=\"text-align: center\">0|1</td><td style=\"text-align: center\">./.</td><td style=\"text-align: center\">0/1</td><td style=\"text-align: center\">./.</td><td style=\"text-align: center\">0|1</td><td style=\"text-align: center\">./.</td><td style=\"text-align: center\">0/1</td><td style=\"text-align: center\">./.</td><td style=\"text-align: center\">0|1</td><td style=\"text-align: center\">./.</td><td style=\"text-align: center\">0/1</td><td style=\"text-align: center\">./.</td><td style=\"text-align: center\">0|1</td><td style=\"text-align: center\">./.</td><td style=\"text-align: center\">0/1</td><td style=\"text-align: center\">./.</td><td style=\"text-align: center\">0|1</td><td style=\"text-align: center\">./.</td><td style=\"text-align: center\">0/1</td><td style=\"text-align: center\">./.</td></tr><tr><th style=\"text-align: center; background-color: white; border-right: 1px solid black; \">1</th><td style=\"text-align: center\">0|1</td><td style=\"text-align: center\">./.</td><td style=\"text-align: center\">0/1</td><td style=\"text-align: center\">./.</td><td style=\"text-align: center\">0|1</td><td style=\"text-align: center\">./.</td><td style=\"text-align: center\">0/1</td><td style=\"text-align: center\">./.</td><td style=\"text-align: center\">0|1</td><td style=\"text-align: center\">./.</td><td style=\"text-align: center\">0/1</td><td style=\"text-align: center\">./.</td><td style=\"text-align: center\">0|1</td><td style=\"text-align: center\">./.</td><td style=\"text-align: center\">0/1</td><td style=\"text-align: center\">./.</td><td style=\"text-align: center\">0|1</td><td style=\"text-align: center\">./.</td><td style=\"text-align: center\">0/1</td><td style=\"text-align: center\">./.</td><td style=\"text-align: center\">0|1</td><td style=\"text-align: center\">./.</td><td style=\"text-align: center\">0/1</td><td style=\"text-align: center\">./.</td><td style=\"text-align: center\">0|1</td><td style=\"text-align: center\">./.</td><td style=\"text-align: center\">0/1</td><td style=\"text-align: center\">./.</td><td style=\"text-align: center\">0|1</td><td style=\"text-align: center\">./.</td><td style=\"text-align: center\">0/1</td><td style=\"text-align: center\">./.</td><td style=\"text-align: center\">0|1</td><td style=\"text-align: center\">./.</td><td style=\"text-align: center\">0/1</td><td style=\"text-align: center\">./.</td><td style=\"text-align: center\">0|1</td><td style=\"text-align: center\">./.</td><td style=\"text-align: center\">0/1</td><td style=\"text-align: center\">./.</td></tr><tr><th style=\"text-align: center; background-color: white; border-right: 1px solid black; \">2</th><td style=\"text-align: center\">0|1</td><td style=\"text-align: center\">./.</td><td style=\"text-align: center\">0/1</td><td style=\"text-align: center\">./.</td><td style=\"text-align: center\">0|1</td><td style=\"text-align: center\">./.</td><td style=\"text-align: center\">0/1</td><td style=\"text-align: center\">./.</td><td style=\"text-align: center\">0|1</td><td style=\"text-align: center\">./.</td><td style=\"text-align: center\">0/1</td><td style=\"text-align: center\">./.</td><td style=\"text-align: center\">0|1</td><td style=\"text-align: center\">./.</td><td style=\"text-align: center\">0/1</td><td style=\"text-align: center\">./.</td><td style=\"text-align: center\">0|1</td><td style=\"text-align: center\">./.</td><td style=\"text-align: center\">0/1</td><td style=\"text-align: center\">./.</td><td style=\"text-align: center\">0|1</td><td style=\"text-align: center\">./.</td><td style=\"text-align: center\">0/1</td><td style=\"text-align: center\">./.</td><td style=\"text-align: center\">0|1</td><td style=\"text-align: center\">./.</td><td style=\"text-align: center\">0/1</td><td style=\"text-align: center\">./.</td><td style=\"text-align: center\">0|1</td><td style=\"text-align: center\">./.</td><td style=\"text-align: center\">0/1</td><td style=\"text-align: center\">./.</td><td style=\"text-align: center\">0|1</td><td style=\"text-align: center\">./.</td><td style=\"text-align: center\">0/1</td><td style=\"text-align: center\">./.</td><td style=\"text-align: center\">0|1</td><td style=\"text-align: center\">./.</td><td style=\"text-align: center\">0/1</td><td style=\"text-align: center\">./.</td></tr><tr><th style=\"text-align: center; background-color: white; border-right: 1px solid black; \">3</th><td style=\"text-align: center\">0|1</td><td style=\"text-align: center\">./.</td><td style=\"text-align: center\">0/1</td><td style=\"text-align: center\">./.</td><td style=\"text-align: center\">0|1</td><td style=\"text-align: center\">./.</td><td style=\"text-align: center\">0/1</td><td style=\"text-align: center\">./.</td><td style=\"text-align: center\">0|1</td><td style=\"text-align: center\">./.</td><td style=\"text-align: center\">0/1</td><td style=\"text-align: center\">./.</td><td style=\"text-align: center\">0|1</td><td style=\"text-align: center\">./.</td><td style=\"text-align: center\">0/1</td><td style=\"text-align: center\">./.</td><td style=\"text-align: center\">0|1</td><td style=\"text-align: center\">./.</td><td style=\"text-align: center\">0/1</td><td style=\"text-align: center\">./.</td><td style=\"text-align: center\">0|1</td><td style=\"text-align: center\">./.</td><td style=\"text-align: center\">0/1</td><td style=\"text-align: center\">./.</td><td style=\"text-align: center\">0|1</td><td style=\"text-align: center\">./.</td><td style=\"text-align: center\">0/1</td><td style=\"text-align: center\">./.</td><td style=\"text-align: center\">0|1</td><td style=\"text-align: center\">./.</td><td style=\"text-align: center\">0/1</td><td style=\"text-align: center\">./.</td><td style=\"text-align: center\">0|1</td><td style=\"text-align: center\">./.</td><td style=\"text-align: center\">0/1</td><td style=\"text-align: center\">./.</td><td style=\"text-align: center\">0|1</td><td style=\"text-align: center\">./.</td><td style=\"text-align: center\">0/1</td><td style=\"text-align: center\">./.</td></tr><tr><th style=\"text-align: center; background-color: white; border-right: 1px solid black; \">4</th><td style=\"text-align: center\">0|1</td><td style=\"text-align: center\">./.</td><td style=\"text-align: center\">0/1</td><td style=\"text-align: center\">./.</td><td style=\"text-align: center\">0|1</td><td style=\"text-align: center\">./.</td><td style=\"text-align: center\">0/1</td><td style=\"text-align: center\">./.</td><td style=\"text-align: center\">0|1</td><td style=\"text-align: center\">./.</td><td style=\"text-align: center\">0/1</td><td style=\"text-align: center\">./.</td><td style=\"text-align: center\">0|1</td><td style=\"text-align: center\">./.</td><td style=\"text-align: center\">0/1</td><td style=\"text-align: center\">./.</td><td style=\"text-align: center\">0|1</td><td style=\"text-align: center\">./.</td><td style=\"text-align: center\">0/1</td><td style=\"text-align: center\">./.</td><td style=\"text-align: center\">0|1</td><td style=\"text-align: center\">./.</td><td style=\"text-align: center\">0/1</td><td style=\"text-align: center\">./.</td><td style=\"text-align: center\">0|1</td><td style=\"text-align: center\">./.</td><td style=\"text-align: center\">0/1</td><td style=\"text-align: center\">./.</td><td style=\"text-align: center\">0|1</td><td style=\"text-align: center\">./.</td><td style=\"text-align: center\">0/1</td><td style=\"text-align: center\">./.</td><td style=\"text-align: center\">0|1</td><td style=\"text-align: center\">./.</td><td style=\"text-align: center\">0/1</td><td style=\"text-align: center\">./.</td><td style=\"text-align: center\">0|1</td><td style=\"text-align: center\">./.</td><td style=\"text-align: center\">0/1</td><td style=\"text-align: center\">./.</td></tr><tr><th style=\"text-align: center; background-color: white; border-right: 1px solid black; \">5</th><td style=\"text-align: center\">0|1</td><td style=\"text-align: center\">./.</td><td style=\"text-align: center\">0/1</td><td style=\"text-align: center\">./.</td><td style=\"text-align: center\">0|1</td><td style=\"text-align: center\">./.</td><td style=\"text-align: center\">0/1</td><td style=\"text-align: center\">./.</td><td style=\"text-align: center\">0|1</td><td style=\"text-align: center\">./.</td><td style=\"text-align: center\">0/1</td><td style=\"text-align: center\">./.</td><td style=\"text-align: center\">0|1</td><td style=\"text-align: center\">./.</td><td style=\"text-align: center\">0/1</td><td style=\"text-align: center\">./.</td><td style=\"text-align: center\">0|1</td><td style=\"text-align: center\">./.</td><td style=\"text-align: center\">0/1</td><td style=\"text-align: center\">./.</td><td style=\"text-align: center\">0|1</td><td style=\"text-align: center\">./.</td><td style=\"text-align: center\">0/1</td><td style=\"text-align: center\">./.</td><td style=\"text-align: center\">0|1</td><td style=\"text-align: center\">./.</td><td style=\"text-align: center\">0/1</td><td style=\"text-align: center\">./.</td><td style=\"text-align: center\">0|1</td><td style=\"text-align: center\">./.</td><td style=\"text-align: center\">0/1</td><td style=\"text-align: center\">./.</td><td style=\"text-align: center\">0|1</td><td style=\"text-align: center\">./.</td><td style=\"text-align: center\">0/1</td><td style=\"text-align: center\">./.</td><td style=\"text-align: center\">0|1</td><td style=\"text-align: center\">./.</td><td style=\"text-align: center\">0/1</td><td style=\"text-align: center\">./.</td></tr><tr><th style=\"text-align: center; background-color: white; border-right: 1px solid black; \">6</th><td style=\"text-align: center\">0|1</td><td style=\"text-align: center\">./.</td><td style=\"text-align: center\">0/1</td><td style=\"text-align: center\">./.</td><td style=\"text-align: center\">0|1</td><td style=\"text-align: center\">./.</td><td style=\"text-align: center\">0/1</td><td style=\"text-align: center\">./.</td><td style=\"text-align: center\">0|1</td><td style=\"text-align: center\">./.</td><td style=\"text-align: center\">0/1</td><td style=\"text-align: center\">./.</td><td style=\"text-align: center\">0|1</td><td style=\"text-align: center\">./.</td><td style=\"text-align: center\">0/1</td><td style=\"text-align: center\">./.</td><td style=\"text-align: center\">0|1</td><td style=\"text-align: center\">./.</td><td style=\"text-align: center\">0/1</td><td style=\"text-align: center\">./.</td><td style=\"text-align: center\">0|1</td><td style=\"text-align: center\">./.</td><td style=\"text-align: center\">0/1</td><td style=\"text-align: center\">./.</td><td style=\"text-align: center\">0|1</td><td style=\"text-align: center\">./.</td><td style=\"text-align: center\">0/1</td><td style=\"text-align: center\">./.</td><td style=\"text-align: center\">0|1</td><td style=\"text-align: center\">./.</td><td style=\"text-align: center\">0/1</td><td style=\"text-align: center\">./.</td><td style=\"text-align: center\">0|1</td><td style=\"text-align: center\">./.</td><td style=\"text-align: center\">0/1</td><td style=\"text-align: center\">./.</td><td style=\"text-align: center\">0|1</td><td style=\"text-align: center\">./.</td><td style=\"text-align: center\">0/1</td><td style=\"text-align: center\">./.</td></tr><tr><th style=\"text-align: center; background-color: white; border-right: 1px solid black; \">7</th><td style=\"text-align: center\">0|1</td><td style=\"text-align: center\">./.</td><td style=\"text-align: center\">0/1</td><td style=\"text-align: center\">./.</td><td style=\"text-align: center\">0|1</td><td style=\"text-align: center\">./.</td><td style=\"text-align: center\">0/1</td><td style=\"text-align: center\">./.</td><td style=\"text-align: center\">0|1</td><td style=\"text-align: center\">./.</td><td style=\"text-align: center\">0/1</td><td style=\"text-align: center\">./.</td><td style=\"text-align: center\">0|1</td><td style=\"text-align: center\">./.</td><td style=\"text-align: center\">0/1</td><td style=\"text-align: center\">./.</td><td style=\"text-align: center\">0|1</td><td style=\"text-align: center\">./.</td><td style=\"text-align: center\">0/1</td><td style=\"text-align: center\">./.</td><td style=\"text-align: center\">0|1</td><td style=\"text-align: center\">./.</td><td style=\"text-align: center\">0/1</td><td style=\"text-align: center\">./.</td><td style=\"text-align: center\">0|1</td><td style=\"text-align: center\">./.</td><td style=\"text-align: center\">0/1</td><td style=\"text-align: center\">./.</td><td style=\"text-align: center\">0|1</td><td style=\"text-align: center\">./.</td><td style=\"text-align: center\">0/1</td><td style=\"text-align: center\">./.</td><td style=\"text-align: center\">0|1</td><td style=\"text-align: center\">./.</td><td style=\"text-align: center\">0/1</td><td style=\"text-align: center\">./.</td><td style=\"text-align: center\">0|1</td><td style=\"text-align: center\">./.</td><td style=\"text-align: center\">0/1</td><td style=\"text-align: center\">./.</td></tr><tr><th style=\"text-align: center; background-color: white; border-right: 1px solid black; \">8</th><td style=\"text-align: center\">0|1</td><td style=\"text-align: center\">./.</td><td style=\"text-align: center\">0/1</td><td style=\"text-align: center\">./.</td><td style=\"text-align: center\">0|1</td><td style=\"text-align: center\">./.</td><td style=\"text-align: center\">0/1</td><td style=\"text-align: center\">./.</td><td style=\"text-align: center\">0|1</td><td style=\"text-align: center\">./.</td><td style=\"text-align: center\">0/1</td><td style=\"text-align: center\">./.</td><td style=\"text-align: center\">0|1</td><td style=\"text-align: center\">./.</td><td style=\"text-align: center\">0/1</td><td style=\"text-align: center\">./.</td><td style=\"text-align: center\">0|1</td><td style=\"text-align: center\">./.</td><td style=\"text-align: center\">0/1</td><td style=\"text-align: center\">./.</td><td style=\"text-align: center\">0|1</td><td style=\"text-align: center\">./.</td><td style=\"text-align: center\">0/1</td><td style=\"text-align: center\">./.</td><td style=\"text-align: center\">0|1</td><td style=\"text-align: center\">./.</td><td style=\"text-align: center\">0/1</td><td style=\"text-align: center\">./.</td><td style=\"text-align: center\">0|1</td><td style=\"text-align: center\">./.</td><td style=\"text-align: center\">0/1</td><td style=\"text-align: center\">./.</td><td style=\"text-align: center\">0|1</td><td style=\"text-align: center\">./.</td><td style=\"text-align: center\">0/1</td><td style=\"text-align: center\">./.</td><td style=\"text-align: center\">0|1</td><td style=\"text-align: center\">./.</td><td style=\"text-align: center\">0/1</td><td style=\"text-align: center\">./.</td></tr><tr><th style=\"text-align: center; background-color: white; border-right: 1px solid black; \">9</th><td style=\"text-align: center\">0|1</td><td style=\"text-align: center\">./.</td><td style=\"text-align: center\">0/1</td><td style=\"text-align: center\">./.</td><td style=\"text-align: center\">0|1</td><td style=\"text-align: center\">./.</td><td style=\"text-align: center\">0/1</td><td style=\"text-align: center\">./.</td><td style=\"text-align: center\">0|1</td><td style=\"text-align: center\">./.</td><td style=\"text-align: center\">0/1</td><td style=\"text-align: center\">./.</td><td style=\"text-align: center\">0|1</td><td style=\"text-align: center\">./.</td><td style=\"text-align: center\">0/1</td><td style=\"text-align: center\">./.</td><td style=\"text-align: center\">0|1</td><td style=\"text-align: center\">./.</td><td style=\"text-align: center\">0/1</td><td style=\"text-align: center\">./.</td><td style=\"text-align: center\">0|1</td><td style=\"text-align: center\">./.</td><td style=\"text-align: center\">0/1</td><td style=\"text-align: center\">./.</td><td style=\"text-align: center\">0|1</td><td style=\"text-align: center\">./.</td><td style=\"text-align: center\">0/1</td><td style=\"text-align: center\">./.</td><td style=\"text-align: center\">0|1</td><td style=\"text-align: center\">./.</td><td style=\"text-align: center\">0/1</td><td style=\"text-align: center\">./.</td><td style=\"text-align: center\">0|1</td><td style=\"text-align: center\">./.</td><td style=\"text-align: center\">0/1</td><td style=\"text-align: center\">./.</td><td style=\"text-align: center\">0|1</td><td style=\"text-align: center\">./.</td><td style=\"text-align: center\">0/1</td><td style=\"text-align: center\">./.</td></tr><tr><th style=\"text-align: center; background-color: white; border-right: 1px solid black; \">10</th><td style=\"text-align: center\">0|1</td><td style=\"text-align: center\">./.</td><td style=\"text-align: center\">0/1</td><td style=\"text-align: center\">./.</td><td style=\"text-align: center\">0|1</td><td style=\"text-align: center\">./.</td><td style=\"text-align: center\">0/1</td><td style=\"text-align: center\">./.</td><td style=\"text-align: center\">0|1</td><td style=\"text-align: center\">./.</td><td style=\"text-align: center\">0/1</td><td style=\"text-align: center\">./.</td><td style=\"text-align: center\">0|1</td><td style=\"text-align: center\">./.</td><td style=\"text-align: center\">0/1</td><td style=\"text-align: center\">./.</td><td style=\"text-align: center\">0|1</td><td style=\"text-align: center\">./.</td><td style=\"text-align: center\">0/1</td><td style=\"text-align: center\">./.</td><td style=\"text-align: center\">0|1</td><td style=\"text-align: center\">./.</td><td style=\"text-align: center\">0/1</td><td style=\"text-align: center\">./.</td><td style=\"text-align: center\">0|1</td><td style=\"text-align: center\">./.</td><td style=\"text-align: center\">0/1</td><td style=\"text-align: center\">./.</td><td style=\"text-align: center\">0|1</td><td style=\"text-align: center\">./.</td><td style=\"text-align: center\">0/1</td><td style=\"text-align: center\">./.</td><td style=\"text-align: center\">0|1</td><td style=\"text-align: center\">./.</td><td style=\"text-align: center\">0/1</td><td style=\"text-align: center\">./.</td><td style=\"text-align: center\">0|1</td><td style=\"text-align: center\">./.</td><td style=\"text-align: center\">0/1</td><td style=\"text-align: center\">./.</td></tr><tr><th style=\"text-align: center; background-color: white; border-right: 1px solid black; \">11</th><td style=\"text-align: center\">0|1</td><td style=\"text-align: center\">./.</td><td style=\"text-align: center\">0/1</td><td style=\"text-align: center\">./.</td><td style=\"text-align: center\">0|1</td><td style=\"text-align: center\">./.</td><td style=\"text-align: center\">0/1</td><td style=\"text-align: center\">./.</td><td style=\"text-align: center\">0|1</td><td style=\"text-align: center\">./.</td><td style=\"text-align: center\">0/1</td><td style=\"text-align: center\">./.</td><td style=\"text-align: center\">0|1</td><td style=\"text-align: center\">./.</td><td style=\"text-align: center\">0/1</td><td style=\"text-align: center\">./.</td><td style=\"text-align: center\">0|1</td><td style=\"text-align: center\">./.</td><td style=\"text-align: center\">0/1</td><td style=\"text-align: center\">./.</td><td style=\"text-align: center\">0|1</td><td style=\"text-align: center\">./.</td><td style=\"text-align: center\">0/1</td><td style=\"text-align: center\">./.</td><td style=\"text-align: center\">0|1</td><td style=\"text-align: center\">./.</td><td style=\"text-align: center\">0/1</td><td style=\"text-align: center\">./.</td><td style=\"text-align: center\">0|1</td><td style=\"text-align: center\">./.</td><td style=\"text-align: center\">0/1</td><td style=\"text-align: center\">./.</td><td style=\"text-align: center\">0|1</td><td style=\"text-align: center\">./.</td><td style=\"text-align: center\">0/1</td><td style=\"text-align: center\">./.</td><td style=\"text-align: center\">0|1</td><td style=\"text-align: center\">./.</td><td style=\"text-align: center\">0/1</td><td style=\"text-align: center\">./.</td></tr><tr><th style=\"text-align: center; background-color: white; border-right: 1px solid black; \">12</th><td style=\"text-align: center\">0|1</td><td style=\"text-align: center\">./.</td><td style=\"text-align: center\">0/1</td><td style=\"text-align: center\">./.</td><td style=\"text-align: center\">0|1</td><td style=\"text-align: center\">./.</td><td style=\"text-align: center\">0/1</td><td style=\"text-align: center\">./.</td><td style=\"text-align: center\">0|1</td><td style=\"text-align: center\">./.</td><td style=\"text-align: center\">0/1</td><td style=\"text-align: center\">./.</td><td style=\"text-align: center\">0|1</td><td style=\"text-align: center\">./.</td><td style=\"text-align: center\">0/1</td><td style=\"text-align: center\">./.</td><td style=\"text-align: center\">0|1</td><td style=\"text-align: center\">./.</td><td style=\"text-align: center\">0/1</td><td style=\"text-align: center\">./.</td><td style=\"text-align: center\">0|1</td><td style=\"text-align: center\">./.</td><td style=\"text-align: center\">0/1</td><td style=\"text-align: center\">./.</td><td style=\"text-align: center\">0|1</td><td style=\"text-align: center\">./.</td><td style=\"text-align: center\">0/1</td><td style=\"text-align: center\">./.</td><td style=\"text-align: center\">0|1</td><td style=\"text-align: center\">./.</td><td style=\"text-align: center\">0/1</td><td style=\"text-align: center\">./.</td><td style=\"text-align: center\">0|1</td><td style=\"text-align: center\">./.</td><td style=\"text-align: center\">0/1</td><td style=\"text-align: center\">./.</td><td style=\"text-align: center\">0|1</td><td style=\"text-align: center\">./.</td><td style=\"text-align: center\">0/1</td><td style=\"text-align: center\">./.</td></tr><tr><th style=\"text-align: center; background-color: white; border-right: 1px solid black; \">13</th><td style=\"text-align: center\">0|1</td><td style=\"text-align: center\">./.</td><td style=\"text-align: center\">0/1</td><td style=\"text-align: center\">./.</td><td style=\"text-align: center\">0|1</td><td style=\"text-align: center\">./.</td><td style=\"text-align: center\">0/1</td><td style=\"text-align: center\">./.</td><td style=\"text-align: center\">0|1</td><td style=\"text-align: center\">./.</td><td style=\"text-align: center\">0/1</td><td style=\"text-align: center\">./.</td><td style=\"text-align: center\">0|1</td><td style=\"text-align: center\">./.</td><td style=\"text-align: center\">0/1</td><td style=\"text-align: center\">./.</td><td style=\"text-align: center\">0|1</td><td style=\"text-align: center\">./.</td><td style=\"text-align: center\">0/1</td><td style=\"text-align: center\">./.</td><td style=\"text-align: center\">0|1</td><td style=\"text-align: center\">./.</td><td style=\"text-align: center\">0/1</td><td style=\"text-align: center\">./.</td><td style=\"text-align: center\">0|1</td><td style=\"text-align: center\">./.</td><td style=\"text-align: center\">0/1</td><td style=\"text-align: center\">./.</td><td style=\"text-align: center\">0|1</td><td style=\"text-align: center\">./.</td><td style=\"text-align: center\">0/1</td><td style=\"text-align: center\">./.</td><td style=\"text-align: center\">0|1</td><td style=\"text-align: center\">./.</td><td style=\"text-align: center\">0/1</td><td style=\"text-align: center\">./.</td><td style=\"text-align: center\">0|1</td><td style=\"text-align: center\">./.</td><td style=\"text-align: center\">0/1</td><td style=\"text-align: center\">./.</td></tr><tr><th style=\"text-align: center; background-color: white; border-right: 1px solid black; \">14</th><td style=\"text-align: center\">0|1</td><td style=\"text-align: center\">./.</td><td style=\"text-align: center\">0/1</td><td style=\"text-align: center\">./.</td><td style=\"text-align: center\">0|1</td><td style=\"text-align: center\">./.</td><td style=\"text-align: center\">0/1</td><td style=\"text-align: center\">./.</td><td style=\"text-align: center\">0|1</td><td style=\"text-align: center\">./.</td><td style=\"text-align: center\">0/1</td><td style=\"text-align: center\">./.</td><td style=\"text-align: center\">0|1</td><td style=\"text-align: center\">./.</td><td style=\"text-align: center\">0/1</td><td style=\"text-align: center\">./.</td><td style=\"text-align: center\">0|1</td><td style=\"text-align: center\">./.</td><td style=\"text-align: center\">0/1</td><td style=\"text-align: center\">./.</td><td style=\"text-align: center\">0|1</td><td style=\"text-align: center\">./.</td><td style=\"text-align: center\">0/1</td><td style=\"text-align: center\">./.</td><td style=\"text-align: center\">0|1</td><td style=\"text-align: center\">./.</td><td style=\"text-align: center\">0/1</td><td style=\"text-align: center\">./.</td><td style=\"text-align: center\">0|1</td><td style=\"text-align: center\">./.</td><td style=\"text-align: center\">0/1</td><td style=\"text-align: center\">./.</td><td style=\"text-align: center\">0|1</td><td style=\"text-align: center\">./.</td><td style=\"text-align: center\">0/1</td><td style=\"text-align: center\">./.</td><td style=\"text-align: center\">0|1</td><td style=\"text-align: center\">./.</td><td style=\"text-align: center\">0/1</td><td style=\"text-align: center\">./.</td></tr><tr><th style=\"text-align: center; background-color: white; border-right: 1px solid black; \">15</th><td style=\"text-align: center\">0|1</td><td style=\"text-align: center\">./.</td><td style=\"text-align: center\">0/1</td><td style=\"text-align: center\">./.</td><td style=\"text-align: center\">0|1</td><td style=\"text-align: center\">./.</td><td style=\"text-align: center\">0/1</td><td style=\"text-align: center\">./.</td><td style=\"text-align: center\">0|1</td><td style=\"text-align: center\">./.</td><td style=\"text-align: center\">0/1</td><td style=\"text-align: center\">./.</td><td style=\"text-align: center\">0|1</td><td style=\"text-align: center\">./.</td><td style=\"text-align: center\">0/1</td><td style=\"text-align: center\">./.</td><td style=\"text-align: center\">0|1</td><td style=\"text-align: center\">./.</td><td style=\"text-align: center\">0/1</td><td style=\"text-align: center\">./.</td><td style=\"text-align: center\">0|1</td><td style=\"text-align: center\">./.</td><td style=\"text-align: center\">0/1</td><td style=\"text-align: center\">./.</td><td style=\"text-align: center\">0|1</td><td style=\"text-align: center\">./.</td><td style=\"text-align: center\">0/1</td><td style=\"text-align: center\">./.</td><td style=\"text-align: center\">0|1</td><td style=\"text-align: center\">./.</td><td style=\"text-align: center\">0/1</td><td style=\"text-align: center\">./.</td><td style=\"text-align: center\">0|1</td><td style=\"text-align: center\">./.</td><td style=\"text-align: center\">0/1</td><td style=\"text-align: center\">./.</td><td style=\"text-align: center\">0|1</td><td style=\"text-align: center\">./.</td><td style=\"text-align: center\">0/1</td><td style=\"text-align: center\">./.</td></tr><tr><th style=\"text-align: center; background-color: white; border-right: 1px solid black; \">16</th><td style=\"text-align: center\">0|1</td><td style=\"text-align: center\">./.</td><td style=\"text-align: center\">0/1</td><td style=\"text-align: center\">./.</td><td style=\"text-align: center\">0|1</td><td style=\"text-align: center\">./.</td><td style=\"text-align: center\">0/1</td><td style=\"text-align: center\">./.</td><td style=\"text-align: center\">0|1</td><td style=\"text-align: center\">./.</td><td style=\"text-align: center\">0/1</td><td style=\"text-align: center\">./.</td><td style=\"text-align: center\">0|1</td><td style=\"text-align: center\">./.</td><td style=\"text-align: center\">0/1</td><td style=\"text-align: center\">./.</td><td style=\"text-align: center\">0|1</td><td style=\"text-align: center\">./.</td><td style=\"text-align: center\">0/1</td><td style=\"text-align: center\">./.</td><td style=\"text-align: center\">0|1</td><td style=\"text-align: center\">./.</td><td style=\"text-align: center\">0/1</td><td style=\"text-align: center\">./.</td><td style=\"text-align: center\">0|1</td><td style=\"text-align: center\">./.</td><td style=\"text-align: center\">0/1</td><td style=\"text-align: center\">./.</td><td style=\"text-align: center\">0|1</td><td style=\"text-align: center\">./.</td><td style=\"text-align: center\">0/1</td><td style=\"text-align: center\">./.</td><td style=\"text-align: center\">0|1</td><td style=\"text-align: center\">./.</td><td style=\"text-align: center\">0/1</td><td style=\"text-align: center\">./.</td><td style=\"text-align: center\">0|1</td><td style=\"text-align: center\">./.</td><td style=\"text-align: center\">0/1</td><td style=\"text-align: center\">./.</td></tr><tr><th style=\"text-align: center; background-color: white; border-right: 1px solid black; \">17</th><td style=\"text-align: center\">0|1</td><td style=\"text-align: center\">./.</td><td style=\"text-align: center\">0/1</td><td style=\"text-align: center\">./.</td><td style=\"text-align: center\">0|1</td><td style=\"text-align: center\">./.</td><td style=\"text-align: center\">0/1</td><td style=\"text-align: center\">./.</td><td style=\"text-align: center\">0|1</td><td style=\"text-align: center\">./.</td><td style=\"text-align: center\">0/1</td><td style=\"text-align: center\">./.</td><td style=\"text-align: center\">0|1</td><td style=\"text-align: center\">./.</td><td style=\"text-align: center\">0/1</td><td style=\"text-align: center\">./.</td><td style=\"text-align: center\">0|1</td><td style=\"text-align: center\">./.</td><td style=\"text-align: center\">0/1</td><td style=\"text-align: center\">./.</td><td style=\"text-align: center\">0|1</td><td style=\"text-align: center\">./.</td><td style=\"text-align: center\">0/1</td><td style=\"text-align: center\">./.</td><td style=\"text-align: center\">0|1</td><td style=\"text-align: center\">./.</td><td style=\"text-align: center\">0/1</td><td style=\"text-align: center\">./.</td><td style=\"text-align: center\">0|1</td><td style=\"text-align: center\">./.</td><td style=\"text-align: center\">0/1</td><td style=\"text-align: center\">./.</td><td style=\"text-align: center\">0|1</td><td style=\"text-align: center\">./.</td><td style=\"text-align: center\">0/1</td><td style=\"text-align: center\">./.</td><td style=\"text-align: center\">0|1</td><td style=\"text-align: center\">./.</td><td style=\"text-align: center\">0/1</td><td style=\"text-align: center\">./.</td></tr><tr><th style=\"text-align: center; background-color: white; border-right: 1px solid black; \">18</th><td style=\"text-align: center\">0|1</td><td style=\"text-align: center\">./.</td><td style=\"text-align: center\">0/1</td><td style=\"text-align: center\">./.</td><td style=\"text-align: center\">0|1</td><td style=\"text-align: center\">./.</td><td style=\"text-align: center\">0/1</td><td style=\"text-align: center\">./.</td><td style=\"text-align: center\">0|1</td><td style=\"text-align: center\">./.</td><td style=\"text-align: center\">0/1</td><td style=\"text-align: center\">./.</td><td style=\"text-align: center\">0|1</td><td style=\"text-align: center\">./.</td><td style=\"text-align: center\">0/1</td><td style=\"text-align: center\">./.</td><td style=\"text-align: center\">0|1</td><td style=\"text-align: center\">./.</td><td style=\"text-align: center\">0/1</td><td style=\"text-align: center\">./.</td><td style=\"text-align: center\">0|1</td><td style=\"text-align: center\">./.</td><td style=\"text-align: center\">0/1</td><td style=\"text-align: center\">./.</td><td style=\"text-align: center\">0|1</td><td style=\"text-align: center\">./.</td><td style=\"text-align: center\">0/1</td><td style=\"text-align: center\">./.</td><td style=\"text-align: center\">0|1</td><td style=\"text-align: center\">./.</td><td style=\"text-align: center\">0/1</td><td style=\"text-align: center\">./.</td><td style=\"text-align: center\">0|1</td><td style=\"text-align: center\">./.</td><td style=\"text-align: center\">0/1</td><td style=\"text-align: center\">./.</td><td style=\"text-align: center\">0|1</td><td style=\"text-align: center\">./.</td><td style=\"text-align: center\">0/1</td><td style=\"text-align: center\">./.</td></tr><tr><th style=\"text-align: center; background-color: white; border-right: 1px solid black; \">19</th><td style=\"text-align: center\">0|1</td><td style=\"text-align: center\">./.</td><td style=\"text-align: center\">0/1</td><td style=\"text-align: center\">./.</td><td style=\"text-align: center\">0|1</td><td style=\"text-align: center\">./.</td><td style=\"text-align: center\">0/1</td><td style=\"text-align: center\">./.</td><td style=\"text-align: center\">0|1</td><td style=\"text-align: center\">./.</td><td style=\"text-align: center\">0/1</td><td style=\"text-align: center\">./.</td><td style=\"text-align: center\">0|1</td><td style=\"text-align: center\">./.</td><td style=\"text-align: center\">0/1</td><td style=\"text-align: center\">./.</td><td style=\"text-align: center\">0|1</td><td style=\"text-align: center\">./.</td><td style=\"text-align: center\">0/1</td><td style=\"text-align: center\">./.</td><td style=\"text-align: center\">0|1</td><td style=\"text-align: center\">./.</td><td style=\"text-align: center\">0/1</td><td style=\"text-align: center\">./.</td><td style=\"text-align: center\">0|1</td><td style=\"text-align: center\">./.</td><td style=\"text-align: center\">0/1</td><td style=\"text-align: center\">./.</td><td style=\"text-align: center\">0|1</td><td style=\"text-align: center\">./.</td><td style=\"text-align: center\">0/1</td><td style=\"text-align: center\">./.</td><td style=\"text-align: center\">0|1</td><td style=\"text-align: center\">./.</td><td style=\"text-align: center\">0/1</td><td style=\"text-align: center\">./.</td><td style=\"text-align: center\">0|1</td><td style=\"text-align: center\">./.</td><td style=\"text-align: center\">0/1</td><td style=\"text-align: center\">./.</td></tr></tbody></table></div>"
      ]
     },
     "metadata": {},
     "output_type": "display_data"
    }
   ],
   "source": [
    "g.displayall()"
   ]
  },
  {
   "cell_type": "code",
   "execution_count": 21,
   "metadata": {},
   "outputs": [
    {
     "data": {
      "text/html": [
       "<div class=\"allel allel-DisplayAs2D\"><span>&lt;GenotypeArray shape=(40, 40, 2) dtype=int64&gt;</span><table><thead><tr><th></th><th style=\"text-align: center\">0</th><th style=\"text-align: center\">1</th><th style=\"text-align: center\">2</th><th style=\"text-align: center\">3</th><th style=\"text-align: center\">4</th><th style=\"text-align: center\">...</th><th style=\"text-align: center\">35</th><th style=\"text-align: center\">36</th><th style=\"text-align: center\">37</th><th style=\"text-align: center\">38</th><th style=\"text-align: center\">39</th></tr></thead><tbody><tr><th style=\"text-align: center; background-color: white; border-right: 1px solid black; \">0</th><td style=\"text-align: center\">0|1</td><td style=\"text-align: center\">./.</td><td style=\"text-align: center\">0/1</td><td style=\"text-align: center\">./.</td><td style=\"text-align: center\">0|1</td><td style=\"text-align: center\">...</td><td style=\"text-align: center\">./.</td><td style=\"text-align: center\">0|1</td><td style=\"text-align: center\">./.</td><td style=\"text-align: center\">0/1</td><td style=\"text-align: center\">./.</td></tr><tr><th style=\"text-align: center; background-color: white; border-right: 1px solid black; \">1</th><td style=\"text-align: center\">0|1</td><td style=\"text-align: center\">./.</td><td style=\"text-align: center\">0/1</td><td style=\"text-align: center\">./.</td><td style=\"text-align: center\">0|1</td><td style=\"text-align: center\">...</td><td style=\"text-align: center\">./.</td><td style=\"text-align: center\">0|1</td><td style=\"text-align: center\">./.</td><td style=\"text-align: center\">0/1</td><td style=\"text-align: center\">./.</td></tr><tr><th style=\"text-align: center; background-color: white; border-right: 1px solid black; \">2</th><td style=\"text-align: center\">0|1</td><td style=\"text-align: center\">./.</td><td style=\"text-align: center\">0/1</td><td style=\"text-align: center\">./.</td><td style=\"text-align: center\">0|1</td><td style=\"text-align: center\">...</td><td style=\"text-align: center\">./.</td><td style=\"text-align: center\">0|1</td><td style=\"text-align: center\">./.</td><td style=\"text-align: center\">0/1</td><td style=\"text-align: center\">./.</td></tr><tr><th style=\"text-align: center; background-color: white; border-right: 1px solid black; \">...</th><td style=\"text-align: center\" colspan=\"12\">...</td></tr><tr><th style=\"text-align: center; background-color: white; border-right: 1px solid black; \">37</th><td style=\"text-align: center\">0|1</td><td style=\"text-align: center\">./.</td><td style=\"text-align: center\">0/1</td><td style=\"text-align: center\">./.</td><td style=\"text-align: center\">0|1</td><td style=\"text-align: center\">...</td><td style=\"text-align: center\">./.</td><td style=\"text-align: center\">0|1</td><td style=\"text-align: center\">./.</td><td style=\"text-align: center\">0/1</td><td style=\"text-align: center\">./.</td></tr><tr><th style=\"text-align: center; background-color: white; border-right: 1px solid black; \">38</th><td style=\"text-align: center\">0|1</td><td style=\"text-align: center\">./.</td><td style=\"text-align: center\">0/1</td><td style=\"text-align: center\">./.</td><td style=\"text-align: center\">0|1</td><td style=\"text-align: center\">...</td><td style=\"text-align: center\">./.</td><td style=\"text-align: center\">0|1</td><td style=\"text-align: center\">./.</td><td style=\"text-align: center\">0/1</td><td style=\"text-align: center\">./.</td></tr><tr><th style=\"text-align: center; background-color: white; border-right: 1px solid black; \">39</th><td style=\"text-align: center\">0|1</td><td style=\"text-align: center\">./.</td><td style=\"text-align: center\">0/1</td><td style=\"text-align: center\">./.</td><td style=\"text-align: center\">0|1</td><td style=\"text-align: center\">...</td><td style=\"text-align: center\">./.</td><td style=\"text-align: center\">0|1</td><td style=\"text-align: center\">./.</td><td style=\"text-align: center\">0/1</td><td style=\"text-align: center\">./.</td></tr></tbody></table></div>"
      ],
      "text/plain": [
       "<GenotypeArray shape=(40, 40, 2) dtype=int64>\n",
       "0|1 ./. 0/1 ./. 0|1 ... ./. 0|1 ./. 0/1 ./.\n",
       "0|1 ./. 0/1 ./. 0|1 ... ./. 0|1 ./. 0/1 ./.\n",
       "0|1 ./. 0/1 ./. 0|1 ... ./. 0|1 ./. 0/1 ./.\n",
       "...\n",
       "0|1 ./. 0/1 ./. 0|1 ... ./. 0|1 ./. 0/1 ./.\n",
       "0|1 ./. 0/1 ./. 0|1 ... ./. 0|1 ./. 0/1 ./.\n",
       "0|1 ./. 0/1 ./. 0|1 ... ./. 0|1 ./. 0/1 ./."
      ]
     },
     "execution_count": 21,
     "metadata": {},
     "output_type": "execute_result"
    }
   ],
   "source": [
    "g.concatenate(g)"
   ]
  },
  {
   "cell_type": "code",
   "execution_count": 22,
   "metadata": {},
   "outputs": [
    {
     "data": {
      "text/html": [
       "<div class=\"allel allel-DisplayAs2D\"><span>&lt;GenotypeArray shape=(20, 80, 2) dtype=int64&gt;</span><table><thead><tr><th></th><th style=\"text-align: center\">0</th><th style=\"text-align: center\">1</th><th style=\"text-align: center\">2</th><th style=\"text-align: center\">3</th><th style=\"text-align: center\">4</th><th style=\"text-align: center\">...</th><th style=\"text-align: center\">75</th><th style=\"text-align: center\">76</th><th style=\"text-align: center\">77</th><th style=\"text-align: center\">78</th><th style=\"text-align: center\">79</th></tr></thead><tbody><tr><th style=\"text-align: center; background-color: white; border-right: 1px solid black; \">0</th><td style=\"text-align: center\">0|1</td><td style=\"text-align: center\">./.</td><td style=\"text-align: center\">0/1</td><td style=\"text-align: center\">./.</td><td style=\"text-align: center\">0|1</td><td style=\"text-align: center\">...</td><td style=\"text-align: center\">./.</td><td style=\"text-align: center\">0|1</td><td style=\"text-align: center\">./.</td><td style=\"text-align: center\">0/1</td><td style=\"text-align: center\">./.</td></tr><tr><th style=\"text-align: center; background-color: white; border-right: 1px solid black; \">1</th><td style=\"text-align: center\">0|1</td><td style=\"text-align: center\">./.</td><td style=\"text-align: center\">0/1</td><td style=\"text-align: center\">./.</td><td style=\"text-align: center\">0|1</td><td style=\"text-align: center\">...</td><td style=\"text-align: center\">./.</td><td style=\"text-align: center\">0|1</td><td style=\"text-align: center\">./.</td><td style=\"text-align: center\">0/1</td><td style=\"text-align: center\">./.</td></tr><tr><th style=\"text-align: center; background-color: white; border-right: 1px solid black; \">2</th><td style=\"text-align: center\">0|1</td><td style=\"text-align: center\">./.</td><td style=\"text-align: center\">0/1</td><td style=\"text-align: center\">./.</td><td style=\"text-align: center\">0|1</td><td style=\"text-align: center\">...</td><td style=\"text-align: center\">./.</td><td style=\"text-align: center\">0|1</td><td style=\"text-align: center\">./.</td><td style=\"text-align: center\">0/1</td><td style=\"text-align: center\">./.</td></tr><tr><th style=\"text-align: center; background-color: white; border-right: 1px solid black; \">...</th><td style=\"text-align: center\" colspan=\"12\">...</td></tr><tr><th style=\"text-align: center; background-color: white; border-right: 1px solid black; \">17</th><td style=\"text-align: center\">0|1</td><td style=\"text-align: center\">./.</td><td style=\"text-align: center\">0/1</td><td style=\"text-align: center\">./.</td><td style=\"text-align: center\">0|1</td><td style=\"text-align: center\">...</td><td style=\"text-align: center\">./.</td><td style=\"text-align: center\">0|1</td><td style=\"text-align: center\">./.</td><td style=\"text-align: center\">0/1</td><td style=\"text-align: center\">./.</td></tr><tr><th style=\"text-align: center; background-color: white; border-right: 1px solid black; \">18</th><td style=\"text-align: center\">0|1</td><td style=\"text-align: center\">./.</td><td style=\"text-align: center\">0/1</td><td style=\"text-align: center\">./.</td><td style=\"text-align: center\">0|1</td><td style=\"text-align: center\">...</td><td style=\"text-align: center\">./.</td><td style=\"text-align: center\">0|1</td><td style=\"text-align: center\">./.</td><td style=\"text-align: center\">0/1</td><td style=\"text-align: center\">./.</td></tr><tr><th style=\"text-align: center; background-color: white; border-right: 1px solid black; \">19</th><td style=\"text-align: center\">0|1</td><td style=\"text-align: center\">./.</td><td style=\"text-align: center\">0/1</td><td style=\"text-align: center\">./.</td><td style=\"text-align: center\">0|1</td><td style=\"text-align: center\">...</td><td style=\"text-align: center\">./.</td><td style=\"text-align: center\">0|1</td><td style=\"text-align: center\">./.</td><td style=\"text-align: center\">0/1</td><td style=\"text-align: center\">./.</td></tr></tbody></table></div>"
      ],
      "text/plain": [
       "<GenotypeArray shape=(20, 80, 2) dtype=int64>\n",
       "0|1 ./. 0/1 ./. 0|1 ... ./. 0|1 ./. 0/1 ./.\n",
       "0|1 ./. 0/1 ./. 0|1 ... ./. 0|1 ./. 0/1 ./.\n",
       "0|1 ./. 0/1 ./. 0|1 ... ./. 0|1 ./. 0/1 ./.\n",
       "...\n",
       "0|1 ./. 0/1 ./. 0|1 ... ./. 0|1 ./. 0/1 ./.\n",
       "0|1 ./. 0/1 ./. 0|1 ... ./. 0|1 ./. 0/1 ./.\n",
       "0|1 ./. 0/1 ./. 0|1 ... ./. 0|1 ./. 0/1 ./."
      ]
     },
     "execution_count": 22,
     "metadata": {},
     "output_type": "execute_result"
    }
   ],
   "source": [
    "g.concatenate(g, axis=1)"
   ]
  },
  {
   "cell_type": "code",
   "execution_count": 23,
   "metadata": {},
   "outputs": [
    {
     "data": {
      "text/plain": [
       "array([[1, 0, 1, 0, 1, 0, 1, 0, 1, 0, 1, 0, 1, 0, 1, 0, 1, 0, 1, 0, 1, 0,\n",
       "        1, 0, 1, 0, 1, 0, 1, 0, 1, 0, 1, 0, 1, 0, 1, 0, 1, 0],\n",
       "       [1, 0, 1, 0, 1, 0, 1, 0, 1, 0, 1, 0, 1, 0, 1, 0, 1, 0, 1, 0, 1, 0,\n",
       "        1, 0, 1, 0, 1, 0, 1, 0, 1, 0, 1, 0, 1, 0, 1, 0, 1, 0],\n",
       "       [1, 0, 1, 0, 1, 0, 1, 0, 1, 0, 1, 0, 1, 0, 1, 0, 1, 0, 1, 0, 1, 0,\n",
       "        1, 0, 1, 0, 1, 0, 1, 0, 1, 0, 1, 0, 1, 0, 1, 0, 1, 0],\n",
       "       [1, 0, 1, 0, 1, 0, 1, 0, 1, 0, 1, 0, 1, 0, 1, 0, 1, 0, 1, 0, 1, 0,\n",
       "        1, 0, 1, 0, 1, 0, 1, 0, 1, 0, 1, 0, 1, 0, 1, 0, 1, 0],\n",
       "       [1, 0, 1, 0, 1, 0, 1, 0, 1, 0, 1, 0, 1, 0, 1, 0, 1, 0, 1, 0, 1, 0,\n",
       "        1, 0, 1, 0, 1, 0, 1, 0, 1, 0, 1, 0, 1, 0, 1, 0, 1, 0],\n",
       "       [1, 0, 1, 0, 1, 0, 1, 0, 1, 0, 1, 0, 1, 0, 1, 0, 1, 0, 1, 0, 1, 0,\n",
       "        1, 0, 1, 0, 1, 0, 1, 0, 1, 0, 1, 0, 1, 0, 1, 0, 1, 0],\n",
       "       [1, 0, 1, 0, 1, 0, 1, 0, 1, 0, 1, 0, 1, 0, 1, 0, 1, 0, 1, 0, 1, 0,\n",
       "        1, 0, 1, 0, 1, 0, 1, 0, 1, 0, 1, 0, 1, 0, 1, 0, 1, 0],\n",
       "       [1, 0, 1, 0, 1, 0, 1, 0, 1, 0, 1, 0, 1, 0, 1, 0, 1, 0, 1, 0, 1, 0,\n",
       "        1, 0, 1, 0, 1, 0, 1, 0, 1, 0, 1, 0, 1, 0, 1, 0, 1, 0],\n",
       "       [1, 0, 1, 0, 1, 0, 1, 0, 1, 0, 1, 0, 1, 0, 1, 0, 1, 0, 1, 0, 1, 0,\n",
       "        1, 0, 1, 0, 1, 0, 1, 0, 1, 0, 1, 0, 1, 0, 1, 0, 1, 0],\n",
       "       [1, 0, 1, 0, 1, 0, 1, 0, 1, 0, 1, 0, 1, 0, 1, 0, 1, 0, 1, 0, 1, 0,\n",
       "        1, 0, 1, 0, 1, 0, 1, 0, 1, 0, 1, 0, 1, 0, 1, 0, 1, 0],\n",
       "       [1, 0, 1, 0, 1, 0, 1, 0, 1, 0, 1, 0, 1, 0, 1, 0, 1, 0, 1, 0, 1, 0,\n",
       "        1, 0, 1, 0, 1, 0, 1, 0, 1, 0, 1, 0, 1, 0, 1, 0, 1, 0],\n",
       "       [1, 0, 1, 0, 1, 0, 1, 0, 1, 0, 1, 0, 1, 0, 1, 0, 1, 0, 1, 0, 1, 0,\n",
       "        1, 0, 1, 0, 1, 0, 1, 0, 1, 0, 1, 0, 1, 0, 1, 0, 1, 0],\n",
       "       [1, 0, 1, 0, 1, 0, 1, 0, 1, 0, 1, 0, 1, 0, 1, 0, 1, 0, 1, 0, 1, 0,\n",
       "        1, 0, 1, 0, 1, 0, 1, 0, 1, 0, 1, 0, 1, 0, 1, 0, 1, 0],\n",
       "       [1, 0, 1, 0, 1, 0, 1, 0, 1, 0, 1, 0, 1, 0, 1, 0, 1, 0, 1, 0, 1, 0,\n",
       "        1, 0, 1, 0, 1, 0, 1, 0, 1, 0, 1, 0, 1, 0, 1, 0, 1, 0],\n",
       "       [1, 0, 1, 0, 1, 0, 1, 0, 1, 0, 1, 0, 1, 0, 1, 0, 1, 0, 1, 0, 1, 0,\n",
       "        1, 0, 1, 0, 1, 0, 1, 0, 1, 0, 1, 0, 1, 0, 1, 0, 1, 0],\n",
       "       [1, 0, 1, 0, 1, 0, 1, 0, 1, 0, 1, 0, 1, 0, 1, 0, 1, 0, 1, 0, 1, 0,\n",
       "        1, 0, 1, 0, 1, 0, 1, 0, 1, 0, 1, 0, 1, 0, 1, 0, 1, 0],\n",
       "       [1, 0, 1, 0, 1, 0, 1, 0, 1, 0, 1, 0, 1, 0, 1, 0, 1, 0, 1, 0, 1, 0,\n",
       "        1, 0, 1, 0, 1, 0, 1, 0, 1, 0, 1, 0, 1, 0, 1, 0, 1, 0],\n",
       "       [1, 0, 1, 0, 1, 0, 1, 0, 1, 0, 1, 0, 1, 0, 1, 0, 1, 0, 1, 0, 1, 0,\n",
       "        1, 0, 1, 0, 1, 0, 1, 0, 1, 0, 1, 0, 1, 0, 1, 0, 1, 0],\n",
       "       [1, 0, 1, 0, 1, 0, 1, 0, 1, 0, 1, 0, 1, 0, 1, 0, 1, 0, 1, 0, 1, 0,\n",
       "        1, 0, 1, 0, 1, 0, 1, 0, 1, 0, 1, 0, 1, 0, 1, 0, 1, 0],\n",
       "       [1, 0, 1, 0, 1, 0, 1, 0, 1, 0, 1, 0, 1, 0, 1, 0, 1, 0, 1, 0, 1, 0,\n",
       "        1, 0, 1, 0, 1, 0, 1, 0, 1, 0, 1, 0, 1, 0, 1, 0, 1, 0]], dtype=int8)"
      ]
     },
     "execution_count": 23,
     "metadata": {},
     "output_type": "execute_result"
    }
   ],
   "source": [
    "g.to_n_alt()"
   ]
  },
  {
   "cell_type": "markdown",
   "metadata": {},
   "source": [
    "## HaplotypeArray"
   ]
  },
  {
   "cell_type": "code",
   "execution_count": 24,
   "metadata": {
    "collapsed": true
   },
   "outputs": [],
   "source": [
    "h = g.to_haplotypes()"
   ]
  },
  {
   "cell_type": "code",
   "execution_count": 25,
   "metadata": {},
   "outputs": [
    {
     "data": {
      "text/html": [
       "<div class=\"allel allel-DisplayAs2D\"><span>&lt;HaplotypeArray shape=(20, 80) dtype=int64&gt;</span><table><thead><tr><th></th><th style=\"text-align: center\">0</th><th style=\"text-align: center\">1</th><th style=\"text-align: center\">2</th><th style=\"text-align: center\">3</th><th style=\"text-align: center\">4</th><th style=\"text-align: center\">...</th><th style=\"text-align: center\">75</th><th style=\"text-align: center\">76</th><th style=\"text-align: center\">77</th><th style=\"text-align: center\">78</th><th style=\"text-align: center\">79</th></tr></thead><tbody><tr><th style=\"text-align: center; background-color: white; border-right: 1px solid black; \">0</th><td style=\"text-align: center\">0</td><td style=\"text-align: center\">1</td><td style=\"text-align: center\">.</td><td style=\"text-align: center\">.</td><td style=\"text-align: center\">0</td><td style=\"text-align: center\">...</td><td style=\"text-align: center\">.</td><td style=\"text-align: center\">0</td><td style=\"text-align: center\">1</td><td style=\"text-align: center\">.</td><td style=\"text-align: center\">.</td></tr><tr><th style=\"text-align: center; background-color: white; border-right: 1px solid black; \">1</th><td style=\"text-align: center\">0</td><td style=\"text-align: center\">1</td><td style=\"text-align: center\">.</td><td style=\"text-align: center\">.</td><td style=\"text-align: center\">0</td><td style=\"text-align: center\">...</td><td style=\"text-align: center\">.</td><td style=\"text-align: center\">0</td><td style=\"text-align: center\">1</td><td style=\"text-align: center\">.</td><td style=\"text-align: center\">.</td></tr><tr><th style=\"text-align: center; background-color: white; border-right: 1px solid black; \">2</th><td style=\"text-align: center\">0</td><td style=\"text-align: center\">1</td><td style=\"text-align: center\">.</td><td style=\"text-align: center\">.</td><td style=\"text-align: center\">0</td><td style=\"text-align: center\">...</td><td style=\"text-align: center\">.</td><td style=\"text-align: center\">0</td><td style=\"text-align: center\">1</td><td style=\"text-align: center\">.</td><td style=\"text-align: center\">.</td></tr><tr><th style=\"text-align: center; background-color: white; border-right: 1px solid black; \">...</th><td style=\"text-align: center\" colspan=\"12\">...</td></tr><tr><th style=\"text-align: center; background-color: white; border-right: 1px solid black; \">17</th><td style=\"text-align: center\">0</td><td style=\"text-align: center\">1</td><td style=\"text-align: center\">.</td><td style=\"text-align: center\">.</td><td style=\"text-align: center\">0</td><td style=\"text-align: center\">...</td><td style=\"text-align: center\">.</td><td style=\"text-align: center\">0</td><td style=\"text-align: center\">1</td><td style=\"text-align: center\">.</td><td style=\"text-align: center\">.</td></tr><tr><th style=\"text-align: center; background-color: white; border-right: 1px solid black; \">18</th><td style=\"text-align: center\">0</td><td style=\"text-align: center\">1</td><td style=\"text-align: center\">.</td><td style=\"text-align: center\">.</td><td style=\"text-align: center\">0</td><td style=\"text-align: center\">...</td><td style=\"text-align: center\">.</td><td style=\"text-align: center\">0</td><td style=\"text-align: center\">1</td><td style=\"text-align: center\">.</td><td style=\"text-align: center\">.</td></tr><tr><th style=\"text-align: center; background-color: white; border-right: 1px solid black; \">19</th><td style=\"text-align: center\">0</td><td style=\"text-align: center\">1</td><td style=\"text-align: center\">.</td><td style=\"text-align: center\">.</td><td style=\"text-align: center\">0</td><td style=\"text-align: center\">...</td><td style=\"text-align: center\">.</td><td style=\"text-align: center\">0</td><td style=\"text-align: center\">1</td><td style=\"text-align: center\">.</td><td style=\"text-align: center\">.</td></tr></tbody></table></div>"
      ],
      "text/plain": [
       "<HaplotypeArray shape=(20, 80) dtype=int64>\n",
       "0 1 . . 0 ... . 0 1 . .\n",
       "0 1 . . 0 ... . 0 1 . .\n",
       "0 1 . . 0 ... . 0 1 . .\n",
       "...\n",
       "0 1 . . 0 ... . 0 1 . .\n",
       "0 1 . . 0 ... . 0 1 . .\n",
       "0 1 . . 0 ... . 0 1 . ."
      ]
     },
     "execution_count": 25,
     "metadata": {},
     "output_type": "execute_result"
    }
   ],
   "source": [
    "h"
   ]
  },
  {
   "cell_type": "code",
   "execution_count": 26,
   "metadata": {},
   "outputs": [
    {
     "name": "stdout",
     "output_type": "stream",
     "text": [
      "<HaplotypeArray shape=(20, 80) dtype=int64>\n",
      "0 1 . . 0 ... . 0 1 . .\n",
      "0 1 . . 0 ... . 0 1 . .\n",
      "0 1 . . 0 ... . 0 1 . .\n",
      "...\n",
      "0 1 . . 0 ... . 0 1 . .\n",
      "0 1 . . 0 ... . 0 1 . .\n",
      "0 1 . . 0 ... . 0 1 . .\n",
      "\n"
     ]
    }
   ],
   "source": [
    "print(repr(h))"
   ]
  },
  {
   "cell_type": "code",
   "execution_count": 27,
   "metadata": {},
   "outputs": [
    {
     "name": "stdout",
     "output_type": "stream",
     "text": [
      "0 1 . . 0 ... . 0 1 . .\n",
      "0 1 . . 0 ... . 0 1 . .\n",
      "0 1 . . 0 ... . 0 1 . .\n",
      "...\n",
      "0 1 . . 0 ... . 0 1 . .\n",
      "0 1 . . 0 ... . 0 1 . .\n",
      "0 1 . . 0 ... . 0 1 . .\n",
      "\n"
     ]
    }
   ],
   "source": [
    "print(h)"
   ]
  },
  {
   "cell_type": "code",
   "execution_count": 28,
   "metadata": {},
   "outputs": [
    {
     "data": {
      "text/html": [
       "<div class=\"allel allel-DisplayAs2D\"><span>&lt;HaplotypeArray shape=(20, 80) dtype=int64&gt;</span><table><thead><tr><th></th><th style=\"text-align: center\">0</th><th style=\"text-align: center\">1</th><th style=\"text-align: center\">2</th><th style=\"text-align: center\">3</th><th style=\"text-align: center\">4</th><th style=\"text-align: center\">...</th><th style=\"text-align: center\">75</th><th style=\"text-align: center\">76</th><th style=\"text-align: center\">77</th><th style=\"text-align: center\">78</th><th style=\"text-align: center\">79</th></tr></thead><tbody><tr><th style=\"text-align: center; background-color: white; border-right: 1px solid black; \">0</th><td style=\"text-align: center\">0</td><td style=\"text-align: center\">1</td><td style=\"text-align: center\">.</td><td style=\"text-align: center\">.</td><td style=\"text-align: center\">0</td><td style=\"text-align: center\">...</td><td style=\"text-align: center\">.</td><td style=\"text-align: center\">0</td><td style=\"text-align: center\">1</td><td style=\"text-align: center\">.</td><td style=\"text-align: center\">.</td></tr><tr><th style=\"text-align: center; background-color: white; border-right: 1px solid black; \">1</th><td style=\"text-align: center\">0</td><td style=\"text-align: center\">1</td><td style=\"text-align: center\">.</td><td style=\"text-align: center\">.</td><td style=\"text-align: center\">0</td><td style=\"text-align: center\">...</td><td style=\"text-align: center\">.</td><td style=\"text-align: center\">0</td><td style=\"text-align: center\">1</td><td style=\"text-align: center\">.</td><td style=\"text-align: center\">.</td></tr><tr><th style=\"text-align: center; background-color: white; border-right: 1px solid black; \">2</th><td style=\"text-align: center\">0</td><td style=\"text-align: center\">1</td><td style=\"text-align: center\">.</td><td style=\"text-align: center\">.</td><td style=\"text-align: center\">0</td><td style=\"text-align: center\">...</td><td style=\"text-align: center\">.</td><td style=\"text-align: center\">0</td><td style=\"text-align: center\">1</td><td style=\"text-align: center\">.</td><td style=\"text-align: center\">.</td></tr><tr><th style=\"text-align: center; background-color: white; border-right: 1px solid black; \">3</th><td style=\"text-align: center\">0</td><td style=\"text-align: center\">1</td><td style=\"text-align: center\">.</td><td style=\"text-align: center\">.</td><td style=\"text-align: center\">0</td><td style=\"text-align: center\">...</td><td style=\"text-align: center\">.</td><td style=\"text-align: center\">0</td><td style=\"text-align: center\">1</td><td style=\"text-align: center\">.</td><td style=\"text-align: center\">.</td></tr><tr><th style=\"text-align: center; background-color: white; border-right: 1px solid black; \">4</th><td style=\"text-align: center\">0</td><td style=\"text-align: center\">1</td><td style=\"text-align: center\">.</td><td style=\"text-align: center\">.</td><td style=\"text-align: center\">0</td><td style=\"text-align: center\">...</td><td style=\"text-align: center\">.</td><td style=\"text-align: center\">0</td><td style=\"text-align: center\">1</td><td style=\"text-align: center\">.</td><td style=\"text-align: center\">.</td></tr><tr><th style=\"text-align: center; background-color: white; border-right: 1px solid black; \">5</th><td style=\"text-align: center\">0</td><td style=\"text-align: center\">1</td><td style=\"text-align: center\">.</td><td style=\"text-align: center\">.</td><td style=\"text-align: center\">0</td><td style=\"text-align: center\">...</td><td style=\"text-align: center\">.</td><td style=\"text-align: center\">0</td><td style=\"text-align: center\">1</td><td style=\"text-align: center\">.</td><td style=\"text-align: center\">.</td></tr><tr><th style=\"text-align: center; background-color: white; border-right: 1px solid black; \">6</th><td style=\"text-align: center\">0</td><td style=\"text-align: center\">1</td><td style=\"text-align: center\">.</td><td style=\"text-align: center\">.</td><td style=\"text-align: center\">0</td><td style=\"text-align: center\">...</td><td style=\"text-align: center\">.</td><td style=\"text-align: center\">0</td><td style=\"text-align: center\">1</td><td style=\"text-align: center\">.</td><td style=\"text-align: center\">.</td></tr><tr><th style=\"text-align: center; background-color: white; border-right: 1px solid black; \">7</th><td style=\"text-align: center\">0</td><td style=\"text-align: center\">1</td><td style=\"text-align: center\">.</td><td style=\"text-align: center\">.</td><td style=\"text-align: center\">0</td><td style=\"text-align: center\">...</td><td style=\"text-align: center\">.</td><td style=\"text-align: center\">0</td><td style=\"text-align: center\">1</td><td style=\"text-align: center\">.</td><td style=\"text-align: center\">.</td></tr><tr><th style=\"text-align: center; background-color: white; border-right: 1px solid black; \">8</th><td style=\"text-align: center\">0</td><td style=\"text-align: center\">1</td><td style=\"text-align: center\">.</td><td style=\"text-align: center\">.</td><td style=\"text-align: center\">0</td><td style=\"text-align: center\">...</td><td style=\"text-align: center\">.</td><td style=\"text-align: center\">0</td><td style=\"text-align: center\">1</td><td style=\"text-align: center\">.</td><td style=\"text-align: center\">.</td></tr><tr><th style=\"text-align: center; background-color: white; border-right: 1px solid black; \">9</th><td style=\"text-align: center\">0</td><td style=\"text-align: center\">1</td><td style=\"text-align: center\">.</td><td style=\"text-align: center\">.</td><td style=\"text-align: center\">0</td><td style=\"text-align: center\">...</td><td style=\"text-align: center\">.</td><td style=\"text-align: center\">0</td><td style=\"text-align: center\">1</td><td style=\"text-align: center\">.</td><td style=\"text-align: center\">.</td></tr><tr><th style=\"text-align: center; background-color: white; border-right: 1px solid black; \">10</th><td style=\"text-align: center\">0</td><td style=\"text-align: center\">1</td><td style=\"text-align: center\">.</td><td style=\"text-align: center\">.</td><td style=\"text-align: center\">0</td><td style=\"text-align: center\">...</td><td style=\"text-align: center\">.</td><td style=\"text-align: center\">0</td><td style=\"text-align: center\">1</td><td style=\"text-align: center\">.</td><td style=\"text-align: center\">.</td></tr><tr><th style=\"text-align: center; background-color: white; border-right: 1px solid black; \">11</th><td style=\"text-align: center\">0</td><td style=\"text-align: center\">1</td><td style=\"text-align: center\">.</td><td style=\"text-align: center\">.</td><td style=\"text-align: center\">0</td><td style=\"text-align: center\">...</td><td style=\"text-align: center\">.</td><td style=\"text-align: center\">0</td><td style=\"text-align: center\">1</td><td style=\"text-align: center\">.</td><td style=\"text-align: center\">.</td></tr><tr><th style=\"text-align: center; background-color: white; border-right: 1px solid black; \">12</th><td style=\"text-align: center\">0</td><td style=\"text-align: center\">1</td><td style=\"text-align: center\">.</td><td style=\"text-align: center\">.</td><td style=\"text-align: center\">0</td><td style=\"text-align: center\">...</td><td style=\"text-align: center\">.</td><td style=\"text-align: center\">0</td><td style=\"text-align: center\">1</td><td style=\"text-align: center\">.</td><td style=\"text-align: center\">.</td></tr><tr><th style=\"text-align: center; background-color: white; border-right: 1px solid black; \">13</th><td style=\"text-align: center\">0</td><td style=\"text-align: center\">1</td><td style=\"text-align: center\">.</td><td style=\"text-align: center\">.</td><td style=\"text-align: center\">0</td><td style=\"text-align: center\">...</td><td style=\"text-align: center\">.</td><td style=\"text-align: center\">0</td><td style=\"text-align: center\">1</td><td style=\"text-align: center\">.</td><td style=\"text-align: center\">.</td></tr><tr><th style=\"text-align: center; background-color: white; border-right: 1px solid black; \">14</th><td style=\"text-align: center\">0</td><td style=\"text-align: center\">1</td><td style=\"text-align: center\">.</td><td style=\"text-align: center\">.</td><td style=\"text-align: center\">0</td><td style=\"text-align: center\">...</td><td style=\"text-align: center\">.</td><td style=\"text-align: center\">0</td><td style=\"text-align: center\">1</td><td style=\"text-align: center\">.</td><td style=\"text-align: center\">.</td></tr><tr><th style=\"text-align: center; background-color: white; border-right: 1px solid black; \">15</th><td style=\"text-align: center\">0</td><td style=\"text-align: center\">1</td><td style=\"text-align: center\">.</td><td style=\"text-align: center\">.</td><td style=\"text-align: center\">0</td><td style=\"text-align: center\">...</td><td style=\"text-align: center\">.</td><td style=\"text-align: center\">0</td><td style=\"text-align: center\">1</td><td style=\"text-align: center\">.</td><td style=\"text-align: center\">.</td></tr><tr><th style=\"text-align: center; background-color: white; border-right: 1px solid black; \">16</th><td style=\"text-align: center\">0</td><td style=\"text-align: center\">1</td><td style=\"text-align: center\">.</td><td style=\"text-align: center\">.</td><td style=\"text-align: center\">0</td><td style=\"text-align: center\">...</td><td style=\"text-align: center\">.</td><td style=\"text-align: center\">0</td><td style=\"text-align: center\">1</td><td style=\"text-align: center\">.</td><td style=\"text-align: center\">.</td></tr><tr><th style=\"text-align: center; background-color: white; border-right: 1px solid black; \">17</th><td style=\"text-align: center\">0</td><td style=\"text-align: center\">1</td><td style=\"text-align: center\">.</td><td style=\"text-align: center\">.</td><td style=\"text-align: center\">0</td><td style=\"text-align: center\">...</td><td style=\"text-align: center\">.</td><td style=\"text-align: center\">0</td><td style=\"text-align: center\">1</td><td style=\"text-align: center\">.</td><td style=\"text-align: center\">.</td></tr><tr><th style=\"text-align: center; background-color: white; border-right: 1px solid black; \">18</th><td style=\"text-align: center\">0</td><td style=\"text-align: center\">1</td><td style=\"text-align: center\">.</td><td style=\"text-align: center\">.</td><td style=\"text-align: center\">0</td><td style=\"text-align: center\">...</td><td style=\"text-align: center\">.</td><td style=\"text-align: center\">0</td><td style=\"text-align: center\">1</td><td style=\"text-align: center\">.</td><td style=\"text-align: center\">.</td></tr><tr><th style=\"text-align: center; background-color: white; border-right: 1px solid black; \">19</th><td style=\"text-align: center\">0</td><td style=\"text-align: center\">1</td><td style=\"text-align: center\">.</td><td style=\"text-align: center\">.</td><td style=\"text-align: center\">0</td><td style=\"text-align: center\">...</td><td style=\"text-align: center\">.</td><td style=\"text-align: center\">0</td><td style=\"text-align: center\">1</td><td style=\"text-align: center\">.</td><td style=\"text-align: center\">.</td></tr></tbody></table></div>"
      ]
     },
     "metadata": {},
     "output_type": "display_data"
    }
   ],
   "source": [
    "h.display(20, 40)"
   ]
  },
  {
   "cell_type": "code",
   "execution_count": 29,
   "metadata": {},
   "outputs": [
    {
     "data": {
      "text/html": [
       "<div class=\"allel allel-DisplayAs2D\"><span>&lt;HaplotypeArray shape=(20, 80) dtype=int64&gt;</span><table><thead><tr><th></th><th style=\"text-align: center\">0</th><th style=\"text-align: center\">1</th><th style=\"text-align: center\">2</th><th style=\"text-align: center\">3</th><th style=\"text-align: center\">4</th><th style=\"text-align: center\">5</th><th style=\"text-align: center\">6</th><th style=\"text-align: center\">7</th><th style=\"text-align: center\">8</th><th style=\"text-align: center\">9</th><th style=\"text-align: center\">10</th><th style=\"text-align: center\">11</th><th style=\"text-align: center\">12</th><th style=\"text-align: center\">13</th><th style=\"text-align: center\">14</th><th style=\"text-align: center\">15</th><th style=\"text-align: center\">16</th><th style=\"text-align: center\">17</th><th style=\"text-align: center\">18</th><th style=\"text-align: center\">19</th><th style=\"text-align: center\">20</th><th style=\"text-align: center\">21</th><th style=\"text-align: center\">22</th><th style=\"text-align: center\">23</th><th style=\"text-align: center\">24</th><th style=\"text-align: center\">25</th><th style=\"text-align: center\">26</th><th style=\"text-align: center\">27</th><th style=\"text-align: center\">28</th><th style=\"text-align: center\">29</th><th style=\"text-align: center\">30</th><th style=\"text-align: center\">31</th><th style=\"text-align: center\">32</th><th style=\"text-align: center\">33</th><th style=\"text-align: center\">34</th><th style=\"text-align: center\">35</th><th style=\"text-align: center\">36</th><th style=\"text-align: center\">37</th><th style=\"text-align: center\">38</th><th style=\"text-align: center\">39</th><th style=\"text-align: center\">40</th><th style=\"text-align: center\">41</th><th style=\"text-align: center\">42</th><th style=\"text-align: center\">43</th><th style=\"text-align: center\">44</th><th style=\"text-align: center\">45</th><th style=\"text-align: center\">46</th><th style=\"text-align: center\">47</th><th style=\"text-align: center\">48</th><th style=\"text-align: center\">49</th><th style=\"text-align: center\">50</th><th style=\"text-align: center\">51</th><th style=\"text-align: center\">52</th><th style=\"text-align: center\">53</th><th style=\"text-align: center\">54</th><th style=\"text-align: center\">55</th><th style=\"text-align: center\">56</th><th style=\"text-align: center\">57</th><th style=\"text-align: center\">58</th><th style=\"text-align: center\">59</th><th style=\"text-align: center\">60</th><th style=\"text-align: center\">61</th><th style=\"text-align: center\">62</th><th style=\"text-align: center\">63</th><th style=\"text-align: center\">64</th><th style=\"text-align: center\">65</th><th style=\"text-align: center\">66</th><th style=\"text-align: center\">67</th><th style=\"text-align: center\">68</th><th style=\"text-align: center\">69</th><th style=\"text-align: center\">70</th><th style=\"text-align: center\">71</th><th style=\"text-align: center\">72</th><th style=\"text-align: center\">73</th><th style=\"text-align: center\">74</th><th style=\"text-align: center\">75</th><th style=\"text-align: center\">76</th><th style=\"text-align: center\">77</th><th style=\"text-align: center\">78</th><th style=\"text-align: center\">79</th></tr></thead><tbody><tr><th style=\"text-align: center; background-color: white; border-right: 1px solid black; \">0</th><td style=\"text-align: center\">0</td><td style=\"text-align: center\">1</td><td style=\"text-align: center\">.</td><td style=\"text-align: center\">.</td><td style=\"text-align: center\">0</td><td style=\"text-align: center\">1</td><td style=\"text-align: center\">.</td><td style=\"text-align: center\">.</td><td style=\"text-align: center\">0</td><td style=\"text-align: center\">1</td><td style=\"text-align: center\">.</td><td style=\"text-align: center\">.</td><td style=\"text-align: center\">0</td><td style=\"text-align: center\">1</td><td style=\"text-align: center\">.</td><td style=\"text-align: center\">.</td><td style=\"text-align: center\">0</td><td style=\"text-align: center\">1</td><td style=\"text-align: center\">.</td><td style=\"text-align: center\">.</td><td style=\"text-align: center\">0</td><td style=\"text-align: center\">1</td><td style=\"text-align: center\">.</td><td style=\"text-align: center\">.</td><td style=\"text-align: center\">0</td><td style=\"text-align: center\">1</td><td style=\"text-align: center\">.</td><td style=\"text-align: center\">.</td><td style=\"text-align: center\">0</td><td style=\"text-align: center\">1</td><td style=\"text-align: center\">.</td><td style=\"text-align: center\">.</td><td style=\"text-align: center\">0</td><td style=\"text-align: center\">1</td><td style=\"text-align: center\">.</td><td style=\"text-align: center\">.</td><td style=\"text-align: center\">0</td><td style=\"text-align: center\">1</td><td style=\"text-align: center\">.</td><td style=\"text-align: center\">.</td><td style=\"text-align: center\">0</td><td style=\"text-align: center\">1</td><td style=\"text-align: center\">.</td><td style=\"text-align: center\">.</td><td style=\"text-align: center\">0</td><td style=\"text-align: center\">1</td><td style=\"text-align: center\">.</td><td style=\"text-align: center\">.</td><td style=\"text-align: center\">0</td><td style=\"text-align: center\">1</td><td style=\"text-align: center\">.</td><td style=\"text-align: center\">.</td><td style=\"text-align: center\">0</td><td style=\"text-align: center\">1</td><td style=\"text-align: center\">.</td><td style=\"text-align: center\">.</td><td style=\"text-align: center\">0</td><td style=\"text-align: center\">1</td><td style=\"text-align: center\">.</td><td style=\"text-align: center\">.</td><td style=\"text-align: center\">0</td><td style=\"text-align: center\">1</td><td style=\"text-align: center\">.</td><td style=\"text-align: center\">.</td><td style=\"text-align: center\">0</td><td style=\"text-align: center\">1</td><td style=\"text-align: center\">.</td><td style=\"text-align: center\">.</td><td style=\"text-align: center\">0</td><td style=\"text-align: center\">1</td><td style=\"text-align: center\">.</td><td style=\"text-align: center\">.</td><td style=\"text-align: center\">0</td><td style=\"text-align: center\">1</td><td style=\"text-align: center\">.</td><td style=\"text-align: center\">.</td><td style=\"text-align: center\">0</td><td style=\"text-align: center\">1</td><td style=\"text-align: center\">.</td><td style=\"text-align: center\">.</td></tr><tr><th style=\"text-align: center; background-color: white; border-right: 1px solid black; \">1</th><td style=\"text-align: center\">0</td><td style=\"text-align: center\">1</td><td style=\"text-align: center\">.</td><td style=\"text-align: center\">.</td><td style=\"text-align: center\">0</td><td style=\"text-align: center\">1</td><td style=\"text-align: center\">.</td><td style=\"text-align: center\">.</td><td style=\"text-align: center\">0</td><td style=\"text-align: center\">1</td><td style=\"text-align: center\">.</td><td style=\"text-align: center\">.</td><td style=\"text-align: center\">0</td><td style=\"text-align: center\">1</td><td style=\"text-align: center\">.</td><td style=\"text-align: center\">.</td><td style=\"text-align: center\">0</td><td style=\"text-align: center\">1</td><td style=\"text-align: center\">.</td><td style=\"text-align: center\">.</td><td style=\"text-align: center\">0</td><td style=\"text-align: center\">1</td><td style=\"text-align: center\">.</td><td style=\"text-align: center\">.</td><td style=\"text-align: center\">0</td><td style=\"text-align: center\">1</td><td style=\"text-align: center\">.</td><td style=\"text-align: center\">.</td><td style=\"text-align: center\">0</td><td style=\"text-align: center\">1</td><td style=\"text-align: center\">.</td><td style=\"text-align: center\">.</td><td style=\"text-align: center\">0</td><td style=\"text-align: center\">1</td><td style=\"text-align: center\">.</td><td style=\"text-align: center\">.</td><td style=\"text-align: center\">0</td><td style=\"text-align: center\">1</td><td style=\"text-align: center\">.</td><td style=\"text-align: center\">.</td><td style=\"text-align: center\">0</td><td style=\"text-align: center\">1</td><td style=\"text-align: center\">.</td><td style=\"text-align: center\">.</td><td style=\"text-align: center\">0</td><td style=\"text-align: center\">1</td><td style=\"text-align: center\">.</td><td style=\"text-align: center\">.</td><td style=\"text-align: center\">0</td><td style=\"text-align: center\">1</td><td style=\"text-align: center\">.</td><td style=\"text-align: center\">.</td><td style=\"text-align: center\">0</td><td style=\"text-align: center\">1</td><td style=\"text-align: center\">.</td><td style=\"text-align: center\">.</td><td style=\"text-align: center\">0</td><td style=\"text-align: center\">1</td><td style=\"text-align: center\">.</td><td style=\"text-align: center\">.</td><td style=\"text-align: center\">0</td><td style=\"text-align: center\">1</td><td style=\"text-align: center\">.</td><td style=\"text-align: center\">.</td><td style=\"text-align: center\">0</td><td style=\"text-align: center\">1</td><td style=\"text-align: center\">.</td><td style=\"text-align: center\">.</td><td style=\"text-align: center\">0</td><td style=\"text-align: center\">1</td><td style=\"text-align: center\">.</td><td style=\"text-align: center\">.</td><td style=\"text-align: center\">0</td><td style=\"text-align: center\">1</td><td style=\"text-align: center\">.</td><td style=\"text-align: center\">.</td><td style=\"text-align: center\">0</td><td style=\"text-align: center\">1</td><td style=\"text-align: center\">.</td><td style=\"text-align: center\">.</td></tr><tr><th style=\"text-align: center; background-color: white; border-right: 1px solid black; \">2</th><td style=\"text-align: center\">0</td><td style=\"text-align: center\">1</td><td style=\"text-align: center\">.</td><td style=\"text-align: center\">.</td><td style=\"text-align: center\">0</td><td style=\"text-align: center\">1</td><td style=\"text-align: center\">.</td><td style=\"text-align: center\">.</td><td style=\"text-align: center\">0</td><td style=\"text-align: center\">1</td><td style=\"text-align: center\">.</td><td style=\"text-align: center\">.</td><td style=\"text-align: center\">0</td><td style=\"text-align: center\">1</td><td style=\"text-align: center\">.</td><td style=\"text-align: center\">.</td><td style=\"text-align: center\">0</td><td style=\"text-align: center\">1</td><td style=\"text-align: center\">.</td><td style=\"text-align: center\">.</td><td style=\"text-align: center\">0</td><td style=\"text-align: center\">1</td><td style=\"text-align: center\">.</td><td style=\"text-align: center\">.</td><td style=\"text-align: center\">0</td><td style=\"text-align: center\">1</td><td style=\"text-align: center\">.</td><td style=\"text-align: center\">.</td><td style=\"text-align: center\">0</td><td style=\"text-align: center\">1</td><td style=\"text-align: center\">.</td><td style=\"text-align: center\">.</td><td style=\"text-align: center\">0</td><td style=\"text-align: center\">1</td><td style=\"text-align: center\">.</td><td style=\"text-align: center\">.</td><td style=\"text-align: center\">0</td><td style=\"text-align: center\">1</td><td style=\"text-align: center\">.</td><td style=\"text-align: center\">.</td><td style=\"text-align: center\">0</td><td style=\"text-align: center\">1</td><td style=\"text-align: center\">.</td><td style=\"text-align: center\">.</td><td style=\"text-align: center\">0</td><td style=\"text-align: center\">1</td><td style=\"text-align: center\">.</td><td style=\"text-align: center\">.</td><td style=\"text-align: center\">0</td><td style=\"text-align: center\">1</td><td style=\"text-align: center\">.</td><td style=\"text-align: center\">.</td><td style=\"text-align: center\">0</td><td style=\"text-align: center\">1</td><td style=\"text-align: center\">.</td><td style=\"text-align: center\">.</td><td style=\"text-align: center\">0</td><td style=\"text-align: center\">1</td><td style=\"text-align: center\">.</td><td style=\"text-align: center\">.</td><td style=\"text-align: center\">0</td><td style=\"text-align: center\">1</td><td style=\"text-align: center\">.</td><td style=\"text-align: center\">.</td><td style=\"text-align: center\">0</td><td style=\"text-align: center\">1</td><td style=\"text-align: center\">.</td><td style=\"text-align: center\">.</td><td style=\"text-align: center\">0</td><td style=\"text-align: center\">1</td><td style=\"text-align: center\">.</td><td style=\"text-align: center\">.</td><td style=\"text-align: center\">0</td><td style=\"text-align: center\">1</td><td style=\"text-align: center\">.</td><td style=\"text-align: center\">.</td><td style=\"text-align: center\">0</td><td style=\"text-align: center\">1</td><td style=\"text-align: center\">.</td><td style=\"text-align: center\">.</td></tr><tr><th style=\"text-align: center; background-color: white; border-right: 1px solid black; \">3</th><td style=\"text-align: center\">0</td><td style=\"text-align: center\">1</td><td style=\"text-align: center\">.</td><td style=\"text-align: center\">.</td><td style=\"text-align: center\">0</td><td style=\"text-align: center\">1</td><td style=\"text-align: center\">.</td><td style=\"text-align: center\">.</td><td style=\"text-align: center\">0</td><td style=\"text-align: center\">1</td><td style=\"text-align: center\">.</td><td style=\"text-align: center\">.</td><td style=\"text-align: center\">0</td><td style=\"text-align: center\">1</td><td style=\"text-align: center\">.</td><td style=\"text-align: center\">.</td><td style=\"text-align: center\">0</td><td style=\"text-align: center\">1</td><td style=\"text-align: center\">.</td><td style=\"text-align: center\">.</td><td style=\"text-align: center\">0</td><td style=\"text-align: center\">1</td><td style=\"text-align: center\">.</td><td style=\"text-align: center\">.</td><td style=\"text-align: center\">0</td><td style=\"text-align: center\">1</td><td style=\"text-align: center\">.</td><td style=\"text-align: center\">.</td><td style=\"text-align: center\">0</td><td style=\"text-align: center\">1</td><td style=\"text-align: center\">.</td><td style=\"text-align: center\">.</td><td style=\"text-align: center\">0</td><td style=\"text-align: center\">1</td><td style=\"text-align: center\">.</td><td style=\"text-align: center\">.</td><td style=\"text-align: center\">0</td><td style=\"text-align: center\">1</td><td style=\"text-align: center\">.</td><td style=\"text-align: center\">.</td><td style=\"text-align: center\">0</td><td style=\"text-align: center\">1</td><td style=\"text-align: center\">.</td><td style=\"text-align: center\">.</td><td style=\"text-align: center\">0</td><td style=\"text-align: center\">1</td><td style=\"text-align: center\">.</td><td style=\"text-align: center\">.</td><td style=\"text-align: center\">0</td><td style=\"text-align: center\">1</td><td style=\"text-align: center\">.</td><td style=\"text-align: center\">.</td><td style=\"text-align: center\">0</td><td style=\"text-align: center\">1</td><td style=\"text-align: center\">.</td><td style=\"text-align: center\">.</td><td style=\"text-align: center\">0</td><td style=\"text-align: center\">1</td><td style=\"text-align: center\">.</td><td style=\"text-align: center\">.</td><td style=\"text-align: center\">0</td><td style=\"text-align: center\">1</td><td style=\"text-align: center\">.</td><td style=\"text-align: center\">.</td><td style=\"text-align: center\">0</td><td style=\"text-align: center\">1</td><td style=\"text-align: center\">.</td><td style=\"text-align: center\">.</td><td style=\"text-align: center\">0</td><td style=\"text-align: center\">1</td><td style=\"text-align: center\">.</td><td style=\"text-align: center\">.</td><td style=\"text-align: center\">0</td><td style=\"text-align: center\">1</td><td style=\"text-align: center\">.</td><td style=\"text-align: center\">.</td><td style=\"text-align: center\">0</td><td style=\"text-align: center\">1</td><td style=\"text-align: center\">.</td><td style=\"text-align: center\">.</td></tr><tr><th style=\"text-align: center; background-color: white; border-right: 1px solid black; \">4</th><td style=\"text-align: center\">0</td><td style=\"text-align: center\">1</td><td style=\"text-align: center\">.</td><td style=\"text-align: center\">.</td><td style=\"text-align: center\">0</td><td style=\"text-align: center\">1</td><td style=\"text-align: center\">.</td><td style=\"text-align: center\">.</td><td style=\"text-align: center\">0</td><td style=\"text-align: center\">1</td><td style=\"text-align: center\">.</td><td style=\"text-align: center\">.</td><td style=\"text-align: center\">0</td><td style=\"text-align: center\">1</td><td style=\"text-align: center\">.</td><td style=\"text-align: center\">.</td><td style=\"text-align: center\">0</td><td style=\"text-align: center\">1</td><td style=\"text-align: center\">.</td><td style=\"text-align: center\">.</td><td style=\"text-align: center\">0</td><td style=\"text-align: center\">1</td><td style=\"text-align: center\">.</td><td style=\"text-align: center\">.</td><td style=\"text-align: center\">0</td><td style=\"text-align: center\">1</td><td style=\"text-align: center\">.</td><td style=\"text-align: center\">.</td><td style=\"text-align: center\">0</td><td style=\"text-align: center\">1</td><td style=\"text-align: center\">.</td><td style=\"text-align: center\">.</td><td style=\"text-align: center\">0</td><td style=\"text-align: center\">1</td><td style=\"text-align: center\">.</td><td style=\"text-align: center\">.</td><td style=\"text-align: center\">0</td><td style=\"text-align: center\">1</td><td style=\"text-align: center\">.</td><td style=\"text-align: center\">.</td><td style=\"text-align: center\">0</td><td style=\"text-align: center\">1</td><td style=\"text-align: center\">.</td><td style=\"text-align: center\">.</td><td style=\"text-align: center\">0</td><td style=\"text-align: center\">1</td><td style=\"text-align: center\">.</td><td style=\"text-align: center\">.</td><td style=\"text-align: center\">0</td><td style=\"text-align: center\">1</td><td style=\"text-align: center\">.</td><td style=\"text-align: center\">.</td><td style=\"text-align: center\">0</td><td style=\"text-align: center\">1</td><td style=\"text-align: center\">.</td><td style=\"text-align: center\">.</td><td style=\"text-align: center\">0</td><td style=\"text-align: center\">1</td><td style=\"text-align: center\">.</td><td style=\"text-align: center\">.</td><td style=\"text-align: center\">0</td><td style=\"text-align: center\">1</td><td style=\"text-align: center\">.</td><td style=\"text-align: center\">.</td><td style=\"text-align: center\">0</td><td style=\"text-align: center\">1</td><td style=\"text-align: center\">.</td><td style=\"text-align: center\">.</td><td style=\"text-align: center\">0</td><td style=\"text-align: center\">1</td><td style=\"text-align: center\">.</td><td style=\"text-align: center\">.</td><td style=\"text-align: center\">0</td><td style=\"text-align: center\">1</td><td style=\"text-align: center\">.</td><td style=\"text-align: center\">.</td><td style=\"text-align: center\">0</td><td style=\"text-align: center\">1</td><td style=\"text-align: center\">.</td><td style=\"text-align: center\">.</td></tr><tr><th style=\"text-align: center; background-color: white; border-right: 1px solid black; \">5</th><td style=\"text-align: center\">0</td><td style=\"text-align: center\">1</td><td style=\"text-align: center\">.</td><td style=\"text-align: center\">.</td><td style=\"text-align: center\">0</td><td style=\"text-align: center\">1</td><td style=\"text-align: center\">.</td><td style=\"text-align: center\">.</td><td style=\"text-align: center\">0</td><td style=\"text-align: center\">1</td><td style=\"text-align: center\">.</td><td style=\"text-align: center\">.</td><td style=\"text-align: center\">0</td><td style=\"text-align: center\">1</td><td style=\"text-align: center\">.</td><td style=\"text-align: center\">.</td><td style=\"text-align: center\">0</td><td style=\"text-align: center\">1</td><td style=\"text-align: center\">.</td><td style=\"text-align: center\">.</td><td style=\"text-align: center\">0</td><td style=\"text-align: center\">1</td><td style=\"text-align: center\">.</td><td style=\"text-align: center\">.</td><td style=\"text-align: center\">0</td><td style=\"text-align: center\">1</td><td style=\"text-align: center\">.</td><td style=\"text-align: center\">.</td><td style=\"text-align: center\">0</td><td style=\"text-align: center\">1</td><td style=\"text-align: center\">.</td><td style=\"text-align: center\">.</td><td style=\"text-align: center\">0</td><td style=\"text-align: center\">1</td><td style=\"text-align: center\">.</td><td style=\"text-align: center\">.</td><td style=\"text-align: center\">0</td><td style=\"text-align: center\">1</td><td style=\"text-align: center\">.</td><td style=\"text-align: center\">.</td><td style=\"text-align: center\">0</td><td style=\"text-align: center\">1</td><td style=\"text-align: center\">.</td><td style=\"text-align: center\">.</td><td style=\"text-align: center\">0</td><td style=\"text-align: center\">1</td><td style=\"text-align: center\">.</td><td style=\"text-align: center\">.</td><td style=\"text-align: center\">0</td><td style=\"text-align: center\">1</td><td style=\"text-align: center\">.</td><td style=\"text-align: center\">.</td><td style=\"text-align: center\">0</td><td style=\"text-align: center\">1</td><td style=\"text-align: center\">.</td><td style=\"text-align: center\">.</td><td style=\"text-align: center\">0</td><td style=\"text-align: center\">1</td><td style=\"text-align: center\">.</td><td style=\"text-align: center\">.</td><td style=\"text-align: center\">0</td><td style=\"text-align: center\">1</td><td style=\"text-align: center\">.</td><td style=\"text-align: center\">.</td><td style=\"text-align: center\">0</td><td style=\"text-align: center\">1</td><td style=\"text-align: center\">.</td><td style=\"text-align: center\">.</td><td style=\"text-align: center\">0</td><td style=\"text-align: center\">1</td><td style=\"text-align: center\">.</td><td style=\"text-align: center\">.</td><td style=\"text-align: center\">0</td><td style=\"text-align: center\">1</td><td style=\"text-align: center\">.</td><td style=\"text-align: center\">.</td><td style=\"text-align: center\">0</td><td style=\"text-align: center\">1</td><td style=\"text-align: center\">.</td><td style=\"text-align: center\">.</td></tr><tr><th style=\"text-align: center; background-color: white; border-right: 1px solid black; \">6</th><td style=\"text-align: center\">0</td><td style=\"text-align: center\">1</td><td style=\"text-align: center\">.</td><td style=\"text-align: center\">.</td><td style=\"text-align: center\">0</td><td style=\"text-align: center\">1</td><td style=\"text-align: center\">.</td><td style=\"text-align: center\">.</td><td style=\"text-align: center\">0</td><td style=\"text-align: center\">1</td><td style=\"text-align: center\">.</td><td style=\"text-align: center\">.</td><td style=\"text-align: center\">0</td><td style=\"text-align: center\">1</td><td style=\"text-align: center\">.</td><td style=\"text-align: center\">.</td><td style=\"text-align: center\">0</td><td style=\"text-align: center\">1</td><td style=\"text-align: center\">.</td><td style=\"text-align: center\">.</td><td style=\"text-align: center\">0</td><td style=\"text-align: center\">1</td><td style=\"text-align: center\">.</td><td style=\"text-align: center\">.</td><td style=\"text-align: center\">0</td><td style=\"text-align: center\">1</td><td style=\"text-align: center\">.</td><td style=\"text-align: center\">.</td><td style=\"text-align: center\">0</td><td style=\"text-align: center\">1</td><td style=\"text-align: center\">.</td><td style=\"text-align: center\">.</td><td style=\"text-align: center\">0</td><td style=\"text-align: center\">1</td><td style=\"text-align: center\">.</td><td style=\"text-align: center\">.</td><td style=\"text-align: center\">0</td><td style=\"text-align: center\">1</td><td style=\"text-align: center\">.</td><td style=\"text-align: center\">.</td><td style=\"text-align: center\">0</td><td style=\"text-align: center\">1</td><td style=\"text-align: center\">.</td><td style=\"text-align: center\">.</td><td style=\"text-align: center\">0</td><td style=\"text-align: center\">1</td><td style=\"text-align: center\">.</td><td style=\"text-align: center\">.</td><td style=\"text-align: center\">0</td><td style=\"text-align: center\">1</td><td style=\"text-align: center\">.</td><td style=\"text-align: center\">.</td><td style=\"text-align: center\">0</td><td style=\"text-align: center\">1</td><td style=\"text-align: center\">.</td><td style=\"text-align: center\">.</td><td style=\"text-align: center\">0</td><td style=\"text-align: center\">1</td><td style=\"text-align: center\">.</td><td style=\"text-align: center\">.</td><td style=\"text-align: center\">0</td><td style=\"text-align: center\">1</td><td style=\"text-align: center\">.</td><td style=\"text-align: center\">.</td><td style=\"text-align: center\">0</td><td style=\"text-align: center\">1</td><td style=\"text-align: center\">.</td><td style=\"text-align: center\">.</td><td style=\"text-align: center\">0</td><td style=\"text-align: center\">1</td><td style=\"text-align: center\">.</td><td style=\"text-align: center\">.</td><td style=\"text-align: center\">0</td><td style=\"text-align: center\">1</td><td style=\"text-align: center\">.</td><td style=\"text-align: center\">.</td><td style=\"text-align: center\">0</td><td style=\"text-align: center\">1</td><td style=\"text-align: center\">.</td><td style=\"text-align: center\">.</td></tr><tr><th style=\"text-align: center; background-color: white; border-right: 1px solid black; \">7</th><td style=\"text-align: center\">0</td><td style=\"text-align: center\">1</td><td style=\"text-align: center\">.</td><td style=\"text-align: center\">.</td><td style=\"text-align: center\">0</td><td style=\"text-align: center\">1</td><td style=\"text-align: center\">.</td><td style=\"text-align: center\">.</td><td style=\"text-align: center\">0</td><td style=\"text-align: center\">1</td><td style=\"text-align: center\">.</td><td style=\"text-align: center\">.</td><td style=\"text-align: center\">0</td><td style=\"text-align: center\">1</td><td style=\"text-align: center\">.</td><td style=\"text-align: center\">.</td><td style=\"text-align: center\">0</td><td style=\"text-align: center\">1</td><td style=\"text-align: center\">.</td><td style=\"text-align: center\">.</td><td style=\"text-align: center\">0</td><td style=\"text-align: center\">1</td><td style=\"text-align: center\">.</td><td style=\"text-align: center\">.</td><td style=\"text-align: center\">0</td><td style=\"text-align: center\">1</td><td style=\"text-align: center\">.</td><td style=\"text-align: center\">.</td><td style=\"text-align: center\">0</td><td style=\"text-align: center\">1</td><td style=\"text-align: center\">.</td><td style=\"text-align: center\">.</td><td style=\"text-align: center\">0</td><td style=\"text-align: center\">1</td><td style=\"text-align: center\">.</td><td style=\"text-align: center\">.</td><td style=\"text-align: center\">0</td><td style=\"text-align: center\">1</td><td style=\"text-align: center\">.</td><td style=\"text-align: center\">.</td><td style=\"text-align: center\">0</td><td style=\"text-align: center\">1</td><td style=\"text-align: center\">.</td><td style=\"text-align: center\">.</td><td style=\"text-align: center\">0</td><td style=\"text-align: center\">1</td><td style=\"text-align: center\">.</td><td style=\"text-align: center\">.</td><td style=\"text-align: center\">0</td><td style=\"text-align: center\">1</td><td style=\"text-align: center\">.</td><td style=\"text-align: center\">.</td><td style=\"text-align: center\">0</td><td style=\"text-align: center\">1</td><td style=\"text-align: center\">.</td><td style=\"text-align: center\">.</td><td style=\"text-align: center\">0</td><td style=\"text-align: center\">1</td><td style=\"text-align: center\">.</td><td style=\"text-align: center\">.</td><td style=\"text-align: center\">0</td><td style=\"text-align: center\">1</td><td style=\"text-align: center\">.</td><td style=\"text-align: center\">.</td><td style=\"text-align: center\">0</td><td style=\"text-align: center\">1</td><td style=\"text-align: center\">.</td><td style=\"text-align: center\">.</td><td style=\"text-align: center\">0</td><td style=\"text-align: center\">1</td><td style=\"text-align: center\">.</td><td style=\"text-align: center\">.</td><td style=\"text-align: center\">0</td><td style=\"text-align: center\">1</td><td style=\"text-align: center\">.</td><td style=\"text-align: center\">.</td><td style=\"text-align: center\">0</td><td style=\"text-align: center\">1</td><td style=\"text-align: center\">.</td><td style=\"text-align: center\">.</td></tr><tr><th style=\"text-align: center; background-color: white; border-right: 1px solid black; \">8</th><td style=\"text-align: center\">0</td><td style=\"text-align: center\">1</td><td style=\"text-align: center\">.</td><td style=\"text-align: center\">.</td><td style=\"text-align: center\">0</td><td style=\"text-align: center\">1</td><td style=\"text-align: center\">.</td><td style=\"text-align: center\">.</td><td style=\"text-align: center\">0</td><td style=\"text-align: center\">1</td><td style=\"text-align: center\">.</td><td style=\"text-align: center\">.</td><td style=\"text-align: center\">0</td><td style=\"text-align: center\">1</td><td style=\"text-align: center\">.</td><td style=\"text-align: center\">.</td><td style=\"text-align: center\">0</td><td style=\"text-align: center\">1</td><td style=\"text-align: center\">.</td><td style=\"text-align: center\">.</td><td style=\"text-align: center\">0</td><td style=\"text-align: center\">1</td><td style=\"text-align: center\">.</td><td style=\"text-align: center\">.</td><td style=\"text-align: center\">0</td><td style=\"text-align: center\">1</td><td style=\"text-align: center\">.</td><td style=\"text-align: center\">.</td><td style=\"text-align: center\">0</td><td style=\"text-align: center\">1</td><td style=\"text-align: center\">.</td><td style=\"text-align: center\">.</td><td style=\"text-align: center\">0</td><td style=\"text-align: center\">1</td><td style=\"text-align: center\">.</td><td style=\"text-align: center\">.</td><td style=\"text-align: center\">0</td><td style=\"text-align: center\">1</td><td style=\"text-align: center\">.</td><td style=\"text-align: center\">.</td><td style=\"text-align: center\">0</td><td style=\"text-align: center\">1</td><td style=\"text-align: center\">.</td><td style=\"text-align: center\">.</td><td style=\"text-align: center\">0</td><td style=\"text-align: center\">1</td><td style=\"text-align: center\">.</td><td style=\"text-align: center\">.</td><td style=\"text-align: center\">0</td><td style=\"text-align: center\">1</td><td style=\"text-align: center\">.</td><td style=\"text-align: center\">.</td><td style=\"text-align: center\">0</td><td style=\"text-align: center\">1</td><td style=\"text-align: center\">.</td><td style=\"text-align: center\">.</td><td style=\"text-align: center\">0</td><td style=\"text-align: center\">1</td><td style=\"text-align: center\">.</td><td style=\"text-align: center\">.</td><td style=\"text-align: center\">0</td><td style=\"text-align: center\">1</td><td style=\"text-align: center\">.</td><td style=\"text-align: center\">.</td><td style=\"text-align: center\">0</td><td style=\"text-align: center\">1</td><td style=\"text-align: center\">.</td><td style=\"text-align: center\">.</td><td style=\"text-align: center\">0</td><td style=\"text-align: center\">1</td><td style=\"text-align: center\">.</td><td style=\"text-align: center\">.</td><td style=\"text-align: center\">0</td><td style=\"text-align: center\">1</td><td style=\"text-align: center\">.</td><td style=\"text-align: center\">.</td><td style=\"text-align: center\">0</td><td style=\"text-align: center\">1</td><td style=\"text-align: center\">.</td><td style=\"text-align: center\">.</td></tr><tr><th style=\"text-align: center; background-color: white; border-right: 1px solid black; \">9</th><td style=\"text-align: center\">0</td><td style=\"text-align: center\">1</td><td style=\"text-align: center\">.</td><td style=\"text-align: center\">.</td><td style=\"text-align: center\">0</td><td style=\"text-align: center\">1</td><td style=\"text-align: center\">.</td><td style=\"text-align: center\">.</td><td style=\"text-align: center\">0</td><td style=\"text-align: center\">1</td><td style=\"text-align: center\">.</td><td style=\"text-align: center\">.</td><td style=\"text-align: center\">0</td><td style=\"text-align: center\">1</td><td style=\"text-align: center\">.</td><td style=\"text-align: center\">.</td><td style=\"text-align: center\">0</td><td style=\"text-align: center\">1</td><td style=\"text-align: center\">.</td><td style=\"text-align: center\">.</td><td style=\"text-align: center\">0</td><td style=\"text-align: center\">1</td><td style=\"text-align: center\">.</td><td style=\"text-align: center\">.</td><td style=\"text-align: center\">0</td><td style=\"text-align: center\">1</td><td style=\"text-align: center\">.</td><td style=\"text-align: center\">.</td><td style=\"text-align: center\">0</td><td style=\"text-align: center\">1</td><td style=\"text-align: center\">.</td><td style=\"text-align: center\">.</td><td style=\"text-align: center\">0</td><td style=\"text-align: center\">1</td><td style=\"text-align: center\">.</td><td style=\"text-align: center\">.</td><td style=\"text-align: center\">0</td><td style=\"text-align: center\">1</td><td style=\"text-align: center\">.</td><td style=\"text-align: center\">.</td><td style=\"text-align: center\">0</td><td style=\"text-align: center\">1</td><td style=\"text-align: center\">.</td><td style=\"text-align: center\">.</td><td style=\"text-align: center\">0</td><td style=\"text-align: center\">1</td><td style=\"text-align: center\">.</td><td style=\"text-align: center\">.</td><td style=\"text-align: center\">0</td><td style=\"text-align: center\">1</td><td style=\"text-align: center\">.</td><td style=\"text-align: center\">.</td><td style=\"text-align: center\">0</td><td style=\"text-align: center\">1</td><td style=\"text-align: center\">.</td><td style=\"text-align: center\">.</td><td style=\"text-align: center\">0</td><td style=\"text-align: center\">1</td><td style=\"text-align: center\">.</td><td style=\"text-align: center\">.</td><td style=\"text-align: center\">0</td><td style=\"text-align: center\">1</td><td style=\"text-align: center\">.</td><td style=\"text-align: center\">.</td><td style=\"text-align: center\">0</td><td style=\"text-align: center\">1</td><td style=\"text-align: center\">.</td><td style=\"text-align: center\">.</td><td style=\"text-align: center\">0</td><td style=\"text-align: center\">1</td><td style=\"text-align: center\">.</td><td style=\"text-align: center\">.</td><td style=\"text-align: center\">0</td><td style=\"text-align: center\">1</td><td style=\"text-align: center\">.</td><td style=\"text-align: center\">.</td><td style=\"text-align: center\">0</td><td style=\"text-align: center\">1</td><td style=\"text-align: center\">.</td><td style=\"text-align: center\">.</td></tr><tr><th style=\"text-align: center; background-color: white; border-right: 1px solid black; \">10</th><td style=\"text-align: center\">0</td><td style=\"text-align: center\">1</td><td style=\"text-align: center\">.</td><td style=\"text-align: center\">.</td><td style=\"text-align: center\">0</td><td style=\"text-align: center\">1</td><td style=\"text-align: center\">.</td><td style=\"text-align: center\">.</td><td style=\"text-align: center\">0</td><td style=\"text-align: center\">1</td><td style=\"text-align: center\">.</td><td style=\"text-align: center\">.</td><td style=\"text-align: center\">0</td><td style=\"text-align: center\">1</td><td style=\"text-align: center\">.</td><td style=\"text-align: center\">.</td><td style=\"text-align: center\">0</td><td style=\"text-align: center\">1</td><td style=\"text-align: center\">.</td><td style=\"text-align: center\">.</td><td style=\"text-align: center\">0</td><td style=\"text-align: center\">1</td><td style=\"text-align: center\">.</td><td style=\"text-align: center\">.</td><td style=\"text-align: center\">0</td><td style=\"text-align: center\">1</td><td style=\"text-align: center\">.</td><td style=\"text-align: center\">.</td><td style=\"text-align: center\">0</td><td style=\"text-align: center\">1</td><td style=\"text-align: center\">.</td><td style=\"text-align: center\">.</td><td style=\"text-align: center\">0</td><td style=\"text-align: center\">1</td><td style=\"text-align: center\">.</td><td style=\"text-align: center\">.</td><td style=\"text-align: center\">0</td><td style=\"text-align: center\">1</td><td style=\"text-align: center\">.</td><td style=\"text-align: center\">.</td><td style=\"text-align: center\">0</td><td style=\"text-align: center\">1</td><td style=\"text-align: center\">.</td><td style=\"text-align: center\">.</td><td style=\"text-align: center\">0</td><td style=\"text-align: center\">1</td><td style=\"text-align: center\">.</td><td style=\"text-align: center\">.</td><td style=\"text-align: center\">0</td><td style=\"text-align: center\">1</td><td style=\"text-align: center\">.</td><td style=\"text-align: center\">.</td><td style=\"text-align: center\">0</td><td style=\"text-align: center\">1</td><td style=\"text-align: center\">.</td><td style=\"text-align: center\">.</td><td style=\"text-align: center\">0</td><td style=\"text-align: center\">1</td><td style=\"text-align: center\">.</td><td style=\"text-align: center\">.</td><td style=\"text-align: center\">0</td><td style=\"text-align: center\">1</td><td style=\"text-align: center\">.</td><td style=\"text-align: center\">.</td><td style=\"text-align: center\">0</td><td style=\"text-align: center\">1</td><td style=\"text-align: center\">.</td><td style=\"text-align: center\">.</td><td style=\"text-align: center\">0</td><td style=\"text-align: center\">1</td><td style=\"text-align: center\">.</td><td style=\"text-align: center\">.</td><td style=\"text-align: center\">0</td><td style=\"text-align: center\">1</td><td style=\"text-align: center\">.</td><td style=\"text-align: center\">.</td><td style=\"text-align: center\">0</td><td style=\"text-align: center\">1</td><td style=\"text-align: center\">.</td><td style=\"text-align: center\">.</td></tr><tr><th style=\"text-align: center; background-color: white; border-right: 1px solid black; \">11</th><td style=\"text-align: center\">0</td><td style=\"text-align: center\">1</td><td style=\"text-align: center\">.</td><td style=\"text-align: center\">.</td><td style=\"text-align: center\">0</td><td style=\"text-align: center\">1</td><td style=\"text-align: center\">.</td><td style=\"text-align: center\">.</td><td style=\"text-align: center\">0</td><td style=\"text-align: center\">1</td><td style=\"text-align: center\">.</td><td style=\"text-align: center\">.</td><td style=\"text-align: center\">0</td><td style=\"text-align: center\">1</td><td style=\"text-align: center\">.</td><td style=\"text-align: center\">.</td><td style=\"text-align: center\">0</td><td style=\"text-align: center\">1</td><td style=\"text-align: center\">.</td><td style=\"text-align: center\">.</td><td style=\"text-align: center\">0</td><td style=\"text-align: center\">1</td><td style=\"text-align: center\">.</td><td style=\"text-align: center\">.</td><td style=\"text-align: center\">0</td><td style=\"text-align: center\">1</td><td style=\"text-align: center\">.</td><td style=\"text-align: center\">.</td><td style=\"text-align: center\">0</td><td style=\"text-align: center\">1</td><td style=\"text-align: center\">.</td><td style=\"text-align: center\">.</td><td style=\"text-align: center\">0</td><td style=\"text-align: center\">1</td><td style=\"text-align: center\">.</td><td style=\"text-align: center\">.</td><td style=\"text-align: center\">0</td><td style=\"text-align: center\">1</td><td style=\"text-align: center\">.</td><td style=\"text-align: center\">.</td><td style=\"text-align: center\">0</td><td style=\"text-align: center\">1</td><td style=\"text-align: center\">.</td><td style=\"text-align: center\">.</td><td style=\"text-align: center\">0</td><td style=\"text-align: center\">1</td><td style=\"text-align: center\">.</td><td style=\"text-align: center\">.</td><td style=\"text-align: center\">0</td><td style=\"text-align: center\">1</td><td style=\"text-align: center\">.</td><td style=\"text-align: center\">.</td><td style=\"text-align: center\">0</td><td style=\"text-align: center\">1</td><td style=\"text-align: center\">.</td><td style=\"text-align: center\">.</td><td style=\"text-align: center\">0</td><td style=\"text-align: center\">1</td><td style=\"text-align: center\">.</td><td style=\"text-align: center\">.</td><td style=\"text-align: center\">0</td><td style=\"text-align: center\">1</td><td style=\"text-align: center\">.</td><td style=\"text-align: center\">.</td><td style=\"text-align: center\">0</td><td style=\"text-align: center\">1</td><td style=\"text-align: center\">.</td><td style=\"text-align: center\">.</td><td style=\"text-align: center\">0</td><td style=\"text-align: center\">1</td><td style=\"text-align: center\">.</td><td style=\"text-align: center\">.</td><td style=\"text-align: center\">0</td><td style=\"text-align: center\">1</td><td style=\"text-align: center\">.</td><td style=\"text-align: center\">.</td><td style=\"text-align: center\">0</td><td style=\"text-align: center\">1</td><td style=\"text-align: center\">.</td><td style=\"text-align: center\">.</td></tr><tr><th style=\"text-align: center; background-color: white; border-right: 1px solid black; \">12</th><td style=\"text-align: center\">0</td><td style=\"text-align: center\">1</td><td style=\"text-align: center\">.</td><td style=\"text-align: center\">.</td><td style=\"text-align: center\">0</td><td style=\"text-align: center\">1</td><td style=\"text-align: center\">.</td><td style=\"text-align: center\">.</td><td style=\"text-align: center\">0</td><td style=\"text-align: center\">1</td><td style=\"text-align: center\">.</td><td style=\"text-align: center\">.</td><td style=\"text-align: center\">0</td><td style=\"text-align: center\">1</td><td style=\"text-align: center\">.</td><td style=\"text-align: center\">.</td><td style=\"text-align: center\">0</td><td style=\"text-align: center\">1</td><td style=\"text-align: center\">.</td><td style=\"text-align: center\">.</td><td style=\"text-align: center\">0</td><td style=\"text-align: center\">1</td><td style=\"text-align: center\">.</td><td style=\"text-align: center\">.</td><td style=\"text-align: center\">0</td><td style=\"text-align: center\">1</td><td style=\"text-align: center\">.</td><td style=\"text-align: center\">.</td><td style=\"text-align: center\">0</td><td style=\"text-align: center\">1</td><td style=\"text-align: center\">.</td><td style=\"text-align: center\">.</td><td style=\"text-align: center\">0</td><td style=\"text-align: center\">1</td><td style=\"text-align: center\">.</td><td style=\"text-align: center\">.</td><td style=\"text-align: center\">0</td><td style=\"text-align: center\">1</td><td style=\"text-align: center\">.</td><td style=\"text-align: center\">.</td><td style=\"text-align: center\">0</td><td style=\"text-align: center\">1</td><td style=\"text-align: center\">.</td><td style=\"text-align: center\">.</td><td style=\"text-align: center\">0</td><td style=\"text-align: center\">1</td><td style=\"text-align: center\">.</td><td style=\"text-align: center\">.</td><td style=\"text-align: center\">0</td><td style=\"text-align: center\">1</td><td style=\"text-align: center\">.</td><td style=\"text-align: center\">.</td><td style=\"text-align: center\">0</td><td style=\"text-align: center\">1</td><td style=\"text-align: center\">.</td><td style=\"text-align: center\">.</td><td style=\"text-align: center\">0</td><td style=\"text-align: center\">1</td><td style=\"text-align: center\">.</td><td style=\"text-align: center\">.</td><td style=\"text-align: center\">0</td><td style=\"text-align: center\">1</td><td style=\"text-align: center\">.</td><td style=\"text-align: center\">.</td><td style=\"text-align: center\">0</td><td style=\"text-align: center\">1</td><td style=\"text-align: center\">.</td><td style=\"text-align: center\">.</td><td style=\"text-align: center\">0</td><td style=\"text-align: center\">1</td><td style=\"text-align: center\">.</td><td style=\"text-align: center\">.</td><td style=\"text-align: center\">0</td><td style=\"text-align: center\">1</td><td style=\"text-align: center\">.</td><td style=\"text-align: center\">.</td><td style=\"text-align: center\">0</td><td style=\"text-align: center\">1</td><td style=\"text-align: center\">.</td><td style=\"text-align: center\">.</td></tr><tr><th style=\"text-align: center; background-color: white; border-right: 1px solid black; \">13</th><td style=\"text-align: center\">0</td><td style=\"text-align: center\">1</td><td style=\"text-align: center\">.</td><td style=\"text-align: center\">.</td><td style=\"text-align: center\">0</td><td style=\"text-align: center\">1</td><td style=\"text-align: center\">.</td><td style=\"text-align: center\">.</td><td style=\"text-align: center\">0</td><td style=\"text-align: center\">1</td><td style=\"text-align: center\">.</td><td style=\"text-align: center\">.</td><td style=\"text-align: center\">0</td><td style=\"text-align: center\">1</td><td style=\"text-align: center\">.</td><td style=\"text-align: center\">.</td><td style=\"text-align: center\">0</td><td style=\"text-align: center\">1</td><td style=\"text-align: center\">.</td><td style=\"text-align: center\">.</td><td style=\"text-align: center\">0</td><td style=\"text-align: center\">1</td><td style=\"text-align: center\">.</td><td style=\"text-align: center\">.</td><td style=\"text-align: center\">0</td><td style=\"text-align: center\">1</td><td style=\"text-align: center\">.</td><td style=\"text-align: center\">.</td><td style=\"text-align: center\">0</td><td style=\"text-align: center\">1</td><td style=\"text-align: center\">.</td><td style=\"text-align: center\">.</td><td style=\"text-align: center\">0</td><td style=\"text-align: center\">1</td><td style=\"text-align: center\">.</td><td style=\"text-align: center\">.</td><td style=\"text-align: center\">0</td><td style=\"text-align: center\">1</td><td style=\"text-align: center\">.</td><td style=\"text-align: center\">.</td><td style=\"text-align: center\">0</td><td style=\"text-align: center\">1</td><td style=\"text-align: center\">.</td><td style=\"text-align: center\">.</td><td style=\"text-align: center\">0</td><td style=\"text-align: center\">1</td><td style=\"text-align: center\">.</td><td style=\"text-align: center\">.</td><td style=\"text-align: center\">0</td><td style=\"text-align: center\">1</td><td style=\"text-align: center\">.</td><td style=\"text-align: center\">.</td><td style=\"text-align: center\">0</td><td style=\"text-align: center\">1</td><td style=\"text-align: center\">.</td><td style=\"text-align: center\">.</td><td style=\"text-align: center\">0</td><td style=\"text-align: center\">1</td><td style=\"text-align: center\">.</td><td style=\"text-align: center\">.</td><td style=\"text-align: center\">0</td><td style=\"text-align: center\">1</td><td style=\"text-align: center\">.</td><td style=\"text-align: center\">.</td><td style=\"text-align: center\">0</td><td style=\"text-align: center\">1</td><td style=\"text-align: center\">.</td><td style=\"text-align: center\">.</td><td style=\"text-align: center\">0</td><td style=\"text-align: center\">1</td><td style=\"text-align: center\">.</td><td style=\"text-align: center\">.</td><td style=\"text-align: center\">0</td><td style=\"text-align: center\">1</td><td style=\"text-align: center\">.</td><td style=\"text-align: center\">.</td><td style=\"text-align: center\">0</td><td style=\"text-align: center\">1</td><td style=\"text-align: center\">.</td><td style=\"text-align: center\">.</td></tr><tr><th style=\"text-align: center; background-color: white; border-right: 1px solid black; \">14</th><td style=\"text-align: center\">0</td><td style=\"text-align: center\">1</td><td style=\"text-align: center\">.</td><td style=\"text-align: center\">.</td><td style=\"text-align: center\">0</td><td style=\"text-align: center\">1</td><td style=\"text-align: center\">.</td><td style=\"text-align: center\">.</td><td style=\"text-align: center\">0</td><td style=\"text-align: center\">1</td><td style=\"text-align: center\">.</td><td style=\"text-align: center\">.</td><td style=\"text-align: center\">0</td><td style=\"text-align: center\">1</td><td style=\"text-align: center\">.</td><td style=\"text-align: center\">.</td><td style=\"text-align: center\">0</td><td style=\"text-align: center\">1</td><td style=\"text-align: center\">.</td><td style=\"text-align: center\">.</td><td style=\"text-align: center\">0</td><td style=\"text-align: center\">1</td><td style=\"text-align: center\">.</td><td style=\"text-align: center\">.</td><td style=\"text-align: center\">0</td><td style=\"text-align: center\">1</td><td style=\"text-align: center\">.</td><td style=\"text-align: center\">.</td><td style=\"text-align: center\">0</td><td style=\"text-align: center\">1</td><td style=\"text-align: center\">.</td><td style=\"text-align: center\">.</td><td style=\"text-align: center\">0</td><td style=\"text-align: center\">1</td><td style=\"text-align: center\">.</td><td style=\"text-align: center\">.</td><td style=\"text-align: center\">0</td><td style=\"text-align: center\">1</td><td style=\"text-align: center\">.</td><td style=\"text-align: center\">.</td><td style=\"text-align: center\">0</td><td style=\"text-align: center\">1</td><td style=\"text-align: center\">.</td><td style=\"text-align: center\">.</td><td style=\"text-align: center\">0</td><td style=\"text-align: center\">1</td><td style=\"text-align: center\">.</td><td style=\"text-align: center\">.</td><td style=\"text-align: center\">0</td><td style=\"text-align: center\">1</td><td style=\"text-align: center\">.</td><td style=\"text-align: center\">.</td><td style=\"text-align: center\">0</td><td style=\"text-align: center\">1</td><td style=\"text-align: center\">.</td><td style=\"text-align: center\">.</td><td style=\"text-align: center\">0</td><td style=\"text-align: center\">1</td><td style=\"text-align: center\">.</td><td style=\"text-align: center\">.</td><td style=\"text-align: center\">0</td><td style=\"text-align: center\">1</td><td style=\"text-align: center\">.</td><td style=\"text-align: center\">.</td><td style=\"text-align: center\">0</td><td style=\"text-align: center\">1</td><td style=\"text-align: center\">.</td><td style=\"text-align: center\">.</td><td style=\"text-align: center\">0</td><td style=\"text-align: center\">1</td><td style=\"text-align: center\">.</td><td style=\"text-align: center\">.</td><td style=\"text-align: center\">0</td><td style=\"text-align: center\">1</td><td style=\"text-align: center\">.</td><td style=\"text-align: center\">.</td><td style=\"text-align: center\">0</td><td style=\"text-align: center\">1</td><td style=\"text-align: center\">.</td><td style=\"text-align: center\">.</td></tr><tr><th style=\"text-align: center; background-color: white; border-right: 1px solid black; \">15</th><td style=\"text-align: center\">0</td><td style=\"text-align: center\">1</td><td style=\"text-align: center\">.</td><td style=\"text-align: center\">.</td><td style=\"text-align: center\">0</td><td style=\"text-align: center\">1</td><td style=\"text-align: center\">.</td><td style=\"text-align: center\">.</td><td style=\"text-align: center\">0</td><td style=\"text-align: center\">1</td><td style=\"text-align: center\">.</td><td style=\"text-align: center\">.</td><td style=\"text-align: center\">0</td><td style=\"text-align: center\">1</td><td style=\"text-align: center\">.</td><td style=\"text-align: center\">.</td><td style=\"text-align: center\">0</td><td style=\"text-align: center\">1</td><td style=\"text-align: center\">.</td><td style=\"text-align: center\">.</td><td style=\"text-align: center\">0</td><td style=\"text-align: center\">1</td><td style=\"text-align: center\">.</td><td style=\"text-align: center\">.</td><td style=\"text-align: center\">0</td><td style=\"text-align: center\">1</td><td style=\"text-align: center\">.</td><td style=\"text-align: center\">.</td><td style=\"text-align: center\">0</td><td style=\"text-align: center\">1</td><td style=\"text-align: center\">.</td><td style=\"text-align: center\">.</td><td style=\"text-align: center\">0</td><td style=\"text-align: center\">1</td><td style=\"text-align: center\">.</td><td style=\"text-align: center\">.</td><td style=\"text-align: center\">0</td><td style=\"text-align: center\">1</td><td style=\"text-align: center\">.</td><td style=\"text-align: center\">.</td><td style=\"text-align: center\">0</td><td style=\"text-align: center\">1</td><td style=\"text-align: center\">.</td><td style=\"text-align: center\">.</td><td style=\"text-align: center\">0</td><td style=\"text-align: center\">1</td><td style=\"text-align: center\">.</td><td style=\"text-align: center\">.</td><td style=\"text-align: center\">0</td><td style=\"text-align: center\">1</td><td style=\"text-align: center\">.</td><td style=\"text-align: center\">.</td><td style=\"text-align: center\">0</td><td style=\"text-align: center\">1</td><td style=\"text-align: center\">.</td><td style=\"text-align: center\">.</td><td style=\"text-align: center\">0</td><td style=\"text-align: center\">1</td><td style=\"text-align: center\">.</td><td style=\"text-align: center\">.</td><td style=\"text-align: center\">0</td><td style=\"text-align: center\">1</td><td style=\"text-align: center\">.</td><td style=\"text-align: center\">.</td><td style=\"text-align: center\">0</td><td style=\"text-align: center\">1</td><td style=\"text-align: center\">.</td><td style=\"text-align: center\">.</td><td style=\"text-align: center\">0</td><td style=\"text-align: center\">1</td><td style=\"text-align: center\">.</td><td style=\"text-align: center\">.</td><td style=\"text-align: center\">0</td><td style=\"text-align: center\">1</td><td style=\"text-align: center\">.</td><td style=\"text-align: center\">.</td><td style=\"text-align: center\">0</td><td style=\"text-align: center\">1</td><td style=\"text-align: center\">.</td><td style=\"text-align: center\">.</td></tr><tr><th style=\"text-align: center; background-color: white; border-right: 1px solid black; \">16</th><td style=\"text-align: center\">0</td><td style=\"text-align: center\">1</td><td style=\"text-align: center\">.</td><td style=\"text-align: center\">.</td><td style=\"text-align: center\">0</td><td style=\"text-align: center\">1</td><td style=\"text-align: center\">.</td><td style=\"text-align: center\">.</td><td style=\"text-align: center\">0</td><td style=\"text-align: center\">1</td><td style=\"text-align: center\">.</td><td style=\"text-align: center\">.</td><td style=\"text-align: center\">0</td><td style=\"text-align: center\">1</td><td style=\"text-align: center\">.</td><td style=\"text-align: center\">.</td><td style=\"text-align: center\">0</td><td style=\"text-align: center\">1</td><td style=\"text-align: center\">.</td><td style=\"text-align: center\">.</td><td style=\"text-align: center\">0</td><td style=\"text-align: center\">1</td><td style=\"text-align: center\">.</td><td style=\"text-align: center\">.</td><td style=\"text-align: center\">0</td><td style=\"text-align: center\">1</td><td style=\"text-align: center\">.</td><td style=\"text-align: center\">.</td><td style=\"text-align: center\">0</td><td style=\"text-align: center\">1</td><td style=\"text-align: center\">.</td><td style=\"text-align: center\">.</td><td style=\"text-align: center\">0</td><td style=\"text-align: center\">1</td><td style=\"text-align: center\">.</td><td style=\"text-align: center\">.</td><td style=\"text-align: center\">0</td><td style=\"text-align: center\">1</td><td style=\"text-align: center\">.</td><td style=\"text-align: center\">.</td><td style=\"text-align: center\">0</td><td style=\"text-align: center\">1</td><td style=\"text-align: center\">.</td><td style=\"text-align: center\">.</td><td style=\"text-align: center\">0</td><td style=\"text-align: center\">1</td><td style=\"text-align: center\">.</td><td style=\"text-align: center\">.</td><td style=\"text-align: center\">0</td><td style=\"text-align: center\">1</td><td style=\"text-align: center\">.</td><td style=\"text-align: center\">.</td><td style=\"text-align: center\">0</td><td style=\"text-align: center\">1</td><td style=\"text-align: center\">.</td><td style=\"text-align: center\">.</td><td style=\"text-align: center\">0</td><td style=\"text-align: center\">1</td><td style=\"text-align: center\">.</td><td style=\"text-align: center\">.</td><td style=\"text-align: center\">0</td><td style=\"text-align: center\">1</td><td style=\"text-align: center\">.</td><td style=\"text-align: center\">.</td><td style=\"text-align: center\">0</td><td style=\"text-align: center\">1</td><td style=\"text-align: center\">.</td><td style=\"text-align: center\">.</td><td style=\"text-align: center\">0</td><td style=\"text-align: center\">1</td><td style=\"text-align: center\">.</td><td style=\"text-align: center\">.</td><td style=\"text-align: center\">0</td><td style=\"text-align: center\">1</td><td style=\"text-align: center\">.</td><td style=\"text-align: center\">.</td><td style=\"text-align: center\">0</td><td style=\"text-align: center\">1</td><td style=\"text-align: center\">.</td><td style=\"text-align: center\">.</td></tr><tr><th style=\"text-align: center; background-color: white; border-right: 1px solid black; \">17</th><td style=\"text-align: center\">0</td><td style=\"text-align: center\">1</td><td style=\"text-align: center\">.</td><td style=\"text-align: center\">.</td><td style=\"text-align: center\">0</td><td style=\"text-align: center\">1</td><td style=\"text-align: center\">.</td><td style=\"text-align: center\">.</td><td style=\"text-align: center\">0</td><td style=\"text-align: center\">1</td><td style=\"text-align: center\">.</td><td style=\"text-align: center\">.</td><td style=\"text-align: center\">0</td><td style=\"text-align: center\">1</td><td style=\"text-align: center\">.</td><td style=\"text-align: center\">.</td><td style=\"text-align: center\">0</td><td style=\"text-align: center\">1</td><td style=\"text-align: center\">.</td><td style=\"text-align: center\">.</td><td style=\"text-align: center\">0</td><td style=\"text-align: center\">1</td><td style=\"text-align: center\">.</td><td style=\"text-align: center\">.</td><td style=\"text-align: center\">0</td><td style=\"text-align: center\">1</td><td style=\"text-align: center\">.</td><td style=\"text-align: center\">.</td><td style=\"text-align: center\">0</td><td style=\"text-align: center\">1</td><td style=\"text-align: center\">.</td><td style=\"text-align: center\">.</td><td style=\"text-align: center\">0</td><td style=\"text-align: center\">1</td><td style=\"text-align: center\">.</td><td style=\"text-align: center\">.</td><td style=\"text-align: center\">0</td><td style=\"text-align: center\">1</td><td style=\"text-align: center\">.</td><td style=\"text-align: center\">.</td><td style=\"text-align: center\">0</td><td style=\"text-align: center\">1</td><td style=\"text-align: center\">.</td><td style=\"text-align: center\">.</td><td style=\"text-align: center\">0</td><td style=\"text-align: center\">1</td><td style=\"text-align: center\">.</td><td style=\"text-align: center\">.</td><td style=\"text-align: center\">0</td><td style=\"text-align: center\">1</td><td style=\"text-align: center\">.</td><td style=\"text-align: center\">.</td><td style=\"text-align: center\">0</td><td style=\"text-align: center\">1</td><td style=\"text-align: center\">.</td><td style=\"text-align: center\">.</td><td style=\"text-align: center\">0</td><td style=\"text-align: center\">1</td><td style=\"text-align: center\">.</td><td style=\"text-align: center\">.</td><td style=\"text-align: center\">0</td><td style=\"text-align: center\">1</td><td style=\"text-align: center\">.</td><td style=\"text-align: center\">.</td><td style=\"text-align: center\">0</td><td style=\"text-align: center\">1</td><td style=\"text-align: center\">.</td><td style=\"text-align: center\">.</td><td style=\"text-align: center\">0</td><td style=\"text-align: center\">1</td><td style=\"text-align: center\">.</td><td style=\"text-align: center\">.</td><td style=\"text-align: center\">0</td><td style=\"text-align: center\">1</td><td style=\"text-align: center\">.</td><td style=\"text-align: center\">.</td><td style=\"text-align: center\">0</td><td style=\"text-align: center\">1</td><td style=\"text-align: center\">.</td><td style=\"text-align: center\">.</td></tr><tr><th style=\"text-align: center; background-color: white; border-right: 1px solid black; \">18</th><td style=\"text-align: center\">0</td><td style=\"text-align: center\">1</td><td style=\"text-align: center\">.</td><td style=\"text-align: center\">.</td><td style=\"text-align: center\">0</td><td style=\"text-align: center\">1</td><td style=\"text-align: center\">.</td><td style=\"text-align: center\">.</td><td style=\"text-align: center\">0</td><td style=\"text-align: center\">1</td><td style=\"text-align: center\">.</td><td style=\"text-align: center\">.</td><td style=\"text-align: center\">0</td><td style=\"text-align: center\">1</td><td style=\"text-align: center\">.</td><td style=\"text-align: center\">.</td><td style=\"text-align: center\">0</td><td style=\"text-align: center\">1</td><td style=\"text-align: center\">.</td><td style=\"text-align: center\">.</td><td style=\"text-align: center\">0</td><td style=\"text-align: center\">1</td><td style=\"text-align: center\">.</td><td style=\"text-align: center\">.</td><td style=\"text-align: center\">0</td><td style=\"text-align: center\">1</td><td style=\"text-align: center\">.</td><td style=\"text-align: center\">.</td><td style=\"text-align: center\">0</td><td style=\"text-align: center\">1</td><td style=\"text-align: center\">.</td><td style=\"text-align: center\">.</td><td style=\"text-align: center\">0</td><td style=\"text-align: center\">1</td><td style=\"text-align: center\">.</td><td style=\"text-align: center\">.</td><td style=\"text-align: center\">0</td><td style=\"text-align: center\">1</td><td style=\"text-align: center\">.</td><td style=\"text-align: center\">.</td><td style=\"text-align: center\">0</td><td style=\"text-align: center\">1</td><td style=\"text-align: center\">.</td><td style=\"text-align: center\">.</td><td style=\"text-align: center\">0</td><td style=\"text-align: center\">1</td><td style=\"text-align: center\">.</td><td style=\"text-align: center\">.</td><td style=\"text-align: center\">0</td><td style=\"text-align: center\">1</td><td style=\"text-align: center\">.</td><td style=\"text-align: center\">.</td><td style=\"text-align: center\">0</td><td style=\"text-align: center\">1</td><td style=\"text-align: center\">.</td><td style=\"text-align: center\">.</td><td style=\"text-align: center\">0</td><td style=\"text-align: center\">1</td><td style=\"text-align: center\">.</td><td style=\"text-align: center\">.</td><td style=\"text-align: center\">0</td><td style=\"text-align: center\">1</td><td style=\"text-align: center\">.</td><td style=\"text-align: center\">.</td><td style=\"text-align: center\">0</td><td style=\"text-align: center\">1</td><td style=\"text-align: center\">.</td><td style=\"text-align: center\">.</td><td style=\"text-align: center\">0</td><td style=\"text-align: center\">1</td><td style=\"text-align: center\">.</td><td style=\"text-align: center\">.</td><td style=\"text-align: center\">0</td><td style=\"text-align: center\">1</td><td style=\"text-align: center\">.</td><td style=\"text-align: center\">.</td><td style=\"text-align: center\">0</td><td style=\"text-align: center\">1</td><td style=\"text-align: center\">.</td><td style=\"text-align: center\">.</td></tr><tr><th style=\"text-align: center; background-color: white; border-right: 1px solid black; \">19</th><td style=\"text-align: center\">0</td><td style=\"text-align: center\">1</td><td style=\"text-align: center\">.</td><td style=\"text-align: center\">.</td><td style=\"text-align: center\">0</td><td style=\"text-align: center\">1</td><td style=\"text-align: center\">.</td><td style=\"text-align: center\">.</td><td style=\"text-align: center\">0</td><td style=\"text-align: center\">1</td><td style=\"text-align: center\">.</td><td style=\"text-align: center\">.</td><td style=\"text-align: center\">0</td><td style=\"text-align: center\">1</td><td style=\"text-align: center\">.</td><td style=\"text-align: center\">.</td><td style=\"text-align: center\">0</td><td style=\"text-align: center\">1</td><td style=\"text-align: center\">.</td><td style=\"text-align: center\">.</td><td style=\"text-align: center\">0</td><td style=\"text-align: center\">1</td><td style=\"text-align: center\">.</td><td style=\"text-align: center\">.</td><td style=\"text-align: center\">0</td><td style=\"text-align: center\">1</td><td style=\"text-align: center\">.</td><td style=\"text-align: center\">.</td><td style=\"text-align: center\">0</td><td style=\"text-align: center\">1</td><td style=\"text-align: center\">.</td><td style=\"text-align: center\">.</td><td style=\"text-align: center\">0</td><td style=\"text-align: center\">1</td><td style=\"text-align: center\">.</td><td style=\"text-align: center\">.</td><td style=\"text-align: center\">0</td><td style=\"text-align: center\">1</td><td style=\"text-align: center\">.</td><td style=\"text-align: center\">.</td><td style=\"text-align: center\">0</td><td style=\"text-align: center\">1</td><td style=\"text-align: center\">.</td><td style=\"text-align: center\">.</td><td style=\"text-align: center\">0</td><td style=\"text-align: center\">1</td><td style=\"text-align: center\">.</td><td style=\"text-align: center\">.</td><td style=\"text-align: center\">0</td><td style=\"text-align: center\">1</td><td style=\"text-align: center\">.</td><td style=\"text-align: center\">.</td><td style=\"text-align: center\">0</td><td style=\"text-align: center\">1</td><td style=\"text-align: center\">.</td><td style=\"text-align: center\">.</td><td style=\"text-align: center\">0</td><td style=\"text-align: center\">1</td><td style=\"text-align: center\">.</td><td style=\"text-align: center\">.</td><td style=\"text-align: center\">0</td><td style=\"text-align: center\">1</td><td style=\"text-align: center\">.</td><td style=\"text-align: center\">.</td><td style=\"text-align: center\">0</td><td style=\"text-align: center\">1</td><td style=\"text-align: center\">.</td><td style=\"text-align: center\">.</td><td style=\"text-align: center\">0</td><td style=\"text-align: center\">1</td><td style=\"text-align: center\">.</td><td style=\"text-align: center\">.</td><td style=\"text-align: center\">0</td><td style=\"text-align: center\">1</td><td style=\"text-align: center\">.</td><td style=\"text-align: center\">.</td><td style=\"text-align: center\">0</td><td style=\"text-align: center\">1</td><td style=\"text-align: center\">.</td><td style=\"text-align: center\">.</td></tr></tbody></table></div>"
      ]
     },
     "metadata": {},
     "output_type": "display_data"
    }
   ],
   "source": [
    "h.displayall()"
   ]
  },
  {
   "cell_type": "code",
   "execution_count": 30,
   "metadata": {},
   "outputs": [
    {
     "data": {
      "text/html": [
       "<div class=\"allel allel-DisplayAs2D\"><span>&lt;HaplotypeArray shape=(40, 80) dtype=int64&gt;</span><table><thead><tr><th></th><th style=\"text-align: center\">0</th><th style=\"text-align: center\">1</th><th style=\"text-align: center\">2</th><th style=\"text-align: center\">3</th><th style=\"text-align: center\">4</th><th style=\"text-align: center\">...</th><th style=\"text-align: center\">75</th><th style=\"text-align: center\">76</th><th style=\"text-align: center\">77</th><th style=\"text-align: center\">78</th><th style=\"text-align: center\">79</th></tr></thead><tbody><tr><th style=\"text-align: center; background-color: white; border-right: 1px solid black; \">0</th><td style=\"text-align: center\">0</td><td style=\"text-align: center\">1</td><td style=\"text-align: center\">.</td><td style=\"text-align: center\">.</td><td style=\"text-align: center\">0</td><td style=\"text-align: center\">...</td><td style=\"text-align: center\">.</td><td style=\"text-align: center\">0</td><td style=\"text-align: center\">1</td><td style=\"text-align: center\">.</td><td style=\"text-align: center\">.</td></tr><tr><th style=\"text-align: center; background-color: white; border-right: 1px solid black; \">1</th><td style=\"text-align: center\">0</td><td style=\"text-align: center\">1</td><td style=\"text-align: center\">.</td><td style=\"text-align: center\">.</td><td style=\"text-align: center\">0</td><td style=\"text-align: center\">...</td><td style=\"text-align: center\">.</td><td style=\"text-align: center\">0</td><td style=\"text-align: center\">1</td><td style=\"text-align: center\">.</td><td style=\"text-align: center\">.</td></tr><tr><th style=\"text-align: center; background-color: white; border-right: 1px solid black; \">2</th><td style=\"text-align: center\">0</td><td style=\"text-align: center\">1</td><td style=\"text-align: center\">.</td><td style=\"text-align: center\">.</td><td style=\"text-align: center\">0</td><td style=\"text-align: center\">...</td><td style=\"text-align: center\">.</td><td style=\"text-align: center\">0</td><td style=\"text-align: center\">1</td><td style=\"text-align: center\">.</td><td style=\"text-align: center\">.</td></tr><tr><th style=\"text-align: center; background-color: white; border-right: 1px solid black; \">...</th><td style=\"text-align: center\" colspan=\"12\">...</td></tr><tr><th style=\"text-align: center; background-color: white; border-right: 1px solid black; \">37</th><td style=\"text-align: center\">0</td><td style=\"text-align: center\">1</td><td style=\"text-align: center\">.</td><td style=\"text-align: center\">.</td><td style=\"text-align: center\">0</td><td style=\"text-align: center\">...</td><td style=\"text-align: center\">.</td><td style=\"text-align: center\">0</td><td style=\"text-align: center\">1</td><td style=\"text-align: center\">.</td><td style=\"text-align: center\">.</td></tr><tr><th style=\"text-align: center; background-color: white; border-right: 1px solid black; \">38</th><td style=\"text-align: center\">0</td><td style=\"text-align: center\">1</td><td style=\"text-align: center\">.</td><td style=\"text-align: center\">.</td><td style=\"text-align: center\">0</td><td style=\"text-align: center\">...</td><td style=\"text-align: center\">.</td><td style=\"text-align: center\">0</td><td style=\"text-align: center\">1</td><td style=\"text-align: center\">.</td><td style=\"text-align: center\">.</td></tr><tr><th style=\"text-align: center; background-color: white; border-right: 1px solid black; \">39</th><td style=\"text-align: center\">0</td><td style=\"text-align: center\">1</td><td style=\"text-align: center\">.</td><td style=\"text-align: center\">.</td><td style=\"text-align: center\">0</td><td style=\"text-align: center\">...</td><td style=\"text-align: center\">.</td><td style=\"text-align: center\">0</td><td style=\"text-align: center\">1</td><td style=\"text-align: center\">.</td><td style=\"text-align: center\">.</td></tr></tbody></table></div>"
      ],
      "text/plain": [
       "<HaplotypeArray shape=(40, 80) dtype=int64>\n",
       "0 1 . . 0 ... . 0 1 . .\n",
       "0 1 . . 0 ... . 0 1 . .\n",
       "0 1 . . 0 ... . 0 1 . .\n",
       "...\n",
       "0 1 . . 0 ... . 0 1 . .\n",
       "0 1 . . 0 ... . 0 1 . .\n",
       "0 1 . . 0 ... . 0 1 . ."
      ]
     },
     "execution_count": 30,
     "metadata": {},
     "output_type": "execute_result"
    }
   ],
   "source": [
    "h.concatenate(h)"
   ]
  },
  {
   "cell_type": "code",
   "execution_count": 31,
   "metadata": {},
   "outputs": [
    {
     "data": {
      "text/html": [
       "<div class=\"allel allel-DisplayAs2D\"><span>&lt;HaplotypeArray shape=(20, 160) dtype=int64&gt;</span><table><thead><tr><th></th><th style=\"text-align: center\">0</th><th style=\"text-align: center\">1</th><th style=\"text-align: center\">2</th><th style=\"text-align: center\">3</th><th style=\"text-align: center\">4</th><th style=\"text-align: center\">...</th><th style=\"text-align: center\">155</th><th style=\"text-align: center\">156</th><th style=\"text-align: center\">157</th><th style=\"text-align: center\">158</th><th style=\"text-align: center\">159</th></tr></thead><tbody><tr><th style=\"text-align: center; background-color: white; border-right: 1px solid black; \">0</th><td style=\"text-align: center\">0</td><td style=\"text-align: center\">1</td><td style=\"text-align: center\">.</td><td style=\"text-align: center\">.</td><td style=\"text-align: center\">0</td><td style=\"text-align: center\">...</td><td style=\"text-align: center\">.</td><td style=\"text-align: center\">0</td><td style=\"text-align: center\">1</td><td style=\"text-align: center\">.</td><td style=\"text-align: center\">.</td></tr><tr><th style=\"text-align: center; background-color: white; border-right: 1px solid black; \">1</th><td style=\"text-align: center\">0</td><td style=\"text-align: center\">1</td><td style=\"text-align: center\">.</td><td style=\"text-align: center\">.</td><td style=\"text-align: center\">0</td><td style=\"text-align: center\">...</td><td style=\"text-align: center\">.</td><td style=\"text-align: center\">0</td><td style=\"text-align: center\">1</td><td style=\"text-align: center\">.</td><td style=\"text-align: center\">.</td></tr><tr><th style=\"text-align: center; background-color: white; border-right: 1px solid black; \">2</th><td style=\"text-align: center\">0</td><td style=\"text-align: center\">1</td><td style=\"text-align: center\">.</td><td style=\"text-align: center\">.</td><td style=\"text-align: center\">0</td><td style=\"text-align: center\">...</td><td style=\"text-align: center\">.</td><td style=\"text-align: center\">0</td><td style=\"text-align: center\">1</td><td style=\"text-align: center\">.</td><td style=\"text-align: center\">.</td></tr><tr><th style=\"text-align: center; background-color: white; border-right: 1px solid black; \">...</th><td style=\"text-align: center\" colspan=\"12\">...</td></tr><tr><th style=\"text-align: center; background-color: white; border-right: 1px solid black; \">17</th><td style=\"text-align: center\">0</td><td style=\"text-align: center\">1</td><td style=\"text-align: center\">.</td><td style=\"text-align: center\">.</td><td style=\"text-align: center\">0</td><td style=\"text-align: center\">...</td><td style=\"text-align: center\">.</td><td style=\"text-align: center\">0</td><td style=\"text-align: center\">1</td><td style=\"text-align: center\">.</td><td style=\"text-align: center\">.</td></tr><tr><th style=\"text-align: center; background-color: white; border-right: 1px solid black; \">18</th><td style=\"text-align: center\">0</td><td style=\"text-align: center\">1</td><td style=\"text-align: center\">.</td><td style=\"text-align: center\">.</td><td style=\"text-align: center\">0</td><td style=\"text-align: center\">...</td><td style=\"text-align: center\">.</td><td style=\"text-align: center\">0</td><td style=\"text-align: center\">1</td><td style=\"text-align: center\">.</td><td style=\"text-align: center\">.</td></tr><tr><th style=\"text-align: center; background-color: white; border-right: 1px solid black; \">19</th><td style=\"text-align: center\">0</td><td style=\"text-align: center\">1</td><td style=\"text-align: center\">.</td><td style=\"text-align: center\">.</td><td style=\"text-align: center\">0</td><td style=\"text-align: center\">...</td><td style=\"text-align: center\">.</td><td style=\"text-align: center\">0</td><td style=\"text-align: center\">1</td><td style=\"text-align: center\">.</td><td style=\"text-align: center\">.</td></tr></tbody></table></div>"
      ],
      "text/plain": [
       "<HaplotypeArray shape=(20, 160) dtype=int64>\n",
       "0 1 . . 0 ... . 0 1 . .\n",
       "0 1 . . 0 ... . 0 1 . .\n",
       "0 1 . . 0 ... . 0 1 . .\n",
       "...\n",
       "0 1 . . 0 ... . 0 1 . .\n",
       "0 1 . . 0 ... . 0 1 . .\n",
       "0 1 . . 0 ... . 0 1 . ."
      ]
     },
     "execution_count": 31,
     "metadata": {},
     "output_type": "execute_result"
    }
   ],
   "source": [
    "h.concatenate(h, axis=1)"
   ]
  },
  {
   "cell_type": "markdown",
   "metadata": {},
   "source": [
    "## AlleleCountsArray"
   ]
  },
  {
   "cell_type": "code",
   "execution_count": 32,
   "metadata": {},
   "outputs": [
    {
     "data": {
      "text/html": [
       "<div class=\"allel allel-DisplayAs2D\"><span>&lt;AlleleCountsArray shape=(20, 2) dtype=int32&gt;</span><table><thead><tr><th></th><th style=\"text-align: center\">0</th><th style=\"text-align: center\">1</th></tr></thead><tbody><tr><th style=\"text-align: center; background-color: white; border-right: 1px solid black; \">0</th><td style=\"text-align: center\">20</td><td style=\"text-align: center\">20</td></tr><tr><th style=\"text-align: center; background-color: white; border-right: 1px solid black; \">1</th><td style=\"text-align: center\">20</td><td style=\"text-align: center\">20</td></tr><tr><th style=\"text-align: center; background-color: white; border-right: 1px solid black; \">2</th><td style=\"text-align: center\">20</td><td style=\"text-align: center\">20</td></tr><tr><th style=\"text-align: center; background-color: white; border-right: 1px solid black; \">...</th><td style=\"text-align: center\" colspan=\"3\">...</td></tr><tr><th style=\"text-align: center; background-color: white; border-right: 1px solid black; \">17</th><td style=\"text-align: center\">20</td><td style=\"text-align: center\">20</td></tr><tr><th style=\"text-align: center; background-color: white; border-right: 1px solid black; \">18</th><td style=\"text-align: center\">20</td><td style=\"text-align: center\">20</td></tr><tr><th style=\"text-align: center; background-color: white; border-right: 1px solid black; \">19</th><td style=\"text-align: center\">20</td><td style=\"text-align: center\">20</td></tr></tbody></table></div>"
      ],
      "text/plain": [
       "<AlleleCountsArray shape=(20, 2) dtype=int32>\n",
       "20 20\n",
       "20 20\n",
       "20 20\n",
       "...\n",
       "20 20\n",
       "20 20\n",
       "20 20"
      ]
     },
     "execution_count": 32,
     "metadata": {},
     "output_type": "execute_result"
    }
   ],
   "source": [
    "ac = g.count_alleles()\n",
    "ac"
   ]
  },
  {
   "cell_type": "code",
   "execution_count": 33,
   "metadata": {},
   "outputs": [
    {
     "data": {
      "text/html": [
       "<div class=\"allel allel-DisplayAs2D\"><span>&lt;AlleleCountsArray shape=(20, 2) dtype=int32&gt;</span><table><thead><tr><th></th><th style=\"text-align: center\">0</th><th style=\"text-align: center\">1</th></tr></thead><tbody><tr><th style=\"text-align: center; background-color: white; border-right: 1px solid black; \">0</th><td style=\"text-align: center\">20</td><td style=\"text-align: center\">20</td></tr><tr><th style=\"text-align: center; background-color: white; border-right: 1px solid black; \">1</th><td style=\"text-align: center\">20</td><td style=\"text-align: center\">20</td></tr><tr><th style=\"text-align: center; background-color: white; border-right: 1px solid black; \">2</th><td style=\"text-align: center\">20</td><td style=\"text-align: center\">20</td></tr><tr><th style=\"text-align: center; background-color: white; border-right: 1px solid black; \">3</th><td style=\"text-align: center\">20</td><td style=\"text-align: center\">20</td></tr><tr><th style=\"text-align: center; background-color: white; border-right: 1px solid black; \">4</th><td style=\"text-align: center\">20</td><td style=\"text-align: center\">20</td></tr><tr><th style=\"text-align: center; background-color: white; border-right: 1px solid black; \">5</th><td style=\"text-align: center\">20</td><td style=\"text-align: center\">20</td></tr><tr><th style=\"text-align: center; background-color: white; border-right: 1px solid black; \">6</th><td style=\"text-align: center\">20</td><td style=\"text-align: center\">20</td></tr><tr><th style=\"text-align: center; background-color: white; border-right: 1px solid black; \">7</th><td style=\"text-align: center\">20</td><td style=\"text-align: center\">20</td></tr><tr><th style=\"text-align: center; background-color: white; border-right: 1px solid black; \">8</th><td style=\"text-align: center\">20</td><td style=\"text-align: center\">20</td></tr><tr><th style=\"text-align: center; background-color: white; border-right: 1px solid black; \">9</th><td style=\"text-align: center\">20</td><td style=\"text-align: center\">20</td></tr><tr><th style=\"text-align: center; background-color: white; border-right: 1px solid black; \">10</th><td style=\"text-align: center\">20</td><td style=\"text-align: center\">20</td></tr><tr><th style=\"text-align: center; background-color: white; border-right: 1px solid black; \">11</th><td style=\"text-align: center\">20</td><td style=\"text-align: center\">20</td></tr><tr><th style=\"text-align: center; background-color: white; border-right: 1px solid black; \">12</th><td style=\"text-align: center\">20</td><td style=\"text-align: center\">20</td></tr><tr><th style=\"text-align: center; background-color: white; border-right: 1px solid black; \">13</th><td style=\"text-align: center\">20</td><td style=\"text-align: center\">20</td></tr><tr><th style=\"text-align: center; background-color: white; border-right: 1px solid black; \">14</th><td style=\"text-align: center\">20</td><td style=\"text-align: center\">20</td></tr><tr><th style=\"text-align: center; background-color: white; border-right: 1px solid black; \">15</th><td style=\"text-align: center\">20</td><td style=\"text-align: center\">20</td></tr><tr><th style=\"text-align: center; background-color: white; border-right: 1px solid black; \">16</th><td style=\"text-align: center\">20</td><td style=\"text-align: center\">20</td></tr><tr><th style=\"text-align: center; background-color: white; border-right: 1px solid black; \">17</th><td style=\"text-align: center\">20</td><td style=\"text-align: center\">20</td></tr><tr><th style=\"text-align: center; background-color: white; border-right: 1px solid black; \">18</th><td style=\"text-align: center\">20</td><td style=\"text-align: center\">20</td></tr><tr><th style=\"text-align: center; background-color: white; border-right: 1px solid black; \">19</th><td style=\"text-align: center\">20</td><td style=\"text-align: center\">20</td></tr></tbody></table></div>"
      ]
     },
     "metadata": {},
     "output_type": "display_data"
    }
   ],
   "source": [
    "ac.displayall()"
   ]
  },
  {
   "cell_type": "code",
   "execution_count": 34,
   "metadata": {},
   "outputs": [
    {
     "name": "stdout",
     "output_type": "stream",
     "text": [
      "20 20\n",
      "20 20\n",
      "20 20\n",
      "...\n",
      "20 20\n",
      "20 20\n",
      "20 20\n",
      "\n"
     ]
    }
   ],
   "source": [
    "print(ac)"
   ]
  },
  {
   "cell_type": "code",
   "execution_count": 35,
   "metadata": {},
   "outputs": [
    {
     "name": "stdout",
     "output_type": "stream",
     "text": [
      "<AlleleCountsArray shape=(20, 2) dtype=int32>\n",
      "20 20\n",
      "20 20\n",
      "20 20\n",
      "...\n",
      "20 20\n",
      "20 20\n",
      "20 20\n",
      "\n"
     ]
    }
   ],
   "source": [
    "print(repr(ac))"
   ]
  },
  {
   "cell_type": "code",
   "execution_count": 36,
   "metadata": {},
   "outputs": [
    {
     "data": {
      "text/html": [
       "<div class=\"allel allel-DisplayAs2D\"><span>&lt;AlleleCountsArray shape=(20, 2) dtype=int32&gt;</span><table><thead><tr><th></th><th style=\"text-align: center\">0</th><th style=\"text-align: center\">1</th></tr></thead><tbody><tr><th style=\"text-align: center; background-color: white; border-right: 1px solid black; \">0</th><td style=\"text-align: center\">25</td><td style=\"text-align: center\">25</td></tr><tr><th style=\"text-align: center; background-color: white; border-right: 1px solid black; \">1</th><td style=\"text-align: center\">25</td><td style=\"text-align: center\">25</td></tr><tr><th style=\"text-align: center; background-color: white; border-right: 1px solid black; \">2</th><td style=\"text-align: center\">25</td><td style=\"text-align: center\">25</td></tr><tr><th style=\"text-align: center; background-color: white; border-right: 1px solid black; \">...</th><td style=\"text-align: center\" colspan=\"3\">...</td></tr><tr><th style=\"text-align: center; background-color: white; border-right: 1px solid black; \">17</th><td style=\"text-align: center\">25</td><td style=\"text-align: center\">25</td></tr><tr><th style=\"text-align: center; background-color: white; border-right: 1px solid black; \">18</th><td style=\"text-align: center\">25</td><td style=\"text-align: center\">25</td></tr><tr><th style=\"text-align: center; background-color: white; border-right: 1px solid black; \">19</th><td style=\"text-align: center\">25</td><td style=\"text-align: center\">25</td></tr></tbody></table></div>"
      ],
      "text/plain": [
       "<AlleleCountsArray shape=(20, 2) dtype=int32>\n",
       "25 25\n",
       "25 25\n",
       "25 25\n",
       "...\n",
       "25 25\n",
       "25 25\n",
       "25 25"
      ]
     },
     "execution_count": 36,
     "metadata": {},
     "output_type": "execute_result"
    }
   ],
   "source": [
    "ac + 5"
   ]
  },
  {
   "cell_type": "code",
   "execution_count": 37,
   "metadata": {},
   "outputs": [
    {
     "data": {
      "text/html": [
       "<div class=\"allel allel-DisplayAs2D\"><span>&lt;AlleleCountsArray shape=(20, 2) dtype=int32&gt;</span><table><thead><tr><th></th><th style=\"text-align: center\">0</th><th style=\"text-align: center\">1</th></tr></thead><tbody><tr><th style=\"text-align: center; background-color: white; border-right: 1px solid black; \">0</th><td style=\"text-align: center\">40</td><td style=\"text-align: center\">40</td></tr><tr><th style=\"text-align: center; background-color: white; border-right: 1px solid black; \">1</th><td style=\"text-align: center\">40</td><td style=\"text-align: center\">40</td></tr><tr><th style=\"text-align: center; background-color: white; border-right: 1px solid black; \">2</th><td style=\"text-align: center\">40</td><td style=\"text-align: center\">40</td></tr><tr><th style=\"text-align: center; background-color: white; border-right: 1px solid black; \">...</th><td style=\"text-align: center\" colspan=\"3\">...</td></tr><tr><th style=\"text-align: center; background-color: white; border-right: 1px solid black; \">17</th><td style=\"text-align: center\">40</td><td style=\"text-align: center\">40</td></tr><tr><th style=\"text-align: center; background-color: white; border-right: 1px solid black; \">18</th><td style=\"text-align: center\">40</td><td style=\"text-align: center\">40</td></tr><tr><th style=\"text-align: center; background-color: white; border-right: 1px solid black; \">19</th><td style=\"text-align: center\">40</td><td style=\"text-align: center\">40</td></tr></tbody></table></div>"
      ],
      "text/plain": [
       "<AlleleCountsArray shape=(20, 2) dtype=int32>\n",
       "40 40\n",
       "40 40\n",
       "40 40\n",
       "...\n",
       "40 40\n",
       "40 40\n",
       "40 40"
      ]
     },
     "execution_count": 37,
     "metadata": {},
     "output_type": "execute_result"
    }
   ],
   "source": [
    "ac + ac"
   ]
  },
  {
   "cell_type": "code",
   "execution_count": 38,
   "metadata": {},
   "outputs": [
    {
     "data": {
      "text/html": [
       "<div class=\"allel allel-DisplayAs2D\"><span>&lt;AlleleCountsArray shape=(40, 2) dtype=int32&gt;</span><table><thead><tr><th></th><th style=\"text-align: center\">0</th><th style=\"text-align: center\">1</th></tr></thead><tbody><tr><th style=\"text-align: center; background-color: white; border-right: 1px solid black; \">0</th><td style=\"text-align: center\">20</td><td style=\"text-align: center\">20</td></tr><tr><th style=\"text-align: center; background-color: white; border-right: 1px solid black; \">1</th><td style=\"text-align: center\">20</td><td style=\"text-align: center\">20</td></tr><tr><th style=\"text-align: center; background-color: white; border-right: 1px solid black; \">2</th><td style=\"text-align: center\">20</td><td style=\"text-align: center\">20</td></tr><tr><th style=\"text-align: center; background-color: white; border-right: 1px solid black; \">...</th><td style=\"text-align: center\" colspan=\"3\">...</td></tr><tr><th style=\"text-align: center; background-color: white; border-right: 1px solid black; \">37</th><td style=\"text-align: center\">20</td><td style=\"text-align: center\">20</td></tr><tr><th style=\"text-align: center; background-color: white; border-right: 1px solid black; \">38</th><td style=\"text-align: center\">20</td><td style=\"text-align: center\">20</td></tr><tr><th style=\"text-align: center; background-color: white; border-right: 1px solid black; \">39</th><td style=\"text-align: center\">20</td><td style=\"text-align: center\">20</td></tr></tbody></table></div>"
      ],
      "text/plain": [
       "<AlleleCountsArray shape=(40, 2) dtype=int32>\n",
       "20 20\n",
       "20 20\n",
       "20 20\n",
       "...\n",
       "20 20\n",
       "20 20\n",
       "20 20"
      ]
     },
     "execution_count": 38,
     "metadata": {},
     "output_type": "execute_result"
    }
   ],
   "source": [
    "ac.concatenate(ac)"
   ]
  },
  {
   "cell_type": "code",
   "execution_count": 39,
   "metadata": {},
   "outputs": [
    {
     "data": {
      "text/plain": [
       "array([[20, 20, 20, 20],\n",
       "       [20, 20, 20, 20],\n",
       "       [20, 20, 20, 20],\n",
       "       [20, 20, 20, 20],\n",
       "       [20, 20, 20, 20],\n",
       "       [20, 20, 20, 20],\n",
       "       [20, 20, 20, 20],\n",
       "       [20, 20, 20, 20],\n",
       "       [20, 20, 20, 20],\n",
       "       [20, 20, 20, 20],\n",
       "       [20, 20, 20, 20],\n",
       "       [20, 20, 20, 20],\n",
       "       [20, 20, 20, 20],\n",
       "       [20, 20, 20, 20],\n",
       "       [20, 20, 20, 20],\n",
       "       [20, 20, 20, 20],\n",
       "       [20, 20, 20, 20],\n",
       "       [20, 20, 20, 20],\n",
       "       [20, 20, 20, 20],\n",
       "       [20, 20, 20, 20]], dtype=int32)"
      ]
     },
     "execution_count": 39,
     "metadata": {},
     "output_type": "execute_result"
    }
   ],
   "source": [
    "ac.concatenate(ac, axis=1)"
   ]
  },
  {
   "cell_type": "markdown",
   "metadata": {},
   "source": [
    "## GenotypeAlleleCounts"
   ]
  },
  {
   "cell_type": "code",
   "execution_count": 40,
   "metadata": {},
   "outputs": [
    {
     "data": {
      "text/html": [
       "<div class=\"allel allel-DisplayAs2D\"><span>&lt;GenotypeAlleleCountsArray shape=(20, 40, 2) dtype=uint8&gt;</span><table><thead><tr><th></th><th style=\"text-align: center\">0</th><th style=\"text-align: center\">1</th><th style=\"text-align: center\">2</th><th style=\"text-align: center\">3</th><th style=\"text-align: center\">4</th><th style=\"text-align: center\">...</th><th style=\"text-align: center\">35</th><th style=\"text-align: center\">36</th><th style=\"text-align: center\">37</th><th style=\"text-align: center\">38</th><th style=\"text-align: center\">39</th></tr></thead><tbody><tr><th style=\"text-align: center; background-color: white; border-right: 1px solid black; \">0</th><td style=\"text-align: center\">1:1</td><td style=\"text-align: center\">0:0</td><td style=\"text-align: center\">1:1</td><td style=\"text-align: center\">0:0</td><td style=\"text-align: center\">1:1</td><td style=\"text-align: center\">...</td><td style=\"text-align: center\">0:0</td><td style=\"text-align: center\">1:1</td><td style=\"text-align: center\">0:0</td><td style=\"text-align: center\">1:1</td><td style=\"text-align: center\">0:0</td></tr><tr><th style=\"text-align: center; background-color: white; border-right: 1px solid black; \">1</th><td style=\"text-align: center\">1:1</td><td style=\"text-align: center\">0:0</td><td style=\"text-align: center\">1:1</td><td style=\"text-align: center\">0:0</td><td style=\"text-align: center\">1:1</td><td style=\"text-align: center\">...</td><td style=\"text-align: center\">0:0</td><td style=\"text-align: center\">1:1</td><td style=\"text-align: center\">0:0</td><td style=\"text-align: center\">1:1</td><td style=\"text-align: center\">0:0</td></tr><tr><th style=\"text-align: center; background-color: white; border-right: 1px solid black; \">2</th><td style=\"text-align: center\">1:1</td><td style=\"text-align: center\">0:0</td><td style=\"text-align: center\">1:1</td><td style=\"text-align: center\">0:0</td><td style=\"text-align: center\">1:1</td><td style=\"text-align: center\">...</td><td style=\"text-align: center\">0:0</td><td style=\"text-align: center\">1:1</td><td style=\"text-align: center\">0:0</td><td style=\"text-align: center\">1:1</td><td style=\"text-align: center\">0:0</td></tr><tr><th style=\"text-align: center; background-color: white; border-right: 1px solid black; \">...</th><td style=\"text-align: center\" colspan=\"12\">...</td></tr><tr><th style=\"text-align: center; background-color: white; border-right: 1px solid black; \">17</th><td style=\"text-align: center\">1:1</td><td style=\"text-align: center\">0:0</td><td style=\"text-align: center\">1:1</td><td style=\"text-align: center\">0:0</td><td style=\"text-align: center\">1:1</td><td style=\"text-align: center\">...</td><td style=\"text-align: center\">0:0</td><td style=\"text-align: center\">1:1</td><td style=\"text-align: center\">0:0</td><td style=\"text-align: center\">1:1</td><td style=\"text-align: center\">0:0</td></tr><tr><th style=\"text-align: center; background-color: white; border-right: 1px solid black; \">18</th><td style=\"text-align: center\">1:1</td><td style=\"text-align: center\">0:0</td><td style=\"text-align: center\">1:1</td><td style=\"text-align: center\">0:0</td><td style=\"text-align: center\">1:1</td><td style=\"text-align: center\">...</td><td style=\"text-align: center\">0:0</td><td style=\"text-align: center\">1:1</td><td style=\"text-align: center\">0:0</td><td style=\"text-align: center\">1:1</td><td style=\"text-align: center\">0:0</td></tr><tr><th style=\"text-align: center; background-color: white; border-right: 1px solid black; \">19</th><td style=\"text-align: center\">1:1</td><td style=\"text-align: center\">0:0</td><td style=\"text-align: center\">1:1</td><td style=\"text-align: center\">0:0</td><td style=\"text-align: center\">1:1</td><td style=\"text-align: center\">...</td><td style=\"text-align: center\">0:0</td><td style=\"text-align: center\">1:1</td><td style=\"text-align: center\">0:0</td><td style=\"text-align: center\">1:1</td><td style=\"text-align: center\">0:0</td></tr></tbody></table></div>"
      ],
      "text/plain": [
       "<GenotypeAlleleCountsArray shape=(20, 40, 2) dtype=uint8>\n",
       "1:1 0:0 1:1 0:0 1:1 ... 0:0 1:1 0:0 1:1 0:0\n",
       "1:1 0:0 1:1 0:0 1:1 ... 0:0 1:1 0:0 1:1 0:0\n",
       "1:1 0:0 1:1 0:0 1:1 ... 0:0 1:1 0:0 1:1 0:0\n",
       "...\n",
       "1:1 0:0 1:1 0:0 1:1 ... 0:0 1:1 0:0 1:1 0:0\n",
       "1:1 0:0 1:1 0:0 1:1 ... 0:0 1:1 0:0 1:1 0:0\n",
       "1:1 0:0 1:1 0:0 1:1 ... 0:0 1:1 0:0 1:1 0:0"
      ]
     },
     "execution_count": 40,
     "metadata": {},
     "output_type": "execute_result"
    }
   ],
   "source": [
    "gac = g.to_allele_counts()\n",
    "gac"
   ]
  },
  {
   "cell_type": "code",
   "execution_count": 41,
   "metadata": {},
   "outputs": [
    {
     "name": "stdout",
     "output_type": "stream",
     "text": [
      "1:1 0:0 1:1 0:0 1:1 ... 0:0 1:1 0:0 1:1 0:0\n",
      "1:1 0:0 1:1 0:0 1:1 ... 0:0 1:1 0:0 1:1 0:0\n",
      "1:1 0:0 1:1 0:0 1:1 ... 0:0 1:1 0:0 1:1 0:0\n",
      "...\n",
      "1:1 0:0 1:1 0:0 1:1 ... 0:0 1:1 0:0 1:1 0:0\n",
      "1:1 0:0 1:1 0:0 1:1 ... 0:0 1:1 0:0 1:1 0:0\n",
      "1:1 0:0 1:1 0:0 1:1 ... 0:0 1:1 0:0 1:1 0:0\n",
      "\n"
     ]
    }
   ],
   "source": [
    "print(gac)"
   ]
  },
  {
   "cell_type": "code",
   "execution_count": 42,
   "metadata": {},
   "outputs": [
    {
     "name": "stdout",
     "output_type": "stream",
     "text": [
      "<GenotypeAlleleCountsArray shape=(20, 40, 2) dtype=uint8>\n",
      "1:1 0:0 1:1 0:0 1:1 ... 0:0 1:1 0:0 1:1 0:0\n",
      "1:1 0:0 1:1 0:0 1:1 ... 0:0 1:1 0:0 1:1 0:0\n",
      "1:1 0:0 1:1 0:0 1:1 ... 0:0 1:1 0:0 1:1 0:0\n",
      "...\n",
      "1:1 0:0 1:1 0:0 1:1 ... 0:0 1:1 0:0 1:1 0:0\n",
      "1:1 0:0 1:1 0:0 1:1 ... 0:0 1:1 0:0 1:1 0:0\n",
      "1:1 0:0 1:1 0:0 1:1 ... 0:0 1:1 0:0 1:1 0:0\n",
      "\n"
     ]
    }
   ],
   "source": [
    "print(repr(gac))"
   ]
  },
  {
   "cell_type": "code",
   "execution_count": 43,
   "metadata": {
    "collapsed": true
   },
   "outputs": [],
   "source": [
    "g[:, 0] = 2"
   ]
  },
  {
   "cell_type": "code",
   "execution_count": 44,
   "metadata": {},
   "outputs": [
    {
     "data": {
      "text/html": [
       "<div class=\"allel allel-DisplayAs2D\"><span>&lt;GenotypeAlleleCountsArray shape=(20, 40, 3) dtype=uint8&gt;</span><table><thead><tr><th></th><th style=\"text-align: center\">0</th><th style=\"text-align: center\">1</th><th style=\"text-align: center\">2</th><th style=\"text-align: center\">3</th><th style=\"text-align: center\">4</th><th style=\"text-align: center\">...</th><th style=\"text-align: center\">35</th><th style=\"text-align: center\">36</th><th style=\"text-align: center\">37</th><th style=\"text-align: center\">38</th><th style=\"text-align: center\">39</th></tr></thead><tbody><tr><th style=\"text-align: center; background-color: white; border-right: 1px solid black; \">0</th><td style=\"text-align: center\">0:0:2</td><td style=\"text-align: center\">0:0:0</td><td style=\"text-align: center\">1:1:0</td><td style=\"text-align: center\">0:0:0</td><td style=\"text-align: center\">1:1:0</td><td style=\"text-align: center\">...</td><td style=\"text-align: center\">0:0:0</td><td style=\"text-align: center\">1:1:0</td><td style=\"text-align: center\">0:0:0</td><td style=\"text-align: center\">1:1:0</td><td style=\"text-align: center\">0:0:0</td></tr><tr><th style=\"text-align: center; background-color: white; border-right: 1px solid black; \">1</th><td style=\"text-align: center\">0:0:2</td><td style=\"text-align: center\">0:0:0</td><td style=\"text-align: center\">1:1:0</td><td style=\"text-align: center\">0:0:0</td><td style=\"text-align: center\">1:1:0</td><td style=\"text-align: center\">...</td><td style=\"text-align: center\">0:0:0</td><td style=\"text-align: center\">1:1:0</td><td style=\"text-align: center\">0:0:0</td><td style=\"text-align: center\">1:1:0</td><td style=\"text-align: center\">0:0:0</td></tr><tr><th style=\"text-align: center; background-color: white; border-right: 1px solid black; \">2</th><td style=\"text-align: center\">0:0:2</td><td style=\"text-align: center\">0:0:0</td><td style=\"text-align: center\">1:1:0</td><td style=\"text-align: center\">0:0:0</td><td style=\"text-align: center\">1:1:0</td><td style=\"text-align: center\">...</td><td style=\"text-align: center\">0:0:0</td><td style=\"text-align: center\">1:1:0</td><td style=\"text-align: center\">0:0:0</td><td style=\"text-align: center\">1:1:0</td><td style=\"text-align: center\">0:0:0</td></tr><tr><th style=\"text-align: center; background-color: white; border-right: 1px solid black; \">...</th><td style=\"text-align: center\" colspan=\"12\">...</td></tr><tr><th style=\"text-align: center; background-color: white; border-right: 1px solid black; \">17</th><td style=\"text-align: center\">0:0:2</td><td style=\"text-align: center\">0:0:0</td><td style=\"text-align: center\">1:1:0</td><td style=\"text-align: center\">0:0:0</td><td style=\"text-align: center\">1:1:0</td><td style=\"text-align: center\">...</td><td style=\"text-align: center\">0:0:0</td><td style=\"text-align: center\">1:1:0</td><td style=\"text-align: center\">0:0:0</td><td style=\"text-align: center\">1:1:0</td><td style=\"text-align: center\">0:0:0</td></tr><tr><th style=\"text-align: center; background-color: white; border-right: 1px solid black; \">18</th><td style=\"text-align: center\">0:0:2</td><td style=\"text-align: center\">0:0:0</td><td style=\"text-align: center\">1:1:0</td><td style=\"text-align: center\">0:0:0</td><td style=\"text-align: center\">1:1:0</td><td style=\"text-align: center\">...</td><td style=\"text-align: center\">0:0:0</td><td style=\"text-align: center\">1:1:0</td><td style=\"text-align: center\">0:0:0</td><td style=\"text-align: center\">1:1:0</td><td style=\"text-align: center\">0:0:0</td></tr><tr><th style=\"text-align: center; background-color: white; border-right: 1px solid black; \">19</th><td style=\"text-align: center\">0:0:2</td><td style=\"text-align: center\">0:0:0</td><td style=\"text-align: center\">1:1:0</td><td style=\"text-align: center\">0:0:0</td><td style=\"text-align: center\">1:1:0</td><td style=\"text-align: center\">...</td><td style=\"text-align: center\">0:0:0</td><td style=\"text-align: center\">1:1:0</td><td style=\"text-align: center\">0:0:0</td><td style=\"text-align: center\">1:1:0</td><td style=\"text-align: center\">0:0:0</td></tr></tbody></table></div>"
      ],
      "text/plain": [
       "<GenotypeAlleleCountsArray shape=(20, 40, 3) dtype=uint8>\n",
       "0:0:2 0:0:0 1:1:0 0:0:0 1:1:0 ... 0:0:0 1:1:0 0:0:0 1:1:0 0:0:0\n",
       "0:0:2 0:0:0 1:1:0 0:0:0 1:1:0 ... 0:0:0 1:1:0 0:0:0 1:1:0 0:0:0\n",
       "0:0:2 0:0:0 1:1:0 0:0:0 1:1:0 ... 0:0:0 1:1:0 0:0:0 1:1:0 0:0:0\n",
       "...\n",
       "0:0:2 0:0:0 1:1:0 0:0:0 1:1:0 ... 0:0:0 1:1:0 0:0:0 1:1:0 0:0:0\n",
       "0:0:2 0:0:0 1:1:0 0:0:0 1:1:0 ... 0:0:0 1:1:0 0:0:0 1:1:0 0:0:0\n",
       "0:0:2 0:0:0 1:1:0 0:0:0 1:1:0 ... 0:0:0 1:1:0 0:0:0 1:1:0 0:0:0"
      ]
     },
     "execution_count": 44,
     "metadata": {},
     "output_type": "execute_result"
    }
   ],
   "source": [
    "g.to_allele_counts()"
   ]
  },
  {
   "cell_type": "code",
   "execution_count": 45,
   "metadata": {},
   "outputs": [
    {
     "data": {
      "text/html": [
       "<div class=\"allel allel-DisplayAs2D\"><span>&lt;GenotypeAlleleCountsArray shape=(5, 40, 2) dtype=uint8&gt;</span><table><thead><tr><th></th><th style=\"text-align: center\">0</th><th style=\"text-align: center\">1</th><th style=\"text-align: center\">2</th><th style=\"text-align: center\">3</th><th style=\"text-align: center\">4</th><th style=\"text-align: center\">...</th><th style=\"text-align: center\">35</th><th style=\"text-align: center\">36</th><th style=\"text-align: center\">37</th><th style=\"text-align: center\">38</th><th style=\"text-align: center\">39</th></tr></thead><tbody><tr><th style=\"text-align: center; background-color: white; border-right: 1px solid black; \">0</th><td style=\"text-align: center\">1:1</td><td style=\"text-align: center\">0:0</td><td style=\"text-align: center\">1:1</td><td style=\"text-align: center\">0:0</td><td style=\"text-align: center\">1:1</td><td style=\"text-align: center\">...</td><td style=\"text-align: center\">0:0</td><td style=\"text-align: center\">1:1</td><td style=\"text-align: center\">0:0</td><td style=\"text-align: center\">1:1</td><td style=\"text-align: center\">0:0</td></tr><tr><th style=\"text-align: center; background-color: white; border-right: 1px solid black; \">1</th><td style=\"text-align: center\">1:1</td><td style=\"text-align: center\">0:0</td><td style=\"text-align: center\">1:1</td><td style=\"text-align: center\">0:0</td><td style=\"text-align: center\">1:1</td><td style=\"text-align: center\">...</td><td style=\"text-align: center\">0:0</td><td style=\"text-align: center\">1:1</td><td style=\"text-align: center\">0:0</td><td style=\"text-align: center\">1:1</td><td style=\"text-align: center\">0:0</td></tr><tr><th style=\"text-align: center; background-color: white; border-right: 1px solid black; \">2</th><td style=\"text-align: center\">1:1</td><td style=\"text-align: center\">0:0</td><td style=\"text-align: center\">1:1</td><td style=\"text-align: center\">0:0</td><td style=\"text-align: center\">1:1</td><td style=\"text-align: center\">...</td><td style=\"text-align: center\">0:0</td><td style=\"text-align: center\">1:1</td><td style=\"text-align: center\">0:0</td><td style=\"text-align: center\">1:1</td><td style=\"text-align: center\">0:0</td></tr><tr><th style=\"text-align: center; background-color: white; border-right: 1px solid black; \">3</th><td style=\"text-align: center\">1:1</td><td style=\"text-align: center\">0:0</td><td style=\"text-align: center\">1:1</td><td style=\"text-align: center\">0:0</td><td style=\"text-align: center\">1:1</td><td style=\"text-align: center\">...</td><td style=\"text-align: center\">0:0</td><td style=\"text-align: center\">1:1</td><td style=\"text-align: center\">0:0</td><td style=\"text-align: center\">1:1</td><td style=\"text-align: center\">0:0</td></tr><tr><th style=\"text-align: center; background-color: white; border-right: 1px solid black; \">4</th><td style=\"text-align: center\">1:1</td><td style=\"text-align: center\">0:0</td><td style=\"text-align: center\">1:1</td><td style=\"text-align: center\">0:0</td><td style=\"text-align: center\">1:1</td><td style=\"text-align: center\">...</td><td style=\"text-align: center\">0:0</td><td style=\"text-align: center\">1:1</td><td style=\"text-align: center\">0:0</td><td style=\"text-align: center\">1:1</td><td style=\"text-align: center\">0:0</td></tr></tbody></table></div>"
      ],
      "text/plain": [
       "<GenotypeAlleleCountsArray shape=(5, 40, 2) dtype=uint8>\n",
       "1:1 0:0 1:1 0:0 1:1 ... 0:0 1:1 0:0 1:1 0:0\n",
       "1:1 0:0 1:1 0:0 1:1 ... 0:0 1:1 0:0 1:1 0:0\n",
       "1:1 0:0 1:1 0:0 1:1 ... 0:0 1:1 0:0 1:1 0:0\n",
       "1:1 0:0 1:1 0:0 1:1 ... 0:0 1:1 0:0 1:1 0:0\n",
       "1:1 0:0 1:1 0:0 1:1 ... 0:0 1:1 0:0 1:1 0:0"
      ]
     },
     "execution_count": 45,
     "metadata": {},
     "output_type": "execute_result"
    }
   ],
   "source": [
    "gac[:5]"
   ]
  },
  {
   "cell_type": "code",
   "execution_count": 46,
   "metadata": {},
   "outputs": [
    {
     "data": {
      "text/html": [
       "<div class=\"allel allel-DisplayAs1D\"><span>&lt;GenotypeAlleleCountsVector shape=(40, 2) dtype=uint8&gt;</span><table><thead><tr><th style=\"text-align: center\">0</th><th style=\"text-align: center\">1</th><th style=\"text-align: center\">2</th><th style=\"text-align: center\">3</th><th style=\"text-align: center\">4</th><th style=\"text-align: center\">...</th><th style=\"text-align: center\">35</th><th style=\"text-align: center\">36</th><th style=\"text-align: center\">37</th><th style=\"text-align: center\">38</th><th style=\"text-align: center\">39</th></tr></thead><tbody><tr><td style=\"text-align: center\">1:1</td><td style=\"text-align: center\">0:0</td><td style=\"text-align: center\">1:1</td><td style=\"text-align: center\">0:0</td><td style=\"text-align: center\">1:1</td><td style=\"text-align: center\">...</td><td style=\"text-align: center\">0:0</td><td style=\"text-align: center\">1:1</td><td style=\"text-align: center\">0:0</td><td style=\"text-align: center\">1:1</td><td style=\"text-align: center\">0:0</td></tr></tbody></table></div>"
      ],
      "text/plain": [
       "<GenotypeAlleleCountsVector shape=(40, 2) dtype=uint8>\n",
       "1:1 0:0 1:1 0:0 1:1 ... 0:0 1:1 0:0 1:1 0:0"
      ]
     },
     "execution_count": 46,
     "metadata": {},
     "output_type": "execute_result"
    }
   ],
   "source": [
    "gac[0]"
   ]
  },
  {
   "cell_type": "code",
   "execution_count": 47,
   "metadata": {},
   "outputs": [
    {
     "data": {
      "text/html": [
       "<div class=\"allel allel-DisplayAs1D\"><span>&lt;GenotypeAlleleCountsVector shape=(20, 2) dtype=uint8&gt;</span><table><thead><tr><th style=\"text-align: center\">0</th><th style=\"text-align: center\">1</th><th style=\"text-align: center\">2</th><th style=\"text-align: center\">3</th><th style=\"text-align: center\">4</th><th style=\"text-align: center\">...</th><th style=\"text-align: center\">15</th><th style=\"text-align: center\">16</th><th style=\"text-align: center\">17</th><th style=\"text-align: center\">18</th><th style=\"text-align: center\">19</th></tr></thead><tbody><tr><td style=\"text-align: center\">1:1</td><td style=\"text-align: center\">1:1</td><td style=\"text-align: center\">1:1</td><td style=\"text-align: center\">1:1</td><td style=\"text-align: center\">1:1</td><td style=\"text-align: center\">...</td><td style=\"text-align: center\">1:1</td><td style=\"text-align: center\">1:1</td><td style=\"text-align: center\">1:1</td><td style=\"text-align: center\">1:1</td><td style=\"text-align: center\">1:1</td></tr></tbody></table></div>"
      ],
      "text/plain": [
       "<GenotypeAlleleCountsVector shape=(20, 2) dtype=uint8>\n",
       "1:1 1:1 1:1 1:1 1:1 ... 1:1 1:1 1:1 1:1 1:1"
      ]
     },
     "execution_count": 47,
     "metadata": {},
     "output_type": "execute_result"
    }
   ],
   "source": [
    "gac[:, 0]"
   ]
  },
  {
   "cell_type": "code",
   "execution_count": 48,
   "metadata": {},
   "outputs": [
    {
     "data": {
      "text/plain": [
       "array([[ True, False,  True, False,  True, False,  True, False,  True,\n",
       "        False,  True, False,  True, False,  True, False,  True, False,\n",
       "         True, False,  True, False,  True, False,  True, False,  True,\n",
       "        False,  True, False,  True, False,  True, False,  True, False,\n",
       "         True, False,  True, False],\n",
       "       [ True, False,  True, False,  True, False,  True, False,  True,\n",
       "        False,  True, False,  True, False,  True, False,  True, False,\n",
       "         True, False,  True, False,  True, False,  True, False,  True,\n",
       "        False,  True, False,  True, False,  True, False,  True, False,\n",
       "         True, False,  True, False],\n",
       "       [ True, False,  True, False,  True, False,  True, False,  True,\n",
       "        False,  True, False,  True, False,  True, False,  True, False,\n",
       "         True, False,  True, False,  True, False,  True, False,  True,\n",
       "        False,  True, False,  True, False,  True, False,  True, False,\n",
       "         True, False,  True, False]], dtype=bool)"
      ]
     },
     "execution_count": 48,
     "metadata": {},
     "output_type": "execute_result"
    }
   ],
   "source": [
    "gac[:3].is_called()"
   ]
  },
  {
   "cell_type": "code",
   "execution_count": 49,
   "metadata": {},
   "outputs": [
    {
     "data": {
      "text/plain": [
       "array([ True, False,  True, False,  True, False,  True, False,  True,\n",
       "       False,  True, False,  True, False,  True, False,  True, False,\n",
       "        True, False,  True, False,  True, False,  True, False,  True,\n",
       "       False,  True, False,  True, False,  True, False,  True, False,\n",
       "        True, False,  True, False], dtype=bool)"
      ]
     },
     "execution_count": 49,
     "metadata": {},
     "output_type": "execute_result"
    }
   ],
   "source": [
    "gac[0].is_called()"
   ]
  },
  {
   "cell_type": "markdown",
   "metadata": {},
   "source": [
    "## VariantTable"
   ]
  },
  {
   "cell_type": "code",
   "execution_count": 50,
   "metadata": {},
   "outputs": [
    {
     "data": {
      "text/html": [
       "<div class=\"allel allel-DisplayAsTable\"><span>&lt;VariantTable shape=(48772,) dtype=(numpy.record, [('POS', '&lt;i8'), ('REF', 'S1'), ('ALT', 'S1')])&gt;</span><table><thead><tr><th></th><th style=\"text-align: center\">POS</th><th style=\"text-align: center\">REF</th><th style=\"text-align: center\">ALT</th></tr></thead><tbody><tr><th style=\"text-align: center; background-color: white; border-right: 1px solid black; \">0</th><td style=\"text-align: center\">16</td><td style=\"text-align: center\">b'G'</td><td style=\"text-align: center\">b'G'</td></tr><tr><th style=\"text-align: center; background-color: white; border-right: 1px solid black; \">1</th><td style=\"text-align: center\">22</td><td style=\"text-align: center\">b'C'</td><td style=\"text-align: center\">b'G'</td></tr><tr><th style=\"text-align: center; background-color: white; border-right: 1px solid black; \">2</th><td style=\"text-align: center\">54</td><td style=\"text-align: center\">b'G'</td><td style=\"text-align: center\">b'G'</td></tr><tr><th style=\"text-align: center; background-color: white; border-right: 1px solid black; \">...</th><td style=\"text-align: center\" colspan=\"4\">...</td></tr><tr><th style=\"text-align: center; background-color: white; border-right: 1px solid black; \">48769</th><td style=\"text-align: center\">999938</td><td style=\"text-align: center\">b'C'</td><td style=\"text-align: center\">b'C'</td></tr><tr><th style=\"text-align: center; background-color: white; border-right: 1px solid black; \">48770</th><td style=\"text-align: center\">999977</td><td style=\"text-align: center\">b'C'</td><td style=\"text-align: center\">b'C'</td></tr><tr><th style=\"text-align: center; background-color: white; border-right: 1px solid black; \">48771</th><td style=\"text-align: center\">999993</td><td style=\"text-align: center\">b'G'</td><td style=\"text-align: center\">b'G'</td></tr></tbody></table></div>"
      ],
      "text/plain": [
       "<VariantTable shape=(48772,) dtype=(numpy.record, [('POS', '<i8'), ('REF', 'S1'), ('ALT', 'S1')])>\n",
       "[(    16, b'G', b'G') (    22, b'C', b'G') (    54, b'G', b'G') ...,\n",
       " (999938, b'C', b'C') (999977, b'C', b'C') (999993, b'G', b'G')]"
      ]
     },
     "execution_count": 50,
     "metadata": {},
     "output_type": "execute_result"
    }
   ],
   "source": [
    "pos = np.unique(np.random.randint(0, 1000000, size=50000))\n",
    "ref = np.random.choice([b'A', b'C', b'T', b'G'], size=pos.shape[0])\n",
    "alt = np.random.choice([b'A', b'C', b'T', b'G'], size=pos.shape[0])\n",
    "ra = np.rec.fromarrays([pos, ref, alt], names=['POS', 'REF', 'ALT'])\n",
    "vtbl = allel.VariantTable(ra)\n",
    "vtbl"
   ]
  },
  {
   "cell_type": "code",
   "execution_count": 51,
   "metadata": {},
   "outputs": [
    {
     "data": {
      "text/html": [
       "<div class=\"allel allel-DisplayAsTable\"><span>&lt;VariantTable shape=(5,) dtype=(numpy.record, [('POS', '&lt;i8'), ('REF', 'S1'), ('ALT', 'S1')])&gt;</span><table><thead><tr><th></th><th style=\"text-align: center\">POS</th><th style=\"text-align: center\">REF</th><th style=\"text-align: center\">ALT</th></tr></thead><tbody><tr><th style=\"text-align: center; background-color: white; border-right: 1px solid black; \">0</th><td style=\"text-align: center\">16</td><td style=\"text-align: center\">b'G'</td><td style=\"text-align: center\">b'G'</td></tr><tr><th style=\"text-align: center; background-color: white; border-right: 1px solid black; \">1</th><td style=\"text-align: center\">22</td><td style=\"text-align: center\">b'C'</td><td style=\"text-align: center\">b'G'</td></tr><tr><th style=\"text-align: center; background-color: white; border-right: 1px solid black; \">2</th><td style=\"text-align: center\">54</td><td style=\"text-align: center\">b'G'</td><td style=\"text-align: center\">b'G'</td></tr><tr><th style=\"text-align: center; background-color: white; border-right: 1px solid black; \">3</th><td style=\"text-align: center\">61</td><td style=\"text-align: center\">b'G'</td><td style=\"text-align: center\">b'G'</td></tr><tr><th style=\"text-align: center; background-color: white; border-right: 1px solid black; \">4</th><td style=\"text-align: center\">94</td><td style=\"text-align: center\">b'T'</td><td style=\"text-align: center\">b'G'</td></tr></tbody></table></div>"
      ],
      "text/plain": [
       "<VariantTable shape=(5,) dtype=(numpy.record, [('POS', '<i8'), ('REF', 'S1'), ('ALT', 'S1')])>\n",
       "[(16, b'G', b'G') (22, b'C', b'G') (54, b'G', b'G') (61, b'G', b'G')\n",
       " (94, b'T', b'G')]"
      ]
     },
     "execution_count": 51,
     "metadata": {},
     "output_type": "execute_result"
    }
   ],
   "source": [
    "vtbl[:5]"
   ]
  },
  {
   "cell_type": "code",
   "execution_count": 52,
   "metadata": {},
   "outputs": [
    {
     "data": {
      "text/html": [
       "<div class=\"allel allel-DisplayAsTable\"><span>&lt;VariantTable shape=(20,) dtype=(numpy.record, [('POS', '&lt;i8'), ('REF', 'S1'), ('ALT', 'S1')])&gt;</span><table><thead><tr><th></th><th style=\"text-align: center\">POS</th><th style=\"text-align: center\">REF</th><th style=\"text-align: center\">ALT</th></tr></thead><tbody><tr><th style=\"text-align: center; background-color: white; border-right: 1px solid black; \">0</th><td style=\"text-align: center\">16</td><td style=\"text-align: center\">b'G'</td><td style=\"text-align: center\">b'G'</td></tr><tr><th style=\"text-align: center; background-color: white; border-right: 1px solid black; \">1</th><td style=\"text-align: center\">22</td><td style=\"text-align: center\">b'C'</td><td style=\"text-align: center\">b'G'</td></tr><tr><th style=\"text-align: center; background-color: white; border-right: 1px solid black; \">2</th><td style=\"text-align: center\">54</td><td style=\"text-align: center\">b'G'</td><td style=\"text-align: center\">b'G'</td></tr><tr><th style=\"text-align: center; background-color: white; border-right: 1px solid black; \">3</th><td style=\"text-align: center\">61</td><td style=\"text-align: center\">b'G'</td><td style=\"text-align: center\">b'G'</td></tr><tr><th style=\"text-align: center; background-color: white; border-right: 1px solid black; \">4</th><td style=\"text-align: center\">94</td><td style=\"text-align: center\">b'T'</td><td style=\"text-align: center\">b'G'</td></tr><tr><th style=\"text-align: center; background-color: white; border-right: 1px solid black; \">5</th><td style=\"text-align: center\">109</td><td style=\"text-align: center\">b'G'</td><td style=\"text-align: center\">b'C'</td></tr><tr><th style=\"text-align: center; background-color: white; border-right: 1px solid black; \">6</th><td style=\"text-align: center\">165</td><td style=\"text-align: center\">b'A'</td><td style=\"text-align: center\">b'A'</td></tr><tr><th style=\"text-align: center; background-color: white; border-right: 1px solid black; \">7</th><td style=\"text-align: center\">170</td><td style=\"text-align: center\">b'G'</td><td style=\"text-align: center\">b'C'</td></tr><tr><th style=\"text-align: center; background-color: white; border-right: 1px solid black; \">8</th><td style=\"text-align: center\">174</td><td style=\"text-align: center\">b'T'</td><td style=\"text-align: center\">b'A'</td></tr><tr><th style=\"text-align: center; background-color: white; border-right: 1px solid black; \">9</th><td style=\"text-align: center\">179</td><td style=\"text-align: center\">b'T'</td><td style=\"text-align: center\">b'G'</td></tr><tr><th style=\"text-align: center; background-color: white; border-right: 1px solid black; \">10</th><td style=\"text-align: center\">198</td><td style=\"text-align: center\">b'T'</td><td style=\"text-align: center\">b'A'</td></tr><tr><th style=\"text-align: center; background-color: white; border-right: 1px solid black; \">11</th><td style=\"text-align: center\">204</td><td style=\"text-align: center\">b'A'</td><td style=\"text-align: center\">b'A'</td></tr><tr><th style=\"text-align: center; background-color: white; border-right: 1px solid black; \">12</th><td style=\"text-align: center\">205</td><td style=\"text-align: center\">b'A'</td><td style=\"text-align: center\">b'A'</td></tr><tr><th style=\"text-align: center; background-color: white; border-right: 1px solid black; \">13</th><td style=\"text-align: center\">214</td><td style=\"text-align: center\">b'C'</td><td style=\"text-align: center\">b'C'</td></tr><tr><th style=\"text-align: center; background-color: white; border-right: 1px solid black; \">14</th><td style=\"text-align: center\">217</td><td style=\"text-align: center\">b'C'</td><td style=\"text-align: center\">b'T'</td></tr><tr><th style=\"text-align: center; background-color: white; border-right: 1px solid black; \">15</th><td style=\"text-align: center\">221</td><td style=\"text-align: center\">b'T'</td><td style=\"text-align: center\">b'A'</td></tr><tr><th style=\"text-align: center; background-color: white; border-right: 1px solid black; \">16</th><td style=\"text-align: center\">245</td><td style=\"text-align: center\">b'C'</td><td style=\"text-align: center\">b'G'</td></tr><tr><th style=\"text-align: center; background-color: white; border-right: 1px solid black; \">17</th><td style=\"text-align: center\">250</td><td style=\"text-align: center\">b'C'</td><td style=\"text-align: center\">b'T'</td></tr><tr><th style=\"text-align: center; background-color: white; border-right: 1px solid black; \">18</th><td style=\"text-align: center\">261</td><td style=\"text-align: center\">b'T'</td><td style=\"text-align: center\">b'C'</td></tr><tr><th style=\"text-align: center; background-color: white; border-right: 1px solid black; \">19</th><td style=\"text-align: center\">357</td><td style=\"text-align: center\">b'G'</td><td style=\"text-align: center\">b'C'</td></tr></tbody></table></div>"
      ]
     },
     "metadata": {},
     "output_type": "display_data"
    }
   ],
   "source": [
    "vtbl[:20].displayall()"
   ]
  },
  {
   "cell_type": "code",
   "execution_count": 53,
   "metadata": {},
   "outputs": [
    {
     "data": {
      "text/html": [
       "<div class=\"allel allel-DisplayAsTable\"><span>&lt;VariantTable shape=(5,) dtype=(numpy.record, [('POS', '&lt;i8'), ('REF', 'S1'), ('ALT', 'S1')])&gt;</span><table><thead><tr><th></th><th style=\"text-align: center\">POS</th><th style=\"text-align: center\">REF</th><th style=\"text-align: center\">ALT</th></tr></thead><tbody><tr><th style=\"text-align: center; background-color: white; border-right: 1px solid black; \">0</th><td style=\"text-align: center\">16</td><td style=\"text-align: center\">b'G'</td><td style=\"text-align: center\">b'G'</td></tr><tr><th style=\"text-align: center; background-color: white; border-right: 1px solid black; \">1</th><td style=\"text-align: center\">22</td><td style=\"text-align: center\">b'C'</td><td style=\"text-align: center\">b'G'</td></tr><tr><th style=\"text-align: center; background-color: white; border-right: 1px solid black; \">2</th><td style=\"text-align: center\">54</td><td style=\"text-align: center\">b'G'</td><td style=\"text-align: center\">b'G'</td></tr><tr><th style=\"text-align: center; background-color: white; border-right: 1px solid black; \">3</th><td style=\"text-align: center\">61</td><td style=\"text-align: center\">b'G'</td><td style=\"text-align: center\">b'G'</td></tr><tr><th style=\"text-align: center; background-color: white; border-right: 1px solid black; \">4</th><td style=\"text-align: center\">94</td><td style=\"text-align: center\">b'T'</td><td style=\"text-align: center\">b'G'</td></tr></tbody></table></div>"
      ],
      "text/plain": [
       "<VariantTable shape=(5,) dtype=(numpy.record, [('POS', '<i8'), ('REF', 'S1'), ('ALT', 'S1')])>\n",
       "[(16, b'G', b'G') (22, b'C', b'G') (54, b'G', b'G') (61, b'G', b'G')\n",
       " (94, b'T', b'G')]"
      ]
     },
     "execution_count": 53,
     "metadata": {},
     "output_type": "execute_result"
    }
   ],
   "source": [
    "vtbl.take(list(range(5)))"
   ]
  },
  {
   "cell_type": "code",
   "execution_count": 54,
   "metadata": {},
   "outputs": [
    {
     "data": {
      "text/html": [
       "<div class=\"allel allel-DisplayAsTable\"><span>&lt;VariantTable shape=(24495,) dtype=(numpy.record, [('POS', '&lt;i8'), ('REF', 'S1'), ('ALT', 'S1')])&gt;</span><table><thead><tr><th></th><th style=\"text-align: center\">POS</th><th style=\"text-align: center\">REF</th><th style=\"text-align: center\">ALT</th></tr></thead><tbody><tr><th style=\"text-align: center; background-color: white; border-right: 1px solid black; \">0</th><td style=\"text-align: center\">22</td><td style=\"text-align: center\">b'C'</td><td style=\"text-align: center\">b'G'</td></tr><tr><th style=\"text-align: center; background-color: white; border-right: 1px solid black; \">1</th><td style=\"text-align: center\">109</td><td style=\"text-align: center\">b'G'</td><td style=\"text-align: center\">b'C'</td></tr><tr><th style=\"text-align: center; background-color: white; border-right: 1px solid black; \">2</th><td style=\"text-align: center\">179</td><td style=\"text-align: center\">b'T'</td><td style=\"text-align: center\">b'G'</td></tr><tr><th style=\"text-align: center; background-color: white; border-right: 1px solid black; \">...</th><td style=\"text-align: center\" colspan=\"4\">...</td></tr><tr><th style=\"text-align: center; background-color: white; border-right: 1px solid black; \">24492</th><td style=\"text-align: center\">999898</td><td style=\"text-align: center\">b'G'</td><td style=\"text-align: center\">b'T'</td></tr><tr><th style=\"text-align: center; background-color: white; border-right: 1px solid black; \">24493</th><td style=\"text-align: center\">999938</td><td style=\"text-align: center\">b'C'</td><td style=\"text-align: center\">b'C'</td></tr><tr><th style=\"text-align: center; background-color: white; border-right: 1px solid black; \">24494</th><td style=\"text-align: center\">999977</td><td style=\"text-align: center\">b'C'</td><td style=\"text-align: center\">b'C'</td></tr></tbody></table></div>"
      ],
      "text/plain": [
       "<VariantTable shape=(24495,) dtype=(numpy.record, [('POS', '<i8'), ('REF', 'S1'), ('ALT', 'S1')])>\n",
       "[(    22, b'C', b'G') (   109, b'G', b'C') (   179, b'T', b'G') ...,\n",
       " (999898, b'G', b'T') (999938, b'C', b'C') (999977, b'C', b'C')]"
      ]
     },
     "execution_count": 54,
     "metadata": {},
     "output_type": "execute_result"
    }
   ],
   "source": [
    "vtbl.compress(np.random.randint(0, 2, size=vtbl.shape[0]).astype(bool))"
   ]
  },
  {
   "cell_type": "code",
   "execution_count": 55,
   "metadata": {},
   "outputs": [
    {
     "data": {
      "text/html": [
       "<div class=\"allel allel-DisplayAsTable\"><span>&lt;VariantTable shape=(97544,) dtype=(numpy.record, [('POS', '&lt;i8'), ('REF', 'S1'), ('ALT', 'S1')])&gt;</span><table><thead><tr><th></th><th style=\"text-align: center\">POS</th><th style=\"text-align: center\">REF</th><th style=\"text-align: center\">ALT</th></tr></thead><tbody><tr><th style=\"text-align: center; background-color: white; border-right: 1px solid black; \">0</th><td style=\"text-align: center\">16</td><td style=\"text-align: center\">b'G'</td><td style=\"text-align: center\">b'G'</td></tr><tr><th style=\"text-align: center; background-color: white; border-right: 1px solid black; \">1</th><td style=\"text-align: center\">22</td><td style=\"text-align: center\">b'C'</td><td style=\"text-align: center\">b'G'</td></tr><tr><th style=\"text-align: center; background-color: white; border-right: 1px solid black; \">2</th><td style=\"text-align: center\">54</td><td style=\"text-align: center\">b'G'</td><td style=\"text-align: center\">b'G'</td></tr><tr><th style=\"text-align: center; background-color: white; border-right: 1px solid black; \">...</th><td style=\"text-align: center\" colspan=\"4\">...</td></tr><tr><th style=\"text-align: center; background-color: white; border-right: 1px solid black; \">97541</th><td style=\"text-align: center\">999938</td><td style=\"text-align: center\">b'C'</td><td style=\"text-align: center\">b'C'</td></tr><tr><th style=\"text-align: center; background-color: white; border-right: 1px solid black; \">97542</th><td style=\"text-align: center\">999977</td><td style=\"text-align: center\">b'C'</td><td style=\"text-align: center\">b'C'</td></tr><tr><th style=\"text-align: center; background-color: white; border-right: 1px solid black; \">97543</th><td style=\"text-align: center\">999993</td><td style=\"text-align: center\">b'G'</td><td style=\"text-align: center\">b'G'</td></tr></tbody></table></div>"
      ],
      "text/plain": [
       "<VariantTable shape=(97544,) dtype=(numpy.record, [('POS', '<i8'), ('REF', 'S1'), ('ALT', 'S1')])>\n",
       "[(    16, b'G', b'G') (    22, b'C', b'G') (    54, b'G', b'G') ...,\n",
       " (999938, b'C', b'C') (999977, b'C', b'C') (999993, b'G', b'G')]"
      ]
     },
     "execution_count": 55,
     "metadata": {},
     "output_type": "execute_result"
    }
   ],
   "source": [
    "vtbl.concatenate(vtbl)"
   ]
  },
  {
   "cell_type": "code",
   "execution_count": 56,
   "metadata": {},
   "outputs": [
    {
     "name": "stderr",
     "output_type": "stream",
     "text": [
      "/home/aliman/pyenv/dev-scikit-allel-py36-20170614/lib/python3.6/site-packages/numpy/core/records.py:507: FutureWarning: Numpy has detected that you may be viewing or writing to an array returned by selecting multiple fields in a structured array. \n",
      "\n",
      "This code may break in numpy 1.13 because this will return a view instead of a copy -- see release notes for details.\n",
      "  return obj.view(dtype=(self.dtype.type, obj.dtype))\n"
     ]
    },
    {
     "data": {
      "text/html": [
       "<div class=\"allel allel-DisplayAsTable\"><span>&lt;VariantTable shape=(48772,) dtype=(numpy.record, [('POS', '&lt;i8'), ('ALT', 'S1')])&gt;</span><table><thead><tr><th></th><th style=\"text-align: center\">POS</th><th style=\"text-align: center\">ALT</th></tr></thead><tbody><tr><th style=\"text-align: center; background-color: white; border-right: 1px solid black; \">0</th><td style=\"text-align: center\">16</td><td style=\"text-align: center\">b'G'</td></tr><tr><th style=\"text-align: center; background-color: white; border-right: 1px solid black; \">1</th><td style=\"text-align: center\">22</td><td style=\"text-align: center\">b'G'</td></tr><tr><th style=\"text-align: center; background-color: white; border-right: 1px solid black; \">2</th><td style=\"text-align: center\">54</td><td style=\"text-align: center\">b'G'</td></tr><tr><th style=\"text-align: center; background-color: white; border-right: 1px solid black; \">...</th><td style=\"text-align: center\" colspan=\"3\">...</td></tr><tr><th style=\"text-align: center; background-color: white; border-right: 1px solid black; \">48769</th><td style=\"text-align: center\">999938</td><td style=\"text-align: center\">b'C'</td></tr><tr><th style=\"text-align: center; background-color: white; border-right: 1px solid black; \">48770</th><td style=\"text-align: center\">999977</td><td style=\"text-align: center\">b'C'</td></tr><tr><th style=\"text-align: center; background-color: white; border-right: 1px solid black; \">48771</th><td style=\"text-align: center\">999993</td><td style=\"text-align: center\">b'G'</td></tr></tbody></table></div>"
      ],
      "text/plain": [
       "<VariantTable shape=(48772,) dtype=(numpy.record, [('POS', '<i8'), ('ALT', 'S1')])>\n",
       "[(    16, b'G') (    22, b'G') (    54, b'G') ..., (999938, b'C')\n",
       " (999977, b'C') (999993, b'G')]"
      ]
     },
     "execution_count": 56,
     "metadata": {},
     "output_type": "execute_result"
    }
   ],
   "source": [
    "vtbl[['POS', 'ALT']]"
   ]
  },
  {
   "cell_type": "code",
   "execution_count": 57,
   "metadata": {},
   "outputs": [
    {
     "name": "stdout",
     "output_type": "stream",
     "text": [
      "[(    16, b'G', b'G') (    22, b'C', b'G') (    54, b'G', b'G') ...,\n",
      " (999938, b'C', b'C') (999977, b'C', b'C') (999993, b'G', b'G')]\n"
     ]
    }
   ],
   "source": [
    "print(vtbl)"
   ]
  },
  {
   "cell_type": "code",
   "execution_count": 58,
   "metadata": {},
   "outputs": [
    {
     "name": "stdout",
     "output_type": "stream",
     "text": [
      "<VariantTable shape=(48772,) dtype=(numpy.record, [('POS', '<i8'), ('REF', 'S1'), ('ALT', 'S1')])>\n",
      "[(    16, b'G', b'G') (    22, b'C', b'G') (    54, b'G', b'G') ...,\n",
      " (999938, b'C', b'C') (999977, b'C', b'C') (999993, b'G', b'G')]\n"
     ]
    }
   ],
   "source": [
    "print(repr(vtbl))"
   ]
  },
  {
   "cell_type": "markdown",
   "metadata": {},
   "source": [
    "## Chunked stuff"
   ]
  },
  {
   "cell_type": "code",
   "execution_count": 59,
   "metadata": {},
   "outputs": [
    {
     "data": {
      "text/html": [
       "<div class=\"allel allel-DisplayAs2D\"><span>&lt;GenotypeChunkedArray shape=(20, 40, 2) dtype=int64 chunks=(20, 40, 2)\n",
       "   nbytes=12.5K cbytes=450 cratio=28.4\n",
       "   compression=blosc compression_opts={'cname': 'lz4', 'clevel': 5, 'shuffle': 1}\n",
       "   values=zarr.core.Array&gt;</span><table><thead><tr><th></th><th style=\"text-align: center\">0</th><th style=\"text-align: center\">1</th><th style=\"text-align: center\">2</th><th style=\"text-align: center\">3</th><th style=\"text-align: center\">4</th><th style=\"text-align: center\">...</th><th style=\"text-align: center\">35</th><th style=\"text-align: center\">36</th><th style=\"text-align: center\">37</th><th style=\"text-align: center\">38</th><th style=\"text-align: center\">39</th></tr></thead><tbody><tr><th style=\"text-align: center; background-color: white; border-right: 1px solid black; \">0</th><td style=\"text-align: center\">2/2</td><td style=\"text-align: center\">./.</td><td style=\"text-align: center\">0/1</td><td style=\"text-align: center\">./.</td><td style=\"text-align: center\">0/1</td><td style=\"text-align: center\">...</td><td style=\"text-align: center\">./.</td><td style=\"text-align: center\">0/1</td><td style=\"text-align: center\">./.</td><td style=\"text-align: center\">0/1</td><td style=\"text-align: center\">./.</td></tr><tr><th style=\"text-align: center; background-color: white; border-right: 1px solid black; \">1</th><td style=\"text-align: center\">2/2</td><td style=\"text-align: center\">./.</td><td style=\"text-align: center\">0/1</td><td style=\"text-align: center\">./.</td><td style=\"text-align: center\">0/1</td><td style=\"text-align: center\">...</td><td style=\"text-align: center\">./.</td><td style=\"text-align: center\">0/1</td><td style=\"text-align: center\">./.</td><td style=\"text-align: center\">0/1</td><td style=\"text-align: center\">./.</td></tr><tr><th style=\"text-align: center; background-color: white; border-right: 1px solid black; \">2</th><td style=\"text-align: center\">2/2</td><td style=\"text-align: center\">./.</td><td style=\"text-align: center\">0/1</td><td style=\"text-align: center\">./.</td><td style=\"text-align: center\">0/1</td><td style=\"text-align: center\">...</td><td style=\"text-align: center\">./.</td><td style=\"text-align: center\">0/1</td><td style=\"text-align: center\">./.</td><td style=\"text-align: center\">0/1</td><td style=\"text-align: center\">./.</td></tr><tr><th style=\"text-align: center; background-color: white; border-right: 1px solid black; \">...</th><td style=\"text-align: center\" colspan=\"12\">...</td></tr><tr><th style=\"text-align: center; background-color: white; border-right: 1px solid black; \">17</th><td style=\"text-align: center\">2/2</td><td style=\"text-align: center\">./.</td><td style=\"text-align: center\">0/1</td><td style=\"text-align: center\">./.</td><td style=\"text-align: center\">0/1</td><td style=\"text-align: center\">...</td><td style=\"text-align: center\">./.</td><td style=\"text-align: center\">0/1</td><td style=\"text-align: center\">./.</td><td style=\"text-align: center\">0/1</td><td style=\"text-align: center\">./.</td></tr><tr><th style=\"text-align: center; background-color: white; border-right: 1px solid black; \">18</th><td style=\"text-align: center\">2/2</td><td style=\"text-align: center\">./.</td><td style=\"text-align: center\">0/1</td><td style=\"text-align: center\">./.</td><td style=\"text-align: center\">0/1</td><td style=\"text-align: center\">...</td><td style=\"text-align: center\">./.</td><td style=\"text-align: center\">0/1</td><td style=\"text-align: center\">./.</td><td style=\"text-align: center\">0/1</td><td style=\"text-align: center\">./.</td></tr><tr><th style=\"text-align: center; background-color: white; border-right: 1px solid black; \">19</th><td style=\"text-align: center\">2/2</td><td style=\"text-align: center\">./.</td><td style=\"text-align: center\">0/1</td><td style=\"text-align: center\">./.</td><td style=\"text-align: center\">0/1</td><td style=\"text-align: center\">...</td><td style=\"text-align: center\">./.</td><td style=\"text-align: center\">0/1</td><td style=\"text-align: center\">./.</td><td style=\"text-align: center\">0/1</td><td style=\"text-align: center\">./.</td></tr></tbody></table></div>"
      ],
      "text/plain": [
       "<GenotypeChunkedArray shape=(20, 40, 2) dtype=int64 chunks=(20, 40, 2)\n",
       "   nbytes=12.5K cbytes=450 cratio=28.4\n",
       "   compression=blosc compression_opts={'cname': 'lz4', 'clevel': 5, 'shuffle': 1}\n",
       "   values=zarr.core.Array>"
      ]
     },
     "execution_count": 59,
     "metadata": {},
     "output_type": "execute_result"
    }
   ],
   "source": [
    "gc = allel.GenotypeChunkedArray(g).copy()\n",
    "gc"
   ]
  },
  {
   "cell_type": "code",
   "execution_count": 60,
   "metadata": {},
   "outputs": [
    {
     "name": "stdout",
     "output_type": "stream",
     "text": [
      "2/2 ./. 0/1 ./. 0/1 ... ./. 0/1 ./. 0/1 ./.\n",
      "2/2 ./. 0/1 ./. 0/1 ... ./. 0/1 ./. 0/1 ./.\n",
      "2/2 ./. 0/1 ./. 0/1 ... ./. 0/1 ./. 0/1 ./.\n",
      "...\n",
      "2/2 ./. 0/1 ./. 0/1 ... ./. 0/1 ./. 0/1 ./.\n",
      "2/2 ./. 0/1 ./. 0/1 ... ./. 0/1 ./. 0/1 ./.\n",
      "2/2 ./. 0/1 ./. 0/1 ... ./. 0/1 ./. 0/1 ./.\n",
      "\n"
     ]
    }
   ],
   "source": [
    "print(gc)"
   ]
  },
  {
   "cell_type": "code",
   "execution_count": 61,
   "metadata": {},
   "outputs": [
    {
     "name": "stdout",
     "output_type": "stream",
     "text": [
      "<GenotypeChunkedArray shape=(20, 40, 2) dtype=int64 chunks=(20, 40, 2)\n",
      "   nbytes=12.5K cbytes=450 cratio=28.4\n",
      "   compression=blosc compression_opts={'cname': 'lz4', 'clevel': 5, 'shuffle': 1}\n",
      "   values=zarr.core.Array>\n"
     ]
    }
   ],
   "source": [
    "print(repr(gc))"
   ]
  },
  {
   "cell_type": "code",
   "execution_count": 62,
   "metadata": {},
   "outputs": [
    {
     "data": {
      "text/html": [
       "<div class=\"allel allel-DisplayAs2D\"><span>&lt;GenotypeArray shape=(5, 40, 2) dtype=int64&gt;</span><table><thead><tr><th></th><th style=\"text-align: center\">0</th><th style=\"text-align: center\">1</th><th style=\"text-align: center\">2</th><th style=\"text-align: center\">3</th><th style=\"text-align: center\">4</th><th style=\"text-align: center\">...</th><th style=\"text-align: center\">35</th><th style=\"text-align: center\">36</th><th style=\"text-align: center\">37</th><th style=\"text-align: center\">38</th><th style=\"text-align: center\">39</th></tr></thead><tbody><tr><th style=\"text-align: center; background-color: white; border-right: 1px solid black; \">0</th><td style=\"text-align: center\">2/2</td><td style=\"text-align: center\">./.</td><td style=\"text-align: center\">0/1</td><td style=\"text-align: center\">./.</td><td style=\"text-align: center\">0/1</td><td style=\"text-align: center\">...</td><td style=\"text-align: center\">./.</td><td style=\"text-align: center\">0/1</td><td style=\"text-align: center\">./.</td><td style=\"text-align: center\">0/1</td><td style=\"text-align: center\">./.</td></tr><tr><th style=\"text-align: center; background-color: white; border-right: 1px solid black; \">1</th><td style=\"text-align: center\">2/2</td><td style=\"text-align: center\">./.</td><td style=\"text-align: center\">0/1</td><td style=\"text-align: center\">./.</td><td style=\"text-align: center\">0/1</td><td style=\"text-align: center\">...</td><td style=\"text-align: center\">./.</td><td style=\"text-align: center\">0/1</td><td style=\"text-align: center\">./.</td><td style=\"text-align: center\">0/1</td><td style=\"text-align: center\">./.</td></tr><tr><th style=\"text-align: center; background-color: white; border-right: 1px solid black; \">2</th><td style=\"text-align: center\">2/2</td><td style=\"text-align: center\">./.</td><td style=\"text-align: center\">0/1</td><td style=\"text-align: center\">./.</td><td style=\"text-align: center\">0/1</td><td style=\"text-align: center\">...</td><td style=\"text-align: center\">./.</td><td style=\"text-align: center\">0/1</td><td style=\"text-align: center\">./.</td><td style=\"text-align: center\">0/1</td><td style=\"text-align: center\">./.</td></tr><tr><th style=\"text-align: center; background-color: white; border-right: 1px solid black; \">3</th><td style=\"text-align: center\">2/2</td><td style=\"text-align: center\">./.</td><td style=\"text-align: center\">0/1</td><td style=\"text-align: center\">./.</td><td style=\"text-align: center\">0/1</td><td style=\"text-align: center\">...</td><td style=\"text-align: center\">./.</td><td style=\"text-align: center\">0/1</td><td style=\"text-align: center\">./.</td><td style=\"text-align: center\">0/1</td><td style=\"text-align: center\">./.</td></tr><tr><th style=\"text-align: center; background-color: white; border-right: 1px solid black; \">4</th><td style=\"text-align: center\">2/2</td><td style=\"text-align: center\">./.</td><td style=\"text-align: center\">0/1</td><td style=\"text-align: center\">./.</td><td style=\"text-align: center\">0/1</td><td style=\"text-align: center\">...</td><td style=\"text-align: center\">./.</td><td style=\"text-align: center\">0/1</td><td style=\"text-align: center\">./.</td><td style=\"text-align: center\">0/1</td><td style=\"text-align: center\">./.</td></tr></tbody></table></div>"
      ],
      "text/plain": [
       "<GenotypeArray shape=(5, 40, 2) dtype=int64>\n",
       "2/2 ./. 0/1 ./. 0/1 ... ./. 0/1 ./. 0/1 ./.\n",
       "2/2 ./. 0/1 ./. 0/1 ... ./. 0/1 ./. 0/1 ./.\n",
       "2/2 ./. 0/1 ./. 0/1 ... ./. 0/1 ./. 0/1 ./.\n",
       "2/2 ./. 0/1 ./. 0/1 ... ./. 0/1 ./. 0/1 ./.\n",
       "2/2 ./. 0/1 ./. 0/1 ... ./. 0/1 ./. 0/1 ./."
      ]
     },
     "execution_count": 62,
     "metadata": {},
     "output_type": "execute_result"
    }
   ],
   "source": [
    "gc[:5]"
   ]
  },
  {
   "cell_type": "code",
   "execution_count": 63,
   "metadata": {},
   "outputs": [
    {
     "data": {
      "text/html": [
       "<div class=\"allel allel-DisplayAs2D\"><span>&lt;GenotypeArray shape=(20, 5, 2) dtype=int64&gt;</span><table><thead><tr><th></th><th style=\"text-align: center\">0</th><th style=\"text-align: center\">1</th><th style=\"text-align: center\">2</th><th style=\"text-align: center\">3</th><th style=\"text-align: center\">4</th></tr></thead><tbody><tr><th style=\"text-align: center; background-color: white; border-right: 1px solid black; \">0</th><td style=\"text-align: center\">2/2</td><td style=\"text-align: center\">./.</td><td style=\"text-align: center\">0/1</td><td style=\"text-align: center\">./.</td><td style=\"text-align: center\">0/1</td></tr><tr><th style=\"text-align: center; background-color: white; border-right: 1px solid black; \">1</th><td style=\"text-align: center\">2/2</td><td style=\"text-align: center\">./.</td><td style=\"text-align: center\">0/1</td><td style=\"text-align: center\">./.</td><td style=\"text-align: center\">0/1</td></tr><tr><th style=\"text-align: center; background-color: white; border-right: 1px solid black; \">2</th><td style=\"text-align: center\">2/2</td><td style=\"text-align: center\">./.</td><td style=\"text-align: center\">0/1</td><td style=\"text-align: center\">./.</td><td style=\"text-align: center\">0/1</td></tr><tr><th style=\"text-align: center; background-color: white; border-right: 1px solid black; \">...</th><td style=\"text-align: center\" colspan=\"6\">...</td></tr><tr><th style=\"text-align: center; background-color: white; border-right: 1px solid black; \">17</th><td style=\"text-align: center\">2/2</td><td style=\"text-align: center\">./.</td><td style=\"text-align: center\">0/1</td><td style=\"text-align: center\">./.</td><td style=\"text-align: center\">0/1</td></tr><tr><th style=\"text-align: center; background-color: white; border-right: 1px solid black; \">18</th><td style=\"text-align: center\">2/2</td><td style=\"text-align: center\">./.</td><td style=\"text-align: center\">0/1</td><td style=\"text-align: center\">./.</td><td style=\"text-align: center\">0/1</td></tr><tr><th style=\"text-align: center; background-color: white; border-right: 1px solid black; \">19</th><td style=\"text-align: center\">2/2</td><td style=\"text-align: center\">./.</td><td style=\"text-align: center\">0/1</td><td style=\"text-align: center\">./.</td><td style=\"text-align: center\">0/1</td></tr></tbody></table></div>"
      ],
      "text/plain": [
       "<GenotypeArray shape=(20, 5, 2) dtype=int64>\n",
       "2/2 ./. 0/1 ./. 0/1\n",
       "2/2 ./. 0/1 ./. 0/1\n",
       "2/2 ./. 0/1 ./. 0/1\n",
       "...\n",
       "2/2 ./. 0/1 ./. 0/1\n",
       "2/2 ./. 0/1 ./. 0/1\n",
       "2/2 ./. 0/1 ./. 0/1"
      ]
     },
     "execution_count": 63,
     "metadata": {},
     "output_type": "execute_result"
    }
   ],
   "source": [
    "gc[:, :5]"
   ]
  },
  {
   "cell_type": "code",
   "execution_count": 64,
   "metadata": {},
   "outputs": [
    {
     "data": {
      "text/html": [
       "<div class=\"allel allel-DisplayAs1D\"><span>&lt;GenotypeVector shape=(40, 2) dtype=int64&gt;</span><table><thead><tr><th style=\"text-align: center\">0</th><th style=\"text-align: center\">1</th><th style=\"text-align: center\">2</th><th style=\"text-align: center\">3</th><th style=\"text-align: center\">4</th><th style=\"text-align: center\">...</th><th style=\"text-align: center\">35</th><th style=\"text-align: center\">36</th><th style=\"text-align: center\">37</th><th style=\"text-align: center\">38</th><th style=\"text-align: center\">39</th></tr></thead><tbody><tr><td style=\"text-align: center\">2/2</td><td style=\"text-align: center\">./.</td><td style=\"text-align: center\">0/1</td><td style=\"text-align: center\">./.</td><td style=\"text-align: center\">0/1</td><td style=\"text-align: center\">...</td><td style=\"text-align: center\">./.</td><td style=\"text-align: center\">0/1</td><td style=\"text-align: center\">./.</td><td style=\"text-align: center\">0/1</td><td style=\"text-align: center\">./.</td></tr></tbody></table></div>"
      ],
      "text/plain": [
       "<GenotypeVector shape=(40, 2) dtype=int64>\n",
       "2/2 ./. 0/1 ./. 0/1 ... ./. 0/1 ./. 0/1 ./."
      ]
     },
     "execution_count": 64,
     "metadata": {},
     "output_type": "execute_result"
    }
   ],
   "source": [
    "gc[5]"
   ]
  },
  {
   "cell_type": "code",
   "execution_count": 65,
   "metadata": {},
   "outputs": [
    {
     "data": {
      "text/html": [
       "<div class=\"allel allel-DisplayAs1D\"><span>&lt;GenotypeVector shape=(20, 2) dtype=int64&gt;</span><table><thead><tr><th style=\"text-align: center\">0</th><th style=\"text-align: center\">1</th><th style=\"text-align: center\">2</th><th style=\"text-align: center\">3</th><th style=\"text-align: center\">4</th><th style=\"text-align: center\">...</th><th style=\"text-align: center\">15</th><th style=\"text-align: center\">16</th><th style=\"text-align: center\">17</th><th style=\"text-align: center\">18</th><th style=\"text-align: center\">19</th></tr></thead><tbody><tr><td style=\"text-align: center\">./.</td><td style=\"text-align: center\">./.</td><td style=\"text-align: center\">./.</td><td style=\"text-align: center\">./.</td><td style=\"text-align: center\">./.</td><td style=\"text-align: center\">...</td><td style=\"text-align: center\">./.</td><td style=\"text-align: center\">./.</td><td style=\"text-align: center\">./.</td><td style=\"text-align: center\">./.</td><td style=\"text-align: center\">./.</td></tr></tbody></table></div>"
      ],
      "text/plain": [
       "<GenotypeVector shape=(20, 2) dtype=int64>\n",
       "./. ./. ./. ./. ./. ... ./. ./. ./. ./. ./."
      ]
     },
     "execution_count": 65,
     "metadata": {},
     "output_type": "execute_result"
    }
   ],
   "source": [
    "gc[:, 5]"
   ]
  },
  {
   "cell_type": "code",
   "execution_count": 66,
   "metadata": {},
   "outputs": [
    {
     "data": {
      "text/html": [
       "<div class=\"allel allel-DisplayAs2D\"><span>&lt;GenotypeChunkedArray shape=(3, 40, 2) dtype=int64 chunks=(3, 40, 2)\n",
       "   nbytes=1.9K cbytes=406 cratio=4.7\n",
       "   compression=blosc compression_opts={'cname': 'lz4', 'clevel': 5, 'shuffle': 1}\n",
       "   values=zarr.core.Array&gt;</span><table><thead><tr><th></th><th style=\"text-align: center\">0</th><th style=\"text-align: center\">1</th><th style=\"text-align: center\">2</th><th style=\"text-align: center\">3</th><th style=\"text-align: center\">4</th><th style=\"text-align: center\">...</th><th style=\"text-align: center\">35</th><th style=\"text-align: center\">36</th><th style=\"text-align: center\">37</th><th style=\"text-align: center\">38</th><th style=\"text-align: center\">39</th></tr></thead><tbody><tr><th style=\"text-align: center; background-color: white; border-right: 1px solid black; \">0</th><td style=\"text-align: center\">2/2</td><td style=\"text-align: center\">./.</td><td style=\"text-align: center\">0/1</td><td style=\"text-align: center\">./.</td><td style=\"text-align: center\">0/1</td><td style=\"text-align: center\">...</td><td style=\"text-align: center\">./.</td><td style=\"text-align: center\">0/1</td><td style=\"text-align: center\">./.</td><td style=\"text-align: center\">0/1</td><td style=\"text-align: center\">./.</td></tr><tr><th style=\"text-align: center; background-color: white; border-right: 1px solid black; \">1</th><td style=\"text-align: center\">2/2</td><td style=\"text-align: center\">./.</td><td style=\"text-align: center\">0/1</td><td style=\"text-align: center\">./.</td><td style=\"text-align: center\">0/1</td><td style=\"text-align: center\">...</td><td style=\"text-align: center\">./.</td><td style=\"text-align: center\">0/1</td><td style=\"text-align: center\">./.</td><td style=\"text-align: center\">0/1</td><td style=\"text-align: center\">./.</td></tr><tr><th style=\"text-align: center; background-color: white; border-right: 1px solid black; \">2</th><td style=\"text-align: center\">2/2</td><td style=\"text-align: center\">./.</td><td style=\"text-align: center\">0/1</td><td style=\"text-align: center\">./.</td><td style=\"text-align: center\">0/1</td><td style=\"text-align: center\">...</td><td style=\"text-align: center\">./.</td><td style=\"text-align: center\">0/1</td><td style=\"text-align: center\">./.</td><td style=\"text-align: center\">0/1</td><td style=\"text-align: center\">./.</td></tr></tbody></table></div>"
      ],
      "text/plain": [
       "<GenotypeChunkedArray shape=(3, 40, 2) dtype=int64 chunks=(3, 40, 2)\n",
       "   nbytes=1.9K cbytes=406 cratio=4.7\n",
       "   compression=blosc compression_opts={'cname': 'lz4', 'clevel': 5, 'shuffle': 1}\n",
       "   values=zarr.core.Array>"
      ]
     },
     "execution_count": 66,
     "metadata": {},
     "output_type": "execute_result"
    }
   ],
   "source": [
    "x = gc.take([0, 2, 4], axis=0)\n",
    "x"
   ]
  },
  {
   "cell_type": "code",
   "execution_count": 67,
   "metadata": {},
   "outputs": [
    {
     "data": {
      "text/html": [
       "<div class=\"allel allel-DisplayAs2D\"><span>&lt;GenotypeChunkedArray shape=(20, 3, 2) dtype=int64 chunks=(20, 3, 2)\n",
       "   nbytes=960 cbytes=386 cratio=2.5\n",
       "   compression=blosc compression_opts={'cname': 'lz4', 'clevel': 5, 'shuffle': 1}\n",
       "   values=zarr.core.Array&gt;</span><table><thead><tr><th></th><th style=\"text-align: center\">0</th><th style=\"text-align: center\">1</th><th style=\"text-align: center\">2</th></tr></thead><tbody><tr><th style=\"text-align: center; background-color: white; border-right: 1px solid black; \">0</th><td style=\"text-align: center\">2/2</td><td style=\"text-align: center\">./.</td><td style=\"text-align: center\">0/1</td></tr><tr><th style=\"text-align: center; background-color: white; border-right: 1px solid black; \">1</th><td style=\"text-align: center\">2/2</td><td style=\"text-align: center\">./.</td><td style=\"text-align: center\">0/1</td></tr><tr><th style=\"text-align: center; background-color: white; border-right: 1px solid black; \">2</th><td style=\"text-align: center\">2/2</td><td style=\"text-align: center\">./.</td><td style=\"text-align: center\">0/1</td></tr><tr><th style=\"text-align: center; background-color: white; border-right: 1px solid black; \">...</th><td style=\"text-align: center\" colspan=\"4\">...</td></tr><tr><th style=\"text-align: center; background-color: white; border-right: 1px solid black; \">17</th><td style=\"text-align: center\">2/2</td><td style=\"text-align: center\">./.</td><td style=\"text-align: center\">0/1</td></tr><tr><th style=\"text-align: center; background-color: white; border-right: 1px solid black; \">18</th><td style=\"text-align: center\">2/2</td><td style=\"text-align: center\">./.</td><td style=\"text-align: center\">0/1</td></tr><tr><th style=\"text-align: center; background-color: white; border-right: 1px solid black; \">19</th><td style=\"text-align: center\">2/2</td><td style=\"text-align: center\">./.</td><td style=\"text-align: center\">0/1</td></tr></tbody></table></div>"
      ],
      "text/plain": [
       "<GenotypeChunkedArray shape=(20, 3, 2) dtype=int64 chunks=(20, 3, 2)\n",
       "   nbytes=960 cbytes=386 cratio=2.5\n",
       "   compression=blosc compression_opts={'cname': 'lz4', 'clevel': 5, 'shuffle': 1}\n",
       "   values=zarr.core.Array>"
      ]
     },
     "execution_count": 67,
     "metadata": {},
     "output_type": "execute_result"
    }
   ],
   "source": [
    "gc.take([0, 1, 2], axis=1)"
   ]
  },
  {
   "cell_type": "code",
   "execution_count": 68,
   "metadata": {},
   "outputs": [
    {
     "data": {
      "text/plain": [
       "<ChunkedArrayWrapper shape=(20, 40) dtype=int8 chunks=(20, 40)\n",
       "   nbytes=800 cbytes=360 cratio=2.2\n",
       "   compression=blosc compression_opts={'cname': 'lz4', 'clevel': 5, 'shuffle': 1}\n",
       "   values=zarr.core.Array>"
      ]
     },
     "execution_count": 68,
     "metadata": {},
     "output_type": "execute_result"
    }
   ],
   "source": [
    "gcna = gc.to_n_alt()\n",
    "gcna"
   ]
  },
  {
   "cell_type": "code",
   "execution_count": 69,
   "metadata": {},
   "outputs": [
    {
     "data": {
      "text/plain": [
       "<ChunkedArrayWrapper shape=(20, 40) dtype=bool chunks=(20, 40)\n",
       "   nbytes=800 cbytes=352 cratio=2.3\n",
       "   compression=blosc compression_opts={'cname': 'lz4', 'clevel': 5, 'shuffle': 1}\n",
       "   values=zarr.core.Array>"
      ]
     },
     "execution_count": 69,
     "metadata": {},
     "output_type": "execute_result"
    }
   ],
   "source": [
    "gcna > 0"
   ]
  },
  {
   "cell_type": "code",
   "execution_count": 70,
   "metadata": {},
   "outputs": [
    {
     "data": {
      "text/html": [
       "<div class=\"allel allel-DisplayAs2D\"><span>&lt;HaplotypeChunkedArray shape=(20, 80) dtype=int64 chunks=(20, 80)\n",
       "   nbytes=12.5K cbytes=428 cratio=29.9\n",
       "   compression=blosc compression_opts={'cname': 'lz4', 'clevel': 5, 'shuffle': 1}\n",
       "   values=zarr.core.Array&gt;</span><table><thead><tr><th></th><th style=\"text-align: center\">0</th><th style=\"text-align: center\">1</th><th style=\"text-align: center\">2</th><th style=\"text-align: center\">3</th><th style=\"text-align: center\">4</th><th style=\"text-align: center\">...</th><th style=\"text-align: center\">75</th><th style=\"text-align: center\">76</th><th style=\"text-align: center\">77</th><th style=\"text-align: center\">78</th><th style=\"text-align: center\">79</th></tr></thead><tbody><tr><th style=\"text-align: center; background-color: white; border-right: 1px solid black; \">0</th><td style=\"text-align: center\">2</td><td style=\"text-align: center\">2</td><td style=\"text-align: center\">.</td><td style=\"text-align: center\">.</td><td style=\"text-align: center\">0</td><td style=\"text-align: center\">...</td><td style=\"text-align: center\">.</td><td style=\"text-align: center\">0</td><td style=\"text-align: center\">1</td><td style=\"text-align: center\">.</td><td style=\"text-align: center\">.</td></tr><tr><th style=\"text-align: center; background-color: white; border-right: 1px solid black; \">1</th><td style=\"text-align: center\">2</td><td style=\"text-align: center\">2</td><td style=\"text-align: center\">.</td><td style=\"text-align: center\">.</td><td style=\"text-align: center\">0</td><td style=\"text-align: center\">...</td><td style=\"text-align: center\">.</td><td style=\"text-align: center\">0</td><td style=\"text-align: center\">1</td><td style=\"text-align: center\">.</td><td style=\"text-align: center\">.</td></tr><tr><th style=\"text-align: center; background-color: white; border-right: 1px solid black; \">2</th><td style=\"text-align: center\">2</td><td style=\"text-align: center\">2</td><td style=\"text-align: center\">.</td><td style=\"text-align: center\">.</td><td style=\"text-align: center\">0</td><td style=\"text-align: center\">...</td><td style=\"text-align: center\">.</td><td style=\"text-align: center\">0</td><td style=\"text-align: center\">1</td><td style=\"text-align: center\">.</td><td style=\"text-align: center\">.</td></tr><tr><th style=\"text-align: center; background-color: white; border-right: 1px solid black; \">...</th><td style=\"text-align: center\" colspan=\"12\">...</td></tr><tr><th style=\"text-align: center; background-color: white; border-right: 1px solid black; \">17</th><td style=\"text-align: center\">2</td><td style=\"text-align: center\">2</td><td style=\"text-align: center\">.</td><td style=\"text-align: center\">.</td><td style=\"text-align: center\">0</td><td style=\"text-align: center\">...</td><td style=\"text-align: center\">.</td><td style=\"text-align: center\">0</td><td style=\"text-align: center\">1</td><td style=\"text-align: center\">.</td><td style=\"text-align: center\">.</td></tr><tr><th style=\"text-align: center; background-color: white; border-right: 1px solid black; \">18</th><td style=\"text-align: center\">2</td><td style=\"text-align: center\">2</td><td style=\"text-align: center\">.</td><td style=\"text-align: center\">.</td><td style=\"text-align: center\">0</td><td style=\"text-align: center\">...</td><td style=\"text-align: center\">.</td><td style=\"text-align: center\">0</td><td style=\"text-align: center\">1</td><td style=\"text-align: center\">.</td><td style=\"text-align: center\">.</td></tr><tr><th style=\"text-align: center; background-color: white; border-right: 1px solid black; \">19</th><td style=\"text-align: center\">2</td><td style=\"text-align: center\">2</td><td style=\"text-align: center\">.</td><td style=\"text-align: center\">.</td><td style=\"text-align: center\">0</td><td style=\"text-align: center\">...</td><td style=\"text-align: center\">.</td><td style=\"text-align: center\">0</td><td style=\"text-align: center\">1</td><td style=\"text-align: center\">.</td><td style=\"text-align: center\">.</td></tr></tbody></table></div>"
      ],
      "text/plain": [
       "<HaplotypeChunkedArray shape=(20, 80) dtype=int64 chunks=(20, 80)\n",
       "   nbytes=12.5K cbytes=428 cratio=29.9\n",
       "   compression=blosc compression_opts={'cname': 'lz4', 'clevel': 5, 'shuffle': 1}\n",
       "   values=zarr.core.Array>"
      ]
     },
     "execution_count": 70,
     "metadata": {},
     "output_type": "execute_result"
    }
   ],
   "source": [
    "hc = gc.to_haplotypes()\n",
    "hc"
   ]
  },
  {
   "cell_type": "code",
   "execution_count": 71,
   "metadata": {},
   "outputs": [
    {
     "data": {
      "text/html": [
       "<div class=\"allel allel-DisplayAs2D\"><span>&lt;HaplotypeChunkedArray shape=(20, 3) dtype=int64 chunks=(20, 3)\n",
       "   nbytes=480 cbytes=361 cratio=1.3\n",
       "   compression=blosc compression_opts={'cname': 'lz4', 'clevel': 5, 'shuffle': 1}\n",
       "   values=zarr.core.Array&gt;</span><table><thead><tr><th></th><th style=\"text-align: center\">0</th><th style=\"text-align: center\">1</th><th style=\"text-align: center\">2</th></tr></thead><tbody><tr><th style=\"text-align: center; background-color: white; border-right: 1px solid black; \">0</th><td style=\"text-align: center\">2</td><td style=\"text-align: center\">2</td><td style=\"text-align: center\">.</td></tr><tr><th style=\"text-align: center; background-color: white; border-right: 1px solid black; \">1</th><td style=\"text-align: center\">2</td><td style=\"text-align: center\">2</td><td style=\"text-align: center\">.</td></tr><tr><th style=\"text-align: center; background-color: white; border-right: 1px solid black; \">2</th><td style=\"text-align: center\">2</td><td style=\"text-align: center\">2</td><td style=\"text-align: center\">.</td></tr><tr><th style=\"text-align: center; background-color: white; border-right: 1px solid black; \">...</th><td style=\"text-align: center\" colspan=\"4\">...</td></tr><tr><th style=\"text-align: center; background-color: white; border-right: 1px solid black; \">17</th><td style=\"text-align: center\">2</td><td style=\"text-align: center\">2</td><td style=\"text-align: center\">.</td></tr><tr><th style=\"text-align: center; background-color: white; border-right: 1px solid black; \">18</th><td style=\"text-align: center\">2</td><td style=\"text-align: center\">2</td><td style=\"text-align: center\">.</td></tr><tr><th style=\"text-align: center; background-color: white; border-right: 1px solid black; \">19</th><td style=\"text-align: center\">2</td><td style=\"text-align: center\">2</td><td style=\"text-align: center\">.</td></tr></tbody></table></div>"
      ],
      "text/plain": [
       "<HaplotypeChunkedArray shape=(20, 3) dtype=int64 chunks=(20, 3)\n",
       "   nbytes=480 cbytes=361 cratio=1.3\n",
       "   compression=blosc compression_opts={'cname': 'lz4', 'clevel': 5, 'shuffle': 1}\n",
       "   values=zarr.core.Array>"
      ]
     },
     "execution_count": 71,
     "metadata": {},
     "output_type": "execute_result"
    }
   ],
   "source": [
    "hc.take([0, 1, 2], axis=1)"
   ]
  },
  {
   "cell_type": "code",
   "execution_count": 72,
   "metadata": {},
   "outputs": [
    {
     "data": {
      "text/html": [
       "<div class=\"allel allel-DisplayAs2D\"><span>&lt;AlleleCountsArray shape=(20, 3) dtype=int32&gt;</span><table><thead><tr><th></th><th style=\"text-align: center\">0</th><th style=\"text-align: center\">1</th><th style=\"text-align: center\">2</th></tr></thead><tbody><tr><th style=\"text-align: center; background-color: white; border-right: 1px solid black; \">0</th><td style=\"text-align: center\">19</td><td style=\"text-align: center\">19</td><td style=\"text-align: center\"> 2</td></tr><tr><th style=\"text-align: center; background-color: white; border-right: 1px solid black; \">1</th><td style=\"text-align: center\">19</td><td style=\"text-align: center\">19</td><td style=\"text-align: center\"> 2</td></tr><tr><th style=\"text-align: center; background-color: white; border-right: 1px solid black; \">2</th><td style=\"text-align: center\">19</td><td style=\"text-align: center\">19</td><td style=\"text-align: center\"> 2</td></tr><tr><th style=\"text-align: center; background-color: white; border-right: 1px solid black; \">...</th><td style=\"text-align: center\" colspan=\"4\">...</td></tr><tr><th style=\"text-align: center; background-color: white; border-right: 1px solid black; \">17</th><td style=\"text-align: center\">19</td><td style=\"text-align: center\">19</td><td style=\"text-align: center\"> 2</td></tr><tr><th style=\"text-align: center; background-color: white; border-right: 1px solid black; \">18</th><td style=\"text-align: center\">19</td><td style=\"text-align: center\">19</td><td style=\"text-align: center\"> 2</td></tr><tr><th style=\"text-align: center; background-color: white; border-right: 1px solid black; \">19</th><td style=\"text-align: center\">19</td><td style=\"text-align: center\">19</td><td style=\"text-align: center\"> 2</td></tr></tbody></table></div>"
      ],
      "text/plain": [
       "<AlleleCountsArray shape=(20, 3) dtype=int32>\n",
       "19 19  2\n",
       "19 19  2\n",
       "19 19  2\n",
       "...\n",
       "19 19  2\n",
       "19 19  2\n",
       "19 19  2"
      ]
     },
     "execution_count": 72,
     "metadata": {},
     "output_type": "execute_result"
    }
   ],
   "source": [
    "ac = g.count_alleles()\n",
    "ac"
   ]
  },
  {
   "cell_type": "code",
   "execution_count": 73,
   "metadata": {},
   "outputs": [
    {
     "data": {
      "text/html": [
       "<div class=\"allel allel-DisplayAs2D\"><span>&lt;AlleleCountsChunkedArray shape=(20, 3) dtype=int32 chunks=(20, 3)\n",
       "   nbytes=240 cbytes=356 cratio=0.7\n",
       "   compression=blosc compression_opts={'cname': 'lz4', 'clevel': 5, 'shuffle': 1}\n",
       "   values=zarr.core.Array&gt;</span><table><thead><tr><th></th><th style=\"text-align: center\">0</th><th style=\"text-align: center\">1</th><th style=\"text-align: center\">2</th></tr></thead><tbody><tr><th style=\"text-align: center; background-color: white; border-right: 1px solid black; \">0</th><td style=\"text-align: center\">19</td><td style=\"text-align: center\">19</td><td style=\"text-align: center\"> 2</td></tr><tr><th style=\"text-align: center; background-color: white; border-right: 1px solid black; \">1</th><td style=\"text-align: center\">19</td><td style=\"text-align: center\">19</td><td style=\"text-align: center\"> 2</td></tr><tr><th style=\"text-align: center; background-color: white; border-right: 1px solid black; \">2</th><td style=\"text-align: center\">19</td><td style=\"text-align: center\">19</td><td style=\"text-align: center\"> 2</td></tr><tr><th style=\"text-align: center; background-color: white; border-right: 1px solid black; \">...</th><td style=\"text-align: center\" colspan=\"4\">...</td></tr><tr><th style=\"text-align: center; background-color: white; border-right: 1px solid black; \">17</th><td style=\"text-align: center\">19</td><td style=\"text-align: center\">19</td><td style=\"text-align: center\"> 2</td></tr><tr><th style=\"text-align: center; background-color: white; border-right: 1px solid black; \">18</th><td style=\"text-align: center\">19</td><td style=\"text-align: center\">19</td><td style=\"text-align: center\"> 2</td></tr><tr><th style=\"text-align: center; background-color: white; border-right: 1px solid black; \">19</th><td style=\"text-align: center\">19</td><td style=\"text-align: center\">19</td><td style=\"text-align: center\"> 2</td></tr></tbody></table></div>"
      ],
      "text/plain": [
       "<AlleleCountsChunkedArray shape=(20, 3) dtype=int32 chunks=(20, 3)\n",
       "   nbytes=240 cbytes=356 cratio=0.7\n",
       "   compression=blosc compression_opts={'cname': 'lz4', 'clevel': 5, 'shuffle': 1}\n",
       "   values=zarr.core.Array>"
      ]
     },
     "execution_count": 73,
     "metadata": {},
     "output_type": "execute_result"
    }
   ],
   "source": [
    "acc = gc.count_alleles()\n",
    "acc"
   ]
  },
  {
   "cell_type": "code",
   "execution_count": 74,
   "metadata": {},
   "outputs": [
    {
     "data": {
      "text/plain": [
       "<ChunkedArrayWrapper shape=(20, 40) dtype=bool chunks=(20, 40)\n",
       "   nbytes=800 cbytes=352 cratio=2.3\n",
       "   compression=blosc compression_opts={'cname': 'lz4', 'clevel': 5, 'shuffle': 1}\n",
       "   values=zarr.core.Array>"
      ]
     },
     "execution_count": 74,
     "metadata": {},
     "output_type": "execute_result"
    }
   ],
   "source": [
    "gc.is_called()"
   ]
  },
  {
   "cell_type": "code",
   "execution_count": 75,
   "metadata": {},
   "outputs": [
    {
     "data": {
      "text/plain": [
       "<ChunkedArrayWrapper shape=(20, 40) dtype=int8 chunks=(20, 40)\n",
       "   nbytes=800 cbytes=360 cratio=2.2\n",
       "   compression=blosc compression_opts={'cname': 'lz4', 'clevel': 5, 'shuffle': 1}\n",
       "   values=zarr.core.Array>"
      ]
     },
     "execution_count": 75,
     "metadata": {},
     "output_type": "execute_result"
    }
   ],
   "source": [
    "gc.to_n_alt()"
   ]
  },
  {
   "cell_type": "code",
   "execution_count": 76,
   "metadata": {},
   "outputs": [
    {
     "data": {
      "text/html": [
       "<div class=\"allel allel-DisplayAsTable\"><span>&lt;VariantChunkedTable shape=(48772,) dtype=[('POS', '&lt;i8'), ('REF', 'S1'), ('ALT', 'S1')]\n",
       "   nbytes=476.3K cbytes=127.4K cratio=3.7\n",
       "   values=allel.chunked.storage_zarr.ZarrTable&gt;</span><table><thead><tr><th></th><th style=\"text-align: center\">POS</th><th style=\"text-align: center\">REF</th><th style=\"text-align: center\">ALT</th></tr></thead><tbody><tr><th style=\"text-align: center; background-color: white; border-right: 1px solid black; \">0</th><td style=\"text-align: center\">16</td><td style=\"text-align: center\">b'G'</td><td style=\"text-align: center\">b'G'</td></tr><tr><th style=\"text-align: center; background-color: white; border-right: 1px solid black; \">1</th><td style=\"text-align: center\">22</td><td style=\"text-align: center\">b'C'</td><td style=\"text-align: center\">b'G'</td></tr><tr><th style=\"text-align: center; background-color: white; border-right: 1px solid black; \">2</th><td style=\"text-align: center\">54</td><td style=\"text-align: center\">b'G'</td><td style=\"text-align: center\">b'G'</td></tr><tr><th style=\"text-align: center; background-color: white; border-right: 1px solid black; \">...</th><td style=\"text-align: center\" colspan=\"4\">...</td></tr><tr><th style=\"text-align: center; background-color: white; border-right: 1px solid black; \">48769</th><td style=\"text-align: center\">999938</td><td style=\"text-align: center\">b'C'</td><td style=\"text-align: center\">b'C'</td></tr><tr><th style=\"text-align: center; background-color: white; border-right: 1px solid black; \">48770</th><td style=\"text-align: center\">999977</td><td style=\"text-align: center\">b'C'</td><td style=\"text-align: center\">b'C'</td></tr><tr><th style=\"text-align: center; background-color: white; border-right: 1px solid black; \">48771</th><td style=\"text-align: center\">999993</td><td style=\"text-align: center\">b'G'</td><td style=\"text-align: center\">b'G'</td></tr></tbody></table></div>"
      ],
      "text/plain": [
       "<VariantChunkedTable shape=(48772,) dtype=[('POS', '<i8'), ('REF', 'S1'), ('ALT', 'S1')]\n",
       "   nbytes=476.3K cbytes=127.4K cratio=3.7\n",
       "   values=allel.chunked.storage_zarr.ZarrTable>"
      ]
     },
     "execution_count": 76,
     "metadata": {},
     "output_type": "execute_result"
    }
   ],
   "source": [
    "vctbl = allel.VariantChunkedTable(vtbl).copy()\n",
    "vctbl"
   ]
  },
  {
   "cell_type": "code",
   "execution_count": 77,
   "metadata": {},
   "outputs": [
    {
     "data": {
      "text/html": [
       "<div class=\"allel allel-DisplayAsTable\"><span>&lt;VariantTable shape=(48772,) dtype=(numpy.record, [('POS', '&lt;i8'), ('REF', 'S1'), ('ALT', 'S1')])&gt;</span><table><thead><tr><th></th><th style=\"text-align: center\">POS</th><th style=\"text-align: center\">REF</th><th style=\"text-align: center\">ALT</th></tr></thead><tbody><tr><th style=\"text-align: center; background-color: white; border-right: 1px solid black; \">0</th><td style=\"text-align: center\">16</td><td style=\"text-align: center\">b'G'</td><td style=\"text-align: center\">b'G'</td></tr><tr><th style=\"text-align: center; background-color: white; border-right: 1px solid black; \">1</th><td style=\"text-align: center\">22</td><td style=\"text-align: center\">b'C'</td><td style=\"text-align: center\">b'G'</td></tr><tr><th style=\"text-align: center; background-color: white; border-right: 1px solid black; \">2</th><td style=\"text-align: center\">54</td><td style=\"text-align: center\">b'G'</td><td style=\"text-align: center\">b'G'</td></tr><tr><th style=\"text-align: center; background-color: white; border-right: 1px solid black; \">...</th><td style=\"text-align: center\" colspan=\"4\">...</td></tr><tr><th style=\"text-align: center; background-color: white; border-right: 1px solid black; \">48769</th><td style=\"text-align: center\">999938</td><td style=\"text-align: center\">b'C'</td><td style=\"text-align: center\">b'C'</td></tr><tr><th style=\"text-align: center; background-color: white; border-right: 1px solid black; \">48770</th><td style=\"text-align: center\">999977</td><td style=\"text-align: center\">b'C'</td><td style=\"text-align: center\">b'C'</td></tr><tr><th style=\"text-align: center; background-color: white; border-right: 1px solid black; \">48771</th><td style=\"text-align: center\">999993</td><td style=\"text-align: center\">b'G'</td><td style=\"text-align: center\">b'G'</td></tr></tbody></table></div>"
      ],
      "text/plain": [
       "<VariantTable shape=(48772,) dtype=(numpy.record, [('POS', '<i8'), ('REF', 'S1'), ('ALT', 'S1')])>\n",
       "[(    16, b'G', b'G') (    22, b'C', b'G') (    54, b'G', b'G') ...,\n",
       " (999938, b'C', b'C') (999977, b'C', b'C') (999993, b'G', b'G')]"
      ]
     },
     "execution_count": 77,
     "metadata": {},
     "output_type": "execute_result"
    }
   ],
   "source": [
    "vctbl[:]"
   ]
  },
  {
   "cell_type": "markdown",
   "metadata": {},
   "source": [
    "## Dask arrays"
   ]
  },
  {
   "cell_type": "code",
   "execution_count": 78,
   "metadata": {},
   "outputs": [
    {
     "data": {
      "text/html": [
       "<div class=\"allel allel-DisplayAs2D\"><span>&lt;GenotypeArray shape=(20, 40, 2) dtype=int64&gt;</span><table><thead><tr><th></th><th style=\"text-align: center\">0</th><th style=\"text-align: center\">1</th><th style=\"text-align: center\">2</th><th style=\"text-align: center\">3</th><th style=\"text-align: center\">4</th><th style=\"text-align: center\">...</th><th style=\"text-align: center\">35</th><th style=\"text-align: center\">36</th><th style=\"text-align: center\">37</th><th style=\"text-align: center\">38</th><th style=\"text-align: center\">39</th></tr></thead><tbody><tr><th style=\"text-align: center; background-color: white; border-right: 1px solid black; \">0</th><td style=\"text-align: center\">2|2</td><td style=\"text-align: center\">./.</td><td style=\"text-align: center\">0/1</td><td style=\"text-align: center\">./.</td><td style=\"text-align: center\">0|1</td><td style=\"text-align: center\">...</td><td style=\"text-align: center\">./.</td><td style=\"text-align: center\">0|1</td><td style=\"text-align: center\">./.</td><td style=\"text-align: center\">0/1</td><td style=\"text-align: center\">./.</td></tr><tr><th style=\"text-align: center; background-color: white; border-right: 1px solid black; \">1</th><td style=\"text-align: center\">2|2</td><td style=\"text-align: center\">./.</td><td style=\"text-align: center\">0/1</td><td style=\"text-align: center\">./.</td><td style=\"text-align: center\">0|1</td><td style=\"text-align: center\">...</td><td style=\"text-align: center\">./.</td><td style=\"text-align: center\">0|1</td><td style=\"text-align: center\">./.</td><td style=\"text-align: center\">0/1</td><td style=\"text-align: center\">./.</td></tr><tr><th style=\"text-align: center; background-color: white; border-right: 1px solid black; \">2</th><td style=\"text-align: center\">2|2</td><td style=\"text-align: center\">./.</td><td style=\"text-align: center\">0/1</td><td style=\"text-align: center\">./.</td><td style=\"text-align: center\">0|1</td><td style=\"text-align: center\">...</td><td style=\"text-align: center\">./.</td><td style=\"text-align: center\">0|1</td><td style=\"text-align: center\">./.</td><td style=\"text-align: center\">0/1</td><td style=\"text-align: center\">./.</td></tr><tr><th style=\"text-align: center; background-color: white; border-right: 1px solid black; \">...</th><td style=\"text-align: center\" colspan=\"12\">...</td></tr><tr><th style=\"text-align: center; background-color: white; border-right: 1px solid black; \">17</th><td style=\"text-align: center\">2|2</td><td style=\"text-align: center\">./.</td><td style=\"text-align: center\">0/1</td><td style=\"text-align: center\">./.</td><td style=\"text-align: center\">0|1</td><td style=\"text-align: center\">...</td><td style=\"text-align: center\">./.</td><td style=\"text-align: center\">0|1</td><td style=\"text-align: center\">./.</td><td style=\"text-align: center\">0/1</td><td style=\"text-align: center\">./.</td></tr><tr><th style=\"text-align: center; background-color: white; border-right: 1px solid black; \">18</th><td style=\"text-align: center\">2|2</td><td style=\"text-align: center\">./.</td><td style=\"text-align: center\">0/1</td><td style=\"text-align: center\">./.</td><td style=\"text-align: center\">0|1</td><td style=\"text-align: center\">...</td><td style=\"text-align: center\">./.</td><td style=\"text-align: center\">0|1</td><td style=\"text-align: center\">./.</td><td style=\"text-align: center\">0/1</td><td style=\"text-align: center\">./.</td></tr><tr><th style=\"text-align: center; background-color: white; border-right: 1px solid black; \">19</th><td style=\"text-align: center\">2|2</td><td style=\"text-align: center\">./.</td><td style=\"text-align: center\">0/1</td><td style=\"text-align: center\">./.</td><td style=\"text-align: center\">0|1</td><td style=\"text-align: center\">...</td><td style=\"text-align: center\">./.</td><td style=\"text-align: center\">0|1</td><td style=\"text-align: center\">./.</td><td style=\"text-align: center\">0/1</td><td style=\"text-align: center\">./.</td></tr></tbody></table></div>"
      ],
      "text/plain": [
       "<GenotypeArray shape=(20, 40, 2) dtype=int64>\n",
       "2|2 ./. 0/1 ./. 0|1 ... ./. 0|1 ./. 0/1 ./.\n",
       "2|2 ./. 0/1 ./. 0|1 ... ./. 0|1 ./. 0/1 ./.\n",
       "2|2 ./. 0/1 ./. 0|1 ... ./. 0|1 ./. 0/1 ./.\n",
       "...\n",
       "2|2 ./. 0/1 ./. 0|1 ... ./. 0|1 ./. 0/1 ./.\n",
       "2|2 ./. 0/1 ./. 0|1 ... ./. 0|1 ./. 0/1 ./.\n",
       "2|2 ./. 0/1 ./. 0|1 ... ./. 0|1 ./. 0/1 ./."
      ]
     },
     "execution_count": 78,
     "metadata": {},
     "output_type": "execute_result"
    }
   ],
   "source": [
    "g"
   ]
  },
  {
   "cell_type": "code",
   "execution_count": 79,
   "metadata": {},
   "outputs": [],
   "source": [
    "gd = allel.GenotypeDaskArray(g)"
   ]
  },
  {
   "cell_type": "code",
   "execution_count": 80,
   "metadata": {},
   "outputs": [
    {
     "data": {
      "text/plain": [
       "True"
      ]
     },
     "execution_count": 80,
     "metadata": {},
     "output_type": "execute_result"
    }
   ],
   "source": [
    "gd.mask is None"
   ]
  },
  {
   "cell_type": "code",
   "execution_count": 81,
   "metadata": {},
   "outputs": [
    {
     "data": {
      "text/plain": [
       "True"
      ]
     },
     "execution_count": 81,
     "metadata": {},
     "output_type": "execute_result"
    }
   ],
   "source": [
    "gd.is_phased is None"
   ]
  },
  {
   "cell_type": "code",
   "execution_count": 82,
   "metadata": {},
   "outputs": [
    {
     "name": "stdout",
     "output_type": "stream",
     "text": [
      "<GenotypeDaskArray shape=(20, 40, 2) dtype=int64>\n"
     ]
    }
   ],
   "source": [
    "print(repr(gd))"
   ]
  },
  {
   "cell_type": "code",
   "execution_count": 83,
   "metadata": {},
   "outputs": [
    {
     "name": "stdout",
     "output_type": "stream",
     "text": [
      "2/2 ./. 0/1 ./. 0/1 ... ./. 0/1 ./. 0/1 ./.\n",
      "2/2 ./. 0/1 ./. 0/1 ... ./. 0/1 ./. 0/1 ./.\n",
      "2/2 ./. 0/1 ./. 0/1 ... ./. 0/1 ./. 0/1 ./.\n",
      "...\n",
      "2/2 ./. 0/1 ./. 0/1 ... ./. 0/1 ./. 0/1 ./.\n",
      "2/2 ./. 0/1 ./. 0/1 ... ./. 0/1 ./. 0/1 ./.\n",
      "2/2 ./. 0/1 ./. 0/1 ... ./. 0/1 ./. 0/1 ./.\n",
      "\n"
     ]
    }
   ],
   "source": [
    "print(gd)"
   ]
  },
  {
   "cell_type": "code",
   "execution_count": 84,
   "metadata": {},
   "outputs": [
    {
     "data": {
      "text/html": [
       "<div class=\"allel allel-DisplayAs2D\"><span>&lt;GenotypeDaskArray shape=(20, 40, 2) dtype=int64&gt;</span><table><thead><tr><th></th><th style=\"text-align: center\">0</th><th style=\"text-align: center\">1</th><th style=\"text-align: center\">2</th><th style=\"text-align: center\">3</th><th style=\"text-align: center\">4</th><th style=\"text-align: center\">...</th><th style=\"text-align: center\">35</th><th style=\"text-align: center\">36</th><th style=\"text-align: center\">37</th><th style=\"text-align: center\">38</th><th style=\"text-align: center\">39</th></tr></thead><tbody><tr><th style=\"text-align: center; background-color: white; border-right: 1px solid black; \">0</th><td style=\"text-align: center\">2/2</td><td style=\"text-align: center\">./.</td><td style=\"text-align: center\">0/1</td><td style=\"text-align: center\">./.</td><td style=\"text-align: center\">0/1</td><td style=\"text-align: center\">...</td><td style=\"text-align: center\">./.</td><td style=\"text-align: center\">0/1</td><td style=\"text-align: center\">./.</td><td style=\"text-align: center\">0/1</td><td style=\"text-align: center\">./.</td></tr><tr><th style=\"text-align: center; background-color: white; border-right: 1px solid black; \">1</th><td style=\"text-align: center\">2/2</td><td style=\"text-align: center\">./.</td><td style=\"text-align: center\">0/1</td><td style=\"text-align: center\">./.</td><td style=\"text-align: center\">0/1</td><td style=\"text-align: center\">...</td><td style=\"text-align: center\">./.</td><td style=\"text-align: center\">0/1</td><td style=\"text-align: center\">./.</td><td style=\"text-align: center\">0/1</td><td style=\"text-align: center\">./.</td></tr><tr><th style=\"text-align: center; background-color: white; border-right: 1px solid black; \">2</th><td style=\"text-align: center\">2/2</td><td style=\"text-align: center\">./.</td><td style=\"text-align: center\">0/1</td><td style=\"text-align: center\">./.</td><td style=\"text-align: center\">0/1</td><td style=\"text-align: center\">...</td><td style=\"text-align: center\">./.</td><td style=\"text-align: center\">0/1</td><td style=\"text-align: center\">./.</td><td style=\"text-align: center\">0/1</td><td style=\"text-align: center\">./.</td></tr><tr><th style=\"text-align: center; background-color: white; border-right: 1px solid black; \">...</th><td style=\"text-align: center\" colspan=\"12\">...</td></tr><tr><th style=\"text-align: center; background-color: white; border-right: 1px solid black; \">17</th><td style=\"text-align: center\">2/2</td><td style=\"text-align: center\">./.</td><td style=\"text-align: center\">0/1</td><td style=\"text-align: center\">./.</td><td style=\"text-align: center\">0/1</td><td style=\"text-align: center\">...</td><td style=\"text-align: center\">./.</td><td style=\"text-align: center\">0/1</td><td style=\"text-align: center\">./.</td><td style=\"text-align: center\">0/1</td><td style=\"text-align: center\">./.</td></tr><tr><th style=\"text-align: center; background-color: white; border-right: 1px solid black; \">18</th><td style=\"text-align: center\">2/2</td><td style=\"text-align: center\">./.</td><td style=\"text-align: center\">0/1</td><td style=\"text-align: center\">./.</td><td style=\"text-align: center\">0/1</td><td style=\"text-align: center\">...</td><td style=\"text-align: center\">./.</td><td style=\"text-align: center\">0/1</td><td style=\"text-align: center\">./.</td><td style=\"text-align: center\">0/1</td><td style=\"text-align: center\">./.</td></tr><tr><th style=\"text-align: center; background-color: white; border-right: 1px solid black; \">19</th><td style=\"text-align: center\">2/2</td><td style=\"text-align: center\">./.</td><td style=\"text-align: center\">0/1</td><td style=\"text-align: center\">./.</td><td style=\"text-align: center\">0/1</td><td style=\"text-align: center\">...</td><td style=\"text-align: center\">./.</td><td style=\"text-align: center\">0/1</td><td style=\"text-align: center\">./.</td><td style=\"text-align: center\">0/1</td><td style=\"text-align: center\">./.</td></tr></tbody></table></div>"
      ],
      "text/plain": [
       "<GenotypeDaskArray shape=(20, 40, 2) dtype=int64>"
      ]
     },
     "execution_count": 84,
     "metadata": {},
     "output_type": "execute_result"
    }
   ],
   "source": [
    "gd"
   ]
  },
  {
   "cell_type": "code",
   "execution_count": 85,
   "metadata": {},
   "outputs": [
    {
     "data": {
      "text/plain": [
       "dask.array<array, shape=(20, 40, 2), dtype=int64, chunksize=(20, 40, 2)>"
      ]
     },
     "execution_count": 85,
     "metadata": {},
     "output_type": "execute_result"
    }
   ],
   "source": [
    "gd.values"
   ]
  },
  {
   "cell_type": "code",
   "execution_count": 86,
   "metadata": {},
   "outputs": [
    {
     "data": {
      "text/plain": [
       "'array-02899a22ff9fd8802550da9027abb49d'"
      ]
     },
     "execution_count": 86,
     "metadata": {},
     "output_type": "execute_result"
    }
   ],
   "source": [
    "gd.values.name"
   ]
  },
  {
   "cell_type": "code",
   "execution_count": 87,
   "metadata": {},
   "outputs": [
    {
     "data": {
      "text/html": [
       "<div class=\"allel allel-DisplayAs2D\"><span>&lt;GenotypeDaskArray shape=(20, 40, 2) dtype=int64&gt;</span><table><thead><tr><th></th><th style=\"text-align: center\">0</th><th style=\"text-align: center\">1</th><th style=\"text-align: center\">2</th><th style=\"text-align: center\">3</th><th style=\"text-align: center\">4</th><th style=\"text-align: center\">...</th><th style=\"text-align: center\">35</th><th style=\"text-align: center\">36</th><th style=\"text-align: center\">37</th><th style=\"text-align: center\">38</th><th style=\"text-align: center\">39</th></tr></thead><tbody><tr><th style=\"text-align: center; background-color: white; border-right: 1px solid black; \">0</th><td style=\"text-align: center\">2/2</td><td style=\"text-align: center\">./.</td><td style=\"text-align: center\">0/1</td><td style=\"text-align: center\">./.</td><td style=\"text-align: center\">0/1</td><td style=\"text-align: center\">...</td><td style=\"text-align: center\">./.</td><td style=\"text-align: center\">0/1</td><td style=\"text-align: center\">./.</td><td style=\"text-align: center\">0/1</td><td style=\"text-align: center\">./.</td></tr><tr><th style=\"text-align: center; background-color: white; border-right: 1px solid black; \">1</th><td style=\"text-align: center\">2/2</td><td style=\"text-align: center\">./.</td><td style=\"text-align: center\">0/1</td><td style=\"text-align: center\">./.</td><td style=\"text-align: center\">0/1</td><td style=\"text-align: center\">...</td><td style=\"text-align: center\">./.</td><td style=\"text-align: center\">0/1</td><td style=\"text-align: center\">./.</td><td style=\"text-align: center\">0/1</td><td style=\"text-align: center\">./.</td></tr><tr><th style=\"text-align: center; background-color: white; border-right: 1px solid black; \">2</th><td style=\"text-align: center\">2/2</td><td style=\"text-align: center\">./.</td><td style=\"text-align: center\">0/1</td><td style=\"text-align: center\">./.</td><td style=\"text-align: center\">0/1</td><td style=\"text-align: center\">...</td><td style=\"text-align: center\">./.</td><td style=\"text-align: center\">0/1</td><td style=\"text-align: center\">./.</td><td style=\"text-align: center\">0/1</td><td style=\"text-align: center\">./.</td></tr><tr><th style=\"text-align: center; background-color: white; border-right: 1px solid black; \">...</th><td style=\"text-align: center\" colspan=\"12\">...</td></tr><tr><th style=\"text-align: center; background-color: white; border-right: 1px solid black; \">17</th><td style=\"text-align: center\">2/2</td><td style=\"text-align: center\">./.</td><td style=\"text-align: center\">0/1</td><td style=\"text-align: center\">./.</td><td style=\"text-align: center\">0/1</td><td style=\"text-align: center\">...</td><td style=\"text-align: center\">./.</td><td style=\"text-align: center\">0/1</td><td style=\"text-align: center\">./.</td><td style=\"text-align: center\">0/1</td><td style=\"text-align: center\">./.</td></tr><tr><th style=\"text-align: center; background-color: white; border-right: 1px solid black; \">18</th><td style=\"text-align: center\">2/2</td><td style=\"text-align: center\">./.</td><td style=\"text-align: center\">0/1</td><td style=\"text-align: center\">./.</td><td style=\"text-align: center\">0/1</td><td style=\"text-align: center\">...</td><td style=\"text-align: center\">./.</td><td style=\"text-align: center\">0/1</td><td style=\"text-align: center\">./.</td><td style=\"text-align: center\">0/1</td><td style=\"text-align: center\">./.</td></tr><tr><th style=\"text-align: center; background-color: white; border-right: 1px solid black; \">19</th><td style=\"text-align: center\">2/2</td><td style=\"text-align: center\">./.</td><td style=\"text-align: center\">0/1</td><td style=\"text-align: center\">./.</td><td style=\"text-align: center\">0/1</td><td style=\"text-align: center\">...</td><td style=\"text-align: center\">./.</td><td style=\"text-align: center\">0/1</td><td style=\"text-align: center\">./.</td><td style=\"text-align: center\">0/1</td><td style=\"text-align: center\">./.</td></tr></tbody></table></div>"
      ],
      "text/plain": [
       "<GenotypeDaskArray shape=(20, 40, 2) dtype=int64>"
      ]
     },
     "execution_count": 87,
     "metadata": {},
     "output_type": "execute_result"
    }
   ],
   "source": [
    "gd[:]"
   ]
  },
  {
   "cell_type": "code",
   "execution_count": 88,
   "metadata": {},
   "outputs": [
    {
     "data": {
      "text/html": [
       "<div class=\"allel allel-DisplayAs2D\"><span>&lt;GenotypeDaskArray shape=(5, 40, 2) dtype=int64&gt;</span><table><thead><tr><th></th><th style=\"text-align: center\">0</th><th style=\"text-align: center\">1</th><th style=\"text-align: center\">2</th><th style=\"text-align: center\">3</th><th style=\"text-align: center\">4</th><th style=\"text-align: center\">...</th><th style=\"text-align: center\">35</th><th style=\"text-align: center\">36</th><th style=\"text-align: center\">37</th><th style=\"text-align: center\">38</th><th style=\"text-align: center\">39</th></tr></thead><tbody><tr><th style=\"text-align: center; background-color: white; border-right: 1px solid black; \">0</th><td style=\"text-align: center\">2/2</td><td style=\"text-align: center\">./.</td><td style=\"text-align: center\">0/1</td><td style=\"text-align: center\">./.</td><td style=\"text-align: center\">0/1</td><td style=\"text-align: center\">...</td><td style=\"text-align: center\">./.</td><td style=\"text-align: center\">0/1</td><td style=\"text-align: center\">./.</td><td style=\"text-align: center\">0/1</td><td style=\"text-align: center\">./.</td></tr><tr><th style=\"text-align: center; background-color: white; border-right: 1px solid black; \">1</th><td style=\"text-align: center\">2/2</td><td style=\"text-align: center\">./.</td><td style=\"text-align: center\">0/1</td><td style=\"text-align: center\">./.</td><td style=\"text-align: center\">0/1</td><td style=\"text-align: center\">...</td><td style=\"text-align: center\">./.</td><td style=\"text-align: center\">0/1</td><td style=\"text-align: center\">./.</td><td style=\"text-align: center\">0/1</td><td style=\"text-align: center\">./.</td></tr><tr><th style=\"text-align: center; background-color: white; border-right: 1px solid black; \">2</th><td style=\"text-align: center\">2/2</td><td style=\"text-align: center\">./.</td><td style=\"text-align: center\">0/1</td><td style=\"text-align: center\">./.</td><td style=\"text-align: center\">0/1</td><td style=\"text-align: center\">...</td><td style=\"text-align: center\">./.</td><td style=\"text-align: center\">0/1</td><td style=\"text-align: center\">./.</td><td style=\"text-align: center\">0/1</td><td style=\"text-align: center\">./.</td></tr><tr><th style=\"text-align: center; background-color: white; border-right: 1px solid black; \">3</th><td style=\"text-align: center\">2/2</td><td style=\"text-align: center\">./.</td><td style=\"text-align: center\">0/1</td><td style=\"text-align: center\">./.</td><td style=\"text-align: center\">0/1</td><td style=\"text-align: center\">...</td><td style=\"text-align: center\">./.</td><td style=\"text-align: center\">0/1</td><td style=\"text-align: center\">./.</td><td style=\"text-align: center\">0/1</td><td style=\"text-align: center\">./.</td></tr><tr><th style=\"text-align: center; background-color: white; border-right: 1px solid black; \">4</th><td style=\"text-align: center\">2/2</td><td style=\"text-align: center\">./.</td><td style=\"text-align: center\">0/1</td><td style=\"text-align: center\">./.</td><td style=\"text-align: center\">0/1</td><td style=\"text-align: center\">...</td><td style=\"text-align: center\">./.</td><td style=\"text-align: center\">0/1</td><td style=\"text-align: center\">./.</td><td style=\"text-align: center\">0/1</td><td style=\"text-align: center\">./.</td></tr></tbody></table></div>"
      ],
      "text/plain": [
       "<GenotypeDaskArray shape=(5, 40, 2) dtype=int64>"
      ]
     },
     "execution_count": 88,
     "metadata": {},
     "output_type": "execute_result"
    }
   ],
   "source": [
    "gd[:5]"
   ]
  },
  {
   "cell_type": "code",
   "execution_count": 89,
   "metadata": {},
   "outputs": [
    {
     "data": {
      "text/html": [
       "<div class=\"allel allel-DisplayAs2D\"><span>&lt;GenotypeArray shape=(20, 40, 2) dtype=int64&gt;</span><table><thead><tr><th></th><th style=\"text-align: center\">0</th><th style=\"text-align: center\">1</th><th style=\"text-align: center\">2</th><th style=\"text-align: center\">3</th><th style=\"text-align: center\">4</th><th style=\"text-align: center\">...</th><th style=\"text-align: center\">35</th><th style=\"text-align: center\">36</th><th style=\"text-align: center\">37</th><th style=\"text-align: center\">38</th><th style=\"text-align: center\">39</th></tr></thead><tbody><tr><th style=\"text-align: center; background-color: white; border-right: 1px solid black; \">0</th><td style=\"text-align: center\">2/2</td><td style=\"text-align: center\">./.</td><td style=\"text-align: center\">0/1</td><td style=\"text-align: center\">./.</td><td style=\"text-align: center\">0/1</td><td style=\"text-align: center\">...</td><td style=\"text-align: center\">./.</td><td style=\"text-align: center\">0/1</td><td style=\"text-align: center\">./.</td><td style=\"text-align: center\">0/1</td><td style=\"text-align: center\">./.</td></tr><tr><th style=\"text-align: center; background-color: white; border-right: 1px solid black; \">1</th><td style=\"text-align: center\">2/2</td><td style=\"text-align: center\">./.</td><td style=\"text-align: center\">0/1</td><td style=\"text-align: center\">./.</td><td style=\"text-align: center\">0/1</td><td style=\"text-align: center\">...</td><td style=\"text-align: center\">./.</td><td style=\"text-align: center\">0/1</td><td style=\"text-align: center\">./.</td><td style=\"text-align: center\">0/1</td><td style=\"text-align: center\">./.</td></tr><tr><th style=\"text-align: center; background-color: white; border-right: 1px solid black; \">2</th><td style=\"text-align: center\">2/2</td><td style=\"text-align: center\">./.</td><td style=\"text-align: center\">0/1</td><td style=\"text-align: center\">./.</td><td style=\"text-align: center\">0/1</td><td style=\"text-align: center\">...</td><td style=\"text-align: center\">./.</td><td style=\"text-align: center\">0/1</td><td style=\"text-align: center\">./.</td><td style=\"text-align: center\">0/1</td><td style=\"text-align: center\">./.</td></tr><tr><th style=\"text-align: center; background-color: white; border-right: 1px solid black; \">...</th><td style=\"text-align: center\" colspan=\"12\">...</td></tr><tr><th style=\"text-align: center; background-color: white; border-right: 1px solid black; \">17</th><td style=\"text-align: center\">2/2</td><td style=\"text-align: center\">./.</td><td style=\"text-align: center\">0/1</td><td style=\"text-align: center\">./.</td><td style=\"text-align: center\">0/1</td><td style=\"text-align: center\">...</td><td style=\"text-align: center\">./.</td><td style=\"text-align: center\">0/1</td><td style=\"text-align: center\">./.</td><td style=\"text-align: center\">0/1</td><td style=\"text-align: center\">./.</td></tr><tr><th style=\"text-align: center; background-color: white; border-right: 1px solid black; \">18</th><td style=\"text-align: center\">2/2</td><td style=\"text-align: center\">./.</td><td style=\"text-align: center\">0/1</td><td style=\"text-align: center\">./.</td><td style=\"text-align: center\">0/1</td><td style=\"text-align: center\">...</td><td style=\"text-align: center\">./.</td><td style=\"text-align: center\">0/1</td><td style=\"text-align: center\">./.</td><td style=\"text-align: center\">0/1</td><td style=\"text-align: center\">./.</td></tr><tr><th style=\"text-align: center; background-color: white; border-right: 1px solid black; \">19</th><td style=\"text-align: center\">2/2</td><td style=\"text-align: center\">./.</td><td style=\"text-align: center\">0/1</td><td style=\"text-align: center\">./.</td><td style=\"text-align: center\">0/1</td><td style=\"text-align: center\">...</td><td style=\"text-align: center\">./.</td><td style=\"text-align: center\">0/1</td><td style=\"text-align: center\">./.</td><td style=\"text-align: center\">0/1</td><td style=\"text-align: center\">./.</td></tr></tbody></table></div>"
      ],
      "text/plain": [
       "<GenotypeArray shape=(20, 40, 2) dtype=int64>\n",
       "2/2 ./. 0/1 ./. 0/1 ... ./. 0/1 ./. 0/1 ./.\n",
       "2/2 ./. 0/1 ./. 0/1 ... ./. 0/1 ./. 0/1 ./.\n",
       "2/2 ./. 0/1 ./. 0/1 ... ./. 0/1 ./. 0/1 ./.\n",
       "...\n",
       "2/2 ./. 0/1 ./. 0/1 ... ./. 0/1 ./. 0/1 ./.\n",
       "2/2 ./. 0/1 ./. 0/1 ... ./. 0/1 ./. 0/1 ./.\n",
       "2/2 ./. 0/1 ./. 0/1 ... ./. 0/1 ./. 0/1 ./."
      ]
     },
     "execution_count": 89,
     "metadata": {},
     "output_type": "execute_result"
    }
   ],
   "source": [
    "gd.compute()"
   ]
  },
  {
   "cell_type": "code",
   "execution_count": 90,
   "metadata": {},
   "outputs": [
    {
     "data": {
      "text/html": [
       "<div class=\"allel allel-DisplayAs2D\"><span>&lt;GenotypeDaskArray shape=(40, 40, 2) dtype=int64&gt;</span><table><thead><tr><th></th><th style=\"text-align: center\">0</th><th style=\"text-align: center\">1</th><th style=\"text-align: center\">2</th><th style=\"text-align: center\">3</th><th style=\"text-align: center\">4</th><th style=\"text-align: center\">...</th><th style=\"text-align: center\">35</th><th style=\"text-align: center\">36</th><th style=\"text-align: center\">37</th><th style=\"text-align: center\">38</th><th style=\"text-align: center\">39</th></tr></thead><tbody><tr><th style=\"text-align: center; background-color: white; border-right: 1px solid black; \">0</th><td style=\"text-align: center\">2/2</td><td style=\"text-align: center\">./.</td><td style=\"text-align: center\">0/1</td><td style=\"text-align: center\">./.</td><td style=\"text-align: center\">0/1</td><td style=\"text-align: center\">...</td><td style=\"text-align: center\">./.</td><td style=\"text-align: center\">0/1</td><td style=\"text-align: center\">./.</td><td style=\"text-align: center\">0/1</td><td style=\"text-align: center\">./.</td></tr><tr><th style=\"text-align: center; background-color: white; border-right: 1px solid black; \">1</th><td style=\"text-align: center\">2/2</td><td style=\"text-align: center\">./.</td><td style=\"text-align: center\">0/1</td><td style=\"text-align: center\">./.</td><td style=\"text-align: center\">0/1</td><td style=\"text-align: center\">...</td><td style=\"text-align: center\">./.</td><td style=\"text-align: center\">0/1</td><td style=\"text-align: center\">./.</td><td style=\"text-align: center\">0/1</td><td style=\"text-align: center\">./.</td></tr><tr><th style=\"text-align: center; background-color: white; border-right: 1px solid black; \">2</th><td style=\"text-align: center\">2/2</td><td style=\"text-align: center\">./.</td><td style=\"text-align: center\">0/1</td><td style=\"text-align: center\">./.</td><td style=\"text-align: center\">0/1</td><td style=\"text-align: center\">...</td><td style=\"text-align: center\">./.</td><td style=\"text-align: center\">0/1</td><td style=\"text-align: center\">./.</td><td style=\"text-align: center\">0/1</td><td style=\"text-align: center\">./.</td></tr><tr><th style=\"text-align: center; background-color: white; border-right: 1px solid black; \">...</th><td style=\"text-align: center\" colspan=\"12\">...</td></tr><tr><th style=\"text-align: center; background-color: white; border-right: 1px solid black; \">37</th><td style=\"text-align: center\">2/2</td><td style=\"text-align: center\">./.</td><td style=\"text-align: center\">0/1</td><td style=\"text-align: center\">./.</td><td style=\"text-align: center\">0/1</td><td style=\"text-align: center\">...</td><td style=\"text-align: center\">./.</td><td style=\"text-align: center\">0/1</td><td style=\"text-align: center\">./.</td><td style=\"text-align: center\">0/1</td><td style=\"text-align: center\">./.</td></tr><tr><th style=\"text-align: center; background-color: white; border-right: 1px solid black; \">38</th><td style=\"text-align: center\">2/2</td><td style=\"text-align: center\">./.</td><td style=\"text-align: center\">0/1</td><td style=\"text-align: center\">./.</td><td style=\"text-align: center\">0/1</td><td style=\"text-align: center\">...</td><td style=\"text-align: center\">./.</td><td style=\"text-align: center\">0/1</td><td style=\"text-align: center\">./.</td><td style=\"text-align: center\">0/1</td><td style=\"text-align: center\">./.</td></tr><tr><th style=\"text-align: center; background-color: white; border-right: 1px solid black; \">39</th><td style=\"text-align: center\">2/2</td><td style=\"text-align: center\">./.</td><td style=\"text-align: center\">0/1</td><td style=\"text-align: center\">./.</td><td style=\"text-align: center\">0/1</td><td style=\"text-align: center\">...</td><td style=\"text-align: center\">./.</td><td style=\"text-align: center\">0/1</td><td style=\"text-align: center\">./.</td><td style=\"text-align: center\">0/1</td><td style=\"text-align: center\">./.</td></tr></tbody></table></div>"
      ],
      "text/plain": [
       "<GenotypeDaskArray shape=(40, 40, 2) dtype=int64>"
      ]
     },
     "execution_count": 90,
     "metadata": {},
     "output_type": "execute_result"
    }
   ],
   "source": [
    "gd.concatenate(gd)"
   ]
  },
  {
   "cell_type": "code",
   "execution_count": 91,
   "metadata": {},
   "outputs": [
    {
     "data": {
      "text/html": [
       "<div class=\"allel allel-DisplayAs2D\"><span>&lt;GenotypeDaskArray shape=(20, 80, 2) dtype=int64&gt;</span><table><thead><tr><th></th><th style=\"text-align: center\">0</th><th style=\"text-align: center\">1</th><th style=\"text-align: center\">2</th><th style=\"text-align: center\">3</th><th style=\"text-align: center\">4</th><th style=\"text-align: center\">...</th><th style=\"text-align: center\">75</th><th style=\"text-align: center\">76</th><th style=\"text-align: center\">77</th><th style=\"text-align: center\">78</th><th style=\"text-align: center\">79</th></tr></thead><tbody><tr><th style=\"text-align: center; background-color: white; border-right: 1px solid black; \">0</th><td style=\"text-align: center\">2/2</td><td style=\"text-align: center\">./.</td><td style=\"text-align: center\">0/1</td><td style=\"text-align: center\">./.</td><td style=\"text-align: center\">0/1</td><td style=\"text-align: center\">...</td><td style=\"text-align: center\">./.</td><td style=\"text-align: center\">0/1</td><td style=\"text-align: center\">./.</td><td style=\"text-align: center\">0/1</td><td style=\"text-align: center\">./.</td></tr><tr><th style=\"text-align: center; background-color: white; border-right: 1px solid black; \">1</th><td style=\"text-align: center\">2/2</td><td style=\"text-align: center\">./.</td><td style=\"text-align: center\">0/1</td><td style=\"text-align: center\">./.</td><td style=\"text-align: center\">0/1</td><td style=\"text-align: center\">...</td><td style=\"text-align: center\">./.</td><td style=\"text-align: center\">0/1</td><td style=\"text-align: center\">./.</td><td style=\"text-align: center\">0/1</td><td style=\"text-align: center\">./.</td></tr><tr><th style=\"text-align: center; background-color: white; border-right: 1px solid black; \">2</th><td style=\"text-align: center\">2/2</td><td style=\"text-align: center\">./.</td><td style=\"text-align: center\">0/1</td><td style=\"text-align: center\">./.</td><td style=\"text-align: center\">0/1</td><td style=\"text-align: center\">...</td><td style=\"text-align: center\">./.</td><td style=\"text-align: center\">0/1</td><td style=\"text-align: center\">./.</td><td style=\"text-align: center\">0/1</td><td style=\"text-align: center\">./.</td></tr><tr><th style=\"text-align: center; background-color: white; border-right: 1px solid black; \">...</th><td style=\"text-align: center\" colspan=\"12\">...</td></tr><tr><th style=\"text-align: center; background-color: white; border-right: 1px solid black; \">17</th><td style=\"text-align: center\">2/2</td><td style=\"text-align: center\">./.</td><td style=\"text-align: center\">0/1</td><td style=\"text-align: center\">./.</td><td style=\"text-align: center\">0/1</td><td style=\"text-align: center\">...</td><td style=\"text-align: center\">./.</td><td style=\"text-align: center\">0/1</td><td style=\"text-align: center\">./.</td><td style=\"text-align: center\">0/1</td><td style=\"text-align: center\">./.</td></tr><tr><th style=\"text-align: center; background-color: white; border-right: 1px solid black; \">18</th><td style=\"text-align: center\">2/2</td><td style=\"text-align: center\">./.</td><td style=\"text-align: center\">0/1</td><td style=\"text-align: center\">./.</td><td style=\"text-align: center\">0/1</td><td style=\"text-align: center\">...</td><td style=\"text-align: center\">./.</td><td style=\"text-align: center\">0/1</td><td style=\"text-align: center\">./.</td><td style=\"text-align: center\">0/1</td><td style=\"text-align: center\">./.</td></tr><tr><th style=\"text-align: center; background-color: white; border-right: 1px solid black; \">19</th><td style=\"text-align: center\">2/2</td><td style=\"text-align: center\">./.</td><td style=\"text-align: center\">0/1</td><td style=\"text-align: center\">./.</td><td style=\"text-align: center\">0/1</td><td style=\"text-align: center\">...</td><td style=\"text-align: center\">./.</td><td style=\"text-align: center\">0/1</td><td style=\"text-align: center\">./.</td><td style=\"text-align: center\">0/1</td><td style=\"text-align: center\">./.</td></tr></tbody></table></div>"
      ],
      "text/plain": [
       "<GenotypeDaskArray shape=(20, 80, 2) dtype=int64>"
      ]
     },
     "execution_count": 91,
     "metadata": {},
     "output_type": "execute_result"
    }
   ],
   "source": [
    "gd.concatenate(gd, axis=1)"
   ]
  },
  {
   "cell_type": "code",
   "execution_count": 92,
   "metadata": {},
   "outputs": [
    {
     "data": {
      "text/html": [
       "<div class=\"allel allel-DisplayAs2D\"><span>&lt;HaplotypeDaskArray shape=(20, 80) dtype=int64&gt;</span><table><thead><tr><th></th><th style=\"text-align: center\">0</th><th style=\"text-align: center\">1</th><th style=\"text-align: center\">2</th><th style=\"text-align: center\">3</th><th style=\"text-align: center\">4</th><th style=\"text-align: center\">...</th><th style=\"text-align: center\">75</th><th style=\"text-align: center\">76</th><th style=\"text-align: center\">77</th><th style=\"text-align: center\">78</th><th style=\"text-align: center\">79</th></tr></thead><tbody><tr><th style=\"text-align: center; background-color: white; border-right: 1px solid black; \">0</th><td style=\"text-align: center\">2</td><td style=\"text-align: center\">2</td><td style=\"text-align: center\">.</td><td style=\"text-align: center\">.</td><td style=\"text-align: center\">0</td><td style=\"text-align: center\">...</td><td style=\"text-align: center\">.</td><td style=\"text-align: center\">0</td><td style=\"text-align: center\">1</td><td style=\"text-align: center\">.</td><td style=\"text-align: center\">.</td></tr><tr><th style=\"text-align: center; background-color: white; border-right: 1px solid black; \">1</th><td style=\"text-align: center\">2</td><td style=\"text-align: center\">2</td><td style=\"text-align: center\">.</td><td style=\"text-align: center\">.</td><td style=\"text-align: center\">0</td><td style=\"text-align: center\">...</td><td style=\"text-align: center\">.</td><td style=\"text-align: center\">0</td><td style=\"text-align: center\">1</td><td style=\"text-align: center\">.</td><td style=\"text-align: center\">.</td></tr><tr><th style=\"text-align: center; background-color: white; border-right: 1px solid black; \">2</th><td style=\"text-align: center\">2</td><td style=\"text-align: center\">2</td><td style=\"text-align: center\">.</td><td style=\"text-align: center\">.</td><td style=\"text-align: center\">0</td><td style=\"text-align: center\">...</td><td style=\"text-align: center\">.</td><td style=\"text-align: center\">0</td><td style=\"text-align: center\">1</td><td style=\"text-align: center\">.</td><td style=\"text-align: center\">.</td></tr><tr><th style=\"text-align: center; background-color: white; border-right: 1px solid black; \">...</th><td style=\"text-align: center\" colspan=\"12\">...</td></tr><tr><th style=\"text-align: center; background-color: white; border-right: 1px solid black; \">17</th><td style=\"text-align: center\">2</td><td style=\"text-align: center\">2</td><td style=\"text-align: center\">.</td><td style=\"text-align: center\">.</td><td style=\"text-align: center\">0</td><td style=\"text-align: center\">...</td><td style=\"text-align: center\">.</td><td style=\"text-align: center\">0</td><td style=\"text-align: center\">1</td><td style=\"text-align: center\">.</td><td style=\"text-align: center\">.</td></tr><tr><th style=\"text-align: center; background-color: white; border-right: 1px solid black; \">18</th><td style=\"text-align: center\">2</td><td style=\"text-align: center\">2</td><td style=\"text-align: center\">.</td><td style=\"text-align: center\">.</td><td style=\"text-align: center\">0</td><td style=\"text-align: center\">...</td><td style=\"text-align: center\">.</td><td style=\"text-align: center\">0</td><td style=\"text-align: center\">1</td><td style=\"text-align: center\">.</td><td style=\"text-align: center\">.</td></tr><tr><th style=\"text-align: center; background-color: white; border-right: 1px solid black; \">19</th><td style=\"text-align: center\">2</td><td style=\"text-align: center\">2</td><td style=\"text-align: center\">.</td><td style=\"text-align: center\">.</td><td style=\"text-align: center\">0</td><td style=\"text-align: center\">...</td><td style=\"text-align: center\">.</td><td style=\"text-align: center\">0</td><td style=\"text-align: center\">1</td><td style=\"text-align: center\">.</td><td style=\"text-align: center\">.</td></tr></tbody></table></div>"
      ],
      "text/plain": [
       "<HaplotypeDaskArray shape=(20, 80) dtype=int64>"
      ]
     },
     "execution_count": 92,
     "metadata": {},
     "output_type": "execute_result"
    }
   ],
   "source": [
    "hd = gd.to_haplotypes()\n",
    "hd"
   ]
  },
  {
   "cell_type": "code",
   "execution_count": 93,
   "metadata": {},
   "outputs": [
    {
     "data": {
      "text/html": [
       "<div class=\"allel allel-DisplayAs2D\"><span>&lt;HaplotypeArray shape=(20, 80) dtype=int64&gt;</span><table><thead><tr><th></th><th style=\"text-align: center\">0</th><th style=\"text-align: center\">1</th><th style=\"text-align: center\">2</th><th style=\"text-align: center\">3</th><th style=\"text-align: center\">4</th><th style=\"text-align: center\">...</th><th style=\"text-align: center\">75</th><th style=\"text-align: center\">76</th><th style=\"text-align: center\">77</th><th style=\"text-align: center\">78</th><th style=\"text-align: center\">79</th></tr></thead><tbody><tr><th style=\"text-align: center; background-color: white; border-right: 1px solid black; \">0</th><td style=\"text-align: center\">2</td><td style=\"text-align: center\">2</td><td style=\"text-align: center\">.</td><td style=\"text-align: center\">.</td><td style=\"text-align: center\">0</td><td style=\"text-align: center\">...</td><td style=\"text-align: center\">.</td><td style=\"text-align: center\">0</td><td style=\"text-align: center\">1</td><td style=\"text-align: center\">.</td><td style=\"text-align: center\">.</td></tr><tr><th style=\"text-align: center; background-color: white; border-right: 1px solid black; \">1</th><td style=\"text-align: center\">2</td><td style=\"text-align: center\">2</td><td style=\"text-align: center\">.</td><td style=\"text-align: center\">.</td><td style=\"text-align: center\">0</td><td style=\"text-align: center\">...</td><td style=\"text-align: center\">.</td><td style=\"text-align: center\">0</td><td style=\"text-align: center\">1</td><td style=\"text-align: center\">.</td><td style=\"text-align: center\">.</td></tr><tr><th style=\"text-align: center; background-color: white; border-right: 1px solid black; \">2</th><td style=\"text-align: center\">2</td><td style=\"text-align: center\">2</td><td style=\"text-align: center\">.</td><td style=\"text-align: center\">.</td><td style=\"text-align: center\">0</td><td style=\"text-align: center\">...</td><td style=\"text-align: center\">.</td><td style=\"text-align: center\">0</td><td style=\"text-align: center\">1</td><td style=\"text-align: center\">.</td><td style=\"text-align: center\">.</td></tr><tr><th style=\"text-align: center; background-color: white; border-right: 1px solid black; \">...</th><td style=\"text-align: center\" colspan=\"12\">...</td></tr><tr><th style=\"text-align: center; background-color: white; border-right: 1px solid black; \">17</th><td style=\"text-align: center\">2</td><td style=\"text-align: center\">2</td><td style=\"text-align: center\">.</td><td style=\"text-align: center\">.</td><td style=\"text-align: center\">0</td><td style=\"text-align: center\">...</td><td style=\"text-align: center\">.</td><td style=\"text-align: center\">0</td><td style=\"text-align: center\">1</td><td style=\"text-align: center\">.</td><td style=\"text-align: center\">.</td></tr><tr><th style=\"text-align: center; background-color: white; border-right: 1px solid black; \">18</th><td style=\"text-align: center\">2</td><td style=\"text-align: center\">2</td><td style=\"text-align: center\">.</td><td style=\"text-align: center\">.</td><td style=\"text-align: center\">0</td><td style=\"text-align: center\">...</td><td style=\"text-align: center\">.</td><td style=\"text-align: center\">0</td><td style=\"text-align: center\">1</td><td style=\"text-align: center\">.</td><td style=\"text-align: center\">.</td></tr><tr><th style=\"text-align: center; background-color: white; border-right: 1px solid black; \">19</th><td style=\"text-align: center\">2</td><td style=\"text-align: center\">2</td><td style=\"text-align: center\">.</td><td style=\"text-align: center\">.</td><td style=\"text-align: center\">0</td><td style=\"text-align: center\">...</td><td style=\"text-align: center\">.</td><td style=\"text-align: center\">0</td><td style=\"text-align: center\">1</td><td style=\"text-align: center\">.</td><td style=\"text-align: center\">.</td></tr></tbody></table></div>"
      ],
      "text/plain": [
       "<HaplotypeArray shape=(20, 80) dtype=int64>\n",
       "2 2 . . 0 ... . 0 1 . .\n",
       "2 2 . . 0 ... . 0 1 . .\n",
       "2 2 . . 0 ... . 0 1 . .\n",
       "...\n",
       "2 2 . . 0 ... . 0 1 . .\n",
       "2 2 . . 0 ... . 0 1 . .\n",
       "2 2 . . 0 ... . 0 1 . ."
      ]
     },
     "execution_count": 93,
     "metadata": {},
     "output_type": "execute_result"
    }
   ],
   "source": [
    "hd.compute()"
   ]
  },
  {
   "cell_type": "code",
   "execution_count": 94,
   "metadata": {},
   "outputs": [
    {
     "data": {
      "text/html": [
       "<div class=\"allel allel-DisplayAs2D\"><span>&lt;AlleleCountsDaskArray shape=(20, 3) dtype=int64&gt;</span><table><thead><tr><th></th><th style=\"text-align: center\">0</th><th style=\"text-align: center\">1</th><th style=\"text-align: center\">2</th></tr></thead><tbody><tr><th style=\"text-align: center; background-color: white; border-right: 1px solid black; \">0</th><td style=\"text-align: center\">19</td><td style=\"text-align: center\">19</td><td style=\"text-align: center\"> 2</td></tr><tr><th style=\"text-align: center; background-color: white; border-right: 1px solid black; \">1</th><td style=\"text-align: center\">19</td><td style=\"text-align: center\">19</td><td style=\"text-align: center\"> 2</td></tr><tr><th style=\"text-align: center; background-color: white; border-right: 1px solid black; \">2</th><td style=\"text-align: center\">19</td><td style=\"text-align: center\">19</td><td style=\"text-align: center\"> 2</td></tr><tr><th style=\"text-align: center; background-color: white; border-right: 1px solid black; \">...</th><td style=\"text-align: center\" colspan=\"4\">...</td></tr><tr><th style=\"text-align: center; background-color: white; border-right: 1px solid black; \">17</th><td style=\"text-align: center\">19</td><td style=\"text-align: center\">19</td><td style=\"text-align: center\"> 2</td></tr><tr><th style=\"text-align: center; background-color: white; border-right: 1px solid black; \">18</th><td style=\"text-align: center\">19</td><td style=\"text-align: center\">19</td><td style=\"text-align: center\"> 2</td></tr><tr><th style=\"text-align: center; background-color: white; border-right: 1px solid black; \">19</th><td style=\"text-align: center\">19</td><td style=\"text-align: center\">19</td><td style=\"text-align: center\"> 2</td></tr></tbody></table></div>"
      ],
      "text/plain": [
       "<AlleleCountsDaskArray shape=(20, 3) dtype=int64>"
      ]
     },
     "execution_count": 94,
     "metadata": {},
     "output_type": "execute_result"
    }
   ],
   "source": [
    "acd = gd.count_alleles()\n",
    "acd"
   ]
  },
  {
   "cell_type": "code",
   "execution_count": 95,
   "metadata": {},
   "outputs": [
    {
     "data": {
      "text/html": [
       "<div class=\"allel allel-DisplayAs2D\"><span>&lt;AlleleCountsArray shape=(20, 3) dtype=int64&gt;</span><table><thead><tr><th></th><th style=\"text-align: center\">0</th><th style=\"text-align: center\">1</th><th style=\"text-align: center\">2</th></tr></thead><tbody><tr><th style=\"text-align: center; background-color: white; border-right: 1px solid black; \">0</th><td style=\"text-align: center\">19</td><td style=\"text-align: center\">19</td><td style=\"text-align: center\"> 2</td></tr><tr><th style=\"text-align: center; background-color: white; border-right: 1px solid black; \">1</th><td style=\"text-align: center\">19</td><td style=\"text-align: center\">19</td><td style=\"text-align: center\"> 2</td></tr><tr><th style=\"text-align: center; background-color: white; border-right: 1px solid black; \">2</th><td style=\"text-align: center\">19</td><td style=\"text-align: center\">19</td><td style=\"text-align: center\"> 2</td></tr><tr><th style=\"text-align: center; background-color: white; border-right: 1px solid black; \">...</th><td style=\"text-align: center\" colspan=\"4\">...</td></tr><tr><th style=\"text-align: center; background-color: white; border-right: 1px solid black; \">17</th><td style=\"text-align: center\">19</td><td style=\"text-align: center\">19</td><td style=\"text-align: center\"> 2</td></tr><tr><th style=\"text-align: center; background-color: white; border-right: 1px solid black; \">18</th><td style=\"text-align: center\">19</td><td style=\"text-align: center\">19</td><td style=\"text-align: center\"> 2</td></tr><tr><th style=\"text-align: center; background-color: white; border-right: 1px solid black; \">19</th><td style=\"text-align: center\">19</td><td style=\"text-align: center\">19</td><td style=\"text-align: center\"> 2</td></tr></tbody></table></div>"
      ],
      "text/plain": [
       "<AlleleCountsArray shape=(20, 3) dtype=int64>\n",
       "19 19  2\n",
       "19 19  2\n",
       "19 19  2\n",
       "...\n",
       "19 19  2\n",
       "19 19  2\n",
       "19 19  2"
      ]
     },
     "execution_count": 95,
     "metadata": {},
     "output_type": "execute_result"
    }
   ],
   "source": [
    "acd.compute()"
   ]
  },
  {
   "cell_type": "code",
   "execution_count": 96,
   "metadata": {},
   "outputs": [
    {
     "data": {
      "text/html": [
       "<div class=\"allel allel-DisplayAs1D\"><span>&lt;GenotypeDaskVector shape=(40, 2) dtype=int64&gt;</span><table><thead><tr><th style=\"text-align: center\">0</th><th style=\"text-align: center\">1</th><th style=\"text-align: center\">2</th><th style=\"text-align: center\">3</th><th style=\"text-align: center\">4</th><th style=\"text-align: center\">...</th><th style=\"text-align: center\">35</th><th style=\"text-align: center\">36</th><th style=\"text-align: center\">37</th><th style=\"text-align: center\">38</th><th style=\"text-align: center\">39</th></tr></thead><tbody><tr><td style=\"text-align: center\">2/2</td><td style=\"text-align: center\">./.</td><td style=\"text-align: center\">0/1</td><td style=\"text-align: center\">./.</td><td style=\"text-align: center\">0/1</td><td style=\"text-align: center\">...</td><td style=\"text-align: center\">./.</td><td style=\"text-align: center\">0/1</td><td style=\"text-align: center\">./.</td><td style=\"text-align: center\">0/1</td><td style=\"text-align: center\">./.</td></tr></tbody></table></div>"
      ],
      "text/plain": [
       "<GenotypeDaskVector shape=(40, 2) dtype=int64>"
      ]
     },
     "execution_count": 96,
     "metadata": {},
     "output_type": "execute_result"
    }
   ],
   "source": [
    "gd[4]"
   ]
  },
  {
   "cell_type": "code",
   "execution_count": 97,
   "metadata": {},
   "outputs": [
    {
     "data": {
      "text/html": [
       "<div class=\"allel allel-DisplayAs1D\"><span>&lt;GenotypeVector shape=(40, 2) dtype=int64&gt;</span><table><thead><tr><th style=\"text-align: center\">0</th><th style=\"text-align: center\">1</th><th style=\"text-align: center\">2</th><th style=\"text-align: center\">3</th><th style=\"text-align: center\">4</th><th style=\"text-align: center\">...</th><th style=\"text-align: center\">35</th><th style=\"text-align: center\">36</th><th style=\"text-align: center\">37</th><th style=\"text-align: center\">38</th><th style=\"text-align: center\">39</th></tr></thead><tbody><tr><td style=\"text-align: center\">2/2</td><td style=\"text-align: center\">./.</td><td style=\"text-align: center\">0/1</td><td style=\"text-align: center\">./.</td><td style=\"text-align: center\">0/1</td><td style=\"text-align: center\">...</td><td style=\"text-align: center\">./.</td><td style=\"text-align: center\">0/1</td><td style=\"text-align: center\">./.</td><td style=\"text-align: center\">0/1</td><td style=\"text-align: center\">./.</td></tr></tbody></table></div>"
      ],
      "text/plain": [
       "<GenotypeVector shape=(40, 2) dtype=int64>\n",
       "2/2 ./. 0/1 ./. 0/1 ... ./. 0/1 ./. 0/1 ./."
      ]
     },
     "execution_count": 97,
     "metadata": {},
     "output_type": "execute_result"
    }
   ],
   "source": [
    "gd[4].compute()"
   ]
  },
  {
   "cell_type": "code",
   "execution_count": 98,
   "metadata": {},
   "outputs": [
    {
     "data": {
      "text/html": [
       "<div class=\"allel allel-DisplayAs2D\"><span>&lt;AlleleCountsDaskArray shape=(20, 3) dtype=int64&gt;</span><table><thead><tr><th></th><th style=\"text-align: center\">0</th><th style=\"text-align: center\">1</th><th style=\"text-align: center\">2</th></tr></thead><tbody><tr><th style=\"text-align: center; background-color: white; border-right: 1px solid black; \">0</th><td style=\"text-align: center\">38</td><td style=\"text-align: center\">38</td><td style=\"text-align: center\"> 4</td></tr><tr><th style=\"text-align: center; background-color: white; border-right: 1px solid black; \">1</th><td style=\"text-align: center\">38</td><td style=\"text-align: center\">38</td><td style=\"text-align: center\"> 4</td></tr><tr><th style=\"text-align: center; background-color: white; border-right: 1px solid black; \">2</th><td style=\"text-align: center\">38</td><td style=\"text-align: center\">38</td><td style=\"text-align: center\"> 4</td></tr><tr><th style=\"text-align: center; background-color: white; border-right: 1px solid black; \">...</th><td style=\"text-align: center\" colspan=\"4\">...</td></tr><tr><th style=\"text-align: center; background-color: white; border-right: 1px solid black; \">17</th><td style=\"text-align: center\">38</td><td style=\"text-align: center\">38</td><td style=\"text-align: center\"> 4</td></tr><tr><th style=\"text-align: center; background-color: white; border-right: 1px solid black; \">18</th><td style=\"text-align: center\">38</td><td style=\"text-align: center\">38</td><td style=\"text-align: center\"> 4</td></tr><tr><th style=\"text-align: center; background-color: white; border-right: 1px solid black; \">19</th><td style=\"text-align: center\">38</td><td style=\"text-align: center\">38</td><td style=\"text-align: center\"> 4</td></tr></tbody></table></div>"
      ],
      "text/plain": [
       "<AlleleCountsDaskArray shape=(20, 3) dtype=int64>"
      ]
     },
     "execution_count": 98,
     "metadata": {},
     "output_type": "execute_result"
    }
   ],
   "source": [
    "acd + acd"
   ]
  },
  {
   "cell_type": "code",
   "execution_count": 99,
   "metadata": {},
   "outputs": [
    {
     "data": {
      "text/html": [
       "<div class=\"allel allel-DisplayAs2D\"><span>&lt;AlleleCountsArray shape=(20, 3) dtype=int64&gt;</span><table><thead><tr><th></th><th style=\"text-align: center\">0</th><th style=\"text-align: center\">1</th><th style=\"text-align: center\">2</th></tr></thead><tbody><tr><th style=\"text-align: center; background-color: white; border-right: 1px solid black; \">0</th><td style=\"text-align: center\">38</td><td style=\"text-align: center\">38</td><td style=\"text-align: center\"> 4</td></tr><tr><th style=\"text-align: center; background-color: white; border-right: 1px solid black; \">1</th><td style=\"text-align: center\">38</td><td style=\"text-align: center\">38</td><td style=\"text-align: center\"> 4</td></tr><tr><th style=\"text-align: center; background-color: white; border-right: 1px solid black; \">2</th><td style=\"text-align: center\">38</td><td style=\"text-align: center\">38</td><td style=\"text-align: center\"> 4</td></tr><tr><th style=\"text-align: center; background-color: white; border-right: 1px solid black; \">...</th><td style=\"text-align: center\" colspan=\"4\">...</td></tr><tr><th style=\"text-align: center; background-color: white; border-right: 1px solid black; \">17</th><td style=\"text-align: center\">38</td><td style=\"text-align: center\">38</td><td style=\"text-align: center\"> 4</td></tr><tr><th style=\"text-align: center; background-color: white; border-right: 1px solid black; \">18</th><td style=\"text-align: center\">38</td><td style=\"text-align: center\">38</td><td style=\"text-align: center\"> 4</td></tr><tr><th style=\"text-align: center; background-color: white; border-right: 1px solid black; \">19</th><td style=\"text-align: center\">38</td><td style=\"text-align: center\">38</td><td style=\"text-align: center\"> 4</td></tr></tbody></table></div>"
      ],
      "text/plain": [
       "<AlleleCountsArray shape=(20, 3) dtype=int64>\n",
       "38 38  4\n",
       "38 38  4\n",
       "38 38  4\n",
       "...\n",
       "38 38  4\n",
       "38 38  4\n",
       "38 38  4"
      ]
     },
     "execution_count": 99,
     "metadata": {},
     "output_type": "execute_result"
    }
   ],
   "source": [
    "(acd + acd).compute()"
   ]
  },
  {
   "cell_type": "code",
   "execution_count": 100,
   "metadata": {},
   "outputs": [
    {
     "data": {
      "text/html": [
       "<div class=\"allel allel-DisplayAs2D\"><span>&lt;GenotypeAlleleCountsDaskArray shape=(20, 40, 3) dtype=uint8&gt;</span><table><thead><tr><th></th><th style=\"text-align: center\">0</th><th style=\"text-align: center\">1</th><th style=\"text-align: center\">2</th><th style=\"text-align: center\">3</th><th style=\"text-align: center\">4</th><th style=\"text-align: center\">...</th><th style=\"text-align: center\">35</th><th style=\"text-align: center\">36</th><th style=\"text-align: center\">37</th><th style=\"text-align: center\">38</th><th style=\"text-align: center\">39</th></tr></thead><tbody><tr><th style=\"text-align: center; background-color: white; border-right: 1px solid black; \">0</th><td style=\"text-align: center\">0:0:2</td><td style=\"text-align: center\">0:0:0</td><td style=\"text-align: center\">1:1:0</td><td style=\"text-align: center\">0:0:0</td><td style=\"text-align: center\">1:1:0</td><td style=\"text-align: center\">...</td><td style=\"text-align: center\">0:0:0</td><td style=\"text-align: center\">1:1:0</td><td style=\"text-align: center\">0:0:0</td><td style=\"text-align: center\">1:1:0</td><td style=\"text-align: center\">0:0:0</td></tr><tr><th style=\"text-align: center; background-color: white; border-right: 1px solid black; \">1</th><td style=\"text-align: center\">0:0:2</td><td style=\"text-align: center\">0:0:0</td><td style=\"text-align: center\">1:1:0</td><td style=\"text-align: center\">0:0:0</td><td style=\"text-align: center\">1:1:0</td><td style=\"text-align: center\">...</td><td style=\"text-align: center\">0:0:0</td><td style=\"text-align: center\">1:1:0</td><td style=\"text-align: center\">0:0:0</td><td style=\"text-align: center\">1:1:0</td><td style=\"text-align: center\">0:0:0</td></tr><tr><th style=\"text-align: center; background-color: white; border-right: 1px solid black; \">2</th><td style=\"text-align: center\">0:0:2</td><td style=\"text-align: center\">0:0:0</td><td style=\"text-align: center\">1:1:0</td><td style=\"text-align: center\">0:0:0</td><td style=\"text-align: center\">1:1:0</td><td style=\"text-align: center\">...</td><td style=\"text-align: center\">0:0:0</td><td style=\"text-align: center\">1:1:0</td><td style=\"text-align: center\">0:0:0</td><td style=\"text-align: center\">1:1:0</td><td style=\"text-align: center\">0:0:0</td></tr><tr><th style=\"text-align: center; background-color: white; border-right: 1px solid black; \">...</th><td style=\"text-align: center\" colspan=\"12\">...</td></tr><tr><th style=\"text-align: center; background-color: white; border-right: 1px solid black; \">17</th><td style=\"text-align: center\">0:0:2</td><td style=\"text-align: center\">0:0:0</td><td style=\"text-align: center\">1:1:0</td><td style=\"text-align: center\">0:0:0</td><td style=\"text-align: center\">1:1:0</td><td style=\"text-align: center\">...</td><td style=\"text-align: center\">0:0:0</td><td style=\"text-align: center\">1:1:0</td><td style=\"text-align: center\">0:0:0</td><td style=\"text-align: center\">1:1:0</td><td style=\"text-align: center\">0:0:0</td></tr><tr><th style=\"text-align: center; background-color: white; border-right: 1px solid black; \">18</th><td style=\"text-align: center\">0:0:2</td><td style=\"text-align: center\">0:0:0</td><td style=\"text-align: center\">1:1:0</td><td style=\"text-align: center\">0:0:0</td><td style=\"text-align: center\">1:1:0</td><td style=\"text-align: center\">...</td><td style=\"text-align: center\">0:0:0</td><td style=\"text-align: center\">1:1:0</td><td style=\"text-align: center\">0:0:0</td><td style=\"text-align: center\">1:1:0</td><td style=\"text-align: center\">0:0:0</td></tr><tr><th style=\"text-align: center; background-color: white; border-right: 1px solid black; \">19</th><td style=\"text-align: center\">0:0:2</td><td style=\"text-align: center\">0:0:0</td><td style=\"text-align: center\">1:1:0</td><td style=\"text-align: center\">0:0:0</td><td style=\"text-align: center\">1:1:0</td><td style=\"text-align: center\">...</td><td style=\"text-align: center\">0:0:0</td><td style=\"text-align: center\">1:1:0</td><td style=\"text-align: center\">0:0:0</td><td style=\"text-align: center\">1:1:0</td><td style=\"text-align: center\">0:0:0</td></tr></tbody></table></div>"
      ],
      "text/plain": [
       "<GenotypeAlleleCountsDaskArray shape=(20, 40, 3) dtype=uint8>"
      ]
     },
     "execution_count": 100,
     "metadata": {},
     "output_type": "execute_result"
    }
   ],
   "source": [
    "gacd = allel.GenotypeAlleleCountsDaskArray(g.to_allele_counts())\n",
    "gacd"
   ]
  },
  {
   "cell_type": "code",
   "execution_count": 101,
   "metadata": {},
   "outputs": [
    {
     "data": {
      "text/html": [
       "<div class=\"allel allel-DisplayAs2D\"><span>&lt;GenotypeAlleleCountsArray shape=(20, 40, 3) dtype=uint8&gt;</span><table><thead><tr><th></th><th style=\"text-align: center\">0</th><th style=\"text-align: center\">1</th><th style=\"text-align: center\">2</th><th style=\"text-align: center\">3</th><th style=\"text-align: center\">4</th><th style=\"text-align: center\">...</th><th style=\"text-align: center\">35</th><th style=\"text-align: center\">36</th><th style=\"text-align: center\">37</th><th style=\"text-align: center\">38</th><th style=\"text-align: center\">39</th></tr></thead><tbody><tr><th style=\"text-align: center; background-color: white; border-right: 1px solid black; \">0</th><td style=\"text-align: center\">0:0:2</td><td style=\"text-align: center\">0:0:0</td><td style=\"text-align: center\">1:1:0</td><td style=\"text-align: center\">0:0:0</td><td style=\"text-align: center\">1:1:0</td><td style=\"text-align: center\">...</td><td style=\"text-align: center\">0:0:0</td><td style=\"text-align: center\">1:1:0</td><td style=\"text-align: center\">0:0:0</td><td style=\"text-align: center\">1:1:0</td><td style=\"text-align: center\">0:0:0</td></tr><tr><th style=\"text-align: center; background-color: white; border-right: 1px solid black; \">1</th><td style=\"text-align: center\">0:0:2</td><td style=\"text-align: center\">0:0:0</td><td style=\"text-align: center\">1:1:0</td><td style=\"text-align: center\">0:0:0</td><td style=\"text-align: center\">1:1:0</td><td style=\"text-align: center\">...</td><td style=\"text-align: center\">0:0:0</td><td style=\"text-align: center\">1:1:0</td><td style=\"text-align: center\">0:0:0</td><td style=\"text-align: center\">1:1:0</td><td style=\"text-align: center\">0:0:0</td></tr><tr><th style=\"text-align: center; background-color: white; border-right: 1px solid black; \">2</th><td style=\"text-align: center\">0:0:2</td><td style=\"text-align: center\">0:0:0</td><td style=\"text-align: center\">1:1:0</td><td style=\"text-align: center\">0:0:0</td><td style=\"text-align: center\">1:1:0</td><td style=\"text-align: center\">...</td><td style=\"text-align: center\">0:0:0</td><td style=\"text-align: center\">1:1:0</td><td style=\"text-align: center\">0:0:0</td><td style=\"text-align: center\">1:1:0</td><td style=\"text-align: center\">0:0:0</td></tr><tr><th style=\"text-align: center; background-color: white; border-right: 1px solid black; \">...</th><td style=\"text-align: center\" colspan=\"12\">...</td></tr><tr><th style=\"text-align: center; background-color: white; border-right: 1px solid black; \">17</th><td style=\"text-align: center\">0:0:2</td><td style=\"text-align: center\">0:0:0</td><td style=\"text-align: center\">1:1:0</td><td style=\"text-align: center\">0:0:0</td><td style=\"text-align: center\">1:1:0</td><td style=\"text-align: center\">...</td><td style=\"text-align: center\">0:0:0</td><td style=\"text-align: center\">1:1:0</td><td style=\"text-align: center\">0:0:0</td><td style=\"text-align: center\">1:1:0</td><td style=\"text-align: center\">0:0:0</td></tr><tr><th style=\"text-align: center; background-color: white; border-right: 1px solid black; \">18</th><td style=\"text-align: center\">0:0:2</td><td style=\"text-align: center\">0:0:0</td><td style=\"text-align: center\">1:1:0</td><td style=\"text-align: center\">0:0:0</td><td style=\"text-align: center\">1:1:0</td><td style=\"text-align: center\">...</td><td style=\"text-align: center\">0:0:0</td><td style=\"text-align: center\">1:1:0</td><td style=\"text-align: center\">0:0:0</td><td style=\"text-align: center\">1:1:0</td><td style=\"text-align: center\">0:0:0</td></tr><tr><th style=\"text-align: center; background-color: white; border-right: 1px solid black; \">19</th><td style=\"text-align: center\">0:0:2</td><td style=\"text-align: center\">0:0:0</td><td style=\"text-align: center\">1:1:0</td><td style=\"text-align: center\">0:0:0</td><td style=\"text-align: center\">1:1:0</td><td style=\"text-align: center\">...</td><td style=\"text-align: center\">0:0:0</td><td style=\"text-align: center\">1:1:0</td><td style=\"text-align: center\">0:0:0</td><td style=\"text-align: center\">1:1:0</td><td style=\"text-align: center\">0:0:0</td></tr></tbody></table></div>"
      ],
      "text/plain": [
       "<GenotypeAlleleCountsArray shape=(20, 40, 3) dtype=uint8>\n",
       "0:0:2 0:0:0 1:1:0 0:0:0 1:1:0 ... 0:0:0 1:1:0 0:0:0 1:1:0 0:0:0\n",
       "0:0:2 0:0:0 1:1:0 0:0:0 1:1:0 ... 0:0:0 1:1:0 0:0:0 1:1:0 0:0:0\n",
       "0:0:2 0:0:0 1:1:0 0:0:0 1:1:0 ... 0:0:0 1:1:0 0:0:0 1:1:0 0:0:0\n",
       "...\n",
       "0:0:2 0:0:0 1:1:0 0:0:0 1:1:0 ... 0:0:0 1:1:0 0:0:0 1:1:0 0:0:0\n",
       "0:0:2 0:0:0 1:1:0 0:0:0 1:1:0 ... 0:0:0 1:1:0 0:0:0 1:1:0 0:0:0\n",
       "0:0:2 0:0:0 1:1:0 0:0:0 1:1:0 ... 0:0:0 1:1:0 0:0:0 1:1:0 0:0:0"
      ]
     },
     "execution_count": 101,
     "metadata": {},
     "output_type": "execute_result"
    }
   ],
   "source": [
    "gacd.compute()"
   ]
  },
  {
   "cell_type": "code",
   "execution_count": 102,
   "metadata": {},
   "outputs": [
    {
     "data": {
      "text/html": [
       "<div class=\"allel allel-DisplayAs2D\"><span>&lt;AlleleCountsDaskArray shape=(20, 3) dtype=uint64&gt;</span><table><thead><tr><th></th><th style=\"text-align: center\">0</th><th style=\"text-align: center\">1</th><th style=\"text-align: center\">2</th></tr></thead><tbody><tr><th style=\"text-align: center; background-color: white; border-right: 1px solid black; \">0</th><td style=\"text-align: center\">19</td><td style=\"text-align: center\">19</td><td style=\"text-align: center\"> 2</td></tr><tr><th style=\"text-align: center; background-color: white; border-right: 1px solid black; \">1</th><td style=\"text-align: center\">19</td><td style=\"text-align: center\">19</td><td style=\"text-align: center\"> 2</td></tr><tr><th style=\"text-align: center; background-color: white; border-right: 1px solid black; \">2</th><td style=\"text-align: center\">19</td><td style=\"text-align: center\">19</td><td style=\"text-align: center\"> 2</td></tr><tr><th style=\"text-align: center; background-color: white; border-right: 1px solid black; \">...</th><td style=\"text-align: center\" colspan=\"4\">...</td></tr><tr><th style=\"text-align: center; background-color: white; border-right: 1px solid black; \">17</th><td style=\"text-align: center\">19</td><td style=\"text-align: center\">19</td><td style=\"text-align: center\"> 2</td></tr><tr><th style=\"text-align: center; background-color: white; border-right: 1px solid black; \">18</th><td style=\"text-align: center\">19</td><td style=\"text-align: center\">19</td><td style=\"text-align: center\"> 2</td></tr><tr><th style=\"text-align: center; background-color: white; border-right: 1px solid black; \">19</th><td style=\"text-align: center\">19</td><td style=\"text-align: center\">19</td><td style=\"text-align: center\"> 2</td></tr></tbody></table></div>"
      ],
      "text/plain": [
       "<AlleleCountsDaskArray shape=(20, 3) dtype=uint64>"
      ]
     },
     "execution_count": 102,
     "metadata": {},
     "output_type": "execute_result"
    }
   ],
   "source": [
    "gacd.count_alleles()"
   ]
  },
  {
   "cell_type": "code",
   "execution_count": 103,
   "metadata": {},
   "outputs": [
    {
     "data": {
      "text/html": [
       "<div class=\"allel allel-DisplayAs2D\"><span>&lt;AlleleCountsArray shape=(20, 3) dtype=uint64&gt;</span><table><thead><tr><th></th><th style=\"text-align: center\">0</th><th style=\"text-align: center\">1</th><th style=\"text-align: center\">2</th></tr></thead><tbody><tr><th style=\"text-align: center; background-color: white; border-right: 1px solid black; \">0</th><td style=\"text-align: center\">19</td><td style=\"text-align: center\">19</td><td style=\"text-align: center\"> 2</td></tr><tr><th style=\"text-align: center; background-color: white; border-right: 1px solid black; \">1</th><td style=\"text-align: center\">19</td><td style=\"text-align: center\">19</td><td style=\"text-align: center\"> 2</td></tr><tr><th style=\"text-align: center; background-color: white; border-right: 1px solid black; \">2</th><td style=\"text-align: center\">19</td><td style=\"text-align: center\">19</td><td style=\"text-align: center\"> 2</td></tr><tr><th style=\"text-align: center; background-color: white; border-right: 1px solid black; \">...</th><td style=\"text-align: center\" colspan=\"4\">...</td></tr><tr><th style=\"text-align: center; background-color: white; border-right: 1px solid black; \">17</th><td style=\"text-align: center\">19</td><td style=\"text-align: center\">19</td><td style=\"text-align: center\"> 2</td></tr><tr><th style=\"text-align: center; background-color: white; border-right: 1px solid black; \">18</th><td style=\"text-align: center\">19</td><td style=\"text-align: center\">19</td><td style=\"text-align: center\"> 2</td></tr><tr><th style=\"text-align: center; background-color: white; border-right: 1px solid black; \">19</th><td style=\"text-align: center\">19</td><td style=\"text-align: center\">19</td><td style=\"text-align: center\"> 2</td></tr></tbody></table></div>"
      ],
      "text/plain": [
       "<AlleleCountsArray shape=(20, 3) dtype=uint64>\n",
       "19 19  2\n",
       "19 19  2\n",
       "19 19  2\n",
       "...\n",
       "19 19  2\n",
       "19 19  2\n",
       "19 19  2"
      ]
     },
     "execution_count": 103,
     "metadata": {},
     "output_type": "execute_result"
    }
   ],
   "source": [
    "gacd.count_alleles().compute()"
   ]
  },
  {
   "cell_type": "code",
   "execution_count": null,
   "metadata": {
    "collapsed": true
   },
   "outputs": [],
   "source": []
  },
  {
   "cell_type": "code",
   "execution_count": null,
   "metadata": {
    "collapsed": true
   },
   "outputs": [],
   "source": []
  }
 ],
 "metadata": {
  "kernelspec": {
   "display_name": "Python 3",
   "language": "python",
   "name": "python3"
  },
  "language_info": {
   "codemirror_mode": {
    "name": "ipython",
    "version": 3
   },
   "file_extension": ".py",
   "mimetype": "text/x-python",
   "name": "python",
   "nbconvert_exporter": "python",
   "pygments_lexer": "ipython3",
   "version": "3.6.1"
  }
 },
 "nbformat": 4,
 "nbformat_minor": 1
}
