{
 "metadata": {
  "name": "",
  "signature": "sha256:e3be0206a6c8cd2b2b58c44ce8b6a3b1e5778fdb31805274f0d12b9ccc6ca824"
 },
 "nbformat": 3,
 "nbformat_minor": 0,
 "worksheets": [
  {
   "cells": [
    {
     "cell_type": "code",
     "collapsed": false,
     "input": [
      "import numpy as np\n",
      "np.random.seed(42)\n",
      "import sys\n",
      "import cProfile\n",
      "from humanize import naturalsize\n",
      "sys.path.insert(0, '../..')\n",
      "%reload_ext memory_profiler\n",
      "%reload_ext autoreload\n",
      "%autoreload 1\n",
      "%aimport allel.compat\n",
      "%aimport allel.model\n",
      "%aimport allel.bcolz"
     ],
     "language": "python",
     "metadata": {},
     "outputs": [],
     "prompt_number": 1
    },
    {
     "cell_type": "code",
     "collapsed": false,
     "input": [
      "# setup an array of genotype calls\n",
      "shape = n_variants, n_samples, ploidy = 500000, 100, 2\n",
      "data = np.zeros(shape, dtype='i1')\n",
      "# simulate some mutations\n",
      "n_alleles = n_variants * n_samples * ploidy\n",
      "idx = np.random.randint(0, (n_alleles//2)-1, size=n_alleles//20)\n",
      "data[:, :, 1].reshape((-1))[idx] = 1\n",
      "data[:, :, 0].reshape((-1))[idx[:n_alleles//200]] = 1\n",
      "print(naturalsize(data.nbytes))"
     ],
     "language": "python",
     "metadata": {},
     "outputs": [
      {
       "output_type": "stream",
       "stream": "stdout",
       "text": [
        "100.0 MB\n"
       ]
      }
     ],
     "prompt_number": 2
    },
    {
     "cell_type": "code",
     "collapsed": false,
     "input": [
      "g = allel.model.GenotypeArray(data, copy=False)"
     ],
     "language": "python",
     "metadata": {},
     "outputs": [],
     "prompt_number": 3
    },
    {
     "cell_type": "code",
     "collapsed": false,
     "input": [
      "%timeit g.is_called()"
     ],
     "language": "python",
     "metadata": {},
     "outputs": [
      {
       "output_type": "stream",
       "stream": "stdout",
       "text": [
        "10 loops, best of 3: 75.1 ms per loop\n"
       ]
      }
     ],
     "prompt_number": 139
    },
    {
     "cell_type": "code",
     "collapsed": false,
     "input": [
      "%memit g.is_called()"
     ],
     "language": "python",
     "metadata": {},
     "outputs": [
      {
       "output_type": "stream",
       "stream": "stdout",
       "text": [
        "peak memory: 509.91 MiB, increment: 45.95 MiB\n"
       ]
      }
     ],
     "prompt_number": 140
    },
    {
     "cell_type": "code",
     "collapsed": false,
     "input": [
      "n = n_variants * n_samples * ploidy\n",
      "gc = allel.bcolz.GenotypeCArray(data, expectedlen=n)\n",
      "print(naturalsize(gc.data.nbytes), naturalsize(gc.data.cbytes), gc.data.chunklen)"
     ],
     "language": "python",
     "metadata": {},
     "outputs": [
      {
       "output_type": "stream",
       "stream": "stdout",
       "text": [
        "100.0 MB 19.9 MB 20971\n"
       ]
      }
     ],
     "prompt_number": 180
    },
    {
     "cell_type": "code",
     "collapsed": false,
     "input": [
      "%timeit gc.is_called()"
     ],
     "language": "python",
     "metadata": {},
     "outputs": [
      {
       "output_type": "stream",
       "stream": "stdout",
       "text": [
        "1 loops, best of 3: 216 ms per loop\n"
       ]
      }
     ],
     "prompt_number": 165
    },
    {
     "cell_type": "code",
     "collapsed": false,
     "input": [
      "%memit gc.is_called()"
     ],
     "language": "python",
     "metadata": {},
     "outputs": [
      {
       "output_type": "stream",
       "stream": "stdout",
       "text": [
        "peak memory: 472.54 MiB, increment: 0.24 MiB\n"
       ]
      }
     ],
     "prompt_number": 143
    },
    {
     "cell_type": "code",
     "collapsed": false,
     "input": [
      "variants = np.unique(np.random.randint(0, n_variants, size=n_variants/2))\n",
      "variants"
     ],
     "language": "python",
     "metadata": {},
     "outputs": [
      {
       "metadata": {},
       "output_type": "pyout",
       "prompt_number": 145,
       "text": [
        "array([     2,      4,      6, ..., 499994, 499996, 499999])"
       ]
      }
     ],
     "prompt_number": 145
    },
    {
     "cell_type": "code",
     "collapsed": false,
     "input": [
      "samples = np.unique(np.random.randint(0, n_samples, size=n_samples/2))\n",
      "samples"
     ],
     "language": "python",
     "metadata": {},
     "outputs": [
      {
       "metadata": {},
       "output_type": "pyout",
       "prompt_number": 146,
       "text": [
        "array([ 2,  3,  4,  8, 10, 12, 15, 16, 17, 18, 20, 22, 23, 27, 30, 34, 35,\n",
        "       36, 47, 48, 49, 50, 51, 52, 55, 56, 64, 67, 69, 70, 71, 72, 73, 74,\n",
        "       76, 80, 85, 89, 92, 98])"
       ]
      }
     ],
     "prompt_number": 146
    },
    {
     "cell_type": "code",
     "collapsed": false,
     "input": [
      "x1 = g.subset(variants, samples)\n",
      "x1"
     ],
     "language": "python",
     "metadata": {},
     "outputs": [
      {
       "metadata": {},
       "output_type": "pyout",
       "prompt_number": 150,
       "text": [
        "GenotypeArray((196568, 40, 2), int8)\n",
        "[[[0 0]\n",
        "  [0 0]\n",
        "  [0 0]\n",
        "  ..., \n",
        "  [0 0]\n",
        "  [0 0]\n",
        "  [0 0]]\n",
        "\n",
        " [[0 0]\n",
        "  [0 0]\n",
        "  [0 0]\n",
        "  ..., \n",
        "  [0 0]\n",
        "  [0 0]\n",
        "  [0 0]]\n",
        "\n",
        " [[0 0]\n",
        "  [0 0]\n",
        "  [0 0]\n",
        "  ..., \n",
        "  [0 0]\n",
        "  [0 0]\n",
        "  [0 0]]\n",
        "\n",
        " ..., \n",
        " [[0 0]\n",
        "  [0 0]\n",
        "  [0 0]\n",
        "  ..., \n",
        "  [0 0]\n",
        "  [0 0]\n",
        "  [0 0]]\n",
        "\n",
        " [[0 0]\n",
        "  [0 0]\n",
        "  [0 0]\n",
        "  ..., \n",
        "  [0 0]\n",
        "  [0 0]\n",
        "  [0 0]]\n",
        "\n",
        " [[0 0]\n",
        "  [0 0]\n",
        "  [0 0]\n",
        "  ..., \n",
        "  [0 0]\n",
        "  [0 0]\n",
        "  [0 0]]]"
       ]
      }
     ],
     "prompt_number": 150
    },
    {
     "cell_type": "code",
     "collapsed": false,
     "input": [
      "x2 = gc.subset(variants, samples)\n",
      "x2"
     ],
     "language": "python",
     "metadata": {},
     "outputs": [
      {
       "metadata": {},
       "output_type": "pyout",
       "prompt_number": 152,
       "text": [
        "carray((196568, 40, 2), int8)\n",
        "  nbytes: 15.00 MB; cbytes: 4.28 MB; ratio: 3.51\n",
        "  cparams := cparams(clevel=5, shuffle=True, cname='blosclz')\n",
        "[[[0 0]\n",
        "  [0 0]\n",
        "  [0 0]\n",
        "  ..., \n",
        "  [0 0]\n",
        "  [0 0]\n",
        "  [0 0]]\n",
        "\n",
        " [[0 0]\n",
        "  [0 0]\n",
        "  [0 0]\n",
        "  ..., \n",
        "  [0 0]\n",
        "  [0 0]\n",
        "  [0 0]]\n",
        "\n",
        " [[0 0]\n",
        "  [0 0]\n",
        "  [0 0]\n",
        "  ..., \n",
        "  [0 0]\n",
        "  [0 0]\n",
        "  [0 0]]\n",
        "\n",
        " ..., \n",
        " [[0 0]\n",
        "  [0 0]\n",
        "  [0 0]\n",
        "  ..., \n",
        "  [0 0]\n",
        "  [0 0]\n",
        "  [0 0]]\n",
        "\n",
        " [[0 0]\n",
        "  [0 0]\n",
        "  [0 0]\n",
        "  ..., \n",
        "  [0 0]\n",
        "  [0 0]\n",
        "  [0 0]]\n",
        "\n",
        " [[0 0]\n",
        "  [0 0]\n",
        "  [0 0]\n",
        "  ..., \n",
        "  [0 0]\n",
        "  [0 0]\n",
        "  [0 0]]]"
       ]
      }
     ],
     "prompt_number": 152
    },
    {
     "cell_type": "code",
     "collapsed": false,
     "input": [
      "np.array_equal(x1, x2)"
     ],
     "language": "python",
     "metadata": {},
     "outputs": [
      {
       "metadata": {},
       "output_type": "pyout",
       "prompt_number": 153,
       "text": [
        "True"
       ]
      }
     ],
     "prompt_number": 153
    },
    {
     "cell_type": "code",
     "collapsed": false,
     "input": [
      "%timeit g.subset(variants, samples)"
     ],
     "language": "python",
     "metadata": {},
     "outputs": [
      {
       "output_type": "stream",
       "stream": "stdout",
       "text": [
        "10 loops, best of 3: 179 ms per loop\n"
       ]
      }
     ],
     "prompt_number": 154
    },
    {
     "cell_type": "code",
     "collapsed": false,
     "input": [
      "%memit g.subset(variants, samples)"
     ],
     "language": "python",
     "metadata": {},
     "outputs": [
      {
       "output_type": "stream",
       "stream": "stdout",
       "text": [
        "peak memory: 546.13 MiB, increment: 0.00 MiB\n"
       ]
      }
     ],
     "prompt_number": 155
    },
    {
     "cell_type": "code",
     "collapsed": false,
     "input": [
      "%timeit gc.subset(variants, samples)"
     ],
     "language": "python",
     "metadata": {},
     "outputs": [
      {
       "output_type": "stream",
       "stream": "stdout",
       "text": [
        "1 loops, best of 3: 310 ms per loop\n"
       ]
      }
     ],
     "prompt_number": 156
    },
    {
     "cell_type": "code",
     "collapsed": false,
     "input": [
      "%memit gc.subset(variants, samples)"
     ],
     "language": "python",
     "metadata": {},
     "outputs": [
      {
       "output_type": "stream",
       "stream": "stdout",
       "text": [
        "peak memory: 546.67 MiB, increment: 0.00 MiB\n"
       ]
      }
     ],
     "prompt_number": 157
    },
    {
     "cell_type": "code",
     "collapsed": false,
     "input": [
      "gc[variants]"
     ],
     "language": "python",
     "metadata": {},
     "outputs": [
      {
       "metadata": {},
       "output_type": "pyout",
       "prompt_number": 158,
       "text": [
        "GenotypeArray((196568, 100, 2), int8)\n",
        "[[[0 1]\n",
        "  [0 0]\n",
        "  [0 0]\n",
        "  ..., \n",
        "  [0 0]\n",
        "  [0 0]\n",
        "  [0 0]]\n",
        "\n",
        " [[0 0]\n",
        "  [0 0]\n",
        "  [0 0]\n",
        "  ..., \n",
        "  [0 0]\n",
        "  [0 0]\n",
        "  [0 0]]\n",
        "\n",
        " [[0 1]\n",
        "  [0 0]\n",
        "  [0 0]\n",
        "  ..., \n",
        "  [0 0]\n",
        "  [0 0]\n",
        "  [0 0]]\n",
        "\n",
        " ..., \n",
        " [[0 0]\n",
        "  [0 1]\n",
        "  [0 0]\n",
        "  ..., \n",
        "  [0 0]\n",
        "  [0 0]\n",
        "  [0 0]]\n",
        "\n",
        " [[0 0]\n",
        "  [0 0]\n",
        "  [0 0]\n",
        "  ..., \n",
        "  [0 0]\n",
        "  [0 0]\n",
        "  [0 0]]\n",
        "\n",
        " [[0 0]\n",
        "  [0 0]\n",
        "  [0 0]\n",
        "  ..., \n",
        "  [1 1]\n",
        "  [0 0]\n",
        "  [0 0]]]"
       ]
      }
     ],
     "prompt_number": 158
    },
    {
     "cell_type": "code",
     "collapsed": false,
     "input": [
      "b = gc.is_called()\n",
      "b"
     ],
     "language": "python",
     "metadata": {},
     "outputs": [
      {
       "metadata": {},
       "output_type": "pyout",
       "prompt_number": 167,
       "text": [
        "carray((500000, 100), uint8)\n",
        "  nbytes: 47.68 MB; cbytes: 2.21 MB; ratio: 21.58\n",
        "  cparams := cparams(clevel=5, shuffle=True, cname='blosclz')\n",
        "[[1 1 1 ..., 1 1 1]\n",
        " [1 1 1 ..., 1 1 1]\n",
        " [1 1 1 ..., 1 1 1]\n",
        " ..., \n",
        " [1 1 1 ..., 1 1 1]\n",
        " [1 1 1 ..., 1 1 1]\n",
        " [1 1 1 ..., 1 1 1]]"
       ]
      }
     ],
     "prompt_number": 167
    },
    {
     "cell_type": "code",
     "collapsed": false,
     "input": [
      "import bcolz"
     ],
     "language": "python",
     "metadata": {},
     "outputs": [],
     "prompt_number": 166
    },
    {
     "cell_type": "code",
     "collapsed": false,
     "input": [
      "import numexpr"
     ],
     "language": "python",
     "metadata": {},
     "outputs": [],
     "prompt_number": 171
    },
    {
     "cell_type": "code",
     "collapsed": false,
     "input": [
      "%memit bcolz.eval('sum(b)')"
     ],
     "language": "python",
     "metadata": {},
     "outputs": [
      {
       "output_type": "stream",
       "stream": "stdout",
       "text": [
        "peak memory: 639.66 MiB, increment: 47.66 MiB\n"
       ]
      }
     ],
     "prompt_number": 170
    },
    {
     "cell_type": "code",
     "collapsed": false,
     "input": [
      "%memit bcolz.eval('np.sum(b, axis=0)', vm='python')"
     ],
     "language": "python",
     "metadata": {},
     "outputs": [
      {
       "output_type": "stream",
       "stream": "stdout",
       "text": [
        "peak memory: 639.69 MiB, increment: 47.69 MiB\n"
       ]
      }
     ],
     "prompt_number": 174
    },
    {
     "cell_type": "code",
     "collapsed": false,
     "input": [
      "%memit numexpr.evaluate('sum(b)')"
     ],
     "language": "python",
     "metadata": {},
     "outputs": [
      {
       "output_type": "stream",
       "stream": "stdout",
       "text": [
        "peak memory: 676.69 MiB, increment: 84.69 MiB\n"
       ]
      }
     ],
     "prompt_number": 172
    },
    {
     "cell_type": "code",
     "collapsed": false,
     "input": [
      "def block_sum(a, axis=None):\n",
      "    if axis is None:\n",
      "        out = 0\n",
      "    elif axis == 0:\n",
      "        out = np.zeros((a.shape[1],), dtype=int)\n",
      "    elif axis == 1:\n",
      "        out = np.zeros((a.shape[0],), dtype=int)\n",
      "    bs = a.chunklen\n",
      "    for i in range(0, a.shape[0], bs):\n",
      "        x = a[i:i+bs]\n",
      "        out += np.sum(x)\n",
      "    return out"
     ],
     "language": "python",
     "metadata": {},
     "outputs": [],
     "prompt_number": 177
    },
    {
     "cell_type": "code",
     "collapsed": false,
     "input": [
      "block_sum(b)"
     ],
     "language": "python",
     "metadata": {},
     "outputs": [
      {
       "metadata": {},
       "output_type": "pyout",
       "prompt_number": 178,
       "text": [
        "50000000.0"
       ]
      }
     ],
     "prompt_number": 178
    },
    {
     "cell_type": "code",
     "collapsed": false,
     "input": [
      "gc.count_called()"
     ],
     "language": "python",
     "metadata": {},
     "outputs": [
      {
       "metadata": {},
       "output_type": "pyout",
       "prompt_number": 181,
       "text": [
        "50000000.0"
       ]
      }
     ],
     "prompt_number": 181
    },
    {
     "cell_type": "code",
     "collapsed": false,
     "input": [
      "%memit gc.count_called()"
     ],
     "language": "python",
     "metadata": {},
     "outputs": [
      {
       "output_type": "stream",
       "stream": "stdout",
       "text": [
        "peak memory: 592.06 MiB, increment: 0.00 MiB\n"
       ]
      }
     ],
     "prompt_number": 182
    },
    {
     "cell_type": "code",
     "collapsed": false,
     "input": [
      "d = gc.data\n",
      "d"
     ],
     "language": "python",
     "metadata": {},
     "outputs": [
      {
       "metadata": {},
       "output_type": "pyout",
       "prompt_number": 183,
       "text": [
        "carray((500000, 100, 2), int8)\n",
        "  nbytes: 95.37 MB; cbytes: 18.97 MB; ratio: 5.03\n",
        "  cparams := cparams(clevel=5, shuffle=True, cname='blosclz')\n",
        "[[[0 0]\n",
        "  [0 0]\n",
        "  [0 0]\n",
        "  ..., \n",
        "  [0 0]\n",
        "  [0 0]\n",
        "  [0 0]]\n",
        "\n",
        " [[0 0]\n",
        "  [0 0]\n",
        "  [0 0]\n",
        "  ..., \n",
        "  [0 0]\n",
        "  [0 0]\n",
        "  [0 0]]\n",
        "\n",
        " [[0 1]\n",
        "  [0 0]\n",
        "  [0 0]\n",
        "  ..., \n",
        "  [0 0]\n",
        "  [0 0]\n",
        "  [0 0]]\n",
        "\n",
        " ..., \n",
        " [[0 0]\n",
        "  [0 0]\n",
        "  [0 0]\n",
        "  ..., \n",
        "  [0 0]\n",
        "  [0 0]\n",
        "  [0 0]]\n",
        "\n",
        " [[0 0]\n",
        "  [0 0]\n",
        "  [0 0]\n",
        "  ..., \n",
        "  [0 0]\n",
        "  [0 0]\n",
        "  [0 0]]\n",
        "\n",
        " [[0 0]\n",
        "  [0 0]\n",
        "  [0 0]\n",
        "  ..., \n",
        "  [1 1]\n",
        "  [0 0]\n",
        "  [0 0]]]"
       ]
      }
     ],
     "prompt_number": 183
    },
    {
     "cell_type": "code",
     "collapsed": false,
     "input": [
      "%memit bcolz.eval('np.max(d)', vm='python')"
     ],
     "language": "python",
     "metadata": {},
     "outputs": [
      {
       "output_type": "stream",
       "stream": "stdout",
       "text": [
        "peak memory: 687.31 MiB, increment: 95.25 MiB\n"
       ]
      }
     ],
     "prompt_number": 186
    },
    {
     "cell_type": "code",
     "collapsed": false,
     "input": [
      "gc = allel.bcolz.GenotypeCArray(data, dtype='i1', expectedlen=(n_variants*n_samples*ploidy))"
     ],
     "language": "python",
     "metadata": {},
     "outputs": [
      {
       "output_type": "stream",
       "stream": "stderr",
       "text": [
        "[autoreload of allel.bcolz failed: Traceback (most recent call last):\n",
        "  File \"/home/aliman/pyenv/science_py3/lib/python3.4/site-packages/IPython/extensions/autoreload.py\", line 247, in check\n",
        "    superreload(m, reload, self.old_objects)\n",
        "ImportError: cannot import name 'integer_types'\n",
        "]\n",
        "[autoreload of allel.bcolz failed: Traceback (most recent call last):\n",
        "  File \"/home/aliman/pyenv/science_py3/lib/python3.4/site-packages/IPython/extensions/autoreload.py\", line 247, in check\n",
        "    superreload(m, reload, self.old_objects)\n",
        "ImportError: cannot import name 'integer_types'\n",
        "]\n"
       ]
      }
     ],
     "prompt_number": 214
    },
    {
     "cell_type": "code",
     "collapsed": false,
     "input": [
      "hc = gc.view_haplotypes()"
     ],
     "language": "python",
     "metadata": {},
     "outputs": [],
     "prompt_number": 213
    },
    {
     "cell_type": "code",
     "collapsed": false,
     "input": [
      "hc"
     ],
     "language": "python",
     "metadata": {},
     "outputs": [
      {
       "metadata": {},
       "output_type": "pyout",
       "prompt_number": 189,
       "text": [
        "HaplotypeCArray((500000, 200), int8)\n",
        "  nbytes: 95.37 MB; cbytes: 15.98 MB; ratio: 5.97\n",
        "  cparams := cparams(clevel=5, shuffle=True, cname='blosclz')\n",
        "[[0 0 0 ..., 0 0 0]\n",
        " [0 0 0 ..., 0 0 0]\n",
        " [0 1 0 ..., 0 0 0]\n",
        " ..., \n",
        " [0 0 0 ..., 0 0 0]\n",
        " [0 0 0 ..., 0 0 0]\n",
        " [0 0 0 ..., 0 0 0]]"
       ]
      }
     ],
     "prompt_number": 189
    },
    {
     "cell_type": "code",
     "collapsed": false,
     "input": [
      "gc.data"
     ],
     "language": "python",
     "metadata": {},
     "outputs": [
      {
       "metadata": {},
       "output_type": "pyout",
       "prompt_number": 190,
       "text": [
        "carray((500000, 100, 2), int8)\n",
        "  nbytes: 95.37 MB; cbytes: 18.97 MB; ratio: 5.03\n",
        "  cparams := cparams(clevel=5, shuffle=True, cname='blosclz')\n",
        "[[[0 0]\n",
        "  [0 0]\n",
        "  [0 0]\n",
        "  ..., \n",
        "  [0 0]\n",
        "  [0 0]\n",
        "  [0 0]]\n",
        "\n",
        " [[0 0]\n",
        "  [0 0]\n",
        "  [0 0]\n",
        "  ..., \n",
        "  [0 0]\n",
        "  [0 0]\n",
        "  [0 0]]\n",
        "\n",
        " [[0 1]\n",
        "  [0 0]\n",
        "  [0 0]\n",
        "  ..., \n",
        "  [0 0]\n",
        "  [0 0]\n",
        "  [0 0]]\n",
        "\n",
        " ..., \n",
        " [[0 0]\n",
        "  [0 0]\n",
        "  [0 0]\n",
        "  ..., \n",
        "  [0 0]\n",
        "  [0 0]\n",
        "  [0 0]]\n",
        "\n",
        " [[0 0]\n",
        "  [0 0]\n",
        "  [0 0]\n",
        "  ..., \n",
        "  [0 0]\n",
        "  [0 0]\n",
        "  [0 0]]\n",
        "\n",
        " [[0 0]\n",
        "  [0 0]\n",
        "  [0 0]\n",
        "  ..., \n",
        "  [1 1]\n",
        "  [0 0]\n",
        "  [0 0]]]"
       ]
      }
     ],
     "prompt_number": 190
    },
    {
     "cell_type": "code",
     "collapsed": false,
     "input": [
      "dh = gc.data.reshape((n_variants, (n_samples*ploidy)))"
     ],
     "language": "python",
     "metadata": {},
     "outputs": [],
     "prompt_number": 193
    },
    {
     "cell_type": "code",
     "collapsed": false,
     "input": [
      "d = gc.data\n",
      "d"
     ],
     "language": "python",
     "metadata": {},
     "outputs": [
      {
       "metadata": {},
       "output_type": "pyout",
       "prompt_number": 194,
       "text": [
        "carray((500000, 100, 2), int8)\n",
        "  nbytes: 95.37 MB; cbytes: 18.97 MB; ratio: 5.03\n",
        "  cparams := cparams(clevel=5, shuffle=True, cname='blosclz')\n",
        "[[[0 0]\n",
        "  [0 0]\n",
        "  [0 0]\n",
        "  ..., \n",
        "  [0 0]\n",
        "  [0 0]\n",
        "  [0 0]]\n",
        "\n",
        " [[0 0]\n",
        "  [0 0]\n",
        "  [0 0]\n",
        "  ..., \n",
        "  [0 0]\n",
        "  [0 0]\n",
        "  [0 0]]\n",
        "\n",
        " [[0 1]\n",
        "  [0 0]\n",
        "  [0 0]\n",
        "  ..., \n",
        "  [0 0]\n",
        "  [0 0]\n",
        "  [0 0]]\n",
        "\n",
        " ..., \n",
        " [[0 0]\n",
        "  [0 0]\n",
        "  [0 0]\n",
        "  ..., \n",
        "  [0 0]\n",
        "  [0 0]\n",
        "  [0 0]]\n",
        "\n",
        " [[0 0]\n",
        "  [0 0]\n",
        "  [0 0]\n",
        "  ..., \n",
        "  [0 0]\n",
        "  [0 0]\n",
        "  [0 0]]\n",
        "\n",
        " [[0 0]\n",
        "  [0 0]\n",
        "  [0 0]\n",
        "  ..., \n",
        "  [1 1]\n",
        "  [0 0]\n",
        "  [0 0]]]"
       ]
      }
     ],
     "prompt_number": 194
    },
    {
     "cell_type": "code",
     "collapsed": false,
     "input": [
      "d.reshape(-1)"
     ],
     "language": "python",
     "metadata": {},
     "outputs": [
      {
       "metadata": {},
       "output_type": "pyout",
       "prompt_number": 195,
       "text": [
        "carray((100000000,), int8)\n",
        "  nbytes: 95.37 MB; cbytes: 15.98 MB; ratio: 5.97\n",
        "  cparams := cparams(clevel=5, shuffle=True, cname='blosclz')\n",
        "[0 0 0 ..., 0 0 0]"
       ]
      }
     ],
     "prompt_number": 195
    },
    {
     "cell_type": "code",
     "collapsed": false,
     "input": [
      "d.sum()"
     ],
     "language": "python",
     "metadata": {},
     "outputs": [
      {
       "metadata": {},
       "output_type": "pyout",
       "prompt_number": 201,
       "text": [
        "5256279"
       ]
      }
     ],
     "prompt_number": 201
    },
    {
     "cell_type": "code",
     "collapsed": false,
     "input": [
      "dir(d)"
     ],
     "language": "python",
     "metadata": {},
     "outputs": [
      {
       "metadata": {},
       "output_type": "pyout",
       "prompt_number": 200,
       "text": [
        "['__class__',\n",
        " '__delattr__',\n",
        " '__delitem__',\n",
        " '__dir__',\n",
        " '__doc__',\n",
        " '__eq__',\n",
        " '__format__',\n",
        " '__ge__',\n",
        " '__getattribute__',\n",
        " '__getitem__',\n",
        " '__gt__',\n",
        " '__hash__',\n",
        " '__init__',\n",
        " '__iter__',\n",
        " '__le__',\n",
        " '__len__',\n",
        " '__lt__',\n",
        " '__ne__',\n",
        " '__new__',\n",
        " '__next__',\n",
        " '__pyx_vtable__',\n",
        " '__reduce__',\n",
        " '__reduce_ex__',\n",
        " '__repr__',\n",
        " '__setattr__',\n",
        " '__setitem__',\n",
        " '__sizeof__',\n",
        " '__str__',\n",
        " '__subclasshook__',\n",
        " '_getrange',\n",
        " '_init_iter',\n",
        " '_init_where',\n",
        " '_init_wheretrue',\n",
        " '_update_disk_sizes',\n",
        " 'append',\n",
        " 'atomsize',\n",
        " 'attrs',\n",
        " 'cbytes',\n",
        " 'chunklen',\n",
        " 'chunks',\n",
        " 'copy',\n",
        " 'cparams',\n",
        " 'create_carray',\n",
        " 'dflt',\n",
        " 'dtype',\n",
        " 'fill_chunks',\n",
        " 'flush',\n",
        " 'free_cachemem',\n",
        " 'getitem_object',\n",
        " 'itemsize',\n",
        " 'iter',\n",
        " 'leftover_array',\n",
        " 'leftovers',\n",
        " 'len',\n",
        " 'mkdirs',\n",
        " 'mode',\n",
        " 'nbytes',\n",
        " 'nchunks',\n",
        " 'ndim',\n",
        " 'open_carray',\n",
        " 'partitions',\n",
        " 'read_meta',\n",
        " 'reshape',\n",
        " 'resize',\n",
        " 'rootdir',\n",
        " 'shape',\n",
        " 'size',\n",
        " 'store_obj',\n",
        " 'sum',\n",
        " 'trim',\n",
        " 'view',\n",
        " 'where',\n",
        " 'wheretrue',\n",
        " 'write_meta']"
       ]
      }
     ],
     "prompt_number": 200
    },
    {
     "cell_type": "code",
     "collapsed": false,
     "input": [
      "d.create_carray?"
     ],
     "language": "python",
     "metadata": {},
     "outputs": [],
     "prompt_number": 206
    },
    {
     "cell_type": "code",
     "collapsed": false,
     "input": [
      "hc"
     ],
     "language": "python",
     "metadata": {},
     "outputs": [
      {
       "output_type": "stream",
       "stream": "stderr",
       "text": [
        "[autoreload of allel.bcolz failed: Traceback (most recent call last):\n",
        "  File \"/home/aliman/pyenv/science_py3/lib/python3.4/site-packages/IPython/extensions/autoreload.py\", line 247, in check\n",
        "    superreload(m, reload, self.old_objects)\n",
        "ImportError: cannot import name 'integer_types'\n",
        "]\n"
       ]
      },
      {
       "metadata": {},
       "output_type": "pyout",
       "prompt_number": 207,
       "text": [
        "HaplotypeCArray((500000, 200), int8)\n",
        "  nbytes: 95.37 MB; cbytes: 15.98 MB; ratio: 5.97\n",
        "  cparams := cparams(clevel=5, shuffle=True, cname='blosclz')\n",
        "[[0 0 0 ..., 0 0 0]\n",
        " [0 0 0 ..., 0 0 0]\n",
        " [0 1 0 ..., 0 0 0]\n",
        " ..., \n",
        " [0 0 0 ..., 0 0 0]\n",
        " [0 0 0 ..., 0 0 0]\n",
        " [0 0 0 ..., 0 0 0]]"
       ]
      }
     ],
     "prompt_number": 207
    },
    {
     "cell_type": "code",
     "collapsed": false,
     "input": [
      "gc = allel.bcolz.GenotypeCArray(data, dtype='i1', expectedlen=(n_variants*n_samples*ploidy))"
     ],
     "language": "python",
     "metadata": {},
     "outputs": [],
     "prompt_number": 24
    },
    {
     "cell_type": "code",
     "collapsed": false,
     "input": [
      "hc = gc.view_haplotypes()"
     ],
     "language": "python",
     "metadata": {},
     "outputs": [],
     "prompt_number": 25
    },
    {
     "cell_type": "code",
     "collapsed": false,
     "input": [
      "hc"
     ],
     "language": "python",
     "metadata": {},
     "outputs": [
      {
       "metadata": {},
       "output_type": "pyout",
       "prompt_number": 26,
       "text": [
        "HaplotypeCArray((500000, 200), int8)\n",
        "  nbytes: 95.37 MB; cbytes: 18.96 MB; ratio: 5.03\n",
        "  cparams := cparams(clevel=5, shuffle=True, cname='blosclz')\n",
        "[[0 0 0 ..., 0 0 0]\n",
        " [0 1 0 ..., 0 0 0]\n",
        " [0 0 0 ..., 0 0 0]\n",
        " ..., \n",
        " [0 0 0 ..., 1 0 0]\n",
        " [0 0 0 ..., 0 0 0]\n",
        " [0 0 0 ..., 0 0 0]]"
       ]
      }
     ],
     "prompt_number": 26
    },
    {
     "cell_type": "code",
     "collapsed": false,
     "input": [
      "%memit hc = gc.view_haplotypes()"
     ],
     "language": "python",
     "metadata": {},
     "outputs": [
      {
       "output_type": "stream",
       "stream": "stdout",
       "text": [
        "peak memory: 539.62 MiB, increment: 4.46 MiB\n"
       ]
      }
     ],
     "prompt_number": 27
    },
    {
     "cell_type": "code",
     "collapsed": false,
     "input": [
      "gc2 = hc.view_genotypes(ploidy=2)"
     ],
     "language": "python",
     "metadata": {},
     "outputs": [],
     "prompt_number": 28
    },
    {
     "cell_type": "code",
     "collapsed": false,
     "input": [
      "hc == 0"
     ],
     "language": "python",
     "metadata": {},
     "outputs": [
      {
       "metadata": {},
       "output_type": "pyout",
       "prompt_number": 29,
       "text": [
        "carray((500000, 200), uint8)\n",
        "  nbytes: 95.37 MB; cbytes: 18.96 MB; ratio: 5.03\n",
        "  cparams := cparams(clevel=5, shuffle=True, cname='blosclz')\n",
        "[[1 1 1 ..., 1 1 1]\n",
        " [1 0 1 ..., 1 1 1]\n",
        " [1 1 1 ..., 1 1 1]\n",
        " ..., \n",
        " [1 1 1 ..., 0 1 1]\n",
        " [1 1 1 ..., 1 1 1]\n",
        " [1 1 1 ..., 1 1 1]]"
       ]
      }
     ],
     "prompt_number": 29
    },
    {
     "cell_type": "code",
     "collapsed": false,
     "input": [
      "hc.is_call(1)"
     ],
     "language": "python",
     "metadata": {},
     "outputs": [
      {
       "metadata": {},
       "output_type": "pyout",
       "prompt_number": 30,
       "text": [
        "carray((500000, 200), uint8)\n",
        "  nbytes: 95.37 MB; cbytes: 18.96 MB; ratio: 5.03\n",
        "  cparams := cparams(clevel=5, shuffle=True, cname='blosclz')\n",
        "[[0 0 0 ..., 0 0 0]\n",
        " [0 1 0 ..., 0 0 0]\n",
        " [0 0 0 ..., 0 0 0]\n",
        " ..., \n",
        " [0 0 0 ..., 1 0 0]\n",
        " [0 0 0 ..., 0 0 0]\n",
        " [0 0 0 ..., 0 0 0]]"
       ]
      }
     ],
     "prompt_number": 30
    },
    {
     "cell_type": "code",
     "collapsed": false,
     "input": [],
     "language": "python",
     "metadata": {},
     "outputs": []
    }
   ],
   "metadata": {}
  }
 ]
}