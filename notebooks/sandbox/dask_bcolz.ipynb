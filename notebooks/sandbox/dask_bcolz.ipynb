{
 "cells": [
  {
   "cell_type": "code",
   "execution_count": 1,
   "metadata": {
    "collapsed": false
   },
   "outputs": [
    {
     "name": "stdout",
     "output_type": "stream",
     "text": [
      "dask 0.7.5\n",
      "h5py 2.5.0\n",
      "bcolz 0.12.1\n",
      "scikit-allel 0.21.0.dev0\n"
     ]
    }
   ],
   "source": [
    "import numpy as np\n",
    "import dask\n",
    "print('dask', dask.__version__)\n",
    "import dask.array as da\n",
    "import h5py\n",
    "print('h5py', h5py.__version__)\n",
    "import bcolz\n",
    "print('bcolz', bcolz.__version__)\n",
    "import sys\n",
    "sys.path.insert(0, '../..')\n",
    "%reload_ext autoreload\n",
    "%autoreload 1\n",
    "%aimport allel.model.dask\n",
    "%aimport allel.model.chunked\n",
    "%aimport allel.model.ndarray\n",
    "%aimport allel.model\n",
    "%aimport allel\n",
    "print('scikit-allel', allel.__version__)"
   ]
  },
  {
   "cell_type": "code",
   "execution_count": 2,
   "metadata": {
    "collapsed": false
   },
   "outputs": [
    {
     "data": {
      "text/plain": [
       "<HDF5 file \"ag1000g.phase1.ar3.pass.h5\" (mode r)>"
      ]
     },
     "execution_count": 2,
     "metadata": {},
     "output_type": "execute_result"
    }
   ],
   "source": [
    "callset = h5py.File('/data/coluzzi/ag1000g/data/phase1/release/AR3/variation/main/hdf5/ag1000g.phase1.ar3.pass.h5', mode='r')\n",
    "callset"
   ]
  },
  {
   "cell_type": "code",
   "execution_count": 3,
   "metadata": {
    "collapsed": false
   },
   "outputs": [
    {
     "data": {
      "text/html": [
       "<table class='petl'>\n",
       "<caption>GenotypeChunkedArray((9643193, 765, 2), int8, nbytes=13.7G, cbytes=548.0M, cratio=25.7, cname=gzip, clevel=3, shuffle=False, chunks=(6553, 10, 2), data=h5py._hl.dataset.Dataset)</caption>\n",
       "<thead>\n",
       "<tr>\n",
       "<th></th>\n",
       "<th>0</th>\n",
       "<th>1</th>\n",
       "<th>2</th>\n",
       "<th>3</th>\n",
       "<th>4</th>\n",
       "<th>...</th>\n",
       "<th>760</th>\n",
       "<th>761</th>\n",
       "<th>762</th>\n",
       "<th>763</th>\n",
       "<th>764</th>\n",
       "</tr>\n",
       "</thead>\n",
       "<tbody>\n",
       "<tr>\n",
       "<td style='font-weight: bold'>0</td>\n",
       "<td>0/0</td>\n",
       "<td>0/0</td>\n",
       "<td>0/0</td>\n",
       "<td>0/0</td>\n",
       "<td>0/0</td>\n",
       "<td>...</td>\n",
       "<td>0/0</td>\n",
       "<td>0/0</td>\n",
       "<td>0/0</td>\n",
       "<td>0/0</td>\n",
       "<td>0/0</td>\n",
       "</tr>\n",
       "<tr>\n",
       "<td style='font-weight: bold'>1</td>\n",
       "<td>0/0</td>\n",
       "<td>0/0</td>\n",
       "<td>0/0</td>\n",
       "<td>0/0</td>\n",
       "<td>0/0</td>\n",
       "<td>...</td>\n",
       "<td>0/0</td>\n",
       "<td>0/0</td>\n",
       "<td>0/0</td>\n",
       "<td>0/0</td>\n",
       "<td>0/0</td>\n",
       "</tr>\n",
       "<tr>\n",
       "<td style='font-weight: bold'>2</td>\n",
       "<td>0/0</td>\n",
       "<td>0/0</td>\n",
       "<td>0/0</td>\n",
       "<td>0/0</td>\n",
       "<td>0/0</td>\n",
       "<td>...</td>\n",
       "<td>0/0</td>\n",
       "<td>0/0</td>\n",
       "<td>0/0</td>\n",
       "<td>0/0</td>\n",
       "<td>0/0</td>\n",
       "</tr>\n",
       "<tr>\n",
       "<td style='font-weight: bold'>3</td>\n",
       "<td>0/0</td>\n",
       "<td>0/0</td>\n",
       "<td>0/0</td>\n",
       "<td>0/0</td>\n",
       "<td>0/0</td>\n",
       "<td>...</td>\n",
       "<td>0/0</td>\n",
       "<td>0/0</td>\n",
       "<td>0/0</td>\n",
       "<td>0/0</td>\n",
       "<td>0/0</td>\n",
       "</tr>\n",
       "<tr>\n",
       "<td style='font-weight: bold'>4</td>\n",
       "<td>0/0</td>\n",
       "<td>0/0</td>\n",
       "<td>0/0</td>\n",
       "<td>0/0</td>\n",
       "<td>0/0</td>\n",
       "<td>...</td>\n",
       "<td>0/0</td>\n",
       "<td>0/0</td>\n",
       "<td>0/0</td>\n",
       "<td>0/0</td>\n",
       "<td>0/0</td>\n",
       "</tr>\n",
       "</tbody>\n",
       "</table>\n",
       "<p><strong>...</strong></p>"
      ],
      "text/plain": [
       "GenotypeChunkedArray((9643193, 765, 2), int8, nbytes=13.7G, cbytes=548.0M, cratio=25.7, cname=gzip, clevel=3, shuffle=False, chunks=(6553, 10, 2), data=h5py._hl.dataset.Dataset)"
      ]
     },
     "execution_count": 3,
     "metadata": {},
     "output_type": "execute_result"
    }
   ],
   "source": [
    "genotype = allel.model.chunked.GenotypeChunkedArray(callset['3L/calldata/genotype'])\n",
    "genotype"
   ]
  },
  {
   "cell_type": "code",
   "execution_count": 4,
   "metadata": {
    "collapsed": false
   },
   "outputs": [
    {
     "data": {
      "text/html": [
       "<table class='petl'>\n",
       "<caption>GenotypeChunkedArray((2000000, 765, 2), int8, nbytes=2.8G, cbytes=149.6M, cratio=19.5, cname=blosclz, clevel=5, shuffle=True, chunks=(1370, 765, 2), data=bcolz.carray_ext.carray)</caption>\n",
       "<thead>\n",
       "<tr>\n",
       "<th></th>\n",
       "<th>0</th>\n",
       "<th>1</th>\n",
       "<th>2</th>\n",
       "<th>3</th>\n",
       "<th>4</th>\n",
       "<th>...</th>\n",
       "<th>760</th>\n",
       "<th>761</th>\n",
       "<th>762</th>\n",
       "<th>763</th>\n",
       "<th>764</th>\n",
       "</tr>\n",
       "</thead>\n",
       "<tbody>\n",
       "<tr>\n",
       "<td style='font-weight: bold'>0</td>\n",
       "<td>0/0</td>\n",
       "<td>0/0</td>\n",
       "<td>0/0</td>\n",
       "<td>0/0</td>\n",
       "<td>0/0</td>\n",
       "<td>...</td>\n",
       "<td>0/0</td>\n",
       "<td>0/0</td>\n",
       "<td>0/0</td>\n",
       "<td>0/0</td>\n",
       "<td>0/0</td>\n",
       "</tr>\n",
       "<tr>\n",
       "<td style='font-weight: bold'>1</td>\n",
       "<td>0/0</td>\n",
       "<td>0/0</td>\n",
       "<td>0/0</td>\n",
       "<td>0/0</td>\n",
       "<td>0/0</td>\n",
       "<td>...</td>\n",
       "<td>0/0</td>\n",
       "<td>0/0</td>\n",
       "<td>0/0</td>\n",
       "<td>0/0</td>\n",
       "<td>0/0</td>\n",
       "</tr>\n",
       "<tr>\n",
       "<td style='font-weight: bold'>2</td>\n",
       "<td>0/0</td>\n",
       "<td>0/0</td>\n",
       "<td>0/0</td>\n",
       "<td>0/0</td>\n",
       "<td>0/0</td>\n",
       "<td>...</td>\n",
       "<td>0/0</td>\n",
       "<td>0/0</td>\n",
       "<td>0/0</td>\n",
       "<td>0/0</td>\n",
       "<td>0/0</td>\n",
       "</tr>\n",
       "<tr>\n",
       "<td style='font-weight: bold'>3</td>\n",
       "<td>0/0</td>\n",
       "<td>0/0</td>\n",
       "<td>0/0</td>\n",
       "<td>0/0</td>\n",
       "<td>0/0</td>\n",
       "<td>...</td>\n",
       "<td>0/0</td>\n",
       "<td>0/0</td>\n",
       "<td>0/0</td>\n",
       "<td>0/0</td>\n",
       "<td>0/0</td>\n",
       "</tr>\n",
       "<tr>\n",
       "<td style='font-weight: bold'>4</td>\n",
       "<td>0/0</td>\n",
       "<td>0/0</td>\n",
       "<td>0/0</td>\n",
       "<td>0/0</td>\n",
       "<td>0/0</td>\n",
       "<td>...</td>\n",
       "<td>0/0</td>\n",
       "<td>0/0</td>\n",
       "<td>0/0</td>\n",
       "<td>0/0</td>\n",
       "<td>0/0</td>\n",
       "</tr>\n",
       "</tbody>\n",
       "</table>\n",
       "<p><strong>...</strong></p>"
      ],
      "text/plain": [
       "GenotypeChunkedArray((2000000, 765, 2), int8, nbytes=2.8G, cbytes=149.6M, cratio=19.5, cname=blosclz, clevel=5, shuffle=True, chunks=(1370, 765, 2), data=bcolz.carray_ext.carray)"
      ]
     },
     "execution_count": 4,
     "metadata": {},
     "output_type": "execute_result"
    }
   ],
   "source": [
    "g = genotype.copy(stop=2000000)\n",
    "g"
   ]
  },
  {
   "cell_type": "code",
   "execution_count": 10,
   "metadata": {
    "collapsed": false
   },
   "outputs": [
    {
     "data": {
      "text/plain": [
       "2096100"
      ]
     },
     "execution_count": 10,
     "metadata": {},
     "output_type": "execute_result"
    }
   ],
   "source": [
    "g.data.chunklen * 765 * 2"
   ]
  },
  {
   "cell_type": "code",
   "execution_count": 12,
   "metadata": {
    "collapsed": false
   },
   "outputs": [
    {
     "name": "stdout",
     "output_type": "stream",
     "text": [
      "\n",
      "threads: 1\n",
      "CPU times: user 3.64 s, sys: 0 ns, total: 3.64 s\n",
      "Wall time: 3.64 s\n",
      "\n",
      "threads: 2\n",
      "CPU times: user 4.04 s, sys: 52 ms, total: 4.1 s\n",
      "Wall time: 3.54 s\n",
      "\n",
      "threads: 4\n",
      "CPU times: user 4.43 s, sys: 80 ms, total: 4.51 s\n",
      "Wall time: 3.36 s\n",
      "\n",
      "threads: 8\n",
      "CPU times: user 4.66 s, sys: 164 ms, total: 4.83 s\n",
      "Wall time: 3.25 s\n"
     ]
    }
   ],
   "source": [
    "for n in 1, 2, 4, 8:\n",
    "    bcolz.blosc_set_nthreads(n)\n",
    "    print('\\nblosc threads:', n)\n",
    "    %time g.max()"
   ]
  },
  {
   "cell_type": "code",
   "execution_count": 22,
   "metadata": {
    "collapsed": true
   },
   "outputs": [],
   "source": [
    "def toarray(x):\n",
    "    a = np.asarray(x)\n",
    "    print(a.nbytes)"
   ]
  },
  {
   "cell_type": "code",
   "execution_count": 25,
   "metadata": {
    "collapsed": false
   },
   "outputs": [
    {
     "name": "stdout",
     "output_type": "stream",
     "text": [
      "\n",
      "threads: 1\n",
      "3060000000\n",
      "CPU times: user 1.06 s, sys: 172 ms, total: 1.23 s\n",
      "Wall time: 1.24 s\n",
      "\n",
      "threads: 2\n",
      "3060000000\n",
      "CPU times: user 1.32 s, sys: 212 ms, total: 1.53 s\n",
      "Wall time: 972 ms\n",
      "\n",
      "threads: 4\n",
      "3060000000\n",
      "CPU times: user 1.59 s, sys: 200 ms, total: 1.79 s\n",
      "Wall time: 786 ms\n",
      "\n",
      "threads: 8\n",
      "3060000000\n",
      "CPU times: user 1.74 s, sys: 276 ms, total: 2.02 s\n",
      "Wall time: 748 ms\n"
     ]
    }
   ],
   "source": [
    "for n in 1, 2, 4, 8:\n",
    "    bcolz.blosc_set_nthreads(n)\n",
    "    print('\\nblosc threads:', n)\n",
    "    %time toarray(g)"
   ]
  },
  {
   "cell_type": "code",
   "execution_count": 29,
   "metadata": {
    "collapsed": true
   },
   "outputs": [],
   "source": [
    "def toarraymax(x):\n",
    "    a = np.asarray(x)\n",
    "    print(a.max())"
   ]
  },
  {
   "cell_type": "code",
   "execution_count": 30,
   "metadata": {
    "collapsed": false
   },
   "outputs": [
    {
     "name": "stdout",
     "output_type": "stream",
     "text": [
      "\n",
      "threads: 1\n",
      "3\n",
      "CPU times: user 3.52 s, sys: 164 ms, total: 3.68 s\n",
      "Wall time: 3.67 s\n",
      "\n",
      "threads: 2\n",
      "3\n",
      "CPU times: user 3.73 s, sys: 224 ms, total: 3.95 s\n",
      "Wall time: 3.4 s\n",
      "\n",
      "threads: 4\n",
      "3\n",
      "CPU times: user 3.98 s, sys: 208 ms, total: 4.19 s\n",
      "Wall time: 3.22 s\n",
      "\n",
      "threads: 8\n",
      "3\n",
      "CPU times: user 4.15 s, sys: 316 ms, total: 4.46 s\n",
      "Wall time: 3.18 s\n"
     ]
    }
   ],
   "source": [
    "for n in 1, 2, 4, 8:\n",
    "    bcolz.blosc_set_nthreads(n)\n",
    "    print('\\nthreads:', n)\n",
    "    %time toarraymax(g)"
   ]
  },
  {
   "cell_type": "code",
   "execution_count": 31,
   "metadata": {
    "collapsed": true
   },
   "outputs": [],
   "source": [
    "x = np.asarray(g)"
   ]
  },
  {
   "cell_type": "code",
   "execution_count": 32,
   "metadata": {
    "collapsed": false
   },
   "outputs": [
    {
     "name": "stdout",
     "output_type": "stream",
     "text": [
      "CPU times: user 2.47 s, sys: 0 ns, total: 2.47 s\n",
      "Wall time: 2.45 s\n"
     ]
    },
    {
     "data": {
      "text/plain": [
       "3"
      ]
     },
     "execution_count": 32,
     "metadata": {},
     "output_type": "execute_result"
    }
   ],
   "source": [
    "%time x.max()"
   ]
  },
  {
   "cell_type": "code",
   "execution_count": 26,
   "metadata": {
    "collapsed": false
   },
   "outputs": [
    {
     "data": {
      "text/html": [
       "<table class='petl'>\n",
       "<caption>GenotypeDaskArray&lt;from-ar..., shape=(2000000, 765, 2), dtype=int8, chunksize=(1370, 765, 2)></caption>\n",
       "<thead>\n",
       "<tr>\n",
       "<th></th>\n",
       "<th>0</th>\n",
       "<th>1</th>\n",
       "<th>2</th>\n",
       "<th>3</th>\n",
       "<th>4</th>\n",
       "<th>...</th>\n",
       "<th>760</th>\n",
       "<th>761</th>\n",
       "<th>762</th>\n",
       "<th>763</th>\n",
       "<th>764</th>\n",
       "</tr>\n",
       "</thead>\n",
       "<tbody>\n",
       "<tr>\n",
       "<td style='font-weight: bold'>0</td>\n",
       "<td>0/0</td>\n",
       "<td>0/0</td>\n",
       "<td>0/0</td>\n",
       "<td>0/0</td>\n",
       "<td>0/0</td>\n",
       "<td>...</td>\n",
       "<td>0/0</td>\n",
       "<td>0/0</td>\n",
       "<td>0/0</td>\n",
       "<td>0/0</td>\n",
       "<td>0/0</td>\n",
       "</tr>\n",
       "<tr>\n",
       "<td style='font-weight: bold'>1</td>\n",
       "<td>0/0</td>\n",
       "<td>0/0</td>\n",
       "<td>0/0</td>\n",
       "<td>0/0</td>\n",
       "<td>0/0</td>\n",
       "<td>...</td>\n",
       "<td>0/0</td>\n",
       "<td>0/0</td>\n",
       "<td>0/0</td>\n",
       "<td>0/0</td>\n",
       "<td>0/0</td>\n",
       "</tr>\n",
       "<tr>\n",
       "<td style='font-weight: bold'>2</td>\n",
       "<td>0/0</td>\n",
       "<td>0/0</td>\n",
       "<td>0/0</td>\n",
       "<td>0/0</td>\n",
       "<td>0/0</td>\n",
       "<td>...</td>\n",
       "<td>0/0</td>\n",
       "<td>0/0</td>\n",
       "<td>0/0</td>\n",
       "<td>0/0</td>\n",
       "<td>0/0</td>\n",
       "</tr>\n",
       "<tr>\n",
       "<td style='font-weight: bold'>3</td>\n",
       "<td>0/0</td>\n",
       "<td>0/0</td>\n",
       "<td>0/0</td>\n",
       "<td>0/0</td>\n",
       "<td>0/0</td>\n",
       "<td>...</td>\n",
       "<td>0/0</td>\n",
       "<td>0/0</td>\n",
       "<td>0/0</td>\n",
       "<td>0/0</td>\n",
       "<td>0/0</td>\n",
       "</tr>\n",
       "<tr>\n",
       "<td style='font-weight: bold'>4</td>\n",
       "<td>0/0</td>\n",
       "<td>0/0</td>\n",
       "<td>0/0</td>\n",
       "<td>0/0</td>\n",
       "<td>0/0</td>\n",
       "<td>...</td>\n",
       "<td>0/0</td>\n",
       "<td>0/0</td>\n",
       "<td>0/0</td>\n",
       "<td>0/0</td>\n",
       "<td>0/0</td>\n",
       "</tr>\n",
       "</tbody>\n",
       "</table>\n",
       "<p><strong>...</strong></p>"
      ],
      "text/plain": [
       "GenotypeDaskArray<from-ar..., shape=(2000000, 765, 2), dtype=int8, chunksize=(1370, 765, 2)>"
      ]
     },
     "execution_count": 26,
     "metadata": {},
     "output_type": "execute_result"
    }
   ],
   "source": [
    "gd = allel.model.dask.GenotypeDaskArray.from_array(g)\n",
    "gd"
   ]
  },
  {
   "cell_type": "code",
   "execution_count": 35,
   "metadata": {
    "collapsed": false
   },
   "outputs": [
    {
     "name": "stdout",
     "output_type": "stream",
     "text": [
      "\n",
      "blosc threads: 1 ; dask threads: 1\n",
      "CPU times: user 4.2 s, sys: 1.31 s, total: 5.52 s\n",
      "Wall time: 5.35 s\n",
      "\n",
      "blosc threads: 1 ; dask threads: 2\n",
      "CPU times: user 4.73 s, sys: 876 ms, total: 5.6 s\n",
      "Wall time: 3.45 s\n",
      "\n",
      "blosc threads: 1 ; dask threads: 4\n",
      "CPU times: user 5.08 s, sys: 1.23 s, total: 6.31 s\n",
      "Wall time: 2.66 s\n",
      "\n",
      "blosc threads: 1 ; dask threads: 8\n",
      "CPU times: user 5.17 s, sys: 1.28 s, total: 6.45 s\n",
      "Wall time: 2.63 s\n",
      "\n",
      "blosc threads: 2 ; dask threads: 1\n",
      "CPU times: user 4.61 s, sys: 1.45 s, total: 6.06 s\n",
      "Wall time: 5.03 s\n",
      "\n",
      "blosc threads: 2 ; dask threads: 2\n",
      "CPU times: user 4.95 s, sys: 1.65 s, total: 6.6 s\n",
      "Wall time: 3.23 s\n",
      "\n",
      "blosc threads: 2 ; dask threads: 4\n",
      "CPU times: user 5.29 s, sys: 996 ms, total: 6.28 s\n",
      "Wall time: 2.01 s\n",
      "\n",
      "blosc threads: 2 ; dask threads: 8\n",
      "CPU times: user 5.25 s, sys: 1.66 s, total: 6.9 s\n",
      "Wall time: 2.08 s\n",
      "\n",
      "blosc threads: 4 ; dask threads: 1\n",
      "CPU times: user 5.03 s, sys: 1.52 s, total: 6.54 s\n",
      "Wall time: 4.75 s\n",
      "\n",
      "blosc threads: 4 ; dask threads: 2\n",
      "CPU times: user 5.23 s, sys: 1.57 s, total: 6.8 s\n",
      "Wall time: 2.82 s\n",
      "\n",
      "blosc threads: 4 ; dask threads: 4\n",
      "CPU times: user 5.56 s, sys: 1.44 s, total: 7 s\n",
      "Wall time: 1.87 s\n",
      "\n",
      "blosc threads: 4 ; dask threads: 8\n",
      "CPU times: user 5.6 s, sys: 1.51 s, total: 7.11 s\n",
      "Wall time: 1.92 s\n",
      "\n",
      "blosc threads: 8 ; dask threads: 1\n",
      "CPU times: user 5.19 s, sys: 1.79 s, total: 6.98 s\n",
      "Wall time: 4.68 s\n",
      "\n",
      "blosc threads: 8 ; dask threads: 2\n",
      "CPU times: user 5.67 s, sys: 1.64 s, total: 7.31 s\n",
      "Wall time: 2.88 s\n",
      "\n",
      "blosc threads: 8 ; dask threads: 4\n",
      "CPU times: user 5.62 s, sys: 1.54 s, total: 7.16 s\n",
      "Wall time: 2.14 s\n",
      "\n",
      "blosc threads: 8 ; dask threads: 8\n",
      "CPU times: user 5.7 s, sys: 1.7 s, total: 7.4 s\n",
      "Wall time: 1.94 s\n"
     ]
    }
   ],
   "source": [
    "for n in 1, 2, 4, 8:\n",
    "    bcolz.blosc_set_nthreads(n)\n",
    "    for m in 1, 2, 4, 8:\n",
    "        print('\\nblosc threads:', n, '; dask threads:', m)\n",
    "        %time gd.max().compute(num_workers=m)"
   ]
  },
  {
   "cell_type": "code",
   "execution_count": null,
   "metadata": {
    "collapsed": true
   },
   "outputs": [],
   "source": []
  }
 ],
 "metadata": {
  "kernelspec": {
   "display_name": "Python 3",
   "language": "python",
   "name": "python3"
  },
  "language_info": {
   "codemirror_mode": {
    "name": "ipython",
    "version": 3
   },
   "file_extension": ".py",
   "mimetype": "text/x-python",
   "name": "python",
   "nbconvert_exporter": "python",
   "pygments_lexer": "ipython3",
   "version": "3.4.3"
  }
 },
 "nbformat": 4,
 "nbformat_minor": 0
}
