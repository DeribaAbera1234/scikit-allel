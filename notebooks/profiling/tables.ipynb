{
 "metadata": {
  "name": "",
  "signature": "sha256:b302c986991145f7eee2186738c0b93135e04e16971a24c52c0151f73bfc001f"
 },
 "nbformat": 3,
 "nbformat_minor": 0,
 "worksheets": [
  {
   "cells": [
    {
     "cell_type": "heading",
     "level": 2,
     "metadata": {},
     "source": [
      "Setup"
     ]
    },
    {
     "cell_type": "code",
     "collapsed": false,
     "input": [
      "import sys\n",
      "import numpy as np\n",
      "import bcolz\n",
      "import numexpr\n",
      "import humanize\n",
      "import h5py\n",
      "import tempfile\n",
      "def binarysize(n):\n",
      "    return humanize.naturalsize(n, binary=True)\n",
      "\n",
      "%reload_ext memory_profiler\n",
      "sys.path.insert(0, '../..')\n",
      "%reload_ext autoreload\n",
      "%autoreload 1\n",
      "%aimport allel.model\n",
      "%aimport allel.bcolz"
     ],
     "language": "python",
     "metadata": {},
     "outputs": [],
     "prompt_number": 1
    },
    {
     "cell_type": "code",
     "collapsed": false,
     "input": [
      "pos = np.unique(np.random.randint(0, 100000000, size=10000000))\n",
      "pos.size, binarysize(pos.nbytes)"
     ],
     "language": "python",
     "metadata": {},
     "outputs": [
      {
       "metadata": {},
       "output_type": "pyout",
       "prompt_number": 2,
       "text": [
        "(9515996, '72.6 MiB')"
       ]
      }
     ],
     "prompt_number": 2
    },
    {
     "cell_type": "code",
     "collapsed": false,
     "input": [
      "x = np.random.randint(0, 100, size=pos.size)\n",
      "binarysize(x.nbytes)"
     ],
     "language": "python",
     "metadata": {},
     "outputs": [
      {
       "metadata": {},
       "output_type": "pyout",
       "prompt_number": 3,
       "text": [
        "'72.6 MiB'"
       ]
      }
     ],
     "prompt_number": 3
    },
    {
     "cell_type": "code",
     "collapsed": false,
     "input": [
      "y = np.random.random(size=pos.size)\n",
      "binarysize(y.nbytes)"
     ],
     "language": "python",
     "metadata": {},
     "outputs": [
      {
       "metadata": {},
       "output_type": "pyout",
       "prompt_number": 4,
       "text": [
        "'72.6 MiB'"
       ]
      }
     ],
     "prompt_number": 4
    },
    {
     "cell_type": "code",
     "collapsed": false,
     "input": [
      "z = np.random.choice([b'a', b'b', b'c'], size=pos.size)\n",
      "binarysize(z.nbytes)"
     ],
     "language": "python",
     "metadata": {},
     "outputs": [
      {
       "metadata": {},
       "output_type": "pyout",
       "prompt_number": 5,
       "text": [
        "'9.1 MiB'"
       ]
      }
     ],
     "prompt_number": 5
    },
    {
     "cell_type": "code",
     "collapsed": false,
     "input": [
      "query = \"(x > 50) & (y < .5) & (z == b'a')\""
     ],
     "language": "python",
     "metadata": {},
     "outputs": [],
     "prompt_number": 6
    },
    {
     "cell_type": "heading",
     "level": 2,
     "metadata": {},
     "source": [
      "Profiling"
     ]
    },
    {
     "cell_type": "code",
     "collapsed": false,
     "input": [
      "a = np.rec.fromarrays([pos, x, y, z], names=['pos', 'x', 'y', 'z'])\n",
      "vt = allel.model.VariantTable(a, index='pos')\n",
      "vt"
     ],
     "language": "python",
     "metadata": {},
     "outputs": [
      {
       "html": [
        "<div style=\"max-height:1000px;max-width:1500px;overflow:auto;\">\n",
        "<table border=\"1\" class=\"dataframe\">\n",
        "  <thead>\n",
        "    <tr style=\"text-align: right;\">\n",
        "      <th></th>\n",
        "      <th>pos</th>\n",
        "      <th>x</th>\n",
        "      <th>y</th>\n",
        "      <th>z</th>\n",
        "    </tr>\n",
        "  </thead>\n",
        "  <tbody>\n",
        "    <tr>\n",
        "      <th>0</th>\n",
        "      <td> 13</td>\n",
        "      <td> 93</td>\n",
        "      <td> 0.989232</td>\n",
        "      <td> b'c'</td>\n",
        "    </tr>\n",
        "    <tr>\n",
        "      <th>1</th>\n",
        "      <td> 26</td>\n",
        "      <td> 27</td>\n",
        "      <td> 0.095014</td>\n",
        "      <td> b'c'</td>\n",
        "    </tr>\n",
        "    <tr>\n",
        "      <th>2</th>\n",
        "      <td> 27</td>\n",
        "      <td> 83</td>\n",
        "      <td> 0.839904</td>\n",
        "      <td> b'c'</td>\n",
        "    </tr>\n",
        "    <tr>\n",
        "      <th>3</th>\n",
        "      <td> 50</td>\n",
        "      <td>  2</td>\n",
        "      <td> 0.153010</td>\n",
        "      <td> b'a'</td>\n",
        "    </tr>\n",
        "    <tr>\n",
        "      <th>4</th>\n",
        "      <td> 67</td>\n",
        "      <td> 87</td>\n",
        "      <td> 0.584208</td>\n",
        "      <td> b'c'</td>\n",
        "    </tr>\n",
        "  </tbody>\n",
        "</table>\n",
        "</div>"
       ],
       "metadata": {},
       "output_type": "pyout",
       "prompt_number": 7,
       "text": [
        "VariantTable((9515996,), dtype=[('pos', '<i8'), ('x', '<i8'), ('y', '<f8'), ('z', 'S1')])\n",
        "[(13, 93, 0.9892320132981415, b'c') (26, 27, 0.09501357082222328, b'c')\n",
        " (27, 83, 0.8399038420752247, b'c') ...,\n",
        " (99999977, 56, 0.31820276063176356, b'b')\n",
        " (99999991, 77, 0.4218439240069898, b'b')\n",
        " (99999993, 80, 0.49847442891630056, b'a')]"
       ]
      }
     ],
     "prompt_number": 7
    },
    {
     "cell_type": "code",
     "collapsed": false,
     "input": [
      "vt.x"
     ],
     "language": "python",
     "metadata": {},
     "outputs": [
      {
       "metadata": {},
       "output_type": "pyout",
       "prompt_number": 8,
       "text": [
        "array([93, 27, 83, ..., 56, 77, 80])"
       ]
      }
     ],
     "prompt_number": 8
    },
    {
     "cell_type": "code",
     "collapsed": false,
     "input": [
      "vt[['pos', 'x']]"
     ],
     "language": "python",
     "metadata": {},
     "outputs": [
      {
       "html": [
        "<div style=\"max-height:1000px;max-width:1500px;overflow:auto;\">\n",
        "<table border=\"1\" class=\"dataframe\">\n",
        "  <thead>\n",
        "    <tr style=\"text-align: right;\">\n",
        "      <th></th>\n",
        "      <th>pos</th>\n",
        "      <th>x</th>\n",
        "    </tr>\n",
        "  </thead>\n",
        "  <tbody>\n",
        "    <tr>\n",
        "      <th>0</th>\n",
        "      <td> 13</td>\n",
        "      <td> 93</td>\n",
        "    </tr>\n",
        "    <tr>\n",
        "      <th>1</th>\n",
        "      <td> 26</td>\n",
        "      <td> 27</td>\n",
        "    </tr>\n",
        "    <tr>\n",
        "      <th>2</th>\n",
        "      <td> 27</td>\n",
        "      <td> 83</td>\n",
        "    </tr>\n",
        "    <tr>\n",
        "      <th>3</th>\n",
        "      <td> 50</td>\n",
        "      <td>  2</td>\n",
        "    </tr>\n",
        "    <tr>\n",
        "      <th>4</th>\n",
        "      <td> 67</td>\n",
        "      <td> 87</td>\n",
        "    </tr>\n",
        "  </tbody>\n",
        "</table>\n",
        "</div>"
       ],
       "metadata": {},
       "output_type": "pyout",
       "prompt_number": 9,
       "text": [
        "VariantTable((9515996,), dtype=[('pos', '<i8'), ('x', '<i8')])\n",
        "[(13, 93) (26, 27) (27, 83) ..., (99999977, 56) (99999991, 77)\n",
        " (99999993, 80)]"
       ]
      }
     ],
     "prompt_number": 9
    },
    {
     "cell_type": "code",
     "collapsed": false,
     "input": [
      "vtc = allel.bcolz.VariantCTable(a, index='pos')\n",
      "vtc"
     ],
     "language": "python",
     "metadata": {},
     "outputs": [
      {
       "html": [
        "<div style=\"max-height:1000px;max-width:1500px;overflow:auto;\">\n",
        "<table border=\"1\" class=\"dataframe\">\n",
        "  <thead>\n",
        "    <tr style=\"text-align: right;\">\n",
        "      <th></th>\n",
        "      <th>pos</th>\n",
        "      <th>x</th>\n",
        "      <th>y</th>\n",
        "      <th>z</th>\n",
        "    </tr>\n",
        "  </thead>\n",
        "  <tbody>\n",
        "    <tr>\n",
        "      <th>0</th>\n",
        "      <td> 13</td>\n",
        "      <td> 93</td>\n",
        "      <td> 0.989232</td>\n",
        "      <td> b'c'</td>\n",
        "    </tr>\n",
        "    <tr>\n",
        "      <th>1</th>\n",
        "      <td> 26</td>\n",
        "      <td> 27</td>\n",
        "      <td> 0.095014</td>\n",
        "      <td> b'c'</td>\n",
        "    </tr>\n",
        "    <tr>\n",
        "      <th>2</th>\n",
        "      <td> 27</td>\n",
        "      <td> 83</td>\n",
        "      <td> 0.839904</td>\n",
        "      <td> b'c'</td>\n",
        "    </tr>\n",
        "    <tr>\n",
        "      <th>3</th>\n",
        "      <td> 50</td>\n",
        "      <td>  2</td>\n",
        "      <td> 0.153010</td>\n",
        "      <td> b'a'</td>\n",
        "    </tr>\n",
        "    <tr>\n",
        "      <th>4</th>\n",
        "      <td> 67</td>\n",
        "      <td> 87</td>\n",
        "      <td> 0.584208</td>\n",
        "      <td> b'c'</td>\n",
        "    </tr>\n",
        "  </tbody>\n",
        "</table>\n",
        "</div>"
       ],
       "metadata": {},
       "output_type": "pyout",
       "prompt_number": 10,
       "text": [
        "VariantCTable((9515996,), [('pos', '<i8'), ('x', '<i8'), ('y', '<f8'), ('z', 'S1')])\n",
        "  nbytes: 226.88 MB; cbytes: 91.50 MB; ratio: 2.48\n",
        "  cparams := cparams(clevel=5, shuffle=True, cname='blosclz')\n",
        "[(13, 93, 0.9892320132981415, b'c') (26, 27, 0.09501357082222328, b'c')\n",
        " (27, 83, 0.8399038420752247, b'c') ...,\n",
        " (99999977, 56, 0.31820276063176356, b'b')\n",
        " (99999991, 77, 0.4218439240069898, b'b')\n",
        " (99999993, 80, 0.49847442891630056, b'a')]"
       ]
      }
     ],
     "prompt_number": 10
    },
    {
     "cell_type": "code",
     "collapsed": false,
     "input": [
      "vtc.x"
     ],
     "language": "python",
     "metadata": {},
     "outputs": [
      {
       "metadata": {},
       "output_type": "pyout",
       "prompt_number": 11,
       "text": [
        "carray((9515996,), int64)\n",
        "  nbytes: 72.60 MB; cbytes: 10.08 MB; ratio: 7.20\n",
        "  cparams := cparams(clevel=5, shuffle=True, cname='blosclz')\n",
        "[93 27 83 ..., 56 77 80]"
       ]
      }
     ],
     "prompt_number": 11
    },
    {
     "cell_type": "code",
     "collapsed": false,
     "input": [
      "rootdir = tempfile.mkdtemp()\n",
      "vtcp = allel.bcolz.VariantCTable(a, index='pos', rootdir=rootdir, mode='w')\n",
      "vtcp"
     ],
     "language": "python",
     "metadata": {},
     "outputs": [
      {
       "html": [
        "<div style=\"max-height:1000px;max-width:1500px;overflow:auto;\">\n",
        "<table border=\"1\" class=\"dataframe\">\n",
        "  <thead>\n",
        "    <tr style=\"text-align: right;\">\n",
        "      <th></th>\n",
        "      <th>pos</th>\n",
        "      <th>x</th>\n",
        "      <th>y</th>\n",
        "      <th>z</th>\n",
        "    </tr>\n",
        "  </thead>\n",
        "  <tbody>\n",
        "    <tr>\n",
        "      <th>0</th>\n",
        "      <td> 13</td>\n",
        "      <td> 93</td>\n",
        "      <td> 0.989232</td>\n",
        "      <td> b'c'</td>\n",
        "    </tr>\n",
        "    <tr>\n",
        "      <th>1</th>\n",
        "      <td> 26</td>\n",
        "      <td> 27</td>\n",
        "      <td> 0.095014</td>\n",
        "      <td> b'c'</td>\n",
        "    </tr>\n",
        "    <tr>\n",
        "      <th>2</th>\n",
        "      <td> 27</td>\n",
        "      <td> 83</td>\n",
        "      <td> 0.839904</td>\n",
        "      <td> b'c'</td>\n",
        "    </tr>\n",
        "    <tr>\n",
        "      <th>3</th>\n",
        "      <td> 50</td>\n",
        "      <td>  2</td>\n",
        "      <td> 0.153010</td>\n",
        "      <td> b'a'</td>\n",
        "    </tr>\n",
        "    <tr>\n",
        "      <th>4</th>\n",
        "      <td> 67</td>\n",
        "      <td> 87</td>\n",
        "      <td> 0.584208</td>\n",
        "      <td> b'c'</td>\n",
        "    </tr>\n",
        "  </tbody>\n",
        "</table>\n",
        "</div>"
       ],
       "metadata": {},
       "output_type": "pyout",
       "prompt_number": 13,
       "text": [
        "VariantCTable((9515996,), [('pos', '<i8'), ('x', '<i8'), ('y', '<f8'), ('z', 'S1')])\n",
        "  nbytes: 226.88 MB; cbytes: 91.50 MB; ratio: 2.48\n",
        "  cparams := cparams(clevel=5, shuffle=True, cname='blosclz')\n",
        "  rootdir := '/tmp/tmpibz9r1b5'\n",
        "[(13, 93, 0.9892320132981415, b'c') (26, 27, 0.09501357082222328, b'c')\n",
        " (27, 83, 0.8399038420752247, b'c') ...,\n",
        " (99999977, 56, 0.31820276063176356, b'b')\n",
        " (99999991, 77, 0.4218439240069898, b'b')\n",
        " (99999993, 80, 0.49847442891630056, b'a')]"
       ]
      }
     ],
     "prompt_number": 13
    },
    {
     "cell_type": "code",
     "collapsed": false,
     "input": [
      "# baselines\n",
      "%timeit eval(query)\n",
      "%memit eval(query)\n",
      "%timeit numexpr.evaluate(query)\n",
      "%memit numexpr.evaluate(query)"
     ],
     "language": "python",
     "metadata": {},
     "outputs": [
      {
       "output_type": "stream",
       "stream": "stdout",
       "text": [
        "10 loops, best of 3: 174 ms per loop\n"
       ]
      },
      {
       "output_type": "stream",
       "stream": "stdout",
       "text": [
        "peak memory: 1169.99 MiB, increment: 26.96 MiB\n",
        "10 loops, best of 3: 52.9 ms per loop"
       ]
      },
      {
       "output_type": "stream",
       "stream": "stdout",
       "text": [
        "\n"
       ]
      },
      {
       "output_type": "stream",
       "stream": "stdout",
       "text": [
        "peak memory: 1152.26 MiB, increment: 0.50 MiB\n"
       ]
      }
     ],
     "prompt_number": 14
    },
    {
     "cell_type": "code",
     "collapsed": false,
     "input": [
      "vm = 'python'\n",
      "%timeit vt.eval(query, vm=vm)\n",
      "%memit vt.eval(query, vm=vm)\n",
      "%timeit vtc.eval(query, vm=vm)\n",
      "%memit vtc.eval(query, vm=vm)\n",
      "%timeit vtcp.eval(query, vm=vm)\n",
      "%memit vtcp.eval(query, vm=vm)"
     ],
     "language": "python",
     "metadata": {},
     "outputs": [
      {
       "output_type": "stream",
       "stream": "stdout",
       "text": [
        "1 loops, best of 3: 279 ms per loop\n"
       ]
      },
      {
       "output_type": "stream",
       "stream": "stdout",
       "text": [
        "peak memory: 1170.30 MiB, increment: 26.86 MiB\n",
        "1 loops, best of 3: 319 ms per loop"
       ]
      },
      {
       "output_type": "stream",
       "stream": "stdout",
       "text": [
        "\n"
       ]
      },
      {
       "output_type": "stream",
       "stream": "stdout",
       "text": [
        "peak memory: 1143.85 MiB, increment: 0.00 MiB\n",
        "1 loops, best of 3: 340 ms per loop"
       ]
      },
      {
       "output_type": "stream",
       "stream": "stdout",
       "text": [
        "\n"
       ]
      },
      {
       "output_type": "stream",
       "stream": "stdout",
       "text": [
        "peak memory: 1143.86 MiB, increment: 0.00 MiB\n"
       ]
      }
     ],
     "prompt_number": 15
    },
    {
     "cell_type": "code",
     "collapsed": false,
     "input": [
      "vm = 'numexpr'\n",
      "%timeit vt.eval(query, vm=vm)\n",
      "%memit vt.eval(query, vm=vm)\n",
      "%timeit vtc.eval(query, vm=vm)\n",
      "%memit vtc.eval(query, vm=vm)\n",
      "%timeit vtcp.eval(query, vm=vm)\n",
      "%memit vtcp.eval(query, vm=vm)"
     ],
     "language": "python",
     "metadata": {},
     "outputs": [
      {
       "output_type": "stream",
       "stream": "stdout",
       "text": [
        "10 loops, best of 3: 56.8 ms per loop\n"
       ]
      },
      {
       "output_type": "stream",
       "stream": "stdout",
       "text": [
        "peak memory: 1152.81 MiB, increment: 0.24 MiB\n",
        "1 loops, best of 3: 168 ms per loop"
       ]
      },
      {
       "output_type": "stream",
       "stream": "stdout",
       "text": [
        "\n"
       ]
      },
      {
       "output_type": "stream",
       "stream": "stdout",
       "text": [
        "peak memory: 1152.82 MiB, increment: 0.00 MiB\n",
        "1 loops, best of 3: 249 ms per loop"
       ]
      },
      {
       "output_type": "stream",
       "stream": "stdout",
       "text": [
        "\n"
       ]
      },
      {
       "output_type": "stream",
       "stream": "stdout",
       "text": [
        "peak memory: 1152.82 MiB, increment: 0.00 MiB\n"
       ]
      }
     ],
     "prompt_number": 16
    },
    {
     "cell_type": "heading",
     "level": 2,
     "metadata": {},
     "source": [
      "HDF5"
     ]
    },
    {
     "cell_type": "code",
     "collapsed": false,
     "input": [
      "fn1 = tempfile.mktemp()\n",
      "fn1"
     ],
     "language": "python",
     "metadata": {},
     "outputs": [
      {
       "metadata": {},
       "output_type": "pyout",
       "prompt_number": 17,
       "text": [
        "'/tmp/tmp58v_8jub'"
       ]
      }
     ],
     "prompt_number": 17
    },
    {
     "cell_type": "code",
     "collapsed": false,
     "input": [
      "with h5py.File(fn1, mode='w') as h5f:\n",
      "    h5g = h5f.create_group('table')\n",
      "    h5g.create_dataset('pos', data=pos, chunks=(1000,))\n",
      "    h5g.create_dataset('x', data=x, chunks=(1000,))\n",
      "    h5g.create_dataset('y', data=y, chunks=(1000,))\n",
      "    h5g.create_dataset('z', data=z, chunks=(1000,))"
     ],
     "language": "python",
     "metadata": {},
     "outputs": [],
     "prompt_number": 18
    },
    {
     "cell_type": "code",
     "collapsed": false,
     "input": [
      "vtc2 = allel.bcolz.VariantCTable.from_hdf5_group(fn1, 'table', names=['pos', 'x', 'y', 'z'], cparams=bcolz.cparams(cname='lz4', clevel=4))\n",
      "vtc2"
     ],
     "language": "python",
     "metadata": {},
     "outputs": [
      {
       "html": [
        "<div style=\"max-height:1000px;max-width:1500px;overflow:auto;\">\n",
        "<table border=\"1\" class=\"dataframe\">\n",
        "  <thead>\n",
        "    <tr style=\"text-align: right;\">\n",
        "      <th></th>\n",
        "      <th>pos</th>\n",
        "      <th>x</th>\n",
        "      <th>y</th>\n",
        "      <th>z</th>\n",
        "    </tr>\n",
        "  </thead>\n",
        "  <tbody>\n",
        "    <tr>\n",
        "      <th>0</th>\n",
        "      <td> 13</td>\n",
        "      <td> 93</td>\n",
        "      <td> 0.989232</td>\n",
        "      <td> b'c'</td>\n",
        "    </tr>\n",
        "    <tr>\n",
        "      <th>1</th>\n",
        "      <td> 26</td>\n",
        "      <td> 27</td>\n",
        "      <td> 0.095014</td>\n",
        "      <td> b'c'</td>\n",
        "    </tr>\n",
        "    <tr>\n",
        "      <th>2</th>\n",
        "      <td> 27</td>\n",
        "      <td> 83</td>\n",
        "      <td> 0.839904</td>\n",
        "      <td> b'c'</td>\n",
        "    </tr>\n",
        "    <tr>\n",
        "      <th>3</th>\n",
        "      <td> 50</td>\n",
        "      <td>  2</td>\n",
        "      <td> 0.153010</td>\n",
        "      <td> b'a'</td>\n",
        "    </tr>\n",
        "    <tr>\n",
        "      <th>4</th>\n",
        "      <td> 67</td>\n",
        "      <td> 87</td>\n",
        "      <td> 0.584208</td>\n",
        "      <td> b'c'</td>\n",
        "    </tr>\n",
        "  </tbody>\n",
        "</table>\n",
        "</div>"
       ],
       "metadata": {},
       "output_type": "pyout",
       "prompt_number": 19,
       "text": [
        "VariantCTable((9515996,), [('pos', '<i8'), ('x', '<i8'), ('y', '<f8'), ('z', 'S1')])\n",
        "  nbytes: 226.88 MB; cbytes: 92.26 MB; ratio: 2.46\n",
        "  cparams := cparams(clevel=4, shuffle=True, cname='lz4')\n",
        "[(13, 93, 0.9892320132981415, b'c') (26, 27, 0.09501357082222328, b'c')\n",
        " (27, 83, 0.8399038420752247, b'c') ...,\n",
        " (99999977, 56, 0.31820276063176356, b'b')\n",
        " (99999991, 77, 0.4218439240069898, b'b')\n",
        " (99999993, 80, 0.49847442891630056, b'a')]"
       ]
      }
     ],
     "prompt_number": 19
    },
    {
     "cell_type": "code",
     "collapsed": false,
     "input": [
      "vtc2['pos']"
     ],
     "language": "python",
     "metadata": {},
     "outputs": [
      {
       "metadata": {},
       "output_type": "pyout",
       "prompt_number": 20,
       "text": [
        "carray((9515996,), int64)\n",
        "  nbytes: 72.60 MB; cbytes: 11.84 MB; ratio: 6.13\n",
        "  cparams := cparams(clevel=4, shuffle=True, cname='lz4')\n",
        "[      13       26       27 ..., 99999977 99999991 99999993]"
       ]
      }
     ],
     "prompt_number": 20
    },
    {
     "cell_type": "code",
     "collapsed": false,
     "input": [
      "%timeit vtc2.eval(query)"
     ],
     "language": "python",
     "metadata": {},
     "outputs": [
      {
       "output_type": "stream",
       "stream": "stdout",
       "text": [
        "1 loops, best of 3: 174 ms per loop\n"
       ]
      }
     ],
     "prompt_number": 21
    },
    {
     "cell_type": "code",
     "collapsed": false,
     "input": [
      "%memit vtc2.eval(query)"
     ],
     "language": "python",
     "metadata": {},
     "outputs": [
      {
       "output_type": "stream",
       "stream": "stdout",
       "text": [
        "peak memory: 1305.04 MiB, increment: 0.46 MiB\n"
       ]
      }
     ],
     "prompt_number": 22
    },
    {
     "cell_type": "code",
     "collapsed": false,
     "input": [
      "h5g = h5py.File(fn1, mode='r')['table']\n",
      "%timeit numexpr.evaluate(query, local_dict=h5g)\n",
      "%memit numexpr.evaluate(query, local_dict=h5g)"
     ],
     "language": "python",
     "metadata": {},
     "outputs": [
      {
       "output_type": "stream",
       "stream": "stdout",
       "text": [
        "1 loops, best of 3: 533 ms per loop\n"
       ]
      },
      {
       "output_type": "stream",
       "stream": "stdout",
       "text": [
        "peak memory: 1461.66 MiB, increment: 145.20 MiB\n"
       ]
      }
     ],
     "prompt_number": 23
    },
    {
     "cell_type": "code",
     "collapsed": false,
     "input": [],
     "language": "python",
     "metadata": {},
     "outputs": []
    }
   ],
   "metadata": {}
  }
 ]
}