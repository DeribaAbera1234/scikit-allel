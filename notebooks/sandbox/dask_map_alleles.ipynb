{
 "cells": [
  {
   "cell_type": "code",
   "execution_count": 1,
   "metadata": {
    "collapsed": false
   },
   "outputs": [],
   "source": [
    "import numpy as np\n",
    "import dask.async\n",
    "import dask.array as da\n",
    "import os\n",
    "os.chdir('../..')\n",
    "import allel"
   ]
  },
  {
   "cell_type": "code",
   "execution_count": 2,
   "metadata": {
    "collapsed": false
   },
   "outputs": [
    {
     "data": {
      "text/html": [
       "<table class='petl'>\n",
       "<caption>GenotypeArray((5, 3, 2), dtype=int8)</caption>\n",
       "<thead>\n",
       "<tr>\n",
       "<th></th>\n",
       "<th>0</th>\n",
       "<th>1</th>\n",
       "<th>2</th>\n",
       "</tr>\n",
       "</thead>\n",
       "<tbody>\n",
       "<tr>\n",
       "<td style='font-weight: bold'>0</td>\n",
       "<td>0/0</td>\n",
       "<td>0/1</td>\n",
       "<td>0/1</td>\n",
       "</tr>\n",
       "<tr>\n",
       "<td style='font-weight: bold'>1</td>\n",
       "<td>0/1</td>\n",
       "<td>1/1</td>\n",
       "<td>1/1</td>\n",
       "</tr>\n",
       "<tr>\n",
       "<td style='font-weight: bold'>2</td>\n",
       "<td>1/1</td>\n",
       "<td>1/1</td>\n",
       "<td>0/0</td>\n",
       "</tr>\n",
       "<tr>\n",
       "<td style='font-weight: bold'>3</td>\n",
       "<td>1/1</td>\n",
       "<td>1/1</td>\n",
       "<td>0/0</td>\n",
       "</tr>\n",
       "<tr>\n",
       "<td style='font-weight: bold'>4</td>\n",
       "<td>1/1</td>\n",
       "<td>0/1</td>\n",
       "<td>./.</td>\n",
       "</tr>\n",
       "</tbody>\n",
       "</table>\n"
      ],
      "text/plain": [
       "GenotypeArray((5, 3, 2), dtype=int8)\n",
       "[[[ 0  0]\n",
       "  [ 0  1]\n",
       "  [ 0  1]]\n",
       "\n",
       " [[ 0  1]\n",
       "  [ 1  1]\n",
       "  [ 1  1]]\n",
       "\n",
       " [[ 1  1]\n",
       "  [ 1  1]\n",
       "  [ 0  0]]\n",
       "\n",
       " [[ 1  1]\n",
       "  [ 1  1]\n",
       "  [ 0  0]]\n",
       "\n",
       " [[ 1  1]\n",
       "  [ 0  1]\n",
       "  [-1 -1]]]"
      ]
     },
     "execution_count": 2,
     "metadata": {},
     "output_type": "execute_result"
    }
   ],
   "source": [
    "g = allel.GenotypeArray([[[0, 0], [0, 1], [0, 1]],\n",
    "                         [[0, 1], [1, 1], [1, 1]],\n",
    "                         [[1, 1], [1, 1], [0, 0]],\n",
    "                         [[1, 1], [1, 1], [0, 0]],\n",
    "                         [[1, 1], [0, 1], [-1, -1]]], dtype='i1')\n",
    "g"
   ]
  },
  {
   "cell_type": "code",
   "execution_count": 3,
   "metadata": {
    "collapsed": true
   },
   "outputs": [],
   "source": [
    "# the mapping array is effectively a look-up table, telling how to transform\n",
    "# integer values in each row\n",
    "mapping = np.array([[0, 1],  # no transformation\n",
    "                    [1, 0],  # 0->1, 1->0\n",
    "                    [0, 0],  # 0->0, 1->0\n",
    "                    [1, 0],  # 0->1, 1->0\n",
    "                    [0, 1]], # no transformation\n",
    "                   dtype='i1')"
   ]
  },
  {
   "cell_type": "code",
   "execution_count": 4,
   "metadata": {
    "collapsed": false
   },
   "outputs": [],
   "source": [
    "# the only shape constraint is that size of first dimension must match\n",
    "assert g.shape[0] == mapping.shape[0]"
   ]
  },
  {
   "cell_type": "code",
   "execution_count": 5,
   "metadata": {
    "collapsed": false
   },
   "outputs": [
    {
     "data": {
      "text/html": [
       "<table class='petl'>\n",
       "<caption>GenotypeArray((5, 3, 2), dtype=int8)</caption>\n",
       "<thead>\n",
       "<tr>\n",
       "<th></th>\n",
       "<th>0</th>\n",
       "<th>1</th>\n",
       "<th>2</th>\n",
       "</tr>\n",
       "</thead>\n",
       "<tbody>\n",
       "<tr>\n",
       "<td style='font-weight: bold'>0</td>\n",
       "<td>0/0</td>\n",
       "<td>0/1</td>\n",
       "<td>0/1</td>\n",
       "</tr>\n",
       "<tr>\n",
       "<td style='font-weight: bold'>1</td>\n",
       "<td>1/0</td>\n",
       "<td>0/0</td>\n",
       "<td>0/0</td>\n",
       "</tr>\n",
       "<tr>\n",
       "<td style='font-weight: bold'>2</td>\n",
       "<td>0/0</td>\n",
       "<td>0/0</td>\n",
       "<td>0/0</td>\n",
       "</tr>\n",
       "<tr>\n",
       "<td style='font-weight: bold'>3</td>\n",
       "<td>0/0</td>\n",
       "<td>0/0</td>\n",
       "<td>1/1</td>\n",
       "</tr>\n",
       "<tr>\n",
       "<td style='font-weight: bold'>4</td>\n",
       "<td>1/1</td>\n",
       "<td>0/1</td>\n",
       "<td>./.</td>\n",
       "</tr>\n",
       "</tbody>\n",
       "</table>\n"
      ],
      "text/plain": [
       "GenotypeArray((5, 3, 2), dtype=int8)\n",
       "[[[ 0  0]\n",
       "  [ 0  1]\n",
       "  [ 0  1]]\n",
       "\n",
       " [[ 1  0]\n",
       "  [ 0  0]\n",
       "  [ 0  0]]\n",
       "\n",
       " [[ 0  0]\n",
       "  [ 0  0]\n",
       "  [ 0  0]]\n",
       "\n",
       " [[ 0  0]\n",
       "  [ 0  0]\n",
       "  [ 1  1]]\n",
       "\n",
       " [[ 1  1]\n",
       "  [ 0  1]\n",
       "  [-1 -1]]]"
      ]
     },
     "execution_count": 5,
     "metadata": {},
     "output_type": "execute_result"
    }
   ],
   "source": [
    "# this is the pure numpy implementation\n",
    "expect = g.map_alleles(mapping)\n",
    "expect"
   ]
  },
  {
   "cell_type": "markdown",
   "metadata": {},
   "source": [
    "## Dask with 1D chunking"
   ]
  },
  {
   "cell_type": "code",
   "execution_count": 6,
   "metadata": {
    "collapsed": true
   },
   "outputs": [],
   "source": [
    "chunks_dim0 = 2"
   ]
  },
  {
   "cell_type": "code",
   "execution_count": 7,
   "metadata": {
    "collapsed": false
   },
   "outputs": [
    {
     "data": {
      "text/plain": [
       "dask.array<from-ar..., shape=(5, 3, 2), dtype=int8, chunksize=(2, 3, 2)>"
      ]
     },
     "execution_count": 7,
     "metadata": {},
     "output_type": "execute_result"
    }
   ],
   "source": [
    "gd1 = da.from_array(g, chunks=(chunks_dim0, None, None))  # N.B., chunk across entire rows\n",
    "gd1"
   ]
  },
  {
   "cell_type": "code",
   "execution_count": 8,
   "metadata": {
    "collapsed": false
   },
   "outputs": [
    {
     "data": {
      "text/plain": [
       "dask.array<from-ar..., shape=(5, 2), dtype=int8, chunksize=(2, 2)>"
      ]
     },
     "execution_count": 8,
     "metadata": {},
     "output_type": "execute_result"
    }
   ],
   "source": [
    "md = da.from_array(mapping, chunks=(chunks_dim0, None))  # N.B., first dimension chunk size matches gd1\n",
    "md"
   ]
  },
  {
   "cell_type": "code",
   "execution_count": 9,
   "metadata": {
    "collapsed": true
   },
   "outputs": [],
   "source": [
    "def f(block, bmapping):\n",
    "    return allel.GenotypeArray(block).map_alleles(bmapping[:, 0, :])"
   ]
  },
  {
   "cell_type": "code",
   "execution_count": 10,
   "metadata": {
    "collapsed": false
   },
   "outputs": [
    {
     "data": {
      "text/plain": [
       "dask.array<atop-ac..., shape=(5, 3, 2), dtype=None, chunksize=(2, 3, 2)>"
      ]
     },
     "execution_count": 10,
     "metadata": {},
     "output_type": "execute_result"
    }
   ],
   "source": [
    "gmapped1 = da.map_blocks(f, gd1, md[:, None, :])\n",
    "gmapped1"
   ]
  },
  {
   "cell_type": "code",
   "execution_count": 11,
   "metadata": {
    "collapsed": false
   },
   "outputs": [
    {
     "data": {
      "text/html": [
       "<table class='petl'>\n",
       "<caption>GenotypeArray((5, 3, 2), dtype=int8)</caption>\n",
       "<thead>\n",
       "<tr>\n",
       "<th></th>\n",
       "<th>0</th>\n",
       "<th>1</th>\n",
       "<th>2</th>\n",
       "</tr>\n",
       "</thead>\n",
       "<tbody>\n",
       "<tr>\n",
       "<td style='font-weight: bold'>0</td>\n",
       "<td>0/0</td>\n",
       "<td>0/1</td>\n",
       "<td>0/1</td>\n",
       "</tr>\n",
       "<tr>\n",
       "<td style='font-weight: bold'>1</td>\n",
       "<td>1/0</td>\n",
       "<td>0/0</td>\n",
       "<td>0/0</td>\n",
       "</tr>\n",
       "<tr>\n",
       "<td style='font-weight: bold'>2</td>\n",
       "<td>0/0</td>\n",
       "<td>0/0</td>\n",
       "<td>0/0</td>\n",
       "</tr>\n",
       "<tr>\n",
       "<td style='font-weight: bold'>3</td>\n",
       "<td>0/0</td>\n",
       "<td>0/0</td>\n",
       "<td>1/1</td>\n",
       "</tr>\n",
       "<tr>\n",
       "<td style='font-weight: bold'>4</td>\n",
       "<td>1/1</td>\n",
       "<td>0/1</td>\n",
       "<td>./.</td>\n",
       "</tr>\n",
       "</tbody>\n",
       "</table>\n"
      ],
      "text/plain": [
       "GenotypeArray((5, 3, 2), dtype=int8)\n",
       "[[[ 0  0]\n",
       "  [ 0  1]\n",
       "  [ 0  1]]\n",
       "\n",
       " [[ 1  0]\n",
       "  [ 0  0]\n",
       "  [ 0  0]]\n",
       "\n",
       " [[ 0  0]\n",
       "  [ 0  0]\n",
       "  [ 0  0]]\n",
       "\n",
       " [[ 0  0]\n",
       "  [ 0  0]\n",
       "  [ 1  1]]\n",
       "\n",
       " [[ 1  1]\n",
       "  [ 0  1]\n",
       "  [-1 -1]]]"
      ]
     },
     "execution_count": 11,
     "metadata": {},
     "output_type": "execute_result"
    }
   ],
   "source": [
    "allel.GenotypeArray(gmapped1.compute())"
   ]
  },
  {
   "cell_type": "code",
   "execution_count": 12,
   "metadata": {
    "collapsed": false
   },
   "outputs": [
    {
     "data": {
      "text/plain": [
       "True"
      ]
     },
     "execution_count": 12,
     "metadata": {},
     "output_type": "execute_result"
    }
   ],
   "source": [
    "np.array_equal(expect, gmapped1.compute())"
   ]
  },
  {
   "cell_type": "markdown",
   "metadata": {},
   "source": [
    "## Dask with 2D chunking"
   ]
  },
  {
   "cell_type": "code",
   "execution_count": 13,
   "metadata": {
    "collapsed": true
   },
   "outputs": [],
   "source": [
    "chunks_dim1 = 2"
   ]
  },
  {
   "cell_type": "code",
   "execution_count": 14,
   "metadata": {
    "collapsed": false
   },
   "outputs": [
    {
     "data": {
      "text/plain": [
       "dask.array<from-ar..., shape=(5, 3, 2), dtype=int8, chunksize=(2, 2, 2)>"
      ]
     },
     "execution_count": 14,
     "metadata": {},
     "output_type": "execute_result"
    }
   ],
   "source": [
    "gd2 = da.from_array(g, chunks=(chunks_dim0, chunks_dim1, None))\n",
    "gd2"
   ]
  },
  {
   "cell_type": "code",
   "execution_count": 15,
   "metadata": {
    "collapsed": false
   },
   "outputs": [
    {
     "data": {
      "text/plain": [
       "dask.array<atop-2e..., shape=(5, 3, 2), dtype=None, chunksize=(2, 2, 2)>"
      ]
     },
     "execution_count": 15,
     "metadata": {},
     "output_type": "execute_result"
    }
   ],
   "source": [
    "gmapped2 = da.map_blocks(f, gd2, md[:, None, :])\n",
    "gmapped2"
   ]
  },
  {
   "cell_type": "code",
   "execution_count": 16,
   "metadata": {
    "collapsed": false
   },
   "outputs": [
    {
     "data": {
      "text/plain": [
       "True"
      ]
     },
     "execution_count": 16,
     "metadata": {},
     "output_type": "execute_result"
    }
   ],
   "source": [
    "np.array_equal(expect, gmapped2.compute())"
   ]
  },
  {
   "cell_type": "markdown",
   "metadata": {},
   "source": [
    "It works!"
   ]
  }
 ],
 "metadata": {
  "kernelspec": {
   "display_name": "Python 3",
   "language": "python",
   "name": "python3"
  },
  "language_info": {
   "codemirror_mode": {
    "name": "ipython",
    "version": 3
   },
   "file_extension": ".py",
   "mimetype": "text/x-python",
   "name": "python",
   "nbconvert_exporter": "python",
   "pygments_lexer": "ipython3",
   "version": "3.4.3"
  }
 },
 "nbformat": 4,
 "nbformat_minor": 0
}
