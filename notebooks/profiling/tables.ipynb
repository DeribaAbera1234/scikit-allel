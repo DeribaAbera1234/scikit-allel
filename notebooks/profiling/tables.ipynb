{
 "metadata": {
  "name": "",
  "signature": "sha256:98a3f8e576ac66e457e0346c3d20594ee1d4361ffcb4521665b0273a04111faa"
 },
 "nbformat": 3,
 "nbformat_minor": 0,
 "worksheets": [
  {
   "cells": [
    {
     "cell_type": "heading",
     "level": 2,
     "metadata": {},
     "source": [
      "Setup"
     ]
    },
    {
     "cell_type": "code",
     "collapsed": false,
     "input": [
      "import sys\n",
      "import numpy as np\n",
      "import bcolz\n",
      "import numexpr\n",
      "import humanize\n",
      "import h5py\n",
      "import tempfile\n",
      "def binarysize(n):\n",
      "    return humanize.naturalsize(n, binary=True)\n",
      "\n",
      "%reload_ext memory_profiler\n",
      "sys.path.insert(0, '../..')\n",
      "%reload_ext autoreload\n",
      "%autoreload 1\n",
      "%aimport allel.model\n",
      "%aimport allel.bcolz"
     ],
     "language": "python",
     "metadata": {},
     "outputs": [],
     "prompt_number": 1
    },
    {
     "cell_type": "code",
     "collapsed": false,
     "input": [
      "pos = np.unique(np.random.randint(0, 100000000, size=10000000))\n",
      "pos.size, binarysize(pos.nbytes)"
     ],
     "language": "python",
     "metadata": {},
     "outputs": [
      {
       "metadata": {},
       "output_type": "pyout",
       "prompt_number": 2,
       "text": [
        "(9515340, '72.6 MiB')"
       ]
      }
     ],
     "prompt_number": 2
    },
    {
     "cell_type": "code",
     "collapsed": false,
     "input": [
      "x = np.random.randint(0, 100, size=pos.size)\n",
      "binarysize(x.nbytes)"
     ],
     "language": "python",
     "metadata": {},
     "outputs": [
      {
       "metadata": {},
       "output_type": "pyout",
       "prompt_number": 3,
       "text": [
        "'72.6 MiB'"
       ]
      }
     ],
     "prompt_number": 3
    },
    {
     "cell_type": "code",
     "collapsed": false,
     "input": [
      "y = np.random.random(size=pos.size)\n",
      "binarysize(y.nbytes)"
     ],
     "language": "python",
     "metadata": {},
     "outputs": [
      {
       "metadata": {},
       "output_type": "pyout",
       "prompt_number": 4,
       "text": [
        "'72.6 MiB'"
       ]
      }
     ],
     "prompt_number": 4
    },
    {
     "cell_type": "code",
     "collapsed": false,
     "input": [
      "z = np.random.choice([b'a', b'b', b'c'], size=pos.size)\n",
      "binarysize(z.nbytes)"
     ],
     "language": "python",
     "metadata": {},
     "outputs": [
      {
       "metadata": {},
       "output_type": "pyout",
       "prompt_number": 5,
       "text": [
        "'9.1 MiB'"
       ]
      }
     ],
     "prompt_number": 5
    },
    {
     "cell_type": "code",
     "collapsed": false,
     "input": [
      "query = \"(x > 50) & (y < .5) & (z == b'a')\""
     ],
     "language": "python",
     "metadata": {},
     "outputs": [],
     "prompt_number": 6
    },
    {
     "cell_type": "code",
     "collapsed": false,
     "input": [
      "a = np.rec.fromarrays([pos, x, y, z], names=['pos', 'x', 'y', 'z'])\n",
      "vt = allel.model.VariantTable(a, index='pos')\n",
      "vt"
     ],
     "language": "python",
     "metadata": {},
     "outputs": [
      {
       "html": [
        "<div style=\"max-height:1000px;max-width:1500px;overflow:auto;\">\n",
        "<table border=\"1\" class=\"dataframe\">\n",
        "  <thead>\n",
        "    <tr style=\"text-align: right;\">\n",
        "      <th></th>\n",
        "      <th>pos</th>\n",
        "      <th>x</th>\n",
        "      <th>y</th>\n",
        "      <th>z</th>\n",
        "    </tr>\n",
        "  </thead>\n",
        "  <tbody>\n",
        "    <tr>\n",
        "      <th>0</th>\n",
        "      <td>  9</td>\n",
        "      <td> 94</td>\n",
        "      <td> 0.048534</td>\n",
        "      <td> b'c'</td>\n",
        "    </tr>\n",
        "    <tr>\n",
        "      <th>1</th>\n",
        "      <td> 10</td>\n",
        "      <td> 87</td>\n",
        "      <td> 0.622883</td>\n",
        "      <td> b'b'</td>\n",
        "    </tr>\n",
        "    <tr>\n",
        "      <th>2</th>\n",
        "      <td> 25</td>\n",
        "      <td> 29</td>\n",
        "      <td> 0.625948</td>\n",
        "      <td> b'b'</td>\n",
        "    </tr>\n",
        "    <tr>\n",
        "      <th>3</th>\n",
        "      <td> 42</td>\n",
        "      <td> 34</td>\n",
        "      <td> 0.838398</td>\n",
        "      <td> b'a'</td>\n",
        "    </tr>\n",
        "    <tr>\n",
        "      <th>4</th>\n",
        "      <td> 67</td>\n",
        "      <td> 64</td>\n",
        "      <td> 0.094999</td>\n",
        "      <td> b'c'</td>\n",
        "    </tr>\n",
        "  </tbody>\n",
        "</table>\n",
        "</div>"
       ],
       "metadata": {},
       "output_type": "pyout",
       "prompt_number": 7,
       "text": [
        "VariantTable((9515340,), dtype=[('pos', '<i8'), ('x', '<i8'), ('y', '<f8'), ('z', 'S1')])\n",
        "[(9, 94, 0.048534332330125385, b'c') (10, 87, 0.622882512425196, b'b')\n",
        " (25, 29, 0.625947574251329, b'b') ...,\n",
        " (99999966, 62, 0.4685614407421974, b'a')\n",
        " (99999973, 46, 0.8942343318112237, b'c')\n",
        " (99999995, 97, 0.3411698223021882, b'a')]"
       ]
      }
     ],
     "prompt_number": 7
    },
    {
     "cell_type": "code",
     "collapsed": false,
     "input": [
      "vt.x"
     ],
     "language": "python",
     "metadata": {},
     "outputs": [
      {
       "metadata": {},
       "output_type": "pyout",
       "prompt_number": 8,
       "text": [
        "array([94, 87, 29, ..., 62, 46, 97])"
       ]
      }
     ],
     "prompt_number": 8
    },
    {
     "cell_type": "code",
     "collapsed": false,
     "input": [
      "vt[['pos', 'x']]"
     ],
     "language": "python",
     "metadata": {},
     "outputs": [
      {
       "html": [
        "<div style=\"max-height:1000px;max-width:1500px;overflow:auto;\">\n",
        "<table border=\"1\" class=\"dataframe\">\n",
        "  <thead>\n",
        "    <tr style=\"text-align: right;\">\n",
        "      <th></th>\n",
        "      <th>pos</th>\n",
        "      <th>x</th>\n",
        "    </tr>\n",
        "  </thead>\n",
        "  <tbody>\n",
        "    <tr>\n",
        "      <th>0</th>\n",
        "      <td>  9</td>\n",
        "      <td> 94</td>\n",
        "    </tr>\n",
        "    <tr>\n",
        "      <th>1</th>\n",
        "      <td> 10</td>\n",
        "      <td> 87</td>\n",
        "    </tr>\n",
        "    <tr>\n",
        "      <th>2</th>\n",
        "      <td> 25</td>\n",
        "      <td> 29</td>\n",
        "    </tr>\n",
        "    <tr>\n",
        "      <th>3</th>\n",
        "      <td> 42</td>\n",
        "      <td> 34</td>\n",
        "    </tr>\n",
        "    <tr>\n",
        "      <th>4</th>\n",
        "      <td> 67</td>\n",
        "      <td> 64</td>\n",
        "    </tr>\n",
        "  </tbody>\n",
        "</table>\n",
        "</div>"
       ],
       "metadata": {},
       "output_type": "pyout",
       "prompt_number": 9,
       "text": [
        "VariantTable((9515340,), dtype=[('pos', '<i8'), ('x', '<i8')])\n",
        "[(9, 94) (10, 87) (25, 29) ..., (99999966, 62) (99999973, 46)\n",
        " (99999995, 97)]"
       ]
      }
     ],
     "prompt_number": 9
    },
    {
     "cell_type": "code",
     "collapsed": false,
     "input": [
      "vt.display(10)"
     ],
     "language": "python",
     "metadata": {},
     "outputs": [
      {
       "html": [
        "<div style=\"max-height:1000px;max-width:1500px;overflow:auto;\">\n",
        "<table border=\"1\" class=\"dataframe\">\n",
        "  <thead>\n",
        "    <tr style=\"text-align: right;\">\n",
        "      <th></th>\n",
        "      <th>pos</th>\n",
        "      <th>x</th>\n",
        "      <th>y</th>\n",
        "      <th>z</th>\n",
        "    </tr>\n",
        "  </thead>\n",
        "  <tbody>\n",
        "    <tr>\n",
        "      <th>0</th>\n",
        "      <td>   9</td>\n",
        "      <td> 94</td>\n",
        "      <td> 0.048534</td>\n",
        "      <td> b'c'</td>\n",
        "    </tr>\n",
        "    <tr>\n",
        "      <th>1</th>\n",
        "      <td>  10</td>\n",
        "      <td> 87</td>\n",
        "      <td> 0.622883</td>\n",
        "      <td> b'b'</td>\n",
        "    </tr>\n",
        "    <tr>\n",
        "      <th>2</th>\n",
        "      <td>  25</td>\n",
        "      <td> 29</td>\n",
        "      <td> 0.625948</td>\n",
        "      <td> b'b'</td>\n",
        "    </tr>\n",
        "    <tr>\n",
        "      <th>3</th>\n",
        "      <td>  42</td>\n",
        "      <td> 34</td>\n",
        "      <td> 0.838398</td>\n",
        "      <td> b'a'</td>\n",
        "    </tr>\n",
        "    <tr>\n",
        "      <th>4</th>\n",
        "      <td>  67</td>\n",
        "      <td> 64</td>\n",
        "      <td> 0.094999</td>\n",
        "      <td> b'c'</td>\n",
        "    </tr>\n",
        "    <tr>\n",
        "      <th>5</th>\n",
        "      <td>  68</td>\n",
        "      <td>  1</td>\n",
        "      <td> 0.644828</td>\n",
        "      <td> b'a'</td>\n",
        "    </tr>\n",
        "    <tr>\n",
        "      <th>6</th>\n",
        "      <td>  80</td>\n",
        "      <td> 75</td>\n",
        "      <td> 0.606836</td>\n",
        "      <td> b'a'</td>\n",
        "    </tr>\n",
        "    <tr>\n",
        "      <th>7</th>\n",
        "      <td>  93</td>\n",
        "      <td> 50</td>\n",
        "      <td> 0.259451</td>\n",
        "      <td> b'c'</td>\n",
        "    </tr>\n",
        "    <tr>\n",
        "      <th>8</th>\n",
        "      <td> 103</td>\n",
        "      <td> 65</td>\n",
        "      <td> 0.276747</td>\n",
        "      <td> b'a'</td>\n",
        "    </tr>\n",
        "    <tr>\n",
        "      <th>9</th>\n",
        "      <td> 131</td>\n",
        "      <td> 33</td>\n",
        "      <td> 0.266642</td>\n",
        "      <td> b'b'</td>\n",
        "    </tr>\n",
        "  </tbody>\n",
        "</table>\n",
        "</div>"
       ],
       "metadata": {},
       "output_type": "display_data"
      }
     ],
     "prompt_number": 10
    },
    {
     "cell_type": "code",
     "collapsed": false,
     "input": [
      "vtc = allel.bcolz.VariantCTable(a, index='pos')\n",
      "vtc"
     ],
     "language": "python",
     "metadata": {},
     "outputs": [
      {
       "html": [
        "<div style=\"max-height:1000px;max-width:1500px;overflow:auto;\">\n",
        "<table border=\"1\" class=\"dataframe\">\n",
        "  <thead>\n",
        "    <tr style=\"text-align: right;\">\n",
        "      <th></th>\n",
        "      <th>pos</th>\n",
        "      <th>x</th>\n",
        "      <th>y</th>\n",
        "      <th>z</th>\n",
        "    </tr>\n",
        "  </thead>\n",
        "  <tbody>\n",
        "    <tr>\n",
        "      <th>0</th>\n",
        "      <td>  9</td>\n",
        "      <td> 94</td>\n",
        "      <td> 0.048534</td>\n",
        "      <td> b'c'</td>\n",
        "    </tr>\n",
        "    <tr>\n",
        "      <th>1</th>\n",
        "      <td> 10</td>\n",
        "      <td> 87</td>\n",
        "      <td> 0.622883</td>\n",
        "      <td> b'b'</td>\n",
        "    </tr>\n",
        "    <tr>\n",
        "      <th>2</th>\n",
        "      <td> 25</td>\n",
        "      <td> 29</td>\n",
        "      <td> 0.625948</td>\n",
        "      <td> b'b'</td>\n",
        "    </tr>\n",
        "    <tr>\n",
        "      <th>3</th>\n",
        "      <td> 42</td>\n",
        "      <td> 34</td>\n",
        "      <td> 0.838398</td>\n",
        "      <td> b'a'</td>\n",
        "    </tr>\n",
        "    <tr>\n",
        "      <th>4</th>\n",
        "      <td> 67</td>\n",
        "      <td> 64</td>\n",
        "      <td> 0.094999</td>\n",
        "      <td> b'c'</td>\n",
        "    </tr>\n",
        "  </tbody>\n",
        "</table>\n",
        "</div>"
       ],
       "metadata": {},
       "output_type": "pyout",
       "prompt_number": 11,
       "text": [
        "VariantCTable((9515340,), [('pos', '<i8'), ('x', '<i8'), ('y', '<f8'), ('z', 'S1')])\n",
        "  nbytes: 226.86 MB; cbytes: 91.50 MB; ratio: 2.48\n",
        "  cparams := cparams(clevel=5, shuffle=True, cname='blosclz')\n",
        "[(9, 94, 0.048534332330125385, b'c') (10, 87, 0.622882512425196, b'b')\n",
        " (25, 29, 0.625947574251329, b'b') ...,\n",
        " (99999966, 62, 0.4685614407421974, b'a')\n",
        " (99999973, 46, 0.8942343318112237, b'c')\n",
        " (99999995, 97, 0.3411698223021882, b'a')]"
       ]
      }
     ],
     "prompt_number": 11
    },
    {
     "cell_type": "code",
     "collapsed": false,
     "input": [
      "vtc.x"
     ],
     "language": "python",
     "metadata": {},
     "outputs": [
      {
       "metadata": {},
       "output_type": "pyout",
       "prompt_number": 12,
       "text": [
        "carray((9515340,), int64)\n",
        "  nbytes: 72.60 MB; cbytes: 10.08 MB; ratio: 7.20\n",
        "  cparams := cparams(clevel=5, shuffle=True, cname='blosclz')\n",
        "[94 87 29 ..., 62 46 97]"
       ]
      }
     ],
     "prompt_number": 12
    },
    {
     "cell_type": "code",
     "collapsed": false,
     "input": [
      "vtc.display(10)"
     ],
     "language": "python",
     "metadata": {},
     "outputs": [
      {
       "html": [
        "<div style=\"max-height:1000px;max-width:1500px;overflow:auto;\">\n",
        "<table border=\"1\" class=\"dataframe\">\n",
        "  <thead>\n",
        "    <tr style=\"text-align: right;\">\n",
        "      <th></th>\n",
        "      <th>pos</th>\n",
        "      <th>x</th>\n",
        "      <th>y</th>\n",
        "      <th>z</th>\n",
        "    </tr>\n",
        "  </thead>\n",
        "  <tbody>\n",
        "    <tr>\n",
        "      <th>0</th>\n",
        "      <td>   9</td>\n",
        "      <td> 94</td>\n",
        "      <td> 0.048534</td>\n",
        "      <td> b'c'</td>\n",
        "    </tr>\n",
        "    <tr>\n",
        "      <th>1</th>\n",
        "      <td>  10</td>\n",
        "      <td> 87</td>\n",
        "      <td> 0.622883</td>\n",
        "      <td> b'b'</td>\n",
        "    </tr>\n",
        "    <tr>\n",
        "      <th>2</th>\n",
        "      <td>  25</td>\n",
        "      <td> 29</td>\n",
        "      <td> 0.625948</td>\n",
        "      <td> b'b'</td>\n",
        "    </tr>\n",
        "    <tr>\n",
        "      <th>3</th>\n",
        "      <td>  42</td>\n",
        "      <td> 34</td>\n",
        "      <td> 0.838398</td>\n",
        "      <td> b'a'</td>\n",
        "    </tr>\n",
        "    <tr>\n",
        "      <th>4</th>\n",
        "      <td>  67</td>\n",
        "      <td> 64</td>\n",
        "      <td> 0.094999</td>\n",
        "      <td> b'c'</td>\n",
        "    </tr>\n",
        "    <tr>\n",
        "      <th>5</th>\n",
        "      <td>  68</td>\n",
        "      <td>  1</td>\n",
        "      <td> 0.644828</td>\n",
        "      <td> b'a'</td>\n",
        "    </tr>\n",
        "    <tr>\n",
        "      <th>6</th>\n",
        "      <td>  80</td>\n",
        "      <td> 75</td>\n",
        "      <td> 0.606836</td>\n",
        "      <td> b'a'</td>\n",
        "    </tr>\n",
        "    <tr>\n",
        "      <th>7</th>\n",
        "      <td>  93</td>\n",
        "      <td> 50</td>\n",
        "      <td> 0.259451</td>\n",
        "      <td> b'c'</td>\n",
        "    </tr>\n",
        "    <tr>\n",
        "      <th>8</th>\n",
        "      <td> 103</td>\n",
        "      <td> 65</td>\n",
        "      <td> 0.276747</td>\n",
        "      <td> b'a'</td>\n",
        "    </tr>\n",
        "    <tr>\n",
        "      <th>9</th>\n",
        "      <td> 131</td>\n",
        "      <td> 33</td>\n",
        "      <td> 0.266642</td>\n",
        "      <td> b'b'</td>\n",
        "    </tr>\n",
        "  </tbody>\n",
        "</table>\n",
        "</div>"
       ],
       "metadata": {},
       "output_type": "display_data"
      }
     ],
     "prompt_number": 13
    },
    {
     "cell_type": "code",
     "collapsed": false,
     "input": [
      "rootdir = tempfile.mkdtemp()\n",
      "vtcp = allel.bcolz.VariantCTable(a, index='pos', rootdir=rootdir, mode='w')\n",
      "vtcp"
     ],
     "language": "python",
     "metadata": {},
     "outputs": [
      {
       "html": [
        "<div style=\"max-height:1000px;max-width:1500px;overflow:auto;\">\n",
        "<table border=\"1\" class=\"dataframe\">\n",
        "  <thead>\n",
        "    <tr style=\"text-align: right;\">\n",
        "      <th></th>\n",
        "      <th>pos</th>\n",
        "      <th>x</th>\n",
        "      <th>y</th>\n",
        "      <th>z</th>\n",
        "    </tr>\n",
        "  </thead>\n",
        "  <tbody>\n",
        "    <tr>\n",
        "      <th>0</th>\n",
        "      <td>  9</td>\n",
        "      <td> 94</td>\n",
        "      <td> 0.048534</td>\n",
        "      <td> b'c'</td>\n",
        "    </tr>\n",
        "    <tr>\n",
        "      <th>1</th>\n",
        "      <td> 10</td>\n",
        "      <td> 87</td>\n",
        "      <td> 0.622883</td>\n",
        "      <td> b'b'</td>\n",
        "    </tr>\n",
        "    <tr>\n",
        "      <th>2</th>\n",
        "      <td> 25</td>\n",
        "      <td> 29</td>\n",
        "      <td> 0.625948</td>\n",
        "      <td> b'b'</td>\n",
        "    </tr>\n",
        "    <tr>\n",
        "      <th>3</th>\n",
        "      <td> 42</td>\n",
        "      <td> 34</td>\n",
        "      <td> 0.838398</td>\n",
        "      <td> b'a'</td>\n",
        "    </tr>\n",
        "    <tr>\n",
        "      <th>4</th>\n",
        "      <td> 67</td>\n",
        "      <td> 64</td>\n",
        "      <td> 0.094999</td>\n",
        "      <td> b'c'</td>\n",
        "    </tr>\n",
        "  </tbody>\n",
        "</table>\n",
        "</div>"
       ],
       "metadata": {},
       "output_type": "pyout",
       "prompt_number": 14,
       "text": [
        "VariantCTable((9515340,), [('pos', '<i8'), ('x', '<i8'), ('y', '<f8'), ('z', 'S1')])\n",
        "  nbytes: 226.86 MB; cbytes: 91.50 MB; ratio: 2.48\n",
        "  cparams := cparams(clevel=5, shuffle=True, cname='blosclz')\n",
        "  rootdir := '/tmp/tmp4_if69pt'\n",
        "[(9, 94, 0.048534332330125385, b'c') (10, 87, 0.622882512425196, b'b')\n",
        " (25, 29, 0.625947574251329, b'b') ...,\n",
        " (99999966, 62, 0.4685614407421974, b'a')\n",
        " (99999973, 46, 0.8942343318112237, b'c')\n",
        " (99999995, 97, 0.3411698223021882, b'a')]"
       ]
      }
     ],
     "prompt_number": 14
    },
    {
     "cell_type": "code",
     "collapsed": false,
     "input": [
      "vtcp2 = allel.bcolz.VariantCTable.open(rootdir)\n",
      "vtcp2"
     ],
     "language": "python",
     "metadata": {},
     "outputs": [
      {
       "html": [
        "<div style=\"max-height:1000px;max-width:1500px;overflow:auto;\">\n",
        "<table border=\"1\" class=\"dataframe\">\n",
        "  <thead>\n",
        "    <tr style=\"text-align: right;\">\n",
        "      <th></th>\n",
        "      <th>pos</th>\n",
        "      <th>x</th>\n",
        "      <th>y</th>\n",
        "      <th>z</th>\n",
        "    </tr>\n",
        "  </thead>\n",
        "  <tbody>\n",
        "    <tr>\n",
        "      <th>0</th>\n",
        "      <td>  9</td>\n",
        "      <td> 94</td>\n",
        "      <td> 0.048534</td>\n",
        "      <td> b'c'</td>\n",
        "    </tr>\n",
        "    <tr>\n",
        "      <th>1</th>\n",
        "      <td> 10</td>\n",
        "      <td> 87</td>\n",
        "      <td> 0.622883</td>\n",
        "      <td> b'b'</td>\n",
        "    </tr>\n",
        "    <tr>\n",
        "      <th>2</th>\n",
        "      <td> 25</td>\n",
        "      <td> 29</td>\n",
        "      <td> 0.625948</td>\n",
        "      <td> b'b'</td>\n",
        "    </tr>\n",
        "    <tr>\n",
        "      <th>3</th>\n",
        "      <td> 42</td>\n",
        "      <td> 34</td>\n",
        "      <td> 0.838398</td>\n",
        "      <td> b'a'</td>\n",
        "    </tr>\n",
        "    <tr>\n",
        "      <th>4</th>\n",
        "      <td> 67</td>\n",
        "      <td> 64</td>\n",
        "      <td> 0.094999</td>\n",
        "      <td> b'c'</td>\n",
        "    </tr>\n",
        "  </tbody>\n",
        "</table>\n",
        "</div>"
       ],
       "metadata": {},
       "output_type": "pyout",
       "prompt_number": 15,
       "text": [
        "VariantCTable((9515340,), [('pos', '<i8'), ('x', '<i8'), ('y', '<f8'), ('z', 'S1')])\n",
        "  nbytes: 226.86 MB; cbytes: 91.50 MB; ratio: 2.48\n",
        "  cparams := cparams(clevel=5, shuffle=True, cname='blosclz')\n",
        "  rootdir := '/tmp/tmp4_if69pt'\n",
        "[(9, 94, 0.048534332330125385, b'c') (10, 87, 0.622882512425196, b'b')\n",
        " (25, 29, 0.625947574251329, b'b') ...,\n",
        " (99999966, 62, 0.4685614407421974, b'a')\n",
        " (99999973, 46, 0.8942343318112237, b'c')\n",
        " (99999995, 97, 0.3411698223021882, b'a')]"
       ]
      }
     ],
     "prompt_number": 15
    },
    {
     "cell_type": "code",
     "collapsed": false,
     "input": [
      "vt.query(query).display(10)"
     ],
     "language": "python",
     "metadata": {},
     "outputs": [
      {
       "html": [
        "<div style=\"max-height:1000px;max-width:1500px;overflow:auto;\">\n",
        "<table border=\"1\" class=\"dataframe\">\n",
        "  <thead>\n",
        "    <tr style=\"text-align: right;\">\n",
        "      <th></th>\n",
        "      <th>pos</th>\n",
        "      <th>x</th>\n",
        "      <th>y</th>\n",
        "      <th>z</th>\n",
        "    </tr>\n",
        "  </thead>\n",
        "  <tbody>\n",
        "    <tr>\n",
        "      <th>0</th>\n",
        "      <td> 103</td>\n",
        "      <td> 65</td>\n",
        "      <td> 0.276747</td>\n",
        "      <td> b'a'</td>\n",
        "    </tr>\n",
        "    <tr>\n",
        "      <th>1</th>\n",
        "      <td> 206</td>\n",
        "      <td> 86</td>\n",
        "      <td> 0.077573</td>\n",
        "      <td> b'a'</td>\n",
        "    </tr>\n",
        "    <tr>\n",
        "      <th>2</th>\n",
        "      <td> 282</td>\n",
        "      <td> 90</td>\n",
        "      <td> 0.278612</td>\n",
        "      <td> b'a'</td>\n",
        "    </tr>\n",
        "    <tr>\n",
        "      <th>3</th>\n",
        "      <td> 284</td>\n",
        "      <td> 52</td>\n",
        "      <td> 0.048890</td>\n",
        "      <td> b'a'</td>\n",
        "    </tr>\n",
        "    <tr>\n",
        "      <th>4</th>\n",
        "      <td> 341</td>\n",
        "      <td> 88</td>\n",
        "      <td> 0.467091</td>\n",
        "      <td> b'a'</td>\n",
        "    </tr>\n",
        "    <tr>\n",
        "      <th>5</th>\n",
        "      <td> 437</td>\n",
        "      <td> 64</td>\n",
        "      <td> 0.345448</td>\n",
        "      <td> b'a'</td>\n",
        "    </tr>\n",
        "    <tr>\n",
        "      <th>6</th>\n",
        "      <td> 443</td>\n",
        "      <td> 83</td>\n",
        "      <td> 0.025365</td>\n",
        "      <td> b'a'</td>\n",
        "    </tr>\n",
        "    <tr>\n",
        "      <th>7</th>\n",
        "      <td> 502</td>\n",
        "      <td> 68</td>\n",
        "      <td> 0.343255</td>\n",
        "      <td> b'a'</td>\n",
        "    </tr>\n",
        "    <tr>\n",
        "      <th>8</th>\n",
        "      <td> 593</td>\n",
        "      <td> 53</td>\n",
        "      <td> 0.045896</td>\n",
        "      <td> b'a'</td>\n",
        "    </tr>\n",
        "    <tr>\n",
        "      <th>9</th>\n",
        "      <td> 681</td>\n",
        "      <td> 77</td>\n",
        "      <td> 0.027589</td>\n",
        "      <td> b'a'</td>\n",
        "    </tr>\n",
        "  </tbody>\n",
        "</table>\n",
        "</div>"
       ],
       "metadata": {},
       "output_type": "display_data"
      }
     ],
     "prompt_number": 16
    },
    {
     "cell_type": "code",
     "collapsed": false,
     "input": [
      "vtc.query(query).display(10)"
     ],
     "language": "python",
     "metadata": {},
     "outputs": [
      {
       "html": [
        "<div style=\"max-height:1000px;max-width:1500px;overflow:auto;\">\n",
        "<table border=\"1\" class=\"dataframe\">\n",
        "  <thead>\n",
        "    <tr style=\"text-align: right;\">\n",
        "      <th></th>\n",
        "      <th>pos</th>\n",
        "      <th>x</th>\n",
        "      <th>y</th>\n",
        "      <th>z</th>\n",
        "    </tr>\n",
        "  </thead>\n",
        "  <tbody>\n",
        "    <tr>\n",
        "      <th>0</th>\n",
        "      <td> 103</td>\n",
        "      <td> 65</td>\n",
        "      <td> 0.276747</td>\n",
        "      <td> b'a'</td>\n",
        "    </tr>\n",
        "    <tr>\n",
        "      <th>1</th>\n",
        "      <td> 206</td>\n",
        "      <td> 86</td>\n",
        "      <td> 0.077573</td>\n",
        "      <td> b'a'</td>\n",
        "    </tr>\n",
        "    <tr>\n",
        "      <th>2</th>\n",
        "      <td> 282</td>\n",
        "      <td> 90</td>\n",
        "      <td> 0.278612</td>\n",
        "      <td> b'a'</td>\n",
        "    </tr>\n",
        "    <tr>\n",
        "      <th>3</th>\n",
        "      <td> 284</td>\n",
        "      <td> 52</td>\n",
        "      <td> 0.048890</td>\n",
        "      <td> b'a'</td>\n",
        "    </tr>\n",
        "    <tr>\n",
        "      <th>4</th>\n",
        "      <td> 341</td>\n",
        "      <td> 88</td>\n",
        "      <td> 0.467091</td>\n",
        "      <td> b'a'</td>\n",
        "    </tr>\n",
        "    <tr>\n",
        "      <th>5</th>\n",
        "      <td> 437</td>\n",
        "      <td> 64</td>\n",
        "      <td> 0.345448</td>\n",
        "      <td> b'a'</td>\n",
        "    </tr>\n",
        "    <tr>\n",
        "      <th>6</th>\n",
        "      <td> 443</td>\n",
        "      <td> 83</td>\n",
        "      <td> 0.025365</td>\n",
        "      <td> b'a'</td>\n",
        "    </tr>\n",
        "    <tr>\n",
        "      <th>7</th>\n",
        "      <td> 502</td>\n",
        "      <td> 68</td>\n",
        "      <td> 0.343255</td>\n",
        "      <td> b'a'</td>\n",
        "    </tr>\n",
        "    <tr>\n",
        "      <th>8</th>\n",
        "      <td> 593</td>\n",
        "      <td> 53</td>\n",
        "      <td> 0.045896</td>\n",
        "      <td> b'a'</td>\n",
        "    </tr>\n",
        "    <tr>\n",
        "      <th>9</th>\n",
        "      <td> 681</td>\n",
        "      <td> 77</td>\n",
        "      <td> 0.027589</td>\n",
        "      <td> b'a'</td>\n",
        "    </tr>\n",
        "  </tbody>\n",
        "</table>\n",
        "</div>"
       ],
       "metadata": {},
       "output_type": "display_data"
      }
     ],
     "prompt_number": 17
    },
    {
     "cell_type": "heading",
     "level": 2,
     "metadata": {},
     "source": [
      "Profiling"
     ]
    },
    {
     "cell_type": "code",
     "collapsed": false,
     "input": [
      "# baselines with plain numpy arrays\n",
      "%timeit eval(query)\n",
      "%memit eval(query)\n",
      "%timeit numexpr.evaluate(query)\n",
      "%memit numexpr.evaluate(query)"
     ],
     "language": "python",
     "metadata": {},
     "outputs": [
      {
       "output_type": "stream",
       "stream": "stdout",
       "text": [
        "10 loops, best of 3: 154 ms per loop\n"
       ]
      },
      {
       "output_type": "stream",
       "stream": "stdout",
       "text": [
        "peak memory: 1170.03 MiB, increment: 0.11 MiB\n",
        "10 loops, best of 3: 48.5 ms per loop"
       ]
      },
      {
       "output_type": "stream",
       "stream": "stdout",
       "text": [
        "\n"
       ]
      },
      {
       "output_type": "stream",
       "stream": "stdout",
       "text": [
        "peak memory: 1170.08 MiB, increment: 0.05 MiB\n"
       ]
      }
     ],
     "prompt_number": 18
    },
    {
     "cell_type": "code",
     "collapsed": false,
     "input": [
      "vm = 'python'\n",
      "%timeit vt.eval(query, vm=vm)\n",
      "%memit vt.eval(query, vm=vm)\n",
      "%timeit vtc.eval(query, vm=vm)\n",
      "%memit vtc.eval(query, vm=vm)\n",
      "%timeit vtcp.eval(query, vm=vm)\n",
      "%memit vtcp.eval(query, vm=vm)"
     ],
     "language": "python",
     "metadata": {},
     "outputs": [
      {
       "output_type": "stream",
       "stream": "stdout",
       "text": [
        "1 loops, best of 3: 252 ms per loop\n"
       ]
      },
      {
       "output_type": "stream",
       "stream": "stdout",
       "text": [
        "peak memory: 1170.20 MiB, increment: 0.00 MiB\n",
        "1 loops, best of 3: 304 ms per loop"
       ]
      },
      {
       "output_type": "stream",
       "stream": "stdout",
       "text": [
        "\n"
       ]
      },
      {
       "output_type": "stream",
       "stream": "stdout",
       "text": [
        "peak memory: 1170.20 MiB, increment: 0.00 MiB\n",
        "1 loops, best of 3: 343 ms per loop"
       ]
      },
      {
       "output_type": "stream",
       "stream": "stdout",
       "text": [
        "\n"
       ]
      },
      {
       "output_type": "stream",
       "stream": "stdout",
       "text": [
        "peak memory: 1170.48 MiB, increment: 0.28 MiB\n"
       ]
      }
     ],
     "prompt_number": 19
    },
    {
     "cell_type": "code",
     "collapsed": false,
     "input": [
      "vm = 'numexpr'\n",
      "%timeit vt.eval(query, vm=vm)\n",
      "%memit vt.eval(query, vm=vm)\n",
      "%timeit vtc.eval(query, vm=vm)\n",
      "%memit vtc.eval(query, vm=vm)\n",
      "%timeit vtcp.eval(query, vm=vm)\n",
      "%memit vtcp.eval(query, vm=vm)"
     ],
     "language": "python",
     "metadata": {},
     "outputs": [
      {
       "output_type": "stream",
       "stream": "stdout",
       "text": [
        "10 loops, best of 3: 61 ms per loop\n"
       ]
      },
      {
       "output_type": "stream",
       "stream": "stdout",
       "text": [
        "peak memory: 1170.48 MiB, increment: 0.00 MiB\n",
        "1 loops, best of 3: 168 ms per loop"
       ]
      },
      {
       "output_type": "stream",
       "stream": "stdout",
       "text": [
        "\n"
       ]
      },
      {
       "output_type": "stream",
       "stream": "stdout",
       "text": [
        "peak memory: 1170.63 MiB, increment: 0.00 MiB\n",
        "1 loops, best of 3: 227 ms per loop"
       ]
      },
      {
       "output_type": "stream",
       "stream": "stdout",
       "text": [
        "\n"
       ]
      },
      {
       "output_type": "stream",
       "stream": "stdout",
       "text": [
        "peak memory: 1170.63 MiB, increment: 0.00 MiB\n"
       ]
      }
     ],
     "prompt_number": 20
    },
    {
     "cell_type": "heading",
     "level": 2,
     "metadata": {},
     "source": [
      "HDF5"
     ]
    },
    {
     "cell_type": "code",
     "collapsed": false,
     "input": [
      "fn1 = tempfile.mktemp()\n",
      "fn1"
     ],
     "language": "python",
     "metadata": {},
     "outputs": [
      {
       "metadata": {},
       "output_type": "pyout",
       "prompt_number": 21,
       "text": [
        "'/tmp/tmpsoyqr5mx'"
       ]
      }
     ],
     "prompt_number": 21
    },
    {
     "cell_type": "code",
     "collapsed": false,
     "input": [
      "with h5py.File(fn1, mode='w') as h5f:\n",
      "    h5g = h5f.create_group('table')\n",
      "    h5g.create_dataset('pos', data=pos, chunks=(1000,))\n",
      "    h5g.create_dataset('x', data=x, chunks=(1000,))\n",
      "    h5g.create_dataset('y', data=y, chunks=(1000,))\n",
      "    h5g.create_dataset('z', data=z, chunks=(1000,))"
     ],
     "language": "python",
     "metadata": {},
     "outputs": [],
     "prompt_number": 22
    },
    {
     "cell_type": "code",
     "collapsed": false,
     "input": [
      "vtc2 = allel.bcolz.VariantCTable.from_hdf5_group(fn1, 'table', names=['pos', 'x', 'y', 'z'], cparams=bcolz.cparams(cname='lz4', clevel=4))\n",
      "vtc2"
     ],
     "language": "python",
     "metadata": {},
     "outputs": [
      {
       "html": [
        "<div style=\"max-height:1000px;max-width:1500px;overflow:auto;\">\n",
        "<table border=\"1\" class=\"dataframe\">\n",
        "  <thead>\n",
        "    <tr style=\"text-align: right;\">\n",
        "      <th></th>\n",
        "      <th>pos</th>\n",
        "      <th>x</th>\n",
        "      <th>y</th>\n",
        "      <th>z</th>\n",
        "    </tr>\n",
        "  </thead>\n",
        "  <tbody>\n",
        "    <tr>\n",
        "      <th>0</th>\n",
        "      <td>  9</td>\n",
        "      <td> 94</td>\n",
        "      <td> 0.048534</td>\n",
        "      <td> b'c'</td>\n",
        "    </tr>\n",
        "    <tr>\n",
        "      <th>1</th>\n",
        "      <td> 10</td>\n",
        "      <td> 87</td>\n",
        "      <td> 0.622883</td>\n",
        "      <td> b'b'</td>\n",
        "    </tr>\n",
        "    <tr>\n",
        "      <th>2</th>\n",
        "      <td> 25</td>\n",
        "      <td> 29</td>\n",
        "      <td> 0.625948</td>\n",
        "      <td> b'b'</td>\n",
        "    </tr>\n",
        "    <tr>\n",
        "      <th>3</th>\n",
        "      <td> 42</td>\n",
        "      <td> 34</td>\n",
        "      <td> 0.838398</td>\n",
        "      <td> b'a'</td>\n",
        "    </tr>\n",
        "    <tr>\n",
        "      <th>4</th>\n",
        "      <td> 67</td>\n",
        "      <td> 64</td>\n",
        "      <td> 0.094999</td>\n",
        "      <td> b'c'</td>\n",
        "    </tr>\n",
        "  </tbody>\n",
        "</table>\n",
        "</div>"
       ],
       "metadata": {},
       "output_type": "pyout",
       "prompt_number": 23,
       "text": [
        "VariantCTable((9515340,), [('pos', '<i8'), ('x', '<i8'), ('y', '<f8'), ('z', 'S1')])\n",
        "  nbytes: 226.86 MB; cbytes: 92.26 MB; ratio: 2.46\n",
        "  cparams := cparams(clevel=4, shuffle=True, cname='lz4')\n",
        "[(9, 94, 0.048534332330125385, b'c') (10, 87, 0.622882512425196, b'b')\n",
        " (25, 29, 0.625947574251329, b'b') ...,\n",
        " (99999966, 62, 0.4685614407421974, b'a')\n",
        " (99999973, 46, 0.8942343318112237, b'c')\n",
        " (99999995, 97, 0.3411698223021882, b'a')]"
       ]
      }
     ],
     "prompt_number": 23
    },
    {
     "cell_type": "code",
     "collapsed": false,
     "input": [
      "vtc2.pos"
     ],
     "language": "python",
     "metadata": {},
     "outputs": [
      {
       "metadata": {},
       "output_type": "pyout",
       "prompt_number": 24,
       "text": [
        "carray((9515340,), int64)\n",
        "  nbytes: 72.60 MB; cbytes: 11.84 MB; ratio: 6.13\n",
        "  cparams := cparams(clevel=4, shuffle=True, cname='lz4')\n",
        "[       9       10       25 ..., 99999966 99999973 99999995]"
       ]
      }
     ],
     "prompt_number": 24
    },
    {
     "cell_type": "code",
     "collapsed": false,
     "input": [
      "%timeit vtc2.eval(query)"
     ],
     "language": "python",
     "metadata": {},
     "outputs": [
      {
       "output_type": "stream",
       "stream": "stdout",
       "text": [
        "1 loops, best of 3: 192 ms per loop\n"
       ]
      }
     ],
     "prompt_number": 25
    },
    {
     "cell_type": "code",
     "collapsed": false,
     "input": [
      "%memit vtc2.eval(query)"
     ],
     "language": "python",
     "metadata": {},
     "outputs": [
      {
       "output_type": "stream",
       "stream": "stdout",
       "text": [
        "peak memory: 1306.82 MiB, increment: 0.76 MiB\n"
       ]
      }
     ],
     "prompt_number": 26
    },
    {
     "cell_type": "code",
     "collapsed": false,
     "input": [
      "h5g = h5py.File(fn1, mode='r')['table']\n",
      "%timeit numexpr.evaluate(query, local_dict=h5g)\n",
      "%memit numexpr.evaluate(query, local_dict=h5g)"
     ],
     "language": "python",
     "metadata": {},
     "outputs": [
      {
       "output_type": "stream",
       "stream": "stdout",
       "text": [
        "1 loops, best of 3: 400 ms per loop\n"
       ]
      },
      {
       "output_type": "stream",
       "stream": "stdout",
       "text": [
        "peak memory: 1463.86 MiB, increment: 145.38 MiB\n"
       ]
      }
     ],
     "prompt_number": 27
    },
    {
     "cell_type": "code",
     "collapsed": false,
     "input": [],
     "language": "python",
     "metadata": {},
     "outputs": [],
     "prompt_number": 27
    }
   ],
   "metadata": {}
  }
 ]
}