{
 "cells": [
  {
   "cell_type": "code",
   "execution_count": 1,
   "metadata": {
    "collapsed": false
   },
   "outputs": [],
   "source": [
    "import numpy as np\n",
    "import dask.async\n",
    "import dask.array as da\n",
    "import os\n",
    "os.chdir('../..')\n",
    "import allel"
   ]
  },
  {
   "cell_type": "code",
   "execution_count": 2,
   "metadata": {
    "collapsed": false
   },
   "outputs": [
    {
     "data": {
      "text/html": [
       "<table class='petl'>\n",
       "<caption>GenotypeArray((5, 3, 2), dtype=int8)</caption>\n",
       "<thead>\n",
       "<tr>\n",
       "<th></th>\n",
       "<th>0</th>\n",
       "<th>1</th>\n",
       "<th>2</th>\n",
       "</tr>\n",
       "</thead>\n",
       "<tbody>\n",
       "<tr>\n",
       "<td style='font-weight: bold'>0</td>\n",
       "<td>0/0</td>\n",
       "<td>0/1</td>\n",
       "<td>0/1</td>\n",
       "</tr>\n",
       "<tr>\n",
       "<td style='font-weight: bold'>1</td>\n",
       "<td>0/1</td>\n",
       "<td>1/1</td>\n",
       "<td>1/1</td>\n",
       "</tr>\n",
       "<tr>\n",
       "<td style='font-weight: bold'>2</td>\n",
       "<td>1/1</td>\n",
       "<td>1/1</td>\n",
       "<td>0/0</td>\n",
       "</tr>\n",
       "<tr>\n",
       "<td style='font-weight: bold'>3</td>\n",
       "<td>1/1</td>\n",
       "<td>1/1</td>\n",
       "<td>0/0</td>\n",
       "</tr>\n",
       "<tr>\n",
       "<td style='font-weight: bold'>4</td>\n",
       "<td>1/1</td>\n",
       "<td>0/1</td>\n",
       "<td>./.</td>\n",
       "</tr>\n",
       "</tbody>\n",
       "</table>\n"
      ],
      "text/plain": [
       "GenotypeArray((5, 3, 2), dtype=int8)\n",
       "[[[ 0  0]\n",
       "  [ 0  1]\n",
       "  [ 0  1]]\n",
       "\n",
       " [[ 0  1]\n",
       "  [ 1  1]\n",
       "  [ 1  1]]\n",
       "\n",
       " [[ 1  1]\n",
       "  [ 1  1]\n",
       "  [ 0  0]]\n",
       "\n",
       " [[ 1  1]\n",
       "  [ 1  1]\n",
       "  [ 0  0]]\n",
       "\n",
       " [[ 1  1]\n",
       "  [ 0  1]\n",
       "  [-1 -1]]]"
      ]
     },
     "execution_count": 2,
     "metadata": {},
     "output_type": "execute_result"
    }
   ],
   "source": [
    "g = allel.GenotypeArray([[[0, 0], [0, 1], [0, 1]],\n",
    "                         [[0, 1], [1, 1], [1, 1]],\n",
    "                         [[1, 1], [1, 1], [0, 0]],\n",
    "                         [[1, 1], [1, 1], [0, 0]],\n",
    "                         [[1, 1], [0, 1], [-1, -1]]], dtype='i1')\n",
    "g"
   ]
  },
  {
   "cell_type": "code",
   "execution_count": 3,
   "metadata": {
    "collapsed": true
   },
   "outputs": [],
   "source": [
    "# the mapping array is effectively a look-up table, telling how to transform\n",
    "# integer values in each row\n",
    "mapping = np.array([[0, 1],  # no transformation\n",
    "                    [1, 0],  # 0->1, 1->0\n",
    "                    [0, 0],  # 0->0, 1->0\n",
    "                    [1, 0],  # 0->1, 1->0\n",
    "                    [0, 1]], # no transformation\n",
    "                   dtype='i1')"
   ]
  },
  {
   "cell_type": "code",
   "execution_count": 4,
   "metadata": {
    "collapsed": false
   },
   "outputs": [],
   "source": [
    "# the only shape constraint is that size of first dimension must match\n",
    "assert g.shape[0] == mapping.shape[0]"
   ]
  },
  {
   "cell_type": "code",
   "execution_count": 5,
   "metadata": {
    "collapsed": false
   },
   "outputs": [
    {
     "data": {
      "text/html": [
       "<table class='petl'>\n",
       "<caption>GenotypeArray((5, 3, 2), dtype=int8)</caption>\n",
       "<thead>\n",
       "<tr>\n",
       "<th></th>\n",
       "<th>0</th>\n",
       "<th>1</th>\n",
       "<th>2</th>\n",
       "</tr>\n",
       "</thead>\n",
       "<tbody>\n",
       "<tr>\n",
       "<td style='font-weight: bold'>0</td>\n",
       "<td>0/0</td>\n",
       "<td>0/1</td>\n",
       "<td>0/1</td>\n",
       "</tr>\n",
       "<tr>\n",
       "<td style='font-weight: bold'>1</td>\n",
       "<td>1/0</td>\n",
       "<td>0/0</td>\n",
       "<td>0/0</td>\n",
       "</tr>\n",
       "<tr>\n",
       "<td style='font-weight: bold'>2</td>\n",
       "<td>0/0</td>\n",
       "<td>0/0</td>\n",
       "<td>0/0</td>\n",
       "</tr>\n",
       "<tr>\n",
       "<td style='font-weight: bold'>3</td>\n",
       "<td>0/0</td>\n",
       "<td>0/0</td>\n",
       "<td>1/1</td>\n",
       "</tr>\n",
       "<tr>\n",
       "<td style='font-weight: bold'>4</td>\n",
       "<td>1/1</td>\n",
       "<td>0/1</td>\n",
       "<td>./.</td>\n",
       "</tr>\n",
       "</tbody>\n",
       "</table>\n"
      ],
      "text/plain": [
       "GenotypeArray((5, 3, 2), dtype=int8)\n",
       "[[[ 0  0]\n",
       "  [ 0  1]\n",
       "  [ 0  1]]\n",
       "\n",
       " [[ 1  0]\n",
       "  [ 0  0]\n",
       "  [ 0  0]]\n",
       "\n",
       " [[ 0  0]\n",
       "  [ 0  0]\n",
       "  [ 0  0]]\n",
       "\n",
       " [[ 0  0]\n",
       "  [ 0  0]\n",
       "  [ 1  1]]\n",
       "\n",
       " [[ 1  1]\n",
       "  [ 0  1]\n",
       "  [-1 -1]]]"
      ]
     },
     "execution_count": 5,
     "metadata": {},
     "output_type": "execute_result"
    }
   ],
   "source": [
    "# this is the pure numpy implementation\n",
    "expect = g.map_alleles(mapping)\n",
    "expect"
   ]
  },
  {
   "cell_type": "markdown",
   "metadata": {},
   "source": [
    "## Dask with 1D chunking"
   ]
  },
  {
   "cell_type": "code",
   "execution_count": 6,
   "metadata": {
    "collapsed": true
   },
   "outputs": [],
   "source": [
    "chunks_dim0 = 2"
   ]
  },
  {
   "cell_type": "code",
   "execution_count": 7,
   "metadata": {
    "collapsed": false
   },
   "outputs": [
    {
     "data": {
      "text/plain": [
       "dask.array<from-ar..., shape=(5, 3, 2), dtype=int8, chunksize=(2, 3, 2)>"
      ]
     },
     "execution_count": 7,
     "metadata": {},
     "output_type": "execute_result"
    }
   ],
   "source": [
    "gd1 = da.from_array(g, chunks=(chunks_dim0, None, None))  # N.B., chunk across entire rows\n",
    "gd1"
   ]
  },
  {
   "cell_type": "code",
   "execution_count": 8,
   "metadata": {
    "collapsed": false
   },
   "outputs": [
    {
     "data": {
      "text/plain": [
       "dask.array<from-ar..., shape=(5, 2), dtype=int8, chunksize=(2, 2)>"
      ]
     },
     "execution_count": 8,
     "metadata": {},
     "output_type": "execute_result"
    }
   ],
   "source": [
    "md = da.from_array(mapping, chunks=(chunks_dim0, None))  # N.B., first dimension chunk size matches gd1\n",
    "md"
   ]
  },
  {
   "cell_type": "code",
   "execution_count": 9,
   "metadata": {
    "collapsed": true
   },
   "outputs": [],
   "source": [
    "def f(block, bmapping):\n",
    "    return allel.GenotypeArray(block).map_alleles(bmapping[:, 0, :])"
   ]
  },
  {
   "cell_type": "code",
   "execution_count": 10,
   "metadata": {
    "collapsed": false
   },
   "outputs": [
    {
     "data": {
      "text/plain": [
       "dask.array<atop-3a..., shape=(5, 3, 2), dtype=None, chunksize=(2, 3, 2)>"
      ]
     },
     "execution_count": 10,
     "metadata": {},
     "output_type": "execute_result"
    }
   ],
   "source": [
    "gmapped1 = da.map_blocks(f, gd1, md[:, None, :])\n",
    "gmapped1"
   ]
  },
  {
   "cell_type": "code",
   "execution_count": 11,
   "metadata": {
    "collapsed": false
   },
   "outputs": [
    {
     "data": {
      "text/html": [
       "<table class='petl'>\n",
       "<caption>GenotypeArray((5, 3, 2), dtype=int8)</caption>\n",
       "<thead>\n",
       "<tr>\n",
       "<th></th>\n",
       "<th>0</th>\n",
       "<th>1</th>\n",
       "<th>2</th>\n",
       "</tr>\n",
       "</thead>\n",
       "<tbody>\n",
       "<tr>\n",
       "<td style='font-weight: bold'>0</td>\n",
       "<td>0/0</td>\n",
       "<td>0/1</td>\n",
       "<td>0/1</td>\n",
       "</tr>\n",
       "<tr>\n",
       "<td style='font-weight: bold'>1</td>\n",
       "<td>1/0</td>\n",
       "<td>0/0</td>\n",
       "<td>0/0</td>\n",
       "</tr>\n",
       "<tr>\n",
       "<td style='font-weight: bold'>2</td>\n",
       "<td>0/0</td>\n",
       "<td>0/0</td>\n",
       "<td>0/0</td>\n",
       "</tr>\n",
       "<tr>\n",
       "<td style='font-weight: bold'>3</td>\n",
       "<td>0/0</td>\n",
       "<td>0/0</td>\n",
       "<td>1/1</td>\n",
       "</tr>\n",
       "<tr>\n",
       "<td style='font-weight: bold'>4</td>\n",
       "<td>1/1</td>\n",
       "<td>0/1</td>\n",
       "<td>./.</td>\n",
       "</tr>\n",
       "</tbody>\n",
       "</table>\n"
      ],
      "text/plain": [
       "GenotypeArray((5, 3, 2), dtype=int8)\n",
       "[[[ 0  0]\n",
       "  [ 0  1]\n",
       "  [ 0  1]]\n",
       "\n",
       " [[ 1  0]\n",
       "  [ 0  0]\n",
       "  [ 0  0]]\n",
       "\n",
       " [[ 0  0]\n",
       "  [ 0  0]\n",
       "  [ 0  0]]\n",
       "\n",
       " [[ 0  0]\n",
       "  [ 0  0]\n",
       "  [ 1  1]]\n",
       "\n",
       " [[ 1  1]\n",
       "  [ 0  1]\n",
       "  [-1 -1]]]"
      ]
     },
     "execution_count": 11,
     "metadata": {},
     "output_type": "execute_result"
    }
   ],
   "source": [
    "allel.GenotypeArray(gmapped1.compute())"
   ]
  },
  {
   "cell_type": "code",
   "execution_count": 12,
   "metadata": {
    "collapsed": false
   },
   "outputs": [
    {
     "data": {
      "text/plain": [
       "True"
      ]
     },
     "execution_count": 12,
     "metadata": {},
     "output_type": "execute_result"
    }
   ],
   "source": [
    "np.array_equal(expect, gmapped1.compute())"
   ]
  },
  {
   "cell_type": "markdown",
   "metadata": {},
   "source": [
    "## Dask with 2D chunking"
   ]
  },
  {
   "cell_type": "code",
   "execution_count": 13,
   "metadata": {
    "collapsed": true
   },
   "outputs": [],
   "source": [
    "chunks_dim1 = 2"
   ]
  },
  {
   "cell_type": "code",
   "execution_count": 14,
   "metadata": {
    "collapsed": false
   },
   "outputs": [
    {
     "data": {
      "text/plain": [
       "dask.array<from-ar..., shape=(5, 3, 2), dtype=int8, chunksize=(2, 2, 2)>"
      ]
     },
     "execution_count": 14,
     "metadata": {},
     "output_type": "execute_result"
    }
   ],
   "source": [
    "gd2 = da.from_array(g, chunks=(chunks_dim0, chunks_dim1, None))\n",
    "gd2"
   ]
  },
  {
   "cell_type": "code",
   "execution_count": 15,
   "metadata": {
    "collapsed": false
   },
   "outputs": [
    {
     "data": {
      "text/plain": [
       "dask.array<atop-a5..., shape=(5, 3, 2), dtype=None, chunksize=(2, 2, 2)>"
      ]
     },
     "execution_count": 15,
     "metadata": {},
     "output_type": "execute_result"
    }
   ],
   "source": [
    "gmapped2 = da.map_blocks(f, gd2, md[:, None, :])\n",
    "gmapped2"
   ]
  },
  {
   "cell_type": "code",
   "execution_count": 16,
   "metadata": {
    "collapsed": false
   },
   "outputs": [
    {
     "data": {
      "text/plain": [
       "True"
      ]
     },
     "execution_count": 16,
     "metadata": {},
     "output_type": "execute_result"
    }
   ],
   "source": [
    "np.array_equal(expect, gmapped2.compute())"
   ]
  },
  {
   "cell_type": "markdown",
   "metadata": {},
   "source": [
    "It works!"
   ]
  },
  {
   "cell_type": "markdown",
   "metadata": {},
   "source": [
    "## Different data"
   ]
  },
  {
   "cell_type": "code",
   "execution_count": 17,
   "metadata": {
    "collapsed": false
   },
   "outputs": [
    {
     "data": {
      "text/html": [
       "<table class='petl'>\n",
       "<caption>GenotypeArray((7, 5, 2), dtype=int8)</caption>\n",
       "<thead>\n",
       "<tr>\n",
       "<th></th>\n",
       "<th>0</th>\n",
       "<th>1</th>\n",
       "<th>2</th>\n",
       "<th>3</th>\n",
       "<th>4</th>\n",
       "</tr>\n",
       "</thead>\n",
       "<tbody>\n",
       "<tr>\n",
       "<td style='font-weight: bold'>0</td>\n",
       "<td>0/0</td>\n",
       "<td>0/1</td>\n",
       "<td>0/0</td>\n",
       "<td>0/1</td>\n",
       "<td>./.</td>\n",
       "</tr>\n",
       "<tr>\n",
       "<td style='font-weight: bold'>1</td>\n",
       "<td>0/2</td>\n",
       "<td>1/1</td>\n",
       "<td>0/2</td>\n",
       "<td>1/1</td>\n",
       "<td>./.</td>\n",
       "</tr>\n",
       "<tr>\n",
       "<td style='font-weight: bold'>2</td>\n",
       "<td>0/0</td>\n",
       "<td>0/1</td>\n",
       "<td>0/0</td>\n",
       "<td>0/1</td>\n",
       "<td>./.</td>\n",
       "</tr>\n",
       "<tr>\n",
       "<td style='font-weight: bold'>3</td>\n",
       "<td>0/2</td>\n",
       "<td>1/1</td>\n",
       "<td>0/2</td>\n",
       "<td>1/1</td>\n",
       "<td>./.</td>\n",
       "</tr>\n",
       "<tr>\n",
       "<td style='font-weight: bold'>4</td>\n",
       "<td>1/0</td>\n",
       "<td>2/1</td>\n",
       "<td>1/0</td>\n",
       "<td>2/1</td>\n",
       "<td>./.</td>\n",
       "</tr>\n",
       "</tbody>\n",
       "</table>\n",
       "<p><strong>...</strong></p>"
      ],
      "text/plain": [
       "GenotypeArray((7, 5, 2), dtype=int8)\n",
       "[[[ 0  0]\n",
       "  [ 0  1]\n",
       "  [ 0  0]\n",
       "  [ 0  1]\n",
       "  [-1 -1]]\n",
       "\n",
       " [[ 0  2]\n",
       "  [ 1  1]\n",
       "  [ 0  2]\n",
       "  [ 1  1]\n",
       "  [-1 -1]]\n",
       "\n",
       " [[ 0  0]\n",
       "  [ 0  1]\n",
       "  [ 0  0]\n",
       "  [ 0  1]\n",
       "  [-1 -1]]\n",
       "\n",
       " [[ 0  2]\n",
       "  [ 1  1]\n",
       "  [ 0  2]\n",
       "  [ 1  1]\n",
       "  [-1 -1]]\n",
       "\n",
       " [[ 1  0]\n",
       "  [ 2  1]\n",
       "  [ 1  0]\n",
       "  [ 2  1]\n",
       "  [-1 -1]]\n",
       "\n",
       " [[ 2  2]\n",
       "  [-1 -1]\n",
       "  [ 2  2]\n",
       "  [-1 -1]\n",
       "  [-1 -1]]\n",
       "\n",
       " [[-1 -1]\n",
       "  [-1 -1]\n",
       "  [-1 -1]\n",
       "  [-1 -1]\n",
       "  [-1 -1]]]"
      ]
     },
     "execution_count": 17,
     "metadata": {},
     "output_type": "execute_result"
    }
   ],
   "source": [
    "g = allel.GenotypeArray([\n",
    "    [[0, 0], [0, 1], [0, 0], [0, 1], [-1, -1]],\n",
    "    [[0, 2], [1, 1], [0, 2], [1, 1], [-1, -1]],\n",
    "    [[0, 0], [0, 1], [0, 0], [0, 1], [-1, -1]],\n",
    "    [[0, 2], [1, 1], [0, 2], [1, 1], [-1, -1]],\n",
    "    [[1, 0], [2, 1], [1, 0], [2, 1], [-1, -1]],\n",
    "    [[2, 2], [-1, -1], [2, 2], [-1, -1], [-1, -1]],\n",
    "    [[-1, -1], [-1, -1], [-1, -1], [-1, -1], [-1, -1]]\n",
    "], dtype='i1')\n",
    "g"
   ]
  },
  {
   "cell_type": "code",
   "execution_count": 18,
   "metadata": {
    "collapsed": true
   },
   "outputs": [],
   "source": [
    "mapping = np.array([[0, 1, 2],\n",
    "                    [2, 0, 1],\n",
    "                    [1, 2, 0],\n",
    "                    [2, 1, 0],\n",
    "                    [1, 2, 0],\n",
    "                    [2, 1, 0],\n",
    "                    [2, 0, 1]], dtype=np.int8)"
   ]
  },
  {
   "cell_type": "code",
   "execution_count": 19,
   "metadata": {
    "collapsed": false
   },
   "outputs": [
    {
     "data": {
      "text/html": [
       "<table class='petl'>\n",
       "<caption>GenotypeArray((7, 5, 2), dtype=int8)</caption>\n",
       "<thead>\n",
       "<tr>\n",
       "<th></th>\n",
       "<th>0</th>\n",
       "<th>1</th>\n",
       "<th>2</th>\n",
       "<th>3</th>\n",
       "<th>4</th>\n",
       "</tr>\n",
       "</thead>\n",
       "<tbody>\n",
       "<tr>\n",
       "<td style='font-weight: bold'>0</td>\n",
       "<td>0/0</td>\n",
       "<td>0/1</td>\n",
       "<td>0/0</td>\n",
       "<td>0/1</td>\n",
       "<td>./.</td>\n",
       "</tr>\n",
       "<tr>\n",
       "<td style='font-weight: bold'>1</td>\n",
       "<td>2/1</td>\n",
       "<td>0/0</td>\n",
       "<td>2/1</td>\n",
       "<td>0/0</td>\n",
       "<td>./.</td>\n",
       "</tr>\n",
       "<tr>\n",
       "<td style='font-weight: bold'>2</td>\n",
       "<td>1/1</td>\n",
       "<td>1/2</td>\n",
       "<td>1/1</td>\n",
       "<td>1/2</td>\n",
       "<td>./.</td>\n",
       "</tr>\n",
       "<tr>\n",
       "<td style='font-weight: bold'>3</td>\n",
       "<td>2/0</td>\n",
       "<td>1/1</td>\n",
       "<td>2/0</td>\n",
       "<td>1/1</td>\n",
       "<td>./.</td>\n",
       "</tr>\n",
       "<tr>\n",
       "<td style='font-weight: bold'>4</td>\n",
       "<td>2/1</td>\n",
       "<td>0/2</td>\n",
       "<td>2/1</td>\n",
       "<td>0/2</td>\n",
       "<td>./.</td>\n",
       "</tr>\n",
       "</tbody>\n",
       "</table>\n",
       "<p><strong>...</strong></p>"
      ],
      "text/plain": [
       "GenotypeArray((7, 5, 2), dtype=int8)\n",
       "[[[ 0  0]\n",
       "  [ 0  1]\n",
       "  [ 0  0]\n",
       "  [ 0  1]\n",
       "  [-1 -1]]\n",
       "\n",
       " [[ 2  1]\n",
       "  [ 0  0]\n",
       "  [ 2  1]\n",
       "  [ 0  0]\n",
       "  [-1 -1]]\n",
       "\n",
       " [[ 1  1]\n",
       "  [ 1  2]\n",
       "  [ 1  1]\n",
       "  [ 1  2]\n",
       "  [-1 -1]]\n",
       "\n",
       " [[ 2  0]\n",
       "  [ 1  1]\n",
       "  [ 2  0]\n",
       "  [ 1  1]\n",
       "  [-1 -1]]\n",
       "\n",
       " [[ 2  1]\n",
       "  [ 0  2]\n",
       "  [ 2  1]\n",
       "  [ 0  2]\n",
       "  [-1 -1]]\n",
       "\n",
       " [[ 0  0]\n",
       "  [-1 -1]\n",
       "  [ 0  0]\n",
       "  [-1 -1]\n",
       "  [-1 -1]]\n",
       "\n",
       " [[-1 -1]\n",
       "  [-1 -1]\n",
       "  [-1 -1]\n",
       "  [-1 -1]\n",
       "  [-1 -1]]]"
      ]
     },
     "execution_count": 19,
     "metadata": {},
     "output_type": "execute_result"
    }
   ],
   "source": [
    "g.map_alleles(mapping)"
   ]
  },
  {
   "cell_type": "code",
   "execution_count": 20,
   "metadata": {
    "collapsed": false
   },
   "outputs": [
    {
     "data": {
      "text/plain": [
       "dask.array<from-ar..., shape=(7, 5, 2), dtype=int8, chunksize=(2, 2, 2)>"
      ]
     },
     "execution_count": 20,
     "metadata": {},
     "output_type": "execute_result"
    }
   ],
   "source": [
    "gd = da.from_array(g, chunks=(2, 2, None))\n",
    "gd"
   ]
  },
  {
   "cell_type": "code",
   "execution_count": 21,
   "metadata": {
    "collapsed": false
   },
   "outputs": [
    {
     "data": {
      "text/plain": [
       "dask.array<from-ar..., shape=(7, 3), dtype=int8, chunksize=(2, 3)>"
      ]
     },
     "execution_count": 21,
     "metadata": {},
     "output_type": "execute_result"
    }
   ],
   "source": [
    "md = da.from_array(mapping, chunks=(2, None))\n",
    "md"
   ]
  },
  {
   "cell_type": "code",
   "execution_count": 22,
   "metadata": {
    "collapsed": false
   },
   "outputs": [
    {
     "ename": "ValueError",
     "evalue": "Shapes do not align {0: {(2,), (3,)}, 1: {(2, 2, 1), (1,)}, 2: {(2, 2, 2, 1)}}",
     "output_type": "error",
     "traceback": [
      "\u001b[1;31m---------------------------------------------------------------------------\u001b[0m",
      "\u001b[1;31mValueError\u001b[0m                                Traceback (most recent call last)",
      "\u001b[1;32m<ipython-input-22-fcb2ca930359>\u001b[0m in \u001b[0;36m<module>\u001b[1;34m()\u001b[0m\n\u001b[1;32m----> 1\u001b[1;33m \u001b[0mgm\u001b[0m \u001b[1;33m=\u001b[0m \u001b[0mda\u001b[0m\u001b[1;33m.\u001b[0m\u001b[0mmap_blocks\u001b[0m\u001b[1;33m(\u001b[0m\u001b[0mf\u001b[0m\u001b[1;33m,\u001b[0m \u001b[0mgd\u001b[0m\u001b[1;33m,\u001b[0m \u001b[0mmd\u001b[0m\u001b[1;33m[\u001b[0m\u001b[1;33m:\u001b[0m\u001b[1;33m,\u001b[0m \u001b[1;32mNone\u001b[0m\u001b[1;33m,\u001b[0m \u001b[1;33m:\u001b[0m\u001b[1;33m]\u001b[0m\u001b[1;33m)\u001b[0m\u001b[1;33m\u001b[0m\u001b[0m\n\u001b[0m",
      "\u001b[1;32m/media/aliman/SD1/pyenv/allel_py34/lib/python3.4/site-packages/dask/array/core.py\u001b[0m in \u001b[0;36mmap_blocks\u001b[1;34m(func, *args, **kwargs)\u001b[0m\n\u001b[0;32m    495\u001b[0m     \u001b[0mout_ind\u001b[0m \u001b[1;33m=\u001b[0m \u001b[0mtuple\u001b[0m\u001b[1;33m(\u001b[0m\u001b[0mrange\u001b[0m\u001b[1;33m(\u001b[0m\u001b[0mmax\u001b[0m\u001b[1;33m(\u001b[0m\u001b[0mx\u001b[0m\u001b[1;33m.\u001b[0m\u001b[0mndim\u001b[0m \u001b[1;32mfor\u001b[0m \u001b[0mx\u001b[0m \u001b[1;32min\u001b[0m \u001b[0marrs\u001b[0m\u001b[1;33m)\u001b[0m\u001b[1;33m)\u001b[0m\u001b[1;33m)\u001b[0m\u001b[1;33m[\u001b[0m\u001b[1;33m:\u001b[0m\u001b[1;33m:\u001b[0m\u001b[1;33m-\u001b[0m\u001b[1;36m1\u001b[0m\u001b[1;33m]\u001b[0m\u001b[1;33m\u001b[0m\u001b[0m\n\u001b[0;32m    496\u001b[0m \u001b[1;33m\u001b[0m\u001b[0m\n\u001b[1;32m--> 497\u001b[1;33m     \u001b[0mresult\u001b[0m \u001b[1;33m=\u001b[0m \u001b[0matop\u001b[0m\u001b[1;33m(\u001b[0m\u001b[0mfunc\u001b[0m\u001b[1;33m,\u001b[0m \u001b[0mout_ind\u001b[0m\u001b[1;33m,\u001b[0m \u001b[1;33m*\u001b[0m\u001b[0matop_args\u001b[0m\u001b[1;33m,\u001b[0m \u001b[0mname\u001b[0m\u001b[1;33m=\u001b[0m\u001b[0mname\u001b[0m\u001b[1;33m,\u001b[0m \u001b[0mdtype\u001b[0m\u001b[1;33m=\u001b[0m\u001b[0mdtype\u001b[0m\u001b[1;33m)\u001b[0m\u001b[1;33m\u001b[0m\u001b[0m\n\u001b[0m\u001b[0;32m    498\u001b[0m \u001b[1;33m\u001b[0m\u001b[0m\n\u001b[0;32m    499\u001b[0m     \u001b[1;31m# If func has block_id as an argument then swap out func\u001b[0m\u001b[1;33m\u001b[0m\u001b[1;33m\u001b[0m\u001b[0m\n",
      "\u001b[1;32m/media/aliman/SD1/pyenv/allel_py34/lib/python3.4/site-packages/dask/array/core.py\u001b[0m in \u001b[0;36matop\u001b[1;34m(func, out_ind, *args, **kwargs)\u001b[0m\n\u001b[0;32m   1527\u001b[0m             (func.__name__, str(sorted(kwargs.keys()))))\n\u001b[0;32m   1528\u001b[0m \u001b[1;33m\u001b[0m\u001b[0m\n\u001b[1;32m-> 1529\u001b[1;33m     \u001b[0mchunkss\u001b[0m\u001b[1;33m,\u001b[0m \u001b[0marrays\u001b[0m \u001b[1;33m=\u001b[0m \u001b[0munify_chunks\u001b[0m\u001b[1;33m(\u001b[0m\u001b[1;33m*\u001b[0m\u001b[0margs\u001b[0m\u001b[1;33m)\u001b[0m\u001b[1;33m\u001b[0m\u001b[0m\n\u001b[0m\u001b[0;32m   1530\u001b[0m     \u001b[0marginds\u001b[0m \u001b[1;33m=\u001b[0m \u001b[0mlist\u001b[0m\u001b[1;33m(\u001b[0m\u001b[0mzip\u001b[0m\u001b[1;33m(\u001b[0m\u001b[0marrays\u001b[0m\u001b[1;33m,\u001b[0m \u001b[0margs\u001b[0m\u001b[1;33m[\u001b[0m\u001b[1;36m1\u001b[0m\u001b[1;33m:\u001b[0m\u001b[1;33m:\u001b[0m\u001b[1;36m2\u001b[0m\u001b[1;33m]\u001b[0m\u001b[1;33m)\u001b[0m\u001b[1;33m)\u001b[0m\u001b[1;33m\u001b[0m\u001b[0m\n\u001b[0;32m   1531\u001b[0m \u001b[1;33m\u001b[0m\u001b[0m\n",
      "\u001b[1;32m/media/aliman/SD1/pyenv/allel_py34/lib/python3.4/site-packages/dask/array/core.py\u001b[0m in \u001b[0;36munify_chunks\u001b[1;34m(*args)\u001b[0m\n\u001b[0;32m   1446\u001b[0m \u001b[1;33m\u001b[0m\u001b[0m\n\u001b[0;32m   1447\u001b[0m     chunkss = broadcast_dimensions(nameinds, blockdim_dict,\n\u001b[1;32m-> 1448\u001b[1;33m                                    consolidate=common_blockdim)\n\u001b[0m\u001b[0;32m   1449\u001b[0m     arrays = [a.rechunk(tuple(chunkss[j] if a.shape[n] > 1 else 1\n\u001b[0;32m   1450\u001b[0m                               for n, j in enumerate(i)))\n",
      "\u001b[1;32m/media/aliman/SD1/pyenv/allel_py34/lib/python3.4/site-packages/dask/array/core.py\u001b[0m in \u001b[0;36mbroadcast_dimensions\u001b[1;34m(argpairs, numblocks, sentinels, consolidate)\u001b[0m\n\u001b[0;32m    238\u001b[0m \u001b[1;33m\u001b[0m\u001b[0m\n\u001b[0;32m    239\u001b[0m     \u001b[1;32mif\u001b[0m \u001b[0mg2\u001b[0m \u001b[1;32mand\u001b[0m \u001b[1;32mnot\u001b[0m \u001b[0mset\u001b[0m\u001b[1;33m(\u001b[0m\u001b[0mmap\u001b[0m\u001b[1;33m(\u001b[0m\u001b[0mlen\u001b[0m\u001b[1;33m,\u001b[0m \u001b[0mg2\u001b[0m\u001b[1;33m.\u001b[0m\u001b[0mvalues\u001b[0m\u001b[1;33m(\u001b[0m\u001b[1;33m)\u001b[0m\u001b[1;33m)\u001b[0m\u001b[1;33m)\u001b[0m \u001b[1;33m==\u001b[0m \u001b[0mset\u001b[0m\u001b[1;33m(\u001b[0m\u001b[1;33m[\u001b[0m\u001b[1;36m1\u001b[0m\u001b[1;33m]\u001b[0m\u001b[1;33m)\u001b[0m\u001b[1;33m:\u001b[0m\u001b[1;33m\u001b[0m\u001b[0m\n\u001b[1;32m--> 240\u001b[1;33m         \u001b[1;32mraise\u001b[0m \u001b[0mValueError\u001b[0m\u001b[1;33m(\u001b[0m\u001b[1;34m\"Shapes do not align %s\"\u001b[0m \u001b[1;33m%\u001b[0m \u001b[0mg\u001b[0m\u001b[1;33m)\u001b[0m\u001b[1;33m\u001b[0m\u001b[0m\n\u001b[0m\u001b[0;32m    241\u001b[0m \u001b[1;33m\u001b[0m\u001b[0m\n\u001b[0;32m    242\u001b[0m     \u001b[1;32mreturn\u001b[0m \u001b[0mvalmap\u001b[0m\u001b[1;33m(\u001b[0m\u001b[0mfirst\u001b[0m\u001b[1;33m,\u001b[0m \u001b[0mg2\u001b[0m\u001b[1;33m)\u001b[0m\u001b[1;33m\u001b[0m\u001b[0m\n",
      "\u001b[1;31mValueError\u001b[0m: Shapes do not align {0: {(2,), (3,)}, 1: {(2, 2, 1), (1,)}, 2: {(2, 2, 2, 1)}}"
     ]
    }
   ],
   "source": [
    "gm = da.map_blocks(f, gd, md[:, None, :])"
   ]
  },
  {
   "cell_type": "markdown",
   "metadata": {},
   "source": [
    "Try something different..."
   ]
  },
  {
   "cell_type": "code",
   "execution_count": 23,
   "metadata": {
    "collapsed": true
   },
   "outputs": [],
   "source": [
    "def ff(block, bmapping):\n",
    "    return allel.GenotypeArray(block[:, :, :, 0]).map_alleles(bmapping[:, 0, 0, :])"
   ]
  },
  {
   "cell_type": "code",
   "execution_count": 24,
   "metadata": {
    "collapsed": false
   },
   "outputs": [
    {
     "data": {
      "text/plain": [
       "dask.array<atop-29..., shape=(7, 5, 2, 3), dtype=None, chunksize=(2, 2, 2, 3)>"
      ]
     },
     "execution_count": 24,
     "metadata": {},
     "output_type": "execute_result"
    }
   ],
   "source": [
    "res = da.map_blocks(ff, gd[:, :, :, None], md[:, None, None, :], drop_dims=3)\n",
    "res"
   ]
  },
  {
   "cell_type": "code",
   "execution_count": 25,
   "metadata": {
    "collapsed": false
   },
   "outputs": [
    {
     "ename": "KeyError",
     "evalue": "('atop-29ab5e04a84132ebc0c067349e2a91b4', 2, 1, 0, 0)",
     "output_type": "error",
     "traceback": [
      "\u001b[1;31m---------------------------------------------------------------------------\u001b[0m",
      "\u001b[1;31mKeyError\u001b[0m                                  Traceback (most recent call last)",
      "\u001b[1;32m<ipython-input-25-105f5a9575ad>\u001b[0m in \u001b[0;36m<module>\u001b[1;34m()\u001b[0m\n\u001b[1;32m----> 1\u001b[1;33m \u001b[0mres\u001b[0m\u001b[1;33m.\u001b[0m\u001b[0mcompute\u001b[0m\u001b[1;33m(\u001b[0m\u001b[1;33m)\u001b[0m\u001b[1;33m\u001b[0m\u001b[0m\n\u001b[0m",
      "\u001b[1;32m/media/aliman/SD1/pyenv/allel_py34/lib/python3.4/site-packages/dask/base.py\u001b[0m in \u001b[0;36mcompute\u001b[1;34m(self, **kwargs)\u001b[0m\n\u001b[0;32m     35\u001b[0m \u001b[1;33m\u001b[0m\u001b[0m\n\u001b[0;32m     36\u001b[0m     \u001b[1;32mdef\u001b[0m \u001b[0mcompute\u001b[0m\u001b[1;33m(\u001b[0m\u001b[0mself\u001b[0m\u001b[1;33m,\u001b[0m \u001b[1;33m**\u001b[0m\u001b[0mkwargs\u001b[0m\u001b[1;33m)\u001b[0m\u001b[1;33m:\u001b[0m\u001b[1;33m\u001b[0m\u001b[0m\n\u001b[1;32m---> 37\u001b[1;33m         \u001b[1;32mreturn\u001b[0m \u001b[0mcompute\u001b[0m\u001b[1;33m(\u001b[0m\u001b[0mself\u001b[0m\u001b[1;33m,\u001b[0m \u001b[1;33m**\u001b[0m\u001b[0mkwargs\u001b[0m\u001b[1;33m)\u001b[0m\u001b[1;33m[\u001b[0m\u001b[1;36m0\u001b[0m\u001b[1;33m]\u001b[0m\u001b[1;33m\u001b[0m\u001b[0m\n\u001b[0m\u001b[0;32m     38\u001b[0m \u001b[1;33m\u001b[0m\u001b[0m\n\u001b[0;32m     39\u001b[0m     \u001b[1;33m@\u001b[0m\u001b[0mclassmethod\u001b[0m\u001b[1;33m\u001b[0m\u001b[0m\n",
      "\u001b[1;32m/media/aliman/SD1/pyenv/allel_py34/lib/python3.4/site-packages/dask/base.py\u001b[0m in \u001b[0;36mcompute\u001b[1;34m(*args, **kwargs)\u001b[0m\n\u001b[0;32m    106\u001b[0m     dsk = merge([opt(merge([v.dask for v in val]),\n\u001b[0;32m    107\u001b[0m                      [v._keys() for v in val])\n\u001b[1;32m--> 108\u001b[1;33m                 for opt, val in groups.items()])\n\u001b[0m\u001b[0;32m    109\u001b[0m     \u001b[0mkeys\u001b[0m \u001b[1;33m=\u001b[0m \u001b[1;33m[\u001b[0m\u001b[0mvar\u001b[0m\u001b[1;33m.\u001b[0m\u001b[0m_keys\u001b[0m\u001b[1;33m(\u001b[0m\u001b[1;33m)\u001b[0m \u001b[1;32mfor\u001b[0m \u001b[0mvar\u001b[0m \u001b[1;32min\u001b[0m \u001b[0mvariables\u001b[0m\u001b[1;33m]\u001b[0m\u001b[1;33m\u001b[0m\u001b[0m\n\u001b[0;32m    110\u001b[0m     \u001b[0mresults\u001b[0m \u001b[1;33m=\u001b[0m \u001b[0mget\u001b[0m\u001b[1;33m(\u001b[0m\u001b[0mdsk\u001b[0m\u001b[1;33m,\u001b[0m \u001b[0mkeys\u001b[0m\u001b[1;33m,\u001b[0m \u001b[1;33m**\u001b[0m\u001b[0mkwargs\u001b[0m\u001b[1;33m)\u001b[0m\u001b[1;33m\u001b[0m\u001b[0m\n",
      "\u001b[1;32m/media/aliman/SD1/pyenv/allel_py34/lib/python3.4/site-packages/dask/base.py\u001b[0m in \u001b[0;36m<listcomp>\u001b[1;34m(.0)\u001b[0m\n\u001b[0;32m    106\u001b[0m     dsk = merge([opt(merge([v.dask for v in val]),\n\u001b[0;32m    107\u001b[0m                      [v._keys() for v in val])\n\u001b[1;32m--> 108\u001b[1;33m                 for opt, val in groups.items()])\n\u001b[0m\u001b[0;32m    109\u001b[0m     \u001b[0mkeys\u001b[0m \u001b[1;33m=\u001b[0m \u001b[1;33m[\u001b[0m\u001b[0mvar\u001b[0m\u001b[1;33m.\u001b[0m\u001b[0m_keys\u001b[0m\u001b[1;33m(\u001b[0m\u001b[1;33m)\u001b[0m \u001b[1;32mfor\u001b[0m \u001b[0mvar\u001b[0m \u001b[1;32min\u001b[0m \u001b[0mvariables\u001b[0m\u001b[1;33m]\u001b[0m\u001b[1;33m\u001b[0m\u001b[0m\n\u001b[0;32m    110\u001b[0m     \u001b[0mresults\u001b[0m \u001b[1;33m=\u001b[0m \u001b[0mget\u001b[0m\u001b[1;33m(\u001b[0m\u001b[0mdsk\u001b[0m\u001b[1;33m,\u001b[0m \u001b[0mkeys\u001b[0m\u001b[1;33m,\u001b[0m \u001b[1;33m**\u001b[0m\u001b[0mkwargs\u001b[0m\u001b[1;33m)\u001b[0m\u001b[1;33m\u001b[0m\u001b[0m\n",
      "\u001b[1;32m/media/aliman/SD1/pyenv/allel_py34/lib/python3.4/site-packages/dask/array/optimization.py\u001b[0m in \u001b[0;36moptimize\u001b[1;34m(dsk, keys, **kwargs)\u001b[0m\n\u001b[0;32m     21\u001b[0m     fast_functions=kwargs.get('fast_functions',\n\u001b[0;32m     22\u001b[0m                              set([getarray, getitem, np.transpose]))\n\u001b[1;32m---> 23\u001b[1;33m     \u001b[0mdsk2\u001b[0m \u001b[1;33m=\u001b[0m \u001b[0mcull\u001b[0m\u001b[1;33m(\u001b[0m\u001b[0mdsk\u001b[0m\u001b[1;33m,\u001b[0m \u001b[0mlist\u001b[0m\u001b[1;33m(\u001b[0m\u001b[0mflatten\u001b[0m\u001b[1;33m(\u001b[0m\u001b[0mkeys\u001b[0m\u001b[1;33m)\u001b[0m\u001b[1;33m)\u001b[0m\u001b[1;33m)\u001b[0m\u001b[1;33m\u001b[0m\u001b[0m\n\u001b[0m\u001b[0;32m     24\u001b[0m     \u001b[0mdsk3\u001b[0m \u001b[1;33m=\u001b[0m \u001b[0mremove_full_slices\u001b[0m\u001b[1;33m(\u001b[0m\u001b[0mdsk2\u001b[0m\u001b[1;33m)\u001b[0m\u001b[1;33m\u001b[0m\u001b[0m\n\u001b[0;32m     25\u001b[0m     \u001b[0mdsk4\u001b[0m \u001b[1;33m=\u001b[0m \u001b[0mfuse\u001b[0m\u001b[1;33m(\u001b[0m\u001b[0mdsk3\u001b[0m\u001b[1;33m)\u001b[0m\u001b[1;33m\u001b[0m\u001b[0m\n",
      "\u001b[1;32m/media/aliman/SD1/pyenv/allel_py34/lib/python3.4/site-packages/dask/optimize.py\u001b[0m in \u001b[0;36mcull\u001b[1;34m(dsk, keys)\u001b[0m\n\u001b[0;32m     34\u001b[0m         \u001b[0mnxt\u001b[0m \u001b[1;33m=\u001b[0m \u001b[0mset\u001b[0m\u001b[1;33m(\u001b[0m\u001b[1;33m)\u001b[0m\u001b[1;33m\u001b[0m\u001b[0m\n\u001b[0;32m     35\u001b[0m         \u001b[1;32mfor\u001b[0m \u001b[0mitem\u001b[0m \u001b[1;32min\u001b[0m \u001b[0mcur\u001b[0m\u001b[1;33m:\u001b[0m\u001b[1;33m\u001b[0m\u001b[0m\n\u001b[1;32m---> 36\u001b[1;33m             \u001b[1;32mfor\u001b[0m \u001b[0mdep\u001b[0m \u001b[1;32min\u001b[0m \u001b[0mget_dependencies\u001b[0m\u001b[1;33m(\u001b[0m\u001b[0mdsk\u001b[0m\u001b[1;33m,\u001b[0m \u001b[0mitem\u001b[0m\u001b[1;33m)\u001b[0m\u001b[1;33m:\u001b[0m\u001b[1;33m\u001b[0m\u001b[0m\n\u001b[0m\u001b[0;32m     37\u001b[0m                 \u001b[1;32mif\u001b[0m \u001b[0mdep\u001b[0m \u001b[1;32mnot\u001b[0m \u001b[1;32min\u001b[0m \u001b[0mseen\u001b[0m\u001b[1;33m:\u001b[0m\u001b[1;33m\u001b[0m\u001b[0m\n\u001b[0;32m     38\u001b[0m                     \u001b[0mnxt\u001b[0m\u001b[1;33m.\u001b[0m\u001b[0madd\u001b[0m\u001b[1;33m(\u001b[0m\u001b[0mdep\u001b[0m\u001b[1;33m)\u001b[0m\u001b[1;33m\u001b[0m\u001b[0m\n",
      "\u001b[1;32m/media/aliman/SD1/pyenv/allel_py34/lib/python3.4/site-packages/dask/core.py\u001b[0m in \u001b[0;36mget_dependencies\u001b[1;34m(dsk, task, as_list)\u001b[0m\n\u001b[0;32m    201\u001b[0m     \u001b[0mset\u001b[0m\u001b[1;33m(\u001b[0m\u001b[1;33m[\u001b[0m\u001b[1;34m'x'\u001b[0m\u001b[1;33m]\u001b[0m\u001b[1;33m)\u001b[0m\u001b[1;33m\u001b[0m\u001b[0m\n\u001b[0;32m    202\u001b[0m     \"\"\"\n\u001b[1;32m--> 203\u001b[1;33m     \u001b[0margs\u001b[0m \u001b[1;33m=\u001b[0m \u001b[1;33m[\u001b[0m\u001b[0mdsk\u001b[0m\u001b[1;33m[\u001b[0m\u001b[0mtask\u001b[0m\u001b[1;33m]\u001b[0m\u001b[1;33m]\u001b[0m\u001b[1;33m\u001b[0m\u001b[0m\n\u001b[0m\u001b[0;32m    204\u001b[0m     \u001b[0mresult\u001b[0m \u001b[1;33m=\u001b[0m \u001b[1;33m[\u001b[0m\u001b[1;33m]\u001b[0m\u001b[1;33m\u001b[0m\u001b[0m\n\u001b[0;32m    205\u001b[0m     \u001b[1;32mwhile\u001b[0m \u001b[0margs\u001b[0m\u001b[1;33m:\u001b[0m\u001b[1;33m\u001b[0m\u001b[0m\n",
      "\u001b[1;31mKeyError\u001b[0m: ('atop-29ab5e04a84132ebc0c067349e2a91b4', 2, 1, 0, 0)"
     ]
    }
   ],
   "source": [
    "res.compute()"
   ]
  },
  {
   "cell_type": "code",
   "execution_count": null,
   "metadata": {
    "collapsed": true
   },
   "outputs": [],
   "source": []
  }
 ],
 "metadata": {
  "kernelspec": {
   "display_name": "Python 3",
   "language": "python",
   "name": "python3"
  },
  "language_info": {
   "codemirror_mode": {
    "name": "ipython",
    "version": 3
   },
   "file_extension": ".py",
   "mimetype": "text/x-python",
   "name": "python",
   "nbconvert_exporter": "python",
   "pygments_lexer": "ipython3",
   "version": "3.4.3"
  }
 },
 "nbformat": 4,
 "nbformat_minor": 0
}
