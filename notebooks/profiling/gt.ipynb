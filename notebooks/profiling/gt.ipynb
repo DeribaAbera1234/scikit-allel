{
 "metadata": {
  "name": "",
  "signature": "sha256:8eab6e971ab4f59989f2d7a92e5701bf1bfcd50b4403f7578b96a37a888e98b3"
 },
 "nbformat": 3,
 "nbformat_minor": 0,
 "worksheets": [
  {
   "cells": [
    {
     "cell_type": "heading",
     "level": 1,
     "metadata": {},
     "source": [
      "allel.gt - profiling"
     ]
    },
    {
     "cell_type": "code",
     "collapsed": false,
     "input": [
      "import numpy as np\n",
      "np.random.seed(42)\n",
      "import sys\n",
      "import cProfile\n",
      "from humanize import naturalsize\n",
      "sys.path.insert(0, '../..')\n",
      "%reload_ext memory_profiler\n",
      "%reload_ext autoreload\n",
      "%autoreload 1\n",
      "%aimport allel.gt"
     ],
     "language": "python",
     "metadata": {},
     "outputs": [],
     "prompt_number": 1
    },
    {
     "cell_type": "heading",
     "level": 2,
     "metadata": {},
     "source": [
      "Pack/unpack"
     ]
    },
    {
     "cell_type": "code",
     "collapsed": false,
     "input": [
      "shape = n_variants, n_samples, ploidy = 200000, 100, 2\n",
      "g = np.zeros(shape, dtype='i1')"
     ],
     "language": "python",
     "metadata": {},
     "outputs": [],
     "prompt_number": 2
    },
    {
     "cell_type": "code",
     "collapsed": false,
     "input": [
      "# simulate some mutations\n",
      "n_alleles = n_variants * n_samples * ploidy\n",
      "idx = np.random.randint(0, (n_alleles//2)-1, size=n_alleles//20)\n",
      "g[:, :, 1].reshape((-1))[idx] = 1\n",
      "g[:, :, 0].reshape((-1))[idx[:n_alleles//200]] = 1\n",
      "print(naturalsize(g.nbytes))"
     ],
     "language": "python",
     "metadata": {},
     "outputs": [
      {
       "output_type": "stream",
       "stream": "stdout",
       "text": [
        "40.0 MB\n"
       ]
      }
     ],
     "prompt_number": 3
    },
    {
     "cell_type": "code",
     "collapsed": false,
     "input": [
      "print(allel.gt.count(allel.gt.is_hom_ref(g)))\n",
      "print(allel.gt.count(allel.gt.is_het(g)))\n",
      "print(allel.gt.count(allel.gt.is_hom_alt(g)))"
     ],
     "language": "python",
     "metadata": {},
     "outputs": [
      {
       "output_type": "stream",
       "stream": "stdout",
       "text": [
        "18097093\n",
        "1703932"
       ]
      },
      {
       "output_type": "stream",
       "stream": "stdout",
       "text": [
        "\n",
        "198975"
       ]
      },
      {
       "output_type": "stream",
       "stream": "stdout",
       "text": [
        "\n"
       ]
      }
     ],
     "prompt_number": 4
    },
    {
     "cell_type": "code",
     "collapsed": false,
     "input": [
      "gp = allel.gt.to_packed(g)\n",
      "print(naturalsize(gp.nbytes))\n",
      "gp"
     ],
     "language": "python",
     "metadata": {},
     "outputs": [
      {
       "output_type": "stream",
       "stream": "stdout",
       "text": [
        "20.0 MB\n"
       ]
      },
      {
       "metadata": {},
       "output_type": "pyout",
       "prompt_number": 5,
       "text": [
        "array([[0, 0, 0, ..., 0, 0, 0],\n",
        "       [0, 0, 0, ..., 0, 0, 0],\n",
        "       [0, 0, 0, ..., 0, 0, 0],\n",
        "       ..., \n",
        "       [0, 0, 0, ..., 0, 0, 0],\n",
        "       [0, 0, 0, ..., 0, 0, 0],\n",
        "       [0, 0, 0, ..., 0, 0, 0]], dtype=uint8)"
       ]
      }
     ],
     "prompt_number": 5
    },
    {
     "cell_type": "code",
     "collapsed": false,
     "input": [
      "%timeit allel.gt.to_packed(g)"
     ],
     "language": "python",
     "metadata": {},
     "outputs": [
      {
       "output_type": "stream",
       "stream": "stdout",
       "text": [
        "10 loops, best of 3: 168 ms per loop\n"
       ]
      }
     ],
     "prompt_number": 6
    },
    {
     "cell_type": "code",
     "collapsed": false,
     "input": [
      "%timeit allel.gt.to_packed(g, boundscheck=False)"
     ],
     "language": "python",
     "metadata": {},
     "outputs": [
      {
       "output_type": "stream",
       "stream": "stdout",
       "text": [
        "10 loops, best of 3: 87.8 ms per loop\n"
       ]
      }
     ],
     "prompt_number": 7
    },
    {
     "cell_type": "code",
     "collapsed": false,
     "input": [
      "%memit -r3 -i1000 allel.gt.to_packed(g)"
     ],
     "language": "python",
     "metadata": {},
     "outputs": [
      {
       "output_type": "stream",
       "stream": "stdout",
       "text": [
        "peak memory: 137.50 MiB, increment: 0.18 MiB\n"
       ]
      }
     ],
     "prompt_number": 8
    },
    {
     "cell_type": "code",
     "collapsed": false,
     "input": [
      "gpu = allel.gt.from_packed(gp)\n",
      "print(naturalsize(gpu.nbytes))\n",
      "np.array_equal(g, gpu)"
     ],
     "language": "python",
     "metadata": {},
     "outputs": [
      {
       "output_type": "stream",
       "stream": "stdout",
       "text": [
        "40.0 MB\n"
       ]
      },
      {
       "metadata": {},
       "output_type": "pyout",
       "prompt_number": 9,
       "text": [
        "True"
       ]
      }
     ],
     "prompt_number": 9
    },
    {
     "cell_type": "code",
     "collapsed": false,
     "input": [
      "%timeit allel.gt.from_packed(gp)"
     ],
     "language": "python",
     "metadata": {},
     "outputs": [
      {
       "output_type": "stream",
       "stream": "stdout",
       "text": [
        "10 loops, best of 3: 81.9 ms per loop\n"
       ]
      }
     ],
     "prompt_number": 10
    },
    {
     "cell_type": "code",
     "collapsed": false,
     "input": [
      "%memit -r3 -i1000 allel.gt.from_packed(gp)"
     ],
     "language": "python",
     "metadata": {},
     "outputs": [
      {
       "output_type": "stream",
       "stream": "stdout",
       "text": [
        "peak memory: 212.57 MiB, increment: 36.81 MiB\n"
       ]
      }
     ],
     "prompt_number": 11
    },
    {
     "cell_type": "heading",
     "level": 2,
     "metadata": {},
     "source": [
      "Sparse matrices"
     ]
    },
    {
     "cell_type": "code",
     "collapsed": false,
     "input": [
      "g.shape"
     ],
     "language": "python",
     "metadata": {},
     "outputs": [
      {
       "metadata": {},
       "output_type": "pyout",
       "prompt_number": 12,
       "text": [
        "(200000, 100, 2)"
       ]
      }
     ],
     "prompt_number": 12
    },
    {
     "cell_type": "code",
     "collapsed": false,
     "input": [
      "np.bincount(g.flatten())"
     ],
     "language": "python",
     "metadata": {},
     "outputs": [
      {
       "metadata": {},
       "output_type": "pyout",
       "prompt_number": 13,
       "text": [
        "array([37898118,  2101882])"
       ]
      }
     ],
     "prompt_number": 13
    },
    {
     "cell_type": "code",
     "collapsed": false,
     "input": [
      "for format in 'bsr', 'coo', 'csc', 'csr':\n",
      "    m = allel.gt.to_sparse(g, format=format)\n",
      "    print(repr(m))\n",
      "    for attr in 'data', 'indices', 'indptr', 'row', 'col':\n",
      "        if hasattr(m, attr):\n",
      "            print(attr, naturalsize(getattr(m, attr).nbytes))\n",
      "    print()"
     ],
     "language": "python",
     "metadata": {},
     "outputs": [
      {
       "output_type": "stream",
       "stream": "stdout",
       "text": [
        "<200000x200 sparse matrix of type '<class 'numpy.int8'>'\n",
        "\twith 2101882 stored elements (blocksize = 1x1) in Block Sparse Row format>\n",
        "data 2.1 MB\n",
        "indices 8.4 MB\n",
        "indptr 800.0 kB\n",
        "\n",
        "<200000x200 sparse matrix of type '<class 'numpy.int8'>'\n",
        "\twith 2101882 stored elements in COOrdinate format>"
       ]
      },
      {
       "output_type": "stream",
       "stream": "stdout",
       "text": [
        "\n",
        "data 2.1 MB\n",
        "row 8.4 MB\n",
        "col 8.4 MB\n",
        "\n",
        "<200000x200 sparse matrix of type '<class 'numpy.int8'>'\n",
        "\twith 2101882 stored elements in Compressed Sparse Column format>"
       ]
      },
      {
       "output_type": "stream",
       "stream": "stdout",
       "text": [
        "\n",
        "data 2.1 MB\n",
        "indices 8.4 MB\n",
        "indptr 804 Bytes\n",
        "\n",
        "<200000x200 sparse matrix of type '<class 'numpy.int8'>'\n",
        "\twith 2101882 stored elements in Compressed Sparse Row format>"
       ]
      },
      {
       "output_type": "stream",
       "stream": "stdout",
       "text": [
        "\n",
        "data 2.1 MB\n",
        "indices 8.4 MB\n",
        "indptr 800.0 kB\n",
        "\n"
       ]
      }
     ],
     "prompt_number": 14
    },
    {
     "cell_type": "code",
     "collapsed": false,
     "input": [
      "m = allel.gt.to_sparse(g, format='csr')\n",
      "m"
     ],
     "language": "python",
     "metadata": {},
     "outputs": [
      {
       "metadata": {},
       "output_type": "pyout",
       "prompt_number": 15,
       "text": [
        "<200000x200 sparse matrix of type '<class 'numpy.int8'>'\n",
        "\twith 2101882 stored elements in Compressed Sparse Row format>"
       ]
      }
     ],
     "prompt_number": 15
    },
    {
     "cell_type": "code",
     "collapsed": false,
     "input": [
      "g2 = allel.gt.from_sparse(m, ploidy=2)\n",
      "np.array_equal(g, g2)"
     ],
     "language": "python",
     "metadata": {},
     "outputs": [
      {
       "metadata": {},
       "output_type": "pyout",
       "prompt_number": 16,
       "text": [
        "True"
       ]
      }
     ],
     "prompt_number": 16
    },
    {
     "cell_type": "code",
     "collapsed": false,
     "input": [],
     "language": "python",
     "metadata": {},
     "outputs": [],
     "prompt_number": 16
    }
   ],
   "metadata": {}
  }
 ]
}