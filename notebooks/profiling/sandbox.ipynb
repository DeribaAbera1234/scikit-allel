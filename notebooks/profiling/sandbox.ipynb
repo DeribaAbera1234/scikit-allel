{
 "cells": [
  {
   "cell_type": "code",
   "execution_count": 1,
   "metadata": {
    "collapsed": true
   },
   "outputs": [],
   "source": [
    "import numpy as np\n",
    "np.random.seed(42)\n",
    "import sys\n",
    "import cProfile\n",
    "import humanize\n",
    "import imp\n",
    "import logging\n",
    "imp.reload(logging)\n",
    "logging.basicConfig(level=logging.DEBUG)\n",
    "sys.path.insert(0, '../..')\n",
    "%reload_ext memory_profiler\n",
    "%reload_ext autoreload\n",
    "%autoreload 1\n",
    "%aimport allel.model\n",
    "%aimport allel.stats.diversity\n",
    "%aimport allel.stats\n",
    "%aimport allel.plot\n",
    "%aimport allel.opt.stats\n",
    "%aimport allel.stats.sandbox"
   ]
  },
  {
   "cell_type": "code",
   "execution_count": 2,
   "metadata": {
    "collapsed": true
   },
   "outputs": [],
   "source": [
    "g = [[[0, 0], [0, 0], [1, 1], [1, 1]],\n",
    "     [[0, 1], [0, 1], [0, 1], [0, 1]],\n",
    "     [[0, 0], [0, 0], [0, 0], [0, 0]],\n",
    "     [[0, 1], [1, 2], [1, 1], [2, 2]],\n",
    "     [[0, 0], [1, 1], [0, 1], [-1, -1]]]\n",
    "subpops = [[0, 1], [2, 3]]"
   ]
  },
  {
   "cell_type": "code",
   "execution_count": 8,
   "metadata": {
    "collapsed": false
   },
   "outputs": [
    {
     "name": "stderr",
     "output_type": "stream",
     "text": [
      "DEBUG:allel.stats.sandbox:r: 2\n",
      "DEBUG:allel.stats.sandbox:acs: (5, 3, 2), array([[[4, 0],\n",
      "        [0, 4],\n",
      "        [0, 0]],\n",
      "\n",
      "       [[2, 2],\n",
      "        [2, 2],\n",
      "        [0, 0]],\n",
      "\n",
      "       [[4, 4],\n",
      "        [0, 0],\n",
      "        [0, 0]],\n",
      "\n",
      "       [[1, 0],\n",
      "        [2, 2],\n",
      "        [1, 2]],\n",
      "\n",
      "       [[2, 1],\n",
      "        [2, 1],\n",
      "        [0, 0]]], dtype=int32)\n",
      "DEBUG:allel.stats.sandbox:an: (5, 2), array([[4, 4],\n",
      "       [4, 4],\n",
      "       [4, 4],\n",
      "       [4, 4],\n",
      "       [4, 2]])\n",
      "DEBUG:allel.stats.sandbox:n: (5, 2), array([[2, 2],\n",
      "       [2, 2],\n",
      "       [2, 2],\n",
      "       [2, 2],\n",
      "       [2, 1]])\n",
      "DEBUG:allel.stats.sandbox:n_total: (5,), array([4, 4, 4, 4, 3])\n",
      "DEBUG:allel.stats.sandbox:ac: (5, 2), array([[0, 4],\n",
      "       [2, 2],\n",
      "       [0, 0],\n",
      "       [2, 2],\n",
      "       [2, 1]], dtype=int32)\n",
      "DEBUG:allel.stats.sandbox:p: (5, 2), array([[ 0. ,  1. ],\n",
      "       [ 0.5,  0.5],\n",
      "       [ 0. ,  0. ],\n",
      "       [ 0.5,  0.5],\n",
      "       [ 0.5,  0.5]])\n",
      "DEBUG:allel.stats.sandbox:n_bar: (5,), array([ 2. ,  2. ,  2. ,  2. ,  1.5])\n",
      "DEBUG:allel.stats.sandbox:n_C (alternative): (5,), array([ 2.        ,  2.        ,  2.        ,  2.        ,  1.33333333])\n",
      "DEBUG:allel.stats.sandbox:p_bar: (5,), array([ 0.5,  0.5,  0. ,  0.5,  0.5])\n",
      "DEBUG:allel.stats.sandbox:p_bar (alternative): (5,), array([ 0.5,  0.5,  0. ,  0.5,  0.5])\n",
      "DEBUG:allel.stats.sandbox:s_squared: (5,), array([ 0.5,  0. ,  0. ,  0. ,  0. ])\n",
      "DEBUG:allel.stats.sandbox:h_bar: (5,), array([ 0.        ,  1.        ,  0.        ,  0.5       ,  0.33333333])\n",
      "DEBUG:allel.stats.sandbox:a: (5,), array([ 0.5  ,  0.   ,  0.   , -0.125, -0.375])\n",
      "DEBUG:allel.stats.sandbox:b: (5,), array([ 0.        , -0.25      ,  0.        ,  0.125     ,  0.41666667])\n",
      "DEBUG:allel.stats.sandbox:c: (5,), array([ 0.        ,  0.5       ,  0.        ,  0.25      ,  0.16666667])\n"
     ]
    },
    {
     "data": {
      "text/plain": [
       "(array([ 0.5  ,  0.   ,  0.   , -0.125, -0.375]),\n",
       " array([ 0.        , -0.25      ,  0.        ,  0.125     ,  0.41666667]),\n",
       " array([ 0.        ,  0.5       ,  0.        ,  0.25      ,  0.16666667]))"
      ]
     },
     "execution_count": 8,
     "metadata": {},
     "output_type": "execute_result"
    }
   ],
   "source": [
    "a, b, c = allel.stats.sandbox.weir_cockerham_f_statistics(g, subpops)\n",
    "a, b, c"
   ]
  },
  {
   "cell_type": "code",
   "execution_count": 9,
   "metadata": {
    "collapsed": false
   },
   "outputs": [
    {
     "data": {
      "text/plain": [
       "array([ 1. ,  0. ,  nan, -0.5, -1.8])"
      ]
     },
     "execution_count": 9,
     "metadata": {},
     "output_type": "execute_result"
    }
   ],
   "source": [
    "a / (a + b + c)"
   ]
  },
  {
   "cell_type": "code",
   "execution_count": 11,
   "metadata": {
    "collapsed": false
   },
   "outputs": [
    {
     "name": "stderr",
     "output_type": "stream",
     "text": [
      "DEBUG:allel.stats.diversity:r: 2\n",
      "DEBUG:allel.stats.diversity:ac: (5, 3, 2), array([[[4, 0],\n",
      "        [0, 4],\n",
      "        [0, 0]],\n",
      "\n",
      "       [[2, 2],\n",
      "        [2, 2],\n",
      "        [0, 0]],\n",
      "\n",
      "       [[4, 4],\n",
      "        [0, 0],\n",
      "        [0, 0]],\n",
      "\n",
      "       [[1, 0],\n",
      "        [2, 2],\n",
      "        [1, 2]],\n",
      "\n",
      "       [[2, 1],\n",
      "        [2, 1],\n",
      "        [0, 0]]], dtype=int32)\n",
      "DEBUG:allel.stats.diversity:an: (5, 2), array([[4, 4],\n",
      "       [4, 4],\n",
      "       [4, 4],\n",
      "       [4, 4],\n",
      "       [4, 2]])\n",
      "DEBUG:allel.stats.diversity:n: (5, 2), array([[2, 2],\n",
      "       [2, 2],\n",
      "       [2, 2],\n",
      "       [2, 2],\n",
      "       [2, 1]])\n",
      "DEBUG:allel.stats.diversity:n_total: (5,), array([4, 4, 4, 4, 3])\n",
      "DEBUG:allel.stats.diversity:n_bar: (5,), array([ 2. ,  2. ,  2. ,  2. ,  1.5])\n",
      "DEBUG:allel.stats.diversity:n_C: (5,), array([ 2.        ,  2.        ,  2.        ,  2.        ,  1.33333333])\n",
      "DEBUG:allel.stats.diversity:p: (5, 3, 2), array([[[ 1.  ,  0.  ],\n",
      "        [ 0.  ,  1.  ],\n",
      "        [ 0.  ,  0.  ]],\n",
      "\n",
      "       [[ 0.5 ,  0.5 ],\n",
      "        [ 0.5 ,  0.5 ],\n",
      "        [ 0.  ,  0.  ]],\n",
      "\n",
      "       [[ 1.  ,  1.  ],\n",
      "        [ 0.  ,  0.  ],\n",
      "        [ 0.  ,  0.  ]],\n",
      "\n",
      "       [[ 0.25,  0.  ],\n",
      "        [ 0.5 ,  0.5 ],\n",
      "        [ 0.25,  0.5 ]],\n",
      "\n",
      "       [[ 0.5 ,  0.5 ],\n",
      "        [ 0.5 ,  0.5 ],\n",
      "        [ 0.  ,  0.  ]]])\n",
      "DEBUG:allel.stats.diversity:p_bar: (5, 3), array([[ 0.5  ,  0.5  ,  0.   ],\n",
      "       [ 0.5  ,  0.5  ,  0.   ],\n",
      "       [ 1.   ,  0.   ,  0.   ],\n",
      "       [ 0.125,  0.5  ,  0.375],\n",
      "       [ 0.5  ,  0.5  ,  0.   ]])\n",
      "DEBUG:allel.stats.diversity:s_squared: (5, 3), array([[ 0.5    ,  0.5    ,  0.     ],\n",
      "       [ 0.     ,  0.     ,  0.     ],\n",
      "       [ 0.     ,  0.     ,  0.     ],\n",
      "       [ 0.03125,  0.     ,  0.03125],\n",
      "       [ 0.     ,  0.     ,  0.     ]])\n",
      "DEBUG:allel.stats.diversity:h_bar: (5, 3), array([[ 0.        ,  0.        ,  0.        ],\n",
      "       [ 1.        ,  1.        ,  0.        ],\n",
      "       [ 0.        ,  0.        ,  0.        ],\n",
      "       [ 0.25      ,  0.5       ,  0.25      ],\n",
      "       [ 0.33333333,  0.33333333,  0.        ]])\n"
     ]
    },
    {
     "data": {
      "text/plain": [
       "(array([ 0.5  ,  0.   ,  0.   , -0.125, -0.375]),\n",
       " array([ 0.        , -0.25      ,  0.        ,  0.125     ,  0.41666667]),\n",
       " array([ 0.        ,  0.5       ,  0.        ,  0.25      ,  0.16666667]))"
      ]
     },
     "execution_count": 11,
     "metadata": {},
     "output_type": "execute_result"
    }
   ],
   "source": [
    "a, b, c = allel.stats.weir_cockerham_variance_components(g, subpops)\n",
    "a[:, 1], b[:, 1], c[:, 1]"
   ]
  },
  {
   "cell_type": "code",
   "execution_count": 12,
   "metadata": {
    "collapsed": false
   },
   "outputs": [
    {
     "data": {
      "text/plain": [
       "array([ 1. ,  0. ,  nan, -0.5, -1.8])"
      ]
     },
     "execution_count": 12,
     "metadata": {},
     "output_type": "execute_result"
    }
   ],
   "source": [
    "a[:, 1] / (a[:, 1] + b[:, 1] + c[:, 1])"
   ]
  },
  {
   "cell_type": "code",
   "execution_count": 14,
   "metadata": {
    "collapsed": false
   },
   "outputs": [
    {
     "data": {
      "text/plain": [
       "array([ nan,  nan,  nan, -0.5,  nan])"
      ]
     },
     "execution_count": 14,
     "metadata": {},
     "output_type": "execute_result"
    }
   ],
   "source": [
    "a[:, 2] / (a[:, 2] + b[:, 2] + c[:, 2])"
   ]
  },
  {
   "cell_type": "code",
   "execution_count": 13,
   "metadata": {
    "collapsed": false
   },
   "outputs": [
    {
     "data": {
      "text/plain": [
       "array([ 1. ,  0. ,  nan, -0.4, -1.8])"
      ]
     },
     "execution_count": 13,
     "metadata": {},
     "output_type": "execute_result"
    }
   ],
   "source": [
    "np.sum(a, axis=1) / (np.sum(a, axis=1) + np.sum(b, axis=1) + np.sum(c, axis=1))"
   ]
  },
  {
   "cell_type": "code",
   "execution_count": 4,
   "metadata": {
    "collapsed": false
   },
   "outputs": [
    {
     "name": "stderr",
     "output_type": "stream",
     "text": [
      "DEBUG:allel.stats.sandbox:r: 2\n",
      "DEBUG:allel.stats.sandbox:acs: (4, 2, 2), array([[[4, 0],\n",
      "        [0, 4]],\n",
      "\n",
      "       [[2, 2],\n",
      "        [2, 2]],\n",
      "\n",
      "       [[4, 4],\n",
      "        [0, 0]],\n",
      "\n",
      "       [[2, 1],\n",
      "        [2, 1]]], dtype=int32)\n",
      "DEBUG:allel.stats.sandbox:an: (4, 2), array([[4, 4],\n",
      "       [4, 4],\n",
      "       [4, 4],\n",
      "       [4, 2]])\n",
      "DEBUG:allel.stats.sandbox:n: (4, 2), array([[4, 4],\n",
      "       [4, 4],\n",
      "       [4, 4],\n",
      "       [4, 2]])\n",
      "DEBUG:allel.stats.sandbox:p: (4, 2), array([[ 0. ,  1. ],\n",
      "       [ 0.5,  0.5],\n",
      "       [ 0. ,  0. ],\n",
      "       [ 0.5,  0.5]])\n",
      "DEBUG:allel.stats.sandbox:p_bar: (4,), array([ 0.5,  0.5,  0. ,  0.5])\n",
      "DEBUG:allel.stats.sandbox:s_squared: (4,), array([ 0.25,  0.  ,  0.  ,  0.  ])\n"
     ]
    },
    {
     "data": {
      "text/plain": [
       "array([  1.,   0.,  nan,   0.])"
      ]
     },
     "execution_count": 4,
     "metadata": {},
     "output_type": "execute_result"
    }
   ],
   "source": [
    "allel.stats.sandbox.naive_fst(g, subpops)"
   ]
  },
  {
   "cell_type": "code",
   "execution_count": 5,
   "metadata": {
    "collapsed": true
   },
   "outputs": [],
   "source": [
    "g2 = [[[0, 0], [0, 0], [0, 0], [0, 0], [1, 1], [1, 1], [1, 1], [1, 1]],\n",
    "     [[0, 1], [0, 1], [0, 1], [0, 1], [0, 1], [0, 1], [0, 1], [0, 1]],\n",
    "     [[0, 0], [0, 0], [0, 0], [0, 0], [0, 0], [0, 0], [0, 0], [0, 0]],\n",
    "     [[0, 1], [1, 2], [0, 1], [1, 2], [1, 1], [2, 2], [1, 1], [2, 2]],\n",
    "     [[0, 0], [1, 1], [0, 0], [1, 1], [0, 1], [-1, -1], [0, 1], [-1, -1]]]\n",
    "subpops2 = [[0, 1, 2, 3], [4, 5, 6, 7]]"
   ]
  },
  {
   "cell_type": "code",
   "execution_count": 6,
   "metadata": {
    "collapsed": false
   },
   "outputs": [
    {
     "name": "stderr",
     "output_type": "stream",
     "text": [
      "DEBUG:allel.stats.sandbox:r: 2\n",
      "DEBUG:allel.stats.sandbox:acs: (5, 3, 2), array([[[8, 0],\n",
      "        [0, 8],\n",
      "        [0, 0]],\n",
      "\n",
      "       [[4, 4],\n",
      "        [4, 4],\n",
      "        [0, 0]],\n",
      "\n",
      "       [[8, 8],\n",
      "        [0, 0],\n",
      "        [0, 0]],\n",
      "\n",
      "       [[2, 0],\n",
      "        [4, 4],\n",
      "        [2, 4]],\n",
      "\n",
      "       [[4, 2],\n",
      "        [4, 2],\n",
      "        [0, 0]]], dtype=int32)\n",
      "DEBUG:allel.stats.sandbox:an: (5, 2), array([[8, 8],\n",
      "       [8, 8],\n",
      "       [8, 8],\n",
      "       [8, 8],\n",
      "       [8, 4]])\n",
      "DEBUG:allel.stats.sandbox:n: (5, 2), array([[4, 4],\n",
      "       [4, 4],\n",
      "       [4, 4],\n",
      "       [4, 4],\n",
      "       [4, 2]])\n",
      "DEBUG:allel.stats.sandbox:n_total: (5,), array([8, 8, 8, 8, 6])\n",
      "DEBUG:allel.stats.sandbox:ac: (5, 2), array([[0, 8],\n",
      "       [4, 4],\n",
      "       [0, 0],\n",
      "       [4, 4],\n",
      "       [4, 2]], dtype=int32)\n",
      "DEBUG:allel.stats.sandbox:p: (5, 2), array([[ 0. ,  1. ],\n",
      "       [ 0.5,  0.5],\n",
      "       [ 0. ,  0. ],\n",
      "       [ 0.5,  0.5],\n",
      "       [ 0.5,  0.5]])\n",
      "DEBUG:allel.stats.sandbox:n_bar: (5,), array([ 4.,  4.,  4.,  4.,  3.])\n",
      "DEBUG:allel.stats.sandbox:n_C (alternative): (5,), array([ 4.        ,  4.        ,  4.        ,  4.        ,  2.66666667])\n",
      "DEBUG:allel.stats.sandbox:p_bar: (5,), array([ 0.5,  0.5,  0. ,  0.5,  0.5])\n",
      "DEBUG:allel.stats.sandbox:p_bar (alternative): (5,), array([ 0.5,  0.5,  0. ,  0.5,  0.5])\n",
      "DEBUG:allel.stats.sandbox:s_squared: (5,), array([ 0.5,  0. ,  0. ,  0. ,  0. ])\n",
      "DEBUG:allel.stats.sandbox:h_bar: (5,), array([ 0.        ,  1.        ,  0.        ,  0.5       ,  0.33333333])\n",
      "DEBUG:allel.stats.sandbox:a: (5,), array([ 0.5       ,  0.        ,  0.        , -0.04166667, -0.09375   ])\n",
      "DEBUG:allel.stats.sandbox:b: (5,), array([ 0.        , -0.25      ,  0.        ,  0.04166667,  0.16666667])\n",
      "DEBUG:allel.stats.sandbox:c: (5,), array([ 0.        ,  0.5       ,  0.        ,  0.25      ,  0.16666667])\n"
     ]
    },
    {
     "data": {
      "text/plain": [
       "array([ 1.        ,  0.        ,         nan, -0.16666667, -0.39130435])"
      ]
     },
     "execution_count": 6,
     "metadata": {},
     "output_type": "execute_result"
    }
   ],
   "source": [
    "a, b, c = allel.stats.sandbox.weir_cockerham_f_statistics(g2, subpops2)\n",
    "theta_hat = a / (a + b + c)\n",
    "theta_hat"
   ]
  },
  {
   "cell_type": "code",
   "execution_count": 7,
   "metadata": {
    "collapsed": false
   },
   "outputs": [
    {
     "name": "stderr",
     "output_type": "stream",
     "text": [
      "DEBUG:allel.stats.sandbox:r: 2\n",
      "DEBUG:allel.stats.sandbox:acs: (5, 3, 2), array([[[8, 0],\n",
      "        [0, 8],\n",
      "        [0, 0]],\n",
      "\n",
      "       [[4, 4],\n",
      "        [4, 4],\n",
      "        [0, 0]],\n",
      "\n",
      "       [[8, 8],\n",
      "        [0, 0],\n",
      "        [0, 0]],\n",
      "\n",
      "       [[2, 0],\n",
      "        [4, 4],\n",
      "        [2, 4]],\n",
      "\n",
      "       [[4, 2],\n",
      "        [4, 2],\n",
      "        [0, 0]]], dtype=int32)\n",
      "DEBUG:allel.stats.sandbox:an: (5, 2), array([[8, 8],\n",
      "       [8, 8],\n",
      "       [8, 8],\n",
      "       [8, 8],\n",
      "       [8, 4]])\n",
      "DEBUG:allel.stats.sandbox:n: (5, 2), array([[8, 8],\n",
      "       [8, 8],\n",
      "       [8, 8],\n",
      "       [8, 8],\n",
      "       [8, 4]])\n",
      "DEBUG:allel.stats.sandbox:p: (5, 2), array([[ 0. ,  1. ],\n",
      "       [ 0.5,  0.5],\n",
      "       [ 0. ,  0. ],\n",
      "       [ 0.5,  0.5],\n",
      "       [ 0.5,  0.5]])\n",
      "DEBUG:allel.stats.sandbox:p_bar: (5,), array([ 0.5,  0.5,  0. ,  0.5,  0.5])\n",
      "DEBUG:allel.stats.sandbox:s_squared: (5,), array([ 0.25,  0.  ,  0.  ,  0.  ,  0.  ])\n"
     ]
    },
    {
     "data": {
      "text/plain": [
       "array([  1.,   0.,  nan,   0.,   0.])"
      ]
     },
     "execution_count": 7,
     "metadata": {},
     "output_type": "execute_result"
    }
   ],
   "source": [
    "allel.stats.sandbox.naive_fst(g2, subpops2)"
   ]
  },
  {
   "cell_type": "code",
   "execution_count": 8,
   "metadata": {
    "collapsed": false
   },
   "outputs": [
    {
     "data": {
      "text/plain": [
       "[[0, 1, 2, 3, 4, 5, 6, 7], [8, 9, 10, 11]]"
      ]
     },
     "execution_count": 8,
     "metadata": {},
     "output_type": "execute_result"
    }
   ],
   "source": [
    "g3 = [[[0, 0], [0, 0], [0, 0], [0, 0], [0, 0], [0, 0], [0, 0], [0, 0], [1, 1], [1, 1], [1, 1], [1, 1]],\n",
    "     [[0, 1], [0, 1], [0, 1], [0, 1], [0, 1], [0, 1], [0, 1], [0, 1], [0, 1], [0, 1], [0, 1], [0, 1]],\n",
    "     [[0, 0], [0, 0], [0, 0], [0, 0], [0, 0], [0, 0], [0, 0], [0, 0], [0, 0], [0, 0], [0, 0], [0, 0]],\n",
    "     [[0, 1], [1, 2], [0, 1], [1, 2], [0, 1], [1, 2], [0, 1], [1, 2], [1, 1], [2, 2], [1, 1], [2, 2]],\n",
    "     [[0, 0], [1, 1], [0, 0], [1, 1], [0, 0], [1, 1], [0, 0], [1, 1], [0, 1], [-1, -1], [0, 1], [-1, -1]]]\n",
    "subpops3 = [list(range(8)), list(range(8, 12))]\n",
    "subpops3"
   ]
  },
  {
   "cell_type": "code",
   "execution_count": 9,
   "metadata": {
    "collapsed": false
   },
   "outputs": [
    {
     "name": "stderr",
     "output_type": "stream",
     "text": [
      "DEBUG:allel.stats.sandbox:r: 2\n",
      "DEBUG:allel.stats.sandbox:acs: (5, 3, 2), array([[[16,  0],\n",
      "        [ 0,  8],\n",
      "        [ 0,  0]],\n",
      "\n",
      "       [[ 8,  4],\n",
      "        [ 8,  4],\n",
      "        [ 0,  0]],\n",
      "\n",
      "       [[16,  8],\n",
      "        [ 0,  0],\n",
      "        [ 0,  0]],\n",
      "\n",
      "       [[ 4,  0],\n",
      "        [ 8,  4],\n",
      "        [ 4,  4]],\n",
      "\n",
      "       [[ 8,  2],\n",
      "        [ 8,  2],\n",
      "        [ 0,  0]]], dtype=int32)\n",
      "DEBUG:allel.stats.sandbox:an: (5, 2), array([[16,  8],\n",
      "       [16,  8],\n",
      "       [16,  8],\n",
      "       [16,  8],\n",
      "       [16,  4]])\n",
      "DEBUG:allel.stats.sandbox:n: (5, 2), array([[8, 4],\n",
      "       [8, 4],\n",
      "       [8, 4],\n",
      "       [8, 4],\n",
      "       [8, 2]])\n",
      "DEBUG:allel.stats.sandbox:n_total: (5,), array([12, 12, 12, 12, 10])\n",
      "DEBUG:allel.stats.sandbox:ac: (5, 2), array([[0, 8],\n",
      "       [8, 4],\n",
      "       [0, 0],\n",
      "       [8, 4],\n",
      "       [8, 2]], dtype=int32)\n",
      "DEBUG:allel.stats.sandbox:p: (5, 2), array([[ 0. ,  1. ],\n",
      "       [ 0.5,  0.5],\n",
      "       [ 0. ,  0. ],\n",
      "       [ 0.5,  0.5],\n",
      "       [ 0.5,  0.5]])\n",
      "DEBUG:allel.stats.sandbox:n_bar: (5,), array([ 6.,  6.,  6.,  6.,  5.])\n",
      "DEBUG:allel.stats.sandbox:n_C (alternative): (5,), array([ 5.33333333,  5.33333333,  5.33333333,  5.33333333,  3.2       ])\n",
      "DEBUG:allel.stats.sandbox:p_bar: (5,), array([ 0.33333333,  0.5       ,  0.        ,  0.5       ,  0.5       ])\n",
      "DEBUG:allel.stats.sandbox:p_bar (alternative): (5,), array([ 0.33333333,  0.5       ,  0.        ,  0.5       ,  0.5       ])\n",
      "DEBUG:allel.stats.sandbox:s_squared: (5,), array([ 0.44444444,  0.        ,  0.        ,  0.        ,  0.        ])\n",
      "DEBUG:allel.stats.sandbox:h_bar: (5,), array([ 0.        ,  1.        ,  0.        ,  0.66666667,  0.2       ])\n",
      "DEBUG:allel.stats.sandbox:a: (5,), array([ 0.5     ,  0.      ,  0.      , -0.01875 , -0.078125])\n",
      "DEBUG:allel.stats.sandbox:b: (5,), array([ 0.        , -0.25      ,  0.        , -0.06666667,  0.2       ])\n",
      "DEBUG:allel.stats.sandbox:c: (5,), array([ 0.        ,  0.5       ,  0.        ,  0.33333333,  0.1       ])\n"
     ]
    },
    {
     "data": {
      "text/plain": [
       "array([ 1.        ,  0.        ,         nan, -0.07563025, -0.35211268])"
      ]
     },
     "execution_count": 9,
     "metadata": {},
     "output_type": "execute_result"
    }
   ],
   "source": [
    "a, b, c = allel.stats.sandbox.weir_cockerham_f_statistics(g3, subpops3)\n",
    "theta_hat = a / (a + b + c)\n",
    "theta_hat"
   ]
  },
  {
   "cell_type": "code",
   "execution_count": 10,
   "metadata": {
    "collapsed": false
   },
   "outputs": [
    {
     "name": "stderr",
     "output_type": "stream",
     "text": [
      "DEBUG:allel.stats.sandbox:r: 2\n",
      "DEBUG:allel.stats.sandbox:acs: (5, 3, 2), array([[[16,  0],\n",
      "        [ 0,  8],\n",
      "        [ 0,  0]],\n",
      "\n",
      "       [[ 8,  4],\n",
      "        [ 8,  4],\n",
      "        [ 0,  0]],\n",
      "\n",
      "       [[16,  8],\n",
      "        [ 0,  0],\n",
      "        [ 0,  0]],\n",
      "\n",
      "       [[ 4,  0],\n",
      "        [ 8,  4],\n",
      "        [ 4,  4]],\n",
      "\n",
      "       [[ 8,  2],\n",
      "        [ 8,  2],\n",
      "        [ 0,  0]]], dtype=int32)\n",
      "DEBUG:allel.stats.sandbox:an: (5, 2), array([[16,  8],\n",
      "       [16,  8],\n",
      "       [16,  8],\n",
      "       [16,  8],\n",
      "       [16,  4]])\n",
      "DEBUG:allel.stats.sandbox:n: (5, 2), array([[16,  8],\n",
      "       [16,  8],\n",
      "       [16,  8],\n",
      "       [16,  8],\n",
      "       [16,  4]])\n",
      "DEBUG:allel.stats.sandbox:p: (5, 2), array([[ 0. ,  1. ],\n",
      "       [ 0.5,  0.5],\n",
      "       [ 0. ,  0. ],\n",
      "       [ 0.5,  0.5],\n",
      "       [ 0.5,  0.5]])\n",
      "DEBUG:allel.stats.sandbox:p_bar: (5,), array([ 0.5,  0.5,  0. ,  0.5,  0.5])\n",
      "DEBUG:allel.stats.sandbox:s_squared: (5,), array([ 0.25,  0.  ,  0.  ,  0.  ,  0.  ])\n"
     ]
    },
    {
     "data": {
      "text/plain": [
       "array([  1.,   0.,  nan,   0.,   0.])"
      ]
     },
     "execution_count": 10,
     "metadata": {},
     "output_type": "execute_result"
    }
   ],
   "source": [
    "allel.stats.sandbox.naive_fst(g3, subpops3)"
   ]
  },
  {
   "cell_type": "code",
   "execution_count": null,
   "metadata": {
    "collapsed": true
   },
   "outputs": [],
   "source": []
  }
 ],
 "metadata": {
  "kernelspec": {
   "display_name": "Python 3",
   "language": "python",
   "name": "python3"
  },
  "language_info": {
   "codemirror_mode": {
    "name": "ipython",
    "version": 3
   },
   "file_extension": ".py",
   "mimetype": "text/x-python",
   "name": "python",
   "nbconvert_exporter": "python",
   "pygments_lexer": "ipython3",
   "version": "3.4.2"
  }
 },
 "nbformat": 4,
 "nbformat_minor": 0
}
