{
 "cells": [
  {
   "cell_type": "code",
   "execution_count": 1,
   "metadata": {
    "collapsed": false
   },
   "outputs": [],
   "source": [
    "import numpy as np\n",
    "np.random.seed(42)\n",
    "import sys\n",
    "import cProfile\n",
    "import humanize\n",
    "sys.path.insert(0, '../..')\n",
    "%reload_ext memory_profiler\n",
    "%reload_ext autoreload\n",
    "%autoreload 1\n",
    "%aimport allel.model\n",
    "%aimport allel.stats\n",
    "%aimport allel.opt.stats"
   ]
  },
  {
   "cell_type": "code",
   "execution_count": 2,
   "metadata": {
    "collapsed": true
   },
   "outputs": [],
   "source": [
    "gn = np.array([[0, 0, 1, 0, 2, 0, 1, 1, 0],\n",
    "               [1, 0, 0, 1, 1, 2, 0, 0, 2]], dtype='i1')"
   ]
  },
  {
   "cell_type": "code",
   "execution_count": 3,
   "metadata": {
    "collapsed": false
   },
   "outputs": [
    {
     "data": {
      "text/plain": [
       "array([[ 1.        , -0.39000675],\n",
       "       [-0.39000675,  1.        ]])"
      ]
     },
     "execution_count": 3,
     "metadata": {},
     "output_type": "execute_result"
    }
   ],
   "source": [
    "np.corrcoef(gn)"
   ]
  },
  {
   "cell_type": "code",
   "execution_count": 4,
   "metadata": {
    "collapsed": true
   },
   "outputs": [],
   "source": [
    "gn_sq = gn ** 2"
   ]
  },
  {
   "cell_type": "code",
   "execution_count": 5,
   "metadata": {
    "collapsed": false
   },
   "outputs": [
    {
     "data": {
      "text/plain": [
       "-0.39000681042671204"
      ]
     },
     "execution_count": 5,
     "metadata": {},
     "output_type": "execute_result"
    }
   ],
   "source": [
    "allel.opt.stats.gn_corrcoef_int8(gn[0], gn[1], gn_sq[0], gn_sq[1])"
   ]
  },
  {
   "cell_type": "code",
   "execution_count": 6,
   "metadata": {
    "collapsed": true
   },
   "outputs": [],
   "source": [
    "gnb = np.random.randint(0, 3, size=(2, 10000)).astype('i1')"
   ]
  },
  {
   "cell_type": "code",
   "execution_count": 7,
   "metadata": {
    "collapsed": false
   },
   "outputs": [
    {
     "data": {
      "text/plain": [
       "array([[ 1.      , -0.002613],\n",
       "       [-0.002613,  1.      ]])"
      ]
     },
     "execution_count": 7,
     "metadata": {},
     "output_type": "execute_result"
    }
   ],
   "source": [
    "np.corrcoef(gnb)"
   ]
  },
  {
   "cell_type": "code",
   "execution_count": 8,
   "metadata": {
    "collapsed": true
   },
   "outputs": [],
   "source": [
    "gnb_sq = gnb ** 2"
   ]
  },
  {
   "cell_type": "code",
   "execution_count": 9,
   "metadata": {
    "collapsed": false
   },
   "outputs": [
    {
     "data": {
      "text/plain": [
       "-0.002613014541566372"
      ]
     },
     "execution_count": 9,
     "metadata": {},
     "output_type": "execute_result"
    }
   ],
   "source": [
    "allel.opt.stats.gn_corrcoef_int8(gnb[0], gnb[1], gnb_sq[0], gnb_sq[1])"
   ]
  },
  {
   "cell_type": "code",
   "execution_count": 10,
   "metadata": {
    "collapsed": false
   },
   "outputs": [
    {
     "name": "stdout",
     "output_type": "stream",
     "text": [
      "The slowest run took 6.92 times longer than the fastest. This could mean that an intermediate result is being cached \n",
      "10000 loops, best of 3: 120 µs per loop\n"
     ]
    }
   ],
   "source": [
    "%timeit np.corrcoef(gnb)"
   ]
  },
  {
   "cell_type": "code",
   "execution_count": 11,
   "metadata": {
    "collapsed": false
   },
   "outputs": [
    {
     "name": "stdout",
     "output_type": "stream",
     "text": [
      "The slowest run took 5.16 times longer than the fastest. This could mean that an intermediate result is being cached \n",
      "10000 loops, best of 3: 39.9 µs per loop\n"
     ]
    }
   ],
   "source": [
    "%timeit allel.opt.stats.gn_corrcoef_int8(gnb[0], gnb[1], gnb_sq[0], gnb_sq[1])"
   ]
  },
  {
   "cell_type": "code",
   "execution_count": 12,
   "metadata": {
    "collapsed": true
   },
   "outputs": [],
   "source": [
    "gnb2 = np.random.randint(0, 3, size=(1000, 1000)).astype('i1')"
   ]
  },
  {
   "cell_type": "code",
   "execution_count": 13,
   "metadata": {
    "collapsed": false
   },
   "outputs": [
    {
     "data": {
      "text/plain": [
       "array([[ 1.        , -0.05577752,  0.00767298, ..., -0.03381146,\n",
       "         0.02954236, -0.00755626],\n",
       "       [-0.05577752,  1.        , -0.02363069, ...,  0.02232033,\n",
       "         0.06444761,  0.03827147],\n",
       "       [ 0.00767298, -0.02363069,  1.        , ..., -0.02565621,\n",
       "         0.00159606,  0.01190215],\n",
       "       ..., \n",
       "       [-0.03381146,  0.02232033, -0.02565621, ...,  1.        ,\n",
       "        -0.01959978, -0.00503218],\n",
       "       [ 0.02954236,  0.06444761,  0.00159606, ..., -0.01959978,\n",
       "         1.        , -0.0092057 ],\n",
       "       [-0.00755626,  0.03827147,  0.01190215, ..., -0.00503218,\n",
       "        -0.0092057 ,  1.        ]])"
      ]
     },
     "execution_count": 13,
     "metadata": {},
     "output_type": "execute_result"
    }
   ],
   "source": [
    "r2a = np.corrcoef(gnb2)\n",
    "r2a"
   ]
  },
  {
   "cell_type": "code",
   "execution_count": 14,
   "metadata": {
    "collapsed": false
   },
   "outputs": [
    {
     "data": {
      "text/plain": [
       "array([[ 0.        , -0.05577756,  0.00767297, ..., -0.03381132,\n",
       "         0.02954236, -0.00755618],\n",
       "       [-0.05577756,  0.        , -0.02363073, ...,  0.02232023,\n",
       "         0.06444771,  0.03827157],\n",
       "       [ 0.00767297, -0.02363073,  0.        , ..., -0.02565622,\n",
       "         0.00159614,  0.01190209],\n",
       "       ..., \n",
       "       [-0.03381132,  0.02232023, -0.02565622, ...,  0.        ,\n",
       "        -0.01959965, -0.00503222],\n",
       "       [ 0.02954236,  0.06444771,  0.00159614, ..., -0.01959965,\n",
       "         0.        , -0.00920562],\n",
       "       [-0.00755618,  0.03827157,  0.01190209, ..., -0.00503222,\n",
       "        -0.00920562,  0.        ]])"
      ]
     },
     "execution_count": 14,
     "metadata": {},
     "output_type": "execute_result"
    }
   ],
   "source": [
    "r2b = allel.stats.rogers_huff_r(gnb2)\n",
    "from scipy.spatial.distance import squareform\n",
    "r2b_sq = squareform(r2b)\n",
    "r2b_sq"
   ]
  },
  {
   "cell_type": "code",
   "execution_count": 15,
   "metadata": {
    "collapsed": false
   },
   "outputs": [
    {
     "name": "stdout",
     "output_type": "stream",
     "text": [
      "10 loops, best of 3: 110 ms per loop\n",
      "peak memory: 121.43 MiB, increment: 15.16 MiB\n"
     ]
    }
   ],
   "source": [
    "%timeit np.corrcoef(gnb2)\n",
    "%memit np.corrcoef(gnb2)"
   ]
  },
  {
   "cell_type": "code",
   "execution_count": 16,
   "metadata": {
    "collapsed": false
   },
   "outputs": [
    {
     "name": "stdout",
     "output_type": "stream",
     "text": [
      "1 loops, best of 3: 1.84 s per loop\n",
      "peak memory: 106.46 MiB, increment: 0.00 MiB\n"
     ]
    }
   ],
   "source": [
    "%timeit allel.stats.rogers_huff_r(gnb2)\n",
    "%memit allel.stats.rogers_huff_r(gnb2)"
   ]
  },
  {
   "cell_type": "code",
   "execution_count": 17,
   "metadata": {
    "collapsed": true
   },
   "outputs": [],
   "source": [
    "import cProfile"
   ]
  },
  {
   "cell_type": "code",
   "execution_count": 18,
   "metadata": {
    "collapsed": false
   },
   "outputs": [
    {
     "name": "stdout",
     "output_type": "stream",
     "text": [
      "         499538 function calls in 1.885 seconds\n",
      "\n",
      "   Ordered by: internal time\n",
      "\n",
      "   ncalls  tottime  percall  cumtime  percall filename:lineno(function)\n",
      "   499500    1.789    0.000    1.789    0.000 stats.pyx:17(gn_corrcoef_int8)\n",
      "        1    0.095    0.095    1.885    1.885 stats.pyx:66(gn_pairwise_corrcoef_int8)\n",
      "        2    0.000    0.000    0.000    0.000 numeric.py:394(asarray)\n",
      "        2    0.000    0.000    0.000    0.000 {built-in method array}\n",
      "        1    0.000    0.000    1.885    1.885 {built-in method exec}\n",
      "        5    0.000    0.000    0.000    0.000 stringsource:317(__cinit__)\n",
      "        1    0.000    0.000    1.885    1.885 ld.py:8(rogers_huff_r)\n",
      "        1    0.000    0.000    1.885    1.885 {allel.opt.stats.gn_pairwise_corrcoef_int8}\n",
      "        2    0.000    0.000    0.000    0.000 stringsource:957(memoryview_fromslice)\n",
      "        1    0.000    0.000    1.885    1.885 <string>:1(<module>)\n",
      "        1    0.000    0.000    0.000    0.000 util.py:20(asarray_ndim)\n",
      "        3    0.000    0.000    0.000    0.000 stringsource:613(memoryview_cwrapper)\n",
      "        5    0.000    0.000    0.000    0.000 stringsource:339(__dealloc__)\n",
      "        1    0.000    0.000    0.000    0.000 <frozen importlib._bootstrap>:2264(_handle_fromlist)\n",
      "        1    0.000    0.000    0.000    0.000 {built-in method hasattr}\n",
      "        2    0.000    0.000    0.000    0.000 stringsource:468(__getbuffer__)\n",
      "        1    0.000    0.000    0.000    0.000 {method 'pop' of 'dict' objects}\n",
      "        2    0.000    0.000    0.000    0.000 stringsource:933(__dealloc__)\n",
      "        3    0.000    0.000    0.000    0.000 stringsource:619(memoryview_check)\n",
      "        2    0.000    0.000    0.000    0.000 stringsource:508(__get__)\n",
      "        1    0.000    0.000    0.000    0.000 {method 'disable' of '_lsprof.Profiler' objects}\n",
      "\n",
      "\n"
     ]
    }
   ],
   "source": [
    "cProfile.run('allel.stats.rogers_huff_r(gnb2)', sort='time')"
   ]
  },
  {
   "cell_type": "markdown",
   "metadata": {
    "collapsed": true
   },
   "source": [
    "##LD pruning "
   ]
  },
  {
   "cell_type": "code",
   "execution_count": 19,
   "metadata": {
    "collapsed": true
   },
   "outputs": [],
   "source": [
    "import random\n",
    "import numpy as np\n",
    "\n",
    "def simulate_genotypes_with_ld(n_variants, n_samples, correlation=0.2):\n",
    "    \"\"\"A very simple function to simulate a set of genotypes, where\n",
    "    variants are in some degree of linkage disequilibrium with their\n",
    "    neighbours.\n",
    "\n",
    "    Parameters\n",
    "    ----------\n",
    "\n",
    "    n_variants : int\n",
    "        The number of variants to simulate data for.\n",
    "    n_samples : int\n",
    "        The number of individuals to simulate data for.\n",
    "    correlation : float, optional\n",
    "        The fraction of samples to copy genotypes between neighbouring\n",
    "        variants.\n",
    "\n",
    "    Returns\n",
    "    -------\n",
    "\n",
    "    gn : ndarray, int8\n",
    "        A 2-dimensional array of shape (n_variants, n_samples) where each\n",
    "        element is a genotype call coded as a single integer counting the\n",
    "        number of non-reference alleles.\n",
    "\n",
    "    \"\"\"\n",
    "\n",
    "    # initialise an array of random genotypes\n",
    "    gn = np.random.randint(size=(n_variants, n_samples), low=0, high=3)\n",
    "    gn = gn.astype('i1')\n",
    "\n",
    "    # determine the number of samples to copy genotypes for\n",
    "    n_copy = int(correlation * n_samples)\n",
    "\n",
    "    # introduce linkage disequilibrium by copying genotypes from one sample to\n",
    "    # the next\n",
    "    for i in range(1, n_variants):\n",
    "\n",
    "        # randomly pick the samples to copy from\n",
    "        sample_indices = random.sample(range(n_samples), n_copy)\n",
    "\n",
    "        # view genotypes from the previous variant for the selected samples\n",
    "        c = gn[i-1, sample_indices]\n",
    "\n",
    "        # randomly choose whether to invert the correlation\n",
    "        inv = random.randint(0, 1)\n",
    "        if inv:\n",
    "            c = 2-c\n",
    "\n",
    "        # copy across genotypes\n",
    "        gn[i, sample_indices] = c\n",
    "\n",
    "    return gn\n"
   ]
  },
  {
   "cell_type": "code",
   "execution_count": 31,
   "metadata": {
    "collapsed": false
   },
   "outputs": [
    {
     "data": {
      "text/plain": [
       "(1000, 1000)"
      ]
     },
     "execution_count": 31,
     "metadata": {},
     "output_type": "execute_result"
    }
   ],
   "source": [
    "gnl = simulate_genotypes_with_ld(1000, 1000, .97)\n",
    "gnl.shape"
   ]
  },
  {
   "cell_type": "code",
   "execution_count": 32,
   "metadata": {
    "collapsed": true
   },
   "outputs": [],
   "source": [
    "%matplotlib inline\n",
    "import matplotlib.pyplot as plt"
   ]
  },
  {
   "cell_type": "code",
   "execution_count": 33,
   "metadata": {
    "collapsed": false
   },
   "outputs": [
    {
     "data": {
      "image/png": "[encoded data removed]",
      "text/plain": [
       "<matplotlib.figure.Figure at 0x7f8ce934e080>"
      ]
     },
     "metadata": {},
     "output_type": "display_data"
    }
   ],
   "source": [
    "from scipy.spatial.distance import squareform\n",
    "x = allel.stats.rogers_huff_r(gnl) ** 2\n",
    "xs = squareform(x)\n",
    "xs = np.tril(xs)\n",
    "fig, ax = plt.subplots(figsize=(9, 9))\n",
    "ax.set_axis_off()\n",
    "ax.set_xticks([])\n",
    "ax.set_yticks([])\n",
    "ax.pcolormesh(xs, cmap='Greys', vmin=0, vmax=1)\n",
    "ax.plot([0, 0], [0, 1], 'k-', transform=ax.transAxes)\n",
    "ax.plot([0, 1], [1, 1], 'k-', transform=ax.transAxes);"
   ]
  },
  {
   "cell_type": "code",
   "execution_count": 34,
   "metadata": {
    "collapsed": false
   },
   "outputs": [
    {
     "data": {
      "image/png": "[encoded data removed]",
      "text/plain": [
       "<matplotlib.figure.Figure at 0x7f8ce934aa58>"
      ]
     },
     "metadata": {},
     "output_type": "display_data"
    }
   ],
   "source": [
    "plt.hist(x);"
   ]
  },
  {
   "cell_type": "code",
   "execution_count": 39,
   "metadata": {
    "collapsed": false
   },
   "outputs": [],
   "source": [
    "loc = allel.stats.locate_unlinked(gnl, size=100, step=10, threshold=.4)"
   ]
  },
  {
   "cell_type": "code",
   "execution_count": 40,
   "metadata": {
    "collapsed": false
   },
   "outputs": [
    {
     "data": {
      "text/plain": [
       "63"
      ]
     },
     "execution_count": 40,
     "metadata": {},
     "output_type": "execute_result"
    }
   ],
   "source": [
    "np.count_nonzero(loc)"
   ]
  },
  {
   "cell_type": "code",
   "execution_count": 41,
   "metadata": {
    "collapsed": false
   },
   "outputs": [
    {
     "data": {
      "text/plain": [
       "(array([  0,  16,  31,  47,  63,  81,  97, 113, 130, 147, 164, 181, 197,\n",
       "        212, 226, 242, 257, 274, 292, 309, 327, 344, 359, 376, 392, 409,\n",
       "        425, 441, 455, 471, 486, 503, 521, 536, 551, 566, 580, 594, 611,\n",
       "        627, 642, 657, 672, 690, 706, 722, 738, 754, 768, 782, 795, 811,\n",
       "        826, 841, 858, 877, 891, 907, 924, 941, 957, 972, 987]),)"
      ]
     },
     "execution_count": 41,
     "metadata": {},
     "output_type": "execute_result"
    }
   ],
   "source": [
    "np.nonzero(loc)"
   ]
  },
  {
   "cell_type": "code",
   "execution_count": 42,
   "metadata": {
    "collapsed": false
   },
   "outputs": [
    {
     "data": {
      "image/png": "[encoded data removed]",
      "text/plain": [
       "<matplotlib.figure.Figure at 0x7f8cf102b0b8>"
      ]
     },
     "metadata": {},
     "output_type": "display_data"
    }
   ],
   "source": [
    "gnu = gnl[loc]\n",
    "y = allel.stats.rogers_huff_r(gnu) ** 2\n",
    "plt.hist(y);"
   ]
  },
  {
   "cell_type": "code",
   "execution_count": 43,
   "metadata": {
    "collapsed": false
   },
   "outputs": [
    {
     "data": {
      "image/png": "[encoded data removed]",
      "text/plain": [
       "<matplotlib.figure.Figure at 0x7f8cf0fa01d0>"
      ]
     },
     "metadata": {},
     "output_type": "display_data"
    }
   ],
   "source": [
    "x = allel.stats.rogers_huff_r(gnu) ** 2\n",
    "xs = squareform(x)\n",
    "xs = np.tril(xs)\n",
    "fig, ax = plt.subplots(figsize=(9, 9))\n",
    "ax.set_axis_off()\n",
    "ax.set_xticks([])\n",
    "ax.set_yticks([])\n",
    "ax.pcolormesh(xs, cmap='Greys', vmin=0, vmax=1);\n",
    "ax.plot([0, 0], [0, 1], 'k-', transform=ax.transAxes)\n",
    "ax.plot([0, 1], [1, 1], 'k-', transform=ax.transAxes);\n"
   ]
  },
  {
   "cell_type": "code",
   "execution_count": 44,
   "metadata": {
    "collapsed": false
   },
   "outputs": [
    {
     "name": "stdout",
     "output_type": "stream",
     "text": [
      "10 loops, best of 3: 35.9 ms per loop\n",
      "peak memory: 442.50 MiB, increment: 0.00 MiB\n"
     ]
    }
   ],
   "source": [
    "%timeit allel.stats.locate_unlinked(gnl, size=100, step=10, threshold=.3)\n",
    "%memit allel.stats.locate_unlinked(gnl, size=100, step=10, threshold=.3)"
   ]
  },
  {
   "cell_type": "code",
   "execution_count": 45,
   "metadata": {
    "collapsed": false
   },
   "outputs": [
    {
     "name": "stdout",
     "output_type": "stream",
     "text": [
      "         110116 function calls in 0.060 seconds\n",
      "\n",
      "   Ordered by: internal time\n",
      "\n",
      "   ncalls  tottime  percall  cumtime  percall filename:lineno(function)\n",
      "        1    0.030    0.030    0.060    0.060 stats.pyx:102(gn_locate_unlinked_int8)\n",
      "     4403    0.016    0.000    0.016    0.000 stats.pyx:17(gn_corrcoef_int8)\n",
      "    17614    0.008    0.000    0.010    0.000 stringsource:957(memoryview_fromslice)\n",
      "    17617    0.001    0.000    0.001    0.000 stringsource:317(__cinit__)\n",
      "    17617    0.001    0.000    0.001    0.000 stringsource:339(__dealloc__)\n",
      "    17615    0.001    0.000    0.001    0.000 stringsource:619(memoryview_check)\n",
      "    17614    0.001    0.000    0.001    0.000 stringsource:933(__dealloc__)\n",
      "    17614    0.001    0.000    0.001    0.000 stringsource:508(__get__)\n",
      "        1    0.000    0.000    0.060    0.060 {built-in method exec}\n",
      "        2    0.000    0.000    0.000    0.000 numeric.py:394(asarray)\n",
      "        2    0.000    0.000    0.000    0.000 {built-in method array}\n",
      "        1    0.000    0.000    0.060    0.060 ld.py:27(locate_unlinked)\n",
      "        1    0.000    0.000    0.000    0.000 util.py:20(asarray_ndim)\n",
      "        1    0.000    0.000    0.000    0.000 {built-in method copyto}\n",
      "        1    0.000    0.000    0.000    0.000 {built-in method empty}\n",
      "        1    0.000    0.000    0.060    0.060 {allel.opt.stats.gn_locate_unlinked_int8}\n",
      "        3    0.000    0.000    0.000    0.000 stringsource:613(memoryview_cwrapper)\n",
      "        1    0.000    0.000    0.000    0.000 numeric.py:141(ones)\n",
      "        1    0.000    0.000    0.060    0.060 <string>:1(<module>)\n",
      "        1    0.000    0.000    0.000    0.000 <frozen importlib._bootstrap>:2264(_handle_fromlist)\n",
      "        1    0.000    0.000    0.000    0.000 {built-in method hasattr}\n",
      "        1    0.000    0.000    0.000    0.000 {method 'pop' of 'dict' objects}\n",
      "        1    0.000    0.000    0.000    0.000 {method 'disable' of '_lsprof.Profiler' objects}\n",
      "        2    0.000    0.000    0.000    0.000 stringsource:468(__getbuffer__)\n",
      "\n",
      "\n"
     ]
    }
   ],
   "source": [
    "import cProfile\n",
    "cProfile.run('allel.stats.locate_unlinked(gnl, size=100, step=10, threshold=.3)', sort='time')"
   ]
  },
  {
   "cell_type": "code",
   "execution_count": null,
   "metadata": {
    "collapsed": true
   },
   "outputs": [],
   "source": []
  }
 ],
 "metadata": {
  "kernelspec": {
   "display_name": "Python 3",
   "language": "python",
   "name": "python3"
  },
  "language_info": {
   "codemirror_mode": {
    "name": "ipython",
    "version": 3
   },
   "file_extension": ".py",
   "mimetype": "text/x-python",
   "name": "python",
   "nbconvert_exporter": "python",
   "pygments_lexer": "ipython3",
   "version": "3.4.2"
  }
 },
 "nbformat": 4,
 "nbformat_minor": 0
}
